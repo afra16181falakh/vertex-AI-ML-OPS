{
 "cells": [
  {
   "cell_type": "markdown",
   "id": "ea871928",
   "metadata": {},
   "source": [
    "![tracker](https://us-central1-vertex-ai-mlops-369716.cloudfunctions.net/pixel-tracking?path=statmike%2Fvertex-ai-mlops%2Farchitectures%2Ftracking%2Fpixel&file=developing-tracking-pixel.ipynb)\n",
    "<!--- header table --->\n",
    "<table align=\"left\">\n",
    "<tr>\n",
    "  <td style=\"text-align: center\">\n",
    "    <a href=\"https://github.com/statmike/vertex-ai-mlops/blob/main/architectures/tracking/pixel/developing-tracking-pixel.ipynb\">\n",
    "      <img width=\"32px\" src=\"https://www.svgrepo.com/download/217753/github.svg\" alt=\"GitHub logo\">\n",
    "      <br>View on<br>GitHub\n",
    "    </a>\n",
    "  </td>\n",
    "  <td style=\"text-align: center\">\n",
    "    <a href=\"https://colab.research.google.com/github/statmike/vertex-ai-mlops/blob/main/architectures/tracking/pixel/developing-tracking-pixel.ipynb\">\n",
    "      <img width=\"32px\" src=\"https://www.gstatic.com/pantheon/images/bigquery/welcome_page/colab-logo.svg\" alt=\"Google Colaboratory logo\">\n",
    "      <br>Run in<br>Colab\n",
    "    </a>\n",
    "  </td>\n",
    "  <td style=\"text-align: center\">\n",
    "    <a href=\"https://console.cloud.google.com/vertex-ai/colab/import/https%3A%2F%2Fraw.githubusercontent.com%2Fstatmike%2Fvertex-ai-mlops%2Fmain%2Farchitectures%2Ftracking%2Fpixel%2Fdeveloping-tracking-pixel.ipynb\">\n",
    "      <img width=\"32px\" src=\"https://lh3.googleusercontent.com/JmcxdQi-qOpctIvWKgPtrzZdJJK-J3sWE1RsfjZNwshCFgE_9fULcNpuXYTilIR2hjwN\" alt=\"Google Cloud Colab Enterprise logo\">\n",
    "      <br>Run in<br>Colab Enterprise\n",
    "    </a>\n",
    "  </td>      \n",
    "  <td style=\"text-align: center\">\n",
    "    <a href=\"https://console.cloud.google.com/bigquery/import?url=https://github.com/statmike/vertex-ai-mlops/blob/main/architectures/tracking/pixel/developing-tracking-pixel.ipynb\">\n",
    "      <img width=\"32px\" src=\"https://www.gstatic.com/images/branding/gcpiconscolors/bigquery/v1/32px.svg\" alt=\"BigQuery logo\">\n",
    "      <br>Open in<br>BigQuery Studio\n",
    "    </a>\n",
    "  </td>\n",
    "  <td style=\"text-align: center\">\n",
    "    <a href=\"https://console.cloud.google.com/vertex-ai/workbench/deploy-notebook?download_url=https://raw.githubusercontent.com/statmike/vertex-ai-mlops/main/architectures/tracking/pixel/developing-tracking-pixel.ipynb\">\n",
    "      <img width=\"32px\" src=\"https://www.gstatic.com/images/branding/gcpiconscolors/vertexai/v1/32px.svg\" alt=\"Vertex AI logo\">\n",
    "      <br>Open in<br>Vertex AI Workbench\n",
    "    </a>\n",
    "  </td>\n",
    "</tr>\n",
    "<tr>\n",
    "  <td colspan=\"5\" style=\"text-align: right\">\n",
    "    <b>Share This On: </b> \n",
    "    <a href=\"https://www.linkedin.com/sharing/share-offsite/?url=https%3A//github.com/statmike/vertex-ai-mlops/blob/main/architectures/tracking/pixel/developing-tracking-pixel.ipynb\"><img src=\"https://upload.wikimedia.org/wikipedia/commons/8/81/LinkedIn_icon.svg\" alt=\"Linkedin Logo\" width=\"20px\"></a> \n",
    "    <a href=\"https://reddit.com/submit?url=https%3A//github.com/statmike/vertex-ai-mlops/blob/main/architectures/tracking/pixel/developing-tracking-pixel.ipynb\"><img src=\"https://redditinc.com/hubfs/Reddit%20Inc/Brand/Reddit_Logo.png\" alt=\"Reddit Logo\" width=\"20px\"></a> \n",
    "    <a href=\"https://bsky.app/intent/compose?text=https%3A//github.com/statmike/vertex-ai-mlops/blob/main/architectures/tracking/pixel/developing-tracking-pixel.ipynb\"><img src=\"https://upload.wikimedia.org/wikipedia/commons/7/7a/Bluesky_Logo.svg\" alt=\"BlueSky Logo\" width=\"20px\"></a> \n",
    "    <a href=\"https://twitter.com/intent/tweet?url=https%3A//github.com/statmike/vertex-ai-mlops/blob/main/architectures/tracking/pixel/developing-tracking-pixel.ipynb\"><img src=\"https://upload.wikimedia.org/wikipedia/commons/5/5a/X_icon_2.svg\" alt=\"X (Twitter) Logo\" width=\"20px\"></a> \n",
    "  </td>\n",
    "</tr>\n",
    "<tr>\n",
    "  <td colspan=\"5\" style=\"text-align: right\">\n",
    "    <b>Connect With Author On: </b> \n",
    "    <a href=\"https://www.linkedin.com/in/statmike\"><img src=\"https://upload.wikimedia.org/wikipedia/commons/8/81/LinkedIn_icon.svg\" alt=\"Linkedin Logo\" width=\"20px\"></a>\n",
    "    <a href=\"https://www.github.com/statmike\"><img src=\"https://www.svgrepo.com/download/217753/github.svg\" alt=\"GitHub Logo\" width=\"20px\"></a> \n",
    "    <a href=\"https://www.youtube.com/@statmike-channel\"><img src=\"https://upload.wikimedia.org/wikipedia/commons/f/fd/YouTube_full-color_icon_%282024%29.svg\" alt=\"YouTube Logo\" width=\"20px\"></a>\n",
    "    <a href=\"https://bsky.app/profile/statmike.bsky.social\"><img src=\"https://upload.wikimedia.org/wikipedia/commons/7/7a/Bluesky_Logo.svg\" alt=\"BlueSky Logo\" width=\"20px\"></a> \n",
    "    <a href=\"https://x.com/statmike\"><img src=\"https://upload.wikimedia.org/wikipedia/commons/5/5a/X_icon_2.svg\" alt=\"X (Twitter) Logo\" width=\"20px\"></a>\n",
    "  </td>\n",
    "</tr>\n",
    "</table>"
   ]
  },
  {
   "cell_type": "markdown",
   "id": "d88fbc40-9562-40d8-8072-e1e03c7a1923",
   "metadata": {},
   "source": [
    "# Developing: Custom Tracking With Data Privacy\n",
    "\n",
    "Create a custom pixel tracker that only track loads and does not collect any personal information.\n",
    "\n",
    "**Goal:** A Cloud Function that is http triggered that will return a tracking pixel while receiving parameter for path and document.  Write the timestamp|path|document to a BigQuery Table."
   ]
  },
  {
   "cell_type": "markdown",
   "id": "785b32a4-fdd8-4694-9731-a6f37f662bca",
   "metadata": {
    "id": "od_UkDpvRmgD",
    "tags": []
   },
   "source": [
    "---\n",
    "## Colab Setup\n",
    "\n",
    "When running this notebook in [Colab](https://colab.google/) or [Colab Enterprise](https://cloud.google.com/colab/docs/introduction), this section will authenticate to GCP (follow prompts in the popup) and set the current project for the session."
   ]
  },
  {
   "cell_type": "code",
   "execution_count": 1,
   "id": "d4f36bd1-f58c-4ac5-ad98-2f648f926a83",
   "metadata": {
    "executionInfo": {
     "elapsed": 195,
     "status": "ok",
     "timestamp": 1683726184843,
     "user": {
      "displayName": "Mike Henderson",
      "userId": "07691629187611687318"
     },
     "user_tz": 240
    },
    "id": "8UO9FnqyKBlF",
    "tags": []
   },
   "outputs": [],
   "source": [
    "PROJECT_ID = 'statmike-mlops-349915' # replace with project ID"
   ]
  },
  {
   "cell_type": "code",
   "execution_count": 2,
   "id": "085e7b61-d48c-4c86-89ba-fd022db08701",
   "metadata": {
    "colab": {
     "base_uri": "https://localhost:8080/"
    },
    "executionInfo": {
     "elapsed": 68869,
     "status": "ok",
     "timestamp": 1683726253709,
     "user": {
      "displayName": "Mike Henderson",
      "userId": "07691629187611687318"
     },
     "user_tz": 240
    },
    "id": "N98-KK7LRkjm",
    "outputId": "09ec5008-0def-4e1a-c349-c598ee752f78",
    "tags": []
   },
   "outputs": [
    {
     "name": "stdout",
     "output_type": "stream",
     "text": [
      "Not a Colab Environment\n"
     ]
    }
   ],
   "source": [
    "try:\n",
    "    from google.colab import auth\n",
    "    auth.authenticate_user(project_id = PROJECT_ID)\n",
    "    print('Colab authorized to GCP')\n",
    "except Exception:\n",
    "    print('Not a Colab Environment')\n",
    "    pass"
   ]
  },
  {
   "cell_type": "markdown",
   "id": "ace6cbe5-e815-445e-aa48-58c16f9e5eee",
   "metadata": {},
   "source": [
    "---\n",
    "## Installs\n",
    "\n",
    "The list `packages` contains tuples of package import names and install names.  If the import name is not found then the install name is used to install quitely for the current user."
   ]
  },
  {
   "cell_type": "code",
   "execution_count": 565,
   "id": "0768b1f2-4d70-405d-b219-0262aeed126a",
   "metadata": {
    "tags": []
   },
   "outputs": [],
   "source": [
    "# tuples of (import name, install name, min_version)\n",
    "packages = [\n",
    "    ('google.cloud.functions', 'google-cloud-functions'),\n",
    "    ('google.cloud.storage', 'google-cloud-storage'),\n",
    "    ('google.cloud.pubsub', 'google-cloud-pubsub'),\n",
    "    ('google.cloud.bigquery', 'google-cloud-bigquery'),\n",
    "    ('google.cloud.bigquery_storage', 'google-cloud-bigquery-storage'),\n",
    "    ('flask', 'flask'),\n",
    "    ('PIL', 'Pillow'),\n",
    "    ('zipfile', 'zipfile')\n",
    "]\n",
    "\n",
    "import importlib\n",
    "install = False\n",
    "for package in packages:\n",
    "    if not importlib.util.find_spec(package[0]):\n",
    "        print(f'installing package {package[1]}')\n",
    "        install = True\n",
    "        !pip install {package[1]} -U -q --user\n",
    "    elif len(package) == 3:\n",
    "        if importlib.metadata.version(package[0]) < package[2]:\n",
    "            print(f'updating package {package[1]}')\n",
    "            install = True\n",
    "            !pip install {package[1]} -U -q --user"
   ]
  },
  {
   "cell_type": "markdown",
   "id": "ebc84ebe-e2e3-4c84-81a4-6a38ca53da06",
   "metadata": {},
   "source": [
    "## API Enablement"
   ]
  },
  {
   "cell_type": "code",
   "execution_count": 609,
   "id": "db2b8d2e-231f-4081-b8b3-2ba65f998778",
   "metadata": {
    "tags": []
   },
   "outputs": [],
   "source": [
    "!gcloud services enable cloudfunctions.googleapis.com\n",
    "!gcloud services enable run.googleapis.com\n",
    "!gcloud services enable pubsub.googleapis.com\n",
    "!gcloud services enable eventarc.googleapis.com"
   ]
  },
  {
   "cell_type": "markdown",
   "id": "a5c31543-ee1f-4510-aae8-26cf48f99fcd",
   "metadata": {},
   "source": [
    "### Restart Kernel (If Installs Occured)\n",
    "\n",
    "After a kernel restart the code submission can start with the next cell after this one."
   ]
  },
  {
   "cell_type": "code",
   "execution_count": 5,
   "id": "25b81546-b5d0-4e34-a5c8-26310f1af574",
   "metadata": {
    "tags": []
   },
   "outputs": [],
   "source": [
    "if install:\n",
    "    import IPython\n",
    "    app = IPython.Application.instance()\n",
    "    app.kernel.do_shutdown(True)"
   ]
  },
  {
   "cell_type": "markdown",
   "id": "ed6c74d6-24db-4063-a18b-056797759277",
   "metadata": {
    "id": "appt8-yVRtJ1"
   },
   "source": [
    "---\n",
    "## Setup"
   ]
  },
  {
   "cell_type": "markdown",
   "id": "a719446f-492f-4138-82b0-534d7bf4a38d",
   "metadata": {
    "id": "63mx2EozRxFP"
   },
   "source": [
    "Inputs"
   ]
  },
  {
   "cell_type": "code",
   "execution_count": 6,
   "id": "4182c9be-9ec6-4752-9ee5-b26f6e2a1e4b",
   "metadata": {
    "colab": {
     "base_uri": "https://localhost:8080/",
     "height": 35
    },
    "executionInfo": {
     "elapsed": 2124,
     "status": "ok",
     "timestamp": 1683726390544,
     "user": {
      "displayName": "Mike Henderson",
      "userId": "07691629187611687318"
     },
     "user_tz": 240
    },
    "id": "xzcoXjM5Rky5",
    "outputId": "b3bdcbc1-70d5-472e-aea2-42c74a42efde",
    "tags": []
   },
   "outputs": [
    {
     "data": {
      "text/plain": [
       "'statmike-mlops-349915'"
      ]
     },
     "execution_count": 6,
     "metadata": {},
     "output_type": "execute_result"
    }
   ],
   "source": [
    "project = !gcloud config get-value project\n",
    "PROJECT_ID = project[0]\n",
    "PROJECT_ID"
   ]
  },
  {
   "cell_type": "code",
   "execution_count": 23,
   "id": "1bb58b8b-92d1-44b8-a689-92a96f6d054b",
   "metadata": {
    "executionInfo": {
     "elapsed": 2,
     "status": "ok",
     "timestamp": 1683726390712,
     "user": {
      "displayName": "Mike Henderson",
      "userId": "07691629187611687318"
     },
     "user_tz": 240
    },
    "id": "IxWrFtqYMfku",
    "tags": []
   },
   "outputs": [],
   "source": [
    "REGION = 'us-central1'\n",
    "\n",
    "SERIES = 'tracking'\n",
    "EXPERIMENT = 'pixel'\n",
    "\n",
    "GCS_BUCKET = PROJECT_ID"
   ]
  },
  {
   "cell_type": "markdown",
   "id": "40732a4e-9a2b-4cdc-9229-d69922c37d2b",
   "metadata": {
    "id": "LuajVwCiO6Yg"
   },
   "source": [
    "Packages"
   ]
  },
  {
   "cell_type": "code",
   "execution_count": 568,
   "id": "6598824e-4dc9-4dce-af2a-f84d520f81cf",
   "metadata": {
    "executionInfo": {
     "elapsed": 17761,
     "status": "ok",
     "timestamp": 1683726409304,
     "user": {
      "displayName": "Mike Henderson",
      "userId": "07691629187611687318"
     },
     "user_tz": 240
    },
    "id": "LVC7zzSLRk2C",
    "tags": []
   },
   "outputs": [],
   "source": [
    "import os\n",
    "import json\n",
    "import datetime\n",
    "\n",
    "import PIL, PIL.Image\n",
    "import zipfile\n",
    "\n",
    "from google.cloud import functions_v2\n",
    "from google.cloud import pubsub_v1\n",
    "from google.cloud import storage\n",
    "from google.cloud import bigquery\n",
    "from google.cloud import bigquery_storage"
   ]
  },
  {
   "cell_type": "markdown",
   "id": "52506bdb-acd9-4b53-aed0-1ed135283963",
   "metadata": {
    "id": "EyAVFG9TO9H-"
   },
   "source": [
    "Clients"
   ]
  },
  {
   "cell_type": "code",
   "execution_count": 569,
   "id": "4fc3b95e-dc6e-4ae8-8d5f-7821622c4c84",
   "metadata": {
    "executionInfo": {
     "elapsed": 19,
     "status": "ok",
     "timestamp": 1683726409306,
     "user": {
      "displayName": "Mike Henderson",
      "userId": "07691629187611687318"
     },
     "user_tz": 240
    },
    "id": "L0RPE13LOZce",
    "tags": []
   },
   "outputs": [],
   "source": [
    "# cloud functions\n",
    "functions_client = functions_v2.FunctionServiceClient()\n",
    "\n",
    "# pubsub client\n",
    "pubsub_pubclient = pubsub_v1.PublisherClient()\n",
    "\n",
    "# gcs\n",
    "gcs = storage.Client(project = PROJECT_ID)\n",
    "bucket = gcs.bucket(GCS_BUCKET)\n",
    "\n",
    "# bigquery\n",
    "bq = bigquery.Client(project = PROJECT_ID)\n",
    "bqstorage_write = bigquery_storage.BigQueryWriteClient()"
   ]
  },
  {
   "cell_type": "markdown",
   "id": "06030022-a3bc-44a1-af07-02f5bc585a73",
   "metadata": {},
   "source": [
    "parameters:"
   ]
  },
  {
   "cell_type": "code",
   "execution_count": 10,
   "id": "c2b7100e-4bbb-401a-9595-f17037767cc5",
   "metadata": {
    "tags": []
   },
   "outputs": [],
   "source": [
    "DIR = f\"cloud_function\""
   ]
  },
  {
   "cell_type": "code",
   "execution_count": 11,
   "id": "f2e9d6c2-c8c2-4960-8fc9-a1f80a7a5367",
   "metadata": {
    "tags": []
   },
   "outputs": [
    {
     "data": {
      "text/plain": [
       "'1026793852137-compute@developer.gserviceaccount.com'"
      ]
     },
     "execution_count": 11,
     "metadata": {},
     "output_type": "execute_result"
    }
   ],
   "source": [
    "SERVICE_ACCOUNT = !gcloud config list --format='value(core.account)' \n",
    "SERVICE_ACCOUNT = SERVICE_ACCOUNT[0]\n",
    "SERVICE_ACCOUNT"
   ]
  },
  {
   "cell_type": "markdown",
   "id": "4da57ecc-4b76-4ac4-b79e-51581f8956ad",
   "metadata": {},
   "source": [
    "environment:"
   ]
  },
  {
   "cell_type": "code",
   "execution_count": 12,
   "id": "25b7fcb5-2cfe-481c-a8eb-b3340afc8035",
   "metadata": {
    "tags": []
   },
   "outputs": [],
   "source": [
    "if not os.path.exists(DIR):\n",
    "    os.makedirs(DIR)"
   ]
  },
  {
   "cell_type": "markdown",
   "id": "c03c2998-dc9f-48c8-b7d3-6c88785817b2",
   "metadata": {},
   "source": [
    "---\n",
    "## Local Development\n",
    "\n",
    "Make a flask app:\n",
    "- https://flask.palletsprojects.com/en/3.0.x/api/"
   ]
  },
  {
   "cell_type": "code",
   "execution_count": 59,
   "id": "4f14b9a1-9cfe-4fed-847d-4d4ac32579c5",
   "metadata": {
    "tags": []
   },
   "outputs": [
    {
     "data": {
      "text/plain": [
       "'tracking_pixel'"
      ]
     },
     "execution_count": 59,
     "metadata": {},
     "output_type": "execute_result"
    }
   ],
   "source": [
    "function_name = f'{SERIES}_{EXPERIMENT}'\n",
    "function_name"
   ]
  },
  {
   "cell_type": "markdown",
   "id": "bf30f2ec-7397-465a-b7c9-7847d2ba12c7",
   "metadata": {},
   "source": [
    "### Create A Pixel\n",
    "\n",
    "0,0,0 is black and alpha chanel of 0 also black makes this transparent..."
   ]
  },
  {
   "cell_type": "code",
   "execution_count": 18,
   "id": "fa47f01a-fe33-41c0-b3ca-58dcc3f607db",
   "metadata": {
    "tags": []
   },
   "outputs": [],
   "source": [
    "pixel = PIL.Image.new(mode = 'RGBA', size = (1,1), color = (0,0,0,0))"
   ]
  },
  {
   "cell_type": "code",
   "execution_count": 19,
   "id": "2dad1c09-2964-4aba-9aad-68966bcf38e6",
   "metadata": {
    "tags": []
   },
   "outputs": [],
   "source": [
    "pixel.save(f'{DIR}/pixel.png')"
   ]
  },
  {
   "cell_type": "markdown",
   "id": "4ecfefda-cbb6-485e-9ea3-0697c39844f7",
   "metadata": {},
   "source": [
    "### Create Code"
   ]
  },
  {
   "cell_type": "code",
   "execution_count": 83,
   "id": "2a024015-bdb8-476d-840d-59eb0821c393",
   "metadata": {
    "tags": []
   },
   "outputs": [
    {
     "name": "stdout",
     "output_type": "stream",
     "text": [
      "Overwriting cloud_function/main.py\n"
     ]
    }
   ],
   "source": [
    "%%writefile {DIR}/main.py\n",
    "import flask\n",
    "from flask import abort\n",
    "\n",
    "def tracking_pixel(request: flask.Request) -> flask.Response:\n",
    "    \n",
    "    repo_path = request.args.get('path', 'direct')\n",
    "    repo_file = request.args.get('file', 'direct')\n",
    "    \n",
    "    if repo_path.startswith('statmike') and len(repo_path) < 500:\n",
    "        if len(repo_file) < 500:\n",
    "            print('This is where the values can be streamed to BQ with timestamp')\n",
    "        else:\n",
    "            return abort(406) # not acceptable\n",
    "    else:\n",
    "        return abort(404) # bad request\n",
    "    \n",
    "    return flask.send_file('pixel.png')"
   ]
  },
  {
   "cell_type": "code",
   "execution_count": 84,
   "id": "9709f701-7da6-4c75-91fe-194417d26edb",
   "metadata": {
    "tags": []
   },
   "outputs": [
    {
     "name": "stdout",
     "output_type": "stream",
     "text": [
      "Overwriting cloud_function/requirements.py\n"
     ]
    }
   ],
   "source": [
    "%%writefile {DIR}/requirements.py\n",
    "flask"
   ]
  },
  {
   "cell_type": "markdown",
   "id": "e5a58963-4a8b-42b4-94ff-0d82cbf23d8b",
   "metadata": {},
   "source": [
    "### Zip Files"
   ]
  },
  {
   "cell_type": "code",
   "execution_count": 85,
   "id": "c6ef02d0-1d2a-416e-83aa-54edf79658c7",
   "metadata": {
    "tags": []
   },
   "outputs": [],
   "source": [
    "with zipfile.ZipFile(f'{DIR}/{function_name}.zip', mode = 'w') as archive:\n",
    "    archive.write(f'{DIR}/main.py', 'main.py')\n",
    "    archive.write(f'{DIR}/requirements.py', 'requirements.py')\n",
    "    archive.write(f'{DIR}/pixel.png', 'pixel.png')"
   ]
  },
  {
   "cell_type": "code",
   "execution_count": 86,
   "id": "c5aabee3-206d-4ffb-b2c3-616b9f2d86b9",
   "metadata": {
    "tags": []
   },
   "outputs": [
    {
     "name": "stdout",
     "output_type": "stream",
     "text": [
      "File Name                                             Modified             Size\n",
      "main.py                                        2024-03-23 14:17:58          550\n",
      "requirements.py                                2024-03-23 14:18:00            6\n",
      "pixel.png                                      2024-03-23 07:45:14           70\n"
     ]
    }
   ],
   "source": [
    "with zipfile.ZipFile(f'{DIR}/{function_name}.zip', mode = 'r') as zip:\n",
    "    zip.printdir()"
   ]
  },
  {
   "cell_type": "markdown",
   "id": "70e530d9-c70b-4941-acaa-30c631c8686c",
   "metadata": {},
   "source": [
    "---\n",
    "## Deploy Function"
   ]
  },
  {
   "cell_type": "markdown",
   "id": "210fc8be-e41b-4218-995f-55004a71a7b9",
   "metadata": {},
   "source": [
    "### Copy To GCS"
   ]
  },
  {
   "cell_type": "code",
   "execution_count": 87,
   "id": "c0b5a788-bda3-43de-9724-15b774cd3d1f",
   "metadata": {
    "tags": []
   },
   "outputs": [],
   "source": [
    "blob = bucket.blob(f'architectures/{SERIES}/{EXPERIMENT}/{function_name}.zip')\n",
    "blob.upload_from_filename(f'{DIR}/{function_name}.zip')"
   ]
  },
  {
   "cell_type": "markdown",
   "id": "ea0dd710-2501-4679-b749-4dffed24ce1c",
   "metadata": {},
   "source": [
    "### Create/Update Function"
   ]
  },
  {
   "cell_type": "code",
   "execution_count": 94,
   "id": "b5431ece-e659-4b7a-aaec-8607d29ca932",
   "metadata": {
    "tags": []
   },
   "outputs": [
    {
     "data": {
      "text/plain": [
       "name: \"projects/statmike-mlops-349915/locations/us-central1/functions/tracking-pixel\"\n",
       "build_config {\n",
       "  build: \"projects/1026793852137/locations/us-central1/builds/69aecb52-b4d3-4ade-b36b-6c15ba69e7f0\"\n",
       "  runtime: \"python312\"\n",
       "  entry_point: \"tracking_pixel\"\n",
       "  source {\n",
       "    storage_source {\n",
       "      bucket: \"gcf-v2-sources-1026793852137-us-central1\"\n",
       "      object_: \"tracking-pixel/function-source.zip\"\n",
       "      generation: 1711203261535891\n",
       "    }\n",
       "  }\n",
       "  docker_repository: \"projects/statmike-mlops-349915/locations/us-central1/repositories/gcf-artifacts\"\n",
       "  source_provenance {\n",
       "    resolved_storage_source {\n",
       "      bucket: \"gcf-v2-sources-1026793852137-us-central1\"\n",
       "      object_: \"tracking-pixel/function-source.zip\"\n",
       "      generation: 1711203261535891\n",
       "    }\n",
       "  }\n",
       "  docker_registry: ARTIFACT_REGISTRY\n",
       "}\n",
       "state: FAILED\n",
       "update_time {\n",
       "  seconds: 1711203330\n",
       "  nanos: 233330017\n",
       "}\n",
       "state_messages {\n",
       "  severity: ERROR\n",
       "  type_: \"CloudRunServiceNotFound\"\n",
       "  message: \"Cloud Run service projects/statmike-mlops-349915/locations/us-central1/services/tracking-pixel for the function was not found. The function will not work correctly. Please redeploy.\"\n",
       "}\n",
       "environment: GEN_2\n",
       "url: \"https://us-central1-statmike-mlops-349915.cloudfunctions.net/tracking-pixel\""
      ]
     },
     "execution_count": 94,
     "metadata": {},
     "output_type": "execute_result"
    }
   ],
   "source": [
    "try:\n",
    "    function = functions_client.get_function(\n",
    "        name = f\"projects/{PROJECT_ID}/locations/{REGION}/functions/{function_name.replace('_', '-')}\"\n",
    "    )\n",
    "except Exception:\n",
    "    function = ''\n",
    "    \n",
    "function"
   ]
  },
  {
   "cell_type": "code",
   "execution_count": 95,
   "id": "7973f166-09a9-4edb-a0ed-6131dd0344a7",
   "metadata": {
    "tags": []
   },
   "outputs": [],
   "source": [
    "functionDef = functions_v2.Function(\n",
    "    name = f\"projects/{PROJECT_ID}/locations/{REGION}/functions/{function_name.replace('_', '-')}\",\n",
    "    build_config = functions_v2.BuildConfig(\n",
    "        runtime = 'python312',\n",
    "        entry_point = f'{function_name}',\n",
    "        source = functions_v2.Source(\n",
    "            storage_source = functions_v2.StorageSource(\n",
    "                bucket = bucket.name,\n",
    "                object_ = blob.name\n",
    "            )\n",
    "        ),\n",
    "    ),\n",
    "    service_config = functions_v2.ServiceConfig(\n",
    "        timeout_seconds = 10,\n",
    "        available_memory = '128Mi',\n",
    "        max_instance_count = 5,\n",
    "        max_instance_request_concurrency = 1\n",
    "    ),\n",
    "    environment = functions_v2.Environment(2) \n",
    ")"
   ]
  },
  {
   "cell_type": "code",
   "execution_count": 96,
   "id": "5f431d9e-0b96-43cb-9cb6-ca027d2378a2",
   "metadata": {
    "tags": []
   },
   "outputs": [],
   "source": [
    "#!gcloud functions runtimes list"
   ]
  },
  {
   "cell_type": "code",
   "execution_count": 97,
   "id": "9ea71508-0f86-42aa-8846-1bf1d2b72937",
   "metadata": {
    "tags": []
   },
   "outputs": [],
   "source": [
    "#!gcloud functions event-types list"
   ]
  },
  {
   "cell_type": "code",
   "execution_count": 98,
   "id": "cef6af5c-3dd7-4270-a7e7-194dbd75da68",
   "metadata": {
    "tags": []
   },
   "outputs": [],
   "source": [
    "if function:\n",
    "    operation = functions_client.update_function(\n",
    "        function = functionDef\n",
    "    )\n",
    "else:\n",
    "    operation = functions_client.create_function(\n",
    "        parent = f\"projects/{PROJECT_ID}/locations/{REGION}\",\n",
    "        function = functionDef,\n",
    "        function_id = function_name.replace('_', '-')\n",
    "    )"
   ]
  },
  {
   "cell_type": "code",
   "execution_count": 99,
   "id": "ed1feb10-5e22-4db1-a061-9c0be047ae1d",
   "metadata": {
    "tags": []
   },
   "outputs": [
    {
     "name": "stdout",
     "output_type": "stream",
     "text": [
      "name: \"projects/statmike-mlops-349915/locations/us-central1/functions/tracking-pixel\"\n",
      "build_config {\n",
      "  build: \"projects/1026793852137/locations/us-central1/builds/9045b356-1ad7-42c1-a778-dfda9691211d\"\n",
      "  runtime: \"python312\"\n",
      "  entry_point: \"tracking_pixel\"\n",
      "  source {\n",
      "    storage_source {\n",
      "      bucket: \"gcf-v2-sources-1026793852137-us-central1\"\n",
      "      object_: \"tracking-pixel/function-source.zip\"\n",
      "      generation: 1711203824108304\n",
      "    }\n",
      "  }\n",
      "  docker_repository: \"projects/statmike-mlops-349915/locations/us-central1/repositories/gcf-artifacts\"\n",
      "  source_provenance {\n",
      "    resolved_storage_source {\n",
      "      bucket: \"gcf-v2-sources-1026793852137-us-central1\"\n",
      "      object_: \"tracking-pixel/function-source.zip\"\n",
      "      generation: 1711203824108304\n",
      "    }\n",
      "  }\n",
      "  docker_registry: ARTIFACT_REGISTRY\n",
      "}\n",
      "service_config {\n",
      "  service: \"projects/statmike-mlops-349915/locations/us-central1/services/tracking-pixel\"\n",
      "  timeout_seconds: 10\n",
      "  max_instance_count: 5\n",
      "  ingress_settings: ALLOW_ALL\n",
      "  uri: \"https://tracking-pixel-urlxi72dpa-uc.a.run.app\"\n",
      "  service_account_email: \"1026793852137-compute@developer.gserviceaccount.com\"\n",
      "  available_memory: \"128Mi\"\n",
      "  all_traffic_on_latest_revision: true\n",
      "  revision: \"tracking-pixel-00001-mot\"\n",
      "  max_instance_request_concurrency: 1\n",
      "  available_cpu: \"0.0833\"\n",
      "}\n",
      "state: ACTIVE\n",
      "update_time {\n",
      "  seconds: 1711203824\n",
      "  nanos: 151743404\n",
      "}\n",
      "environment: GEN_2\n",
      "url: \"https://us-central1-statmike-mlops-349915.cloudfunctions.net/tracking-pixel\"\n",
      "\n"
     ]
    }
   ],
   "source": [
    "response = operation.result()\n",
    "print(response)"
   ]
  },
  {
   "cell_type": "code",
   "execution_count": 113,
   "id": "ddafb380-16c9-4672-900a-8e3b41eb98d5",
   "metadata": {
    "tags": []
   },
   "outputs": [
    {
     "data": {
      "text/plain": [
       "'https://us-central1-statmike-mlops-349915.cloudfunctions.net/tracking-pixel'"
      ]
     },
     "execution_count": 113,
     "metadata": {},
     "output_type": "execute_result"
    }
   ],
   "source": [
    "response.url"
   ]
  },
  {
   "cell_type": "markdown",
   "id": "4980ee7c-3a8f-4b1d-a9e3-f5d9b81fed91",
   "metadata": {},
   "source": [
    "### Make Public\n",
    "\n",
    "- https://cloud.google.com/functions/docs/securing/managing-access-iam#allowing_unauthenticated_http_function_invocation"
   ]
  },
  {
   "cell_type": "code",
   "execution_count": 150,
   "id": "29db54ff-7af0-4f33-b2e2-b2d22aa01cea",
   "metadata": {
    "tags": []
   },
   "outputs": [
    {
     "name": "stdout",
     "output_type": "stream",
     "text": [
      "etag: BwYUVYrEWQs=\n",
      "version: 1\n"
     ]
    }
   ],
   "source": [
    "!gcloud run services get-iam-policy {function_name.replace('_', '-')} --region=$REGION #--format=json"
   ]
  },
  {
   "cell_type": "code",
   "execution_count": 151,
   "id": "5a8b56e6-775e-4710-8e2a-9bbf540903c8",
   "metadata": {
    "tags": []
   },
   "outputs": [],
   "source": [
    "#json.loads(''.join(test))"
   ]
  },
  {
   "cell_type": "markdown",
   "id": "4f040db0-8809-43e5-b65b-eb1536dd266a",
   "metadata": {},
   "source": [
    "if missing `allUsers` with `roles/run.invoker` the add it:"
   ]
  },
  {
   "cell_type": "code",
   "execution_count": 152,
   "id": "99be05e5-6665-4a41-ba98-2b716fed981d",
   "metadata": {
    "tags": []
   },
   "outputs": [
    {
     "name": "stdout",
     "output_type": "stream",
     "text": [
      "Updated IAM policy for service [tracking-pixel].\n",
      "bindings:\n",
      "- members:\n",
      "  - allUsers\n",
      "  role: roles/run.invoker\n",
      "etag: BwYUVZOnbwM=\n",
      "version: 1\n"
     ]
    }
   ],
   "source": [
    "!gcloud run services add-iam-policy-binding {function_name.replace('_', '-')} --region=$REGION --member=\"allUsers\" --role=\"roles/run.invoker\""
   ]
  },
  {
   "cell_type": "markdown",
   "id": "16b28894-e046-4045-a922-88888f4ce081",
   "metadata": {},
   "source": [
    "To remove open access use the following:\n",
    "\n",
    "Note: this can take a minute to stop the requests"
   ]
  },
  {
   "cell_type": "code",
   "execution_count": 153,
   "id": "c198ab38-22cb-4e2c-bc0c-76312f840231",
   "metadata": {
    "tags": []
   },
   "outputs": [],
   "source": [
    "#!gcloud run services remove-iam-policy-binding {function_name.replace('_', '-')} --region=$REGION --member=\"allUsers\" --role=\"roles/run.invoker\""
   ]
  },
  {
   "cell_type": "markdown",
   "id": "f1f49fbb-276b-43f8-bec6-7b758c517dfc",
   "metadata": {},
   "source": [
    "### Test Function"
   ]
  },
  {
   "cell_type": "code",
   "execution_count": 156,
   "id": "b02029ce-d325-4768-872c-12d2471131bb",
   "metadata": {
    "tags": []
   },
   "outputs": [],
   "source": [
    "test_response = !curl -s POST https://us-central1-statmike-mlops-349915.cloudfunctions.net/tracking-pixel?path=statmike&file=tester"
   ]
  },
  {
   "cell_type": "code",
   "execution_count": 157,
   "id": "71c70e28-53f1-42f4-aa8b-747d367a1dc5",
   "metadata": {
    "tags": []
   },
   "outputs": [
    {
     "data": {
      "text/plain": [
       "['�PNG',\n",
       " '\\x1a',\n",
       " '\\x00\\x00\\x00',\n",
       " 'IHDR\\x00\\x00\\x00\\x01\\x00\\x00\\x00\\x01\\x08\\x06\\x00\\x00\\x00\\x1f\\x15ĉ\\x00\\x00\\x00',\n",
       " 'IDATx�c````\\x00\\x00\\x00\\x05\\x00\\x01��E@\\x00\\x00\\x00\\x00IEND�B`�']"
      ]
     },
     "execution_count": 157,
     "metadata": {},
     "output_type": "execute_result"
    }
   ],
   "source": [
    "test_response"
   ]
  },
  {
   "cell_type": "code",
   "execution_count": 161,
   "id": "f811f670-8bbf-476b-aae9-921d95ee344b",
   "metadata": {
    "tags": []
   },
   "outputs": [
    {
     "name": "stdout",
     "output_type": "stream",
     "text": [
      "https://us-central1-statmike-mlops-349915.cloudfunctions.net/tracking-pixel?path=statmike&file=tester\n"
     ]
    }
   ],
   "source": [
    "print(f\"{response.url}?path=statmike&file=tester\")"
   ]
  },
  {
   "cell_type": "code",
   "execution_count": 162,
   "id": "2c8f19c5-633c-4da7-a398-bf96896da05b",
   "metadata": {
    "tags": []
   },
   "outputs": [
    {
     "name": "stdout",
     "output_type": "stream",
     "text": [
      "https://us-central1-statmike-mlops-349915.cloudfunctions.net/tracking-pixel?path=notstatmike&file=tester\n"
     ]
    }
   ],
   "source": [
    "print(f\"{response.url}?path=notstatmike&file=tester\")"
   ]
  },
  {
   "cell_type": "markdown",
   "id": "70997a29-974c-48e6-a9ac-83e092a5b080",
   "metadata": {},
   "source": [
    "This is a markdown cell.  The tracking link is tested below with an image inclusion in markdown with `![]()`:\n",
    "\n",
    "Begin positive test:\n",
    "\n",
    "![](https://us-central1-statmike-mlops-349915.cloudfunctions.net/tracking-pixel?path=statmike&file=tester)\n",
    "\n",
    "End positive test\n",
    "\n",
    "Begin negative test:\n",
    "\n",
    "![](https://us-central1-statmike-mlops-349915.cloudfunctions.net/tracking-pixel?path=notstatmike&file=tester)\n",
    "\n",
    "End negative test"
   ]
  },
  {
   "cell_type": "markdown",
   "id": "d75f9398-4791-4b8a-ba3d-13ec961ff2f5",
   "metadata": {},
   "source": [
    "---\n",
    "## Integrate With BigQuery\n",
    "\n",
    "Stream accepted tracking entries to a BigQuery table that is date partitioned.\n"
   ]
  },
  {
   "cell_type": "markdown",
   "id": "9fad6b22-e349-496c-af0c-d209276da55d",
   "metadata": {},
   "source": [
    "### Create A BigQuery Dataset\n",
    "\n",
    "Create a new [BigQuery Dataset](https://cloud.google.com/bigquery/docs/datasets) as a working location for this workflow:"
   ]
  },
  {
   "cell_type": "code",
   "execution_count": 169,
   "id": "e79ddf30-21b6-40ee-b0f4-0f5b662fc127",
   "metadata": {
    "tags": []
   },
   "outputs": [
    {
     "data": {
      "text/plain": [
       "<google.cloud.bigquery.table._EmptyRowIterator at 0x7fb130f014e0>"
      ]
     },
     "execution_count": 169,
     "metadata": {},
     "output_type": "execute_result"
    }
   ],
   "source": [
    "job = bq.query(f'''\n",
    "    CREATE SCHEMA IF NOT EXISTS `{PROJECT_ID}.{SERIES}`\n",
    "        OPTIONS(\n",
    "            location = 'US'\n",
    "        )''')\n",
    "job.result()"
   ]
  },
  {
   "cell_type": "markdown",
   "id": "7bc19571-8534-4719-9045-c4e1fa832461",
   "metadata": {},
   "source": [
    "### Create A BigQuery Table\n",
    "\n",
    "Simple Schema\n",
    "\n",
    "Partitioned By Timestamp"
   ]
  },
  {
   "cell_type": "code",
   "execution_count": 658,
   "id": "6df0b9fa-b389-4c3c-898f-5900539947b6",
   "metadata": {
    "tags": []
   },
   "outputs": [
    {
     "data": {
      "text/plain": [
       "<google.cloud.bigquery.table._EmptyRowIterator at 0x7fb130ec2e60>"
      ]
     },
     "execution_count": 658,
     "metadata": {},
     "output_type": "execute_result"
    }
   ],
   "source": [
    "job = bq.query(f'''\n",
    "CREATE OR REPLACE TABLE `{PROJECT_ID}.{SERIES}.{EXPERIMENT}_event_capture` (event_timestamp TIMESTAMP, file_path STRING, file_name STRING, client STRING)\n",
    "PARTITION BY TIMESTAMP_TRUNC(event_timestamp, DAY)\n",
    "''')\n",
    "job.result()"
   ]
  },
  {
   "cell_type": "markdown",
   "id": "b8659fad-9e85-422b-ab8d-2da2885a0a91",
   "metadata": {},
   "source": [
    "### Create Example Records\n",
    "\n",
    "Create JSON rows - Python list of dictionaries.\n",
    "\n",
    "- [BQ Loading JSON Data](https://cloud.google.com/bigquery/docs/loading-data-cloud-storage-json#data_types) "
   ]
  },
  {
   "cell_type": "code",
   "execution_count": 458,
   "id": "02f46bb0-5ffd-4a3f-b680-1266320ea336",
   "metadata": {
    "tags": []
   },
   "outputs": [
    {
     "data": {
      "text/plain": [
       "datetime.datetime(2024, 3, 25, 21, 35, 22, 585933)"
      ]
     },
     "execution_count": 458,
     "metadata": {},
     "output_type": "execute_result"
    }
   ],
   "source": [
    "datetime.datetime.now()"
   ]
  },
  {
   "cell_type": "code",
   "execution_count": 459,
   "id": "018ea7ea-5cba-4457-b68c-636af7a4ab05",
   "metadata": {
    "tags": []
   },
   "outputs": [
    {
     "data": {
      "text/plain": [
       "datetime.datetime(2024, 3, 25, 21, 35, 23, 279067, tzinfo=datetime.timezone.utc)"
      ]
     },
     "execution_count": 459,
     "metadata": {},
     "output_type": "execute_result"
    }
   ],
   "source": [
    "datetime.datetime.now(datetime.timezone.utc)"
   ]
  },
  {
   "cell_type": "code",
   "execution_count": 460,
   "id": "eb7c64ba-2486-4456-88ad-c90866d549f3",
   "metadata": {
    "tags": []
   },
   "outputs": [
    {
     "data": {
      "text/plain": [
       "'2024-03-25 21:35:23.845114 UTC'"
      ]
     },
     "execution_count": 460,
     "metadata": {},
     "output_type": "execute_result"
    }
   ],
   "source": [
    "datetime.datetime.now(datetime.timezone.utc).strftime(\"%Y-%m-%d %H:%M:%S.%f %Z\")"
   ]
  },
  {
   "cell_type": "code",
   "execution_count": 461,
   "id": "50713839-47a9-41f7-84af-453e2de13582",
   "metadata": {
    "tags": []
   },
   "outputs": [],
   "source": [
    "examples = []\n",
    "for i in range(10):\n",
    "    basetime = datetime.datetime.now(datetime.timezone.utc)\n",
    "    data = dict(\n",
    "        event_timestamp = (basetime - datetime.timedelta(days = i)).strftime(\"%Y-%m-%d %H:%M:%S.%f %Z\"),\n",
    "        file_path = 'statmike/path/to/file',\n",
    "        file_name = f'{i+1} notebook.ipynb'\n",
    "    )\n",
    "    examples.append(data)"
   ]
  },
  {
   "cell_type": "code",
   "execution_count": 462,
   "id": "fff09cc2-0c37-491a-9211-b042ed91daed",
   "metadata": {
    "tags": []
   },
   "outputs": [
    {
     "data": {
      "text/plain": [
       "[{'event_timestamp': '2024-03-25 21:35:24.672250 UTC',\n",
       "  'file_path': 'statmike/path/to/file',\n",
       "  'file_name': '1 notebook.ipynb'},\n",
       " {'event_timestamp': '2024-03-24 21:35:24.672289 UTC',\n",
       "  'file_path': 'statmike/path/to/file',\n",
       "  'file_name': '2 notebook.ipynb'},\n",
       " {'event_timestamp': '2024-03-23 21:35:24.672299 UTC',\n",
       "  'file_path': 'statmike/path/to/file',\n",
       "  'file_name': '3 notebook.ipynb'},\n",
       " {'event_timestamp': '2024-03-22 21:35:24.672306 UTC',\n",
       "  'file_path': 'statmike/path/to/file',\n",
       "  'file_name': '4 notebook.ipynb'},\n",
       " {'event_timestamp': '2024-03-21 21:35:24.672311 UTC',\n",
       "  'file_path': 'statmike/path/to/file',\n",
       "  'file_name': '5 notebook.ipynb'},\n",
       " {'event_timestamp': '2024-03-20 21:35:24.672317 UTC',\n",
       "  'file_path': 'statmike/path/to/file',\n",
       "  'file_name': '6 notebook.ipynb'},\n",
       " {'event_timestamp': '2024-03-19 21:35:24.672323 UTC',\n",
       "  'file_path': 'statmike/path/to/file',\n",
       "  'file_name': '7 notebook.ipynb'},\n",
       " {'event_timestamp': '2024-03-18 21:35:24.672328 UTC',\n",
       "  'file_path': 'statmike/path/to/file',\n",
       "  'file_name': '8 notebook.ipynb'},\n",
       " {'event_timestamp': '2024-03-17 21:35:24.672334 UTC',\n",
       "  'file_path': 'statmike/path/to/file',\n",
       "  'file_name': '9 notebook.ipynb'},\n",
       " {'event_timestamp': '2024-03-16 21:35:24.672340 UTC',\n",
       "  'file_path': 'statmike/path/to/file',\n",
       "  'file_name': '10 notebook.ipynb'}]"
      ]
     },
     "execution_count": 462,
     "metadata": {},
     "output_type": "execute_result"
    }
   ],
   "source": [
    "examples"
   ]
  },
  {
   "cell_type": "markdown",
   "id": "2450cd04-d27f-46f0-bc9f-3e4e6927b805",
   "metadata": {
    "tags": []
   },
   "source": [
    "### Load Records To BigQuery\n",
    "\n",
    "- https://cloud.google.com/bigquery/docs/batch-loading-data#loading_data_from_local_files\n",
    "- https://cloud.google.com/python/docs/reference/bigquery/latest/google.cloud.bigquery.client.Client#google_cloud_bigquery_client_Client_load_table_from_json\n",
    "\n"
   ]
  },
  {
   "cell_type": "code",
   "execution_count": 463,
   "id": "6e34044c-5908-44d1-83f0-7bda07d259e2",
   "metadata": {
    "tags": []
   },
   "outputs": [],
   "source": [
    "load_job = bq.load_table_from_json(\n",
    "    json_rows = examples,\n",
    "    destination = bigquery.TableReference(\n",
    "        dataset_ref = bigquery.DatasetReference(PROJECT_ID, SERIES),\n",
    "        table_id = f'pixel_event_capture'\n",
    "    ),\n",
    "    job_config = bigquery.LoadJobConfig(\n",
    "        source_format = bigquery.SourceFormat.NEWLINE_DELIMITED_JSON,\n",
    "        write_disposition = bigquery.WriteDisposition.WRITE_APPEND\n",
    "    )\n",
    ")"
   ]
  },
  {
   "cell_type": "code",
   "execution_count": 464,
   "id": "1efcebdf-e5e7-4cce-a119-f36557d9a70b",
   "metadata": {
    "tags": []
   },
   "outputs": [
    {
     "data": {
      "text/plain": [
       "LoadJob<project=statmike-mlops-349915, location=US, id=712ac0cc-c3e5-4c20-96ee-c363f12042b3>"
      ]
     },
     "execution_count": 464,
     "metadata": {},
     "output_type": "execute_result"
    }
   ],
   "source": [
    "load_job.result()"
   ]
  },
  {
   "cell_type": "code",
   "execution_count": 219,
   "id": "8e328566-7754-4c2c-bbff-17e27b6e8955",
   "metadata": {
    "tags": []
   },
   "outputs": [
    {
     "data": {
      "text/html": [
       "<div>\n",
       "<style scoped>\n",
       "    .dataframe tbody tr th:only-of-type {\n",
       "        vertical-align: middle;\n",
       "    }\n",
       "\n",
       "    .dataframe tbody tr th {\n",
       "        vertical-align: top;\n",
       "    }\n",
       "\n",
       "    .dataframe thead th {\n",
       "        text-align: right;\n",
       "    }\n",
       "</style>\n",
       "<table border=\"1\" class=\"dataframe\">\n",
       "  <thead>\n",
       "    <tr style=\"text-align: right;\">\n",
       "      <th></th>\n",
       "      <th>event_timestamp</th>\n",
       "      <th>file_path</th>\n",
       "      <th>file_name</th>\n",
       "    </tr>\n",
       "  </thead>\n",
       "  <tbody>\n",
       "    <tr>\n",
       "      <th>0</th>\n",
       "      <td>2024-03-20 13:02:33.860302+00:00</td>\n",
       "      <td>statmike/path/to/file</td>\n",
       "      <td>5 notebook.ipynb</td>\n",
       "    </tr>\n",
       "    <tr>\n",
       "      <th>1</th>\n",
       "      <td>2024-03-18 13:02:33.860315+00:00</td>\n",
       "      <td>statmike/path/to/file</td>\n",
       "      <td>7 notebook.ipynb</td>\n",
       "    </tr>\n",
       "    <tr>\n",
       "      <th>2</th>\n",
       "      <td>2024-03-19 13:02:33.860309+00:00</td>\n",
       "      <td>statmike/path/to/file</td>\n",
       "      <td>6 notebook.ipynb</td>\n",
       "    </tr>\n",
       "    <tr>\n",
       "      <th>3</th>\n",
       "      <td>2024-03-15 13:02:33.860332+00:00</td>\n",
       "      <td>statmike/path/to/file</td>\n",
       "      <td>10 notebook.ipynb</td>\n",
       "    </tr>\n",
       "    <tr>\n",
       "      <th>4</th>\n",
       "      <td>2024-03-17 13:02:33.860321+00:00</td>\n",
       "      <td>statmike/path/to/file</td>\n",
       "      <td>8 notebook.ipynb</td>\n",
       "    </tr>\n",
       "    <tr>\n",
       "      <th>5</th>\n",
       "      <td>2024-03-23 13:02:33.860279+00:00</td>\n",
       "      <td>statmike/path/to/file</td>\n",
       "      <td>2 notebook.ipynb</td>\n",
       "    </tr>\n",
       "    <tr>\n",
       "      <th>6</th>\n",
       "      <td>2024-03-24 13:02:33.860245+00:00</td>\n",
       "      <td>statmike/path/to/file</td>\n",
       "      <td>1 notebook.ipynb</td>\n",
       "    </tr>\n",
       "    <tr>\n",
       "      <th>7</th>\n",
       "      <td>2024-03-22 13:02:33.860290+00:00</td>\n",
       "      <td>statmike/path/to/file</td>\n",
       "      <td>3 notebook.ipynb</td>\n",
       "    </tr>\n",
       "    <tr>\n",
       "      <th>8</th>\n",
       "      <td>2024-03-16 13:02:33.860327+00:00</td>\n",
       "      <td>statmike/path/to/file</td>\n",
       "      <td>9 notebook.ipynb</td>\n",
       "    </tr>\n",
       "    <tr>\n",
       "      <th>9</th>\n",
       "      <td>2024-03-21 13:02:33.860297+00:00</td>\n",
       "      <td>statmike/path/to/file</td>\n",
       "      <td>4 notebook.ipynb</td>\n",
       "    </tr>\n",
       "  </tbody>\n",
       "</table>\n",
       "</div>"
      ],
      "text/plain": [
       "                   event_timestamp              file_path          file_name\n",
       "0 2024-03-20 13:02:33.860302+00:00  statmike/path/to/file   5 notebook.ipynb\n",
       "1 2024-03-18 13:02:33.860315+00:00  statmike/path/to/file   7 notebook.ipynb\n",
       "2 2024-03-19 13:02:33.860309+00:00  statmike/path/to/file   6 notebook.ipynb\n",
       "3 2024-03-15 13:02:33.860332+00:00  statmike/path/to/file  10 notebook.ipynb\n",
       "4 2024-03-17 13:02:33.860321+00:00  statmike/path/to/file   8 notebook.ipynb\n",
       "5 2024-03-23 13:02:33.860279+00:00  statmike/path/to/file   2 notebook.ipynb\n",
       "6 2024-03-24 13:02:33.860245+00:00  statmike/path/to/file   1 notebook.ipynb\n",
       "7 2024-03-22 13:02:33.860290+00:00  statmike/path/to/file   3 notebook.ipynb\n",
       "8 2024-03-16 13:02:33.860327+00:00  statmike/path/to/file   9 notebook.ipynb\n",
       "9 2024-03-21 13:02:33.860297+00:00  statmike/path/to/file   4 notebook.ipynb"
      ]
     },
     "execution_count": 219,
     "metadata": {},
     "output_type": "execute_result"
    }
   ],
   "source": [
    "review = bq.query(f'SELECT * FROM `{PROJECT_ID}.{SERIES}.{EXPERIMENT}_event_capture`').to_dataframe()\n",
    "review"
   ]
  },
  {
   "cell_type": "markdown",
   "id": "2cfa646c-2123-433c-b5d0-7cccf6b469bc",
   "metadata": {},
   "source": [
    "### Async BigQuery Load\n",
    "\n",
    "Design the function to trigger the load to BigQuery but then return result (pixel image in this case) without waiting on the load to finish."
   ]
  },
  {
   "cell_type": "code",
   "execution_count": 236,
   "id": "a2ab4b68-3942-48e3-bec7-2996c9b16775",
   "metadata": {
    "tags": []
   },
   "outputs": [],
   "source": [
    "import threading"
   ]
  },
  {
   "cell_type": "code",
   "execution_count": 365,
   "id": "861c05ba-fe7b-4e65-9f70-385dbd7ba65e",
   "metadata": {
    "tags": []
   },
   "outputs": [],
   "source": [
    "def loadBQ(rows):\n",
    "    load_job = bq.load_table_from_json(\n",
    "        json_rows = rows,\n",
    "        destination = bigquery.TableReference(\n",
    "            dataset_ref = bigquery.DatasetReference(PROJECT_ID, SERIES),\n",
    "            table_id = f'pixel_event_capture'\n",
    "        ),\n",
    "        job_config = bigquery.LoadJobConfig(\n",
    "            source_format = bigquery.SourceFormat.NEWLINE_DELIMITED_JSON,\n",
    "            write_disposition = bigquery.WriteDisposition.WRITE_APPEND\n",
    "        )\n",
    "    )\n",
    "    load_job.result()\n",
    "    print('finished loading')\n",
    "    time.sleep(10)\n",
    "    print('now returning')"
   ]
  },
  {
   "cell_type": "code",
   "execution_count": 366,
   "id": "797d6f0e-b52f-4e60-a4b3-c1081ea183a1",
   "metadata": {
    "tags": []
   },
   "outputs": [],
   "source": [
    "thread = threading.Thread(target = loadBQ, args = (examples,))\n",
    "thread.start()"
   ]
  },
  {
   "cell_type": "code",
   "execution_count": 367,
   "id": "5683e034-ae3b-47be-bb6c-e07133704046",
   "metadata": {
    "tags": []
   },
   "outputs": [
    {
     "name": "stdout",
     "output_type": "stream",
     "text": [
      "does this work\n",
      "finished loading\n",
      "now returning\n"
     ]
    }
   ],
   "source": [
    "print('does this work')"
   ]
  },
  {
   "cell_type": "markdown",
   "id": "f5112431-de33-43a2-bf54-79d30fb67806",
   "metadata": {},
   "source": [
    "---\n",
    "## 2nd Cloud Function: Write To BigQuery\n",
    "\n",
    "The write to BigQuery can take a few seconds.  Make a second function to handle this via PubSub triggers.  Then the first function can send the record to the the PubSub topic and immediately return the response to the client.  Then this second funnction can work async to append the record to the BigQuery table."
   ]
  },
  {
   "cell_type": "markdown",
   "id": "de16f1a8-b402-4c83-87cb-5e88ba9dbcd9",
   "metadata": {
    "tags": []
   },
   "source": [
    "---\n",
    "### Create Pub/Sub Topic\n",
    "\n",
    "The main concepts:\n",
    "- Topic - a feed of messages\n",
    "     - Publish - send a new message to a topic\n",
    "     - Subscription - receive messages that arrive on topic\n",
    "          - Push - the subscriber has new messages pushed to it\n",
    "          - Pull - the subscriber request new messages by pulling them\n",
    "          \n",
    "In this example, a topic will be set up for receiving new event entries for the tracking pixel.  Publishing a new message to this topic will trigger a data load to BigQuery by the Cloud Function (setup below).  The Cloud Funtion will have a push subscription to the topic."
   ]
  },
  {
   "cell_type": "code",
   "execution_count": 659,
   "id": "c10f3605-0700-483f-937e-cc4e81395dcc",
   "metadata": {
    "tags": []
   },
   "outputs": [
    {
     "data": {
      "text/plain": [
       "'tracking_pixel_data'"
      ]
     },
     "execution_count": 659,
     "metadata": {},
     "output_type": "execute_result"
    }
   ],
   "source": [
    "PUBSUB_TOPIC = function_name + '_data'\n",
    "PUBSUB_TOPIC"
   ]
  },
  {
   "cell_type": "code",
   "execution_count": 660,
   "id": "61015c00-756d-424f-9352-57fb9c2528b1",
   "metadata": {
    "tags": []
   },
   "outputs": [
    {
     "name": "stdout",
     "output_type": "stream",
     "text": [
      "projects/statmike-mlops-349915/topics/tracking_pixel_data\n"
     ]
    }
   ],
   "source": [
    "try:\n",
    "    topic = pubsub_pubclient.get_topic(\n",
    "        topic = pubsub_pubclient.topic_path(PROJECT_ID, PUBSUB_TOPIC)\n",
    "    )\n",
    "    print(topic.name)\n",
    "except Exception:\n",
    "    topic = pubsub_pubclient.create_topic(\n",
    "        name = pubsub_pubclient.topic_path(PROJECT_ID, PUBSUB_TOPIC)\n",
    "    )\n",
    "    print(topic.name)   "
   ]
  },
  {
   "cell_type": "markdown",
   "id": "1d906bdd-0a59-4ef1-ac44-ee1329432dc8",
   "metadata": {},
   "source": [
    "### Create Code For Cloud Function"
   ]
  },
  {
   "cell_type": "code",
   "execution_count": 661,
   "id": "64f79213-908b-4677-af03-f442518387c0",
   "metadata": {
    "tags": []
   },
   "outputs": [],
   "source": [
    "if not os.path.exists(DIR + '/loadBQ'):\n",
    "    os.makedirs(DIR + '/loadBQ')"
   ]
  },
  {
   "cell_type": "code",
   "execution_count": 596,
   "id": "cbfb89d3-03ee-424c-ba3d-6fc3313be8e7",
   "metadata": {
    "tags": []
   },
   "outputs": [
    {
     "name": "stdout",
     "output_type": "stream",
     "text": [
      "Overwriting cloud_function/loadBQ/main.py\n"
     ]
    }
   ],
   "source": [
    "%%writefile {DIR}/loadBQ/main.py\n",
    "import base64\n",
    "import json\n",
    "from google.cloud import bigquery\n",
    "\n",
    "PROJECT_ID = 'statmike-mlops-349915'\n",
    "bq = bigquery.Client(project = PROJECT_ID)\n",
    "\n",
    "# Triggered from a message on pubsub topic, which is sent by cloud function that collect events\n",
    "def tracking_pixel_data(event, context):\n",
    "    \n",
    "    # decode the data input, convert to python dictionary\n",
    "    function_input = json.loads(\n",
    "        base64.b64decode(event['data']).decode('utf-8')\n",
    "    )\n",
    "    \n",
    "    load_job = bq.load_table_from_json(\n",
    "        json_rows = [function_input],\n",
    "        destination = bigquery.TableReference(\n",
    "            dataset_ref = bigquery.DatasetReference(PROJECT_ID, 'tracking'),\n",
    "            table_id = f'pixel_event_capture'\n",
    "        ),\n",
    "        job_config = bigquery.LoadJobConfig(\n",
    "            source_format = bigquery.SourceFormat.NEWLINE_DELIMITED_JSON,\n",
    "            write_disposition = bigquery.WriteDisposition.WRITE_APPEND\n",
    "        )\n",
    "    )\n",
    "    load_job.result()"
   ]
  },
  {
   "cell_type": "code",
   "execution_count": 597,
   "id": "162aa091-ab2c-464b-8842-f94778f576b0",
   "metadata": {
    "tags": []
   },
   "outputs": [
    {
     "name": "stdout",
     "output_type": "stream",
     "text": [
      "Overwriting cloud_function/loadBQ/requirements.txt\n"
     ]
    }
   ],
   "source": [
    "%%writefile {DIR}/loadBQ/requirements.txt\n",
    "google-cloud-bigquery"
   ]
  },
  {
   "cell_type": "markdown",
   "id": "ff610b10-c2b2-4d26-8a74-a6849ebf5171",
   "metadata": {},
   "source": [
    "### Zip Files"
   ]
  },
  {
   "cell_type": "code",
   "execution_count": 598,
   "id": "94ec2b3e-c38a-47d6-895e-94dd78677b5c",
   "metadata": {
    "tags": []
   },
   "outputs": [],
   "source": [
    "with zipfile.ZipFile(f'{DIR}/loadBQ/{function_name}_data.zip', mode = 'w') as archive:\n",
    "    archive.write(f'{DIR}/loadBQ/main.py', 'main.py')\n",
    "    archive.write(f'{DIR}/loadBQ/requirements.txt', 'requirements.txt')"
   ]
  },
  {
   "cell_type": "code",
   "execution_count": 599,
   "id": "7c9452e1-a1d7-4661-a906-6fc66dbab0bf",
   "metadata": {
    "tags": []
   },
   "outputs": [
    {
     "name": "stdout",
     "output_type": "stream",
     "text": [
      "File Name                                             Modified             Size\n",
      "main.py                                        2024-03-26 15:56:18          929\n",
      "requirements.txt                               2024-03-26 15:56:18           22\n"
     ]
    }
   ],
   "source": [
    "with zipfile.ZipFile(f'{DIR}/loadBQ/{function_name}_data.zip', mode = 'r') as zip:\n",
    "    zip.printdir()"
   ]
  },
  {
   "cell_type": "markdown",
   "id": "3ec06277-5e01-4aa2-964c-e0df484c70e5",
   "metadata": {},
   "source": [
    "### Copy To GCS"
   ]
  },
  {
   "cell_type": "code",
   "execution_count": 600,
   "id": "c0cdc655-f1b9-4ec4-b760-218eecf761db",
   "metadata": {
    "tags": []
   },
   "outputs": [],
   "source": [
    "blob = bucket.blob(f'architectures/{SERIES}/{EXPERIMENT}/{function_name}_data.zip')\n",
    "blob.upload_from_filename(f'{DIR}/loadBQ/{function_name}_data.zip')"
   ]
  },
  {
   "cell_type": "markdown",
   "id": "eb520cd0-ec31-4d0b-824b-688fadb67cda",
   "metadata": {},
   "source": [
    "### Create/Update Function"
   ]
  },
  {
   "cell_type": "code",
   "execution_count": 602,
   "id": "ca87e5b3-5f07-4555-8c71-2926e35b9cfa",
   "metadata": {
    "tags": []
   },
   "outputs": [
    {
     "data": {
      "text/plain": [
       "''"
      ]
     },
     "execution_count": 602,
     "metadata": {},
     "output_type": "execute_result"
    }
   ],
   "source": [
    "try:\n",
    "    function2 = functions_client.get_function(\n",
    "        name = f\"projects/{PROJECT_ID}/locations/{REGION}/functions/{function_name.replace('_', '-')}_data\"\n",
    "    )\n",
    "except Exception:\n",
    "    function2 = ''\n",
    "    \n",
    "function2"
   ]
  },
  {
   "cell_type": "code",
   "execution_count": 588,
   "id": "203cd418-b32b-487e-8093-7c202bb53443",
   "metadata": {
    "tags": []
   },
   "outputs": [
    {
     "data": {
      "text/plain": [
       "'tracking_pixel'"
      ]
     },
     "execution_count": 588,
     "metadata": {},
     "output_type": "execute_result"
    }
   ],
   "source": [
    "function_name"
   ]
  },
  {
   "cell_type": "code",
   "execution_count": 589,
   "id": "3d939483-f7aa-4171-96f4-5e4840e624f6",
   "metadata": {
    "tags": []
   },
   "outputs": [
    {
     "data": {
      "text/plain": [
       "'projects/statmike-mlops-349915/topics/tracking_pixel_data'"
      ]
     },
     "execution_count": 589,
     "metadata": {},
     "output_type": "execute_result"
    }
   ],
   "source": [
    "topic.name"
   ]
  },
  {
   "cell_type": "code",
   "execution_count": 611,
   "id": "e4822520-d73c-4e46-883d-4531032c889b",
   "metadata": {
    "tags": []
   },
   "outputs": [],
   "source": [
    "functionDef2 = functions_v2.Function(\n",
    "    name = f\"projects/{PROJECT_ID}/locations/{REGION}/functions/{function_name.replace('_', '-')}-data\",\n",
    "    build_config = functions_v2.BuildConfig(\n",
    "        runtime = 'python312',\n",
    "        entry_point = f'{function_name}_data',\n",
    "        source = functions_v2.Source(\n",
    "            storage_source = functions_v2.StorageSource(\n",
    "                bucket = bucket.name,\n",
    "                object_ = blob.name\n",
    "            )\n",
    "        ),\n",
    "    ),\n",
    "    service_config = functions_v2.ServiceConfig(\n",
    "        timeout_seconds = 60,\n",
    "        available_memory = '128Mi',\n",
    "        max_instance_count = 50,\n",
    "        max_instance_request_concurrency = 1\n",
    "    ),\n",
    "    event_trigger = functions_v2.EventTrigger(\n",
    "        event_type = 'google.cloud.pubsub.topic.v1.messagePublished',\n",
    "        pubsub_topic = topic.name\n",
    "    ),\n",
    "    environment = functions_v2.Environment(2) \n",
    ")"
   ]
  },
  {
   "cell_type": "code",
   "execution_count": 612,
   "id": "16816c96-bad0-4613-82af-ce28f081c28a",
   "metadata": {
    "tags": []
   },
   "outputs": [],
   "source": [
    "#!gcloud functions runtimes list"
   ]
  },
  {
   "cell_type": "code",
   "execution_count": 613,
   "id": "ccd5d359-7e6e-4403-a9ea-4ddcdf30fddc",
   "metadata": {
    "tags": []
   },
   "outputs": [],
   "source": [
    "#!gcloud functions event-types list"
   ]
  },
  {
   "cell_type": "code",
   "execution_count": 614,
   "id": "650fa626-481b-4f3e-a83d-13d730665521",
   "metadata": {
    "tags": []
   },
   "outputs": [],
   "source": [
    "if function2:\n",
    "    operation = functions_client.update_function(\n",
    "        function = functionDef2\n",
    "    )\n",
    "else:\n",
    "    operation = functions_client.create_function(\n",
    "        parent = f\"projects/{PROJECT_ID}/locations/{REGION}\",\n",
    "        function = functionDef2,\n",
    "        function_id = function_name.replace('_', '-') + '-data'\n",
    "    )"
   ]
  },
  {
   "cell_type": "code",
   "execution_count": 615,
   "id": "c6955327-2190-4ba3-80d2-b8fdd00fb22d",
   "metadata": {
    "tags": []
   },
   "outputs": [
    {
     "name": "stdout",
     "output_type": "stream",
     "text": [
      "name: \"projects/statmike-mlops-349915/locations/us-central1/functions/tracking-pixel-data\"\n",
      "build_config {\n",
      "  build: \"projects/1026793852137/locations/us-central1/builds/01ad80d3-9711-42b5-a49f-f8fb4c7bf2bd\"\n",
      "  runtime: \"python312\"\n",
      "  entry_point: \"tracking_pixel_data\"\n",
      "  source {\n",
      "    storage_source {\n",
      "      bucket: \"gcf-v2-sources-1026793852137-us-central1\"\n",
      "      object_: \"tracking-pixel-data/function-source.zip\"\n",
      "      generation: 1711468838039649\n",
      "    }\n",
      "  }\n",
      "  docker_repository: \"projects/statmike-mlops-349915/locations/us-central1/repositories/gcf-artifacts\"\n",
      "  source_provenance {\n",
      "    resolved_storage_source {\n",
      "      bucket: \"gcf-v2-sources-1026793852137-us-central1\"\n",
      "      object_: \"tracking-pixel-data/function-source.zip\"\n",
      "      generation: 1711468838039649\n",
      "    }\n",
      "  }\n",
      "  docker_registry: ARTIFACT_REGISTRY\n",
      "}\n",
      "service_config {\n",
      "  service: \"projects/statmike-mlops-349915/locations/us-central1/services/tracking-pixel-data\"\n",
      "  timeout_seconds: 60\n",
      "  max_instance_count: 50\n",
      "  ingress_settings: ALLOW_ALL\n",
      "  uri: \"https://tracking-pixel-data-urlxi72dpa-uc.a.run.app\"\n",
      "  service_account_email: \"1026793852137-compute@developer.gserviceaccount.com\"\n",
      "  available_memory: \"128Mi\"\n",
      "  all_traffic_on_latest_revision: true\n",
      "  revision: \"tracking-pixel-data-00001-com\"\n",
      "  max_instance_request_concurrency: 1\n",
      "  available_cpu: \"0.0833\"\n",
      "}\n",
      "event_trigger {\n",
      "  trigger: \"projects/statmike-mlops-349915/locations/us-central1/triggers/tracking-pixel-data-803623\"\n",
      "  trigger_region: \"us-central1\"\n",
      "  event_type: \"google.cloud.pubsub.topic.v1.messagePublished\"\n",
      "  pubsub_topic: \"projects/statmike-mlops-349915/topics/tracking_pixel_data\"\n",
      "  service_account_email: \"1026793852137-compute@developer.gserviceaccount.com\"\n",
      "  retry_policy: RETRY_POLICY_DO_NOT_RETRY\n",
      "}\n",
      "state: ACTIVE\n",
      "update_time {\n",
      "  seconds: 1711468839\n",
      "  nanos: 45251335\n",
      "}\n",
      "environment: GEN_2\n",
      "url: \"https://us-central1-statmike-mlops-349915.cloudfunctions.net/tracking-pixel-data\"\n",
      "\n"
     ]
    }
   ],
   "source": [
    "response = operation.result()\n",
    "print(response)"
   ]
  },
  {
   "cell_type": "code",
   "execution_count": 616,
   "id": "16721eeb-0d29-434b-a6a0-2f24c513e0f0",
   "metadata": {
    "tags": []
   },
   "outputs": [
    {
     "data": {
      "text/plain": [
       "'projects/statmike-mlops-349915/locations/us-central1/functions/tracking-pixel-data'"
      ]
     },
     "execution_count": 616,
     "metadata": {},
     "output_type": "execute_result"
    }
   ],
   "source": [
    "response.name"
   ]
  },
  {
   "cell_type": "markdown",
   "id": "ee9754cb-e42e-4698-8293-8fe4411783f3",
   "metadata": {},
   "source": [
    "### Test Function"
   ]
  },
  {
   "cell_type": "code",
   "execution_count": 662,
   "id": "bd429da9-a50f-49f8-8f6f-e5ff0b01ab7b",
   "metadata": {
    "tags": []
   },
   "outputs": [],
   "source": [
    "data = dict(\n",
    "    event_timestamp = datetime.datetime.now(datetime.timezone.utc).strftime(\"%Y-%m-%d %H:%M:%S.%f %Z\"),\n",
    "    file_path = 'statmike/path/to/file',\n",
    "    file_name = f'my notebook.ipynb'\n",
    ")"
   ]
  },
  {
   "cell_type": "code",
   "execution_count": 663,
   "id": "5de4bf6b-0591-43b1-82be-270a016273da",
   "metadata": {
    "tags": []
   },
   "outputs": [],
   "source": [
    "message = json.dumps(data).encode('utf-8')"
   ]
  },
  {
   "cell_type": "code",
   "execution_count": 664,
   "id": "ff41fb30-c8cf-44f8-a359-689ca75959f8",
   "metadata": {
    "tags": []
   },
   "outputs": [
    {
     "data": {
      "text/plain": [
       "b'{\"event_timestamp\": \"2024-03-26 17:30:25.454065 UTC\", \"file_path\": \"statmike/path/to/file\", \"file_name\": \"my notebook.ipynb\"}'"
      ]
     },
     "execution_count": 664,
     "metadata": {},
     "output_type": "execute_result"
    }
   ],
   "source": [
    "message"
   ]
  },
  {
   "cell_type": "code",
   "execution_count": 665,
   "id": "f68af2d3-fb78-4297-94ff-64223ba70b70",
   "metadata": {
    "tags": []
   },
   "outputs": [],
   "source": [
    "future = pubsub_pubclient.publish(topic.name, message, trigger = 'manual')"
   ]
  },
  {
   "cell_type": "code",
   "execution_count": 666,
   "id": "3abc429c-2706-4651-9584-134aaaacacfa",
   "metadata": {
    "tags": []
   },
   "outputs": [
    {
     "data": {
      "text/plain": [
       "'10789273693857203'"
      ]
     },
     "execution_count": 666,
     "metadata": {},
     "output_type": "execute_result"
    }
   ],
   "source": [
    "future.result()"
   ]
  },
  {
   "cell_type": "markdown",
   "id": "15058d1f-f731-40cd-af81-8a9fb217a611",
   "metadata": {},
   "source": [
    "---\n",
    "## Update Function - Add BQ Integration"
   ]
  },
  {
   "cell_type": "markdown",
   "id": "4c55aaf2-1d82-40a8-8d15-cef30858630f",
   "metadata": {},
   "source": [
    "### Update Code For Cloud Function"
   ]
  },
  {
   "cell_type": "code",
   "execution_count": 667,
   "id": "38dcf6d8-35e8-4bfb-9287-2b6f3ed4e961",
   "metadata": {
    "tags": []
   },
   "outputs": [
    {
     "name": "stdout",
     "output_type": "stream",
     "text": [
      "Overwriting cloud_function/main.py\n"
     ]
    }
   ],
   "source": [
    "%%writefile {DIR}/main.py\n",
    "import datetime\n",
    "import json\n",
    "import flask\n",
    "from flask import abort\n",
    "from google.cloud import pubsub_v1\n",
    "\n",
    "pubsub_pubclient = pubsub_v1.PublisherClient() \n",
    "\n",
    "def tracking_pixel(request: flask.Request) -> flask.Response:\n",
    "    \n",
    "    repo_path = request.args.get('path', 'direct')\n",
    "    repo_file = request.args.get('file', 'direct')\n",
    "    application = request.headers.get('User-Agent')\n",
    "    \n",
    "    if repo_path.startswith('statmike') and len(repo_path) < 500:\n",
    "        if len(repo_file) > 5 and len(repo_file) < 500:\n",
    "            data = dict(\n",
    "                event_timestamp = datetime.datetime.now(datetime.timezone.utc).strftime(\"%Y-%m-%d %H:%M:%S.%f %Z\"),\n",
    "                file_path = repo_path,\n",
    "                file_name = repo_file,\n",
    "                client = application\n",
    "            )\n",
    "            message = json.dumps(data).encode('utf-8')\n",
    "            future = pubsub_pubclient.publish(\n",
    "                'projects/statmike-mlops-349915/topics/tracking_pixel_data',\n",
    "                message,\n",
    "                trigger = 'manual'\n",
    "            )\n",
    "        else:\n",
    "            return abort(406) # not acceptable\n",
    "    else:\n",
    "        return abort(404) # bad request\n",
    "    \n",
    "    return flask.send_file('pixel.png', max_age=0)"
   ]
  },
  {
   "cell_type": "code",
   "execution_count": 668,
   "id": "d77cc92c-c671-497b-a8dd-e086fd79b386",
   "metadata": {
    "tags": []
   },
   "outputs": [
    {
     "name": "stdout",
     "output_type": "stream",
     "text": [
      "Overwriting cloud_function/requirements.txt\n"
     ]
    }
   ],
   "source": [
    "%%writefile {DIR}/requirements.txt\n",
    "google-cloud-pubsub"
   ]
  },
  {
   "cell_type": "markdown",
   "id": "a7f9567a-9d0b-43c2-bd6b-2c8056a614c4",
   "metadata": {},
   "source": [
    "### Zip Files"
   ]
  },
  {
   "cell_type": "code",
   "execution_count": 669,
   "id": "51005649-74ef-4920-a4da-7b6d831c7a76",
   "metadata": {
    "tags": []
   },
   "outputs": [],
   "source": [
    "with zipfile.ZipFile(f'{DIR}/{function_name}.zip', mode = 'w') as archive:\n",
    "    archive.write(f'{DIR}/main.py', 'main.py')\n",
    "    archive.write(f'{DIR}/requirements.txt', 'requirements.txt')\n",
    "    archive.write(f'{DIR}/pixel.png', 'pixel.png')"
   ]
  },
  {
   "cell_type": "code",
   "execution_count": 670,
   "id": "56672fd0-cef1-4099-a1a2-145246bfee5f",
   "metadata": {
    "tags": []
   },
   "outputs": [
    {
     "name": "stdout",
     "output_type": "stream",
     "text": [
      "File Name                                             Modified             Size\n",
      "main.py                                        2024-03-26 17:31:30         1188\n",
      "requirements.txt                               2024-03-26 17:31:30           20\n",
      "pixel.png                                      2024-03-23 07:45:14           70\n"
     ]
    }
   ],
   "source": [
    "with zipfile.ZipFile(f'{DIR}/{function_name}.zip', mode = 'r') as zip:\n",
    "    zip.printdir()"
   ]
  },
  {
   "cell_type": "markdown",
   "id": "c532cbfa-851a-42d0-a8d8-5252b9c45978",
   "metadata": {},
   "source": [
    "### Copy To GCS"
   ]
  },
  {
   "cell_type": "code",
   "execution_count": 671,
   "id": "6e58c4f5-2a6a-4a0a-97a3-f5e0ff8cdade",
   "metadata": {
    "tags": []
   },
   "outputs": [],
   "source": [
    "blob = bucket.blob(f'architectures/{SERIES}/{EXPERIMENT}/{function_name}.zip')\n",
    "blob.upload_from_filename(f'{DIR}/{function_name}.zip')"
   ]
  },
  {
   "cell_type": "markdown",
   "id": "e207d878-3713-4764-862e-3452d65550cd",
   "metadata": {},
   "source": [
    "### Create/Update Function"
   ]
  },
  {
   "cell_type": "code",
   "execution_count": 672,
   "id": "a331e3b9-b3e7-4c1b-a62e-c5c3c0d79b7f",
   "metadata": {
    "tags": []
   },
   "outputs": [
    {
     "data": {
      "text/plain": [
       "name: \"projects/statmike-mlops-349915/locations/us-central1/functions/tracking-pixel\"\n",
       "build_config {\n",
       "  build: \"projects/1026793852137/locations/us-central1/builds/824889aa-bf29-42af-bd91-ee93cf3e867c\"\n",
       "  runtime: \"python312\"\n",
       "  entry_point: \"tracking_pixel\"\n",
       "  source {\n",
       "    storage_source {\n",
       "      bucket: \"gcf-v2-sources-1026793852137-us-central1\"\n",
       "      object_: \"tracking-pixel/function-source.zip\"\n",
       "      generation: 1711472737156041\n",
       "    }\n",
       "  }\n",
       "  docker_repository: \"projects/statmike-mlops-349915/locations/us-central1/repositories/gcf-artifacts\"\n",
       "  source_provenance {\n",
       "    resolved_storage_source {\n",
       "      bucket: \"gcf-v2-sources-1026793852137-us-central1\"\n",
       "      object_: \"tracking-pixel/function-source.zip\"\n",
       "      generation: 1711472737156041\n",
       "    }\n",
       "  }\n",
       "  docker_registry: ARTIFACT_REGISTRY\n",
       "}\n",
       "service_config {\n",
       "  service: \"projects/statmike-mlops-349915/locations/us-central1/services/tracking-pixel\"\n",
       "  timeout_seconds: 10\n",
       "  max_instance_count: 10\n",
       "  ingress_settings: ALLOW_ALL\n",
       "  uri: \"https://tracking-pixel-urlxi72dpa-uc.a.run.app\"\n",
       "  service_account_email: \"1026793852137-compute@developer.gserviceaccount.com\"\n",
       "  available_memory: \"128Mi\"\n",
       "  all_traffic_on_latest_revision: true\n",
       "  revision: \"tracking-pixel-00019-god\"\n",
       "  max_instance_request_concurrency: 1\n",
       "  available_cpu: \"0.0833\"\n",
       "}\n",
       "state: ACTIVE\n",
       "update_time {\n",
       "  seconds: 1711472784\n",
       "  nanos: 514615400\n",
       "}\n",
       "environment: GEN_2\n",
       "url: \"https://us-central1-statmike-mlops-349915.cloudfunctions.net/tracking-pixel\""
      ]
     },
     "execution_count": 672,
     "metadata": {},
     "output_type": "execute_result"
    }
   ],
   "source": [
    "try:\n",
    "    function = functions_client.get_function(\n",
    "        name = f\"projects/{PROJECT_ID}/locations/{REGION}/functions/{function_name.replace('_', '-')}\"\n",
    "    )\n",
    "except Exception:\n",
    "    function = ''\n",
    "    \n",
    "function"
   ]
  },
  {
   "cell_type": "code",
   "execution_count": 673,
   "id": "6d3584ae-5611-4137-b0c6-5e7fd85be898",
   "metadata": {
    "tags": []
   },
   "outputs": [],
   "source": [
    "functionDef = functions_v2.Function(\n",
    "    name = f\"projects/{PROJECT_ID}/locations/{REGION}/functions/{function_name.replace('_', '-')}\",\n",
    "    build_config = functions_v2.BuildConfig(\n",
    "        runtime = 'python312',\n",
    "        entry_point = f'{function_name}',\n",
    "        source = functions_v2.Source(\n",
    "            storage_source = functions_v2.StorageSource(\n",
    "                bucket = bucket.name,\n",
    "                object_ = blob.name\n",
    "            )\n",
    "        ),\n",
    "    ),\n",
    "    service_config = functions_v2.ServiceConfig(\n",
    "        timeout_seconds = 10,\n",
    "        available_memory = '128Mi',\n",
    "        max_instance_count = 10,\n",
    "        max_instance_request_concurrency = 1\n",
    "    ),\n",
    "    environment = functions_v2.Environment(2) \n",
    ")"
   ]
  },
  {
   "cell_type": "code",
   "execution_count": 674,
   "id": "893bf7e3-b26a-4f5e-910c-601ad8ffb809",
   "metadata": {
    "tags": []
   },
   "outputs": [],
   "source": [
    "#!gcloud functions runtimes list"
   ]
  },
  {
   "cell_type": "code",
   "execution_count": 675,
   "id": "938752aa-fb5c-42ea-bf82-9a0b994a713f",
   "metadata": {
    "tags": []
   },
   "outputs": [],
   "source": [
    "#!gcloud functions event-types list"
   ]
  },
  {
   "cell_type": "code",
   "execution_count": 676,
   "id": "7f1b9289-e407-444a-baf8-606cf85ce382",
   "metadata": {
    "tags": []
   },
   "outputs": [],
   "source": [
    "if function:\n",
    "    operation = functions_client.update_function(\n",
    "        function = functionDef\n",
    "    )\n",
    "else:\n",
    "    operation = functions_client.create_function(\n",
    "        parent = f\"projects/{PROJECT_ID}/locations/{REGION}\",\n",
    "        function = functionDef,\n",
    "        function_id = function_name.replace('_', '-')\n",
    "    )"
   ]
  },
  {
   "cell_type": "code",
   "execution_count": 677,
   "id": "75e26326-8e0e-4f03-952f-b0351eb35797",
   "metadata": {
    "tags": []
   },
   "outputs": [
    {
     "name": "stdout",
     "output_type": "stream",
     "text": [
      "name: \"projects/statmike-mlops-349915/locations/us-central1/functions/tracking-pixel\"\n",
      "build_config {\n",
      "  build: \"projects/1026793852137/locations/us-central1/builds/ae54cd87-dd29-482b-a9d1-7d2b6f1b480a\"\n",
      "  runtime: \"python312\"\n",
      "  entry_point: \"tracking_pixel\"\n",
      "  source {\n",
      "    storage_source {\n",
      "      bucket: \"gcf-v2-sources-1026793852137-us-central1\"\n",
      "      object_: \"tracking-pixel/function-source.zip\"\n",
      "      generation: 1711474296978591\n",
      "    }\n",
      "  }\n",
      "  docker_repository: \"projects/statmike-mlops-349915/locations/us-central1/repositories/gcf-artifacts\"\n",
      "  source_provenance {\n",
      "    resolved_storage_source {\n",
      "      bucket: \"gcf-v2-sources-1026793852137-us-central1\"\n",
      "      object_: \"tracking-pixel/function-source.zip\"\n",
      "      generation: 1711474296978591\n",
      "    }\n",
      "  }\n",
      "  docker_registry: ARTIFACT_REGISTRY\n",
      "}\n",
      "service_config {\n",
      "  service: \"projects/statmike-mlops-349915/locations/us-central1/services/tracking-pixel\"\n",
      "  timeout_seconds: 10\n",
      "  max_instance_count: 10\n",
      "  ingress_settings: ALLOW_ALL\n",
      "  uri: \"https://tracking-pixel-urlxi72dpa-uc.a.run.app\"\n",
      "  service_account_email: \"1026793852137-compute@developer.gserviceaccount.com\"\n",
      "  available_memory: \"128Mi\"\n",
      "  all_traffic_on_latest_revision: true\n",
      "  revision: \"tracking-pixel-00020-zuk\"\n",
      "  max_instance_request_concurrency: 1\n",
      "  available_cpu: \"0.0833\"\n",
      "}\n",
      "state: ACTIVE\n",
      "update_time {\n",
      "  seconds: 1711474297\n",
      "  nanos: 37782691\n",
      "}\n",
      "environment: GEN_2\n",
      "url: \"https://us-central1-statmike-mlops-349915.cloudfunctions.net/tracking-pixel\"\n",
      "\n"
     ]
    }
   ],
   "source": [
    "response = operation.result()\n",
    "print(response)"
   ]
  },
  {
   "cell_type": "code",
   "execution_count": 678,
   "id": "4b8f0ef6-edae-48ac-98ef-604aa46bccd9",
   "metadata": {
    "tags": []
   },
   "outputs": [
    {
     "data": {
      "text/plain": [
       "'https://us-central1-statmike-mlops-349915.cloudfunctions.net/tracking-pixel'"
      ]
     },
     "execution_count": 678,
     "metadata": {},
     "output_type": "execute_result"
    }
   ],
   "source": [
    "response.url"
   ]
  },
  {
   "cell_type": "markdown",
   "id": "689be5ee-1180-40b6-86c0-73a449433c32",
   "metadata": {},
   "source": [
    "### Make Public\n",
    "\n",
    "The public/not-public status will persist from above."
   ]
  },
  {
   "cell_type": "markdown",
   "id": "41741ba3-1b8b-42a7-9db1-1c3fcf7305b9",
   "metadata": {},
   "source": [
    "### Test Function"
   ]
  },
  {
   "cell_type": "code",
   "execution_count": 638,
   "id": "1fd7d9e8-635a-4d0f-b4fd-df7eac231718",
   "metadata": {
    "tags": []
   },
   "outputs": [],
   "source": [
    "test_response = !curl -s POST 'https://us-central1-statmike-mlops-349915.cloudfunctions.net/tracking-pixel?path=statmike&file=tester'"
   ]
  },
  {
   "cell_type": "code",
   "execution_count": 639,
   "id": "99e64e42-474c-4e9e-a619-08e15c0f7d18",
   "metadata": {
    "tags": []
   },
   "outputs": [
    {
     "data": {
      "text/plain": [
       "['�PNG',\n",
       " '\\x1a',\n",
       " '\\x00\\x00\\x00',\n",
       " 'IHDR\\x00\\x00\\x00\\x01\\x00\\x00\\x00\\x01\\x08\\x06\\x00\\x00\\x00\\x1f\\x15ĉ\\x00\\x00\\x00',\n",
       " 'IDATx�c````\\x00\\x00\\x00\\x05\\x00\\x01��E@\\x00\\x00\\x00\\x00IEND�B`�']"
      ]
     },
     "execution_count": 639,
     "metadata": {},
     "output_type": "execute_result"
    }
   ],
   "source": [
    "test_response"
   ]
  },
  {
   "cell_type": "code",
   "execution_count": 640,
   "id": "7584c969-5c10-46aa-ba53-00132f2afc63",
   "metadata": {
    "tags": []
   },
   "outputs": [
    {
     "name": "stdout",
     "output_type": "stream",
     "text": [
      "https://us-central1-statmike-mlops-349915.cloudfunctions.net/tracking-pixel?path=statmike&file=tester\n"
     ]
    }
   ],
   "source": [
    "print(f\"{response.url}?path=statmike&file=tester\")"
   ]
  },
  {
   "cell_type": "code",
   "execution_count": 641,
   "id": "c46ef18f-ca65-4899-b380-de7174da8e90",
   "metadata": {
    "tags": []
   },
   "outputs": [
    {
     "name": "stdout",
     "output_type": "stream",
     "text": [
      "https://us-central1-statmike-mlops-349915.cloudfunctions.net/tracking-pixel?path=notstatmike&file=tester\n"
     ]
    }
   ],
   "source": [
    "print(f\"{response.url}?path=notstatmike&file=tester\")"
   ]
  },
  {
   "cell_type": "markdown",
   "id": "be184229-d20e-4115-9c3e-ffb28f0cfe0f",
   "metadata": {},
   "source": [
    "This is a markdown cell.  The tracking link is tested below with an image inclusion in markdown with `![]()`:\n",
    "\n",
    "Begin positive test:\n",
    "\n",
    "![](https://us-central1-statmike-mlops-349915.cloudfunctions.net/tracking-pixel?path=statmike&file=tester)\n",
    "\n",
    "End positive test\n",
    "\n",
    "Begin negative test:\n",
    "\n",
    "![](https://us-central1-statmike-mlops-349915.cloudfunctions.net/tracking-pixel?path=notstatmike&file=tester)\n",
    "\n",
    "End negative test"
   ]
  },
  {
   "cell_type": "markdown",
   "id": "668e619d-01ba-41d7-972b-6093cca0111d",
   "metadata": {},
   "source": [
    "---\n",
    "## Prepare For Repo Test"
   ]
  },
  {
   "cell_type": "markdown",
   "id": "55a74e0f-b85a-4bff-9a6d-5ef501396aef",
   "metadata": {},
   "source": [
    "### Remove test records from BigQuery Table"
   ]
  },
  {
   "cell_type": "code",
   "execution_count": 642,
   "id": "6b9690b2-3cb3-4fa9-98aa-75bb26d848a3",
   "metadata": {
    "tags": []
   },
   "outputs": [
    {
     "data": {
      "text/plain": [
       "<google.cloud.bigquery.table._EmptyRowIterator at 0x7fb1136f0970>"
      ]
     },
     "execution_count": 642,
     "metadata": {},
     "output_type": "execute_result"
    }
   ],
   "source": [
    "job = bq.query(f'TRUNCATE TABLE `{PROJECT_ID}.{SERIES}.{EXPERIMENT}_event_capture`;')\n",
    "job.result()"
   ]
  },
  {
   "cell_type": "markdown",
   "id": "2884f793-42ce-4e4c-b1fc-1a8f1f221463",
   "metadata": {},
   "source": [
    "## Update Repository\n",
    "\n",
    "See updates to ['../../headers/add_headers.ipynb']('../../headers/add_headers.ipynb')"
   ]
  },
  {
   "cell_type": "markdown",
   "id": "fc525f7b-f1d4-45bc-8d8c-88b2e5ff70a4",
   "metadata": {
    "tags": []
   },
   "source": [
    "## TODO\n",
    "\n",
    "- Tasks\n",
    "    - run as new sevice account with minimum roles\n",
    "    - add testing to function\n",
    "\n",
    "- Notes\n",
    "    - GA4 data timestamps are UTC"
   ]
  }
 ],
 "metadata": {
  "environment": {
   "kernel": "conda-root-py",
   "name": "workbench-notebooks.m115",
   "type": "gcloud",
   "uri": "gcr.io/deeplearning-platform-release/workbench-notebooks:m115"
  },
  "kernelspec": {
   "display_name": "Python 3 (ipykernel)",
   "language": "python",
   "name": "conda-root-py"
  },
  "language_info": {
   "codemirror_mode": {
    "name": "ipython",
    "version": 3
   },
   "file_extension": ".py",
   "mimetype": "text/x-python",
   "name": "python",
   "nbconvert_exporter": "python",
   "pygments_lexer": "ipython3",
   "version": "3.10.13"
  }
 },
 "nbformat": 4,
 "nbformat_minor": 5
}
