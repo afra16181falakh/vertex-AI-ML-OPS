{
 "cells": [
  {
   "cell_type": "markdown",
   "id": "ec4a8858",
   "metadata": {},
   "source": [
    "![tracker](https://us-central1-vertex-ai-mlops-369716.cloudfunctions.net/pixel-tracking?path=statmike%2Fvertex-ai-mlops%2Farchitectures%2Fheaders&file=add_headers_example.ipynb)\n",
    "<!--- header table --->\n",
    "<table align=\"left\">\n",
    "  <td style=\"text-align: center\">\n",
    "    <a href=\"https://colab.research.google.com/github/statmike/vertex-ai-mlops/blob/main/architectures/headers/add_headers_example.ipynb\">\n",
    "      <img width=\"32px\" src=\"https://www.gstatic.com/pantheon/images/bigquery/welcome_page/colab-logo.svg\" alt=\"Google Colaboratory logo\">\n",
    "      <br>Run in<br>Colab\n",
    "    </a>\n",
    "  </td>\n",
    "  <td style=\"text-align: center\">\n",
    "    <a href=\"https://console.cloud.google.com/vertex-ai/colab/import/https%3A%2F%2Fraw.githubusercontent.com%2Fstatmike%2Fvertex-ai-mlops%2Fmain%2Farchitectures%2Fheaders%2Fadd_headers_example.ipynb\">\n",
    "      <img width=\"32px\" src=\"https://lh3.googleusercontent.com/JmcxdQi-qOpctIvWKgPtrzZdJJK-J3sWE1RsfjZNwshCFgE_9fULcNpuXYTilIR2hjwN\" alt=\"Google Cloud Colab Enterprise logo\">\n",
    "      <br>Run in<br>Colab Enterprise\n",
    "    </a>\n",
    "  </td>      \n",
    "  <td style=\"text-align: center\">\n",
    "    <a href=\"https://github.com/statmike/vertex-ai-mlops/blob/main/architectures/headers/add_headers_example.ipynb\">\n",
    "      <img width=\"32px\" src=\"https://www.svgrepo.com/download/217753/github.svg\" alt=\"GitHub logo\">\n",
    "      <br>View on<br>GitHub\n",
    "    </a>\n",
    "  </td>\n",
    "  <td style=\"text-align: center\">\n",
    "    <a href=\"https://console.cloud.google.com/vertex-ai/workbench/deploy-notebook?download_url=https://raw.githubusercontent.com/statmike/vertex-ai-mlops/main/architectures/headers/add_headers_example.ipynb\">\n",
    "      <img width=\"32px\" src=\"https://www.gstatic.com/images/branding/gcpiconscolors/vertexai/v1/32px.svg\" alt=\"Vertex AI logo\">\n",
    "      <br>Open in<br>Vertex AI Workbench\n",
    "    </a>\n",
    "  </td>\n",
    "</table>"
   ]
  },
  {
   "cell_type": "markdown",
   "id": "88c781f8-9542-4f64-90e4-e108fa499fce",
   "metadata": {},
   "source": [
    "# Add Notebook Headers\n",
    "\n",
    "Insert/Edit the first cell of all `.ipynb` and `.md` files in this repository so that they have a table of links to open in Colab, Enterprise Colab, GitHub, Vertex AI Workbench.\n",
    "\n",
    "Packages Leveraged:\n",
    "- nbformat: https://nbformat.readthedocs.io/en/latest/index.html\n",
    "\n"
   ]
  },
  {
   "cell_type": "markdown",
   "id": "be9513e7-54ba-4b45-b043-e5267d7dc3af",
   "metadata": {},
   "source": [
    "---\n",
    "## Setup"
   ]
  },
  {
   "cell_type": "markdown",
   "id": "77229270-ee65-4e6f-a7ea-12fec473ce08",
   "metadata": {},
   "source": [
    "Imports:"
   ]
  },
  {
   "cell_type": "code",
   "execution_count": 48,
   "id": "ef48c2ec-3186-4d71-8dfd-bc838fd13f87",
   "metadata": {
    "tags": []
   },
   "outputs": [],
   "source": [
    "#!pip install nbformat -U"
   ]
  },
  {
   "cell_type": "code",
   "execution_count": 49,
   "id": "5e63d541-eeb0-413a-a908-f5dcc284bfa4",
   "metadata": {
    "tags": []
   },
   "outputs": [
    {
     "data": {
      "text/plain": [
       "nbformat.NO_CONVERT"
      ]
     },
     "execution_count": 49,
     "metadata": {},
     "output_type": "execute_result"
    }
   ],
   "source": [
    "import os, json, urllib.parse, IPython\n",
    "\n",
    "import nbformat as nbf\n",
    "nbf.NO_CONVERT"
   ]
  },
  {
   "cell_type": "markdown",
   "id": "1a6119b3-484d-4421-a61f-02168575fde4",
   "metadata": {},
   "source": [
    "Parameters:"
   ]
  },
  {
   "cell_type": "code",
   "execution_count": 50,
   "id": "1c9517c0-475e-4fa8-9c22-6b82ffc934b9",
   "metadata": {
    "tags": []
   },
   "outputs": [],
   "source": [
    "measurement_id = 'G-6VDTYWLKX6'\n",
    "url = 'https://www.google-analytics.com/collect?v=2'\n",
    "track_parms = f'&tid={measurement_id}&cid=1&en=page_view&sid=1'"
   ]
  },
  {
   "cell_type": "markdown",
   "id": "0b794727-080a-4266-9081-b56e2aa51caf",
   "metadata": {},
   "source": [
    "---\n",
    "## Examine File Structures"
   ]
  },
  {
   "cell_type": "markdown",
   "id": "693137cf-da4d-42b8-8889-0b656a6945c5",
   "metadata": {},
   "source": [
    "---\n",
    "### Reading `.ipynb` With JSON\n",
    "\n",
    "The cell contents in `source` are a list of strings."
   ]
  },
  {
   "cell_type": "code",
   "execution_count": 51,
   "id": "399c6071-c36c-47b4-aff6-3259264b5a97",
   "metadata": {
    "tags": []
   },
   "outputs": [],
   "source": [
    "with open('./example.ipynb', 'r') as reader:\n",
    "    content = json.loads(reader.read())"
   ]
  },
  {
   "cell_type": "code",
   "execution_count": 52,
   "id": "bcf65dcc-c959-4e7b-b052-95b7f08e3444",
   "metadata": {
    "tags": []
   },
   "outputs": [
    {
     "data": {
      "text/plain": [
       "['![ga4](https://www.google-analytics.com/collect?v=2&tid=G-6VDTYWLKX6&cid=1&en=page_view&sid=1&dl=statmike%2Fvertex-ai-mlops%2Farchitectures%2Fheaders&dt=example.ipynb)\\n',\n",
       " '<!--- header table --->\\n',\n",
       " '<table align=\"left\">\\n',\n",
       " '  <td style=\"text-align: center\">\\n',\n",
       " '    <a href=\"https://colab.research.google.com/github/statmike/vertex-ai-mlops/blob/main/architectures/headers/example.ipynb\">\\n']"
      ]
     },
     "execution_count": 52,
     "metadata": {},
     "output_type": "execute_result"
    }
   ],
   "source": [
    "content['cells'][0]['source'][0:5]"
   ]
  },
  {
   "cell_type": "code",
   "execution_count": 53,
   "id": "21d738d9-91ff-4625-ad01-44007bf888e5",
   "metadata": {
    "tags": []
   },
   "outputs": [
    {
     "data": {
      "text/plain": [
       "[\"PROJECT_ID = 'statmike-mlops-349915' # replace with project ID\"]"
      ]
     },
     "execution_count": 53,
     "metadata": {},
     "output_type": "execute_result"
    }
   ],
   "source": [
    "content['cells'][3]['source'][0:5]"
   ]
  },
  {
   "cell_type": "markdown",
   "id": "2239ff9e-ad56-46c9-b467-633277cc1fac",
   "metadata": {},
   "source": [
    "---\n",
    "### Reading `.ipynb` With `nbformat`\n",
    "\n",
    "The cell contents in `source` are combined into a string with line returns (`\\n`)."
   ]
  },
  {
   "cell_type": "code",
   "execution_count": 54,
   "id": "ae949c11-f054-40be-8a76-e72f6bcfc747",
   "metadata": {
    "tags": []
   },
   "outputs": [],
   "source": [
    "nb = nbf.read('./example.ipynb', nbf.NO_CONVERT)"
   ]
  },
  {
   "cell_type": "code",
   "execution_count": 55,
   "id": "4da98131-da7c-42e4-bc0d-6f3defb4ae41",
   "metadata": {
    "tags": []
   },
   "outputs": [
    {
     "data": {
      "text/plain": [
       "'![ga4](https://www.google-analytics.com/collect?v=2&tid=G-6VDTYWLKX6&cid=1&en=page_view&sid=1&dl=statmike%2Fvertex-ai-mlops%2Farchitectures%2Fheaders&dt=example.ipynb)\\n<!--- header table --->\\n<table align=\"left\">\\n  <td style=\"text-align: center\">\\n    <a href=\"https://colab.research.google.com/github/statmike/vertex-ai-mlops/blob/main/architectures/headers/example.ipynb\">\\n      <img src=\"https://cloud.google.com/ml-engine/images/colab-logo-32px.png\" alt=\"Google Colaboratory logo\">\\n      <br>Run i'"
      ]
     },
     "execution_count": 55,
     "metadata": {},
     "output_type": "execute_result"
    }
   ],
   "source": [
    "nb['cells'][0]['source'][0:500]"
   ]
  },
  {
   "cell_type": "code",
   "execution_count": 56,
   "id": "7f08346b-e18f-42c3-a219-8477c41627ec",
   "metadata": {
    "tags": []
   },
   "outputs": [
    {
     "name": "stdout",
     "output_type": "stream",
     "text": [
      "![ga4](https://www.google-analytics.com/collect?v=2&tid=G-6VDTYWLKX6&cid=1&en=page_view&sid=1&dl=statmike%2Fvertex-ai-mlops%2Farchitectures%2Fheaders&dt=example.ipynb)\n",
      "<!--- header table --->\n",
      "<table align=\"left\">\n",
      "  <td style=\"text-align: center\">\n",
      "    <a href=\"https://colab.research.google.com/github/statmike/vertex-ai-mlops/blob/main/architectures/headers/example.ipynb\">\n",
      "      <img src=\"https://cloud.google.com/ml-engine/images/colab-logo-32px.png\" alt=\"Google Colaboratory logo\">\n",
      "      <br>Run i\n"
     ]
    }
   ],
   "source": [
    "print(nb['cells'][0]['source'][0:500])"
   ]
  },
  {
   "cell_type": "code",
   "execution_count": 57,
   "id": "7b9252c4-32c8-4b95-bbc4-f6143ef79df3",
   "metadata": {
    "tags": []
   },
   "outputs": [
    {
     "data": {
      "text/plain": [
       "\"PROJECT_ID = 'statmike-mlops-349915' # replace with project ID\""
      ]
     },
     "execution_count": 57,
     "metadata": {},
     "output_type": "execute_result"
    }
   ],
   "source": [
    "nb['cells'][3]['source'][0:500]"
   ]
  },
  {
   "cell_type": "code",
   "execution_count": 58,
   "id": "f0d1adc6-b39a-42fc-8c03-f7830a24277b",
   "metadata": {
    "tags": []
   },
   "outputs": [
    {
     "name": "stdout",
     "output_type": "stream",
     "text": [
      "PROJECT_ID = 'statmike-mlops-349915' # replace with project ID\n"
     ]
    }
   ],
   "source": [
    "print(nb['cells'][3]['source'][0:500])"
   ]
  },
  {
   "cell_type": "markdown",
   "id": "be19bd0b-95d6-44b7-8e53-96a88a320857",
   "metadata": {
    "tags": []
   },
   "source": [
    "---\n",
    "### Reading `.md` with `open()` and `.readlines()`"
   ]
  },
  {
   "cell_type": "code",
   "execution_count": 59,
   "id": "5f6ab729-5cf0-43da-bc23-941dd1082b5e",
   "metadata": {
    "tags": []
   },
   "outputs": [],
   "source": [
    "with open('./example.md', 'r') as reader:\n",
    "    content = reader.readlines()"
   ]
  },
  {
   "cell_type": "code",
   "execution_count": 60,
   "id": "10596b8f-e423-45f6-8504-c96618c4f0c5",
   "metadata": {
    "tags": []
   },
   "outputs": [
    {
     "data": {
      "text/plain": [
       "['![ga4](https://www.google-analytics.com/collect?v=2&tid=G-6VDTYWLKX6&cid=1&en=page_view&sid=1&dl=statmike%2Fvertex-ai-mlops%2Farchitectures%2Fheaders&dt=example.md)\\n',\n",
       " '<!--- header table --->\\n',\n",
       " '<table align=\"left\">     \\n',\n",
       " '  <td style=\"text-align: center\">\\n',\n",
       " '    <a href=\"https://github.com/statmike/vertex-ai-mlops/blob/main/architectures/headers/example.md\">\\n']"
      ]
     },
     "execution_count": 60,
     "metadata": {},
     "output_type": "execute_result"
    }
   ],
   "source": [
    "content[0:5]"
   ]
  },
  {
   "cell_type": "markdown",
   "id": "e7924efd-887c-421c-82ae-d761d1a547ec",
   "metadata": {},
   "source": [
    "---\n",
    "## Create Header\n",
    "\n",
    "**Notes:** URL Encoding\n",
    "- `urllib.parse.qoute_plus()` replaces spaces with `+` which works for the query part of a URL (after a `?`)\n",
    "- `urllib.parse.qoute()` replaces spaces with `%20` which works for the main URL"
   ]
  },
  {
   "cell_type": "markdown",
   "id": "62c4a051-79b8-4bea-8a6f-98f02faa6e96",
   "metadata": {},
   "source": [
    "### Listing Files"
   ]
  },
  {
   "cell_type": "code",
   "execution_count": 61,
   "id": "a29df13e-22ec-40b6-ab31-4e4a448a7ea8",
   "metadata": {
    "tags": []
   },
   "outputs": [
    {
     "name": "stdout",
     "output_type": "stream",
     "text": [
      "/home/jupyter/vertex-ai-mlops/architectures/headers example.md\n",
      "/home/jupyter/vertex-ai-mlops/architectures/headers add_headers_example.ipynb\n",
      "/home/jupyter/vertex-ai-mlops/architectures/headers example.ipynb\n",
      "/home/jupyter/vertex-ai-mlops/architectures/headers example 2.ipynb\n",
      "/home/jupyter/vertex-ai-mlops/architectures/headers add_headers.ipynb\n",
      "/home/jupyter/vertex-ai-mlops/architectures/headers/.ipynb_checkpoints example-checkpoint.md\n"
     ]
    }
   ],
   "source": [
    "for root, dirs, files in os.walk(r'/home/jupyter/vertex-ai-mlops'): #os.walk('../../.'):\n",
    "    if root.startswith('/home/jupyter/vertex-ai-mlops/architectures/headers'):\n",
    "        for file in files:\n",
    "            if file.endswith(('.md')):\n",
    "                print(root, file)\n",
    "            if file.endswith(('.ipynb')) and not root.endswith(('.ipynb_checkpoints')):\n",
    "                print(root, file)"
   ]
  },
  {
   "cell_type": "markdown",
   "id": "d8078a5f-8b23-41e6-b253-9da0b2c4bb06",
   "metadata": {},
   "source": [
    "### Making GA4 URL"
   ]
  },
  {
   "cell_type": "code",
   "execution_count": 62,
   "id": "d1184fa7-1622-425f-9b74-d7365093bf79",
   "metadata": {
    "tags": []
   },
   "outputs": [
    {
     "name": "stdout",
     "output_type": "stream",
     "text": [
      "/home/jupyter/vertex-ai-mlops/architectures/headers example.md\n",
      "https://www.google-analytics.com/collect?v=2&tid=G-6VDTYWLKX6&cid=1&en=page_view&sid=1&dl=statmike%2Fvertex-ai-mlops%2Farchitectures%2Fheaders&dt=example.md\n",
      "\n",
      "/home/jupyter/vertex-ai-mlops/architectures/headers add_headers_example.ipynb\n",
      "https://www.google-analytics.com/collect?v=2&tid=G-6VDTYWLKX6&cid=1&en=page_view&sid=1&dl=statmike%2Fvertex-ai-mlops%2Farchitectures%2Fheaders&dt=add_headers_example.ipynb\n",
      "\n",
      "/home/jupyter/vertex-ai-mlops/architectures/headers example.ipynb\n",
      "https://www.google-analytics.com/collect?v=2&tid=G-6VDTYWLKX6&cid=1&en=page_view&sid=1&dl=statmike%2Fvertex-ai-mlops%2Farchitectures%2Fheaders&dt=example.ipynb\n",
      "\n",
      "/home/jupyter/vertex-ai-mlops/architectures/headers example 2.ipynb\n",
      "https://www.google-analytics.com/collect?v=2&tid=G-6VDTYWLKX6&cid=1&en=page_view&sid=1&dl=statmike%2Fvertex-ai-mlops%2Farchitectures%2Fheaders&dt=example+2.ipynb\n",
      "\n",
      "/home/jupyter/vertex-ai-mlops/architectures/headers add_headers.ipynb\n",
      "https://www.google-analytics.com/collect?v=2&tid=G-6VDTYWLKX6&cid=1&en=page_view&sid=1&dl=statmike%2Fvertex-ai-mlops%2Farchitectures%2Fheaders&dt=add_headers.ipynb\n",
      "\n",
      "/home/jupyter/vertex-ai-mlops/architectures/headers/.ipynb_checkpoints example-checkpoint.md\n",
      "https://www.google-analytics.com/collect?v=2&tid=G-6VDTYWLKX6&cid=1&en=page_view&sid=1&dl=statmike%2Fvertex-ai-mlops%2Farchitectures%2Fheaders%2F.ipynb_checkpoints&dt=example-checkpoint.md\n",
      "\n"
     ]
    }
   ],
   "source": [
    "for root, dirs, files in os.walk(r'/home/jupyter/vertex-ai-mlops'): #os.walk('../../.'):\n",
    "    if root.startswith('/home/jupyter/vertex-ai-mlops/architectures/headers'):\n",
    "        for file in files:\n",
    "            # GA4 URL\n",
    "            dl = urllib.parse.quote_plus(root.replace('/home/jupyter/', 'statmike/'))\n",
    "            dt = urllib.parse.quote_plus(file)\n",
    "            ga4 = url + track_parms + f\"&dl={dl}&dt={dt}\"\n",
    "            if file.endswith(('.md')):\n",
    "                print(root, file)\n",
    "                print(ga4)\n",
    "                print('')\n",
    "            if file.endswith(('.ipynb')) and not root.endswith(('.ipynb_checkpoints')):\n",
    "                print(root, file)\n",
    "                print(ga4)\n",
    "                print('')"
   ]
  },
  {
   "cell_type": "markdown",
   "id": "46beb950-f1bf-4faf-bc8d-7175a14356fc",
   "metadata": {},
   "source": [
    "### Making File URLs\n",
    "\n",
    "URLs for GA4 and for opening in Colab, Enterprise Colab, GitHub, and Vertex AI Workbench Instances (WBI)"
   ]
  },
  {
   "cell_type": "code",
   "execution_count": 63,
   "id": "94e69a4e-d311-4a7a-8787-399ca588f4ba",
   "metadata": {
    "tags": []
   },
   "outputs": [],
   "source": [
    "colab_prefix = 'https://colab.research.google.com/github/'\n",
    "ecolab_prefix = 'https://console.cloud.google.com/vertex-ai/colab/import/'\n",
    "github_prefix = 'https://github.com/'\n",
    "github_raw_prefix = 'https://raw.githubusercontent.com/'\n",
    "wbi_prefix = 'https://console.cloud.google.com/vertex-ai/workbench/deploy-notebook?download_url='"
   ]
  },
  {
   "cell_type": "code",
   "execution_count": 64,
   "id": "c069f4e5-9365-44b5-beef-63e11662c38f",
   "metadata": {
    "tags": []
   },
   "outputs": [
    {
     "name": "stdout",
     "output_type": "stream",
     "text": [
      "/home/jupyter/vertex-ai-mlops/architectures/headers example.md\n",
      "https://www.google-analytics.com/collect?v=2&tid=G-6VDTYWLKX6&cid=1&en=page_view&sid=1&dl=statmike%2Fvertex-ai-mlops%2Farchitectures%2Fheaders&dt=example.md\n",
      "https://colab.research.google.com/github/statmike/vertex-ai-mlops/blob/main/architectures/headers/example.md\n",
      "https://console.cloud.google.com/vertex-ai/colab/import/https%3A//raw.githubusercontent.com/statmike/vertex-ai-mlops/main/architectures/headers/example.md\n",
      "https://github.com/statmike/vertex-ai-mlops/blob/main/architectures/headers/example.md\n",
      "https://console.cloud.google.com/vertex-ai/workbench/deploy-notebook?download_url=https%3A//raw.githubusercontent.com/statmike/vertex-ai-mlops/main/architectures/headers/example.md\n",
      "\n",
      "/home/jupyter/vertex-ai-mlops/architectures/headers add_headers_example.ipynb\n",
      "https://www.google-analytics.com/collect?v=2&tid=G-6VDTYWLKX6&cid=1&en=page_view&sid=1&dl=statmike%2Fvertex-ai-mlops%2Farchitectures%2Fheaders&dt=add_headers_example.ipynb\n",
      "https://colab.research.google.com/github/statmike/vertex-ai-mlops/blob/main/architectures/headers/add_headers_example.ipynb\n",
      "https://console.cloud.google.com/vertex-ai/colab/import/https%3A//raw.githubusercontent.com/statmike/vertex-ai-mlops/main/architectures/headers/add_headers_example.ipynb\n",
      "https://github.com/statmike/vertex-ai-mlops/blob/main/architectures/headers/add_headers_example.ipynb\n",
      "https://console.cloud.google.com/vertex-ai/workbench/deploy-notebook?download_url=https%3A//raw.githubusercontent.com/statmike/vertex-ai-mlops/main/architectures/headers/add_headers_example.ipynb\n",
      "\n",
      "/home/jupyter/vertex-ai-mlops/architectures/headers example.ipynb\n",
      "https://www.google-analytics.com/collect?v=2&tid=G-6VDTYWLKX6&cid=1&en=page_view&sid=1&dl=statmike%2Fvertex-ai-mlops%2Farchitectures%2Fheaders&dt=example.ipynb\n",
      "https://colab.research.google.com/github/statmike/vertex-ai-mlops/blob/main/architectures/headers/example.ipynb\n",
      "https://console.cloud.google.com/vertex-ai/colab/import/https%3A//raw.githubusercontent.com/statmike/vertex-ai-mlops/main/architectures/headers/example.ipynb\n",
      "https://github.com/statmike/vertex-ai-mlops/blob/main/architectures/headers/example.ipynb\n",
      "https://console.cloud.google.com/vertex-ai/workbench/deploy-notebook?download_url=https%3A//raw.githubusercontent.com/statmike/vertex-ai-mlops/main/architectures/headers/example.ipynb\n",
      "\n",
      "/home/jupyter/vertex-ai-mlops/architectures/headers example 2.ipynb\n",
      "https://www.google-analytics.com/collect?v=2&tid=G-6VDTYWLKX6&cid=1&en=page_view&sid=1&dl=statmike%2Fvertex-ai-mlops%2Farchitectures%2Fheaders&dt=example+2.ipynb\n",
      "https://colab.research.google.com/github/statmike/vertex-ai-mlops/blob/main/architectures/headers/example%202.ipynb\n",
      "https://console.cloud.google.com/vertex-ai/colab/import/https%3A//raw.githubusercontent.com/statmike/vertex-ai-mlops/main/architectures/headers/example%202.ipynb\n",
      "https://github.com/statmike/vertex-ai-mlops/blob/main/architectures/headers/example%202.ipynb\n",
      "https://console.cloud.google.com/vertex-ai/workbench/deploy-notebook?download_url=https%3A//raw.githubusercontent.com/statmike/vertex-ai-mlops/main/architectures/headers/example%202.ipynb\n",
      "\n",
      "/home/jupyter/vertex-ai-mlops/architectures/headers add_headers.ipynb\n",
      "https://www.google-analytics.com/collect?v=2&tid=G-6VDTYWLKX6&cid=1&en=page_view&sid=1&dl=statmike%2Fvertex-ai-mlops%2Farchitectures%2Fheaders&dt=add_headers.ipynb\n",
      "https://colab.research.google.com/github/statmike/vertex-ai-mlops/blob/main/architectures/headers/add_headers.ipynb\n",
      "https://console.cloud.google.com/vertex-ai/colab/import/https%3A//raw.githubusercontent.com/statmike/vertex-ai-mlops/main/architectures/headers/add_headers.ipynb\n",
      "https://github.com/statmike/vertex-ai-mlops/blob/main/architectures/headers/add_headers.ipynb\n",
      "https://console.cloud.google.com/vertex-ai/workbench/deploy-notebook?download_url=https%3A//raw.githubusercontent.com/statmike/vertex-ai-mlops/main/architectures/headers/add_headers.ipynb\n",
      "\n"
     ]
    }
   ],
   "source": [
    "for root, dirs, files in os.walk(r'/home/jupyter/vertex-ai-mlops'): #os.walk('../../.'):\n",
    "    if root.startswith('/home/jupyter/vertex-ai-mlops/architectures/headers') and not root.endswith(('.ipynb_checkpoints')):\n",
    "        for file in files:\n",
    "            # GA4 URL\n",
    "            dl = urllib.parse.quote_plus(root.replace('/home/jupyter/', 'statmike/'))\n",
    "            dt = urllib.parse.quote_plus(file)\n",
    "            ga4 = url + track_parms + f\"&dl={dl}&dt={dt}\"\n",
    "            # GH URL Parts\n",
    "            gh_base = os.path.join(root.replace('/home/jupyter/', 'statmike/'), file).split('/')\n",
    "            colab = colab_prefix + '/'.join(gh_base[0:2]) + '/blob/main/' + urllib.parse.quote('/'.join(gh_base[2:]))\n",
    "            ecolab = ecolab_prefix + urllib.parse.quote(github_raw_prefix + '/'.join(gh_base[0:2]) + '/main/' + '/'.join(gh_base[2:]))\n",
    "            github = github_prefix + '/'.join(gh_base[0:2]) + '/blob/main/' + urllib.parse.quote('/'.join(gh_base[2:]))\n",
    "            wbi = wbi_prefix + urllib.parse.quote(github_raw_prefix + '/'.join(gh_base[0:2]) + '/main/' + '/'.join(gh_base[2:]))\n",
    "            download = github_raw_prefix + '/'.join(gh_base[0:2]) + '/main/' + urllib.parse.quote('/'.join(gh_base[2:]))\n",
    "            filename = gh_base[-1]\n",
    "            if file.endswith(('.md')):\n",
    "                print(root, file)\n",
    "                print(ga4)\n",
    "                print(colab)\n",
    "                print(ecolab)\n",
    "                print(github)\n",
    "                print(wbi)\n",
    "                print('')\n",
    "            if file.endswith(('.ipynb')):\n",
    "                print(root, file)\n",
    "                print(ga4)\n",
    "                print(colab)\n",
    "                print(ecolab)\n",
    "                print(github)\n",
    "                print(wbi)\n",
    "                print('')"
   ]
  },
  {
   "cell_type": "markdown",
   "id": "4b37e845-62c5-4ea4-9aaa-3c71852d6d03",
   "metadata": {
    "tags": []
   },
   "source": [
    "---\n",
    "### Making A Header Cell\n",
    "\n",
    "Material Icons: https://fonts.google.com/icons?icon.platform=web"
   ]
  },
  {
   "cell_type": "code",
   "execution_count": 65,
   "id": "5b0542c2-2ea5-493b-92a9-d54db1e4c4da",
   "metadata": {
    "tags": []
   },
   "outputs": [],
   "source": [
    "header = f'''![ga4]({ga4})\n",
    "<table align=\"left\">\n",
    "  <td style=\"text-align: center\">\n",
    "    <a href=\"{colab}\">\n",
    "      <img src=\"https://cloud.google.com/ml-engine/images/colab-logo-32px.png\" alt=\"Google Colaboratory logo\">\n",
    "      <br>Run in<br>Colab\n",
    "    </a>\n",
    "  </td>\n",
    "  <td style=\"text-align: center\">\n",
    "    <a href=\"{ecolab}\">\n",
    "      <img width=\"32px\" src=\"https://lh3.googleusercontent.com/JmcxdQi-qOpctIvWKgPtrzZdJJK-J3sWE1RsfjZNwshCFgE_9fULcNpuXYTilIR2hjwN\" alt=\"Google Cloud Colab Enterprise logo\">\n",
    "      <br>Run in<br>Colab Enterprise\n",
    "    </a>\n",
    "  </td>      \n",
    "  <td style=\"text-align: center\">\n",
    "    <a href=\"{github}\">\n",
    "      <img src=\"https://cloud.google.com/ml-engine/images/github-logo-32px.png\" alt=\"GitHub logo\">\n",
    "      <br>View on<br>GitHub\n",
    "    </a>\n",
    "  </td>\n",
    "  <td style=\"text-align: center\">\n",
    "    <a href=\"{wbi}\">\n",
    "      <img src=\"https://lh3.googleusercontent.com/UiNooY4LUgW_oTvpsNhPpQzsstV5W8F7rYgxgGBD85cWJoLmrOzhVs_ksK_vgx40SHs7jCqkTkCk=e14-rj-sc0xffffff-h130-w32\" alt=\"Vertex AI logo\">\n",
    "      <br>Open in<br>Vertex AI Workbench\n",
    "    </a>\n",
    "  </td>\n",
    "  <td style=\"text-align: center\">\n",
    "    <link rel=\"stylesheet\" href=\"https://fonts.googleapis.com/css2?family=Material+Symbols+Outlined:opsz,wght,FILL,GRAD@48,400,0,0\" />\n",
    "    <a href=\"{download}\" download=\"{filename}\">\n",
    "      <span class=\"material-symbols-outlined\">download</span>\n",
    "      <br>Download<br>This File\n",
    "    </a>\n",
    "  </td> \n",
    "</table>\n",
    "'''"
   ]
  },
  {
   "cell_type": "code",
   "execution_count": 66,
   "id": "322fc9a8-a9b7-4ddd-b62e-a8c22b4a5d00",
   "metadata": {
    "tags": []
   },
   "outputs": [
    {
     "name": "stdout",
     "output_type": "stream",
     "text": [
      "![ga4](https://www.google-analytics.com/collect?v=2&tid=G-6VDTYWLKX6&cid=1&en=page_view&sid=1&dl=statmike%2Fvertex-ai-mlops%2Farchitectures%2Fheaders&dt=add_headers.ipynb)\n",
      "<table align=\"left\">\n",
      "  <td style=\"text-align: center\">\n",
      "    <a href=\"https://colab.research.google.com/github/statmike/vertex-ai-mlops/blob/main/architectures/headers/add_headers.ipynb\">\n",
      "      <img src=\"https://cloud.google.com/ml-engine/images/colab-logo-32px.png\" alt=\"Google Colaboratory logo\">\n",
      "      <br>Run in<br>Colab\n",
      "    </a>\n",
      "  </td>\n",
      "  <td style=\"text-align: center\">\n",
      "    <a href=\"https://console.cloud.google.com/vertex-ai/colab/import/https%3A//raw.githubusercontent.com/statmike/vertex-ai-mlops/main/architectures/headers/add_headers.ipynb\">\n",
      "      <img width=\"32px\" src=\"https://lh3.googleusercontent.com/JmcxdQi-qOpctIvWKgPtrzZdJJK-J3sWE1RsfjZNwshCFgE_9fULcNpuXYTilIR2hjwN\" alt=\"Google Cloud Colab Enterprise logo\">\n",
      "      <br>Run in<br>Colab Enterprise\n",
      "    </a>\n",
      "  </td>      \n",
      "  <td style=\"text-align: center\">\n",
      "    <a href=\"https://github.com/statmike/vertex-ai-mlops/blob/main/architectures/headers/add_headers.ipynb\">\n",
      "      <img src=\"https://cloud.google.com/ml-engine/images/github-logo-32px.png\" alt=\"GitHub logo\">\n",
      "      <br>View on<br>GitHub\n",
      "    </a>\n",
      "  </td>\n",
      "  <td style=\"text-align: center\">\n",
      "    <a href=\"https://console.cloud.google.com/vertex-ai/workbench/deploy-notebook?download_url=https%3A//raw.githubusercontent.com/statmike/vertex-ai-mlops/main/architectures/headers/add_headers.ipynb\">\n",
      "      <img src=\"https://lh3.googleusercontent.com/UiNooY4LUgW_oTvpsNhPpQzsstV5W8F7rYgxgGBD85cWJoLmrOzhVs_ksK_vgx40SHs7jCqkTkCk=e14-rj-sc0xffffff-h130-w32\" alt=\"Vertex AI logo\">\n",
      "      <br>Open in<br>Vertex AI Workbench\n",
      "    </a>\n",
      "  </td>\n",
      "  <td style=\"text-align: center\">\n",
      "    <link rel=\"stylesheet\" href=\"https://fonts.googleapis.com/css2?family=Material+Symbols+Outlined:opsz,wght,FILL,GRAD@48,400,0,0\" />\n",
      "    <a href=\"https://raw.githubusercontent.com/statmike/vertex-ai-mlops/main/architectures/headers/add_headers.ipynb\" download=\"add_headers.ipynb\">\n",
      "      <span class=\"material-symbols-outlined\">download</span>\n",
      "      <br>Download<br>This File\n",
      "    </a>\n",
      "  </td> \n",
      "</table>\n",
      "\n"
     ]
    }
   ],
   "source": [
    "print(header)"
   ]
  },
  {
   "cell_type": "code",
   "execution_count": 67,
   "id": "d8d4e978-f5d5-4f8f-b8cb-741d6c6c58cb",
   "metadata": {
    "tags": []
   },
   "outputs": [
    {
     "data": {
      "text/markdown": [
       "![ga4](https://www.google-analytics.com/collect?v=2&tid=G-6VDTYWLKX6&cid=1&en=page_view&sid=1&dl=statmike%2Fvertex-ai-mlops%2Farchitectures%2Fheaders&dt=add_headers.ipynb)\n",
       "<table align=\"left\">\n",
       "  <td style=\"text-align: center\">\n",
       "    <a href=\"https://colab.research.google.com/github/statmike/vertex-ai-mlops/blob/main/architectures/headers/add_headers.ipynb\">\n",
       "      <img src=\"https://cloud.google.com/ml-engine/images/colab-logo-32px.png\" alt=\"Google Colaboratory logo\">\n",
       "      <br>Run in<br>Colab\n",
       "    </a>\n",
       "  </td>\n",
       "  <td style=\"text-align: center\">\n",
       "    <a href=\"https://console.cloud.google.com/vertex-ai/colab/import/https%3A//raw.githubusercontent.com/statmike/vertex-ai-mlops/main/architectures/headers/add_headers.ipynb\">\n",
       "      <img width=\"32px\" src=\"https://lh3.googleusercontent.com/JmcxdQi-qOpctIvWKgPtrzZdJJK-J3sWE1RsfjZNwshCFgE_9fULcNpuXYTilIR2hjwN\" alt=\"Google Cloud Colab Enterprise logo\">\n",
       "      <br>Run in<br>Colab Enterprise\n",
       "    </a>\n",
       "  </td>      \n",
       "  <td style=\"text-align: center\">\n",
       "    <a href=\"https://github.com/statmike/vertex-ai-mlops/blob/main/architectures/headers/add_headers.ipynb\">\n",
       "      <img src=\"https://cloud.google.com/ml-engine/images/github-logo-32px.png\" alt=\"GitHub logo\">\n",
       "      <br>View on<br>GitHub\n",
       "    </a>\n",
       "  </td>\n",
       "  <td style=\"text-align: center\">\n",
       "    <a href=\"https://console.cloud.google.com/vertex-ai/workbench/deploy-notebook?download_url=https%3A//raw.githubusercontent.com/statmike/vertex-ai-mlops/main/architectures/headers/add_headers.ipynb\">\n",
       "      <img src=\"https://lh3.googleusercontent.com/UiNooY4LUgW_oTvpsNhPpQzsstV5W8F7rYgxgGBD85cWJoLmrOzhVs_ksK_vgx40SHs7jCqkTkCk=e14-rj-sc0xffffff-h130-w32\" alt=\"Vertex AI logo\">\n",
       "      <br>Open in<br>Vertex AI Workbench\n",
       "    </a>\n",
       "  </td>\n",
       "  <td style=\"text-align: center\">\n",
       "    <link rel=\"stylesheet\" href=\"https://fonts.googleapis.com/css2?family=Material+Symbols+Outlined:opsz,wght,FILL,GRAD@48,400,0,0\" />\n",
       "    <a href=\"https://raw.githubusercontent.com/statmike/vertex-ai-mlops/main/architectures/headers/add_headers.ipynb\" download=\"add_headers.ipynb\">\n",
       "      <span class=\"material-symbols-outlined\">download</span>\n",
       "      <br>Download<br>This File\n",
       "    </a>\n",
       "  </td> \n",
       "</table>\n"
      ],
      "text/plain": [
       "<IPython.core.display.Markdown object>"
      ]
     },
     "execution_count": 67,
     "metadata": {},
     "output_type": "execute_result"
    }
   ],
   "source": [
    "IPython.display.Markdown(header)"
   ]
  },
  {
   "cell_type": "markdown",
   "id": "1a3c5d44-9d2b-4593-9803-88d30f8df74a",
   "metadata": {
    "tags": []
   },
   "source": [
    "---\n",
    "### Writing `.ipynb` with `nbformat`"
   ]
  },
  {
   "cell_type": "code",
   "execution_count": 68,
   "id": "16d8bce0-7919-4c12-8da5-a2d29bd91ca1",
   "metadata": {
    "tags": []
   },
   "outputs": [],
   "source": [
    "header_cell = nbf.v4.new_markdown_cell(source = header)"
   ]
  },
  {
   "cell_type": "code",
   "execution_count": 69,
   "id": "5edf6a63-8df8-4ad6-9858-620b58b601c3",
   "metadata": {
    "tags": []
   },
   "outputs": [
    {
     "data": {
      "text/plain": [
       "{'id': '08ac56e0',\n",
       " 'cell_type': 'markdown',\n",
       " 'source': '![ga4](https://www.google-analytics.com/collect?v=2&tid=G-6VDTYWLKX6&cid=1&en=page_view&sid=1&dl=statmike%2Fvertex-ai-mlops%2Farchitectures%2Fheaders&dt=add_headers.ipynb)\\n<table align=\"left\">\\n  <td style=\"text-align: center\">\\n    <a href=\"https://colab.research.google.com/github/statmike/vertex-ai-mlops/blob/main/architectures/headers/add_headers.ipynb\">\\n      <img src=\"https://cloud.google.com/ml-engine/images/colab-logo-32px.png\" alt=\"Google Colaboratory logo\">\\n      <br>Run in<br>Colab\\n    </a>\\n  </td>\\n  <td style=\"text-align: center\">\\n    <a href=\"https://console.cloud.google.com/vertex-ai/colab/import/https%3A//raw.githubusercontent.com/statmike/vertex-ai-mlops/main/architectures/headers/add_headers.ipynb\">\\n      <img width=\"32px\" src=\"https://lh3.googleusercontent.com/JmcxdQi-qOpctIvWKgPtrzZdJJK-J3sWE1RsfjZNwshCFgE_9fULcNpuXYTilIR2hjwN\" alt=\"Google Cloud Colab Enterprise logo\">\\n      <br>Run in<br>Colab Enterprise\\n    </a>\\n  </td>      \\n  <td style=\"text-align: center\">\\n    <a href=\"https://github.com/statmike/vertex-ai-mlops/blob/main/architectures/headers/add_headers.ipynb\">\\n      <img src=\"https://cloud.google.com/ml-engine/images/github-logo-32px.png\" alt=\"GitHub logo\">\\n      <br>View on<br>GitHub\\n    </a>\\n  </td>\\n  <td style=\"text-align: center\">\\n    <a href=\"https://console.cloud.google.com/vertex-ai/workbench/deploy-notebook?download_url=https%3A//raw.githubusercontent.com/statmike/vertex-ai-mlops/main/architectures/headers/add_headers.ipynb\">\\n      <img src=\"https://lh3.googleusercontent.com/UiNooY4LUgW_oTvpsNhPpQzsstV5W8F7rYgxgGBD85cWJoLmrOzhVs_ksK_vgx40SHs7jCqkTkCk=e14-rj-sc0xffffff-h130-w32\" alt=\"Vertex AI logo\">\\n      <br>Open in<br>Vertex AI Workbench\\n    </a>\\n  </td>\\n  <td style=\"text-align: center\">\\n    <link rel=\"stylesheet\" href=\"https://fonts.googleapis.com/css2?family=Material+Symbols+Outlined:opsz,wght,FILL,GRAD@48,400,0,0\" />\\n    <a href=\"https://raw.githubusercontent.com/statmike/vertex-ai-mlops/main/architectures/headers/add_headers.ipynb\" download=\"add_headers.ipynb\">\\n      <span class=\"material-symbols-outlined\">download</span>\\n      <br>Download<br>This File\\n    </a>\\n  </td> \\n</table>\\n',\n",
       " 'metadata': {}}"
      ]
     },
     "execution_count": 69,
     "metadata": {},
     "output_type": "execute_result"
    }
   ],
   "source": [
    "header_cell"
   ]
  },
  {
   "cell_type": "code",
   "execution_count": 70,
   "id": "6db6c6ec-8143-4777-9575-55b8b141e2c3",
   "metadata": {
    "tags": []
   },
   "outputs": [],
   "source": [
    "#nb['cells'].insert(0, header_cell) # for when header is new\n",
    "nb['cells'][0] = header_cell # for when header is being updated/replaced"
   ]
  },
  {
   "cell_type": "code",
   "execution_count": 71,
   "id": "246f03a1-11ff-496c-abc1-a4244cbc98c8",
   "metadata": {
    "tags": []
   },
   "outputs": [
    {
     "data": {
      "text/plain": [
       "{'id': '08ac56e0',\n",
       " 'cell_type': 'markdown',\n",
       " 'source': '![ga4](https://www.google-analytics.com/collect?v=2&tid=G-6VDTYWLKX6&cid=1&en=page_view&sid=1&dl=statmike%2Fvertex-ai-mlops%2Farchitectures%2Fheaders&dt=add_headers.ipynb)\\n<table align=\"left\">\\n  <td style=\"text-align: center\">\\n    <a href=\"https://colab.research.google.com/github/statmike/vertex-ai-mlops/blob/main/architectures/headers/add_headers.ipynb\">\\n      <img src=\"https://cloud.google.com/ml-engine/images/colab-logo-32px.png\" alt=\"Google Colaboratory logo\">\\n      <br>Run in<br>Colab\\n    </a>\\n  </td>\\n  <td style=\"text-align: center\">\\n    <a href=\"https://console.cloud.google.com/vertex-ai/colab/import/https%3A//raw.githubusercontent.com/statmike/vertex-ai-mlops/main/architectures/headers/add_headers.ipynb\">\\n      <img width=\"32px\" src=\"https://lh3.googleusercontent.com/JmcxdQi-qOpctIvWKgPtrzZdJJK-J3sWE1RsfjZNwshCFgE_9fULcNpuXYTilIR2hjwN\" alt=\"Google Cloud Colab Enterprise logo\">\\n      <br>Run in<br>Colab Enterprise\\n    </a>\\n  </td>      \\n  <td style=\"text-align: center\">\\n    <a href=\"https://github.com/statmike/vertex-ai-mlops/blob/main/architectures/headers/add_headers.ipynb\">\\n      <img src=\"https://cloud.google.com/ml-engine/images/github-logo-32px.png\" alt=\"GitHub logo\">\\n      <br>View on<br>GitHub\\n    </a>\\n  </td>\\n  <td style=\"text-align: center\">\\n    <a href=\"https://console.cloud.google.com/vertex-ai/workbench/deploy-notebook?download_url=https%3A//raw.githubusercontent.com/statmike/vertex-ai-mlops/main/architectures/headers/add_headers.ipynb\">\\n      <img src=\"https://lh3.googleusercontent.com/UiNooY4LUgW_oTvpsNhPpQzsstV5W8F7rYgxgGBD85cWJoLmrOzhVs_ksK_vgx40SHs7jCqkTkCk=e14-rj-sc0xffffff-h130-w32\" alt=\"Vertex AI logo\">\\n      <br>Open in<br>Vertex AI Workbench\\n    </a>\\n  </td>\\n  <td style=\"text-align: center\">\\n    <link rel=\"stylesheet\" href=\"https://fonts.googleapis.com/css2?family=Material+Symbols+Outlined:opsz,wght,FILL,GRAD@48,400,0,0\" />\\n    <a href=\"https://raw.githubusercontent.com/statmike/vertex-ai-mlops/main/architectures/headers/add_headers.ipynb\" download=\"add_headers.ipynb\">\\n      <span class=\"material-symbols-outlined\">download</span>\\n      <br>Download<br>This File\\n    </a>\\n  </td> \\n</table>\\n',\n",
       " 'metadata': {}}"
      ]
     },
     "execution_count": 71,
     "metadata": {},
     "output_type": "execute_result"
    }
   ],
   "source": [
    "nb['cells'][0]"
   ]
  },
  {
   "cell_type": "code",
   "execution_count": 72,
   "id": "61cc166e-94b2-4b52-ae5e-c768c510d137",
   "metadata": {
    "tags": []
   },
   "outputs": [
    {
     "data": {
      "text/plain": [
       "131"
      ]
     },
     "execution_count": 72,
     "metadata": {},
     "output_type": "execute_result"
    }
   ],
   "source": [
    "len(nb['cells'])"
   ]
  },
  {
   "cell_type": "code",
   "execution_count": 73,
   "id": "d0fecbdd-ad1b-493d-81c2-34e3aadf7336",
   "metadata": {
    "tags": []
   },
   "outputs": [],
   "source": [
    "nbf.write(nb, './example 2.ipynb', version = nbf.NO_CONVERT)"
   ]
  },
  {
   "cell_type": "code",
   "execution_count": null,
   "id": "c1226380-b07e-4d50-ab08-1f5160b9e2ab",
   "metadata": {},
   "outputs": [],
   "source": []
  }
 ],
 "metadata": {
  "environment": {
   "kernel": "conda-root-py",
   "name": "workbench-notebooks.m115",
   "type": "gcloud",
   "uri": "gcr.io/deeplearning-platform-release/workbench-notebooks:m115"
  },
  "kernelspec": {
   "display_name": "Python 3 (ipykernel)",
   "language": "python",
   "name": "conda-root-py"
  },
  "language_info": {
   "codemirror_mode": {
    "name": "ipython",
    "version": 3
   },
   "file_extension": ".py",
   "mimetype": "text/x-python",
   "name": "python",
   "nbconvert_exporter": "python",
   "pygments_lexer": "ipython3",
   "version": "3.10.13"
  }
 },
 "nbformat": 4,
 "nbformat_minor": 5
}
