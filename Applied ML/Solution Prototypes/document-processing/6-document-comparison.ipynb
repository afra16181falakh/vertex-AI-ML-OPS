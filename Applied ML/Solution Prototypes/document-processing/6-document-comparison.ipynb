{
 "cells": [
  {
   "cell_type": "markdown",
   "id": "cff4c4ce",
   "metadata": {},
   "source": [
    "# Comparing Documents For Anomalies\n"
   ]
  },
  {
   "cell_type": "markdown",
   "id": "a19be482",
   "metadata": {},
   "source": []
  }
 ],
 "metadata": {
  "language_info": {
   "name": "python"
  }
 },
 "nbformat": 4,
 "nbformat_minor": 5
}
