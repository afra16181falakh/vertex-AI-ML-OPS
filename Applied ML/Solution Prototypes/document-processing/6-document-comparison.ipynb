{
 "cells": [
  {
   "cell_type": "markdown",
   "id": "8b20f3e7",
   "metadata": {},
   "source": [
    "![tracker](https://us-central1-vertex-ai-mlops-369716.cloudfunctions.net/pixel-tracking?path=statmike%2Fvertex-ai-mlops%2FApplied+ML%2FSolution+Prototypes%2Fdocument-processing&file=6-document-comparison.ipynb)\n",
    "<!--- header table --->\n",
    "<table align=\"left\">\n",
    "  <td style=\"text-align: center\">\n",
    "    <a href=\"https://colab.research.google.com/github/statmike/vertex-ai-mlops/blob/main/Applied%20ML/Solution%20Prototypes/document-processing/6-document-comparison.ipynb\">\n",
    "      <img src=\"https://cloud.google.com/ml-engine/images/colab-logo-32px.png\" alt=\"Google Colaboratory logo\">\n",
    "      <br>Run in<br>Colab\n",
    "    </a>\n",
    "  </td>\n",
    "  <td style=\"text-align: center\">\n",
    "    <a href=\"https://console.cloud.google.com/vertex-ai/colab/import/https%3A%2F%2Fraw.githubusercontent.com%2Fstatmike%2Fvertex-ai-mlops%2Fmain%2FApplied%2520ML%2FSolution%2520Prototypes%2Fdocument-processing%2F6-document-comparison.ipynb\">\n",
    "      <img width=\"32px\" src=\"https://lh3.googleusercontent.com/JmcxdQi-qOpctIvWKgPtrzZdJJK-J3sWE1RsfjZNwshCFgE_9fULcNpuXYTilIR2hjwN\" alt=\"Google Cloud Colab Enterprise logo\">\n",
    "      <br>Run in<br>Colab Enterprise\n",
    "    </a>\n",
    "  </td>      \n",
    "  <td style=\"text-align: center\">\n",
    "    <a href=\"https://github.com/statmike/vertex-ai-mlops/blob/main/Applied%20ML/Solution%20Prototypes/document-processing/6-document-comparison.ipynb\">\n",
    "      <img src=\"https://cloud.google.com/ml-engine/images/github-logo-32px.png\" alt=\"GitHub logo\">\n",
    "      <br>View on<br>GitHub\n",
    "    </a>\n",
    "  </td>\n",
    "  <td style=\"text-align: center\">\n",
    "    <a href=\"https://console.cloud.google.com/vertex-ai/workbench/deploy-notebook?download_url=https://raw.githubusercontent.com/statmike/vertex-ai-mlops/main/Applied%20ML/Solution%20Prototypes/document-processing/6-document-comparison.ipynb\">\n",
    "      <img src=\"https://lh3.googleusercontent.com/UiNooY4LUgW_oTvpsNhPpQzsstV5W8F7rYgxgGBD85cWJoLmrOzhVs_ksK_vgx40SHs7jCqkTkCk=e14-rj-sc0xffffff-h130-w32\" alt=\"Vertex AI logo\">\n",
    "      <br>Open in<br>Vertex AI Workbench\n",
    "    </a>\n",
    "  </td>\n",
    "</table>"
   ]
  },
  {
   "cell_type": "markdown",
   "id": "cff4c4ce",
   "metadata": {},
   "source": [
    "# Comparing Documents For Anomalies\n"
   ]
  },
  {
   "cell_type": "markdown",
   "id": "a19be482",
   "metadata": {},
   "source": []
  },
  {
   "cell_type": "code",
   "execution_count": null,
   "id": "017f860e",
   "metadata": {
    "vscode": {
     "languageId": "plaintext"
    }
   },
   "outputs": [],
   "source": []
  },
  {
   "cell_type": "code",
   "execution_count": null,
   "id": "61e5db9a",
   "metadata": {
    "vscode": {
     "languageId": "plaintext"
    }
   },
   "outputs": [],
   "source": []
  },
  {
   "cell_type": "code",
   "execution_count": null,
   "id": "5ff0839a",
   "metadata": {
    "vscode": {
     "languageId": "plaintext"
    }
   },
   "outputs": [],
   "source": []
  },
  {
   "cell_type": "code",
   "execution_count": null,
   "id": "4c437c5b",
   "metadata": {
    "vscode": {
     "languageId": "plaintext"
    }
   },
   "outputs": [],
   "source": []
  },
  {
   "cell_type": "code",
   "execution_count": null,
   "id": "3d102b07",
   "metadata": {},
   "outputs": [],
   "source": [
    "prompt_image_uri = genai.types.Part.from_uri(\n",
    "    file_uri = blob_uri,\n",
    "    mime_type = 'image/png'\n",
    ")"
   ]
  },
  {
   "cell_type": "code",
   "execution_count": null,
   "id": "acb62edc",
   "metadata": {},
   "outputs": [],
   "source": [
    "prompt_image_bytes = genai.types.Part.from_bytes(\n",
    "    data = blob_bytes,\n",
    "    mime_type = 'image/png'\n",
    ")"
   ]
  },
  {
   "cell_type": "code",
   "execution_count": null,
   "id": "d13e5869",
   "metadata": {},
   "outputs": [],
   "source": [
    "response = genai_client.models.generate_content(\n",
    "    model = 'gemini-2.0-flash',\n",
    "    contents = [prompt_image_bytes, 'Describe this.']\n",
    ")"
   ]
  },
  {
   "cell_type": "code",
   "execution_count": null,
   "id": "61ee91d5",
   "metadata": {},
   "outputs": [
    {
     "data": {
      "text/markdown": [
       "Here's a description of the image based on the OCR output:\n",
       "\n",
       "**Overall:**\n",
       "\n",
       "The image is an invoice from a company called \"DS Analytics\" to \"FinanceForward Technologies\". It details charges for custom software development, UI/UX design, and data analytics consulting.\n",
       "\n",
       "**Details:**\n",
       "\n",
       "*   **Header:**\n",
       "    *   The invoice features the company name \"DS Analytics\" and the tagline \"Data-Driven Insights\" prominently at the top left.\n",
       "    *   The right side displays contact information for DataStream Analytics, including their address, phone number, and email.\n",
       "    *   Important invoice details like the Invoice Number (INV-2024-1122), Invoice Date (2024-03-15), and Due Date (2024-04-09) are clearly listed.\n",
       "*   **Bill To:**\n",
       "    *   \"Bill To:\" lists \"FinanceForward Technologies\" along with their address (789 Market Street, New York, NY 10001).\n",
       "*   **Invoice Items Table:**\n",
       "    *   A table presents the individual charges with the following columns:\n",
       "        *   Item #\n",
       "        *   Description\n",
       "        *   Quantity\n",
       "        *   Unit Price\n",
       "        *   List Price\n",
       "    *   The items are:\n",
       "        *   CSD-001: Custom Software Development (80 units at $150.00 each = $12000.00)\n",
       "        *   UIUX-002: UI/UX Design (40 units at $120.00 each = $4800.00)\n",
       "        *   DACS-003: Data Analytics Consulting (20 units at $200.00 each = $4000.00)\n",
       "*   **Totals:**\n",
       "    *   The invoice includes a \"Subtotal\" of $20800.00.\n",
       "    *   \"Tax (8%)\" is calculated as $1664.00.\n",
       "    *   The \"Total\" amount due is prominently displayed as $22464.00.\n",
       "*   **Footer:**\n",
       "    *   A thank you message is included at the bottom: \"Thank you for your business!\"."
      ],
      "text/plain": [
       "<IPython.core.display.Markdown object>"
      ]
     },
     "metadata": {},
     "output_type": "display_data"
    }
   ],
   "source": [
    "Markdown(response.text)"
   ]
  }
 ],
 "metadata": {
  "language_info": {
   "name": "python"
  }
 },
 "nbformat": 4,
 "nbformat_minor": 5
}
