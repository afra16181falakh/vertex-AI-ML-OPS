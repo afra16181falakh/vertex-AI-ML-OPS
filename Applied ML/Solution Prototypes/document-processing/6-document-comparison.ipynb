{
 "cells": [
  {
   "cell_type": "markdown",
   "id": "8b20f3e7",
   "metadata": {},
   "source": [
    "![tracker](https://us-central1-vertex-ai-mlops-369716.cloudfunctions.net/pixel-tracking?path=statmike%2Fvertex-ai-mlops%2FApplied+ML%2FSolution+Prototypes%2Fdocument-processing&file=6-document-comparison.ipynb)\n",
    "<!--- header table --->\n",
    "<table align=\"left\">\n",
    "  <td style=\"text-align: center\">\n",
    "    <a href=\"https://colab.research.google.com/github/statmike/vertex-ai-mlops/blob/main/Applied%20ML/Solution%20Prototypes/document-processing/6-document-comparison.ipynb\">\n",
    "      <img src=\"https://cloud.google.com/ml-engine/images/colab-logo-32px.png\" alt=\"Google Colaboratory logo\">\n",
    "      <br>Run in<br>Colab\n",
    "    </a>\n",
    "  </td>\n",
    "  <td style=\"text-align: center\">\n",
    "    <a href=\"https://console.cloud.google.com/vertex-ai/colab/import/https%3A%2F%2Fraw.githubusercontent.com%2Fstatmike%2Fvertex-ai-mlops%2Fmain%2FApplied%2520ML%2FSolution%2520Prototypes%2Fdocument-processing%2F6-document-comparison.ipynb\">\n",
    "      <img width=\"32px\" src=\"https://lh3.googleusercontent.com/JmcxdQi-qOpctIvWKgPtrzZdJJK-J3sWE1RsfjZNwshCFgE_9fULcNpuXYTilIR2hjwN\" alt=\"Google Cloud Colab Enterprise logo\">\n",
    "      <br>Run in<br>Colab Enterprise\n",
    "    </a>\n",
    "  </td>      \n",
    "  <td style=\"text-align: center\">\n",
    "    <a href=\"https://github.com/statmike/vertex-ai-mlops/blob/main/Applied%20ML/Solution%20Prototypes/document-processing/6-document-comparison.ipynb\">\n",
    "      <img src=\"https://cloud.google.com/ml-engine/images/github-logo-32px.png\" alt=\"GitHub logo\">\n",
    "      <br>View on<br>GitHub\n",
    "    </a>\n",
    "  </td>\n",
    "  <td style=\"text-align: center\">\n",
    "    <a href=\"https://console.cloud.google.com/vertex-ai/workbench/deploy-notebook?download_url=https://raw.githubusercontent.com/statmike/vertex-ai-mlops/main/Applied%20ML/Solution%20Prototypes/document-processing/6-document-comparison.ipynb\">\n",
    "      <img src=\"https://lh3.googleusercontent.com/UiNooY4LUgW_oTvpsNhPpQzsstV5W8F7rYgxgGBD85cWJoLmrOzhVs_ksK_vgx40SHs7jCqkTkCk=e14-rj-sc0xffffff-h130-w32\" alt=\"Vertex AI logo\">\n",
    "      <br>Open in<br>Vertex AI Workbench\n",
    "    </a>\n",
    "  </td>\n",
    "</table>"
   ]
  },
  {
   "cell_type": "markdown",
   "id": "cff4c4ce",
   "metadata": {},
   "source": [
    "# Comparing Documents For Anomalies\n",
    "\n",
    "> This workflow is part of a series of workflows for the solution prototype: [Document Processing With Generative AI: Parse, Extract, Validate Authenticity, and More](./readme.md)\n",
    "\n",
    "After documents are flagged as anomalous, the next step is to pinpoint the specific layout or formatting elements that suggest potential fraud. A multimodal generative model, such as Gemini on Vertex AI, is used to perform an initial evaluation and highlight potential indicators of fraud. This process is then integrated directly into BigQuery, further enriching the data.\n",
    "\n",
    "This integration is enabled by using the Gemini API on Vertex AI to generate comparisons with [multimodal prompts](https://cloud.google.com/vertex-ai/generative-ai/docs/model-reference/inference#sample-requests-text-gen-multimodal-prompt) via the [Google Gen AI SDK](https://cloud.google.com/vertex-ai/generative-ai/docs/sdks/overview). The [generating](https://cloud.google.com/vertex-ai/generative-ai/docs/model-reference/inference) of comparisons is scaled by using the Gemini API within BigQuery with functions like [ML.GENERATE_TEXT](https://cloud.google.com/bigquery/docs/reference/standard-sql/bigqueryml-syntax-generate-text)."
   ]
  },
  {
   "cell_type": "markdown",
   "id": "6406f62f",
   "metadata": {},
   "source": [
    "## Setup\n",
    "\n",
    "Note that this notebook expects to use a local virtual environment with the `./requirements.txt` installed.  \n",
    "\n",
    "A potential workaround if using this notebook standalone is running:\n",
    "\n",
    ">```python\n",
    ">pip install -r requirements.txt\n",
    ">```\n",
    "\n",
    "And then restart the kernel."
   ]
  },
  {
   "cell_type": "code",
   "execution_count": 6,
   "id": "caef1a0c",
   "metadata": {},
   "outputs": [],
   "source": [
    "# package imports for this work\n",
    "import os, subprocess\n",
    "\n",
    "from IPython.display import display, Image, Markdown\n",
    "import ipywidgets\n",
    "import fitz # PyMuPDF\n",
    "\n",
    "from google.cloud import storage\n",
    "from google.cloud import bigquery\n",
    "from google import genai"
   ]
  },
  {
   "cell_type": "code",
   "execution_count": 2,
   "id": "cbc77bd0",
   "metadata": {},
   "outputs": [
    {
     "data": {
      "text/plain": [
       "'statmike-mlops-349915'"
      ]
     },
     "execution_count": 2,
     "metadata": {},
     "output_type": "execute_result"
    }
   ],
   "source": [
    "# what project are we working in?\n",
    "PROJECT_ID = subprocess.run(['gcloud', 'config', 'get-value', 'project'], capture_output=True, text=True, check=True).stdout.strip()\n",
    "PROJECT_ID"
   ]
  },
  {
   "cell_type": "code",
   "execution_count": 3,
   "id": "75e65334",
   "metadata": {},
   "outputs": [],
   "source": [
    "LOCATION = 'us-central1'\n",
    "\n",
    "SERIES = 'applied-ml-solution-prototypes'\n",
    "EXPERIMENT = 'document-processing'\n",
    "GCS_BUCKET = PROJECT_ID # bucket has same name as project here"
   ]
  },
  {
   "cell_type": "code",
   "execution_count": 4,
   "id": "0ed6c4ca",
   "metadata": {},
   "outputs": [],
   "source": [
    "# setup google cloud storage client\n",
    "gcs = storage.Client(project = PROJECT_ID)\n",
    "bucket = gcs.bucket(GCS_BUCKET)\n",
    "\n",
    "# setup genai client\n",
    "genai_client = genai.Client(vertexai = True, project = PROJECT_ID, location = LOCATION)\n",
    "\n",
    "# setup google cloud bigquery client\n",
    "bq = bigquery.Client(project = PROJECT_ID)\n",
    "\n",
    "# load the bigquery magics for jupyter with:\n",
    "%load_ext bigquery_magics"
   ]
  },
  {
   "cell_type": "markdown",
   "id": "057d31e6",
   "metadata": {},
   "source": [
    "---\n",
    "## Visually Compare Documents\n",
    "\n",
    "Load an view the document from the previous workflow and compare it to the template for the same vendor."
   ]
  },
  {
   "cell_type": "markdown",
   "id": "4f097ee2",
   "metadata": {},
   "source": [
    "### Read And Process Documents\n",
    "\n",
    "Read the documents from GCS in the PDF format and prepare locally as bytes objects for the PDF and a PNG of the first page."
   ]
  },
  {
   "cell_type": "code",
   "execution_count": 7,
   "id": "017f860e",
   "metadata": {},
   "outputs": [],
   "source": [
    "query_doc = 'vendor_5_invoice_2.pdf'\n",
    "query_vendor = 'vendor_5'\n",
    "\n",
    "bucket = gcs.bucket(GCS_BUCKET)\n",
    "blob_prefix = f\"{SERIES}/{EXPERIMENT}/\""
   ]
  },
  {
   "cell_type": "code",
   "execution_count": 9,
   "id": "61e5db9a",
   "metadata": {},
   "outputs": [],
   "source": [
    "query_file= bucket.blob(blob_prefix + f'{query_vendor}/fake_invoices/{query_doc}')\n",
    "compare_file = bucket.blob(blob_prefix + f'{query_vendor}/template/template.pdf')"
   ]
  },
  {
   "cell_type": "code",
   "execution_count": 10,
   "id": "5ff0839a",
   "metadata": {},
   "outputs": [],
   "source": [
    "query_file_bytes = query_file.download_as_bytes()\n",
    "compare_file_bytes = compare_file.download_as_bytes()"
   ]
  },
  {
   "cell_type": "code",
   "execution_count": 11,
   "id": "4c437c5b",
   "metadata": {},
   "outputs": [],
   "source": [
    "query_pdf = fitz.open(stream = query_file_bytes, filetype = 'pdf')\n",
    "compare_pdf = fitz.open(stream = compare_file_bytes, filetype = 'pdf')"
   ]
  },
  {
   "cell_type": "code",
   "execution_count": 14,
   "id": "03ec683c",
   "metadata": {},
   "outputs": [],
   "source": [
    "query_image_bytes = query_pdf.load_page(0).get_pixmap(dpi = 150).tobytes(output = 'png')\n",
    "compare_image_bytes = compare_pdf.load_page(0).get_pixmap(dpi = 150).tobytes(output = 'png')"
   ]
  },
  {
   "cell_type": "markdown",
   "id": "a45eb5d4",
   "metadata": {},
   "source": [
    "### View Documents Side-By-Side"
   ]
  },
  {
   "cell_type": "code",
   "execution_count": 16,
   "id": "3770861e",
   "metadata": {},
   "outputs": [
    {
     "data": {
      "application/vnd.jupyter.widget-view+json": {
       "model_id": "f90dc005ebd14392978a0851aa0ade92",
       "version_major": 2,
       "version_minor": 0
      },
      "text/plain": [
       "HBox(children=(VBox(children=(HTML(value=\"<div style='text-align: center; margin-bottom: 5px;'><b>Query Docume…"
      ]
     },
     "metadata": {},
     "output_type": "display_data"
    }
   ],
   "source": [
    "display(\n",
    "    ipywidgets.HBox(\n",
    "        [\n",
    "            ipywidgets.VBox(\n",
    "                [\n",
    "                    ipywidgets.HTML(value = f\"<div style='text-align: center; margin-bottom: 5px;'><b>Query Document</b></div>\"),\n",
    "                    ipywidgets.Image(value = query_image_bytes, format = 'png', width = 400) \n",
    "                ],\n",
    "                layout = {'align_items': 'center'}\n",
    "            ),\n",
    "            ipywidgets.VBox(\n",
    "                [\n",
    "                    ipywidgets.HTML(value = f\"<div style='text-align: center; margin-bottom: 5px;'><b>Compare Document</b></div>\"),\n",
    "                    ipywidgets.Image(value = compare_image_bytes, format = 'png', width = 400) \n",
    "                ],\n",
    "                layout = {'align_items': 'center'}\n",
    "            )\n",
    "        ],\n",
    "        layout = {'justify_content': 'space-around'}\n",
    "    )\n",
    ")"
   ]
  },
  {
   "cell_type": "markdown",
   "id": "b803ad98",
   "metadata": {},
   "source": [
    "### Use Gemini With Vertex AI To Compare Documents"
   ]
  },
  {
   "cell_type": "code",
   "execution_count": 38,
   "id": "54982439",
   "metadata": {},
   "outputs": [],
   "source": [
    "prompt_query_image = genai.types.Part.from_bytes(\n",
    "    data = query_image_bytes,\n",
    "    mime_type = 'image/png'\n",
    ")\n",
    "prompt_compare_image = genai.types.Part.from_bytes(\n",
    "    data = compare_image_bytes,\n",
    "    mime_type = 'image/png'\n",
    ")"
   ]
  },
  {
   "cell_type": "code",
   "execution_count": 39,
   "id": "cef1c668",
   "metadata": {},
   "outputs": [],
   "source": [
    "response = genai_client.models.generate_content(\n",
    "    model = 'gemini-2.0-flash',\n",
    "    contents = [\n",
    "        prompt_query_image,\n",
    "        prompt_compare_image,\n",
    "        f\"\"\"\n",
    "        These two images represent two documents from the same vendor but it seems that some parts of the formating and/or layout have changed.\n",
    "        The first image is the new version of the document.\n",
    "        The second image is a known authentic document from the same vendor.\n",
    "        Describe the differences in appearance for the layout and formatting.\n",
    "        \"\"\"\n",
    "    ],\n",
    "    config = genai.types.GenerateContentConfig(\n",
    "        system_instruction = f\"\"\"\n",
    "        Your job is to compare document for subtle clues that indicate new documents might be fraudulent.\n",
    "        These are invoices and the id, date, bill to adddress, lines items are expected to change so ignore those.\n",
    "        The formatting and layout are the primary things to evaluate for differences.\n",
    "        Look for differences in all visual aspects from placement, fonts, colors, spacing, etc.\n",
    "        \"\"\"\n",
    "    )\n",
    ")"
   ]
  },
  {
   "cell_type": "code",
   "execution_count": 40,
   "id": "4df7a693",
   "metadata": {},
   "outputs": [
    {
     "data": {
      "text/markdown": [
       "Okay, here's a breakdown of the differences I've identified between the two invoice images, focusing on formatting and layout:\n",
       "\n",
       "**General Layout and Spacing**\n",
       "\n",
       "*   **Logo:** The logo in the first image is noticeably larger than in the second image. The image also sits closer to the top of the page.\n",
       "*   **Bill To Address:** The bill to address moves from Seattle to Miami, which is expected, but there are other format changes too. There is more spacing between the Bill To and the address lines. Also, the Bill To title has changed fonts to a thicker one.\n",
       "*   **Tax Calculation:** The first image has 8% tax while the second has 6%, which has an effect on the subtotal.\n",
       "\n",
       "**Font and Text Styles**\n",
       "\n",
       "*   **Bill To:** The bill to has changed to bold font in the first image.\n",
       "\n",
       "**Table Differences**\n",
       "\n",
       "*   **Third Row Quantity:** The quantity is different in the third row. In the first image it is 40 while the second is 60."
      ],
      "text/plain": [
       "<IPython.core.display.Markdown object>"
      ]
     },
     "execution_count": 40,
     "metadata": {},
     "output_type": "execute_result"
    }
   ],
   "source": [
    "Markdown(response.text)"
   ]
  },
  {
   "cell_type": "markdown",
   "id": "c4c27b83",
   "metadata": {},
   "source": [
    "#### This Also Works With PDF Versions"
   ]
  },
  {
   "cell_type": "code",
   "execution_count": 41,
   "id": "99314252",
   "metadata": {},
   "outputs": [],
   "source": [
    "prompt_query_image = genai.types.Part.from_bytes(\n",
    "    data = query_file_bytes,\n",
    "    mime_type = 'application/pdf'\n",
    ")\n",
    "prompt_compare_image = genai.types.Part.from_bytes(\n",
    "    data = compare_file_bytes,\n",
    "    mime_type = 'application/pdf'\n",
    ")"
   ]
  },
  {
   "cell_type": "code",
   "execution_count": 42,
   "id": "db7c25a2",
   "metadata": {},
   "outputs": [],
   "source": [
    "response = genai_client.models.generate_content(\n",
    "    model = 'gemini-2.0-flash',\n",
    "    contents = [\n",
    "        prompt_query_image,\n",
    "        prompt_compare_image,\n",
    "        f\"\"\"\n",
    "        These two images represent two documents from the same vendor but it seems that some parts of the formating and/or layout have changed.\n",
    "        The first image is the new version of the document.\n",
    "        The second image is a known authentic document from the same vendor.\n",
    "        Describe the differences in appearance for the layout and formatting.\n",
    "        \"\"\"\n",
    "    ],\n",
    "    config = genai.types.GenerateContentConfig(\n",
    "        system_instruction = f\"\"\"\n",
    "        Your job is to compare document for subtle clues that indicate new documents might be fraudulent.\n",
    "        These are invoices and the id, date, bill to adddress, lines items are expected to change so ignore those.\n",
    "        The formatting and layout are the primary things to evaluate for differences.\n",
    "        Look for differences in all visual aspects from placement, fonts, colors, spacing, etc.\n",
    "        \"\"\"\n",
    "    )\n",
    ")"
   ]
  },
  {
   "cell_type": "code",
   "execution_count": 43,
   "id": "2b48ea50",
   "metadata": {},
   "outputs": [
    {
     "data": {
      "text/markdown": [
       "Okay, I've compared the two invoices and here's a breakdown of the visual differences I've identified that might indicate a fraudulent document:\n",
       "\n",
       "**General Layout and Spacing:**\n",
       "\n",
       "*   **Invoice Header Placement:** In the original invoice, the \"Invoice\" title is closer to the right edge of the document. In the new document, the title is closer to the company logo.\n",
       "\n",
       "*   **Spacing around \"Cyberdyne Systems\" Logo:** The new document has less space between the logo and the \"Cyberdyne Systems\" text below it compared to the original.\n",
       "\n",
       "*   **Spacing Bill To Address:** The spacing between the \"Bill to\" header and the company logo, and between the address and the product lines, looks slightly different. It seems that the new document has reduced the spacing.\n",
       "\n",
       "**Font and Text Styling:**\n",
       "\n",
       "*   **\"Cyberdyne Systems\" Font/Weight:** There might be a slight difference in the font or weight used for \"Cyberdyne Systems\" below the logo. The original document seems bolder.\n",
       "\n",
       "*   **Font Size/Weight in Address Section:** The font size in the address section of the new document seems smaller than the original one. The original has a slightly heavier font.\n",
       "\n",
       "*   **Font Size/Weight in description columns:** The font size in the description columns seems smaller than the original one. The original has a slightly heavier font.\n",
       "\n",
       "**Table and Line Items:**\n",
       "\n",
       "*   **Line Spacing in Description:** The line spacing within the \"Description\" column might be slightly tighter in the original document.\n",
       "\n",
       "**Other Notable Differences:**\n",
       "\n",
       "*   **Tax rate:** The tax rate has changed from 8% to 6%.\n",
       "*   **Quantity column:** The quantity for the last item has changed from 40 to 60.\n",
       "\n",
       "**Summary of Potential Red Flags:**\n",
       "\n",
       "*   Subtle changes in spacing and font styling.\n",
       "*   Changes in tax rate and quantity column.\n"
      ],
      "text/plain": [
       "<IPython.core.display.Markdown object>"
      ]
     },
     "execution_count": 43,
     "metadata": {},
     "output_type": "execute_result"
    }
   ],
   "source": [
    "Markdown(response.text)"
   ]
  },
  {
   "cell_type": "markdown",
   "id": "b73c255a",
   "metadata": {},
   "source": [
    "#### This Also Work With Files Directly From GCS"
   ]
  },
  {
   "cell_type": "code",
   "execution_count": 44,
   "metadata": {},
   "outputs": [],
   "source": [
    "prompt_query = genai.types.Part.from_uri(\n",
    "    file_uri = f\"gs://{bucket.name}/{query_file.name}\",\n",
    "    mime_type = 'application/pdf'\n",
    ")\n",
    "prompt_compare = genai.types.Part.from_uri(\n",
    "    file_uri = f\"gs://{bucket.name}/{compare_file.name}\",\n",
    "    mime_type = 'application/pdf'\n",
    ")"
   ]
  },
  {
   "cell_type": "code",
   "execution_count": 45,
   "id": "4af60a34",
   "metadata": {},
   "outputs": [],
   "source": [
    "response = genai_client.models.generate_content(\n",
    "    model = 'gemini-2.0-flash',\n",
    "    contents = [\n",
    "        prompt_query,\n",
    "        prompt_compare,\n",
    "        f\"\"\"\n",
    "        These two images represent two documents from the same vendor but it seems that some parts of the formating and/or layout have changed.\n",
    "        The first image is the new version of the document.\n",
    "        The second image is a known authentic document from the same vendor.\n",
    "        Describe the differences in appearance for the layout and formatting.\n",
    "        \"\"\"\n",
    "    ],\n",
    "    config = genai.types.GenerateContentConfig(\n",
    "        system_instruction = f\"\"\"\n",
    "        Your job is to compare document for subtle clues that indicate new documents might be fraudulent.\n",
    "        These are invoices and the id, date, bill to adddress, lines items are expected to change so ignore those.\n",
    "        The formatting and layout are the primary things to evaluate for differences.\n",
    "        Look for differences in all visual aspects from placement, fonts, colors, spacing, etc.\n",
    "        \"\"\"\n",
    "    )\n",
    ")"
   ]
  },
  {
   "cell_type": "code",
   "execution_count": null,
   "id": "3f6cc810",
   "metadata": {},
   "outputs": [
    {
     "data": {
      "text/markdown": [
       "Okay, I've analyzed the two invoice images and here's a breakdown of the differences I've identified:\n",
       "\n",
       "**General Layout and Spacing:**\n",
       "\n",
       "*   **Overall:** The general layout is the same, but the spacing seems to be different, the old document is more compact.\n",
       "\n",
       "**Font and Text:**\n",
       "\n",
       "*   **Font Size/Weight:** There seem to be some slight differences in the font size or weight used for certain sections of the document. It's subtle, but the older document looks like it's using a slightly heavier font in places (like \"Cyberdyne Systems\").\n",
       "*   **Text Placement:** The location of elements like the invoice number, date, and due date also appear to be slightly different. In the old document is spaced farther away from the title\n",
       "\n",
       "**Other Visual Elements:**\n",
       "\n",
       "*   **Logo:** The logo \"Cyberdyne Systems\" looks like it might be a slightly different shade of blue or a bit bolder in the older document.\n",
       "\n",
       "**Details that Suggest Potential Issues:**\n",
       "\n",
       "*   **Tax Rate:** The tax rate is different between the two invoices (8% vs 6%). While tax rates can change, it's something to verify.\n",
       "*   **Bill To Address:** The \"Bill to\" address is different. This is normal if the invoices are for different customers, but it should be verified against customer records.\n",
       "\n",
       "**In summary:** The differences are subtle, primarily involving spacing, and minor variations in font appearance. The changes to the bill to address and tax require closer examination and verification against external information.\n"
      ],
      "text/plain": [
       "<IPython.core.display.Markdown object>"
      ]
     },
     "execution_count": 46,
     "metadata": {},
     "output_type": "execute_result"
    }
   ],
   "source": [
    "Markdown(response.text)"
   ]
  },
  {
   "cell_type": "markdown",
   "id": "be6daefb",
   "metadata": {},
   "source": [
    "---\n",
    "---\n",
    "\n",
    "# NOTE: CONTENT BELOW IN DEVELOPMENT\n",
    "\n",
    "The content below is intended to show using Gemini Models withing BigQuery with ML.GENERATE_TEXT doing the comparison task above.  At this time it appears to be limited to a single document per prompt so the content is paused as a workaround is figured out.  A definite workaround is using batch processing the Vertex AI where the input and output tables can be BigQuery based.  \n",
    "\n",
    "---\n",
    "---"
   ]
  },
  {
   "cell_type": "markdown",
   "id": "7879ccfc",
   "metadata": {},
   "source": [
    "## Use Gemini Directly Within BigQuery\n",
    "\n",
    "The same Gemini model on Vertex AI can used directly within BigQuery.  Just as we used the Document AI custom extractor and Vertex AI embeddings API on earlier workflows in the project we can also use Gemini models.\n",
    "\n",
    "**BigQuery Cloud Resource Connection**\n",
    "\n",
    "The earlier workflows setup a resource connection and already assigned the role `roles/aiplatform.user` to the associated service account.  This is the same requirment for using Gemini models on Vertex AI with BigQuery."
   ]
  },
  {
   "cell_type": "markdown",
   "id": "47935e1c",
   "metadata": {},
   "source": [
    "### Create A BigQuery Remote Model For The Gemini Model\n",
    "\n",
    "We need to create a connection to the Verex AI Gemini Model endpoint via the [CREATE MODEL](https://cloud.google.com/bigquery/docs/reference/standard-sql/bigqueryml-syntax-create-remote-model) statement - [example for Gemini Flash without tuning](https://cloud.google.com/bigquery/docs/reference/standard-sql/bigqueryml-syntax-create-remote-model#create_a_model_without_tuning)."
   ]
  },
  {
   "cell_type": "code",
   "execution_count": 48,
   "id": "38048e73",
   "metadata": {},
   "outputs": [
    {
     "data": {
      "application/vnd.jupyter.widget-view+json": {
       "model_id": "151bf852bee141f7a309a78af230d843",
       "version_major": 2,
       "version_minor": 0
      },
      "text/plain": [
       "Query is running:   0%|          |"
      ]
     },
     "metadata": {},
     "output_type": "display_data"
    },
    {
     "data": {
      "text/html": [
       "<div>\n",
       "<style scoped>\n",
       "    .dataframe tbody tr th:only-of-type {\n",
       "        vertical-align: middle;\n",
       "    }\n",
       "\n",
       "    .dataframe tbody tr th {\n",
       "        vertical-align: top;\n",
       "    }\n",
       "\n",
       "    .dataframe thead th {\n",
       "        text-align: right;\n",
       "    }\n",
       "</style>\n",
       "<table border=\"1\" class=\"dataframe\">\n",
       "  <thead>\n",
       "    <tr style=\"text-align: right;\">\n",
       "      <th></th>\n",
       "    </tr>\n",
       "  </thead>\n",
       "  <tbody>\n",
       "  </tbody>\n",
       "</table>\n",
       "</div>"
      ],
      "text/plain": [
       "Empty DataFrame\n",
       "Columns: []\n",
       "Index: []"
      ]
     },
     "execution_count": 48,
     "metadata": {},
     "output_type": "execute_result"
    }
   ],
   "source": [
    "%%bigquery\n",
    "CREATE OR REPLACE MODEL `statmike-mlops-349915.solution_prototype_document_processing.gemini-2_0-flash`\n",
    "    REMOTE WITH CONNECTION `statmike-mlops-349915.us.document-processing`\n",
    "    OPTIONS(\n",
    "        ENDPOINT = 'gemini-2.0-flash'\n",
    "    )"
   ]
  },
  {
   "cell_type": "markdown",
   "id": "c9d9205b",
   "metadata": {},
   "source": [
    "### Generate Comparison With BigQuery\n",
    "\n",
    "Use the [ML.GENERATE_TEXT](https://cloud.google.com/bigquery/docs/reference/standard-sql/bigqueryml-syntax-generate-text#examples) function with the model to generate comparisons."
   ]
  },
  {
   "cell_type": "code",
   "execution_count": 50,
   "id": "da47f60a",
   "metadata": {},
   "outputs": [
    {
     "data": {
      "application/vnd.jupyter.widget-view+json": {
       "model_id": "ece7f835825a443d94e905d8a1a1e8b3",
       "version_major": 2,
       "version_minor": 0
      },
      "text/plain": [
       "Query is running:   0%|          |"
      ]
     },
     "metadata": {},
     "output_type": "display_data"
    },
    {
     "data": {
      "application/vnd.jupyter.widget-view+json": {
       "model_id": "763ea5c019114883adaa9908031b4a78",
       "version_major": 2,
       "version_minor": 0
      },
      "text/plain": [
       "Downloading:   0%|          |"
      ]
     },
     "metadata": {},
     "output_type": "display_data"
    },
    {
     "data": {
      "text/html": [
       "<div>\n",
       "<style scoped>\n",
       "    .dataframe tbody tr th:only-of-type {\n",
       "        vertical-align: middle;\n",
       "    }\n",
       "\n",
       "    .dataframe tbody tr th {\n",
       "        vertical-align: top;\n",
       "    }\n",
       "\n",
       "    .dataframe thead th {\n",
       "        text-align: right;\n",
       "    }\n",
       "</style>\n",
       "<table border=\"1\" class=\"dataframe\">\n",
       "  <thead>\n",
       "    <tr style=\"text-align: right;\">\n",
       "      <th></th>\n",
       "      <th>ml_process_document_result</th>\n",
       "      <th>ml_process_document_status</th>\n",
       "      <th>vendor_name</th>\n",
       "      <th>vendor_address</th>\n",
       "      <th>company_name</th>\n",
       "      <th>company_address</th>\n",
       "      <th>invoice_id</th>\n",
       "      <th>invoice_total</th>\n",
       "      <th>line_item</th>\n",
       "      <th>uri</th>\n",
       "      <th>updated</th>\n",
       "      <th>vendor</th>\n",
       "      <th>embedding</th>\n",
       "      <th>anomaly_distance</th>\n",
       "      <th>anomaly_z_score</th>\n",
       "      <th>anomaly_decision</th>\n",
       "    </tr>\n",
       "  </thead>\n",
       "  <tbody>\n",
       "    <tr>\n",
       "      <th>0</th>\n",
       "      <td>{\"mimeType\":\"application/pdf\"}</td>\n",
       "      <td></td>\n",
       "      <td>None</td>\n",
       "      <td>None</td>\n",
       "      <td>None</td>\n",
       "      <td>None</td>\n",
       "      <td>None</td>\n",
       "      <td>None</td>\n",
       "      <td>[]</td>\n",
       "      <td>gs://statmike-mlops-349915/applied-ml-solution...</td>\n",
       "      <td>2025-04-23 20:55:09.934000+00:00</td>\n",
       "      <td>vendor_8</td>\n",
       "      <td>[0.0160381682, 0.0116377119, 0.00194062886, 0....</td>\n",
       "      <td>-0.460991</td>\n",
       "      <td>55.873966</td>\n",
       "      <td>True</td>\n",
       "    </tr>\n",
       "  </tbody>\n",
       "</table>\n",
       "</div>"
      ],
      "text/plain": [
       "       ml_process_document_result ml_process_document_status vendor_name  \\\n",
       "0  {\"mimeType\":\"application/pdf\"}                                   None   \n",
       "\n",
       "  vendor_address company_name company_address invoice_id invoice_total  \\\n",
       "0           None         None            None       None          None   \n",
       "\n",
       "  line_item                                                uri  \\\n",
       "0        []  gs://statmike-mlops-349915/applied-ml-solution...   \n",
       "\n",
       "                           updated    vendor  \\\n",
       "0 2025-04-23 20:55:09.934000+00:00  vendor_8   \n",
       "\n",
       "                                           embedding  anomaly_distance  \\\n",
       "0  [0.0160381682, 0.0116377119, 0.00194062886, 0....         -0.460991   \n",
       "\n",
       "   anomaly_z_score  anomaly_decision  \n",
       "0        55.873966              True  "
      ]
     },
     "execution_count": 50,
     "metadata": {},
     "output_type": "execute_result"
    }
   ],
   "source": [
    "%%bigquery\n",
    "SELECT *\n",
    "FROM `statmike-mlops-349915.solution_prototype_document_processing.unknown_authenticity`\n",
    "LIMIT 1"
   ]
  },
  {
   "cell_type": "code",
   "execution_count": 60,
   "id": "9004a460",
   "metadata": {},
   "outputs": [
    {
     "data": {
      "application/vnd.jupyter.widget-view+json": {
       "model_id": "b03e5c70a8cb4316a21fb1cc72d3813c",
       "version_major": 2,
       "version_minor": 0
      },
      "text/plain": [
       "Query is running:   0%|          |"
      ]
     },
     "metadata": {},
     "output_type": "display_data"
    },
    {
     "data": {
      "application/vnd.jupyter.widget-view+json": {
       "model_id": "b2339398dc53475da024041519c793f7",
       "version_major": 2,
       "version_minor": 0
      },
      "text/plain": [
       "Downloading:   0%|          |"
      ]
     },
     "metadata": {},
     "output_type": "display_data"
    },
    {
     "data": {
      "text/html": [
       "<div>\n",
       "<style scoped>\n",
       "    .dataframe tbody tr th:only-of-type {\n",
       "        vertical-align: middle;\n",
       "    }\n",
       "\n",
       "    .dataframe tbody tr th {\n",
       "        vertical-align: top;\n",
       "    }\n",
       "\n",
       "    .dataframe thead th {\n",
       "        text-align: right;\n",
       "    }\n",
       "</style>\n",
       "<table border=\"1\" class=\"dataframe\">\n",
       "  <thead>\n",
       "    <tr style=\"text-align: right;\">\n",
       "      <th></th>\n",
       "      <th>ml_generate_text_llm_result</th>\n",
       "      <th>ml_generate_text_rai_result</th>\n",
       "      <th>ml_generate_text_status</th>\n",
       "      <th>uri</th>\n",
       "      <th>content_type</th>\n",
       "    </tr>\n",
       "  </thead>\n",
       "  <tbody>\n",
       "    <tr>\n",
       "      <th>0</th>\n",
       "      <td>There are no differences between the documents...</td>\n",
       "      <td>None</td>\n",
       "      <td></td>\n",
       "      <td>gs://statmike-mlops-349915/applied-ml-solution...</td>\n",
       "      <td>application/pdf</td>\n",
       "    </tr>\n",
       "    <tr>\n",
       "      <th>1</th>\n",
       "      <td>The provided images consist of a single docume...</td>\n",
       "      <td>None</td>\n",
       "      <td></td>\n",
       "      <td>gs://statmike-mlops-349915/applied-ml-solution...</td>\n",
       "      <td>application/pdf</td>\n",
       "    </tr>\n",
       "  </tbody>\n",
       "</table>\n",
       "</div>"
      ],
      "text/plain": [
       "                         ml_generate_text_llm_result  \\\n",
       "0  There are no differences between the documents...   \n",
       "1  The provided images consist of a single docume...   \n",
       "\n",
       "  ml_generate_text_rai_result ml_generate_text_status  \\\n",
       "0                        None                           \n",
       "1                        None                           \n",
       "\n",
       "                                                 uri     content_type  \n",
       "0  gs://statmike-mlops-349915/applied-ml-solution...  application/pdf  \n",
       "1  gs://statmike-mlops-349915/applied-ml-solution...  application/pdf  "
      ]
     },
     "execution_count": 60,
     "metadata": {},
     "output_type": "execute_result"
    }
   ],
   "source": [
    "%%bigquery\n",
    "SELECT *\n",
    "FROM ML.GENERATE_TEXT(\n",
    "    MODEL `statmike-mlops-349915.solution_prototype_document_processing.gemini-2_0-flash`,\n",
    "    (\n",
    "        SELECT uri, content_type\n",
    "        FROM `statmike-mlops-349915.solution_prototype_document_processing.source_documents`\n",
    "        LIMIT 2\n",
    "    ),\n",
    "    STRUCT (\n",
    "        'Compare the layout and format of these documents and identify differences' AS PROMPT,\n",
    "        TRUE AS FLATTEN_JSON_OUTPUT\n",
    "    )\n",
    ")\n",
    "\n"
   ]
  },
  {
   "cell_type": "code",
   "execution_count": 61,
   "id": "ccdb36fd",
   "metadata": {},
   "outputs": [
    {
     "name": "stdout",
     "output_type": "stream",
     "text": [
      "Executing query with job ID: c0dd6241-c260-419a-a6dc-4b4f3edca77d\n",
      "Query executing: 0.62s"
     ]
    },
    {
     "name": "stderr",
     "output_type": "stream",
     "text": [
      "\n",
      "ERROR:\n",
      " 400 column prompt is not found in the input of ML.GENERATE_TEXT; reason: invalidQuery, location: query, message: column prompt is not found in the input of ML.GENERATE_TEXT\n",
      "\n",
      "Location: US\n",
      "Job ID: c0dd6241-c260-419a-a6dc-4b4f3edca77d\n",
      "\n"
     ]
    }
   ],
   "source": [
    "%%bigquery\n",
    "SELECT *\n",
    "FROM ML.GENERATE_TEXT(\n",
    "    MODEL `statmike-mlops-349915.solution_prototype_document_processing.gemini-2_0-flash`,\n",
    "    (\n",
    "        SELECT sd.uri, sd.content_type\n",
    "        FROM (\n",
    "            SELECT *\n",
    "            FROM `statmike-mlops-349915.solution_prototype_document_processing.unknown_authenticity`\n",
    "            WHERE uri LIKE '%vendor_5_invoice_2%'\n",
    "        ) ua\n",
    "        JOIN `statmike-mlops-349915.solution_prototype_document_processing.source_documents` sd\n",
    "        ON\n",
    "            ua.uri = sd.uri\n",
    "            OR sd.uri = REPLACE(ua.uri, '/fake_invoices/', '/invoices/')\n",
    "    ),\n",
    "    STRUCT (\n",
    "        'Compare the layout and format of these documents and identify differences' AS PROMPT,\n",
    "        TRUE AS FLATTEN_JSON_OUTPUT\n",
    "    )\n",
    ")"
   ]
  },
  {
   "cell_type": "code",
   "execution_count": null,
   "id": "796648d9",
   "metadata": {},
   "outputs": [],
   "source": []
  }
 ],
 "metadata": {
  "kernelspec": {
   "display_name": ".venv",
   "language": "python",
   "name": "python3"
  },
  "language_info": {
   "codemirror_mode": {
    "name": "ipython",
    "version": 3
   },
   "file_extension": ".py",
   "mimetype": "text/x-python",
   "name": "python",
   "nbconvert_exporter": "python",
   "pygments_lexer": "ipython3",
   "version": "3.13.3"
  }
 },
 "nbformat": 4,
 "nbformat_minor": 5
}
