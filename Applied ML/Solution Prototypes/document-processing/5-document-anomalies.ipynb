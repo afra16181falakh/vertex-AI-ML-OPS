{
 "cells": [
  {
   "cell_type": "markdown",
   "id": "59e4dd96",
   "metadata": {},
   "source": [
    "# Detecting Anamalous Documents"
   ]
  },
  {
   "cell_type": "markdown",
   "id": "28e73d93",
   "metadata": {},
   "source": []
  }
 ],
 "metadata": {
  "language_info": {
   "name": "python"
  }
 },
 "nbformat": 4,
 "nbformat_minor": 5
}
