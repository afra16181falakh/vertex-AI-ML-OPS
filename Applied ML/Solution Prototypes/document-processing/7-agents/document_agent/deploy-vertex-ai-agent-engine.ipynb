{
 "cells": [
  {
   "cell_type": "markdown",
   "id": "024121e1",
   "metadata": {},
   "source": [
    "![tracker](https://us-central1-vertex-ai-mlops-369716.cloudfunctions.net/pixel-tracking?path=statmike%2Fvertex-ai-mlops%2FApplied+ML%2FSolution+Prototypes%2Fdocument-processing%2F7-agents%2Fdocument_agent&file=deploy-vertex-ai-agent-engine.ipynb)\n",
    "<!--- header table --->\n",
    "<table align=\"left\">\n",
    "  <td style=\"text-align: center\">\n",
    "    <a href=\"https://colab.research.google.com/github/statmike/vertex-ai-mlops/blob/main/Applied%20ML/Solution%20Prototypes/document-processing/7-agents/document_agent/deploy-vertex-ai-agent-engine.ipynb\">\n",
    "      <img width=\"32px\" src=\"https://www.gstatic.com/pantheon/images/bigquery/welcome_page/colab-logo.svg\" alt=\"Google Colaboratory logo\">\n",
    "      <br>Run in<br>Colab\n",
    "    </a>\n",
    "  </td>\n",
    "  <td style=\"text-align: center\">\n",
    "    <a href=\"https://console.cloud.google.com/vertex-ai/colab/import/https%3A%2F%2Fraw.githubusercontent.com%2Fstatmike%2Fvertex-ai-mlops%2Fmain%2FApplied%2520ML%2FSolution%2520Prototypes%2Fdocument-processing%2F7-agents%2Fdocument_agent%2Fdeploy-vertex-ai-agent-engine.ipynb\">\n",
    "      <img width=\"32px\" src=\"https://lh3.googleusercontent.com/JmcxdQi-qOpctIvWKgPtrzZdJJK-J3sWE1RsfjZNwshCFgE_9fULcNpuXYTilIR2hjwN\" alt=\"Google Cloud Colab Enterprise logo\">\n",
    "      <br>Run in<br>Colab Enterprise\n",
    "    </a>\n",
    "  </td>      \n",
    "  <td style=\"text-align: center\">\n",
    "    <a href=\"https://github.com/statmike/vertex-ai-mlops/blob/main/Applied%20ML/Solution%20Prototypes/document-processing/7-agents/document_agent/deploy-vertex-ai-agent-engine.ipynb\">\n",
    "      <img width=\"32px\" src=\"https://www.svgrepo.com/download/217753/github.svg\" alt=\"GitHub logo\">\n",
    "      <br>View on<br>GitHub\n",
    "    </a>\n",
    "  </td>\n",
    "  <td style=\"text-align: center\">\n",
    "    <a href=\"https://console.cloud.google.com/vertex-ai/workbench/deploy-notebook?download_url=https://raw.githubusercontent.com/statmike/vertex-ai-mlops/main/Applied%20ML/Solution%20Prototypes/document-processing/7-agents/document_agent/deploy-vertex-ai-agent-engine.ipynb\">\n",
    "      <img width=\"32px\" src=\"https://www.gstatic.com/images/branding/gcpiconscolors/vertexai/v1/32px.svg\" alt=\"Vertex AI logo\">\n",
    "      <br>Open in<br>Vertex AI Workbench\n",
    "    </a>\n",
    "  </td>\n",
    "</table>"
   ]
  },
  {
   "cell_type": "markdown",
   "id": "d692f4a5",
   "metadata": {},
   "source": [
    "# Deploy Agent To Vertex AI Agent Engine\n",
    "\n",
    "After building and testing an agent built with ADK the next step is deployment for use in production workflows and applications.  The notebook workflow shows the steps for deploying the agent built in the product on [Vertex AI Agent Engine](https://cloud.google.com/vertex-ai/generative-ai/docs/agent-engine/overview).  This service includes:\n",
    "- [Development](https://cloud.google.com/vertex-ai/generative-ai/docs/agent-engine/develop/adk) tooling to test the agent locally first\n",
    "- [Deployment](https://cloud.google.com/vertex-ai/generative-ai/docs/agent-engine/deploy) tooling to create the agent instance on Vertex AI Agent Engine\n",
    "- [Agent Use](https://cloud.google.com/vertex-ai/generative-ai/docs/agent-engine/use/adk) SDK directly within the Vetex AI SDK\n",
    "- [Mangagement](https://cloud.google.com/vertex-ai/generative-ai/docs/agent-engine/manage/overview) services for access control, tracing, logging, and monitoring of deployed agents\n",
    "- and services like [Agent Evaluation](https://cloud.google.com/vertex-ai/generative-ai/docs/agent-engine/evaluate) and more!\n",
    "\n",
    "While Vertex AI Agent Engine is a service for many agent building frameworks (ADK, LangChain, LangGraph, AG2, LlamaIndex, Custom, ...) it is also directly integrated with Google ADK, the framework used in this project.  [ADK Deployment](https://google.github.io/adk-docs/deploy/) options include [Vertex AI Agent Engine](https://google.github.io/adk-docs/deploy/agent-engine/) as well as [Cloud Run](https://google.github.io/adk-docs/deploy/cloud-run/) and [custom infrastructure](https://google.github.io/adk-docs/deploy/gke/) deploymetns.\n",
    "\n",
    "**Notes:**\n",
    "- This notebook expects the current working directory to contain the agents folder. In other words, `agent.py` is at `./document_agent/agent.py`."
   ]
  },
  {
   "cell_type": "markdown",
   "id": "c5d2b094",
   "metadata": {},
   "source": [
    "Package Imports:"
   ]
  },
  {
   "cell_type": "code",
   "execution_count": 1,
   "id": "39893d15",
   "metadata": {},
   "outputs": [],
   "source": [
    "import os, sys\n",
    "\n",
    "import dotenv\n",
    "import requests\n",
    "\n",
    "from vertexai.preview import reasoning_engines\n",
    "from vertexai import agent_engines\n",
    "import vertexai"
   ]
  },
  {
   "cell_type": "markdown",
   "id": "f3c6d7b6",
   "metadata": {},
   "source": [
    "Verify working directory:"
   ]
  },
  {
   "cell_type": "code",
   "execution_count": 2,
   "id": "1b4aa95c",
   "metadata": {},
   "outputs": [
    {
     "data": {
      "text/plain": [
       "'/home/statmike/repos/vertex-ai-mlops/Applied ML/Solution Prototypes/document-processing/7-agents/document_agent'"
      ]
     },
     "execution_count": 2,
     "metadata": {},
     "output_type": "execute_result"
    }
   ],
   "source": [
    "os.getcwd()"
   ]
  },
  {
   "cell_type": "markdown",
   "id": "9a83a22a",
   "metadata": {},
   "source": [
    "Review the local files, expecting the `document_agent` folder to be here:"
   ]
  },
  {
   "cell_type": "code",
   "execution_count": 3,
   "id": "bace754b",
   "metadata": {},
   "outputs": [
    {
     "data": {
      "text/plain": [
       "['document_agent', 'apps', 'deploy-vertex-ai-agent-engine.ipynb']"
      ]
     },
     "execution_count": 3,
     "metadata": {},
     "output_type": "execute_result"
    }
   ],
   "source": [
    "os.listdir('.')"
   ]
  },
  {
   "cell_type": "markdown",
   "id": "5c5d1b0e",
   "metadata": {},
   "source": [
    "Verify the current Python version and executable location (the `venv` setup by this project):"
   ]
  },
  {
   "cell_type": "code",
   "execution_count": 4,
   "id": "3b9bd944",
   "metadata": {},
   "outputs": [
    {
     "data": {
      "text/plain": [
       "('3.13.3 (main, Apr 14 2025, 14:06:24) [GCC 12.2.0]',\n",
       " '/home/statmike/repos/vertex-ai-mlops/Applied ML/Solution Prototypes/document-processing/7-agents/.venv/bin/python')"
      ]
     },
     "execution_count": 4,
     "metadata": {},
     "output_type": "execute_result"
    }
   ],
   "source": [
    "sys.version, sys.executable"
   ]
  },
  {
   "cell_type": "markdown",
   "id": "4e584c8e",
   "metadata": {},
   "source": [
    "Setup Clients:"
   ]
  },
  {
   "cell_type": "code",
   "execution_count": 5,
   "id": "f82ceaea",
   "metadata": {},
   "outputs": [],
   "source": [
    "# Load environment variables set with agent (./document_agent/.env)\n",
    "dotenv.load_dotenv(dotenv_path = os.path.join('document_agent', '.env'))\n",
    "\n",
    "# Vertex AI Initializaiton:\n",
    "vertexai.init(\n",
    "    project = os.getenv('GOOGLE_CLOUD_PROJECT'),\n",
    "    location = os.getenv('GOOGLE_CLOUD_LOCATION'),\n",
    "    staging_bucket = f\"gs://{os.getenv('GOOGLE_CLOUD_STORAGE_BUCKET')}\"\n",
    ")"
   ]
  },
  {
   "cell_type": "markdown",
   "id": "9979f001",
   "metadata": {},
   "source": [
    "---\n",
    "## Local Testing: Prepare Agent for Vertex AI Agent Engine\n",
    "\n",
    "Before deploying the ADK agent to Vertex AI Agent Engine it can first be tested locally with the SDK."
   ]
  },
  {
   "cell_type": "code",
   "execution_count": 6,
   "id": "6d7905b4",
   "metadata": {},
   "outputs": [],
   "source": [
    "from document_agent.agent import root_agent\n",
    "\n",
    "app = reasoning_engines.AdkApp(\n",
    "    agent=root_agent,\n",
    "    enable_tracing=True,\n",
    ")"
   ]
  },
  {
   "cell_type": "code",
   "execution_count": 7,
   "id": "3edd0f74",
   "metadata": {},
   "outputs": [
    {
     "data": {
      "text/plain": [
       "Session(id='cc428561-8e3c-4e01-829c-33924d731ca7', app_name='default-app-name', user_id='u_123', state={}, events=[], last_update_time=1749316598.6712692)"
      ]
     },
     "execution_count": 7,
     "metadata": {},
     "output_type": "execute_result"
    }
   ],
   "source": [
    "session = app.create_session(user_id = 'u_123')\n",
    "session"
   ]
  },
  {
   "cell_type": "code",
   "execution_count": 8,
   "id": "202e2c84",
   "metadata": {},
   "outputs": [
    {
     "data": {
      "text/plain": [
       "ListSessionsResponse(sessions=[Session(id='cc428561-8e3c-4e01-829c-33924d731ca7', app_name='default-app-name', user_id='u_123', state={}, events=[], last_update_time=1749316598.6712692)])"
      ]
     },
     "execution_count": 8,
     "metadata": {},
     "output_type": "execute_result"
    }
   ],
   "source": [
    "app.list_sessions(user_id = 'u_123')"
   ]
  },
  {
   "cell_type": "code",
   "execution_count": 9,
   "id": "8e2f44b3",
   "metadata": {},
   "outputs": [
    {
     "data": {
      "text/plain": [
       "Session(id='cc428561-8e3c-4e01-829c-33924d731ca7', app_name='default-app-name', user_id='u_123', state={}, events=[], last_update_time=1749316598.6712692)"
      ]
     },
     "execution_count": 9,
     "metadata": {},
     "output_type": "execute_result"
    }
   ],
   "source": [
    "session = app.get_session(user_id=\"u_123\", session_id=session.id)\n",
    "session"
   ]
  },
  {
   "cell_type": "code",
   "execution_count": null,
   "id": "8772b7bd",
   "metadata": {},
   "outputs": [],
   "source": [
    "for event in app.stream_query(\n",
    "    user_id = 'u_123',\n",
    "    session_id = session.id,\n",
    "    message = 'What do you do?'\n",
    "):\n",
    "    print(event)"
   ]
  },
  {
   "cell_type": "code",
   "execution_count": 12,
   "id": "87e0b82f",
   "metadata": {},
   "outputs": [
    {
     "name": "stderr",
     "output_type": "stream",
     "text": [
      "Warning: there are non-text parts in the response: ['function_call'], returning concatenated text result from text parts. Check the full candidates.content.parts accessor to get the full model response.\n"
     ]
    },
    {
     "name": "stdout",
     "output_type": "stream",
     "text": [
      "{'content': {'parts': [{'function_call': {'id': 'adk-7c70745d-1670-473b-82c8-fd234e8ddc92', 'args': {'gcs_file_path': 'applied-ml-solution-prototypes/document-processing/vendor_2/fake_invoices/vendor_2_invoice_10.pdf', 'gcs_bucket': 'statmike-mlops-349915'}, 'name': 'get_gcs_file'}}], 'role': 'model'}, 'usage_metadata': {'candidates_token_count': 56, 'candidates_tokens_details': [{'modality': <MediaModality.TEXT: 'TEXT'>, 'token_count': 56}], 'prompt_token_count': 3583, 'prompt_tokens_details': [{'modality': <MediaModality.TEXT: 'TEXT'>, 'token_count': 3583}], 'total_token_count': 3639, 'traffic_type': <TrafficType.ON_DEMAND: 'ON_DEMAND'>}, 'invocation_id': 'e-989f09b7-7f2b-4bf8-afa6-8526eb7ce9cb', 'author': 'document_agent', 'actions': {'state_delta': {}, 'artifact_delta': {}, 'requested_auth_configs': {}}, 'long_running_tool_ids': set(), 'id': 'F7Y2oybx', 'timestamp': 1749316611.116951}\n",
      "{'content': {'parts': [{'function_response': {'id': 'adk-7c70745d-1670-473b-82c8-fd234e8ddc92', 'name': 'get_gcs_file', 'response': {'result': 'The file vendor_2_invoice_10.pdf of type application/pdf and size 256029 bytes was loaded as an artifact with artifact_key = gcsfile_statmike-mlops-349915_applied-ml-solution-prototypes_document-processing_vendor_2_fake_invoices_vendor_2_invoice_10.pdf and version = 0.\\nNote that pdf files are internally converted to png images (first page).'}}}], 'role': 'user'}, 'invocation_id': 'e-989f09b7-7f2b-4bf8-afa6-8526eb7ce9cb', 'author': 'document_agent', 'actions': {'state_delta': {}, 'artifact_delta': {'gcsfile_statmike-mlops-349915_applied-ml-solution-prototypes_document-processing_vendor_2_fake_invoices_vendor_2_invoice_10.pdf': 0}, 'requested_auth_configs': {}}, 'id': 'QAJl9hiN', 'timestamp': 1749316614.02212}\n",
      "{'content': {'parts': [{'text': 'Okay, I have loaded the file from GCS. The artifact key for this document is `gcsfile_statmike-mlops-349915_applied-ml-solution-prototypes_document-processing_vendor_2_fake_invoices_vendor_2_invoice_10.pdf`.\\n'}], 'role': 'model'}, 'usage_metadata': {'candidates_token_count': 68, 'candidates_tokens_details': [{'modality': <MediaModality.TEXT: 'TEXT'>, 'token_count': 68}], 'prompt_token_count': 3751, 'prompt_tokens_details': [{'modality': <MediaModality.TEXT: 'TEXT'>, 'token_count': 3751}], 'total_token_count': 3819, 'traffic_type': <TrafficType.ON_DEMAND: 'ON_DEMAND'>}, 'invocation_id': 'e-989f09b7-7f2b-4bf8-afa6-8526eb7ce9cb', 'author': 'document_agent', 'actions': {'state_delta': {}, 'artifact_delta': {}, 'requested_auth_configs': {}}, 'id': 'aT0ueQYB', 'timestamp': 1749316614.02341}\n"
     ]
    }
   ],
   "source": [
    "for event in app.stream_query(\n",
    "    user_id = 'u_123',\n",
    "    session_id = session.id,\n",
    "    message = 'use this file: gs://statmike-mlops-349915/applied-ml-solution-prototypes/document-processing/vendor_2/fake_invoices/vendor_2_invoice_10.pdf'\n",
    "):\n",
    "    print(event)"
   ]
  },
  {
   "cell_type": "code",
   "execution_count": 13,
   "id": "62ceff98",
   "metadata": {},
   "outputs": [
    {
     "data": {
      "text/plain": [
       "{'content': {'parts': [{'text': 'Okay, I have loaded the file from GCS. The artifact key for this document is `gcsfile_statmike-mlops-349915_applied-ml-solution-prototypes_document-processing_vendor_2_fake_invoices_vendor_2_invoice_10.pdf`.\\n'}],\n",
       "  'role': 'model'},\n",
       " 'usage_metadata': {'candidates_token_count': 68,\n",
       "  'candidates_tokens_details': [{'modality': <MediaModality.TEXT: 'TEXT'>,\n",
       "    'token_count': 68}],\n",
       "  'prompt_token_count': 3751,\n",
       "  'prompt_tokens_details': [{'modality': <MediaModality.TEXT: 'TEXT'>,\n",
       "    'token_count': 3751}],\n",
       "  'total_token_count': 3819,\n",
       "  'traffic_type': <TrafficType.ON_DEMAND: 'ON_DEMAND'>},\n",
       " 'invocation_id': 'e-989f09b7-7f2b-4bf8-afa6-8526eb7ce9cb',\n",
       " 'author': 'document_agent',\n",
       " 'actions': {'state_delta': {},\n",
       "  'artifact_delta': {},\n",
       "  'requested_auth_configs': {}},\n",
       " 'id': 'aT0ueQYB',\n",
       " 'timestamp': 1749316614.02341}"
      ]
     },
     "execution_count": 13,
     "metadata": {},
     "output_type": "execute_result"
    }
   ],
   "source": [
    "event"
   ]
  },
  {
   "cell_type": "code",
   "execution_count": 14,
   "id": "b92d6951",
   "metadata": {},
   "outputs": [
    {
     "data": {
      "text/plain": [
       "Session(id='cc428561-8e3c-4e01-829c-33924d731ca7', app_name='default-app-name', user_id='u_123', state={}, events=[Event(content=Content(parts=[Part(video_metadata=None, thought=None, inline_data=None, file_data=None, thought_signature=None, code_execution_result=None, executable_code=None, function_call=None, function_response=None, text='What do you do?')], role='user'), grounding_metadata=None, partial=None, turn_complete=None, error_code=None, error_message=None, interrupted=None, custom_metadata=None, usage_metadata=None, invocation_id='e-b6ed94f8-4582-41ef-9d39-c306a1ca024d', author='user', actions=EventActions(skip_summarization=None, state_delta={}, artifact_delta={}, transfer_to_agent=None, escalate=None, requested_auth_configs={}), long_running_tool_ids=None, branch=None, id='bzp9rqYP', timestamp=1749316602.632191), Event(content=Content(parts=[Part(video_metadata=None, thought=None, inline_data=None, file_data=None, thought_signature=None, code_execution_result=None, executable_code=None, function_call=None, function_response=None, text='I am the primary agent that processes document related requests. I can load documents, extract information, classify them, and compare them to vendor templates. To start, please upload a PDF/PNG file or provide the GCS URI (bucket and path) for the document you want to process.\\n')], role='model'), grounding_metadata=None, partial=None, turn_complete=None, error_code=None, error_message=None, interrupted=None, custom_metadata=None, usage_metadata=GenerateContentResponseUsageMetadata(cache_tokens_details=None, cached_content_token_count=None, candidates_token_count=59, candidates_tokens_details=[ModalityTokenCount(modality=<MediaModality.TEXT: 'TEXT'>, token_count=59)], prompt_token_count=3474, prompt_tokens_details=[ModalityTokenCount(modality=<MediaModality.TEXT: 'TEXT'>, token_count=3474)], thoughts_token_count=None, tool_use_prompt_token_count=None, tool_use_prompt_tokens_details=None, total_token_count=3533, traffic_type=<TrafficType.ON_DEMAND: 'ON_DEMAND'>), invocation_id='e-b6ed94f8-4582-41ef-9d39-c306a1ca024d', author='document_agent', actions=EventActions(skip_summarization=None, state_delta={}, artifact_delta={}, transfer_to_agent=None, escalate=None, requested_auth_configs={}), long_running_tool_ids=None, branch=None, id='sDT5rKML', timestamp=1749316602.635473), Event(content=Content(parts=[Part(video_metadata=None, thought=None, inline_data=None, file_data=None, thought_signature=None, code_execution_result=None, executable_code=None, function_call=None, function_response=None, text='use this file: gs://statmike-mlops-349915/applied-ml-solution-prototypes/document-processing/vendor_2/fake_invoices/vendor_2_invoice_10.pdf')], role='user'), grounding_metadata=None, partial=None, turn_complete=None, error_code=None, error_message=None, interrupted=None, custom_metadata=None, usage_metadata=None, invocation_id='e-989f09b7-7f2b-4bf8-afa6-8526eb7ce9cb', author='user', actions=EventActions(skip_summarization=None, state_delta={}, artifact_delta={}, transfer_to_agent=None, escalate=None, requested_auth_configs={}), long_running_tool_ids=None, branch=None, id='I8aCyyv6', timestamp=1749316611.115034), Event(content=Content(parts=[Part(video_metadata=None, thought=None, inline_data=None, file_data=None, thought_signature=None, code_execution_result=None, executable_code=None, function_call=FunctionCall(id='adk-7c70745d-1670-473b-82c8-fd234e8ddc92', args={'gcs_file_path': 'applied-ml-solution-prototypes/document-processing/vendor_2/fake_invoices/vendor_2_invoice_10.pdf', 'gcs_bucket': 'statmike-mlops-349915'}, name='get_gcs_file'), function_response=None, text=None)], role='model'), grounding_metadata=None, partial=None, turn_complete=None, error_code=None, error_message=None, interrupted=None, custom_metadata=None, usage_metadata=GenerateContentResponseUsageMetadata(cache_tokens_details=None, cached_content_token_count=None, candidates_token_count=56, candidates_tokens_details=[ModalityTokenCount(modality=<MediaModality.TEXT: 'TEXT'>, token_count=56)], prompt_token_count=3583, prompt_tokens_details=[ModalityTokenCount(modality=<MediaModality.TEXT: 'TEXT'>, token_count=3583)], thoughts_token_count=None, tool_use_prompt_token_count=None, tool_use_prompt_tokens_details=None, total_token_count=3639, traffic_type=<TrafficType.ON_DEMAND: 'ON_DEMAND'>), invocation_id='e-989f09b7-7f2b-4bf8-afa6-8526eb7ce9cb', author='document_agent', actions=EventActions(skip_summarization=None, state_delta={}, artifact_delta={}, transfer_to_agent=None, escalate=None, requested_auth_configs={}), long_running_tool_ids=set(), branch=None, id='F7Y2oybx', timestamp=1749316611.116951), Event(content=Content(parts=[Part(video_metadata=None, thought=None, inline_data=None, file_data=None, thought_signature=None, code_execution_result=None, executable_code=None, function_call=None, function_response=FunctionResponse(will_continue=None, scheduling=None, id='adk-7c70745d-1670-473b-82c8-fd234e8ddc92', name='get_gcs_file', response={'result': 'The file vendor_2_invoice_10.pdf of type application/pdf and size 256029 bytes was loaded as an artifact with artifact_key = gcsfile_statmike-mlops-349915_applied-ml-solution-prototypes_document-processing_vendor_2_fake_invoices_vendor_2_invoice_10.pdf and version = 0.\\nNote that pdf files are internally converted to png images (first page).'}), text=None)], role='user'), grounding_metadata=None, partial=None, turn_complete=None, error_code=None, error_message=None, interrupted=None, custom_metadata=None, usage_metadata=None, invocation_id='e-989f09b7-7f2b-4bf8-afa6-8526eb7ce9cb', author='document_agent', actions=EventActions(skip_summarization=None, state_delta={}, artifact_delta={'gcsfile_statmike-mlops-349915_applied-ml-solution-prototypes_document-processing_vendor_2_fake_invoices_vendor_2_invoice_10.pdf': 0}, transfer_to_agent=None, escalate=None, requested_auth_configs={}), long_running_tool_ids=None, branch=None, id='QAJl9hiN', timestamp=1749316614.02212), Event(content=Content(parts=[Part(video_metadata=None, thought=None, inline_data=None, file_data=None, thought_signature=None, code_execution_result=None, executable_code=None, function_call=None, function_response=None, text='Okay, I have loaded the file from GCS. The artifact key for this document is `gcsfile_statmike-mlops-349915_applied-ml-solution-prototypes_document-processing_vendor_2_fake_invoices_vendor_2_invoice_10.pdf`.\\n')], role='model'), grounding_metadata=None, partial=None, turn_complete=None, error_code=None, error_message=None, interrupted=None, custom_metadata=None, usage_metadata=GenerateContentResponseUsageMetadata(cache_tokens_details=None, cached_content_token_count=None, candidates_token_count=68, candidates_tokens_details=[ModalityTokenCount(modality=<MediaModality.TEXT: 'TEXT'>, token_count=68)], prompt_token_count=3751, prompt_tokens_details=[ModalityTokenCount(modality=<MediaModality.TEXT: 'TEXT'>, token_count=3751)], thoughts_token_count=None, tool_use_prompt_token_count=None, tool_use_prompt_tokens_details=None, total_token_count=3819, traffic_type=<TrafficType.ON_DEMAND: 'ON_DEMAND'>), invocation_id='e-989f09b7-7f2b-4bf8-afa6-8526eb7ce9cb', author='document_agent', actions=EventActions(skip_summarization=None, state_delta={}, artifact_delta={}, transfer_to_agent=None, escalate=None, requested_auth_configs={}), long_running_tool_ids=None, branch=None, id='aT0ueQYB', timestamp=1749316614.02341)], last_update_time=1749316614.02341)"
      ]
     },
     "execution_count": 14,
     "metadata": {},
     "output_type": "execute_result"
    }
   ],
   "source": [
    "app.get_session(user_id = 'u_123', session_id = session.id)"
   ]
  },
  {
   "cell_type": "code",
   "execution_count": 15,
   "id": "1fd8c576",
   "metadata": {},
   "outputs": [
    {
     "name": "stdout",
     "output_type": "stream",
     "text": [
      "content=Content(parts=[Part(video_metadata=None, thought=None, inline_data=None, file_data=None, thought_signature=None, code_execution_result=None, executable_code=None, function_call=None, function_response=None, text='What do you do?')], role='user') grounding_metadata=None partial=None turn_complete=None error_code=None error_message=None interrupted=None custom_metadata=None usage_metadata=None invocation_id='e-b6ed94f8-4582-41ef-9d39-c306a1ca024d' author='user' actions=EventActions(skip_summarization=None, state_delta={}, artifact_delta={}, transfer_to_agent=None, escalate=None, requested_auth_configs={}) long_running_tool_ids=None branch=None id='bzp9rqYP' timestamp=1749316602.632191\n",
      "content=Content(parts=[Part(video_metadata=None, thought=None, inline_data=None, file_data=None, thought_signature=None, code_execution_result=None, executable_code=None, function_call=None, function_response=None, text='I am the primary agent that processes document related requests. I can load documents, extract information, classify them, and compare them to vendor templates. To start, please upload a PDF/PNG file or provide the GCS URI (bucket and path) for the document you want to process.\\n')], role='model') grounding_metadata=None partial=None turn_complete=None error_code=None error_message=None interrupted=None custom_metadata=None usage_metadata=GenerateContentResponseUsageMetadata(cache_tokens_details=None, cached_content_token_count=None, candidates_token_count=59, candidates_tokens_details=[ModalityTokenCount(modality=<MediaModality.TEXT: 'TEXT'>, token_count=59)], prompt_token_count=3474, prompt_tokens_details=[ModalityTokenCount(modality=<MediaModality.TEXT: 'TEXT'>, token_count=3474)], thoughts_token_count=None, tool_use_prompt_token_count=None, tool_use_prompt_tokens_details=None, total_token_count=3533, traffic_type=<TrafficType.ON_DEMAND: 'ON_DEMAND'>) invocation_id='e-b6ed94f8-4582-41ef-9d39-c306a1ca024d' author='document_agent' actions=EventActions(skip_summarization=None, state_delta={}, artifact_delta={}, transfer_to_agent=None, escalate=None, requested_auth_configs={}) long_running_tool_ids=None branch=None id='sDT5rKML' timestamp=1749316602.635473\n",
      "content=Content(parts=[Part(video_metadata=None, thought=None, inline_data=None, file_data=None, thought_signature=None, code_execution_result=None, executable_code=None, function_call=None, function_response=None, text='use this file: gs://statmike-mlops-349915/applied-ml-solution-prototypes/document-processing/vendor_2/fake_invoices/vendor_2_invoice_10.pdf')], role='user') grounding_metadata=None partial=None turn_complete=None error_code=None error_message=None interrupted=None custom_metadata=None usage_metadata=None invocation_id='e-989f09b7-7f2b-4bf8-afa6-8526eb7ce9cb' author='user' actions=EventActions(skip_summarization=None, state_delta={}, artifact_delta={}, transfer_to_agent=None, escalate=None, requested_auth_configs={}) long_running_tool_ids=None branch=None id='I8aCyyv6' timestamp=1749316611.115034\n",
      "content=Content(parts=[Part(video_metadata=None, thought=None, inline_data=None, file_data=None, thought_signature=None, code_execution_result=None, executable_code=None, function_call=FunctionCall(id='adk-7c70745d-1670-473b-82c8-fd234e8ddc92', args={'gcs_file_path': 'applied-ml-solution-prototypes/document-processing/vendor_2/fake_invoices/vendor_2_invoice_10.pdf', 'gcs_bucket': 'statmike-mlops-349915'}, name='get_gcs_file'), function_response=None, text=None)], role='model') grounding_metadata=None partial=None turn_complete=None error_code=None error_message=None interrupted=None custom_metadata=None usage_metadata=GenerateContentResponseUsageMetadata(cache_tokens_details=None, cached_content_token_count=None, candidates_token_count=56, candidates_tokens_details=[ModalityTokenCount(modality=<MediaModality.TEXT: 'TEXT'>, token_count=56)], prompt_token_count=3583, prompt_tokens_details=[ModalityTokenCount(modality=<MediaModality.TEXT: 'TEXT'>, token_count=3583)], thoughts_token_count=None, tool_use_prompt_token_count=None, tool_use_prompt_tokens_details=None, total_token_count=3639, traffic_type=<TrafficType.ON_DEMAND: 'ON_DEMAND'>) invocation_id='e-989f09b7-7f2b-4bf8-afa6-8526eb7ce9cb' author='document_agent' actions=EventActions(skip_summarization=None, state_delta={}, artifact_delta={}, transfer_to_agent=None, escalate=None, requested_auth_configs={}) long_running_tool_ids=set() branch=None id='F7Y2oybx' timestamp=1749316611.116951\n",
      "content=Content(parts=[Part(video_metadata=None, thought=None, inline_data=None, file_data=None, thought_signature=None, code_execution_result=None, executable_code=None, function_call=None, function_response=FunctionResponse(will_continue=None, scheduling=None, id='adk-7c70745d-1670-473b-82c8-fd234e8ddc92', name='get_gcs_file', response={'result': 'The file vendor_2_invoice_10.pdf of type application/pdf and size 256029 bytes was loaded as an artifact with artifact_key = gcsfile_statmike-mlops-349915_applied-ml-solution-prototypes_document-processing_vendor_2_fake_invoices_vendor_2_invoice_10.pdf and version = 0.\\nNote that pdf files are internally converted to png images (first page).'}), text=None)], role='user') grounding_metadata=None partial=None turn_complete=None error_code=None error_message=None interrupted=None custom_metadata=None usage_metadata=None invocation_id='e-989f09b7-7f2b-4bf8-afa6-8526eb7ce9cb' author='document_agent' actions=EventActions(skip_summarization=None, state_delta={}, artifact_delta={'gcsfile_statmike-mlops-349915_applied-ml-solution-prototypes_document-processing_vendor_2_fake_invoices_vendor_2_invoice_10.pdf': 0}, transfer_to_agent=None, escalate=None, requested_auth_configs={}) long_running_tool_ids=None branch=None id='QAJl9hiN' timestamp=1749316614.02212\n",
      "content=Content(parts=[Part(video_metadata=None, thought=None, inline_data=None, file_data=None, thought_signature=None, code_execution_result=None, executable_code=None, function_call=None, function_response=None, text='Okay, I have loaded the file from GCS. The artifact key for this document is `gcsfile_statmike-mlops-349915_applied-ml-solution-prototypes_document-processing_vendor_2_fake_invoices_vendor_2_invoice_10.pdf`.\\n')], role='model') grounding_metadata=None partial=None turn_complete=None error_code=None error_message=None interrupted=None custom_metadata=None usage_metadata=GenerateContentResponseUsageMetadata(cache_tokens_details=None, cached_content_token_count=None, candidates_token_count=68, candidates_tokens_details=[ModalityTokenCount(modality=<MediaModality.TEXT: 'TEXT'>, token_count=68)], prompt_token_count=3751, prompt_tokens_details=[ModalityTokenCount(modality=<MediaModality.TEXT: 'TEXT'>, token_count=3751)], thoughts_token_count=None, tool_use_prompt_token_count=None, tool_use_prompt_tokens_details=None, total_token_count=3819, traffic_type=<TrafficType.ON_DEMAND: 'ON_DEMAND'>) invocation_id='e-989f09b7-7f2b-4bf8-afa6-8526eb7ce9cb' author='document_agent' actions=EventActions(skip_summarization=None, state_delta={}, artifact_delta={}, transfer_to_agent=None, escalate=None, requested_auth_configs={}) long_running_tool_ids=None branch=None id='aT0ueQYB' timestamp=1749316614.02341\n"
     ]
    }
   ],
   "source": [
    "for event in app.get_session(user_id = 'u_123', session_id = session.id).events:\n",
    "    print(event)"
   ]
  },
  {
   "cell_type": "code",
   "execution_count": 16,
   "id": "ad679e87",
   "metadata": {},
   "outputs": [],
   "source": [
    "app.delete_session(user_id = 'u_123', session_id = session.id)"
   ]
  },
  {
   "cell_type": "code",
   "execution_count": 17,
   "id": "ce0f3de2",
   "metadata": {},
   "outputs": [
    {
     "data": {
      "text/plain": [
       "ListSessionsResponse(sessions=[])"
      ]
     },
     "execution_count": 17,
     "metadata": {},
     "output_type": "execute_result"
    }
   ],
   "source": [
    "app.list_sessions(user_id = 'u_123')"
   ]
  },
  {
   "cell_type": "markdown",
   "id": "a4c098ab",
   "metadata": {},
   "source": [
    "more\n",
    "- create session with specified id"
   ]
  },
  {
   "cell_type": "markdown",
   "id": "3fe9c274",
   "metadata": {},
   "source": [
    "---\n",
    "## Deploy To Vertex AI Agent Engine\n",
    "\n",
    "Now that the ADK Agent has been tested locally it can be deployed to Vertex AI Agent Engine."
   ]
  },
  {
   "cell_type": "code",
   "execution_count": 18,
   "id": "68b5bb93",
   "metadata": {},
   "outputs": [
    {
     "name": "stdout",
     "output_type": "stream",
     "text": [
      "Deploying google.adk.agents.Agent as an application.\n",
      "Reading requirements from requirements='../requirements.txt'\n",
      "Read the following lines: ['absl-py==2.3.0', 'aiofiles==24.1.0', 'altair==5.5.0', 'annotated-types==0.7.0', 'anyio==4.9.0', 'asttokens==3.0.0', 'attrs==25.3.0', 'audioop-lts==0.2.1', 'Authlib==1.5.2', 'blinker==1.9.0', 'cachetools==5.5.2', 'certifi==2025.4.26', 'cffi==1.17.1', 'charset-normalizer==3.4.1', 'click==8.1.8', 'cloudpickle==3.1.1', 'comm==0.2.2', 'cryptography==44.0.2', 'db-dtypes==1.4.3', 'debugpy==1.8.14', 'decorator==5.2.1', 'deepdiff==6.7.1', 'Deprecated==1.2.18', 'docstring_parser==0.16', 'executing==2.2.0', 'fastapi==0.115.12', 'ffmpy==0.5.0', 'filelock==3.18.0', 'Flask==3.1.1', 'fsspec==2025.5.1', 'gitdb==4.0.12', 'GitPython==3.1.44', 'google-adk==1.2.1', 'google-api-core==2.24.2', 'google-api-python-client==2.169.0', 'google-auth==2.39.0', 'google-auth-httplib2==0.2.0', 'google-cloud-aiplatform==1.96.0', 'google-cloud-appengine-logging==1.6.1', 'google-cloud-audit-log==0.3.2', 'google-cloud-bigquery==3.31.0', 'google-cloud-core==2.4.3', 'google-cloud-documentai==3.5.0', 'google-cloud-logging==3.12.1', 'google-cloud-resource-manager==1.14.2', 'google-cloud-secret-manager==2.23.3', 'google-cloud-speech==2.32.0', 'google-cloud-storage==2.19.0', 'google-cloud-trace==1.16.1', 'google-crc32c==1.7.1', 'google-genai==1.19.0', 'google-resumable-media==2.7.2', 'googleapis-common-protos==1.70.0', 'gradio==5.31.0', 'gradio_client==1.10.1', 'graphviz==0.20.3', 'greenlet==3.2.1', 'groovy==0.1.2', 'grpc-google-iam-v1==0.14.2', 'grpcio==1.72.0rc1', 'grpcio-status==1.72.0rc1', 'h11==0.16.0', 'hf-xet==1.1.2', 'httpcore==1.0.9', 'httplib2==0.22.0', 'httpx==0.28.1', 'httpx-sse==0.4.0', 'huggingface-hub==0.32.2', 'idna==3.10', 'importlib_metadata==8.6.1', 'ipykernel==6.29.5', 'ipython==9.3.0', 'ipython_pygments_lexers==1.1.1', 'itsdangerous==2.2.0', 'jedi==0.19.2', 'Jinja2==3.1.6', 'jsonschema==4.24.0', 'jsonschema-specifications==2025.4.1', 'jupyter_client==8.6.3', 'jupyter_core==5.8.1', 'markdown-it-py==3.0.0', 'MarkupSafe==3.0.2', 'matplotlib-inline==0.1.7', 'mcp==1.9.3', 'mdurl==0.1.2', 'mesop==1.0.1', 'msgpack==1.1.0', 'narwhals==1.41.0', 'nest-asyncio==1.6.0', 'numpy==2.2.5', 'opentelemetry-api==1.32.1', 'opentelemetry-exporter-gcp-trace==1.9.0', 'opentelemetry-resourcedetector-gcp==1.9.0a0', 'opentelemetry-sdk==1.32.1', 'opentelemetry-semantic-conventions==0.53b1', 'ordered-set==4.1.0', 'orjson==3.10.18', 'packaging==24.2', 'pandas==2.2.3', 'parso==0.8.4', 'pexpect==4.9.0', 'pillow==11.2.1', 'platformdirs==4.3.8', 'prompt_toolkit==3.0.51', 'proto-plus==1.26.1', 'protobuf==6.30.2', 'psutil==7.0.0', 'ptyprocess==0.7.0', 'pure_eval==0.2.3', 'pyarrow==20.0.0', 'pyasn1==0.6.1', 'pyasn1_modules==0.4.2', 'pycparser==2.22', 'pydantic==2.11.4', 'pydantic-settings==2.9.1', 'pydantic_core==2.33.2', 'pydeck==0.9.1', 'pydub==0.25.1', 'Pygments==2.19.1', 'PyMuPDF==1.26.0', 'pyparsing==3.2.3', 'python-dateutil==2.9.0.post0', 'python-dotenv==1.1.0', 'python-multipart==0.0.20', 'pytz==2025.2', 'PyYAML==6.0.2', 'pyzmq==26.4.0', 'referencing==0.36.2', 'requests==2.32.3', 'rich==14.0.0', 'rpds-py==0.25.1', 'rsa==4.9.1', 'ruff==0.11.11', 'safehttpx==0.1.6', 'semantic-version==2.10.0', 'shapely==2.1.0', 'shellingham==1.5.4', 'six==1.17.0', 'smmap==5.0.2', 'sniffio==1.3.1', 'SQLAlchemy==2.0.40', 'sse-starlette==2.3.3', 'stack-data==0.6.3', 'starlette==0.46.2', 'streamlit==1.45.1', 'tabulate==0.9.0', 'tenacity==9.1.2', 'toml==0.10.2', 'tomlkit==0.13.2', 'tornado==6.5.1', 'tqdm==4.67.1', 'traitlets==5.14.3', 'typer==0.16.0', 'typing-inspection==0.4.0', 'typing_extensions==4.13.2', 'tzdata==2025.2', 'tzlocal==5.3.1', 'uritemplate==4.1.1', 'urllib3==2.4.0', 'uvicorn==0.34.2', 'watchdog==6.0.0', 'wcwidth==0.2.13', 'websockets==15.0.1', 'Werkzeug==3.1.3', 'wrapt==1.17.2', 'zipp==3.21.0']\n",
      "Identified the following requirements: {'pydantic': '2.11.4', 'google-cloud-aiplatform': '1.96.0', 'cloudpickle': '3.1.1'}\n",
      "The final list of requirements: ['absl-py==2.3.0', 'aiofiles==24.1.0', 'altair==5.5.0', 'annotated-types==0.7.0', 'anyio==4.9.0', 'asttokens==3.0.0', 'attrs==25.3.0', 'audioop-lts==0.2.1', 'Authlib==1.5.2', 'blinker==1.9.0', 'cachetools==5.5.2', 'certifi==2025.4.26', 'cffi==1.17.1', 'charset-normalizer==3.4.1', 'click==8.1.8', 'cloudpickle==3.1.1', 'comm==0.2.2', 'cryptography==44.0.2', 'db-dtypes==1.4.3', 'debugpy==1.8.14', 'decorator==5.2.1', 'deepdiff==6.7.1', 'Deprecated==1.2.18', 'docstring_parser==0.16', 'executing==2.2.0', 'fastapi==0.115.12', 'ffmpy==0.5.0', 'filelock==3.18.0', 'Flask==3.1.1', 'fsspec==2025.5.1', 'gitdb==4.0.12', 'GitPython==3.1.44', 'google-adk==1.2.1', 'google-api-core==2.24.2', 'google-api-python-client==2.169.0', 'google-auth==2.39.0', 'google-auth-httplib2==0.2.0', 'google-cloud-aiplatform==1.96.0', 'google-cloud-appengine-logging==1.6.1', 'google-cloud-audit-log==0.3.2', 'google-cloud-bigquery==3.31.0', 'google-cloud-core==2.4.3', 'google-cloud-documentai==3.5.0', 'google-cloud-logging==3.12.1', 'google-cloud-resource-manager==1.14.2', 'google-cloud-secret-manager==2.23.3', 'google-cloud-speech==2.32.0', 'google-cloud-storage==2.19.0', 'google-cloud-trace==1.16.1', 'google-crc32c==1.7.1', 'google-genai==1.19.0', 'google-resumable-media==2.7.2', 'googleapis-common-protos==1.70.0', 'gradio==5.31.0', 'gradio_client==1.10.1', 'graphviz==0.20.3', 'greenlet==3.2.1', 'groovy==0.1.2', 'grpc-google-iam-v1==0.14.2', 'grpcio==1.72.0rc1', 'grpcio-status==1.72.0rc1', 'h11==0.16.0', 'hf-xet==1.1.2', 'httpcore==1.0.9', 'httplib2==0.22.0', 'httpx==0.28.1', 'httpx-sse==0.4.0', 'huggingface-hub==0.32.2', 'idna==3.10', 'importlib_metadata==8.6.1', 'ipykernel==6.29.5', 'ipython==9.3.0', 'ipython_pygments_lexers==1.1.1', 'itsdangerous==2.2.0', 'jedi==0.19.2', 'Jinja2==3.1.6', 'jsonschema==4.24.0', 'jsonschema-specifications==2025.4.1', 'jupyter_client==8.6.3', 'jupyter_core==5.8.1', 'markdown-it-py==3.0.0', 'MarkupSafe==3.0.2', 'matplotlib-inline==0.1.7', 'mcp==1.9.3', 'mdurl==0.1.2', 'mesop==1.0.1', 'msgpack==1.1.0', 'narwhals==1.41.0', 'nest-asyncio==1.6.0', 'numpy==2.2.5', 'opentelemetry-api==1.32.1', 'opentelemetry-exporter-gcp-trace==1.9.0', 'opentelemetry-resourcedetector-gcp==1.9.0a0', 'opentelemetry-sdk==1.32.1', 'opentelemetry-semantic-conventions==0.53b1', 'ordered-set==4.1.0', 'orjson==3.10.18', 'packaging==24.2', 'pandas==2.2.3', 'parso==0.8.4', 'pexpect==4.9.0', 'pillow==11.2.1', 'platformdirs==4.3.8', 'prompt_toolkit==3.0.51', 'proto-plus==1.26.1', 'protobuf==6.30.2', 'psutil==7.0.0', 'ptyprocess==0.7.0', 'pure_eval==0.2.3', 'pyarrow==20.0.0', 'pyasn1==0.6.1', 'pyasn1_modules==0.4.2', 'pycparser==2.22', 'pydantic==2.11.4', 'pydantic-settings==2.9.1', 'pydantic_core==2.33.2', 'pydeck==0.9.1', 'pydub==0.25.1', 'Pygments==2.19.1', 'PyMuPDF==1.26.0', 'pyparsing==3.2.3', 'python-dateutil==2.9.0.post0', 'python-dotenv==1.1.0', 'python-multipart==0.0.20', 'pytz==2025.2', 'PyYAML==6.0.2', 'pyzmq==26.4.0', 'referencing==0.36.2', 'requests==2.32.3', 'rich==14.0.0', 'rpds-py==0.25.1', 'rsa==4.9.1', 'ruff==0.11.11', 'safehttpx==0.1.6', 'semantic-version==2.10.0', 'shapely==2.1.0', 'shellingham==1.5.4', 'six==1.17.0', 'smmap==5.0.2', 'sniffio==1.3.1', 'SQLAlchemy==2.0.40', 'sse-starlette==2.3.3', 'stack-data==0.6.3', 'starlette==0.46.2', 'streamlit==1.45.1', 'tabulate==0.9.0', 'tenacity==9.1.2', 'toml==0.10.2', 'tomlkit==0.13.2', 'tornado==6.5.1', 'tqdm==4.67.1', 'traitlets==5.14.3', 'typer==0.16.0', 'typing-inspection==0.4.0', 'typing_extensions==4.13.2', 'tzdata==2025.2', 'tzlocal==5.3.1', 'uritemplate==4.1.1', 'urllib3==2.4.0', 'uvicorn==0.34.2', 'watchdog==6.0.0', 'wcwidth==0.2.13', 'websockets==15.0.1', 'Werkzeug==3.1.3', 'wrapt==1.17.2', 'zipp==3.21.0']\n",
      "Using bucket statmike-mlops-349915\n",
      "Wrote to gs://statmike-mlops-349915/applied-ml-solution-prototypes/document-processing/agent_engine/staging/agent_engine.pkl\n",
      "Writing to gs://statmike-mlops-349915/applied-ml-solution-prototypes/document-processing/agent_engine/staging/requirements.txt\n",
      "Creating in-memory tarfile of extra_packages\n",
      "Writing to gs://statmike-mlops-349915/applied-ml-solution-prototypes/document-processing/agent_engine/staging/dependencies.tar.gz\n",
      "Creating AgentEngine\n",
      "Create AgentEngine backing LRO: projects/1026793852137/locations/us-central1/reasoningEngines/1988805428414251008/operations/296370438689259520\n",
      "View progress and logs at https://console.cloud.google.com/logs/query?project=statmike-mlops-349915\n",
      "AgentEngine created. Resource name: projects/1026793852137/locations/us-central1/reasoningEngines/1988805428414251008\n",
      "To use this AgentEngine in another session:\n",
      "agent_engine = vertexai.agent_engines.get('projects/1026793852137/locations/us-central1/reasoningEngines/1988805428414251008')\n"
     ]
    }
   ],
   "source": [
    "remote_app = agent_engines.create(\n",
    "    agent_engine = root_agent,\n",
    "    requirements = \"../requirements.txt\",\n",
    "    extra_packages = [\"./document_agent\"],\n",
    "    gcs_dir_name = 'applied-ml-solution-prototypes/document-processing/agent_engine/staging',\n",
    "    display_name = root_agent.name,\n",
    "    description = root_agent.description,\n",
    "    #env_vars = \n",
    ")"
   ]
  },
  {
   "cell_type": "code",
   "execution_count": 183,
   "id": "41c60493",
   "metadata": {},
   "outputs": [
    {
     "data": {
      "text/plain": [
       "'projects/1026793852137/locations/us-central1/reasoningEngines/1988805428414251008'"
      ]
     },
     "execution_count": 183,
     "metadata": {},
     "output_type": "execute_result"
    }
   ],
   "source": [
    "remote_app.resource_name"
   ]
  },
  {
   "cell_type": "code",
   "execution_count": 7,
   "id": "fb495818",
   "metadata": {},
   "outputs": [],
   "source": [
    "#remote_app = agent_engines.get(resource_name = 'projects/1026793852137/locations/us-central1/reasoningEngines/1988805428414251008')"
   ]
  },
  {
   "cell_type": "code",
   "execution_count": 185,
   "id": "dade4f2c",
   "metadata": {},
   "outputs": [
    {
     "data": {
      "text/plain": [
       "(True,\n",
       " 'ADK_DEPLOY_RESOURCE_ID',\n",
       " 'projects/1026793852137/locations/us-central1/reasoningEngines/1988805428414251008')"
      ]
     },
     "execution_count": 185,
     "metadata": {},
     "output_type": "execute_result"
    }
   ],
   "source": [
    "dotenv.set_key(\n",
    "    './apps/.env', 'ADK_DEPLOY_RESOURCE_ID', remote_app.resource_name\n",
    ")"
   ]
  },
  {
   "cell_type": "code",
   "execution_count": 186,
   "id": "e69be568",
   "metadata": {},
   "outputs": [
    {
     "data": {
      "text/plain": [
       "{'id': '2177099543449960448',\n",
       " 'state': {},\n",
       " 'events': [],\n",
       " 'lastUpdateTime': 1749406351.879862,\n",
       " 'appName': '1988805428414251008',\n",
       " 'userId': 'u_123'}"
      ]
     },
     "execution_count": 186,
     "metadata": {},
     "output_type": "execute_result"
    }
   ],
   "source": [
    "remote_session = remote_app.create_session(user_id = 'u_123')\n",
    "remote_session"
   ]
  },
  {
   "cell_type": "code",
   "execution_count": 187,
   "id": "3902d333",
   "metadata": {},
   "outputs": [
    {
     "data": {
      "text/plain": [
       "{'sessions': [{'id': '2177099543449960448',\n",
       "   'lastUpdateTime': 1749406351.879862,\n",
       "   'state': {},\n",
       "   'events': [],\n",
       "   'appName': '1988805428414251008',\n",
       "   'userId': 'u_123'}]}"
      ]
     },
     "execution_count": 187,
     "metadata": {},
     "output_type": "execute_result"
    }
   ],
   "source": [
    "remote_app.list_sessions(user_id = 'u_123')"
   ]
  },
  {
   "cell_type": "code",
   "execution_count": 188,
   "id": "84f506ef",
   "metadata": {},
   "outputs": [
    {
     "data": {
      "text/plain": [
       "{'id': '2177099543449960448',\n",
       " 'lastUpdateTime': 1749406351.879862,\n",
       " 'state': {},\n",
       " 'events': [],\n",
       " 'appName': '1988805428414251008',\n",
       " 'userId': 'u_123'}"
      ]
     },
     "execution_count": 188,
     "metadata": {},
     "output_type": "execute_result"
    }
   ],
   "source": [
    "remote_session = remote_app.get_session(user_id = \"u_123\", session_id = remote_session['id'])\n",
    "remote_session"
   ]
  },
  {
   "cell_type": "code",
   "execution_count": 189,
   "id": "84145651",
   "metadata": {},
   "outputs": [
    {
     "name": "stdout",
     "output_type": "stream",
     "text": [
      "{'content': {'parts': [{'text': 'I am the primary agent that processes document related requests. I can load documents, classify them, extract data, and compare them to vendor templates. To start, please upload a PDF/PNG file or provide the GCS URI (bucket and path) for the document you want to process.\\n'}], 'role': 'model'}, 'usage_metadata': {'candidates_token_count': 59, 'candidates_tokens_details': [{'modality': 'TEXT', 'token_count': 59}], 'prompt_token_count': 3474, 'prompt_tokens_details': [{'modality': 'TEXT', 'token_count': 3474}], 'total_token_count': 3533, 'traffic_type': 'ON_DEMAND'}, 'invocation_id': 'e-677976b1-9315-4f8e-96c0-d31af507916e', 'author': 'document_agent', 'actions': {'state_delta': {}, 'artifact_delta': {}, 'requested_auth_configs': {}}, 'id': 'y7AIIbNE', 'timestamp': 1749406356.888147}\n"
     ]
    }
   ],
   "source": [
    "import json\n",
    "from google import genai\n",
    "\n",
    "message = genai.types.Content(\n",
    "    role = 'user',\n",
    "    parts = [genai.types.Part.from_text(text = 'What do you do?')]    \n",
    ")\n",
    "\n",
    "for event in remote_app.stream_query(\n",
    "    user_id = 'u_123',\n",
    "    session_id = remote_session['id'],\n",
    "    #message = message # DOES NOT WORK WITH GENAI OBJECTS \n",
    "    #message = json.dumps([{'text' : 'What do you do?'}]) # NO ERROR BUT IT JUST PASSES JSON TEXT AS TEXT PART\n",
    "    message = 'What do you do?'\n",
    "):\n",
    "    print(event)"
   ]
  },
  {
   "cell_type": "code",
   "execution_count": 190,
   "id": "c6d56ef9",
   "metadata": {},
   "outputs": [
    {
     "name": "stdout",
     "output_type": "stream",
     "text": [
      "{'content': {'parts': [{'text': 'I am designed to orchestrate document processing workflows. This means I am best at handling the overall process of taking a document, preparing it using various tools, and then dispatching it to specialized sub-agents for tasks like in-depth analysis, comparison, or answering specific questions about the content. I ensure all the necessary steps are completed in the correct order and that the results are presented to you clearly. I am also capable of remembering key information, such as artifact keys and classification results, to be used in subsequent steps.\\n'}], 'role': 'model'}, 'usage_metadata': {'candidates_token_count': 106, 'candidates_tokens_details': [{'modality': 'TEXT', 'token_count': 106}], 'prompt_token_count': 3539, 'prompt_tokens_details': [{'modality': 'TEXT', 'token_count': 3539}], 'total_token_count': 3645, 'traffic_type': 'ON_DEMAND'}, 'invocation_id': 'e-c488389d-2afb-46cf-8b12-b8e7d1e6599a', 'author': 'document_agent', 'actions': {'state_delta': {}, 'artifact_delta': {}, 'requested_auth_configs': {}}, 'id': 'wHfSCg25', 'timestamp': 1749406359.416949}\n"
     ]
    }
   ],
   "source": [
    "async for event in remote_app.async_stream_query(\n",
    "    user_id = 'u_123',\n",
    "    session_id = remote_session['id'],\n",
    "    message = 'What do you do best?'\n",
    "):\n",
    "    print(event)"
   ]
  },
  {
   "cell_type": "code",
   "execution_count": 191,
   "id": "4fe702f6",
   "metadata": {},
   "outputs": [
    {
     "data": {
      "text/plain": [
       "dict"
      ]
     },
     "execution_count": 191,
     "metadata": {},
     "output_type": "execute_result"
    }
   ],
   "source": [
    "type(event)"
   ]
  },
  {
   "cell_type": "code",
   "execution_count": 192,
   "id": "1f13fc97",
   "metadata": {},
   "outputs": [
    {
     "data": {
      "text/plain": [
       "generator"
      ]
     },
     "execution_count": 192,
     "metadata": {},
     "output_type": "execute_result"
    }
   ],
   "source": [
    "stream = remote_app.stream_query(\n",
    "    user_id = 'u_123',\n",
    "    session_id = remote_session['id'],\n",
    "    message = 'What do you do first?'\n",
    ")\n",
    "type(stream)"
   ]
  },
  {
   "cell_type": "code",
   "execution_count": 193,
   "id": "f3dc1761",
   "metadata": {},
   "outputs": [
    {
     "name": "stdout",
     "output_type": "stream",
     "text": [
      "{'content': {'parts': [{'text': 'The first thing I need to do is obtain the document you want to process. Please upload a PDF/PNG file or provide the GCS URI (bucket and path) for the document.\\n'}], 'role': 'model'}, 'usage_metadata': {'candidates_token_count': 39, 'candidates_tokens_details': [{'modality': 'TEXT', 'token_count': 39}], 'prompt_token_count': 3651, 'prompt_tokens_details': [{'modality': 'TEXT', 'token_count': 3651}], 'total_token_count': 3690, 'traffic_type': 'ON_DEMAND'}, 'invocation_id': 'e-b9397c1b-e387-4f51-a2d8-6430418d82e9', 'author': 'document_agent', 'actions': {'state_delta': {}, 'artifact_delta': {}, 'requested_auth_configs': {}}, 'id': '50111ldt', 'timestamp': 1749406364.031439}\n"
     ]
    }
   ],
   "source": [
    "for event in stream:\n",
    "    print(event)"
   ]
  },
  {
   "cell_type": "code",
   "execution_count": 194,
   "id": "dbd6fe8e",
   "metadata": {},
   "outputs": [
    {
     "data": {
      "text/plain": [
       "{'content': {'parts': [{'text': 'The first thing I need to do is obtain the document you want to process. Please upload a PDF/PNG file or provide the GCS URI (bucket and path) for the document.\\n'}],\n",
       "  'role': 'model'},\n",
       " 'usage_metadata': {'candidates_token_count': 39,\n",
       "  'candidates_tokens_details': [{'modality': 'TEXT', 'token_count': 39}],\n",
       "  'prompt_token_count': 3651,\n",
       "  'prompt_tokens_details': [{'modality': 'TEXT', 'token_count': 3651}],\n",
       "  'total_token_count': 3690,\n",
       "  'traffic_type': 'ON_DEMAND'},\n",
       " 'invocation_id': 'e-b9397c1b-e387-4f51-a2d8-6430418d82e9',\n",
       " 'author': 'document_agent',\n",
       " 'actions': {'state_delta': {},\n",
       "  'artifact_delta': {},\n",
       "  'requested_auth_configs': {}},\n",
       " 'id': '50111ldt',\n",
       " 'timestamp': 1749406364.031439}"
      ]
     },
     "execution_count": 194,
     "metadata": {},
     "output_type": "execute_result"
    }
   ],
   "source": [
    "event"
   ]
  },
  {
   "cell_type": "code",
   "execution_count": 195,
   "id": "741b47c9",
   "metadata": {},
   "outputs": [
    {
     "data": {
      "text/plain": [
       "'The first thing I need to do is obtain the document you want to process. Please upload a PDF/PNG file or provide the GCS URI (bucket and path) for the document.\\n'"
      ]
     },
     "execution_count": 195,
     "metadata": {},
     "output_type": "execute_result"
    }
   ],
   "source": [
    "event['content']['parts'][-1]['text']"
   ]
  },
  {
   "cell_type": "code",
   "execution_count": 196,
   "id": "280b0ef7",
   "metadata": {},
   "outputs": [
    {
     "name": "stdout",
     "output_type": "stream",
     "text": [
      "{'content': {'parts': [{'function_call': {'id': 'adk-ec674964-45f1-459b-8766-6a92b9fedc15', 'args': {'gcs_file_path': 'applied-ml-solution-prototypes/document-processing/vendor_2/fake_invoices/vendor_2_invoice_10.pdf', 'gcs_bucket': 'statmike-mlops-349915'}, 'name': 'get_gcs_file'}}], 'role': 'model'}, 'usage_metadata': {'candidates_token_count': 56, 'candidates_tokens_details': [{'modality': 'TEXT', 'token_count': 56}], 'prompt_token_count': 3740, 'prompt_tokens_details': [{'modality': 'TEXT', 'token_count': 3740}], 'total_token_count': 3796, 'traffic_type': 'ON_DEMAND'}, 'invocation_id': 'e-1b95e891-dbb1-4bf9-bd7a-0f12e62241b6', 'author': 'document_agent', 'actions': {'state_delta': {}, 'artifact_delta': {}, 'requested_auth_configs': {}}, 'long_running_tool_ids': [], 'id': '08qIaBFB', 'timestamp': 1749406369.072305}\n",
      "{'content': {'parts': [{'function_response': {'id': 'adk-ec674964-45f1-459b-8766-6a92b9fedc15', 'name': 'get_gcs_file', 'response': {'result': 'The file vendor_2_invoice_10.pdf of type application/pdf and size 256029 bytes was loaded as an artifact with artifact_key = gcsfile_statmike-mlops-349915_applied-ml-solution-prototypes_document-processing_vendor_2_fake_invoices_vendor_2_invoice_10.pdf and version = 0.\\nNote that pdf files are internally converted to png images (first page).'}}}], 'role': 'user'}, 'invocation_id': 'e-1b95e891-dbb1-4bf9-bd7a-0f12e62241b6', 'author': 'document_agent', 'actions': {'state_delta': {}, 'artifact_delta': {'gcsfile_statmike-mlops-349915_applied-ml-solution-prototypes_document-processing_vendor_2_fake_invoices_vendor_2_invoice_10.pdf': 0}, 'requested_auth_configs': {}}, 'id': 'IWwwH2u5', 'timestamp': 1749406370.666711}\n",
      "{'content': {'parts': [{'text': 'Okay, I have loaded the file from GCS. The artifact key for this document is `gcsfile_statmike-mlops-349915_applied-ml-solution-prototypes_document-processing_vendor_2_fake_invoices_vendor_2_invoice_10.pdf`.\\n'}], 'role': 'model'}, 'usage_metadata': {'candidates_token_count': 68, 'candidates_tokens_details': [{'modality': 'TEXT', 'token_count': 68}], 'prompt_token_count': 3908, 'prompt_tokens_details': [{'modality': 'TEXT', 'token_count': 3908}], 'total_token_count': 3976, 'traffic_type': 'ON_DEMAND'}, 'invocation_id': 'e-1b95e891-dbb1-4bf9-bd7a-0f12e62241b6', 'author': 'document_agent', 'actions': {'state_delta': {}, 'artifact_delta': {}, 'requested_auth_configs': {}}, 'id': '7FfH7ObF', 'timestamp': 1749406370.835172}\n"
     ]
    }
   ],
   "source": [
    "for event in remote_app.stream_query(\n",
    "    user_id = 'u_123',\n",
    "    session_id = remote_session['id'],\n",
    "    message = 'use this file: gs://statmike-mlops-349915/applied-ml-solution-prototypes/document-processing/vendor_2/fake_invoices/vendor_2_invoice_10.pdf'\n",
    "):\n",
    "    print(event)"
   ]
  },
  {
   "cell_type": "code",
   "execution_count": 197,
   "id": "8f8b8e0b",
   "metadata": {},
   "outputs": [
    {
     "data": {
      "text/plain": [
       "(dict,\n",
       " {'content': {'parts': [{'text': 'Okay, I have loaded the file from GCS. The artifact key for this document is `gcsfile_statmike-mlops-349915_applied-ml-solution-prototypes_document-processing_vendor_2_fake_invoices_vendor_2_invoice_10.pdf`.\\n'}],\n",
       "   'role': 'model'},\n",
       "  'usage_metadata': {'candidates_token_count': 68,\n",
       "   'candidates_tokens_details': [{'modality': 'TEXT', 'token_count': 68}],\n",
       "   'prompt_token_count': 3908,\n",
       "   'prompt_tokens_details': [{'modality': 'TEXT', 'token_count': 3908}],\n",
       "   'total_token_count': 3976,\n",
       "   'traffic_type': 'ON_DEMAND'},\n",
       "  'invocation_id': 'e-1b95e891-dbb1-4bf9-bd7a-0f12e62241b6',\n",
       "  'author': 'document_agent',\n",
       "  'actions': {'state_delta': {},\n",
       "   'artifact_delta': {},\n",
       "   'requested_auth_configs': {}},\n",
       "  'id': '7FfH7ObF',\n",
       "  'timestamp': 1749406370.835172})"
      ]
     },
     "execution_count": 197,
     "metadata": {},
     "output_type": "execute_result"
    }
   ],
   "source": [
    "type(event), event"
   ]
  },
  {
   "cell_type": "markdown",
   "id": "8d85dc34",
   "metadata": {},
   "source": [
    "### Use CURL:"
   ]
  },
  {
   "cell_type": "code",
   "execution_count": 198,
   "id": "b7894cc6",
   "metadata": {},
   "outputs": [
    {
     "data": {
      "text/plain": [
       "'https://us-central1-aiplatform.googleapis.com/v1/projects/1026793852137/locations/us-central1/reasoningEngines/1988805428414251008'"
      ]
     },
     "execution_count": 198,
     "metadata": {},
     "output_type": "execute_result"
    }
   ],
   "source": [
    "URL = f\"https://{os.getenv('GOOGLE_CLOUD_LOCATION')}-aiplatform.googleapis.com/v1/{remote_app.resource_name}\"\n",
    "URL"
   ]
  },
  {
   "cell_type": "code",
   "execution_count": 204,
   "id": "051f54a2",
   "metadata": {},
   "outputs": [
    {
     "data": {
      "text/plain": [
       "{'class_method': 'get_session',\n",
       " 'input': {'user_id': 'u_123', 'session_id': '2177099543449960448'}}"
      ]
     },
     "execution_count": 204,
     "metadata": {},
     "output_type": "execute_result"
    }
   ],
   "source": [
    "payload = dict(\n",
    "    class_method = 'get_session',\n",
    "    input = dict(\n",
    "        user_id = 'u_123',\n",
    "        session_id = remote_session['id']\n",
    "    )\n",
    ")\n",
    "payload"
   ]
  },
  {
   "cell_type": "code",
   "execution_count": 205,
   "id": "9f35ac94",
   "metadata": {},
   "outputs": [],
   "source": [
    "import google.auth"
   ]
  },
  {
   "cell_type": "code",
   "execution_count": 206,
   "id": "b6a2e3c5",
   "metadata": {},
   "outputs": [],
   "source": [
    "credentials, _ = google.auth.default()\n",
    "auth_req = google.auth.transport.requests.Request()\n",
    "credentials.refresh(auth_req)\n",
    "headers = {'Authorization': f'Bearer {credentials.token}'}\n",
    "response = requests.post(URL+':query', headers = headers, json = payload)    \n",
    "response.raise_for_status()"
   ]
  },
  {
   "cell_type": "code",
   "execution_count": 207,
   "id": "6b4fe8a4",
   "metadata": {},
   "outputs": [
    {
     "data": {
      "text/plain": [
       "{'output': {'userId': 'u_123',\n",
       "  'appName': '1988805428414251008',\n",
       "  'events': [{'timestamp': 1749406356.673932,\n",
       "    'interrupted': None,\n",
       "    'id': '1038108851167035392',\n",
       "    'partial': None,\n",
       "    'usageMetadata': None,\n",
       "    'errorCode': None,\n",
       "    'author': 'user',\n",
       "    'customMetadata': None,\n",
       "    'actions': {'transferToAgent': None,\n",
       "     'requestedAuthConfigs': {},\n",
       "     'artifactDelta': {},\n",
       "     'skipSummarization': None,\n",
       "     'escalate': None,\n",
       "     'stateDelta': {}},\n",
       "    'longRunningToolIds': None,\n",
       "    'errorMessage': None,\n",
       "    'invocationId': 'e-677976b1-9315-4f8e-96c0-d31af507916e',\n",
       "    'turnComplete': None,\n",
       "    'groundingMetadata': None,\n",
       "    'content': {'role': 'user',\n",
       "     'parts': [{'videoMetadata': None,\n",
       "       'text': 'What do you do?',\n",
       "       'inlineData': None,\n",
       "       'executableCode': None,\n",
       "       'thoughtSignature': None,\n",
       "       'thought': None,\n",
       "       'fileData': None,\n",
       "       'functionResponse': None,\n",
       "       'codeExecutionResult': None,\n",
       "       'functionCall': None}]},\n",
       "    'branch': None},\n",
       "   {'id': '5411104089343787008',\n",
       "    'turnComplete': None,\n",
       "    'errorCode': None,\n",
       "    'branch': None,\n",
       "    'usageMetadata': None,\n",
       "    'actions': {'escalate': None,\n",
       "     'transferToAgent': None,\n",
       "     'artifactDelta': {},\n",
       "     'skipSummarization': None,\n",
       "     'stateDelta': {},\n",
       "     'requestedAuthConfigs': {}},\n",
       "    'customMetadata': None,\n",
       "    'partial': None,\n",
       "    'content': {'parts': [{'videoMetadata': None,\n",
       "       'executableCode': None,\n",
       "       'fileData': None,\n",
       "       'inlineData': None,\n",
       "       'functionCall': None,\n",
       "       'thought': None,\n",
       "       'functionResponse': None,\n",
       "       'codeExecutionResult': None,\n",
       "       'thoughtSignature': None,\n",
       "       'text': 'I am the primary agent that processes document related requests. I can load documents, classify them, extract data, and compare them to vendor templates. To start, please upload a PDF/PNG file or provide the GCS URI (bucket and path) for the document you want to process.\\n'}],\n",
       "     'role': 'model'},\n",
       "    'groundingMetadata': None,\n",
       "    'invocationId': 'e-677976b1-9315-4f8e-96c0-d31af507916e',\n",
       "    'author': 'document_agent',\n",
       "    'interrupted': None,\n",
       "    'errorMessage': None,\n",
       "    'timestamp': 1749406356.888147,\n",
       "    'longRunningToolIds': None},\n",
       "   {'branch': None,\n",
       "    'id': '7901594683279671296',\n",
       "    'content': {'role': 'user',\n",
       "     'parts': [{'executableCode': None,\n",
       "       'fileData': None,\n",
       "       'thought': None,\n",
       "       'functionCall': None,\n",
       "       'videoMetadata': None,\n",
       "       'thoughtSignature': None,\n",
       "       'inlineData': None,\n",
       "       'codeExecutionResult': None,\n",
       "       'text': 'What do you do best?',\n",
       "       'functionResponse': None}]},\n",
       "    'groundingMetadata': None,\n",
       "    'invocationId': 'e-c488389d-2afb-46cf-8b12-b8e7d1e6599a',\n",
       "    'errorMessage': None,\n",
       "    'usageMetadata': None,\n",
       "    'errorCode': None,\n",
       "    'actions': {'stateDelta': {},\n",
       "     'artifactDelta': {},\n",
       "     'skipSummarization': None,\n",
       "     'requestedAuthConfigs': {},\n",
       "     'transferToAgent': None,\n",
       "     'escalate': None},\n",
       "    'longRunningToolIds': None,\n",
       "    'customMetadata': None,\n",
       "    'author': 'user',\n",
       "    'timestamp': 1749406359.189419,\n",
       "    'turnComplete': None,\n",
       "    'partial': None,\n",
       "    'interrupted': None},\n",
       "   {'author': 'document_agent',\n",
       "    'turnComplete': None,\n",
       "    'longRunningToolIds': None,\n",
       "    'content': {'role': 'model',\n",
       "     'parts': [{'text': 'I am designed to orchestrate document processing workflows. This means I am best at handling the overall process of taking a document, preparing it using various tools, and then dispatching it to specialized sub-agents for tasks like in-depth analysis, comparison, or answering specific questions about the content. I ensure all the necessary steps are completed in the correct order and that the results are presented to you clearly. I am also capable of remembering key information, such as artifact keys and classification results, to be used in subsequent steps.\\n',\n",
       "       'executableCode': None,\n",
       "       'codeExecutionResult': None,\n",
       "       'fileData': None,\n",
       "       'functionCall': None,\n",
       "       'thoughtSignature': None,\n",
       "       'thought': None,\n",
       "       'functionResponse': None,\n",
       "       'videoMetadata': None,\n",
       "       'inlineData': None}]},\n",
       "    'timestamp': 1749406359.416949,\n",
       "    'interrupted': None,\n",
       "    'errorMessage': None,\n",
       "    'customMetadata': None,\n",
       "    'branch': None,\n",
       "    'usageMetadata': None,\n",
       "    'invocationId': 'e-c488389d-2afb-46cf-8b12-b8e7d1e6599a',\n",
       "    'errorCode': None,\n",
       "    'partial': None,\n",
       "    'id': '2136987160245436416',\n",
       "    'groundingMetadata': None,\n",
       "    'actions': {'escalate': None,\n",
       "     'artifactDelta': {},\n",
       "     'stateDelta': {},\n",
       "     'transferToAgent': None,\n",
       "     'requestedAuthConfigs': {},\n",
       "     'skipSummarization': None}},\n",
       "   {'partial': None,\n",
       "    'id': '5649794869594423296',\n",
       "    'turnComplete': None,\n",
       "    'author': 'user',\n",
       "    'customMetadata': None,\n",
       "    'longRunningToolIds': None,\n",
       "    'errorCode': None,\n",
       "    'interrupted': None,\n",
       "    'actions': {'stateDelta': {},\n",
       "     'escalate': None,\n",
       "     'skipSummarization': None,\n",
       "     'requestedAuthConfigs': {},\n",
       "     'artifactDelta': {},\n",
       "     'transferToAgent': None},\n",
       "    'groundingMetadata': None,\n",
       "    'errorMessage': None,\n",
       "    'timestamp': 1749406363.823968,\n",
       "    'branch': None,\n",
       "    'usageMetadata': None,\n",
       "    'invocationId': 'e-b9397c1b-e387-4f51-a2d8-6430418d82e9',\n",
       "    'content': {'role': 'user',\n",
       "     'parts': [{'functionCall': None,\n",
       "       'executableCode': None,\n",
       "       'thought': None,\n",
       "       'functionResponse': None,\n",
       "       'thoughtSignature': None,\n",
       "       'videoMetadata': None,\n",
       "       'fileData': None,\n",
       "       'inlineData': None,\n",
       "       'codeExecutionResult': None,\n",
       "       'text': 'What do you do first?'}]}},\n",
       "   {'invocationId': 'e-b9397c1b-e387-4f51-a2d8-6430418d82e9',\n",
       "    'content': {'parts': [{'thoughtSignature': None,\n",
       "       'inlineData': None,\n",
       "       'functionCall': None,\n",
       "       'fileData': None,\n",
       "       'videoMetadata': None,\n",
       "       'thought': None,\n",
       "       'functionResponse': None,\n",
       "       'codeExecutionResult': None,\n",
       "       'text': 'The first thing I need to do is obtain the document you want to process. Please upload a PDF/PNG file or provide the GCS URI (bucket and path) for the document.\\n',\n",
       "       'executableCode': None}],\n",
       "     'role': 'model'},\n",
       "    'errorCode': None,\n",
       "    'longRunningToolIds': None,\n",
       "    'interrupted': None,\n",
       "    'partial': None,\n",
       "    'actions': {'skipSummarization': None,\n",
       "     'transferToAgent': None,\n",
       "     'artifactDelta': {},\n",
       "     'requestedAuthConfigs': {},\n",
       "     'stateDelta': {},\n",
       "     'escalate': None},\n",
       "    'groundingMetadata': None,\n",
       "    'turnComplete': None,\n",
       "    'author': 'document_agent',\n",
       "    'customMetadata': None,\n",
       "    'usageMetadata': None,\n",
       "    'errorMessage': None,\n",
       "    'timestamp': 1749406364.031439,\n",
       "    'branch': None,\n",
       "    'id': '7271090735447801856'},\n",
       "   {'content': {'parts': [{'thoughtSignature': None,\n",
       "       'text': 'use this file: gs://statmike-mlops-349915/applied-ml-solution-prototypes/document-processing/vendor_2/fake_invoices/vendor_2_invoice_10.pdf',\n",
       "       'executableCode': None,\n",
       "       'thought': None,\n",
       "       'functionCall': None,\n",
       "       'videoMetadata': None,\n",
       "       'functionResponse': None,\n",
       "       'codeExecutionResult': None,\n",
       "       'inlineData': None,\n",
       "       'fileData': None}],\n",
       "     'role': 'user'},\n",
       "    'interrupted': None,\n",
       "    'partial': None,\n",
       "    'actions': {'artifactDelta': {},\n",
       "     'escalate': None,\n",
       "     'requestedAuthConfigs': {},\n",
       "     'skipSummarization': None,\n",
       "     'transferToAgent': None,\n",
       "     'stateDelta': {}},\n",
       "    'longRunningToolIds': None,\n",
       "    'author': 'user',\n",
       "    'invocationId': 'e-1b95e891-dbb1-4bf9-bd7a-0f12e62241b6',\n",
       "    'branch': None,\n",
       "    'id': '7217047539919355904',\n",
       "    'groundingMetadata': None,\n",
       "    'turnComplete': None,\n",
       "    'customMetadata': None,\n",
       "    'errorCode': None,\n",
       "    'timestamp': 1749406368.913703,\n",
       "    'usageMetadata': None,\n",
       "    'errorMessage': None},\n",
       "   {'timestamp': 1749406369.072304,\n",
       "    'branch': None,\n",
       "    'content': {'role': 'model',\n",
       "     'parts': [{'thoughtSignature': None,\n",
       "       'functionResponse': None,\n",
       "       'thought': None,\n",
       "       'functionCall': {'args': {'gcs_file_path': 'applied-ml-solution-prototypes/document-processing/vendor_2/fake_invoices/vendor_2_invoice_10.pdf',\n",
       "         'gcs_bucket': 'statmike-mlops-349915'},\n",
       "        'name': 'get_gcs_file',\n",
       "        'id': 'adk-ec674964-45f1-459b-8766-6a92b9fedc15'},\n",
       "       'fileData': None,\n",
       "       'videoMetadata': None,\n",
       "       'executableCode': None,\n",
       "       'inlineData': None,\n",
       "       'codeExecutionResult': None,\n",
       "       'text': None}]},\n",
       "    'errorMessage': None,\n",
       "    'invocationId': 'e-1b95e891-dbb1-4bf9-bd7a-0f12e62241b6',\n",
       "    'id': '6748673178672824320',\n",
       "    'usageMetadata': None,\n",
       "    'partial': None,\n",
       "    'groundingMetadata': None,\n",
       "    'turnComplete': None,\n",
       "    'longRunningToolIds': None,\n",
       "    'author': 'document_agent',\n",
       "    'errorCode': None,\n",
       "    'interrupted': None,\n",
       "    'actions': {'transferToAgent': None,\n",
       "     'stateDelta': {},\n",
       "     'artifactDelta': {},\n",
       "     'skipSummarization': None,\n",
       "     'escalate': None,\n",
       "     'requestedAuthConfigs': {}},\n",
       "    'customMetadata': None},\n",
       "   {'branch': None,\n",
       "    'content': {'parts': [{'functionResponse': {'scheduling': None,\n",
       "        'name': 'get_gcs_file',\n",
       "        'willContinue': None,\n",
       "        'response': {'result': 'The file vendor_2_invoice_10.pdf of type application/pdf and size 256029 bytes was loaded as an artifact with artifact_key = gcsfile_statmike-mlops-349915_applied-ml-solution-prototypes_document-processing_vendor_2_fake_invoices_vendor_2_invoice_10.pdf and version = 0.\\nNote that pdf files are internally converted to png images (first page).'},\n",
       "        'id': 'adk-ec674964-45f1-459b-8766-6a92b9fedc15'},\n",
       "       'videoMetadata': None,\n",
       "       'thought': None,\n",
       "       'inlineData': None,\n",
       "       'executableCode': None,\n",
       "       'codeExecutionResult': None,\n",
       "       'functionCall': None,\n",
       "       'text': None,\n",
       "       'fileData': None,\n",
       "       'thoughtSignature': None}],\n",
       "     'role': 'user'},\n",
       "    'actions': {'transferToAgent': None,\n",
       "     'escalate': None,\n",
       "     'skipSummarization': None,\n",
       "     'artifactDelta': {'gcsfile_statmike-mlops-349915_applied-ml-solution-prototypes_document-processing_vendor_2_fake_invoices_vendor_2_invoice_10.pdf': 0},\n",
       "     'stateDelta': {},\n",
       "     'requestedAuthConfigs': {}},\n",
       "    'invocationId': 'e-1b95e891-dbb1-4bf9-bd7a-0f12e62241b6',\n",
       "    'id': '4442830169459130368',\n",
       "    'author': 'document_agent',\n",
       "    'interrupted': None,\n",
       "    'turnComplete': None,\n",
       "    'usageMetadata': None,\n",
       "    'groundingMetadata': None,\n",
       "    'errorMessage': None,\n",
       "    'timestamp': 1749406370.666711,\n",
       "    'partial': None,\n",
       "    'errorCode': None,\n",
       "    'longRunningToolIds': None,\n",
       "    'customMetadata': None},\n",
       "   {'invocationId': 'e-1b95e891-dbb1-4bf9-bd7a-0f12e62241b6',\n",
       "    'partial': None,\n",
       "    'usageMetadata': None,\n",
       "    'interrupted': None,\n",
       "    'turnComplete': None,\n",
       "    'timestamp': 1749406370.835171,\n",
       "    'customMetadata': None,\n",
       "    'branch': None,\n",
       "    'id': '3105261080130093056',\n",
       "    'errorMessage': None,\n",
       "    'content': {'role': 'model',\n",
       "     'parts': [{'thought': None,\n",
       "       'thoughtSignature': None,\n",
       "       'functionResponse': None,\n",
       "       'inlineData': None,\n",
       "       'text': 'Okay, I have loaded the file from GCS. The artifact key for this document is `gcsfile_statmike-mlops-349915_applied-ml-solution-prototypes_document-processing_vendor_2_fake_invoices_vendor_2_invoice_10.pdf`.\\n',\n",
       "       'fileData': None,\n",
       "       'functionCall': None,\n",
       "       'videoMetadata': None,\n",
       "       'codeExecutionResult': None,\n",
       "       'executableCode': None}]},\n",
       "    'longRunningToolIds': None,\n",
       "    'groundingMetadata': None,\n",
       "    'actions': {'stateDelta': {},\n",
       "     'artifactDelta': {},\n",
       "     'skipSummarization': None,\n",
       "     'escalate': None,\n",
       "     'requestedAuthConfigs': {},\n",
       "     'transferToAgent': None},\n",
       "    'errorCode': None,\n",
       "    'author': 'document_agent'}],\n",
       "  'lastUpdateTime': 1749406371.741538,\n",
       "  'id': '2177099543449960448',\n",
       "  'state': {}}}"
      ]
     },
     "execution_count": 207,
     "metadata": {},
     "output_type": "execute_result"
    }
   ],
   "source": [
    "response.json()"
   ]
  },
  {
   "cell_type": "code",
   "execution_count": 216,
   "id": "bbe31814",
   "metadata": {},
   "outputs": [],
   "source": [
    "payload = dict(\n",
    "    class_method = 'stream_query',\n",
    "    input = dict(\n",
    "        user_id = 'u_123',\n",
    "        session_id = remote_session['id'],\n",
    "        message = 'Do you do data extraction?'\n",
    "    )\n",
    ")\n",
    "credentials.refresh(auth_req)\n",
    "headers = {'Authorization': f'Bearer {credentials.token}'}\n",
    "response = requests.post(URL+':streamQuery?alt=sse', headers = headers, json = payload, stream = True)    \n",
    "response.raise_for_status()"
   ]
  },
  {
   "cell_type": "code",
   "execution_count": 217,
   "id": "065647dc",
   "metadata": {},
   "outputs": [
    {
     "data": {
      "text/plain": [
       "{'content': {'parts': [{'text': 'Yes, I can perform data extraction on the document. Would you like me to proceed with extracting the data from the document I just loaded with artifact key `gcsfile_statmike-mlops-349915_applied-ml-solution-prototypes_document-processing_vendor_2_fake_invoices_vendor_2_invoice_10.pdf`?\\n'}],\n",
       "  'role': 'model'},\n",
       " 'usage_metadata': {'candidates_token_count': 81,\n",
       "  'candidates_tokens_details': [{'modality': 'TEXT', 'token_count': 81}],\n",
       "  'prompt_token_count': 4012,\n",
       "  'prompt_tokens_details': [{'modality': 'TEXT', 'token_count': 4012}],\n",
       "  'total_token_count': 4093,\n",
       "  'traffic_type': 'ON_DEMAND'},\n",
       " 'invocation_id': 'e-7ab1118e-7699-464e-a625-f2ceedf35927',\n",
       " 'author': 'document_agent',\n",
       " 'actions': {'state_delta': {},\n",
       "  'artifact_delta': {},\n",
       "  'requested_auth_configs': {}},\n",
       " 'id': '38r65IYA',\n",
       " 'timestamp': 1749415164.650748}"
      ]
     },
     "execution_count": 217,
     "metadata": {},
     "output_type": "execute_result"
    }
   ],
   "source": [
    "response.json()"
   ]
  },
  {
   "cell_type": "code",
   "execution_count": 224,
   "id": "9d7de8a3",
   "metadata": {},
   "outputs": [
    {
     "name": "stdout",
     "output_type": "stream",
     "text": [
      "Yes, I can perform data extraction on the document. Would you like me to proceed with extracting the data from the document I just loaded with artifact key `gcsfile_statmike-mlops-349915_applied-ml-solution-prototypes_document-processing_vendor_2_fake_invoices_vendor_2_invoice_10.pdf`?\n",
      "\n"
     ]
    }
   ],
   "source": [
    "for line in response.iter_lines(decode_unicode=True):\n",
    "    print(json.loads(line).get('content').get('parts')[0].get('text'))"
   ]
  },
  {
   "cell_type": "markdown",
   "id": "c3086bf1",
   "metadata": {},
   "source": [
    "### Back To SDK"
   ]
  },
  {
   "cell_type": "code",
   "execution_count": 225,
   "id": "59b93706",
   "metadata": {},
   "outputs": [
    {
     "data": {
      "text/plain": [
       "{'id': '2177099543449960448',\n",
       " 'state': {},\n",
       " 'lastUpdateTime': 1749415165.554814,\n",
       " 'events': [{'interrupted': None,\n",
       "   'invocationId': 'e-677976b1-9315-4f8e-96c0-d31af507916e',\n",
       "   'partial': None,\n",
       "   'branch': None,\n",
       "   'id': '1038108851167035392',\n",
       "   'turnComplete': None,\n",
       "   'usageMetadata': None,\n",
       "   'content': {'role': 'user',\n",
       "    'parts': [{'fileData': None,\n",
       "      'thought': None,\n",
       "      'codeExecutionResult': None,\n",
       "      'text': 'What do you do?',\n",
       "      'inlineData': None,\n",
       "      'videoMetadata': None,\n",
       "      'thoughtSignature': None,\n",
       "      'functionResponse': None,\n",
       "      'executableCode': None,\n",
       "      'functionCall': None}]},\n",
       "   'groundingMetadata': None,\n",
       "   'customMetadata': None,\n",
       "   'longRunningToolIds': None,\n",
       "   'errorCode': None,\n",
       "   'timestamp': 1749406356.673932,\n",
       "   'author': 'user',\n",
       "   'errorMessage': None,\n",
       "   'actions': {'artifactDelta': {},\n",
       "    'escalate': None,\n",
       "    'skipSummarization': None,\n",
       "    'transferToAgent': None,\n",
       "    'requestedAuthConfigs': {},\n",
       "    'stateDelta': {}}},\n",
       "  {'errorMessage': None,\n",
       "   'invocationId': 'e-677976b1-9315-4f8e-96c0-d31af507916e',\n",
       "   'partial': None,\n",
       "   'branch': None,\n",
       "   'id': '5411104089343787008',\n",
       "   'turnComplete': None,\n",
       "   'usageMetadata': None,\n",
       "   'content': {'role': 'model',\n",
       "    'parts': [{'fileData': None,\n",
       "      'thought': None,\n",
       "      'codeExecutionResult': None,\n",
       "      'text': 'I am the primary agent that processes document related requests. I can load documents, classify them, extract data, and compare them to vendor templates. To start, please upload a PDF/PNG file or provide the GCS URI (bucket and path) for the document you want to process.\\n',\n",
       "      'inlineData': None,\n",
       "      'videoMetadata': None,\n",
       "      'functionResponse': None,\n",
       "      'thoughtSignature': None,\n",
       "      'executableCode': None,\n",
       "      'functionCall': None}]},\n",
       "   'groundingMetadata': None,\n",
       "   'customMetadata': None,\n",
       "   'longRunningToolIds': None,\n",
       "   'timestamp': 1749406356.888147,\n",
       "   'errorCode': None,\n",
       "   'author': 'document_agent',\n",
       "   'interrupted': None,\n",
       "   'actions': {'artifactDelta': {},\n",
       "    'escalate': None,\n",
       "    'transferToAgent': None,\n",
       "    'skipSummarization': None,\n",
       "    'requestedAuthConfigs': {},\n",
       "    'stateDelta': {}}},\n",
       "  {'interrupted': None,\n",
       "   'partial': None,\n",
       "   'invocationId': 'e-c488389d-2afb-46cf-8b12-b8e7d1e6599a',\n",
       "   'branch': None,\n",
       "   'id': '7901594683279671296',\n",
       "   'turnComplete': None,\n",
       "   'usageMetadata': None,\n",
       "   'content': {'role': 'user',\n",
       "    'parts': [{'fileData': None,\n",
       "      'thought': None,\n",
       "      'codeExecutionResult': None,\n",
       "      'text': 'What do you do best?',\n",
       "      'inlineData': None,\n",
       "      'videoMetadata': None,\n",
       "      'thoughtSignature': None,\n",
       "      'functionResponse': None,\n",
       "      'executableCode': None,\n",
       "      'functionCall': None}]},\n",
       "   'groundingMetadata': None,\n",
       "   'customMetadata': None,\n",
       "   'longRunningToolIds': None,\n",
       "   'errorCode': None,\n",
       "   'timestamp': 1749406359.189419,\n",
       "   'author': 'user',\n",
       "   'errorMessage': None,\n",
       "   'actions': {'artifactDelta': {},\n",
       "    'escalate': None,\n",
       "    'skipSummarization': None,\n",
       "    'transferToAgent': None,\n",
       "    'requestedAuthConfigs': {},\n",
       "    'stateDelta': {}}},\n",
       "  {'errorMessage': None,\n",
       "   'partial': None,\n",
       "   'invocationId': 'e-c488389d-2afb-46cf-8b12-b8e7d1e6599a',\n",
       "   'branch': None,\n",
       "   'id': '2136987160245436416',\n",
       "   'turnComplete': None,\n",
       "   'usageMetadata': None,\n",
       "   'content': {'role': 'model',\n",
       "    'parts': [{'fileData': None,\n",
       "      'thought': None,\n",
       "      'codeExecutionResult': None,\n",
       "      'text': 'I am designed to orchestrate document processing workflows. This means I am best at handling the overall process of taking a document, preparing it using various tools, and then dispatching it to specialized sub-agents for tasks like in-depth analysis, comparison, or answering specific questions about the content. I ensure all the necessary steps are completed in the correct order and that the results are presented to you clearly. I am also capable of remembering key information, such as artifact keys and classification results, to be used in subsequent steps.\\n',\n",
       "      'inlineData': None,\n",
       "      'videoMetadata': None,\n",
       "      'thoughtSignature': None,\n",
       "      'functionResponse': None,\n",
       "      'executableCode': None,\n",
       "      'functionCall': None}]},\n",
       "   'groundingMetadata': None,\n",
       "   'customMetadata': None,\n",
       "   'longRunningToolIds': None,\n",
       "   'timestamp': 1749406359.416949,\n",
       "   'errorCode': None,\n",
       "   'author': 'document_agent',\n",
       "   'interrupted': None,\n",
       "   'actions': {'artifactDelta': {},\n",
       "    'escalate': None,\n",
       "    'transferToAgent': None,\n",
       "    'skipSummarization': None,\n",
       "    'requestedAuthConfigs': {},\n",
       "    'stateDelta': {}}},\n",
       "  {'interrupted': None,\n",
       "   'partial': None,\n",
       "   'invocationId': 'e-b9397c1b-e387-4f51-a2d8-6430418d82e9',\n",
       "   'branch': None,\n",
       "   'id': '5649794869594423296',\n",
       "   'turnComplete': None,\n",
       "   'usageMetadata': None,\n",
       "   'content': {'role': 'user',\n",
       "    'parts': [{'fileData': None,\n",
       "      'thought': None,\n",
       "      'codeExecutionResult': None,\n",
       "      'inlineData': None,\n",
       "      'text': 'What do you do first?',\n",
       "      'videoMetadata': None,\n",
       "      'thoughtSignature': None,\n",
       "      'functionResponse': None,\n",
       "      'executableCode': None,\n",
       "      'functionCall': None}]},\n",
       "   'groundingMetadata': None,\n",
       "   'customMetadata': None,\n",
       "   'longRunningToolIds': None,\n",
       "   'timestamp': 1749406363.823968,\n",
       "   'errorCode': None,\n",
       "   'author': 'user',\n",
       "   'errorMessage': None,\n",
       "   'actions': {'artifactDelta': {},\n",
       "    'escalate': None,\n",
       "    'transferToAgent': None,\n",
       "    'skipSummarization': None,\n",
       "    'requestedAuthConfigs': {},\n",
       "    'stateDelta': {}}},\n",
       "  {'errorMessage': None,\n",
       "   'partial': None,\n",
       "   'invocationId': 'e-b9397c1b-e387-4f51-a2d8-6430418d82e9',\n",
       "   'branch': None,\n",
       "   'id': '7271090735447801856',\n",
       "   'turnComplete': None,\n",
       "   'usageMetadata': None,\n",
       "   'content': {'role': 'model',\n",
       "    'parts': [{'fileData': None,\n",
       "      'thought': None,\n",
       "      'codeExecutionResult': None,\n",
       "      'text': 'The first thing I need to do is obtain the document you want to process. Please upload a PDF/PNG file or provide the GCS URI (bucket and path) for the document.\\n',\n",
       "      'inlineData': None,\n",
       "      'videoMetadata': None,\n",
       "      'thoughtSignature': None,\n",
       "      'functionResponse': None,\n",
       "      'executableCode': None,\n",
       "      'functionCall': None}]},\n",
       "   'groundingMetadata': None,\n",
       "   'customMetadata': None,\n",
       "   'longRunningToolIds': None,\n",
       "   'timestamp': 1749406364.031439,\n",
       "   'errorCode': None,\n",
       "   'author': 'document_agent',\n",
       "   'interrupted': None,\n",
       "   'actions': {'artifactDelta': {},\n",
       "    'escalate': None,\n",
       "    'transferToAgent': None,\n",
       "    'skipSummarization': None,\n",
       "    'requestedAuthConfigs': {},\n",
       "    'stateDelta': {}}},\n",
       "  {'interrupted': None,\n",
       "   'invocationId': 'e-1b95e891-dbb1-4bf9-bd7a-0f12e62241b6',\n",
       "   'partial': None,\n",
       "   'branch': None,\n",
       "   'id': '7217047539919355904',\n",
       "   'turnComplete': None,\n",
       "   'usageMetadata': None,\n",
       "   'content': {'role': 'user',\n",
       "    'parts': [{'fileData': None,\n",
       "      'thought': None,\n",
       "      'codeExecutionResult': None,\n",
       "      'inlineData': None,\n",
       "      'text': 'use this file: gs://statmike-mlops-349915/applied-ml-solution-prototypes/document-processing/vendor_2/fake_invoices/vendor_2_invoice_10.pdf',\n",
       "      'videoMetadata': None,\n",
       "      'functionResponse': None,\n",
       "      'thoughtSignature': None,\n",
       "      'executableCode': None,\n",
       "      'functionCall': None}]},\n",
       "   'groundingMetadata': None,\n",
       "   'customMetadata': None,\n",
       "   'longRunningToolIds': None,\n",
       "   'errorCode': None,\n",
       "   'timestamp': 1749406368.913703,\n",
       "   'author': 'user',\n",
       "   'errorMessage': None,\n",
       "   'actions': {'artifactDelta': {},\n",
       "    'escalate': None,\n",
       "    'transferToAgent': None,\n",
       "    'skipSummarization': None,\n",
       "    'requestedAuthConfigs': {},\n",
       "    'stateDelta': {}}},\n",
       "  {'interrupted': None,\n",
       "   'partial': None,\n",
       "   'invocationId': 'e-1b95e891-dbb1-4bf9-bd7a-0f12e62241b6',\n",
       "   'branch': None,\n",
       "   'id': '6748673178672824320',\n",
       "   'turnComplete': None,\n",
       "   'usageMetadata': None,\n",
       "   'content': {'role': 'model',\n",
       "    'parts': [{'fileData': None,\n",
       "      'thought': None,\n",
       "      'codeExecutionResult': None,\n",
       "      'inlineData': None,\n",
       "      'text': None,\n",
       "      'videoMetadata': None,\n",
       "      'functionResponse': None,\n",
       "      'thoughtSignature': None,\n",
       "      'executableCode': None,\n",
       "      'functionCall': {'id': 'adk-ec674964-45f1-459b-8766-6a92b9fedc15',\n",
       "       'args': {'gcs_bucket': 'statmike-mlops-349915',\n",
       "        'gcs_file_path': 'applied-ml-solution-prototypes/document-processing/vendor_2/fake_invoices/vendor_2_invoice_10.pdf'},\n",
       "       'name': 'get_gcs_file'}}]},\n",
       "   'groundingMetadata': None,\n",
       "   'customMetadata': None,\n",
       "   'longRunningToolIds': None,\n",
       "   'errorCode': None,\n",
       "   'timestamp': 1749406369.072304,\n",
       "   'author': 'document_agent',\n",
       "   'errorMessage': None,\n",
       "   'actions': {'artifactDelta': {},\n",
       "    'escalate': None,\n",
       "    'skipSummarization': None,\n",
       "    'transferToAgent': None,\n",
       "    'requestedAuthConfigs': {},\n",
       "    'stateDelta': {}}},\n",
       "  {'interrupted': None,\n",
       "   'partial': None,\n",
       "   'invocationId': 'e-1b95e891-dbb1-4bf9-bd7a-0f12e62241b6',\n",
       "   'branch': None,\n",
       "   'id': '4442830169459130368',\n",
       "   'turnComplete': None,\n",
       "   'usageMetadata': None,\n",
       "   'content': {'role': 'user',\n",
       "    'parts': [{'fileData': None,\n",
       "      'thought': None,\n",
       "      'codeExecutionResult': None,\n",
       "      'inlineData': None,\n",
       "      'text': None,\n",
       "      'videoMetadata': None,\n",
       "      'thoughtSignature': None,\n",
       "      'functionResponse': {'id': 'adk-ec674964-45f1-459b-8766-6a92b9fedc15',\n",
       "       'scheduling': None,\n",
       "       'response': {'result': 'The file vendor_2_invoice_10.pdf of type application/pdf and size 256029 bytes was loaded as an artifact with artifact_key = gcsfile_statmike-mlops-349915_applied-ml-solution-prototypes_document-processing_vendor_2_fake_invoices_vendor_2_invoice_10.pdf and version = 0.\\nNote that pdf files are internally converted to png images (first page).'},\n",
       "       'willContinue': None,\n",
       "       'name': 'get_gcs_file'},\n",
       "      'executableCode': None,\n",
       "      'functionCall': None}]},\n",
       "   'groundingMetadata': None,\n",
       "   'customMetadata': None,\n",
       "   'longRunningToolIds': None,\n",
       "   'timestamp': 1749406370.666711,\n",
       "   'errorCode': None,\n",
       "   'author': 'document_agent',\n",
       "   'errorMessage': None,\n",
       "   'actions': {'artifactDelta': {'gcsfile_statmike-mlops-349915_applied-ml-solution-prototypes_document-processing_vendor_2_fake_invoices_vendor_2_invoice_10.pdf': 0.0},\n",
       "    'escalate': None,\n",
       "    'transferToAgent': None,\n",
       "    'skipSummarization': None,\n",
       "    'requestedAuthConfigs': {},\n",
       "    'stateDelta': {}}},\n",
       "  {'interrupted': None,\n",
       "   'invocationId': 'e-1b95e891-dbb1-4bf9-bd7a-0f12e62241b6',\n",
       "   'partial': None,\n",
       "   'branch': None,\n",
       "   'id': '3105261080130093056',\n",
       "   'turnComplete': None,\n",
       "   'usageMetadata': None,\n",
       "   'content': {'role': 'model',\n",
       "    'parts': [{'fileData': None,\n",
       "      'thought': None,\n",
       "      'codeExecutionResult': None,\n",
       "      'text': 'Okay, I have loaded the file from GCS. The artifact key for this document is `gcsfile_statmike-mlops-349915_applied-ml-solution-prototypes_document-processing_vendor_2_fake_invoices_vendor_2_invoice_10.pdf`.\\n',\n",
       "      'inlineData': None,\n",
       "      'videoMetadata': None,\n",
       "      'thoughtSignature': None,\n",
       "      'functionResponse': None,\n",
       "      'executableCode': None,\n",
       "      'functionCall': None}]},\n",
       "   'groundingMetadata': None,\n",
       "   'customMetadata': None,\n",
       "   'longRunningToolIds': None,\n",
       "   'errorCode': None,\n",
       "   'timestamp': 1749406370.835171,\n",
       "   'author': 'document_agent',\n",
       "   'errorMessage': None,\n",
       "   'actions': {'artifactDelta': {},\n",
       "    'escalate': None,\n",
       "    'transferToAgent': None,\n",
       "    'skipSummarization': None,\n",
       "    'requestedAuthConfigs': {},\n",
       "    'stateDelta': {}}},\n",
       "  {'errorMessage': None,\n",
       "   'partial': None,\n",
       "   'invocationId': 'e-66d76bef-9642-4a9c-a262-d55a2bdbeaf7',\n",
       "   'branch': None,\n",
       "   'id': '8509580632974688256',\n",
       "   'turnComplete': None,\n",
       "   'usageMetadata': None,\n",
       "   'content': {'role': 'user',\n",
       "    'parts': [{'fileData': None,\n",
       "      'thought': None,\n",
       "      'codeExecutionResult': None,\n",
       "      'text': 'Do you do data extraction?',\n",
       "      'inlineData': None,\n",
       "      'videoMetadata': None,\n",
       "      'functionResponse': None,\n",
       "      'thoughtSignature': None,\n",
       "      'executableCode': None,\n",
       "      'functionCall': None}]},\n",
       "   'groundingMetadata': None,\n",
       "   'customMetadata': None,\n",
       "   'longRunningToolIds': None,\n",
       "   'timestamp': 1749415086.94518,\n",
       "   'errorCode': None,\n",
       "   'author': 'user',\n",
       "   'interrupted': None,\n",
       "   'actions': {'artifactDelta': {},\n",
       "    'escalate': None,\n",
       "    'transferToAgent': None,\n",
       "    'skipSummarization': None,\n",
       "    'requestedAuthConfigs': {},\n",
       "    'stateDelta': {}}},\n",
       "  {'interrupted': None,\n",
       "   'partial': None,\n",
       "   'invocationId': 'e-66d76bef-9642-4a9c-a262-d55a2bdbeaf7',\n",
       "   'branch': None,\n",
       "   'id': '1015590853030182912',\n",
       "   'turnComplete': None,\n",
       "   'usageMetadata': None,\n",
       "   'content': {'role': 'model',\n",
       "    'parts': [{'fileData': None,\n",
       "      'thought': None,\n",
       "      'codeExecutionResult': None,\n",
       "      'inlineData': None,\n",
       "      'text': 'Yes, I can perform data extraction. Would you like me to extract the data from the document I just loaded?\\n',\n",
       "      'videoMetadata': None,\n",
       "      'functionResponse': None,\n",
       "      'thoughtSignature': None,\n",
       "      'executableCode': None,\n",
       "      'functionCall': None}]},\n",
       "   'groundingMetadata': None,\n",
       "   'customMetadata': None,\n",
       "   'longRunningToolIds': None,\n",
       "   'errorCode': None,\n",
       "   'timestamp': 1749415087.1036,\n",
       "   'author': 'document_agent',\n",
       "   'errorMessage': None,\n",
       "   'actions': {'artifactDelta': {},\n",
       "    'escalate': None,\n",
       "    'skipSummarization': None,\n",
       "    'transferToAgent': None,\n",
       "    'requestedAuthConfigs': {},\n",
       "    'stateDelta': {}}},\n",
       "  {'errorMessage': None,\n",
       "   'invocationId': 'e-7ab1118e-7699-464e-a625-f2ceedf35927',\n",
       "   'partial': None,\n",
       "   'branch': None,\n",
       "   'id': '5627276871457570816',\n",
       "   'turnComplete': None,\n",
       "   'usageMetadata': None,\n",
       "   'content': {'role': 'user',\n",
       "    'parts': [{'fileData': None,\n",
       "      'thought': None,\n",
       "      'codeExecutionResult': None,\n",
       "      'inlineData': None,\n",
       "      'text': 'Do you do data extraction?',\n",
       "      'videoMetadata': None,\n",
       "      'functionResponse': None,\n",
       "      'thoughtSignature': None,\n",
       "      'executableCode': None,\n",
       "      'functionCall': None}]},\n",
       "   'groundingMetadata': None,\n",
       "   'customMetadata': None,\n",
       "   'longRunningToolIds': None,\n",
       "   'timestamp': 1749415164.400372,\n",
       "   'errorCode': None,\n",
       "   'author': 'user',\n",
       "   'interrupted': None,\n",
       "   'actions': {'artifactDelta': {},\n",
       "    'escalate': None,\n",
       "    'transferToAgent': None,\n",
       "    'skipSummarization': None,\n",
       "    'requestedAuthConfigs': {},\n",
       "    'stateDelta': {}}},\n",
       "  {'errorMessage': None,\n",
       "   'invocationId': 'e-7ab1118e-7699-464e-a625-f2ceedf35927',\n",
       "   'partial': None,\n",
       "   'branch': None,\n",
       "   'id': '6041608037175656448',\n",
       "   'turnComplete': None,\n",
       "   'usageMetadata': None,\n",
       "   'content': {'role': 'model',\n",
       "    'parts': [{'fileData': None,\n",
       "      'thought': None,\n",
       "      'codeExecutionResult': None,\n",
       "      'inlineData': None,\n",
       "      'text': 'Yes, I can perform data extraction on the document. Would you like me to proceed with extracting the data from the document I just loaded with artifact key `gcsfile_statmike-mlops-349915_applied-ml-solution-prototypes_document-processing_vendor_2_fake_invoices_vendor_2_invoice_10.pdf`?\\n',\n",
       "      'videoMetadata': None,\n",
       "      'thoughtSignature': None,\n",
       "      'functionResponse': None,\n",
       "      'executableCode': None,\n",
       "      'functionCall': None}]},\n",
       "   'groundingMetadata': None,\n",
       "   'customMetadata': None,\n",
       "   'longRunningToolIds': None,\n",
       "   'timestamp': 1749415164.650748,\n",
       "   'errorCode': None,\n",
       "   'author': 'document_agent',\n",
       "   'interrupted': None,\n",
       "   'actions': {'artifactDelta': {},\n",
       "    'escalate': None,\n",
       "    'transferToAgent': None,\n",
       "    'skipSummarization': None,\n",
       "    'requestedAuthConfigs': {},\n",
       "    'stateDelta': {}}}],\n",
       " 'appName': '1988805428414251008',\n",
       " 'userId': 'u_123'}"
      ]
     },
     "execution_count": 225,
     "metadata": {},
     "output_type": "execute_result"
    }
   ],
   "source": [
    "remote_app.get_session(user_id = 'u_123', session_id = remote_session['id'])"
   ]
  },
  {
   "cell_type": "code",
   "execution_count": 226,
   "id": "9963c4fb",
   "metadata": {},
   "outputs": [
    {
     "name": "stdout",
     "output_type": "stream",
     "text": [
      "{'errorMessage': None, 'invocationId': 'e-677976b1-9315-4f8e-96c0-d31af507916e', 'partial': None, 'branch': None, 'id': '1038108851167035392', 'turnComplete': None, 'usageMetadata': None, 'content': {'role': 'user', 'parts': [{'fileData': None, 'thought': None, 'codeExecutionResult': None, 'inlineData': None, 'text': 'What do you do?', 'videoMetadata': None, 'functionResponse': None, 'thoughtSignature': None, 'executableCode': None, 'functionCall': None}]}, 'groundingMetadata': None, 'customMetadata': None, 'longRunningToolIds': None, 'errorCode': None, 'timestamp': 1749406356.673932, 'author': 'user', 'interrupted': None, 'actions': {'artifactDelta': {}, 'escalate': None, 'skipSummarization': None, 'transferToAgent': None, 'requestedAuthConfigs': {}, 'stateDelta': {}}}\n",
      "{'errorMessage': None, 'invocationId': 'e-677976b1-9315-4f8e-96c0-d31af507916e', 'partial': None, 'branch': None, 'id': '5411104089343787008', 'turnComplete': None, 'usageMetadata': None, 'content': {'role': 'model', 'parts': [{'fileData': None, 'thought': None, 'codeExecutionResult': None, 'text': 'I am the primary agent that processes document related requests. I can load documents, classify them, extract data, and compare them to vendor templates. To start, please upload a PDF/PNG file or provide the GCS URI (bucket and path) for the document you want to process.\\n', 'inlineData': None, 'videoMetadata': None, 'thoughtSignature': None, 'functionResponse': None, 'executableCode': None, 'functionCall': None}]}, 'groundingMetadata': None, 'customMetadata': None, 'longRunningToolIds': None, 'errorCode': None, 'timestamp': 1749406356.888147, 'author': 'document_agent', 'interrupted': None, 'actions': {'artifactDelta': {}, 'escalate': None, 'transferToAgent': None, 'skipSummarization': None, 'requestedAuthConfigs': {}, 'stateDelta': {}}}\n",
      "{'errorMessage': None, 'invocationId': 'e-c488389d-2afb-46cf-8b12-b8e7d1e6599a', 'partial': None, 'branch': None, 'id': '7901594683279671296', 'turnComplete': None, 'usageMetadata': None, 'content': {'role': 'user', 'parts': [{'fileData': None, 'thought': None, 'codeExecutionResult': None, 'text': 'What do you do best?', 'inlineData': None, 'videoMetadata': None, 'functionResponse': None, 'thoughtSignature': None, 'executableCode': None, 'functionCall': None}]}, 'groundingMetadata': None, 'customMetadata': None, 'longRunningToolIds': None, 'timestamp': 1749406359.189419, 'errorCode': None, 'author': 'user', 'interrupted': None, 'actions': {'artifactDelta': {}, 'escalate': None, 'transferToAgent': None, 'skipSummarization': None, 'requestedAuthConfigs': {}, 'stateDelta': {}}}\n",
      "{'interrupted': None, 'invocationId': 'e-c488389d-2afb-46cf-8b12-b8e7d1e6599a', 'partial': None, 'branch': None, 'id': '2136987160245436416', 'turnComplete': None, 'usageMetadata': None, 'content': {'role': 'model', 'parts': [{'fileData': None, 'thought': None, 'codeExecutionResult': None, 'inlineData': None, 'text': 'I am designed to orchestrate document processing workflows. This means I am best at handling the overall process of taking a document, preparing it using various tools, and then dispatching it to specialized sub-agents for tasks like in-depth analysis, comparison, or answering specific questions about the content. I ensure all the necessary steps are completed in the correct order and that the results are presented to you clearly. I am also capable of remembering key information, such as artifact keys and classification results, to be used in subsequent steps.\\n', 'videoMetadata': None, 'thoughtSignature': None, 'functionResponse': None, 'executableCode': None, 'functionCall': None}]}, 'groundingMetadata': None, 'customMetadata': None, 'longRunningToolIds': None, 'errorCode': None, 'timestamp': 1749406359.416949, 'author': 'document_agent', 'errorMessage': None, 'actions': {'artifactDelta': {}, 'escalate': None, 'transferToAgent': None, 'skipSummarization': None, 'requestedAuthConfigs': {}, 'stateDelta': {}}}\n",
      "{'interrupted': None, 'invocationId': 'e-b9397c1b-e387-4f51-a2d8-6430418d82e9', 'partial': None, 'branch': None, 'id': '5649794869594423296', 'turnComplete': None, 'usageMetadata': None, 'content': {'role': 'user', 'parts': [{'fileData': None, 'thought': None, 'codeExecutionResult': None, 'inlineData': None, 'text': 'What do you do first?', 'videoMetadata': None, 'thoughtSignature': None, 'functionResponse': None, 'executableCode': None, 'functionCall': None}]}, 'groundingMetadata': None, 'customMetadata': None, 'longRunningToolIds': None, 'timestamp': 1749406363.823968, 'errorCode': None, 'author': 'user', 'errorMessage': None, 'actions': {'artifactDelta': {}, 'escalate': None, 'transferToAgent': None, 'skipSummarization': None, 'requestedAuthConfigs': {}, 'stateDelta': {}}}\n",
      "{'errorMessage': None, 'partial': None, 'invocationId': 'e-b9397c1b-e387-4f51-a2d8-6430418d82e9', 'branch': None, 'id': '7271090735447801856', 'turnComplete': None, 'usageMetadata': None, 'content': {'role': 'model', 'parts': [{'fileData': None, 'thought': None, 'codeExecutionResult': None, 'text': 'The first thing I need to do is obtain the document you want to process. Please upload a PDF/PNG file or provide the GCS URI (bucket and path) for the document.\\n', 'inlineData': None, 'videoMetadata': None, 'thoughtSignature': None, 'functionResponse': None, 'executableCode': None, 'functionCall': None}]}, 'groundingMetadata': None, 'customMetadata': None, 'longRunningToolIds': None, 'errorCode': None, 'timestamp': 1749406364.031439, 'author': 'document_agent', 'interrupted': None, 'actions': {'artifactDelta': {}, 'escalate': None, 'skipSummarization': None, 'transferToAgent': None, 'requestedAuthConfigs': {}, 'stateDelta': {}}}\n",
      "{'errorMessage': None, 'invocationId': 'e-1b95e891-dbb1-4bf9-bd7a-0f12e62241b6', 'partial': None, 'branch': None, 'id': '7217047539919355904', 'turnComplete': None, 'usageMetadata': None, 'content': {'role': 'user', 'parts': [{'fileData': None, 'thought': None, 'codeExecutionResult': None, 'inlineData': None, 'text': 'use this file: gs://statmike-mlops-349915/applied-ml-solution-prototypes/document-processing/vendor_2/fake_invoices/vendor_2_invoice_10.pdf', 'videoMetadata': None, 'thoughtSignature': None, 'functionResponse': None, 'executableCode': None, 'functionCall': None}]}, 'groundingMetadata': None, 'customMetadata': None, 'longRunningToolIds': None, 'timestamp': 1749406368.913703, 'errorCode': None, 'author': 'user', 'interrupted': None, 'actions': {'artifactDelta': {}, 'escalate': None, 'transferToAgent': None, 'skipSummarization': None, 'requestedAuthConfigs': {}, 'stateDelta': {}}}\n",
      "{'interrupted': None, 'invocationId': 'e-1b95e891-dbb1-4bf9-bd7a-0f12e62241b6', 'partial': None, 'branch': None, 'id': '6748673178672824320', 'turnComplete': None, 'usageMetadata': None, 'content': {'role': 'model', 'parts': [{'fileData': None, 'thought': None, 'codeExecutionResult': None, 'text': None, 'inlineData': None, 'videoMetadata': None, 'thoughtSignature': None, 'functionResponse': None, 'executableCode': None, 'functionCall': {'id': 'adk-ec674964-45f1-459b-8766-6a92b9fedc15', 'args': {'gcs_bucket': 'statmike-mlops-349915', 'gcs_file_path': 'applied-ml-solution-prototypes/document-processing/vendor_2/fake_invoices/vendor_2_invoice_10.pdf'}, 'name': 'get_gcs_file'}}]}, 'groundingMetadata': None, 'customMetadata': None, 'longRunningToolIds': None, 'timestamp': 1749406369.072304, 'errorCode': None, 'author': 'document_agent', 'errorMessage': None, 'actions': {'artifactDelta': {}, 'escalate': None, 'transferToAgent': None, 'skipSummarization': None, 'requestedAuthConfigs': {}, 'stateDelta': {}}}\n",
      "{'errorMessage': None, 'invocationId': 'e-1b95e891-dbb1-4bf9-bd7a-0f12e62241b6', 'partial': None, 'branch': None, 'id': '4442830169459130368', 'turnComplete': None, 'usageMetadata': None, 'content': {'role': 'user', 'parts': [{'fileData': None, 'thought': None, 'codeExecutionResult': None, 'inlineData': None, 'text': None, 'videoMetadata': None, 'functionResponse': {'willContinue': None, 'response': {'result': 'The file vendor_2_invoice_10.pdf of type application/pdf and size 256029 bytes was loaded as an artifact with artifact_key = gcsfile_statmike-mlops-349915_applied-ml-solution-prototypes_document-processing_vendor_2_fake_invoices_vendor_2_invoice_10.pdf and version = 0.\\nNote that pdf files are internally converted to png images (first page).'}, 'scheduling': None, 'id': 'adk-ec674964-45f1-459b-8766-6a92b9fedc15', 'name': 'get_gcs_file'}, 'thoughtSignature': None, 'executableCode': None, 'functionCall': None}]}, 'groundingMetadata': None, 'customMetadata': None, 'longRunningToolIds': None, 'errorCode': None, 'timestamp': 1749406370.666711, 'author': 'document_agent', 'interrupted': None, 'actions': {'artifactDelta': {'gcsfile_statmike-mlops-349915_applied-ml-solution-prototypes_document-processing_vendor_2_fake_invoices_vendor_2_invoice_10.pdf': 0.0}, 'escalate': None, 'transferToAgent': None, 'skipSummarization': None, 'requestedAuthConfigs': {}, 'stateDelta': {}}}\n",
      "{'interrupted': None, 'partial': None, 'invocationId': 'e-1b95e891-dbb1-4bf9-bd7a-0f12e62241b6', 'branch': None, 'id': '3105261080130093056', 'turnComplete': None, 'usageMetadata': None, 'content': {'role': 'model', 'parts': [{'fileData': None, 'thought': None, 'codeExecutionResult': None, 'inlineData': None, 'text': 'Okay, I have loaded the file from GCS. The artifact key for this document is `gcsfile_statmike-mlops-349915_applied-ml-solution-prototypes_document-processing_vendor_2_fake_invoices_vendor_2_invoice_10.pdf`.\\n', 'videoMetadata': None, 'thoughtSignature': None, 'functionResponse': None, 'executableCode': None, 'functionCall': None}]}, 'groundingMetadata': None, 'customMetadata': None, 'longRunningToolIds': None, 'errorCode': None, 'timestamp': 1749406370.835171, 'author': 'document_agent', 'errorMessage': None, 'actions': {'artifactDelta': {}, 'escalate': None, 'skipSummarization': None, 'transferToAgent': None, 'requestedAuthConfigs': {}, 'stateDelta': {}}}\n",
      "{'errorMessage': None, 'partial': None, 'invocationId': 'e-66d76bef-9642-4a9c-a262-d55a2bdbeaf7', 'branch': None, 'id': '8509580632974688256', 'turnComplete': None, 'usageMetadata': None, 'content': {'role': 'user', 'parts': [{'fileData': None, 'thought': None, 'codeExecutionResult': None, 'inlineData': None, 'text': 'Do you do data extraction?', 'videoMetadata': None, 'thoughtSignature': None, 'functionResponse': None, 'executableCode': None, 'functionCall': None}]}, 'groundingMetadata': None, 'customMetadata': None, 'longRunningToolIds': None, 'timestamp': 1749415086.94518, 'errorCode': None, 'author': 'user', 'interrupted': None, 'actions': {'artifactDelta': {}, 'escalate': None, 'skipSummarization': None, 'transferToAgent': None, 'requestedAuthConfigs': {}, 'stateDelta': {}}}\n",
      "{'errorMessage': None, 'partial': None, 'invocationId': 'e-66d76bef-9642-4a9c-a262-d55a2bdbeaf7', 'branch': None, 'id': '1015590853030182912', 'turnComplete': None, 'usageMetadata': None, 'content': {'role': 'model', 'parts': [{'fileData': None, 'thought': None, 'codeExecutionResult': None, 'text': 'Yes, I can perform data extraction. Would you like me to extract the data from the document I just loaded?\\n', 'inlineData': None, 'videoMetadata': None, 'functionResponse': None, 'thoughtSignature': None, 'executableCode': None, 'functionCall': None}]}, 'groundingMetadata': None, 'customMetadata': None, 'longRunningToolIds': None, 'errorCode': None, 'timestamp': 1749415087.1036, 'author': 'document_agent', 'interrupted': None, 'actions': {'artifactDelta': {}, 'escalate': None, 'transferToAgent': None, 'skipSummarization': None, 'requestedAuthConfigs': {}, 'stateDelta': {}}}\n",
      "{'interrupted': None, 'invocationId': 'e-7ab1118e-7699-464e-a625-f2ceedf35927', 'partial': None, 'branch': None, 'id': '5627276871457570816', 'turnComplete': None, 'usageMetadata': None, 'content': {'role': 'user', 'parts': [{'fileData': None, 'thought': None, 'codeExecutionResult': None, 'inlineData': None, 'text': 'Do you do data extraction?', 'videoMetadata': None, 'functionResponse': None, 'thoughtSignature': None, 'executableCode': None, 'functionCall': None}]}, 'groundingMetadata': None, 'customMetadata': None, 'longRunningToolIds': None, 'errorCode': None, 'timestamp': 1749415164.400372, 'author': 'user', 'errorMessage': None, 'actions': {'artifactDelta': {}, 'escalate': None, 'transferToAgent': None, 'skipSummarization': None, 'requestedAuthConfigs': {}, 'stateDelta': {}}}\n",
      "{'interrupted': None, 'invocationId': 'e-7ab1118e-7699-464e-a625-f2ceedf35927', 'partial': None, 'branch': None, 'id': '6041608037175656448', 'turnComplete': None, 'usageMetadata': None, 'content': {'role': 'model', 'parts': [{'fileData': None, 'thought': None, 'codeExecutionResult': None, 'inlineData': None, 'text': 'Yes, I can perform data extraction on the document. Would you like me to proceed with extracting the data from the document I just loaded with artifact key `gcsfile_statmike-mlops-349915_applied-ml-solution-prototypes_document-processing_vendor_2_fake_invoices_vendor_2_invoice_10.pdf`?\\n', 'videoMetadata': None, 'functionResponse': None, 'thoughtSignature': None, 'executableCode': None, 'functionCall': None}]}, 'groundingMetadata': None, 'customMetadata': None, 'longRunningToolIds': None, 'errorCode': None, 'timestamp': 1749415164.650748, 'author': 'document_agent', 'errorMessage': None, 'actions': {'artifactDelta': {}, 'escalate': None, 'transferToAgent': None, 'skipSummarization': None, 'requestedAuthConfigs': {}, 'stateDelta': {}}}\n"
     ]
    }
   ],
   "source": [
    "for event in remote_app.get_session(user_id = 'u_123', session_id = remote_session['id'])['events']:\n",
    "    print(event)"
   ]
  },
  {
   "cell_type": "code",
   "execution_count": 155,
   "id": "7ff016b0",
   "metadata": {},
   "outputs": [],
   "source": [
    "remote_app.delete_session(user_id = 'u_123', session_id = remote_session['id'])"
   ]
  },
  {
   "cell_type": "code",
   "execution_count": 156,
   "id": "aa62b654",
   "metadata": {},
   "outputs": [
    {
     "data": {
      "text/plain": [
       "{'sessions': []}"
      ]
     },
     "execution_count": 156,
     "metadata": {},
     "output_type": "execute_result"
    }
   ],
   "source": [
    "remote_app.list_sessions(user_id = 'u_123')"
   ]
  },
  {
   "cell_type": "code",
   "execution_count": 157,
   "id": "00f9fdd7",
   "metadata": {},
   "outputs": [],
   "source": [
    "delete_app = False\n",
    "\n",
    "if delete_app and remote_app:\n",
    "    task = remote_app.delete(force = True)"
   ]
  },
  {
   "cell_type": "markdown",
   "id": "96e5c92b",
   "metadata": {},
   "source": [
    "more\n",
    "- create session with specified id"
   ]
  },
  {
   "cell_type": "markdown",
   "id": "93d4f91e",
   "metadata": {},
   "source": [
    "---\n",
    "### TESTING WORK"
   ]
  },
  {
   "cell_type": "code",
   "execution_count": 21,
   "id": "8eeb830e",
   "metadata": {},
   "outputs": [],
   "source": [
    "users = ['u_123', 'gradio_user_123', 'mesop_user_123']\n",
    "test_user_id = users[2]\n",
    "test_session_id = ''"
   ]
  },
  {
   "cell_type": "code",
   "execution_count": 22,
   "id": "4d9c6a9f",
   "metadata": {},
   "outputs": [
    {
     "data": {
      "text/plain": [
       "[{'id': '4795942726765903872',\n",
       "  'lastUpdateTime': 1749424766.983624,\n",
       "  'state': {},\n",
       "  'events': [],\n",
       "  'appName': '1988805428414251008',\n",
       "  'userId': 'mesop_user_123'}]"
      ]
     },
     "execution_count": 22,
     "metadata": {},
     "output_type": "execute_result"
    }
   ],
   "source": [
    "sessions = remote_app.list_sessions(user_id = test_user_id)['sessions']\n",
    "sessions"
   ]
  },
  {
   "cell_type": "code",
   "execution_count": 19,
   "id": "be7f5c6d",
   "metadata": {},
   "outputs": [
    {
     "name": "stdout",
     "output_type": "stream",
     "text": [
      "{'errorMessage': None, 'invocationId': 'e-410a52b7-f842-4943-a801-800882c5d34f', 'partial': None, 'branch': None, 'id': '2041285668163813376', 'turnComplete': None, 'usageMetadata': None, 'content': {'role': 'user', 'parts': [{'fileData': None, 'thought': None, 'codeExecutionResult': None, 'text': 'help me get started', 'inlineData': None, 'videoMetadata': None, 'thoughtSignature': None, 'functionResponse': None, 'executableCode': None, 'functionCall': None}]}, 'groundingMetadata': None, 'customMetadata': None, 'longRunningToolIds': None, 'errorCode': None, 'timestamp': 1749424765.824724, 'author': 'user', 'interrupted': None, 'actions': {'artifactDelta': {}, 'escalate': None, 'skipSummarization': None, 'transferToAgent': None, 'requestedAuthConfigs': {}, 'stateDelta': {}}}\n",
      "{'interrupted': None, 'invocationId': 'e-410a52b7-f842-4943-a801-800882c5d34f', 'partial': None, 'branch': None, 'id': '2352034042452377600', 'turnComplete': None, 'usageMetadata': None, 'content': {'role': 'model', 'parts': [{'fileData': None, 'thought': None, 'codeExecutionResult': None, 'inlineData': None, 'text': 'To get started, I need you to provide a document. You can do this in one of two ways:\\n\\n1.  **Upload a PDF or PNG file directly.**\\n2.  **Provide a GCS URI (bucket and path) to the document.**\\n\\nPlease provide the document you would like to process using one of these methods.\\n', 'videoMetadata': None, 'thoughtSignature': None, 'functionResponse': None, 'executableCode': None, 'functionCall': None}]}, 'groundingMetadata': None, 'customMetadata': None, 'longRunningToolIds': None, 'timestamp': 1749424765.977657, 'errorCode': None, 'author': 'document_agent', 'errorMessage': None, 'actions': {'artifactDelta': {}, 'escalate': None, 'skipSummarization': None, 'transferToAgent': None, 'requestedAuthConfigs': {}, 'stateDelta': {}}}\n"
     ]
    }
   ],
   "source": [
    "try_session = sessions[0]['id']\n",
    "for event in remote_app.get_session(user_id = test_user_id, session_id = try_session)['events']:\n",
    "    print(event)\n"
   ]
  },
  {
   "cell_type": "code",
   "execution_count": 20,
   "id": "3da7c6b8",
   "metadata": {},
   "outputs": [
    {
     "data": {
      "text/plain": [
       "'To get started, I need you to provide a document. You can do this in one of two ways:\\n\\n1.  **Upload a PDF or PNG file directly.**\\n2.  **Provide a GCS URI (bucket and path) to the document.**\\n\\nPlease provide the document you would like to process using one of these methods.\\n'"
      ]
     },
     "execution_count": 20,
     "metadata": {},
     "output_type": "execute_result"
    }
   ],
   "source": [
    "event['content']['parts'][-1]['text']"
   ]
  },
  {
   "cell_type": "code",
   "execution_count": 232,
   "id": "b35f65e5",
   "metadata": {},
   "outputs": [],
   "source": [
    "for sess in remote_app.list_sessions(user_id = test_user_id)['sessions']:\n",
    "    remote_app.delete_session(user_id = 'gradio_user_123', session_id = sess['id'])"
   ]
  },
  {
   "cell_type": "code",
   "execution_count": 23,
   "id": "a1106803",
   "metadata": {},
   "outputs": [],
   "source": [
    "for u in users:\n",
    "    for s in remote_app.list_sessions(user_id = u)['sessions']:\n",
    "        remote_app.delete_session(user_id = u, session_id = s['id'])\n"
   ]
  },
  {
   "cell_type": "code",
   "execution_count": null,
   "id": "c1b1a75b",
   "metadata": {},
   "outputs": [],
   "source": []
  }
 ],
 "metadata": {
  "kernelspec": {
   "display_name": ".venv",
   "language": "python",
   "name": "python3"
  },
  "language_info": {
   "codemirror_mode": {
    "name": "ipython",
    "version": 3
   },
   "file_extension": ".py",
   "mimetype": "text/x-python",
   "name": "python",
   "nbconvert_exporter": "python",
   "pygments_lexer": "ipython3",
   "version": "3.13.3"
  }
 },
 "nbformat": 4,
 "nbformat_minor": 5
}
