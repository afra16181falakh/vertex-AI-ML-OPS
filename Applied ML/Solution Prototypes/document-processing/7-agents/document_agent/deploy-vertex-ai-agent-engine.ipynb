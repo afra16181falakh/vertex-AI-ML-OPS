{
 "cells": [
  {
   "cell_type": "markdown",
   "id": "4d3d5543",
   "metadata": {},
   "source": [
    "![tracker](https://us-central1-vertex-ai-mlops-369716.cloudfunctions.net/pixel-tracking?path=statmike%2Fvertex-ai-mlops%2FApplied+ML%2FSolution+Prototypes%2Fdocument-processing%2F7-agents%2Fdocument_agent&file=deploy-vertex-ai-agent-engine.ipynb)\n",
    "<!--- header table --->\n",
    "<table align=\"left\">\n",
    "<tr>\n",
    "  <td style=\"text-align: center\">\n",
    "    <a href=\"https://github.com/statmike/vertex-ai-mlops/blob/main/Applied%20ML/Solution%20Prototypes/document-processing/7-agents/document_agent/deploy-vertex-ai-agent-engine.ipynb\">\n",
    "      <img width=\"32px\" src=\"https://www.svgrepo.com/download/217753/github.svg\" alt=\"GitHub logo\">\n",
    "      <br>View on<br>GitHub\n",
    "    </a>\n",
    "  </td>\n",
    "  <td style=\"text-align: center\">\n",
    "    <a href=\"https://colab.research.google.com/github/statmike/vertex-ai-mlops/blob/main/Applied%20ML/Solution%20Prototypes/document-processing/7-agents/document_agent/deploy-vertex-ai-agent-engine.ipynb\">\n",
    "      <img width=\"32px\" src=\"https://www.gstatic.com/pantheon/images/bigquery/welcome_page/colab-logo.svg\" alt=\"Google Colaboratory logo\">\n",
    "      <br>Run in<br>Colab\n",
    "    </a>\n",
    "  </td>\n",
    "  <td style=\"text-align: center\">\n",
    "    <a href=\"https://console.cloud.google.com/vertex-ai/colab/import/https%3A%2F%2Fraw.githubusercontent.com%2Fstatmike%2Fvertex-ai-mlops%2Fmain%2FApplied%2520ML%2FSolution%2520Prototypes%2Fdocument-processing%2F7-agents%2Fdocument_agent%2Fdeploy-vertex-ai-agent-engine.ipynb\">\n",
    "      <img width=\"32px\" src=\"https://lh3.googleusercontent.com/JmcxdQi-qOpctIvWKgPtrzZdJJK-J3sWE1RsfjZNwshCFgE_9fULcNpuXYTilIR2hjwN\" alt=\"Google Cloud Colab Enterprise logo\">\n",
    "      <br>Run in<br>Colab Enterprise\n",
    "    </a>\n",
    "  </td>      \n",
    "  <td style=\"text-align: center\">\n",
    "    <a href=\"https://console.cloud.google.com/bigquery/import?url=https://github.com/statmike/vertex-ai-mlops/blob/main/Applied%20ML/Solution%20Prototypes/document-processing/7-agents/document_agent/deploy-vertex-ai-agent-engine.ipynb\">\n",
    "      <img width=\"32px\" src=\"https://www.gstatic.com/images/branding/gcpiconscolors/bigquery/v1/32px.svg\" alt=\"BigQuery logo\">\n",
    "      <br>Open in<br>BigQuery Studio\n",
    "    </a>\n",
    "  </td>\n",
    "  <td style=\"text-align: center\">\n",
    "    <a href=\"https://console.cloud.google.com/vertex-ai/workbench/deploy-notebook?download_url=https://raw.githubusercontent.com/statmike/vertex-ai-mlops/main/Applied%20ML/Solution%20Prototypes/document-processing/7-agents/document_agent/deploy-vertex-ai-agent-engine.ipynb\">\n",
    "      <img width=\"32px\" src=\"https://www.gstatic.com/images/branding/gcpiconscolors/vertexai/v1/32px.svg\" alt=\"Vertex AI logo\">\n",
    "      <br>Open in<br>Vertex AI Workbench\n",
    "    </a>\n",
    "  </td>\n",
    "</tr>\n",
    "<tr>\n",
    "  <td colspan=\"5\" style=\"text-align: right\">\n",
    "    <b>Share This On: </b> \n",
    "    <a href=\"https://www.linkedin.com/sharing/share-offsite/?url=https%3A//github.com/statmike/vertex-ai-mlops/blob/main/Applied%20ML/Solution%20Prototypes/document-processing/7-agents/document_agent/deploy-vertex-ai-agent-engine.ipynb\"><img src=\"https://upload.wikimedia.org/wikipedia/commons/8/81/LinkedIn_icon.svg\" alt=\"Linkedin Logo\" width=\"20px\"></a> \n",
    "    <a href=\"https://reddit.com/submit?url=https%3A//github.com/statmike/vertex-ai-mlops/blob/main/Applied%20ML/Solution%20Prototypes/document-processing/7-agents/document_agent/deploy-vertex-ai-agent-engine.ipynb\"><img src=\"https://redditinc.com/hubfs/Reddit%20Inc/Brand/Reddit_Logo.png\" alt=\"Reddit Logo\" width=\"20px\"></a> \n",
    "    <a href=\"https://bsky.app/intent/compose?text=https%3A//github.com/statmike/vertex-ai-mlops/blob/main/Applied%20ML/Solution%20Prototypes/document-processing/7-agents/document_agent/deploy-vertex-ai-agent-engine.ipynb\"><img src=\"https://upload.wikimedia.org/wikipedia/commons/7/7a/Bluesky_Logo.svg\" alt=\"BlueSky Logo\" width=\"20px\"></a> \n",
    "    <a href=\"https://twitter.com/intent/tweet?url=https%3A//github.com/statmike/vertex-ai-mlops/blob/main/Applied%20ML/Solution%20Prototypes/document-processing/7-agents/document_agent/deploy-vertex-ai-agent-engine.ipynb\"><img src=\"https://upload.wikimedia.org/wikipedia/commons/5/5a/X_icon_2.svg\" alt=\"X (Twitter) Logo\" width=\"20px\"></a> \n",
    "  </td>\n",
    "</tr>\n",
    "<tr>\n",
    "  <td colspan=\"5\" style=\"text-align: right\">\n",
    "    <b>Connect With Author On: </b> \n",
    "    <a href=\"https://www.linkedin.com/in/statmike\"><img src=\"https://upload.wikimedia.org/wikipedia/commons/8/81/LinkedIn_icon.svg\" alt=\"Linkedin Logo\" width=\"20px\"></a>\n",
    "    <a href=\"https://www.github.com/statmike\"><img src=\"https://www.svgrepo.com/download/217753/github.svg\" alt=\"GitHub Logo\" width=\"20px\"></a> \n",
    "    <a href=\"https://www.youtube.com/@statmike-channel\"><img src=\"https://upload.wikimedia.org/wikipedia/commons/f/fd/YouTube_full-color_icon_%282024%29.svg\" alt=\"YouTube Logo\" width=\"20px\"></a>\n",
    "    <a href=\"https://bksy.app/profile/statmike.bsky.social\"><img src=\"https://upload.wikimedia.org/wikipedia/commons/7/7a/Bluesky_Logo.svg\" alt=\"BlueSky Logo\" width=\"20px\"></a> \n",
    "    <a href=\"https://x.com/statmike\"><img src=\"https://upload.wikimedia.org/wikipedia/commons/5/5a/X_icon_2.svg\" alt=\"X (Twitter) Logo\" width=\"20px\"></a>\n",
    "  </td>\n",
    "</tr>\n",
    "</table>"
   ]
  },
  {
   "cell_type": "markdown",
   "id": "d692f4a5",
   "metadata": {},
   "source": [
    "# Deploy Agent To Vertex AI Agent Engine\n",
    "\n",
    "After building and testing an agent built with ADK the next step is deployment for use in production workflows and applications.  The notebook workflow shows the steps for deploying the agent built in the product on [Vertex AI Agent Engine](https://cloud.google.com/vertex-ai/generative-ai/docs/agent-engine/overview).  This service includes:\n",
    "- [Development](https://cloud.google.com/vertex-ai/generative-ai/docs/agent-engine/develop/adk) tooling to test the agent locally first\n",
    "- [Deployment](https://cloud.google.com/vertex-ai/generative-ai/docs/agent-engine/deploy) tooling to create the agent instance on Vertex AI Agent Engine\n",
    "- [Agent Use](https://cloud.google.com/vertex-ai/generative-ai/docs/agent-engine/use/adk) SDK directly within the Vetex AI SDK\n",
    "- [Mangagement](https://cloud.google.com/vertex-ai/generative-ai/docs/agent-engine/manage/overview) services for access control, tracing, logging, and monitoring of deployed agents\n",
    "- and services like [Agent Evaluation](https://cloud.google.com/vertex-ai/generative-ai/docs/agent-engine/evaluate) and more!\n",
    "\n",
    "While Vertex AI Agent Engine is a service for many agent building frameworks (ADK, LangChain, LangGraph, AG2, LlamaIndex, Custom, ...) it is also directly integrated with Google ADK, the framework used in this project.  [ADK Deployment](https://google.github.io/adk-docs/deploy/) options include [Vertex AI Agent Engine](https://google.github.io/adk-docs/deploy/agent-engine/) as well as [Cloud Run](https://google.github.io/adk-docs/deploy/cloud-run/) and [custom infrastructure](https://google.github.io/adk-docs/deploy/gke/) deploymetns.\n",
    "\n",
    "**Notes:**\n",
    "- This notebook expects the current working directory to contain the agents folder. In other words, `agent.py` is at `./document_agent/agent.py`."
   ]
  },
  {
   "cell_type": "markdown",
   "id": "c5d2b094",
   "metadata": {},
   "source": [
    "Package Imports:"
   ]
  },
  {
   "cell_type": "code",
   "execution_count": 26,
   "id": "39893d15",
   "metadata": {},
   "outputs": [],
   "source": [
    "import os, sys, subprocess\n",
    "\n",
    "import dotenv\n",
    "\n",
    "from vertexai.preview import reasoning_engines\n",
    "import vertexai\n",
    "from vertexai import agent_engines"
   ]
  },
  {
   "cell_type": "markdown",
   "id": "f3c6d7b6",
   "metadata": {},
   "source": [
    "Verify working directory:"
   ]
  },
  {
   "cell_type": "code",
   "execution_count": 2,
   "id": "1b4aa95c",
   "metadata": {},
   "outputs": [
    {
     "data": {
      "text/plain": [
       "'/home/statmike/repos/vertex-ai-mlops/Applied ML/Solution Prototypes/document-processing/7-agents/document_agent'"
      ]
     },
     "execution_count": 2,
     "metadata": {},
     "output_type": "execute_result"
    }
   ],
   "source": [
    "os.getcwd()"
   ]
  },
  {
   "cell_type": "markdown",
   "id": "9a83a22a",
   "metadata": {},
   "source": [
    "Review the local files, expecting the `document_agent` folder to be here:"
   ]
  },
  {
   "cell_type": "code",
   "execution_count": 3,
   "id": "bace754b",
   "metadata": {},
   "outputs": [
    {
     "data": {
      "text/plain": [
       "['document_agent',\n",
       " 'apps',\n",
       " 'deploy-vertex-ai-agent-engine.ipynb',\n",
       " 'use-vertex-ai-agent-engine.ipynb']"
      ]
     },
     "execution_count": 3,
     "metadata": {},
     "output_type": "execute_result"
    }
   ],
   "source": [
    "os.listdir('.')"
   ]
  },
  {
   "cell_type": "markdown",
   "id": "5c5d1b0e",
   "metadata": {},
   "source": [
    "Verify the current Python version and executable location (the `venv` setup by this project):"
   ]
  },
  {
   "cell_type": "code",
   "execution_count": 4,
   "id": "3b9bd944",
   "metadata": {},
   "outputs": [
    {
     "data": {
      "text/plain": [
       "('3.13.3 (main, Apr 14 2025, 14:06:24) [GCC 12.2.0]',\n",
       " '/home/statmike/repos/vertex-ai-mlops/Applied ML/Solution Prototypes/document-processing/7-agents/.venv/bin/python')"
      ]
     },
     "execution_count": 4,
     "metadata": {},
     "output_type": "execute_result"
    }
   ],
   "source": [
    "sys.version, sys.executable"
   ]
  },
  {
   "cell_type": "markdown",
   "id": "4e584c8e",
   "metadata": {},
   "source": [
    "Setup Clients:"
   ]
  },
  {
   "cell_type": "code",
   "execution_count": 5,
   "id": "f82ceaea",
   "metadata": {},
   "outputs": [],
   "source": [
    "# Load environment variables set with agent (./document_agent/.env)\n",
    "dotenv.load_dotenv(dotenv_path = os.path.join('document_agent', '.env'))\n",
    "\n",
    "# Vertex AI Initializaiton:\n",
    "vertexai.init(\n",
    "    project = os.getenv('GOOGLE_CLOUD_PROJECT'),\n",
    "    location = os.getenv('GOOGLE_CLOUD_LOCATION'),\n",
    "    staging_bucket = f\"gs://{os.getenv('GOOGLE_CLOUD_STORAGE_BUCKET')}\"\n",
    ")"
   ]
  },
  {
   "cell_type": "code",
   "execution_count": 14,
   "id": "14e2b5f2",
   "metadata": {},
   "outputs": [],
   "source": [
    "from document_agent.agent import root_agent"
   ]
  },
  {
   "cell_type": "markdown",
   "id": "9979f001",
   "metadata": {},
   "source": [
    "---\n",
    "## Local Testing: Prepare Agent for Vertex AI Agent Engine\n",
    "\n",
    "Before deploying the ADK agent to Vertex AI Agent Engine it can first be tested locally with the SDK."
   ]
  },
  {
   "cell_type": "code",
   "execution_count": null,
   "id": "6d7905b4",
   "metadata": {},
   "outputs": [],
   "source": [
    "app = reasoning_engines.AdkApp(\n",
    "    agent=root_agent,\n",
    "    enable_tracing=True,\n",
    ")"
   ]
  },
  {
   "cell_type": "code",
   "execution_count": 8,
   "id": "3edd0f74",
   "metadata": {},
   "outputs": [
    {
     "data": {
      "text/plain": [
       "Session(id='840ab047-27e3-422b-b26e-d48f49e61aed', app_name='default-app-name', user_id='u_123', state={}, events=[], last_update_time=1749671179.5096347)"
      ]
     },
     "execution_count": 8,
     "metadata": {},
     "output_type": "execute_result"
    }
   ],
   "source": [
    "session = app.create_session(user_id = 'u_123')\n",
    "session"
   ]
  },
  {
   "cell_type": "code",
   "execution_count": 9,
   "id": "202e2c84",
   "metadata": {},
   "outputs": [
    {
     "data": {
      "text/plain": [
       "ListSessionsResponse(sessions=[Session(id='840ab047-27e3-422b-b26e-d48f49e61aed', app_name='default-app-name', user_id='u_123', state={}, events=[], last_update_time=1749671179.5096347)])"
      ]
     },
     "execution_count": 9,
     "metadata": {},
     "output_type": "execute_result"
    }
   ],
   "source": [
    "app.list_sessions(user_id = 'u_123')"
   ]
  },
  {
   "cell_type": "code",
   "execution_count": 10,
   "id": "8e2f44b3",
   "metadata": {},
   "outputs": [
    {
     "data": {
      "text/plain": [
       "Session(id='840ab047-27e3-422b-b26e-d48f49e61aed', app_name='default-app-name', user_id='u_123', state={}, events=[], last_update_time=1749671179.5096347)"
      ]
     },
     "execution_count": 10,
     "metadata": {},
     "output_type": "execute_result"
    }
   ],
   "source": [
    "session = app.get_session(user_id=\"u_123\", session_id=session.id)\n",
    "session"
   ]
  },
  {
   "cell_type": "code",
   "execution_count": 11,
   "id": "8772b7bd",
   "metadata": {},
   "outputs": [
    {
     "name": "stdout",
     "output_type": "stream",
     "text": [
      "{'content': {'parts': [{'text': 'I am the primary agent that processes document related requests. I can extract data from documents, classify them, and compare them to vendor templates. To start, please upload a PDF or PNG file, or provide the GCS URI (bucket and path) of the document you want to process.\\n'}], 'role': 'model'}, 'usage_metadata': {'candidates_token_count': 59, 'candidates_tokens_details': [{'modality': <MediaModality.TEXT: 'TEXT'>, 'token_count': 59}], 'prompt_token_count': 3474, 'prompt_tokens_details': [{'modality': <MediaModality.TEXT: 'TEXT'>, 'token_count': 3474}], 'total_token_count': 3533, 'traffic_type': <TrafficType.ON_DEMAND: 'ON_DEMAND'>}, 'invocation_id': 'e-d3918de7-067e-4dea-a2be-f9aab54a7e51', 'author': 'document_agent', 'actions': {'state_delta': {}, 'artifact_delta': {}, 'requested_auth_configs': {}}, 'id': 'QRK32act', 'timestamp': 1749671182.413038}\n"
     ]
    }
   ],
   "source": [
    "for event in app.stream_query(\n",
    "    user_id = 'u_123',\n",
    "    session_id = session.id,\n",
    "    message = 'What do you do?'\n",
    "):\n",
    "    print(event)"
   ]
  },
  {
   "cell_type": "code",
   "execution_count": 12,
   "id": "87e0b82f",
   "metadata": {},
   "outputs": [
    {
     "name": "stderr",
     "output_type": "stream",
     "text": [
      "Warning: there are non-text parts in the response: ['function_call'], returning concatenated text result from text parts. Check the full candidates.content.parts accessor to get the full model response.\n"
     ]
    },
    {
     "name": "stdout",
     "output_type": "stream",
     "text": [
      "{'content': {'parts': [{'function_call': {'id': 'adk-6d3e261d-562f-4221-b007-061de12d6322', 'args': {'gcs_bucket': 'statmike-mlops-349915', 'gcs_file_path': 'applied-ml-solution-prototypes/document-processing/vendor_2/fake_invoices/vendor_2_invoice_10.pdf'}, 'name': 'get_gcs_file'}}], 'role': 'model'}, 'usage_metadata': {'candidates_token_count': 56, 'candidates_tokens_details': [{'modality': <MediaModality.TEXT: 'TEXT'>, 'token_count': 56}], 'prompt_token_count': 3583, 'prompt_tokens_details': [{'modality': <MediaModality.TEXT: 'TEXT'>, 'token_count': 3583}], 'total_token_count': 3639, 'traffic_type': <TrafficType.ON_DEMAND: 'ON_DEMAND'>}, 'invocation_id': 'e-c8a82b72-14ec-477d-be60-2f0c7219dfea', 'author': 'document_agent', 'actions': {'state_delta': {}, 'artifact_delta': {}, 'requested_auth_configs': {}}, 'long_running_tool_ids': set(), 'id': 'eO7KDPnl', 'timestamp': 1749671186.316318}\n",
      "{'content': {'parts': [{'function_response': {'id': 'adk-6d3e261d-562f-4221-b007-061de12d6322', 'name': 'get_gcs_file', 'response': {'result': 'The file vendor_2_invoice_10.pdf of type application/pdf and size 256029 bytes was loaded as an artifact with artifact_key = gcsfile_statmike-mlops-349915_applied-ml-solution-prototypes_document-processing_vendor_2_fake_invoices_vendor_2_invoice_10.pdf and version = 0.\\nNote that pdf files are internally converted to png images (first page).'}}}], 'role': 'user'}, 'invocation_id': 'e-c8a82b72-14ec-477d-be60-2f0c7219dfea', 'author': 'document_agent', 'actions': {'state_delta': {}, 'artifact_delta': {'gcsfile_statmike-mlops-349915_applied-ml-solution-prototypes_document-processing_vendor_2_fake_invoices_vendor_2_invoice_10.pdf': 0}, 'requested_auth_configs': {}}, 'id': 'GjqpAOok', 'timestamp': 1749671189.665421}\n",
      "{'content': {'parts': [{'text': 'Okay, I have loaded the file from GCS. The artifact key for this document is `gcsfile_statmike-mlops-349915_applied-ml-solution-prototypes_document-processing_vendor_2_fake_invoices_vendor_2_invoice_10.pdf`. What would you like to do next? I can extract data from the document, classify it, or compare it to a vendor template.\\n'}], 'role': 'model'}, 'usage_metadata': {'candidates_token_count': 95, 'candidates_tokens_details': [{'modality': <MediaModality.TEXT: 'TEXT'>, 'token_count': 95}], 'prompt_token_count': 3751, 'prompt_tokens_details': [{'modality': <MediaModality.TEXT: 'TEXT'>, 'token_count': 3751}], 'total_token_count': 3846, 'traffic_type': <TrafficType.ON_DEMAND: 'ON_DEMAND'>}, 'invocation_id': 'e-c8a82b72-14ec-477d-be60-2f0c7219dfea', 'author': 'document_agent', 'actions': {'state_delta': {}, 'artifact_delta': {}, 'requested_auth_configs': {}}, 'id': '1hpexuDV', 'timestamp': 1749671189.666921}\n"
     ]
    }
   ],
   "source": [
    "for event in app.stream_query(\n",
    "    user_id = 'u_123',\n",
    "    session_id = session.id,\n",
    "    message = 'use this file: gs://statmike-mlops-349915/applied-ml-solution-prototypes/document-processing/vendor_2/fake_invoices/vendor_2_invoice_10.pdf'\n",
    "):\n",
    "    print(event)"
   ]
  },
  {
   "cell_type": "code",
   "execution_count": 13,
   "id": "62ceff98",
   "metadata": {},
   "outputs": [
    {
     "data": {
      "text/plain": [
       "{'content': {'parts': [{'text': 'Okay, I have loaded the file from GCS. The artifact key for this document is `gcsfile_statmike-mlops-349915_applied-ml-solution-prototypes_document-processing_vendor_2_fake_invoices_vendor_2_invoice_10.pdf`. What would you like to do next? I can extract data from the document, classify it, or compare it to a vendor template.\\n'}],\n",
       "  'role': 'model'},\n",
       " 'usage_metadata': {'candidates_token_count': 95,\n",
       "  'candidates_tokens_details': [{'modality': <MediaModality.TEXT: 'TEXT'>,\n",
       "    'token_count': 95}],\n",
       "  'prompt_token_count': 3751,\n",
       "  'prompt_tokens_details': [{'modality': <MediaModality.TEXT: 'TEXT'>,\n",
       "    'token_count': 3751}],\n",
       "  'total_token_count': 3846,\n",
       "  'traffic_type': <TrafficType.ON_DEMAND: 'ON_DEMAND'>},\n",
       " 'invocation_id': 'e-c8a82b72-14ec-477d-be60-2f0c7219dfea',\n",
       " 'author': 'document_agent',\n",
       " 'actions': {'state_delta': {},\n",
       "  'artifact_delta': {},\n",
       "  'requested_auth_configs': {}},\n",
       " 'id': '1hpexuDV',\n",
       " 'timestamp': 1749671189.666921}"
      ]
     },
     "execution_count": 13,
     "metadata": {},
     "output_type": "execute_result"
    }
   ],
   "source": [
    "event"
   ]
  },
  {
   "cell_type": "code",
   "execution_count": 14,
   "id": "b92d6951",
   "metadata": {},
   "outputs": [
    {
     "data": {
      "text/plain": [
       "Session(id='840ab047-27e3-422b-b26e-d48f49e61aed', app_name='default-app-name', user_id='u_123', state={}, events=[Event(content=Content(parts=[Part(video_metadata=None, thought=None, inline_data=None, file_data=None, thought_signature=None, code_execution_result=None, executable_code=None, function_call=None, function_response=None, text='What do you do?')], role='user'), grounding_metadata=None, partial=None, turn_complete=None, error_code=None, error_message=None, interrupted=None, custom_metadata=None, usage_metadata=None, invocation_id='e-d3918de7-067e-4dea-a2be-f9aab54a7e51', author='user', actions=EventActions(skip_summarization=None, state_delta={}, artifact_delta={}, transfer_to_agent=None, escalate=None, requested_auth_configs={}), long_running_tool_ids=None, branch=None, id='h7DmsfIr', timestamp=1749671182.411689), Event(content=Content(parts=[Part(video_metadata=None, thought=None, inline_data=None, file_data=None, thought_signature=None, code_execution_result=None, executable_code=None, function_call=None, function_response=None, text='I am the primary agent that processes document related requests. I can extract data from documents, classify them, and compare them to vendor templates. To start, please upload a PDF or PNG file, or provide the GCS URI (bucket and path) of the document you want to process.\\n')], role='model'), grounding_metadata=None, partial=None, turn_complete=None, error_code=None, error_message=None, interrupted=None, custom_metadata=None, usage_metadata=GenerateContentResponseUsageMetadata(cache_tokens_details=None, cached_content_token_count=None, candidates_token_count=59, candidates_tokens_details=[ModalityTokenCount(modality=<MediaModality.TEXT: 'TEXT'>, token_count=59)], prompt_token_count=3474, prompt_tokens_details=[ModalityTokenCount(modality=<MediaModality.TEXT: 'TEXT'>, token_count=3474)], thoughts_token_count=None, tool_use_prompt_token_count=None, tool_use_prompt_tokens_details=None, total_token_count=3533, traffic_type=<TrafficType.ON_DEMAND: 'ON_DEMAND'>), invocation_id='e-d3918de7-067e-4dea-a2be-f9aab54a7e51', author='document_agent', actions=EventActions(skip_summarization=None, state_delta={}, artifact_delta={}, transfer_to_agent=None, escalate=None, requested_auth_configs={}), long_running_tool_ids=None, branch=None, id='QRK32act', timestamp=1749671182.413038), Event(content=Content(parts=[Part(video_metadata=None, thought=None, inline_data=None, file_data=None, thought_signature=None, code_execution_result=None, executable_code=None, function_call=None, function_response=None, text='use this file: gs://statmike-mlops-349915/applied-ml-solution-prototypes/document-processing/vendor_2/fake_invoices/vendor_2_invoice_10.pdf')], role='user'), grounding_metadata=None, partial=None, turn_complete=None, error_code=None, error_message=None, interrupted=None, custom_metadata=None, usage_metadata=None, invocation_id='e-c8a82b72-14ec-477d-be60-2f0c7219dfea', author='user', actions=EventActions(skip_summarization=None, state_delta={}, artifact_delta={}, transfer_to_agent=None, escalate=None, requested_auth_configs={}), long_running_tool_ids=None, branch=None, id='lALoBXni', timestamp=1749671186.314533), Event(content=Content(parts=[Part(video_metadata=None, thought=None, inline_data=None, file_data=None, thought_signature=None, code_execution_result=None, executable_code=None, function_call=FunctionCall(id='adk-6d3e261d-562f-4221-b007-061de12d6322', args={'gcs_bucket': 'statmike-mlops-349915', 'gcs_file_path': 'applied-ml-solution-prototypes/document-processing/vendor_2/fake_invoices/vendor_2_invoice_10.pdf'}, name='get_gcs_file'), function_response=None, text=None)], role='model'), grounding_metadata=None, partial=None, turn_complete=None, error_code=None, error_message=None, interrupted=None, custom_metadata=None, usage_metadata=GenerateContentResponseUsageMetadata(cache_tokens_details=None, cached_content_token_count=None, candidates_token_count=56, candidates_tokens_details=[ModalityTokenCount(modality=<MediaModality.TEXT: 'TEXT'>, token_count=56)], prompt_token_count=3583, prompt_tokens_details=[ModalityTokenCount(modality=<MediaModality.TEXT: 'TEXT'>, token_count=3583)], thoughts_token_count=None, tool_use_prompt_token_count=None, tool_use_prompt_tokens_details=None, total_token_count=3639, traffic_type=<TrafficType.ON_DEMAND: 'ON_DEMAND'>), invocation_id='e-c8a82b72-14ec-477d-be60-2f0c7219dfea', author='document_agent', actions=EventActions(skip_summarization=None, state_delta={}, artifact_delta={}, transfer_to_agent=None, escalate=None, requested_auth_configs={}), long_running_tool_ids=set(), branch=None, id='eO7KDPnl', timestamp=1749671186.316318), Event(content=Content(parts=[Part(video_metadata=None, thought=None, inline_data=None, file_data=None, thought_signature=None, code_execution_result=None, executable_code=None, function_call=None, function_response=FunctionResponse(will_continue=None, scheduling=None, id='adk-6d3e261d-562f-4221-b007-061de12d6322', name='get_gcs_file', response={'result': 'The file vendor_2_invoice_10.pdf of type application/pdf and size 256029 bytes was loaded as an artifact with artifact_key = gcsfile_statmike-mlops-349915_applied-ml-solution-prototypes_document-processing_vendor_2_fake_invoices_vendor_2_invoice_10.pdf and version = 0.\\nNote that pdf files are internally converted to png images (first page).'}), text=None)], role='user'), grounding_metadata=None, partial=None, turn_complete=None, error_code=None, error_message=None, interrupted=None, custom_metadata=None, usage_metadata=None, invocation_id='e-c8a82b72-14ec-477d-be60-2f0c7219dfea', author='document_agent', actions=EventActions(skip_summarization=None, state_delta={}, artifact_delta={'gcsfile_statmike-mlops-349915_applied-ml-solution-prototypes_document-processing_vendor_2_fake_invoices_vendor_2_invoice_10.pdf': 0}, transfer_to_agent=None, escalate=None, requested_auth_configs={}), long_running_tool_ids=None, branch=None, id='GjqpAOok', timestamp=1749671189.665421), Event(content=Content(parts=[Part(video_metadata=None, thought=None, inline_data=None, file_data=None, thought_signature=None, code_execution_result=None, executable_code=None, function_call=None, function_response=None, text='Okay, I have loaded the file from GCS. The artifact key for this document is `gcsfile_statmike-mlops-349915_applied-ml-solution-prototypes_document-processing_vendor_2_fake_invoices_vendor_2_invoice_10.pdf`. What would you like to do next? I can extract data from the document, classify it, or compare it to a vendor template.\\n')], role='model'), grounding_metadata=None, partial=None, turn_complete=None, error_code=None, error_message=None, interrupted=None, custom_metadata=None, usage_metadata=GenerateContentResponseUsageMetadata(cache_tokens_details=None, cached_content_token_count=None, candidates_token_count=95, candidates_tokens_details=[ModalityTokenCount(modality=<MediaModality.TEXT: 'TEXT'>, token_count=95)], prompt_token_count=3751, prompt_tokens_details=[ModalityTokenCount(modality=<MediaModality.TEXT: 'TEXT'>, token_count=3751)], thoughts_token_count=None, tool_use_prompt_token_count=None, tool_use_prompt_tokens_details=None, total_token_count=3846, traffic_type=<TrafficType.ON_DEMAND: 'ON_DEMAND'>), invocation_id='e-c8a82b72-14ec-477d-be60-2f0c7219dfea', author='document_agent', actions=EventActions(skip_summarization=None, state_delta={}, artifact_delta={}, transfer_to_agent=None, escalate=None, requested_auth_configs={}), long_running_tool_ids=None, branch=None, id='1hpexuDV', timestamp=1749671189.666921)], last_update_time=1749671189.666921)"
      ]
     },
     "execution_count": 14,
     "metadata": {},
     "output_type": "execute_result"
    }
   ],
   "source": [
    "app.get_session(user_id = 'u_123', session_id = session.id)"
   ]
  },
  {
   "cell_type": "code",
   "execution_count": 15,
   "id": "1fd8c576",
   "metadata": {},
   "outputs": [
    {
     "name": "stdout",
     "output_type": "stream",
     "text": [
      "content=Content(parts=[Part(video_metadata=None, thought=None, inline_data=None, file_data=None, thought_signature=None, code_execution_result=None, executable_code=None, function_call=None, function_response=None, text='What do you do?')], role='user') grounding_metadata=None partial=None turn_complete=None error_code=None error_message=None interrupted=None custom_metadata=None usage_metadata=None invocation_id='e-d3918de7-067e-4dea-a2be-f9aab54a7e51' author='user' actions=EventActions(skip_summarization=None, state_delta={}, artifact_delta={}, transfer_to_agent=None, escalate=None, requested_auth_configs={}) long_running_tool_ids=None branch=None id='h7DmsfIr' timestamp=1749671182.411689\n",
      "content=Content(parts=[Part(video_metadata=None, thought=None, inline_data=None, file_data=None, thought_signature=None, code_execution_result=None, executable_code=None, function_call=None, function_response=None, text='I am the primary agent that processes document related requests. I can extract data from documents, classify them, and compare them to vendor templates. To start, please upload a PDF or PNG file, or provide the GCS URI (bucket and path) of the document you want to process.\\n')], role='model') grounding_metadata=None partial=None turn_complete=None error_code=None error_message=None interrupted=None custom_metadata=None usage_metadata=GenerateContentResponseUsageMetadata(cache_tokens_details=None, cached_content_token_count=None, candidates_token_count=59, candidates_tokens_details=[ModalityTokenCount(modality=<MediaModality.TEXT: 'TEXT'>, token_count=59)], prompt_token_count=3474, prompt_tokens_details=[ModalityTokenCount(modality=<MediaModality.TEXT: 'TEXT'>, token_count=3474)], thoughts_token_count=None, tool_use_prompt_token_count=None, tool_use_prompt_tokens_details=None, total_token_count=3533, traffic_type=<TrafficType.ON_DEMAND: 'ON_DEMAND'>) invocation_id='e-d3918de7-067e-4dea-a2be-f9aab54a7e51' author='document_agent' actions=EventActions(skip_summarization=None, state_delta={}, artifact_delta={}, transfer_to_agent=None, escalate=None, requested_auth_configs={}) long_running_tool_ids=None branch=None id='QRK32act' timestamp=1749671182.413038\n",
      "content=Content(parts=[Part(video_metadata=None, thought=None, inline_data=None, file_data=None, thought_signature=None, code_execution_result=None, executable_code=None, function_call=None, function_response=None, text='use this file: gs://statmike-mlops-349915/applied-ml-solution-prototypes/document-processing/vendor_2/fake_invoices/vendor_2_invoice_10.pdf')], role='user') grounding_metadata=None partial=None turn_complete=None error_code=None error_message=None interrupted=None custom_metadata=None usage_metadata=None invocation_id='e-c8a82b72-14ec-477d-be60-2f0c7219dfea' author='user' actions=EventActions(skip_summarization=None, state_delta={}, artifact_delta={}, transfer_to_agent=None, escalate=None, requested_auth_configs={}) long_running_tool_ids=None branch=None id='lALoBXni' timestamp=1749671186.314533\n",
      "content=Content(parts=[Part(video_metadata=None, thought=None, inline_data=None, file_data=None, thought_signature=None, code_execution_result=None, executable_code=None, function_call=FunctionCall(id='adk-6d3e261d-562f-4221-b007-061de12d6322', args={'gcs_bucket': 'statmike-mlops-349915', 'gcs_file_path': 'applied-ml-solution-prototypes/document-processing/vendor_2/fake_invoices/vendor_2_invoice_10.pdf'}, name='get_gcs_file'), function_response=None, text=None)], role='model') grounding_metadata=None partial=None turn_complete=None error_code=None error_message=None interrupted=None custom_metadata=None usage_metadata=GenerateContentResponseUsageMetadata(cache_tokens_details=None, cached_content_token_count=None, candidates_token_count=56, candidates_tokens_details=[ModalityTokenCount(modality=<MediaModality.TEXT: 'TEXT'>, token_count=56)], prompt_token_count=3583, prompt_tokens_details=[ModalityTokenCount(modality=<MediaModality.TEXT: 'TEXT'>, token_count=3583)], thoughts_token_count=None, tool_use_prompt_token_count=None, tool_use_prompt_tokens_details=None, total_token_count=3639, traffic_type=<TrafficType.ON_DEMAND: 'ON_DEMAND'>) invocation_id='e-c8a82b72-14ec-477d-be60-2f0c7219dfea' author='document_agent' actions=EventActions(skip_summarization=None, state_delta={}, artifact_delta={}, transfer_to_agent=None, escalate=None, requested_auth_configs={}) long_running_tool_ids=set() branch=None id='eO7KDPnl' timestamp=1749671186.316318\n",
      "content=Content(parts=[Part(video_metadata=None, thought=None, inline_data=None, file_data=None, thought_signature=None, code_execution_result=None, executable_code=None, function_call=None, function_response=FunctionResponse(will_continue=None, scheduling=None, id='adk-6d3e261d-562f-4221-b007-061de12d6322', name='get_gcs_file', response={'result': 'The file vendor_2_invoice_10.pdf of type application/pdf and size 256029 bytes was loaded as an artifact with artifact_key = gcsfile_statmike-mlops-349915_applied-ml-solution-prototypes_document-processing_vendor_2_fake_invoices_vendor_2_invoice_10.pdf and version = 0.\\nNote that pdf files are internally converted to png images (first page).'}), text=None)], role='user') grounding_metadata=None partial=None turn_complete=None error_code=None error_message=None interrupted=None custom_metadata=None usage_metadata=None invocation_id='e-c8a82b72-14ec-477d-be60-2f0c7219dfea' author='document_agent' actions=EventActions(skip_summarization=None, state_delta={}, artifact_delta={'gcsfile_statmike-mlops-349915_applied-ml-solution-prototypes_document-processing_vendor_2_fake_invoices_vendor_2_invoice_10.pdf': 0}, transfer_to_agent=None, escalate=None, requested_auth_configs={}) long_running_tool_ids=None branch=None id='GjqpAOok' timestamp=1749671189.665421\n",
      "content=Content(parts=[Part(video_metadata=None, thought=None, inline_data=None, file_data=None, thought_signature=None, code_execution_result=None, executable_code=None, function_call=None, function_response=None, text='Okay, I have loaded the file from GCS. The artifact key for this document is `gcsfile_statmike-mlops-349915_applied-ml-solution-prototypes_document-processing_vendor_2_fake_invoices_vendor_2_invoice_10.pdf`. What would you like to do next? I can extract data from the document, classify it, or compare it to a vendor template.\\n')], role='model') grounding_metadata=None partial=None turn_complete=None error_code=None error_message=None interrupted=None custom_metadata=None usage_metadata=GenerateContentResponseUsageMetadata(cache_tokens_details=None, cached_content_token_count=None, candidates_token_count=95, candidates_tokens_details=[ModalityTokenCount(modality=<MediaModality.TEXT: 'TEXT'>, token_count=95)], prompt_token_count=3751, prompt_tokens_details=[ModalityTokenCount(modality=<MediaModality.TEXT: 'TEXT'>, token_count=3751)], thoughts_token_count=None, tool_use_prompt_token_count=None, tool_use_prompt_tokens_details=None, total_token_count=3846, traffic_type=<TrafficType.ON_DEMAND: 'ON_DEMAND'>) invocation_id='e-c8a82b72-14ec-477d-be60-2f0c7219dfea' author='document_agent' actions=EventActions(skip_summarization=None, state_delta={}, artifact_delta={}, transfer_to_agent=None, escalate=None, requested_auth_configs={}) long_running_tool_ids=None branch=None id='1hpexuDV' timestamp=1749671189.666921\n"
     ]
    }
   ],
   "source": [
    "for event in app.get_session(user_id = 'u_123', session_id = session.id).events:\n",
    "    print(event)"
   ]
  },
  {
   "cell_type": "code",
   "execution_count": 16,
   "id": "ad679e87",
   "metadata": {},
   "outputs": [],
   "source": [
    "app.delete_session(user_id = 'u_123', session_id = session.id)"
   ]
  },
  {
   "cell_type": "code",
   "execution_count": 17,
   "id": "ce0f3de2",
   "metadata": {},
   "outputs": [
    {
     "data": {
      "text/plain": [
       "ListSessionsResponse(sessions=[])"
      ]
     },
     "execution_count": 17,
     "metadata": {},
     "output_type": "execute_result"
    }
   ],
   "source": [
    "app.list_sessions(user_id = 'u_123')"
   ]
  },
  {
   "cell_type": "markdown",
   "id": "3fe9c274",
   "metadata": {},
   "source": [
    "---\n",
    "## Deploy To Vertex AI Agent Engine\n",
    "\n",
    "Now that the ADK Agent has been tested locally it can be deployed to Vertex AI Agent Engine."
   ]
  },
  {
   "cell_type": "markdown",
   "id": "5bd40c50",
   "metadata": {},
   "source": [
    "### Detect Current Deployment\n",
    "\n",
    "This code crates deployments and then saves their resource address to enviornment variables.  Start by checking for a previous value of a deployment that might exists already:\n"
   ]
  },
  {
   "cell_type": "code",
   "execution_count": 6,
   "id": "a7d6f1a1",
   "metadata": {},
   "outputs": [
    {
     "data": {
      "text/plain": [
       "'projects/1026793852137/locations/us-central1/reasoningEngines/1988805428414251008'"
      ]
     },
     "execution_count": 6,
     "metadata": {},
     "output_type": "execute_result"
    }
   ],
   "source": [
    "config = dotenv.dotenv_values(dotenv_path = './apps/.env')\n",
    "current_deployment = config.get('ADK_DEPLOY_RESOURCE_ID')\n",
    "current_deployment"
   ]
  },
  {
   "cell_type": "code",
   "execution_count": 9,
   "id": "976ab5f7",
   "metadata": {},
   "outputs": [],
   "source": [
    "try:\n",
    "    remote_app = agent_engines.get(resource_name = current_deployment)\n",
    "except Exception as e:\n",
    "    remote_app = None"
   ]
  },
  {
   "cell_type": "code",
   "execution_count": 10,
   "id": "33efc466",
   "metadata": {},
   "outputs": [
    {
     "data": {
      "text/plain": [
       "<vertexai.agent_engines._agent_engines.AgentEngine object at 0x7fa0136ddfd0> \n",
       "resource name: projects/1026793852137/locations/us-central1/reasoningEngines/1988805428414251008"
      ]
     },
     "execution_count": 10,
     "metadata": {},
     "output_type": "execute_result"
    }
   ],
   "source": [
    "remote_app"
   ]
  },
  {
   "cell_type": "markdown",
   "id": "c2bd425d",
   "metadata": {},
   "source": [
    "### Create A Deployment\n",
    "\n",
    "If a prior deployment was not found the create a new deployment."
   ]
  },
  {
   "cell_type": "code",
   "execution_count": 17,
   "id": "7b428e18",
   "metadata": {},
   "outputs": [
    {
     "data": {
      "text/plain": [
       "('document_agent',\n",
       " 'The primary agent that processes document related requests.')"
      ]
     },
     "execution_count": 17,
     "metadata": {},
     "output_type": "execute_result"
    }
   ],
   "source": [
    "root_agent.name, root_agent.description"
   ]
  },
  {
   "cell_type": "code",
   "execution_count": 11,
   "id": "68b5bb93",
   "metadata": {},
   "outputs": [
    {
     "name": "stdout",
     "output_type": "stream",
     "text": [
      "Retrieve existing deployment, use update instead of create.\n"
     ]
    }
   ],
   "source": [
    "if not remote_app:\n",
    "    remote_app = agent_engines.create(\n",
    "        agent_engine = root_agent,\n",
    "        requirements = \"../requirements.txt\",\n",
    "        extra_packages = [\"./document_agent\"],\n",
    "        gcs_dir_name = 'applied-ml-solution-prototypes/document-processing/agent_engine/staging',\n",
    "        display_name = root_agent.name,\n",
    "        description = root_agent.description,\n",
    "        #env_vars = \n",
    "    )\n",
    "else:\n",
    "    print('Retrieve existing deployment, use update instead of create.')"
   ]
  },
  {
   "cell_type": "code",
   "execution_count": 12,
   "id": "41c60493",
   "metadata": {},
   "outputs": [
    {
     "data": {
      "text/plain": [
       "'projects/1026793852137/locations/us-central1/reasoningEngines/1988805428414251008'"
      ]
     },
     "execution_count": 12,
     "metadata": {},
     "output_type": "execute_result"
    }
   ],
   "source": [
    "remote_app.resource_name"
   ]
  },
  {
   "cell_type": "code",
   "execution_count": 13,
   "id": "fb495818",
   "metadata": {},
   "outputs": [],
   "source": [
    "#remote_app = agent_engines.get(resource_name = 'projects/1026793852137/locations/us-central1/reasoningEngines/1988805428414251008')"
   ]
  },
  {
   "cell_type": "markdown",
   "id": "1be297fa",
   "metadata": {},
   "source": [
    "Write the resource name to the local `.env` file:"
   ]
  },
  {
   "cell_type": "code",
   "execution_count": 20,
   "id": "dade4f2c",
   "metadata": {},
   "outputs": [
    {
     "data": {
      "text/plain": [
       "(True,\n",
       " 'ADK_DEPLOY_RESOURCE_ID',\n",
       " 'projects/1026793852137/locations/us-central1/reasoningEngines/1988805428414251008')"
      ]
     },
     "execution_count": 20,
     "metadata": {},
     "output_type": "execute_result"
    }
   ],
   "source": [
    "dotenv.set_key(\n",
    "    './apps/.env', 'ADK_DEPLOY_RESOURCE_ID', remote_app.resource_name\n",
    ")"
   ]
  },
  {
   "cell_type": "markdown",
   "id": "018d26e9",
   "metadata": {},
   "source": [
    "### Update Deployment\n",
    "\n",
    "Only the updated parts need to be provided and the arguments are the same as creating a new agent.\n",
    "\n",
    "[Reference](https://cloud.google.com/vertex-ai/generative-ai/docs/agent-engine/manage/overview#update)"
   ]
  },
  {
   "cell_type": "code",
   "execution_count": 16,
   "id": "7cceaec5",
   "metadata": {},
   "outputs": [
    {
     "data": {
      "text/plain": [
       "('document_agent',\n",
       " 'The primary agent that processes document related requests.')"
      ]
     },
     "execution_count": 16,
     "metadata": {},
     "output_type": "execute_result"
    }
   ],
   "source": [
    "root_agent.name, root_agent.description"
   ]
  },
  {
   "cell_type": "code",
   "execution_count": 19,
   "id": "f0bb8d9a",
   "metadata": {},
   "outputs": [
    {
     "name": "stdout",
     "output_type": "stream",
     "text": [
      "Reading requirements from requirements='../requirements.txt'\n",
      "Read the following lines: ['absl-py==2.3.0', 'aiofiles==24.1.0', 'altair==5.5.0', 'annotated-types==0.7.0', 'anyio==4.9.0', 'asttokens==3.0.0', 'attrs==25.3.0', 'audioop-lts==0.2.1', 'Authlib==1.5.2', 'blinker==1.9.0', 'cachetools==5.5.2', 'certifi==2025.4.26', 'cffi==1.17.1', 'charset-normalizer==3.4.1', 'click==8.1.8', 'cloudpickle==3.1.1', 'comm==0.2.2', 'cryptography==44.0.2', 'db-dtypes==1.4.3', 'debugpy==1.8.14', 'decorator==5.2.1', 'deepdiff==6.7.1', 'Deprecated==1.2.18', 'docstring_parser==0.16', 'executing==2.2.0', 'fastapi==0.115.12', 'ffmpy==0.5.0', 'filelock==3.18.0', 'Flask==3.1.1', 'fsspec==2025.5.1', 'gitdb==4.0.12', 'GitPython==3.1.44', 'google-adk==1.2.1', 'google-api-core==2.24.2', 'google-api-python-client==2.169.0', 'google-auth==2.39.0', 'google-auth-httplib2==0.2.0', 'google-cloud-aiplatform==1.96.0', 'google-cloud-appengine-logging==1.6.1', 'google-cloud-audit-log==0.3.2', 'google-cloud-bigquery==3.31.0', 'google-cloud-core==2.4.3', 'google-cloud-dlp==3.30.0', 'google-cloud-documentai==3.5.0', 'google-cloud-logging==3.12.1', 'google-cloud-resource-manager==1.14.2', 'google-cloud-secret-manager==2.23.3', 'google-cloud-speech==2.32.0', 'google-cloud-storage==2.19.0', 'google-cloud-trace==1.16.1', 'google-crc32c==1.7.1', 'google-genai==1.19.0', 'google-resumable-media==2.7.2', 'googleapis-common-protos==1.70.0', 'gradio==5.31.0', 'gradio_client==1.10.1', 'graphviz==0.20.3', 'greenlet==3.2.1', 'groovy==0.1.2', 'grpc-google-iam-v1==0.14.2', 'grpcio==1.72.0rc1', 'grpcio-status==1.72.0rc1', 'h11==0.16.0', 'hf-xet==1.1.2', 'httpcore==1.0.9', 'httplib2==0.22.0', 'httpx==0.28.1', 'httpx-sse==0.4.0', 'huggingface-hub==0.32.2', 'idna==3.10', 'importlib_metadata==8.6.1', 'ipykernel==6.29.5', 'ipython==9.3.0', 'ipython_pygments_lexers==1.1.1', 'itsdangerous==2.2.0', 'jedi==0.19.2', 'Jinja2==3.1.6', 'jsonschema==4.24.0', 'jsonschema-specifications==2025.4.1', 'jupyter_client==8.6.3', 'jupyter_core==5.8.1', 'markdown-it-py==3.0.0', 'MarkupSafe==3.0.2', 'matplotlib-inline==0.1.7', 'mcp==1.9.3', 'mdurl==0.1.2', 'mesop==1.0.1', 'msgpack==1.1.0', 'narwhals==1.41.0', 'nest-asyncio==1.6.0', 'numpy==2.2.5', 'opentelemetry-api==1.32.1', 'opentelemetry-exporter-gcp-trace==1.9.0', 'opentelemetry-resourcedetector-gcp==1.9.0a0', 'opentelemetry-sdk==1.32.1', 'opentelemetry-semantic-conventions==0.53b1', 'ordered-set==4.1.0', 'orjson==3.10.18', 'packaging==24.2', 'pandas==2.2.3', 'parso==0.8.4', 'pexpect==4.9.0', 'pillow==11.2.1', 'platformdirs==4.3.8', 'prompt_toolkit==3.0.51', 'proto-plus==1.26.1', 'protobuf==6.30.2', 'psutil==7.0.0', 'ptyprocess==0.7.0', 'pure_eval==0.2.3', 'pyarrow==20.0.0', 'pyasn1==0.6.1', 'pyasn1_modules==0.4.2', 'pycparser==2.22', 'pydantic==2.11.4', 'pydantic-settings==2.9.1', 'pydantic_core==2.33.2', 'pydeck==0.9.1', 'pydub==0.25.1', 'Pygments==2.19.1', 'PyMuPDF==1.26.0', 'pyparsing==3.2.3', 'python-dateutil==2.9.0.post0', 'python-dotenv==1.1.0', 'python-multipart==0.0.20', 'pytz==2025.2', 'PyYAML==6.0.2', 'pyzmq==26.4.0', 'referencing==0.36.2', 'requests==2.32.3', 'rich==14.0.0', 'rpds-py==0.25.1', 'rsa==4.9.1', 'ruff==0.11.11', 'safehttpx==0.1.6', 'semantic-version==2.10.0', 'shapely==2.1.0', 'shellingham==1.5.4', 'six==1.17.0', 'smmap==5.0.2', 'sniffio==1.3.1', 'SQLAlchemy==2.0.40', 'sse-starlette==2.3.3', 'stack-data==0.6.3', 'starlette==0.46.2', 'streamlit==1.45.1', 'tabulate==0.9.0', 'tenacity==9.1.2', 'toml==0.10.2', 'tomlkit==0.13.2', 'tornado==6.5.1', 'tqdm==4.67.1', 'traitlets==5.14.3', 'typer==0.16.0', 'typing-inspection==0.4.0', 'typing_extensions==4.13.2', 'tzdata==2025.2', 'tzlocal==5.3.1', 'uritemplate==4.1.1', 'urllib3==2.4.0', 'uvicorn==0.34.2', 'watchdog==6.0.0', 'wcwidth==0.2.13', 'websockets==15.0.1', 'Werkzeug==3.1.3', 'wrapt==1.17.2', 'zipp==3.21.0']\n",
      "Identified the following requirements: {'google-cloud-appengine-logging': '1.6.1', 'pydantic_core': '2.33.2', 'grpc-google-iam-v1': '0.14.2', 'google-api-core': '2.24.2', 'google-cloud-trace': '1.16.1', 'google-cloud-speech': '2.32.0', 'googleapis-common-protos': '1.70.0', 'google-cloud-resource-manager': '1.14.2', 'google-cloud-audit-log': '0.3.2', 'google-cloud-dlp': '3.30.0', 'google-cloud-secret-manager': '2.23.3', 'google-cloud-bigquery': '3.31.0', 'google-genai': '1.19.0', 'protobuf': '6.30.2', 'cloudpickle': '3.1.1', 'google-auth': '2.39.0', 'google-cloud-aiplatform': '1.96.0', 'google-cloud-core': '2.4.3', 'google-resumable-media': '2.7.2', 'google-cloud-documentai': '3.5.0', 'google-cloud-logging': '3.12.1', 'pydantic': '2.11.4', 'google-adk': '1.2.1', 'google-cloud-storage': '2.19.0'}\n",
      "The final list of requirements: ['absl-py==2.3.0', 'aiofiles==24.1.0', 'altair==5.5.0', 'annotated-types==0.7.0', 'anyio==4.9.0', 'asttokens==3.0.0', 'attrs==25.3.0', 'audioop-lts==0.2.1', 'Authlib==1.5.2', 'blinker==1.9.0', 'cachetools==5.5.2', 'certifi==2025.4.26', 'cffi==1.17.1', 'charset-normalizer==3.4.1', 'click==8.1.8', 'cloudpickle==3.1.1', 'comm==0.2.2', 'cryptography==44.0.2', 'db-dtypes==1.4.3', 'debugpy==1.8.14', 'decorator==5.2.1', 'deepdiff==6.7.1', 'Deprecated==1.2.18', 'docstring_parser==0.16', 'executing==2.2.0', 'fastapi==0.115.12', 'ffmpy==0.5.0', 'filelock==3.18.0', 'Flask==3.1.1', 'fsspec==2025.5.1', 'gitdb==4.0.12', 'GitPython==3.1.44', 'google-adk==1.2.1', 'google-api-core==2.24.2', 'google-api-python-client==2.169.0', 'google-auth==2.39.0', 'google-auth-httplib2==0.2.0', 'google-cloud-aiplatform==1.96.0', 'google-cloud-appengine-logging==1.6.1', 'google-cloud-audit-log==0.3.2', 'google-cloud-bigquery==3.31.0', 'google-cloud-core==2.4.3', 'google-cloud-dlp==3.30.0', 'google-cloud-documentai==3.5.0', 'google-cloud-logging==3.12.1', 'google-cloud-resource-manager==1.14.2', 'google-cloud-secret-manager==2.23.3', 'google-cloud-speech==2.32.0', 'google-cloud-storage==2.19.0', 'google-cloud-trace==1.16.1', 'google-crc32c==1.7.1', 'google-genai==1.19.0', 'google-resumable-media==2.7.2', 'googleapis-common-protos==1.70.0', 'gradio==5.31.0', 'gradio_client==1.10.1', 'graphviz==0.20.3', 'greenlet==3.2.1', 'groovy==0.1.2', 'grpc-google-iam-v1==0.14.2', 'grpcio==1.72.0rc1', 'grpcio-status==1.72.0rc1', 'h11==0.16.0', 'hf-xet==1.1.2', 'httpcore==1.0.9', 'httplib2==0.22.0', 'httpx==0.28.1', 'httpx-sse==0.4.0', 'huggingface-hub==0.32.2', 'idna==3.10', 'importlib_metadata==8.6.1', 'ipykernel==6.29.5', 'ipython==9.3.0', 'ipython_pygments_lexers==1.1.1', 'itsdangerous==2.2.0', 'jedi==0.19.2', 'Jinja2==3.1.6', 'jsonschema==4.24.0', 'jsonschema-specifications==2025.4.1', 'jupyter_client==8.6.3', 'jupyter_core==5.8.1', 'markdown-it-py==3.0.0', 'MarkupSafe==3.0.2', 'matplotlib-inline==0.1.7', 'mcp==1.9.3', 'mdurl==0.1.2', 'mesop==1.0.1', 'msgpack==1.1.0', 'narwhals==1.41.0', 'nest-asyncio==1.6.0', 'numpy==2.2.5', 'opentelemetry-api==1.32.1', 'opentelemetry-exporter-gcp-trace==1.9.0', 'opentelemetry-resourcedetector-gcp==1.9.0a0', 'opentelemetry-sdk==1.32.1', 'opentelemetry-semantic-conventions==0.53b1', 'ordered-set==4.1.0', 'orjson==3.10.18', 'packaging==24.2', 'pandas==2.2.3', 'parso==0.8.4', 'pexpect==4.9.0', 'pillow==11.2.1', 'platformdirs==4.3.8', 'prompt_toolkit==3.0.51', 'proto-plus==1.26.1', 'protobuf==6.30.2', 'psutil==7.0.0', 'ptyprocess==0.7.0', 'pure_eval==0.2.3', 'pyarrow==20.0.0', 'pyasn1==0.6.1', 'pyasn1_modules==0.4.2', 'pycparser==2.22', 'pydantic==2.11.4', 'pydantic-settings==2.9.1', 'pydantic_core==2.33.2', 'pydeck==0.9.1', 'pydub==0.25.1', 'Pygments==2.19.1', 'PyMuPDF==1.26.0', 'pyparsing==3.2.3', 'python-dateutil==2.9.0.post0', 'python-dotenv==1.1.0', 'python-multipart==0.0.20', 'pytz==2025.2', 'PyYAML==6.0.2', 'pyzmq==26.4.0', 'referencing==0.36.2', 'requests==2.32.3', 'rich==14.0.0', 'rpds-py==0.25.1', 'rsa==4.9.1', 'ruff==0.11.11', 'safehttpx==0.1.6', 'semantic-version==2.10.0', 'shapely==2.1.0', 'shellingham==1.5.4', 'six==1.17.0', 'smmap==5.0.2', 'sniffio==1.3.1', 'SQLAlchemy==2.0.40', 'sse-starlette==2.3.3', 'stack-data==0.6.3', 'starlette==0.46.2', 'streamlit==1.45.1', 'tabulate==0.9.0', 'tenacity==9.1.2', 'toml==0.10.2', 'tomlkit==0.13.2', 'tornado==6.5.1', 'tqdm==4.67.1', 'traitlets==5.14.3', 'typer==0.16.0', 'typing-inspection==0.4.0', 'typing_extensions==4.13.2', 'tzdata==2025.2', 'tzlocal==5.3.1', 'uritemplate==4.1.1', 'urllib3==2.4.0', 'uvicorn==0.34.2', 'watchdog==6.0.0', 'wcwidth==0.2.13', 'websockets==15.0.1', 'Werkzeug==3.1.3', 'wrapt==1.17.2', 'zipp==3.21.0']\n",
      "Deploying google.adk.agents.Agent as an application.\n",
      "Using bucket statmike-mlops-349915\n",
      "Wrote to gs://statmike-mlops-349915/applied-ml-solution-prototypes/document-processing/agent_engine/staging/agent_engine.pkl\n",
      "Writing to gs://statmike-mlops-349915/applied-ml-solution-prototypes/document-processing/agent_engine/staging/requirements.txt\n",
      "Creating in-memory tarfile of extra_packages\n",
      "Writing to gs://statmike-mlops-349915/applied-ml-solution-prototypes/document-processing/agent_engine/staging/dependencies.tar.gz\n",
      "Update Agent Engine backing LRO: projects/1026793852137/locations/us-central1/reasoningEngines/1988805428414251008/operations/1729849377553383424\n",
      "Agent Engine updated. Resource name: projects/1026793852137/locations/us-central1/reasoningEngines/1988805428414251008\n"
     ]
    }
   ],
   "source": [
    "if remote_app:\n",
    "    update_app = agent_engines.update(\n",
    "        resource_name = remote_app.resource_name,\n",
    "        agent_engine = root_agent,\n",
    "        requirements = \"../requirements.txt\",\n",
    "        extra_packages = [\"./document_agent\"],\n",
    "        gcs_dir_name = 'applied-ml-solution-prototypes/document-processing/agent_engine/staging',\n",
    "        display_name = root_agent.name,\n",
    "        description = root_agent.description,\n",
    "        #env_vars =  \n",
    "    )"
   ]
  },
  {
   "cell_type": "code",
   "execution_count": 20,
   "id": "99ee89a8",
   "metadata": {},
   "outputs": [
    {
     "data": {
      "text/plain": [
       "<vertexai.agent_engines._agent_engines.AgentEngine object at 0x7fa0136ddfd0> \n",
       "resource name: projects/1026793852137/locations/us-central1/reasoningEngines/1988805428414251008"
      ]
     },
     "execution_count": 20,
     "metadata": {},
     "output_type": "execute_result"
    }
   ],
   "source": [
    "remote_app"
   ]
  },
  {
   "cell_type": "markdown",
   "id": "a2f089d9",
   "metadata": {},
   "source": [
    "### Test Deployment\n",
    "\n",
    "Trying creating a session, interacting with it, and removing/deleting it."
   ]
  },
  {
   "cell_type": "code",
   "execution_count": 21,
   "id": "e69be568",
   "metadata": {},
   "outputs": [
    {
     "data": {
      "text/plain": [
       "{'id': '1295027335182942208',\n",
       " 'state': {},\n",
       " 'events': [],\n",
       " 'lastUpdateTime': 1749826948.34,\n",
       " 'appName': '1988805428414251008',\n",
       " 'userId': 'u_123'}"
      ]
     },
     "execution_count": 21,
     "metadata": {},
     "output_type": "execute_result"
    }
   ],
   "source": [
    "remote_session = remote_app.create_session(user_id = 'u_123')\n",
    "remote_session"
   ]
  },
  {
   "cell_type": "code",
   "execution_count": 22,
   "id": "3902d333",
   "metadata": {},
   "outputs": [
    {
     "data": {
      "text/plain": [
       "{'sessions': [{'id': '1295027335182942208',\n",
       "   'lastUpdateTime': 1749826948.34,\n",
       "   'events': [],\n",
       "   'state': {},\n",
       "   'appName': '1988805428414251008',\n",
       "   'userId': 'u_123'}]}"
      ]
     },
     "execution_count": 22,
     "metadata": {},
     "output_type": "execute_result"
    }
   ],
   "source": [
    "remote_app.list_sessions(user_id = 'u_123')"
   ]
  },
  {
   "cell_type": "code",
   "execution_count": 23,
   "id": "84f506ef",
   "metadata": {},
   "outputs": [
    {
     "data": {
      "text/plain": [
       "{'id': '1295027335182942208',\n",
       " 'events': [],\n",
       " 'lastUpdateTime': 1749826948.34,\n",
       " 'state': {},\n",
       " 'appName': '1988805428414251008',\n",
       " 'userId': 'u_123'}"
      ]
     },
     "execution_count": 23,
     "metadata": {},
     "output_type": "execute_result"
    }
   ],
   "source": [
    "remote_session = remote_app.get_session(user_id = \"u_123\", session_id = remote_session['id'])\n",
    "remote_session"
   ]
  },
  {
   "cell_type": "code",
   "execution_count": 24,
   "id": "b9153dc8",
   "metadata": {},
   "outputs": [],
   "source": [
    "remote_app.delete_session(user_id = 'u_123', session_id = remote_session['id'])"
   ]
  },
  {
   "cell_type": "code",
   "execution_count": 25,
   "id": "2885ef99",
   "metadata": {},
   "outputs": [
    {
     "data": {
      "text/plain": [
       "{'sessions': []}"
      ]
     },
     "execution_count": 25,
     "metadata": {},
     "output_type": "execute_result"
    }
   ],
   "source": [
    "remote_app.list_sessions(user_id = 'u_123')"
   ]
  },
  {
   "cell_type": "markdown",
   "id": "208ea45a",
   "metadata": {},
   "source": [
    "---\n",
    "## Manage Deployed App Permissions\n",
    "\n",
    "[Reference](https://cloud.google.com/vertex-ai/generative-ai/docs/agent-engine/manage/access#roles)\n",
    " \n",
    "- [Vertex AI IAM Roles](https://cloud.google.com/vertex-ai/docs/general/access-control)\n",
    "  - already included: `roles/aiplatform.reasoningEngineServiceAgent` \n",
    "    - which already has GCS storage permissions\n",
    "- [Document AI IAM Roles](https://cloud.google.com/document-ai/docs/access-control/iam-roles)\n",
    "  - `roles/documentai.apiUser`\n",
    "- [Sensitive Data Protection (DLP) IAM Roles](https://cloud.google.com/sensitive-data-protection/docs/iam-roles)\n",
    "  - `roles/dlp.uwer`\n",
    "- [BigQuery IAM Roles](https://cloud.google.com/bigquery/docs/access-control)\n",
    "  - need to create a query: `roles/bigquery.jobUser`\n",
    "  - and read data for the query: `roles/bigquery.dataView`"
   ]
  },
  {
   "cell_type": "code",
   "execution_count": 29,
   "id": "021bd469",
   "metadata": {},
   "outputs": [
    {
     "data": {
      "text/plain": [
       "'1026793852137'"
      ]
     },
     "execution_count": 29,
     "metadata": {},
     "output_type": "execute_result"
    }
   ],
   "source": [
    "project_number = remote_app.resource_name.split('/')[1]\n",
    "project_number"
   ]
  },
  {
   "cell_type": "code",
   "execution_count": 30,
   "id": "b04b6b14",
   "metadata": {},
   "outputs": [
    {
     "data": {
      "text/plain": [
       "'service-1026793852137@gcp-sa-aiplatform-re.iam.gserviceaccount.com'"
      ]
     },
     "execution_count": 30,
     "metadata": {},
     "output_type": "execute_result"
    }
   ],
   "source": [
    "service_account_id = f\"service-{project_number}@gcp-sa-aiplatform-re.iam.gserviceaccount.com\"\n",
    "service_account_id"
   ]
  },
  {
   "cell_type": "code",
   "execution_count": 35,
   "id": "193155aa",
   "metadata": {},
   "outputs": [
    {
     "name": "stdout",
     "output_type": "stream",
     "text": [
      "ROLE\n",
      "roles/aiplatform.reasoningEngineServiceAgent\n",
      "roles/documentai.apiUser\n"
     ]
    }
   ],
   "source": [
    "!gcloud projects get-iam-policy {project_number} --flatten=\"bindings\" --format=\"table(bindings.role)\" --filter=\"bindings.members:'{service_account_id}'\""
   ]
  },
  {
   "cell_type": "code",
   "execution_count": 34,
   "id": "2145a4d6",
   "metadata": {},
   "outputs": [
    {
     "name": "stdout",
     "output_type": "stream",
     "text": [
      "Updated IAM policy for project [1026793852137].\n",
      "bindings:\n",
      "- members:\n",
      "  - serviceAccount:service-1026793852137@gcp-sa-vertex-bp.iam.gserviceaccount.com\n",
      "  role: roles/aiplatform.batchPredictionServiceAgent\n",
      "- members:\n",
      "  - serviceAccount:service-1026793852137@gcp-sa-vertex-nb.iam.gserviceaccount.com\n",
      "  role: roles/aiplatform.colabServiceAgent\n",
      "- members:\n",
      "  - serviceAccount:service-1026793852137@gcp-sa-aiplatform-cc.iam.gserviceaccount.com\n",
      "  role: roles/aiplatform.customCodeServiceAgent\n",
      "- members:\n",
      "  - serviceAccount:service-1026793852137@gcp-sa-aiplatform.iam.gserviceaccount.com\n",
      "  role: roles/aiplatform.featurestoreDataViewer\n",
      "- members:\n",
      "  - serviceAccount:service-1026793852137@gcp-sa-vertex-mm.iam.gserviceaccount.com\n",
      "  role: roles/aiplatform.modelMonitoringServiceAgent\n",
      "- members:\n",
      "  - serviceAccount:service-1026793852137@gcp-sa-aiplatform-vm.iam.gserviceaccount.com\n",
      "  role: roles/aiplatform.notebookServiceAgent\n",
      "- members:\n",
      "  - serviceAccount:service-1026793852137@gcp-sa-vertex-op.iam.gserviceaccount.com\n",
      "  role: roles/aiplatform.onlinePredictionServiceAgent\n",
      "- members:\n",
      "  - serviceAccount:service-1026793852137@gcp-sa-vertex-eval.iam.gserviceaccount.com\n",
      "  role: roles/aiplatform.rapidevalServiceAgent\n",
      "- members:\n",
      "  - serviceAccount:service-1026793852137@gcp-sa-aiplatform-re.iam.gserviceaccount.com\n",
      "  role: roles/aiplatform.reasoningEngineServiceAgent\n",
      "- members:\n",
      "  - serviceAccount:service-1026793852137@gcp-sa-aiplatform.iam.gserviceaccount.com\n",
      "  role: roles/aiplatform.serviceAgent\n",
      "- members:\n",
      "  - serviceAccount:1026793852137-compute@developer.gserviceaccount.com\n",
      "  - serviceAccount:bqcx-1026793852137-bmph@gcp-sa-bigquery-condel.iam.gserviceaccount.com\n",
      "  - serviceAccount:bqcx-1026793852137-d2h9@gcp-sa-bigquery-condel.iam.gserviceaccount.com\n",
      "  - serviceAccount:bqcx-1026793852137-dyw1@gcp-sa-bigquery-condel.iam.gserviceaccount.com\n",
      "  - serviceAccount:bqcx-1026793852137-pdxa@gcp-sa-bigquery-condel.iam.gserviceaccount.com\n",
      "  - serviceAccount:bqcx-1026793852137-te86@gcp-sa-bigquery-condel.iam.gserviceaccount.com\n",
      "  - serviceAccount:bqcx-1026793852137-tqpc@gcp-sa-bigquery-condel.iam.gserviceaccount.com\n",
      "  - serviceAccount:bqcx-1026793852137-vk6u@gcp-sa-bigquery-condel.iam.gserviceaccount.com\n",
      "  - serviceAccount:bqcx-1026793852137-zfly@gcp-sa-bigquery-condel.iam.gserviceaccount.com\n",
      "  - user:statmike2@statmike.altostrat.com\n",
      "  role: roles/aiplatform.user\n",
      "- members:\n",
      "  - serviceAccount:service-1026793852137@gcp-sa-alloydb.iam.gserviceaccount.com\n",
      "  role: roles/alloydb.serviceAgent\n",
      "- members:\n",
      "  - serviceAccount:service-1026793852137@gcp-sa-artifactregistry.iam.gserviceaccount.com\n",
      "  role: roles/artifactregistry.serviceAgent\n",
      "- members:\n",
      "  - serviceAccount:1026793852137-compute@developer.gserviceaccount.com\n",
      "  role: roles/bigquery.admin\n",
      "- members:\n",
      "  - serviceAccount:1026793852137@cloudservices.gserviceaccount.com\n",
      "  role: roles/bigquery.dataOwner\n",
      "- members:\n",
      "  - serviceAccount:service-1026793852137@gcp-sa-bigquerydatatransfer.iam.gserviceaccount.com\n",
      "  role: roles/bigquerydatatransfer.serviceAgent\n",
      "- members:\n",
      "  - serviceAccount:service-1026793852137@gcp-sa-binaryauthorization.iam.gserviceaccount.com\n",
      "  role: roles/binaryauthorization.serviceAgent\n",
      "- members:\n",
      "  - serviceAccount:1026793852137@cloudbuild.gserviceaccount.com\n",
      "  role: roles/cloudbuild.builds.builder\n",
      "- members:\n",
      "  - serviceAccount:service-1026793852137@gcp-sa-cloudbuild.iam.gserviceaccount.com\n",
      "  role: roles/cloudbuild.serviceAgent\n",
      "- members:\n",
      "  - serviceAccount:service-1026793852137@gcf-admin-robot.iam.gserviceaccount.com\n",
      "  role: roles/cloudfunctions.serviceAgent\n",
      "- members:\n",
      "  - serviceAccount:service-1026793852137@gcp-sa-cloudscheduler.iam.gserviceaccount.com\n",
      "  role: roles/cloudscheduler.serviceAgent\n",
      "- members:\n",
      "  - serviceAccount:bqcx-1026793852137-d2h9@gcp-sa-bigquery-condel.iam.gserviceaccount.com\n",
      "  role: roles/cloudtranslate.user\n",
      "- members:\n",
      "  - serviceAccount:service-1026793852137@compute-system.iam.gserviceaccount.com\n",
      "  role: roles/compute.serviceAgent\n",
      "- members:\n",
      "  - serviceAccount:service-1026793852137@gcp-sa-connectors.iam.gserviceaccount.com\n",
      "  role: roles/connectors.serviceAgent\n",
      "- members:\n",
      "  - serviceAccount:service-1026793852137@container-engine-robot.iam.gserviceaccount.com\n",
      "  role: roles/container.serviceAgent\n",
      "- members:\n",
      "  - serviceAccount:service-1026793852137@container-analysis.iam.gserviceaccount.com\n",
      "  role: roles/containeranalysis.ServiceAgent\n",
      "- members:\n",
      "  - serviceAccount:service-1026793852137@containerregistry.iam.gserviceaccount.com\n",
      "  role: roles/containerregistry.ServiceAgent\n",
      "- members:\n",
      "  - serviceAccount:service-1026793852137@dataflow-service-producer-prod.iam.gserviceaccount.com\n",
      "  role: roles/dataflow.serviceAgent\n",
      "- members:\n",
      "  - serviceAccount:service-1026793852137@gcp-sa-dataform.iam.gserviceaccount.com\n",
      "  role: roles/dataform.serviceAgent\n",
      "- members:\n",
      "  - serviceAccount:service-1026793852137@dataproc-accounts.iam.gserviceaccount.com\n",
      "  role: roles/dataproc.serviceAgent\n",
      "- members:\n",
      "  - serviceAccount:service-1026793852137@gcp-sa-dialogflow.iam.gserviceaccount.com\n",
      "  role: roles/dialogflow.serviceAgent\n",
      "- members:\n",
      "  - serviceAccount:service-1026793852137@gcp-sa-discoveryengine.iam.gserviceaccount.com\n",
      "  role: roles/discoveryengine.serviceAgent\n",
      "- members:\n",
      "  - serviceAccount:service-1026793852137@dlp-api.iam.gserviceaccount.com\n",
      "  role: roles/dlp.serviceAgent\n",
      "- members:\n",
      "  - serviceAccount:service-532015589141@gcp-sa-prod-dai-core.iam.gserviceaccount.com\n",
      "  role: roles/documentai.admin\n",
      "- members:\n",
      "  - serviceAccount:bqcx-1026793852137-te86@gcp-sa-bigquery-condel.iam.gserviceaccount.com\n",
      "  - serviceAccount:service-1026793852137@gcp-sa-aiplatform-re.iam.gserviceaccount.com\n",
      "  role: roles/documentai.apiUser\n",
      "- members:\n",
      "  - serviceAccount:bqcx-1026793852137-te86@gcp-sa-bigquery-condel.iam.gserviceaccount.com\n",
      "  - serviceAccount:bqcx-1026793852137-vk6u@gcp-sa-bigquery-condel.iam.gserviceaccount.com\n",
      "  role: roles/documentai.viewer\n",
      "- members:\n",
      "  - serviceAccount:service-1026793852137@gcp-sa-prod-dai-core.iam.gserviceaccount.com\n",
      "  role: roles/documentaicore.serviceAgent\n",
      "- members:\n",
      "  - serviceAccount:1026793852137@cloudservices.gserviceaccount.com\n",
      "  role: roles/editor\n",
      "- members:\n",
      "  - serviceAccount:service-1026793852137@gcp-sa-eventarc.iam.gserviceaccount.com\n",
      "  role: roles/eventarc.serviceAgent\n",
      "- members:\n",
      "  - serviceAccount:service-1026793852137@firebase-rules.iam.gserviceaccount.com\n",
      "  role: roles/firebaserules.system\n",
      "- members:\n",
      "  - serviceAccount:service-1026793852137@gcp-sa-firestore.iam.gserviceaccount.com\n",
      "  role: roles/firestore.serviceAgent\n",
      "- members:\n",
      "  - serviceAccount:service-1026793852137@gcp-sa-integrations.iam.gserviceaccount.com\n",
      "  role: roles/iam.serviceAccountUser\n",
      "- members:\n",
      "  - serviceAccount:1026793852137-compute@developer.gserviceaccount.com\n",
      "  role: roles/integrations.integrationInvoker\n",
      "- members:\n",
      "  - serviceAccount:service-1026793852137@gcp-sa-integrations.iam.gserviceaccount.com\n",
      "  role: roles/integrations.serviceAgent\n",
      "- members:\n",
      "  - serviceAccount:service-1026793852137@gcp-sa-networkmanagement.iam.gserviceaccount.com\n",
      "  role: roles/networkmanagement.serviceAgent\n",
      "- members:\n",
      "  - serviceAccount:service-1026793852137@gcp-sa-notebooks.iam.gserviceaccount.com\n",
      "  role: roles/notebooks.serviceAgent\n",
      "- members:\n",
      "  - serviceAccount:service-1026793852137@gcp-sa-oci.iam.gserviceaccount.com\n",
      "  role: roles/oci.serviceAgent\n",
      "- members:\n",
      "  - serviceAccount:1026793852137-compute@developer.gserviceaccount.com\n",
      "  - serviceAccount:1026793852137@cloudservices.gserviceaccount.com\n",
      "  - user:admin@statmike.altostrat.com\n",
      "  role: roles/owner\n",
      "- members:\n",
      "  - serviceAccount:service-1026793852137@gcp-sa-integrations.iam.gserviceaccount.com\n",
      "  role: roles/pubsub.editor\n",
      "- members:\n",
      "  - serviceAccount:service-1026793852137@gcp-sa-pubsub.iam.gserviceaccount.com\n",
      "  role: roles/pubsub.serviceAgent\n",
      "- members:\n",
      "  - serviceAccount:service-1026793852137@cloud-redis.iam.gserviceaccount.com\n",
      "  role: roles/redis.serviceAgent\n",
      "- members:\n",
      "  - serviceAccount:1026793852137-compute@developer.gserviceaccount.com\n",
      "  role: roles/run.admin\n",
      "- members:\n",
      "  - serviceAccount:service-1026793852137@serverless-robot-prod.iam.gserviceaccount.com\n",
      "  role: roles/run.serviceAgent\n",
      "- members:\n",
      "  - serviceAccount:1026793852137-compute@developer.gserviceaccount.com\n",
      "  role: roles/secretmanager.secretAccessor\n",
      "- members:\n",
      "  - serviceAccount:service-1026793852137@service-networking.iam.gserviceaccount.com\n",
      "  role: roles/servicenetworking.serviceAgent\n",
      "- members:\n",
      "  - serviceAccount:bqcx-1026793852137-d2h9@gcp-sa-bigquery-condel.iam.gserviceaccount.com\n",
      "  role: roles/serviceusage.serviceUsageConsumer\n",
      "- members:\n",
      "  - serviceAccount:service-1026793852137@gcp-sa-speech.iam.gserviceaccount.com\n",
      "  role: roles/speech.serviceAgent\n",
      "- members:\n",
      "  - serviceAccount:1026793852137-compute@developer.gserviceaccount.com\n",
      "  role: roles/storage.objectAdmin\n",
      "- members:\n",
      "  - serviceAccount:bqcx-1026793852137-te86@gcp-sa-bigquery-condel.iam.gserviceaccount.com\n",
      "  - serviceAccount:bqcx-1026793852137-vk6u@gcp-sa-bigquery-condel.iam.gserviceaccount.com\n",
      "  role: roles/storage.objectViewer\n",
      "- members:\n",
      "  - user:showvik@statmike.altostrat.com\n",
      "  role: roles/viewer\n",
      "- members:\n",
      "  - serviceAccount:service-1026793852137@gcp-sa-workstations.iam.gserviceaccount.com\n",
      "  role: roles/workstations.serviceAgent\n",
      "etag: BwY3dasmCIk=\n",
      "version: 1\n"
     ]
    }
   ],
   "source": [
    "!gcloud projects add-iam-policy-binding {project_number} --member=\"serviceAccount:{service_account_id}\" --role=\"roles/documentai.apiUser\""
   ]
  },
  {
   "cell_type": "code",
   "execution_count": 36,
   "id": "d9b1b051",
   "metadata": {},
   "outputs": [
    {
     "name": "stdout",
     "output_type": "stream",
     "text": [
      "Updated IAM policy for project [1026793852137].\n",
      "bindings:\n",
      "- members:\n",
      "  - serviceAccount:service-1026793852137@gcp-sa-vertex-bp.iam.gserviceaccount.com\n",
      "  role: roles/aiplatform.batchPredictionServiceAgent\n",
      "- members:\n",
      "  - serviceAccount:service-1026793852137@gcp-sa-vertex-nb.iam.gserviceaccount.com\n",
      "  role: roles/aiplatform.colabServiceAgent\n",
      "- members:\n",
      "  - serviceAccount:service-1026793852137@gcp-sa-aiplatform-cc.iam.gserviceaccount.com\n",
      "  role: roles/aiplatform.customCodeServiceAgent\n",
      "- members:\n",
      "  - serviceAccount:service-1026793852137@gcp-sa-aiplatform.iam.gserviceaccount.com\n",
      "  role: roles/aiplatform.featurestoreDataViewer\n",
      "- members:\n",
      "  - serviceAccount:service-1026793852137@gcp-sa-vertex-mm.iam.gserviceaccount.com\n",
      "  role: roles/aiplatform.modelMonitoringServiceAgent\n",
      "- members:\n",
      "  - serviceAccount:service-1026793852137@gcp-sa-aiplatform-vm.iam.gserviceaccount.com\n",
      "  role: roles/aiplatform.notebookServiceAgent\n",
      "- members:\n",
      "  - serviceAccount:service-1026793852137@gcp-sa-vertex-op.iam.gserviceaccount.com\n",
      "  role: roles/aiplatform.onlinePredictionServiceAgent\n",
      "- members:\n",
      "  - serviceAccount:service-1026793852137@gcp-sa-vertex-eval.iam.gserviceaccount.com\n",
      "  role: roles/aiplatform.rapidevalServiceAgent\n",
      "- members:\n",
      "  - serviceAccount:service-1026793852137@gcp-sa-aiplatform-re.iam.gserviceaccount.com\n",
      "  role: roles/aiplatform.reasoningEngineServiceAgent\n",
      "- members:\n",
      "  - serviceAccount:service-1026793852137@gcp-sa-aiplatform.iam.gserviceaccount.com\n",
      "  role: roles/aiplatform.serviceAgent\n",
      "- members:\n",
      "  - serviceAccount:1026793852137-compute@developer.gserviceaccount.com\n",
      "  - serviceAccount:bqcx-1026793852137-bmph@gcp-sa-bigquery-condel.iam.gserviceaccount.com\n",
      "  - serviceAccount:bqcx-1026793852137-d2h9@gcp-sa-bigquery-condel.iam.gserviceaccount.com\n",
      "  - serviceAccount:bqcx-1026793852137-dyw1@gcp-sa-bigquery-condel.iam.gserviceaccount.com\n",
      "  - serviceAccount:bqcx-1026793852137-pdxa@gcp-sa-bigquery-condel.iam.gserviceaccount.com\n",
      "  - serviceAccount:bqcx-1026793852137-te86@gcp-sa-bigquery-condel.iam.gserviceaccount.com\n",
      "  - serviceAccount:bqcx-1026793852137-tqpc@gcp-sa-bigquery-condel.iam.gserviceaccount.com\n",
      "  - serviceAccount:bqcx-1026793852137-vk6u@gcp-sa-bigquery-condel.iam.gserviceaccount.com\n",
      "  - serviceAccount:bqcx-1026793852137-zfly@gcp-sa-bigquery-condel.iam.gserviceaccount.com\n",
      "  - user:statmike2@statmike.altostrat.com\n",
      "  role: roles/aiplatform.user\n",
      "- members:\n",
      "  - serviceAccount:service-1026793852137@gcp-sa-alloydb.iam.gserviceaccount.com\n",
      "  role: roles/alloydb.serviceAgent\n",
      "- members:\n",
      "  - serviceAccount:service-1026793852137@gcp-sa-artifactregistry.iam.gserviceaccount.com\n",
      "  role: roles/artifactregistry.serviceAgent\n",
      "- members:\n",
      "  - serviceAccount:1026793852137-compute@developer.gserviceaccount.com\n",
      "  role: roles/bigquery.admin\n",
      "- members:\n",
      "  - serviceAccount:1026793852137@cloudservices.gserviceaccount.com\n",
      "  role: roles/bigquery.dataOwner\n",
      "- members:\n",
      "  - serviceAccount:service-1026793852137@gcp-sa-bigquerydatatransfer.iam.gserviceaccount.com\n",
      "  role: roles/bigquerydatatransfer.serviceAgent\n",
      "- members:\n",
      "  - serviceAccount:service-1026793852137@gcp-sa-binaryauthorization.iam.gserviceaccount.com\n",
      "  role: roles/binaryauthorization.serviceAgent\n",
      "- members:\n",
      "  - serviceAccount:1026793852137@cloudbuild.gserviceaccount.com\n",
      "  role: roles/cloudbuild.builds.builder\n",
      "- members:\n",
      "  - serviceAccount:service-1026793852137@gcp-sa-cloudbuild.iam.gserviceaccount.com\n",
      "  role: roles/cloudbuild.serviceAgent\n",
      "- members:\n",
      "  - serviceAccount:service-1026793852137@gcf-admin-robot.iam.gserviceaccount.com\n",
      "  role: roles/cloudfunctions.serviceAgent\n",
      "- members:\n",
      "  - serviceAccount:service-1026793852137@gcp-sa-cloudscheduler.iam.gserviceaccount.com\n",
      "  role: roles/cloudscheduler.serviceAgent\n",
      "- members:\n",
      "  - serviceAccount:bqcx-1026793852137-d2h9@gcp-sa-bigquery-condel.iam.gserviceaccount.com\n",
      "  role: roles/cloudtranslate.user\n",
      "- members:\n",
      "  - serviceAccount:service-1026793852137@compute-system.iam.gserviceaccount.com\n",
      "  role: roles/compute.serviceAgent\n",
      "- members:\n",
      "  - serviceAccount:service-1026793852137@gcp-sa-connectors.iam.gserviceaccount.com\n",
      "  role: roles/connectors.serviceAgent\n",
      "- members:\n",
      "  - serviceAccount:service-1026793852137@container-engine-robot.iam.gserviceaccount.com\n",
      "  role: roles/container.serviceAgent\n",
      "- members:\n",
      "  - serviceAccount:service-1026793852137@container-analysis.iam.gserviceaccount.com\n",
      "  role: roles/containeranalysis.ServiceAgent\n",
      "- members:\n",
      "  - serviceAccount:service-1026793852137@containerregistry.iam.gserviceaccount.com\n",
      "  role: roles/containerregistry.ServiceAgent\n",
      "- members:\n",
      "  - serviceAccount:service-1026793852137@dataflow-service-producer-prod.iam.gserviceaccount.com\n",
      "  role: roles/dataflow.serviceAgent\n",
      "- members:\n",
      "  - serviceAccount:service-1026793852137@gcp-sa-dataform.iam.gserviceaccount.com\n",
      "  role: roles/dataform.serviceAgent\n",
      "- members:\n",
      "  - serviceAccount:service-1026793852137@dataproc-accounts.iam.gserviceaccount.com\n",
      "  role: roles/dataproc.serviceAgent\n",
      "- members:\n",
      "  - serviceAccount:service-1026793852137@gcp-sa-dialogflow.iam.gserviceaccount.com\n",
      "  role: roles/dialogflow.serviceAgent\n",
      "- members:\n",
      "  - serviceAccount:service-1026793852137@gcp-sa-discoveryengine.iam.gserviceaccount.com\n",
      "  role: roles/discoveryengine.serviceAgent\n",
      "- members:\n",
      "  - serviceAccount:service-1026793852137@dlp-api.iam.gserviceaccount.com\n",
      "  role: roles/dlp.serviceAgent\n",
      "- members:\n",
      "  - serviceAccount:service-1026793852137@gcp-sa-aiplatform-re.iam.gserviceaccount.com\n",
      "  role: roles/dlp.user\n",
      "- members:\n",
      "  - serviceAccount:service-532015589141@gcp-sa-prod-dai-core.iam.gserviceaccount.com\n",
      "  role: roles/documentai.admin\n",
      "- members:\n",
      "  - serviceAccount:bqcx-1026793852137-te86@gcp-sa-bigquery-condel.iam.gserviceaccount.com\n",
      "  - serviceAccount:service-1026793852137@gcp-sa-aiplatform-re.iam.gserviceaccount.com\n",
      "  role: roles/documentai.apiUser\n",
      "- members:\n",
      "  - serviceAccount:bqcx-1026793852137-te86@gcp-sa-bigquery-condel.iam.gserviceaccount.com\n",
      "  - serviceAccount:bqcx-1026793852137-vk6u@gcp-sa-bigquery-condel.iam.gserviceaccount.com\n",
      "  role: roles/documentai.viewer\n",
      "- members:\n",
      "  - serviceAccount:service-1026793852137@gcp-sa-prod-dai-core.iam.gserviceaccount.com\n",
      "  role: roles/documentaicore.serviceAgent\n",
      "- members:\n",
      "  - serviceAccount:1026793852137@cloudservices.gserviceaccount.com\n",
      "  role: roles/editor\n",
      "- members:\n",
      "  - serviceAccount:service-1026793852137@gcp-sa-eventarc.iam.gserviceaccount.com\n",
      "  role: roles/eventarc.serviceAgent\n",
      "- members:\n",
      "  - serviceAccount:service-1026793852137@firebase-rules.iam.gserviceaccount.com\n",
      "  role: roles/firebaserules.system\n",
      "- members:\n",
      "  - serviceAccount:service-1026793852137@gcp-sa-firestore.iam.gserviceaccount.com\n",
      "  role: roles/firestore.serviceAgent\n",
      "- members:\n",
      "  - serviceAccount:service-1026793852137@gcp-sa-integrations.iam.gserviceaccount.com\n",
      "  role: roles/iam.serviceAccountUser\n",
      "- members:\n",
      "  - serviceAccount:1026793852137-compute@developer.gserviceaccount.com\n",
      "  role: roles/integrations.integrationInvoker\n",
      "- members:\n",
      "  - serviceAccount:service-1026793852137@gcp-sa-integrations.iam.gserviceaccount.com\n",
      "  role: roles/integrations.serviceAgent\n",
      "- members:\n",
      "  - serviceAccount:service-1026793852137@gcp-sa-networkmanagement.iam.gserviceaccount.com\n",
      "  role: roles/networkmanagement.serviceAgent\n",
      "- members:\n",
      "  - serviceAccount:service-1026793852137@gcp-sa-notebooks.iam.gserviceaccount.com\n",
      "  role: roles/notebooks.serviceAgent\n",
      "- members:\n",
      "  - serviceAccount:service-1026793852137@gcp-sa-oci.iam.gserviceaccount.com\n",
      "  role: roles/oci.serviceAgent\n",
      "- members:\n",
      "  - serviceAccount:1026793852137-compute@developer.gserviceaccount.com\n",
      "  - serviceAccount:1026793852137@cloudservices.gserviceaccount.com\n",
      "  - user:admin@statmike.altostrat.com\n",
      "  role: roles/owner\n",
      "- members:\n",
      "  - serviceAccount:service-1026793852137@gcp-sa-integrations.iam.gserviceaccount.com\n",
      "  role: roles/pubsub.editor\n",
      "- members:\n",
      "  - serviceAccount:service-1026793852137@gcp-sa-pubsub.iam.gserviceaccount.com\n",
      "  role: roles/pubsub.serviceAgent\n",
      "- members:\n",
      "  - serviceAccount:service-1026793852137@cloud-redis.iam.gserviceaccount.com\n",
      "  role: roles/redis.serviceAgent\n",
      "- members:\n",
      "  - serviceAccount:1026793852137-compute@developer.gserviceaccount.com\n",
      "  role: roles/run.admin\n",
      "- members:\n",
      "  - serviceAccount:service-1026793852137@serverless-robot-prod.iam.gserviceaccount.com\n",
      "  role: roles/run.serviceAgent\n",
      "- members:\n",
      "  - serviceAccount:1026793852137-compute@developer.gserviceaccount.com\n",
      "  role: roles/secretmanager.secretAccessor\n",
      "- members:\n",
      "  - serviceAccount:service-1026793852137@service-networking.iam.gserviceaccount.com\n",
      "  role: roles/servicenetworking.serviceAgent\n",
      "- members:\n",
      "  - serviceAccount:bqcx-1026793852137-d2h9@gcp-sa-bigquery-condel.iam.gserviceaccount.com\n",
      "  role: roles/serviceusage.serviceUsageConsumer\n",
      "- members:\n",
      "  - serviceAccount:service-1026793852137@gcp-sa-speech.iam.gserviceaccount.com\n",
      "  role: roles/speech.serviceAgent\n",
      "- members:\n",
      "  - serviceAccount:1026793852137-compute@developer.gserviceaccount.com\n",
      "  role: roles/storage.objectAdmin\n",
      "- members:\n",
      "  - serviceAccount:bqcx-1026793852137-te86@gcp-sa-bigquery-condel.iam.gserviceaccount.com\n",
      "  - serviceAccount:bqcx-1026793852137-vk6u@gcp-sa-bigquery-condel.iam.gserviceaccount.com\n",
      "  role: roles/storage.objectViewer\n",
      "- members:\n",
      "  - user:showvik@statmike.altostrat.com\n",
      "  role: roles/viewer\n",
      "- members:\n",
      "  - serviceAccount:service-1026793852137@gcp-sa-workstations.iam.gserviceaccount.com\n",
      "  role: roles/workstations.serviceAgent\n",
      "etag: BwY3dbYZneU=\n",
      "version: 1\n"
     ]
    }
   ],
   "source": [
    "!gcloud projects add-iam-policy-binding {project_number} --member=\"serviceAccount:{service_account_id}\" --role=\"roles/dlp.user\""
   ]
  },
  {
   "cell_type": "code",
   "execution_count": 37,
   "id": "0a2338a0",
   "metadata": {},
   "outputs": [
    {
     "name": "stdout",
     "output_type": "stream",
     "text": [
      "ROLE\n",
      "roles/aiplatform.reasoningEngineServiceAgent\n",
      "roles/dlp.user\n",
      "roles/documentai.apiUser\n"
     ]
    }
   ],
   "source": [
    "!gcloud projects get-iam-policy {project_number} --flatten=\"bindings\" --format=\"table(bindings.role)\" --filter=\"bindings.members:'{service_account_id}'\""
   ]
  },
  {
   "cell_type": "code",
   "execution_count": 38,
   "id": "d1a92250",
   "metadata": {},
   "outputs": [
    {
     "name": "stdout",
     "output_type": "stream",
     "text": [
      "Updated IAM policy for project [1026793852137].\n",
      "bindings:\n",
      "- members:\n",
      "  - serviceAccount:service-1026793852137@gcp-sa-vertex-bp.iam.gserviceaccount.com\n",
      "  role: roles/aiplatform.batchPredictionServiceAgent\n",
      "- members:\n",
      "  - serviceAccount:service-1026793852137@gcp-sa-vertex-nb.iam.gserviceaccount.com\n",
      "  role: roles/aiplatform.colabServiceAgent\n",
      "- members:\n",
      "  - serviceAccount:service-1026793852137@gcp-sa-aiplatform-cc.iam.gserviceaccount.com\n",
      "  role: roles/aiplatform.customCodeServiceAgent\n",
      "- members:\n",
      "  - serviceAccount:service-1026793852137@gcp-sa-aiplatform.iam.gserviceaccount.com\n",
      "  role: roles/aiplatform.featurestoreDataViewer\n",
      "- members:\n",
      "  - serviceAccount:service-1026793852137@gcp-sa-vertex-mm.iam.gserviceaccount.com\n",
      "  role: roles/aiplatform.modelMonitoringServiceAgent\n",
      "- members:\n",
      "  - serviceAccount:service-1026793852137@gcp-sa-aiplatform-vm.iam.gserviceaccount.com\n",
      "  role: roles/aiplatform.notebookServiceAgent\n",
      "- members:\n",
      "  - serviceAccount:service-1026793852137@gcp-sa-vertex-op.iam.gserviceaccount.com\n",
      "  role: roles/aiplatform.onlinePredictionServiceAgent\n",
      "- members:\n",
      "  - serviceAccount:service-1026793852137@gcp-sa-vertex-eval.iam.gserviceaccount.com\n",
      "  role: roles/aiplatform.rapidevalServiceAgent\n",
      "- members:\n",
      "  - serviceAccount:service-1026793852137@gcp-sa-aiplatform-re.iam.gserviceaccount.com\n",
      "  role: roles/aiplatform.reasoningEngineServiceAgent\n",
      "- members:\n",
      "  - serviceAccount:service-1026793852137@gcp-sa-aiplatform.iam.gserviceaccount.com\n",
      "  role: roles/aiplatform.serviceAgent\n",
      "- members:\n",
      "  - serviceAccount:1026793852137-compute@developer.gserviceaccount.com\n",
      "  - serviceAccount:bqcx-1026793852137-bmph@gcp-sa-bigquery-condel.iam.gserviceaccount.com\n",
      "  - serviceAccount:bqcx-1026793852137-d2h9@gcp-sa-bigquery-condel.iam.gserviceaccount.com\n",
      "  - serviceAccount:bqcx-1026793852137-dyw1@gcp-sa-bigquery-condel.iam.gserviceaccount.com\n",
      "  - serviceAccount:bqcx-1026793852137-pdxa@gcp-sa-bigquery-condel.iam.gserviceaccount.com\n",
      "  - serviceAccount:bqcx-1026793852137-te86@gcp-sa-bigquery-condel.iam.gserviceaccount.com\n",
      "  - serviceAccount:bqcx-1026793852137-tqpc@gcp-sa-bigquery-condel.iam.gserviceaccount.com\n",
      "  - serviceAccount:bqcx-1026793852137-vk6u@gcp-sa-bigquery-condel.iam.gserviceaccount.com\n",
      "  - serviceAccount:bqcx-1026793852137-zfly@gcp-sa-bigquery-condel.iam.gserviceaccount.com\n",
      "  - user:statmike2@statmike.altostrat.com\n",
      "  role: roles/aiplatform.user\n",
      "- members:\n",
      "  - serviceAccount:service-1026793852137@gcp-sa-alloydb.iam.gserviceaccount.com\n",
      "  role: roles/alloydb.serviceAgent\n",
      "- members:\n",
      "  - serviceAccount:service-1026793852137@gcp-sa-artifactregistry.iam.gserviceaccount.com\n",
      "  role: roles/artifactregistry.serviceAgent\n",
      "- members:\n",
      "  - serviceAccount:1026793852137-compute@developer.gserviceaccount.com\n",
      "  role: roles/bigquery.admin\n",
      "- members:\n",
      "  - serviceAccount:1026793852137@cloudservices.gserviceaccount.com\n",
      "  role: roles/bigquery.dataOwner\n",
      "- members:\n",
      "  - serviceAccount:service-1026793852137@gcp-sa-aiplatform-re.iam.gserviceaccount.com\n",
      "  role: roles/bigquery.jobUser\n",
      "- members:\n",
      "  - serviceAccount:service-1026793852137@gcp-sa-bigquerydatatransfer.iam.gserviceaccount.com\n",
      "  role: roles/bigquerydatatransfer.serviceAgent\n",
      "- members:\n",
      "  - serviceAccount:service-1026793852137@gcp-sa-binaryauthorization.iam.gserviceaccount.com\n",
      "  role: roles/binaryauthorization.serviceAgent\n",
      "- members:\n",
      "  - serviceAccount:1026793852137@cloudbuild.gserviceaccount.com\n",
      "  role: roles/cloudbuild.builds.builder\n",
      "- members:\n",
      "  - serviceAccount:service-1026793852137@gcp-sa-cloudbuild.iam.gserviceaccount.com\n",
      "  role: roles/cloudbuild.serviceAgent\n",
      "- members:\n",
      "  - serviceAccount:service-1026793852137@gcf-admin-robot.iam.gserviceaccount.com\n",
      "  role: roles/cloudfunctions.serviceAgent\n",
      "- members:\n",
      "  - serviceAccount:service-1026793852137@gcp-sa-cloudscheduler.iam.gserviceaccount.com\n",
      "  role: roles/cloudscheduler.serviceAgent\n",
      "- members:\n",
      "  - serviceAccount:bqcx-1026793852137-d2h9@gcp-sa-bigquery-condel.iam.gserviceaccount.com\n",
      "  role: roles/cloudtranslate.user\n",
      "- members:\n",
      "  - serviceAccount:service-1026793852137@compute-system.iam.gserviceaccount.com\n",
      "  role: roles/compute.serviceAgent\n",
      "- members:\n",
      "  - serviceAccount:service-1026793852137@gcp-sa-connectors.iam.gserviceaccount.com\n",
      "  role: roles/connectors.serviceAgent\n",
      "- members:\n",
      "  - serviceAccount:service-1026793852137@container-engine-robot.iam.gserviceaccount.com\n",
      "  role: roles/container.serviceAgent\n",
      "- members:\n",
      "  - serviceAccount:service-1026793852137@container-analysis.iam.gserviceaccount.com\n",
      "  role: roles/containeranalysis.ServiceAgent\n",
      "- members:\n",
      "  - serviceAccount:service-1026793852137@containerregistry.iam.gserviceaccount.com\n",
      "  role: roles/containerregistry.ServiceAgent\n",
      "- members:\n",
      "  - serviceAccount:service-1026793852137@dataflow-service-producer-prod.iam.gserviceaccount.com\n",
      "  role: roles/dataflow.serviceAgent\n",
      "- members:\n",
      "  - serviceAccount:service-1026793852137@gcp-sa-dataform.iam.gserviceaccount.com\n",
      "  role: roles/dataform.serviceAgent\n",
      "- members:\n",
      "  - serviceAccount:service-1026793852137@dataproc-accounts.iam.gserviceaccount.com\n",
      "  role: roles/dataproc.serviceAgent\n",
      "- members:\n",
      "  - serviceAccount:service-1026793852137@gcp-sa-dialogflow.iam.gserviceaccount.com\n",
      "  role: roles/dialogflow.serviceAgent\n",
      "- members:\n",
      "  - serviceAccount:service-1026793852137@gcp-sa-discoveryengine.iam.gserviceaccount.com\n",
      "  role: roles/discoveryengine.serviceAgent\n",
      "- members:\n",
      "  - serviceAccount:service-1026793852137@dlp-api.iam.gserviceaccount.com\n",
      "  role: roles/dlp.serviceAgent\n",
      "- members:\n",
      "  - serviceAccount:service-1026793852137@gcp-sa-aiplatform-re.iam.gserviceaccount.com\n",
      "  role: roles/dlp.user\n",
      "- members:\n",
      "  - serviceAccount:service-532015589141@gcp-sa-prod-dai-core.iam.gserviceaccount.com\n",
      "  role: roles/documentai.admin\n",
      "- members:\n",
      "  - serviceAccount:bqcx-1026793852137-te86@gcp-sa-bigquery-condel.iam.gserviceaccount.com\n",
      "  - serviceAccount:service-1026793852137@gcp-sa-aiplatform-re.iam.gserviceaccount.com\n",
      "  role: roles/documentai.apiUser\n",
      "- members:\n",
      "  - serviceAccount:bqcx-1026793852137-te86@gcp-sa-bigquery-condel.iam.gserviceaccount.com\n",
      "  - serviceAccount:bqcx-1026793852137-vk6u@gcp-sa-bigquery-condel.iam.gserviceaccount.com\n",
      "  role: roles/documentai.viewer\n",
      "- members:\n",
      "  - serviceAccount:service-1026793852137@gcp-sa-prod-dai-core.iam.gserviceaccount.com\n",
      "  role: roles/documentaicore.serviceAgent\n",
      "- members:\n",
      "  - serviceAccount:1026793852137@cloudservices.gserviceaccount.com\n",
      "  role: roles/editor\n",
      "- members:\n",
      "  - serviceAccount:service-1026793852137@gcp-sa-eventarc.iam.gserviceaccount.com\n",
      "  role: roles/eventarc.serviceAgent\n",
      "- members:\n",
      "  - serviceAccount:service-1026793852137@firebase-rules.iam.gserviceaccount.com\n",
      "  role: roles/firebaserules.system\n",
      "- members:\n",
      "  - serviceAccount:service-1026793852137@gcp-sa-firestore.iam.gserviceaccount.com\n",
      "  role: roles/firestore.serviceAgent\n",
      "- members:\n",
      "  - serviceAccount:service-1026793852137@gcp-sa-integrations.iam.gserviceaccount.com\n",
      "  role: roles/iam.serviceAccountUser\n",
      "- members:\n",
      "  - serviceAccount:1026793852137-compute@developer.gserviceaccount.com\n",
      "  role: roles/integrations.integrationInvoker\n",
      "- members:\n",
      "  - serviceAccount:service-1026793852137@gcp-sa-integrations.iam.gserviceaccount.com\n",
      "  role: roles/integrations.serviceAgent\n",
      "- members:\n",
      "  - serviceAccount:service-1026793852137@gcp-sa-networkmanagement.iam.gserviceaccount.com\n",
      "  role: roles/networkmanagement.serviceAgent\n",
      "- members:\n",
      "  - serviceAccount:service-1026793852137@gcp-sa-notebooks.iam.gserviceaccount.com\n",
      "  role: roles/notebooks.serviceAgent\n",
      "- members:\n",
      "  - serviceAccount:service-1026793852137@gcp-sa-oci.iam.gserviceaccount.com\n",
      "  role: roles/oci.serviceAgent\n",
      "- members:\n",
      "  - serviceAccount:1026793852137-compute@developer.gserviceaccount.com\n",
      "  - serviceAccount:1026793852137@cloudservices.gserviceaccount.com\n",
      "  - user:admin@statmike.altostrat.com\n",
      "  role: roles/owner\n",
      "- members:\n",
      "  - serviceAccount:service-1026793852137@gcp-sa-integrations.iam.gserviceaccount.com\n",
      "  role: roles/pubsub.editor\n",
      "- members:\n",
      "  - serviceAccount:service-1026793852137@gcp-sa-pubsub.iam.gserviceaccount.com\n",
      "  role: roles/pubsub.serviceAgent\n",
      "- members:\n",
      "  - serviceAccount:service-1026793852137@cloud-redis.iam.gserviceaccount.com\n",
      "  role: roles/redis.serviceAgent\n",
      "- members:\n",
      "  - serviceAccount:1026793852137-compute@developer.gserviceaccount.com\n",
      "  role: roles/run.admin\n",
      "- members:\n",
      "  - serviceAccount:service-1026793852137@serverless-robot-prod.iam.gserviceaccount.com\n",
      "  role: roles/run.serviceAgent\n",
      "- members:\n",
      "  - serviceAccount:1026793852137-compute@developer.gserviceaccount.com\n",
      "  role: roles/secretmanager.secretAccessor\n",
      "- members:\n",
      "  - serviceAccount:service-1026793852137@service-networking.iam.gserviceaccount.com\n",
      "  role: roles/servicenetworking.serviceAgent\n",
      "- members:\n",
      "  - serviceAccount:bqcx-1026793852137-d2h9@gcp-sa-bigquery-condel.iam.gserviceaccount.com\n",
      "  role: roles/serviceusage.serviceUsageConsumer\n",
      "- members:\n",
      "  - serviceAccount:service-1026793852137@gcp-sa-speech.iam.gserviceaccount.com\n",
      "  role: roles/speech.serviceAgent\n",
      "- members:\n",
      "  - serviceAccount:1026793852137-compute@developer.gserviceaccount.com\n",
      "  role: roles/storage.objectAdmin\n",
      "- members:\n",
      "  - serviceAccount:bqcx-1026793852137-te86@gcp-sa-bigquery-condel.iam.gserviceaccount.com\n",
      "  - serviceAccount:bqcx-1026793852137-vk6u@gcp-sa-bigquery-condel.iam.gserviceaccount.com\n",
      "  role: roles/storage.objectViewer\n",
      "- members:\n",
      "  - user:showvik@statmike.altostrat.com\n",
      "  role: roles/viewer\n",
      "- members:\n",
      "  - serviceAccount:service-1026793852137@gcp-sa-workstations.iam.gserviceaccount.com\n",
      "  role: roles/workstations.serviceAgent\n",
      "etag: BwY3dpHCGeA=\n",
      "version: 1\n"
     ]
    }
   ],
   "source": [
    "!gcloud projects add-iam-policy-binding {project_number} --member=\"serviceAccount:{service_account_id}\" --role=\"roles/bigquery.jobUser\""
   ]
  },
  {
   "cell_type": "code",
   "execution_count": 40,
   "id": "a1dd5b23",
   "metadata": {},
   "outputs": [
    {
     "name": "stdout",
     "output_type": "stream",
     "text": [
      "Updated IAM policy for project [1026793852137].\n",
      "bindings:\n",
      "- members:\n",
      "  - serviceAccount:service-1026793852137@gcp-sa-vertex-bp.iam.gserviceaccount.com\n",
      "  role: roles/aiplatform.batchPredictionServiceAgent\n",
      "- members:\n",
      "  - serviceAccount:service-1026793852137@gcp-sa-vertex-nb.iam.gserviceaccount.com\n",
      "  role: roles/aiplatform.colabServiceAgent\n",
      "- members:\n",
      "  - serviceAccount:service-1026793852137@gcp-sa-aiplatform-cc.iam.gserviceaccount.com\n",
      "  role: roles/aiplatform.customCodeServiceAgent\n",
      "- members:\n",
      "  - serviceAccount:service-1026793852137@gcp-sa-aiplatform.iam.gserviceaccount.com\n",
      "  role: roles/aiplatform.featurestoreDataViewer\n",
      "- members:\n",
      "  - serviceAccount:service-1026793852137@gcp-sa-vertex-mm.iam.gserviceaccount.com\n",
      "  role: roles/aiplatform.modelMonitoringServiceAgent\n",
      "- members:\n",
      "  - serviceAccount:service-1026793852137@gcp-sa-aiplatform-vm.iam.gserviceaccount.com\n",
      "  role: roles/aiplatform.notebookServiceAgent\n",
      "- members:\n",
      "  - serviceAccount:service-1026793852137@gcp-sa-vertex-op.iam.gserviceaccount.com\n",
      "  role: roles/aiplatform.onlinePredictionServiceAgent\n",
      "- members:\n",
      "  - serviceAccount:service-1026793852137@gcp-sa-vertex-eval.iam.gserviceaccount.com\n",
      "  role: roles/aiplatform.rapidevalServiceAgent\n",
      "- members:\n",
      "  - serviceAccount:service-1026793852137@gcp-sa-aiplatform-re.iam.gserviceaccount.com\n",
      "  role: roles/aiplatform.reasoningEngineServiceAgent\n",
      "- members:\n",
      "  - serviceAccount:service-1026793852137@gcp-sa-aiplatform.iam.gserviceaccount.com\n",
      "  role: roles/aiplatform.serviceAgent\n",
      "- members:\n",
      "  - serviceAccount:1026793852137-compute@developer.gserviceaccount.com\n",
      "  - serviceAccount:bqcx-1026793852137-bmph@gcp-sa-bigquery-condel.iam.gserviceaccount.com\n",
      "  - serviceAccount:bqcx-1026793852137-d2h9@gcp-sa-bigquery-condel.iam.gserviceaccount.com\n",
      "  - serviceAccount:bqcx-1026793852137-dyw1@gcp-sa-bigquery-condel.iam.gserviceaccount.com\n",
      "  - serviceAccount:bqcx-1026793852137-pdxa@gcp-sa-bigquery-condel.iam.gserviceaccount.com\n",
      "  - serviceAccount:bqcx-1026793852137-te86@gcp-sa-bigquery-condel.iam.gserviceaccount.com\n",
      "  - serviceAccount:bqcx-1026793852137-tqpc@gcp-sa-bigquery-condel.iam.gserviceaccount.com\n",
      "  - serviceAccount:bqcx-1026793852137-vk6u@gcp-sa-bigquery-condel.iam.gserviceaccount.com\n",
      "  - serviceAccount:bqcx-1026793852137-zfly@gcp-sa-bigquery-condel.iam.gserviceaccount.com\n",
      "  - user:statmike2@statmike.altostrat.com\n",
      "  role: roles/aiplatform.user\n",
      "- members:\n",
      "  - serviceAccount:service-1026793852137@gcp-sa-alloydb.iam.gserviceaccount.com\n",
      "  role: roles/alloydb.serviceAgent\n",
      "- members:\n",
      "  - serviceAccount:service-1026793852137@gcp-sa-artifactregistry.iam.gserviceaccount.com\n",
      "  role: roles/artifactregistry.serviceAgent\n",
      "- members:\n",
      "  - serviceAccount:1026793852137-compute@developer.gserviceaccount.com\n",
      "  role: roles/bigquery.admin\n",
      "- members:\n",
      "  - serviceAccount:1026793852137@cloudservices.gserviceaccount.com\n",
      "  role: roles/bigquery.dataOwner\n",
      "- members:\n",
      "  - serviceAccount:service-1026793852137@gcp-sa-aiplatform-re.iam.gserviceaccount.com\n",
      "  role: roles/bigquery.dataViewer\n",
      "- members:\n",
      "  - serviceAccount:service-1026793852137@gcp-sa-aiplatform-re.iam.gserviceaccount.com\n",
      "  role: roles/bigquery.jobUser\n",
      "- members:\n",
      "  - serviceAccount:service-1026793852137@gcp-sa-bigquerydatatransfer.iam.gserviceaccount.com\n",
      "  role: roles/bigquerydatatransfer.serviceAgent\n",
      "- members:\n",
      "  - serviceAccount:service-1026793852137@gcp-sa-binaryauthorization.iam.gserviceaccount.com\n",
      "  role: roles/binaryauthorization.serviceAgent\n",
      "- members:\n",
      "  - serviceAccount:1026793852137@cloudbuild.gserviceaccount.com\n",
      "  role: roles/cloudbuild.builds.builder\n",
      "- members:\n",
      "  - serviceAccount:service-1026793852137@gcp-sa-cloudbuild.iam.gserviceaccount.com\n",
      "  role: roles/cloudbuild.serviceAgent\n",
      "- members:\n",
      "  - serviceAccount:service-1026793852137@gcf-admin-robot.iam.gserviceaccount.com\n",
      "  role: roles/cloudfunctions.serviceAgent\n",
      "- members:\n",
      "  - serviceAccount:service-1026793852137@gcp-sa-cloudscheduler.iam.gserviceaccount.com\n",
      "  role: roles/cloudscheduler.serviceAgent\n",
      "- members:\n",
      "  - serviceAccount:bqcx-1026793852137-d2h9@gcp-sa-bigquery-condel.iam.gserviceaccount.com\n",
      "  role: roles/cloudtranslate.user\n",
      "- members:\n",
      "  - serviceAccount:service-1026793852137@compute-system.iam.gserviceaccount.com\n",
      "  role: roles/compute.serviceAgent\n",
      "- members:\n",
      "  - serviceAccount:service-1026793852137@gcp-sa-connectors.iam.gserviceaccount.com\n",
      "  role: roles/connectors.serviceAgent\n",
      "- members:\n",
      "  - serviceAccount:service-1026793852137@container-engine-robot.iam.gserviceaccount.com\n",
      "  role: roles/container.serviceAgent\n",
      "- members:\n",
      "  - serviceAccount:service-1026793852137@container-analysis.iam.gserviceaccount.com\n",
      "  role: roles/containeranalysis.ServiceAgent\n",
      "- members:\n",
      "  - serviceAccount:service-1026793852137@containerregistry.iam.gserviceaccount.com\n",
      "  role: roles/containerregistry.ServiceAgent\n",
      "- members:\n",
      "  - serviceAccount:service-1026793852137@dataflow-service-producer-prod.iam.gserviceaccount.com\n",
      "  role: roles/dataflow.serviceAgent\n",
      "- members:\n",
      "  - serviceAccount:service-1026793852137@gcp-sa-dataform.iam.gserviceaccount.com\n",
      "  role: roles/dataform.serviceAgent\n",
      "- members:\n",
      "  - serviceAccount:service-1026793852137@dataproc-accounts.iam.gserviceaccount.com\n",
      "  role: roles/dataproc.serviceAgent\n",
      "- members:\n",
      "  - serviceAccount:service-1026793852137@gcp-sa-dialogflow.iam.gserviceaccount.com\n",
      "  role: roles/dialogflow.serviceAgent\n",
      "- members:\n",
      "  - serviceAccount:service-1026793852137@gcp-sa-discoveryengine.iam.gserviceaccount.com\n",
      "  role: roles/discoveryengine.serviceAgent\n",
      "- members:\n",
      "  - serviceAccount:service-1026793852137@dlp-api.iam.gserviceaccount.com\n",
      "  role: roles/dlp.serviceAgent\n",
      "- members:\n",
      "  - serviceAccount:service-1026793852137@gcp-sa-aiplatform-re.iam.gserviceaccount.com\n",
      "  role: roles/dlp.user\n",
      "- members:\n",
      "  - serviceAccount:service-532015589141@gcp-sa-prod-dai-core.iam.gserviceaccount.com\n",
      "  role: roles/documentai.admin\n",
      "- members:\n",
      "  - serviceAccount:bqcx-1026793852137-te86@gcp-sa-bigquery-condel.iam.gserviceaccount.com\n",
      "  - serviceAccount:service-1026793852137@gcp-sa-aiplatform-re.iam.gserviceaccount.com\n",
      "  role: roles/documentai.apiUser\n",
      "- members:\n",
      "  - serviceAccount:bqcx-1026793852137-te86@gcp-sa-bigquery-condel.iam.gserviceaccount.com\n",
      "  - serviceAccount:bqcx-1026793852137-vk6u@gcp-sa-bigquery-condel.iam.gserviceaccount.com\n",
      "  role: roles/documentai.viewer\n",
      "- members:\n",
      "  - serviceAccount:service-1026793852137@gcp-sa-prod-dai-core.iam.gserviceaccount.com\n",
      "  role: roles/documentaicore.serviceAgent\n",
      "- members:\n",
      "  - serviceAccount:1026793852137@cloudservices.gserviceaccount.com\n",
      "  role: roles/editor\n",
      "- members:\n",
      "  - serviceAccount:service-1026793852137@gcp-sa-eventarc.iam.gserviceaccount.com\n",
      "  role: roles/eventarc.serviceAgent\n",
      "- members:\n",
      "  - serviceAccount:service-1026793852137@firebase-rules.iam.gserviceaccount.com\n",
      "  role: roles/firebaserules.system\n",
      "- members:\n",
      "  - serviceAccount:service-1026793852137@gcp-sa-firestore.iam.gserviceaccount.com\n",
      "  role: roles/firestore.serviceAgent\n",
      "- members:\n",
      "  - serviceAccount:service-1026793852137@gcp-sa-integrations.iam.gserviceaccount.com\n",
      "  role: roles/iam.serviceAccountUser\n",
      "- members:\n",
      "  - serviceAccount:1026793852137-compute@developer.gserviceaccount.com\n",
      "  role: roles/integrations.integrationInvoker\n",
      "- members:\n",
      "  - serviceAccount:service-1026793852137@gcp-sa-integrations.iam.gserviceaccount.com\n",
      "  role: roles/integrations.serviceAgent\n",
      "- members:\n",
      "  - serviceAccount:service-1026793852137@gcp-sa-networkmanagement.iam.gserviceaccount.com\n",
      "  role: roles/networkmanagement.serviceAgent\n",
      "- members:\n",
      "  - serviceAccount:service-1026793852137@gcp-sa-notebooks.iam.gserviceaccount.com\n",
      "  role: roles/notebooks.serviceAgent\n",
      "- members:\n",
      "  - serviceAccount:service-1026793852137@gcp-sa-oci.iam.gserviceaccount.com\n",
      "  role: roles/oci.serviceAgent\n",
      "- members:\n",
      "  - serviceAccount:1026793852137-compute@developer.gserviceaccount.com\n",
      "  - serviceAccount:1026793852137@cloudservices.gserviceaccount.com\n",
      "  - user:admin@statmike.altostrat.com\n",
      "  role: roles/owner\n",
      "- members:\n",
      "  - serviceAccount:service-1026793852137@gcp-sa-integrations.iam.gserviceaccount.com\n",
      "  role: roles/pubsub.editor\n",
      "- members:\n",
      "  - serviceAccount:service-1026793852137@gcp-sa-pubsub.iam.gserviceaccount.com\n",
      "  role: roles/pubsub.serviceAgent\n",
      "- members:\n",
      "  - serviceAccount:service-1026793852137@cloud-redis.iam.gserviceaccount.com\n",
      "  role: roles/redis.serviceAgent\n",
      "- members:\n",
      "  - serviceAccount:1026793852137-compute@developer.gserviceaccount.com\n",
      "  role: roles/run.admin\n",
      "- members:\n",
      "  - serviceAccount:service-1026793852137@serverless-robot-prod.iam.gserviceaccount.com\n",
      "  role: roles/run.serviceAgent\n",
      "- members:\n",
      "  - serviceAccount:1026793852137-compute@developer.gserviceaccount.com\n",
      "  role: roles/secretmanager.secretAccessor\n",
      "- members:\n",
      "  - serviceAccount:service-1026793852137@service-networking.iam.gserviceaccount.com\n",
      "  role: roles/servicenetworking.serviceAgent\n",
      "- members:\n",
      "  - serviceAccount:bqcx-1026793852137-d2h9@gcp-sa-bigquery-condel.iam.gserviceaccount.com\n",
      "  role: roles/serviceusage.serviceUsageConsumer\n",
      "- members:\n",
      "  - serviceAccount:service-1026793852137@gcp-sa-speech.iam.gserviceaccount.com\n",
      "  role: roles/speech.serviceAgent\n",
      "- members:\n",
      "  - serviceAccount:1026793852137-compute@developer.gserviceaccount.com\n",
      "  role: roles/storage.objectAdmin\n",
      "- members:\n",
      "  - serviceAccount:bqcx-1026793852137-te86@gcp-sa-bigquery-condel.iam.gserviceaccount.com\n",
      "  - serviceAccount:bqcx-1026793852137-vk6u@gcp-sa-bigquery-condel.iam.gserviceaccount.com\n",
      "  role: roles/storage.objectViewer\n",
      "- members:\n",
      "  - user:showvik@statmike.altostrat.com\n",
      "  role: roles/viewer\n",
      "- members:\n",
      "  - serviceAccount:service-1026793852137@gcp-sa-workstations.iam.gserviceaccount.com\n",
      "  role: roles/workstations.serviceAgent\n",
      "etag: BwY3drXIIaA=\n",
      "version: 1\n"
     ]
    }
   ],
   "source": [
    "!gcloud projects add-iam-policy-binding {project_number} --member=\"serviceAccount:{service_account_id}\" --role=\"roles/bigquery.dataViewer\""
   ]
  },
  {
   "cell_type": "code",
   "execution_count": 41,
   "id": "84d52505",
   "metadata": {},
   "outputs": [
    {
     "name": "stdout",
     "output_type": "stream",
     "text": [
      "ROLE\n",
      "roles/aiplatform.reasoningEngineServiceAgent\n",
      "roles/bigquery.dataViewer\n",
      "roles/bigquery.jobUser\n",
      "roles/dlp.user\n",
      "roles/documentai.apiUser\n"
     ]
    }
   ],
   "source": [
    "!gcloud projects get-iam-policy {project_number} --flatten=\"bindings\" --format=\"table(bindings.role)\" --filter=\"bindings.members:'{service_account_id}'\""
   ]
  },
  {
   "cell_type": "markdown",
   "id": "114ffc7f",
   "metadata": {},
   "source": [
    "---\n",
    "## Delete Deployed Agent"
   ]
  },
  {
   "cell_type": "code",
   "execution_count": 26,
   "id": "342fb378",
   "metadata": {},
   "outputs": [],
   "source": [
    "delete_app = False\n",
    "\n",
    "if delete_app and remote_app:\n",
    "    task = remote_app.delete(force = True)"
   ]
  },
  {
   "cell_type": "markdown",
   "id": "e18c5b1e",
   "metadata": {},
   "source": [
    "---\n",
    "## Use The Deployed Agent\n",
    "\n",
    "For examples of interacting with the deployed agent using both the Vertex AI SDK and REST go to this companion workflow: [use-vertex-ai-agent-engine](./use-vertex-ai-agent-engine.ipynb)"
   ]
  },
  {
   "cell_type": "markdown",
   "id": "b6b41cdc",
   "metadata": {},
   "source": []
  }
 ],
 "metadata": {
  "kernelspec": {
   "display_name": ".venv",
   "language": "python",
   "name": "python3"
  },
  "language_info": {
   "codemirror_mode": {
    "name": "ipython",
    "version": 3
   },
   "file_extension": ".py",
   "mimetype": "text/x-python",
   "name": "python",
   "nbconvert_exporter": "python",
   "pygments_lexer": "ipython3",
   "version": "3.13.3"
  }
 },
 "nbformat": 4,
 "nbformat_minor": 5
}
