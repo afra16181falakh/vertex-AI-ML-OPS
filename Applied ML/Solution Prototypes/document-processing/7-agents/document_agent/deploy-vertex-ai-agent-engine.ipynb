{
 "cells": [
  {
   "cell_type": "markdown",
   "id": "d692f4a5",
   "metadata": {},
   "source": [
    "# Deploy Agent To Vertex AI Agent Engine\n",
    "\n",
    "[Vertex AI Agent Engine](https://cloud.google.com/vertex-ai/generative-ai/docs/agent-engine/overview)\n",
    "- [Deploy](https://cloud.google.com/vertex-ai/generative-ai/docs/agent-engine/deploy)\n",
    "- [Use](https://cloud.google.com/vertex-ai/generative-ai/docs/agent-engine/use/adk)\n",
    "- [Mangage](https://cloud.google.com/vertex-ai/generative-ai/docs/agent-engine/manage/overview)\n",
    "\n",
    "[ADK Deployment](https://google.github.io/adk-docs/deploy/)\n",
    "- [Vertex AI Agent Engine](https://google.github.io/adk-docs/deploy/agent-engine/)\n",
    "\n",
    "Notes:\n",
    "- This notebook expects the current working directory to contain the agents folder. In other words, `agent.py` is at `./document_agent/agent.py`."
   ]
  },
  {
   "cell_type": "code",
   "execution_count": 1,
   "id": "1b4aa95c",
   "metadata": {},
   "outputs": [
    {
     "name": "stdout",
     "output_type": "stream",
     "text": [
      "/home/statmike/repos/vertex-ai-mlops/Applied ML/Solution Prototypes/document-processing/7-agents/document_agent\n"
     ]
    }
   ],
   "source": [
    "!pwd"
   ]
  },
  {
   "cell_type": "code",
   "execution_count": 29,
   "id": "bace754b",
   "metadata": {},
   "outputs": [
    {
     "name": "stdout",
     "output_type": "stream",
     "text": [
      "apps  deploy-vertex-ai-agent-engine.ipynb  document_agent\n"
     ]
    }
   ],
   "source": [
    "!ls"
   ]
  },
  {
   "cell_type": "code",
   "execution_count": 2,
   "id": "ad1102cd",
   "metadata": {},
   "outputs": [
    {
     "name": "stdout",
     "output_type": "stream",
     "text": [
      "/home/statmike/repos/vertex-ai-mlops/Applied ML/Solution Prototypes/document-processing/7-agents/.venv/bin/python\n"
     ]
    }
   ],
   "source": [
    "!which python"
   ]
  },
  {
   "cell_type": "code",
   "execution_count": 31,
   "id": "39893d15",
   "metadata": {},
   "outputs": [],
   "source": [
    "import os\n",
    "\n",
    "from vertexai.preview import reasoning_engines\n",
    "from vertexai import agent_engines\n",
    "import vertexai\n",
    "from dotenv import load_dotenv"
   ]
  },
  {
   "cell_type": "code",
   "execution_count": 28,
   "id": "771f882c",
   "metadata": {},
   "outputs": [],
   "source": [
    "gcs_path = 'applied-ml-solution-prototypes/document-processing/agent_engine/staging'"
   ]
  },
  {
   "cell_type": "code",
   "execution_count": 34,
   "id": "ce6d8a0a",
   "metadata": {},
   "outputs": [
    {
     "data": {
      "text/plain": [
       "True"
      ]
     },
     "execution_count": 34,
     "metadata": {},
     "output_type": "execute_result"
    }
   ],
   "source": [
    "load_dotenv(dotenv_path = os.path.join('document_agent', '.env'))"
   ]
  },
  {
   "cell_type": "code",
   "execution_count": 39,
   "id": "f82ceaea",
   "metadata": {},
   "outputs": [],
   "source": [
    "vertexai.init(\n",
    "    project = os.getenv('GOOGLE_CLOUD_PROJECT'),\n",
    "    location = os.getenv('GOOGLE_CLOUD_LOCATION'),\n",
    "    staging_bucket = f\"gs://{os.getenv('GOOGLE_CLOUD_STORAGE_BUCKET')}\"\n",
    ")"
   ]
  },
  {
   "cell_type": "markdown",
   "id": "9979f001",
   "metadata": {},
   "source": [
    "---\n",
    "## Local Testing: Prepare Agent for Vertex AI Agent Engine"
   ]
  },
  {
   "cell_type": "code",
   "execution_count": 5,
   "id": "6d7905b4",
   "metadata": {},
   "outputs": [],
   "source": [
    "from document_agent.agent import root_agent\n",
    "\n",
    "app = reasoning_engines.AdkApp(\n",
    "    agent=root_agent,\n",
    "    enable_tracing=True,\n",
    ")"
   ]
  },
  {
   "cell_type": "code",
   "execution_count": 6,
   "id": "3edd0f74",
   "metadata": {},
   "outputs": [
    {
     "data": {
      "text/plain": [
       "Session(id='586ff8e7-7278-475d-b940-3e6c712b8fa7', app_name='default-app-name', user_id='u_123', state={}, events=[], last_update_time=1749296747.954514)"
      ]
     },
     "execution_count": 6,
     "metadata": {},
     "output_type": "execute_result"
    }
   ],
   "source": [
    "session = app.create_session(user_id = 'u_123')\n",
    "session"
   ]
  },
  {
   "cell_type": "code",
   "execution_count": 9,
   "id": "202e2c84",
   "metadata": {},
   "outputs": [
    {
     "data": {
      "text/plain": [
       "ListSessionsResponse(sessions=[Session(id='586ff8e7-7278-475d-b940-3e6c712b8fa7', app_name='default-app-name', user_id='u_123', state={}, events=[], last_update_time=1749296747.954514)])"
      ]
     },
     "execution_count": 9,
     "metadata": {},
     "output_type": "execute_result"
    }
   ],
   "source": [
    "app.list_sessions(user_id = 'u_123')"
   ]
  },
  {
   "cell_type": "code",
   "execution_count": 10,
   "id": "8e2f44b3",
   "metadata": {},
   "outputs": [
    {
     "data": {
      "text/plain": [
       "Session(id='586ff8e7-7278-475d-b940-3e6c712b8fa7', app_name='default-app-name', user_id='u_123', state={}, events=[], last_update_time=1749296747.954514)"
      ]
     },
     "execution_count": 10,
     "metadata": {},
     "output_type": "execute_result"
    }
   ],
   "source": [
    "session = app.get_session(user_id=\"u_123\", session_id=session.id)\n",
    "session"
   ]
  },
  {
   "cell_type": "code",
   "execution_count": null,
   "id": "9e065ced",
   "metadata": {},
   "outputs": [],
   "source": [
    "message = []"
   ]
  },
  {
   "cell_type": "code",
   "execution_count": 12,
   "id": "8772b7bd",
   "metadata": {},
   "outputs": [
    {
     "name": "stdout",
     "output_type": "stream",
     "text": [
      "{'content': {'parts': [{'text': 'I am the primary agent that processes document related requests. I can help you extract information from documents, classify them, and compare them to vendor templates. To get started, please upload a PDF or PNG file, or provide a GCS URI (bucket and path) for the document you want to process.\\n'}], 'role': 'model'}, 'usage_metadata': {'candidates_token_count': 62, 'candidates_tokens_details': [{'modality': <MediaModality.TEXT: 'TEXT'>, 'token_count': 62}], 'prompt_token_count': 3474, 'prompt_tokens_details': [{'modality': <MediaModality.TEXT: 'TEXT'>, 'token_count': 3474}], 'total_token_count': 3536, 'traffic_type': <TrafficType.ON_DEMAND: 'ON_DEMAND'>}, 'invocation_id': 'e-b9c2c241-6b41-4048-b229-674fa8ed1a72', 'author': 'document_agent', 'actions': {'state_delta': {}, 'artifact_delta': {}, 'requested_auth_configs': {}}, 'id': 'YVcq6fim', 'timestamp': 1749297058.693999}\n"
     ]
    }
   ],
   "source": [
    "for event in app.stream_query(\n",
    "    user_id = 'u_123',\n",
    "    session_id = session.id,\n",
    "    message = 'What do you do?'\n",
    "):\n",
    "    print(event)"
   ]
  },
  {
   "cell_type": "code",
   "execution_count": 14,
   "id": "87e0b82f",
   "metadata": {},
   "outputs": [
    {
     "name": "stderr",
     "output_type": "stream",
     "text": [
      "Warning: there are non-text parts in the response: ['function_call'], returning concatenated text result from text parts. Check the full candidates.content.parts accessor to get the full model response.\n"
     ]
    },
    {
     "name": "stdout",
     "output_type": "stream",
     "text": [
      "{'content': {'parts': [{'function_call': {'id': 'adk-ecdaedea-aa07-4449-a69b-04b27a55e553', 'args': {'gcs_file_path': 'applied-ml-solution-prototypes/document-processing/vendor_2/fake_invoices/vendor_2_invoice_10.pdf', 'gcs_bucket': 'statmike-mlops-349915'}, 'name': 'get_gcs_file'}}], 'role': 'model'}, 'usage_metadata': {'candidates_token_count': 56, 'candidates_tokens_details': [{'modality': <MediaModality.TEXT: 'TEXT'>, 'token_count': 56}], 'prompt_token_count': 3586, 'prompt_tokens_details': [{'modality': <MediaModality.TEXT: 'TEXT'>, 'token_count': 3586}], 'total_token_count': 3642, 'traffic_type': <TrafficType.ON_DEMAND: 'ON_DEMAND'>}, 'invocation_id': 'e-cf579d55-dc89-4d43-b132-0dd9902a0acf', 'author': 'document_agent', 'actions': {'state_delta': {}, 'artifact_delta': {}, 'requested_auth_configs': {}}, 'long_running_tool_ids': set(), 'id': 'uUHZbR1M', 'timestamp': 1749297194.573745}\n",
      "{'content': {'parts': [{'function_response': {'id': 'adk-ecdaedea-aa07-4449-a69b-04b27a55e553', 'name': 'get_gcs_file', 'response': {'result': 'The file vendor_2_invoice_10.pdf of type application/pdf and size 256029 bytes was loaded as an artifact with artifact_key = gcsfile_statmike-mlops-349915_applied-ml-solution-prototypes_document-processing_vendor_2_fake_invoices_vendor_2_invoice_10.pdf and version = 0.\\nNote that pdf files are internally converted to png images (first page).'}}}], 'role': 'user'}, 'invocation_id': 'e-cf579d55-dc89-4d43-b132-0dd9902a0acf', 'author': 'document_agent', 'actions': {'state_delta': {}, 'artifact_delta': {'gcsfile_statmike-mlops-349915_applied-ml-solution-prototypes_document-processing_vendor_2_fake_invoices_vendor_2_invoice_10.pdf': 0}, 'requested_auth_configs': {}}, 'id': 'cJrhE6tF', 'timestamp': 1749297197.82158}\n",
      "{'content': {'parts': [{'text': 'Okay, I have loaded the file from GCS. The artifact key for this document is `gcsfile_statmike-mlops-349915_applied-ml-solution-prototypes_document-processing_vendor_2_fake_invoices_vendor_2_invoice_10.pdf`. What would you like to do next? I can extract data from it, classify it, or compare it to a vendor template.\\n'}], 'role': 'model'}, 'usage_metadata': {'candidates_token_count': 94, 'candidates_tokens_details': [{'modality': <MediaModality.TEXT: 'TEXT'>, 'token_count': 94}], 'prompt_token_count': 3754, 'prompt_tokens_details': [{'modality': <MediaModality.TEXT: 'TEXT'>, 'token_count': 3754}], 'total_token_count': 3848, 'traffic_type': <TrafficType.ON_DEMAND: 'ON_DEMAND'>}, 'invocation_id': 'e-cf579d55-dc89-4d43-b132-0dd9902a0acf', 'author': 'document_agent', 'actions': {'state_delta': {}, 'artifact_delta': {}, 'requested_auth_configs': {}}, 'id': 'LRobMLTu', 'timestamp': 1749297197.823944}\n"
     ]
    }
   ],
   "source": [
    "for event in app.stream_query(\n",
    "    user_id = 'u_123',\n",
    "    session_id = session.id,\n",
    "    message = 'use this file: gs://statmike-mlops-349915/applied-ml-solution-prototypes/document-processing/vendor_2/fake_invoices/vendor_2_invoice_10.pdf'\n",
    "):\n",
    "    print(event)"
   ]
  },
  {
   "cell_type": "code",
   "execution_count": 15,
   "id": "62ceff98",
   "metadata": {},
   "outputs": [
    {
     "data": {
      "text/plain": [
       "{'content': {'parts': [{'text': 'Okay, I have loaded the file from GCS. The artifact key for this document is `gcsfile_statmike-mlops-349915_applied-ml-solution-prototypes_document-processing_vendor_2_fake_invoices_vendor_2_invoice_10.pdf`. What would you like to do next? I can extract data from it, classify it, or compare it to a vendor template.\\n'}],\n",
       "  'role': 'model'},\n",
       " 'usage_metadata': {'candidates_token_count': 94,\n",
       "  'candidates_tokens_details': [{'modality': <MediaModality.TEXT: 'TEXT'>,\n",
       "    'token_count': 94}],\n",
       "  'prompt_token_count': 3754,\n",
       "  'prompt_tokens_details': [{'modality': <MediaModality.TEXT: 'TEXT'>,\n",
       "    'token_count': 3754}],\n",
       "  'total_token_count': 3848,\n",
       "  'traffic_type': <TrafficType.ON_DEMAND: 'ON_DEMAND'>},\n",
       " 'invocation_id': 'e-cf579d55-dc89-4d43-b132-0dd9902a0acf',\n",
       " 'author': 'document_agent',\n",
       " 'actions': {'state_delta': {},\n",
       "  'artifact_delta': {},\n",
       "  'requested_auth_configs': {}},\n",
       " 'id': 'LRobMLTu',\n",
       " 'timestamp': 1749297197.823944}"
      ]
     },
     "execution_count": 15,
     "metadata": {},
     "output_type": "execute_result"
    }
   ],
   "source": [
    "event"
   ]
  },
  {
   "cell_type": "code",
   "execution_count": 23,
   "id": "b92d6951",
   "metadata": {},
   "outputs": [
    {
     "data": {
      "text/plain": [
       "Session(id='586ff8e7-7278-475d-b940-3e6c712b8fa7', app_name='default-app-name', user_id='u_123', state={}, events=[Event(content=Content(parts=[Part(video_metadata=None, thought=None, inline_data=None, file_data=None, thought_signature=None, code_execution_result=None, executable_code=None, function_call=None, function_response=None, text='What do you do?')], role='user'), grounding_metadata=None, partial=None, turn_complete=None, error_code=None, error_message=None, interrupted=None, custom_metadata=None, usage_metadata=None, invocation_id='e-b9c2c241-6b41-4048-b229-674fa8ed1a72', author='user', actions=EventActions(skip_summarization=None, state_delta={}, artifact_delta={}, transfer_to_agent=None, escalate=None, requested_auth_configs={}), long_running_tool_ids=None, branch=None, id='O1XFSeCz', timestamp=1749297058.690996), Event(content=Content(parts=[Part(video_metadata=None, thought=None, inline_data=None, file_data=None, thought_signature=None, code_execution_result=None, executable_code=None, function_call=None, function_response=None, text='I am the primary agent that processes document related requests. I can help you extract information from documents, classify them, and compare them to vendor templates. To get started, please upload a PDF or PNG file, or provide a GCS URI (bucket and path) for the document you want to process.\\n')], role='model'), grounding_metadata=None, partial=None, turn_complete=None, error_code=None, error_message=None, interrupted=None, custom_metadata=None, usage_metadata=GenerateContentResponseUsageMetadata(cache_tokens_details=None, cached_content_token_count=None, candidates_token_count=62, candidates_tokens_details=[ModalityTokenCount(modality=<MediaModality.TEXT: 'TEXT'>, token_count=62)], prompt_token_count=3474, prompt_tokens_details=[ModalityTokenCount(modality=<MediaModality.TEXT: 'TEXT'>, token_count=3474)], thoughts_token_count=None, tool_use_prompt_token_count=None, tool_use_prompt_tokens_details=None, total_token_count=3536, traffic_type=<TrafficType.ON_DEMAND: 'ON_DEMAND'>), invocation_id='e-b9c2c241-6b41-4048-b229-674fa8ed1a72', author='document_agent', actions=EventActions(skip_summarization=None, state_delta={}, artifact_delta={}, transfer_to_agent=None, escalate=None, requested_auth_configs={}), long_running_tool_ids=None, branch=None, id='YVcq6fim', timestamp=1749297058.693999), Event(content=Content(parts=[Part(video_metadata=None, thought=None, inline_data=None, file_data=None, thought_signature=None, code_execution_result=None, executable_code=None, function_call=None, function_response=None, text='use this file: gs://statmike-mlops-349915/applied-ml-solution-prototypes/document-processing/vendor_2/fake_invoices/vendor_2_invoice_10.pdf')], role='user'), grounding_metadata=None, partial=None, turn_complete=None, error_code=None, error_message=None, interrupted=None, custom_metadata=None, usage_metadata=None, invocation_id='e-cf579d55-dc89-4d43-b132-0dd9902a0acf', author='user', actions=EventActions(skip_summarization=None, state_delta={}, artifact_delta={}, transfer_to_agent=None, escalate=None, requested_auth_configs={}), long_running_tool_ids=None, branch=None, id='L5T4PD34', timestamp=1749297194.571332), Event(content=Content(parts=[Part(video_metadata=None, thought=None, inline_data=None, file_data=None, thought_signature=None, code_execution_result=None, executable_code=None, function_call=FunctionCall(id='adk-ecdaedea-aa07-4449-a69b-04b27a55e553', args={'gcs_file_path': 'applied-ml-solution-prototypes/document-processing/vendor_2/fake_invoices/vendor_2_invoice_10.pdf', 'gcs_bucket': 'statmike-mlops-349915'}, name='get_gcs_file'), function_response=None, text=None)], role='model'), grounding_metadata=None, partial=None, turn_complete=None, error_code=None, error_message=None, interrupted=None, custom_metadata=None, usage_metadata=GenerateContentResponseUsageMetadata(cache_tokens_details=None, cached_content_token_count=None, candidates_token_count=56, candidates_tokens_details=[ModalityTokenCount(modality=<MediaModality.TEXT: 'TEXT'>, token_count=56)], prompt_token_count=3586, prompt_tokens_details=[ModalityTokenCount(modality=<MediaModality.TEXT: 'TEXT'>, token_count=3586)], thoughts_token_count=None, tool_use_prompt_token_count=None, tool_use_prompt_tokens_details=None, total_token_count=3642, traffic_type=<TrafficType.ON_DEMAND: 'ON_DEMAND'>), invocation_id='e-cf579d55-dc89-4d43-b132-0dd9902a0acf', author='document_agent', actions=EventActions(skip_summarization=None, state_delta={}, artifact_delta={}, transfer_to_agent=None, escalate=None, requested_auth_configs={}), long_running_tool_ids=set(), branch=None, id='uUHZbR1M', timestamp=1749297194.573745), Event(content=Content(parts=[Part(video_metadata=None, thought=None, inline_data=None, file_data=None, thought_signature=None, code_execution_result=None, executable_code=None, function_call=None, function_response=FunctionResponse(will_continue=None, scheduling=None, id='adk-ecdaedea-aa07-4449-a69b-04b27a55e553', name='get_gcs_file', response={'result': 'The file vendor_2_invoice_10.pdf of type application/pdf and size 256029 bytes was loaded as an artifact with artifact_key = gcsfile_statmike-mlops-349915_applied-ml-solution-prototypes_document-processing_vendor_2_fake_invoices_vendor_2_invoice_10.pdf and version = 0.\\nNote that pdf files are internally converted to png images (first page).'}), text=None)], role='user'), grounding_metadata=None, partial=None, turn_complete=None, error_code=None, error_message=None, interrupted=None, custom_metadata=None, usage_metadata=None, invocation_id='e-cf579d55-dc89-4d43-b132-0dd9902a0acf', author='document_agent', actions=EventActions(skip_summarization=None, state_delta={}, artifact_delta={'gcsfile_statmike-mlops-349915_applied-ml-solution-prototypes_document-processing_vendor_2_fake_invoices_vendor_2_invoice_10.pdf': 0}, transfer_to_agent=None, escalate=None, requested_auth_configs={}), long_running_tool_ids=None, branch=None, id='cJrhE6tF', timestamp=1749297197.82158), Event(content=Content(parts=[Part(video_metadata=None, thought=None, inline_data=None, file_data=None, thought_signature=None, code_execution_result=None, executable_code=None, function_call=None, function_response=None, text='Okay, I have loaded the file from GCS. The artifact key for this document is `gcsfile_statmike-mlops-349915_applied-ml-solution-prototypes_document-processing_vendor_2_fake_invoices_vendor_2_invoice_10.pdf`. What would you like to do next? I can extract data from it, classify it, or compare it to a vendor template.\\n')], role='model'), grounding_metadata=None, partial=None, turn_complete=None, error_code=None, error_message=None, interrupted=None, custom_metadata=None, usage_metadata=GenerateContentResponseUsageMetadata(cache_tokens_details=None, cached_content_token_count=None, candidates_token_count=94, candidates_tokens_details=[ModalityTokenCount(modality=<MediaModality.TEXT: 'TEXT'>, token_count=94)], prompt_token_count=3754, prompt_tokens_details=[ModalityTokenCount(modality=<MediaModality.TEXT: 'TEXT'>, token_count=3754)], thoughts_token_count=None, tool_use_prompt_token_count=None, tool_use_prompt_tokens_details=None, total_token_count=3848, traffic_type=<TrafficType.ON_DEMAND: 'ON_DEMAND'>), invocation_id='e-cf579d55-dc89-4d43-b132-0dd9902a0acf', author='document_agent', actions=EventActions(skip_summarization=None, state_delta={}, artifact_delta={}, transfer_to_agent=None, escalate=None, requested_auth_configs={}), long_running_tool_ids=None, branch=None, id='LRobMLTu', timestamp=1749297197.823944)], last_update_time=1749297197.823944)"
      ]
     },
     "execution_count": 23,
     "metadata": {},
     "output_type": "execute_result"
    }
   ],
   "source": [
    "app.get_session(user_id = 'u_123', session_id = session.id)"
   ]
  },
  {
   "cell_type": "code",
   "execution_count": 22,
   "id": "1fd8c576",
   "metadata": {},
   "outputs": [
    {
     "name": "stdout",
     "output_type": "stream",
     "text": [
      "content=Content(parts=[Part(video_metadata=None, thought=None, inline_data=None, file_data=None, thought_signature=None, code_execution_result=None, executable_code=None, function_call=None, function_response=None, text='What do you do?')], role='user') grounding_metadata=None partial=None turn_complete=None error_code=None error_message=None interrupted=None custom_metadata=None usage_metadata=None invocation_id='e-b9c2c241-6b41-4048-b229-674fa8ed1a72' author='user' actions=EventActions(skip_summarization=None, state_delta={}, artifact_delta={}, transfer_to_agent=None, escalate=None, requested_auth_configs={}) long_running_tool_ids=None branch=None id='O1XFSeCz' timestamp=1749297058.690996\n",
      "content=Content(parts=[Part(video_metadata=None, thought=None, inline_data=None, file_data=None, thought_signature=None, code_execution_result=None, executable_code=None, function_call=None, function_response=None, text='I am the primary agent that processes document related requests. I can help you extract information from documents, classify them, and compare them to vendor templates. To get started, please upload a PDF or PNG file, or provide a GCS URI (bucket and path) for the document you want to process.\\n')], role='model') grounding_metadata=None partial=None turn_complete=None error_code=None error_message=None interrupted=None custom_metadata=None usage_metadata=GenerateContentResponseUsageMetadata(cache_tokens_details=None, cached_content_token_count=None, candidates_token_count=62, candidates_tokens_details=[ModalityTokenCount(modality=<MediaModality.TEXT: 'TEXT'>, token_count=62)], prompt_token_count=3474, prompt_tokens_details=[ModalityTokenCount(modality=<MediaModality.TEXT: 'TEXT'>, token_count=3474)], thoughts_token_count=None, tool_use_prompt_token_count=None, tool_use_prompt_tokens_details=None, total_token_count=3536, traffic_type=<TrafficType.ON_DEMAND: 'ON_DEMAND'>) invocation_id='e-b9c2c241-6b41-4048-b229-674fa8ed1a72' author='document_agent' actions=EventActions(skip_summarization=None, state_delta={}, artifact_delta={}, transfer_to_agent=None, escalate=None, requested_auth_configs={}) long_running_tool_ids=None branch=None id='YVcq6fim' timestamp=1749297058.693999\n",
      "content=Content(parts=[Part(video_metadata=None, thought=None, inline_data=None, file_data=None, thought_signature=None, code_execution_result=None, executable_code=None, function_call=None, function_response=None, text='use this file: gs://statmike-mlops-349915/applied-ml-solution-prototypes/document-processing/vendor_2/fake_invoices/vendor_2_invoice_10.pdf')], role='user') grounding_metadata=None partial=None turn_complete=None error_code=None error_message=None interrupted=None custom_metadata=None usage_metadata=None invocation_id='e-cf579d55-dc89-4d43-b132-0dd9902a0acf' author='user' actions=EventActions(skip_summarization=None, state_delta={}, artifact_delta={}, transfer_to_agent=None, escalate=None, requested_auth_configs={}) long_running_tool_ids=None branch=None id='L5T4PD34' timestamp=1749297194.571332\n",
      "content=Content(parts=[Part(video_metadata=None, thought=None, inline_data=None, file_data=None, thought_signature=None, code_execution_result=None, executable_code=None, function_call=FunctionCall(id='adk-ecdaedea-aa07-4449-a69b-04b27a55e553', args={'gcs_file_path': 'applied-ml-solution-prototypes/document-processing/vendor_2/fake_invoices/vendor_2_invoice_10.pdf', 'gcs_bucket': 'statmike-mlops-349915'}, name='get_gcs_file'), function_response=None, text=None)], role='model') grounding_metadata=None partial=None turn_complete=None error_code=None error_message=None interrupted=None custom_metadata=None usage_metadata=GenerateContentResponseUsageMetadata(cache_tokens_details=None, cached_content_token_count=None, candidates_token_count=56, candidates_tokens_details=[ModalityTokenCount(modality=<MediaModality.TEXT: 'TEXT'>, token_count=56)], prompt_token_count=3586, prompt_tokens_details=[ModalityTokenCount(modality=<MediaModality.TEXT: 'TEXT'>, token_count=3586)], thoughts_token_count=None, tool_use_prompt_token_count=None, tool_use_prompt_tokens_details=None, total_token_count=3642, traffic_type=<TrafficType.ON_DEMAND: 'ON_DEMAND'>) invocation_id='e-cf579d55-dc89-4d43-b132-0dd9902a0acf' author='document_agent' actions=EventActions(skip_summarization=None, state_delta={}, artifact_delta={}, transfer_to_agent=None, escalate=None, requested_auth_configs={}) long_running_tool_ids=set() branch=None id='uUHZbR1M' timestamp=1749297194.573745\n",
      "content=Content(parts=[Part(video_metadata=None, thought=None, inline_data=None, file_data=None, thought_signature=None, code_execution_result=None, executable_code=None, function_call=None, function_response=FunctionResponse(will_continue=None, scheduling=None, id='adk-ecdaedea-aa07-4449-a69b-04b27a55e553', name='get_gcs_file', response={'result': 'The file vendor_2_invoice_10.pdf of type application/pdf and size 256029 bytes was loaded as an artifact with artifact_key = gcsfile_statmike-mlops-349915_applied-ml-solution-prototypes_document-processing_vendor_2_fake_invoices_vendor_2_invoice_10.pdf and version = 0.\\nNote that pdf files are internally converted to png images (first page).'}), text=None)], role='user') grounding_metadata=None partial=None turn_complete=None error_code=None error_message=None interrupted=None custom_metadata=None usage_metadata=None invocation_id='e-cf579d55-dc89-4d43-b132-0dd9902a0acf' author='document_agent' actions=EventActions(skip_summarization=None, state_delta={}, artifact_delta={'gcsfile_statmike-mlops-349915_applied-ml-solution-prototypes_document-processing_vendor_2_fake_invoices_vendor_2_invoice_10.pdf': 0}, transfer_to_agent=None, escalate=None, requested_auth_configs={}) long_running_tool_ids=None branch=None id='cJrhE6tF' timestamp=1749297197.82158\n",
      "content=Content(parts=[Part(video_metadata=None, thought=None, inline_data=None, file_data=None, thought_signature=None, code_execution_result=None, executable_code=None, function_call=None, function_response=None, text='Okay, I have loaded the file from GCS. The artifact key for this document is `gcsfile_statmike-mlops-349915_applied-ml-solution-prototypes_document-processing_vendor_2_fake_invoices_vendor_2_invoice_10.pdf`. What would you like to do next? I can extract data from it, classify it, or compare it to a vendor template.\\n')], role='model') grounding_metadata=None partial=None turn_complete=None error_code=None error_message=None interrupted=None custom_metadata=None usage_metadata=GenerateContentResponseUsageMetadata(cache_tokens_details=None, cached_content_token_count=None, candidates_token_count=94, candidates_tokens_details=[ModalityTokenCount(modality=<MediaModality.TEXT: 'TEXT'>, token_count=94)], prompt_token_count=3754, prompt_tokens_details=[ModalityTokenCount(modality=<MediaModality.TEXT: 'TEXT'>, token_count=3754)], thoughts_token_count=None, tool_use_prompt_token_count=None, tool_use_prompt_tokens_details=None, total_token_count=3848, traffic_type=<TrafficType.ON_DEMAND: 'ON_DEMAND'>) invocation_id='e-cf579d55-dc89-4d43-b132-0dd9902a0acf' author='document_agent' actions=EventActions(skip_summarization=None, state_delta={}, artifact_delta={}, transfer_to_agent=None, escalate=None, requested_auth_configs={}) long_running_tool_ids=None branch=None id='LRobMLTu' timestamp=1749297197.823944\n"
     ]
    }
   ],
   "source": [
    "for event in app.get_session(user_id = 'u_123', session_id = session.id).events:\n",
    "    print(event)"
   ]
  },
  {
   "cell_type": "markdown",
   "id": "a4c098ab",
   "metadata": {},
   "source": [
    "more\n",
    "- delete session\n",
    "- create session with specified id\n",
    "- "
   ]
  },
  {
   "cell_type": "markdown",
   "id": "3fe9c274",
   "metadata": {},
   "source": [
    "---\n",
    "## Deploy To Vertex AI Agent Engine"
   ]
  },
  {
   "cell_type": "code",
   "execution_count": 45,
   "id": "68b5bb93",
   "metadata": {},
   "outputs": [
    {
     "name": "stdout",
     "output_type": "stream",
     "text": [
      "Deploying google.adk.agents.Agent as an application.\n",
      "Reading requirements from requirements='../requirements.txt'\n",
      "Read the following lines: ['absl-py==2.3.0', 'aiofiles==24.1.0', 'altair==5.5.0', 'annotated-types==0.7.0', 'anyio==4.9.0', 'asttokens==3.0.0', 'attrs==25.3.0', 'audioop-lts==0.2.1', 'Authlib==1.5.2', 'blinker==1.9.0', 'cachetools==5.5.2', 'certifi==2025.4.26', 'cffi==1.17.1', 'charset-normalizer==3.4.1', 'click==8.1.8', 'cloudpickle==3.1.1', 'comm==0.2.2', 'cryptography==44.0.2', 'db-dtypes==1.4.3', 'debugpy==1.8.14', 'decorator==5.2.1', 'deepdiff==6.7.1', 'Deprecated==1.2.18', 'docstring_parser==0.16', 'executing==2.2.0', 'fastapi==0.115.12', 'ffmpy==0.5.0', 'filelock==3.18.0', 'Flask==3.1.1', 'fsspec==2025.5.1', 'gitdb==4.0.12', 'GitPython==3.1.44', 'google-adk==1.2.1', 'google-api-core==2.24.2', 'google-api-python-client==2.169.0', 'google-auth==2.39.0', 'google-auth-httplib2==0.2.0', 'google-cloud-aiplatform==1.96.0', 'google-cloud-appengine-logging==1.6.1', 'google-cloud-audit-log==0.3.2', 'google-cloud-bigquery==3.31.0', 'google-cloud-core==2.4.3', 'google-cloud-documentai==3.5.0', 'google-cloud-logging==3.12.1', 'google-cloud-resource-manager==1.14.2', 'google-cloud-secret-manager==2.23.3', 'google-cloud-speech==2.32.0', 'google-cloud-storage==2.19.0', 'google-cloud-trace==1.16.1', 'google-crc32c==1.7.1', 'google-genai==1.19.0', 'google-resumable-media==2.7.2', 'googleapis-common-protos==1.70.0', 'gradio==5.31.0', 'gradio_client==1.10.1', 'graphviz==0.20.3', 'greenlet==3.2.1', 'groovy==0.1.2', 'grpc-google-iam-v1==0.14.2', 'grpcio==1.72.0rc1', 'grpcio-status==1.72.0rc1', 'h11==0.16.0', 'hf-xet==1.1.2', 'httpcore==1.0.9', 'httplib2==0.22.0', 'httpx==0.28.1', 'httpx-sse==0.4.0', 'huggingface-hub==0.32.2', 'idna==3.10', 'importlib_metadata==8.6.1', 'ipykernel==6.29.5', 'ipython==9.3.0', 'ipython_pygments_lexers==1.1.1', 'itsdangerous==2.2.0', 'jedi==0.19.2', 'Jinja2==3.1.6', 'jsonschema==4.24.0', 'jsonschema-specifications==2025.4.1', 'jupyter_client==8.6.3', 'jupyter_core==5.8.1', 'markdown-it-py==3.0.0', 'MarkupSafe==3.0.2', 'matplotlib-inline==0.1.7', 'mcp==1.9.3', 'mdurl==0.1.2', 'mesop==1.0.1', 'msgpack==1.1.0', 'narwhals==1.41.0', 'nest-asyncio==1.6.0', 'numpy==2.2.5', 'opentelemetry-api==1.32.1', 'opentelemetry-exporter-gcp-trace==1.9.0', 'opentelemetry-resourcedetector-gcp==1.9.0a0', 'opentelemetry-sdk==1.32.1', 'opentelemetry-semantic-conventions==0.53b1', 'ordered-set==4.1.0', 'orjson==3.10.18', 'packaging==24.2', 'pandas==2.2.3', 'parso==0.8.4', 'pexpect==4.9.0', 'pillow==11.2.1', 'platformdirs==4.3.8', 'prompt_toolkit==3.0.51', 'proto-plus==1.26.1', 'protobuf==6.30.2', 'psutil==7.0.0', 'ptyprocess==0.7.0', 'pure_eval==0.2.3', 'pyarrow==20.0.0', 'pyasn1==0.6.1', 'pyasn1_modules==0.4.2', 'pycparser==2.22', 'pydantic==2.11.4', 'pydantic-settings==2.9.1', 'pydantic_core==2.33.2', 'pydeck==0.9.1', 'pydub==0.25.1', 'Pygments==2.19.1', 'PyMuPDF==1.26.0', 'pyparsing==3.2.3', 'python-dateutil==2.9.0.post0', 'python-dotenv==1.1.0', 'python-multipart==0.0.20', 'pytz==2025.2', 'PyYAML==6.0.2', 'pyzmq==26.4.0', 'referencing==0.36.2', 'requests==2.32.3', 'rich==14.0.0', 'rpds-py==0.25.1', 'rsa==4.9.1', 'ruff==0.11.11', 'safehttpx==0.1.6', 'semantic-version==2.10.0', 'shapely==2.1.0', 'shellingham==1.5.4', 'six==1.17.0', 'smmap==5.0.2', 'sniffio==1.3.1', 'SQLAlchemy==2.0.40', 'sse-starlette==2.3.3', 'stack-data==0.6.3', 'starlette==0.46.2', 'streamlit==1.45.1', 'tabulate==0.9.0', 'tenacity==9.1.2', 'toml==0.10.2', 'tomlkit==0.13.2', 'tornado==6.5.1', 'tqdm==4.67.1', 'traitlets==5.14.3', 'typer==0.16.0', 'typing-inspection==0.4.0', 'typing_extensions==4.13.2', 'tzdata==2025.2', 'tzlocal==5.3.1', 'uritemplate==4.1.1', 'urllib3==2.4.0', 'uvicorn==0.34.2', 'watchdog==6.0.0', 'wcwidth==0.2.13', 'websockets==15.0.1', 'Werkzeug==3.1.3', 'wrapt==1.17.2', 'zipp==3.21.0']\n",
      "Identified the following requirements: {'google-cloud-aiplatform': '1.96.0', 'cloudpickle': '3.1.1', 'pydantic': '2.11.4'}\n",
      "The final list of requirements: ['absl-py==2.3.0', 'aiofiles==24.1.0', 'altair==5.5.0', 'annotated-types==0.7.0', 'anyio==4.9.0', 'asttokens==3.0.0', 'attrs==25.3.0', 'audioop-lts==0.2.1', 'Authlib==1.5.2', 'blinker==1.9.0', 'cachetools==5.5.2', 'certifi==2025.4.26', 'cffi==1.17.1', 'charset-normalizer==3.4.1', 'click==8.1.8', 'cloudpickle==3.1.1', 'comm==0.2.2', 'cryptography==44.0.2', 'db-dtypes==1.4.3', 'debugpy==1.8.14', 'decorator==5.2.1', 'deepdiff==6.7.1', 'Deprecated==1.2.18', 'docstring_parser==0.16', 'executing==2.2.0', 'fastapi==0.115.12', 'ffmpy==0.5.0', 'filelock==3.18.0', 'Flask==3.1.1', 'fsspec==2025.5.1', 'gitdb==4.0.12', 'GitPython==3.1.44', 'google-adk==1.2.1', 'google-api-core==2.24.2', 'google-api-python-client==2.169.0', 'google-auth==2.39.0', 'google-auth-httplib2==0.2.0', 'google-cloud-aiplatform==1.96.0', 'google-cloud-appengine-logging==1.6.1', 'google-cloud-audit-log==0.3.2', 'google-cloud-bigquery==3.31.0', 'google-cloud-core==2.4.3', 'google-cloud-documentai==3.5.0', 'google-cloud-logging==3.12.1', 'google-cloud-resource-manager==1.14.2', 'google-cloud-secret-manager==2.23.3', 'google-cloud-speech==2.32.0', 'google-cloud-storage==2.19.0', 'google-cloud-trace==1.16.1', 'google-crc32c==1.7.1', 'google-genai==1.19.0', 'google-resumable-media==2.7.2', 'googleapis-common-protos==1.70.0', 'gradio==5.31.0', 'gradio_client==1.10.1', 'graphviz==0.20.3', 'greenlet==3.2.1', 'groovy==0.1.2', 'grpc-google-iam-v1==0.14.2', 'grpcio==1.72.0rc1', 'grpcio-status==1.72.0rc1', 'h11==0.16.0', 'hf-xet==1.1.2', 'httpcore==1.0.9', 'httplib2==0.22.0', 'httpx==0.28.1', 'httpx-sse==0.4.0', 'huggingface-hub==0.32.2', 'idna==3.10', 'importlib_metadata==8.6.1', 'ipykernel==6.29.5', 'ipython==9.3.0', 'ipython_pygments_lexers==1.1.1', 'itsdangerous==2.2.0', 'jedi==0.19.2', 'Jinja2==3.1.6', 'jsonschema==4.24.0', 'jsonschema-specifications==2025.4.1', 'jupyter_client==8.6.3', 'jupyter_core==5.8.1', 'markdown-it-py==3.0.0', 'MarkupSafe==3.0.2', 'matplotlib-inline==0.1.7', 'mcp==1.9.3', 'mdurl==0.1.2', 'mesop==1.0.1', 'msgpack==1.1.0', 'narwhals==1.41.0', 'nest-asyncio==1.6.0', 'numpy==2.2.5', 'opentelemetry-api==1.32.1', 'opentelemetry-exporter-gcp-trace==1.9.0', 'opentelemetry-resourcedetector-gcp==1.9.0a0', 'opentelemetry-sdk==1.32.1', 'opentelemetry-semantic-conventions==0.53b1', 'ordered-set==4.1.0', 'orjson==3.10.18', 'packaging==24.2', 'pandas==2.2.3', 'parso==0.8.4', 'pexpect==4.9.0', 'pillow==11.2.1', 'platformdirs==4.3.8', 'prompt_toolkit==3.0.51', 'proto-plus==1.26.1', 'protobuf==6.30.2', 'psutil==7.0.0', 'ptyprocess==0.7.0', 'pure_eval==0.2.3', 'pyarrow==20.0.0', 'pyasn1==0.6.1', 'pyasn1_modules==0.4.2', 'pycparser==2.22', 'pydantic==2.11.4', 'pydantic-settings==2.9.1', 'pydantic_core==2.33.2', 'pydeck==0.9.1', 'pydub==0.25.1', 'Pygments==2.19.1', 'PyMuPDF==1.26.0', 'pyparsing==3.2.3', 'python-dateutil==2.9.0.post0', 'python-dotenv==1.1.0', 'python-multipart==0.0.20', 'pytz==2025.2', 'PyYAML==6.0.2', 'pyzmq==26.4.0', 'referencing==0.36.2', 'requests==2.32.3', 'rich==14.0.0', 'rpds-py==0.25.1', 'rsa==4.9.1', 'ruff==0.11.11', 'safehttpx==0.1.6', 'semantic-version==2.10.0', 'shapely==2.1.0', 'shellingham==1.5.4', 'six==1.17.0', 'smmap==5.0.2', 'sniffio==1.3.1', 'SQLAlchemy==2.0.40', 'sse-starlette==2.3.3', 'stack-data==0.6.3', 'starlette==0.46.2', 'streamlit==1.45.1', 'tabulate==0.9.0', 'tenacity==9.1.2', 'toml==0.10.2', 'tomlkit==0.13.2', 'tornado==6.5.1', 'tqdm==4.67.1', 'traitlets==5.14.3', 'typer==0.16.0', 'typing-inspection==0.4.0', 'typing_extensions==4.13.2', 'tzdata==2025.2', 'tzlocal==5.3.1', 'uritemplate==4.1.1', 'urllib3==2.4.0', 'uvicorn==0.34.2', 'watchdog==6.0.0', 'wcwidth==0.2.13', 'websockets==15.0.1', 'Werkzeug==3.1.3', 'wrapt==1.17.2', 'zipp==3.21.0']\n",
      "Using bucket statmike-mlops-349915\n",
      "Wrote to gs://statmike-mlops-349915/applied-ml-solution-prototypes/document-processing/agent_engine/staging/agent_engine.pkl\n",
      "Writing to gs://statmike-mlops-349915/applied-ml-solution-prototypes/document-processing/agent_engine/staging/requirements.txt\n",
      "Creating in-memory tarfile of extra_packages\n",
      "Writing to gs://statmike-mlops-349915/applied-ml-solution-prototypes/document-processing/agent_engine/staging/dependencies.tar.gz\n",
      "Creating AgentEngine\n",
      "Create AgentEngine backing LRO: projects/1026793852137/locations/us-central1/reasoningEngines/6576847548797943808/operations/3870961905426235392\n",
      "View progress and logs at https://console.cloud.google.com/logs/query?project=statmike-mlops-349915\n",
      "AgentEngine created. Resource name: projects/1026793852137/locations/us-central1/reasoningEngines/6576847548797943808\n",
      "To use this AgentEngine in another session:\n",
      "agent_engine = vertexai.agent_engines.get('projects/1026793852137/locations/us-central1/reasoningEngines/6576847548797943808')\n"
     ]
    }
   ],
   "source": [
    "remote_app = agent_engines.create(\n",
    "    agent_engine = root_agent,\n",
    "    requirements = \"../requirements.txt\",\n",
    "    extra_packages = [\"./document_agent\"],\n",
    "    gcs_dir_name = gcs_path,\n",
    "    display_name = root_agent.name,\n",
    "    description = root_agent.description,\n",
    "    #env_vars = \n",
    ")"
   ]
  },
  {
   "cell_type": "code",
   "execution_count": 46,
   "id": "41c60493",
   "metadata": {},
   "outputs": [
    {
     "data": {
      "text/plain": [
       "'projects/1026793852137/locations/us-central1/reasoningEngines/6576847548797943808'"
      ]
     },
     "execution_count": 46,
     "metadata": {},
     "output_type": "execute_result"
    }
   ],
   "source": [
    "remote_app.resource_name"
   ]
  },
  {
   "cell_type": "code",
   "execution_count": 47,
   "id": "e69be568",
   "metadata": {},
   "outputs": [
    {
     "data": {
      "text/plain": [
       "{'id': '5496252468822016000',\n",
       " 'events': [],\n",
       " 'lastUpdateTime': 1749306781.997659,\n",
       " 'state': {},\n",
       " 'appName': '6576847548797943808',\n",
       " 'userId': 'u_123'}"
      ]
     },
     "execution_count": 47,
     "metadata": {},
     "output_type": "execute_result"
    }
   ],
   "source": [
    "remote_session = remote_app.create_session(user_id = 'u_123')\n",
    "remote_session"
   ]
  },
  {
   "cell_type": "code",
   "execution_count": 49,
   "id": "3902d333",
   "metadata": {},
   "outputs": [
    {
     "data": {
      "text/plain": [
       "{'sessions': [{'id': '5496252468822016000',\n",
       "   'lastUpdateTime': 1749306781.997659,\n",
       "   'state': {},\n",
       "   'events': [],\n",
       "   'appName': '6576847548797943808',\n",
       "   'userId': 'u_123'}]}"
      ]
     },
     "execution_count": 49,
     "metadata": {},
     "output_type": "execute_result"
    }
   ],
   "source": [
    "remote_app.list_sessions(user_id = 'u_123')"
   ]
  },
  {
   "cell_type": "code",
   "execution_count": 50,
   "id": "84f506ef",
   "metadata": {},
   "outputs": [
    {
     "data": {
      "text/plain": [
       "{'id': '5496252468822016000',\n",
       " 'state': {},\n",
       " 'lastUpdateTime': 1749306781.997659,\n",
       " 'events': [],\n",
       " 'appName': '6576847548797943808',\n",
       " 'userId': 'u_123'}"
      ]
     },
     "execution_count": 50,
     "metadata": {},
     "output_type": "execute_result"
    }
   ],
   "source": [
    "remote_session = remote_app.get_session(user_id = \"u_123\", session_id = remote_session['id'])\n",
    "remote_session"
   ]
  },
  {
   "cell_type": "code",
   "execution_count": 51,
   "id": "c6d56ef9",
   "metadata": {},
   "outputs": [
    {
     "name": "stdout",
     "output_type": "stream",
     "text": [
      "{'content': {'parts': [{'text': 'I am the primary agent that processes document-related requests. I can load documents, extract information from them, classify them, and compare them to vendor templates. To start, please upload a PDF or PNG file, or provide a GCS URI (bucket and path) for the document you want to process.\\n'}], 'role': 'model'}, 'usage_metadata': {'candidates_token_count': 63, 'candidates_tokens_details': [{'modality': 'TEXT', 'token_count': 63}], 'prompt_token_count': 3474, 'prompt_tokens_details': [{'modality': 'TEXT', 'token_count': 3474}], 'total_token_count': 3537, 'traffic_type': 'ON_DEMAND'}, 'invocation_id': 'e-03680743-4c36-41b6-8131-b3446cd9f724', 'author': 'document_agent', 'actions': {'state_delta': {}, 'artifact_delta': {}, 'requested_auth_configs': {}}, 'id': 'Im4zfnmS', 'timestamp': 1749306984.444021}\n"
     ]
    }
   ],
   "source": [
    "for event in remote_app.stream_query(\n",
    "    user_id = 'u_123',\n",
    "    session_id = remote_session['id'],\n",
    "    message = 'What do you do?'\n",
    "):\n",
    "    print(event)"
   ]
  },
  {
   "cell_type": "code",
   "execution_count": 52,
   "id": "280b0ef7",
   "metadata": {},
   "outputs": [
    {
     "name": "stdout",
     "output_type": "stream",
     "text": [
      "{'content': {'parts': [{'function_call': {'id': 'adk-8bca8c77-0a42-4597-b4d0-3066e6a23aae', 'args': {'gcs_file_path': 'applied-ml-solution-prototypes/document-processing/vendor_2/fake_invoices/vendor_2_invoice_10.pdf', 'gcs_bucket': 'statmike-mlops-349915'}, 'name': 'get_gcs_file'}}], 'role': 'model'}, 'usage_metadata': {'candidates_token_count': 56, 'candidates_tokens_details': [{'modality': 'TEXT', 'token_count': 56}], 'prompt_token_count': 3587, 'prompt_tokens_details': [{'modality': 'TEXT', 'token_count': 3587}], 'total_token_count': 3643, 'traffic_type': 'ON_DEMAND'}, 'invocation_id': 'e-82d29f0e-e7a8-49cc-a555-671c9401e1c7', 'author': 'document_agent', 'actions': {'state_delta': {}, 'artifact_delta': {}, 'requested_auth_configs': {}}, 'long_running_tool_ids': [], 'id': 'v8RDV5z5', 'timestamp': 1749307022.765931}\n",
      "{'content': {'parts': [{'function_response': {'id': 'adk-8bca8c77-0a42-4597-b4d0-3066e6a23aae', 'name': 'get_gcs_file', 'response': {'result': 'The file vendor_2_invoice_10.pdf of type application/pdf and size 256029 bytes was loaded as an artifact with artifact_key = gcsfile_statmike-mlops-349915_applied-ml-solution-prototypes_document-processing_vendor_2_fake_invoices_vendor_2_invoice_10.pdf and version = 0.\\nNote that pdf files are internally converted to png images (first page).'}}}], 'role': 'user'}, 'invocation_id': 'e-82d29f0e-e7a8-49cc-a555-671c9401e1c7', 'author': 'document_agent', 'actions': {'state_delta': {}, 'artifact_delta': {'gcsfile_statmike-mlops-349915_applied-ml-solution-prototypes_document-processing_vendor_2_fake_invoices_vendor_2_invoice_10.pdf': 0}, 'requested_auth_configs': {}}, 'id': 'ELk95MLC', 'timestamp': 1749307024.299279}\n",
      "{'content': {'parts': [{'text': 'OK. I have loaded the file from GCS. The artifact key is `gcsfile_statmike-mlops-349915_applied-ml-solution-prototypes_document-processing_vendor_2_fake_invoices_vendor_2_invoice_10.pdf`.\\n'}], 'role': 'model'}, 'usage_metadata': {'candidates_token_count': 65, 'candidates_tokens_details': [{'modality': 'TEXT', 'token_count': 65}], 'prompt_token_count': 3755, 'prompt_tokens_details': [{'modality': 'TEXT', 'token_count': 3755}], 'total_token_count': 3820, 'traffic_type': 'ON_DEMAND'}, 'invocation_id': 'e-82d29f0e-e7a8-49cc-a555-671c9401e1c7', 'author': 'document_agent', 'actions': {'state_delta': {}, 'artifact_delta': {}, 'requested_auth_configs': {}}, 'id': 'fejBGJ9q', 'timestamp': 1749307024.585193}\n"
     ]
    }
   ],
   "source": [
    "for event in remote_app.stream_query(\n",
    "    user_id = 'u_123',\n",
    "    session_id = remote_session['id'],\n",
    "    message = 'use this file: gs://statmike-mlops-349915/applied-ml-solution-prototypes/document-processing/vendor_2/fake_invoices/vendor_2_invoice_10.pdf'\n",
    "):\n",
    "    print(event)"
   ]
  },
  {
   "cell_type": "code",
   "execution_count": 53,
   "id": "8f8b8e0b",
   "metadata": {},
   "outputs": [
    {
     "data": {
      "text/plain": [
       "{'content': {'parts': [{'text': 'OK. I have loaded the file from GCS. The artifact key is `gcsfile_statmike-mlops-349915_applied-ml-solution-prototypes_document-processing_vendor_2_fake_invoices_vendor_2_invoice_10.pdf`.\\n'}],\n",
       "  'role': 'model'},\n",
       " 'usage_metadata': {'candidates_token_count': 65,\n",
       "  'candidates_tokens_details': [{'modality': 'TEXT', 'token_count': 65}],\n",
       "  'prompt_token_count': 3755,\n",
       "  'prompt_tokens_details': [{'modality': 'TEXT', 'token_count': 3755}],\n",
       "  'total_token_count': 3820,\n",
       "  'traffic_type': 'ON_DEMAND'},\n",
       " 'invocation_id': 'e-82d29f0e-e7a8-49cc-a555-671c9401e1c7',\n",
       " 'author': 'document_agent',\n",
       " 'actions': {'state_delta': {},\n",
       "  'artifact_delta': {},\n",
       "  'requested_auth_configs': {}},\n",
       " 'id': 'fejBGJ9q',\n",
       " 'timestamp': 1749307024.585193}"
      ]
     },
     "execution_count": 53,
     "metadata": {},
     "output_type": "execute_result"
    }
   ],
   "source": [
    "event"
   ]
  },
  {
   "cell_type": "code",
   "execution_count": 54,
   "id": "59b93706",
   "metadata": {},
   "outputs": [
    {
     "data": {
      "text/plain": [
       "{'id': '5496252468822016000',\n",
       " 'events': [{'errorMessage': None,\n",
       "   'partial': None,\n",
       "   'invocationId': 'e-03680743-4c36-41b6-8131-b3446cd9f724',\n",
       "   'branch': None,\n",
       "   'id': '7008703280595337216',\n",
       "   'turnComplete': None,\n",
       "   'usageMetadata': None,\n",
       "   'content': {'role': 'user',\n",
       "    'parts': [{'fileData': None,\n",
       "      'thought': None,\n",
       "      'codeExecutionResult': None,\n",
       "      'text': 'What do you do?',\n",
       "      'inlineData': None,\n",
       "      'videoMetadata': None,\n",
       "      'thoughtSignature': None,\n",
       "      'functionResponse': None,\n",
       "      'executableCode': None,\n",
       "      'functionCall': None}]},\n",
       "   'groundingMetadata': None,\n",
       "   'customMetadata': None,\n",
       "   'longRunningToolIds': None,\n",
       "   'errorCode': None,\n",
       "   'timestamp': 1749306984.110913,\n",
       "   'author': 'user',\n",
       "   'interrupted': None,\n",
       "   'actions': {'artifactDelta': {},\n",
       "    'escalate': None,\n",
       "    'skipSummarization': None,\n",
       "    'transferToAgent': None,\n",
       "    'requestedAuthConfigs': {},\n",
       "    'stateDelta': {}}},\n",
       "  {'errorMessage': None,\n",
       "   'partial': None,\n",
       "   'invocationId': 'e-03680743-4c36-41b6-8131-b3446cd9f724',\n",
       "   'branch': None,\n",
       "   'id': '954176531549126656',\n",
       "   'turnComplete': None,\n",
       "   'usageMetadata': None,\n",
       "   'content': {'role': 'model',\n",
       "    'parts': [{'fileData': None,\n",
       "      'thought': None,\n",
       "      'codeExecutionResult': None,\n",
       "      'inlineData': None,\n",
       "      'text': 'I am the primary agent that processes document-related requests. I can load documents, extract information from them, classify them, and compare them to vendor templates. To start, please upload a PDF or PNG file, or provide a GCS URI (bucket and path) for the document you want to process.\\n',\n",
       "      'videoMetadata': None,\n",
       "      'functionResponse': None,\n",
       "      'thoughtSignature': None,\n",
       "      'executableCode': None,\n",
       "      'functionCall': None}]},\n",
       "   'groundingMetadata': None,\n",
       "   'customMetadata': None,\n",
       "   'longRunningToolIds': None,\n",
       "   'timestamp': 1749306984.44402,\n",
       "   'errorCode': None,\n",
       "   'author': 'document_agent',\n",
       "   'interrupted': None,\n",
       "   'actions': {'artifactDelta': {},\n",
       "    'escalate': None,\n",
       "    'transferToAgent': None,\n",
       "    'skipSummarization': None,\n",
       "    'requestedAuthConfigs': {},\n",
       "    'stateDelta': {}}},\n",
       "  {'interrupted': None,\n",
       "   'partial': None,\n",
       "   'invocationId': 'e-82d29f0e-e7a8-49cc-a555-671c9401e1c7',\n",
       "   'branch': None,\n",
       "   'id': '5908136121656672256',\n",
       "   'turnComplete': None,\n",
       "   'usageMetadata': None,\n",
       "   'content': {'role': 'user',\n",
       "    'parts': [{'fileData': None,\n",
       "      'thought': None,\n",
       "      'codeExecutionResult': None,\n",
       "      'text': 'use this file: gs://statmike-mlops-349915/applied-ml-solution-prototypes/document-processing/vendor_2/fake_invoices/vendor_2_invoice_10.pdf',\n",
       "      'inlineData': None,\n",
       "      'videoMetadata': None,\n",
       "      'functionResponse': None,\n",
       "      'thoughtSignature': None,\n",
       "      'executableCode': None,\n",
       "      'functionCall': None}]},\n",
       "   'groundingMetadata': None,\n",
       "   'customMetadata': None,\n",
       "   'longRunningToolIds': None,\n",
       "   'errorCode': None,\n",
       "   'timestamp': 1749307022.502716,\n",
       "   'author': 'user',\n",
       "   'errorMessage': None,\n",
       "   'actions': {'artifactDelta': {},\n",
       "    'escalate': None,\n",
       "    'skipSummarization': None,\n",
       "    'transferToAgent': None,\n",
       "    'requestedAuthConfigs': {},\n",
       "    'stateDelta': {}}},\n",
       "  {'errorMessage': None,\n",
       "   'partial': None,\n",
       "   'invocationId': 'e-82d29f0e-e7a8-49cc-a555-671c9401e1c7',\n",
       "   'branch': None,\n",
       "   'id': '8485883958372859904',\n",
       "   'turnComplete': None,\n",
       "   'usageMetadata': None,\n",
       "   'content': {'role': 'model',\n",
       "    'parts': [{'fileData': None,\n",
       "      'thought': None,\n",
       "      'codeExecutionResult': None,\n",
       "      'inlineData': None,\n",
       "      'text': None,\n",
       "      'videoMetadata': None,\n",
       "      'functionResponse': None,\n",
       "      'thoughtSignature': None,\n",
       "      'executableCode': None,\n",
       "      'functionCall': {'id': 'adk-8bca8c77-0a42-4597-b4d0-3066e6a23aae',\n",
       "       'args': {'gcs_bucket': 'statmike-mlops-349915',\n",
       "        'gcs_file_path': 'applied-ml-solution-prototypes/document-processing/vendor_2/fake_invoices/vendor_2_invoice_10.pdf'},\n",
       "       'name': 'get_gcs_file'}}]},\n",
       "   'groundingMetadata': None,\n",
       "   'customMetadata': None,\n",
       "   'longRunningToolIds': None,\n",
       "   'timestamp': 1749307022.76593,\n",
       "   'errorCode': None,\n",
       "   'author': 'document_agent',\n",
       "   'interrupted': None,\n",
       "   'actions': {'artifactDelta': {},\n",
       "    'escalate': None,\n",
       "    'skipSummarization': None,\n",
       "    'transferToAgent': None,\n",
       "    'requestedAuthConfigs': {},\n",
       "    'stateDelta': {}}},\n",
       "  {'interrupted': None,\n",
       "   'invocationId': 'e-82d29f0e-e7a8-49cc-a555-671c9401e1c7',\n",
       "   'partial': None,\n",
       "   'branch': None,\n",
       "   'id': '8611984747939233792',\n",
       "   'turnComplete': None,\n",
       "   'usageMetadata': None,\n",
       "   'content': {'role': 'user',\n",
       "    'parts': [{'fileData': None,\n",
       "      'thought': None,\n",
       "      'codeExecutionResult': None,\n",
       "      'inlineData': None,\n",
       "      'text': None,\n",
       "      'videoMetadata': None,\n",
       "      'thoughtSignature': None,\n",
       "      'functionResponse': {'id': 'adk-8bca8c77-0a42-4597-b4d0-3066e6a23aae',\n",
       "       'response': {'result': 'The file vendor_2_invoice_10.pdf of type application/pdf and size 256029 bytes was loaded as an artifact with artifact_key = gcsfile_statmike-mlops-349915_applied-ml-solution-prototypes_document-processing_vendor_2_fake_invoices_vendor_2_invoice_10.pdf and version = 0.\\nNote that pdf files are internally converted to png images (first page).'},\n",
       "       'scheduling': None,\n",
       "       'willContinue': None,\n",
       "       'name': 'get_gcs_file'},\n",
       "      'executableCode': None,\n",
       "      'functionCall': None}]},\n",
       "   'groundingMetadata': None,\n",
       "   'customMetadata': None,\n",
       "   'longRunningToolIds': None,\n",
       "   'timestamp': 1749307024.299278,\n",
       "   'errorCode': None,\n",
       "   'author': 'document_agent',\n",
       "   'errorMessage': None,\n",
       "   'actions': {'artifactDelta': {'gcsfile_statmike-mlops-349915_applied-ml-solution-prototypes_document-processing_vendor_2_fake_invoices_vendor_2_invoice_10.pdf': 0.0},\n",
       "    'escalate': None,\n",
       "    'skipSummarization': None,\n",
       "    'transferToAgent': None,\n",
       "    'requestedAuthConfigs': {},\n",
       "    'stateDelta': {}}},\n",
       "  {'errorMessage': None,\n",
       "   'invocationId': 'e-82d29f0e-e7a8-49cc-a555-671c9401e1c7',\n",
       "   'partial': None,\n",
       "   'branch': None,\n",
       "   'id': '5565862549976514560',\n",
       "   'turnComplete': None,\n",
       "   'usageMetadata': None,\n",
       "   'content': {'role': 'model',\n",
       "    'parts': [{'fileData': None,\n",
       "      'thought': None,\n",
       "      'codeExecutionResult': None,\n",
       "      'inlineData': None,\n",
       "      'text': 'OK. I have loaded the file from GCS. The artifact key is `gcsfile_statmike-mlops-349915_applied-ml-solution-prototypes_document-processing_vendor_2_fake_invoices_vendor_2_invoice_10.pdf`.\\n',\n",
       "      'videoMetadata': None,\n",
       "      'functionResponse': None,\n",
       "      'thoughtSignature': None,\n",
       "      'executableCode': None,\n",
       "      'functionCall': None}]},\n",
       "   'groundingMetadata': None,\n",
       "   'customMetadata': None,\n",
       "   'longRunningToolIds': None,\n",
       "   'errorCode': None,\n",
       "   'timestamp': 1749307024.585192,\n",
       "   'author': 'document_agent',\n",
       "   'interrupted': None,\n",
       "   'actions': {'artifactDelta': {},\n",
       "    'escalate': None,\n",
       "    'skipSummarization': None,\n",
       "    'transferToAgent': None,\n",
       "    'requestedAuthConfigs': {},\n",
       "    'stateDelta': {}}}],\n",
       " 'state': {},\n",
       " 'lastUpdateTime': 1749307025.470876,\n",
       " 'appName': '6576847548797943808',\n",
       " 'userId': 'u_123'}"
      ]
     },
     "execution_count": 54,
     "metadata": {},
     "output_type": "execute_result"
    }
   ],
   "source": [
    "remote_app.get_session(user_id = 'u_123', session_id = remote_session['id'])"
   ]
  },
  {
   "cell_type": "code",
   "execution_count": 56,
   "id": "9963c4fb",
   "metadata": {},
   "outputs": [
    {
     "name": "stdout",
     "output_type": "stream",
     "text": [
      "{'interrupted': None, 'partial': None, 'invocationId': 'e-03680743-4c36-41b6-8131-b3446cd9f724', 'branch': None, 'id': '7008703280595337216', 'turnComplete': None, 'usageMetadata': None, 'content': {'role': 'user', 'parts': [{'fileData': None, 'thought': None, 'codeExecutionResult': None, 'inlineData': None, 'text': 'What do you do?', 'videoMetadata': None, 'thoughtSignature': None, 'functionResponse': None, 'executableCode': None, 'functionCall': None}]}, 'groundingMetadata': None, 'customMetadata': None, 'longRunningToolIds': None, 'timestamp': 1749306984.110913, 'errorCode': None, 'author': 'user', 'errorMessage': None, 'actions': {'artifactDelta': {}, 'escalate': None, 'transferToAgent': None, 'skipSummarization': None, 'requestedAuthConfigs': {}, 'stateDelta': {}}}\n",
      "{'errorMessage': None, 'partial': None, 'invocationId': 'e-03680743-4c36-41b6-8131-b3446cd9f724', 'branch': None, 'id': '954176531549126656', 'turnComplete': None, 'usageMetadata': None, 'content': {'role': 'model', 'parts': [{'fileData': None, 'thought': None, 'codeExecutionResult': None, 'inlineData': None, 'text': 'I am the primary agent that processes document-related requests. I can load documents, extract information from them, classify them, and compare them to vendor templates. To start, please upload a PDF or PNG file, or provide a GCS URI (bucket and path) for the document you want to process.\\n', 'videoMetadata': None, 'thoughtSignature': None, 'functionResponse': None, 'executableCode': None, 'functionCall': None}]}, 'groundingMetadata': None, 'customMetadata': None, 'longRunningToolIds': None, 'timestamp': 1749306984.44402, 'errorCode': None, 'author': 'document_agent', 'interrupted': None, 'actions': {'artifactDelta': {}, 'escalate': None, 'transferToAgent': None, 'skipSummarization': None, 'requestedAuthConfigs': {}, 'stateDelta': {}}}\n",
      "{'interrupted': None, 'invocationId': 'e-82d29f0e-e7a8-49cc-a555-671c9401e1c7', 'partial': None, 'branch': None, 'id': '5908136121656672256', 'turnComplete': None, 'usageMetadata': None, 'content': {'role': 'user', 'parts': [{'fileData': None, 'thought': None, 'codeExecutionResult': None, 'inlineData': None, 'text': 'use this file: gs://statmike-mlops-349915/applied-ml-solution-prototypes/document-processing/vendor_2/fake_invoices/vendor_2_invoice_10.pdf', 'videoMetadata': None, 'thoughtSignature': None, 'functionResponse': None, 'executableCode': None, 'functionCall': None}]}, 'groundingMetadata': None, 'customMetadata': None, 'longRunningToolIds': None, 'errorCode': None, 'timestamp': 1749307022.502716, 'author': 'user', 'errorMessage': None, 'actions': {'artifactDelta': {}, 'escalate': None, 'skipSummarization': None, 'transferToAgent': None, 'requestedAuthConfigs': {}, 'stateDelta': {}}}\n",
      "{'interrupted': None, 'partial': None, 'invocationId': 'e-82d29f0e-e7a8-49cc-a555-671c9401e1c7', 'branch': None, 'id': '8485883958372859904', 'turnComplete': None, 'usageMetadata': None, 'content': {'role': 'model', 'parts': [{'fileData': None, 'thought': None, 'codeExecutionResult': None, 'inlineData': None, 'text': None, 'videoMetadata': None, 'thoughtSignature': None, 'functionResponse': None, 'executableCode': None, 'functionCall': {'id': 'adk-8bca8c77-0a42-4597-b4d0-3066e6a23aae', 'args': {'gcs_bucket': 'statmike-mlops-349915', 'gcs_file_path': 'applied-ml-solution-prototypes/document-processing/vendor_2/fake_invoices/vendor_2_invoice_10.pdf'}, 'name': 'get_gcs_file'}}]}, 'groundingMetadata': None, 'customMetadata': None, 'longRunningToolIds': None, 'errorCode': None, 'timestamp': 1749307022.76593, 'author': 'document_agent', 'errorMessage': None, 'actions': {'artifactDelta': {}, 'escalate': None, 'skipSummarization': None, 'transferToAgent': None, 'requestedAuthConfigs': {}, 'stateDelta': {}}}\n",
      "{'interrupted': None, 'partial': None, 'invocationId': 'e-82d29f0e-e7a8-49cc-a555-671c9401e1c7', 'branch': None, 'id': '8611984747939233792', 'turnComplete': None, 'usageMetadata': None, 'content': {'role': 'user', 'parts': [{'fileData': None, 'thought': None, 'codeExecutionResult': None, 'text': None, 'inlineData': None, 'videoMetadata': None, 'functionResponse': {'willContinue': None, 'scheduling': None, 'response': {'result': 'The file vendor_2_invoice_10.pdf of type application/pdf and size 256029 bytes was loaded as an artifact with artifact_key = gcsfile_statmike-mlops-349915_applied-ml-solution-prototypes_document-processing_vendor_2_fake_invoices_vendor_2_invoice_10.pdf and version = 0.\\nNote that pdf files are internally converted to png images (first page).'}, 'id': 'adk-8bca8c77-0a42-4597-b4d0-3066e6a23aae', 'name': 'get_gcs_file'}, 'thoughtSignature': None, 'executableCode': None, 'functionCall': None}]}, 'groundingMetadata': None, 'customMetadata': None, 'longRunningToolIds': None, 'errorCode': None, 'timestamp': 1749307024.299278, 'author': 'document_agent', 'errorMessage': None, 'actions': {'artifactDelta': {'gcsfile_statmike-mlops-349915_applied-ml-solution-prototypes_document-processing_vendor_2_fake_invoices_vendor_2_invoice_10.pdf': 0.0}, 'escalate': None, 'transferToAgent': None, 'skipSummarization': None, 'requestedAuthConfigs': {}, 'stateDelta': {}}}\n",
      "{'interrupted': None, 'invocationId': 'e-82d29f0e-e7a8-49cc-a555-671c9401e1c7', 'partial': None, 'branch': None, 'id': '5565862549976514560', 'turnComplete': None, 'usageMetadata': None, 'content': {'role': 'model', 'parts': [{'fileData': None, 'thought': None, 'codeExecutionResult': None, 'inlineData': None, 'text': 'OK. I have loaded the file from GCS. The artifact key is `gcsfile_statmike-mlops-349915_applied-ml-solution-prototypes_document-processing_vendor_2_fake_invoices_vendor_2_invoice_10.pdf`.\\n', 'videoMetadata': None, 'thoughtSignature': None, 'functionResponse': None, 'executableCode': None, 'functionCall': None}]}, 'groundingMetadata': None, 'customMetadata': None, 'longRunningToolIds': None, 'errorCode': None, 'timestamp': 1749307024.585192, 'author': 'document_agent', 'errorMessage': None, 'actions': {'artifactDelta': {}, 'escalate': None, 'transferToAgent': None, 'skipSummarization': None, 'requestedAuthConfigs': {}, 'stateDelta': {}}}\n"
     ]
    }
   ],
   "source": [
    "for event in remote_app.get_session(user_id = 'u_123', session_id = remote_session['id'])['events']:\n",
    "    print(event)"
   ]
  },
  {
   "cell_type": "markdown",
   "id": "96e5c92b",
   "metadata": {},
   "source": [
    "more\n",
    "- delete session\n",
    "- create session with specified id\n",
    "- delete app"
   ]
  },
  {
   "cell_type": "code",
   "execution_count": null,
   "id": "7ff016b0",
   "metadata": {},
   "outputs": [],
   "source": []
  },
  {
   "cell_type": "code",
   "execution_count": null,
   "id": "bc30bc3e",
   "metadata": {},
   "outputs": [],
   "source": []
  },
  {
   "cell_type": "code",
   "execution_count": null,
   "id": "ad707eb9",
   "metadata": {},
   "outputs": [],
   "source": []
  },
  {
   "cell_type": "code",
   "execution_count": null,
   "id": "2cfaab2f",
   "metadata": {},
   "outputs": [],
   "source": []
  }
 ],
 "metadata": {
  "kernelspec": {
   "display_name": ".venv",
   "language": "python",
   "name": "python3"
  },
  "language_info": {
   "codemirror_mode": {
    "name": "ipython",
    "version": 3
   },
   "file_extension": ".py",
   "mimetype": "text/x-python",
   "name": "python",
   "nbconvert_exporter": "python",
   "pygments_lexer": "ipython3",
   "version": "3.13.3"
  }
 },
 "nbformat": 4,
 "nbformat_minor": 5
}
