{
 "cells": [
  {
   "cell_type": "markdown",
   "id": "d692f4a5",
   "metadata": {},
   "source": [
    "# Deploy Agent To Vertex AI Agent Engine\n",
    "\n",
    "After building and testing an agent built with ADK the next step is deployment for use in production workflows and applications.  The notebook workflow shows the steps for deploying the agent built in the product on [Vertex AI Agent Engine](https://cloud.google.com/vertex-ai/generative-ai/docs/agent-engine/overview).  This service includes:\n",
    "- [Development](https://cloud.google.com/vertex-ai/generative-ai/docs/agent-engine/develop/adk) tooling to test the agent locally first\n",
    "- [Deployment](https://cloud.google.com/vertex-ai/generative-ai/docs/agent-engine/deploy) tooling to create the agent instance on Vertex AI Agent Engine\n",
    "- [Agent Use](https://cloud.google.com/vertex-ai/generative-ai/docs/agent-engine/use/adk) SDK directly within the Vetex AI SDK\n",
    "- [Mangagement](https://cloud.google.com/vertex-ai/generative-ai/docs/agent-engine/manage/overview) services for access control, tracing, logging, and monitoring of deployed agents\n",
    "- and services like [Agent Evaluation](https://cloud.google.com/vertex-ai/generative-ai/docs/agent-engine/evaluate) and more!\n",
    "\n",
    "While Vertex AI Agent Engine is a service for many agent building frameworks (ADK, LangChain, LangGraph, AG2, LlamaIndex, Custom, ...) it is also directly integrated with Google ADK, the framework used in this project.  [ADK Deployment](https://google.github.io/adk-docs/deploy/) options include [Vertex AI Agent Engine](https://google.github.io/adk-docs/deploy/agent-engine/) as well as [Cloud Run](https://google.github.io/adk-docs/deploy/cloud-run/) and [custom infrastructure](https://google.github.io/adk-docs/deploy/gke/) deploymetns.\n",
    "\n",
    "**Notes:**\n",
    "- This notebook expects the current working directory to contain the agents folder. In other words, `agent.py` is at `./document_agent/agent.py`."
   ]
  },
  {
   "cell_type": "markdown",
   "id": "c5d2b094",
   "metadata": {},
   "source": [
    "Package Imports:"
   ]
  },
  {
   "cell_type": "code",
   "execution_count": 31,
   "id": "39893d15",
   "metadata": {},
   "outputs": [],
   "source": [
    "import os, sys\n",
    "\n",
    "import dotenv\n",
    "#from dotenv import load_dotenv\n",
    "\n",
    "from vertexai.preview import reasoning_engines\n",
    "from vertexai import agent_engines\n",
    "import vertexai"
   ]
  },
  {
   "cell_type": "markdown",
   "id": "f3c6d7b6",
   "metadata": {},
   "source": [
    "Verify working directory:"
   ]
  },
  {
   "cell_type": "code",
   "execution_count": 32,
   "id": "1b4aa95c",
   "metadata": {},
   "outputs": [
    {
     "data": {
      "text/plain": [
       "'/home/statmike/repos/vertex-ai-mlops/Applied ML/Solution Prototypes/document-processing/7-agents/document_agent'"
      ]
     },
     "execution_count": 32,
     "metadata": {},
     "output_type": "execute_result"
    }
   ],
   "source": [
    "os.getcwd()"
   ]
  },
  {
   "cell_type": "markdown",
   "id": "9a83a22a",
   "metadata": {},
   "source": [
    "Review the local files, expecting the `document_agent` folder to be here:"
   ]
  },
  {
   "cell_type": "code",
   "execution_count": 33,
   "id": "bace754b",
   "metadata": {},
   "outputs": [
    {
     "data": {
      "text/plain": [
       "['document_agent', 'apps', 'deploy-vertex-ai-agent-engine.ipynb']"
      ]
     },
     "execution_count": 33,
     "metadata": {},
     "output_type": "execute_result"
    }
   ],
   "source": [
    "os.listdir('.')"
   ]
  },
  {
   "cell_type": "markdown",
   "id": "5c5d1b0e",
   "metadata": {},
   "source": [
    "Verify the current Python version and executable location (the `venv` setup by this project):"
   ]
  },
  {
   "cell_type": "code",
   "execution_count": 34,
   "id": "3b9bd944",
   "metadata": {},
   "outputs": [
    {
     "data": {
      "text/plain": [
       "('3.13.3 (main, Apr 14 2025, 14:06:24) [GCC 12.2.0]',\n",
       " '/home/statmike/repos/vertex-ai-mlops/Applied ML/Solution Prototypes/document-processing/7-agents/.venv/bin/python')"
      ]
     },
     "execution_count": 34,
     "metadata": {},
     "output_type": "execute_result"
    }
   ],
   "source": [
    "sys.version, sys.executable"
   ]
  },
  {
   "cell_type": "markdown",
   "id": "4e584c8e",
   "metadata": {},
   "source": [
    "Setup Clients:"
   ]
  },
  {
   "cell_type": "code",
   "execution_count": 36,
   "id": "f82ceaea",
   "metadata": {},
   "outputs": [],
   "source": [
    "# Load environment variables set with agent (./document_agent/.env)\n",
    "dotenv.load_dotenv(dotenv_path = os.path.join('document_agent', '.env'))\n",
    "\n",
    "# Vertex AI Initializaiton:\n",
    "vertexai.init(\n",
    "    project = os.getenv('GOOGLE_CLOUD_PROJECT'),\n",
    "    location = os.getenv('GOOGLE_CLOUD_LOCATION'),\n",
    "    staging_bucket = f\"gs://{os.getenv('GOOGLE_CLOUD_STORAGE_BUCKET')}\"\n",
    ")"
   ]
  },
  {
   "cell_type": "markdown",
   "id": "9979f001",
   "metadata": {},
   "source": [
    "---\n",
    "## Local Testing: Prepare Agent for Vertex AI Agent Engine\n",
    "\n",
    "Before deploying the ADK agent to Vertex AI Agent Engine it can first be tested locally with the SDK."
   ]
  },
  {
   "cell_type": "code",
   "execution_count": 6,
   "id": "6d7905b4",
   "metadata": {},
   "outputs": [],
   "source": [
    "from document_agent.agent import root_agent\n",
    "\n",
    "app = reasoning_engines.AdkApp(\n",
    "    agent=root_agent,\n",
    "    enable_tracing=True,\n",
    ")"
   ]
  },
  {
   "cell_type": "code",
   "execution_count": 7,
   "id": "3edd0f74",
   "metadata": {},
   "outputs": [
    {
     "data": {
      "text/plain": [
       "Session(id='cc428561-8e3c-4e01-829c-33924d731ca7', app_name='default-app-name', user_id='u_123', state={}, events=[], last_update_time=1749316598.6712692)"
      ]
     },
     "execution_count": 7,
     "metadata": {},
     "output_type": "execute_result"
    }
   ],
   "source": [
    "session = app.create_session(user_id = 'u_123')\n",
    "session"
   ]
  },
  {
   "cell_type": "code",
   "execution_count": 8,
   "id": "202e2c84",
   "metadata": {},
   "outputs": [
    {
     "data": {
      "text/plain": [
       "ListSessionsResponse(sessions=[Session(id='cc428561-8e3c-4e01-829c-33924d731ca7', app_name='default-app-name', user_id='u_123', state={}, events=[], last_update_time=1749316598.6712692)])"
      ]
     },
     "execution_count": 8,
     "metadata": {},
     "output_type": "execute_result"
    }
   ],
   "source": [
    "app.list_sessions(user_id = 'u_123')"
   ]
  },
  {
   "cell_type": "code",
   "execution_count": 9,
   "id": "8e2f44b3",
   "metadata": {},
   "outputs": [
    {
     "data": {
      "text/plain": [
       "Session(id='cc428561-8e3c-4e01-829c-33924d731ca7', app_name='default-app-name', user_id='u_123', state={}, events=[], last_update_time=1749316598.6712692)"
      ]
     },
     "execution_count": 9,
     "metadata": {},
     "output_type": "execute_result"
    }
   ],
   "source": [
    "session = app.get_session(user_id=\"u_123\", session_id=session.id)\n",
    "session"
   ]
  },
  {
   "cell_type": "code",
   "execution_count": 11,
   "id": "8772b7bd",
   "metadata": {},
   "outputs": [
    {
     "name": "stdout",
     "output_type": "stream",
     "text": [
      "{'content': {'parts': [{'text': 'I am the primary agent that processes document related requests. I can load documents, extract information, classify them, and compare them to vendor templates. To start, please upload a PDF/PNG file or provide the GCS URI (bucket and path) for the document you want to process.\\n'}], 'role': 'model'}, 'usage_metadata': {'candidates_token_count': 59, 'candidates_tokens_details': [{'modality': <MediaModality.TEXT: 'TEXT'>, 'token_count': 59}], 'prompt_token_count': 3474, 'prompt_tokens_details': [{'modality': <MediaModality.TEXT: 'TEXT'>, 'token_count': 3474}], 'total_token_count': 3533, 'traffic_type': <TrafficType.ON_DEMAND: 'ON_DEMAND'>}, 'invocation_id': 'e-b6ed94f8-4582-41ef-9d39-c306a1ca024d', 'author': 'document_agent', 'actions': {'state_delta': {}, 'artifact_delta': {}, 'requested_auth_configs': {}}, 'id': 'sDT5rKML', 'timestamp': 1749316602.635473}\n"
     ]
    }
   ],
   "source": [
    "for event in app.stream_query(\n",
    "    user_id = 'u_123',\n",
    "    session_id = session.id,\n",
    "    message = 'What do you do?'\n",
    "):\n",
    "    print(event)"
   ]
  },
  {
   "cell_type": "code",
   "execution_count": 12,
   "id": "87e0b82f",
   "metadata": {},
   "outputs": [
    {
     "name": "stderr",
     "output_type": "stream",
     "text": [
      "Warning: there are non-text parts in the response: ['function_call'], returning concatenated text result from text parts. Check the full candidates.content.parts accessor to get the full model response.\n"
     ]
    },
    {
     "name": "stdout",
     "output_type": "stream",
     "text": [
      "{'content': {'parts': [{'function_call': {'id': 'adk-7c70745d-1670-473b-82c8-fd234e8ddc92', 'args': {'gcs_file_path': 'applied-ml-solution-prototypes/document-processing/vendor_2/fake_invoices/vendor_2_invoice_10.pdf', 'gcs_bucket': 'statmike-mlops-349915'}, 'name': 'get_gcs_file'}}], 'role': 'model'}, 'usage_metadata': {'candidates_token_count': 56, 'candidates_tokens_details': [{'modality': <MediaModality.TEXT: 'TEXT'>, 'token_count': 56}], 'prompt_token_count': 3583, 'prompt_tokens_details': [{'modality': <MediaModality.TEXT: 'TEXT'>, 'token_count': 3583}], 'total_token_count': 3639, 'traffic_type': <TrafficType.ON_DEMAND: 'ON_DEMAND'>}, 'invocation_id': 'e-989f09b7-7f2b-4bf8-afa6-8526eb7ce9cb', 'author': 'document_agent', 'actions': {'state_delta': {}, 'artifact_delta': {}, 'requested_auth_configs': {}}, 'long_running_tool_ids': set(), 'id': 'F7Y2oybx', 'timestamp': 1749316611.116951}\n",
      "{'content': {'parts': [{'function_response': {'id': 'adk-7c70745d-1670-473b-82c8-fd234e8ddc92', 'name': 'get_gcs_file', 'response': {'result': 'The file vendor_2_invoice_10.pdf of type application/pdf and size 256029 bytes was loaded as an artifact with artifact_key = gcsfile_statmike-mlops-349915_applied-ml-solution-prototypes_document-processing_vendor_2_fake_invoices_vendor_2_invoice_10.pdf and version = 0.\\nNote that pdf files are internally converted to png images (first page).'}}}], 'role': 'user'}, 'invocation_id': 'e-989f09b7-7f2b-4bf8-afa6-8526eb7ce9cb', 'author': 'document_agent', 'actions': {'state_delta': {}, 'artifact_delta': {'gcsfile_statmike-mlops-349915_applied-ml-solution-prototypes_document-processing_vendor_2_fake_invoices_vendor_2_invoice_10.pdf': 0}, 'requested_auth_configs': {}}, 'id': 'QAJl9hiN', 'timestamp': 1749316614.02212}\n",
      "{'content': {'parts': [{'text': 'Okay, I have loaded the file from GCS. The artifact key for this document is `gcsfile_statmike-mlops-349915_applied-ml-solution-prototypes_document-processing_vendor_2_fake_invoices_vendor_2_invoice_10.pdf`.\\n'}], 'role': 'model'}, 'usage_metadata': {'candidates_token_count': 68, 'candidates_tokens_details': [{'modality': <MediaModality.TEXT: 'TEXT'>, 'token_count': 68}], 'prompt_token_count': 3751, 'prompt_tokens_details': [{'modality': <MediaModality.TEXT: 'TEXT'>, 'token_count': 3751}], 'total_token_count': 3819, 'traffic_type': <TrafficType.ON_DEMAND: 'ON_DEMAND'>}, 'invocation_id': 'e-989f09b7-7f2b-4bf8-afa6-8526eb7ce9cb', 'author': 'document_agent', 'actions': {'state_delta': {}, 'artifact_delta': {}, 'requested_auth_configs': {}}, 'id': 'aT0ueQYB', 'timestamp': 1749316614.02341}\n"
     ]
    }
   ],
   "source": [
    "for event in app.stream_query(\n",
    "    user_id = 'u_123',\n",
    "    session_id = session.id,\n",
    "    message = 'use this file: gs://statmike-mlops-349915/applied-ml-solution-prototypes/document-processing/vendor_2/fake_invoices/vendor_2_invoice_10.pdf'\n",
    "):\n",
    "    print(event)"
   ]
  },
  {
   "cell_type": "code",
   "execution_count": 13,
   "id": "62ceff98",
   "metadata": {},
   "outputs": [
    {
     "data": {
      "text/plain": [
       "{'content': {'parts': [{'text': 'Okay, I have loaded the file from GCS. The artifact key for this document is `gcsfile_statmike-mlops-349915_applied-ml-solution-prototypes_document-processing_vendor_2_fake_invoices_vendor_2_invoice_10.pdf`.\\n'}],\n",
       "  'role': 'model'},\n",
       " 'usage_metadata': {'candidates_token_count': 68,\n",
       "  'candidates_tokens_details': [{'modality': <MediaModality.TEXT: 'TEXT'>,\n",
       "    'token_count': 68}],\n",
       "  'prompt_token_count': 3751,\n",
       "  'prompt_tokens_details': [{'modality': <MediaModality.TEXT: 'TEXT'>,\n",
       "    'token_count': 3751}],\n",
       "  'total_token_count': 3819,\n",
       "  'traffic_type': <TrafficType.ON_DEMAND: 'ON_DEMAND'>},\n",
       " 'invocation_id': 'e-989f09b7-7f2b-4bf8-afa6-8526eb7ce9cb',\n",
       " 'author': 'document_agent',\n",
       " 'actions': {'state_delta': {},\n",
       "  'artifact_delta': {},\n",
       "  'requested_auth_configs': {}},\n",
       " 'id': 'aT0ueQYB',\n",
       " 'timestamp': 1749316614.02341}"
      ]
     },
     "execution_count": 13,
     "metadata": {},
     "output_type": "execute_result"
    }
   ],
   "source": [
    "event"
   ]
  },
  {
   "cell_type": "code",
   "execution_count": 14,
   "id": "b92d6951",
   "metadata": {},
   "outputs": [
    {
     "data": {
      "text/plain": [
       "Session(id='cc428561-8e3c-4e01-829c-33924d731ca7', app_name='default-app-name', user_id='u_123', state={}, events=[Event(content=Content(parts=[Part(video_metadata=None, thought=None, inline_data=None, file_data=None, thought_signature=None, code_execution_result=None, executable_code=None, function_call=None, function_response=None, text='What do you do?')], role='user'), grounding_metadata=None, partial=None, turn_complete=None, error_code=None, error_message=None, interrupted=None, custom_metadata=None, usage_metadata=None, invocation_id='e-b6ed94f8-4582-41ef-9d39-c306a1ca024d', author='user', actions=EventActions(skip_summarization=None, state_delta={}, artifact_delta={}, transfer_to_agent=None, escalate=None, requested_auth_configs={}), long_running_tool_ids=None, branch=None, id='bzp9rqYP', timestamp=1749316602.632191), Event(content=Content(parts=[Part(video_metadata=None, thought=None, inline_data=None, file_data=None, thought_signature=None, code_execution_result=None, executable_code=None, function_call=None, function_response=None, text='I am the primary agent that processes document related requests. I can load documents, extract information, classify them, and compare them to vendor templates. To start, please upload a PDF/PNG file or provide the GCS URI (bucket and path) for the document you want to process.\\n')], role='model'), grounding_metadata=None, partial=None, turn_complete=None, error_code=None, error_message=None, interrupted=None, custom_metadata=None, usage_metadata=GenerateContentResponseUsageMetadata(cache_tokens_details=None, cached_content_token_count=None, candidates_token_count=59, candidates_tokens_details=[ModalityTokenCount(modality=<MediaModality.TEXT: 'TEXT'>, token_count=59)], prompt_token_count=3474, prompt_tokens_details=[ModalityTokenCount(modality=<MediaModality.TEXT: 'TEXT'>, token_count=3474)], thoughts_token_count=None, tool_use_prompt_token_count=None, tool_use_prompt_tokens_details=None, total_token_count=3533, traffic_type=<TrafficType.ON_DEMAND: 'ON_DEMAND'>), invocation_id='e-b6ed94f8-4582-41ef-9d39-c306a1ca024d', author='document_agent', actions=EventActions(skip_summarization=None, state_delta={}, artifact_delta={}, transfer_to_agent=None, escalate=None, requested_auth_configs={}), long_running_tool_ids=None, branch=None, id='sDT5rKML', timestamp=1749316602.635473), Event(content=Content(parts=[Part(video_metadata=None, thought=None, inline_data=None, file_data=None, thought_signature=None, code_execution_result=None, executable_code=None, function_call=None, function_response=None, text='use this file: gs://statmike-mlops-349915/applied-ml-solution-prototypes/document-processing/vendor_2/fake_invoices/vendor_2_invoice_10.pdf')], role='user'), grounding_metadata=None, partial=None, turn_complete=None, error_code=None, error_message=None, interrupted=None, custom_metadata=None, usage_metadata=None, invocation_id='e-989f09b7-7f2b-4bf8-afa6-8526eb7ce9cb', author='user', actions=EventActions(skip_summarization=None, state_delta={}, artifact_delta={}, transfer_to_agent=None, escalate=None, requested_auth_configs={}), long_running_tool_ids=None, branch=None, id='I8aCyyv6', timestamp=1749316611.115034), Event(content=Content(parts=[Part(video_metadata=None, thought=None, inline_data=None, file_data=None, thought_signature=None, code_execution_result=None, executable_code=None, function_call=FunctionCall(id='adk-7c70745d-1670-473b-82c8-fd234e8ddc92', args={'gcs_file_path': 'applied-ml-solution-prototypes/document-processing/vendor_2/fake_invoices/vendor_2_invoice_10.pdf', 'gcs_bucket': 'statmike-mlops-349915'}, name='get_gcs_file'), function_response=None, text=None)], role='model'), grounding_metadata=None, partial=None, turn_complete=None, error_code=None, error_message=None, interrupted=None, custom_metadata=None, usage_metadata=GenerateContentResponseUsageMetadata(cache_tokens_details=None, cached_content_token_count=None, candidates_token_count=56, candidates_tokens_details=[ModalityTokenCount(modality=<MediaModality.TEXT: 'TEXT'>, token_count=56)], prompt_token_count=3583, prompt_tokens_details=[ModalityTokenCount(modality=<MediaModality.TEXT: 'TEXT'>, token_count=3583)], thoughts_token_count=None, tool_use_prompt_token_count=None, tool_use_prompt_tokens_details=None, total_token_count=3639, traffic_type=<TrafficType.ON_DEMAND: 'ON_DEMAND'>), invocation_id='e-989f09b7-7f2b-4bf8-afa6-8526eb7ce9cb', author='document_agent', actions=EventActions(skip_summarization=None, state_delta={}, artifact_delta={}, transfer_to_agent=None, escalate=None, requested_auth_configs={}), long_running_tool_ids=set(), branch=None, id='F7Y2oybx', timestamp=1749316611.116951), Event(content=Content(parts=[Part(video_metadata=None, thought=None, inline_data=None, file_data=None, thought_signature=None, code_execution_result=None, executable_code=None, function_call=None, function_response=FunctionResponse(will_continue=None, scheduling=None, id='adk-7c70745d-1670-473b-82c8-fd234e8ddc92', name='get_gcs_file', response={'result': 'The file vendor_2_invoice_10.pdf of type application/pdf and size 256029 bytes was loaded as an artifact with artifact_key = gcsfile_statmike-mlops-349915_applied-ml-solution-prototypes_document-processing_vendor_2_fake_invoices_vendor_2_invoice_10.pdf and version = 0.\\nNote that pdf files are internally converted to png images (first page).'}), text=None)], role='user'), grounding_metadata=None, partial=None, turn_complete=None, error_code=None, error_message=None, interrupted=None, custom_metadata=None, usage_metadata=None, invocation_id='e-989f09b7-7f2b-4bf8-afa6-8526eb7ce9cb', author='document_agent', actions=EventActions(skip_summarization=None, state_delta={}, artifact_delta={'gcsfile_statmike-mlops-349915_applied-ml-solution-prototypes_document-processing_vendor_2_fake_invoices_vendor_2_invoice_10.pdf': 0}, transfer_to_agent=None, escalate=None, requested_auth_configs={}), long_running_tool_ids=None, branch=None, id='QAJl9hiN', timestamp=1749316614.02212), Event(content=Content(parts=[Part(video_metadata=None, thought=None, inline_data=None, file_data=None, thought_signature=None, code_execution_result=None, executable_code=None, function_call=None, function_response=None, text='Okay, I have loaded the file from GCS. The artifact key for this document is `gcsfile_statmike-mlops-349915_applied-ml-solution-prototypes_document-processing_vendor_2_fake_invoices_vendor_2_invoice_10.pdf`.\\n')], role='model'), grounding_metadata=None, partial=None, turn_complete=None, error_code=None, error_message=None, interrupted=None, custom_metadata=None, usage_metadata=GenerateContentResponseUsageMetadata(cache_tokens_details=None, cached_content_token_count=None, candidates_token_count=68, candidates_tokens_details=[ModalityTokenCount(modality=<MediaModality.TEXT: 'TEXT'>, token_count=68)], prompt_token_count=3751, prompt_tokens_details=[ModalityTokenCount(modality=<MediaModality.TEXT: 'TEXT'>, token_count=3751)], thoughts_token_count=None, tool_use_prompt_token_count=None, tool_use_prompt_tokens_details=None, total_token_count=3819, traffic_type=<TrafficType.ON_DEMAND: 'ON_DEMAND'>), invocation_id='e-989f09b7-7f2b-4bf8-afa6-8526eb7ce9cb', author='document_agent', actions=EventActions(skip_summarization=None, state_delta={}, artifact_delta={}, transfer_to_agent=None, escalate=None, requested_auth_configs={}), long_running_tool_ids=None, branch=None, id='aT0ueQYB', timestamp=1749316614.02341)], last_update_time=1749316614.02341)"
      ]
     },
     "execution_count": 14,
     "metadata": {},
     "output_type": "execute_result"
    }
   ],
   "source": [
    "app.get_session(user_id = 'u_123', session_id = session.id)"
   ]
  },
  {
   "cell_type": "code",
   "execution_count": 15,
   "id": "1fd8c576",
   "metadata": {},
   "outputs": [
    {
     "name": "stdout",
     "output_type": "stream",
     "text": [
      "content=Content(parts=[Part(video_metadata=None, thought=None, inline_data=None, file_data=None, thought_signature=None, code_execution_result=None, executable_code=None, function_call=None, function_response=None, text='What do you do?')], role='user') grounding_metadata=None partial=None turn_complete=None error_code=None error_message=None interrupted=None custom_metadata=None usage_metadata=None invocation_id='e-b6ed94f8-4582-41ef-9d39-c306a1ca024d' author='user' actions=EventActions(skip_summarization=None, state_delta={}, artifact_delta={}, transfer_to_agent=None, escalate=None, requested_auth_configs={}) long_running_tool_ids=None branch=None id='bzp9rqYP' timestamp=1749316602.632191\n",
      "content=Content(parts=[Part(video_metadata=None, thought=None, inline_data=None, file_data=None, thought_signature=None, code_execution_result=None, executable_code=None, function_call=None, function_response=None, text='I am the primary agent that processes document related requests. I can load documents, extract information, classify them, and compare them to vendor templates. To start, please upload a PDF/PNG file or provide the GCS URI (bucket and path) for the document you want to process.\\n')], role='model') grounding_metadata=None partial=None turn_complete=None error_code=None error_message=None interrupted=None custom_metadata=None usage_metadata=GenerateContentResponseUsageMetadata(cache_tokens_details=None, cached_content_token_count=None, candidates_token_count=59, candidates_tokens_details=[ModalityTokenCount(modality=<MediaModality.TEXT: 'TEXT'>, token_count=59)], prompt_token_count=3474, prompt_tokens_details=[ModalityTokenCount(modality=<MediaModality.TEXT: 'TEXT'>, token_count=3474)], thoughts_token_count=None, tool_use_prompt_token_count=None, tool_use_prompt_tokens_details=None, total_token_count=3533, traffic_type=<TrafficType.ON_DEMAND: 'ON_DEMAND'>) invocation_id='e-b6ed94f8-4582-41ef-9d39-c306a1ca024d' author='document_agent' actions=EventActions(skip_summarization=None, state_delta={}, artifact_delta={}, transfer_to_agent=None, escalate=None, requested_auth_configs={}) long_running_tool_ids=None branch=None id='sDT5rKML' timestamp=1749316602.635473\n",
      "content=Content(parts=[Part(video_metadata=None, thought=None, inline_data=None, file_data=None, thought_signature=None, code_execution_result=None, executable_code=None, function_call=None, function_response=None, text='use this file: gs://statmike-mlops-349915/applied-ml-solution-prototypes/document-processing/vendor_2/fake_invoices/vendor_2_invoice_10.pdf')], role='user') grounding_metadata=None partial=None turn_complete=None error_code=None error_message=None interrupted=None custom_metadata=None usage_metadata=None invocation_id='e-989f09b7-7f2b-4bf8-afa6-8526eb7ce9cb' author='user' actions=EventActions(skip_summarization=None, state_delta={}, artifact_delta={}, transfer_to_agent=None, escalate=None, requested_auth_configs={}) long_running_tool_ids=None branch=None id='I8aCyyv6' timestamp=1749316611.115034\n",
      "content=Content(parts=[Part(video_metadata=None, thought=None, inline_data=None, file_data=None, thought_signature=None, code_execution_result=None, executable_code=None, function_call=FunctionCall(id='adk-7c70745d-1670-473b-82c8-fd234e8ddc92', args={'gcs_file_path': 'applied-ml-solution-prototypes/document-processing/vendor_2/fake_invoices/vendor_2_invoice_10.pdf', 'gcs_bucket': 'statmike-mlops-349915'}, name='get_gcs_file'), function_response=None, text=None)], role='model') grounding_metadata=None partial=None turn_complete=None error_code=None error_message=None interrupted=None custom_metadata=None usage_metadata=GenerateContentResponseUsageMetadata(cache_tokens_details=None, cached_content_token_count=None, candidates_token_count=56, candidates_tokens_details=[ModalityTokenCount(modality=<MediaModality.TEXT: 'TEXT'>, token_count=56)], prompt_token_count=3583, prompt_tokens_details=[ModalityTokenCount(modality=<MediaModality.TEXT: 'TEXT'>, token_count=3583)], thoughts_token_count=None, tool_use_prompt_token_count=None, tool_use_prompt_tokens_details=None, total_token_count=3639, traffic_type=<TrafficType.ON_DEMAND: 'ON_DEMAND'>) invocation_id='e-989f09b7-7f2b-4bf8-afa6-8526eb7ce9cb' author='document_agent' actions=EventActions(skip_summarization=None, state_delta={}, artifact_delta={}, transfer_to_agent=None, escalate=None, requested_auth_configs={}) long_running_tool_ids=set() branch=None id='F7Y2oybx' timestamp=1749316611.116951\n",
      "content=Content(parts=[Part(video_metadata=None, thought=None, inline_data=None, file_data=None, thought_signature=None, code_execution_result=None, executable_code=None, function_call=None, function_response=FunctionResponse(will_continue=None, scheduling=None, id='adk-7c70745d-1670-473b-82c8-fd234e8ddc92', name='get_gcs_file', response={'result': 'The file vendor_2_invoice_10.pdf of type application/pdf and size 256029 bytes was loaded as an artifact with artifact_key = gcsfile_statmike-mlops-349915_applied-ml-solution-prototypes_document-processing_vendor_2_fake_invoices_vendor_2_invoice_10.pdf and version = 0.\\nNote that pdf files are internally converted to png images (first page).'}), text=None)], role='user') grounding_metadata=None partial=None turn_complete=None error_code=None error_message=None interrupted=None custom_metadata=None usage_metadata=None invocation_id='e-989f09b7-7f2b-4bf8-afa6-8526eb7ce9cb' author='document_agent' actions=EventActions(skip_summarization=None, state_delta={}, artifact_delta={'gcsfile_statmike-mlops-349915_applied-ml-solution-prototypes_document-processing_vendor_2_fake_invoices_vendor_2_invoice_10.pdf': 0}, transfer_to_agent=None, escalate=None, requested_auth_configs={}) long_running_tool_ids=None branch=None id='QAJl9hiN' timestamp=1749316614.02212\n",
      "content=Content(parts=[Part(video_metadata=None, thought=None, inline_data=None, file_data=None, thought_signature=None, code_execution_result=None, executable_code=None, function_call=None, function_response=None, text='Okay, I have loaded the file from GCS. The artifact key for this document is `gcsfile_statmike-mlops-349915_applied-ml-solution-prototypes_document-processing_vendor_2_fake_invoices_vendor_2_invoice_10.pdf`.\\n')], role='model') grounding_metadata=None partial=None turn_complete=None error_code=None error_message=None interrupted=None custom_metadata=None usage_metadata=GenerateContentResponseUsageMetadata(cache_tokens_details=None, cached_content_token_count=None, candidates_token_count=68, candidates_tokens_details=[ModalityTokenCount(modality=<MediaModality.TEXT: 'TEXT'>, token_count=68)], prompt_token_count=3751, prompt_tokens_details=[ModalityTokenCount(modality=<MediaModality.TEXT: 'TEXT'>, token_count=3751)], thoughts_token_count=None, tool_use_prompt_token_count=None, tool_use_prompt_tokens_details=None, total_token_count=3819, traffic_type=<TrafficType.ON_DEMAND: 'ON_DEMAND'>) invocation_id='e-989f09b7-7f2b-4bf8-afa6-8526eb7ce9cb' author='document_agent' actions=EventActions(skip_summarization=None, state_delta={}, artifact_delta={}, transfer_to_agent=None, escalate=None, requested_auth_configs={}) long_running_tool_ids=None branch=None id='aT0ueQYB' timestamp=1749316614.02341\n"
     ]
    }
   ],
   "source": [
    "for event in app.get_session(user_id = 'u_123', session_id = session.id).events:\n",
    "    print(event)"
   ]
  },
  {
   "cell_type": "code",
   "execution_count": 16,
   "id": "ad679e87",
   "metadata": {},
   "outputs": [],
   "source": [
    "app.delete_session(user_id = 'u_123', session_id = session.id)"
   ]
  },
  {
   "cell_type": "code",
   "execution_count": 17,
   "id": "ce0f3de2",
   "metadata": {},
   "outputs": [
    {
     "data": {
      "text/plain": [
       "ListSessionsResponse(sessions=[])"
      ]
     },
     "execution_count": 17,
     "metadata": {},
     "output_type": "execute_result"
    }
   ],
   "source": [
    "app.list_sessions(user_id = 'u_123')"
   ]
  },
  {
   "cell_type": "markdown",
   "id": "a4c098ab",
   "metadata": {},
   "source": [
    "more\n",
    "- create session with specified id"
   ]
  },
  {
   "cell_type": "markdown",
   "id": "3fe9c274",
   "metadata": {},
   "source": [
    "---\n",
    "## Deploy To Vertex AI Agent Engine\n",
    "\n",
    "Now that the ADK Agent has been tested locally it can be deployed to Vertex AI Agent Engine."
   ]
  },
  {
   "cell_type": "code",
   "execution_count": 18,
   "id": "68b5bb93",
   "metadata": {},
   "outputs": [
    {
     "name": "stdout",
     "output_type": "stream",
     "text": [
      "Deploying google.adk.agents.Agent as an application.\n",
      "Reading requirements from requirements='../requirements.txt'\n",
      "Read the following lines: ['absl-py==2.3.0', 'aiofiles==24.1.0', 'altair==5.5.0', 'annotated-types==0.7.0', 'anyio==4.9.0', 'asttokens==3.0.0', 'attrs==25.3.0', 'audioop-lts==0.2.1', 'Authlib==1.5.2', 'blinker==1.9.0', 'cachetools==5.5.2', 'certifi==2025.4.26', 'cffi==1.17.1', 'charset-normalizer==3.4.1', 'click==8.1.8', 'cloudpickle==3.1.1', 'comm==0.2.2', 'cryptography==44.0.2', 'db-dtypes==1.4.3', 'debugpy==1.8.14', 'decorator==5.2.1', 'deepdiff==6.7.1', 'Deprecated==1.2.18', 'docstring_parser==0.16', 'executing==2.2.0', 'fastapi==0.115.12', 'ffmpy==0.5.0', 'filelock==3.18.0', 'Flask==3.1.1', 'fsspec==2025.5.1', 'gitdb==4.0.12', 'GitPython==3.1.44', 'google-adk==1.2.1', 'google-api-core==2.24.2', 'google-api-python-client==2.169.0', 'google-auth==2.39.0', 'google-auth-httplib2==0.2.0', 'google-cloud-aiplatform==1.96.0', 'google-cloud-appengine-logging==1.6.1', 'google-cloud-audit-log==0.3.2', 'google-cloud-bigquery==3.31.0', 'google-cloud-core==2.4.3', 'google-cloud-documentai==3.5.0', 'google-cloud-logging==3.12.1', 'google-cloud-resource-manager==1.14.2', 'google-cloud-secret-manager==2.23.3', 'google-cloud-speech==2.32.0', 'google-cloud-storage==2.19.0', 'google-cloud-trace==1.16.1', 'google-crc32c==1.7.1', 'google-genai==1.19.0', 'google-resumable-media==2.7.2', 'googleapis-common-protos==1.70.0', 'gradio==5.31.0', 'gradio_client==1.10.1', 'graphviz==0.20.3', 'greenlet==3.2.1', 'groovy==0.1.2', 'grpc-google-iam-v1==0.14.2', 'grpcio==1.72.0rc1', 'grpcio-status==1.72.0rc1', 'h11==0.16.0', 'hf-xet==1.1.2', 'httpcore==1.0.9', 'httplib2==0.22.0', 'httpx==0.28.1', 'httpx-sse==0.4.0', 'huggingface-hub==0.32.2', 'idna==3.10', 'importlib_metadata==8.6.1', 'ipykernel==6.29.5', 'ipython==9.3.0', 'ipython_pygments_lexers==1.1.1', 'itsdangerous==2.2.0', 'jedi==0.19.2', 'Jinja2==3.1.6', 'jsonschema==4.24.0', 'jsonschema-specifications==2025.4.1', 'jupyter_client==8.6.3', 'jupyter_core==5.8.1', 'markdown-it-py==3.0.0', 'MarkupSafe==3.0.2', 'matplotlib-inline==0.1.7', 'mcp==1.9.3', 'mdurl==0.1.2', 'mesop==1.0.1', 'msgpack==1.1.0', 'narwhals==1.41.0', 'nest-asyncio==1.6.0', 'numpy==2.2.5', 'opentelemetry-api==1.32.1', 'opentelemetry-exporter-gcp-trace==1.9.0', 'opentelemetry-resourcedetector-gcp==1.9.0a0', 'opentelemetry-sdk==1.32.1', 'opentelemetry-semantic-conventions==0.53b1', 'ordered-set==4.1.0', 'orjson==3.10.18', 'packaging==24.2', 'pandas==2.2.3', 'parso==0.8.4', 'pexpect==4.9.0', 'pillow==11.2.1', 'platformdirs==4.3.8', 'prompt_toolkit==3.0.51', 'proto-plus==1.26.1', 'protobuf==6.30.2', 'psutil==7.0.0', 'ptyprocess==0.7.0', 'pure_eval==0.2.3', 'pyarrow==20.0.0', 'pyasn1==0.6.1', 'pyasn1_modules==0.4.2', 'pycparser==2.22', 'pydantic==2.11.4', 'pydantic-settings==2.9.1', 'pydantic_core==2.33.2', 'pydeck==0.9.1', 'pydub==0.25.1', 'Pygments==2.19.1', 'PyMuPDF==1.26.0', 'pyparsing==3.2.3', 'python-dateutil==2.9.0.post0', 'python-dotenv==1.1.0', 'python-multipart==0.0.20', 'pytz==2025.2', 'PyYAML==6.0.2', 'pyzmq==26.4.0', 'referencing==0.36.2', 'requests==2.32.3', 'rich==14.0.0', 'rpds-py==0.25.1', 'rsa==4.9.1', 'ruff==0.11.11', 'safehttpx==0.1.6', 'semantic-version==2.10.0', 'shapely==2.1.0', 'shellingham==1.5.4', 'six==1.17.0', 'smmap==5.0.2', 'sniffio==1.3.1', 'SQLAlchemy==2.0.40', 'sse-starlette==2.3.3', 'stack-data==0.6.3', 'starlette==0.46.2', 'streamlit==1.45.1', 'tabulate==0.9.0', 'tenacity==9.1.2', 'toml==0.10.2', 'tomlkit==0.13.2', 'tornado==6.5.1', 'tqdm==4.67.1', 'traitlets==5.14.3', 'typer==0.16.0', 'typing-inspection==0.4.0', 'typing_extensions==4.13.2', 'tzdata==2025.2', 'tzlocal==5.3.1', 'uritemplate==4.1.1', 'urllib3==2.4.0', 'uvicorn==0.34.2', 'watchdog==6.0.0', 'wcwidth==0.2.13', 'websockets==15.0.1', 'Werkzeug==3.1.3', 'wrapt==1.17.2', 'zipp==3.21.0']\n",
      "Identified the following requirements: {'pydantic': '2.11.4', 'google-cloud-aiplatform': '1.96.0', 'cloudpickle': '3.1.1'}\n",
      "The final list of requirements: ['absl-py==2.3.0', 'aiofiles==24.1.0', 'altair==5.5.0', 'annotated-types==0.7.0', 'anyio==4.9.0', 'asttokens==3.0.0', 'attrs==25.3.0', 'audioop-lts==0.2.1', 'Authlib==1.5.2', 'blinker==1.9.0', 'cachetools==5.5.2', 'certifi==2025.4.26', 'cffi==1.17.1', 'charset-normalizer==3.4.1', 'click==8.1.8', 'cloudpickle==3.1.1', 'comm==0.2.2', 'cryptography==44.0.2', 'db-dtypes==1.4.3', 'debugpy==1.8.14', 'decorator==5.2.1', 'deepdiff==6.7.1', 'Deprecated==1.2.18', 'docstring_parser==0.16', 'executing==2.2.0', 'fastapi==0.115.12', 'ffmpy==0.5.0', 'filelock==3.18.0', 'Flask==3.1.1', 'fsspec==2025.5.1', 'gitdb==4.0.12', 'GitPython==3.1.44', 'google-adk==1.2.1', 'google-api-core==2.24.2', 'google-api-python-client==2.169.0', 'google-auth==2.39.0', 'google-auth-httplib2==0.2.0', 'google-cloud-aiplatform==1.96.0', 'google-cloud-appengine-logging==1.6.1', 'google-cloud-audit-log==0.3.2', 'google-cloud-bigquery==3.31.0', 'google-cloud-core==2.4.3', 'google-cloud-documentai==3.5.0', 'google-cloud-logging==3.12.1', 'google-cloud-resource-manager==1.14.2', 'google-cloud-secret-manager==2.23.3', 'google-cloud-speech==2.32.0', 'google-cloud-storage==2.19.0', 'google-cloud-trace==1.16.1', 'google-crc32c==1.7.1', 'google-genai==1.19.0', 'google-resumable-media==2.7.2', 'googleapis-common-protos==1.70.0', 'gradio==5.31.0', 'gradio_client==1.10.1', 'graphviz==0.20.3', 'greenlet==3.2.1', 'groovy==0.1.2', 'grpc-google-iam-v1==0.14.2', 'grpcio==1.72.0rc1', 'grpcio-status==1.72.0rc1', 'h11==0.16.0', 'hf-xet==1.1.2', 'httpcore==1.0.9', 'httplib2==0.22.0', 'httpx==0.28.1', 'httpx-sse==0.4.0', 'huggingface-hub==0.32.2', 'idna==3.10', 'importlib_metadata==8.6.1', 'ipykernel==6.29.5', 'ipython==9.3.0', 'ipython_pygments_lexers==1.1.1', 'itsdangerous==2.2.0', 'jedi==0.19.2', 'Jinja2==3.1.6', 'jsonschema==4.24.0', 'jsonschema-specifications==2025.4.1', 'jupyter_client==8.6.3', 'jupyter_core==5.8.1', 'markdown-it-py==3.0.0', 'MarkupSafe==3.0.2', 'matplotlib-inline==0.1.7', 'mcp==1.9.3', 'mdurl==0.1.2', 'mesop==1.0.1', 'msgpack==1.1.0', 'narwhals==1.41.0', 'nest-asyncio==1.6.0', 'numpy==2.2.5', 'opentelemetry-api==1.32.1', 'opentelemetry-exporter-gcp-trace==1.9.0', 'opentelemetry-resourcedetector-gcp==1.9.0a0', 'opentelemetry-sdk==1.32.1', 'opentelemetry-semantic-conventions==0.53b1', 'ordered-set==4.1.0', 'orjson==3.10.18', 'packaging==24.2', 'pandas==2.2.3', 'parso==0.8.4', 'pexpect==4.9.0', 'pillow==11.2.1', 'platformdirs==4.3.8', 'prompt_toolkit==3.0.51', 'proto-plus==1.26.1', 'protobuf==6.30.2', 'psutil==7.0.0', 'ptyprocess==0.7.0', 'pure_eval==0.2.3', 'pyarrow==20.0.0', 'pyasn1==0.6.1', 'pyasn1_modules==0.4.2', 'pycparser==2.22', 'pydantic==2.11.4', 'pydantic-settings==2.9.1', 'pydantic_core==2.33.2', 'pydeck==0.9.1', 'pydub==0.25.1', 'Pygments==2.19.1', 'PyMuPDF==1.26.0', 'pyparsing==3.2.3', 'python-dateutil==2.9.0.post0', 'python-dotenv==1.1.0', 'python-multipart==0.0.20', 'pytz==2025.2', 'PyYAML==6.0.2', 'pyzmq==26.4.0', 'referencing==0.36.2', 'requests==2.32.3', 'rich==14.0.0', 'rpds-py==0.25.1', 'rsa==4.9.1', 'ruff==0.11.11', 'safehttpx==0.1.6', 'semantic-version==2.10.0', 'shapely==2.1.0', 'shellingham==1.5.4', 'six==1.17.0', 'smmap==5.0.2', 'sniffio==1.3.1', 'SQLAlchemy==2.0.40', 'sse-starlette==2.3.3', 'stack-data==0.6.3', 'starlette==0.46.2', 'streamlit==1.45.1', 'tabulate==0.9.0', 'tenacity==9.1.2', 'toml==0.10.2', 'tomlkit==0.13.2', 'tornado==6.5.1', 'tqdm==4.67.1', 'traitlets==5.14.3', 'typer==0.16.0', 'typing-inspection==0.4.0', 'typing_extensions==4.13.2', 'tzdata==2025.2', 'tzlocal==5.3.1', 'uritemplate==4.1.1', 'urllib3==2.4.0', 'uvicorn==0.34.2', 'watchdog==6.0.0', 'wcwidth==0.2.13', 'websockets==15.0.1', 'Werkzeug==3.1.3', 'wrapt==1.17.2', 'zipp==3.21.0']\n",
      "Using bucket statmike-mlops-349915\n",
      "Wrote to gs://statmike-mlops-349915/applied-ml-solution-prototypes/document-processing/agent_engine/staging/agent_engine.pkl\n",
      "Writing to gs://statmike-mlops-349915/applied-ml-solution-prototypes/document-processing/agent_engine/staging/requirements.txt\n",
      "Creating in-memory tarfile of extra_packages\n",
      "Writing to gs://statmike-mlops-349915/applied-ml-solution-prototypes/document-processing/agent_engine/staging/dependencies.tar.gz\n",
      "Creating AgentEngine\n",
      "Create AgentEngine backing LRO: projects/1026793852137/locations/us-central1/reasoningEngines/1988805428414251008/operations/296370438689259520\n",
      "View progress and logs at https://console.cloud.google.com/logs/query?project=statmike-mlops-349915\n",
      "AgentEngine created. Resource name: projects/1026793852137/locations/us-central1/reasoningEngines/1988805428414251008\n",
      "To use this AgentEngine in another session:\n",
      "agent_engine = vertexai.agent_engines.get('projects/1026793852137/locations/us-central1/reasoningEngines/1988805428414251008')\n"
     ]
    }
   ],
   "source": [
    "remote_app = agent_engines.create(\n",
    "    agent_engine = root_agent,\n",
    "    requirements = \"../requirements.txt\",\n",
    "    extra_packages = [\"./document_agent\"],\n",
    "    gcs_dir_name = 'applied-ml-solution-prototypes/document-processing/agent_engine/staging',\n",
    "    display_name = root_agent.name,\n",
    "    description = root_agent.description,\n",
    "    #env_vars = \n",
    ")"
   ]
  },
  {
   "cell_type": "code",
   "execution_count": 19,
   "id": "41c60493",
   "metadata": {},
   "outputs": [
    {
     "data": {
      "text/plain": [
       "'projects/1026793852137/locations/us-central1/reasoningEngines/1988805428414251008'"
      ]
     },
     "execution_count": 19,
     "metadata": {},
     "output_type": "execute_result"
    }
   ],
   "source": [
    "remote_app.resource_name"
   ]
  },
  {
   "cell_type": "code",
   "execution_count": 37,
   "id": "dade4f2c",
   "metadata": {},
   "outputs": [
    {
     "data": {
      "text/plain": [
       "(True,\n",
       " 'ADK_DEPLOY_RESOURCE_ID',\n",
       " 'projects/1026793852137/locations/us-central1/reasoningEngines/1988805428414251008')"
      ]
     },
     "execution_count": 37,
     "metadata": {},
     "output_type": "execute_result"
    }
   ],
   "source": [
    "dotenv.set_key(\n",
    "    './apps/.env', 'ADK_DEPLOY_RESOURCE_ID', remote_app.resource_name\n",
    ")"
   ]
  },
  {
   "cell_type": "code",
   "execution_count": 20,
   "id": "e69be568",
   "metadata": {},
   "outputs": [
    {
     "data": {
      "text/plain": [
       "{'id': '4622554141112139776',\n",
       " 'lastUpdateTime': 1749316979.885203,\n",
       " 'events': [],\n",
       " 'state': {},\n",
       " 'appName': '1988805428414251008',\n",
       " 'userId': 'u_123'}"
      ]
     },
     "execution_count": 20,
     "metadata": {},
     "output_type": "execute_result"
    }
   ],
   "source": [
    "remote_session = remote_app.create_session(user_id = 'u_123')\n",
    "remote_session"
   ]
  },
  {
   "cell_type": "code",
   "execution_count": 21,
   "id": "3902d333",
   "metadata": {},
   "outputs": [
    {
     "data": {
      "text/plain": [
       "{'sessions': [{'id': '4622554141112139776',\n",
       "   'events': [],\n",
       "   'lastUpdateTime': 1749316979.885203,\n",
       "   'state': {},\n",
       "   'appName': '1988805428414251008',\n",
       "   'userId': 'u_123'}]}"
      ]
     },
     "execution_count": 21,
     "metadata": {},
     "output_type": "execute_result"
    }
   ],
   "source": [
    "remote_app.list_sessions(user_id = 'u_123')"
   ]
  },
  {
   "cell_type": "code",
   "execution_count": 22,
   "id": "84f506ef",
   "metadata": {},
   "outputs": [
    {
     "data": {
      "text/plain": [
       "{'id': '4622554141112139776',\n",
       " 'lastUpdateTime': 1749316979.885203,\n",
       " 'state': {},\n",
       " 'events': [],\n",
       " 'appName': '1988805428414251008',\n",
       " 'userId': 'u_123'}"
      ]
     },
     "execution_count": 22,
     "metadata": {},
     "output_type": "execute_result"
    }
   ],
   "source": [
    "remote_session = remote_app.get_session(user_id = \"u_123\", session_id = remote_session['id'])\n",
    "remote_session"
   ]
  },
  {
   "cell_type": "code",
   "execution_count": 23,
   "id": "c6d56ef9",
   "metadata": {},
   "outputs": [
    {
     "name": "stdout",
     "output_type": "stream",
     "text": [
      "{'content': {'parts': [{'text': 'I am the primary agent for processing document-related requests. I can extract information from documents, classify them, and compare them to vendor templates. To get started, please upload a PDF or PNG file, or provide the GCS URI (bucket and path) of the document you want to process.\\n'}], 'role': 'model'}, 'usage_metadata': {'candidates_token_count': 61, 'candidates_tokens_details': [{'modality': 'TEXT', 'token_count': 61}], 'prompt_token_count': 3474, 'prompt_tokens_details': [{'modality': 'TEXT', 'token_count': 3474}], 'total_token_count': 3535, 'traffic_type': 'ON_DEMAND'}, 'invocation_id': 'e-189f42c5-c34d-4d2a-b44e-136233d8f2cf', 'author': 'document_agent', 'actions': {'state_delta': {}, 'artifact_delta': {}, 'requested_auth_configs': {}}, 'id': '7S92HXO0', 'timestamp': 1749316982.735535}\n"
     ]
    }
   ],
   "source": [
    "for event in remote_app.stream_query(\n",
    "    user_id = 'u_123',\n",
    "    session_id = remote_session['id'],\n",
    "    message = 'What do you do?'\n",
    "):\n",
    "    print(event)"
   ]
  },
  {
   "cell_type": "code",
   "execution_count": 24,
   "id": "280b0ef7",
   "metadata": {},
   "outputs": [
    {
     "name": "stdout",
     "output_type": "stream",
     "text": [
      "{'content': {'parts': [{'function_call': {'id': 'adk-6580e54f-9b12-4204-94c4-a3a8b73d5229', 'args': {'gcs_file_path': 'applied-ml-solution-prototypes/document-processing/vendor_2/fake_invoices/vendor_2_invoice_10.pdf', 'gcs_bucket': 'statmike-mlops-349915'}, 'name': 'get_gcs_file'}}], 'role': 'model'}, 'usage_metadata': {'candidates_token_count': 56, 'candidates_tokens_details': [{'modality': 'TEXT', 'token_count': 56}], 'prompt_token_count': 3585, 'prompt_tokens_details': [{'modality': 'TEXT', 'token_count': 3585}], 'total_token_count': 3641, 'traffic_type': 'ON_DEMAND'}, 'invocation_id': 'e-38cbcc96-0ba3-4539-b83b-a05a136c4ef5', 'author': 'document_agent', 'actions': {'state_delta': {}, 'artifact_delta': {}, 'requested_auth_configs': {}}, 'long_running_tool_ids': [], 'id': 'RLdg5dbO', 'timestamp': 1749316984.305393}\n",
      "{'content': {'parts': [{'function_response': {'id': 'adk-6580e54f-9b12-4204-94c4-a3a8b73d5229', 'name': 'get_gcs_file', 'response': {'result': 'The file vendor_2_invoice_10.pdf of type application/pdf and size 256029 bytes was loaded as an artifact with artifact_key = gcsfile_statmike-mlops-349915_applied-ml-solution-prototypes_document-processing_vendor_2_fake_invoices_vendor_2_invoice_10.pdf and version = 0.\\nNote that pdf files are internally converted to png images (first page).'}}}], 'role': 'user'}, 'invocation_id': 'e-38cbcc96-0ba3-4539-b83b-a05a136c4ef5', 'author': 'document_agent', 'actions': {'state_delta': {}, 'artifact_delta': {'gcsfile_statmike-mlops-349915_applied-ml-solution-prototypes_document-processing_vendor_2_fake_invoices_vendor_2_invoice_10.pdf': 0}, 'requested_auth_configs': {}}, 'id': 'sg2TjUoA', 'timestamp': 1749316985.890188}\n",
      "{'content': {'parts': [{'text': 'OK. I have loaded the file from GCS. The artifact key is `gcsfile_statmike-mlops-349915_applied-ml-solution-prototypes_document-processing_vendor_2_fake_invoices_vendor_2_invoice_10.pdf`. What would you like to do next? I can extract data, classify the document, or compare it to a vendor template.\\n'}], 'role': 'model'}, 'usage_metadata': {'candidates_token_count': 90, 'candidates_tokens_details': [{'modality': 'TEXT', 'token_count': 90}], 'prompt_token_count': 3753, 'prompt_tokens_details': [{'modality': 'TEXT', 'token_count': 3753}], 'total_token_count': 3843, 'traffic_type': 'ON_DEMAND'}, 'invocation_id': 'e-38cbcc96-0ba3-4539-b83b-a05a136c4ef5', 'author': 'document_agent', 'actions': {'state_delta': {}, 'artifact_delta': {}, 'requested_auth_configs': {}}, 'id': 'mrkGE7Iw', 'timestamp': 1749316986.057519}\n"
     ]
    }
   ],
   "source": [
    "for event in remote_app.stream_query(\n",
    "    user_id = 'u_123',\n",
    "    session_id = remote_session['id'],\n",
    "    message = 'use this file: gs://statmike-mlops-349915/applied-ml-solution-prototypes/document-processing/vendor_2/fake_invoices/vendor_2_invoice_10.pdf'\n",
    "):\n",
    "    print(event)"
   ]
  },
  {
   "cell_type": "code",
   "execution_count": 25,
   "id": "8f8b8e0b",
   "metadata": {},
   "outputs": [
    {
     "data": {
      "text/plain": [
       "{'content': {'parts': [{'text': 'OK. I have loaded the file from GCS. The artifact key is `gcsfile_statmike-mlops-349915_applied-ml-solution-prototypes_document-processing_vendor_2_fake_invoices_vendor_2_invoice_10.pdf`. What would you like to do next? I can extract data, classify the document, or compare it to a vendor template.\\n'}],\n",
       "  'role': 'model'},\n",
       " 'usage_metadata': {'candidates_token_count': 90,\n",
       "  'candidates_tokens_details': [{'modality': 'TEXT', 'token_count': 90}],\n",
       "  'prompt_token_count': 3753,\n",
       "  'prompt_tokens_details': [{'modality': 'TEXT', 'token_count': 3753}],\n",
       "  'total_token_count': 3843,\n",
       "  'traffic_type': 'ON_DEMAND'},\n",
       " 'invocation_id': 'e-38cbcc96-0ba3-4539-b83b-a05a136c4ef5',\n",
       " 'author': 'document_agent',\n",
       " 'actions': {'state_delta': {},\n",
       "  'artifact_delta': {},\n",
       "  'requested_auth_configs': {}},\n",
       " 'id': 'mrkGE7Iw',\n",
       " 'timestamp': 1749316986.057519}"
      ]
     },
     "execution_count": 25,
     "metadata": {},
     "output_type": "execute_result"
    }
   ],
   "source": [
    "event"
   ]
  },
  {
   "cell_type": "code",
   "execution_count": 26,
   "id": "59b93706",
   "metadata": {},
   "outputs": [
    {
     "data": {
      "text/plain": [
       "{'id': '4622554141112139776',\n",
       " 'state': {},\n",
       " 'lastUpdateTime': 1749316987.03254,\n",
       " 'events': [{'errorMessage': None,\n",
       "   'invocationId': 'e-189f42c5-c34d-4d2a-b44e-136233d8f2cf',\n",
       "   'partial': None,\n",
       "   'branch': None,\n",
       "   'id': '5412177212692496384',\n",
       "   'turnComplete': None,\n",
       "   'usageMetadata': None,\n",
       "   'content': {'role': 'user',\n",
       "    'parts': [{'fileData': None,\n",
       "      'thought': None,\n",
       "      'codeExecutionResult': None,\n",
       "      'inlineData': None,\n",
       "      'text': 'What do you do?',\n",
       "      'videoMetadata': None,\n",
       "      'functionResponse': None,\n",
       "      'thoughtSignature': None,\n",
       "      'executableCode': None,\n",
       "      'functionCall': None}]},\n",
       "   'groundingMetadata': None,\n",
       "   'customMetadata': None,\n",
       "   'longRunningToolIds': None,\n",
       "   'errorCode': None,\n",
       "   'timestamp': 1749316982.504812,\n",
       "   'author': 'user',\n",
       "   'interrupted': None,\n",
       "   'actions': {'artifactDelta': {},\n",
       "    'escalate': None,\n",
       "    'transferToAgent': None,\n",
       "    'skipSummarization': None,\n",
       "    'requestedAuthConfigs': {},\n",
       "    'stateDelta': {}}},\n",
       "  {'errorMessage': None,\n",
       "   'partial': None,\n",
       "   'invocationId': 'e-189f42c5-c34d-4d2a-b44e-136233d8f2cf',\n",
       "   'branch': None,\n",
       "   'id': '8681790542163476480',\n",
       "   'turnComplete': None,\n",
       "   'usageMetadata': None,\n",
       "   'content': {'role': 'model',\n",
       "    'parts': [{'fileData': None,\n",
       "      'thought': None,\n",
       "      'codeExecutionResult': None,\n",
       "      'text': 'I am the primary agent for processing document-related requests. I can extract information from documents, classify them, and compare them to vendor templates. To get started, please upload a PDF or PNG file, or provide the GCS URI (bucket and path) of the document you want to process.\\n',\n",
       "      'inlineData': None,\n",
       "      'videoMetadata': None,\n",
       "      'functionResponse': None,\n",
       "      'thoughtSignature': None,\n",
       "      'executableCode': None,\n",
       "      'functionCall': None}]},\n",
       "   'groundingMetadata': None,\n",
       "   'customMetadata': None,\n",
       "   'longRunningToolIds': None,\n",
       "   'timestamp': 1749316982.735534,\n",
       "   'errorCode': None,\n",
       "   'author': 'document_agent',\n",
       "   'interrupted': None,\n",
       "   'actions': {'artifactDelta': {},\n",
       "    'escalate': None,\n",
       "    'transferToAgent': None,\n",
       "    'skipSummarization': None,\n",
       "    'requestedAuthConfigs': {},\n",
       "    'stateDelta': {}}},\n",
       "  {'errorMessage': None,\n",
       "   'invocationId': 'e-38cbcc96-0ba3-4539-b83b-a05a136c4ef5',\n",
       "   'partial': None,\n",
       "   'branch': None,\n",
       "   'id': '1890362304088768512',\n",
       "   'turnComplete': None,\n",
       "   'usageMetadata': None,\n",
       "   'content': {'role': 'user',\n",
       "    'parts': [{'fileData': None,\n",
       "      'thought': None,\n",
       "      'codeExecutionResult': None,\n",
       "      'inlineData': None,\n",
       "      'text': 'use this file: gs://statmike-mlops-349915/applied-ml-solution-prototypes/document-processing/vendor_2/fake_invoices/vendor_2_invoice_10.pdf',\n",
       "      'videoMetadata': None,\n",
       "      'thoughtSignature': None,\n",
       "      'functionResponse': None,\n",
       "      'executableCode': None,\n",
       "      'functionCall': None}]},\n",
       "   'groundingMetadata': None,\n",
       "   'customMetadata': None,\n",
       "   'longRunningToolIds': None,\n",
       "   'timestamp': 1749316984.147711,\n",
       "   'errorCode': None,\n",
       "   'author': 'user',\n",
       "   'interrupted': None,\n",
       "   'actions': {'artifactDelta': {},\n",
       "    'escalate': None,\n",
       "    'transferToAgent': None,\n",
       "    'skipSummarization': None,\n",
       "    'requestedAuthConfigs': {},\n",
       "    'stateDelta': {}}},\n",
       "  {'errorMessage': None,\n",
       "   'partial': None,\n",
       "   'invocationId': 'e-38cbcc96-0ba3-4539-b83b-a05a136c4ef5',\n",
       "   'branch': None,\n",
       "   'id': '5186997231323971584',\n",
       "   'turnComplete': None,\n",
       "   'usageMetadata': None,\n",
       "   'content': {'role': 'model',\n",
       "    'parts': [{'fileData': None,\n",
       "      'thought': None,\n",
       "      'codeExecutionResult': None,\n",
       "      'text': None,\n",
       "      'inlineData': None,\n",
       "      'videoMetadata': None,\n",
       "      'thoughtSignature': None,\n",
       "      'functionResponse': None,\n",
       "      'executableCode': None,\n",
       "      'functionCall': {'id': 'adk-6580e54f-9b12-4204-94c4-a3a8b73d5229',\n",
       "       'args': {'gcs_bucket': 'statmike-mlops-349915',\n",
       "        'gcs_file_path': 'applied-ml-solution-prototypes/document-processing/vendor_2/fake_invoices/vendor_2_invoice_10.pdf'},\n",
       "       'name': 'get_gcs_file'}}]},\n",
       "   'groundingMetadata': None,\n",
       "   'customMetadata': None,\n",
       "   'longRunningToolIds': None,\n",
       "   'errorCode': None,\n",
       "   'timestamp': 1749316984.305392,\n",
       "   'author': 'document_agent',\n",
       "   'interrupted': None,\n",
       "   'actions': {'artifactDelta': {},\n",
       "    'escalate': None,\n",
       "    'skipSummarization': None,\n",
       "    'transferToAgent': None,\n",
       "    'requestedAuthConfigs': {},\n",
       "    'stateDelta': {}}},\n",
       "  {'interrupted': None,\n",
       "   'invocationId': 'e-38cbcc96-0ba3-4539-b83b-a05a136c4ef5',\n",
       "   'partial': None,\n",
       "   'branch': None,\n",
       "   'id': '2088520687693070336',\n",
       "   'turnComplete': None,\n",
       "   'usageMetadata': None,\n",
       "   'content': {'role': 'user',\n",
       "    'parts': [{'fileData': None,\n",
       "      'thought': None,\n",
       "      'codeExecutionResult': None,\n",
       "      'inlineData': None,\n",
       "      'text': None,\n",
       "      'videoMetadata': None,\n",
       "      'functionResponse': {'id': 'adk-6580e54f-9b12-4204-94c4-a3a8b73d5229',\n",
       "       'response': {'result': 'The file vendor_2_invoice_10.pdf of type application/pdf and size 256029 bytes was loaded as an artifact with artifact_key = gcsfile_statmike-mlops-349915_applied-ml-solution-prototypes_document-processing_vendor_2_fake_invoices_vendor_2_invoice_10.pdf and version = 0.\\nNote that pdf files are internally converted to png images (first page).'},\n",
       "       'willContinue': None,\n",
       "       'scheduling': None,\n",
       "       'name': 'get_gcs_file'},\n",
       "      'thoughtSignature': None,\n",
       "      'executableCode': None,\n",
       "      'functionCall': None}]},\n",
       "   'groundingMetadata': None,\n",
       "   'customMetadata': None,\n",
       "   'longRunningToolIds': None,\n",
       "   'errorCode': None,\n",
       "   'timestamp': 1749316985.890187,\n",
       "   'author': 'document_agent',\n",
       "   'errorMessage': None,\n",
       "   'actions': {'artifactDelta': {'gcsfile_statmike-mlops-349915_applied-ml-solution-prototypes_document-processing_vendor_2_fake_invoices_vendor_2_invoice_10.pdf': 0.0},\n",
       "    'escalate': None,\n",
       "    'skipSummarization': None,\n",
       "    'transferToAgent': None,\n",
       "    'requestedAuthConfigs': {},\n",
       "    'stateDelta': {}}},\n",
       "  {'errorMessage': None,\n",
       "   'invocationId': 'e-38cbcc96-0ba3-4539-b83b-a05a136c4ef5',\n",
       "   'partial': None,\n",
       "   'branch': None,\n",
       "   'id': '6700206706120458240',\n",
       "   'turnComplete': None,\n",
       "   'usageMetadata': None,\n",
       "   'content': {'role': 'model',\n",
       "    'parts': [{'fileData': None,\n",
       "      'thought': None,\n",
       "      'codeExecutionResult': None,\n",
       "      'text': 'OK. I have loaded the file from GCS. The artifact key is `gcsfile_statmike-mlops-349915_applied-ml-solution-prototypes_document-processing_vendor_2_fake_invoices_vendor_2_invoice_10.pdf`. What would you like to do next? I can extract data, classify the document, or compare it to a vendor template.\\n',\n",
       "      'inlineData': None,\n",
       "      'videoMetadata': None,\n",
       "      'functionResponse': None,\n",
       "      'thoughtSignature': None,\n",
       "      'executableCode': None,\n",
       "      'functionCall': None}]},\n",
       "   'groundingMetadata': None,\n",
       "   'customMetadata': None,\n",
       "   'longRunningToolIds': None,\n",
       "   'errorCode': None,\n",
       "   'timestamp': 1749316986.057518,\n",
       "   'author': 'document_agent',\n",
       "   'interrupted': None,\n",
       "   'actions': {'artifactDelta': {},\n",
       "    'escalate': None,\n",
       "    'skipSummarization': None,\n",
       "    'transferToAgent': None,\n",
       "    'requestedAuthConfigs': {},\n",
       "    'stateDelta': {}}}],\n",
       " 'appName': '1988805428414251008',\n",
       " 'userId': 'u_123'}"
      ]
     },
     "execution_count": 26,
     "metadata": {},
     "output_type": "execute_result"
    }
   ],
   "source": [
    "remote_app.get_session(user_id = 'u_123', session_id = remote_session['id'])"
   ]
  },
  {
   "cell_type": "code",
   "execution_count": 27,
   "id": "9963c4fb",
   "metadata": {},
   "outputs": [
    {
     "name": "stdout",
     "output_type": "stream",
     "text": [
      "{'interrupted': None, 'invocationId': 'e-189f42c5-c34d-4d2a-b44e-136233d8f2cf', 'partial': None, 'branch': None, 'id': '5412177212692496384', 'turnComplete': None, 'usageMetadata': None, 'content': {'role': 'user', 'parts': [{'fileData': None, 'thought': None, 'codeExecutionResult': None, 'inlineData': None, 'text': 'What do you do?', 'videoMetadata': None, 'thoughtSignature': None, 'functionResponse': None, 'executableCode': None, 'functionCall': None}]}, 'groundingMetadata': None, 'customMetadata': None, 'longRunningToolIds': None, 'errorCode': None, 'timestamp': 1749316982.504812, 'author': 'user', 'errorMessage': None, 'actions': {'artifactDelta': {}, 'escalate': None, 'skipSummarization': None, 'transferToAgent': None, 'requestedAuthConfigs': {}, 'stateDelta': {}}}\n",
      "{'errorMessage': None, 'invocationId': 'e-189f42c5-c34d-4d2a-b44e-136233d8f2cf', 'partial': None, 'branch': None, 'id': '8681790542163476480', 'turnComplete': None, 'usageMetadata': None, 'content': {'role': 'model', 'parts': [{'fileData': None, 'thought': None, 'codeExecutionResult': None, 'text': 'I am the primary agent for processing document-related requests. I can extract information from documents, classify them, and compare them to vendor templates. To get started, please upload a PDF or PNG file, or provide the GCS URI (bucket and path) of the document you want to process.\\n', 'inlineData': None, 'videoMetadata': None, 'thoughtSignature': None, 'functionResponse': None, 'executableCode': None, 'functionCall': None}]}, 'groundingMetadata': None, 'customMetadata': None, 'longRunningToolIds': None, 'errorCode': None, 'timestamp': 1749316982.735534, 'author': 'document_agent', 'interrupted': None, 'actions': {'artifactDelta': {}, 'escalate': None, 'transferToAgent': None, 'skipSummarization': None, 'requestedAuthConfigs': {}, 'stateDelta': {}}}\n",
      "{'interrupted': None, 'partial': None, 'invocationId': 'e-38cbcc96-0ba3-4539-b83b-a05a136c4ef5', 'branch': None, 'id': '1890362304088768512', 'turnComplete': None, 'usageMetadata': None, 'content': {'role': 'user', 'parts': [{'fileData': None, 'thought': None, 'codeExecutionResult': None, 'text': 'use this file: gs://statmike-mlops-349915/applied-ml-solution-prototypes/document-processing/vendor_2/fake_invoices/vendor_2_invoice_10.pdf', 'inlineData': None, 'videoMetadata': None, 'thoughtSignature': None, 'functionResponse': None, 'executableCode': None, 'functionCall': None}]}, 'groundingMetadata': None, 'customMetadata': None, 'longRunningToolIds': None, 'errorCode': None, 'timestamp': 1749316984.147711, 'author': 'user', 'errorMessage': None, 'actions': {'artifactDelta': {}, 'escalate': None, 'transferToAgent': None, 'skipSummarization': None, 'requestedAuthConfigs': {}, 'stateDelta': {}}}\n",
      "{'errorMessage': None, 'partial': None, 'invocationId': 'e-38cbcc96-0ba3-4539-b83b-a05a136c4ef5', 'branch': None, 'id': '5186997231323971584', 'turnComplete': None, 'usageMetadata': None, 'content': {'role': 'model', 'parts': [{'fileData': None, 'thought': None, 'codeExecutionResult': None, 'text': None, 'inlineData': None, 'videoMetadata': None, 'thoughtSignature': None, 'functionResponse': None, 'executableCode': None, 'functionCall': {'id': 'adk-6580e54f-9b12-4204-94c4-a3a8b73d5229', 'args': {'gcs_bucket': 'statmike-mlops-349915', 'gcs_file_path': 'applied-ml-solution-prototypes/document-processing/vendor_2/fake_invoices/vendor_2_invoice_10.pdf'}, 'name': 'get_gcs_file'}}]}, 'groundingMetadata': None, 'customMetadata': None, 'longRunningToolIds': None, 'errorCode': None, 'timestamp': 1749316984.305392, 'author': 'document_agent', 'interrupted': None, 'actions': {'artifactDelta': {}, 'escalate': None, 'transferToAgent': None, 'skipSummarization': None, 'requestedAuthConfigs': {}, 'stateDelta': {}}}\n",
      "{'errorMessage': None, 'invocationId': 'e-38cbcc96-0ba3-4539-b83b-a05a136c4ef5', 'partial': None, 'branch': None, 'id': '2088520687693070336', 'turnComplete': None, 'usageMetadata': None, 'content': {'role': 'user', 'parts': [{'fileData': None, 'thought': None, 'codeExecutionResult': None, 'inlineData': None, 'text': None, 'videoMetadata': None, 'functionResponse': {'id': 'adk-6580e54f-9b12-4204-94c4-a3a8b73d5229', 'response': {'result': 'The file vendor_2_invoice_10.pdf of type application/pdf and size 256029 bytes was loaded as an artifact with artifact_key = gcsfile_statmike-mlops-349915_applied-ml-solution-prototypes_document-processing_vendor_2_fake_invoices_vendor_2_invoice_10.pdf and version = 0.\\nNote that pdf files are internally converted to png images (first page).'}, 'willContinue': None, 'scheduling': None, 'name': 'get_gcs_file'}, 'thoughtSignature': None, 'executableCode': None, 'functionCall': None}]}, 'groundingMetadata': None, 'customMetadata': None, 'longRunningToolIds': None, 'errorCode': None, 'timestamp': 1749316985.890187, 'author': 'document_agent', 'interrupted': None, 'actions': {'artifactDelta': {'gcsfile_statmike-mlops-349915_applied-ml-solution-prototypes_document-processing_vendor_2_fake_invoices_vendor_2_invoice_10.pdf': 0.0}, 'escalate': None, 'transferToAgent': None, 'skipSummarization': None, 'requestedAuthConfigs': {}, 'stateDelta': {}}}\n",
      "{'errorMessage': None, 'invocationId': 'e-38cbcc96-0ba3-4539-b83b-a05a136c4ef5', 'partial': None, 'branch': None, 'id': '6700206706120458240', 'turnComplete': None, 'usageMetadata': None, 'content': {'role': 'model', 'parts': [{'fileData': None, 'thought': None, 'codeExecutionResult': None, 'inlineData': None, 'text': 'OK. I have loaded the file from GCS. The artifact key is `gcsfile_statmike-mlops-349915_applied-ml-solution-prototypes_document-processing_vendor_2_fake_invoices_vendor_2_invoice_10.pdf`. What would you like to do next? I can extract data, classify the document, or compare it to a vendor template.\\n', 'videoMetadata': None, 'thoughtSignature': None, 'functionResponse': None, 'executableCode': None, 'functionCall': None}]}, 'groundingMetadata': None, 'customMetadata': None, 'longRunningToolIds': None, 'errorCode': None, 'timestamp': 1749316986.057518, 'author': 'document_agent', 'interrupted': None, 'actions': {'artifactDelta': {}, 'escalate': None, 'transferToAgent': None, 'skipSummarization': None, 'requestedAuthConfigs': {}, 'stateDelta': {}}}\n"
     ]
    }
   ],
   "source": [
    "for event in remote_app.get_session(user_id = 'u_123', session_id = remote_session['id'])['events']:\n",
    "    print(event)"
   ]
  },
  {
   "cell_type": "code",
   "execution_count": 28,
   "id": "7ff016b0",
   "metadata": {},
   "outputs": [],
   "source": [
    "remote_app.delete_session(user_id = 'u_123', session_id = remote_session['id'])"
   ]
  },
  {
   "cell_type": "code",
   "execution_count": 29,
   "id": "aa62b654",
   "metadata": {},
   "outputs": [
    {
     "data": {
      "text/plain": [
       "{'sessions': []}"
      ]
     },
     "execution_count": 29,
     "metadata": {},
     "output_type": "execute_result"
    }
   ],
   "source": [
    "remote_app.list_sessions(user_id = 'u_123')"
   ]
  },
  {
   "cell_type": "code",
   "execution_count": 30,
   "id": "00f9fdd7",
   "metadata": {},
   "outputs": [],
   "source": [
    "delete_app = False\n",
    "\n",
    "if delete_app and remote_app:\n",
    "    task = remote_app.delete(force = True)"
   ]
  },
  {
   "cell_type": "markdown",
   "id": "96e5c92b",
   "metadata": {},
   "source": [
    "more\n",
    "- create session with specified id"
   ]
  }
 ],
 "metadata": {
  "kernelspec": {
   "display_name": ".venv",
   "language": "python",
   "name": "python3"
  },
  "language_info": {
   "codemirror_mode": {
    "name": "ipython",
    "version": 3
   },
   "file_extension": ".py",
   "mimetype": "text/x-python",
   "name": "python",
   "nbconvert_exporter": "python",
   "pygments_lexer": "ipython3",
   "version": "3.13.3"
  }
 },
 "nbformat": 4,
 "nbformat_minor": 5
}
