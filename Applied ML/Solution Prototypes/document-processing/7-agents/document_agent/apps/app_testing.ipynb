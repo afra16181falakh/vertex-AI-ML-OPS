{
 "cells": [
  {
   "cell_type": "markdown",
   "id": "4e6a9165",
   "metadata": {},
   "source": [
    "![tracker](https://us-central1-vertex-ai-mlops-369716.cloudfunctions.net/pixel-tracking?path=statmike%2Fvertex-ai-mlops%2FApplied+ML%2FSolution+Prototypes%2Fdocument-processing%2F7-agents%2Fdocument_agent%2Fapps&file=app_testing.ipynb)\n",
    "<!--- header table --->\n",
    "<table align=\"left\">\n",
    "<tr>\n",
    "  <td style=\"text-align: center\">\n",
    "    <a href=\"https://github.com/statmike/vertex-ai-mlops/blob/main/Applied%20ML/Solution%20Prototypes/document-processing/7-agents/document_agent/apps/app_testing.ipynb\">\n",
    "      <img width=\"32px\" src=\"https://www.svgrepo.com/download/217753/github.svg\" alt=\"GitHub logo\">\n",
    "      <br>View on<br>GitHub\n",
    "    </a>\n",
    "  </td>\n",
    "  <td style=\"text-align: center\">\n",
    "    <a href=\"https://colab.research.google.com/github/statmike/vertex-ai-mlops/blob/main/Applied%20ML/Solution%20Prototypes/document-processing/7-agents/document_agent/apps/app_testing.ipynb\">\n",
    "      <img width=\"32px\" src=\"https://www.gstatic.com/pantheon/images/bigquery/welcome_page/colab-logo.svg\" alt=\"Google Colaboratory logo\">\n",
    "      <br>Run in<br>Colab\n",
    "    </a>\n",
    "  </td>\n",
    "  <td style=\"text-align: center\">\n",
    "    <a href=\"https://console.cloud.google.com/vertex-ai/colab/import/https%3A%2F%2Fraw.githubusercontent.com%2Fstatmike%2Fvertex-ai-mlops%2Fmain%2FApplied%2520ML%2FSolution%2520Prototypes%2Fdocument-processing%2F7-agents%2Fdocument_agent%2Fapps%2Fapp_testing.ipynb\">\n",
    "      <img width=\"32px\" src=\"https://lh3.googleusercontent.com/JmcxdQi-qOpctIvWKgPtrzZdJJK-J3sWE1RsfjZNwshCFgE_9fULcNpuXYTilIR2hjwN\" alt=\"Google Cloud Colab Enterprise logo\">\n",
    "      <br>Run in<br>Colab Enterprise\n",
    "    </a>\n",
    "  </td>      \n",
    "  <td style=\"text-align: center\">\n",
    "    <a href=\"https://console.cloud.google.com/bigquery/import?url=https://github.com/statmike/vertex-ai-mlops/blob/main/Applied%20ML/Solution%20Prototypes/document-processing/7-agents/document_agent/apps/app_testing.ipynb\">\n",
    "      <img width=\"32px\" src=\"https://www.gstatic.com/images/branding/gcpiconscolors/bigquery/v1/32px.svg\" alt=\"BigQuery logo\">\n",
    "      <br>Open in<br>BigQuery Studio\n",
    "    </a>\n",
    "  </td>\n",
    "  <td style=\"text-align: center\">\n",
    "    <a href=\"https://console.cloud.google.com/vertex-ai/workbench/deploy-notebook?download_url=https://raw.githubusercontent.com/statmike/vertex-ai-mlops/main/Applied%20ML/Solution%20Prototypes/document-processing/7-agents/document_agent/apps/app_testing.ipynb\">\n",
    "      <img width=\"32px\" src=\"https://www.gstatic.com/images/branding/gcpiconscolors/vertexai/v1/32px.svg\" alt=\"Vertex AI logo\">\n",
    "      <br>Open in<br>Vertex AI Workbench\n",
    "    </a>\n",
    "  </td>\n",
    "</tr>\n",
    "<tr>\n",
    "  <td colspan=\"5\" style=\"text-align: right\">\n",
    "    <b>Share This On: </b> \n",
    "    <a href=\"https://www.linkedin.com/sharing/share-offsite/?url=https%3A//github.com/statmike/vertex-ai-mlops/blob/main/Applied%20ML/Solution%20Prototypes/document-processing/7-agents/document_agent/apps/app_testing.ipynb\"><img src=\"https://upload.wikimedia.org/wikipedia/commons/8/81/LinkedIn_icon.svg\" alt=\"Linkedin Logo\" width=\"20px\"></a> \n",
    "    <a href=\"https://reddit.com/submit?url=https%3A//github.com/statmike/vertex-ai-mlops/blob/main/Applied%20ML/Solution%20Prototypes/document-processing/7-agents/document_agent/apps/app_testing.ipynb\"><img src=\"https://redditinc.com/hubfs/Reddit%20Inc/Brand/Reddit_Logo.png\" alt=\"Reddit Logo\" width=\"20px\"></a> \n",
    "    <a href=\"https://bsky.app/intent/compose?text=https%3A//github.com/statmike/vertex-ai-mlops/blob/main/Applied%20ML/Solution%20Prototypes/document-processing/7-agents/document_agent/apps/app_testing.ipynb\"><img src=\"https://upload.wikimedia.org/wikipedia/commons/7/7a/Bluesky_Logo.svg\" alt=\"BlueSky Logo\" width=\"20px\"></a> \n",
    "    <a href=\"https://twitter.com/intent/tweet?url=https%3A//github.com/statmike/vertex-ai-mlops/blob/main/Applied%20ML/Solution%20Prototypes/document-processing/7-agents/document_agent/apps/app_testing.ipynb\"><img src=\"https://upload.wikimedia.org/wikipedia/commons/5/5a/X_icon_2.svg\" alt=\"X (Twitter) Logo\" width=\"20px\"></a> \n",
    "  </td>\n",
    "</tr>\n",
    "<tr>\n",
    "  <td colspan=\"5\" style=\"text-align: right\">\n",
    "    <b>Connect With Author On: </b> \n",
    "    <a href=\"https://www.linkedin.com/in/statmike\"><img src=\"https://upload.wikimedia.org/wikipedia/commons/8/81/LinkedIn_icon.svg\" alt=\"Linkedin Logo\" width=\"20px\"></a>\n",
    "    <a href=\"https://www.github.com/statmike\"><img src=\"https://www.svgrepo.com/download/217753/github.svg\" alt=\"GitHub Logo\" width=\"20px\"></a> \n",
    "    <a href=\"https://www.youtube.com/@statmike-channel\"><img src=\"https://upload.wikimedia.org/wikipedia/commons/f/fd/YouTube_full-color_icon_%282024%29.svg\" alt=\"YouTube Logo\" width=\"20px\"></a>\n",
    "    <a href=\"https://bsky.app/profile/statmike.bsky.social\"><img src=\"https://upload.wikimedia.org/wikipedia/commons/7/7a/Bluesky_Logo.svg\" alt=\"BlueSky Logo\" width=\"20px\"></a> \n",
    "    <a href=\"https://x.com/statmike\"><img src=\"https://upload.wikimedia.org/wikipedia/commons/5/5a/X_icon_2.svg\" alt=\"X (Twitter) Logo\" width=\"20px\"></a>\n",
    "  </td>\n",
    "</tr>\n",
    "</table>"
   ]
  },
  {
   "cell_type": "markdown",
   "id": "659c6ec5",
   "metadata": {},
   "source": [
    "# REST Interact With `adk web`\n",
    "\n",
    "Make sure you have started `adk web` locally."
   ]
  },
  {
   "cell_type": "code",
   "execution_count": 1,
   "id": "bd566eb5",
   "metadata": {},
   "outputs": [
    {
     "name": "stdout",
     "output_type": "stream",
     "text": [
      "/home/statmike/repos/vertex-ai-mlops/Applied ML/Solution Prototypes/document-processing/7-agents/.venv/bin/python\n"
     ]
    }
   ],
   "source": [
    "!which python"
   ]
  },
  {
   "cell_type": "code",
   "execution_count": 18,
   "id": "379d90ef",
   "metadata": {},
   "outputs": [],
   "source": [
    "import requests\n",
    "import json"
   ]
  },
  {
   "cell_type": "code",
   "execution_count": 4,
   "id": "64afa529",
   "metadata": {},
   "outputs": [],
   "source": [
    "ADK_SESSION_CREATE_URL = \"http://localhost:8000/apps/document_agent/users/user/sessions\"\n",
    "ADK_RUN_SSE_URL = \"http://localhost:8000/run_sse\"\n",
    "ADK_RUN_URL = \"http://localhost:8000/run\""
   ]
  },
  {
   "cell_type": "code",
   "execution_count": 5,
   "id": "566aa521",
   "metadata": {},
   "outputs": [
    {
     "data": {
      "text/plain": [
       "('http://localhost:8000/apps/document_agent/users/user/sessions',\n",
       " 'http://localhost:8000/run_sse',\n",
       " 'http://localhost:8000/run')"
      ]
     },
     "execution_count": 5,
     "metadata": {},
     "output_type": "execute_result"
    }
   ],
   "source": [
    "ADK_SESSION_CREATE_URL, ADK_RUN_SSE_URL, ADK_RUN_URL"
   ]
  },
  {
   "cell_type": "markdown",
   "id": "ac4aa60e",
   "metadata": {},
   "source": [
    "## Get A Session"
   ]
  },
  {
   "cell_type": "code",
   "execution_count": 6,
   "id": "9b3eb6d0",
   "metadata": {},
   "outputs": [],
   "source": [
    "# override for testing\n",
    "ADK_SESSION_CREATE_URL = 'http://localhost:8000/apps'"
   ]
  },
  {
   "cell_type": "code",
   "execution_count": 7,
   "id": "16bcba1a",
   "metadata": {},
   "outputs": [],
   "source": [
    "agent_name = 'document_agent'\n",
    "user_id = 'u_123'\n",
    "session_id = 's_123'"
   ]
  },
  {
   "cell_type": "code",
   "execution_count": 8,
   "id": "1cca8a07",
   "metadata": {},
   "outputs": [
    {
     "data": {
      "text/plain": [
       "'http://localhost:8000/apps/document_agent/users/u_123/sessions/s_123'"
      ]
     },
     "execution_count": 8,
     "metadata": {},
     "output_type": "execute_result"
    }
   ],
   "source": [
    "ADK_SESSION_URL = f\"{ADK_SESSION_CREATE_URL}/{agent_name}/users/{user_id}/sessions/{session_id}\"\n",
    "ADK_SESSION_URL"
   ]
  },
  {
   "cell_type": "code",
   "execution_count": 9,
   "id": "5d768f66",
   "metadata": {},
   "outputs": [
    {
     "data": {
      "text/plain": [
       "{'id': 's_123',\n",
       " 'appName': 'document_agent',\n",
       " 'userId': 'u_123',\n",
       " 'state': {},\n",
       " 'events': [],\n",
       " 'lastUpdateTime': 1749657508.9713526}"
      ]
     },
     "execution_count": 9,
     "metadata": {},
     "output_type": "execute_result"
    }
   ],
   "source": [
    "session_payload = {}\n",
    "response = requests.post(ADK_SESSION_URL, json=session_payload, timeout=30)\n",
    "response.raise_for_status()  # Will raise an exception for HTTP errors\n",
    "response_data = response.json()\n",
    "response_data"
   ]
  },
  {
   "cell_type": "code",
   "execution_count": 10,
   "id": "22ca17b2",
   "metadata": {},
   "outputs": [
    {
     "data": {
      "text/plain": [
       "'s_123'"
      ]
     },
     "execution_count": 10,
     "metadata": {},
     "output_type": "execute_result"
    }
   ],
   "source": [
    "SERVER_SESSION_ID = response_data['id']\n",
    "SERVER_SESSION_ID"
   ]
  },
  {
   "cell_type": "markdown",
   "id": "982d24de",
   "metadata": {},
   "source": [
    "## Interact With Session"
   ]
  },
  {
   "cell_type": "code",
   "execution_count": 11,
   "id": "51f0eae2",
   "metadata": {},
   "outputs": [],
   "source": [
    "message_parts = []\n",
    "init_message = {'text': 'Hello'}\n",
    "message_parts.append(init_message)"
   ]
  },
  {
   "cell_type": "code",
   "execution_count": 12,
   "id": "e891d015",
   "metadata": {},
   "outputs": [],
   "source": [
    "payload = {\n",
    "    \"appName\": agent_name,\n",
    "    \"userId\": user_id, \n",
    "    \"sessionId\": SERVER_SESSION_ID, \n",
    "    \"newMessage\": {\n",
    "        \"role\": \"user\",\n",
    "        \"parts\": message_parts\n",
    "    },\n",
    "    \"streaming\": False \n",
    "}"
   ]
  },
  {
   "cell_type": "code",
   "execution_count": 13,
   "id": "901f64d5",
   "metadata": {},
   "outputs": [
    {
     "data": {
      "text/plain": [
       "[{'content': {'parts': [{'text': 'Hello! To start, please upload a PDF or PNG file, or provide the GCS URI (bucket and path) of the document you would like to process.\\n'}],\n",
       "   'role': 'model'},\n",
       "  'usageMetadata': {'candidatesTokenCount': 34,\n",
       "   'candidatesTokensDetails': [{'modality': 'TEXT', 'tokenCount': 34}],\n",
       "   'promptTokenCount': 3470,\n",
       "   'promptTokensDetails': [{'modality': 'TEXT', 'tokenCount': 3470}],\n",
       "   'totalTokenCount': 3504,\n",
       "   'trafficType': 'ON_DEMAND'},\n",
       "  'invocationId': 'e-ba26d420-7883-4736-93be-9156a93bd9f2',\n",
       "  'author': 'document_agent',\n",
       "  'actions': {'stateDelta': {},\n",
       "   'artifactDelta': {},\n",
       "   'requestedAuthConfigs': {}},\n",
       "  'id': 'xp2iFSq9',\n",
       "  'timestamp': 1749657533.962014}]"
      ]
     },
     "execution_count": 13,
     "metadata": {},
     "output_type": "execute_result"
    }
   ],
   "source": [
    "response = requests.post(ADK_RUN_URL, json=payload, timeout=180)\n",
    "response.raise_for_status()\n",
    "response_data = response.json()\n",
    "response_data"
   ]
  },
  {
   "cell_type": "code",
   "execution_count": 14,
   "id": "4bd82bb0",
   "metadata": {},
   "outputs": [
    {
     "data": {
      "text/plain": [
       "'Hello! To start, please upload a PDF or PNG file, or provide the GCS URI (bucket and path) of the document you would like to process.\\n'"
      ]
     },
     "execution_count": 14,
     "metadata": {},
     "output_type": "execute_result"
    }
   ],
   "source": [
    "def parse_response(response_data):\n",
    "    final_text = \"Error: No final response from assistant found.\"\n",
    "    if isinstance(response_data, list):\n",
    "        for message in reversed(response_data):\n",
    "            content = message.get('content', {})\n",
    "            if isinstance(content, dict) and content.get(\"role\") == \"model\":\n",
    "                parts = content.get('parts', [])\n",
    "                if parts and isinstance(parts, list):\n",
    "                    first_part = parts[0]\n",
    "                    if isinstance(first_part, dict):\n",
    "                        text_part = first_part.get(\"text\")\n",
    "                        if text_part:\n",
    "                            final_text = text_part\n",
    "                        else:\n",
    "                            final_text = f\"Agent returned a structured response: `{json.dumps(first_part)}`\"\n",
    "                    else:\n",
    "                        final_text = f\"Agent returned an unknown part: `{str(first_part)}`\"\n",
    "                    break\n",
    "    return final_text\n",
    "\n",
    "parse_response(response_data)"
   ]
  },
  {
   "cell_type": "markdown",
   "id": "96425284",
   "metadata": {},
   "source": [
    "## Add To Interaction"
   ]
  },
  {
   "cell_type": "code",
   "execution_count": 78,
   "id": "e1011bc7",
   "metadata": {},
   "outputs": [],
   "source": [
    "message_parts = []\n",
    "init_message = {'text': 'use this file: gs://statmike-mlops-349915/applied-ml-solution-prototypes/document-processing/vendor_5/fake_invoices/vendor_5_invoice_10.pdf'}\n",
    "message_parts.append(init_message)\n",
    "\n",
    "payload = {\n",
    "    \"appName\": agent_name,\n",
    "    \"userId\": user_id, \n",
    "    \"sessionId\": SERVER_SESSION_ID, \n",
    "    \"newMessage\": {\n",
    "        \"role\": \"user\",\n",
    "        \"parts\": message_parts\n",
    "    },\n",
    "    \"streaming\": False \n",
    "}"
   ]
  },
  {
   "cell_type": "code",
   "execution_count": 79,
   "id": "35faa53e",
   "metadata": {},
   "outputs": [],
   "source": [
    "response = requests.post(ADK_RUN_SSE_URL, json=payload, timeout=180, stream = True)\n",
    "response.raise_for_status()"
   ]
  },
  {
   "cell_type": "code",
   "execution_count": 81,
   "id": "510dab03",
   "metadata": {},
   "outputs": [],
   "source": [
    "for line in response.iter_lines(decode_unicode = True):\n",
    "    if line:\n",
    "        event = json.loads(line.split(':', 1)[1])\n",
    "        if type(event) == list:\n",
    "            for message in event:\n",
    "                final_text = message.get(\"content\", {}).get(\"parts\", [{}])[0].get(\"text\")\n",
    "        else:\n",
    "            final_text = event.get('content').get('parts')[0].get('text')"
   ]
  },
  {
   "cell_type": "code",
   "execution_count": 82,
   "id": "60142ba2",
   "metadata": {},
   "outputs": [
    {
     "data": {
      "text/plain": [
       "'I have already loaded the file located at `gs://statmike-mlops-349915/applied-ml-solution-prototypes/document-processing/vendor_5/fake_invoices/vendor_5_invoice_10.pdf`. Its artifact key is `gcsfile_statmike-mlops-349915_applied-ml-solution-prototypes_document-processing_vendor_5_fake_invoices_vendor_5_invoice_10.pdf`.\\n\\nPlease tell me what you would like to do with the loaded file. I can perform extraction, classification, or comparison.\\n'"
      ]
     },
     "execution_count": 82,
     "metadata": {},
     "output_type": "execute_result"
    }
   ],
   "source": [
    "final_text"
   ]
  },
  {
   "cell_type": "code",
   "execution_count": 83,
   "id": "733c49c9",
   "metadata": {},
   "outputs": [
    {
     "data": {
      "text/plain": [
       "'data: {\"content\":{\"parts\":[{\"text\":\"I have loaded the file located at `gs://statmike-mlops-349915/applied-ml-solution-prototypes/document-processing/vendor_5/fake_invoices/vendor_5_invoice_10.pdf`. The artifact key is `gcsfile_statmike-mlops-349915_applied-ml-solution-prototypes_document-processing_vendor_5_fake_invoices_vendor_5_invoice_10.pdf`.\\\\n\\\\nTo proceed, please tell me what you would like to do with the loaded document. I can perform one of the following actions:\\\\n\\\\n*   **Extraction:** Extract text and structure from the document.\\\\n*   **Classification:** Classify the document based on its content.\\\\n*   **Comparison:** Compare the document to a vendor template (requires classification first).\\\\n\\\\nPlease let me know your choice.\\\\n\"}],\"role\":\"model\"},\"usageMetadata\":{\"candidatesTokenCount\":191,\"candidatesTokensDetails\":[{\"modality\":\"TEXT\",\"tokenCount\":191}],\"promptTokenCount\":6099,\"promptTokensDetails\":[{\"modality\":\"TEXT\",\"tokenCount\":6099}],\"totalTokenCount\":6290,\"trafficType\":\"ON_DEMAND\"},\"invocationId\":\"e-8c10ef78-47c5-492f-bd02-892737b43ff1\",\"author\":\"document_agent\",\"actions\":{\"stateDelta\":{},\"artifactDelta\":{},\"requestedAuthConfigs\":{}},\"id\":\"9V7NIbjH\",\"timestamp\":1749659779.238226}'"
      ]
     },
     "execution_count": 83,
     "metadata": {},
     "output_type": "execute_result"
    }
   ],
   "source": [
    "line"
   ]
  },
  {
   "cell_type": "code",
   "execution_count": 84,
   "id": "bb812b38",
   "metadata": {},
   "outputs": [
    {
     "data": {
      "text/plain": [
       "7"
      ]
     },
     "execution_count": 84,
     "metadata": {},
     "output_type": "execute_result"
    }
   ],
   "source": [
    "len(event)"
   ]
  },
  {
   "cell_type": "markdown",
   "id": "c7326477",
   "metadata": {},
   "source": [
    "## Fetch A Session"
   ]
  },
  {
   "cell_type": "code",
   "execution_count": 16,
   "id": "765d9c55",
   "metadata": {},
   "outputs": [
    {
     "data": {
      "text/plain": [
       "{'id': 's_123',\n",
       " 'appName': 'document_agent',\n",
       " 'userId': 'u_123',\n",
       " 'state': {},\n",
       " 'events': [{'content': {'parts': [{'text': 'Hello'}], 'role': 'user'},\n",
       "   'invocationId': 'e-ac430462-e524-452a-9d5c-a50cd11b0b78',\n",
       "   'author': 'user',\n",
       "   'actions': {'stateDelta': {},\n",
       "    'artifactDelta': {},\n",
       "    'requestedAuthConfigs': {}},\n",
       "   'id': 'ogFZi3nX',\n",
       "   'timestamp': 1749237747.117274},\n",
       "  {'content': {'parts': [{'text': 'Hello! To get started, please upload a PDF or PNG file, or provide the GCS URI (bucket and path) for the document you would like me to process.\\n'}],\n",
       "    'role': 'model'},\n",
       "   'usageMetadata': {'candidatesTokenCount': 36,\n",
       "    'candidatesTokensDetails': [{'modality': 'TEXT', 'tokenCount': 36}],\n",
       "    'promptTokenCount': 3470,\n",
       "    'promptTokensDetails': [{'modality': 'TEXT', 'tokenCount': 3470}],\n",
       "    'totalTokenCount': 3506,\n",
       "    'trafficType': 'ON_DEMAND'},\n",
       "   'invocationId': 'e-ac430462-e524-452a-9d5c-a50cd11b0b78',\n",
       "   'author': 'document_agent',\n",
       "   'actions': {'stateDelta': {},\n",
       "    'artifactDelta': {},\n",
       "    'requestedAuthConfigs': {}},\n",
       "   'id': 'trPprm4w',\n",
       "   'timestamp': 1749237747.11849},\n",
       "  {'content': {'parts': [{'text': 'use this file: gs://statmike-mlops-349915/applied-ml-solution-prototypes/document-processing/vendor_2/fake_invoices/vendor_2_invoice_10.pdf'}],\n",
       "    'role': 'user'},\n",
       "   'invocationId': 'e-0257ac2a-944b-4fbf-8b96-7148c3853f1b',\n",
       "   'author': 'user',\n",
       "   'actions': {'stateDelta': {},\n",
       "    'artifactDelta': {},\n",
       "    'requestedAuthConfigs': {}},\n",
       "   'id': 'l0giu1sq',\n",
       "   'timestamp': 1749237760.737074},\n",
       "  {'content': {'parts': [{'functionCall': {'id': 'adk-12ec97b3-1dcc-44d3-b06d-a2fe9b6cdf49',\n",
       "       'args': {'gcs_file_path': 'applied-ml-solution-prototypes/document-processing/vendor_2/fake_invoices/vendor_2_invoice_10.pdf',\n",
       "        'gcs_bucket': 'statmike-mlops-349915'},\n",
       "       'name': 'get_gcs_file'}}],\n",
       "    'role': 'model'},\n",
       "   'usageMetadata': {'candidatesTokenCount': 56,\n",
       "    'candidatesTokensDetails': [{'modality': 'TEXT', 'tokenCount': 56}],\n",
       "    'promptTokenCount': 3556,\n",
       "    'promptTokensDetails': [{'modality': 'TEXT', 'tokenCount': 3556}],\n",
       "    'totalTokenCount': 3612,\n",
       "    'trafficType': 'ON_DEMAND'},\n",
       "   'invocationId': 'e-0257ac2a-944b-4fbf-8b96-7148c3853f1b',\n",
       "   'author': 'document_agent',\n",
       "   'actions': {'stateDelta': {},\n",
       "    'artifactDelta': {},\n",
       "    'requestedAuthConfigs': {}},\n",
       "   'longRunningToolIds': [],\n",
       "   'id': 'YqmjDmRF',\n",
       "   'timestamp': 1749237760.738788},\n",
       "  {'content': {'parts': [{'functionResponse': {'id': 'adk-12ec97b3-1dcc-44d3-b06d-a2fe9b6cdf49',\n",
       "       'name': 'get_gcs_file',\n",
       "       'response': {'result': 'The file vendor_2_invoice_10.pdf of type application/pdf and size 256029 bytes was loaded as an artifact with artifact_key = gcsfile_statmike-mlops-349915_applied-ml-solution-prototypes_document-processing_vendor_2_fake_invoices_vendor_2_invoice_10.pdf and version = 0.\\nNote that pdf files are internally converted to png images (first page).'}}}],\n",
       "    'role': 'user'},\n",
       "   'invocationId': 'e-0257ac2a-944b-4fbf-8b96-7148c3853f1b',\n",
       "   'author': 'document_agent',\n",
       "   'actions': {'stateDelta': {},\n",
       "    'artifactDelta': {'gcsfile_statmike-mlops-349915_applied-ml-solution-prototypes_document-processing_vendor_2_fake_invoices_vendor_2_invoice_10.pdf': 0},\n",
       "    'requestedAuthConfigs': {}},\n",
       "   'id': 'zooKtTIc',\n",
       "   'timestamp': 1749237764.193218},\n",
       "  {'content': {'parts': [{'text': 'Okay, I have loaded the file `vendor_2_invoice_10.pdf` from the GCS bucket. The artifact key for this document is `gcsfile_statmike-mlops-349915_applied-ml-solution-prototypes_document-processing_vendor_2_fake_invoices_vendor_2_invoice_10.pdf`.\\n'}],\n",
       "    'role': 'model'},\n",
       "   'usageMetadata': {'candidatesTokenCount': 82,\n",
       "    'candidatesTokensDetails': [{'modality': 'TEXT', 'tokenCount': 82}],\n",
       "    'promptTokenCount': 3724,\n",
       "    'promptTokensDetails': [{'modality': 'TEXT', 'tokenCount': 3724}],\n",
       "    'totalTokenCount': 3806,\n",
       "    'trafficType': 'ON_DEMAND'},\n",
       "   'invocationId': 'e-0257ac2a-944b-4fbf-8b96-7148c3853f1b',\n",
       "   'author': 'document_agent',\n",
       "   'actions': {'stateDelta': {},\n",
       "    'artifactDelta': {},\n",
       "    'requestedAuthConfigs': {}},\n",
       "   'id': 'QSzHGJPk',\n",
       "   'timestamp': 1749237764.194631}],\n",
       " 'lastUpdateTime': 1749237764.194631}"
      ]
     },
     "execution_count": 16,
     "metadata": {},
     "output_type": "execute_result"
    }
   ],
   "source": [
    "session_payload = {}\n",
    "response = requests.get(ADK_SESSION_URL, json=session_payload, timeout=30)\n",
    "response.raise_for_status()  # Will raise an exception for HTTP errors\n",
    "response_data = response.json()\n",
    "response_data"
   ]
  },
  {
   "cell_type": "code",
   "execution_count": null,
   "id": "f59f1e39",
   "metadata": {},
   "outputs": [],
   "source": []
  },
  {
   "cell_type": "markdown",
   "id": "3c5803c6",
   "metadata": {},
   "source": [
    "---\n",
    "### NOTES\n",
    "\n",
    "- [ ] If artifact_delta then can i retrieve the artifact locally?\n",
    "- [ ] How can i send a file as inline data - see app implementation for example\n",
    "- [X] can i retrieve the entire session from the URL?"
   ]
  },
  {
   "cell_type": "markdown",
   "id": "e9cf206c",
   "metadata": {},
   "source": []
  }
 ],
 "metadata": {
  "kernelspec": {
   "display_name": ".venv",
   "language": "python",
   "name": "python3"
  },
  "language_info": {
   "codemirror_mode": {
    "name": "ipython",
    "version": 3
   },
   "file_extension": ".py",
   "mimetype": "text/x-python",
   "name": "python",
   "nbconvert_exporter": "python",
   "pygments_lexer": "ipython3",
   "version": "3.13.3"
  }
 },
 "nbformat": 4,
 "nbformat_minor": 5
}
