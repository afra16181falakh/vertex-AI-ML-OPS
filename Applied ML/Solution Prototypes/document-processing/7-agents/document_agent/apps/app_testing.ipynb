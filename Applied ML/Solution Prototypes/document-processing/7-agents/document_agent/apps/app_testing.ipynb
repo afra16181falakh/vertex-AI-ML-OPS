{
 "cells": [
  {
   "cell_type": "markdown",
   "id": "659c6ec5",
   "metadata": {},
   "source": [
    "# REST Interact With `adk web`\n",
    "\n",
    "Make sure you have started `adk web` locally."
   ]
  },
  {
   "cell_type": "code",
   "execution_count": 1,
   "id": "bd566eb5",
   "metadata": {},
   "outputs": [
    {
     "name": "stdout",
     "output_type": "stream",
     "text": [
      "/home/statmike/repos/vertex-ai-mlops/Applied ML/Solution Prototypes/document-processing/7-agents/.venv/bin/python\n"
     ]
    }
   ],
   "source": [
    "!which python"
   ]
  },
  {
   "cell_type": "code",
   "execution_count": 1,
   "id": "379d90ef",
   "metadata": {},
   "outputs": [],
   "source": [
    "import requests\n",
    "from config import ADK_SESSION_CREATE_URL, ADK_RUN_SSE_URL, ADK_RUN_URL"
   ]
  },
  {
   "cell_type": "code",
   "execution_count": 2,
   "id": "566aa521",
   "metadata": {},
   "outputs": [
    {
     "data": {
      "text/plain": [
       "('http://localhost:8000/apps/document_agent/users/user/sessions',\n",
       " 'http://localhost:8000/run_sse',\n",
       " 'http://localhost:8000/run')"
      ]
     },
     "execution_count": 2,
     "metadata": {},
     "output_type": "execute_result"
    }
   ],
   "source": [
    "ADK_SESSION_CREATE_URL, ADK_RUN_SSE_URL, ADK_RUN_URL"
   ]
  },
  {
   "cell_type": "markdown",
   "id": "ac4aa60e",
   "metadata": {},
   "source": [
    "## Get A Session"
   ]
  },
  {
   "cell_type": "code",
   "execution_count": 3,
   "id": "9b3eb6d0",
   "metadata": {},
   "outputs": [],
   "source": [
    "# override for testing\n",
    "ADK_SESSION_CREATE_URL = 'http://localhost:8000/apps'"
   ]
  },
  {
   "cell_type": "code",
   "execution_count": 4,
   "id": "16bcba1a",
   "metadata": {},
   "outputs": [],
   "source": [
    "agent_name = 'document_agent'\n",
    "user_id = 'u_123'\n",
    "session_id = 's_123'"
   ]
  },
  {
   "cell_type": "code",
   "execution_count": 5,
   "id": "1cca8a07",
   "metadata": {},
   "outputs": [
    {
     "data": {
      "text/plain": [
       "'http://localhost:8000/apps/document_agent/users/u_123/sessions/s_123'"
      ]
     },
     "execution_count": 5,
     "metadata": {},
     "output_type": "execute_result"
    }
   ],
   "source": [
    "ADK_SESSION_URL = f\"{ADK_SESSION_CREATE_URL}/{agent_name}/users/{user_id}/sessions/{session_id}\"\n",
    "ADK_SESSION_URL"
   ]
  },
  {
   "cell_type": "code",
   "execution_count": 6,
   "id": "5d768f66",
   "metadata": {},
   "outputs": [
    {
     "data": {
      "text/plain": [
       "{'id': 's_123',\n",
       " 'appName': 'document_agent',\n",
       " 'userId': 'u_123',\n",
       " 'state': {},\n",
       " 'events': [],\n",
       " 'lastUpdateTime': 1749237712.3047004}"
      ]
     },
     "execution_count": 6,
     "metadata": {},
     "output_type": "execute_result"
    }
   ],
   "source": [
    "session_payload = {}\n",
    "response = requests.post(ADK_SESSION_URL, json=session_payload, timeout=30)\n",
    "response.raise_for_status()  # Will raise an exception for HTTP errors\n",
    "response_data = response.json()\n",
    "response_data"
   ]
  },
  {
   "cell_type": "code",
   "execution_count": 8,
   "id": "22ca17b2",
   "metadata": {},
   "outputs": [
    {
     "data": {
      "text/plain": [
       "'s_123'"
      ]
     },
     "execution_count": 8,
     "metadata": {},
     "output_type": "execute_result"
    }
   ],
   "source": [
    "SERVER_SESSION_ID = response_data['id']\n",
    "SERVER_SESSION_ID"
   ]
  },
  {
   "cell_type": "markdown",
   "id": "982d24de",
   "metadata": {},
   "source": [
    "## Interact With Session"
   ]
  },
  {
   "cell_type": "code",
   "execution_count": 9,
   "id": "51f0eae2",
   "metadata": {},
   "outputs": [],
   "source": [
    "message_parts = []\n",
    "init_message = {'text': 'Hello'}\n",
    "message_parts.append(init_message)"
   ]
  },
  {
   "cell_type": "code",
   "execution_count": 10,
   "id": "e891d015",
   "metadata": {},
   "outputs": [],
   "source": [
    "payload = {\n",
    "    \"appName\": agent_name,\n",
    "    \"userId\": user_id, \n",
    "    \"sessionId\": SERVER_SESSION_ID, \n",
    "    \"newMessage\": {\n",
    "        \"role\": \"user\",\n",
    "        \"parts\": message_parts\n",
    "    },\n",
    "    \"streaming\": False \n",
    "}"
   ]
  },
  {
   "cell_type": "code",
   "execution_count": 11,
   "id": "901f64d5",
   "metadata": {},
   "outputs": [
    {
     "data": {
      "text/plain": [
       "[{'content': {'parts': [{'text': 'Hello! To get started, please upload a PDF or PNG file, or provide the GCS URI (bucket and path) for the document you would like me to process.\\n'}],\n",
       "   'role': 'model'},\n",
       "  'usageMetadata': {'candidatesTokenCount': 36,\n",
       "   'candidatesTokensDetails': [{'modality': 'TEXT', 'tokenCount': 36}],\n",
       "   'promptTokenCount': 3470,\n",
       "   'promptTokensDetails': [{'modality': 'TEXT', 'tokenCount': 3470}],\n",
       "   'totalTokenCount': 3506,\n",
       "   'trafficType': 'ON_DEMAND'},\n",
       "  'invocationId': 'e-ac430462-e524-452a-9d5c-a50cd11b0b78',\n",
       "  'author': 'document_agent',\n",
       "  'actions': {'stateDelta': {},\n",
       "   'artifactDelta': {},\n",
       "   'requestedAuthConfigs': {}},\n",
       "  'id': 'trPprm4w',\n",
       "  'timestamp': 1749237747.11849}]"
      ]
     },
     "execution_count": 11,
     "metadata": {},
     "output_type": "execute_result"
    }
   ],
   "source": [
    "response = requests.post(ADK_RUN_URL, json=payload, timeout=180)\n",
    "response.raise_for_status()\n",
    "response_data = response.json()\n",
    "response_data"
   ]
  },
  {
   "cell_type": "code",
   "execution_count": 12,
   "id": "4bd82bb0",
   "metadata": {},
   "outputs": [
    {
     "data": {
      "text/plain": [
       "'Hello! To get started, please upload a PDF or PNG file, or provide the GCS URI (bucket and path) for the document you would like me to process.\\n'"
      ]
     },
     "execution_count": 12,
     "metadata": {},
     "output_type": "execute_result"
    }
   ],
   "source": [
    "def parse_response(response_data):\n",
    "    final_text = \"Error: No final response from assistant found.\"\n",
    "    if isinstance(response_data, list):\n",
    "        for message in reversed(response_data):\n",
    "            content = message.get('content', {})\n",
    "            if isinstance(content, dict) and content.get(\"role\") == \"model\":\n",
    "                parts = content.get('parts', [])\n",
    "                if parts and isinstance(parts, list):\n",
    "                    first_part = parts[0]\n",
    "                    if isinstance(first_part, dict):\n",
    "                        text_part = first_part.get(\"text\")\n",
    "                        if text_part:\n",
    "                            final_text = text_part\n",
    "                        else:\n",
    "                            final_text = f\"Agent returned a structured response: `{json.dumps(first_part)}`\"\n",
    "                    else:\n",
    "                        final_text = f\"Agent returned an unknown part: `{str(first_part)}`\"\n",
    "                    break\n",
    "    return final_text\n",
    "\n",
    "parse_response(response_data)"
   ]
  },
  {
   "cell_type": "markdown",
   "id": "96425284",
   "metadata": {},
   "source": [
    "## Add To Interaction"
   ]
  },
  {
   "cell_type": "code",
   "execution_count": 13,
   "id": "e1011bc7",
   "metadata": {},
   "outputs": [],
   "source": [
    "message_parts = []\n",
    "init_message = {'text': 'use this file: gs://statmike-mlops-349915/applied-ml-solution-prototypes/document-processing/vendor_2/fake_invoices/vendor_2_invoice_10.pdf'}\n",
    "message_parts.append(init_message)\n",
    "\n",
    "payload = {\n",
    "    \"appName\": agent_name,\n",
    "    \"userId\": user_id, \n",
    "    \"sessionId\": SERVER_SESSION_ID, \n",
    "    \"newMessage\": {\n",
    "        \"role\": \"user\",\n",
    "        \"parts\": message_parts\n",
    "    },\n",
    "    \"streaming\": False \n",
    "}"
   ]
  },
  {
   "cell_type": "code",
   "execution_count": 14,
   "id": "35faa53e",
   "metadata": {},
   "outputs": [
    {
     "data": {
      "text/plain": [
       "[{'content': {'parts': [{'functionCall': {'id': 'adk-12ec97b3-1dcc-44d3-b06d-a2fe9b6cdf49',\n",
       "      'args': {'gcs_file_path': 'applied-ml-solution-prototypes/document-processing/vendor_2/fake_invoices/vendor_2_invoice_10.pdf',\n",
       "       'gcs_bucket': 'statmike-mlops-349915'},\n",
       "      'name': 'get_gcs_file'}}],\n",
       "   'role': 'model'},\n",
       "  'usageMetadata': {'candidatesTokenCount': 56,\n",
       "   'candidatesTokensDetails': [{'modality': 'TEXT', 'tokenCount': 56}],\n",
       "   'promptTokenCount': 3556,\n",
       "   'promptTokensDetails': [{'modality': 'TEXT', 'tokenCount': 3556}],\n",
       "   'totalTokenCount': 3612,\n",
       "   'trafficType': 'ON_DEMAND'},\n",
       "  'invocationId': 'e-0257ac2a-944b-4fbf-8b96-7148c3853f1b',\n",
       "  'author': 'document_agent',\n",
       "  'actions': {'stateDelta': {},\n",
       "   'artifactDelta': {},\n",
       "   'requestedAuthConfigs': {}},\n",
       "  'longRunningToolIds': [],\n",
       "  'id': 'YqmjDmRF',\n",
       "  'timestamp': 1749237760.738788},\n",
       " {'content': {'parts': [{'functionResponse': {'id': 'adk-12ec97b3-1dcc-44d3-b06d-a2fe9b6cdf49',\n",
       "      'name': 'get_gcs_file',\n",
       "      'response': {'result': 'The file vendor_2_invoice_10.pdf of type application/pdf and size 256029 bytes was loaded as an artifact with artifact_key = gcsfile_statmike-mlops-349915_applied-ml-solution-prototypes_document-processing_vendor_2_fake_invoices_vendor_2_invoice_10.pdf and version = 0.\\nNote that pdf files are internally converted to png images (first page).'}}}],\n",
       "   'role': 'user'},\n",
       "  'invocationId': 'e-0257ac2a-944b-4fbf-8b96-7148c3853f1b',\n",
       "  'author': 'document_agent',\n",
       "  'actions': {'stateDelta': {},\n",
       "   'artifactDelta': {'gcsfile_statmike-mlops-349915_applied-ml-solution-prototypes_document-processing_vendor_2_fake_invoices_vendor_2_invoice_10.pdf': 0},\n",
       "   'requestedAuthConfigs': {}},\n",
       "  'id': 'zooKtTIc',\n",
       "  'timestamp': 1749237764.193218},\n",
       " {'content': {'parts': [{'text': 'Okay, I have loaded the file `vendor_2_invoice_10.pdf` from the GCS bucket. The artifact key for this document is `gcsfile_statmike-mlops-349915_applied-ml-solution-prototypes_document-processing_vendor_2_fake_invoices_vendor_2_invoice_10.pdf`.\\n'}],\n",
       "   'role': 'model'},\n",
       "  'usageMetadata': {'candidatesTokenCount': 82,\n",
       "   'candidatesTokensDetails': [{'modality': 'TEXT', 'tokenCount': 82}],\n",
       "   'promptTokenCount': 3724,\n",
       "   'promptTokensDetails': [{'modality': 'TEXT', 'tokenCount': 3724}],\n",
       "   'totalTokenCount': 3806,\n",
       "   'trafficType': 'ON_DEMAND'},\n",
       "  'invocationId': 'e-0257ac2a-944b-4fbf-8b96-7148c3853f1b',\n",
       "  'author': 'document_agent',\n",
       "  'actions': {'stateDelta': {},\n",
       "   'artifactDelta': {},\n",
       "   'requestedAuthConfigs': {}},\n",
       "  'id': 'QSzHGJPk',\n",
       "  'timestamp': 1749237764.194631}]"
      ]
     },
     "execution_count": 14,
     "metadata": {},
     "output_type": "execute_result"
    }
   ],
   "source": [
    "response = requests.post(ADK_RUN_URL, json=payload, timeout=180)\n",
    "response.raise_for_status()\n",
    "response_data = response.json()\n",
    "response_data"
   ]
  },
  {
   "cell_type": "code",
   "execution_count": 15,
   "id": "b76f079f",
   "metadata": {},
   "outputs": [
    {
     "data": {
      "text/plain": [
       "'Okay, I have loaded the file `vendor_2_invoice_10.pdf` from the GCS bucket. The artifact key for this document is `gcsfile_statmike-mlops-349915_applied-ml-solution-prototypes_document-processing_vendor_2_fake_invoices_vendor_2_invoice_10.pdf`.\\n'"
      ]
     },
     "execution_count": 15,
     "metadata": {},
     "output_type": "execute_result"
    }
   ],
   "source": [
    "parse_response(response_data)"
   ]
  },
  {
   "cell_type": "markdown",
   "id": "c7326477",
   "metadata": {},
   "source": [
    "## Fetch A Session"
   ]
  },
  {
   "cell_type": "code",
   "execution_count": 16,
   "id": "765d9c55",
   "metadata": {},
   "outputs": [
    {
     "data": {
      "text/plain": [
       "{'id': 's_123',\n",
       " 'appName': 'document_agent',\n",
       " 'userId': 'u_123',\n",
       " 'state': {},\n",
       " 'events': [{'content': {'parts': [{'text': 'Hello'}], 'role': 'user'},\n",
       "   'invocationId': 'e-ac430462-e524-452a-9d5c-a50cd11b0b78',\n",
       "   'author': 'user',\n",
       "   'actions': {'stateDelta': {},\n",
       "    'artifactDelta': {},\n",
       "    'requestedAuthConfigs': {}},\n",
       "   'id': 'ogFZi3nX',\n",
       "   'timestamp': 1749237747.117274},\n",
       "  {'content': {'parts': [{'text': 'Hello! To get started, please upload a PDF or PNG file, or provide the GCS URI (bucket and path) for the document you would like me to process.\\n'}],\n",
       "    'role': 'model'},\n",
       "   'usageMetadata': {'candidatesTokenCount': 36,\n",
       "    'candidatesTokensDetails': [{'modality': 'TEXT', 'tokenCount': 36}],\n",
       "    'promptTokenCount': 3470,\n",
       "    'promptTokensDetails': [{'modality': 'TEXT', 'tokenCount': 3470}],\n",
       "    'totalTokenCount': 3506,\n",
       "    'trafficType': 'ON_DEMAND'},\n",
       "   'invocationId': 'e-ac430462-e524-452a-9d5c-a50cd11b0b78',\n",
       "   'author': 'document_agent',\n",
       "   'actions': {'stateDelta': {},\n",
       "    'artifactDelta': {},\n",
       "    'requestedAuthConfigs': {}},\n",
       "   'id': 'trPprm4w',\n",
       "   'timestamp': 1749237747.11849},\n",
       "  {'content': {'parts': [{'text': 'use this file: gs://statmike-mlops-349915/applied-ml-solution-prototypes/document-processing/vendor_2/fake_invoices/vendor_2_invoice_10.pdf'}],\n",
       "    'role': 'user'},\n",
       "   'invocationId': 'e-0257ac2a-944b-4fbf-8b96-7148c3853f1b',\n",
       "   'author': 'user',\n",
       "   'actions': {'stateDelta': {},\n",
       "    'artifactDelta': {},\n",
       "    'requestedAuthConfigs': {}},\n",
       "   'id': 'l0giu1sq',\n",
       "   'timestamp': 1749237760.737074},\n",
       "  {'content': {'parts': [{'functionCall': {'id': 'adk-12ec97b3-1dcc-44d3-b06d-a2fe9b6cdf49',\n",
       "       'args': {'gcs_file_path': 'applied-ml-solution-prototypes/document-processing/vendor_2/fake_invoices/vendor_2_invoice_10.pdf',\n",
       "        'gcs_bucket': 'statmike-mlops-349915'},\n",
       "       'name': 'get_gcs_file'}}],\n",
       "    'role': 'model'},\n",
       "   'usageMetadata': {'candidatesTokenCount': 56,\n",
       "    'candidatesTokensDetails': [{'modality': 'TEXT', 'tokenCount': 56}],\n",
       "    'promptTokenCount': 3556,\n",
       "    'promptTokensDetails': [{'modality': 'TEXT', 'tokenCount': 3556}],\n",
       "    'totalTokenCount': 3612,\n",
       "    'trafficType': 'ON_DEMAND'},\n",
       "   'invocationId': 'e-0257ac2a-944b-4fbf-8b96-7148c3853f1b',\n",
       "   'author': 'document_agent',\n",
       "   'actions': {'stateDelta': {},\n",
       "    'artifactDelta': {},\n",
       "    'requestedAuthConfigs': {}},\n",
       "   'longRunningToolIds': [],\n",
       "   'id': 'YqmjDmRF',\n",
       "   'timestamp': 1749237760.738788},\n",
       "  {'content': {'parts': [{'functionResponse': {'id': 'adk-12ec97b3-1dcc-44d3-b06d-a2fe9b6cdf49',\n",
       "       'name': 'get_gcs_file',\n",
       "       'response': {'result': 'The file vendor_2_invoice_10.pdf of type application/pdf and size 256029 bytes was loaded as an artifact with artifact_key = gcsfile_statmike-mlops-349915_applied-ml-solution-prototypes_document-processing_vendor_2_fake_invoices_vendor_2_invoice_10.pdf and version = 0.\\nNote that pdf files are internally converted to png images (first page).'}}}],\n",
       "    'role': 'user'},\n",
       "   'invocationId': 'e-0257ac2a-944b-4fbf-8b96-7148c3853f1b',\n",
       "   'author': 'document_agent',\n",
       "   'actions': {'stateDelta': {},\n",
       "    'artifactDelta': {'gcsfile_statmike-mlops-349915_applied-ml-solution-prototypes_document-processing_vendor_2_fake_invoices_vendor_2_invoice_10.pdf': 0},\n",
       "    'requestedAuthConfigs': {}},\n",
       "   'id': 'zooKtTIc',\n",
       "   'timestamp': 1749237764.193218},\n",
       "  {'content': {'parts': [{'text': 'Okay, I have loaded the file `vendor_2_invoice_10.pdf` from the GCS bucket. The artifact key for this document is `gcsfile_statmike-mlops-349915_applied-ml-solution-prototypes_document-processing_vendor_2_fake_invoices_vendor_2_invoice_10.pdf`.\\n'}],\n",
       "    'role': 'model'},\n",
       "   'usageMetadata': {'candidatesTokenCount': 82,\n",
       "    'candidatesTokensDetails': [{'modality': 'TEXT', 'tokenCount': 82}],\n",
       "    'promptTokenCount': 3724,\n",
       "    'promptTokensDetails': [{'modality': 'TEXT', 'tokenCount': 3724}],\n",
       "    'totalTokenCount': 3806,\n",
       "    'trafficType': 'ON_DEMAND'},\n",
       "   'invocationId': 'e-0257ac2a-944b-4fbf-8b96-7148c3853f1b',\n",
       "   'author': 'document_agent',\n",
       "   'actions': {'stateDelta': {},\n",
       "    'artifactDelta': {},\n",
       "    'requestedAuthConfigs': {}},\n",
       "   'id': 'QSzHGJPk',\n",
       "   'timestamp': 1749237764.194631}],\n",
       " 'lastUpdateTime': 1749237764.194631}"
      ]
     },
     "execution_count": 16,
     "metadata": {},
     "output_type": "execute_result"
    }
   ],
   "source": [
    "session_payload = {}\n",
    "response = requests.get(ADK_SESSION_URL, json=session_payload, timeout=30)\n",
    "response.raise_for_status()  # Will raise an exception for HTTP errors\n",
    "response_data = response.json()\n",
    "response_data"
   ]
  },
  {
   "cell_type": "code",
   "execution_count": null,
   "id": "f59f1e39",
   "metadata": {},
   "outputs": [],
   "source": []
  },
  {
   "cell_type": "markdown",
   "id": "3c5803c6",
   "metadata": {},
   "source": [
    "---\n",
    "### NOTES\n",
    "\n",
    "- [ ] If artifact_delta then can i retrieve the artifact locally?\n",
    "- [ ] How can i send a file as inline data - see app implementation for example\n",
    "- [X] can i retrieve the entire session from the URL?"
   ]
  },
  {
   "cell_type": "markdown",
   "id": "e9cf206c",
   "metadata": {},
   "source": []
  }
 ],
 "metadata": {
  "kernelspec": {
   "display_name": ".venv",
   "language": "python",
   "name": "python3"
  },
  "language_info": {
   "codemirror_mode": {
    "name": "ipython",
    "version": 3
   },
   "file_extension": ".py",
   "mimetype": "text/x-python",
   "name": "python",
   "nbconvert_exporter": "python",
   "pygments_lexer": "ipython3",
   "version": "3.13.3"
  }
 },
 "nbformat": 4,
 "nbformat_minor": 5
}
