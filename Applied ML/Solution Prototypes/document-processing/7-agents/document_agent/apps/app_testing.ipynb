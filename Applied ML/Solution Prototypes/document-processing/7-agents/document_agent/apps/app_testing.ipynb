{
 "cells": [
  {
   "cell_type": "markdown",
   "id": "659c6ec5",
   "metadata": {},
   "source": [
    "# REST Interact With `adk web`\n",
    "\n",
    "Make sure you have started `adk web` locally."
   ]
  },
  {
   "cell_type": "code",
   "execution_count": 33,
   "id": "379d90ef",
   "metadata": {},
   "outputs": [],
   "source": [
    "import requests\n",
    "from config import ADK_SESSION_CREATE_URL, ADK_RUN_SSE_URL, ADK_RUN_URL"
   ]
  },
  {
   "cell_type": "code",
   "execution_count": 34,
   "id": "566aa521",
   "metadata": {},
   "outputs": [
    {
     "data": {
      "text/plain": [
       "('http://localhost:8000/apps/document_agent/users/user/sessions',\n",
       " 'http://localhost:8000/run_sse',\n",
       " 'http://localhost:8000/run')"
      ]
     },
     "execution_count": 34,
     "metadata": {},
     "output_type": "execute_result"
    }
   ],
   "source": [
    "ADK_SESSION_CREATE_URL, ADK_RUN_SSE_URL, ADK_RUN_URL"
   ]
  },
  {
   "cell_type": "markdown",
   "id": "ac4aa60e",
   "metadata": {},
   "source": [
    "## Get A Session"
   ]
  },
  {
   "cell_type": "code",
   "execution_count": 44,
   "id": "9b3eb6d0",
   "metadata": {},
   "outputs": [],
   "source": [
    "# override for testing\n",
    "ADK_SESSION_CREATE_URL = 'http://localhost:8000/apps'"
   ]
  },
  {
   "cell_type": "code",
   "execution_count": 45,
   "id": "16bcba1a",
   "metadata": {},
   "outputs": [],
   "source": [
    "agent_name = 'document_agent'\n",
    "user_id = 'u_123'\n",
    "session_id = 's_123'"
   ]
  },
  {
   "cell_type": "code",
   "execution_count": null,
   "id": "1cca8a07",
   "metadata": {},
   "outputs": [],
   "source": [
    "ADK_SESSION_URL = f\"{ADK_SESSION_CREATE_URL}/{agent_name}/users/{user_id}/sessions/{session_id}\"\n",
    "AD"
   ]
  },
  {
   "cell_type": "code",
   "execution_count": 49,
   "id": "5d768f66",
   "metadata": {},
   "outputs": [
    {
     "data": {
      "text/plain": [
       "{'id': 's_123',\n",
       " 'appName': 'document_agent',\n",
       " 'userId': 'u_123',\n",
       " 'state': {},\n",
       " 'events': [],\n",
       " 'lastUpdateTime': 1749120760.9617996}"
      ]
     },
     "execution_count": 49,
     "metadata": {},
     "output_type": "execute_result"
    }
   ],
   "source": [
    "session_payload = {}\n",
    "response = requests.post(ADK_SESSION_URL, json=session_payload, timeout=30)\n",
    "response.raise_for_status()  # Will raise an exception for HTTP errors\n",
    "response_data = response.json()\n",
    "response_data"
   ]
  },
  {
   "cell_type": "code",
   "execution_count": 50,
   "id": "22ca17b2",
   "metadata": {},
   "outputs": [],
   "source": [
    "SERVER_SESSION_ID = response_data['id']"
   ]
  },
  {
   "cell_type": "markdown",
   "id": "982d24de",
   "metadata": {},
   "source": [
    "## Interact With Session"
   ]
  },
  {
   "cell_type": "code",
   "execution_count": 55,
   "id": "51f0eae2",
   "metadata": {},
   "outputs": [],
   "source": [
    "message_parts = []\n",
    "init_message = {'text': 'Hello'}\n",
    "message_parts.append(init_message)"
   ]
  },
  {
   "cell_type": "code",
   "execution_count": 57,
   "id": "e891d015",
   "metadata": {},
   "outputs": [],
   "source": [
    "payload = {\n",
    "    \"appName\": agent_name,\n",
    "    \"userId\": user_id, \n",
    "    \"sessionId\": SERVER_SESSION_ID, \n",
    "    \"newMessage\": {\n",
    "        \"role\": \"user\",\n",
    "        \"parts\": message_parts\n",
    "    },\n",
    "    \"streaming\": False \n",
    "}"
   ]
  },
  {
   "cell_type": "code",
   "execution_count": 58,
   "id": "901f64d5",
   "metadata": {},
   "outputs": [
    {
     "data": {
      "text/plain": [
       "[{'content': {'parts': [{'text': 'Hi there! To get started, please upload a PDF or PNG file, or provide a GCS URI (bucket and path) for the document you want to process.\\n'}],\n",
       "   'role': 'model'},\n",
       "  'usageMetadata': {'candidatesTokenCount': 35,\n",
       "   'candidatesTokensDetails': [{'modality': 'TEXT', 'tokenCount': 35}],\n",
       "   'promptTokenCount': 3422,\n",
       "   'promptTokensDetails': [{'modality': 'TEXT', 'tokenCount': 3422}],\n",
       "   'totalTokenCount': 3457,\n",
       "   'trafficType': 'ON_DEMAND'},\n",
       "  'invocationId': 'e-4069d13a-8f13-46d6-9feb-ccdef3b17916',\n",
       "  'author': 'document_agent',\n",
       "  'actions': {'stateDelta': {},\n",
       "   'artifactDelta': {},\n",
       "   'requestedAuthConfigs': {}},\n",
       "  'id': 'ppU9aYtf',\n",
       "  'timestamp': 1749120962.253869}]"
      ]
     },
     "execution_count": 58,
     "metadata": {},
     "output_type": "execute_result"
    }
   ],
   "source": [
    "response = requests.post(ADK_RUN_URL, json=payload, timeout=180)\n",
    "response.raise_for_status()\n",
    "response_data = response.json()\n",
    "response_data"
   ]
  },
  {
   "cell_type": "code",
   "execution_count": 59,
   "id": "4bd82bb0",
   "metadata": {},
   "outputs": [
    {
     "data": {
      "text/plain": [
       "'Hi there! To get started, please upload a PDF or PNG file, or provide a GCS URI (bucket and path) for the document you want to process.\\n'"
      ]
     },
     "execution_count": 59,
     "metadata": {},
     "output_type": "execute_result"
    }
   ],
   "source": [
    "def parse_response(response_data):\n",
    "    final_text = \"Error: No final response from assistant found.\"\n",
    "    if isinstance(response_data, list):\n",
    "        for message in reversed(response_data):\n",
    "            content = message.get('content', {})\n",
    "            if isinstance(content, dict) and content.get(\"role\") == \"model\":\n",
    "                parts = content.get('parts', [])\n",
    "                if parts and isinstance(parts, list):\n",
    "                    first_part = parts[0]\n",
    "                    if isinstance(first_part, dict):\n",
    "                        text_part = first_part.get(\"text\")\n",
    "                        if text_part:\n",
    "                            final_text = text_part\n",
    "                        else:\n",
    "                            final_text = f\"Agent returned a structured response: `{json.dumps(first_part)}`\"\n",
    "                    else:\n",
    "                        final_text = f\"Agent returned an unknown part: `{str(first_part)}`\"\n",
    "                    break\n",
    "    return final_text\n",
    "\n",
    "parse_response(response_data)"
   ]
  },
  {
   "cell_type": "markdown",
   "id": "96425284",
   "metadata": {},
   "source": [
    "## Add To Interaction"
   ]
  },
  {
   "cell_type": "code",
   "execution_count": 61,
   "id": "e1011bc7",
   "metadata": {},
   "outputs": [],
   "source": [
    "message_parts = []\n",
    "init_message = {'text': 'use this file: gs://statmike-mlops-349915/applied-ml-solution-prototypes/document-processing/vendor_2/fake_invoices/vendor_2_invoice_10.pdf'}\n",
    "message_parts.append(init_message)\n",
    "\n",
    "payload = {\n",
    "    \"appName\": agent_name,\n",
    "    \"userId\": user_id, \n",
    "    \"sessionId\": SERVER_SESSION_ID, \n",
    "    \"newMessage\": {\n",
    "        \"role\": \"user\",\n",
    "        \"parts\": message_parts\n",
    "    },\n",
    "    \"streaming\": False \n",
    "}"
   ]
  },
  {
   "cell_type": "code",
   "execution_count": 62,
   "id": "35faa53e",
   "metadata": {},
   "outputs": [
    {
     "data": {
      "text/plain": [
       "[{'content': {'parts': [{'functionCall': {'id': 'adk-68715e9b-d953-4d24-ba39-b7a5c90c9127',\n",
       "      'args': {'gcs_file_path': 'applied-ml-solution-prototypes/document-processing/vendor_2/fake_invoices/vendor_2_invoice_10.pdf',\n",
       "       'gcs_bucket': 'statmike-mlops-349915'},\n",
       "      'name': 'get_gcs_file'}}],\n",
       "   'role': 'model'},\n",
       "  'usageMetadata': {'candidatesTokenCount': 56,\n",
       "   'candidatesTokensDetails': [{'modality': 'TEXT', 'tokenCount': 56}],\n",
       "   'promptTokenCount': 3507,\n",
       "   'promptTokensDetails': [{'modality': 'TEXT', 'tokenCount': 3507}],\n",
       "   'totalTokenCount': 3563,\n",
       "   'trafficType': 'ON_DEMAND'},\n",
       "  'invocationId': 'e-c0d3361c-432e-4b8b-9ace-8711c5998738',\n",
       "  'author': 'document_agent',\n",
       "  'actions': {'stateDelta': {},\n",
       "   'artifactDelta': {},\n",
       "   'requestedAuthConfigs': {}},\n",
       "  'longRunningToolIds': [],\n",
       "  'id': 'x30PWwhF',\n",
       "  'timestamp': 1749121149.59242},\n",
       " {'content': {'parts': [{'functionResponse': {'id': 'adk-68715e9b-d953-4d24-ba39-b7a5c90c9127',\n",
       "      'name': 'get_gcs_file',\n",
       "      'response': {'result': 'The file vendor_2_invoice_10.pdf of type application/pdf and size 256029 bytes was loaded as an artifact with artifact_key = gcsfile_statmike-mlops-349915_applied-ml-solution-prototypes_document-processing_vendor_2_fake_invoices_vendor_2_invoice_10.pdf and version = 0.\\nNote that pdf files are internally converted to png images (first page).'}}}],\n",
       "   'role': 'user'},\n",
       "  'invocationId': 'e-c0d3361c-432e-4b8b-9ace-8711c5998738',\n",
       "  'author': 'document_agent',\n",
       "  'actions': {'stateDelta': {},\n",
       "   'artifactDelta': {'gcsfile_statmike-mlops-349915_applied-ml-solution-prototypes_document-processing_vendor_2_fake_invoices_vendor_2_invoice_10.pdf': 0},\n",
       "   'requestedAuthConfigs': {}},\n",
       "  'id': '5exT38ou',\n",
       "  'timestamp': 1749121152.77404},\n",
       " {'content': {'parts': [{'text': 'Okay, I have loaded the file from GCS. The artifact key is `gcsfile_statmike-mlops-349915_applied-ml-solution-prototypes_document-processing_vendor_2_fake_invoices_vendor_2_invoice_10.pdf`. What would you like to do next? I can perform extraction, classification, or comparison.\\n'}],\n",
       "   'role': 'model'},\n",
       "  'usageMetadata': {'candidatesTokenCount': 83,\n",
       "   'candidatesTokensDetails': [{'modality': 'TEXT', 'tokenCount': 83}],\n",
       "   'promptTokenCount': 3675,\n",
       "   'promptTokensDetails': [{'modality': 'TEXT', 'tokenCount': 3675}],\n",
       "   'totalTokenCount': 3758,\n",
       "   'trafficType': 'ON_DEMAND'},\n",
       "  'invocationId': 'e-c0d3361c-432e-4b8b-9ace-8711c5998738',\n",
       "  'author': 'document_agent',\n",
       "  'actions': {'stateDelta': {},\n",
       "   'artifactDelta': {},\n",
       "   'requestedAuthConfigs': {}},\n",
       "  'id': 'p0DiGsBP',\n",
       "  'timestamp': 1749121152.775258}]"
      ]
     },
     "execution_count": 62,
     "metadata": {},
     "output_type": "execute_result"
    }
   ],
   "source": [
    "response = requests.post(ADK_RUN_URL, json=payload, timeout=180)\n",
    "response.raise_for_status()\n",
    "response_data = response.json()\n",
    "response_data"
   ]
  },
  {
   "cell_type": "code",
   "execution_count": 63,
   "id": "b76f079f",
   "metadata": {},
   "outputs": [
    {
     "data": {
      "text/plain": [
       "'Okay, I have loaded the file from GCS. The artifact key is `gcsfile_statmike-mlops-349915_applied-ml-solution-prototypes_document-processing_vendor_2_fake_invoices_vendor_2_invoice_10.pdf`. What would you like to do next? I can perform extraction, classification, or comparison.\\n'"
      ]
     },
     "execution_count": 63,
     "metadata": {},
     "output_type": "execute_result"
    }
   ],
   "source": [
    "parse_response(response_data)"
   ]
  },
  {
   "cell_type": "markdown",
   "id": "c7326477",
   "metadata": {},
   "source": [
    "## Fetch A Session"
   ]
  },
  {
   "cell_type": "code",
   "execution_count": 65,
   "id": "765d9c55",
   "metadata": {},
   "outputs": [
    {
     "data": {
      "text/plain": [
       "{'id': 's_123',\n",
       " 'appName': 'document_agent',\n",
       " 'userId': 'u_123',\n",
       " 'state': {},\n",
       " 'events': [{'content': {'parts': [{'text': 'Hello'}], 'role': 'user'},\n",
       "   'invocationId': 'e-4069d13a-8f13-46d6-9feb-ccdef3b17916',\n",
       "   'author': 'user',\n",
       "   'actions': {'stateDelta': {},\n",
       "    'artifactDelta': {},\n",
       "    'requestedAuthConfigs': {}},\n",
       "   'id': 'ZUAJbK53',\n",
       "   'timestamp': 1749120962.252242},\n",
       "  {'content': {'parts': [{'text': 'Hi there! To get started, please upload a PDF or PNG file, or provide a GCS URI (bucket and path) for the document you want to process.\\n'}],\n",
       "    'role': 'model'},\n",
       "   'usageMetadata': {'candidatesTokenCount': 35,\n",
       "    'candidatesTokensDetails': [{'modality': 'TEXT', 'tokenCount': 35}],\n",
       "    'promptTokenCount': 3422,\n",
       "    'promptTokensDetails': [{'modality': 'TEXT', 'tokenCount': 3422}],\n",
       "    'totalTokenCount': 3457,\n",
       "    'trafficType': 'ON_DEMAND'},\n",
       "   'invocationId': 'e-4069d13a-8f13-46d6-9feb-ccdef3b17916',\n",
       "   'author': 'document_agent',\n",
       "   'actions': {'stateDelta': {},\n",
       "    'artifactDelta': {},\n",
       "    'requestedAuthConfigs': {}},\n",
       "   'id': 'ppU9aYtf',\n",
       "   'timestamp': 1749120962.253869},\n",
       "  {'content': {'parts': [{'text': 'use this file: gs://statmike-mlops-349915/applied-ml-solution-prototypes/document-processing/vendor_2/fake_invoices/vendor_2_invoice_10.pdf'}],\n",
       "    'role': 'user'},\n",
       "   'invocationId': 'e-c0d3361c-432e-4b8b-9ace-8711c5998738',\n",
       "   'author': 'user',\n",
       "   'actions': {'stateDelta': {},\n",
       "    'artifactDelta': {},\n",
       "    'requestedAuthConfigs': {}},\n",
       "   'id': 'Eho98QT0',\n",
       "   'timestamp': 1749121149.59078},\n",
       "  {'content': {'parts': [{'functionCall': {'id': 'adk-68715e9b-d953-4d24-ba39-b7a5c90c9127',\n",
       "       'args': {'gcs_file_path': 'applied-ml-solution-prototypes/document-processing/vendor_2/fake_invoices/vendor_2_invoice_10.pdf',\n",
       "        'gcs_bucket': 'statmike-mlops-349915'},\n",
       "       'name': 'get_gcs_file'}}],\n",
       "    'role': 'model'},\n",
       "   'usageMetadata': {'candidatesTokenCount': 56,\n",
       "    'candidatesTokensDetails': [{'modality': 'TEXT', 'tokenCount': 56}],\n",
       "    'promptTokenCount': 3507,\n",
       "    'promptTokensDetails': [{'modality': 'TEXT', 'tokenCount': 3507}],\n",
       "    'totalTokenCount': 3563,\n",
       "    'trafficType': 'ON_DEMAND'},\n",
       "   'invocationId': 'e-c0d3361c-432e-4b8b-9ace-8711c5998738',\n",
       "   'author': 'document_agent',\n",
       "   'actions': {'stateDelta': {},\n",
       "    'artifactDelta': {},\n",
       "    'requestedAuthConfigs': {}},\n",
       "   'longRunningToolIds': [],\n",
       "   'id': 'x30PWwhF',\n",
       "   'timestamp': 1749121149.59242},\n",
       "  {'content': {'parts': [{'functionResponse': {'id': 'adk-68715e9b-d953-4d24-ba39-b7a5c90c9127',\n",
       "       'name': 'get_gcs_file',\n",
       "       'response': {'result': 'The file vendor_2_invoice_10.pdf of type application/pdf and size 256029 bytes was loaded as an artifact with artifact_key = gcsfile_statmike-mlops-349915_applied-ml-solution-prototypes_document-processing_vendor_2_fake_invoices_vendor_2_invoice_10.pdf and version = 0.\\nNote that pdf files are internally converted to png images (first page).'}}}],\n",
       "    'role': 'user'},\n",
       "   'invocationId': 'e-c0d3361c-432e-4b8b-9ace-8711c5998738',\n",
       "   'author': 'document_agent',\n",
       "   'actions': {'stateDelta': {},\n",
       "    'artifactDelta': {'gcsfile_statmike-mlops-349915_applied-ml-solution-prototypes_document-processing_vendor_2_fake_invoices_vendor_2_invoice_10.pdf': 0},\n",
       "    'requestedAuthConfigs': {}},\n",
       "   'id': '5exT38ou',\n",
       "   'timestamp': 1749121152.77404},\n",
       "  {'content': {'parts': [{'text': 'Okay, I have loaded the file from GCS. The artifact key is `gcsfile_statmike-mlops-349915_applied-ml-solution-prototypes_document-processing_vendor_2_fake_invoices_vendor_2_invoice_10.pdf`. What would you like to do next? I can perform extraction, classification, or comparison.\\n'}],\n",
       "    'role': 'model'},\n",
       "   'usageMetadata': {'candidatesTokenCount': 83,\n",
       "    'candidatesTokensDetails': [{'modality': 'TEXT', 'tokenCount': 83}],\n",
       "    'promptTokenCount': 3675,\n",
       "    'promptTokensDetails': [{'modality': 'TEXT', 'tokenCount': 3675}],\n",
       "    'totalTokenCount': 3758,\n",
       "    'trafficType': 'ON_DEMAND'},\n",
       "   'invocationId': 'e-c0d3361c-432e-4b8b-9ace-8711c5998738',\n",
       "   'author': 'document_agent',\n",
       "   'actions': {'stateDelta': {},\n",
       "    'artifactDelta': {},\n",
       "    'requestedAuthConfigs': {}},\n",
       "   'id': 'p0DiGsBP',\n",
       "   'timestamp': 1749121152.775258}],\n",
       " 'lastUpdateTime': 1749121152.775258}"
      ]
     },
     "execution_count": 65,
     "metadata": {},
     "output_type": "execute_result"
    }
   ],
   "source": [
    "session_payload = {}\n",
    "response = requests.get(ADK_SESSION_URL, json=session_payload, timeout=30)\n",
    "response.raise_for_status()  # Will raise an exception for HTTP errors\n",
    "response_data = response.json()\n",
    "response_data"
   ]
  },
  {
   "cell_type": "code",
   "execution_count": null,
   "id": "f59f1e39",
   "metadata": {},
   "outputs": [],
   "source": []
  },
  {
   "cell_type": "markdown",
   "id": "3c5803c6",
   "metadata": {},
   "source": [
    "---\n",
    "### NOTES\n",
    "\n",
    "- [ ] If artifact_delta then can i retrieve the artifact locally?\n",
    "- [ ] How can i send a file as inline data - see app implementation for example\n",
    "- [X] can i retrieve the entire session from the URL?"
   ]
  },
  {
   "cell_type": "markdown",
   "id": "e9cf206c",
   "metadata": {},
   "source": []
  }
 ],
 "metadata": {
  "kernelspec": {
   "display_name": ".venv",
   "language": "python",
   "name": "python3"
  },
  "language_info": {
   "codemirror_mode": {
    "name": "ipython",
    "version": 3
   },
   "file_extension": ".py",
   "mimetype": "text/x-python",
   "name": "python",
   "nbconvert_exporter": "python",
   "pygments_lexer": "ipython3",
   "version": "3.13.3"
  }
 },
 "nbformat": 4,
 "nbformat_minor": 5
}
