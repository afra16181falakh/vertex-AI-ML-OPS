{
 "cells": [
  {
   "cell_type": "markdown",
   "id": "faa8ac5c",
   "metadata": {},
   "source": [
    "![tracker](https://us-central1-vertex-ai-mlops-369716.cloudfunctions.net/pixel-tracking?path=statmike%2Fvertex-ai-mlops%2FApplied+ML%2FSolution+Prototypes%2Fdocument-processing%2F7-agents%2Fdocument_agent&file=use-vertex-ai-agent-engine.ipynb)\n",
    "<!--- header table --->\n",
    "<table align=\"left\">\n",
    "<tr>\n",
    "  <td style=\"text-align: center\">\n",
    "    <a href=\"https://github.com/statmike/vertex-ai-mlops/blob/main/Applied%20ML/Solution%20Prototypes/document-processing/7-agents/document_agent/use-vertex-ai-agent-engine.ipynb\">\n",
    "      <img width=\"32px\" src=\"https://www.svgrepo.com/download/217753/github.svg\" alt=\"GitHub logo\">\n",
    "      <br>View on<br>GitHub\n",
    "    </a>\n",
    "  </td>\n",
    "  <td style=\"text-align: center\">\n",
    "    <a href=\"https://colab.research.google.com/github/statmike/vertex-ai-mlops/blob/main/Applied%20ML/Solution%20Prototypes/document-processing/7-agents/document_agent/use-vertex-ai-agent-engine.ipynb\">\n",
    "      <img width=\"32px\" src=\"https://www.gstatic.com/pantheon/images/bigquery/welcome_page/colab-logo.svg\" alt=\"Google Colaboratory logo\">\n",
    "      <br>Run in<br>Colab\n",
    "    </a>\n",
    "  </td>\n",
    "  <td style=\"text-align: center\">\n",
    "    <a href=\"https://console.cloud.google.com/vertex-ai/colab/import/https%3A%2F%2Fraw.githubusercontent.com%2Fstatmike%2Fvertex-ai-mlops%2Fmain%2FApplied%2520ML%2FSolution%2520Prototypes%2Fdocument-processing%2F7-agents%2Fdocument_agent%2Fuse-vertex-ai-agent-engine.ipynb\">\n",
    "      <img width=\"32px\" src=\"https://lh3.googleusercontent.com/JmcxdQi-qOpctIvWKgPtrzZdJJK-J3sWE1RsfjZNwshCFgE_9fULcNpuXYTilIR2hjwN\" alt=\"Google Cloud Colab Enterprise logo\">\n",
    "      <br>Run in<br>Colab Enterprise\n",
    "    </a>\n",
    "  </td>      \n",
    "  <td style=\"text-align: center\">\n",
    "    <a href=\"https://console.cloud.google.com/bigquery/import?url=https://github.com/statmike/vertex-ai-mlops/blob/main/Applied%20ML/Solution%20Prototypes/document-processing/7-agents/document_agent/use-vertex-ai-agent-engine.ipynb\">\n",
    "      <img width=\"32px\" src=\"https://www.gstatic.com/images/branding/gcpiconscolors/bigquery/v1/32px.svg\" alt=\"BigQuery logo\">\n",
    "      <br>Open in<br>BigQuery Studio\n",
    "    </a>\n",
    "  </td>\n",
    "  <td style=\"text-align: center\">\n",
    "    <a href=\"https://console.cloud.google.com/vertex-ai/workbench/deploy-notebook?download_url=https://raw.githubusercontent.com/statmike/vertex-ai-mlops/main/Applied%20ML/Solution%20Prototypes/document-processing/7-agents/document_agent/use-vertex-ai-agent-engine.ipynb\">\n",
    "      <img width=\"32px\" src=\"https://www.gstatic.com/images/branding/gcpiconscolors/vertexai/v1/32px.svg\" alt=\"Vertex AI logo\">\n",
    "      <br>Open in<br>Vertex AI Workbench\n",
    "    </a>\n",
    "  </td>\n",
    "</tr>\n",
    "<tr>\n",
    "  <td colspan=\"5\" style=\"text-align: right\">\n",
    "    <b>Share This On: </b> \n",
    "    <a href=\"https://www.linkedin.com/sharing/share-offsite/?url=https%3A//github.com/statmike/vertex-ai-mlops/blob/main/Applied%20ML/Solution%20Prototypes/document-processing/7-agents/document_agent/use-vertex-ai-agent-engine.ipynb\"><img src=\"https://upload.wikimedia.org/wikipedia/commons/8/81/LinkedIn_icon.svg\" alt=\"Linkedin Logo\" width=\"20px\"></a> \n",
    "    <a href=\"https://reddit.com/submit?url=https%3A//github.com/statmike/vertex-ai-mlops/blob/main/Applied%20ML/Solution%20Prototypes/document-processing/7-agents/document_agent/use-vertex-ai-agent-engine.ipynb\"><img src=\"https://redditinc.com/hubfs/Reddit%20Inc/Brand/Reddit_Logo.png\" alt=\"Reddit Logo\" width=\"20px\"></a> \n",
    "    <a href=\"https://bsky.app/intent/compose?text=https%3A//github.com/statmike/vertex-ai-mlops/blob/main/Applied%20ML/Solution%20Prototypes/document-processing/7-agents/document_agent/use-vertex-ai-agent-engine.ipynb\"><img src=\"https://upload.wikimedia.org/wikipedia/commons/7/7a/Bluesky_Logo.svg\" alt=\"BlueSky Logo\" width=\"20px\"></a> \n",
    "    <a href=\"https://twitter.com/intent/tweet?url=https%3A//github.com/statmike/vertex-ai-mlops/blob/main/Applied%20ML/Solution%20Prototypes/document-processing/7-agents/document_agent/use-vertex-ai-agent-engine.ipynb\"><img src=\"https://upload.wikimedia.org/wikipedia/commons/5/5a/X_icon_2.svg\" alt=\"X (Twitter) Logo\" width=\"20px\"></a> \n",
    "  </td>\n",
    "</tr>\n",
    "<tr>\n",
    "  <td colspan=\"5\" style=\"text-align: right\">\n",
    "    <b>Connect With Author On: </b> \n",
    "    <a href=\"https://www.linkedin.com/in/statmike\"><img src=\"https://upload.wikimedia.org/wikipedia/commons/8/81/LinkedIn_icon.svg\" alt=\"Linkedin Logo\" width=\"20px\"></a>\n",
    "    <a href=\"https://www.github.com/statmike\"><img src=\"https://www.svgrepo.com/download/217753/github.svg\" alt=\"GitHub Logo\" width=\"20px\"></a> \n",
    "    <a href=\"https://www.youtube.com/@statmike-channel\"><img src=\"https://upload.wikimedia.org/wikipedia/commons/f/fd/YouTube_full-color_icon_%282024%29.svg\" alt=\"YouTube Logo\" width=\"20px\"></a>\n",
    "    <a href=\"https://bksy.app/profile/statmike.bsky.social\"><img src=\"https://upload.wikimedia.org/wikipedia/commons/7/7a/Bluesky_Logo.svg\" alt=\"BlueSky Logo\" width=\"20px\"></a> \n",
    "    <a href=\"https://x.com/statmike\"><img src=\"https://upload.wikimedia.org/wikipedia/commons/5/5a/X_icon_2.svg\" alt=\"X (Twitter) Logo\" width=\"20px\"></a>\n",
    "  </td>\n",
    "</tr>\n",
    "</table>"
   ]
  },
  {
   "cell_type": "markdown",
   "id": "e7918f3f",
   "metadata": {},
   "source": [
    "# Use Agent Deployed To Vertex AI Agent Engine\n",
    "\n",
    "In the [deploy-vertex-ai-agent-engine](./deploy-vertex-ai-agent-engine.ipynb) workflow we deployed our agent to Vertex AI and stored the resource address in the local `.env` file.  This workflow will find this resource address and use it to interact with the Agent on Vertex AI Agent Engine using both the SDK and REST."
   ]
  },
  {
   "cell_type": "markdown",
   "id": "ad169736",
   "metadata": {},
   "source": [
    "Package Imports:"
   ]
  },
  {
   "cell_type": "code",
   "execution_count": 1,
   "id": "a7c6cf09",
   "metadata": {},
   "outputs": [],
   "source": [
    "import os, sys\n",
    "\n",
    "import dotenv\n",
    "import requests\n",
    "\n",
    "from vertexai import agent_engines"
   ]
  },
  {
   "cell_type": "markdown",
   "id": "3da55bb9",
   "metadata": {},
   "source": [
    "Verify working directory:"
   ]
  },
  {
   "cell_type": "code",
   "execution_count": 2,
   "id": "7a73b816",
   "metadata": {},
   "outputs": [
    {
     "data": {
      "text/plain": [
       "'/home/statmike/repos/vertex-ai-mlops/Applied ML/Solution Prototypes/document-processing/7-agents/document_agent'"
      ]
     },
     "execution_count": 2,
     "metadata": {},
     "output_type": "execute_result"
    }
   ],
   "source": [
    "os.getcwd()"
   ]
  },
  {
   "cell_type": "markdown",
   "id": "ece91d7e",
   "metadata": {},
   "source": [
    "Review the local files, expecting the `document_agent` folder to be here:"
   ]
  },
  {
   "cell_type": "code",
   "execution_count": 3,
   "id": "f05e98f9",
   "metadata": {},
   "outputs": [
    {
     "data": {
      "text/plain": [
       "['document_agent',\n",
       " 'apps',\n",
       " 'deploy-vertex-ai-agent-engine.ipynb',\n",
       " 'use-vertex-ai-agent-engine.ipynb']"
      ]
     },
     "execution_count": 3,
     "metadata": {},
     "output_type": "execute_result"
    }
   ],
   "source": [
    "os.listdir('.')"
   ]
  },
  {
   "cell_type": "markdown",
   "id": "cd229956",
   "metadata": {},
   "source": [
    "Verify the current Python version and executable location (the `venv` setup by this project):"
   ]
  },
  {
   "cell_type": "code",
   "execution_count": 4,
   "id": "b29fbc77",
   "metadata": {},
   "outputs": [
    {
     "data": {
      "text/plain": [
       "('3.13.3 (main, Apr 14 2025, 14:06:24) [GCC 12.2.0]',\n",
       " '/home/statmike/repos/vertex-ai-mlops/Applied ML/Solution Prototypes/document-processing/7-agents/.venv/bin/python')"
      ]
     },
     "execution_count": 4,
     "metadata": {},
     "output_type": "execute_result"
    }
   ],
   "source": [
    "sys.version, sys.executable"
   ]
  },
  {
   "cell_type": "markdown",
   "id": "c2c45a79",
   "metadata": {},
   "source": [
    "Get the deployed agent that was deployed in the companion workflow [deploy-vertex-ai-agent-engine](./deploy-vertex-ai-agent-engine.ipynb)."
   ]
  },
  {
   "cell_type": "code",
   "execution_count": 5,
   "id": "7cbb73d9",
   "metadata": {},
   "outputs": [
    {
     "data": {
      "text/plain": [
       "True"
      ]
     },
     "execution_count": 5,
     "metadata": {},
     "output_type": "execute_result"
    }
   ],
   "source": [
    "# Load environment variables from .env file\n",
    "dotenv.load_dotenv(dotenv_path='./apps/.env')"
   ]
  },
  {
   "cell_type": "code",
   "execution_count": 6,
   "id": "c4a2ec58",
   "metadata": {},
   "outputs": [],
   "source": [
    "remote_app = agent_engines.get(resource_name = os.getenv('ADK_DEPLOY_RESOURCE_ID'))"
   ]
  },
  {
   "cell_type": "code",
   "execution_count": 7,
   "id": "6407261f",
   "metadata": {},
   "outputs": [
    {
     "data": {
      "text/plain": [
       "'projects/1026793852137/locations/us-central1/reasoningEngines/1988805428414251008'"
      ]
     },
     "execution_count": 7,
     "metadata": {},
     "output_type": "execute_result"
    }
   ],
   "source": [
    "remote_app.resource_name"
   ]
  },
  {
   "cell_type": "markdown",
   "id": "005a4ae3",
   "metadata": {},
   "source": [
    "---\n",
    "## Use The Deployed Agent"
   ]
  },
  {
   "cell_type": "code",
   "execution_count": null,
   "id": "8a646b9f",
   "metadata": {},
   "outputs": [
    {
     "data": {
      "text/plain": [
       "{'id': '2177099543449960448',\n",
       " 'state': {},\n",
       " 'events': [],\n",
       " 'lastUpdateTime': 1749406351.879862,\n",
       " 'appName': '1988805428414251008',\n",
       " 'userId': 'u_123'}"
      ]
     },
     "metadata": {},
     "output_type": "display_data"
    }
   ],
   "source": [
    "remote_session = remote_app.create_session(user_id = 'u_123')\n",
    "remote_session"
   ]
  },
  {
   "cell_type": "code",
   "execution_count": null,
   "id": "26c067e2",
   "metadata": {},
   "outputs": [
    {
     "data": {
      "text/plain": [
       "{'sessions': [{'id': '2177099543449960448',\n",
       "   'lastUpdateTime': 1749406351.879862,\n",
       "   'state': {},\n",
       "   'events': [],\n",
       "   'appName': '1988805428414251008',\n",
       "   'userId': 'u_123'}]}"
      ]
     },
     "metadata": {},
     "output_type": "display_data"
    }
   ],
   "source": [
    "remote_app.list_sessions(user_id = 'u_123')"
   ]
  },
  {
   "cell_type": "code",
   "execution_count": null,
   "id": "ae5ed57e",
   "metadata": {},
   "outputs": [
    {
     "data": {
      "text/plain": [
       "{'id': '2177099543449960448',\n",
       " 'lastUpdateTime': 1749406351.879862,\n",
       " 'state': {},\n",
       " 'events': [],\n",
       " 'appName': '1988805428414251008',\n",
       " 'userId': 'u_123'}"
      ]
     },
     "metadata": {},
     "output_type": "display_data"
    }
   ],
   "source": [
    "remote_session = remote_app.get_session(user_id = \"u_123\", session_id = remote_session['id'])\n",
    "remote_session"
   ]
  },
  {
   "cell_type": "code",
   "execution_count": null,
   "id": "55aae370",
   "metadata": {},
   "outputs": [
    {
     "name": "stdout",
     "output_type": "stream",
     "text": [
      "{'content': {'parts': [{'text': 'I am the primary agent that processes document related requests. I can load documents, classify them, extract data, and compare them to vendor templates. To start, please upload a PDF/PNG file or provide the GCS URI (bucket and path) for the document you want to process.\\n'}], 'role': 'model'}, 'usage_metadata': {'candidates_token_count': 59, 'candidates_tokens_details': [{'modality': 'TEXT', 'token_count': 59}], 'prompt_token_count': 3474, 'prompt_tokens_details': [{'modality': 'TEXT', 'token_count': 3474}], 'total_token_count': 3533, 'traffic_type': 'ON_DEMAND'}, 'invocation_id': 'e-677976b1-9315-4f8e-96c0-d31af507916e', 'author': 'document_agent', 'actions': {'state_delta': {}, 'artifact_delta': {}, 'requested_auth_configs': {}}, 'id': 'y7AIIbNE', 'timestamp': 1749406356.888147}\n"
     ]
    }
   ],
   "source": [
    "import json\n",
    "from google import genai\n",
    "\n",
    "message = genai.types.Content(\n",
    "    role = 'user',\n",
    "    parts = [genai.types.Part.from_text(text = 'What do you do?')]    \n",
    ")\n",
    "\n",
    "for event in remote_app.stream_query(\n",
    "    user_id = 'u_123',\n",
    "    session_id = remote_session['id'],\n",
    "    #message = message # DOES NOT WORK WITH GENAI OBJECTS \n",
    "    #message = json.dumps([{'text' : 'What do you do?'}]) # NO ERROR BUT IT JUST PASSES JSON TEXT AS TEXT PART\n",
    "    message = 'What do you do?'\n",
    "):\n",
    "    print(event)"
   ]
  },
  {
   "cell_type": "code",
   "execution_count": null,
   "id": "239b7689",
   "metadata": {},
   "outputs": [
    {
     "name": "stdout",
     "output_type": "stream",
     "text": [
      "{'content': {'parts': [{'text': 'I am designed to orchestrate document processing workflows. This means I am best at handling the overall process of taking a document, preparing it using various tools, and then dispatching it to specialized sub-agents for tasks like in-depth analysis, comparison, or answering specific questions about the content. I ensure all the necessary steps are completed in the correct order and that the results are presented to you clearly. I am also capable of remembering key information, such as artifact keys and classification results, to be used in subsequent steps.\\n'}], 'role': 'model'}, 'usage_metadata': {'candidates_token_count': 106, 'candidates_tokens_details': [{'modality': 'TEXT', 'token_count': 106}], 'prompt_token_count': 3539, 'prompt_tokens_details': [{'modality': 'TEXT', 'token_count': 3539}], 'total_token_count': 3645, 'traffic_type': 'ON_DEMAND'}, 'invocation_id': 'e-c488389d-2afb-46cf-8b12-b8e7d1e6599a', 'author': 'document_agent', 'actions': {'state_delta': {}, 'artifact_delta': {}, 'requested_auth_configs': {}}, 'id': 'wHfSCg25', 'timestamp': 1749406359.416949}\n"
     ]
    }
   ],
   "source": [
    "async for event in remote_app.async_stream_query(\n",
    "    user_id = 'u_123',\n",
    "    session_id = remote_session['id'],\n",
    "    message = 'What do you do best?'\n",
    "):\n",
    "    print(event)"
   ]
  },
  {
   "cell_type": "code",
   "execution_count": null,
   "id": "167978df",
   "metadata": {},
   "outputs": [
    {
     "data": {
      "text/plain": [
       "dict"
      ]
     },
     "metadata": {},
     "output_type": "display_data"
    }
   ],
   "source": [
    "type(event)"
   ]
  },
  {
   "cell_type": "code",
   "execution_count": null,
   "id": "ac0ea195",
   "metadata": {},
   "outputs": [
    {
     "data": {
      "text/plain": [
       "generator"
      ]
     },
     "metadata": {},
     "output_type": "display_data"
    }
   ],
   "source": [
    "stream = remote_app.stream_query(\n",
    "    user_id = 'u_123',\n",
    "    session_id = remote_session['id'],\n",
    "    message = 'What do you do first?'\n",
    ")\n",
    "type(stream)"
   ]
  },
  {
   "cell_type": "code",
   "execution_count": null,
   "id": "f42c2513",
   "metadata": {},
   "outputs": [
    {
     "name": "stdout",
     "output_type": "stream",
     "text": [
      "{'content': {'parts': [{'text': 'The first thing I need to do is obtain the document you want to process. Please upload a PDF/PNG file or provide the GCS URI (bucket and path) for the document.\\n'}], 'role': 'model'}, 'usage_metadata': {'candidates_token_count': 39, 'candidates_tokens_details': [{'modality': 'TEXT', 'token_count': 39}], 'prompt_token_count': 3651, 'prompt_tokens_details': [{'modality': 'TEXT', 'token_count': 3651}], 'total_token_count': 3690, 'traffic_type': 'ON_DEMAND'}, 'invocation_id': 'e-b9397c1b-e387-4f51-a2d8-6430418d82e9', 'author': 'document_agent', 'actions': {'state_delta': {}, 'artifact_delta': {}, 'requested_auth_configs': {}}, 'id': '50111ldt', 'timestamp': 1749406364.031439}\n"
     ]
    }
   ],
   "source": [
    "for event in stream:\n",
    "    print(event)"
   ]
  },
  {
   "cell_type": "code",
   "execution_count": null,
   "id": "40ef3772",
   "metadata": {},
   "outputs": [
    {
     "data": {
      "text/plain": [
       "{'content': {'parts': [{'text': 'The first thing I need to do is obtain the document you want to process. Please upload a PDF/PNG file or provide the GCS URI (bucket and path) for the document.\\n'}],\n",
       "  'role': 'model'},\n",
       " 'usage_metadata': {'candidates_token_count': 39,\n",
       "  'candidates_tokens_details': [{'modality': 'TEXT', 'token_count': 39}],\n",
       "  'prompt_token_count': 3651,\n",
       "  'prompt_tokens_details': [{'modality': 'TEXT', 'token_count': 3651}],\n",
       "  'total_token_count': 3690,\n",
       "  'traffic_type': 'ON_DEMAND'},\n",
       " 'invocation_id': 'e-b9397c1b-e387-4f51-a2d8-6430418d82e9',\n",
       " 'author': 'document_agent',\n",
       " 'actions': {'state_delta': {},\n",
       "  'artifact_delta': {},\n",
       "  'requested_auth_configs': {}},\n",
       " 'id': '50111ldt',\n",
       " 'timestamp': 1749406364.031439}"
      ]
     },
     "metadata": {},
     "output_type": "display_data"
    }
   ],
   "source": [
    "event"
   ]
  },
  {
   "cell_type": "code",
   "execution_count": null,
   "id": "0fc164ce",
   "metadata": {},
   "outputs": [
    {
     "data": {
      "text/plain": [
       "'The first thing I need to do is obtain the document you want to process. Please upload a PDF/PNG file or provide the GCS URI (bucket and path) for the document.\\n'"
      ]
     },
     "metadata": {},
     "output_type": "display_data"
    }
   ],
   "source": [
    "event['content']['parts'][-1]['text']"
   ]
  },
  {
   "cell_type": "code",
   "execution_count": null,
   "id": "231b0739",
   "metadata": {},
   "outputs": [
    {
     "name": "stdout",
     "output_type": "stream",
     "text": [
      "{'content': {'parts': [{'function_call': {'id': 'adk-ec674964-45f1-459b-8766-6a92b9fedc15', 'args': {'gcs_file_path': 'applied-ml-solution-prototypes/document-processing/vendor_2/fake_invoices/vendor_2_invoice_10.pdf', 'gcs_bucket': 'statmike-mlops-349915'}, 'name': 'get_gcs_file'}}], 'role': 'model'}, 'usage_metadata': {'candidates_token_count': 56, 'candidates_tokens_details': [{'modality': 'TEXT', 'token_count': 56}], 'prompt_token_count': 3740, 'prompt_tokens_details': [{'modality': 'TEXT', 'token_count': 3740}], 'total_token_count': 3796, 'traffic_type': 'ON_DEMAND'}, 'invocation_id': 'e-1b95e891-dbb1-4bf9-bd7a-0f12e62241b6', 'author': 'document_agent', 'actions': {'state_delta': {}, 'artifact_delta': {}, 'requested_auth_configs': {}}, 'long_running_tool_ids': [], 'id': '08qIaBFB', 'timestamp': 1749406369.072305}\n",
      "{'content': {'parts': [{'function_response': {'id': 'adk-ec674964-45f1-459b-8766-6a92b9fedc15', 'name': 'get_gcs_file', 'response': {'result': 'The file vendor_2_invoice_10.pdf of type application/pdf and size 256029 bytes was loaded as an artifact with artifact_key = gcsfile_statmike-mlops-349915_applied-ml-solution-prototypes_document-processing_vendor_2_fake_invoices_vendor_2_invoice_10.pdf and version = 0.\\nNote that pdf files are internally converted to png images (first page).'}}}], 'role': 'user'}, 'invocation_id': 'e-1b95e891-dbb1-4bf9-bd7a-0f12e62241b6', 'author': 'document_agent', 'actions': {'state_delta': {}, 'artifact_delta': {'gcsfile_statmike-mlops-349915_applied-ml-solution-prototypes_document-processing_vendor_2_fake_invoices_vendor_2_invoice_10.pdf': 0}, 'requested_auth_configs': {}}, 'id': 'IWwwH2u5', 'timestamp': 1749406370.666711}\n",
      "{'content': {'parts': [{'text': 'Okay, I have loaded the file from GCS. The artifact key for this document is `gcsfile_statmike-mlops-349915_applied-ml-solution-prototypes_document-processing_vendor_2_fake_invoices_vendor_2_invoice_10.pdf`.\\n'}], 'role': 'model'}, 'usage_metadata': {'candidates_token_count': 68, 'candidates_tokens_details': [{'modality': 'TEXT', 'token_count': 68}], 'prompt_token_count': 3908, 'prompt_tokens_details': [{'modality': 'TEXT', 'token_count': 3908}], 'total_token_count': 3976, 'traffic_type': 'ON_DEMAND'}, 'invocation_id': 'e-1b95e891-dbb1-4bf9-bd7a-0f12e62241b6', 'author': 'document_agent', 'actions': {'state_delta': {}, 'artifact_delta': {}, 'requested_auth_configs': {}}, 'id': '7FfH7ObF', 'timestamp': 1749406370.835172}\n"
     ]
    }
   ],
   "source": [
    "for event in remote_app.stream_query(\n",
    "    user_id = 'u_123',\n",
    "    session_id = remote_session['id'],\n",
    "    message = 'use this file: gs://statmike-mlops-349915/applied-ml-solution-prototypes/document-processing/vendor_2/fake_invoices/vendor_2_invoice_10.pdf'\n",
    "):\n",
    "    print(event)"
   ]
  },
  {
   "cell_type": "code",
   "execution_count": null,
   "id": "8a23186f",
   "metadata": {},
   "outputs": [
    {
     "data": {
      "text/plain": [
       "(dict,\n",
       " {'content': {'parts': [{'text': 'Okay, I have loaded the file from GCS. The artifact key for this document is `gcsfile_statmike-mlops-349915_applied-ml-solution-prototypes_document-processing_vendor_2_fake_invoices_vendor_2_invoice_10.pdf`.\\n'}],\n",
       "   'role': 'model'},\n",
       "  'usage_metadata': {'candidates_token_count': 68,\n",
       "   'candidates_tokens_details': [{'modality': 'TEXT', 'token_count': 68}],\n",
       "   'prompt_token_count': 3908,\n",
       "   'prompt_tokens_details': [{'modality': 'TEXT', 'token_count': 3908}],\n",
       "   'total_token_count': 3976,\n",
       "   'traffic_type': 'ON_DEMAND'},\n",
       "  'invocation_id': 'e-1b95e891-dbb1-4bf9-bd7a-0f12e62241b6',\n",
       "  'author': 'document_agent',\n",
       "  'actions': {'state_delta': {},\n",
       "   'artifact_delta': {},\n",
       "   'requested_auth_configs': {}},\n",
       "  'id': '7FfH7ObF',\n",
       "  'timestamp': 1749406370.835172})"
      ]
     },
     "metadata": {},
     "output_type": "display_data"
    }
   ],
   "source": [
    "type(event), event"
   ]
  },
  {
   "cell_type": "markdown",
   "id": "c606d6b5",
   "metadata": {},
   "source": [
    "### Use CURL:"
   ]
  },
  {
   "cell_type": "code",
   "execution_count": null,
   "id": "3176f51f",
   "metadata": {},
   "outputs": [
    {
     "data": {
      "text/plain": [
       "'https://us-central1-aiplatform.googleapis.com/v1/projects/1026793852137/locations/us-central1/reasoningEngines/1988805428414251008'"
      ]
     },
     "metadata": {},
     "output_type": "display_data"
    }
   ],
   "source": [
    "URL = f\"https://{os.getenv('GOOGLE_CLOUD_LOCATION')}-aiplatform.googleapis.com/v1/{remote_app.resource_name}\"\n",
    "URL"
   ]
  },
  {
   "cell_type": "code",
   "execution_count": null,
   "id": "00d7a474",
   "metadata": {},
   "outputs": [
    {
     "data": {
      "text/plain": [
       "{'class_method': 'get_session',\n",
       " 'input': {'user_id': 'u_123', 'session_id': '2177099543449960448'}}"
      ]
     },
     "metadata": {},
     "output_type": "display_data"
    }
   ],
   "source": [
    "payload = dict(\n",
    "    class_method = 'get_session',\n",
    "    input = dict(\n",
    "        user_id = 'u_123',\n",
    "        session_id = remote_session['id']\n",
    "    )\n",
    ")\n",
    "payload"
   ]
  },
  {
   "cell_type": "code",
   "execution_count": null,
   "id": "1e263af4",
   "metadata": {},
   "outputs": [],
   "source": [
    "import google.auth"
   ]
  },
  {
   "cell_type": "code",
   "execution_count": null,
   "id": "0b2899af",
   "metadata": {},
   "outputs": [],
   "source": [
    "credentials, _ = google.auth.default()\n",
    "auth_req = google.auth.transport.requests.Request()\n",
    "credentials.refresh(auth_req)\n",
    "headers = {'Authorization': f'Bearer {credentials.token}'}\n",
    "response = requests.post(URL+':query', headers = headers, json = payload)    \n",
    "response.raise_for_status()"
   ]
  },
  {
   "cell_type": "code",
   "execution_count": null,
   "id": "83d7a217",
   "metadata": {},
   "outputs": [
    {
     "data": {
      "text/plain": [
       "{'output': {'userId': 'u_123',\n",
       "  'appName': '1988805428414251008',\n",
       "  'events': [{'timestamp': 1749406356.673932,\n",
       "    'interrupted': None,\n",
       "    'id': '1038108851167035392',\n",
       "    'partial': None,\n",
       "    'usageMetadata': None,\n",
       "    'errorCode': None,\n",
       "    'author': 'user',\n",
       "    'customMetadata': None,\n",
       "    'actions': {'transferToAgent': None,\n",
       "     'requestedAuthConfigs': {},\n",
       "     'artifactDelta': {},\n",
       "     'skipSummarization': None,\n",
       "     'escalate': None,\n",
       "     'stateDelta': {}},\n",
       "    'longRunningToolIds': None,\n",
       "    'errorMessage': None,\n",
       "    'invocationId': 'e-677976b1-9315-4f8e-96c0-d31af507916e',\n",
       "    'turnComplete': None,\n",
       "    'groundingMetadata': None,\n",
       "    'content': {'role': 'user',\n",
       "     'parts': [{'videoMetadata': None,\n",
       "       'text': 'What do you do?',\n",
       "       'inlineData': None,\n",
       "       'executableCode': None,\n",
       "       'thoughtSignature': None,\n",
       "       'thought': None,\n",
       "       'fileData': None,\n",
       "       'functionResponse': None,\n",
       "       'codeExecutionResult': None,\n",
       "       'functionCall': None}]},\n",
       "    'branch': None},\n",
       "   {'id': '5411104089343787008',\n",
       "    'turnComplete': None,\n",
       "    'errorCode': None,\n",
       "    'branch': None,\n",
       "    'usageMetadata': None,\n",
       "    'actions': {'escalate': None,\n",
       "     'transferToAgent': None,\n",
       "     'artifactDelta': {},\n",
       "     'skipSummarization': None,\n",
       "     'stateDelta': {},\n",
       "     'requestedAuthConfigs': {}},\n",
       "    'customMetadata': None,\n",
       "    'partial': None,\n",
       "    'content': {'parts': [{'videoMetadata': None,\n",
       "       'executableCode': None,\n",
       "       'fileData': None,\n",
       "       'inlineData': None,\n",
       "       'functionCall': None,\n",
       "       'thought': None,\n",
       "       'functionResponse': None,\n",
       "       'codeExecutionResult': None,\n",
       "       'thoughtSignature': None,\n",
       "       'text': 'I am the primary agent that processes document related requests. I can load documents, classify them, extract data, and compare them to vendor templates. To start, please upload a PDF/PNG file or provide the GCS URI (bucket and path) for the document you want to process.\\n'}],\n",
       "     'role': 'model'},\n",
       "    'groundingMetadata': None,\n",
       "    'invocationId': 'e-677976b1-9315-4f8e-96c0-d31af507916e',\n",
       "    'author': 'document_agent',\n",
       "    'interrupted': None,\n",
       "    'errorMessage': None,\n",
       "    'timestamp': 1749406356.888147,\n",
       "    'longRunningToolIds': None},\n",
       "   {'branch': None,\n",
       "    'id': '7901594683279671296',\n",
       "    'content': {'role': 'user',\n",
       "     'parts': [{'executableCode': None,\n",
       "       'fileData': None,\n",
       "       'thought': None,\n",
       "       'functionCall': None,\n",
       "       'videoMetadata': None,\n",
       "       'thoughtSignature': None,\n",
       "       'inlineData': None,\n",
       "       'codeExecutionResult': None,\n",
       "       'text': 'What do you do best?',\n",
       "       'functionResponse': None}]},\n",
       "    'groundingMetadata': None,\n",
       "    'invocationId': 'e-c488389d-2afb-46cf-8b12-b8e7d1e6599a',\n",
       "    'errorMessage': None,\n",
       "    'usageMetadata': None,\n",
       "    'errorCode': None,\n",
       "    'actions': {'stateDelta': {},\n",
       "     'artifactDelta': {},\n",
       "     'skipSummarization': None,\n",
       "     'requestedAuthConfigs': {},\n",
       "     'transferToAgent': None,\n",
       "     'escalate': None},\n",
       "    'longRunningToolIds': None,\n",
       "    'customMetadata': None,\n",
       "    'author': 'user',\n",
       "    'timestamp': 1749406359.189419,\n",
       "    'turnComplete': None,\n",
       "    'partial': None,\n",
       "    'interrupted': None},\n",
       "   {'author': 'document_agent',\n",
       "    'turnComplete': None,\n",
       "    'longRunningToolIds': None,\n",
       "    'content': {'role': 'model',\n",
       "     'parts': [{'text': 'I am designed to orchestrate document processing workflows. This means I am best at handling the overall process of taking a document, preparing it using various tools, and then dispatching it to specialized sub-agents for tasks like in-depth analysis, comparison, or answering specific questions about the content. I ensure all the necessary steps are completed in the correct order and that the results are presented to you clearly. I am also capable of remembering key information, such as artifact keys and classification results, to be used in subsequent steps.\\n',\n",
       "       'executableCode': None,\n",
       "       'codeExecutionResult': None,\n",
       "       'fileData': None,\n",
       "       'functionCall': None,\n",
       "       'thoughtSignature': None,\n",
       "       'thought': None,\n",
       "       'functionResponse': None,\n",
       "       'videoMetadata': None,\n",
       "       'inlineData': None}]},\n",
       "    'timestamp': 1749406359.416949,\n",
       "    'interrupted': None,\n",
       "    'errorMessage': None,\n",
       "    'customMetadata': None,\n",
       "    'branch': None,\n",
       "    'usageMetadata': None,\n",
       "    'invocationId': 'e-c488389d-2afb-46cf-8b12-b8e7d1e6599a',\n",
       "    'errorCode': None,\n",
       "    'partial': None,\n",
       "    'id': '2136987160245436416',\n",
       "    'groundingMetadata': None,\n",
       "    'actions': {'escalate': None,\n",
       "     'artifactDelta': {},\n",
       "     'stateDelta': {},\n",
       "     'transferToAgent': None,\n",
       "     'requestedAuthConfigs': {},\n",
       "     'skipSummarization': None}},\n",
       "   {'partial': None,\n",
       "    'id': '5649794869594423296',\n",
       "    'turnComplete': None,\n",
       "    'author': 'user',\n",
       "    'customMetadata': None,\n",
       "    'longRunningToolIds': None,\n",
       "    'errorCode': None,\n",
       "    'interrupted': None,\n",
       "    'actions': {'stateDelta': {},\n",
       "     'escalate': None,\n",
       "     'skipSummarization': None,\n",
       "     'requestedAuthConfigs': {},\n",
       "     'artifactDelta': {},\n",
       "     'transferToAgent': None},\n",
       "    'groundingMetadata': None,\n",
       "    'errorMessage': None,\n",
       "    'timestamp': 1749406363.823968,\n",
       "    'branch': None,\n",
       "    'usageMetadata': None,\n",
       "    'invocationId': 'e-b9397c1b-e387-4f51-a2d8-6430418d82e9',\n",
       "    'content': {'role': 'user',\n",
       "     'parts': [{'functionCall': None,\n",
       "       'executableCode': None,\n",
       "       'thought': None,\n",
       "       'functionResponse': None,\n",
       "       'thoughtSignature': None,\n",
       "       'videoMetadata': None,\n",
       "       'fileData': None,\n",
       "       'inlineData': None,\n",
       "       'codeExecutionResult': None,\n",
       "       'text': 'What do you do first?'}]}},\n",
       "   {'invocationId': 'e-b9397c1b-e387-4f51-a2d8-6430418d82e9',\n",
       "    'content': {'parts': [{'thoughtSignature': None,\n",
       "       'inlineData': None,\n",
       "       'functionCall': None,\n",
       "       'fileData': None,\n",
       "       'videoMetadata': None,\n",
       "       'thought': None,\n",
       "       'functionResponse': None,\n",
       "       'codeExecutionResult': None,\n",
       "       'text': 'The first thing I need to do is obtain the document you want to process. Please upload a PDF/PNG file or provide the GCS URI (bucket and path) for the document.\\n',\n",
       "       'executableCode': None}],\n",
       "     'role': 'model'},\n",
       "    'errorCode': None,\n",
       "    'longRunningToolIds': None,\n",
       "    'interrupted': None,\n",
       "    'partial': None,\n",
       "    'actions': {'skipSummarization': None,\n",
       "     'transferToAgent': None,\n",
       "     'artifactDelta': {},\n",
       "     'requestedAuthConfigs': {},\n",
       "     'stateDelta': {},\n",
       "     'escalate': None},\n",
       "    'groundingMetadata': None,\n",
       "    'turnComplete': None,\n",
       "    'author': 'document_agent',\n",
       "    'customMetadata': None,\n",
       "    'usageMetadata': None,\n",
       "    'errorMessage': None,\n",
       "    'timestamp': 1749406364.031439,\n",
       "    'branch': None,\n",
       "    'id': '7271090735447801856'},\n",
       "   {'content': {'parts': [{'thoughtSignature': None,\n",
       "       'text': 'use this file: gs://statmike-mlops-349915/applied-ml-solution-prototypes/document-processing/vendor_2/fake_invoices/vendor_2_invoice_10.pdf',\n",
       "       'executableCode': None,\n",
       "       'thought': None,\n",
       "       'functionCall': None,\n",
       "       'videoMetadata': None,\n",
       "       'functionResponse': None,\n",
       "       'codeExecutionResult': None,\n",
       "       'inlineData': None,\n",
       "       'fileData': None}],\n",
       "     'role': 'user'},\n",
       "    'interrupted': None,\n",
       "    'partial': None,\n",
       "    'actions': {'artifactDelta': {},\n",
       "     'escalate': None,\n",
       "     'requestedAuthConfigs': {},\n",
       "     'skipSummarization': None,\n",
       "     'transferToAgent': None,\n",
       "     'stateDelta': {}},\n",
       "    'longRunningToolIds': None,\n",
       "    'author': 'user',\n",
       "    'invocationId': 'e-1b95e891-dbb1-4bf9-bd7a-0f12e62241b6',\n",
       "    'branch': None,\n",
       "    'id': '7217047539919355904',\n",
       "    'groundingMetadata': None,\n",
       "    'turnComplete': None,\n",
       "    'customMetadata': None,\n",
       "    'errorCode': None,\n",
       "    'timestamp': 1749406368.913703,\n",
       "    'usageMetadata': None,\n",
       "    'errorMessage': None},\n",
       "   {'timestamp': 1749406369.072304,\n",
       "    'branch': None,\n",
       "    'content': {'role': 'model',\n",
       "     'parts': [{'thoughtSignature': None,\n",
       "       'functionResponse': None,\n",
       "       'thought': None,\n",
       "       'functionCall': {'args': {'gcs_file_path': 'applied-ml-solution-prototypes/document-processing/vendor_2/fake_invoices/vendor_2_invoice_10.pdf',\n",
       "         'gcs_bucket': 'statmike-mlops-349915'},\n",
       "        'name': 'get_gcs_file',\n",
       "        'id': 'adk-ec674964-45f1-459b-8766-6a92b9fedc15'},\n",
       "       'fileData': None,\n",
       "       'videoMetadata': None,\n",
       "       'executableCode': None,\n",
       "       'inlineData': None,\n",
       "       'codeExecutionResult': None,\n",
       "       'text': None}]},\n",
       "    'errorMessage': None,\n",
       "    'invocationId': 'e-1b95e891-dbb1-4bf9-bd7a-0f12e62241b6',\n",
       "    'id': '6748673178672824320',\n",
       "    'usageMetadata': None,\n",
       "    'partial': None,\n",
       "    'groundingMetadata': None,\n",
       "    'turnComplete': None,\n",
       "    'longRunningToolIds': None,\n",
       "    'author': 'document_agent',\n",
       "    'errorCode': None,\n",
       "    'interrupted': None,\n",
       "    'actions': {'transferToAgent': None,\n",
       "     'stateDelta': {},\n",
       "     'artifactDelta': {},\n",
       "     'skipSummarization': None,\n",
       "     'escalate': None,\n",
       "     'requestedAuthConfigs': {}},\n",
       "    'customMetadata': None},\n",
       "   {'branch': None,\n",
       "    'content': {'parts': [{'functionResponse': {'scheduling': None,\n",
       "        'name': 'get_gcs_file',\n",
       "        'willContinue': None,\n",
       "        'response': {'result': 'The file vendor_2_invoice_10.pdf of type application/pdf and size 256029 bytes was loaded as an artifact with artifact_key = gcsfile_statmike-mlops-349915_applied-ml-solution-prototypes_document-processing_vendor_2_fake_invoices_vendor_2_invoice_10.pdf and version = 0.\\nNote that pdf files are internally converted to png images (first page).'},\n",
       "        'id': 'adk-ec674964-45f1-459b-8766-6a92b9fedc15'},\n",
       "       'videoMetadata': None,\n",
       "       'thought': None,\n",
       "       'inlineData': None,\n",
       "       'executableCode': None,\n",
       "       'codeExecutionResult': None,\n",
       "       'functionCall': None,\n",
       "       'text': None,\n",
       "       'fileData': None,\n",
       "       'thoughtSignature': None}],\n",
       "     'role': 'user'},\n",
       "    'actions': {'transferToAgent': None,\n",
       "     'escalate': None,\n",
       "     'skipSummarization': None,\n",
       "     'artifactDelta': {'gcsfile_statmike-mlops-349915_applied-ml-solution-prototypes_document-processing_vendor_2_fake_invoices_vendor_2_invoice_10.pdf': 0},\n",
       "     'stateDelta': {},\n",
       "     'requestedAuthConfigs': {}},\n",
       "    'invocationId': 'e-1b95e891-dbb1-4bf9-bd7a-0f12e62241b6',\n",
       "    'id': '4442830169459130368',\n",
       "    'author': 'document_agent',\n",
       "    'interrupted': None,\n",
       "    'turnComplete': None,\n",
       "    'usageMetadata': None,\n",
       "    'groundingMetadata': None,\n",
       "    'errorMessage': None,\n",
       "    'timestamp': 1749406370.666711,\n",
       "    'partial': None,\n",
       "    'errorCode': None,\n",
       "    'longRunningToolIds': None,\n",
       "    'customMetadata': None},\n",
       "   {'invocationId': 'e-1b95e891-dbb1-4bf9-bd7a-0f12e62241b6',\n",
       "    'partial': None,\n",
       "    'usageMetadata': None,\n",
       "    'interrupted': None,\n",
       "    'turnComplete': None,\n",
       "    'timestamp': 1749406370.835171,\n",
       "    'customMetadata': None,\n",
       "    'branch': None,\n",
       "    'id': '3105261080130093056',\n",
       "    'errorMessage': None,\n",
       "    'content': {'role': 'model',\n",
       "     'parts': [{'thought': None,\n",
       "       'thoughtSignature': None,\n",
       "       'functionResponse': None,\n",
       "       'inlineData': None,\n",
       "       'text': 'Okay, I have loaded the file from GCS. The artifact key for this document is `gcsfile_statmike-mlops-349915_applied-ml-solution-prototypes_document-processing_vendor_2_fake_invoices_vendor_2_invoice_10.pdf`.\\n',\n",
       "       'fileData': None,\n",
       "       'functionCall': None,\n",
       "       'videoMetadata': None,\n",
       "       'codeExecutionResult': None,\n",
       "       'executableCode': None}]},\n",
       "    'longRunningToolIds': None,\n",
       "    'groundingMetadata': None,\n",
       "    'actions': {'stateDelta': {},\n",
       "     'artifactDelta': {},\n",
       "     'skipSummarization': None,\n",
       "     'escalate': None,\n",
       "     'requestedAuthConfigs': {},\n",
       "     'transferToAgent': None},\n",
       "    'errorCode': None,\n",
       "    'author': 'document_agent'}],\n",
       "  'lastUpdateTime': 1749406371.741538,\n",
       "  'id': '2177099543449960448',\n",
       "  'state': {}}}"
      ]
     },
     "metadata": {},
     "output_type": "display_data"
    }
   ],
   "source": [
    "response.json()"
   ]
  },
  {
   "cell_type": "code",
   "execution_count": null,
   "id": "c04f58d3",
   "metadata": {},
   "outputs": [],
   "source": [
    "payload = dict(\n",
    "    class_method = 'stream_query',\n",
    "    input = dict(\n",
    "        user_id = 'u_123',\n",
    "        session_id = remote_session['id'],\n",
    "        message = 'Do you do data extraction?'\n",
    "    )\n",
    ")\n",
    "credentials.refresh(auth_req)\n",
    "headers = {'Authorization': f'Bearer {credentials.token}'}\n",
    "response = requests.post(URL+':streamQuery?alt=sse', headers = headers, json = payload, stream = True)    \n",
    "response.raise_for_status()"
   ]
  },
  {
   "cell_type": "code",
   "execution_count": null,
   "id": "4e71b63b",
   "metadata": {},
   "outputs": [
    {
     "data": {
      "text/plain": [
       "{'content': {'parts': [{'text': 'Yes, I can perform data extraction on the document. Would you like me to proceed with extracting the data from the document I just loaded with artifact key `gcsfile_statmike-mlops-349915_applied-ml-solution-prototypes_document-processing_vendor_2_fake_invoices_vendor_2_invoice_10.pdf`?\\n'}],\n",
       "  'role': 'model'},\n",
       " 'usage_metadata': {'candidates_token_count': 81,\n",
       "  'candidates_tokens_details': [{'modality': 'TEXT', 'token_count': 81}],\n",
       "  'prompt_token_count': 4012,\n",
       "  'prompt_tokens_details': [{'modality': 'TEXT', 'token_count': 4012}],\n",
       "  'total_token_count': 4093,\n",
       "  'traffic_type': 'ON_DEMAND'},\n",
       " 'invocation_id': 'e-7ab1118e-7699-464e-a625-f2ceedf35927',\n",
       " 'author': 'document_agent',\n",
       " 'actions': {'state_delta': {},\n",
       "  'artifact_delta': {},\n",
       "  'requested_auth_configs': {}},\n",
       " 'id': '38r65IYA',\n",
       " 'timestamp': 1749415164.650748}"
      ]
     },
     "metadata": {},
     "output_type": "display_data"
    }
   ],
   "source": [
    "response.json()"
   ]
  },
  {
   "cell_type": "code",
   "execution_count": null,
   "id": "100c1250",
   "metadata": {},
   "outputs": [
    {
     "name": "stdout",
     "output_type": "stream",
     "text": [
      "Yes, I can perform data extraction on the document. Would you like me to proceed with extracting the data from the document I just loaded with artifact key `gcsfile_statmike-mlops-349915_applied-ml-solution-prototypes_document-processing_vendor_2_fake_invoices_vendor_2_invoice_10.pdf`?\n",
      "\n"
     ]
    }
   ],
   "source": [
    "for line in response.iter_lines(decode_unicode=True):\n",
    "    print(json.loads(line).get('content').get('parts')[0].get('text'))"
   ]
  },
  {
   "cell_type": "markdown",
   "id": "5870ba5c",
   "metadata": {},
   "source": [
    "### Back To SDK"
   ]
  },
  {
   "cell_type": "code",
   "execution_count": null,
   "id": "8f4b1aca",
   "metadata": {},
   "outputs": [
    {
     "data": {
      "text/plain": [
       "{'id': '2177099543449960448',\n",
       " 'state': {},\n",
       " 'lastUpdateTime': 1749415165.554814,\n",
       " 'events': [{'interrupted': None,\n",
       "   'invocationId': 'e-677976b1-9315-4f8e-96c0-d31af507916e',\n",
       "   'partial': None,\n",
       "   'branch': None,\n",
       "   'id': '1038108851167035392',\n",
       "   'turnComplete': None,\n",
       "   'usageMetadata': None,\n",
       "   'content': {'role': 'user',\n",
       "    'parts': [{'fileData': None,\n",
       "      'thought': None,\n",
       "      'codeExecutionResult': None,\n",
       "      'text': 'What do you do?',\n",
       "      'inlineData': None,\n",
       "      'videoMetadata': None,\n",
       "      'thoughtSignature': None,\n",
       "      'functionResponse': None,\n",
       "      'executableCode': None,\n",
       "      'functionCall': None}]},\n",
       "   'groundingMetadata': None,\n",
       "   'customMetadata': None,\n",
       "   'longRunningToolIds': None,\n",
       "   'errorCode': None,\n",
       "   'timestamp': 1749406356.673932,\n",
       "   'author': 'user',\n",
       "   'errorMessage': None,\n",
       "   'actions': {'artifactDelta': {},\n",
       "    'escalate': None,\n",
       "    'skipSummarization': None,\n",
       "    'transferToAgent': None,\n",
       "    'requestedAuthConfigs': {},\n",
       "    'stateDelta': {}}},\n",
       "  {'errorMessage': None,\n",
       "   'invocationId': 'e-677976b1-9315-4f8e-96c0-d31af507916e',\n",
       "   'partial': None,\n",
       "   'branch': None,\n",
       "   'id': '5411104089343787008',\n",
       "   'turnComplete': None,\n",
       "   'usageMetadata': None,\n",
       "   'content': {'role': 'model',\n",
       "    'parts': [{'fileData': None,\n",
       "      'thought': None,\n",
       "      'codeExecutionResult': None,\n",
       "      'text': 'I am the primary agent that processes document related requests. I can load documents, classify them, extract data, and compare them to vendor templates. To start, please upload a PDF/PNG file or provide the GCS URI (bucket and path) for the document you want to process.\\n',\n",
       "      'inlineData': None,\n",
       "      'videoMetadata': None,\n",
       "      'functionResponse': None,\n",
       "      'thoughtSignature': None,\n",
       "      'executableCode': None,\n",
       "      'functionCall': None}]},\n",
       "   'groundingMetadata': None,\n",
       "   'customMetadata': None,\n",
       "   'longRunningToolIds': None,\n",
       "   'timestamp': 1749406356.888147,\n",
       "   'errorCode': None,\n",
       "   'author': 'document_agent',\n",
       "   'interrupted': None,\n",
       "   'actions': {'artifactDelta': {},\n",
       "    'escalate': None,\n",
       "    'transferToAgent': None,\n",
       "    'skipSummarization': None,\n",
       "    'requestedAuthConfigs': {},\n",
       "    'stateDelta': {}}},\n",
       "  {'interrupted': None,\n",
       "   'partial': None,\n",
       "   'invocationId': 'e-c488389d-2afb-46cf-8b12-b8e7d1e6599a',\n",
       "   'branch': None,\n",
       "   'id': '7901594683279671296',\n",
       "   'turnComplete': None,\n",
       "   'usageMetadata': None,\n",
       "   'content': {'role': 'user',\n",
       "    'parts': [{'fileData': None,\n",
       "      'thought': None,\n",
       "      'codeExecutionResult': None,\n",
       "      'text': 'What do you do best?',\n",
       "      'inlineData': None,\n",
       "      'videoMetadata': None,\n",
       "      'thoughtSignature': None,\n",
       "      'functionResponse': None,\n",
       "      'executableCode': None,\n",
       "      'functionCall': None}]},\n",
       "   'groundingMetadata': None,\n",
       "   'customMetadata': None,\n",
       "   'longRunningToolIds': None,\n",
       "   'errorCode': None,\n",
       "   'timestamp': 1749406359.189419,\n",
       "   'author': 'user',\n",
       "   'errorMessage': None,\n",
       "   'actions': {'artifactDelta': {},\n",
       "    'escalate': None,\n",
       "    'skipSummarization': None,\n",
       "    'transferToAgent': None,\n",
       "    'requestedAuthConfigs': {},\n",
       "    'stateDelta': {}}},\n",
       "  {'errorMessage': None,\n",
       "   'partial': None,\n",
       "   'invocationId': 'e-c488389d-2afb-46cf-8b12-b8e7d1e6599a',\n",
       "   'branch': None,\n",
       "   'id': '2136987160245436416',\n",
       "   'turnComplete': None,\n",
       "   'usageMetadata': None,\n",
       "   'content': {'role': 'model',\n",
       "    'parts': [{'fileData': None,\n",
       "      'thought': None,\n",
       "      'codeExecutionResult': None,\n",
       "      'text': 'I am designed to orchestrate document processing workflows. This means I am best at handling the overall process of taking a document, preparing it using various tools, and then dispatching it to specialized sub-agents for tasks like in-depth analysis, comparison, or answering specific questions about the content. I ensure all the necessary steps are completed in the correct order and that the results are presented to you clearly. I am also capable of remembering key information, such as artifact keys and classification results, to be used in subsequent steps.\\n',\n",
       "      'inlineData': None,\n",
       "      'videoMetadata': None,\n",
       "      'thoughtSignature': None,\n",
       "      'functionResponse': None,\n",
       "      'executableCode': None,\n",
       "      'functionCall': None}]},\n",
       "   'groundingMetadata': None,\n",
       "   'customMetadata': None,\n",
       "   'longRunningToolIds': None,\n",
       "   'timestamp': 1749406359.416949,\n",
       "   'errorCode': None,\n",
       "   'author': 'document_agent',\n",
       "   'interrupted': None,\n",
       "   'actions': {'artifactDelta': {},\n",
       "    'escalate': None,\n",
       "    'transferToAgent': None,\n",
       "    'skipSummarization': None,\n",
       "    'requestedAuthConfigs': {},\n",
       "    'stateDelta': {}}},\n",
       "  {'interrupted': None,\n",
       "   'partial': None,\n",
       "   'invocationId': 'e-b9397c1b-e387-4f51-a2d8-6430418d82e9',\n",
       "   'branch': None,\n",
       "   'id': '5649794869594423296',\n",
       "   'turnComplete': None,\n",
       "   'usageMetadata': None,\n",
       "   'content': {'role': 'user',\n",
       "    'parts': [{'fileData': None,\n",
       "      'thought': None,\n",
       "      'codeExecutionResult': None,\n",
       "      'inlineData': None,\n",
       "      'text': 'What do you do first?',\n",
       "      'videoMetadata': None,\n",
       "      'thoughtSignature': None,\n",
       "      'functionResponse': None,\n",
       "      'executableCode': None,\n",
       "      'functionCall': None}]},\n",
       "   'groundingMetadata': None,\n",
       "   'customMetadata': None,\n",
       "   'longRunningToolIds': None,\n",
       "   'timestamp': 1749406363.823968,\n",
       "   'errorCode': None,\n",
       "   'author': 'user',\n",
       "   'errorMessage': None,\n",
       "   'actions': {'artifactDelta': {},\n",
       "    'escalate': None,\n",
       "    'transferToAgent': None,\n",
       "    'skipSummarization': None,\n",
       "    'requestedAuthConfigs': {},\n",
       "    'stateDelta': {}}},\n",
       "  {'errorMessage': None,\n",
       "   'partial': None,\n",
       "   'invocationId': 'e-b9397c1b-e387-4f51-a2d8-6430418d82e9',\n",
       "   'branch': None,\n",
       "   'id': '7271090735447801856',\n",
       "   'turnComplete': None,\n",
       "   'usageMetadata': None,\n",
       "   'content': {'role': 'model',\n",
       "    'parts': [{'fileData': None,\n",
       "      'thought': None,\n",
       "      'codeExecutionResult': None,\n",
       "      'text': 'The first thing I need to do is obtain the document you want to process. Please upload a PDF/PNG file or provide the GCS URI (bucket and path) for the document.\\n',\n",
       "      'inlineData': None,\n",
       "      'videoMetadata': None,\n",
       "      'thoughtSignature': None,\n",
       "      'functionResponse': None,\n",
       "      'executableCode': None,\n",
       "      'functionCall': None}]},\n",
       "   'groundingMetadata': None,\n",
       "   'customMetadata': None,\n",
       "   'longRunningToolIds': None,\n",
       "   'timestamp': 1749406364.031439,\n",
       "   'errorCode': None,\n",
       "   'author': 'document_agent',\n",
       "   'interrupted': None,\n",
       "   'actions': {'artifactDelta': {},\n",
       "    'escalate': None,\n",
       "    'transferToAgent': None,\n",
       "    'skipSummarization': None,\n",
       "    'requestedAuthConfigs': {},\n",
       "    'stateDelta': {}}},\n",
       "  {'interrupted': None,\n",
       "   'invocationId': 'e-1b95e891-dbb1-4bf9-bd7a-0f12e62241b6',\n",
       "   'partial': None,\n",
       "   'branch': None,\n",
       "   'id': '7217047539919355904',\n",
       "   'turnComplete': None,\n",
       "   'usageMetadata': None,\n",
       "   'content': {'role': 'user',\n",
       "    'parts': [{'fileData': None,\n",
       "      'thought': None,\n",
       "      'codeExecutionResult': None,\n",
       "      'inlineData': None,\n",
       "      'text': 'use this file: gs://statmike-mlops-349915/applied-ml-solution-prototypes/document-processing/vendor_2/fake_invoices/vendor_2_invoice_10.pdf',\n",
       "      'videoMetadata': None,\n",
       "      'functionResponse': None,\n",
       "      'thoughtSignature': None,\n",
       "      'executableCode': None,\n",
       "      'functionCall': None}]},\n",
       "   'groundingMetadata': None,\n",
       "   'customMetadata': None,\n",
       "   'longRunningToolIds': None,\n",
       "   'errorCode': None,\n",
       "   'timestamp': 1749406368.913703,\n",
       "   'author': 'user',\n",
       "   'errorMessage': None,\n",
       "   'actions': {'artifactDelta': {},\n",
       "    'escalate': None,\n",
       "    'transferToAgent': None,\n",
       "    'skipSummarization': None,\n",
       "    'requestedAuthConfigs': {},\n",
       "    'stateDelta': {}}},\n",
       "  {'interrupted': None,\n",
       "   'partial': None,\n",
       "   'invocationId': 'e-1b95e891-dbb1-4bf9-bd7a-0f12e62241b6',\n",
       "   'branch': None,\n",
       "   'id': '6748673178672824320',\n",
       "   'turnComplete': None,\n",
       "   'usageMetadata': None,\n",
       "   'content': {'role': 'model',\n",
       "    'parts': [{'fileData': None,\n",
       "      'thought': None,\n",
       "      'codeExecutionResult': None,\n",
       "      'inlineData': None,\n",
       "      'text': None,\n",
       "      'videoMetadata': None,\n",
       "      'functionResponse': None,\n",
       "      'thoughtSignature': None,\n",
       "      'executableCode': None,\n",
       "      'functionCall': {'id': 'adk-ec674964-45f1-459b-8766-6a92b9fedc15',\n",
       "       'args': {'gcs_bucket': 'statmike-mlops-349915',\n",
       "        'gcs_file_path': 'applied-ml-solution-prototypes/document-processing/vendor_2/fake_invoices/vendor_2_invoice_10.pdf'},\n",
       "       'name': 'get_gcs_file'}}]},\n",
       "   'groundingMetadata': None,\n",
       "   'customMetadata': None,\n",
       "   'longRunningToolIds': None,\n",
       "   'errorCode': None,\n",
       "   'timestamp': 1749406369.072304,\n",
       "   'author': 'document_agent',\n",
       "   'errorMessage': None,\n",
       "   'actions': {'artifactDelta': {},\n",
       "    'escalate': None,\n",
       "    'skipSummarization': None,\n",
       "    'transferToAgent': None,\n",
       "    'requestedAuthConfigs': {},\n",
       "    'stateDelta': {}}},\n",
       "  {'interrupted': None,\n",
       "   'partial': None,\n",
       "   'invocationId': 'e-1b95e891-dbb1-4bf9-bd7a-0f12e62241b6',\n",
       "   'branch': None,\n",
       "   'id': '4442830169459130368',\n",
       "   'turnComplete': None,\n",
       "   'usageMetadata': None,\n",
       "   'content': {'role': 'user',\n",
       "    'parts': [{'fileData': None,\n",
       "      'thought': None,\n",
       "      'codeExecutionResult': None,\n",
       "      'inlineData': None,\n",
       "      'text': None,\n",
       "      'videoMetadata': None,\n",
       "      'thoughtSignature': None,\n",
       "      'functionResponse': {'id': 'adk-ec674964-45f1-459b-8766-6a92b9fedc15',\n",
       "       'scheduling': None,\n",
       "       'response': {'result': 'The file vendor_2_invoice_10.pdf of type application/pdf and size 256029 bytes was loaded as an artifact with artifact_key = gcsfile_statmike-mlops-349915_applied-ml-solution-prototypes_document-processing_vendor_2_fake_invoices_vendor_2_invoice_10.pdf and version = 0.\\nNote that pdf files are internally converted to png images (first page).'},\n",
       "       'willContinue': None,\n",
       "       'name': 'get_gcs_file'},\n",
       "      'executableCode': None,\n",
       "      'functionCall': None}]},\n",
       "   'groundingMetadata': None,\n",
       "   'customMetadata': None,\n",
       "   'longRunningToolIds': None,\n",
       "   'timestamp': 1749406370.666711,\n",
       "   'errorCode': None,\n",
       "   'author': 'document_agent',\n",
       "   'errorMessage': None,\n",
       "   'actions': {'artifactDelta': {'gcsfile_statmike-mlops-349915_applied-ml-solution-prototypes_document-processing_vendor_2_fake_invoices_vendor_2_invoice_10.pdf': 0.0},\n",
       "    'escalate': None,\n",
       "    'transferToAgent': None,\n",
       "    'skipSummarization': None,\n",
       "    'requestedAuthConfigs': {},\n",
       "    'stateDelta': {}}},\n",
       "  {'interrupted': None,\n",
       "   'invocationId': 'e-1b95e891-dbb1-4bf9-bd7a-0f12e62241b6',\n",
       "   'partial': None,\n",
       "   'branch': None,\n",
       "   'id': '3105261080130093056',\n",
       "   'turnComplete': None,\n",
       "   'usageMetadata': None,\n",
       "   'content': {'role': 'model',\n",
       "    'parts': [{'fileData': None,\n",
       "      'thought': None,\n",
       "      'codeExecutionResult': None,\n",
       "      'text': 'Okay, I have loaded the file from GCS. The artifact key for this document is `gcsfile_statmike-mlops-349915_applied-ml-solution-prototypes_document-processing_vendor_2_fake_invoices_vendor_2_invoice_10.pdf`.\\n',\n",
       "      'inlineData': None,\n",
       "      'videoMetadata': None,\n",
       "      'thoughtSignature': None,\n",
       "      'functionResponse': None,\n",
       "      'executableCode': None,\n",
       "      'functionCall': None}]},\n",
       "   'groundingMetadata': None,\n",
       "   'customMetadata': None,\n",
       "   'longRunningToolIds': None,\n",
       "   'errorCode': None,\n",
       "   'timestamp': 1749406370.835171,\n",
       "   'author': 'document_agent',\n",
       "   'errorMessage': None,\n",
       "   'actions': {'artifactDelta': {},\n",
       "    'escalate': None,\n",
       "    'transferToAgent': None,\n",
       "    'skipSummarization': None,\n",
       "    'requestedAuthConfigs': {},\n",
       "    'stateDelta': {}}},\n",
       "  {'errorMessage': None,\n",
       "   'partial': None,\n",
       "   'invocationId': 'e-66d76bef-9642-4a9c-a262-d55a2bdbeaf7',\n",
       "   'branch': None,\n",
       "   'id': '8509580632974688256',\n",
       "   'turnComplete': None,\n",
       "   'usageMetadata': None,\n",
       "   'content': {'role': 'user',\n",
       "    'parts': [{'fileData': None,\n",
       "      'thought': None,\n",
       "      'codeExecutionResult': None,\n",
       "      'text': 'Do you do data extraction?',\n",
       "      'inlineData': None,\n",
       "      'videoMetadata': None,\n",
       "      'functionResponse': None,\n",
       "      'thoughtSignature': None,\n",
       "      'executableCode': None,\n",
       "      'functionCall': None}]},\n",
       "   'groundingMetadata': None,\n",
       "   'customMetadata': None,\n",
       "   'longRunningToolIds': None,\n",
       "   'timestamp': 1749415086.94518,\n",
       "   'errorCode': None,\n",
       "   'author': 'user',\n",
       "   'interrupted': None,\n",
       "   'actions': {'artifactDelta': {},\n",
       "    'escalate': None,\n",
       "    'transferToAgent': None,\n",
       "    'skipSummarization': None,\n",
       "    'requestedAuthConfigs': {},\n",
       "    'stateDelta': {}}},\n",
       "  {'interrupted': None,\n",
       "   'partial': None,\n",
       "   'invocationId': 'e-66d76bef-9642-4a9c-a262-d55a2bdbeaf7',\n",
       "   'branch': None,\n",
       "   'id': '1015590853030182912',\n",
       "   'turnComplete': None,\n",
       "   'usageMetadata': None,\n",
       "   'content': {'role': 'model',\n",
       "    'parts': [{'fileData': None,\n",
       "      'thought': None,\n",
       "      'codeExecutionResult': None,\n",
       "      'inlineData': None,\n",
       "      'text': 'Yes, I can perform data extraction. Would you like me to extract the data from the document I just loaded?\\n',\n",
       "      'videoMetadata': None,\n",
       "      'functionResponse': None,\n",
       "      'thoughtSignature': None,\n",
       "      'executableCode': None,\n",
       "      'functionCall': None}]},\n",
       "   'groundingMetadata': None,\n",
       "   'customMetadata': None,\n",
       "   'longRunningToolIds': None,\n",
       "   'errorCode': None,\n",
       "   'timestamp': 1749415087.1036,\n",
       "   'author': 'document_agent',\n",
       "   'errorMessage': None,\n",
       "   'actions': {'artifactDelta': {},\n",
       "    'escalate': None,\n",
       "    'skipSummarization': None,\n",
       "    'transferToAgent': None,\n",
       "    'requestedAuthConfigs': {},\n",
       "    'stateDelta': {}}},\n",
       "  {'errorMessage': None,\n",
       "   'invocationId': 'e-7ab1118e-7699-464e-a625-f2ceedf35927',\n",
       "   'partial': None,\n",
       "   'branch': None,\n",
       "   'id': '5627276871457570816',\n",
       "   'turnComplete': None,\n",
       "   'usageMetadata': None,\n",
       "   'content': {'role': 'user',\n",
       "    'parts': [{'fileData': None,\n",
       "      'thought': None,\n",
       "      'codeExecutionResult': None,\n",
       "      'inlineData': None,\n",
       "      'text': 'Do you do data extraction?',\n",
       "      'videoMetadata': None,\n",
       "      'functionResponse': None,\n",
       "      'thoughtSignature': None,\n",
       "      'executableCode': None,\n",
       "      'functionCall': None}]},\n",
       "   'groundingMetadata': None,\n",
       "   'customMetadata': None,\n",
       "   'longRunningToolIds': None,\n",
       "   'timestamp': 1749415164.400372,\n",
       "   'errorCode': None,\n",
       "   'author': 'user',\n",
       "   'interrupted': None,\n",
       "   'actions': {'artifactDelta': {},\n",
       "    'escalate': None,\n",
       "    'transferToAgent': None,\n",
       "    'skipSummarization': None,\n",
       "    'requestedAuthConfigs': {},\n",
       "    'stateDelta': {}}},\n",
       "  {'errorMessage': None,\n",
       "   'invocationId': 'e-7ab1118e-7699-464e-a625-f2ceedf35927',\n",
       "   'partial': None,\n",
       "   'branch': None,\n",
       "   'id': '6041608037175656448',\n",
       "   'turnComplete': None,\n",
       "   'usageMetadata': None,\n",
       "   'content': {'role': 'model',\n",
       "    'parts': [{'fileData': None,\n",
       "      'thought': None,\n",
       "      'codeExecutionResult': None,\n",
       "      'inlineData': None,\n",
       "      'text': 'Yes, I can perform data extraction on the document. Would you like me to proceed with extracting the data from the document I just loaded with artifact key `gcsfile_statmike-mlops-349915_applied-ml-solution-prototypes_document-processing_vendor_2_fake_invoices_vendor_2_invoice_10.pdf`?\\n',\n",
       "      'videoMetadata': None,\n",
       "      'thoughtSignature': None,\n",
       "      'functionResponse': None,\n",
       "      'executableCode': None,\n",
       "      'functionCall': None}]},\n",
       "   'groundingMetadata': None,\n",
       "   'customMetadata': None,\n",
       "   'longRunningToolIds': None,\n",
       "   'timestamp': 1749415164.650748,\n",
       "   'errorCode': None,\n",
       "   'author': 'document_agent',\n",
       "   'interrupted': None,\n",
       "   'actions': {'artifactDelta': {},\n",
       "    'escalate': None,\n",
       "    'transferToAgent': None,\n",
       "    'skipSummarization': None,\n",
       "    'requestedAuthConfigs': {},\n",
       "    'stateDelta': {}}}],\n",
       " 'appName': '1988805428414251008',\n",
       " 'userId': 'u_123'}"
      ]
     },
     "metadata": {},
     "output_type": "display_data"
    }
   ],
   "source": [
    "remote_app.get_session(user_id = 'u_123', session_id = remote_session['id'])"
   ]
  },
  {
   "cell_type": "code",
   "execution_count": null,
   "id": "c6a0aabb",
   "metadata": {},
   "outputs": [
    {
     "name": "stdout",
     "output_type": "stream",
     "text": [
      "{'errorMessage': None, 'invocationId': 'e-677976b1-9315-4f8e-96c0-d31af507916e', 'partial': None, 'branch': None, 'id': '1038108851167035392', 'turnComplete': None, 'usageMetadata': None, 'content': {'role': 'user', 'parts': [{'fileData': None, 'thought': None, 'codeExecutionResult': None, 'inlineData': None, 'text': 'What do you do?', 'videoMetadata': None, 'functionResponse': None, 'thoughtSignature': None, 'executableCode': None, 'functionCall': None}]}, 'groundingMetadata': None, 'customMetadata': None, 'longRunningToolIds': None, 'errorCode': None, 'timestamp': 1749406356.673932, 'author': 'user', 'interrupted': None, 'actions': {'artifactDelta': {}, 'escalate': None, 'skipSummarization': None, 'transferToAgent': None, 'requestedAuthConfigs': {}, 'stateDelta': {}}}\n",
      "{'errorMessage': None, 'invocationId': 'e-677976b1-9315-4f8e-96c0-d31af507916e', 'partial': None, 'branch': None, 'id': '5411104089343787008', 'turnComplete': None, 'usageMetadata': None, 'content': {'role': 'model', 'parts': [{'fileData': None, 'thought': None, 'codeExecutionResult': None, 'text': 'I am the primary agent that processes document related requests. I can load documents, classify them, extract data, and compare them to vendor templates. To start, please upload a PDF/PNG file or provide the GCS URI (bucket and path) for the document you want to process.\\n', 'inlineData': None, 'videoMetadata': None, 'thoughtSignature': None, 'functionResponse': None, 'executableCode': None, 'functionCall': None}]}, 'groundingMetadata': None, 'customMetadata': None, 'longRunningToolIds': None, 'errorCode': None, 'timestamp': 1749406356.888147, 'author': 'document_agent', 'interrupted': None, 'actions': {'artifactDelta': {}, 'escalate': None, 'transferToAgent': None, 'skipSummarization': None, 'requestedAuthConfigs': {}, 'stateDelta': {}}}\n",
      "{'errorMessage': None, 'invocationId': 'e-c488389d-2afb-46cf-8b12-b8e7d1e6599a', 'partial': None, 'branch': None, 'id': '7901594683279671296', 'turnComplete': None, 'usageMetadata': None, 'content': {'role': 'user', 'parts': [{'fileData': None, 'thought': None, 'codeExecutionResult': None, 'text': 'What do you do best?', 'inlineData': None, 'videoMetadata': None, 'functionResponse': None, 'thoughtSignature': None, 'executableCode': None, 'functionCall': None}]}, 'groundingMetadata': None, 'customMetadata': None, 'longRunningToolIds': None, 'timestamp': 1749406359.189419, 'errorCode': None, 'author': 'user', 'interrupted': None, 'actions': {'artifactDelta': {}, 'escalate': None, 'transferToAgent': None, 'skipSummarization': None, 'requestedAuthConfigs': {}, 'stateDelta': {}}}\n",
      "{'interrupted': None, 'invocationId': 'e-c488389d-2afb-46cf-8b12-b8e7d1e6599a', 'partial': None, 'branch': None, 'id': '2136987160245436416', 'turnComplete': None, 'usageMetadata': None, 'content': {'role': 'model', 'parts': [{'fileData': None, 'thought': None, 'codeExecutionResult': None, 'inlineData': None, 'text': 'I am designed to orchestrate document processing workflows. This means I am best at handling the overall process of taking a document, preparing it using various tools, and then dispatching it to specialized sub-agents for tasks like in-depth analysis, comparison, or answering specific questions about the content. I ensure all the necessary steps are completed in the correct order and that the results are presented to you clearly. I am also capable of remembering key information, such as artifact keys and classification results, to be used in subsequent steps.\\n', 'videoMetadata': None, 'thoughtSignature': None, 'functionResponse': None, 'executableCode': None, 'functionCall': None}]}, 'groundingMetadata': None, 'customMetadata': None, 'longRunningToolIds': None, 'errorCode': None, 'timestamp': 1749406359.416949, 'author': 'document_agent', 'errorMessage': None, 'actions': {'artifactDelta': {}, 'escalate': None, 'transferToAgent': None, 'skipSummarization': None, 'requestedAuthConfigs': {}, 'stateDelta': {}}}\n",
      "{'interrupted': None, 'invocationId': 'e-b9397c1b-e387-4f51-a2d8-6430418d82e9', 'partial': None, 'branch': None, 'id': '5649794869594423296', 'turnComplete': None, 'usageMetadata': None, 'content': {'role': 'user', 'parts': [{'fileData': None, 'thought': None, 'codeExecutionResult': None, 'inlineData': None, 'text': 'What do you do first?', 'videoMetadata': None, 'thoughtSignature': None, 'functionResponse': None, 'executableCode': None, 'functionCall': None}]}, 'groundingMetadata': None, 'customMetadata': None, 'longRunningToolIds': None, 'timestamp': 1749406363.823968, 'errorCode': None, 'author': 'user', 'errorMessage': None, 'actions': {'artifactDelta': {}, 'escalate': None, 'transferToAgent': None, 'skipSummarization': None, 'requestedAuthConfigs': {}, 'stateDelta': {}}}\n",
      "{'errorMessage': None, 'partial': None, 'invocationId': 'e-b9397c1b-e387-4f51-a2d8-6430418d82e9', 'branch': None, 'id': '7271090735447801856', 'turnComplete': None, 'usageMetadata': None, 'content': {'role': 'model', 'parts': [{'fileData': None, 'thought': None, 'codeExecutionResult': None, 'text': 'The first thing I need to do is obtain the document you want to process. Please upload a PDF/PNG file or provide the GCS URI (bucket and path) for the document.\\n', 'inlineData': None, 'videoMetadata': None, 'thoughtSignature': None, 'functionResponse': None, 'executableCode': None, 'functionCall': None}]}, 'groundingMetadata': None, 'customMetadata': None, 'longRunningToolIds': None, 'errorCode': None, 'timestamp': 1749406364.031439, 'author': 'document_agent', 'interrupted': None, 'actions': {'artifactDelta': {}, 'escalate': None, 'skipSummarization': None, 'transferToAgent': None, 'requestedAuthConfigs': {}, 'stateDelta': {}}}\n",
      "{'errorMessage': None, 'invocationId': 'e-1b95e891-dbb1-4bf9-bd7a-0f12e62241b6', 'partial': None, 'branch': None, 'id': '7217047539919355904', 'turnComplete': None, 'usageMetadata': None, 'content': {'role': 'user', 'parts': [{'fileData': None, 'thought': None, 'codeExecutionResult': None, 'inlineData': None, 'text': 'use this file: gs://statmike-mlops-349915/applied-ml-solution-prototypes/document-processing/vendor_2/fake_invoices/vendor_2_invoice_10.pdf', 'videoMetadata': None, 'thoughtSignature': None, 'functionResponse': None, 'executableCode': None, 'functionCall': None}]}, 'groundingMetadata': None, 'customMetadata': None, 'longRunningToolIds': None, 'timestamp': 1749406368.913703, 'errorCode': None, 'author': 'user', 'interrupted': None, 'actions': {'artifactDelta': {}, 'escalate': None, 'transferToAgent': None, 'skipSummarization': None, 'requestedAuthConfigs': {}, 'stateDelta': {}}}\n",
      "{'interrupted': None, 'invocationId': 'e-1b95e891-dbb1-4bf9-bd7a-0f12e62241b6', 'partial': None, 'branch': None, 'id': '6748673178672824320', 'turnComplete': None, 'usageMetadata': None, 'content': {'role': 'model', 'parts': [{'fileData': None, 'thought': None, 'codeExecutionResult': None, 'text': None, 'inlineData': None, 'videoMetadata': None, 'thoughtSignature': None, 'functionResponse': None, 'executableCode': None, 'functionCall': {'id': 'adk-ec674964-45f1-459b-8766-6a92b9fedc15', 'args': {'gcs_bucket': 'statmike-mlops-349915', 'gcs_file_path': 'applied-ml-solution-prototypes/document-processing/vendor_2/fake_invoices/vendor_2_invoice_10.pdf'}, 'name': 'get_gcs_file'}}]}, 'groundingMetadata': None, 'customMetadata': None, 'longRunningToolIds': None, 'timestamp': 1749406369.072304, 'errorCode': None, 'author': 'document_agent', 'errorMessage': None, 'actions': {'artifactDelta': {}, 'escalate': None, 'transferToAgent': None, 'skipSummarization': None, 'requestedAuthConfigs': {}, 'stateDelta': {}}}\n",
      "{'errorMessage': None, 'invocationId': 'e-1b95e891-dbb1-4bf9-bd7a-0f12e62241b6', 'partial': None, 'branch': None, 'id': '4442830169459130368', 'turnComplete': None, 'usageMetadata': None, 'content': {'role': 'user', 'parts': [{'fileData': None, 'thought': None, 'codeExecutionResult': None, 'inlineData': None, 'text': None, 'videoMetadata': None, 'functionResponse': {'willContinue': None, 'response': {'result': 'The file vendor_2_invoice_10.pdf of type application/pdf and size 256029 bytes was loaded as an artifact with artifact_key = gcsfile_statmike-mlops-349915_applied-ml-solution-prototypes_document-processing_vendor_2_fake_invoices_vendor_2_invoice_10.pdf and version = 0.\\nNote that pdf files are internally converted to png images (first page).'}, 'scheduling': None, 'id': 'adk-ec674964-45f1-459b-8766-6a92b9fedc15', 'name': 'get_gcs_file'}, 'thoughtSignature': None, 'executableCode': None, 'functionCall': None}]}, 'groundingMetadata': None, 'customMetadata': None, 'longRunningToolIds': None, 'errorCode': None, 'timestamp': 1749406370.666711, 'author': 'document_agent', 'interrupted': None, 'actions': {'artifactDelta': {'gcsfile_statmike-mlops-349915_applied-ml-solution-prototypes_document-processing_vendor_2_fake_invoices_vendor_2_invoice_10.pdf': 0.0}, 'escalate': None, 'transferToAgent': None, 'skipSummarization': None, 'requestedAuthConfigs': {}, 'stateDelta': {}}}\n",
      "{'interrupted': None, 'partial': None, 'invocationId': 'e-1b95e891-dbb1-4bf9-bd7a-0f12e62241b6', 'branch': None, 'id': '3105261080130093056', 'turnComplete': None, 'usageMetadata': None, 'content': {'role': 'model', 'parts': [{'fileData': None, 'thought': None, 'codeExecutionResult': None, 'inlineData': None, 'text': 'Okay, I have loaded the file from GCS. The artifact key for this document is `gcsfile_statmike-mlops-349915_applied-ml-solution-prototypes_document-processing_vendor_2_fake_invoices_vendor_2_invoice_10.pdf`.\\n', 'videoMetadata': None, 'thoughtSignature': None, 'functionResponse': None, 'executableCode': None, 'functionCall': None}]}, 'groundingMetadata': None, 'customMetadata': None, 'longRunningToolIds': None, 'errorCode': None, 'timestamp': 1749406370.835171, 'author': 'document_agent', 'errorMessage': None, 'actions': {'artifactDelta': {}, 'escalate': None, 'skipSummarization': None, 'transferToAgent': None, 'requestedAuthConfigs': {}, 'stateDelta': {}}}\n",
      "{'errorMessage': None, 'partial': None, 'invocationId': 'e-66d76bef-9642-4a9c-a262-d55a2bdbeaf7', 'branch': None, 'id': '8509580632974688256', 'turnComplete': None, 'usageMetadata': None, 'content': {'role': 'user', 'parts': [{'fileData': None, 'thought': None, 'codeExecutionResult': None, 'inlineData': None, 'text': 'Do you do data extraction?', 'videoMetadata': None, 'thoughtSignature': None, 'functionResponse': None, 'executableCode': None, 'functionCall': None}]}, 'groundingMetadata': None, 'customMetadata': None, 'longRunningToolIds': None, 'timestamp': 1749415086.94518, 'errorCode': None, 'author': 'user', 'interrupted': None, 'actions': {'artifactDelta': {}, 'escalate': None, 'skipSummarization': None, 'transferToAgent': None, 'requestedAuthConfigs': {}, 'stateDelta': {}}}\n",
      "{'errorMessage': None, 'partial': None, 'invocationId': 'e-66d76bef-9642-4a9c-a262-d55a2bdbeaf7', 'branch': None, 'id': '1015590853030182912', 'turnComplete': None, 'usageMetadata': None, 'content': {'role': 'model', 'parts': [{'fileData': None, 'thought': None, 'codeExecutionResult': None, 'text': 'Yes, I can perform data extraction. Would you like me to extract the data from the document I just loaded?\\n', 'inlineData': None, 'videoMetadata': None, 'functionResponse': None, 'thoughtSignature': None, 'executableCode': None, 'functionCall': None}]}, 'groundingMetadata': None, 'customMetadata': None, 'longRunningToolIds': None, 'errorCode': None, 'timestamp': 1749415087.1036, 'author': 'document_agent', 'interrupted': None, 'actions': {'artifactDelta': {}, 'escalate': None, 'transferToAgent': None, 'skipSummarization': None, 'requestedAuthConfigs': {}, 'stateDelta': {}}}\n",
      "{'interrupted': None, 'invocationId': 'e-7ab1118e-7699-464e-a625-f2ceedf35927', 'partial': None, 'branch': None, 'id': '5627276871457570816', 'turnComplete': None, 'usageMetadata': None, 'content': {'role': 'user', 'parts': [{'fileData': None, 'thought': None, 'codeExecutionResult': None, 'inlineData': None, 'text': 'Do you do data extraction?', 'videoMetadata': None, 'functionResponse': None, 'thoughtSignature': None, 'executableCode': None, 'functionCall': None}]}, 'groundingMetadata': None, 'customMetadata': None, 'longRunningToolIds': None, 'errorCode': None, 'timestamp': 1749415164.400372, 'author': 'user', 'errorMessage': None, 'actions': {'artifactDelta': {}, 'escalate': None, 'transferToAgent': None, 'skipSummarization': None, 'requestedAuthConfigs': {}, 'stateDelta': {}}}\n",
      "{'interrupted': None, 'invocationId': 'e-7ab1118e-7699-464e-a625-f2ceedf35927', 'partial': None, 'branch': None, 'id': '6041608037175656448', 'turnComplete': None, 'usageMetadata': None, 'content': {'role': 'model', 'parts': [{'fileData': None, 'thought': None, 'codeExecutionResult': None, 'inlineData': None, 'text': 'Yes, I can perform data extraction on the document. Would you like me to proceed with extracting the data from the document I just loaded with artifact key `gcsfile_statmike-mlops-349915_applied-ml-solution-prototypes_document-processing_vendor_2_fake_invoices_vendor_2_invoice_10.pdf`?\\n', 'videoMetadata': None, 'functionResponse': None, 'thoughtSignature': None, 'executableCode': None, 'functionCall': None}]}, 'groundingMetadata': None, 'customMetadata': None, 'longRunningToolIds': None, 'errorCode': None, 'timestamp': 1749415164.650748, 'author': 'document_agent', 'errorMessage': None, 'actions': {'artifactDelta': {}, 'escalate': None, 'transferToAgent': None, 'skipSummarization': None, 'requestedAuthConfigs': {}, 'stateDelta': {}}}\n"
     ]
    }
   ],
   "source": [
    "for event in remote_app.get_session(user_id = 'u_123', session_id = remote_session['id'])['events']:\n",
    "    print(event)"
   ]
  },
  {
   "cell_type": "code",
   "execution_count": null,
   "id": "7a44304c",
   "metadata": {},
   "outputs": [],
   "source": [
    "remote_app.delete_session(user_id = 'u_123', session_id = remote_session['id'])"
   ]
  },
  {
   "cell_type": "code",
   "execution_count": null,
   "id": "6c4989af",
   "metadata": {},
   "outputs": [
    {
     "data": {
      "text/plain": [
       "{'sessions': []}"
      ]
     },
     "metadata": {},
     "output_type": "display_data"
    }
   ],
   "source": [
    "remote_app.list_sessions(user_id = 'u_123')"
   ]
  },
  {
   "cell_type": "code",
   "execution_count": null,
   "id": "081d9da9",
   "metadata": {},
   "outputs": [],
   "source": [
    "delete_app = False\n",
    "\n",
    "if delete_app and remote_app:\n",
    "    task = remote_app.delete(force = True)"
   ]
  },
  {
   "cell_type": "markdown",
   "id": "b932be99",
   "metadata": {},
   "source": [
    "---\n",
    "### Environment Level Work"
   ]
  },
  {
   "cell_type": "code",
   "execution_count": 14,
   "id": "b2a414ba",
   "metadata": {},
   "outputs": [],
   "source": [
    "users = ['u_123', 'gradio_user_123', 'mesop_user_123', 'streamlit_user_123']\n",
    "test_user_id = users[2]\n",
    "test_session_id = ''"
   ]
  },
  {
   "cell_type": "code",
   "execution_count": 9,
   "id": "5417199f",
   "metadata": {},
   "outputs": [
    {
     "data": {
      "text/plain": [
       "[{'id': '350045469621092352',\n",
       "  'events': [],\n",
       "  'lastUpdateTime': 1749664549.056593,\n",
       "  'state': {},\n",
       "  'appName': '1988805428414251008',\n",
       "  'userId': 'mesop_user_123'}]"
      ]
     },
     "execution_count": 9,
     "metadata": {},
     "output_type": "execute_result"
    }
   ],
   "source": [
    "sessions = remote_app.list_sessions(user_id = test_user_id)['sessions']\n",
    "sessions"
   ]
  },
  {
   "cell_type": "code",
   "execution_count": 10,
   "id": "47bc1f83",
   "metadata": {},
   "outputs": [
    {
     "name": "stdout",
     "output_type": "stream",
     "text": [
      "{'interrupted': None, 'invocationId': 'e-8b53e36c-4f2f-480c-bfc8-f51a5a68be88', 'partial': None, 'branch': None, 'id': '505030429649141760', 'turnComplete': None, 'usageMetadata': None, 'content': {'role': 'user', 'parts': [{'fileData': None, 'thought': None, 'codeExecutionResult': None, 'text': 'how do I get started?', 'inlineData': None, 'videoMetadata': None, 'thoughtSignature': None, 'functionResponse': None, 'executableCode': None, 'functionCall': None}]}, 'groundingMetadata': None, 'customMetadata': None, 'longRunningToolIds': None, 'timestamp': 1749664507.994463, 'errorCode': None, 'author': 'user', 'errorMessage': None, 'actions': {'artifactDelta': {}, 'escalate': None, 'skipSummarization': None, 'transferToAgent': None, 'requestedAuthConfigs': {}, 'stateDelta': {}}}\n",
      "{'errorMessage': None, 'invocationId': 'e-8b53e36c-4f2f-480c-bfc8-f51a5a68be88', 'partial': None, 'branch': None, 'id': '2459592667927937024', 'turnComplete': None, 'usageMetadata': None, 'content': {'role': 'model', 'parts': [{'fileData': None, 'thought': None, 'codeExecutionResult': None, 'text': 'To get started, you need to provide a document for processing. You can either upload a PDF or PNG file directly, or provide the GCS URI (bucket and path) for the document. Please upload a file or provide the GCS URI so I can load the document.\\n', 'inlineData': None, 'videoMetadata': None, 'thoughtSignature': None, 'functionResponse': None, 'executableCode': None, 'functionCall': None}]}, 'groundingMetadata': None, 'customMetadata': None, 'longRunningToolIds': None, 'timestamp': 1749664508.16856, 'errorCode': None, 'author': 'document_agent', 'interrupted': None, 'actions': {'artifactDelta': {}, 'escalate': None, 'transferToAgent': None, 'skipSummarization': None, 'requestedAuthConfigs': {}, 'stateDelta': {}}}\n",
      "{'errorMessage': None, 'invocationId': 'e-1aa81e7f-ea0e-4ec1-a91f-31b71e6ff2c1', 'partial': None, 'branch': None, 'id': '5116716448076529664', 'turnComplete': None, 'usageMetadata': None, 'content': {'role': 'user', 'parts': [{'fileData': None, 'thought': None, 'codeExecutionResult': None, 'inlineData': None, 'text': 'use this file: gs://statmike-mlops-349915/applied-ml-solution-prototypes/document-processing/vendor_2/fake_invoices/vendor_2_invoice_10.pdf', 'videoMetadata': None, 'thoughtSignature': None, 'functionResponse': None, 'executableCode': None, 'functionCall': None}]}, 'groundingMetadata': None, 'customMetadata': None, 'longRunningToolIds': None, 'errorCode': None, 'timestamp': 1749664534.712255, 'author': 'user', 'interrupted': None, 'actions': {'artifactDelta': {}, 'escalate': None, 'skipSummarization': None, 'transferToAgent': None, 'requestedAuthConfigs': {}, 'stateDelta': {}}}\n",
      "{'errorMessage': None, 'invocationId': 'e-1aa81e7f-ea0e-4ec1-a91f-31b71e6ff2c1', 'partial': None, 'branch': None, 'id': '3000024623212396544', 'turnComplete': None, 'usageMetadata': None, 'content': {'role': 'model', 'parts': [{'fileData': None, 'thought': None, 'codeExecutionResult': None, 'inlineData': None, 'text': None, 'videoMetadata': None, 'functionResponse': None, 'thoughtSignature': None, 'executableCode': None, 'functionCall': {'id': 'adk-e8fc5bbe-73b3-46e2-8eff-6ef5c619dac4', 'args': {'gcs_bucket': 'statmike-mlops-349915', 'gcs_file_path': 'applied-ml-solution-prototypes/document-processing/vendor_2/fake_invoices/vendor_2_invoice_10.pdf'}, 'name': 'get_gcs_file'}}]}, 'groundingMetadata': None, 'customMetadata': None, 'longRunningToolIds': None, 'errorCode': None, 'timestamp': 1749664534.851659, 'author': 'document_agent', 'interrupted': None, 'actions': {'artifactDelta': {}, 'escalate': None, 'skipSummarization': None, 'transferToAgent': None, 'requestedAuthConfigs': {}, 'stateDelta': {}}}\n",
      "{'errorMessage': None, 'invocationId': 'e-1aa81e7f-ea0e-4ec1-a91f-31b71e6ff2c1', 'partial': None, 'branch': None, 'id': '2648743852277497856', 'turnComplete': None, 'usageMetadata': None, 'content': {'role': 'user', 'parts': [{'fileData': None, 'thought': None, 'codeExecutionResult': None, 'inlineData': None, 'text': None, 'videoMetadata': None, 'thoughtSignature': None, 'functionResponse': {'id': 'adk-e8fc5bbe-73b3-46e2-8eff-6ef5c619dac4', 'response': {'result': 'The file vendor_2_invoice_10.pdf of type application/pdf and size 256029 bytes was loaded as an artifact with artifact_key = gcsfile_statmike-mlops-349915_applied-ml-solution-prototypes_document-processing_vendor_2_fake_invoices_vendor_2_invoice_10.pdf and version = 0.\\nNote that pdf files are internally converted to png images (first page).'}, 'willContinue': None, 'scheduling': None, 'name': 'get_gcs_file'}, 'executableCode': None, 'functionCall': None}]}, 'groundingMetadata': None, 'customMetadata': None, 'longRunningToolIds': None, 'timestamp': 1749664536.479536, 'errorCode': None, 'author': 'document_agent', 'interrupted': None, 'actions': {'artifactDelta': {'gcsfile_statmike-mlops-349915_applied-ml-solution-prototypes_document-processing_vendor_2_fake_invoices_vendor_2_invoice_10.pdf': 0.0}, 'escalate': None, 'transferToAgent': None, 'skipSummarization': None, 'requestedAuthConfigs': {}, 'stateDelta': {}}}\n",
      "{'interrupted': None, 'invocationId': 'e-1aa81e7f-ea0e-4ec1-a91f-31b71e6ff2c1', 'partial': None, 'branch': None, 'id': '7611710641639784448', 'turnComplete': None, 'usageMetadata': None, 'content': {'role': 'model', 'parts': [{'fileData': None, 'thought': None, 'codeExecutionResult': None, 'text': 'OK. I have loaded the file from GCS. The artifact key is `gcsfile_statmike-mlops-349915_applied-ml-solution-prototypes_document-processing_vendor_2_fake_invoices_vendor_2_invoice_10.pdf`. What would you like to do next? For example, you can ask me to extract data from the document, classify it, or compare it to a vendor template.\\n', 'inlineData': None, 'videoMetadata': None, 'functionResponse': None, 'thoughtSignature': None, 'executableCode': None, 'functionCall': None}]}, 'groundingMetadata': None, 'customMetadata': None, 'longRunningToolIds': None, 'timestamp': 1749664536.638256, 'errorCode': None, 'author': 'document_agent', 'errorMessage': None, 'actions': {'artifactDelta': {}, 'escalate': None, 'skipSummarization': None, 'transferToAgent': None, 'requestedAuthConfigs': {}, 'stateDelta': {}}}\n",
      "{'interrupted': None, 'invocationId': 'e-c9462349-abf6-4fa2-b743-e8fe59ca8170', 'partial': None, 'branch': None, 'id': '3396341390421000192', 'turnComplete': None, 'usageMetadata': None, 'content': {'role': 'user', 'parts': [{'fileData': None, 'thought': None, 'codeExecutionResult': None, 'text': 'extract the contents', 'inlineData': None, 'videoMetadata': None, 'functionResponse': None, 'thoughtSignature': None, 'executableCode': None, 'functionCall': None}]}, 'groundingMetadata': None, 'customMetadata': None, 'longRunningToolIds': None, 'errorCode': None, 'timestamp': 1749664546.804735, 'author': 'user', 'errorMessage': None, 'actions': {'artifactDelta': {}, 'escalate': None, 'skipSummarization': None, 'transferToAgent': None, 'requestedAuthConfigs': {}, 'stateDelta': {}}}\n",
      "{'interrupted': None, 'partial': None, 'invocationId': 'e-c9462349-abf6-4fa2-b743-e8fe59ca8170', 'branch': None, 'id': '1306671163321090048', 'turnComplete': None, 'usageMetadata': None, 'content': {'role': 'model', 'parts': [{'fileData': None, 'thought': None, 'codeExecutionResult': None, 'text': None, 'inlineData': None, 'videoMetadata': None, 'functionResponse': None, 'thoughtSignature': None, 'executableCode': None, 'functionCall': {'id': 'adk-07911fc5-8ea2-458c-ba36-d9890f361a4a', 'args': {'artifact_key': 'gcsfile_statmike-mlops-349915_applied-ml-solution-prototypes_document-processing_vendor_2_fake_invoices_vendor_2_invoice_10.pdf'}, 'name': 'document_extraction'}}]}, 'groundingMetadata': None, 'customMetadata': None, 'longRunningToolIds': None, 'timestamp': 1749664546.9533, 'errorCode': None, 'author': 'document_agent', 'errorMessage': None, 'actions': {'artifactDelta': {}, 'escalate': None, 'skipSummarization': None, 'transferToAgent': None, 'requestedAuthConfigs': {}, 'stateDelta': {}}}\n",
      "{'interrupted': None, 'invocationId': 'e-c9462349-abf6-4fa2-b743-e8fe59ca8170', 'partial': None, 'branch': None, 'id': '2810873438862835712', 'turnComplete': None, 'usageMetadata': None, 'content': {'role': 'user', 'parts': [{'fileData': None, 'thought': None, 'codeExecutionResult': None, 'inlineData': None, 'text': None, 'videoMetadata': None, 'thoughtSignature': None, 'functionResponse': {'willContinue': None, 'response': {'result': 'An error occurred during document extraction or summarization for \\'gcsfile_statmike-mlops-349915_applied-ml-solution-prototypes_document-processing_vendor_2_fake_invoices_vendor_2_invoice_10.pdf\\': 403 Permission \\'documentai.processorVersions.processOnline\\' denied on resource \\'//documentai.googleapis.com/projects/1026793852137/locations/us/processors/7f04f5f3e6092d6a/processorVersions/51cb697cf226b5fd\\' (or it may not exist). [reason: \"IAM_PERMISSION_DENIED\"\\ndomain: \"documentai.googleapis.com\"\\nmetadata {\\n  key: \"resource\"\\n  value: \"projects/1026793852137/locations/us/processors/7f04f5f3e6092d6a/processorVersions/51cb697cf226b5fd\"\\n}\\nmetadata {\\n  key: \"permission\"\\n  value: \"documentai.processorVersions.processOnline\"\\n}\\n]'}, 'scheduling': None, 'id': 'adk-07911fc5-8ea2-458c-ba36-d9890f361a4a', 'name': 'document_extraction'}, 'executableCode': None, 'functionCall': None}]}, 'groundingMetadata': None, 'customMetadata': None, 'longRunningToolIds': None, 'timestamp': 1749664548.005599, 'errorCode': None, 'author': 'document_agent', 'errorMessage': None, 'actions': {'artifactDelta': {}, 'escalate': None, 'skipSummarization': None, 'transferToAgent': None, 'requestedAuthConfigs': {}, 'stateDelta': {}}}\n",
      "{'errorMessage': None, 'partial': None, 'invocationId': 'e-c9462349-abf6-4fa2-b743-e8fe59ca8170', 'branch': None, 'id': '7260429870704885760', 'turnComplete': None, 'usageMetadata': None, 'content': {'role': 'model', 'parts': [{'fileData': None, 'thought': None, 'codeExecutionResult': None, 'inlineData': None, 'text': \"Document extraction failed due to a permission error. It seems I don't have the necessary permissions to access the Document AI processor. I am unable to proceed with the extraction request at this time. Please contact the administrator to grant the required permissions.\\n\", 'videoMetadata': None, 'thoughtSignature': None, 'functionResponse': None, 'executableCode': None, 'functionCall': None}]}, 'groundingMetadata': None, 'customMetadata': None, 'longRunningToolIds': None, 'timestamp': 1749664548.166317, 'errorCode': None, 'author': 'document_agent', 'interrupted': None, 'actions': {'artifactDelta': {}, 'escalate': None, 'transferToAgent': None, 'skipSummarization': None, 'requestedAuthConfigs': {}, 'stateDelta': {}}}\n"
     ]
    }
   ],
   "source": [
    "try_session = sessions[0]['id']\n",
    "for event in remote_app.get_session(user_id = test_user_id, session_id = try_session)['events']:\n",
    "    print(event)\n"
   ]
  },
  {
   "cell_type": "code",
   "execution_count": 11,
   "id": "da92308f",
   "metadata": {},
   "outputs": [
    {
     "data": {
      "text/plain": [
       "\"Document extraction failed due to a permission error. It seems I don't have the necessary permissions to access the Document AI processor. I am unable to proceed with the extraction request at this time. Please contact the administrator to grant the required permissions.\\n\""
      ]
     },
     "execution_count": 11,
     "metadata": {},
     "output_type": "execute_result"
    }
   ],
   "source": [
    "event['content']['parts'][-1]['text']"
   ]
  },
  {
   "cell_type": "code",
   "execution_count": 12,
   "id": "e42bf043",
   "metadata": {},
   "outputs": [],
   "source": [
    "for sess in remote_app.list_sessions(user_id = test_user_id)['sessions']:\n",
    "    remote_app.delete_session(user_id = 'gradio_user_123', session_id = sess['id'])"
   ]
  },
  {
   "cell_type": "markdown",
   "id": "aece736a",
   "metadata": {},
   "source": [
    "### Delete All Sessions For Test Users"
   ]
  },
  {
   "cell_type": "code",
   "execution_count": 15,
   "id": "099d1fcb",
   "metadata": {},
   "outputs": [],
   "source": [
    "for u in users:\n",
    "    for s in remote_app.list_sessions(user_id = u)['sessions']:\n",
    "        remote_app.delete_session(user_id = u, session_id = s['id'])\n"
   ]
  },
  {
   "cell_type": "code",
   "execution_count": null,
   "id": "d3ee8330",
   "metadata": {},
   "outputs": [],
   "source": []
  },
  {
   "cell_type": "markdown",
   "id": "8d196dea",
   "metadata": {},
   "source": []
  }
 ],
 "metadata": {
  "kernelspec": {
   "display_name": ".venv",
   "language": "python",
   "name": "python3"
  },
  "language_info": {
   "codemirror_mode": {
    "name": "ipython",
    "version": 3
   },
   "file_extension": ".py",
   "mimetype": "text/x-python",
   "name": "python",
   "nbconvert_exporter": "python",
   "pygments_lexer": "ipython3",
   "version": "3.13.3"
  }
 },
 "nbformat": 4,
 "nbformat_minor": 5
}
