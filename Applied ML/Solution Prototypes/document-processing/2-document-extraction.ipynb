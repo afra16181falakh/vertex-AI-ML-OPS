{
 "cells": [
  {
   "cell_type": "markdown",
   "id": "5a0897d9",
   "metadata": {},
   "source": [
    "# Document Extraction With Document AI Customer Data Extractors"
   ]
  },
  {
   "cell_type": "markdown",
   "id": "81610362",
   "metadata": {},
   "source": []
  }
 ],
 "metadata": {
  "language_info": {
   "name": "python"
  }
 },
 "nbformat": 4,
 "nbformat_minor": 5
}
