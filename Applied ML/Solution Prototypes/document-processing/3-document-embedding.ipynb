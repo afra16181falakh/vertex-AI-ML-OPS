{
 "cells": [
  {
   "cell_type": "markdown",
   "id": "7e8dd516",
   "metadata": {},
   "source": [
    "# Generate Embeddings For Documents"
   ]
  },
  {
   "cell_type": "markdown",
   "id": "4e90b741",
   "metadata": {},
   "source": []
  }
 ],
 "metadata": {
  "language_info": {
   "name": "python"
  }
 },
 "nbformat": 4,
 "nbformat_minor": 5
}
