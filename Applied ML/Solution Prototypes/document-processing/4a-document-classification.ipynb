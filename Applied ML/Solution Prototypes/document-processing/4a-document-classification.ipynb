{
 "cells": [
  {
   "cell_type": "markdown",
   "id": "1587b4b6",
   "metadata": {},
   "source": [
    "![tracker](https://us-central1-vertex-ai-mlops-369716.cloudfunctions.net/pixel-tracking?path=statmike%2Fvertex-ai-mlops%2FApplied+ML%2FSolution+Prototypes%2Fdocument-processing&file=4a-document-classification.ipynb)\n",
    "<!--- header table --->\n",
    "<table align=\"left\">\n",
    "  <td style=\"text-align: center\">\n",
    "    <a href=\"https://github.com/statmike/vertex-ai-mlops/blob/main/Applied%20ML/Solution%20Prototypes/document-processing/4a-document-classification.ipynb\">\n",
    "      <img width=\"32px\" src=\"https://www.svgrepo.com/download/217753/github.svg\" alt=\"GitHub logo\">\n",
    "      <br>View on<br>GitHub\n",
    "    </a>\n",
    "  </td>\n",
    "  <td style=\"text-align: center\">\n",
    "    <a href=\"https://colab.research.google.com/github/statmike/vertex-ai-mlops/blob/main/Applied%20ML/Solution%20Prototypes/document-processing/4a-document-classification.ipynb\">\n",
    "      <img width=\"32px\" src=\"https://www.gstatic.com/pantheon/images/bigquery/welcome_page/colab-logo.svg\" alt=\"Google Colaboratory logo\">\n",
    "      <br>Run in<br>Colab\n",
    "    </a>\n",
    "  </td>\n",
    "  <td style=\"text-align: center\">\n",
    "    <a href=\"https://console.cloud.google.com/vertex-ai/colab/import/https%3A%2F%2Fraw.githubusercontent.com%2Fstatmike%2Fvertex-ai-mlops%2Fmain%2FApplied%2520ML%2FSolution%2520Prototypes%2Fdocument-processing%2F4a-document-classification.ipynb\">\n",
    "      <img width=\"32px\" src=\"https://lh3.googleusercontent.com/JmcxdQi-qOpctIvWKgPtrzZdJJK-J3sWE1RsfjZNwshCFgE_9fULcNpuXYTilIR2hjwN\" alt=\"Google Cloud Colab Enterprise logo\">\n",
    "      <br>Run in<br>Colab Enterprise\n",
    "    </a>\n",
    "  </td>      \n",
    "  <td style=\"text-align: center\">\n",
    "    <a href=\"https://console.cloud.google.com/bigquery/import?url=https://github.com/statmike/vertex-ai-mlops/blob/main/Applied%20ML/Solution%20Prototypes/document-processing/4a-document-classification.ipynb\">\n",
    "      <img width=\"32px\" src=\"https://www.gstatic.com/images/branding/gcpiconscolors/bigquery/v1/32px.svg\" alt=\"BigQuery logo\">\n",
    "      <br>Open in<br>BigQuery Studio\n",
    "    </a>\n",
    "  </td>\n",
    "  <td style=\"text-align: center\">\n",
    "    <a href=\"https://console.cloud.google.com/vertex-ai/workbench/deploy-notebook?download_url=https://raw.githubusercontent.com/statmike/vertex-ai-mlops/main/Applied%20ML/Solution%20Prototypes/document-processing/4a-document-classification.ipynb\">\n",
    "      <img width=\"32px\" src=\"https://www.gstatic.com/images/branding/gcpiconscolors/vertexai/v1/32px.svg\" alt=\"Vertex AI logo\">\n",
    "      <br>Open in<br>Vertex AI Workbench\n",
    "    </a>\n",
    "  </td>\n",
    "</table>"
   ]
  },
  {
   "cell_type": "markdown",
   "id": "990fb11b",
   "metadata": {},
   "source": [
    "# Document Classification: More than Simlarity With Embeddings\n",
    "\n",
    "> This workflow is part of a series of workflows for the solution prototype: [Document Processing With Generative AI: Parse, Extract, Validate Authenticity, and More](./readme.md)\n",
    "\n",
    "In the previous workflow ([4-document-similarity](./4-document-similarity.ipynb)) we used distance between embeddings as a way of understanding document simlarity.  In this workflow the embeddings will be used to train a predictive model that will classify the documents into one of the vendors.  This model can then be used to predict which vendor a new document most likely comes from.  For a more direct approach that uses embeddings directly to classify check out the next workflow in this series: [5-document-anomalies](./5-document-anomalies.ipynb).\n",
    "\n",
    "**References:**\n",
    "- BigQuery ML [model journeys](https://cloud.google.com/bigquery/docs/e2e-journey)\n",
    "  - BigQuery ML [random forest model type](https://cloud.google.com/bigquery/docs/reference/standard-sql/bigqueryml-syntax-create-random-forest)\n",
    "  - An end-to-end workflow for [BQML Random Forest for Classification](../../../03%20-%20BigQuery%20ML%20%28BQML%29/03c%20-%20BQML%20Random%20Forest.ipynb)"
   ]
  },
  {
   "cell_type": "markdown",
   "id": "b9840c8c",
   "metadata": {},
   "source": [
    "## Setup\n",
    "\n",
    "Note that this notebook expects to use a local virtual environment with the `./requirements.txt` installed.  \n",
    "\n",
    "A potential workaround if using this notebook standalone is running:\n",
    "\n",
    ">```python\n",
    ">pip install -r requirements.txt\n",
    ">```\n",
    "\n",
    "And then restart the kernel."
   ]
  },
  {
   "cell_type": "code",
   "execution_count": null,
   "id": "e5df2204",
   "metadata": {},
   "outputs": [],
   "source": [
    "# package imports for this work\n",
    "import os, subprocess\n",
    "\n",
    "from google.cloud import bigquery"
   ]
  },
  {
   "cell_type": "code",
   "execution_count": 2,
   "id": "e24dbf2c",
   "metadata": {},
   "outputs": [
    {
     "data": {
      "text/plain": [
       "'statmike-mlops-349915'"
      ]
     },
     "execution_count": 2,
     "metadata": {},
     "output_type": "execute_result"
    }
   ],
   "source": [
    "# what project are we working in?\n",
    "PROJECT_ID = subprocess.run(['gcloud', 'config', 'get-value', 'project'], capture_output=True, text=True, check=True).stdout.strip()\n",
    "PROJECT_ID"
   ]
  },
  {
   "cell_type": "code",
   "execution_count": 3,
   "id": "9a412cde",
   "metadata": {},
   "outputs": [],
   "source": [
    "LOCATION = 'us-central1'\n",
    "\n",
    "SERIES = 'applied-ml-solution-prototypes'\n",
    "EXPERIMENT = 'document-processing'"
   ]
  },
  {
   "cell_type": "code",
   "execution_count": 4,
   "id": "fea48366",
   "metadata": {},
   "outputs": [],
   "source": [
    "# setup google cloud bigquery client\n",
    "bq = bigquery.Client(project = PROJECT_ID)\n",
    "\n",
    "# load the bigquery magics for jupyter with:\n",
    "%load_ext bigquery_magics"
   ]
  },
  {
   "cell_type": "markdown",
   "id": "d56bff50",
   "metadata": {},
   "source": [
    "---\n",
    "## Review The Data Source\n",
    "\n",
    "So far this project has:\n",
    "- Built a custom data extractor with Document AI\n",
    "- Created an object table in BigQuery that maps to documents stored in GCS\n",
    "- Created a new table by processing the documents in the object table with the `ML.PROCESS_DOCUMENTS` function that uses the custom parser built with Document AI\n",
    "  - Augmented the table with generated image embeddings for the documents using Vertex AI hosted embeddings models with the `ML.GENERATE_EMBEDDING` function\n",
    "\n",
    "Before we procedd to work with these embedding let's review the data so far:\n"
   ]
  },
  {
   "cell_type": "code",
   "execution_count": 5,
   "id": "363bf0c1",
   "metadata": {},
   "outputs": [
    {
     "data": {
      "application/vnd.jupyter.widget-view+json": {
       "model_id": "cea9ce5a90de46e2b160a973be593a6d",
       "version_major": 2,
       "version_minor": 0
      },
      "text/plain": [
       "Query is running:   0%|          |"
      ]
     },
     "metadata": {},
     "output_type": "display_data"
    },
    {
     "data": {
      "application/vnd.jupyter.widget-view+json": {
       "model_id": "0102d9a561694c6d9faa809ba03c8d15",
       "version_major": 2,
       "version_minor": 0
      },
      "text/plain": [
       "Downloading:   0%|          |"
      ]
     },
     "metadata": {},
     "output_type": "display_data"
    },
    {
     "data": {
      "text/html": [
       "<div>\n",
       "<style scoped>\n",
       "    .dataframe tbody tr th:only-of-type {\n",
       "        vertical-align: middle;\n",
       "    }\n",
       "\n",
       "    .dataframe tbody tr th {\n",
       "        vertical-align: top;\n",
       "    }\n",
       "\n",
       "    .dataframe thead th {\n",
       "        text-align: right;\n",
       "    }\n",
       "</style>\n",
       "<table border=\"1\" class=\"dataframe\">\n",
       "  <thead>\n",
       "    <tr style=\"text-align: right;\">\n",
       "      <th></th>\n",
       "      <th>ml_process_document_result</th>\n",
       "      <th>ml_process_document_status</th>\n",
       "      <th>vendor_name</th>\n",
       "      <th>vendor_address</th>\n",
       "      <th>company_name</th>\n",
       "      <th>company_address</th>\n",
       "      <th>invoice_id</th>\n",
       "      <th>invoice_total</th>\n",
       "      <th>line_item</th>\n",
       "      <th>uri</th>\n",
       "      <th>updated</th>\n",
       "      <th>vendor</th>\n",
       "      <th>embedding</th>\n",
       "    </tr>\n",
       "  </thead>\n",
       "  <tbody>\n",
       "    <tr>\n",
       "      <th>0</th>\n",
       "      <td>{\"entities\":[{\"confidence\":1,\"id\":\"0\",\"mention...</td>\n",
       "      <td></td>\n",
       "      <td>None</td>\n",
       "      <td>None</td>\n",
       "      <td>BioTech Innovations Corp</td>\n",
       "      <td>666 Genome Way\\nSan Diego, CA 92121</td>\n",
       "      <td>KD-2024-0315</td>\n",
       "      <td>$37108.50</td>\n",
       "      <td>[{'item_sku': 'WEB- DEV- 001', 'item_descripti...</td>\n",
       "      <td>gs://statmike-mlops-349915/applied-ml-solution...</td>\n",
       "      <td>2025-04-23 20:53:37.673000+00:00</td>\n",
       "      <td>vendor_2</td>\n",
       "      <td>[0.0089465566, 0.0536203124, 0.0614382476, -0....</td>\n",
       "    </tr>\n",
       "    <tr>\n",
       "      <th>1</th>\n",
       "      <td>{\"entities\":[{\"confidence\":1,\"id\":\"0\",\"mention...</td>\n",
       "      <td></td>\n",
       "      <td>None</td>\n",
       "      <td>None</td>\n",
       "      <td>HealthAI Innovations</td>\n",
       "      <td>123 Main Street\\nSan Francisco, CA 94111</td>\n",
       "      <td>INV-2024-0315</td>\n",
       "      <td>$21924.00</td>\n",
       "      <td>[{'item_sku': 'CSD-\n",
       "001', 'item_description': ...</td>\n",
       "      <td>gs://statmike-mlops-349915/applied-ml-solution...</td>\n",
       "      <td>2025-04-23 20:53:35.765000+00:00</td>\n",
       "      <td>vendor_2</td>\n",
       "      <td>[0.0121024447, 0.0618715286, 0.0657297298, -0....</td>\n",
       "    </tr>\n",
       "    <tr>\n",
       "      <th>2</th>\n",
       "      <td>{\"entities\":[{\"confidence\":1,\"id\":\"1\",\"propert...</td>\n",
       "      <td></td>\n",
       "      <td>None</td>\n",
       "      <td>None</td>\n",
       "      <td>GlobalMed Health</td>\n",
       "      <td>123 Serene Drive\\nSan Diego, CA 92101</td>\n",
       "      <td>INV-2024-1122</td>\n",
       "      <td>$23600.00</td>\n",
       "      <td>[{'item_sku': 'WEB- DEV- 001', 'item_descripti...</td>\n",
       "      <td>gs://statmike-mlops-349915/applied-ml-solution...</td>\n",
       "      <td>2025-04-23 20:53:35.038000+00:00</td>\n",
       "      <td>vendor_2</td>\n",
       "      <td>[0.0141071267, 0.0521478951, 0.0623387806, -0....</td>\n",
       "    </tr>\n",
       "    <tr>\n",
       "      <th>3</th>\n",
       "      <td>{\"entities\":[{\"confidence\":1,\"id\":\"0\",\"mention...</td>\n",
       "      <td></td>\n",
       "      <td>None</td>\n",
       "      <td>None</td>\n",
       "      <td>Swift Logistics Solutions</td>\n",
       "      <td>987 Elm Street\\nDallas, TX 75201</td>\n",
       "      <td>KD-2024-0722</td>\n",
       "      <td>$19920.00</td>\n",
       "      <td>[{'item_sku': 'WEB- DEV- 001', 'item_descripti...</td>\n",
       "      <td>gs://statmike-mlops-349915/applied-ml-solution...</td>\n",
       "      <td>2025-04-23 20:53:39.182000+00:00</td>\n",
       "      <td>vendor_2</td>\n",
       "      <td>[0.0090936739, 0.0496088825, 0.0622638054, -0....</td>\n",
       "    </tr>\n",
       "    <tr>\n",
       "      <th>4</th>\n",
       "      <td>{\"entities\":[{\"confidence\":1,\"id\":\"1\",\"propert...</td>\n",
       "      <td></td>\n",
       "      <td>None</td>\n",
       "      <td>None</td>\n",
       "      <td>Style Forward Retail</td>\n",
       "      <td>99 Fashion Blvd Los Angeles, CA 90015</td>\n",
       "      <td>INV-2024-1105</td>\n",
       "      <td>$34800.00</td>\n",
       "      <td>[{'item_sku': None, 'item_description': 'Web D...</td>\n",
       "      <td>gs://statmike-mlops-349915/applied-ml-solution...</td>\n",
       "      <td>2025-04-23 20:52:52.221000+00:00</td>\n",
       "      <td>vendor_12</td>\n",
       "      <td>[0.0019979002, 0.0560282543, 0.0625561327, -0....</td>\n",
       "    </tr>\n",
       "  </tbody>\n",
       "</table>\n",
       "</div>"
      ],
      "text/plain": [
       "                          ml_process_document_result  \\\n",
       "0  {\"entities\":[{\"confidence\":1,\"id\":\"0\",\"mention...   \n",
       "1  {\"entities\":[{\"confidence\":1,\"id\":\"0\",\"mention...   \n",
       "2  {\"entities\":[{\"confidence\":1,\"id\":\"1\",\"propert...   \n",
       "3  {\"entities\":[{\"confidence\":1,\"id\":\"0\",\"mention...   \n",
       "4  {\"entities\":[{\"confidence\":1,\"id\":\"1\",\"propert...   \n",
       "\n",
       "  ml_process_document_status vendor_name vendor_address  \\\n",
       "0                                   None           None   \n",
       "1                                   None           None   \n",
       "2                                   None           None   \n",
       "3                                   None           None   \n",
       "4                                   None           None   \n",
       "\n",
       "                company_name                           company_address  \\\n",
       "0   BioTech Innovations Corp       666 Genome Way\\nSan Diego, CA 92121   \n",
       "1       HealthAI Innovations  123 Main Street\\nSan Francisco, CA 94111   \n",
       "2           GlobalMed Health     123 Serene Drive\\nSan Diego, CA 92101   \n",
       "3  Swift Logistics Solutions          987 Elm Street\\nDallas, TX 75201   \n",
       "4       Style Forward Retail     99 Fashion Blvd Los Angeles, CA 90015   \n",
       "\n",
       "      invoice_id invoice_total  \\\n",
       "0   KD-2024-0315     $37108.50   \n",
       "1  INV-2024-0315     $21924.00   \n",
       "2  INV-2024-1122     $23600.00   \n",
       "3   KD-2024-0722     $19920.00   \n",
       "4  INV-2024-1105     $34800.00   \n",
       "\n",
       "                                           line_item  \\\n",
       "0  [{'item_sku': 'WEB- DEV- 001', 'item_descripti...   \n",
       "1  [{'item_sku': 'CSD-\n",
       "001', 'item_description': ...   \n",
       "2  [{'item_sku': 'WEB- DEV- 001', 'item_descripti...   \n",
       "3  [{'item_sku': 'WEB- DEV- 001', 'item_descripti...   \n",
       "4  [{'item_sku': None, 'item_description': 'Web D...   \n",
       "\n",
       "                                                 uri  \\\n",
       "0  gs://statmike-mlops-349915/applied-ml-solution...   \n",
       "1  gs://statmike-mlops-349915/applied-ml-solution...   \n",
       "2  gs://statmike-mlops-349915/applied-ml-solution...   \n",
       "3  gs://statmike-mlops-349915/applied-ml-solution...   \n",
       "4  gs://statmike-mlops-349915/applied-ml-solution...   \n",
       "\n",
       "                           updated     vendor  \\\n",
       "0 2025-04-23 20:53:37.673000+00:00   vendor_2   \n",
       "1 2025-04-23 20:53:35.765000+00:00   vendor_2   \n",
       "2 2025-04-23 20:53:35.038000+00:00   vendor_2   \n",
       "3 2025-04-23 20:53:39.182000+00:00   vendor_2   \n",
       "4 2025-04-23 20:52:52.221000+00:00  vendor_12   \n",
       "\n",
       "                                           embedding  \n",
       "0  [0.0089465566, 0.0536203124, 0.0614382476, -0....  \n",
       "1  [0.0121024447, 0.0618715286, 0.0657297298, -0....  \n",
       "2  [0.0141071267, 0.0521478951, 0.0623387806, -0....  \n",
       "3  [0.0090936739, 0.0496088825, 0.0622638054, -0....  \n",
       "4  [0.0019979002, 0.0560282543, 0.0625561327, -0....  "
      ]
     },
     "execution_count": 5,
     "metadata": {},
     "output_type": "execute_result"
    }
   ],
   "source": [
    "%%bigquery\n",
    "SELECT *\n",
    "FROM `statmike-mlops-349915.solution_prototype_document_processing.known_authenticity`\n",
    "LIMIT 5"
   ]
  },
  {
   "cell_type": "code",
   "execution_count": 6,
   "id": "c7456aac",
   "metadata": {},
   "outputs": [
    {
     "data": {
      "application/vnd.jupyter.widget-view+json": {
       "model_id": "3ffb374e0bbf4a7baf389c539cc808e7",
       "version_major": 2,
       "version_minor": 0
      },
      "text/plain": [
       "Query is running:   0%|          |"
      ]
     },
     "metadata": {},
     "output_type": "display_data"
    },
    {
     "data": {
      "application/vnd.jupyter.widget-view+json": {
       "model_id": "042123ab717d46babb17b3bbd5a4e88f",
       "version_major": 2,
       "version_minor": 0
      },
      "text/plain": [
       "Downloading:   0%|          |"
      ]
     },
     "metadata": {},
     "output_type": "display_data"
    },
    {
     "data": {
      "text/html": [
       "<div>\n",
       "<style scoped>\n",
       "    .dataframe tbody tr th:only-of-type {\n",
       "        vertical-align: middle;\n",
       "    }\n",
       "\n",
       "    .dataframe tbody tr th {\n",
       "        vertical-align: top;\n",
       "    }\n",
       "\n",
       "    .dataframe thead th {\n",
       "        text-align: right;\n",
       "    }\n",
       "</style>\n",
       "<table border=\"1\" class=\"dataframe\">\n",
       "  <thead>\n",
       "    <tr style=\"text-align: right;\">\n",
       "      <th></th>\n",
       "      <th>vendor</th>\n",
       "      <th>document_count</th>\n",
       "    </tr>\n",
       "  </thead>\n",
       "  <tbody>\n",
       "    <tr>\n",
       "      <th>0</th>\n",
       "      <td>vendor_2</td>\n",
       "      <td>16</td>\n",
       "    </tr>\n",
       "    <tr>\n",
       "      <th>1</th>\n",
       "      <td>vendor_12</td>\n",
       "      <td>22</td>\n",
       "    </tr>\n",
       "    <tr>\n",
       "      <th>2</th>\n",
       "      <td>vendor_7</td>\n",
       "      <td>29</td>\n",
       "    </tr>\n",
       "    <tr>\n",
       "      <th>3</th>\n",
       "      <td>vendor_0</td>\n",
       "      <td>19</td>\n",
       "    </tr>\n",
       "    <tr>\n",
       "      <th>4</th>\n",
       "      <td>vendor_10</td>\n",
       "      <td>22</td>\n",
       "    </tr>\n",
       "    <tr>\n",
       "      <th>5</th>\n",
       "      <td>vendor_13</td>\n",
       "      <td>19</td>\n",
       "    </tr>\n",
       "    <tr>\n",
       "      <th>6</th>\n",
       "      <td>vendor_5</td>\n",
       "      <td>16</td>\n",
       "    </tr>\n",
       "    <tr>\n",
       "      <th>7</th>\n",
       "      <td>vendor_6</td>\n",
       "      <td>19</td>\n",
       "    </tr>\n",
       "    <tr>\n",
       "      <th>8</th>\n",
       "      <td>vendor_9</td>\n",
       "      <td>23</td>\n",
       "    </tr>\n",
       "    <tr>\n",
       "      <th>9</th>\n",
       "      <td>vendor_3</td>\n",
       "      <td>19</td>\n",
       "    </tr>\n",
       "    <tr>\n",
       "      <th>10</th>\n",
       "      <td>vendor_11</td>\n",
       "      <td>21</td>\n",
       "    </tr>\n",
       "    <tr>\n",
       "      <th>11</th>\n",
       "      <td>vendor_14</td>\n",
       "      <td>18</td>\n",
       "    </tr>\n",
       "    <tr>\n",
       "      <th>12</th>\n",
       "      <td>vendor_4</td>\n",
       "      <td>14</td>\n",
       "    </tr>\n",
       "    <tr>\n",
       "      <th>13</th>\n",
       "      <td>vendor_1</td>\n",
       "      <td>24</td>\n",
       "    </tr>\n",
       "    <tr>\n",
       "      <th>14</th>\n",
       "      <td>vendor_8</td>\n",
       "      <td>18</td>\n",
       "    </tr>\n",
       "  </tbody>\n",
       "</table>\n",
       "</div>"
      ],
      "text/plain": [
       "       vendor  document_count\n",
       "0    vendor_2              16\n",
       "1   vendor_12              22\n",
       "2    vendor_7              29\n",
       "3    vendor_0              19\n",
       "4   vendor_10              22\n",
       "5   vendor_13              19\n",
       "6    vendor_5              16\n",
       "7    vendor_6              19\n",
       "8    vendor_9              23\n",
       "9    vendor_3              19\n",
       "10  vendor_11              21\n",
       "11  vendor_14              18\n",
       "12   vendor_4              14\n",
       "13   vendor_1              24\n",
       "14   vendor_8              18"
      ]
     },
     "execution_count": 6,
     "metadata": {},
     "output_type": "execute_result"
    }
   ],
   "source": [
    "%%bigquery\n",
    "# document count per vendor:\n",
    "SELECT vendor, count(*) as document_count\n",
    "FROM `statmike-mlops-349915.solution_prototype_document_processing.known_authenticity`\n",
    "GROUP BY vendor"
   ]
  },
  {
   "cell_type": "code",
   "execution_count": 7,
   "id": "65665bdd",
   "metadata": {},
   "outputs": [
    {
     "data": {
      "application/vnd.jupyter.widget-view+json": {
       "model_id": "9a23ce3c46024d32a58943b37b604f93",
       "version_major": 2,
       "version_minor": 0
      },
      "text/plain": [
       "Query is running:   0%|          |"
      ]
     },
     "metadata": {},
     "output_type": "display_data"
    },
    {
     "data": {
      "application/vnd.jupyter.widget-view+json": {
       "model_id": "2c61459a6d0348998065c974e55a2398",
       "version_major": 2,
       "version_minor": 0
      },
      "text/plain": [
       "Downloading:   0%|          |"
      ]
     },
     "metadata": {},
     "output_type": "display_data"
    }
   ],
   "source": [
    "%%bigquery temp\n",
    "# review an embedding:\n",
    "SELECT embedding\n",
    "FROM `statmike-mlops-349915.solution_prototype_document_processing.known_authenticity`\n",
    "LIMIT 1"
   ]
  },
  {
   "cell_type": "code",
   "execution_count": 8,
   "id": "cca4ec65",
   "metadata": {},
   "outputs": [
    {
     "data": {
      "text/plain": [
       "array([ 0.00894656,  0.05362031,  0.06143825, ...,  0.01621641,\n",
       "       -0.03250906, -0.01569333], shape=(1408,))"
      ]
     },
     "execution_count": 8,
     "metadata": {},
     "output_type": "execute_result"
    }
   ],
   "source": [
    "temp['embedding'][0]"
   ]
  },
  {
   "cell_type": "markdown",
   "id": "e915814d",
   "metadata": {},
   "source": [
    "---\n",
    "## Train Model\n",
    "\n",
    "Use BigQuery ML to train multiclass random forest model using XGBoost:\n",
    "- [Random Forest](https://cloud.google.com/bigquery-ml/docs/reference/standard-sql/bigqueryml-syntax-create-random-forest) with BigQuery ML (BQML)\n",
    "    \n",
    "This example includes the [training options](https://cloud.google.com/bigquery-ml/docs/create_vertex) to register the resulting model in the [Vertex AI Model Registry](https://cloud.google.com/vertex-ai/docs/model-registry/introduction)."
   ]
  },
  {
   "cell_type": "code",
   "execution_count": null,
   "id": "25e5f479",
   "metadata": {},
   "outputs": [],
   "source": [
    "%%bigquery\n",
    "CREATE OR REPLACE MODEL `statmike-mlops-349915.solution_prototype_document_processing.rf_classifier`\n",
    "    OPTIONS(\n",
    "        model_type = 'RANDOM_FOREST_CLASSIFIER',\n",
    "        auto_class_weights = TRUE,\n",
    "        input_label_cols = ['vendor'],\n",
    "        enable_global_explain = TRUE,\n",
    "        data_split_method = 'AUTO_SPLIT',\n",
    "        num_parallel_tree = 200,\n",
    "        early_stop = TRUE,\n",
    "        min_rel_progress = 0.01,\n",
    "        tree_method = 'HIST',\n",
    "        subsample = 0.85,\n",
    "        colsample_bytree = 0.9\n",
    "        #MODEL_REGISTRY = 'VERTEX_AI',\n",
    "        #VERTEX_AI_MODEL_ID = 'bqml_{SERIES}_{EXPERIMENT}',\n",
    "        #VERTEX_AI_MODEL_VERSION_ALIASES = ['{RUN_NAME}']\n",
    "    )\n",
    "    AS\n",
    "    SELECT vendor, embedding\n",
    "    FROM `statmike-mlops-349915.solution_prototype_document_processing.known_authenticity`"
   ]
  },
  {
   "cell_type": "markdown",
   "id": "fe25bd99",
   "metadata": {},
   "source": [
    "### Feature and Training Review"
   ]
  },
  {
   "cell_type": "markdown",
   "id": "b9eb93b2",
   "metadata": {},
   "source": [
    "Review the Model Inputs, the feature information, with [ML.FEATURE_INFO](https://cloud.google.com/bigquery-ml/docs/reference/standard-sql/bigqueryml-syntax-feature):"
   ]
  },
  {
   "cell_type": "code",
   "execution_count": 13,
   "id": "343332fd",
   "metadata": {},
   "outputs": [
    {
     "data": {
      "application/vnd.jupyter.widget-view+json": {
       "model_id": "4af553bf60e44feeb61fc1e3fc37a9f9",
       "version_major": 2,
       "version_minor": 0
      },
      "text/plain": [
       "Query is running:   0%|          |"
      ]
     },
     "metadata": {},
     "output_type": "display_data"
    },
    {
     "data": {
      "application/vnd.jupyter.widget-view+json": {
       "model_id": "5acff1550fa349789794190a9c56f7f9",
       "version_major": 2,
       "version_minor": 0
      },
      "text/plain": [
       "Downloading:   0%|          |"
      ]
     },
     "metadata": {},
     "output_type": "display_data"
    },
    {
     "data": {
      "text/html": [
       "<div>\n",
       "<style scoped>\n",
       "    .dataframe tbody tr th:only-of-type {\n",
       "        vertical-align: middle;\n",
       "    }\n",
       "\n",
       "    .dataframe tbody tr th {\n",
       "        vertical-align: top;\n",
       "    }\n",
       "\n",
       "    .dataframe thead th {\n",
       "        text-align: right;\n",
       "    }\n",
       "</style>\n",
       "<table border=\"1\" class=\"dataframe\">\n",
       "  <thead>\n",
       "    <tr style=\"text-align: right;\">\n",
       "      <th></th>\n",
       "      <th>input</th>\n",
       "      <th>min</th>\n",
       "      <th>max</th>\n",
       "      <th>mean</th>\n",
       "      <th>median</th>\n",
       "      <th>stddev</th>\n",
       "      <th>category_count</th>\n",
       "      <th>null_count</th>\n",
       "      <th>dimension</th>\n",
       "    </tr>\n",
       "  </thead>\n",
       "  <tbody>\n",
       "    <tr>\n",
       "      <th>0</th>\n",
       "      <td>embedding</td>\n",
       "      <td>NaN</td>\n",
       "      <td>NaN</td>\n",
       "      <td>NaN</td>\n",
       "      <td>NaN</td>\n",
       "      <td>NaN</td>\n",
       "      <td>&lt;NA&gt;</td>\n",
       "      <td>0</td>\n",
       "      <td>&lt;NA&gt;</td>\n",
       "    </tr>\n",
       "  </tbody>\n",
       "</table>\n",
       "</div>"
      ],
      "text/plain": [
       "       input  min  max  mean  median  stddev  category_count  null_count  \\\n",
       "0  embedding  NaN  NaN   NaN     NaN     NaN            <NA>           0   \n",
       "\n",
       "   dimension  \n",
       "0       <NA>  "
      ]
     },
     "execution_count": 13,
     "metadata": {},
     "output_type": "execute_result"
    }
   ],
   "source": [
    "%%bigquery\n",
    "SELECT *\n",
    "FROM ML.FEATURE_INFO(MODEL `statmike-mlops-349915.solution_prototype_document_processing.rf_classifier`)"
   ]
  },
  {
   "cell_type": "markdown",
   "id": "2cfe8026",
   "metadata": {},
   "source": [
    "Review the iterations from training with [ML.TRAINING_INFO](https://cloud.google.com/bigquery-ml/docs/reference/standard-sql/bigqueryml-syntax-train):"
   ]
  },
  {
   "cell_type": "code",
   "execution_count": null,
   "id": "73024f8c",
   "metadata": {},
   "outputs": [
    {
     "data": {
      "application/vnd.jupyter.widget-view+json": {
       "model_id": "707da5c98fe94592b0a243d35d0decf9",
       "version_major": 2,
       "version_minor": 0
      },
      "text/plain": [
       "Query is running:   0%|          |"
      ]
     },
     "metadata": {},
     "output_type": "display_data"
    },
    {
     "data": {
      "application/vnd.jupyter.widget-view+json": {
       "model_id": "8ee74fec073f4f72b91a5b0ab4d29459",
       "version_major": 2,
       "version_minor": 0
      },
      "text/plain": [
       "Downloading:   0%|          |"
      ]
     },
     "metadata": {},
     "output_type": "display_data"
    },
    {
     "data": {
      "text/html": [
       "<div>\n",
       "<style scoped>\n",
       "    .dataframe tbody tr th:only-of-type {\n",
       "        vertical-align: middle;\n",
       "    }\n",
       "\n",
       "    .dataframe tbody tr th {\n",
       "        vertical-align: top;\n",
       "    }\n",
       "\n",
       "    .dataframe thead th {\n",
       "        text-align: right;\n",
       "    }\n",
       "</style>\n",
       "<table border=\"1\" class=\"dataframe\">\n",
       "  <thead>\n",
       "    <tr style=\"text-align: right;\">\n",
       "      <th></th>\n",
       "      <th>training_run</th>\n",
       "      <th>iteration</th>\n",
       "      <th>loss</th>\n",
       "      <th>eval_loss</th>\n",
       "      <th>learning_rate</th>\n",
       "      <th>duration_ms</th>\n",
       "    </tr>\n",
       "  </thead>\n",
       "  <tbody>\n",
       "    <tr>\n",
       "      <th>0</th>\n",
       "      <td>0</td>\n",
       "      <td>1</td>\n",
       "      <td>0.096077</td>\n",
       "      <td>0.092539</td>\n",
       "      <td>1.0</td>\n",
       "      <td>673222</td>\n",
       "    </tr>\n",
       "  </tbody>\n",
       "</table>\n",
       "</div>"
      ],
      "text/plain": [
       "   training_run  iteration      loss  eval_loss  learning_rate  duration_ms\n",
       "0             0          1  0.096077   0.092539            1.0       673222"
      ]
     },
     "execution_count": 15,
     "metadata": {},
     "output_type": "execute_result"
    }
   ],
   "source": [
    "%%bigquery\n",
    "SELECT *\n",
    "FROM ML.TRAINING_INFO(MODEL `statmike-mlops-349915.solution_prototype_document_processing.rf_classifier`)\n",
    "ORDER BY iteration"
   ]
  },
  {
   "cell_type": "markdown",
   "id": "7b481540",
   "metadata": {},
   "source": [
    "---\n",
    "## Evaluate Model"
   ]
  },
  {
   "cell_type": "markdown",
   "id": "a71127ec",
   "metadata": {},
   "source": [
    "### Metrics"
   ]
  },
  {
   "cell_type": "markdown",
   "id": "f1a3511b",
   "metadata": {},
   "source": [
    "Review the model evaluation statistics on the splits with [ML.EVALUATE](https://cloud.google.com/bigquery-ml/docs/reference/standard-sql/bigqueryml-syntax-evaluate):"
   ]
  },
  {
   "cell_type": "code",
   "execution_count": 16,
   "id": "235d6f68",
   "metadata": {},
   "outputs": [
    {
     "data": {
      "application/vnd.jupyter.widget-view+json": {
       "model_id": "9de1d06a85584be6b4bc3dc3685c0cca",
       "version_major": 2,
       "version_minor": 0
      },
      "text/plain": [
       "Query is running:   0%|          |"
      ]
     },
     "metadata": {},
     "output_type": "display_data"
    },
    {
     "data": {
      "application/vnd.jupyter.widget-view+json": {
       "model_id": "776251b06683486eb02ca61154c99602",
       "version_major": 2,
       "version_minor": 0
      },
      "text/plain": [
       "Downloading:   0%|          |"
      ]
     },
     "metadata": {},
     "output_type": "display_data"
    },
    {
     "data": {
      "text/html": [
       "<div>\n",
       "<style scoped>\n",
       "    .dataframe tbody tr th:only-of-type {\n",
       "        vertical-align: middle;\n",
       "    }\n",
       "\n",
       "    .dataframe tbody tr th {\n",
       "        vertical-align: top;\n",
       "    }\n",
       "\n",
       "    .dataframe thead th {\n",
       "        text-align: right;\n",
       "    }\n",
       "</style>\n",
       "<table border=\"1\" class=\"dataframe\">\n",
       "  <thead>\n",
       "    <tr style=\"text-align: right;\">\n",
       "      <th></th>\n",
       "      <th>precision</th>\n",
       "      <th>recall</th>\n",
       "      <th>accuracy</th>\n",
       "      <th>f1_score</th>\n",
       "      <th>log_loss</th>\n",
       "      <th>roc_auc</th>\n",
       "    </tr>\n",
       "  </thead>\n",
       "  <tbody>\n",
       "    <tr>\n",
       "      <th>0</th>\n",
       "      <td>1.0</td>\n",
       "      <td>1.0</td>\n",
       "      <td>1.0</td>\n",
       "      <td>1.0</td>\n",
       "      <td>0.118445</td>\n",
       "      <td>1.0</td>\n",
       "    </tr>\n",
       "  </tbody>\n",
       "</table>\n",
       "</div>"
      ],
      "text/plain": [
       "   precision  recall  accuracy  f1_score  log_loss  roc_auc\n",
       "0        1.0     1.0       1.0       1.0  0.118445      1.0"
      ]
     },
     "execution_count": 16,
     "metadata": {},
     "output_type": "execute_result"
    }
   ],
   "source": [
    "%%bigquery\n",
    "SELECT *\n",
    "FROM ML.EVALUATE (MODEL `statmike-mlops-349915.solution_prototype_document_processing.rf_classifier`)\n"
   ]
  },
  {
   "cell_type": "code",
   "execution_count": 21,
   "id": "e06d53d4",
   "metadata": {},
   "outputs": [
    {
     "data": {
      "application/vnd.jupyter.widget-view+json": {
       "model_id": "d64bccef26f94f0aa8264696ec46b732",
       "version_major": 2,
       "version_minor": 0
      },
      "text/plain": [
       "Query is running:   0%|          |"
      ]
     },
     "metadata": {},
     "output_type": "display_data"
    },
    {
     "data": {
      "application/vnd.jupyter.widget-view+json": {
       "model_id": "3187ab82385b47bcab6a006ee42b33c5",
       "version_major": 2,
       "version_minor": 0
      },
      "text/plain": [
       "Downloading:   0%|          |"
      ]
     },
     "metadata": {},
     "output_type": "display_data"
    },
    {
     "data": {
      "text/html": [
       "<div>\n",
       "<style scoped>\n",
       "    .dataframe tbody tr th:only-of-type {\n",
       "        vertical-align: middle;\n",
       "    }\n",
       "\n",
       "    .dataframe tbody tr th {\n",
       "        vertical-align: top;\n",
       "    }\n",
       "\n",
       "    .dataframe thead th {\n",
       "        text-align: right;\n",
       "    }\n",
       "</style>\n",
       "<table border=\"1\" class=\"dataframe\">\n",
       "  <thead>\n",
       "    <tr style=\"text-align: right;\">\n",
       "      <th></th>\n",
       "      <th>precision</th>\n",
       "      <th>recall</th>\n",
       "      <th>accuracy</th>\n",
       "      <th>f1_score</th>\n",
       "      <th>log_loss</th>\n",
       "      <th>roc_auc</th>\n",
       "    </tr>\n",
       "  </thead>\n",
       "  <tbody>\n",
       "    <tr>\n",
       "      <th>0</th>\n",
       "      <td>0.688929</td>\n",
       "      <td>0.655433</td>\n",
       "      <td>0.658863</td>\n",
       "      <td>0.652755</td>\n",
       "      <td>1.447006</td>\n",
       "      <td>0.926528</td>\n",
       "    </tr>\n",
       "  </tbody>\n",
       "</table>\n",
       "</div>"
      ],
      "text/plain": [
       "   precision    recall  accuracy  f1_score  log_loss   roc_auc\n",
       "0   0.688929  0.655433  0.658863  0.652755  1.447006  0.926528"
      ]
     },
     "execution_count": 21,
     "metadata": {},
     "output_type": "execute_result"
    }
   ],
   "source": [
    "%%bigquery\n",
    "SELECT *\n",
    "FROM ML.EVALUATE (\n",
    "    MODEL `statmike-mlops-349915.solution_prototype_document_processing.rf_classifier`,\n",
    "    (SELECT * FROM `statmike-mlops-349915.solution_prototype_document_processing.unknown_authenticity`)\n",
    ")"
   ]
  },
  {
   "cell_type": "markdown",
   "id": "972690ce",
   "metadata": {},
   "source": [
    "### Confusion Matrix"
   ]
  },
  {
   "cell_type": "markdown",
   "id": "98527126",
   "metadata": {},
   "source": [
    "Review the confusion matrix for each split with [ML.CONFUSION_MATRIX](https://cloud.google.com/bigquery-ml/docs/reference/standard-sql/bigqueryml-syntax-confusion):"
   ]
  },
  {
   "cell_type": "code",
   "execution_count": 17,
   "id": "8ac4ca72",
   "metadata": {},
   "outputs": [
    {
     "data": {
      "application/vnd.jupyter.widget-view+json": {
       "model_id": "0a87684f510048b7922c1cb2f0fabd55",
       "version_major": 2,
       "version_minor": 0
      },
      "text/plain": [
       "Query is running:   0%|          |"
      ]
     },
     "metadata": {},
     "output_type": "display_data"
    },
    {
     "data": {
      "application/vnd.jupyter.widget-view+json": {
       "model_id": "c399d909ff594d339c455f1de12368ba",
       "version_major": 2,
       "version_minor": 0
      },
      "text/plain": [
       "Downloading:   0%|          |"
      ]
     },
     "metadata": {},
     "output_type": "display_data"
    },
    {
     "data": {
      "text/html": [
       "<div>\n",
       "<style scoped>\n",
       "    .dataframe tbody tr th:only-of-type {\n",
       "        vertical-align: middle;\n",
       "    }\n",
       "\n",
       "    .dataframe tbody tr th {\n",
       "        vertical-align: top;\n",
       "    }\n",
       "\n",
       "    .dataframe thead th {\n",
       "        text-align: right;\n",
       "    }\n",
       "</style>\n",
       "<table border=\"1\" class=\"dataframe\">\n",
       "  <thead>\n",
       "    <tr style=\"text-align: right;\">\n",
       "      <th></th>\n",
       "      <th>expected_label</th>\n",
       "      <th>vendor_0</th>\n",
       "      <th>vendor_1</th>\n",
       "      <th>vendor_10</th>\n",
       "      <th>vendor_11</th>\n",
       "      <th>vendor_12</th>\n",
       "      <th>vendor_13</th>\n",
       "      <th>vendor_14</th>\n",
       "      <th>vendor_2</th>\n",
       "      <th>vendor_3</th>\n",
       "      <th>vendor_4</th>\n",
       "      <th>vendor_5</th>\n",
       "      <th>vendor_6</th>\n",
       "      <th>vendor_7</th>\n",
       "      <th>vendor_8</th>\n",
       "      <th>vendor_9</th>\n",
       "    </tr>\n",
       "  </thead>\n",
       "  <tbody>\n",
       "    <tr>\n",
       "      <th>0</th>\n",
       "      <td>vendor_0</td>\n",
       "      <td>19</td>\n",
       "      <td>0</td>\n",
       "      <td>0</td>\n",
       "      <td>0</td>\n",
       "      <td>0</td>\n",
       "      <td>0</td>\n",
       "      <td>0</td>\n",
       "      <td>0</td>\n",
       "      <td>0</td>\n",
       "      <td>0</td>\n",
       "      <td>0</td>\n",
       "      <td>0</td>\n",
       "      <td>0</td>\n",
       "      <td>0</td>\n",
       "      <td>0</td>\n",
       "    </tr>\n",
       "    <tr>\n",
       "      <th>1</th>\n",
       "      <td>vendor_1</td>\n",
       "      <td>0</td>\n",
       "      <td>24</td>\n",
       "      <td>0</td>\n",
       "      <td>0</td>\n",
       "      <td>0</td>\n",
       "      <td>0</td>\n",
       "      <td>0</td>\n",
       "      <td>0</td>\n",
       "      <td>0</td>\n",
       "      <td>0</td>\n",
       "      <td>0</td>\n",
       "      <td>0</td>\n",
       "      <td>0</td>\n",
       "      <td>0</td>\n",
       "      <td>0</td>\n",
       "    </tr>\n",
       "    <tr>\n",
       "      <th>2</th>\n",
       "      <td>vendor_10</td>\n",
       "      <td>0</td>\n",
       "      <td>0</td>\n",
       "      <td>22</td>\n",
       "      <td>0</td>\n",
       "      <td>0</td>\n",
       "      <td>0</td>\n",
       "      <td>0</td>\n",
       "      <td>0</td>\n",
       "      <td>0</td>\n",
       "      <td>0</td>\n",
       "      <td>0</td>\n",
       "      <td>0</td>\n",
       "      <td>0</td>\n",
       "      <td>0</td>\n",
       "      <td>0</td>\n",
       "    </tr>\n",
       "    <tr>\n",
       "      <th>3</th>\n",
       "      <td>vendor_11</td>\n",
       "      <td>0</td>\n",
       "      <td>0</td>\n",
       "      <td>0</td>\n",
       "      <td>21</td>\n",
       "      <td>0</td>\n",
       "      <td>0</td>\n",
       "      <td>0</td>\n",
       "      <td>0</td>\n",
       "      <td>0</td>\n",
       "      <td>0</td>\n",
       "      <td>0</td>\n",
       "      <td>0</td>\n",
       "      <td>0</td>\n",
       "      <td>0</td>\n",
       "      <td>0</td>\n",
       "    </tr>\n",
       "    <tr>\n",
       "      <th>4</th>\n",
       "      <td>vendor_12</td>\n",
       "      <td>0</td>\n",
       "      <td>0</td>\n",
       "      <td>0</td>\n",
       "      <td>0</td>\n",
       "      <td>22</td>\n",
       "      <td>0</td>\n",
       "      <td>0</td>\n",
       "      <td>0</td>\n",
       "      <td>0</td>\n",
       "      <td>0</td>\n",
       "      <td>0</td>\n",
       "      <td>0</td>\n",
       "      <td>0</td>\n",
       "      <td>0</td>\n",
       "      <td>0</td>\n",
       "    </tr>\n",
       "    <tr>\n",
       "      <th>5</th>\n",
       "      <td>vendor_13</td>\n",
       "      <td>0</td>\n",
       "      <td>0</td>\n",
       "      <td>0</td>\n",
       "      <td>0</td>\n",
       "      <td>0</td>\n",
       "      <td>19</td>\n",
       "      <td>0</td>\n",
       "      <td>0</td>\n",
       "      <td>0</td>\n",
       "      <td>0</td>\n",
       "      <td>0</td>\n",
       "      <td>0</td>\n",
       "      <td>0</td>\n",
       "      <td>0</td>\n",
       "      <td>0</td>\n",
       "    </tr>\n",
       "    <tr>\n",
       "      <th>6</th>\n",
       "      <td>vendor_14</td>\n",
       "      <td>0</td>\n",
       "      <td>0</td>\n",
       "      <td>0</td>\n",
       "      <td>0</td>\n",
       "      <td>0</td>\n",
       "      <td>0</td>\n",
       "      <td>18</td>\n",
       "      <td>0</td>\n",
       "      <td>0</td>\n",
       "      <td>0</td>\n",
       "      <td>0</td>\n",
       "      <td>0</td>\n",
       "      <td>0</td>\n",
       "      <td>0</td>\n",
       "      <td>0</td>\n",
       "    </tr>\n",
       "    <tr>\n",
       "      <th>7</th>\n",
       "      <td>vendor_2</td>\n",
       "      <td>0</td>\n",
       "      <td>0</td>\n",
       "      <td>0</td>\n",
       "      <td>0</td>\n",
       "      <td>0</td>\n",
       "      <td>0</td>\n",
       "      <td>0</td>\n",
       "      <td>16</td>\n",
       "      <td>0</td>\n",
       "      <td>0</td>\n",
       "      <td>0</td>\n",
       "      <td>0</td>\n",
       "      <td>0</td>\n",
       "      <td>0</td>\n",
       "      <td>0</td>\n",
       "    </tr>\n",
       "    <tr>\n",
       "      <th>8</th>\n",
       "      <td>vendor_3</td>\n",
       "      <td>0</td>\n",
       "      <td>0</td>\n",
       "      <td>0</td>\n",
       "      <td>0</td>\n",
       "      <td>0</td>\n",
       "      <td>0</td>\n",
       "      <td>0</td>\n",
       "      <td>0</td>\n",
       "      <td>19</td>\n",
       "      <td>0</td>\n",
       "      <td>0</td>\n",
       "      <td>0</td>\n",
       "      <td>0</td>\n",
       "      <td>0</td>\n",
       "      <td>0</td>\n",
       "    </tr>\n",
       "    <tr>\n",
       "      <th>9</th>\n",
       "      <td>vendor_4</td>\n",
       "      <td>0</td>\n",
       "      <td>0</td>\n",
       "      <td>0</td>\n",
       "      <td>0</td>\n",
       "      <td>0</td>\n",
       "      <td>0</td>\n",
       "      <td>0</td>\n",
       "      <td>0</td>\n",
       "      <td>0</td>\n",
       "      <td>14</td>\n",
       "      <td>0</td>\n",
       "      <td>0</td>\n",
       "      <td>0</td>\n",
       "      <td>0</td>\n",
       "      <td>0</td>\n",
       "    </tr>\n",
       "    <tr>\n",
       "      <th>10</th>\n",
       "      <td>vendor_5</td>\n",
       "      <td>0</td>\n",
       "      <td>0</td>\n",
       "      <td>0</td>\n",
       "      <td>0</td>\n",
       "      <td>0</td>\n",
       "      <td>0</td>\n",
       "      <td>0</td>\n",
       "      <td>0</td>\n",
       "      <td>0</td>\n",
       "      <td>0</td>\n",
       "      <td>16</td>\n",
       "      <td>0</td>\n",
       "      <td>0</td>\n",
       "      <td>0</td>\n",
       "      <td>0</td>\n",
       "    </tr>\n",
       "    <tr>\n",
       "      <th>11</th>\n",
       "      <td>vendor_6</td>\n",
       "      <td>0</td>\n",
       "      <td>0</td>\n",
       "      <td>0</td>\n",
       "      <td>0</td>\n",
       "      <td>0</td>\n",
       "      <td>0</td>\n",
       "      <td>0</td>\n",
       "      <td>0</td>\n",
       "      <td>0</td>\n",
       "      <td>0</td>\n",
       "      <td>0</td>\n",
       "      <td>19</td>\n",
       "      <td>0</td>\n",
       "      <td>0</td>\n",
       "      <td>0</td>\n",
       "    </tr>\n",
       "    <tr>\n",
       "      <th>12</th>\n",
       "      <td>vendor_7</td>\n",
       "      <td>0</td>\n",
       "      <td>0</td>\n",
       "      <td>0</td>\n",
       "      <td>0</td>\n",
       "      <td>0</td>\n",
       "      <td>0</td>\n",
       "      <td>0</td>\n",
       "      <td>0</td>\n",
       "      <td>0</td>\n",
       "      <td>0</td>\n",
       "      <td>0</td>\n",
       "      <td>0</td>\n",
       "      <td>29</td>\n",
       "      <td>0</td>\n",
       "      <td>0</td>\n",
       "    </tr>\n",
       "    <tr>\n",
       "      <th>13</th>\n",
       "      <td>vendor_8</td>\n",
       "      <td>0</td>\n",
       "      <td>0</td>\n",
       "      <td>0</td>\n",
       "      <td>0</td>\n",
       "      <td>0</td>\n",
       "      <td>0</td>\n",
       "      <td>0</td>\n",
       "      <td>0</td>\n",
       "      <td>0</td>\n",
       "      <td>0</td>\n",
       "      <td>0</td>\n",
       "      <td>0</td>\n",
       "      <td>0</td>\n",
       "      <td>18</td>\n",
       "      <td>0</td>\n",
       "    </tr>\n",
       "    <tr>\n",
       "      <th>14</th>\n",
       "      <td>vendor_9</td>\n",
       "      <td>0</td>\n",
       "      <td>0</td>\n",
       "      <td>0</td>\n",
       "      <td>0</td>\n",
       "      <td>0</td>\n",
       "      <td>0</td>\n",
       "      <td>0</td>\n",
       "      <td>0</td>\n",
       "      <td>0</td>\n",
       "      <td>0</td>\n",
       "      <td>0</td>\n",
       "      <td>0</td>\n",
       "      <td>0</td>\n",
       "      <td>0</td>\n",
       "      <td>23</td>\n",
       "    </tr>\n",
       "  </tbody>\n",
       "</table>\n",
       "</div>"
      ],
      "text/plain": [
       "   expected_label  vendor_0  vendor_1  vendor_10  vendor_11  vendor_12  \\\n",
       "0        vendor_0        19         0          0          0          0   \n",
       "1        vendor_1         0        24          0          0          0   \n",
       "2       vendor_10         0         0         22          0          0   \n",
       "3       vendor_11         0         0          0         21          0   \n",
       "4       vendor_12         0         0          0          0         22   \n",
       "5       vendor_13         0         0          0          0          0   \n",
       "6       vendor_14         0         0          0          0          0   \n",
       "7        vendor_2         0         0          0          0          0   \n",
       "8        vendor_3         0         0          0          0          0   \n",
       "9        vendor_4         0         0          0          0          0   \n",
       "10       vendor_5         0         0          0          0          0   \n",
       "11       vendor_6         0         0          0          0          0   \n",
       "12       vendor_7         0         0          0          0          0   \n",
       "13       vendor_8         0         0          0          0          0   \n",
       "14       vendor_9         0         0          0          0          0   \n",
       "\n",
       "    vendor_13  vendor_14  vendor_2  vendor_3  vendor_4  vendor_5  vendor_6  \\\n",
       "0           0          0         0         0         0         0         0   \n",
       "1           0          0         0         0         0         0         0   \n",
       "2           0          0         0         0         0         0         0   \n",
       "3           0          0         0         0         0         0         0   \n",
       "4           0          0         0         0         0         0         0   \n",
       "5          19          0         0         0         0         0         0   \n",
       "6           0         18         0         0         0         0         0   \n",
       "7           0          0        16         0         0         0         0   \n",
       "8           0          0         0        19         0         0         0   \n",
       "9           0          0         0         0        14         0         0   \n",
       "10          0          0         0         0         0        16         0   \n",
       "11          0          0         0         0         0         0        19   \n",
       "12          0          0         0         0         0         0         0   \n",
       "13          0          0         0         0         0         0         0   \n",
       "14          0          0         0         0         0         0         0   \n",
       "\n",
       "    vendor_7  vendor_8  vendor_9  \n",
       "0          0         0         0  \n",
       "1          0         0         0  \n",
       "2          0         0         0  \n",
       "3          0         0         0  \n",
       "4          0         0         0  \n",
       "5          0         0         0  \n",
       "6          0         0         0  \n",
       "7          0         0         0  \n",
       "8          0         0         0  \n",
       "9          0         0         0  \n",
       "10         0         0         0  \n",
       "11         0         0         0  \n",
       "12        29         0         0  \n",
       "13         0        18         0  \n",
       "14         0         0        23  "
      ]
     },
     "execution_count": 17,
     "metadata": {},
     "output_type": "execute_result"
    }
   ],
   "source": [
    "%%bigquery\n",
    "SELECT *\n",
    "FROM ML.CONFUSION_MATRIX(MODEL `statmike-mlops-349915.solution_prototype_document_processing.rf_classifier`)"
   ]
  },
  {
   "cell_type": "code",
   "execution_count": 20,
   "id": "43f5023d",
   "metadata": {},
   "outputs": [
    {
     "data": {
      "application/vnd.jupyter.widget-view+json": {
       "model_id": "fb99b94b51f14281828ed6c602471ba3",
       "version_major": 2,
       "version_minor": 0
      },
      "text/plain": [
       "Query is running:   0%|          |"
      ]
     },
     "metadata": {},
     "output_type": "display_data"
    },
    {
     "data": {
      "application/vnd.jupyter.widget-view+json": {
       "model_id": "a59b4d713645414c84e6091b053711ea",
       "version_major": 2,
       "version_minor": 0
      },
      "text/plain": [
       "Downloading:   0%|          |"
      ]
     },
     "metadata": {},
     "output_type": "display_data"
    },
    {
     "data": {
      "text/html": [
       "<div>\n",
       "<style scoped>\n",
       "    .dataframe tbody tr th:only-of-type {\n",
       "        vertical-align: middle;\n",
       "    }\n",
       "\n",
       "    .dataframe tbody tr th {\n",
       "        vertical-align: top;\n",
       "    }\n",
       "\n",
       "    .dataframe thead th {\n",
       "        text-align: right;\n",
       "    }\n",
       "</style>\n",
       "<table border=\"1\" class=\"dataframe\">\n",
       "  <thead>\n",
       "    <tr style=\"text-align: right;\">\n",
       "      <th></th>\n",
       "      <th>expected_label</th>\n",
       "      <th>vendor_0</th>\n",
       "      <th>vendor_1</th>\n",
       "      <th>vendor_10</th>\n",
       "      <th>vendor_11</th>\n",
       "      <th>vendor_12</th>\n",
       "      <th>vendor_13</th>\n",
       "      <th>vendor_14</th>\n",
       "      <th>vendor_2</th>\n",
       "      <th>vendor_3</th>\n",
       "      <th>vendor_4</th>\n",
       "      <th>vendor_5</th>\n",
       "      <th>vendor_6</th>\n",
       "      <th>vendor_7</th>\n",
       "      <th>vendor_8</th>\n",
       "      <th>vendor_9</th>\n",
       "    </tr>\n",
       "  </thead>\n",
       "  <tbody>\n",
       "    <tr>\n",
       "      <th>0</th>\n",
       "      <td>vendor_0</td>\n",
       "      <td>11</td>\n",
       "      <td>0</td>\n",
       "      <td>0</td>\n",
       "      <td>1</td>\n",
       "      <td>0</td>\n",
       "      <td>4</td>\n",
       "      <td>0</td>\n",
       "      <td>0</td>\n",
       "      <td>1</td>\n",
       "      <td>0</td>\n",
       "      <td>0</td>\n",
       "      <td>0</td>\n",
       "      <td>0</td>\n",
       "      <td>2</td>\n",
       "      <td>0</td>\n",
       "    </tr>\n",
       "    <tr>\n",
       "      <th>1</th>\n",
       "      <td>vendor_1</td>\n",
       "      <td>0</td>\n",
       "      <td>21</td>\n",
       "      <td>0</td>\n",
       "      <td>0</td>\n",
       "      <td>0</td>\n",
       "      <td>0</td>\n",
       "      <td>0</td>\n",
       "      <td>0</td>\n",
       "      <td>0</td>\n",
       "      <td>0</td>\n",
       "      <td>0</td>\n",
       "      <td>0</td>\n",
       "      <td>0</td>\n",
       "      <td>0</td>\n",
       "      <td>3</td>\n",
       "    </tr>\n",
       "    <tr>\n",
       "      <th>2</th>\n",
       "      <td>vendor_10</td>\n",
       "      <td>0</td>\n",
       "      <td>0</td>\n",
       "      <td>15</td>\n",
       "      <td>0</td>\n",
       "      <td>2</td>\n",
       "      <td>2</td>\n",
       "      <td>0</td>\n",
       "      <td>0</td>\n",
       "      <td>0</td>\n",
       "      <td>2</td>\n",
       "      <td>0</td>\n",
       "      <td>0</td>\n",
       "      <td>0</td>\n",
       "      <td>1</td>\n",
       "      <td>0</td>\n",
       "    </tr>\n",
       "    <tr>\n",
       "      <th>3</th>\n",
       "      <td>vendor_11</td>\n",
       "      <td>0</td>\n",
       "      <td>1</td>\n",
       "      <td>2</td>\n",
       "      <td>14</td>\n",
       "      <td>2</td>\n",
       "      <td>0</td>\n",
       "      <td>0</td>\n",
       "      <td>0</td>\n",
       "      <td>0</td>\n",
       "      <td>0</td>\n",
       "      <td>1</td>\n",
       "      <td>0</td>\n",
       "      <td>0</td>\n",
       "      <td>0</td>\n",
       "      <td>1</td>\n",
       "    </tr>\n",
       "    <tr>\n",
       "      <th>4</th>\n",
       "      <td>vendor_12</td>\n",
       "      <td>0</td>\n",
       "      <td>0</td>\n",
       "      <td>0</td>\n",
       "      <td>0</td>\n",
       "      <td>10</td>\n",
       "      <td>0</td>\n",
       "      <td>0</td>\n",
       "      <td>0</td>\n",
       "      <td>0</td>\n",
       "      <td>1</td>\n",
       "      <td>2</td>\n",
       "      <td>0</td>\n",
       "      <td>0</td>\n",
       "      <td>8</td>\n",
       "      <td>1</td>\n",
       "    </tr>\n",
       "    <tr>\n",
       "      <th>5</th>\n",
       "      <td>vendor_13</td>\n",
       "      <td>0</td>\n",
       "      <td>0</td>\n",
       "      <td>1</td>\n",
       "      <td>1</td>\n",
       "      <td>0</td>\n",
       "      <td>17</td>\n",
       "      <td>0</td>\n",
       "      <td>0</td>\n",
       "      <td>0</td>\n",
       "      <td>0</td>\n",
       "      <td>0</td>\n",
       "      <td>0</td>\n",
       "      <td>0</td>\n",
       "      <td>0</td>\n",
       "      <td>0</td>\n",
       "    </tr>\n",
       "    <tr>\n",
       "      <th>6</th>\n",
       "      <td>vendor_14</td>\n",
       "      <td>0</td>\n",
       "      <td>2</td>\n",
       "      <td>0</td>\n",
       "      <td>1</td>\n",
       "      <td>2</td>\n",
       "      <td>1</td>\n",
       "      <td>5</td>\n",
       "      <td>0</td>\n",
       "      <td>1</td>\n",
       "      <td>0</td>\n",
       "      <td>1</td>\n",
       "      <td>0</td>\n",
       "      <td>0</td>\n",
       "      <td>5</td>\n",
       "      <td>0</td>\n",
       "    </tr>\n",
       "    <tr>\n",
       "      <th>7</th>\n",
       "      <td>vendor_2</td>\n",
       "      <td>0</td>\n",
       "      <td>0</td>\n",
       "      <td>1</td>\n",
       "      <td>0</td>\n",
       "      <td>0</td>\n",
       "      <td>0</td>\n",
       "      <td>0</td>\n",
       "      <td>14</td>\n",
       "      <td>0</td>\n",
       "      <td>0</td>\n",
       "      <td>0</td>\n",
       "      <td>1</td>\n",
       "      <td>0</td>\n",
       "      <td>0</td>\n",
       "      <td>0</td>\n",
       "    </tr>\n",
       "    <tr>\n",
       "      <th>8</th>\n",
       "      <td>vendor_3</td>\n",
       "      <td>1</td>\n",
       "      <td>0</td>\n",
       "      <td>0</td>\n",
       "      <td>1</td>\n",
       "      <td>0</td>\n",
       "      <td>0</td>\n",
       "      <td>0</td>\n",
       "      <td>2</td>\n",
       "      <td>12</td>\n",
       "      <td>1</td>\n",
       "      <td>0</td>\n",
       "      <td>0</td>\n",
       "      <td>0</td>\n",
       "      <td>0</td>\n",
       "      <td>2</td>\n",
       "    </tr>\n",
       "    <tr>\n",
       "      <th>9</th>\n",
       "      <td>vendor_4</td>\n",
       "      <td>0</td>\n",
       "      <td>0</td>\n",
       "      <td>0</td>\n",
       "      <td>2</td>\n",
       "      <td>0</td>\n",
       "      <td>0</td>\n",
       "      <td>0</td>\n",
       "      <td>0</td>\n",
       "      <td>2</td>\n",
       "      <td>8</td>\n",
       "      <td>0</td>\n",
       "      <td>0</td>\n",
       "      <td>0</td>\n",
       "      <td>2</td>\n",
       "      <td>0</td>\n",
       "    </tr>\n",
       "    <tr>\n",
       "      <th>10</th>\n",
       "      <td>vendor_5</td>\n",
       "      <td>0</td>\n",
       "      <td>2</td>\n",
       "      <td>0</td>\n",
       "      <td>0</td>\n",
       "      <td>1</td>\n",
       "      <td>0</td>\n",
       "      <td>0</td>\n",
       "      <td>1</td>\n",
       "      <td>1</td>\n",
       "      <td>0</td>\n",
       "      <td>10</td>\n",
       "      <td>1</td>\n",
       "      <td>0</td>\n",
       "      <td>0</td>\n",
       "      <td>0</td>\n",
       "    </tr>\n",
       "    <tr>\n",
       "      <th>11</th>\n",
       "      <td>vendor_6</td>\n",
       "      <td>0</td>\n",
       "      <td>0</td>\n",
       "      <td>0</td>\n",
       "      <td>0</td>\n",
       "      <td>0</td>\n",
       "      <td>1</td>\n",
       "      <td>0</td>\n",
       "      <td>0</td>\n",
       "      <td>1</td>\n",
       "      <td>0</td>\n",
       "      <td>0</td>\n",
       "      <td>17</td>\n",
       "      <td>0</td>\n",
       "      <td>0</td>\n",
       "      <td>0</td>\n",
       "    </tr>\n",
       "    <tr>\n",
       "      <th>12</th>\n",
       "      <td>vendor_7</td>\n",
       "      <td>0</td>\n",
       "      <td>0</td>\n",
       "      <td>0</td>\n",
       "      <td>2</td>\n",
       "      <td>2</td>\n",
       "      <td>0</td>\n",
       "      <td>0</td>\n",
       "      <td>1</td>\n",
       "      <td>0</td>\n",
       "      <td>1</td>\n",
       "      <td>0</td>\n",
       "      <td>0</td>\n",
       "      <td>18</td>\n",
       "      <td>3</td>\n",
       "      <td>2</td>\n",
       "    </tr>\n",
       "    <tr>\n",
       "      <th>13</th>\n",
       "      <td>vendor_8</td>\n",
       "      <td>0</td>\n",
       "      <td>1</td>\n",
       "      <td>0</td>\n",
       "      <td>1</td>\n",
       "      <td>0</td>\n",
       "      <td>1</td>\n",
       "      <td>0</td>\n",
       "      <td>0</td>\n",
       "      <td>0</td>\n",
       "      <td>3</td>\n",
       "      <td>3</td>\n",
       "      <td>0</td>\n",
       "      <td>0</td>\n",
       "      <td>8</td>\n",
       "      <td>1</td>\n",
       "    </tr>\n",
       "    <tr>\n",
       "      <th>14</th>\n",
       "      <td>vendor_9</td>\n",
       "      <td>0</td>\n",
       "      <td>0</td>\n",
       "      <td>0</td>\n",
       "      <td>1</td>\n",
       "      <td>0</td>\n",
       "      <td>0</td>\n",
       "      <td>1</td>\n",
       "      <td>0</td>\n",
       "      <td>0</td>\n",
       "      <td>0</td>\n",
       "      <td>2</td>\n",
       "      <td>0</td>\n",
       "      <td>0</td>\n",
       "      <td>2</td>\n",
       "      <td>17</td>\n",
       "    </tr>\n",
       "  </tbody>\n",
       "</table>\n",
       "</div>"
      ],
      "text/plain": [
       "   expected_label  vendor_0  vendor_1  vendor_10  vendor_11  vendor_12  \\\n",
       "0        vendor_0        11         0          0          1          0   \n",
       "1        vendor_1         0        21          0          0          0   \n",
       "2       vendor_10         0         0         15          0          2   \n",
       "3       vendor_11         0         1          2         14          2   \n",
       "4       vendor_12         0         0          0          0         10   \n",
       "5       vendor_13         0         0          1          1          0   \n",
       "6       vendor_14         0         2          0          1          2   \n",
       "7        vendor_2         0         0          1          0          0   \n",
       "8        vendor_3         1         0          0          1          0   \n",
       "9        vendor_4         0         0          0          2          0   \n",
       "10       vendor_5         0         2          0          0          1   \n",
       "11       vendor_6         0         0          0          0          0   \n",
       "12       vendor_7         0         0          0          2          2   \n",
       "13       vendor_8         0         1          0          1          0   \n",
       "14       vendor_9         0         0          0          1          0   \n",
       "\n",
       "    vendor_13  vendor_14  vendor_2  vendor_3  vendor_4  vendor_5  vendor_6  \\\n",
       "0           4          0         0         1         0         0         0   \n",
       "1           0          0         0         0         0         0         0   \n",
       "2           2          0         0         0         2         0         0   \n",
       "3           0          0         0         0         0         1         0   \n",
       "4           0          0         0         0         1         2         0   \n",
       "5          17          0         0         0         0         0         0   \n",
       "6           1          5         0         1         0         1         0   \n",
       "7           0          0        14         0         0         0         1   \n",
       "8           0          0         2        12         1         0         0   \n",
       "9           0          0         0         2         8         0         0   \n",
       "10          0          0         1         1         0        10         1   \n",
       "11          1          0         0         1         0         0        17   \n",
       "12          0          0         1         0         1         0         0   \n",
       "13          1          0         0         0         3         3         0   \n",
       "14          0          1         0         0         0         2         0   \n",
       "\n",
       "    vendor_7  vendor_8  vendor_9  \n",
       "0          0         2         0  \n",
       "1          0         0         3  \n",
       "2          0         1         0  \n",
       "3          0         0         1  \n",
       "4          0         8         1  \n",
       "5          0         0         0  \n",
       "6          0         5         0  \n",
       "7          0         0         0  \n",
       "8          0         0         2  \n",
       "9          0         2         0  \n",
       "10         0         0         0  \n",
       "11         0         0         0  \n",
       "12        18         3         2  \n",
       "13         0         8         1  \n",
       "14         0         2        17  "
      ]
     },
     "execution_count": 20,
     "metadata": {},
     "output_type": "execute_result"
    }
   ],
   "source": [
    "%%bigquery\n",
    "SELECT *\n",
    "FROM ML.CONFUSION_MATRIX(\n",
    "    MODEL `statmike-mlops-349915.solution_prototype_document_processing.rf_classifier`,\n",
    "    (SELECT * FROM `statmike-mlops-349915.solution_prototype_document_processing.unknown_authenticity`)\n",
    ")"
   ]
  },
  {
   "cell_type": "markdown",
   "id": "1e2d5b45",
   "metadata": {},
   "source": [
    "---\n",
    "## Predictions With BigQuery ML (BQML)"
   ]
  },
  {
   "cell_type": "markdown",
   "id": "9cc7ef51",
   "metadata": {},
   "source": [
    "Create a pandas dataframe with retrieved predictions for the test data in the table using [ML.PREDICT](https://cloud.google.com/bigquery-ml/docs/reference/standard-sql/bigqueryml-syntax-predict):"
   ]
  },
  {
   "cell_type": "code",
   "execution_count": 22,
   "id": "44b7a8e8",
   "metadata": {},
   "outputs": [
    {
     "data": {
      "application/vnd.jupyter.widget-view+json": {
       "model_id": "c107700d08d24aebb699a6a341ac8048",
       "version_major": 2,
       "version_minor": 0
      },
      "text/plain": [
       "Query is running:   0%|          |"
      ]
     },
     "metadata": {},
     "output_type": "display_data"
    },
    {
     "data": {
      "application/vnd.jupyter.widget-view+json": {
       "model_id": "161d9b054c5e4747a9986ce2d6aa34fc",
       "version_major": 2,
       "version_minor": 0
      },
      "text/plain": [
       "Downloading:   0%|          |"
      ]
     },
     "metadata": {},
     "output_type": "display_data"
    }
   ],
   "source": [
    "%%bigquery preds\n",
    "SELECT *\n",
    "FROM ML.PREDICT(\n",
    "  MODEL `statmike-mlops-349915.solution_prototype_document_processing.rf_classifier`,\n",
    "  (SELECT vendor, embedding FROM `statmike-mlops-349915.solution_prototype_document_processing.unknown_authenticity` LIMIT 5)\n",
    ")"
   ]
  },
  {
   "cell_type": "code",
   "execution_count": 32,
   "id": "81086da1",
   "metadata": {},
   "outputs": [
    {
     "data": {
      "text/html": [
       "<div>\n",
       "<style scoped>\n",
       "    .dataframe tbody tr th:only-of-type {\n",
       "        vertical-align: middle;\n",
       "    }\n",
       "\n",
       "    .dataframe tbody tr th {\n",
       "        vertical-align: top;\n",
       "    }\n",
       "\n",
       "    .dataframe thead th {\n",
       "        text-align: right;\n",
       "    }\n",
       "</style>\n",
       "<table border=\"1\" class=\"dataframe\">\n",
       "  <thead>\n",
       "    <tr style=\"text-align: right;\">\n",
       "      <th></th>\n",
       "      <th>predicted_vendor</th>\n",
       "      <th>predicted_vendor_probs</th>\n",
       "      <th>vendor</th>\n",
       "      <th>embedding</th>\n",
       "    </tr>\n",
       "  </thead>\n",
       "  <tbody>\n",
       "    <tr>\n",
       "      <th>0</th>\n",
       "      <td>vendor_1</td>\n",
       "      <td>[{'label': 'vendor_9', 'prob': 0.0444977171719...</td>\n",
       "      <td>vendor_8</td>\n",
       "      <td>[0.0160381682, 0.0116377119, 0.00194062886, 0....</td>\n",
       "    </tr>\n",
       "    <tr>\n",
       "      <th>1</th>\n",
       "      <td>vendor_5</td>\n",
       "      <td>[{'label': 'vendor_9', 'prob': 0.0584864690899...</td>\n",
       "      <td>vendor_5</td>\n",
       "      <td>[0.00087831, 0.0551444367, 0.0510212779, -0.00...</td>\n",
       "    </tr>\n",
       "    <tr>\n",
       "      <th>2</th>\n",
       "      <td>vendor_1</td>\n",
       "      <td>[{'label': 'vendor_9', 'prob': 0.0441318489611...</td>\n",
       "      <td>vendor_5</td>\n",
       "      <td>[0.0131794149, 0.0133737465, 0.00720742205, -0...</td>\n",
       "    </tr>\n",
       "    <tr>\n",
       "      <th>3</th>\n",
       "      <td>vendor_10</td>\n",
       "      <td>[{'label': 'vendor_9', 'prob': 0.0048541207797...</td>\n",
       "      <td>vendor_10</td>\n",
       "      <td>[-0.00644508842, 0.0360948518, 0.0467085019, -...</td>\n",
       "    </tr>\n",
       "    <tr>\n",
       "      <th>4</th>\n",
       "      <td>vendor_10</td>\n",
       "      <td>[{'label': 'vendor_9', 'prob': 0.0040431618690...</td>\n",
       "      <td>vendor_10</td>\n",
       "      <td>[-0.0120130433, 0.0339877978, 0.0499950275, -0...</td>\n",
       "    </tr>\n",
       "  </tbody>\n",
       "</table>\n",
       "</div>"
      ],
      "text/plain": [
       "  predicted_vendor                             predicted_vendor_probs  \\\n",
       "0         vendor_1  [{'label': 'vendor_9', 'prob': 0.0444977171719...   \n",
       "1         vendor_5  [{'label': 'vendor_9', 'prob': 0.0584864690899...   \n",
       "2         vendor_1  [{'label': 'vendor_9', 'prob': 0.0441318489611...   \n",
       "3        vendor_10  [{'label': 'vendor_9', 'prob': 0.0048541207797...   \n",
       "4        vendor_10  [{'label': 'vendor_9', 'prob': 0.0040431618690...   \n",
       "\n",
       "      vendor                                          embedding  \n",
       "0   vendor_8  [0.0160381682, 0.0116377119, 0.00194062886, 0....  \n",
       "1   vendor_5  [0.00087831, 0.0551444367, 0.0510212779, -0.00...  \n",
       "2   vendor_5  [0.0131794149, 0.0133737465, 0.00720742205, -0...  \n",
       "3  vendor_10  [-0.00644508842, 0.0360948518, 0.0467085019, -...  \n",
       "4  vendor_10  [-0.0120130433, 0.0339877978, 0.0499950275, -0...  "
      ]
     },
     "execution_count": 32,
     "metadata": {},
     "output_type": "execute_result"
    }
   ],
   "source": [
    "preds"
   ]
  },
  {
   "cell_type": "code",
   "execution_count": 33,
   "id": "41f5f07b",
   "metadata": {},
   "outputs": [
    {
     "data": {
      "text/plain": [
       "'vendor_1'"
      ]
     },
     "execution_count": 33,
     "metadata": {},
     "output_type": "execute_result"
    }
   ],
   "source": [
    "preds['predicted_vendor'].iloc[0]"
   ]
  },
  {
   "cell_type": "code",
   "execution_count": null,
   "id": "794e5665",
   "metadata": {},
   "outputs": [
    {
     "data": {
      "text/plain": [
       "array([{'label': 'vendor_9', 'prob': 0.044497717171907425},\n",
       "       {'label': 'vendor_8', 'prob': 0.019621562212705612},\n",
       "       {'label': 'vendor_7', 'prob': 0.00821880903095007},\n",
       "       {'label': 'vendor_6', 'prob': 0.017902441322803497},\n",
       "       {'label': 'vendor_5', 'prob': 0.02178679034113884},\n",
       "       {'label': 'vendor_4', 'prob': 0.008760645054280758},\n",
       "       {'label': 'vendor_3', 'prob': 0.009960188530385494},\n",
       "       {'label': 'vendor_2', 'prob': 0.010932879522442818},\n",
       "       {'label': 'vendor_14', 'prob': 0.008463104255497456},\n",
       "       {'label': 'vendor_13', 'prob': 0.009418832138180733},\n",
       "       {'label': 'vendor_12', 'prob': 0.008814872242510319},\n",
       "       {'label': 'vendor_11', 'prob': 0.00910558644682169},\n",
       "       {'label': 'vendor_10', 'prob': 0.25243809819221497},\n",
       "       {'label': 'vendor_1', 'prob': 0.5611459016799927},\n",
       "       {'label': 'vendor_0', 'prob': 0.008932585828006268}], dtype=object)"
      ]
     },
     "execution_count": 35,
     "metadata": {},
     "output_type": "execute_result"
    }
   ],
   "source": [
    "preds['predicted_vendor_probs'].iloc[0]"
   ]
  },
  {
   "cell_type": "code",
   "execution_count": 28,
   "id": "8446d891",
   "metadata": {},
   "outputs": [
    {
     "data": {
      "application/vnd.jupyter.widget-view+json": {
       "model_id": "849714a973e540e8a4385683e4c546ca",
       "version_major": 2,
       "version_minor": 0
      },
      "text/plain": [
       "Query is running:   0%|          |"
      ]
     },
     "metadata": {},
     "output_type": "display_data"
    },
    {
     "data": {
      "application/vnd.jupyter.widget-view+json": {
       "model_id": "02c8bed788fe40f3bf2cd1df89ddf1bc",
       "version_major": 2,
       "version_minor": 0
      },
      "text/plain": [
       "Downloading:   0%|          |"
      ]
     },
     "metadata": {},
     "output_type": "display_data"
    }
   ],
   "source": [
    "%%bigquery explains\n",
    "SELECT *\n",
    "FROM ML.EXPLAIN_PREDICT(\n",
    "  MODEL `statmike-mlops-349915.solution_prototype_document_processing.rf_classifier`,\n",
    "  (SELECT vendor, embedding FROM `statmike-mlops-349915.solution_prototype_document_processing.unknown_authenticity` LIMIT 5)\n",
    ")"
   ]
  },
  {
   "cell_type": "code",
   "execution_count": 29,
   "id": "d250e66b",
   "metadata": {},
   "outputs": [
    {
     "data": {
      "text/html": [
       "<div>\n",
       "<style scoped>\n",
       "    .dataframe tbody tr th:only-of-type {\n",
       "        vertical-align: middle;\n",
       "    }\n",
       "\n",
       "    .dataframe tbody tr th {\n",
       "        vertical-align: top;\n",
       "    }\n",
       "\n",
       "    .dataframe thead th {\n",
       "        text-align: right;\n",
       "    }\n",
       "</style>\n",
       "<table border=\"1\" class=\"dataframe\">\n",
       "  <thead>\n",
       "    <tr style=\"text-align: right;\">\n",
       "      <th></th>\n",
       "      <th>predicted_vendor</th>\n",
       "      <th>probability</th>\n",
       "      <th>top_feature_attributions</th>\n",
       "      <th>baseline_prediction_value</th>\n",
       "      <th>prediction_value</th>\n",
       "      <th>approximation_error</th>\n",
       "      <th>vendor</th>\n",
       "      <th>embedding</th>\n",
       "    </tr>\n",
       "  </thead>\n",
       "  <tbody>\n",
       "    <tr>\n",
       "      <th>0</th>\n",
       "      <td>vendor_1</td>\n",
       "      <td>0.561146</td>\n",
       "      <td>[{'feature': 'embedding', 'attribution': 3.851...</td>\n",
       "      <td>0.354058</td>\n",
       "      <td>4.205379</td>\n",
       "      <td>0.0</td>\n",
       "      <td>vendor_8</td>\n",
       "      <td>[0.0160381682, 0.0116377119, 0.00194062886, 0....</td>\n",
       "    </tr>\n",
       "    <tr>\n",
       "      <th>1</th>\n",
       "      <td>vendor_5</td>\n",
       "      <td>0.151268</td>\n",
       "      <td>[{'feature': 'embedding', 'attribution': 0.565...</td>\n",
       "      <td>0.366685</td>\n",
       "      <td>0.932279</td>\n",
       "      <td>0.0</td>\n",
       "      <td>vendor_5</td>\n",
       "      <td>[0.00087831, 0.0551444367, 0.0510212779, -0.00...</td>\n",
       "    </tr>\n",
       "    <tr>\n",
       "      <th>2</th>\n",
       "      <td>vendor_1</td>\n",
       "      <td>0.560835</td>\n",
       "      <td>[{'feature': 'embedding', 'attribution': 3.851...</td>\n",
       "      <td>0.354058</td>\n",
       "      <td>4.205379</td>\n",
       "      <td>0.0</td>\n",
       "      <td>vendor_5</td>\n",
       "      <td>[0.0131794149, 0.0133737465, 0.00720742205, -0...</td>\n",
       "    </tr>\n",
       "    <tr>\n",
       "      <th>3</th>\n",
       "      <td>vendor_10</td>\n",
       "      <td>0.920909</td>\n",
       "      <td>[{'feature': 'embedding', 'attribution': 4.870...</td>\n",
       "      <td>0.357127</td>\n",
       "      <td>5.227555</td>\n",
       "      <td>0.0</td>\n",
       "      <td>vendor_10</td>\n",
       "      <td>[-0.00644508842, 0.0360948518, 0.0467085019, -...</td>\n",
       "    </tr>\n",
       "    <tr>\n",
       "      <th>4</th>\n",
       "      <td>vendor_10</td>\n",
       "      <td>0.916454</td>\n",
       "      <td>[{'feature': 'embedding', 'attribution': 5.058...</td>\n",
       "      <td>0.357127</td>\n",
       "      <td>5.415724</td>\n",
       "      <td>0.0</td>\n",
       "      <td>vendor_10</td>\n",
       "      <td>[-0.0120130433, 0.0339877978, 0.0499950275, -0...</td>\n",
       "    </tr>\n",
       "  </tbody>\n",
       "</table>\n",
       "</div>"
      ],
      "text/plain": [
       "  predicted_vendor  probability  \\\n",
       "0         vendor_1     0.561146   \n",
       "1         vendor_5     0.151268   \n",
       "2         vendor_1     0.560835   \n",
       "3        vendor_10     0.920909   \n",
       "4        vendor_10     0.916454   \n",
       "\n",
       "                            top_feature_attributions  \\\n",
       "0  [{'feature': 'embedding', 'attribution': 3.851...   \n",
       "1  [{'feature': 'embedding', 'attribution': 0.565...   \n",
       "2  [{'feature': 'embedding', 'attribution': 3.851...   \n",
       "3  [{'feature': 'embedding', 'attribution': 4.870...   \n",
       "4  [{'feature': 'embedding', 'attribution': 5.058...   \n",
       "\n",
       "   baseline_prediction_value  prediction_value  approximation_error  \\\n",
       "0                   0.354058          4.205379                  0.0   \n",
       "1                   0.366685          0.932279                  0.0   \n",
       "2                   0.354058          4.205379                  0.0   \n",
       "3                   0.357127          5.227555                  0.0   \n",
       "4                   0.357127          5.415724                  0.0   \n",
       "\n",
       "      vendor                                          embedding  \n",
       "0   vendor_8  [0.0160381682, 0.0116377119, 0.00194062886, 0....  \n",
       "1   vendor_5  [0.00087831, 0.0551444367, 0.0510212779, -0.00...  \n",
       "2   vendor_5  [0.0131794149, 0.0133737465, 0.00720742205, -0...  \n",
       "3  vendor_10  [-0.00644508842, 0.0360948518, 0.0467085019, -...  \n",
       "4  vendor_10  [-0.0120130433, 0.0339877978, 0.0499950275, -0...  "
      ]
     },
     "execution_count": 29,
     "metadata": {},
     "output_type": "execute_result"
    }
   ],
   "source": [
    "explains"
   ]
  },
  {
   "cell_type": "code",
   "execution_count": 31,
   "id": "98c7b97f",
   "metadata": {},
   "outputs": [
    {
     "data": {
      "text/plain": [
       "array([{'feature': 'embedding', 'attribution': 3.8513212900579674}],\n",
       "      dtype=object)"
      ]
     },
     "execution_count": 31,
     "metadata": {},
     "output_type": "execute_result"
    }
   ],
   "source": [
    "explains['top_feature_attributions'].iloc[0]"
   ]
  },
  {
   "cell_type": "markdown",
   "id": "12c73bb8",
   "metadata": {},
   "source": []
  }
 ],
 "metadata": {
  "kernelspec": {
   "display_name": ".venv",
   "language": "python",
   "name": "python3"
  },
  "language_info": {
   "codemirror_mode": {
    "name": "ipython",
    "version": 3
   },
   "file_extension": ".py",
   "mimetype": "text/x-python",
   "name": "python",
   "nbconvert_exporter": "python",
   "pygments_lexer": "ipython3",
   "version": "3.13.3"
  }
 },
 "nbformat": 4,
 "nbformat_minor": 5
}
