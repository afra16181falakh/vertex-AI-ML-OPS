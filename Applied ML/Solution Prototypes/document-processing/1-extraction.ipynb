{
 "cells": [
  {
   "cell_type": "markdown",
   "id": "8c132480",
   "metadata": {},
   "source": [
    "# Build A Custom Extractor For Documents"
   ]
  },
  {
   "cell_type": "markdown",
   "id": "cca30d3e",
   "metadata": {},
   "source": [
    "## Setup\n",
    "\n",
    "Note that this notebook expects to use a local virtual environment with the `./requirements.txt` installed.  \n",
    "\n",
    "A potential workaround if using this notebook standalone is running:\n",
    "\n",
    ">```python\n",
    ">pip install -r requirements.txt\n",
    ">```\n",
    "\n",
    "And then restart the kernel."
   ]
  },
  {
   "cell_type": "code",
   "execution_count": 4,
   "id": "27df3b17",
   "metadata": {},
   "outputs": [],
   "source": [
    "# package imports for this work\n",
    "import os, subprocess\n",
    "\n",
    "from google.cloud import documentai\n",
    "from google.cloud import storage"
   ]
  },
  {
   "cell_type": "code",
   "execution_count": 5,
   "id": "65df7530",
   "metadata": {},
   "outputs": [
    {
     "data": {
      "text/plain": [
       "'statmike-mlops-349915'"
      ]
     },
     "execution_count": 5,
     "metadata": {},
     "output_type": "execute_result"
    }
   ],
   "source": [
    "# what project are we working in?\n",
    "PROJECT_ID = subprocess.run(['gcloud', 'config', 'get-value', 'project'], capture_output=True, text=True, check=True).stdout.strip()\n",
    "PROJECT_ID"
   ]
  },
  {
   "cell_type": "code",
   "execution_count": 7,
   "id": "bcdcad9b",
   "metadata": {},
   "outputs": [],
   "source": [
    "LOCATION = 'us-central1'\n",
    "\n",
    "SERIES = 'applied-ml-solution-prototypes'\n",
    "EXPERIMENT = 'document-processing'\n",
    "GCS_BUCKET = PROJECT_ID # bucket has same name as project here"
   ]
  },
  {
   "cell_type": "code",
   "execution_count": 9,
   "id": "4aaeb292",
   "metadata": {},
   "outputs": [],
   "source": [
    "# setup google cloud storage client\n",
    "gcs = storage.Client(project = PROJECT_ID)\n",
    "bucket = gcs.bucket(GCS_BUCKET)\n",
    "\n",
    "# setup document AI Client\n",
    "docai_client = documentai.DocumentProcessorServiceClient(\n",
    "    client_options = dict(api_endpoint = f\"{LOCATION[0:2]}-documentai.googleapis.com\")\n",
    ")"
   ]
  },
  {
   "cell_type": "code",
   "execution_count": null,
   "id": "486bff54",
   "metadata": {},
   "outputs": [],
   "source": []
  }
 ],
 "metadata": {
  "kernelspec": {
   "display_name": ".venv",
   "language": "python",
   "name": "python3"
  },
  "language_info": {
   "codemirror_mode": {
    "name": "ipython",
    "version": 3
   },
   "file_extension": ".py",
   "mimetype": "text/x-python",
   "name": "python",
   "nbconvert_exporter": "python",
   "pygments_lexer": "ipython3",
   "version": "3.13.3"
  }
 },
 "nbformat": 4,
 "nbformat_minor": 5
}
