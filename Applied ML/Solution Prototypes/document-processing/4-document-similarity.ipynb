{
 "cells": [
  {
   "cell_type": "markdown",
   "id": "990fb11b",
   "metadata": {},
   "source": [
    "# Document Simlarity With Embeddings"
   ]
  },
  {
   "cell_type": "markdown",
   "id": "d56bff50",
   "metadata": {},
   "source": []
  }
 ],
 "metadata": {
  "language_info": {
   "name": "python"
  }
 },
 "nbformat": 4,
 "nbformat_minor": 5
}
