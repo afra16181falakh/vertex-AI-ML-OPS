{
 "cells": [
  {
   "cell_type": "markdown",
   "id": "2d9cbd23",
   "metadata": {},
   "source": [
    "![tracker](https://us-central1-vertex-ai-mlops-369716.cloudfunctions.net/pixel-tracking?path=statmike%2Fvertex-ai-mlops%2FApplied+ML%2FSolution+Prototypes%2Fdocument-processing&file=4-document-similarity.ipynb)\n",
    "<!--- header table --->\n",
    "<table align=\"left\">\n",
    "  <td style=\"text-align: center\">\n",
    "    <a href=\"https://colab.research.google.com/github/statmike/vertex-ai-mlops/blob/main/Applied%20ML/Solution%20Prototypes/document-processing/4-document-similarity.ipynb\">\n",
    "      <img src=\"https://cloud.google.com/ml-engine/images/colab-logo-32px.png\" alt=\"Google Colaboratory logo\">\n",
    "      <br>Run in<br>Colab\n",
    "    </a>\n",
    "  </td>\n",
    "  <td style=\"text-align: center\">\n",
    "    <a href=\"https://console.cloud.google.com/vertex-ai/colab/import/https%3A%2F%2Fraw.githubusercontent.com%2Fstatmike%2Fvertex-ai-mlops%2Fmain%2FApplied%2520ML%2FSolution%2520Prototypes%2Fdocument-processing%2F4-document-similarity.ipynb\">\n",
    "      <img width=\"32px\" src=\"https://lh3.googleusercontent.com/JmcxdQi-qOpctIvWKgPtrzZdJJK-J3sWE1RsfjZNwshCFgE_9fULcNpuXYTilIR2hjwN\" alt=\"Google Cloud Colab Enterprise logo\">\n",
    "      <br>Run in<br>Colab Enterprise\n",
    "    </a>\n",
    "  </td>      \n",
    "  <td style=\"text-align: center\">\n",
    "    <a href=\"https://github.com/statmike/vertex-ai-mlops/blob/main/Applied%20ML/Solution%20Prototypes/document-processing/4-document-similarity.ipynb\">\n",
    "      <img src=\"https://cloud.google.com/ml-engine/images/github-logo-32px.png\" alt=\"GitHub logo\">\n",
    "      <br>View on<br>GitHub\n",
    "    </a>\n",
    "  </td>\n",
    "  <td style=\"text-align: center\">\n",
    "    <a href=\"https://console.cloud.google.com/vertex-ai/workbench/deploy-notebook?download_url=https://raw.githubusercontent.com/statmike/vertex-ai-mlops/main/Applied%20ML/Solution%20Prototypes/document-processing/4-document-similarity.ipynb\">\n",
    "      <img src=\"https://lh3.googleusercontent.com/UiNooY4LUgW_oTvpsNhPpQzsstV5W8F7rYgxgGBD85cWJoLmrOzhVs_ksK_vgx40SHs7jCqkTkCk=e14-rj-sc0xffffff-h130-w32\" alt=\"Vertex AI logo\">\n",
    "      <br>Open in<br>Vertex AI Workbench\n",
    "    </a>\n",
    "  </td>\n",
    "</table>"
   ]
  },
  {
   "cell_type": "markdown",
   "id": "990fb11b",
   "metadata": {},
   "source": [
    "# Document Simlarity With Embeddings\n",
    "\n",
    "> This workflow is part of a series of workflows for the solution prototype: [Document Processing With Generative AI: Parse, Extract, Validate Authenticity, and More](./readme.md)\n",
    "\n",
    "In the previous workflow ([3-document-embedding](./3-document-embedding.ipynb)) we generated an embedding representation for each document and stored it with the previously collected data in BigQuery.  These embedding representations can be used to calculate a mathematical distance between document which serves as a similarity measure.  The closer document are the more similar they are.  This is done directly in BigQuery with the VECTOR_SEARH function.\n",
    "\n",
    "**References:**\n",
    "- More details on the [Math of Similarity](../../../Applied%20GenAI/Embeddings/The%20Math%20of%20Similarity.ipynb)\n",
    "- BigQuery [Introduction to vector search](https://cloud.google.com/bigquery/docs/vector-search-intro)\n",
    "- BigQuery [VECTOR_SEARCH](https://cloud.google.com/bigquery/docs/reference/standard-sql/search_functions#vector_search) function\n",
    "PCA:\n",
    "- [CREATE MODEL statement for PCA models](https://cloud.google.com/bigquery/docs/reference/standard-sql/bigqueryml-syntax-create-pca)"
   ]
  },
  {
   "cell_type": "markdown",
   "id": "b9840c8c",
   "metadata": {},
   "source": [
    "## Setup\n",
    "\n",
    "Note that this notebook expects to use a local virtual environment with the `./requirements.txt` installed.  \n",
    "\n",
    "A potential workaround if using this notebook standalone is running:\n",
    "\n",
    ">```python\n",
    ">pip install -r requirements.txt\n",
    ">```\n",
    "\n",
    "And then restart the kernel."
   ]
  },
  {
   "cell_type": "code",
   "execution_count": 127,
   "id": "e5df2204",
   "metadata": {},
   "outputs": [],
   "source": [
    "# package imports for this work\n",
    "import os, subprocess#, io, re\n",
    "\n",
    "from IPython.display import display, Image, Markdown\n",
    "import ipywidgets\n",
    "import fitz # PyMuPDF\n",
    "import matplotlib.pyplot as plt\n",
    "import seaborn as sns\n",
    "\n",
    "from google.cloud import storage\n",
    "from google.cloud import bigquery\n",
    "import vertexai.vision_models"
   ]
  },
  {
   "cell_type": "code",
   "execution_count": 2,
   "id": "e24dbf2c",
   "metadata": {},
   "outputs": [
    {
     "data": {
      "text/plain": [
       "'statmike-mlops-349915'"
      ]
     },
     "execution_count": 2,
     "metadata": {},
     "output_type": "execute_result"
    }
   ],
   "source": [
    "# what project are we working in?\n",
    "PROJECT_ID = subprocess.run(['gcloud', 'config', 'get-value', 'project'], capture_output=True, text=True, check=True).stdout.strip()\n",
    "PROJECT_ID"
   ]
  },
  {
   "cell_type": "code",
   "execution_count": 3,
   "id": "9a412cde",
   "metadata": {},
   "outputs": [],
   "source": [
    "LOCATION = 'us-central1'\n",
    "\n",
    "SERIES = 'applied-ml-solution-prototypes'\n",
    "EXPERIMENT = 'document-processing'\n",
    "GCS_BUCKET = PROJECT_ID # bucket has same name as project here"
   ]
  },
  {
   "cell_type": "code",
   "execution_count": 4,
   "id": "fea48366",
   "metadata": {},
   "outputs": [],
   "source": [
    "# setup google cloud storage client\n",
    "gcs = storage.Client(project = PROJECT_ID)\n",
    "bucket = gcs.bucket(GCS_BUCKET)\n",
    "\n",
    "# setup google cloud bigquery client\n",
    "bq = bigquery.Client(project = PROJECT_ID)\n",
    "\n",
    "# load the bigquery magics for jupyter with:\n",
    "%load_ext bigquery_magics"
   ]
  },
  {
   "cell_type": "markdown",
   "id": "d56bff50",
   "metadata": {},
   "source": [
    "---\n",
    "## Review The Data Source\n",
    "\n",
    "So far this project has:\n",
    "- Built a custom data extractor with Document AI\n",
    "- Created an object table in BigQuery that maps to documents stored in GCS\n",
    "- Created a new table by processing the documents in the object table with the `ML.PROCESS_DOCUMENTS` function that uses the custom parser built with Document AI\n",
    "  - Augmented the table with generated image embeddings for the documents using Vertex AI hosted embeddings models with the `ML.GENERATE_EMBEDDING` function\n",
    "\n",
    "Before we procedd to work with these embedding let's review the data so far:\n"
   ]
  },
  {
   "cell_type": "code",
   "execution_count": 5,
   "id": "363bf0c1",
   "metadata": {},
   "outputs": [
    {
     "data": {
      "application/vnd.jupyter.widget-view+json": {
       "model_id": "60f5247960ef456db090db01abf82166",
       "version_major": 2,
       "version_minor": 0
      },
      "text/plain": [
       "Query is running:   0%|          |"
      ]
     },
     "metadata": {},
     "output_type": "display_data"
    },
    {
     "data": {
      "application/vnd.jupyter.widget-view+json": {
       "model_id": "54076dba75984be68079af08b8ee0d88",
       "version_major": 2,
       "version_minor": 0
      },
      "text/plain": [
       "Downloading:   0%|          |"
      ]
     },
     "metadata": {},
     "output_type": "display_data"
    },
    {
     "data": {
      "text/html": [
       "<div>\n",
       "<style scoped>\n",
       "    .dataframe tbody tr th:only-of-type {\n",
       "        vertical-align: middle;\n",
       "    }\n",
       "\n",
       "    .dataframe tbody tr th {\n",
       "        vertical-align: top;\n",
       "    }\n",
       "\n",
       "    .dataframe thead th {\n",
       "        text-align: right;\n",
       "    }\n",
       "</style>\n",
       "<table border=\"1\" class=\"dataframe\">\n",
       "  <thead>\n",
       "    <tr style=\"text-align: right;\">\n",
       "      <th></th>\n",
       "      <th>ml_process_document_result</th>\n",
       "      <th>ml_process_document_status</th>\n",
       "      <th>vendor_name</th>\n",
       "      <th>vendor_address</th>\n",
       "      <th>company_name</th>\n",
       "      <th>company_address</th>\n",
       "      <th>invoice_id</th>\n",
       "      <th>invoice_total</th>\n",
       "      <th>line_item</th>\n",
       "      <th>uri</th>\n",
       "      <th>updated</th>\n",
       "      <th>vendor</th>\n",
       "      <th>embedding</th>\n",
       "    </tr>\n",
       "  </thead>\n",
       "  <tbody>\n",
       "    <tr>\n",
       "      <th>0</th>\n",
       "      <td>{\"entities\":[{\"confidence\":1,\"id\":\"0\",\"mention...</td>\n",
       "      <td></td>\n",
       "      <td>None</td>\n",
       "      <td>None</td>\n",
       "      <td>BioTech Innovations Corp</td>\n",
       "      <td>666 Genome Way\\nSan Diego, CA 92121</td>\n",
       "      <td>KD-2024-0315</td>\n",
       "      <td>$37108.50</td>\n",
       "      <td>[{'item_sku': 'WEB- DEV- 001', 'item_descripti...</td>\n",
       "      <td>gs://statmike-mlops-349915/applied-ml-solution...</td>\n",
       "      <td>2025-04-23 20:53:37.673000+00:00</td>\n",
       "      <td>vendor_2</td>\n",
       "      <td>[0.0089465566, 0.0536203124, 0.0614382476, -0....</td>\n",
       "    </tr>\n",
       "    <tr>\n",
       "      <th>1</th>\n",
       "      <td>{\"entities\":[{\"confidence\":1,\"id\":\"0\",\"mention...</td>\n",
       "      <td></td>\n",
       "      <td>None</td>\n",
       "      <td>None</td>\n",
       "      <td>HealthAI Innovations</td>\n",
       "      <td>123 Main Street\\nSan Francisco, CA 94111</td>\n",
       "      <td>INV-2024-0315</td>\n",
       "      <td>$21924.00</td>\n",
       "      <td>[{'item_sku': 'CSD-\n",
       "001', 'item_description': ...</td>\n",
       "      <td>gs://statmike-mlops-349915/applied-ml-solution...</td>\n",
       "      <td>2025-04-23 20:53:35.765000+00:00</td>\n",
       "      <td>vendor_2</td>\n",
       "      <td>[0.0121024447, 0.0618715286, 0.0657297298, -0....</td>\n",
       "    </tr>\n",
       "    <tr>\n",
       "      <th>2</th>\n",
       "      <td>{\"entities\":[{\"confidence\":1,\"id\":\"1\",\"propert...</td>\n",
       "      <td></td>\n",
       "      <td>None</td>\n",
       "      <td>None</td>\n",
       "      <td>GlobalMed Health</td>\n",
       "      <td>123 Serene Drive\\nSan Diego, CA 92101</td>\n",
       "      <td>INV-2024-1122</td>\n",
       "      <td>$23600.00</td>\n",
       "      <td>[{'item_sku': 'WEB- DEV- 001', 'item_descripti...</td>\n",
       "      <td>gs://statmike-mlops-349915/applied-ml-solution...</td>\n",
       "      <td>2025-04-23 20:53:35.038000+00:00</td>\n",
       "      <td>vendor_2</td>\n",
       "      <td>[0.0141071267, 0.0521478951, 0.0623387806, -0....</td>\n",
       "    </tr>\n",
       "    <tr>\n",
       "      <th>3</th>\n",
       "      <td>{\"entities\":[{\"confidence\":1,\"id\":\"0\",\"mention...</td>\n",
       "      <td></td>\n",
       "      <td>None</td>\n",
       "      <td>None</td>\n",
       "      <td>Swift Logistics Solutions</td>\n",
       "      <td>987 Elm Street\\nDallas, TX 75201</td>\n",
       "      <td>KD-2024-0722</td>\n",
       "      <td>$19920.00</td>\n",
       "      <td>[{'item_sku': 'WEB- DEV- 001', 'item_descripti...</td>\n",
       "      <td>gs://statmike-mlops-349915/applied-ml-solution...</td>\n",
       "      <td>2025-04-23 20:53:39.182000+00:00</td>\n",
       "      <td>vendor_2</td>\n",
       "      <td>[0.0090936739, 0.0496088825, 0.0622638054, -0....</td>\n",
       "    </tr>\n",
       "    <tr>\n",
       "      <th>4</th>\n",
       "      <td>{\"entities\":[{\"confidence\":1,\"id\":\"1\",\"propert...</td>\n",
       "      <td></td>\n",
       "      <td>None</td>\n",
       "      <td>None</td>\n",
       "      <td>Style Forward Retail</td>\n",
       "      <td>99 Fashion Blvd Los Angeles, CA 90015</td>\n",
       "      <td>INV-2024-1105</td>\n",
       "      <td>$34800.00</td>\n",
       "      <td>[{'item_sku': None, 'item_description': 'Web D...</td>\n",
       "      <td>gs://statmike-mlops-349915/applied-ml-solution...</td>\n",
       "      <td>2025-04-23 20:52:52.221000+00:00</td>\n",
       "      <td>vendor_12</td>\n",
       "      <td>[0.0019979002, 0.0560282543, 0.0625561327, -0....</td>\n",
       "    </tr>\n",
       "  </tbody>\n",
       "</table>\n",
       "</div>"
      ],
      "text/plain": [
       "                          ml_process_document_result  \\\n",
       "0  {\"entities\":[{\"confidence\":1,\"id\":\"0\",\"mention...   \n",
       "1  {\"entities\":[{\"confidence\":1,\"id\":\"0\",\"mention...   \n",
       "2  {\"entities\":[{\"confidence\":1,\"id\":\"1\",\"propert...   \n",
       "3  {\"entities\":[{\"confidence\":1,\"id\":\"0\",\"mention...   \n",
       "4  {\"entities\":[{\"confidence\":1,\"id\":\"1\",\"propert...   \n",
       "\n",
       "  ml_process_document_status vendor_name vendor_address  \\\n",
       "0                                   None           None   \n",
       "1                                   None           None   \n",
       "2                                   None           None   \n",
       "3                                   None           None   \n",
       "4                                   None           None   \n",
       "\n",
       "                company_name                           company_address  \\\n",
       "0   BioTech Innovations Corp       666 Genome Way\\nSan Diego, CA 92121   \n",
       "1       HealthAI Innovations  123 Main Street\\nSan Francisco, CA 94111   \n",
       "2           GlobalMed Health     123 Serene Drive\\nSan Diego, CA 92101   \n",
       "3  Swift Logistics Solutions          987 Elm Street\\nDallas, TX 75201   \n",
       "4       Style Forward Retail     99 Fashion Blvd Los Angeles, CA 90015   \n",
       "\n",
       "      invoice_id invoice_total  \\\n",
       "0   KD-2024-0315     $37108.50   \n",
       "1  INV-2024-0315     $21924.00   \n",
       "2  INV-2024-1122     $23600.00   \n",
       "3   KD-2024-0722     $19920.00   \n",
       "4  INV-2024-1105     $34800.00   \n",
       "\n",
       "                                           line_item  \\\n",
       "0  [{'item_sku': 'WEB- DEV- 001', 'item_descripti...   \n",
       "1  [{'item_sku': 'CSD-\n",
       "001', 'item_description': ...   \n",
       "2  [{'item_sku': 'WEB- DEV- 001', 'item_descripti...   \n",
       "3  [{'item_sku': 'WEB- DEV- 001', 'item_descripti...   \n",
       "4  [{'item_sku': None, 'item_description': 'Web D...   \n",
       "\n",
       "                                                 uri  \\\n",
       "0  gs://statmike-mlops-349915/applied-ml-solution...   \n",
       "1  gs://statmike-mlops-349915/applied-ml-solution...   \n",
       "2  gs://statmike-mlops-349915/applied-ml-solution...   \n",
       "3  gs://statmike-mlops-349915/applied-ml-solution...   \n",
       "4  gs://statmike-mlops-349915/applied-ml-solution...   \n",
       "\n",
       "                           updated     vendor  \\\n",
       "0 2025-04-23 20:53:37.673000+00:00   vendor_2   \n",
       "1 2025-04-23 20:53:35.765000+00:00   vendor_2   \n",
       "2 2025-04-23 20:53:35.038000+00:00   vendor_2   \n",
       "3 2025-04-23 20:53:39.182000+00:00   vendor_2   \n",
       "4 2025-04-23 20:52:52.221000+00:00  vendor_12   \n",
       "\n",
       "                                           embedding  \n",
       "0  [0.0089465566, 0.0536203124, 0.0614382476, -0....  \n",
       "1  [0.0121024447, 0.0618715286, 0.0657297298, -0....  \n",
       "2  [0.0141071267, 0.0521478951, 0.0623387806, -0....  \n",
       "3  [0.0090936739, 0.0496088825, 0.0622638054, -0....  \n",
       "4  [0.0019979002, 0.0560282543, 0.0625561327, -0....  "
      ]
     },
     "execution_count": 5,
     "metadata": {},
     "output_type": "execute_result"
    }
   ],
   "source": [
    "%%bigquery\n",
    "SELECT *\n",
    "FROM `statmike-mlops-349915.solution_prototype_document_processing.known_authenticity`\n",
    "LIMIT 5"
   ]
  },
  {
   "cell_type": "code",
   "execution_count": 11,
   "id": "c7456aac",
   "metadata": {},
   "outputs": [
    {
     "data": {
      "application/vnd.jupyter.widget-view+json": {
       "model_id": "951576c5fc3e4e8388d93b83d325a096",
       "version_major": 2,
       "version_minor": 0
      },
      "text/plain": [
       "Query is running:   0%|          |"
      ]
     },
     "metadata": {},
     "output_type": "display_data"
    },
    {
     "data": {
      "application/vnd.jupyter.widget-view+json": {
       "model_id": "55dee74893684ea5a6e3fbae1550e837",
       "version_major": 2,
       "version_minor": 0
      },
      "text/plain": [
       "Downloading:   0%|          |"
      ]
     },
     "metadata": {},
     "output_type": "display_data"
    },
    {
     "data": {
      "text/html": [
       "<div>\n",
       "<style scoped>\n",
       "    .dataframe tbody tr th:only-of-type {\n",
       "        vertical-align: middle;\n",
       "    }\n",
       "\n",
       "    .dataframe tbody tr th {\n",
       "        vertical-align: top;\n",
       "    }\n",
       "\n",
       "    .dataframe thead th {\n",
       "        text-align: right;\n",
       "    }\n",
       "</style>\n",
       "<table border=\"1\" class=\"dataframe\">\n",
       "  <thead>\n",
       "    <tr style=\"text-align: right;\">\n",
       "      <th></th>\n",
       "      <th>vendor</th>\n",
       "      <th>document_count</th>\n",
       "    </tr>\n",
       "  </thead>\n",
       "  <tbody>\n",
       "    <tr>\n",
       "      <th>0</th>\n",
       "      <td>vendor_2</td>\n",
       "      <td>16</td>\n",
       "    </tr>\n",
       "    <tr>\n",
       "      <th>1</th>\n",
       "      <td>vendor_12</td>\n",
       "      <td>22</td>\n",
       "    </tr>\n",
       "    <tr>\n",
       "      <th>2</th>\n",
       "      <td>vendor_7</td>\n",
       "      <td>29</td>\n",
       "    </tr>\n",
       "    <tr>\n",
       "      <th>3</th>\n",
       "      <td>vendor_0</td>\n",
       "      <td>19</td>\n",
       "    </tr>\n",
       "    <tr>\n",
       "      <th>4</th>\n",
       "      <td>vendor_10</td>\n",
       "      <td>22</td>\n",
       "    </tr>\n",
       "    <tr>\n",
       "      <th>5</th>\n",
       "      <td>vendor_13</td>\n",
       "      <td>19</td>\n",
       "    </tr>\n",
       "    <tr>\n",
       "      <th>6</th>\n",
       "      <td>vendor_5</td>\n",
       "      <td>16</td>\n",
       "    </tr>\n",
       "    <tr>\n",
       "      <th>7</th>\n",
       "      <td>vendor_6</td>\n",
       "      <td>19</td>\n",
       "    </tr>\n",
       "    <tr>\n",
       "      <th>8</th>\n",
       "      <td>vendor_9</td>\n",
       "      <td>23</td>\n",
       "    </tr>\n",
       "    <tr>\n",
       "      <th>9</th>\n",
       "      <td>vendor_3</td>\n",
       "      <td>19</td>\n",
       "    </tr>\n",
       "    <tr>\n",
       "      <th>10</th>\n",
       "      <td>vendor_11</td>\n",
       "      <td>21</td>\n",
       "    </tr>\n",
       "    <tr>\n",
       "      <th>11</th>\n",
       "      <td>vendor_14</td>\n",
       "      <td>18</td>\n",
       "    </tr>\n",
       "    <tr>\n",
       "      <th>12</th>\n",
       "      <td>vendor_4</td>\n",
       "      <td>14</td>\n",
       "    </tr>\n",
       "    <tr>\n",
       "      <th>13</th>\n",
       "      <td>vendor_1</td>\n",
       "      <td>24</td>\n",
       "    </tr>\n",
       "    <tr>\n",
       "      <th>14</th>\n",
       "      <td>vendor_8</td>\n",
       "      <td>18</td>\n",
       "    </tr>\n",
       "  </tbody>\n",
       "</table>\n",
       "</div>"
      ],
      "text/plain": [
       "       vendor  document_count\n",
       "0    vendor_2              16\n",
       "1   vendor_12              22\n",
       "2    vendor_7              29\n",
       "3    vendor_0              19\n",
       "4   vendor_10              22\n",
       "5   vendor_13              19\n",
       "6    vendor_5              16\n",
       "7    vendor_6              19\n",
       "8    vendor_9              23\n",
       "9    vendor_3              19\n",
       "10  vendor_11              21\n",
       "11  vendor_14              18\n",
       "12   vendor_4              14\n",
       "13   vendor_1              24\n",
       "14   vendor_8              18"
      ]
     },
     "execution_count": 11,
     "metadata": {},
     "output_type": "execute_result"
    }
   ],
   "source": [
    "%%bigquery\n",
    "# document count per vendor:\n",
    "SELECT vendor, count(*) as document_count\n",
    "FROM `statmike-mlops-349915.solution_prototype_document_processing.known_authenticity`\n",
    "GROUP BY vendor"
   ]
  },
  {
   "cell_type": "code",
   "execution_count": 12,
   "id": "65665bdd",
   "metadata": {},
   "outputs": [
    {
     "data": {
      "application/vnd.jupyter.widget-view+json": {
       "model_id": "afe223d95287401d8f0937d231b9df02",
       "version_major": 2,
       "version_minor": 0
      },
      "text/plain": [
       "Query is running:   0%|          |"
      ]
     },
     "metadata": {},
     "output_type": "display_data"
    },
    {
     "data": {
      "application/vnd.jupyter.widget-view+json": {
       "model_id": "fa863574b8b2467997becad857874a69",
       "version_major": 2,
       "version_minor": 0
      },
      "text/plain": [
       "Downloading:   0%|          |"
      ]
     },
     "metadata": {},
     "output_type": "display_data"
    }
   ],
   "source": [
    "%%bigquery temp\n",
    "# review an embedding:\n",
    "SELECT embedding\n",
    "FROM `statmike-mlops-349915.solution_prototype_document_processing.known_authenticity`\n",
    "LIMIT 1"
   ]
  },
  {
   "cell_type": "code",
   "execution_count": 14,
   "id": "cca4ec65",
   "metadata": {},
   "outputs": [
    {
     "data": {
      "text/plain": [
       "array([ 0.00894656,  0.05362031,  0.06143825, ...,  0.01621641,\n",
       "       -0.03250906, -0.01569333], shape=(1408,))"
      ]
     },
     "execution_count": 14,
     "metadata": {},
     "output_type": "execute_result"
    }
   ],
   "source": [
    "temp['embedding'][0]"
   ]
  },
  {
   "cell_type": "markdown",
   "id": "ac683a75",
   "metadata": {},
   "source": [
    "---\n",
    "## Document Similarity With Embeddings\n",
    "\n",
    "The embeddings can be used to calculate similarity via the distance between two embeddings. Two documents from the same vendor should be closer to each other than two documents from different vendors.  \n",
    "\n",
    "This is made possible with the [VECTOR_SEARCH](https://cloud.google.com/bigquery/docs/reference/standard-sql/search_functions#vector_search) function in BigQuery."
   ]
  },
  {
   "cell_type": "code",
   "execution_count": 44,
   "id": "c88ab11d",
   "metadata": {},
   "outputs": [
    {
     "data": {
      "application/vnd.jupyter.widget-view+json": {
       "model_id": "c4bda20505554df3b93def776bbf257f",
       "version_major": 2,
       "version_minor": 0
      },
      "text/plain": [
       "Query is running:   0%|          |"
      ]
     },
     "metadata": {},
     "output_type": "display_data"
    },
    {
     "data": {
      "application/vnd.jupyter.widget-view+json": {
       "model_id": "1e97cc12ccb341609207bb7385490306",
       "version_major": 2,
       "version_minor": 0
      },
      "text/plain": [
       "Downloading:   0%|          |"
      ]
     },
     "metadata": {},
     "output_type": "display_data"
    },
    {
     "data": {
      "text/html": [
       "<div>\n",
       "<style scoped>\n",
       "    .dataframe tbody tr th:only-of-type {\n",
       "        vertical-align: middle;\n",
       "    }\n",
       "\n",
       "    .dataframe tbody tr th {\n",
       "        vertical-align: top;\n",
       "    }\n",
       "\n",
       "    .dataframe thead th {\n",
       "        text-align: right;\n",
       "    }\n",
       "</style>\n",
       "<table border=\"1\" class=\"dataframe\">\n",
       "  <thead>\n",
       "    <tr style=\"text-align: right;\">\n",
       "      <th></th>\n",
       "      <th>query</th>\n",
       "      <th>match</th>\n",
       "      <th>distance</th>\n",
       "    </tr>\n",
       "  </thead>\n",
       "  <tbody>\n",
       "    <tr>\n",
       "      <th>0</th>\n",
       "      <td>vendor_2_invoice_4.pdf</td>\n",
       "      <td>vendor_2_invoice_4.pdf</td>\n",
       "      <td>-1.000000</td>\n",
       "    </tr>\n",
       "    <tr>\n",
       "      <th>1</th>\n",
       "      <td>vendor_2_invoice_4.pdf</td>\n",
       "      <td>vendor_2_invoice_0.pdf</td>\n",
       "      <td>-0.985250</td>\n",
       "    </tr>\n",
       "    <tr>\n",
       "      <th>2</th>\n",
       "      <td>vendor_2_invoice_4.pdf</td>\n",
       "      <td>vendor_2_invoice_2.pdf</td>\n",
       "      <td>-0.985235</td>\n",
       "    </tr>\n",
       "    <tr>\n",
       "      <th>3</th>\n",
       "      <td>vendor_2_invoice_4.pdf</td>\n",
       "      <td>vendor_2_invoice_11.pdf</td>\n",
       "      <td>-0.977864</td>\n",
       "    </tr>\n",
       "    <tr>\n",
       "      <th>4</th>\n",
       "      <td>vendor_2_invoice_4.pdf</td>\n",
       "      <td>vendor_2_invoice_8.pdf</td>\n",
       "      <td>-0.976577</td>\n",
       "    </tr>\n",
       "  </tbody>\n",
       "</table>\n",
       "</div>"
      ],
      "text/plain": [
       "                    query                    match  distance\n",
       "0  vendor_2_invoice_4.pdf   vendor_2_invoice_4.pdf -1.000000\n",
       "1  vendor_2_invoice_4.pdf   vendor_2_invoice_0.pdf -0.985250\n",
       "2  vendor_2_invoice_4.pdf   vendor_2_invoice_2.pdf -0.985235\n",
       "3  vendor_2_invoice_4.pdf  vendor_2_invoice_11.pdf -0.977864\n",
       "4  vendor_2_invoice_4.pdf   vendor_2_invoice_8.pdf -0.976577"
      ]
     },
     "execution_count": 44,
     "metadata": {},
     "output_type": "execute_result"
    }
   ],
   "source": [
    "%%bigquery\n",
    "# compare a document to all documents and choose closest matches:\n",
    "SELECT\n",
    "    SPLIT(query.uri, '/')[7] as query, \n",
    "    SPLIT(base.uri, '/')[7] as match,\n",
    "    distance\n",
    "FROM VECTOR_SEARCH(\n",
    "    # The base table and column to search for neighbors in:\n",
    "    (SELECT uri, embedding FROM `statmike-mlops-349915.solution_prototype_document_processing.known_authenticity`),\n",
    "    'embedding',\n",
    "    # The query table and column to search with\n",
    "    (SELECT uri, embedding FROM `statmike-mlops-349915.solution_prototype_document_processing.known_authenticity` LIMIT 1),\n",
    "    'embedding',\n",
    "    # options\n",
    "    top_k => 5,\n",
    "    distance_type => 'DOT_PRODUCT'\n",
    ")"
   ]
  },
  {
   "cell_type": "markdown",
   "id": "1608f5b7",
   "metadata": {},
   "source": [
    "**Interpretation**\n",
    "\n",
    "This query picked a single document to search with from the full table with the `LIMIT 1`.  It then found the closest 5 documents to the chosen document from the full table.  The distance function shows the similarity of the top 5 matches where lower is closer.  The top match has the lowest possible distance of -1 here and it is the identical document that was chosen to search with.  The other matches are all very close to -1 and notice they are all from the same vendor.\n",
    "\n",
    "> **NOTE** on `DOT_PRODUCT`:  The dot product of two identical vectors is 1 but is reported as -1 by the `VECTOR_SEARCH` function in BigQuery.  This is actually -1 * dot product and aligns the similarity metrics across each distance type so that lower is better and makes the sorting consistent."
   ]
  },
  {
   "cell_type": "markdown",
   "id": "c4f846b8",
   "metadata": {},
   "source": [
    "### Classify A Document Based on Closest Vendor\n",
    "\n",
    "Pick a document from any vendor and then compare it to all the documents and then average the distance by vendor to see which vendor the document is closest to typically.  \n",
    "\n",
    "**NOTE:** This might not be the most efficient approach as the number of documents grow.  The next section will look at a way to compute a representation of each vendor as a single point of comparison."
   ]
  },
  {
   "cell_type": "code",
   "execution_count": 94,
   "id": "46234ce9",
   "metadata": {},
   "outputs": [
    {
     "data": {
      "application/vnd.jupyter.widget-view+json": {
       "model_id": "321a0c504a0a4ebc8b03fa9911811140",
       "version_major": 2,
       "version_minor": 0
      },
      "text/plain": [
       "Query is running:   0%|          |"
      ]
     },
     "metadata": {},
     "output_type": "display_data"
    },
    {
     "data": {
      "application/vnd.jupyter.widget-view+json": {
       "model_id": "d0fb5da5db3043bc9cc40a4c8337e104",
       "version_major": 2,
       "version_minor": 0
      },
      "text/plain": [
       "Downloading:   0%|          |"
      ]
     },
     "metadata": {},
     "output_type": "display_data"
    }
   ],
   "source": [
    "%%bigquery classify_results\n",
    "# For a query document(s) calculate the average distance to each vendors documents\n",
    "SELECT\n",
    "    SPLIT(query.uri, '/')[7] as query, \n",
    "    base.vendor,\n",
    "    AVG(distance) as avg_distance\n",
    "FROM VECTOR_SEARCH(\n",
    "    # The base table and column to search for neighbors in:\n",
    "    (SELECT vendor, embedding FROM `statmike-mlops-349915.solution_prototype_document_processing.known_authenticity`),\n",
    "    'embedding',\n",
    "    # The query table and column to search with\n",
    "    (SELECT uri, embedding FROM `statmike-mlops-349915.solution_prototype_document_processing.known_authenticity` LIMIT 1),\n",
    "    'embedding',\n",
    "    # options\n",
    "    top_k => -1,\n",
    "    distance_type => 'DOT_PRODUCT'\n",
    ")\n",
    "GROUP BY query, vendor\n",
    "ORDER BY avg_distance"
   ]
  },
  {
   "cell_type": "code",
   "execution_count": 95,
   "id": "769566ed",
   "metadata": {},
   "outputs": [
    {
     "data": {
      "text/html": [
       "<div>\n",
       "<style scoped>\n",
       "    .dataframe tbody tr th:only-of-type {\n",
       "        vertical-align: middle;\n",
       "    }\n",
       "\n",
       "    .dataframe tbody tr th {\n",
       "        vertical-align: top;\n",
       "    }\n",
       "\n",
       "    .dataframe thead th {\n",
       "        text-align: right;\n",
       "    }\n",
       "</style>\n",
       "<table border=\"1\" class=\"dataframe\">\n",
       "  <thead>\n",
       "    <tr style=\"text-align: right;\">\n",
       "      <th></th>\n",
       "      <th>query</th>\n",
       "      <th>vendor</th>\n",
       "      <th>avg_distance</th>\n",
       "    </tr>\n",
       "  </thead>\n",
       "  <tbody>\n",
       "    <tr>\n",
       "      <th>0</th>\n",
       "      <td>vendor_2_invoice_4.pdf</td>\n",
       "      <td>vendor_2</td>\n",
       "      <td>-0.958956</td>\n",
       "    </tr>\n",
       "    <tr>\n",
       "      <th>1</th>\n",
       "      <td>vendor_2_invoice_4.pdf</td>\n",
       "      <td>vendor_4</td>\n",
       "      <td>-0.901225</td>\n",
       "    </tr>\n",
       "    <tr>\n",
       "      <th>2</th>\n",
       "      <td>vendor_2_invoice_4.pdf</td>\n",
       "      <td>vendor_12</td>\n",
       "      <td>-0.899433</td>\n",
       "    </tr>\n",
       "    <tr>\n",
       "      <th>3</th>\n",
       "      <td>vendor_2_invoice_4.pdf</td>\n",
       "      <td>vendor_9</td>\n",
       "      <td>-0.889482</td>\n",
       "    </tr>\n",
       "    <tr>\n",
       "      <th>4</th>\n",
       "      <td>vendor_2_invoice_4.pdf</td>\n",
       "      <td>vendor_14</td>\n",
       "      <td>-0.880970</td>\n",
       "    </tr>\n",
       "    <tr>\n",
       "      <th>5</th>\n",
       "      <td>vendor_2_invoice_4.pdf</td>\n",
       "      <td>vendor_13</td>\n",
       "      <td>-0.876974</td>\n",
       "    </tr>\n",
       "    <tr>\n",
       "      <th>6</th>\n",
       "      <td>vendor_2_invoice_4.pdf</td>\n",
       "      <td>vendor_11</td>\n",
       "      <td>-0.876786</td>\n",
       "    </tr>\n",
       "    <tr>\n",
       "      <th>7</th>\n",
       "      <td>vendor_2_invoice_4.pdf</td>\n",
       "      <td>vendor_5</td>\n",
       "      <td>-0.875411</td>\n",
       "    </tr>\n",
       "    <tr>\n",
       "      <th>8</th>\n",
       "      <td>vendor_2_invoice_4.pdf</td>\n",
       "      <td>vendor_8</td>\n",
       "      <td>-0.871013</td>\n",
       "    </tr>\n",
       "    <tr>\n",
       "      <th>9</th>\n",
       "      <td>vendor_2_invoice_4.pdf</td>\n",
       "      <td>vendor_10</td>\n",
       "      <td>-0.862712</td>\n",
       "    </tr>\n",
       "    <tr>\n",
       "      <th>10</th>\n",
       "      <td>vendor_2_invoice_4.pdf</td>\n",
       "      <td>vendor_7</td>\n",
       "      <td>-0.835777</td>\n",
       "    </tr>\n",
       "    <tr>\n",
       "      <th>11</th>\n",
       "      <td>vendor_2_invoice_4.pdf</td>\n",
       "      <td>vendor_1</td>\n",
       "      <td>-0.826742</td>\n",
       "    </tr>\n",
       "    <tr>\n",
       "      <th>12</th>\n",
       "      <td>vendor_2_invoice_4.pdf</td>\n",
       "      <td>vendor_0</td>\n",
       "      <td>-0.823084</td>\n",
       "    </tr>\n",
       "    <tr>\n",
       "      <th>13</th>\n",
       "      <td>vendor_2_invoice_4.pdf</td>\n",
       "      <td>vendor_6</td>\n",
       "      <td>-0.806611</td>\n",
       "    </tr>\n",
       "    <tr>\n",
       "      <th>14</th>\n",
       "      <td>vendor_2_invoice_4.pdf</td>\n",
       "      <td>vendor_3</td>\n",
       "      <td>-0.798776</td>\n",
       "    </tr>\n",
       "  </tbody>\n",
       "</table>\n",
       "</div>"
      ],
      "text/plain": [
       "                     query     vendor  avg_distance\n",
       "0   vendor_2_invoice_4.pdf   vendor_2     -0.958956\n",
       "1   vendor_2_invoice_4.pdf   vendor_4     -0.901225\n",
       "2   vendor_2_invoice_4.pdf  vendor_12     -0.899433\n",
       "3   vendor_2_invoice_4.pdf   vendor_9     -0.889482\n",
       "4   vendor_2_invoice_4.pdf  vendor_14     -0.880970\n",
       "5   vendor_2_invoice_4.pdf  vendor_13     -0.876974\n",
       "6   vendor_2_invoice_4.pdf  vendor_11     -0.876786\n",
       "7   vendor_2_invoice_4.pdf   vendor_5     -0.875411\n",
       "8   vendor_2_invoice_4.pdf   vendor_8     -0.871013\n",
       "9   vendor_2_invoice_4.pdf  vendor_10     -0.862712\n",
       "10  vendor_2_invoice_4.pdf   vendor_7     -0.835777\n",
       "11  vendor_2_invoice_4.pdf   vendor_1     -0.826742\n",
       "12  vendor_2_invoice_4.pdf   vendor_0     -0.823084\n",
       "13  vendor_2_invoice_4.pdf   vendor_6     -0.806611\n",
       "14  vendor_2_invoice_4.pdf   vendor_3     -0.798776"
      ]
     },
     "execution_count": 95,
     "metadata": {},
     "output_type": "execute_result"
    }
   ],
   "source": [
    "classify_results"
   ]
  },
  {
   "cell_type": "markdown",
   "id": "29dbb77d",
   "metadata": {},
   "source": [
    "**Interpretation**\n",
    "\n",
    "Similar to the last query this one selects a single document and then compares it to all other documents in order to select the top matches.  This time the number of matches is defined as `-1` indicating it should return as many matches as comparisions - all documents.  Then the query averages the distance with a `GROUP_BY` vendor.  This makes comparing the document to each vendor possible and we note that the document most closly matches with the vendor it is from. Then it has varying further distances form other vendors.  \n",
    "\n",
    "**Visual Comparison**\n",
    "\n",
    "Let's retrieve the query document and a document from the next closest vendor and the furtherest vendor and see them side-by-side."
   ]
  },
  {
   "cell_type": "code",
   "execution_count": 96,
   "id": "784ab303",
   "metadata": {},
   "outputs": [],
   "source": [
    "query_doc = classify_results['query'][0][:-4]+'.png'\n",
    "query_vendor = classify_results['vendor'][0]\n",
    "next_vendor = classify_results['vendor'][1]\n",
    "far_vendor = list(classify_results['vendor'])[-1]"
   ]
  },
  {
   "cell_type": "code",
   "execution_count": 97,
   "id": "66c5609b",
   "metadata": {},
   "outputs": [
    {
     "data": {
      "text/plain": [
       "('vendor_2_invoice_4.png', 'vendor_2', 'vendor_4', 'vendor_3')"
      ]
     },
     "execution_count": 97,
     "metadata": {},
     "output_type": "execute_result"
    }
   ],
   "source": [
    "query_doc, query_vendor, next_vendor, far_vendor"
   ]
  },
  {
   "cell_type": "code",
   "execution_count": 98,
   "id": "541b34e4",
   "metadata": {},
   "outputs": [
    {
     "data": {
      "application/vnd.jupyter.widget-view+json": {
       "model_id": "fb0971150a5c468aa4cde2e46fd03b38",
       "version_major": 2,
       "version_minor": 0
      },
      "text/plain": [
       "HBox(children=(VBox(children=(HTML(value=\"<div style='text-align: center; margin-bottom: 5px;'><b>Query Docume…"
      ]
     },
     "metadata": {},
     "output_type": "display_data"
    }
   ],
   "source": [
    "def compare_classify_results(query_doc, query_vendor, next_vendor,  far_vendor):\n",
    "    bucket = gcs.bucket(GCS_BUCKET)\n",
    "    blob_prefix = f\"{SERIES}/{EXPERIMENT}/\"\n",
    "    query_blob = bucket.blob(blob_prefix + f\"{query_vendor}/invoices/{query_doc}\")\n",
    "    next_blob = bucket.blob(blob_prefix + f\"{next_vendor}/invoices/{next_vendor}_invoice_0.png\")\n",
    "    far_blob = bucket.blob(blob_prefix + f\"{far_vendor}/invoices/{far_vendor}_invoice_0.png\")\n",
    "\n",
    "    query_image_bytes = ipywidgets.Image(value= query_blob.download_as_bytes(), format = 'png', width = 400)\n",
    "    next_image_bytes = ipywidgets.Image(value= next_blob.download_as_bytes(), format = 'png', width = 400)\n",
    "    far_image_bytes = ipywidgets.Image(value= far_blob.download_as_bytes(), format = 'png', width = 400)\n",
    "\n",
    "    return display(\n",
    "        ipywidgets.HBox(\n",
    "            [\n",
    "                ipywidgets.VBox([ipywidgets.HTML(value = f\"<div style='text-align: center; margin-bottom: 5px;'><b>Query Document</b></div>\"), query_image_bytes], layout = {'align_items': 'center'}),\n",
    "                ipywidgets.VBox([ipywidgets.HTML(value = f\"<div style='text-align: center; margin-bottom: 5px;'><b>Next Closest Vendor</b></div>\"), next_image_bytes], layout = {'align_items': 'center'}),\n",
    "                ipywidgets.VBox([ipywidgets.HTML(value = f\"<div style='text-align: center; margin-bottom: 5px;'><b>Farthest Vendor</b></div>\"), far_image_bytes], layout = {'align_items': 'center'})\n",
    "            ],\n",
    "            layout = {'justify_content': 'space-around'}\n",
    "        )\n",
    "    )\n",
    "\n",
    "compare_classify_results(query_doc, query_vendor, next_vendor, far_vendor)"
   ]
  },
  {
   "cell_type": "markdown",
   "id": "09438b61",
   "metadata": {},
   "source": [
    "### Classify A Document Based On Vendor Centroids\n",
    "\n",
    "By Averaging the embeddings for each vendor we can create a centroid for the vendor.  Then documents can be compared to these centroids rather than all documents.\n",
    "\n",
    "This is done by first creating a derived table of average embeddings for each vendor."
   ]
  },
  {
   "cell_type": "code",
   "execution_count": 104,
   "id": "de9fedae",
   "metadata": {},
   "outputs": [
    {
     "data": {
      "application/vnd.jupyter.widget-view+json": {
       "model_id": "618573080efb4dc68d407acd56a485cf",
       "version_major": 2,
       "version_minor": 0
      },
      "text/plain": [
       "Query is running:   0%|          |"
      ]
     },
     "metadata": {},
     "output_type": "display_data"
    },
    {
     "data": {
      "text/html": [
       "<div>\n",
       "<style scoped>\n",
       "    .dataframe tbody tr th:only-of-type {\n",
       "        vertical-align: middle;\n",
       "    }\n",
       "\n",
       "    .dataframe tbody tr th {\n",
       "        vertical-align: top;\n",
       "    }\n",
       "\n",
       "    .dataframe thead th {\n",
       "        text-align: right;\n",
       "    }\n",
       "</style>\n",
       "<table border=\"1\" class=\"dataframe\">\n",
       "  <thead>\n",
       "    <tr style=\"text-align: right;\">\n",
       "      <th></th>\n",
       "    </tr>\n",
       "  </thead>\n",
       "  <tbody>\n",
       "  </tbody>\n",
       "</table>\n",
       "</div>"
      ],
      "text/plain": [
       "Empty DataFrame\n",
       "Columns: []\n",
       "Index: []"
      ]
     },
     "execution_count": 104,
     "metadata": {},
     "output_type": "execute_result"
    }
   ],
   "source": [
    "%%bigquery\n",
    "CREATE OR REPLACE TABLE `statmike-mlops-349915.solution_prototype_document_processing.known_authenticity_vendor_info`\n",
    "AS\n",
    "WITH\n",
    "    UnnestedEmbeddings AS (\n",
    "        SELECT vendor, embedding_element, element_offset\n",
    "        FROM `statmike-mlops-349915.solution_prototype_document_processing.known_authenticity`,\n",
    "            UNNEST(embedding) AS embedding_element WITH OFFSET AS element_offset\n",
    "    ),\n",
    "    AveragedElements AS (\n",
    "        SELECT vendor, element_offset, AVG(embedding_element) as avg_element\n",
    "        FROM UnnestedEmbeddings\n",
    "        GROUP BY vendor, element_offset\n",
    "    )\n",
    "SELECT vendor, ARRAY_AGG(avg_element ORDER BY element_offset ASC) AS average_embedding\n",
    "FROM AveragedElements\n",
    "GROUP BY vendor"
   ]
  },
  {
   "cell_type": "markdown",
   "id": "10eb8689",
   "metadata": {},
   "source": [
    "Now calculate the distance for a document to each of the vendors average embedding:"
   ]
  },
  {
   "cell_type": "code",
   "execution_count": 105,
   "id": "88c7f15c",
   "metadata": {},
   "outputs": [
    {
     "data": {
      "application/vnd.jupyter.widget-view+json": {
       "model_id": "528850df7d854e2387d1d118c7a2a6da",
       "version_major": 2,
       "version_minor": 0
      },
      "text/plain": [
       "Query is running:   0%|          |"
      ]
     },
     "metadata": {},
     "output_type": "display_data"
    },
    {
     "data": {
      "application/vnd.jupyter.widget-view+json": {
       "model_id": "ac550ddb340c4ad7a6a6efdf6903ed5e",
       "version_major": 2,
       "version_minor": 0
      },
      "text/plain": [
       "Downloading:   0%|          |"
      ]
     },
     "metadata": {},
     "output_type": "display_data"
    }
   ],
   "source": [
    "%%bigquery classify_results\n",
    "# for query document(s) calcualte the distance to each vendors average embedding\n",
    "SELECT\n",
    "    SPLIT(query.uri, '/')[7] as query, \n",
    "    base.vendor,\n",
    "    distance\n",
    "FROM VECTOR_SEARCH(\n",
    "    # The base table and column to search for neighbors in:\n",
    "    (SELECT vendor, average_embedding FROM `statmike-mlops-349915.solution_prototype_document_processing.known_authenticity_vendor_info`),\n",
    "    'average_embedding',\n",
    "    # The query table and column to search with\n",
    "    (SELECT uri, embedding FROM `statmike-mlops-349915.solution_prototype_document_processing.known_authenticity` LIMIT 1),\n",
    "    'embedding',\n",
    "    # options\n",
    "    top_k => -1,\n",
    "    distance_type => 'DOT_PRODUCT'\n",
    ")\n",
    "ORDER BY distance"
   ]
  },
  {
   "cell_type": "code",
   "execution_count": 106,
   "id": "d7497138",
   "metadata": {},
   "outputs": [
    {
     "data": {
      "text/html": [
       "<div>\n",
       "<style scoped>\n",
       "    .dataframe tbody tr th:only-of-type {\n",
       "        vertical-align: middle;\n",
       "    }\n",
       "\n",
       "    .dataframe tbody tr th {\n",
       "        vertical-align: top;\n",
       "    }\n",
       "\n",
       "    .dataframe thead th {\n",
       "        text-align: right;\n",
       "    }\n",
       "</style>\n",
       "<table border=\"1\" class=\"dataframe\">\n",
       "  <thead>\n",
       "    <tr style=\"text-align: right;\">\n",
       "      <th></th>\n",
       "      <th>query</th>\n",
       "      <th>vendor</th>\n",
       "      <th>distance</th>\n",
       "    </tr>\n",
       "  </thead>\n",
       "  <tbody>\n",
       "    <tr>\n",
       "      <th>0</th>\n",
       "      <td>vendor_2_invoice_4.pdf</td>\n",
       "      <td>vendor_2</td>\n",
       "      <td>-0.958956</td>\n",
       "    </tr>\n",
       "    <tr>\n",
       "      <th>1</th>\n",
       "      <td>vendor_2_invoice_4.pdf</td>\n",
       "      <td>vendor_4</td>\n",
       "      <td>-0.901225</td>\n",
       "    </tr>\n",
       "    <tr>\n",
       "      <th>2</th>\n",
       "      <td>vendor_2_invoice_4.pdf</td>\n",
       "      <td>vendor_12</td>\n",
       "      <td>-0.899433</td>\n",
       "    </tr>\n",
       "    <tr>\n",
       "      <th>3</th>\n",
       "      <td>vendor_2_invoice_4.pdf</td>\n",
       "      <td>vendor_9</td>\n",
       "      <td>-0.889482</td>\n",
       "    </tr>\n",
       "    <tr>\n",
       "      <th>4</th>\n",
       "      <td>vendor_2_invoice_4.pdf</td>\n",
       "      <td>vendor_14</td>\n",
       "      <td>-0.880970</td>\n",
       "    </tr>\n",
       "    <tr>\n",
       "      <th>5</th>\n",
       "      <td>vendor_2_invoice_4.pdf</td>\n",
       "      <td>vendor_13</td>\n",
       "      <td>-0.876974</td>\n",
       "    </tr>\n",
       "    <tr>\n",
       "      <th>6</th>\n",
       "      <td>vendor_2_invoice_4.pdf</td>\n",
       "      <td>vendor_11</td>\n",
       "      <td>-0.876786</td>\n",
       "    </tr>\n",
       "    <tr>\n",
       "      <th>7</th>\n",
       "      <td>vendor_2_invoice_4.pdf</td>\n",
       "      <td>vendor_5</td>\n",
       "      <td>-0.875411</td>\n",
       "    </tr>\n",
       "    <tr>\n",
       "      <th>8</th>\n",
       "      <td>vendor_2_invoice_4.pdf</td>\n",
       "      <td>vendor_8</td>\n",
       "      <td>-0.871013</td>\n",
       "    </tr>\n",
       "    <tr>\n",
       "      <th>9</th>\n",
       "      <td>vendor_2_invoice_4.pdf</td>\n",
       "      <td>vendor_10</td>\n",
       "      <td>-0.862712</td>\n",
       "    </tr>\n",
       "    <tr>\n",
       "      <th>10</th>\n",
       "      <td>vendor_2_invoice_4.pdf</td>\n",
       "      <td>vendor_7</td>\n",
       "      <td>-0.835777</td>\n",
       "    </tr>\n",
       "    <tr>\n",
       "      <th>11</th>\n",
       "      <td>vendor_2_invoice_4.pdf</td>\n",
       "      <td>vendor_1</td>\n",
       "      <td>-0.826742</td>\n",
       "    </tr>\n",
       "    <tr>\n",
       "      <th>12</th>\n",
       "      <td>vendor_2_invoice_4.pdf</td>\n",
       "      <td>vendor_0</td>\n",
       "      <td>-0.823084</td>\n",
       "    </tr>\n",
       "    <tr>\n",
       "      <th>13</th>\n",
       "      <td>vendor_2_invoice_4.pdf</td>\n",
       "      <td>vendor_6</td>\n",
       "      <td>-0.806611</td>\n",
       "    </tr>\n",
       "    <tr>\n",
       "      <th>14</th>\n",
       "      <td>vendor_2_invoice_4.pdf</td>\n",
       "      <td>vendor_3</td>\n",
       "      <td>-0.798776</td>\n",
       "    </tr>\n",
       "  </tbody>\n",
       "</table>\n",
       "</div>"
      ],
      "text/plain": [
       "                     query     vendor  distance\n",
       "0   vendor_2_invoice_4.pdf   vendor_2 -0.958956\n",
       "1   vendor_2_invoice_4.pdf   vendor_4 -0.901225\n",
       "2   vendor_2_invoice_4.pdf  vendor_12 -0.899433\n",
       "3   vendor_2_invoice_4.pdf   vendor_9 -0.889482\n",
       "4   vendor_2_invoice_4.pdf  vendor_14 -0.880970\n",
       "5   vendor_2_invoice_4.pdf  vendor_13 -0.876974\n",
       "6   vendor_2_invoice_4.pdf  vendor_11 -0.876786\n",
       "7   vendor_2_invoice_4.pdf   vendor_5 -0.875411\n",
       "8   vendor_2_invoice_4.pdf   vendor_8 -0.871013\n",
       "9   vendor_2_invoice_4.pdf  vendor_10 -0.862712\n",
       "10  vendor_2_invoice_4.pdf   vendor_7 -0.835777\n",
       "11  vendor_2_invoice_4.pdf   vendor_1 -0.826742\n",
       "12  vendor_2_invoice_4.pdf   vendor_0 -0.823084\n",
       "13  vendor_2_invoice_4.pdf   vendor_6 -0.806611\n",
       "14  vendor_2_invoice_4.pdf   vendor_3 -0.798776"
      ]
     },
     "execution_count": 106,
     "metadata": {},
     "output_type": "execute_result"
    }
   ],
   "source": [
    "classify_results"
   ]
  },
  {
   "cell_type": "code",
   "execution_count": 107,
   "id": "dac173d7",
   "metadata": {},
   "outputs": [
    {
     "data": {
      "application/vnd.jupyter.widget-view+json": {
       "model_id": "f071218f75d94509a8e20b0686aa329b",
       "version_major": 2,
       "version_minor": 0
      },
      "text/plain": [
       "HBox(children=(VBox(children=(HTML(value=\"<div style='text-align: center; margin-bottom: 5px;'><b>Query Docume…"
      ]
     },
     "metadata": {},
     "output_type": "display_data"
    }
   ],
   "source": [
    "query_doc = classify_results['query'][0][:-4]+'.png'\n",
    "query_vendor = classify_results['vendor'][0]\n",
    "next_vendor = classify_results['vendor'][1]\n",
    "far_vendor = list(classify_results['vendor'])[-1]\n",
    "\n",
    "compare_classify_results(query_doc, query_vendor, next_vendor, far_vendor)"
   ]
  },
  {
   "cell_type": "markdown",
   "id": "9ae74701",
   "metadata": {},
   "source": [
    "---\n",
    "## Re-Dimensionalize Embeddings For Documents\n",
    "\n",
    "It is difficult to visualize embeddings due to the high dimensionality, over 1400 here.  We can first train a redimensionalized version using a technique like [PCA](https://en.wikipedia.org/wiki/Principal_component_analysis) or [t-SNE](https://en.wikipedia.org/wiki/T-distributed_stochastic_neighbor_embedding) to 2 dimensions and then plot results.  \n",
    "\n",
    "Here we will use PCA directly within BigQuery for convenience.  BigQuery offers a [wide range](https://cloud.google.com/bigquery/docs/e2e-journey) of options to train, evaluate and serve models for supervised, unsupervised, and forecasting use cases.\n",
    "\n",
    "The PCA model will create new dimensions that are orthogonal.  The trained PCA model can also be use to predict where new documents would be placed in the re-dimensionalize space.  It can also serve as an anomaly detection layer when used to detect new records that have errors."
   ]
  },
  {
   "cell_type": "markdown",
   "id": "234e4797",
   "metadata": {},
   "source": [
    "### BigQuery ML - Create PCA Model\n",
    "\n",
    "Directly in BigQuery we will use the `CREATE MODEL` statement to create a PCA model that learning a 2-demensional version of the embedding - [The CREATE MODEL statement for PCA models](https://cloud.google.com/bigquery/docs/reference/standard-sql/bigqueryml-syntax-create-pca)."
   ]
  },
  {
   "cell_type": "code",
   "execution_count": 109,
   "id": "41676c76",
   "metadata": {},
   "outputs": [
    {
     "data": {
      "application/vnd.jupyter.widget-view+json": {
       "model_id": "1f1967e087f84f43aad2ac5f9ce061f1",
       "version_major": 2,
       "version_minor": 0
      },
      "text/plain": [
       "Query is running:   0%|          |"
      ]
     },
     "metadata": {},
     "output_type": "display_data"
    },
    {
     "data": {
      "text/html": [
       "<div>\n",
       "<style scoped>\n",
       "    .dataframe tbody tr th:only-of-type {\n",
       "        vertical-align: middle;\n",
       "    }\n",
       "\n",
       "    .dataframe tbody tr th {\n",
       "        vertical-align: top;\n",
       "    }\n",
       "\n",
       "    .dataframe thead th {\n",
       "        text-align: right;\n",
       "    }\n",
       "</style>\n",
       "<table border=\"1\" class=\"dataframe\">\n",
       "  <thead>\n",
       "    <tr style=\"text-align: right;\">\n",
       "      <th></th>\n",
       "    </tr>\n",
       "  </thead>\n",
       "  <tbody>\n",
       "  </tbody>\n",
       "</table>\n",
       "</div>"
      ],
      "text/plain": [
       "Empty DataFrame\n",
       "Columns: []\n",
       "Index: []"
      ]
     },
     "execution_count": 109,
     "metadata": {},
     "output_type": "execute_result"
    }
   ],
   "source": [
    "%%bigquery\n",
    "CREATE OR REPLACE MODEL `statmike-mlops-349915.solution_prototype_document_processing.pca_known_authentic`\n",
    "    OPTIONS(\n",
    "        model_type = 'PCA',\n",
    "        num_principal_components = 2\n",
    "    )\n",
    "    AS\n",
    "    SELECT embedding\n",
    "    FROM `statmike-mlops-349915.solution_prototype_document_processing.known_authenticity`"
   ]
  },
  {
   "cell_type": "markdown",
   "id": "0f704e8b",
   "metadata": {},
   "source": [
    "#### Evalaute The Model\n",
    "\n",
    "While the model only has 2 components versus the more that 1400 of the embedding it still explains > 86% of the variance:"
   ]
  },
  {
   "cell_type": "code",
   "execution_count": 110,
   "id": "bc78061f",
   "metadata": {},
   "outputs": [
    {
     "data": {
      "application/vnd.jupyter.widget-view+json": {
       "model_id": "b1f2a0a62f434824b151640f4024188c",
       "version_major": 2,
       "version_minor": 0
      },
      "text/plain": [
       "Query is running:   0%|          |"
      ]
     },
     "metadata": {},
     "output_type": "display_data"
    },
    {
     "data": {
      "application/vnd.jupyter.widget-view+json": {
       "model_id": "1cdc93953fa44f3986bcea4c89f14025",
       "version_major": 2,
       "version_minor": 0
      },
      "text/plain": [
       "Downloading:   0%|          |"
      ]
     },
     "metadata": {},
     "output_type": "display_data"
    },
    {
     "data": {
      "text/html": [
       "<div>\n",
       "<style scoped>\n",
       "    .dataframe tbody tr th:only-of-type {\n",
       "        vertical-align: middle;\n",
       "    }\n",
       "\n",
       "    .dataframe tbody tr th {\n",
       "        vertical-align: top;\n",
       "    }\n",
       "\n",
       "    .dataframe thead th {\n",
       "        text-align: right;\n",
       "    }\n",
       "</style>\n",
       "<table border=\"1\" class=\"dataframe\">\n",
       "  <thead>\n",
       "    <tr style=\"text-align: right;\">\n",
       "      <th></th>\n",
       "      <th>total_explained_variance_ratio</th>\n",
       "    </tr>\n",
       "  </thead>\n",
       "  <tbody>\n",
       "    <tr>\n",
       "      <th>0</th>\n",
       "      <td>0.867222</td>\n",
       "    </tr>\n",
       "  </tbody>\n",
       "</table>\n",
       "</div>"
      ],
      "text/plain": [
       "   total_explained_variance_ratio\n",
       "0                        0.867222"
      ]
     },
     "execution_count": 110,
     "metadata": {},
     "output_type": "execute_result"
    }
   ],
   "source": [
    "%%bigquery\n",
    "SELECT * FROM ML.EVALUATE(MODEL `statmike-mlops-349915.solution_prototype_document_processing.pca_known_authentic`)"
   ]
  },
  {
   "cell_type": "markdown",
   "id": "e43c5b47",
   "metadata": {},
   "source": [
    "#### Use The Model To Predict The Re-Dimensionalized Values\n",
    "\n",
    "There are two ways to do this:\n",
    "- [ML.PREDICT](https://cloud.google.com/bigquery/docs/reference/standard-sql/bigqueryml-syntax-predict#pca_models) returns the predicted value for each principal component\n",
    "- [ML.GENERATE_EMBEDDING](https://cloud.google.com/bigquery/docs/reference/standard-sql/bigqueryml-syntax-generate-embedding#pca) returns the predicted values in the form of a vector (array) in the column `ml_generate_embedding_result).  Note these are the same values as ML.PREDICT."
   ]
  },
  {
   "cell_type": "code",
   "execution_count": 111,
   "id": "d043dd95",
   "metadata": {},
   "outputs": [
    {
     "data": {
      "application/vnd.jupyter.widget-view+json": {
       "model_id": "e8bf4ccb9b3c48029049a440867795b3",
       "version_major": 2,
       "version_minor": 0
      },
      "text/plain": [
       "Query is running:   0%|          |"
      ]
     },
     "metadata": {},
     "output_type": "display_data"
    },
    {
     "data": {
      "application/vnd.jupyter.widget-view+json": {
       "model_id": "58669eefa98046aea3bbef8acd9e6977",
       "version_major": 2,
       "version_minor": 0
      },
      "text/plain": [
       "Downloading:   0%|          |"
      ]
     },
     "metadata": {},
     "output_type": "display_data"
    },
    {
     "data": {
      "text/html": [
       "<div>\n",
       "<style scoped>\n",
       "    .dataframe tbody tr th:only-of-type {\n",
       "        vertical-align: middle;\n",
       "    }\n",
       "\n",
       "    .dataframe tbody tr th {\n",
       "        vertical-align: top;\n",
       "    }\n",
       "\n",
       "    .dataframe thead th {\n",
       "        text-align: right;\n",
       "    }\n",
       "</style>\n",
       "<table border=\"1\" class=\"dataframe\">\n",
       "  <thead>\n",
       "    <tr style=\"text-align: right;\">\n",
       "      <th></th>\n",
       "      <th>principal_component_1</th>\n",
       "      <th>principal_component_2</th>\n",
       "    </tr>\n",
       "  </thead>\n",
       "  <tbody>\n",
       "    <tr>\n",
       "      <th>0</th>\n",
       "      <td>0.937391</td>\n",
       "      <td>-0.046467</td>\n",
       "    </tr>\n",
       "  </tbody>\n",
       "</table>\n",
       "</div>"
      ],
      "text/plain": [
       "   principal_component_1  principal_component_2\n",
       "0               0.937391              -0.046467"
      ]
     },
     "execution_count": 111,
     "metadata": {},
     "output_type": "execute_result"
    }
   ],
   "source": [
    "%%bigquery\n",
    "SELECT *\n",
    "FROM ML.PREDICT(\n",
    "    MODEL `statmike-mlops-349915.solution_prototype_document_processing.pca_known_authentic`,\n",
    "    (SELECT embedding FROM `statmike-mlops-349915.solution_prototype_document_processing.known_authenticity` LIMIT 1)\n",
    ")"
   ]
  },
  {
   "cell_type": "code",
   "execution_count": 112,
   "id": "f765acd4",
   "metadata": {},
   "outputs": [
    {
     "data": {
      "application/vnd.jupyter.widget-view+json": {
       "model_id": "d3a97f45f8f241208b4eb241f38da664",
       "version_major": 2,
       "version_minor": 0
      },
      "text/plain": [
       "Query is running:   0%|          |"
      ]
     },
     "metadata": {},
     "output_type": "display_data"
    },
    {
     "data": {
      "application/vnd.jupyter.widget-view+json": {
       "model_id": "4b19e4c591524040b07924930f462ee6",
       "version_major": 2,
       "version_minor": 0
      },
      "text/plain": [
       "Downloading:   0%|          |"
      ]
     },
     "metadata": {},
     "output_type": "display_data"
    },
    {
     "data": {
      "text/html": [
       "<div>\n",
       "<style scoped>\n",
       "    .dataframe tbody tr th:only-of-type {\n",
       "        vertical-align: middle;\n",
       "    }\n",
       "\n",
       "    .dataframe tbody tr th {\n",
       "        vertical-align: top;\n",
       "    }\n",
       "\n",
       "    .dataframe thead th {\n",
       "        text-align: right;\n",
       "    }\n",
       "</style>\n",
       "<table border=\"1\" class=\"dataframe\">\n",
       "  <thead>\n",
       "    <tr style=\"text-align: right;\">\n",
       "      <th></th>\n",
       "      <th>ml_generate_embedding_result</th>\n",
       "      <th>embedding</th>\n",
       "    </tr>\n",
       "  </thead>\n",
       "  <tbody>\n",
       "    <tr>\n",
       "      <th>0</th>\n",
       "      <td>[0.9373912663536372, -0.046467204793839756]</td>\n",
       "      <td>[0.0089465566, 0.0536203124, 0.0614382476, -0....</td>\n",
       "    </tr>\n",
       "  </tbody>\n",
       "</table>\n",
       "</div>"
      ],
      "text/plain": [
       "                  ml_generate_embedding_result  \\\n",
       "0  [0.9373912663536372, -0.046467204793839756]   \n",
       "\n",
       "                                           embedding  \n",
       "0  [0.0089465566, 0.0536203124, 0.0614382476, -0....  "
      ]
     },
     "execution_count": 112,
     "metadata": {},
     "output_type": "execute_result"
    }
   ],
   "source": [
    "%%bigquery\n",
    "SELECT *\n",
    "FROM ML.GENERATE_EMBEDDING(\n",
    "    MODEL `statmike-mlops-349915.solution_prototype_document_processing.pca_known_authentic`,\n",
    "    (SELECT embedding FROM `statmike-mlops-349915.solution_prototype_document_processing.known_authenticity` LIMIT 1)\n",
    ")"
   ]
  },
  {
   "cell_type": "markdown",
   "id": "e693fa9f",
   "metadata": {},
   "source": [
    "### Get Predicted Values For All Documents With Known Authenticity"
   ]
  },
  {
   "cell_type": "code",
   "execution_count": 146,
   "id": "8faccf2b",
   "metadata": {},
   "outputs": [
    {
     "data": {
      "application/vnd.jupyter.widget-view+json": {
       "model_id": "912b072d55f047d69ae7c635d71f21f7",
       "version_major": 2,
       "version_minor": 0
      },
      "text/plain": [
       "Query is running:   0%|          |"
      ]
     },
     "metadata": {},
     "output_type": "display_data"
    },
    {
     "data": {
      "application/vnd.jupyter.widget-view+json": {
       "model_id": "a80b0202d85f48db8752d69369aeee65",
       "version_major": 2,
       "version_minor": 0
      },
      "text/plain": [
       "Downloading:   0%|          |"
      ]
     },
     "metadata": {},
     "output_type": "display_data"
    }
   ],
   "source": [
    "%%bigquery pca_predictions\n",
    "SELECT vendor, ml_generate_embedding_result as pca_embedding\n",
    "FROM ML.GENERATE_EMBEDDING(\n",
    "    MODEL `statmike-mlops-349915.solution_prototype_document_processing.pca_known_authentic`,\n",
    "    (SELECT vendor, embedding FROM `statmike-mlops-349915.solution_prototype_document_processing.known_authenticity`)\n",
    ")\n",
    "ORDER BY vendor"
   ]
  },
  {
   "cell_type": "code",
   "execution_count": 147,
   "id": "ff9fff4a",
   "metadata": {},
   "outputs": [
    {
     "data": {
      "text/html": [
       "<div>\n",
       "<style scoped>\n",
       "    .dataframe tbody tr th:only-of-type {\n",
       "        vertical-align: middle;\n",
       "    }\n",
       "\n",
       "    .dataframe tbody tr th {\n",
       "        vertical-align: top;\n",
       "    }\n",
       "\n",
       "    .dataframe thead th {\n",
       "        text-align: right;\n",
       "    }\n",
       "</style>\n",
       "<table border=\"1\" class=\"dataframe\">\n",
       "  <thead>\n",
       "    <tr style=\"text-align: right;\">\n",
       "      <th></th>\n",
       "      <th>vendor</th>\n",
       "      <th>pca_embedding</th>\n",
       "    </tr>\n",
       "  </thead>\n",
       "  <tbody>\n",
       "    <tr>\n",
       "      <th>0</th>\n",
       "      <td>vendor_0</td>\n",
       "      <td>[0.8715075282328314, -0.08074252291209184]</td>\n",
       "    </tr>\n",
       "    <tr>\n",
       "      <th>1</th>\n",
       "      <td>vendor_0</td>\n",
       "      <td>[0.9127727028265393, -0.08837407716336446]</td>\n",
       "    </tr>\n",
       "    <tr>\n",
       "      <th>2</th>\n",
       "      <td>vendor_0</td>\n",
       "      <td>[0.8845893451627702, -0.0647120372048926]</td>\n",
       "    </tr>\n",
       "    <tr>\n",
       "      <th>3</th>\n",
       "      <td>vendor_0</td>\n",
       "      <td>[0.893499535223967, -0.06362910182202958]</td>\n",
       "    </tr>\n",
       "    <tr>\n",
       "      <th>4</th>\n",
       "      <td>vendor_0</td>\n",
       "      <td>[0.8922863095497703, -0.07561727085725833]</td>\n",
       "    </tr>\n",
       "    <tr>\n",
       "      <th>...</th>\n",
       "      <td>...</td>\n",
       "      <td>...</td>\n",
       "    </tr>\n",
       "    <tr>\n",
       "      <th>294</th>\n",
       "      <td>vendor_9</td>\n",
       "      <td>[0.9366434892964021, -0.12176755566846915]</td>\n",
       "    </tr>\n",
       "    <tr>\n",
       "      <th>295</th>\n",
       "      <td>vendor_9</td>\n",
       "      <td>[0.9490850644493078, -0.10220695816019218]</td>\n",
       "    </tr>\n",
       "    <tr>\n",
       "      <th>296</th>\n",
       "      <td>vendor_9</td>\n",
       "      <td>[0.9509529626832463, -0.08997540486834923]</td>\n",
       "    </tr>\n",
       "    <tr>\n",
       "      <th>297</th>\n",
       "      <td>vendor_9</td>\n",
       "      <td>[0.9316749663016358, -0.08034313184450763]</td>\n",
       "    </tr>\n",
       "    <tr>\n",
       "      <th>298</th>\n",
       "      <td>vendor_9</td>\n",
       "      <td>[0.9455860530374626, -0.10819091488377497]</td>\n",
       "    </tr>\n",
       "  </tbody>\n",
       "</table>\n",
       "<p>299 rows × 2 columns</p>\n",
       "</div>"
      ],
      "text/plain": [
       "       vendor                               pca_embedding\n",
       "0    vendor_0  [0.8715075282328314, -0.08074252291209184]\n",
       "1    vendor_0  [0.9127727028265393, -0.08837407716336446]\n",
       "2    vendor_0   [0.8845893451627702, -0.0647120372048926]\n",
       "3    vendor_0   [0.893499535223967, -0.06362910182202958]\n",
       "4    vendor_0  [0.8922863095497703, -0.07561727085725833]\n",
       "..        ...                                         ...\n",
       "294  vendor_9  [0.9366434892964021, -0.12176755566846915]\n",
       "295  vendor_9  [0.9490850644493078, -0.10220695816019218]\n",
       "296  vendor_9  [0.9509529626832463, -0.08997540486834923]\n",
       "297  vendor_9  [0.9316749663016358, -0.08034313184450763]\n",
       "298  vendor_9  [0.9455860530374626, -0.10819091488377497]\n",
       "\n",
       "[299 rows x 2 columns]"
      ]
     },
     "execution_count": 147,
     "metadata": {},
     "output_type": "execute_result"
    }
   ],
   "source": [
    "pca_predictions"
   ]
  },
  {
   "cell_type": "markdown",
   "id": "f4be940c",
   "metadata": {},
   "source": [
    "### Visualize PCA Predictions Of Embeddings\n",
    "\n",
    "Color coded by vendor."
   ]
  },
  {
   "cell_type": "code",
   "execution_count": 148,
   "id": "7aa06341",
   "metadata": {},
   "outputs": [
    {
     "name": "stderr",
     "output_type": "stream",
     "text": [
      "/tmp/ipykernel_25252/1758099885.py:11: UserWarning: No artists with labels found to put in legend.  Note that artists whose label start with an underscore are ignored when legend() is called with no argument.\n",
      "  plt.legend(title='Vendor', bbox_to_anchor=(1.05, 1), loc='upper left', borderaxespad=0.)\n"
     ]
    },
    {
     "data": {
      "image/png": "[encoded data removed]",
      "text/plain": [
       "<Figure size 1400x1000 with 1 Axes>"
      ]
     },
     "metadata": {},
     "output_type": "display_data"
    }
   ],
   "source": [
    "pca_predictions['pca_x'] = pca_predictions['pca_embedding'].apply(lambda emb: emb[0])\n",
    "pca_predictions['pca_y'] = pca_predictions['pca_embedding'].apply(lambda emb: emb[1])\n",
    "\n",
    "num_vendors = pca_predictions['vendor'].nunique()\n",
    "palette = sns.color_palette(\"hsv\", num_vendors)\n",
    "\n",
    "plt.figure(figsize=(14, 10))\n",
    "plt.title(\"Compare Documents with 2-D PCA Re-Dimensionalization\", fontsize=16, pad=20)\n",
    "plt.xlabel(\"PCA Component 1 (X-axis)\", fontsize=12)\n",
    "plt.ylabel(\"PCA Component 2 (Y-axis)\", fontsize=12)\n",
    "plt.legend(title='Vendor', bbox_to_anchor=(1.05, 1), loc='upper left', borderaxespad=0.)\n",
    "plt.grid(True, linestyle='--', alpha=0.5)\n",
    "\n",
    "sns.scatterplot(\n",
    "    data=pca_predictions,\n",
    "    x='pca_x',\n",
    "    y='pca_y',\n",
    "    hue='vendor',       # Color points by vendor\n",
    "    palette=palette,    # Color palette to use\n",
    "    s=100,              # Size of the points\n",
    "    alpha=0.7,          # Transparency of the points\n",
    "    edgecolor='w',      # Edge color for points, can make them pop\n",
    "    linewidth=0.5\n",
    ")\n",
    "\n",
    "plt.show()\n"
   ]
  },
  {
   "cell_type": "markdown",
   "id": "7576d41d",
   "metadata": {},
   "source": [
    "### Get Predicted Values For Vendor Averages\n",
    "\n",
    "The average embeddings for each vendor can also be used to get predicted values in the new 2-D space created with PCA."
   ]
  },
  {
   "cell_type": "code",
   "execution_count": 149,
   "id": "3d2f5d33",
   "metadata": {},
   "outputs": [
    {
     "data": {
      "application/vnd.jupyter.widget-view+json": {
       "model_id": "2772fa66f180427ca38ce5f77dc366fa",
       "version_major": 2,
       "version_minor": 0
      },
      "text/plain": [
       "Query is running:   0%|          |"
      ]
     },
     "metadata": {},
     "output_type": "display_data"
    },
    {
     "data": {
      "application/vnd.jupyter.widget-view+json": {
       "model_id": "684af617f8f743959354685f1165290a",
       "version_major": 2,
       "version_minor": 0
      },
      "text/plain": [
       "Downloading:   0%|          |"
      ]
     },
     "metadata": {},
     "output_type": "display_data"
    }
   ],
   "source": [
    "%%bigquery pca_predictions_vendors\n",
    "SELECT vendor, ml_generate_embedding_result as pca_embedding\n",
    "FROM ML.GENERATE_EMBEDDING(\n",
    "    MODEL `statmike-mlops-349915.solution_prototype_document_processing.pca_known_authentic`,\n",
    "    (SELECT vendor, average_embedding as embedding FROM `statmike-mlops-349915.solution_prototype_document_processing.known_authenticity_vendor_info`)\n",
    ")\n",
    "ORDER BY vendor"
   ]
  },
  {
   "cell_type": "code",
   "execution_count": 150,
   "id": "7e384455",
   "metadata": {},
   "outputs": [
    {
     "data": {
      "text/html": [
       "<div>\n",
       "<style scoped>\n",
       "    .dataframe tbody tr th:only-of-type {\n",
       "        vertical-align: middle;\n",
       "    }\n",
       "\n",
       "    .dataframe tbody tr th {\n",
       "        vertical-align: top;\n",
       "    }\n",
       "\n",
       "    .dataframe thead th {\n",
       "        text-align: right;\n",
       "    }\n",
       "</style>\n",
       "<table border=\"1\" class=\"dataframe\">\n",
       "  <thead>\n",
       "    <tr style=\"text-align: right;\">\n",
       "      <th></th>\n",
       "      <th>vendor</th>\n",
       "      <th>pca_embedding</th>\n",
       "    </tr>\n",
       "  </thead>\n",
       "  <tbody>\n",
       "    <tr>\n",
       "      <th>0</th>\n",
       "      <td>vendor_0</td>\n",
       "      <td>[0.8979579495098439, -0.06193507819414718]</td>\n",
       "    </tr>\n",
       "    <tr>\n",
       "      <th>1</th>\n",
       "      <td>vendor_1</td>\n",
       "      <td>[0.9088458845417057, -0.02442795536357405]</td>\n",
       "    </tr>\n",
       "    <tr>\n",
       "      <th>2</th>\n",
       "      <td>vendor_10</td>\n",
       "      <td>[0.9178327479634066, -0.1350023941273454]</td>\n",
       "    </tr>\n",
       "    <tr>\n",
       "      <th>3</th>\n",
       "      <td>vendor_11</td>\n",
       "      <td>[0.936220056871974, -0.02484653048590446]</td>\n",
       "    </tr>\n",
       "    <tr>\n",
       "      <th>4</th>\n",
       "      <td>vendor_12</td>\n",
       "      <td>[0.9434141966815296, 0.0932650154847365]</td>\n",
       "    </tr>\n",
       "    <tr>\n",
       "      <th>5</th>\n",
       "      <td>vendor_13</td>\n",
       "      <td>[0.9383508876578877, -0.004930469463258705]</td>\n",
       "    </tr>\n",
       "    <tr>\n",
       "      <th>6</th>\n",
       "      <td>vendor_14</td>\n",
       "      <td>[0.9543815349269024, -0.022646221563400896]</td>\n",
       "    </tr>\n",
       "    <tr>\n",
       "      <th>7</th>\n",
       "      <td>vendor_2</td>\n",
       "      <td>[0.9205214538975607, -0.06302865279216188]</td>\n",
       "    </tr>\n",
       "    <tr>\n",
       "      <th>8</th>\n",
       "      <td>vendor_3</td>\n",
       "      <td>[0.8699266163416692, 0.38896866534404845]</td>\n",
       "    </tr>\n",
       "    <tr>\n",
       "      <th>9</th>\n",
       "      <td>vendor_4</td>\n",
       "      <td>[0.9249705007834251, -0.12340131707758092]</td>\n",
       "    </tr>\n",
       "    <tr>\n",
       "      <th>10</th>\n",
       "      <td>vendor_5</td>\n",
       "      <td>[0.9466705316902763, -0.05651296621072086]</td>\n",
       "    </tr>\n",
       "    <tr>\n",
       "      <th>11</th>\n",
       "      <td>vendor_6</td>\n",
       "      <td>[0.8751751425965848, 0.25764166638230623]</td>\n",
       "    </tr>\n",
       "    <tr>\n",
       "      <th>12</th>\n",
       "      <td>vendor_7</td>\n",
       "      <td>[0.9114213467673733, -0.047699044822380986]</td>\n",
       "    </tr>\n",
       "    <tr>\n",
       "      <th>13</th>\n",
       "      <td>vendor_8</td>\n",
       "      <td>[0.9330019851551298, -0.039676192430357055]</td>\n",
       "    </tr>\n",
       "    <tr>\n",
       "      <th>14</th>\n",
       "      <td>vendor_9</td>\n",
       "      <td>[0.9397991415699014, -0.09564579114701294]</td>\n",
       "    </tr>\n",
       "  </tbody>\n",
       "</table>\n",
       "</div>"
      ],
      "text/plain": [
       "       vendor                                pca_embedding\n",
       "0    vendor_0   [0.8979579495098439, -0.06193507819414718]\n",
       "1    vendor_1   [0.9088458845417057, -0.02442795536357405]\n",
       "2   vendor_10    [0.9178327479634066, -0.1350023941273454]\n",
       "3   vendor_11    [0.936220056871974, -0.02484653048590446]\n",
       "4   vendor_12     [0.9434141966815296, 0.0932650154847365]\n",
       "5   vendor_13  [0.9383508876578877, -0.004930469463258705]\n",
       "6   vendor_14  [0.9543815349269024, -0.022646221563400896]\n",
       "7    vendor_2   [0.9205214538975607, -0.06302865279216188]\n",
       "8    vendor_3    [0.8699266163416692, 0.38896866534404845]\n",
       "9    vendor_4   [0.9249705007834251, -0.12340131707758092]\n",
       "10   vendor_5   [0.9466705316902763, -0.05651296621072086]\n",
       "11   vendor_6    [0.8751751425965848, 0.25764166638230623]\n",
       "12   vendor_7  [0.9114213467673733, -0.047699044822380986]\n",
       "13   vendor_8  [0.9330019851551298, -0.039676192430357055]\n",
       "14   vendor_9   [0.9397991415699014, -0.09564579114701294]"
      ]
     },
     "execution_count": 150,
     "metadata": {},
     "output_type": "execute_result"
    }
   ],
   "source": [
    "pca_predictions_vendors"
   ]
  },
  {
   "cell_type": "markdown",
   "id": "932a1d6a",
   "metadata": {},
   "source": [
    "### Visualize PCA Predictions Of Embeddings\n",
    "\n",
    "Color coded by vendor."
   ]
  },
  {
   "cell_type": "code",
   "execution_count": 151,
   "id": "1918a282",
   "metadata": {},
   "outputs": [
    {
     "name": "stderr",
     "output_type": "stream",
     "text": [
      "/tmp/ipykernel_25252/562839296.py:11: UserWarning: No artists with labels found to put in legend.  Note that artists whose label start with an underscore are ignored when legend() is called with no argument.\n",
      "  plt.legend(title='Vendor', bbox_to_anchor=(1.05, 1), loc='upper left', borderaxespad=0.)\n"
     ]
    },
    {
     "data": {
      "image/png": "[encoded data removed]",
      "text/plain": [
       "<Figure size 1400x1000 with 1 Axes>"
      ]
     },
     "metadata": {},
     "output_type": "display_data"
    }
   ],
   "source": [
    "pca_predictions_vendors['pca_x'] = pca_predictions_vendors['pca_embedding'].apply(lambda emb: emb[0])\n",
    "pca_predictions_vendors['pca_y'] = pca_predictions_vendors['pca_embedding'].apply(lambda emb: emb[1])\n",
    "\n",
    "num_vendors = pca_predictions_vendors['vendor'].nunique()\n",
    "palette = sns.color_palette(\"hsv\", num_vendors)\n",
    "\n",
    "plt.figure(figsize=(14, 10))\n",
    "plt.title(\"Compare Documents with 2-D PCA Re-Dimensionalization (Vendor Averages)\", fontsize=16, pad=20)\n",
    "plt.xlabel(\"PCA Component 1 (X-axis)\", fontsize=12)\n",
    "plt.ylabel(\"PCA Component 2 (Y-axis)\", fontsize=12)\n",
    "plt.legend(title='Vendor', bbox_to_anchor=(1.05, 1), loc='upper left', borderaxespad=0.)\n",
    "plt.grid(True, linestyle='--', alpha=0.5)\n",
    "\n",
    "sns.scatterplot(\n",
    "    data=pca_predictions_vendors,\n",
    "    x='pca_x',\n",
    "    y='pca_y',\n",
    "    hue='vendor',       # Color points by vendor\n",
    "    palette=palette,    # Color palette to use\n",
    "    s=100,              # Size of the points\n",
    "    alpha=0.7,          # Transparency of the points\n",
    "    edgecolor='w',      # Edge color for points, can make them pop\n",
    "    linewidth=0.5\n",
    ")\n",
    "\n",
    "plt.show()\n"
   ]
  },
  {
   "cell_type": "markdown",
   "id": "abb037df",
   "metadata": {},
   "source": [
    "### Anomaly Detection With PCA\n",
    "\n",
    "The PCA model can be directly uses with the [ML.DETECT_ANOMALIES](https://cloud.google.com/bigquery/docs/reference/standard-sql/bigqueryml-syntax-detect-anomalies#pca_model) function to detect anomalies.  This is done by also setting a contamination level as the rate of records in the the training data with anomalies - 0% in this case where the model was trained on known authentic documents.\n"
   ]
  },
  {
   "cell_type": "code",
   "execution_count": 145,
   "id": "88197aec",
   "metadata": {},
   "outputs": [
    {
     "data": {
      "application/vnd.jupyter.widget-view+json": {
       "model_id": "cb36c76da39f4e64b89b8fdba28062a3",
       "version_major": 2,
       "version_minor": 0
      },
      "text/plain": [
       "Query is running:   0%|          |"
      ]
     },
     "metadata": {},
     "output_type": "display_data"
    },
    {
     "data": {
      "application/vnd.jupyter.widget-view+json": {
       "model_id": "3c853e058a754b239b23fb04c7544afb",
       "version_major": 2,
       "version_minor": 0
      },
      "text/plain": [
       "Downloading: |          |"
      ]
     },
     "metadata": {},
     "output_type": "display_data"
    },
    {
     "data": {
      "text/html": [
       "<div>\n",
       "<style scoped>\n",
       "    .dataframe tbody tr th:only-of-type {\n",
       "        vertical-align: middle;\n",
       "    }\n",
       "\n",
       "    .dataframe tbody tr th {\n",
       "        vertical-align: top;\n",
       "    }\n",
       "\n",
       "    .dataframe thead th {\n",
       "        text-align: right;\n",
       "    }\n",
       "</style>\n",
       "<table border=\"1\" class=\"dataframe\">\n",
       "  <thead>\n",
       "    <tr style=\"text-align: right;\">\n",
       "      <th></th>\n",
       "      <th>is_anomaly</th>\n",
       "      <th>mean_squared_error</th>\n",
       "      <th>vendor</th>\n",
       "      <th>embedding</th>\n",
       "    </tr>\n",
       "  </thead>\n",
       "  <tbody>\n",
       "  </tbody>\n",
       "</table>\n",
       "</div>"
      ],
      "text/plain": [
       "Empty DataFrame\n",
       "Columns: [is_anomaly, mean_squared_error, vendor, embedding]\n",
       "Index: []"
      ]
     },
     "execution_count": 145,
     "metadata": {},
     "output_type": "execute_result"
    }
   ],
   "source": [
    "%%bigquery\n",
    "SELECT *\n",
    "FROM ML.DETECT_ANOMALIES(\n",
    "    MODEL `statmike-mlops-349915.solution_prototype_document_processing.pca_known_authentic`,\n",
    "    STRUCT(0.0 AS contamination),\n",
    "    (SELECT vendor, embedding FROM `statmike-mlops-349915.solution_prototype_document_processing.known_authenticity`)\n",
    ")\n",
    "WHERE is_anomaly = True"
   ]
  },
  {
   "cell_type": "markdown",
   "id": "b45008f8",
   "metadata": {},
   "source": [
    "---\n",
    "## Do More\n",
    "\n",
    "This is just the beginning of using embeddings to classify and evaluate documents based on similarity.  These concepts can be expanded with ideas like:\n",
    "- Calculate the average and standard deviation of pairwise distance between documents within vendors.  This distribution information can be used to evalaute new documents fit within the vendors documents.\n",
    "- Calcualte the average and standard deviation of distances between documents and the vendors centroid (average embedding).  This also serves as an evaluation point for new documents fit within the vendors documents.\n",
    "\n",
    "As the size of this solution grows the efficiency of vector search can be increase through the use of [Vector Indexes](https://cloud.google.com/bigquery/docs/vector-search-intro).  Depending on how the workflow grows there are a number of vector database options on Google Cloud - [See a comparison here](../../../Applied%20GenAI/Retrieval/readme.md)."
   ]
  },
  {
   "cell_type": "markdown",
   "id": "12c73bb8",
   "metadata": {},
   "source": []
  }
 ],
 "metadata": {
  "kernelspec": {
   "display_name": ".venv",
   "language": "python",
   "name": "python3"
  },
  "language_info": {
   "codemirror_mode": {
    "name": "ipython",
    "version": 3
   },
   "file_extension": ".py",
   "mimetype": "text/x-python",
   "name": "python",
   "nbconvert_exporter": "python",
   "pygments_lexer": "ipython3",
   "version": "3.13.3"
  }
 },
 "nbformat": 4,
 "nbformat_minor": 5
}
