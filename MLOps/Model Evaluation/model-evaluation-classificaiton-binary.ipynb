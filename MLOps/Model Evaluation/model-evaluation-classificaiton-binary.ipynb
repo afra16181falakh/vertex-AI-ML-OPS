{
 "cells": [
  {
   "cell_type": "markdown",
   "id": "35a57a18",
   "metadata": {},
   "source": [
    "# Evaluations For Binary Classification Models\n",
    "\n",
    "link to series\n",
    "list of workflows in series\n",
    "\n",
    "motivation\n",
    "descriptions\n",
    "workflow overview"
   ]
  },
  {
   "cell_type": "markdown",
   "id": "57589858",
   "metadata": {},
   "source": [
    "---\n",
    "## Colab Setup\n",
    "\n",
    "To run this notebook in Colab run the cells in this section.  Otherwise, skip this section.\n",
    "\n",
    "This cell will authenticate to GCP (follow prompts in the popup)."
   ]
  },
  {
   "cell_type": "code",
   "execution_count": 1,
   "id": "f9bc7299",
   "metadata": {},
   "outputs": [],
   "source": [
    "PROJECT_ID = 'statmike-mlops-349915' # replace with project ID"
   ]
  },
  {
   "cell_type": "code",
   "execution_count": 2,
   "id": "ee269adc",
   "metadata": {},
   "outputs": [],
   "source": [
    "try:\n",
    "    import google.colab\n",
    "    from google.colab import auth\n",
    "    auth.authenticate_user()\n",
    "    !gcloud config set project {PROJECT_ID}\n",
    "except Exception:\n",
    "    pass"
   ]
  },
  {
   "cell_type": "markdown",
   "id": "8cda240a",
   "metadata": {},
   "source": [
    "---\n",
    "## Installs\n",
    "\n",
    "The list `packages` contains tuples of package import names and install names.  If the import name is not found then the install name is used to install quitely for the current user."
   ]
  },
  {
   "cell_type": "code",
   "execution_count": 3,
   "id": "1b5f18b0",
   "metadata": {},
   "outputs": [],
   "source": [
    "# tuples of (import name, install name, min_version)\n",
    "packages = [\n",
    "    ('bigframes', 'bigframes'),\n",
    "    ('sklearn', 'scikit-learn'),\n",
    "    ('numpy', 'numpy'),\n",
    "    ('google.cloud.aiplatform', 'google-cloud-aiplatform'), \n",
    "    ('google.cloud.storage', 'google-cloud-storage'),\n",
    "    ('google.cloud.bigquery', 'google-cloud-bigquery'),\n",
    "    ('matplotlib', 'matplotlib')\n",
    "]\n",
    "\n",
    "import importlib\n",
    "install = False\n",
    "for package in packages:\n",
    "    if not importlib.util.find_spec(package[0]):\n",
    "        print(f'installing package {package[1]}')\n",
    "        install = True\n",
    "        !pip install {package[1]} -U -q --user\n",
    "    elif len(package) == 3:\n",
    "        if importlib.metadata.version(package[0]) < package[2]:\n",
    "            print(f'updating package {package[1]}')\n",
    "            install = True\n",
    "            !pip install {package[1]} -U -q --user"
   ]
  },
  {
   "cell_type": "markdown",
   "id": "e232d61f",
   "metadata": {},
   "source": [
    "### API Enablement"
   ]
  },
  {
   "cell_type": "code",
   "execution_count": 4,
   "id": "f21a7e18",
   "metadata": {},
   "outputs": [],
   "source": [
    "!gcloud services enable aiplatform.googleapis.com"
   ]
  },
  {
   "cell_type": "markdown",
   "id": "0879e534",
   "metadata": {},
   "source": [
    "### Restart Kernel (If Installs Occured)\n",
    "\n",
    "After a kernel restart the code submission can start with the next cell after this one."
   ]
  },
  {
   "cell_type": "code",
   "execution_count": 5,
   "id": "632a8f6a",
   "metadata": {},
   "outputs": [],
   "source": [
    "if install:\n",
    "    import IPython\n",
    "    app = IPython.Application.instance()\n",
    "    app.kernel.do_shutdown(True)\n",
    "    IPython.display.display(IPython.display.Markdown(\"\"\"<div class=\\\"alert alert-block alert-warning\\\">\n",
    "        <b>⚠️ The kernel is going to restart. Please wait until it is finished before continuing to the next step. The previous cells do not need to be run again⚠️</b>\n",
    "        </div>\"\"\"))"
   ]
  },
  {
   "cell_type": "markdown",
   "id": "ce50d96a",
   "metadata": {},
   "source": [
    "---\n",
    "## Setup"
   ]
  },
  {
   "cell_type": "markdown",
   "id": "80a16f60",
   "metadata": {},
   "source": [
    "inputs:"
   ]
  },
  {
   "cell_type": "code",
   "execution_count": 6,
   "id": "a32bc1ff",
   "metadata": {},
   "outputs": [
    {
     "data": {
      "text/plain": [
       "'statmike-mlops-349915'"
      ]
     },
     "execution_count": 6,
     "metadata": {},
     "output_type": "execute_result"
    }
   ],
   "source": [
    "project = !gcloud config get-value project\n",
    "PROJECT_ID = project[0]\n",
    "PROJECT_ID"
   ]
  },
  {
   "cell_type": "code",
   "execution_count": 7,
   "id": "66d199b7",
   "metadata": {},
   "outputs": [],
   "source": [
    "REGION = 'us-central1'\n",
    "SERIES = 'mlops'\n",
    "EXPERIMENT = 'evaluation-classification-binary'\n",
    "\n",
    "# Set the name of GCS Bucket to read/write to\n",
    "GCS_BUCKET = PROJECT_ID\n",
    "\n",
    "# Data source for this workflow\n",
    "BQ_SOURCE = 'bigquery-public-data.new_york_taxi_trips.tlc_yellow_trips_2017'\n",
    "\n",
    "# make this the BigQuery Project / Dataset / Table prefix to store results\n",
    "BQ_PROJECT = PROJECT_ID\n",
    "BQ_DATASET = SERIES.replace('-', '_')\n",
    "BQ_TABLE = EXPERIMENT\n",
    "BQ_REGION = REGION[0:2] # use a multi region"
   ]
  },
  {
   "cell_type": "markdown",
   "id": "ee67069e",
   "metadata": {},
   "source": [
    "packages:"
   ]
  },
  {
   "cell_type": "code",
   "execution_count": 8,
   "id": "1100ed72",
   "metadata": {},
   "outputs": [],
   "source": [
    "import os\n",
    "import joblib\n",
    "import sklearn.metrics\n",
    "import sklearn.ensemble\n",
    "import sklearn.pipeline\n",
    "import sklearn.compose\n",
    "import sklearn.preprocessing\n",
    "import numpy as np\n",
    "import matplotlib.pyplot as plt\n",
    "\n",
    "import bigframes.pandas as bpd\n",
    "from google.cloud import aiplatform\n",
    "from google.cloud import bigquery\n",
    "from google.cloud import storage"
   ]
  },
  {
   "cell_type": "markdown",
   "id": "cc91a509",
   "metadata": {},
   "source": [
    "clients:"
   ]
  },
  {
   "cell_type": "code",
   "execution_count": 9,
   "id": "4f171743",
   "metadata": {},
   "outputs": [
    {
     "data": {
      "text/html": [
       "\n",
       "        \n",
       "    <link rel=\"stylesheet\" href=\"https://fonts.googleapis.com/icon?family=Material+Icons\">\n",
       "    <style>\n",
       "      .view-vertex-resource,\n",
       "      .view-vertex-resource:hover,\n",
       "      .view-vertex-resource:visited {\n",
       "        position: relative;\n",
       "        display: inline-flex;\n",
       "        flex-direction: row;\n",
       "        height: 32px;\n",
       "        padding: 0 12px;\n",
       "          margin: 4px 18px;\n",
       "        gap: 4px;\n",
       "        border-radius: 4px;\n",
       "\n",
       "        align-items: center;\n",
       "        justify-content: center;\n",
       "        background-color: rgb(255, 255, 255);\n",
       "        color: rgb(51, 103, 214);\n",
       "\n",
       "        font-family: Roboto,\"Helvetica Neue\",sans-serif;\n",
       "        font-size: 13px;\n",
       "        font-weight: 500;\n",
       "        text-transform: uppercase;\n",
       "        text-decoration: none !important;\n",
       "\n",
       "        transition: box-shadow 280ms cubic-bezier(0.4, 0, 0.2, 1) 0s;\n",
       "        box-shadow: 0px 3px 1px -2px rgba(0,0,0,0.2), 0px 2px 2px 0px rgba(0,0,0,0.14), 0px 1px 5px 0px rgba(0,0,0,0.12);\n",
       "      }\n",
       "      .view-vertex-resource:active {\n",
       "        box-shadow: 0px 5px 5px -3px rgba(0,0,0,0.2),0px 8px 10px 1px rgba(0,0,0,0.14),0px 3px 14px 2px rgba(0,0,0,0.12);\n",
       "      }\n",
       "      .view-vertex-resource:active .view-vertex-ripple::before {\n",
       "        position: absolute;\n",
       "        top: 0;\n",
       "        bottom: 0;\n",
       "        left: 0;\n",
       "        right: 0;\n",
       "        border-radius: 4px;\n",
       "        pointer-events: none;\n",
       "\n",
       "        content: '';\n",
       "        background-color: rgb(51, 103, 214);\n",
       "        opacity: 0.12;\n",
       "      }\n",
       "      .view-vertex-icon {\n",
       "        font-size: 18px;\n",
       "      }\n",
       "    </style>\n",
       "  \n",
       "        <a class=\"view-vertex-resource\" id=\"view-vertex-resource-36318604-977c-411d-a5a8-4badb97418a7\" href=\"#view-view-vertex-resource-36318604-977c-411d-a5a8-4badb97418a7\">\n",
       "          <span class=\"material-icons view-vertex-icon\">science</span>\n",
       "          <span>View Experiment</span>\n",
       "        </a>\n",
       "        \n",
       "        <script>\n",
       "          (function () {\n",
       "            const link = document.getElementById('view-vertex-resource-36318604-977c-411d-a5a8-4badb97418a7');\n",
       "            link.addEventListener('click', (e) => {\n",
       "              if (window.google?.colab?.openUrl) {\n",
       "                window.google.colab.openUrl('https://console.cloud.google.com/vertex-ai/experiments/locations/us-central1/experiments/mlops-evaluation-classification-binary/runs?project=statmike-mlops-349915');\n",
       "              } else {\n",
       "                window.open('https://console.cloud.google.com/vertex-ai/experiments/locations/us-central1/experiments/mlops-evaluation-classification-binary/runs?project=statmike-mlops-349915', '_blank');\n",
       "              }\n",
       "              e.stopPropagation();\n",
       "              e.preventDefault();\n",
       "            });\n",
       "          })();\n",
       "        </script>\n",
       "    "
      ],
      "text/plain": [
       "<IPython.core.display.HTML object>"
      ]
     },
     "metadata": {},
     "output_type": "display_data"
    }
   ],
   "source": [
    "# vertex ai clients\n",
    "aiplatform.init(project = PROJECT_ID, location = REGION, experiment = SERIES+'-'+EXPERIMENT)\n",
    "\n",
    "# gcs storage client\n",
    "gcs = storage.Client(project = GCS_BUCKET)\n",
    "bucket = gcs.bucket(GCS_BUCKET)\n",
    "\n",
    "# bigquery client\n",
    "bq = bigquery.Client(project = PROJECT_ID)\n",
    "\n",
    "# bigframes setup\n",
    "bpd.options.bigquery.project = PROJECT_ID"
   ]
  },
  {
   "cell_type": "markdown",
   "id": "e606dfcd",
   "metadata": {},
   "source": [
    "Parameters:"
   ]
  },
  {
   "cell_type": "code",
   "execution_count": 10,
   "id": "0686cdef",
   "metadata": {},
   "outputs": [],
   "source": [
    "DIR = f\"files/{EXPERIMENT}\""
   ]
  },
  {
   "cell_type": "markdown",
   "id": "50f642d0",
   "metadata": {},
   "source": [
    "Environment:"
   ]
  },
  {
   "cell_type": "code",
   "execution_count": 11,
   "id": "0260e218",
   "metadata": {},
   "outputs": [],
   "source": [
    "if not os.path.exists(DIR):\n",
    "    os.makedirs(DIR)"
   ]
  },
  {
   "cell_type": "markdown",
   "id": "1dba2384",
   "metadata": {},
   "source": [
    "---\n",
    "## Review Source Data: New York City Yellow Cab Trips (2017)\n",
    "\n",
    "This is a BigQuery public table containing 113,500,316 individual yellow cab trip records for the year 2017, provided by the New York City Taxi and Limousine Commission (TLC). For our **binary classification** task, we will derive a target variable indicating whether a tip was left or not.\n",
    "\n",
    "The table includes a rich set of descriptive features, including:\n",
    "\n",
    "* **`vendor_id`** (string): A code indicating the TPEP provider that provided the record.\n",
    "* **`pickup_datetime`** (timestamp): The date and time when the meter was engaged.\n",
    "* **`dropoff_datetime`** (timestamp): The date and time when the meter was disengaged.\n",
    "* **`passenger_count`** (integer): The number of passengers in the vehicle (driver excluded).\n",
    "* **`trip_distance`** (float): The elapsed trip distance in miles reported by the taximeter.\n",
    "* **`fare_amount`** (float): The time-and-distance fare calculated by the meter.\n",
    "* **`tip_amount`** (float): The amount of tip. This is the basis for our binary target variable.\n",
    "* **`total_amount`** (float): The total amount charged to the passenger.\n",
    "* And other columns related to payment type, tolls, etc.\n",
    "\n",
    "From the **`tip_amount`** column, we will derive our binary target: `has_tip` (1 if `tip_amount > 0`, 0 otherwise).\n",
    "\n",
    "You can research more about this dataset, including its comprehensive schema and history, at the [NYC Taxi & Limousine Commission website](https://www.nyc.gov/site/tlc/about/tlc-trip-record-data.page) or within the BigQuery public dataset documentation.\n",
    "\n",
    "Read more about BigQuery public datasets [here](https://cloud.google.com/bigquery/public-data).\n",
    " "
   ]
  },
  {
   "cell_type": "markdown",
   "id": "6bd4a02f",
   "metadata": {},
   "source": [
    "### Review BigQuery table:"
   ]
  },
  {
   "cell_type": "code",
   "execution_count": 12,
   "id": "b95f168f",
   "metadata": {},
   "outputs": [
    {
     "data": {
      "text/html": [
       "Query job c505a633-3680-4f31-b523-7cbcf970d105 is DONE. 0 Bytes processed. <a target=\"_blank\" href=\"https://console.cloud.google.com/bigquery?project=statmike-mlops-349915&j=bq:US:c505a633-3680-4f31-b523-7cbcf970d105&page=queryresults\">Open Job</a>"
      ],
      "text/plain": [
       "<IPython.core.display.HTML object>"
      ]
     },
     "metadata": {},
     "output_type": "display_data"
    },
    {
     "data": {
      "text/html": [
       "Query job 79918306-842b-4e19-8200-b418ce7570f2 is DONE. 21.5 GB processed. <a target=\"_blank\" href=\"https://console.cloud.google.com/bigquery?project=statmike-mlops-349915&j=bq:US:79918306-842b-4e19-8200-b418ce7570f2&page=queryresults\">Open Job</a>"
      ],
      "text/plain": [
       "<IPython.core.display.HTML object>"
      ]
     },
     "metadata": {},
     "output_type": "display_data"
    },
    {
     "data": {
      "text/html": [
       "<div>\n",
       "<style scoped>\n",
       "    .dataframe tbody tr th:only-of-type {\n",
       "        vertical-align: middle;\n",
       "    }\n",
       "\n",
       "    .dataframe tbody tr th {\n",
       "        vertical-align: top;\n",
       "    }\n",
       "\n",
       "    .dataframe thead th {\n",
       "        text-align: right;\n",
       "    }\n",
       "</style>\n",
       "<table border=\"1\" class=\"dataframe\">\n",
       "  <thead>\n",
       "    <tr style=\"text-align: right;\">\n",
       "      <th></th>\n",
       "      <th>vendor_id</th>\n",
       "      <th>pickup_datetime</th>\n",
       "      <th>dropoff_datetime</th>\n",
       "      <th>passenger_count</th>\n",
       "      <th>trip_distance</th>\n",
       "      <th>rate_code</th>\n",
       "      <th>store_and_fwd_flag</th>\n",
       "      <th>payment_type</th>\n",
       "      <th>fare_amount</th>\n",
       "      <th>extra</th>\n",
       "      <th>mta_tax</th>\n",
       "      <th>tip_amount</th>\n",
       "      <th>tolls_amount</th>\n",
       "      <th>imp_surcharge</th>\n",
       "      <th>airport_fee</th>\n",
       "      <th>total_amount</th>\n",
       "      <th>pickup_location_id</th>\n",
       "      <th>dropoff_location_id</th>\n",
       "      <th>data_file_year</th>\n",
       "      <th>data_file_month</th>\n",
       "    </tr>\n",
       "  </thead>\n",
       "  <tbody>\n",
       "    <tr>\n",
       "      <th>0</th>\n",
       "      <td>1</td>\n",
       "      <td>2017-02-16 19:32:28+00:00</td>\n",
       "      <td>2017-02-16 20:04:21+00:00</td>\n",
       "      <td>1</td>\n",
       "      <td>10.100000000</td>\n",
       "      <td>1</td>\n",
       "      <td>N</td>\n",
       "      <td>1</td>\n",
       "      <td>33.000000000</td>\n",
       "      <td>1.000000000</td>\n",
       "      <td>0.500000000</td>\n",
       "      <td>6.950000000</td>\n",
       "      <td>0E-9</td>\n",
       "      <td>0.300000000</td>\n",
       "      <td>&lt;NA&gt;</td>\n",
       "      <td>41.750000000</td>\n",
       "      <td>138</td>\n",
       "      <td>79</td>\n",
       "      <td>2017</td>\n",
       "      <td>2</td>\n",
       "    </tr>\n",
       "    <tr>\n",
       "      <th>1</th>\n",
       "      <td>2</td>\n",
       "      <td>2017-11-09 15:30:47+00:00</td>\n",
       "      <td>2017-11-09 15:41:07+00:00</td>\n",
       "      <td>1</td>\n",
       "      <td>1.170000000</td>\n",
       "      <td>1</td>\n",
       "      <td>N</td>\n",
       "      <td>1</td>\n",
       "      <td>8.000000000</td>\n",
       "      <td>0E-9</td>\n",
       "      <td>0.500000000</td>\n",
       "      <td>1.000000000</td>\n",
       "      <td>0E-9</td>\n",
       "      <td>0.300000000</td>\n",
       "      <td>&lt;NA&gt;</td>\n",
       "      <td>9.800000000</td>\n",
       "      <td>141</td>\n",
       "      <td>162</td>\n",
       "      <td>2017</td>\n",
       "      <td>11</td>\n",
       "    </tr>\n",
       "    <tr>\n",
       "      <th>2</th>\n",
       "      <td>1</td>\n",
       "      <td>2017-11-02 08:42:13+00:00</td>\n",
       "      <td>2017-11-02 08:44:18+00:00</td>\n",
       "      <td>1</td>\n",
       "      <td>0.400000000</td>\n",
       "      <td>1</td>\n",
       "      <td>N</td>\n",
       "      <td>1</td>\n",
       "      <td>3.500000000</td>\n",
       "      <td>0E-9</td>\n",
       "      <td>0.500000000</td>\n",
       "      <td>1.050000000</td>\n",
       "      <td>0E-9</td>\n",
       "      <td>0.300000000</td>\n",
       "      <td>&lt;NA&gt;</td>\n",
       "      <td>5.350000000</td>\n",
       "      <td>141</td>\n",
       "      <td>237</td>\n",
       "      <td>2017</td>\n",
       "      <td>11</td>\n",
       "    </tr>\n",
       "    <tr>\n",
       "      <th>3</th>\n",
       "      <td>1</td>\n",
       "      <td>2017-09-26 18:49:21+00:00</td>\n",
       "      <td>2017-09-26 19:11:20+00:00</td>\n",
       "      <td>1</td>\n",
       "      <td>3.300000000</td>\n",
       "      <td>1</td>\n",
       "      <td>N</td>\n",
       "      <td>2</td>\n",
       "      <td>16.000000000</td>\n",
       "      <td>1.000000000</td>\n",
       "      <td>0.500000000</td>\n",
       "      <td>0E-9</td>\n",
       "      <td>0E-9</td>\n",
       "      <td>0.300000000</td>\n",
       "      <td>&lt;NA&gt;</td>\n",
       "      <td>17.800000000</td>\n",
       "      <td>48</td>\n",
       "      <td>114</td>\n",
       "      <td>2017</td>\n",
       "      <td>9</td>\n",
       "    </tr>\n",
       "    <tr>\n",
       "      <th>4</th>\n",
       "      <td>1</td>\n",
       "      <td>2017-10-08 03:20:00+00:00</td>\n",
       "      <td>2017-10-08 03:21:22+00:00</td>\n",
       "      <td>1</td>\n",
       "      <td>0.300000000</td>\n",
       "      <td>1</td>\n",
       "      <td>N</td>\n",
       "      <td>2</td>\n",
       "      <td>3.000000000</td>\n",
       "      <td>0.500000000</td>\n",
       "      <td>0.500000000</td>\n",
       "      <td>0E-9</td>\n",
       "      <td>0E-9</td>\n",
       "      <td>0.300000000</td>\n",
       "      <td>&lt;NA&gt;</td>\n",
       "      <td>4.300000000</td>\n",
       "      <td>48</td>\n",
       "      <td>48</td>\n",
       "      <td>2017</td>\n",
       "      <td>10</td>\n",
       "    </tr>\n",
       "  </tbody>\n",
       "</table>\n",
       "<p>5 rows × 20 columns</p>\n",
       "</div>[5 rows x 20 columns in total]"
      ],
      "text/plain": [
       "  vendor_id            pickup_datetime           dropoff_datetime  \\\n",
       "0         1  2017-02-16 19:32:28+00:00  2017-02-16 20:04:21+00:00   \n",
       "1         2  2017-11-09 15:30:47+00:00  2017-11-09 15:41:07+00:00   \n",
       "2         1  2017-11-02 08:42:13+00:00  2017-11-02 08:44:18+00:00   \n",
       "3         1  2017-09-26 18:49:21+00:00  2017-09-26 19:11:20+00:00   \n",
       "4         1  2017-10-08 03:20:00+00:00  2017-10-08 03:21:22+00:00   \n",
       "\n",
       "   passenger_count  trip_distance rate_code store_and_fwd_flag payment_type  \\\n",
       "0                1   10.100000000         1                  N            1   \n",
       "1                1    1.170000000         1                  N            1   \n",
       "2                1    0.400000000         1                  N            1   \n",
       "3                1    3.300000000         1                  N            2   \n",
       "4                1    0.300000000         1                  N            2   \n",
       "\n",
       "    fare_amount        extra      mta_tax   tip_amount  tolls_amount  \\\n",
       "0  33.000000000  1.000000000  0.500000000  6.950000000          0E-9   \n",
       "1   8.000000000         0E-9  0.500000000  1.000000000          0E-9   \n",
       "2   3.500000000         0E-9  0.500000000  1.050000000          0E-9   \n",
       "3  16.000000000  1.000000000  0.500000000         0E-9          0E-9   \n",
       "4   3.000000000  0.500000000  0.500000000         0E-9          0E-9   \n",
       "\n",
       "   imp_surcharge  airport_fee  total_amount pickup_location_id  \\\n",
       "0    0.300000000         <NA>  41.750000000                138   \n",
       "1    0.300000000         <NA>   9.800000000                141   \n",
       "2    0.300000000         <NA>   5.350000000                141   \n",
       "3    0.300000000         <NA>  17.800000000                 48   \n",
       "4    0.300000000         <NA>   4.300000000                 48   \n",
       "\n",
       "  dropoff_location_id  data_file_year  data_file_month  \n",
       "0                  79            2017                2  \n",
       "1                 162            2017               11  \n",
       "2                 237            2017               11  \n",
       "3                 114            2017                9  \n",
       "4                  48            2017               10  \n",
       "\n",
       "[5 rows x 20 columns]"
      ]
     },
     "execution_count": 12,
     "metadata": {},
     "output_type": "execute_result"
    }
   ],
   "source": [
    "source_data = bpd.read_gbq(BQ_SOURCE)\n",
    "source_data.head()"
   ]
  },
  {
   "cell_type": "code",
   "execution_count": 13,
   "id": "de137c6c",
   "metadata": {},
   "outputs": [
    {
     "name": "stdout",
     "output_type": "stream",
     "text": [
      "<class 'bigframes.dataframe.DataFrame'>\n",
      "Index: 113500316 entries, 0 to 113500315\n",
      "Data columns (total 20 columns):\n",
      "  #  Column               Dtype\n",
      "---  -------------------  ------------------------------\n",
      "  0  vendor_id            string\n",
      "  1  pickup_datetime      timestamp[us, tz=UTC][pyarrow]\n",
      "  2  dropoff_datetime     timestamp[us, tz=UTC][pyarrow]\n",
      "  3  passenger_count      Int64\n",
      "  4  trip_distance        decimal128(38, 9)[pyarrow]\n",
      "  5  rate_code            string\n",
      "  6  store_and_fwd_flag   string\n",
      "  7  payment_type         string\n",
      "  8  fare_amount          decimal128(38, 9)[pyarrow]\n",
      "  9  extra                decimal128(38, 9)[pyarrow]\n",
      " 10  mta_tax              decimal128(38, 9)[pyarrow]\n",
      " 11  tip_amount           decimal128(38, 9)[pyarrow]\n",
      " 12  tolls_amount         decimal128(38, 9)[pyarrow]\n",
      " 13  imp_surcharge        decimal128(38, 9)[pyarrow]\n",
      " 14  airport_fee          decimal128(38, 9)[pyarrow]\n",
      " 15  total_amount         decimal128(38, 9)[pyarrow]\n",
      " 16  pickup_location_id   string\n",
      " 17  dropoff_location_id  string\n",
      " 18  data_file_year       Int64\n",
      " 19  data_file_month      Int64\n",
      "dtypes: Int64(3), decimal128(38, 9)[pyarrow](9), string(6), timestamp[us, tz=UTC][pyarrow](2)\n",
      "memory usage: 27240075840 bytes\n"
     ]
    }
   ],
   "source": [
    "source_data.info()"
   ]
  },
  {
   "cell_type": "markdown",
   "id": "da889e8e",
   "metadata": {},
   "source": [
    "---\n",
    "## Prepare Data Source\n",
    "\n",
    "The data preparation includes adding splits for machine learning with a column named `splits` with values for training (`TRAIN`), validation (`VALIDATE`), and for testing (`TEST`).  Additionally, a unique identifier was added to each transaction, `trip_id`. \n",
    "\n",
    ">These steps could be done locally at training but are instead done in the source system, BigQuery in this case, which provides several advantages:\n",
    ">\n",
    ">-   **Single Source of Truth:** A single data preparation can benefit multiple model training jobs for different architectures or even different team members working on the same model. This ensures consistency and avoids duplication of effort.\n",
    ">-   **Leverage BigQuery's Power:** BigQuery is highly optimized for large-scale data processing. Performing these operations directly in BigQuery leverages its distributed processing capabilities, making the preparation significantly faster and more efficient than local processing, especially for massive datasets.\n",
    ">-   **Reduced Data Movement:** Preparing the data in BigQuery reduces the amount of data that needs to be moved out of BigQuery and into the training environment. This minimizes latency and potential bottlenecks associated with data transfer.\n",
    ">-   **Data Versioning and Reproducibility:** By preparing the splits and unique ID in BigQuery, the specific dataset used for training can be easily tracked and versioned. This enhances the reproducibility of experiments and makes it easier to understand the provenance of the data used in a particular model.\n",
    ">-   **Simplified Training Pipeline:** The training pipeline becomes simpler because it can directly read pre-split data from BigQuery, eliminating the need for complex splitting logic within the training code.\n",
    ">-   **Pre-calculated Joins and Features:** BigQuery can be used to pre-calculate joins and engineer new features that are beneficial for the model. This can improve model performance and further reduce the workload during the training phase.\n",
    ">\n",
    ">**Further Considerations:**\n",
    ">\n",
    ">-   **Data Governance and Security:** BigQuery offers robust data governance and security features. Performing data preparation within BigQuery allows you to maintain control over access and ensure data quality.\n",
    ">-   **Scalability:** This approach is highly scalable. As your dataset grows, BigQuery can handle the increased workload without requiring significant changes to your data preparation pipeline.\n",
    ">-   **Cost Optimization:** While moving large amounts of data out of BigQuery can incur costs, performing the preparation steps within BigQuery and only extracting the necessary data for training can often be more cost-effective.\n",
    ">\n",
    ">By preparing the data in BigQuery, you create a streamlined, efficient, and reproducible workflow (pipeline) that leverages the strengths of the platform and sets your machine learning models up for success.\n"
   ]
  },
  {
   "cell_type": "markdown",
   "id": "84815db2",
   "metadata": {},
   "source": [
    "### Create/Recall Dataset"
   ]
  },
  {
   "cell_type": "code",
   "execution_count": 14,
   "id": "47ce6aa3",
   "metadata": {},
   "outputs": [],
   "source": [
    "dataset = bigquery.Dataset(f\"{BQ_PROJECT}.{BQ_DATASET}\")\n",
    "dataset.location = BQ_REGION\n",
    "bq_dataset = bq.create_dataset(dataset, exists_ok = True)"
   ]
  },
  {
   "cell_type": "markdown",
   "id": "a1bbf64e",
   "metadata": {},
   "source": [
    "### Create/Recall Table With Preparation For ML\n",
    "\n",
    "Copy the data from the source while adding columns:\n",
    "- `transaction_id` as a unique identify for the row\n",
    "    - Use the `GENERATE_UUID()` function\n",
    "- `splits` column to randomly assign rows to 'TRAIN\", \"VALIDATE\" and \"TEST\" groups\n",
    "    - stratified sampling within the levels of `class` by first assigning row numbers within the levels of `class` then using the with a CASE statment to assign the `splits` level."
   ]
  },
  {
   "cell_type": "code",
   "execution_count": 15,
   "id": "1a766ab2",
   "metadata": {},
   "outputs": [
    {
     "data": {
      "text/plain": [
       "31.157"
      ]
     },
     "execution_count": 15,
     "metadata": {},
     "output_type": "execute_result"
    }
   ],
   "source": [
    "job = bq.query(f\"\"\"\n",
    "CREATE OR REPLACE TABLE `{BQ_PROJECT}.{BQ_DATASET}.{BQ_TABLE}` AS\n",
    "WITH\n",
    "    base_data AS (\n",
    "        SELECT\n",
    "            -- Categorical features (ensure string casting if not already)\n",
    "            vendor_id, -- Already string\n",
    "            rate_code, -- Already string\n",
    "            payment_type, -- Already string\n",
    "            store_and_fwd_flag, -- Already string\n",
    "            pickup_location_id, -- Already string\n",
    "            dropoff_location_id, -- Already string\n",
    "            CASE WHEN airport_fee > 0 THEN 1 ELSE 0 END AS has_airport_fee, -- create categorical variable for airport_fee\n",
    "            \n",
    "            -- Numerical features\n",
    "            passenger_count,\n",
    "            trip_distance,\n",
    "            fare_amount,\n",
    "            extra,\n",
    "            mta_tax,\n",
    "            tip_amount, -- Used for target, but also useful as a feature for other tasks\n",
    "            tolls_amount,\n",
    "            imp_surcharge,\n",
    "            total_amount,\n",
    "\n",
    "            -- Derived features\n",
    "            TIMESTAMP_DIFF(dropoff_datetime, pickup_datetime, SECOND) AS trip_duration_seconds,\n",
    "            \n",
    "            -- Raw timestamps for potential future BigFrames datetime operations or direct use\n",
    "            pickup_datetime,\n",
    "            dropoff_datetime,\n",
    "\n",
    "            -- Create the binary target: has_tip\n",
    "            CASE WHEN tip_amount > 0 THEN 1 ELSE 0 END AS has_tip,\n",
    "            -- Add an ID and row number for stratified splitting\n",
    "            GENERATE_UUID() AS trip_id,\n",
    "            ROW_NUMBER() OVER (PARTITION BY (CASE WHEN tip_amount > 0 THEN 1 ELSE 0 END) ORDER BY RAND()) as rn\n",
    "        FROM `{BQ_SOURCE}`\n",
    "        WHERE\n",
    "            -- Basic filtering for valid trips: positive duration, passengers, and non-zero fare/tip amounts\n",
    "            TIMESTAMP_DIFF(dropoff_datetime, pickup_datetime, SECOND) > 0 AND\n",
    "            passenger_count > 0 AND\n",
    "            fare_amount > 0 AND\n",
    "            tip_amount IS NOT NULL -- Exclude trips where tip_amount is unknown\n",
    "            AND pickup_datetime BETWEEN '2017-01-01 00:00:00' AND '2017-12-31 23:59:59' -- Filter for 2017 data only\n",
    "            -- You might add more filtering for outliers like extremely long distances, or invalid coordinates if available\n",
    "\n",
    "    )\n",
    "SELECT\n",
    "    * EXCEPT(rn),\n",
    "    CASE -- 10% for train, 1% for validation, 1% for test\n",
    "        WHEN rn <= 0.005 * COUNT(*) OVER (PARTITION BY has_tip) THEN 'TRAIN'\n",
    "        WHEN rn <= 0.006 * COUNT(*) OVER (PARTITION BY has_tip) THEN 'VALIDATE'\n",
    "        WHEN rn <= 0.007 * COUNT(*) OVER (PARTITION BY has_tip) THEN 'TEST'\n",
    "        ELSE Null -- records not samples for using in training here\n",
    "    END AS splits\n",
    "FROM\n",
    "    base_data\n",
    "\"\"\")\n",
    "job.result()\n",
    "(job.ended-job.started).total_seconds()"
   ]
  },
  {
   "cell_type": "code",
   "execution_count": 16,
   "id": "288b0af5",
   "metadata": {},
   "outputs": [
    {
     "data": {
      "text/html": [
       "Query job cfda8b14-1eda-47dd-aab7-a97491d9a5fd is DONE. 26.7 GB processed. <a target=\"_blank\" href=\"https://console.cloud.google.com/bigquery?project=statmike-mlops-349915&j=bq:US:cfda8b14-1eda-47dd-aab7-a97491d9a5fd&page=queryresults\">Open Job</a>"
      ],
      "text/plain": [
       "<IPython.core.display.HTML object>"
      ]
     },
     "metadata": {},
     "output_type": "display_data"
    },
    {
     "data": {
      "text/html": [
       "<div>\n",
       "<style scoped>\n",
       "    .dataframe tbody tr th:only-of-type {\n",
       "        vertical-align: middle;\n",
       "    }\n",
       "\n",
       "    .dataframe tbody tr th {\n",
       "        vertical-align: top;\n",
       "    }\n",
       "\n",
       "    .dataframe thead th {\n",
       "        text-align: right;\n",
       "    }\n",
       "</style>\n",
       "<table border=\"1\" class=\"dataframe\">\n",
       "  <thead>\n",
       "    <tr style=\"text-align: right;\">\n",
       "      <th></th>\n",
       "      <th>vendor_id</th>\n",
       "      <th>rate_code</th>\n",
       "      <th>payment_type</th>\n",
       "      <th>store_and_fwd_flag</th>\n",
       "      <th>pickup_location_id</th>\n",
       "      <th>dropoff_location_id</th>\n",
       "      <th>has_airport_fee</th>\n",
       "      <th>passenger_count</th>\n",
       "      <th>trip_distance</th>\n",
       "      <th>fare_amount</th>\n",
       "      <th>...</th>\n",
       "      <th>tip_amount</th>\n",
       "      <th>tolls_amount</th>\n",
       "      <th>imp_surcharge</th>\n",
       "      <th>total_amount</th>\n",
       "      <th>trip_duration_seconds</th>\n",
       "      <th>pickup_datetime</th>\n",
       "      <th>dropoff_datetime</th>\n",
       "      <th>has_tip</th>\n",
       "      <th>trip_id</th>\n",
       "      <th>splits</th>\n",
       "    </tr>\n",
       "  </thead>\n",
       "  <tbody>\n",
       "    <tr>\n",
       "      <th>0</th>\n",
       "      <td>2</td>\n",
       "      <td>1</td>\n",
       "      <td>1</td>\n",
       "      <td>N</td>\n",
       "      <td>75</td>\n",
       "      <td>236</td>\n",
       "      <td>0</td>\n",
       "      <td>2</td>\n",
       "      <td>1.110000000</td>\n",
       "      <td>8.000000000</td>\n",
       "      <td>...</td>\n",
       "      <td>0E-9</td>\n",
       "      <td>0E-9</td>\n",
       "      <td>0.300000000</td>\n",
       "      <td>8.800000000</td>\n",
       "      <td>597</td>\n",
       "      <td>2017-09-05 14:02:31+00:00</td>\n",
       "      <td>2017-09-05 14:12:28+00:00</td>\n",
       "      <td>0</td>\n",
       "      <td>b1b52437-2899-4a4c-af46-50d1f3b09afa</td>\n",
       "      <td>&lt;NA&gt;</td>\n",
       "    </tr>\n",
       "    <tr>\n",
       "      <th>1</th>\n",
       "      <td>2</td>\n",
       "      <td>1</td>\n",
       "      <td>1</td>\n",
       "      <td>N</td>\n",
       "      <td>87</td>\n",
       "      <td>255</td>\n",
       "      <td>0</td>\n",
       "      <td>1</td>\n",
       "      <td>4.470000000</td>\n",
       "      <td>22.500000000</td>\n",
       "      <td>...</td>\n",
       "      <td>1.000000000</td>\n",
       "      <td>0E-9</td>\n",
       "      <td>0.300000000</td>\n",
       "      <td>24.800000000</td>\n",
       "      <td>1839</td>\n",
       "      <td>2017-01-26 21:37:20+00:00</td>\n",
       "      <td>2017-01-26 22:07:59+00:00</td>\n",
       "      <td>1</td>\n",
       "      <td>56f0ffdd-2103-476a-88ea-6d0971edc769</td>\n",
       "      <td>&lt;NA&gt;</td>\n",
       "    </tr>\n",
       "    <tr>\n",
       "      <th>2</th>\n",
       "      <td>2</td>\n",
       "      <td>1</td>\n",
       "      <td>2</td>\n",
       "      <td>N</td>\n",
       "      <td>186</td>\n",
       "      <td>90</td>\n",
       "      <td>0</td>\n",
       "      <td>1</td>\n",
       "      <td>0.730000000</td>\n",
       "      <td>5.500000000</td>\n",
       "      <td>...</td>\n",
       "      <td>0E-9</td>\n",
       "      <td>0E-9</td>\n",
       "      <td>0.300000000</td>\n",
       "      <td>6.800000000</td>\n",
       "      <td>388</td>\n",
       "      <td>2017-03-11 00:04:09+00:00</td>\n",
       "      <td>2017-03-11 00:10:37+00:00</td>\n",
       "      <td>0</td>\n",
       "      <td>02aadd19-abc3-448b-bb3a-78f8df354be5</td>\n",
       "      <td>&lt;NA&gt;</td>\n",
       "    </tr>\n",
       "    <tr>\n",
       "      <th>3</th>\n",
       "      <td>2</td>\n",
       "      <td>1</td>\n",
       "      <td>2</td>\n",
       "      <td>N</td>\n",
       "      <td>162</td>\n",
       "      <td>246</td>\n",
       "      <td>0</td>\n",
       "      <td>1</td>\n",
       "      <td>1.600000000</td>\n",
       "      <td>10.500000000</td>\n",
       "      <td>...</td>\n",
       "      <td>0E-9</td>\n",
       "      <td>0E-9</td>\n",
       "      <td>0E-9</td>\n",
       "      <td>12.300000000</td>\n",
       "      <td>870</td>\n",
       "      <td>2017-12-15 19:25:32+00:00</td>\n",
       "      <td>2017-12-15 19:40:02+00:00</td>\n",
       "      <td>0</td>\n",
       "      <td>970ebf37-dc52-4319-a588-1226080645ff</td>\n",
       "      <td>&lt;NA&gt;</td>\n",
       "    </tr>\n",
       "    <tr>\n",
       "      <th>4</th>\n",
       "      <td>1</td>\n",
       "      <td>1</td>\n",
       "      <td>2</td>\n",
       "      <td>N</td>\n",
       "      <td>142</td>\n",
       "      <td>142</td>\n",
       "      <td>0</td>\n",
       "      <td>1</td>\n",
       "      <td>0.500000000</td>\n",
       "      <td>5.000000000</td>\n",
       "      <td>...</td>\n",
       "      <td>0E-9</td>\n",
       "      <td>0E-9</td>\n",
       "      <td>0.300000000</td>\n",
       "      <td>5.800000000</td>\n",
       "      <td>280</td>\n",
       "      <td>2017-06-28 11:03:23+00:00</td>\n",
       "      <td>2017-06-28 11:08:03+00:00</td>\n",
       "      <td>0</td>\n",
       "      <td>247df1ed-cd2d-4fa9-88a0-e98dff7a3132</td>\n",
       "      <td>&lt;NA&gt;</td>\n",
       "    </tr>\n",
       "  </tbody>\n",
       "</table>\n",
       "<p>5 rows × 22 columns</p>\n",
       "</div>[5 rows x 22 columns in total]"
      ],
      "text/plain": [
       "  vendor_id rate_code payment_type store_and_fwd_flag pickup_location_id  \\\n",
       "0         2         1            1                  N                 75   \n",
       "1         2         1            1                  N                 87   \n",
       "2         2         1            2                  N                186   \n",
       "3         2         1            2                  N                162   \n",
       "4         1         1            2                  N                142   \n",
       "\n",
       "  dropoff_location_id  has_airport_fee  passenger_count  trip_distance  \\\n",
       "0                 236                0                2    1.110000000   \n",
       "1                 255                0                1    4.470000000   \n",
       "2                  90                0                1    0.730000000   \n",
       "3                 246                0                1    1.600000000   \n",
       "4                 142                0                1    0.500000000   \n",
       "\n",
       "    fare_amount  ...   tip_amount  tolls_amount  imp_surcharge  total_amount  \\\n",
       "0   8.000000000  ...         0E-9          0E-9    0.300000000   8.800000000   \n",
       "1  22.500000000  ...  1.000000000          0E-9    0.300000000  24.800000000   \n",
       "2   5.500000000  ...         0E-9          0E-9    0.300000000   6.800000000   \n",
       "3  10.500000000  ...         0E-9          0E-9           0E-9  12.300000000   \n",
       "4   5.000000000  ...         0E-9          0E-9    0.300000000   5.800000000   \n",
       "\n",
       "   trip_duration_seconds            pickup_datetime  \\\n",
       "0                    597  2017-09-05 14:02:31+00:00   \n",
       "1                   1839  2017-01-26 21:37:20+00:00   \n",
       "2                    388  2017-03-11 00:04:09+00:00   \n",
       "3                    870  2017-12-15 19:25:32+00:00   \n",
       "4                    280  2017-06-28 11:03:23+00:00   \n",
       "\n",
       "            dropoff_datetime has_tip                               trip_id  \\\n",
       "0  2017-09-05 14:12:28+00:00       0  b1b52437-2899-4a4c-af46-50d1f3b09afa   \n",
       "1  2017-01-26 22:07:59+00:00       1  56f0ffdd-2103-476a-88ea-6d0971edc769   \n",
       "2  2017-03-11 00:10:37+00:00       0  02aadd19-abc3-448b-bb3a-78f8df354be5   \n",
       "3  2017-12-15 19:40:02+00:00       0  970ebf37-dc52-4319-a588-1226080645ff   \n",
       "4  2017-06-28 11:08:03+00:00       0  247df1ed-cd2d-4fa9-88a0-e98dff7a3132   \n",
       "\n",
       "   splits  \n",
       "0    <NA>  \n",
       "1    <NA>  \n",
       "2    <NA>  \n",
       "3    <NA>  \n",
       "4    <NA>  \n",
       "\n",
       "[5 rows x 22 columns]"
      ]
     },
     "execution_count": 16,
     "metadata": {},
     "output_type": "execute_result"
    }
   ],
   "source": [
    "source_data_prepared = bpd.read_gbq(f\"{BQ_PROJECT}.{BQ_DATASET}.{BQ_TABLE}\", use_cache = False)\n",
    "source_data_prepared.head()"
   ]
  },
  {
   "cell_type": "markdown",
   "id": "1d336a83",
   "metadata": {},
   "source": [
    "### Review the number of records for each level of `Class` for each of the data splits:"
   ]
  },
  {
   "cell_type": "code",
   "execution_count": 17,
   "id": "7ec69dcb",
   "metadata": {},
   "outputs": [
    {
     "data": {
      "text/html": [
       "<div>\n",
       "<style scoped>\n",
       "    .dataframe tbody tr th:only-of-type {\n",
       "        vertical-align: middle;\n",
       "    }\n",
       "\n",
       "    .dataframe tbody tr th {\n",
       "        vertical-align: top;\n",
       "    }\n",
       "\n",
       "    .dataframe thead th {\n",
       "        text-align: right;\n",
       "    }\n",
       "</style>\n",
       "<table border=\"1\" class=\"dataframe\">\n",
       "  <thead>\n",
       "    <tr style=\"text-align: right;\">\n",
       "      <th></th>\n",
       "      <th>splits</th>\n",
       "      <th>has_tip</th>\n",
       "      <th>count</th>\n",
       "      <th>percentage</th>\n",
       "    </tr>\n",
       "  </thead>\n",
       "  <tbody>\n",
       "    <tr>\n",
       "      <th>0</th>\n",
       "      <td>None</td>\n",
       "      <td>0</td>\n",
       "      <td>39970310</td>\n",
       "      <td>99.3</td>\n",
       "    </tr>\n",
       "    <tr>\n",
       "      <th>1</th>\n",
       "      <td>TEST</td>\n",
       "      <td>0</td>\n",
       "      <td>40252</td>\n",
       "      <td>0.1</td>\n",
       "    </tr>\n",
       "    <tr>\n",
       "      <th>2</th>\n",
       "      <td>TRAIN</td>\n",
       "      <td>0</td>\n",
       "      <td>201260</td>\n",
       "      <td>0.5</td>\n",
       "    </tr>\n",
       "    <tr>\n",
       "      <th>3</th>\n",
       "      <td>VALIDATE</td>\n",
       "      <td>0</td>\n",
       "      <td>40252</td>\n",
       "      <td>0.1</td>\n",
       "    </tr>\n",
       "    <tr>\n",
       "      <th>4</th>\n",
       "      <td>None</td>\n",
       "      <td>1</td>\n",
       "      <td>72382025</td>\n",
       "      <td>99.3</td>\n",
       "    </tr>\n",
       "    <tr>\n",
       "      <th>5</th>\n",
       "      <td>TEST</td>\n",
       "      <td>1</td>\n",
       "      <td>72892</td>\n",
       "      <td>0.1</td>\n",
       "    </tr>\n",
       "    <tr>\n",
       "      <th>6</th>\n",
       "      <td>TRAIN</td>\n",
       "      <td>1</td>\n",
       "      <td>364461</td>\n",
       "      <td>0.5</td>\n",
       "    </tr>\n",
       "    <tr>\n",
       "      <th>7</th>\n",
       "      <td>VALIDATE</td>\n",
       "      <td>1</td>\n",
       "      <td>72892</td>\n",
       "      <td>0.1</td>\n",
       "    </tr>\n",
       "  </tbody>\n",
       "</table>\n",
       "</div>"
      ],
      "text/plain": [
       "     splits  has_tip     count  percentage\n",
       "0      None        0  39970310        99.3\n",
       "1      TEST        0     40252         0.1\n",
       "2     TRAIN        0    201260         0.5\n",
       "3  VALIDATE        0     40252         0.1\n",
       "4      None        1  72382025        99.3\n",
       "5      TEST        1     72892         0.1\n",
       "6     TRAIN        1    364461         0.5\n",
       "7  VALIDATE        1     72892         0.1"
      ]
     },
     "execution_count": 17,
     "metadata": {},
     "output_type": "execute_result"
    }
   ],
   "source": [
    "bq.query(f\"\"\"\n",
    "SELECT splits, has_tip,\n",
    "    count(*) as count,\n",
    "    ROUND(count(*) * 100.0 / SUM(count(*)) OVER (PARTITION BY has_tip), 2) AS percentage\n",
    "FROM `{BQ_PROJECT}.{BQ_DATASET}.{BQ_TABLE}`\n",
    "GROUP BY splits, has_tip\n",
    "ORDER BY has_tip, splits\n",
    "\"\"\").to_dataframe()"
   ]
  },
  {
   "cell_type": "markdown",
   "id": "46b25de8",
   "metadata": {},
   "source": [
    "### Further Data Preparation\n",
    "\n"
   ]
  },
  {
   "cell_type": "markdown",
   "id": "752b26a2",
   "metadata": {},
   "source": [
    "#### Rows Assigned To A Split (TRAIN, TEST, VALIDATE)\n",
    "\n",
    "Avoid the unsampled rows where `splits = Null`:"
   ]
  },
  {
   "cell_type": "code",
   "execution_count": 18,
   "id": "d96c89e0",
   "metadata": {},
   "outputs": [],
   "source": [
    "# only use rows assigned to a split:\n",
    "source_data_prepared_filtered = source_data_prepared[source_data_prepared['splits'].notna()]"
   ]
  },
  {
   "cell_type": "markdown",
   "id": "3745d0de",
   "metadata": {},
   "source": [
    "#### Group Columns By Type"
   ]
  },
  {
   "cell_type": "code",
   "execution_count": 19,
   "id": "b0e1a8cb",
   "metadata": {},
   "outputs": [],
   "source": [
    "# Numerical columns\n",
    "numerical_cols = [\n",
    "    'trip_duration_seconds',\n",
    "    'passenger_count',\n",
    "    'trip_distance',\n",
    "    'fare_amount',\n",
    "    'extra',\n",
    "    'mta_tax',\n",
    "    'tolls_amount',\n",
    "    'imp_surcharge',\n",
    "    'total_amount'\n",
    "]\n",
    "\n",
    "# Categorical columns\n",
    "categorical_cols = [\n",
    "    'vendor_id',\n",
    "    'rate_code',\n",
    "    'payment_type',\n",
    "    'store_and_fwd_flag',\n",
    "    'pickup_location_id',\n",
    "    'dropoff_location_id',\n",
    "    'has_airport_fee'\n",
    "]\n",
    "\n",
    "target_col = 'has_tip'\n",
    "split_col = 'splits'\n",
    "id_col = 'trip_id' # Keep id for later lookup if needed, but not as a feature\n",
    "datetime_cols = ['pickup_datetime', 'dropoff_datetime'] # Keep these if you want to derive more features in BigFrames\n"
   ]
  },
  {
   "cell_type": "markdown",
   "id": "25c8adf8",
   "metadata": {},
   "source": [
    "#### Check For Columns With NaNs"
   ]
  },
  {
   "cell_type": "code",
   "execution_count": 20,
   "id": "d0fd3ae8",
   "metadata": {},
   "outputs": [
    {
     "data": {
      "text/html": [
       "Query job e3793d23-43dd-41bb-bb39-ef84cbeea61d is DONE. 18.7 GB processed. <a target=\"_blank\" href=\"https://console.cloud.google.com/bigquery?project=statmike-mlops-349915&j=bq:US:e3793d23-43dd-41bb-bb39-ef84cbeea61d&page=queryresults\">Open Job</a>"
      ],
      "text/plain": [
       "<IPython.core.display.HTML object>"
      ]
     },
     "metadata": {},
     "output_type": "display_data"
    },
    {
     "data": {
      "text/html": [
       "Query job 686efe46-e9c6-4808-99f2-2019dbc2f372 is DONE. 522 Bytes processed. <a target=\"_blank\" href=\"https://console.cloud.google.com/bigquery?project=statmike-mlops-349915&j=bq:US:686efe46-e9c6-4808-99f2-2019dbc2f372&page=queryresults\">Open Job</a>"
      ],
      "text/plain": [
       "<IPython.core.display.HTML object>"
      ]
     },
     "metadata": {},
     "output_type": "display_data"
    },
    {
     "data": {
      "text/plain": [
       "trip_duration_seconds    0\n",
       "passenger_count          0\n",
       "trip_distance            0\n",
       "fare_amount              0\n",
       "extra                    0\n",
       "mta_tax                  0\n",
       "tolls_amount             0\n",
       "imp_surcharge            0\n",
       "total_amount             0\n",
       "vendor_id                0\n",
       "rate_code                0\n",
       "payment_type             0\n",
       "store_and_fwd_flag       0\n",
       "pickup_location_id       0\n",
       "dropoff_location_id      0\n",
       "has_airport_fee          0\n",
       "has_tip                  0\n",
       "dtype: Int64"
      ]
     },
     "execution_count": 20,
     "metadata": {},
     "output_type": "execute_result"
    }
   ],
   "source": [
    "source_data_prepared_filtered[numerical_cols + categorical_cols + [target_col]].isna().sum()"
   ]
  },
  {
   "cell_type": "markdown",
   "id": "00ea9f61",
   "metadata": {},
   "source": [
    "#### Setup Pointers For Training"
   ]
  },
  {
   "cell_type": "code",
   "execution_count": 21,
   "id": "edc741ed",
   "metadata": {},
   "outputs": [
    {
     "name": "stdout",
     "output_type": "stream",
     "text": [
      "There are 792009 training rows for 16 raw features.\n",
      "Confirming the rows for splits and the label are 792009 and 792009 respectively.\n"
     ]
    }
   ],
   "source": [
    "X_frame = source_data_prepared_filtered[numerical_cols + categorical_cols]\n",
    "y_frame = source_data_prepared_filtered[target_col]\n",
    "splits_frame = source_data_prepared_filtered[split_col]\n",
    "\n",
    "print(f\"There are {X_frame.shape[0]} training rows for {X_frame.shape[1]} raw features.\")\n",
    "print(f\"Confirming the rows for splits and the label are {splits_frame.shape[0]} and {y_frame.shape[0]} respectively.\")"
   ]
  },
  {
   "cell_type": "markdown",
   "id": "e6853089",
   "metadata": {},
   "source": [
    "---\n",
    "## Train With Scikit-Learn"
   ]
  },
  {
   "cell_type": "markdown",
   "id": "a327f415",
   "metadata": {},
   "source": [
    "### Local Dataframes\n",
    "\n",
    "Convert the Bigframes pointers to Pandas dataframes for the training objects:"
   ]
  },
  {
   "cell_type": "code",
   "execution_count": 22,
   "id": "c6adb6a6",
   "metadata": {},
   "outputs": [],
   "source": [
    "X_train = X_frame[splits_frame == 'TRAIN'].to_pandas()\n",
    "X_val = X_frame[splits_frame == 'VALIDATE'].to_pandas()\n",
    "X_test = X_frame[splits_frame == 'TEST'].to_pandas()\n",
    "\n",
    "y_train = y_frame[splits_frame == 'TRAIN'].to_pandas()\n",
    "y_val = y_frame[splits_frame == 'VALIDATE'].to_pandas()\n",
    "y_test = y_frame[splits_frame == 'TEST'].to_pandas()"
   ]
  },
  {
   "cell_type": "code",
   "execution_count": 23,
   "id": "06d581ba",
   "metadata": {},
   "outputs": [
    {
     "data": {
      "text/plain": [
       "((565721, 16), (565721,))"
      ]
     },
     "execution_count": 23,
     "metadata": {},
     "output_type": "execute_result"
    }
   ],
   "source": [
    "X_train.shape, y_train.shape"
   ]
  },
  {
   "cell_type": "markdown",
   "id": "554faecc",
   "metadata": {},
   "source": [
    "### Define A Preprocessor\n",
    "\n",
    "Create a Scikit-Learn preprocessor that standardizes numeric variables and one-hot encodes categorical variables:"
   ]
  },
  {
   "cell_type": "code",
   "execution_count": 24,
   "id": "b4c3f965",
   "metadata": {},
   "outputs": [],
   "source": [
    "preprocessor = sklearn.compose.ColumnTransformer(\n",
    "    transformers=[\n",
    "        # Apply StandardScaler to numerical columns\n",
    "        ('num', sklearn.preprocessing.StandardScaler(), numerical_cols),\n",
    "        # Apply OneHotEncoder to categorical columns\n",
    "        ('cat', sklearn.preprocessing.OneHotEncoder(handle_unknown = 'ignore', sparse_output = False), categorical_cols)\n",
    "    ],\n",
    "    remainder = 'passthrough' # Keep any other columns not explicitly listed (if any) as they are\n",
    ")"
   ]
  },
  {
   "cell_type": "markdown",
   "id": "37500b75",
   "metadata": {},
   "source": [
    "### Define A Model Pipeline: Proprocessor + Model\n",
    "\n",
    "Combine the preprocessor with the model type in a pipeline:"
   ]
  },
  {
   "cell_type": "code",
   "execution_count": 25,
   "id": "c3983666",
   "metadata": {},
   "outputs": [],
   "source": [
    "model_pipeline = sklearn.pipeline.Pipeline(\n",
    "    steps = [\n",
    "        ('preprocessor', preprocessor),\n",
    "        ('classifier', sklearn.ensemble.GradientBoostingClassifier(\n",
    "            n_estimators=100,    # You can tune this\n",
    "            learning_rate=0.1,   # You can tune this\n",
    "            max_depth=3,         # Crucial for size and speed with GBTs\n",
    "            random_state=42      # For reproducibility\n",
    "        ))\n",
    "    ]\n",
    ")"
   ]
  },
  {
   "cell_type": "markdown",
   "id": "07af1bc1",
   "metadata": {},
   "source": [
    "### Train/Fit The Model\n",
    "\n",
    "Use the training data to train the model using the pipeline:"
   ]
  },
  {
   "cell_type": "code",
   "execution_count": 26,
   "id": "0f78fefd",
   "metadata": {},
   "outputs": [
    {
     "data": {
      "text/html": [
       "<style>#sk-container-id-1 {\n",
       "  /* Definition of color scheme common for light and dark mode */\n",
       "  --sklearn-color-text: #000;\n",
       "  --sklearn-color-text-muted: #666;\n",
       "  --sklearn-color-line: gray;\n",
       "  /* Definition of color scheme for unfitted estimators */\n",
       "  --sklearn-color-unfitted-level-0: #fff5e6;\n",
       "  --sklearn-color-unfitted-level-1: #f6e4d2;\n",
       "  --sklearn-color-unfitted-level-2: #ffe0b3;\n",
       "  --sklearn-color-unfitted-level-3: chocolate;\n",
       "  /* Definition of color scheme for fitted estimators */\n",
       "  --sklearn-color-fitted-level-0: #f0f8ff;\n",
       "  --sklearn-color-fitted-level-1: #d4ebff;\n",
       "  --sklearn-color-fitted-level-2: #b3dbfd;\n",
       "  --sklearn-color-fitted-level-3: cornflowerblue;\n",
       "\n",
       "  /* Specific color for light theme */\n",
       "  --sklearn-color-text-on-default-background: var(--sg-text-color, var(--theme-code-foreground, var(--jp-content-font-color1, black)));\n",
       "  --sklearn-color-background: var(--sg-background-color, var(--theme-background, var(--jp-layout-color0, white)));\n",
       "  --sklearn-color-border-box: var(--sg-text-color, var(--theme-code-foreground, var(--jp-content-font-color1, black)));\n",
       "  --sklearn-color-icon: #696969;\n",
       "\n",
       "  @media (prefers-color-scheme: dark) {\n",
       "    /* Redefinition of color scheme for dark theme */\n",
       "    --sklearn-color-text-on-default-background: var(--sg-text-color, var(--theme-code-foreground, var(--jp-content-font-color1, white)));\n",
       "    --sklearn-color-background: var(--sg-background-color, var(--theme-background, var(--jp-layout-color0, #111)));\n",
       "    --sklearn-color-border-box: var(--sg-text-color, var(--theme-code-foreground, var(--jp-content-font-color1, white)));\n",
       "    --sklearn-color-icon: #878787;\n",
       "  }\n",
       "}\n",
       "\n",
       "#sk-container-id-1 {\n",
       "  color: var(--sklearn-color-text);\n",
       "}\n",
       "\n",
       "#sk-container-id-1 pre {\n",
       "  padding: 0;\n",
       "}\n",
       "\n",
       "#sk-container-id-1 input.sk-hidden--visually {\n",
       "  border: 0;\n",
       "  clip: rect(1px 1px 1px 1px);\n",
       "  clip: rect(1px, 1px, 1px, 1px);\n",
       "  height: 1px;\n",
       "  margin: -1px;\n",
       "  overflow: hidden;\n",
       "  padding: 0;\n",
       "  position: absolute;\n",
       "  width: 1px;\n",
       "}\n",
       "\n",
       "#sk-container-id-1 div.sk-dashed-wrapped {\n",
       "  border: 1px dashed var(--sklearn-color-line);\n",
       "  margin: 0 0.4em 0.5em 0.4em;\n",
       "  box-sizing: border-box;\n",
       "  padding-bottom: 0.4em;\n",
       "  background-color: var(--sklearn-color-background);\n",
       "}\n",
       "\n",
       "#sk-container-id-1 div.sk-container {\n",
       "  /* jupyter's `normalize.less` sets `[hidden] { display: none; }`\n",
       "     but bootstrap.min.css set `[hidden] { display: none !important; }`\n",
       "     so we also need the `!important` here to be able to override the\n",
       "     default hidden behavior on the sphinx rendered scikit-learn.org.\n",
       "     See: https://github.com/scikit-learn/scikit-learn/issues/21755 */\n",
       "  display: inline-block !important;\n",
       "  position: relative;\n",
       "}\n",
       "\n",
       "#sk-container-id-1 div.sk-text-repr-fallback {\n",
       "  display: none;\n",
       "}\n",
       "\n",
       "div.sk-parallel-item,\n",
       "div.sk-serial,\n",
       "div.sk-item {\n",
       "  /* draw centered vertical line to link estimators */\n",
       "  background-image: linear-gradient(var(--sklearn-color-text-on-default-background), var(--sklearn-color-text-on-default-background));\n",
       "  background-size: 2px 100%;\n",
       "  background-repeat: no-repeat;\n",
       "  background-position: center center;\n",
       "}\n",
       "\n",
       "/* Parallel-specific style estimator block */\n",
       "\n",
       "#sk-container-id-1 div.sk-parallel-item::after {\n",
       "  content: \"\";\n",
       "  width: 100%;\n",
       "  border-bottom: 2px solid var(--sklearn-color-text-on-default-background);\n",
       "  flex-grow: 1;\n",
       "}\n",
       "\n",
       "#sk-container-id-1 div.sk-parallel {\n",
       "  display: flex;\n",
       "  align-items: stretch;\n",
       "  justify-content: center;\n",
       "  background-color: var(--sklearn-color-background);\n",
       "  position: relative;\n",
       "}\n",
       "\n",
       "#sk-container-id-1 div.sk-parallel-item {\n",
       "  display: flex;\n",
       "  flex-direction: column;\n",
       "}\n",
       "\n",
       "#sk-container-id-1 div.sk-parallel-item:first-child::after {\n",
       "  align-self: flex-end;\n",
       "  width: 50%;\n",
       "}\n",
       "\n",
       "#sk-container-id-1 div.sk-parallel-item:last-child::after {\n",
       "  align-self: flex-start;\n",
       "  width: 50%;\n",
       "}\n",
       "\n",
       "#sk-container-id-1 div.sk-parallel-item:only-child::after {\n",
       "  width: 0;\n",
       "}\n",
       "\n",
       "/* Serial-specific style estimator block */\n",
       "\n",
       "#sk-container-id-1 div.sk-serial {\n",
       "  display: flex;\n",
       "  flex-direction: column;\n",
       "  align-items: center;\n",
       "  background-color: var(--sklearn-color-background);\n",
       "  padding-right: 1em;\n",
       "  padding-left: 1em;\n",
       "}\n",
       "\n",
       "\n",
       "/* Toggleable style: style used for estimator/Pipeline/ColumnTransformer box that is\n",
       "clickable and can be expanded/collapsed.\n",
       "- Pipeline and ColumnTransformer use this feature and define the default style\n",
       "- Estimators will overwrite some part of the style using the `sk-estimator` class\n",
       "*/\n",
       "\n",
       "/* Pipeline and ColumnTransformer style (default) */\n",
       "\n",
       "#sk-container-id-1 div.sk-toggleable {\n",
       "  /* Default theme specific background. It is overwritten whether we have a\n",
       "  specific estimator or a Pipeline/ColumnTransformer */\n",
       "  background-color: var(--sklearn-color-background);\n",
       "}\n",
       "\n",
       "/* Toggleable label */\n",
       "#sk-container-id-1 label.sk-toggleable__label {\n",
       "  cursor: pointer;\n",
       "  display: flex;\n",
       "  width: 100%;\n",
       "  margin-bottom: 0;\n",
       "  padding: 0.5em;\n",
       "  box-sizing: border-box;\n",
       "  text-align: center;\n",
       "  align-items: start;\n",
       "  justify-content: space-between;\n",
       "  gap: 0.5em;\n",
       "}\n",
       "\n",
       "#sk-container-id-1 label.sk-toggleable__label .caption {\n",
       "  font-size: 0.6rem;\n",
       "  font-weight: lighter;\n",
       "  color: var(--sklearn-color-text-muted);\n",
       "}\n",
       "\n",
       "#sk-container-id-1 label.sk-toggleable__label-arrow:before {\n",
       "  /* Arrow on the left of the label */\n",
       "  content: \"▸\";\n",
       "  float: left;\n",
       "  margin-right: 0.25em;\n",
       "  color: var(--sklearn-color-icon);\n",
       "}\n",
       "\n",
       "#sk-container-id-1 label.sk-toggleable__label-arrow:hover:before {\n",
       "  color: var(--sklearn-color-text);\n",
       "}\n",
       "\n",
       "/* Toggleable content - dropdown */\n",
       "\n",
       "#sk-container-id-1 div.sk-toggleable__content {\n",
       "  max-height: 0;\n",
       "  max-width: 0;\n",
       "  overflow: hidden;\n",
       "  text-align: left;\n",
       "  /* unfitted */\n",
       "  background-color: var(--sklearn-color-unfitted-level-0);\n",
       "}\n",
       "\n",
       "#sk-container-id-1 div.sk-toggleable__content.fitted {\n",
       "  /* fitted */\n",
       "  background-color: var(--sklearn-color-fitted-level-0);\n",
       "}\n",
       "\n",
       "#sk-container-id-1 div.sk-toggleable__content pre {\n",
       "  margin: 0.2em;\n",
       "  border-radius: 0.25em;\n",
       "  color: var(--sklearn-color-text);\n",
       "  /* unfitted */\n",
       "  background-color: var(--sklearn-color-unfitted-level-0);\n",
       "}\n",
       "\n",
       "#sk-container-id-1 div.sk-toggleable__content.fitted pre {\n",
       "  /* unfitted */\n",
       "  background-color: var(--sklearn-color-fitted-level-0);\n",
       "}\n",
       "\n",
       "#sk-container-id-1 input.sk-toggleable__control:checked~div.sk-toggleable__content {\n",
       "  /* Expand drop-down */\n",
       "  max-height: 200px;\n",
       "  max-width: 100%;\n",
       "  overflow: auto;\n",
       "}\n",
       "\n",
       "#sk-container-id-1 input.sk-toggleable__control:checked~label.sk-toggleable__label-arrow:before {\n",
       "  content: \"▾\";\n",
       "}\n",
       "\n",
       "/* Pipeline/ColumnTransformer-specific style */\n",
       "\n",
       "#sk-container-id-1 div.sk-label input.sk-toggleable__control:checked~label.sk-toggleable__label {\n",
       "  color: var(--sklearn-color-text);\n",
       "  background-color: var(--sklearn-color-unfitted-level-2);\n",
       "}\n",
       "\n",
       "#sk-container-id-1 div.sk-label.fitted input.sk-toggleable__control:checked~label.sk-toggleable__label {\n",
       "  background-color: var(--sklearn-color-fitted-level-2);\n",
       "}\n",
       "\n",
       "/* Estimator-specific style */\n",
       "\n",
       "/* Colorize estimator box */\n",
       "#sk-container-id-1 div.sk-estimator input.sk-toggleable__control:checked~label.sk-toggleable__label {\n",
       "  /* unfitted */\n",
       "  background-color: var(--sklearn-color-unfitted-level-2);\n",
       "}\n",
       "\n",
       "#sk-container-id-1 div.sk-estimator.fitted input.sk-toggleable__control:checked~label.sk-toggleable__label {\n",
       "  /* fitted */\n",
       "  background-color: var(--sklearn-color-fitted-level-2);\n",
       "}\n",
       "\n",
       "#sk-container-id-1 div.sk-label label.sk-toggleable__label,\n",
       "#sk-container-id-1 div.sk-label label {\n",
       "  /* The background is the default theme color */\n",
       "  color: var(--sklearn-color-text-on-default-background);\n",
       "}\n",
       "\n",
       "/* On hover, darken the color of the background */\n",
       "#sk-container-id-1 div.sk-label:hover label.sk-toggleable__label {\n",
       "  color: var(--sklearn-color-text);\n",
       "  background-color: var(--sklearn-color-unfitted-level-2);\n",
       "}\n",
       "\n",
       "/* Label box, darken color on hover, fitted */\n",
       "#sk-container-id-1 div.sk-label.fitted:hover label.sk-toggleable__label.fitted {\n",
       "  color: var(--sklearn-color-text);\n",
       "  background-color: var(--sklearn-color-fitted-level-2);\n",
       "}\n",
       "\n",
       "/* Estimator label */\n",
       "\n",
       "#sk-container-id-1 div.sk-label label {\n",
       "  font-family: monospace;\n",
       "  font-weight: bold;\n",
       "  display: inline-block;\n",
       "  line-height: 1.2em;\n",
       "}\n",
       "\n",
       "#sk-container-id-1 div.sk-label-container {\n",
       "  text-align: center;\n",
       "}\n",
       "\n",
       "/* Estimator-specific */\n",
       "#sk-container-id-1 div.sk-estimator {\n",
       "  font-family: monospace;\n",
       "  border: 1px dotted var(--sklearn-color-border-box);\n",
       "  border-radius: 0.25em;\n",
       "  box-sizing: border-box;\n",
       "  margin-bottom: 0.5em;\n",
       "  /* unfitted */\n",
       "  background-color: var(--sklearn-color-unfitted-level-0);\n",
       "}\n",
       "\n",
       "#sk-container-id-1 div.sk-estimator.fitted {\n",
       "  /* fitted */\n",
       "  background-color: var(--sklearn-color-fitted-level-0);\n",
       "}\n",
       "\n",
       "/* on hover */\n",
       "#sk-container-id-1 div.sk-estimator:hover {\n",
       "  /* unfitted */\n",
       "  background-color: var(--sklearn-color-unfitted-level-2);\n",
       "}\n",
       "\n",
       "#sk-container-id-1 div.sk-estimator.fitted:hover {\n",
       "  /* fitted */\n",
       "  background-color: var(--sklearn-color-fitted-level-2);\n",
       "}\n",
       "\n",
       "/* Specification for estimator info (e.g. \"i\" and \"?\") */\n",
       "\n",
       "/* Common style for \"i\" and \"?\" */\n",
       "\n",
       ".sk-estimator-doc-link,\n",
       "a:link.sk-estimator-doc-link,\n",
       "a:visited.sk-estimator-doc-link {\n",
       "  float: right;\n",
       "  font-size: smaller;\n",
       "  line-height: 1em;\n",
       "  font-family: monospace;\n",
       "  background-color: var(--sklearn-color-background);\n",
       "  border-radius: 1em;\n",
       "  height: 1em;\n",
       "  width: 1em;\n",
       "  text-decoration: none !important;\n",
       "  margin-left: 0.5em;\n",
       "  text-align: center;\n",
       "  /* unfitted */\n",
       "  border: var(--sklearn-color-unfitted-level-1) 1pt solid;\n",
       "  color: var(--sklearn-color-unfitted-level-1);\n",
       "}\n",
       "\n",
       ".sk-estimator-doc-link.fitted,\n",
       "a:link.sk-estimator-doc-link.fitted,\n",
       "a:visited.sk-estimator-doc-link.fitted {\n",
       "  /* fitted */\n",
       "  border: var(--sklearn-color-fitted-level-1) 1pt solid;\n",
       "  color: var(--sklearn-color-fitted-level-1);\n",
       "}\n",
       "\n",
       "/* On hover */\n",
       "div.sk-estimator:hover .sk-estimator-doc-link:hover,\n",
       ".sk-estimator-doc-link:hover,\n",
       "div.sk-label-container:hover .sk-estimator-doc-link:hover,\n",
       ".sk-estimator-doc-link:hover {\n",
       "  /* unfitted */\n",
       "  background-color: var(--sklearn-color-unfitted-level-3);\n",
       "  color: var(--sklearn-color-background);\n",
       "  text-decoration: none;\n",
       "}\n",
       "\n",
       "div.sk-estimator.fitted:hover .sk-estimator-doc-link.fitted:hover,\n",
       ".sk-estimator-doc-link.fitted:hover,\n",
       "div.sk-label-container:hover .sk-estimator-doc-link.fitted:hover,\n",
       ".sk-estimator-doc-link.fitted:hover {\n",
       "  /* fitted */\n",
       "  background-color: var(--sklearn-color-fitted-level-3);\n",
       "  color: var(--sklearn-color-background);\n",
       "  text-decoration: none;\n",
       "}\n",
       "\n",
       "/* Span, style for the box shown on hovering the info icon */\n",
       ".sk-estimator-doc-link span {\n",
       "  display: none;\n",
       "  z-index: 9999;\n",
       "  position: relative;\n",
       "  font-weight: normal;\n",
       "  right: .2ex;\n",
       "  padding: .5ex;\n",
       "  margin: .5ex;\n",
       "  width: min-content;\n",
       "  min-width: 20ex;\n",
       "  max-width: 50ex;\n",
       "  color: var(--sklearn-color-text);\n",
       "  box-shadow: 2pt 2pt 4pt #999;\n",
       "  /* unfitted */\n",
       "  background: var(--sklearn-color-unfitted-level-0);\n",
       "  border: .5pt solid var(--sklearn-color-unfitted-level-3);\n",
       "}\n",
       "\n",
       ".sk-estimator-doc-link.fitted span {\n",
       "  /* fitted */\n",
       "  background: var(--sklearn-color-fitted-level-0);\n",
       "  border: var(--sklearn-color-fitted-level-3);\n",
       "}\n",
       "\n",
       ".sk-estimator-doc-link:hover span {\n",
       "  display: block;\n",
       "}\n",
       "\n",
       "/* \"?\"-specific style due to the `<a>` HTML tag */\n",
       "\n",
       "#sk-container-id-1 a.estimator_doc_link {\n",
       "  float: right;\n",
       "  font-size: 1rem;\n",
       "  line-height: 1em;\n",
       "  font-family: monospace;\n",
       "  background-color: var(--sklearn-color-background);\n",
       "  border-radius: 1rem;\n",
       "  height: 1rem;\n",
       "  width: 1rem;\n",
       "  text-decoration: none;\n",
       "  /* unfitted */\n",
       "  color: var(--sklearn-color-unfitted-level-1);\n",
       "  border: var(--sklearn-color-unfitted-level-1) 1pt solid;\n",
       "}\n",
       "\n",
       "#sk-container-id-1 a.estimator_doc_link.fitted {\n",
       "  /* fitted */\n",
       "  border: var(--sklearn-color-fitted-level-1) 1pt solid;\n",
       "  color: var(--sklearn-color-fitted-level-1);\n",
       "}\n",
       "\n",
       "/* On hover */\n",
       "#sk-container-id-1 a.estimator_doc_link:hover {\n",
       "  /* unfitted */\n",
       "  background-color: var(--sklearn-color-unfitted-level-3);\n",
       "  color: var(--sklearn-color-background);\n",
       "  text-decoration: none;\n",
       "}\n",
       "\n",
       "#sk-container-id-1 a.estimator_doc_link.fitted:hover {\n",
       "  /* fitted */\n",
       "  background-color: var(--sklearn-color-fitted-level-3);\n",
       "}\n",
       "</style><div id=\"sk-container-id-1\" class=\"sk-top-container\"><div class=\"sk-text-repr-fallback\"><pre>Pipeline(steps=[(&#x27;preprocessor&#x27;,\n",
       "                 ColumnTransformer(remainder=&#x27;passthrough&#x27;,\n",
       "                                   transformers=[(&#x27;num&#x27;, StandardScaler(),\n",
       "                                                  [&#x27;trip_duration_seconds&#x27;,\n",
       "                                                   &#x27;passenger_count&#x27;,\n",
       "                                                   &#x27;trip_distance&#x27;,\n",
       "                                                   &#x27;fare_amount&#x27;, &#x27;extra&#x27;,\n",
       "                                                   &#x27;mta_tax&#x27;, &#x27;tolls_amount&#x27;,\n",
       "                                                   &#x27;imp_surcharge&#x27;,\n",
       "                                                   &#x27;total_amount&#x27;]),\n",
       "                                                 (&#x27;cat&#x27;,\n",
       "                                                  OneHotEncoder(handle_unknown=&#x27;ignore&#x27;,\n",
       "                                                                sparse_output=False),\n",
       "                                                  [&#x27;vendor_id&#x27;, &#x27;rate_code&#x27;,\n",
       "                                                   &#x27;payment_type&#x27;,\n",
       "                                                   &#x27;store_and_fwd_flag&#x27;,\n",
       "                                                   &#x27;pickup_location_id&#x27;,\n",
       "                                                   &#x27;dropoff_location_id&#x27;,\n",
       "                                                   &#x27;has_airport_fee&#x27;])])),\n",
       "                (&#x27;classifier&#x27;, GradientBoostingClassifier(random_state=42))])</pre><b>In a Jupyter environment, please rerun this cell to show the HTML representation or trust the notebook. <br />On GitHub, the HTML representation is unable to render, please try loading this page with nbviewer.org.</b></div><div class=\"sk-container\" hidden><div class=\"sk-item sk-dashed-wrapped\"><div class=\"sk-label-container\"><div class=\"sk-label fitted sk-toggleable\"><input class=\"sk-toggleable__control sk-hidden--visually\" id=\"sk-estimator-id-1\" type=\"checkbox\" ><label for=\"sk-estimator-id-1\" class=\"sk-toggleable__label fitted sk-toggleable__label-arrow\"><div><div>Pipeline</div></div><div><a class=\"sk-estimator-doc-link fitted\" rel=\"noreferrer\" target=\"_blank\" href=\"https://scikit-learn.org/1.6/modules/generated/sklearn.pipeline.Pipeline.html\">?<span>Documentation for Pipeline</span></a><span class=\"sk-estimator-doc-link fitted\">i<span>Fitted</span></span></div></label><div class=\"sk-toggleable__content fitted\"><pre>Pipeline(steps=[(&#x27;preprocessor&#x27;,\n",
       "                 ColumnTransformer(remainder=&#x27;passthrough&#x27;,\n",
       "                                   transformers=[(&#x27;num&#x27;, StandardScaler(),\n",
       "                                                  [&#x27;trip_duration_seconds&#x27;,\n",
       "                                                   &#x27;passenger_count&#x27;,\n",
       "                                                   &#x27;trip_distance&#x27;,\n",
       "                                                   &#x27;fare_amount&#x27;, &#x27;extra&#x27;,\n",
       "                                                   &#x27;mta_tax&#x27;, &#x27;tolls_amount&#x27;,\n",
       "                                                   &#x27;imp_surcharge&#x27;,\n",
       "                                                   &#x27;total_amount&#x27;]),\n",
       "                                                 (&#x27;cat&#x27;,\n",
       "                                                  OneHotEncoder(handle_unknown=&#x27;ignore&#x27;,\n",
       "                                                                sparse_output=False),\n",
       "                                                  [&#x27;vendor_id&#x27;, &#x27;rate_code&#x27;,\n",
       "                                                   &#x27;payment_type&#x27;,\n",
       "                                                   &#x27;store_and_fwd_flag&#x27;,\n",
       "                                                   &#x27;pickup_location_id&#x27;,\n",
       "                                                   &#x27;dropoff_location_id&#x27;,\n",
       "                                                   &#x27;has_airport_fee&#x27;])])),\n",
       "                (&#x27;classifier&#x27;, GradientBoostingClassifier(random_state=42))])</pre></div> </div></div><div class=\"sk-serial\"><div class=\"sk-item sk-dashed-wrapped\"><div class=\"sk-label-container\"><div class=\"sk-label fitted sk-toggleable\"><input class=\"sk-toggleable__control sk-hidden--visually\" id=\"sk-estimator-id-2\" type=\"checkbox\" ><label for=\"sk-estimator-id-2\" class=\"sk-toggleable__label fitted sk-toggleable__label-arrow\"><div><div>preprocessor: ColumnTransformer</div></div><div><a class=\"sk-estimator-doc-link fitted\" rel=\"noreferrer\" target=\"_blank\" href=\"https://scikit-learn.org/1.6/modules/generated/sklearn.compose.ColumnTransformer.html\">?<span>Documentation for preprocessor: ColumnTransformer</span></a></div></label><div class=\"sk-toggleable__content fitted\"><pre>ColumnTransformer(remainder=&#x27;passthrough&#x27;,\n",
       "                  transformers=[(&#x27;num&#x27;, StandardScaler(),\n",
       "                                 [&#x27;trip_duration_seconds&#x27;, &#x27;passenger_count&#x27;,\n",
       "                                  &#x27;trip_distance&#x27;, &#x27;fare_amount&#x27;, &#x27;extra&#x27;,\n",
       "                                  &#x27;mta_tax&#x27;, &#x27;tolls_amount&#x27;, &#x27;imp_surcharge&#x27;,\n",
       "                                  &#x27;total_amount&#x27;]),\n",
       "                                (&#x27;cat&#x27;,\n",
       "                                 OneHotEncoder(handle_unknown=&#x27;ignore&#x27;,\n",
       "                                               sparse_output=False),\n",
       "                                 [&#x27;vendor_id&#x27;, &#x27;rate_code&#x27;, &#x27;payment_type&#x27;,\n",
       "                                  &#x27;store_and_fwd_flag&#x27;, &#x27;pickup_location_id&#x27;,\n",
       "                                  &#x27;dropoff_location_id&#x27;, &#x27;has_airport_fee&#x27;])])</pre></div> </div></div><div class=\"sk-parallel\"><div class=\"sk-parallel-item\"><div class=\"sk-item\"><div class=\"sk-label-container\"><div class=\"sk-label fitted sk-toggleable\"><input class=\"sk-toggleable__control sk-hidden--visually\" id=\"sk-estimator-id-3\" type=\"checkbox\" ><label for=\"sk-estimator-id-3\" class=\"sk-toggleable__label fitted sk-toggleable__label-arrow\"><div><div>num</div></div></label><div class=\"sk-toggleable__content fitted\"><pre>[&#x27;trip_duration_seconds&#x27;, &#x27;passenger_count&#x27;, &#x27;trip_distance&#x27;, &#x27;fare_amount&#x27;, &#x27;extra&#x27;, &#x27;mta_tax&#x27;, &#x27;tolls_amount&#x27;, &#x27;imp_surcharge&#x27;, &#x27;total_amount&#x27;]</pre></div> </div></div><div class=\"sk-serial\"><div class=\"sk-item\"><div class=\"sk-estimator fitted sk-toggleable\"><input class=\"sk-toggleable__control sk-hidden--visually\" id=\"sk-estimator-id-4\" type=\"checkbox\" ><label for=\"sk-estimator-id-4\" class=\"sk-toggleable__label fitted sk-toggleable__label-arrow\"><div><div>StandardScaler</div></div><div><a class=\"sk-estimator-doc-link fitted\" rel=\"noreferrer\" target=\"_blank\" href=\"https://scikit-learn.org/1.6/modules/generated/sklearn.preprocessing.StandardScaler.html\">?<span>Documentation for StandardScaler</span></a></div></label><div class=\"sk-toggleable__content fitted\"><pre>StandardScaler()</pre></div> </div></div></div></div></div><div class=\"sk-parallel-item\"><div class=\"sk-item\"><div class=\"sk-label-container\"><div class=\"sk-label fitted sk-toggleable\"><input class=\"sk-toggleable__control sk-hidden--visually\" id=\"sk-estimator-id-5\" type=\"checkbox\" ><label for=\"sk-estimator-id-5\" class=\"sk-toggleable__label fitted sk-toggleable__label-arrow\"><div><div>cat</div></div></label><div class=\"sk-toggleable__content fitted\"><pre>[&#x27;vendor_id&#x27;, &#x27;rate_code&#x27;, &#x27;payment_type&#x27;, &#x27;store_and_fwd_flag&#x27;, &#x27;pickup_location_id&#x27;, &#x27;dropoff_location_id&#x27;, &#x27;has_airport_fee&#x27;]</pre></div> </div></div><div class=\"sk-serial\"><div class=\"sk-item\"><div class=\"sk-estimator fitted sk-toggleable\"><input class=\"sk-toggleable__control sk-hidden--visually\" id=\"sk-estimator-id-6\" type=\"checkbox\" ><label for=\"sk-estimator-id-6\" class=\"sk-toggleable__label fitted sk-toggleable__label-arrow\"><div><div>OneHotEncoder</div></div><div><a class=\"sk-estimator-doc-link fitted\" rel=\"noreferrer\" target=\"_blank\" href=\"https://scikit-learn.org/1.6/modules/generated/sklearn.preprocessing.OneHotEncoder.html\">?<span>Documentation for OneHotEncoder</span></a></div></label><div class=\"sk-toggleable__content fitted\"><pre>OneHotEncoder(handle_unknown=&#x27;ignore&#x27;, sparse_output=False)</pre></div> </div></div></div></div></div><div class=\"sk-parallel-item\"><div class=\"sk-item\"><div class=\"sk-label-container\"><div class=\"sk-label fitted sk-toggleable\"><input class=\"sk-toggleable__control sk-hidden--visually\" id=\"sk-estimator-id-7\" type=\"checkbox\" ><label for=\"sk-estimator-id-7\" class=\"sk-toggleable__label fitted sk-toggleable__label-arrow\"><div><div>remainder</div></div></label><div class=\"sk-toggleable__content fitted\"><pre>[]</pre></div> </div></div><div class=\"sk-serial\"><div class=\"sk-item\"><div class=\"sk-estimator fitted sk-toggleable\"><input class=\"sk-toggleable__control sk-hidden--visually\" id=\"sk-estimator-id-8\" type=\"checkbox\" ><label for=\"sk-estimator-id-8\" class=\"sk-toggleable__label fitted sk-toggleable__label-arrow\"><div><div>passthrough</div></div></label><div class=\"sk-toggleable__content fitted\"><pre>passthrough</pre></div> </div></div></div></div></div></div></div><div class=\"sk-item\"><div class=\"sk-estimator fitted sk-toggleable\"><input class=\"sk-toggleable__control sk-hidden--visually\" id=\"sk-estimator-id-9\" type=\"checkbox\" ><label for=\"sk-estimator-id-9\" class=\"sk-toggleable__label fitted sk-toggleable__label-arrow\"><div><div>GradientBoostingClassifier</div></div><div><a class=\"sk-estimator-doc-link fitted\" rel=\"noreferrer\" target=\"_blank\" href=\"https://scikit-learn.org/1.6/modules/generated/sklearn.ensemble.GradientBoostingClassifier.html\">?<span>Documentation for GradientBoostingClassifier</span></a></div></label><div class=\"sk-toggleable__content fitted\"><pre>GradientBoostingClassifier(random_state=42)</pre></div> </div></div></div></div></div></div>"
      ],
      "text/plain": [
       "Pipeline(steps=[('preprocessor',\n",
       "                 ColumnTransformer(remainder='passthrough',\n",
       "                                   transformers=[('num', StandardScaler(),\n",
       "                                                  ['trip_duration_seconds',\n",
       "                                                   'passenger_count',\n",
       "                                                   'trip_distance',\n",
       "                                                   'fare_amount', 'extra',\n",
       "                                                   'mta_tax', 'tolls_amount',\n",
       "                                                   'imp_surcharge',\n",
       "                                                   'total_amount']),\n",
       "                                                 ('cat',\n",
       "                                                  OneHotEncoder(handle_unknown='ignore',\n",
       "                                                                sparse_output=False),\n",
       "                                                  ['vendor_id', 'rate_code',\n",
       "                                                   'payment_type',\n",
       "                                                   'store_and_fwd_flag',\n",
       "                                                   'pickup_location_id',\n",
       "                                                   'dropoff_location_id',\n",
       "                                                   'has_airport_fee'])])),\n",
       "                ('classifier', GradientBoostingClassifier(random_state=42))])"
      ]
     },
     "execution_count": 26,
     "metadata": {},
     "output_type": "execute_result"
    }
   ],
   "source": [
    "model_pipeline.fit(X_train, y_train)"
   ]
  },
  {
   "cell_type": "markdown",
   "id": "31c44f5a",
   "metadata": {},
   "source": [
    "---\n",
    "## Evaluate The Model\n",
    "\n",
    "Use the [Scikit-Learn metrics](https://scikit-learn.org/stable/api/sklearn.metrics.html) module to get evaluation metrics for the model on the data splits."
   ]
  },
  {
   "cell_type": "code",
   "execution_count": 28,
   "id": "f236e048",
   "metadata": {},
   "outputs": [],
   "source": [
    "y_pred_class_test = model_pipeline.predict(X_test)\n",
    "y_pred_proba_test = model_pipeline.predict_proba(X_test)[:, 1]"
   ]
  },
  {
   "cell_type": "code",
   "execution_count": 29,
   "id": "8fc7d832",
   "metadata": {},
   "outputs": [
    {
     "name": "stdout",
     "output_type": "stream",
     "text": [
      "Accuracy (TEST): 0.9801\n",
      "ROC AUC (TEST): 0.9985\n",
      "Log Loss (TEST): 0.0576\n"
     ]
    }
   ],
   "source": [
    "test_accuracy = sklearn.metrics.accuracy_score(y_test, y_pred_class_test)\n",
    "test_roc_auc = sklearn.metrics.roc_auc_score(y_test, y_pred_proba_test)\n",
    "test_log_loss = sklearn.metrics.log_loss(y_test, y_pred_proba_test)\n",
    "\n",
    "print(f\"Accuracy (TEST): {test_accuracy:.4f}\")\n",
    "print(f\"ROC AUC (TEST): {test_roc_auc:.4f}\")\n",
    "print(f\"Log Loss (TEST): {test_log_loss:.4f}\")"
   ]
  },
  {
   "cell_type": "code",
   "execution_count": 30,
   "id": "5a7e8541",
   "metadata": {},
   "outputs": [
    {
     "name": "stdout",
     "output_type": "stream",
     "text": [
      "\n",
      "Classification Report (TEST Split):\n",
      "              precision    recall  f1-score   support\n",
      "\n",
      "         0.0       1.00      0.94      0.97     40252\n",
      "         1.0       0.97      1.00      0.98     72892\n",
      "\n",
      "    accuracy                           0.98    113144\n",
      "   macro avg       0.98      0.97      0.98    113144\n",
      "weighted avg       0.98      0.98      0.98    113144\n",
      "\n"
     ]
    }
   ],
   "source": [
    "print(\"\\nClassification Report (TEST Split):\")\n",
    "print(sklearn.metrics.classification_report(y_test, y_pred_class_test))"
   ]
  },
  {
   "cell_type": "code",
   "execution_count": 72,
   "id": "c308ee27",
   "metadata": {},
   "outputs": [
    {
     "name": "stdout",
     "output_type": "stream",
     "text": [
      "\n",
      "Confusion Matrix (TEST Split):\n",
      "[[38011  2241]\n",
      " [    7 72885]]\n"
     ]
    }
   ],
   "source": [
    "print(\"\\nConfusion Matrix (TEST Split):\")\n",
    "print(sklearn.metrics.confusion_matrix(y_test, y_pred_class_test))"
   ]
  },
  {
   "cell_type": "code",
   "execution_count": 74,
   "id": "8fd488ca",
   "metadata": {},
   "outputs": [
    {
     "data": {
      "text/plain": [
       "<sklearn.metrics._plot.confusion_matrix.ConfusionMatrixDisplay at 0x7fbc44c98770>"
      ]
     },
     "execution_count": 74,
     "metadata": {},
     "output_type": "execute_result"
    },
    {
     "data": {
      "image/png": "[encoded data removed]",
      "text/plain": [
       "<Figure size 640x480 with 2 Axes>"
      ]
     },
     "metadata": {},
     "output_type": "display_data"
    }
   ],
   "source": [
    "disp = sklearn.metrics.ConfusionMatrixDisplay(\n",
    "    confusion_matrix = sklearn.metrics.confusion_matrix(y_test, y_pred_class_test),\n",
    "    display_labels=['0 (No Tip)', '1 (Tip)']\n",
    ")\n",
    "disp.plot()"
   ]
  },
  {
   "cell_type": "code",
   "execution_count": 33,
   "id": "5ef79d9a",
   "metadata": {},
   "outputs": [
    {
     "data": {
      "image/png": "[encoded data removed]",
      "text/plain": [
       "<Figure size 640x480 with 1 Axes>"
      ]
     },
     "metadata": {},
     "output_type": "display_data"
    }
   ],
   "source": [
    "roc_display = sklearn.metrics.RocCurveDisplay.from_predictions(\n",
    "    y_true = y_test,\n",
    "    y_pred = y_pred_proba_test,\n",
    "    name = 'RandomForestClassifier'\n",
    ")\n",
    "#roc_display.plot()\n",
    "plt.title('Receiver Operating Characteristic (ROC) Curve - Test Split', fontsize=16)\n",
    "plt.grid(True) # Add a grid for better readability\n",
    "plt.show() # Display the plot"
   ]
  },
  {
   "cell_type": "code",
   "execution_count": 34,
   "id": "56c26ded",
   "metadata": {},
   "outputs": [
    {
     "data": {
      "image/png": "[encoded data removed]",
      "text/plain": [
       "<Figure size 640x480 with 1 Axes>"
      ]
     },
     "metadata": {},
     "output_type": "display_data"
    }
   ],
   "source": [
    "pr_display = sklearn.metrics.PrecisionRecallDisplay.from_predictions(\n",
    "    y_true = y_test,\n",
    "    y_pred = y_pred_proba_test,\n",
    "    name = 'RandomForestClassifier'\n",
    ")\n",
    "#pr_display.plot()\n",
    "plt.title('Precision Recall (PR) Curve - Test Split', fontsize=16)\n",
    "plt.grid(True) # Add a grid for better readability\n",
    "plt.show() # Display the plot"
   ]
  },
  {
   "cell_type": "markdown",
   "id": "b4a2942b",
   "metadata": {},
   "source": [
    "---\n",
    "## Register The Model In Vertex AI Model Registry"
   ]
  },
  {
   "cell_type": "markdown",
   "id": "95ff3a50",
   "metadata": {},
   "source": [
    "### Save The Model\n",
    "\n",
    "Use the [joblib](https://joblib.readthedocs.io/en/stable/) to save the model pipeline to a local folder."
   ]
  },
  {
   "cell_type": "code",
   "execution_count": 42,
   "id": "b49403da",
   "metadata": {},
   "outputs": [
    {
     "name": "stdout",
     "output_type": "stream",
     "text": [
      "Model pipeline saved successfully to: files/evaluation-classification-binary/model.joblib\n"
     ]
    }
   ],
   "source": [
    "model_filename = os.path.join(DIR, 'model.joblib')\n",
    "\n",
    "try:\n",
    "    joblib.dump(model_pipeline, model_filename)\n",
    "    print(f\"Model pipeline saved successfully to: {model_filename}\")\n",
    "except Exception as e:\n",
    "    print(f\"Error saving model pipeline: {e}\")"
   ]
  },
  {
   "cell_type": "markdown",
   "id": "20a26154",
   "metadata": {},
   "source": [
    "### Move The Model To GCS\n",
    "\n",
    "Store the joblib file in GCS for use with the Vertex AI Model Registry."
   ]
  },
  {
   "cell_type": "code",
   "execution_count": 43,
   "id": "1595f7fd",
   "metadata": {},
   "outputs": [
    {
     "name": "stdout",
     "output_type": "stream",
     "text": [
      "Model pipeline uploaded successfully to GCS: gs://statmike-mlops-349915/mlops/evaluation-classification-binary/model_files/model.joblib\n"
     ]
    }
   ],
   "source": [
    "blob_path = f\"{SERIES}/{EXPERIMENT}/model_files\"\n",
    "blob_name = os.path.basename(model_filename)\n",
    "blob = bucket.blob(os.path.join(blob_path, blob_name))\n",
    "\n",
    "try:\n",
    "    blob.upload_from_filename(model_filename, timeout = 600) \n",
    "    print(f\"Model pipeline uploaded successfully to GCS: gs://{bucket.name}/{blob.name}\")\n",
    "except Exception as e:\n",
    "    print(f\"Error uploading model pipeline to GCS: {e}\")"
   ]
  },
  {
   "cell_type": "markdown",
   "id": "852eb53b",
   "metadata": {},
   "source": [
    "### Register The Model\n",
    "\n",
    "Registering the model in the [Vertex AI Model Registry](https://cloud.google.com/vertex-ai/docs/model-registry/introduction) requires:\n",
    "- A GCS URI for the model files\n",
    "- A Artifact Registry URI to a container than can serve the model files\n",
    "\n",
    "Vertex AI includes prebuilt containers for [training](https://cloud.google.com/vertex-ai/docs/training/pre-built-containers) and [serving](https://cloud.google.com/vertex-ai/docs/predictions/pre-built-containers) including [these](https://cloud.google.com/vertex-ai/docs/predictions/pre-built-containers#scikit-learn) that are purpose built for Scikit-Learn.  You can alos customize these containers (or your own container) as a [custom prediction container](https://cloud.google.com/vertex-ai/docs/predictions/use-custom-container).  For an example check out this workflow in this repository: [Catboost Custom Prediction With FastAPI](../../Framework%20Workflows/CatBoost/CatBoost%20Custom%20Prediction%20With%20FastAPI.ipynb)."
   ]
  },
  {
   "cell_type": "markdown",
   "id": "3bee02b3",
   "metadata": {},
   "source": [
    "Check for existing version of the model:"
   ]
  },
  {
   "cell_type": "code",
   "execution_count": 46,
   "id": "b6c5e71e",
   "metadata": {},
   "outputs": [],
   "source": [
    "parent_model = next(\n",
    "    (model for model in aiplatform.Model.list(filter=f'display_name=\"{SERIES}-{EXPERIMENT}\"')),\n",
    "    None # Default value if no model/version is found\n",
    ")\n",
    "parent_model"
   ]
  },
  {
   "cell_type": "markdown",
   "id": "d73c8c36",
   "metadata": {},
   "source": [
    "Upload the model to the registry as a new version which will be version 1 if no prior version was found:"
   ]
  },
  {
   "cell_type": "code",
   "execution_count": 47,
   "id": "fabbdb51",
   "metadata": {},
   "outputs": [
    {
     "name": "stdout",
     "output_type": "stream",
     "text": [
      "Creating Model\n",
      "Create Model backing LRO: projects/1026793852137/locations/us-central1/models/mlops-evaluation-classification-binary/operations/2696276667659190272\n",
      "Model created. Resource name: projects/1026793852137/locations/us-central1/models/mlops-evaluation-classification-binary@1\n",
      "To use this Model in another session:\n",
      "model = aiplatform.Model('projects/1026793852137/locations/us-central1/models/mlops-evaluation-classification-binary@1')\n"
     ]
    }
   ],
   "source": [
    "vertex_model = aiplatform.Model.upload(\n",
    "    display_name = SERIES+'-'+EXPERIMENT,\n",
    "    model_id = SERIES+'-'+EXPERIMENT,\n",
    "    parent_model = parent_model,\n",
    "    serving_container_image_uri = 'us-docker.pkg.dev/vertex-ai/prediction/sklearn-cpu.1-5:latest',\n",
    "    artifact_uri = f'gs://{bucket.name}/{blob_path}',\n",
    "    is_default_version = True,\n",
    "    labels = {'series': SERIES, 'experiment': EXPERIMENT}\n",
    ")"
   ]
  },
  {
   "cell_type": "markdown",
   "id": "f1678eae",
   "metadata": {},
   "source": [
    "---\n",
    "## Load Model Evaluations To The Vertex AI Model Registry\n",
    "\n",
    "The versioned models in Vertex AI Model Registry can include evaluations.  Here the evaluations for each split of the data are loaded to the registry for the model version uploaded above.\n",
    "\n",
    "https://cloud.google.com/vertex-ai/docs/evaluation/introduction#classification_1\n",
    "https://console.cloud.google.com/storage/browser/google-cloud-aiplatform/schema/modelevaluation\n"
   ]
  },
  {
   "cell_type": "markdown",
   "id": "bee6a553",
   "metadata": {},
   "source": [
    "### Structured Evaluation\n",
    "\n",
    "The provided ..."
   ]
  },
  {
   "cell_type": "code",
   "execution_count": 67,
   "id": "1c6910bc",
   "metadata": {},
   "outputs": [
    {
     "data": {
      "text/plain": [
       "array([0., 1.])"
      ]
     },
     "execution_count": 67,
     "metadata": {},
     "output_type": "execute_result"
    }
   ],
   "source": [
    "model_pipeline.classes_"
   ]
  },
  {
   "cell_type": "code",
   "execution_count": 50,
   "id": "cab98005",
   "metadata": {},
   "outputs": [],
   "source": [
    "evaluations = {}\n",
    "\n",
    "data_splits = {\n",
    "    'TRAIN': (X_train, y_train),\n",
    "    'VALIDATE': (X_val, y_val),\n",
    "    'TEST': (X_test, y_test)\n",
    "}"
   ]
  },
  {
   "cell_type": "code",
   "execution_count": 75,
   "id": "3b087d69",
   "metadata": {},
   "outputs": [],
   "source": [
    "for split_name, (X_split, y_split) in data_splits.items():\n",
    "    # predictions\n",
    "    y_pred_proba = model_pipeline.predict_proba(X_split)[:, 1]\n",
    "    y_pred_class_default_threshold = (y_pred_proba >= 0.5).astype(int)\n",
    "    # overall metrics\n",
    "    au_prc_val = sklearn.metrics.average_precision_score(y_split, y_pred_proba)\n",
    "    au_roc_val = sklearn.metrics.roc_auc_score(y_split, y_pred_proba)\n",
    "    log_loss_val = sklearn.metrics.log_loss(y_split, y_pred_proba)\n",
    "    overall_conf_matrix = sklearn.metrics.confusion_matrix(y_split, y_pred_class_default_threshold, labels=[0, 1])\n",
    "    # confidence metrics for splits\n",
    "    confidence_thresholds = (\n",
    "        list(np.arange(0.0, 1.0, 0.05)) + # 0.00, 0.05, ..., 0.95\n",
    "        list(np.arange(0.95, 1.0, 0.01))  # 0.95, 0.96, ..., 0.99\n",
    "    )\n",
    "    confidence_thresholds = sorted(list(set([round(t, 2) for t in confidence_thresholds])))\n",
    "    confidence_metrics_list = []\n",
    "    for threshold in confidence_thresholds:\n",
    "        y_pred_at_threshold = (y_pred_proba >= threshold).astype(int)\n",
    "        tn, fp, fn, tp = sklearn.metrics.confusion_matrix(y_split, y_pred_at_threshold, labels=[0, 1]).ravel()\n",
    "        recall_val = sklearn.metrics.recall_score(y_split, y_pred_at_threshold, zero_division=0)\n",
    "        precision_val = sklearn.metrics.precision_score(y_split, y_pred_at_threshold, zero_division=0)\n",
    "        false_positive_rate_val = fp / (fp + tn) if (fp + tn) > 0 else 0.0\n",
    "        f1_score_val = sklearn.metrics.f1_score(y_split, y_pred_at_threshold, zero_division=0)\n",
    "        confidence_metrics_entry = {\n",
    "            'confidenceThreshold': threshold,\n",
    "            #'maxPredictions': 2147483647, # As per schema\n",
    "            'recall': recall_val,\n",
    "            'precision': precision_val,\n",
    "            'falsePositiveRate': false_positive_rate_val,\n",
    "            'f1Score': f1_score_val,\n",
    "            # f1ScoreMicro and f1ScoreMacro are typically for multi-class/multi-label, omitted for binary simplicity\n",
    "            # recallAt1, precisionAt1, etc. are for top-k predictions, typically not applicable for standard binary thresholding\n",
    "            'truePositiveCount': int(tp),\n",
    "            'falsePositiveCount': int(fp),\n",
    "            'falseNegativeCount': int(fn),\n",
    "            'trueNegativeCount': int(tn),\n",
    "            'confusionMatrix': { # Optional confusion matrix for each threshold\n",
    "                'annotationSpecs': [{'id': '0', 'displayName': '0 (No Tip)'}, {'id' : '1', 'displayName': '1 (Tip)'}], # Assuming class labels are 0 and 1\n",
    "                'rows': [{'dataItemCounts': sklearn.metrics.confusion_matrix(y_split, y_pred_at_threshold, labels=[0, 1])[0].tolist()},\n",
    "                         {'dataItemCounts': sklearn.metrics.confusion_matrix(y_split, y_pred_at_threshold, labels=[0, 1])[1].tolist()}]\n",
    "            }\n",
    "        }\n",
    "        confidence_metrics_list.append(confidence_metrics_entry)\n",
    "    evaluations[split_name] = {\n",
    "        'auPrc': au_prc_val,\n",
    "        'auRoc': au_roc_val,\n",
    "        'logLoss': log_loss_val,\n",
    "        'confidenceMetrics': confidence_metrics_list,\n",
    "        'confusionMatrix': { # Overall confusion matrix at default 0.5 threshold\n",
    "            'annotationSpecs': [{'id': '0', 'displayName': '0 (No Tip)'}, {'id' : '1', 'displayName': '1 (Tip)'}],\n",
    "            'rows': [{'dataItemCounts': overall_conf_matrix[0].tolist()},\n",
    "                     {'dataItemCounts': overall_conf_matrix[1].tolist()}]\n",
    "        }\n",
    "    }"
   ]
  },
  {
   "cell_type": "code",
   "execution_count": 77,
   "id": "f676a582",
   "metadata": {},
   "outputs": [
    {
     "data": {
      "text/plain": [
       "{'confidenceThreshold': np.float64(0.0),\n",
       " 'recall': 1.0,\n",
       " 'precision': 0.6442415961224702,\n",
       " 'falsePositiveRate': np.float64(1.0),\n",
       " 'f1Score': 0.7836337404937959,\n",
       " 'truePositiveCount': 364461,\n",
       " 'falsePositiveCount': 201260,\n",
       " 'falseNegativeCount': 0,\n",
       " 'trueNegativeCount': 0,\n",
       " 'confusionMatrix': {'annotationSpecs': [{'id': '0',\n",
       "    'displayName': '0 (No Tip)'},\n",
       "   {'id': '1', 'displayName': '1 (Tip)'}],\n",
       "  'rows': [{'dataItemCounts': [0, 201260]}, {'dataItemCounts': [0, 364461]}]}}"
      ]
     },
     "execution_count": 77,
     "metadata": {},
     "output_type": "execute_result"
    }
   ],
   "source": [
    "evaluations['TRAIN']['confidenceMetrics'][0]"
   ]
  },
  {
   "cell_type": "code",
   "execution_count": 127,
   "id": "44610237",
   "metadata": {},
   "outputs": [],
   "source": [
    "# https://cloud.google.com/python/docs/reference/aiplatform/latest/google.cloud.aiplatform_v1.services.model_service.ModelServiceClient#google_cloud_aiplatform_v1_services_model_service_ModelServiceClient_import_model_evaluation"
   ]
  },
  {
   "cell_type": "code",
   "execution_count": 78,
   "id": "39c8cdbd",
   "metadata": {},
   "outputs": [],
   "source": [
    "model_client = aiplatform.gapic.ModelServiceClient(\n",
    "    client_options = {'api_endpoint': f\"{REGION}-aiplatform.googleapis.com\"}\n",
    ")"
   ]
  },
  {
   "cell_type": "code",
   "execution_count": 79,
   "id": "a86123b1",
   "metadata": {},
   "outputs": [],
   "source": [
    "for eval in evaluations:\n",
    "    eval_upload = model_client.import_model_evaluation(\n",
    "        parent = vertex_model.versioned_resource_name,\n",
    "        model_evaluation = aiplatform.gapic.ModelEvaluation(\n",
    "            display_name = f'training-{eval.lower()}',\n",
    "            metrics_schema_uri = 'gs://google-cloud-aiplatform/schema/modelevaluation/classification_metrics_1.0.0.yaml',\n",
    "            metrics = evaluations[eval]\n",
    "        )\n",
    "    )"
   ]
  },
  {
   "cell_type": "code",
   "execution_count": null,
   "id": "952ef9d2",
   "metadata": {},
   "outputs": [],
   "source": [
    "# use the model object methods: https://cloud.google.com/python/docs/reference/aiplatform/latest/google.cloud.aiplatform.Model#google_cloud_aiplatform_Model_list_model_evaluations"
   ]
  },
  {
   "cell_type": "code",
   "execution_count": 121,
   "id": "b4cd01a3",
   "metadata": {},
   "outputs": [
    {
     "data": {
      "text/plain": [
       "['training-validate',\n",
       " 'training-train',\n",
       " 'training-train',\n",
       " 'training-validate',\n",
       " 'training-test',\n",
       " 'training-test']"
      ]
     },
     "execution_count": 121,
     "metadata": {},
     "output_type": "execute_result"
    }
   ],
   "source": [
    "vertex_eval_list = vertex_model.list_model_evaluations()\n",
    "[e.display_name for e in vertex_eval_list]"
   ]
  },
  {
   "cell_type": "code",
   "execution_count": 122,
   "id": "f8ffb050",
   "metadata": {},
   "outputs": [
    {
     "data": {
      "text/plain": [
       "{'auPrc': 0.9990411,\n",
       " 'auRoc': 0.99859875,\n",
       " 'logLoss': 0.057955153,\n",
       " 'confusionMatrix': <proto.marshal.collections.maps.MapComposite at 0x7fbc45fc5e20>,\n",
       " 'confidenceMetrics': [<proto.marshal.collections.maps.MapComposite object at 0x7fbc440a2a50>, <proto.marshal.collections.maps.MapComposite object at 0x7fbc45fc48c0>, <proto.marshal.collections.maps.MapComposite object at 0x7fbc45fc44d0>, <proto.marshal.collections.maps.MapComposite object at 0x7fbc45fc70e0>, <proto.marshal.collections.maps.MapComposite object at 0x7fbc45fc6270>, <proto.marshal.collections.maps.MapComposite object at 0x7fbc45fc5ac0>, <proto.marshal.collections.maps.MapComposite object at 0x7fbc45fc6990>, <proto.marshal.collections.maps.MapComposite object at 0x7fbc45fc42c0>, <proto.marshal.collections.maps.MapComposite object at 0x7fbc45fc6570>, <proto.marshal.collections.maps.MapComposite object at 0x7fbc45fc7650>, <proto.marshal.collections.maps.MapComposite object at 0x7fbc45fc7320>, <proto.marshal.collections.maps.MapComposite object at 0x7fbc45fc7d40>, <proto.marshal.collections.maps.MapComposite object at 0x7fbc45fc6900>, <proto.marshal.collections.maps.MapComposite object at 0x7fbc45fc6330>, <proto.marshal.collections.maps.MapComposite object at 0x7fbc45fc6240>, <proto.marshal.collections.maps.MapComposite object at 0x7fbc45fc51c0>, <proto.marshal.collections.maps.MapComposite object at 0x7fbc45fc65d0>, <proto.marshal.collections.maps.MapComposite object at 0x7fbc45fc5850>, <proto.marshal.collections.maps.MapComposite object at 0x7fbc45fc7440>, <proto.marshal.collections.maps.MapComposite object at 0x7fbc45fc5d60>, <proto.marshal.collections.maps.MapComposite object at 0x7fbc45fc5df0>, <proto.marshal.collections.maps.MapComposite object at 0x7fbc45fc64e0>, <proto.marshal.collections.maps.MapComposite object at 0x7fbc45fc6690>, <proto.marshal.collections.maps.MapComposite object at 0x7fbc45fc4230>, <proto.marshal.collections.maps.MapComposite object at 0x7fbc45fc7ad0>]}"
      ]
     },
     "execution_count": 122,
     "metadata": {},
     "output_type": "execute_result"
    }
   ],
   "source": [
    "dict(vertex_eval_list[0].metrics)"
   ]
  },
  {
   "cell_type": "code",
   "execution_count": 123,
   "id": "3a4522d7",
   "metadata": {},
   "outputs": [
    {
     "data": {
      "text/plain": [
       "{'rows': [[37982.0, 2270.0], [6.0, 72886.0]],\n",
       " 'annotationSpecs': [<proto.marshal.collections.maps.MapComposite object at 0x7fbc45fc4290>, <proto.marshal.collections.maps.MapComposite object at 0x7fbc45fc4fb0>]}"
      ]
     },
     "execution_count": 123,
     "metadata": {},
     "output_type": "execute_result"
    }
   ],
   "source": [
    "dict(vertex_eval_list[0].metrics['confusionMatrix'])"
   ]
  },
  {
   "cell_type": "code",
   "execution_count": 124,
   "id": "a7571959",
   "metadata": {},
   "outputs": [
    {
     "data": {
      "text/plain": [
       "google.cloud.aiplatform.model_evaluation.model_evaluation.ModelEvaluation"
      ]
     },
     "execution_count": 124,
     "metadata": {},
     "output_type": "execute_result"
    }
   ],
   "source": [
    "type(vertex_eval_list[0])"
   ]
  },
  {
   "cell_type": "code",
   "execution_count": 125,
   "id": "d8b08763",
   "metadata": {},
   "outputs": [
    {
     "data": {
      "text/plain": [
       "{'name': 'projects/1026793852137/locations/us-central1/models/mlops-evaluation-classification-binary@1/evaluations/3215180941155188366',\n",
       " 'metricsSchemaUri': 'gs://google-cloud-aiplatform/schema/modelevaluation/classification_metrics_1.0.0.yaml',\n",
       " 'metrics': {'auPrc': 0.9990411,\n",
       "  'auRoc': 0.99859875,\n",
       "  'logLoss': 0.057955153,\n",
       "  'confusionMatrix': {'rows': [[37982.0, 2270.0], [6.0, 72886.0]],\n",
       "   'annotationSpecs': [{'displayName': '0 (No Tip)', 'id': '0'},\n",
       "    {'displayName': '1 (Tip)', 'id': '1'}]},\n",
       "  'confidenceMetrics': [{'precision': 0.644241,\n",
       "    'falseNegativeCount': '0',\n",
       "    'truePositiveCount': '72892',\n",
       "    'recall': 1.0,\n",
       "    'trueNegativeCount': '0',\n",
       "    'confidenceThreshold': 0.0,\n",
       "    'falsePositiveRate': 1.0,\n",
       "    'falsePositiveCount': '40252',\n",
       "    'confusionMatrix': {'rows': [[0.0, 40252.0], [0.0, 72892.0]],\n",
       "     'annotationSpecs': [{'displayName': '0 (No Tip)', 'id': '0'},\n",
       "      {'displayName': '1 (Tip)', 'id': '1'}]},\n",
       "    'f1Score': 0.7836333},\n",
       "   {'precision': 0.95744234,\n",
       "    'falseNegativeCount': '0',\n",
       "    'truePositiveCount': '72892',\n",
       "    'recall': 1.0,\n",
       "    'trueNegativeCount': '37012',\n",
       "    'confidenceThreshold': 0.05,\n",
       "    'falsePositiveRate': 0.08049289,\n",
       "    'falsePositiveCount': '3240',\n",
       "    'confusionMatrix': {'rows': [[37012.0, 3240.0], [0.0, 72892.0]],\n",
       "     'annotationSpecs': [{'displayName': '0 (No Tip)', 'id': '0'},\n",
       "      {'displayName': '1 (Tip)', 'id': '1'}]},\n",
       "    'f1Score': 0.97825855},\n",
       "   {'precision': 0.95744234,\n",
       "    'falseNegativeCount': '0',\n",
       "    'truePositiveCount': '72892',\n",
       "    'recall': 1.0,\n",
       "    'trueNegativeCount': '37012',\n",
       "    'confidenceThreshold': 0.1,\n",
       "    'falsePositiveRate': 0.08049289,\n",
       "    'falsePositiveCount': '3240',\n",
       "    'confusionMatrix': {'rows': [[37012.0, 3240.0], [0.0, 72892.0]],\n",
       "     'annotationSpecs': [{'displayName': '0 (No Tip)', 'id': '0'},\n",
       "      {'displayName': '1 (Tip)', 'id': '1'}]},\n",
       "    'f1Score': 0.97825855},\n",
       "   {'precision': 0.95798343,\n",
       "    'falseNegativeCount': '0',\n",
       "    'truePositiveCount': '72892',\n",
       "    'recall': 1.0,\n",
       "    'trueNegativeCount': '37055',\n",
       "    'confidenceThreshold': 0.15,\n",
       "    'falsePositiveRate': 0.07942463,\n",
       "    'falsePositiveCount': '3197',\n",
       "    'confusionMatrix': {'rows': [[37055.0, 3197.0], [0.0, 72892.0]],\n",
       "     'annotationSpecs': [{'displayName': '0 (No Tip)', 'id': '0'},\n",
       "      {'displayName': '1 (Tip)', 'id': '1'}]},\n",
       "    'f1Score': 0.9785409},\n",
       "   {'precision': 0.95809674,\n",
       "    'falseNegativeCount': '0',\n",
       "    'truePositiveCount': '72892',\n",
       "    'recall': 1.0,\n",
       "    'trueNegativeCount': '37064',\n",
       "    'confidenceThreshold': 0.2,\n",
       "    'falsePositiveRate': 0.079201035,\n",
       "    'falsePositiveCount': '3188',\n",
       "    'confusionMatrix': {'rows': [[37064.0, 3188.0], [0.0, 72892.0]],\n",
       "     'annotationSpecs': [{'displayName': '0 (No Tip)', 'id': '0'},\n",
       "      {'displayName': '1 (Tip)', 'id': '1'}]},\n",
       "    'f1Score': 0.9786},\n",
       "   {'precision': 0.95842427,\n",
       "    'falseNegativeCount': '0',\n",
       "    'truePositiveCount': '72892',\n",
       "    'recall': 1.0,\n",
       "    'trueNegativeCount': '37090',\n",
       "    'confidenceThreshold': 0.25,\n",
       "    'falsePositiveRate': 0.0785551,\n",
       "    'falsePositiveCount': '3162',\n",
       "    'confusionMatrix': {'rows': [[37090.0, 3162.0], [0.0, 72892.0]],\n",
       "     'annotationSpecs': [{'displayName': '0 (No Tip)', 'id': '0'},\n",
       "      {'displayName': '1 (Tip)', 'id': '1'}]},\n",
       "    'f1Score': 0.97877085},\n",
       "   {'precision': 0.959724,\n",
       "    'falseNegativeCount': '0',\n",
       "    'truePositiveCount': '72892',\n",
       "    'recall': 1.0,\n",
       "    'trueNegativeCount': '37193',\n",
       "    'confidenceThreshold': 0.3,\n",
       "    'falsePositiveRate': 0.07599622,\n",
       "    'falsePositiveCount': '3059',\n",
       "    'confusionMatrix': {'rows': [[37193.0, 3059.0], [0.0, 72892.0]],\n",
       "     'annotationSpecs': [{'displayName': '0 (No Tip)', 'id': '0'},\n",
       "      {'displayName': '1 (Tip)', 'id': '1'}]},\n",
       "    'f1Score': 0.97944814},\n",
       "   {'precision': 0.9614958,\n",
       "    'falseNegativeCount': '1',\n",
       "    'truePositiveCount': '72891',\n",
       "    'recall': 0.9999863,\n",
       "    'trueNegativeCount': '37333',\n",
       "    'confidenceThreshold': 0.35,\n",
       "    'falsePositiveRate': 0.07251813,\n",
       "    'falsePositiveCount': '2919',\n",
       "    'confusionMatrix': {'rows': [[37333.0, 2919.0], [1.0, 72891.0]],\n",
       "     'annotationSpecs': [{'displayName': '0 (No Tip)', 'id': '0'},\n",
       "      {'displayName': '1 (Tip)', 'id': '1'}]},\n",
       "    'f1Score': 0.9803634},\n",
       "   {'precision': 0.9653542,\n",
       "    'falseNegativeCount': '1',\n",
       "    'truePositiveCount': '72891',\n",
       "    'recall': 0.9999863,\n",
       "    'trueNegativeCount': '37636',\n",
       "    'confidenceThreshold': 0.4,\n",
       "    'falsePositiveRate': 0.06499056,\n",
       "    'falsePositiveCount': '2616',\n",
       "    'confusionMatrix': {'rows': [[37636.0, 2616.0], [1.0, 72891.0]],\n",
       "     'annotationSpecs': [{'displayName': '0 (No Tip)', 'id': '0'},\n",
       "      {'displayName': '1 (Tip)', 'id': '1'}]},\n",
       "    'f1Score': 0.98236513},\n",
       "   {'precision': 0.9666724,\n",
       "    'falseNegativeCount': '2',\n",
       "    'truePositiveCount': '72890',\n",
       "    'recall': 0.9999726,\n",
       "    'trueNegativeCount': '37739',\n",
       "    'confidenceThreshold': 0.45,\n",
       "    'falsePositiveRate': 0.062431682,\n",
       "    'falsePositiveCount': '2513',\n",
       "    'confusionMatrix': {'rows': [[37739.0, 2513.0], [2.0, 72890.0]],\n",
       "     'annotationSpecs': [{'displayName': '0 (No Tip)', 'id': '0'},\n",
       "      {'displayName': '1 (Tip)', 'id': '1'}]},\n",
       "    'f1Score': 0.9830406},\n",
       "   {'precision': 0.9697962,\n",
       "    'falseNegativeCount': '6',\n",
       "    'truePositiveCount': '72886',\n",
       "    'recall': 0.9999177,\n",
       "    'trueNegativeCount': '37982',\n",
       "    'confidenceThreshold': 0.5,\n",
       "    'falsePositiveRate': 0.056394715,\n",
       "    'falsePositiveCount': '2270',\n",
       "    'confusionMatrix': {'rows': [[37982.0, 2270.0], [6.0, 72886.0]],\n",
       "     'annotationSpecs': [{'displayName': '0 (No Tip)', 'id': '0'},\n",
       "      {'displayName': '1 (Tip)', 'id': '1'}]},\n",
       "    'f1Score': 0.9846266},\n",
       "   {'precision': 0.97067916,\n",
       "    'falseNegativeCount': '27',\n",
       "    'truePositiveCount': '72865',\n",
       "    'recall': 0.9996296,\n",
       "    'trueNegativeCount': '38051',\n",
       "    'confidenceThreshold': 0.55,\n",
       "    'falsePositiveRate': 0.05468051,\n",
       "    'falsePositiveCount': '2201',\n",
       "    'confusionMatrix': {'rows': [[38051.0, 2201.0], [27.0, 72865.0]],\n",
       "     'annotationSpecs': [{'displayName': '0 (No Tip)', 'id': '0'},\n",
       "      {'displayName': '1 (Tip)', 'id': '1'}]},\n",
       "    'f1Score': 0.98494166},\n",
       "   {'precision': 0.97372466,\n",
       "    'falseNegativeCount': '35',\n",
       "    'truePositiveCount': '72857',\n",
       "    'recall': 0.9995198,\n",
       "    'trueNegativeCount': '38286',\n",
       "    'confidenceThreshold': 0.6,\n",
       "    'falsePositiveRate': 0.048842292,\n",
       "    'falsePositiveCount': '1966',\n",
       "    'confusionMatrix': {'rows': [[38286.0, 1966.0], [35.0, 72857.0]],\n",
       "     'annotationSpecs': [{'displayName': '0 (No Tip)', 'id': '0'},\n",
       "      {'displayName': '1 (Tip)', 'id': '1'}]},\n",
       "    'f1Score': 0.98645365},\n",
       "   {'precision': 0.9749304,\n",
       "    'falseNegativeCount': '53',\n",
       "    'truePositiveCount': '72839',\n",
       "    'recall': 0.9992729,\n",
       "    'trueNegativeCount': '38379',\n",
       "    'confidenceThreshold': 0.65,\n",
       "    'falsePositiveRate': 0.04653185,\n",
       "    'falsePositiveCount': '1873',\n",
       "    'confusionMatrix': {'rows': [[38379.0, 1873.0], [53.0, 72839.0]],\n",
       "     'annotationSpecs': [{'displayName': '0 (No Tip)', 'id': '0'},\n",
       "      {'displayName': '1 (Tip)', 'id': '1'}]},\n",
       "    'f1Score': 0.9869516},\n",
       "   {'precision': 0.9782959,\n",
       "    'falseNegativeCount': '97',\n",
       "    'truePositiveCount': '72795',\n",
       "    'recall': 0.99866927,\n",
       "    'trueNegativeCount': '38637',\n",
       "    'confidenceThreshold': 0.7,\n",
       "    'falsePositiveRate': 0.04012223,\n",
       "    'falsePositiveCount': '1615',\n",
       "    'confusionMatrix': {'rows': [[38637.0, 1615.0], [97.0, 72795.0]],\n",
       "     'annotationSpecs': [{'displayName': '0 (No Tip)', 'id': '0'},\n",
       "      {'displayName': '1 (Tip)', 'id': '1'}]},\n",
       "    'f1Score': 0.98837763},\n",
       "   {'precision': 0.98213226,\n",
       "    'falseNegativeCount': '171',\n",
       "    'truePositiveCount': '72721',\n",
       "    'recall': 0.9976541,\n",
       "    'trueNegativeCount': '38929',\n",
       "    'confidenceThreshold': 0.75,\n",
       "    'falsePositiveRate': 0.03286793,\n",
       "    'falsePositiveCount': '1323',\n",
       "    'confusionMatrix': {'rows': [[38929.0, 1323.0], [171.0, 72721.0]],\n",
       "     'annotationSpecs': [{'displayName': '0 (No Tip)', 'id': '0'},\n",
       "      {'displayName': '1 (Tip)', 'id': '1'}]},\n",
       "    'f1Score': 0.9898323},\n",
       "   {'precision': 0.98659855,\n",
       "    'falseNegativeCount': '304',\n",
       "    'truePositiveCount': '72588',\n",
       "    'recall': 0.99582946,\n",
       "    'trueNegativeCount': '39266',\n",
       "    'confidenceThreshold': 0.8,\n",
       "    'falsePositiveRate': 0.024495678,\n",
       "    'falsePositiveCount': '986',\n",
       "    'confusionMatrix': {'rows': [[39266.0, 986.0], [304.0, 72588.0]],\n",
       "     'annotationSpecs': [{'displayName': '0 (No Tip)', 'id': '0'},\n",
       "      {'displayName': '1 (Tip)', 'id': '1'}]},\n",
       "    'f1Score': 0.9911925},\n",
       "   {'precision': 0.9900437,\n",
       "    'falseNegativeCount': '600',\n",
       "    'truePositiveCount': '72292',\n",
       "    'recall': 0.99176866,\n",
       "    'trueNegativeCount': '39525',\n",
       "    'confidenceThreshold': 0.85,\n",
       "    'falsePositiveRate': 0.018061215,\n",
       "    'falsePositiveCount': '727',\n",
       "    'confusionMatrix': {'rows': [[39525.0, 727.0], [600.0, 72292.0]],\n",
       "     'annotationSpecs': [{'displayName': '0 (No Tip)', 'id': '0'},\n",
       "      {'displayName': '1 (Tip)', 'id': '1'}]},\n",
       "    'f1Score': 0.9909054},\n",
       "   {'precision': 0.9935129,\n",
       "    'falseNegativeCount': '1982',\n",
       "    'truePositiveCount': '70910',\n",
       "    'recall': 0.9728091,\n",
       "    'trueNegativeCount': '39789',\n",
       "    'confidenceThreshold': 0.9,\n",
       "    'falsePositiveRate': 0.011502534,\n",
       "    'falsePositiveCount': '463',\n",
       "    'confusionMatrix': {'rows': [[39789.0, 463.0], [1982.0, 70910.0]],\n",
       "     'annotationSpecs': [{'displayName': '0 (No Tip)', 'id': '0'},\n",
       "      {'displayName': '1 (Tip)', 'id': '1'}]},\n",
       "    'f1Score': 0.983052},\n",
       "   {'precision': 0.9980071,\n",
       "    'falseNegativeCount': '8290',\n",
       "    'truePositiveCount': '64602',\n",
       "    'recall': 0.8862701,\n",
       "    'trueNegativeCount': '40123',\n",
       "    'confidenceThreshold': 0.95,\n",
       "    'falsePositiveRate': 0.0032048097,\n",
       "    'falsePositiveCount': '129',\n",
       "    'confusionMatrix': {'rows': [[40123.0, 129.0], [8290.0, 64602.0]],\n",
       "     'annotationSpecs': [{'displayName': '0 (No Tip)', 'id': '0'},\n",
       "      {'displayName': '1 (Tip)', 'id': '1'}]},\n",
       "    'f1Score': 0.9388256},\n",
       "   {'precision': 0.99904996,\n",
       "    'falseNegativeCount': '12950',\n",
       "    'truePositiveCount': '59942',\n",
       "    'recall': 0.8223399,\n",
       "    'trueNegativeCount': '40195',\n",
       "    'confidenceThreshold': 0.96,\n",
       "    'falsePositiveRate': 0.0014160787,\n",
       "    'falsePositiveCount': '57',\n",
       "    'confusionMatrix': {'rows': [[40195.0, 57.0], [12950.0, 59942.0]],\n",
       "     'annotationSpecs': [{'displayName': '0 (No Tip)', 'id': '0'},\n",
       "      {'displayName': '1 (Tip)', 'id': '1'}]},\n",
       "    'f1Score': 0.9021228},\n",
       "   {'precision': 0.99970895,\n",
       "    'falseNegativeCount': '21365',\n",
       "    'truePositiveCount': '51527',\n",
       "    'recall': 0.7068951,\n",
       "    'trueNegativeCount': '40237',\n",
       "    'confidenceThreshold': 0.97,\n",
       "    'falsePositiveRate': 0.00037265228,\n",
       "    'falsePositiveCount': '15',\n",
       "    'confusionMatrix': {'rows': [[40237.0, 15.0], [21365.0, 51527.0]],\n",
       "     'annotationSpecs': [{'displayName': '0 (No Tip)', 'id': '0'},\n",
       "      {'displayName': '1 (Tip)', 'id': '1'}]},\n",
       "    'f1Score': 0.828182},\n",
       "   {'precision': 0.99985296,\n",
       "    'falseNegativeCount': '38900',\n",
       "    'truePositiveCount': '33992',\n",
       "    'recall': 0.46633375,\n",
       "    'trueNegativeCount': '40247',\n",
       "    'confidenceThreshold': 0.98,\n",
       "    'falsePositiveRate': 0.00012421743,\n",
       "    'falsePositiveCount': '5',\n",
       "    'confusionMatrix': {'rows': [[40247.0, 5.0], [38900.0, 33992.0]],\n",
       "     'annotationSpecs': [{'displayName': '0 (No Tip)', 'id': '0'},\n",
       "      {'displayName': '1 (Tip)', 'id': '1'}]},\n",
       "    'f1Score': 0.6360243},\n",
       "   {'precision': 0.9996792,\n",
       "    'falseNegativeCount': '69776',\n",
       "    'truePositiveCount': '3116',\n",
       "    'recall': 0.042748176,\n",
       "    'trueNegativeCount': '40251',\n",
       "    'confidenceThreshold': 0.99,\n",
       "    'falsePositiveRate': 2.4843486e-05,\n",
       "    'falsePositiveCount': '1',\n",
       "    'confusionMatrix': {'rows': [[40251.0, 1.0], [69776.0, 3116.0]],\n",
       "     'annotationSpecs': [{'displayName': '0 (No Tip)', 'id': '0'},\n",
       "      {'displayName': '1 (Tip)', 'id': '1'}]},\n",
       "    'f1Score': 0.081990294},\n",
       "   {'precision': 0.0,\n",
       "    'falseNegativeCount': '72892',\n",
       "    'truePositiveCount': '0',\n",
       "    'recall': 0.0,\n",
       "    'trueNegativeCount': '40252',\n",
       "    'confidenceThreshold': 1.0,\n",
       "    'falsePositiveRate': 0.0,\n",
       "    'falsePositiveCount': '0',\n",
       "    'confusionMatrix': {'rows': [[40252.0, 0.0], [72892.0, 0.0]],\n",
       "     'annotationSpecs': [{'displayName': '0 (No Tip)', 'id': '0'},\n",
       "      {'displayName': '1 (Tip)', 'id': '1'}]},\n",
       "    'f1Score': 0.0}]},\n",
       " 'createTime': '2025-06-01T12:13:24.107768Z',\n",
       " 'displayName': 'training-validate'}"
      ]
     },
     "execution_count": 125,
     "metadata": {},
     "output_type": "execute_result"
    }
   ],
   "source": [
    "vertex_eval_list[0].to_dict()"
   ]
  },
  {
   "cell_type": "code",
   "execution_count": 126,
   "id": "5a20318c",
   "metadata": {},
   "outputs": [],
   "source": [
    "# now try the model client: https://cloud.google.com/python/docs/reference/aiplatform/latest/google.cloud.aiplatform_v1.services.model_service.ModelServiceClient#google_cloud_aiplatform_v1_services_model_service_ModelServiceClient_list_model_evaluations"
   ]
  },
  {
   "cell_type": "code",
   "execution_count": 101,
   "id": "52faca87",
   "metadata": {},
   "outputs": [],
   "source": [
    "vertex_eval_list = iter(model_client.list_model_evaluations(parent = vertex_model.versioned_resource_name))"
   ]
  },
  {
   "cell_type": "code",
   "execution_count": 110,
   "id": "1b46c10b",
   "metadata": {},
   "outputs": [],
   "source": [
    "eval = next(vertex_eval_list)"
   ]
  },
  {
   "cell_type": "code",
   "execution_count": 114,
   "id": "980a977d",
   "metadata": {},
   "outputs": [
    {
     "data": {
      "text/plain": [
       "{'auPrc': 0.9990411,\n",
       " 'auRoc': 0.99859875,\n",
       " 'logLoss': 0.057955153,\n",
       " 'confusionMatrix': <proto.marshal.collections.maps.MapComposite at 0x7fbc440f9370>,\n",
       " 'confidenceMetrics': [<proto.marshal.collections.maps.MapComposite object at 0x7fbc440a2a50>, <proto.marshal.collections.maps.MapComposite object at 0x7fbc440fad80>, <proto.marshal.collections.maps.MapComposite object at 0x7fbc440fa630>, <proto.marshal.collections.maps.MapComposite object at 0x7fbc440f97c0>, <proto.marshal.collections.maps.MapComposite object at 0x7fbc440f9f10>, <proto.marshal.collections.maps.MapComposite object at 0x7fbc45fc5d30>, <proto.marshal.collections.maps.MapComposite object at 0x7fbc45fc7c20>, <proto.marshal.collections.maps.MapComposite object at 0x7fbc45fc5a30>, <proto.marshal.collections.maps.MapComposite object at 0x7fbc45fc7560>, <proto.marshal.collections.maps.MapComposite object at 0x7fbc45fc6870>, <proto.marshal.collections.maps.MapComposite object at 0x7fbc45fc5670>, <proto.marshal.collections.maps.MapComposite object at 0x7fbc45fc6720>, <proto.marshal.collections.maps.MapComposite object at 0x7fbc45fc6de0>, <proto.marshal.collections.maps.MapComposite object at 0x7fbc45fc4890>, <proto.marshal.collections.maps.MapComposite object at 0x7fbc45fc5eb0>, <proto.marshal.collections.maps.MapComposite object at 0x7fbc45fc44d0>, <proto.marshal.collections.maps.MapComposite object at 0x7fbc45fc5610>, <proto.marshal.collections.maps.MapComposite object at 0x7fbc45fc6270>, <proto.marshal.collections.maps.MapComposite object at 0x7fbc45fc64e0>, <proto.marshal.collections.maps.MapComposite object at 0x7fbc45fc4290>, <proto.marshal.collections.maps.MapComposite object at 0x7fbc45fc7650>, <proto.marshal.collections.maps.MapComposite object at 0x7fbc45fc6090>, <proto.marshal.collections.maps.MapComposite object at 0x7fbc45fc4dd0>, <proto.marshal.collections.maps.MapComposite object at 0x7fbc45fc43b0>, <proto.marshal.collections.maps.MapComposite object at 0x7fbc45fc6a50>]}"
      ]
     },
     "execution_count": 114,
     "metadata": {},
     "output_type": "execute_result"
    }
   ],
   "source": [
    "dict(eval.metrics)"
   ]
  },
  {
   "cell_type": "code",
   "execution_count": 119,
   "id": "38ead2a1",
   "metadata": {},
   "outputs": [],
   "source": [
    "slices = model_client.list_model_evaluation_slices(parent = eval.name)"
   ]
  },
  {
   "cell_type": "code",
   "execution_count": 120,
   "id": "340f6933",
   "metadata": {},
   "outputs": [],
   "source": [
    "for slice in slices:\n",
    "    print(slice.slice_.value)"
   ]
  },
  {
   "cell_type": "code",
   "execution_count": null,
   "id": "1aeb34bf",
   "metadata": {},
   "outputs": [],
   "source": []
  },
  {
   "cell_type": "code",
   "execution_count": null,
   "id": "4522acc5",
   "metadata": {},
   "outputs": [],
   "source": []
  },
  {
   "cell_type": "markdown",
   "id": "e56b467d",
   "metadata": {},
   "source": [
    "\n",
    "- Add Evaluations to Registry: Test and Train and even validate\n",
    "    - show in registry - screenshot\n",
    "    - retrieve with SDK\n",
    "- Add customized evalaution, review the yaml and edit it\n",
    "- dont forget experiment\n",
    "    - autolog\n",
    "    - manual log\n",
    "    - more than evals"
   ]
  }
 ],
 "metadata": {
  "kernelspec": {
   "display_name": ".venv",
   "language": "python",
   "name": "python3"
  },
  "language_info": {
   "codemirror_mode": {
    "name": "ipython",
    "version": 3
   },
   "file_extension": ".py",
   "mimetype": "text/x-python",
   "name": "python",
   "nbconvert_exporter": "python",
   "pygments_lexer": "ipython3",
   "version": "3.12.10"
  }
 },
 "nbformat": 4,
 "nbformat_minor": 5
}
