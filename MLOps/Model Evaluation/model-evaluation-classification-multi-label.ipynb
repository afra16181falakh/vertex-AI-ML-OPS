{
 "cells": [
  {
   "cell_type": "markdown",
   "id": "ba52a9d1",
   "metadata": {},
   "source": [
    "# Evaluations For Multi-Label Classification Models\n",
    "\n",
    "This workflow, part of our [MLOps](../readme.md) series that dives into [Model Evaluation](./readme.md), provides a comprehensive, end-to-end example of building and evaluating a machine learning model directly within Google Cloud's Vertex AI ecosystem.\n",
    "\n",
    "Specifically, this guide will walk you through how to:\n",
    "\n",
    "* **Prepare Data at Scale:** Begin by exploring and efficiently preparing a large public dataset sourced from **BigQuery**, demonstrating how to leverage both powerful **SQL** queries and the interactive **BigFrames API** (pandas interface) for machine learning data readiness.\n",
    "* **Build Robust Models with Scikit-learn:** Construct a complete **Scikit-learn model pipeline** that seamlessly integrates additional feature engineering steps with the training of a classification model.\n",
    "* **Register Models in Vertex AI:** Master the crucial MLOps step of saving your trained model and **registering it as a version within the Vertex AI Model Registry** for centralized management and version control.\n",
    "* **Generate & Upload Custom Metrics:** Delve into preparing **custom, detailed evaluation metrics** using **Scikit-learn**, and then strategically **load these results to your versioned model in the Vertex AI Model Registry**. This includes showcasing how to generate and upload metrics for specific **data slices** to gain granular performance insights.\n",
    "* **Review & Retrieve Evaluations:** Conclude by learning how to easily **review and programmatically retrieve these comprehensive evaluation results** directly from the Model Registry UI and via the **Vertex AI SDK**, empowering you to effectively track and compare model performance over time.\n",
    "* **Generate and Work With Slices** Create metrics for slices of the data, in this case the class levels of the multi-class model.  Learn to generate and upload these to model evaluations in the Vertex AI Model Registry.\n",
    "\n",
    "**The Model:**\n",
    "\n",
    "This workflow uses a data source of Stack Overflow posts.  It creates a predictive model that predicts which tags apply to a post (e.g., 'python', 'pandas', 'data-science') - a multi-label classifier."
   ]
  },
  {
   "cell_type": "markdown",
   "id": "e1e4fe3a",
   "metadata": {},
   "source": []
  }
 ],
 "metadata": {
  "language_info": {
   "name": "python"
  }
 },
 "nbformat": 4,
 "nbformat_minor": 5
}
