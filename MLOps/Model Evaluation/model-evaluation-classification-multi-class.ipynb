{
 "cells": [
  {
   "cell_type": "markdown",
   "id": "a757d7a1",
   "metadata": {},
   "source": [
    "# Evaluations For Multi-Class Classification Models\n",
    "\n",
    "This workflow, part of our [MLOps](../readme.md) series that dives into [Model Evaluation](./readme.md), provides a comprehensive, end-to-end example of building and evaluating a machine learning model directly within Google Cloud's Vertex AI ecosystem.\n",
    "\n",
    "Specifically, this guide will walk you through how to:\n",
    "\n",
    "* **Prepare Data at Scale:** Begin by exploring and efficiently preparing a large public dataset sourced from **BigQuery**, demonstrating how to leverage both powerful **SQL** queries and the interactive **BigFrames API** (pandas interface) for machine learning data readiness.\n",
    "* **Build Robust Models with Scikit-learn:** Construct a complete **Scikit-learn model pipeline** that seamlessly integrates additional feature engineering steps with the training of a classification model.\n",
    "* **Register Models in Vertex AI:** Master the crucial MLOps step of saving your trained model and **registering it as a version within the Vertex AI Model Registry** for centralized management and version control.\n",
    "* **Generate & Upload Custom Metrics:** Delve into preparing **custom, detailed evaluation metrics** using **Scikit-learn**, and then strategically **load these results to your versioned model in the Vertex AI Model Registry**. This includes showcasing how to generate and upload metrics for specific **data slices** to gain granular performance insights.\n",
    "* **Review & Retrieve Evaluations:** Conclude by learning how to easily **review and programmatically retrieve these comprehensive evaluation results** directly from the Model Registry UI and via the **Vertex AI SDK**, empowering you to effectively track and compare model performance over time.\n"
   ]
  },
  {
   "cell_type": "markdown",
   "id": "a37311cd",
   "metadata": {},
   "source": [
    "---\n",
    "## Colab Setup\n",
    "\n",
    "To run this notebook in Colab run the cells in this section.  Otherwise, skip this section.\n",
    "\n",
    "This cell will authenticate to GCP (follow prompts in the popup)."
   ]
  },
  {
   "cell_type": "code",
   "execution_count": 2,
   "id": "604a5ced",
   "metadata": {},
   "outputs": [],
   "source": [
    "PROJECT_ID = 'statmike-mlops-349915' # replace with project ID"
   ]
  },
  {
   "cell_type": "code",
   "execution_count": 3,
   "id": "8273895e",
   "metadata": {},
   "outputs": [],
   "source": [
    "try:\n",
    "    import google.colab\n",
    "    from google.colab import auth\n",
    "    auth.authenticate_user()\n",
    "    !gcloud config set project {PROJECT_ID}\n",
    "except Exception:\n",
    "    pass"
   ]
  },
  {
   "cell_type": "markdown",
   "id": "926eb4e1",
   "metadata": {},
   "source": [
    "---\n",
    "## Installs\n",
    "\n",
    "The list `packages` contains tuples of package import names and install names.  If the import name is not found then the install name is used to install quitely for the current user."
   ]
  },
  {
   "cell_type": "code",
   "execution_count": 4,
   "id": "f8d6c17e",
   "metadata": {},
   "outputs": [],
   "source": [
    "# tuples of (import name, install name, min_version)\n",
    "packages = [\n",
    "    ('bigframes', 'bigframes'),\n",
    "    ('sklearn', 'scikit-learn'),\n",
    "    ('numpy', 'numpy'),\n",
    "    ('google.cloud.aiplatform', 'google-cloud-aiplatform'), \n",
    "    ('google.cloud.storage', 'google-cloud-storage'),\n",
    "    ('google.cloud.bigquery', 'google-cloud-bigquery'),\n",
    "    ('bigquery_magics', 'bigquery-magics'),\n",
    "    ('matplotlib', 'matplotlib')\n",
    "]\n",
    "\n",
    "import importlib\n",
    "install = False\n",
    "for package in packages:\n",
    "    if not importlib.util.find_spec(package[0]):\n",
    "        print(f'installing package {package[1]}')\n",
    "        install = True\n",
    "        !pip install {package[1]} -U -q --user\n",
    "    elif len(package) == 3:\n",
    "        if importlib.metadata.version(package[0]) < package[2]:\n",
    "            print(f'updating package {package[1]}')\n",
    "            install = True\n",
    "            !pip install {package[1]} -U -q --user"
   ]
  },
  {
   "cell_type": "markdown",
   "id": "6251ffed",
   "metadata": {},
   "source": [
    "### API Enablement"
   ]
  },
  {
   "cell_type": "code",
   "execution_count": 5,
   "id": "b08753ef",
   "metadata": {},
   "outputs": [],
   "source": [
    "!gcloud services enable aiplatform.googleapis.com"
   ]
  },
  {
   "cell_type": "markdown",
   "id": "e89baa81",
   "metadata": {},
   "source": [
    "### Restart Kernel (If Installs Occured)\n",
    "\n",
    "After a kernel restart the code submission can start with the next cell after this one."
   ]
  },
  {
   "cell_type": "code",
   "execution_count": 6,
   "id": "540fe0e1",
   "metadata": {},
   "outputs": [],
   "source": [
    "if install:\n",
    "    import IPython\n",
    "    app = IPython.Application.instance()\n",
    "    app.kernel.do_shutdown(True)\n",
    "    IPython.display.display(IPython.display.Markdown(\"\"\"<div class=\\\"alert alert-block alert-warning\\\">\n",
    "        <b>⚠️ The kernel is going to restart. Please wait until it is finished before continuing to the next step. The previous cells do not need to be run again⚠️</b>\n",
    "        </div>\"\"\"))"
   ]
  },
  {
   "cell_type": "markdown",
   "id": "3c36c811",
   "metadata": {},
   "source": [
    "---\n",
    "## Setup"
   ]
  },
  {
   "cell_type": "markdown",
   "id": "4210a4d3",
   "metadata": {},
   "source": [
    "inputs:"
   ]
  },
  {
   "cell_type": "code",
   "execution_count": 7,
   "id": "3e3f9dba",
   "metadata": {},
   "outputs": [
    {
     "data": {
      "text/plain": [
       "'statmike-mlops-349915'"
      ]
     },
     "execution_count": 7,
     "metadata": {},
     "output_type": "execute_result"
    }
   ],
   "source": [
    "project = !gcloud config get-value project\n",
    "PROJECT_ID = project[0]\n",
    "PROJECT_ID"
   ]
  },
  {
   "cell_type": "code",
   "execution_count": 8,
   "id": "087a3195",
   "metadata": {},
   "outputs": [],
   "source": [
    "REGION = 'us-central1'\n",
    "SERIES = 'mlops'\n",
    "EXPERIMENT = 'evaluation-classification-multi-class'\n",
    "\n",
    "# Set the name of GCS Bucket to read/write to\n",
    "GCS_BUCKET = PROJECT_ID\n",
    "\n",
    "# Data source for this workflow\n",
    "BQ_SOURCE = 'bigquery-public-data.ml_datasets.penguins'\n",
    "\n",
    "# make this the BigQuery Project / Dataset / Table prefix to store results\n",
    "BQ_PROJECT = PROJECT_ID\n",
    "BQ_DATASET = SERIES.replace('-', '_')\n",
    "BQ_TABLE = EXPERIMENT\n",
    "BQ_REGION = REGION[0:2] # use a multi region"
   ]
  },
  {
   "cell_type": "markdown",
   "id": "bb938c87",
   "metadata": {},
   "source": [
    "packages:"
   ]
  },
  {
   "cell_type": "code",
   "execution_count": 9,
   "id": "dd18bfcb",
   "metadata": {},
   "outputs": [],
   "source": [
    "import os\n",
    "import joblib\n",
    "import sklearn.metrics\n",
    "import sklearn.ensemble\n",
    "import sklearn.pipeline\n",
    "import sklearn.compose\n",
    "import sklearn.preprocessing\n",
    "import sklearn.impute\n",
    "import numpy as np\n",
    "import matplotlib.pyplot as plt\n",
    "\n",
    "import bigframes.pandas as bpd\n",
    "from google.cloud import aiplatform\n",
    "from google.cloud import bigquery\n",
    "from google.cloud import storage"
   ]
  },
  {
   "cell_type": "markdown",
   "id": "403ebda8",
   "metadata": {},
   "source": [
    "clients:"
   ]
  },
  {
   "cell_type": "code",
   "execution_count": 10,
   "id": "917fac5c",
   "metadata": {},
   "outputs": [
    {
     "data": {
      "text/html": [
       "\n",
       "        \n",
       "    <link rel=\"stylesheet\" href=\"https://fonts.googleapis.com/icon?family=Material+Icons\">\n",
       "    <style>\n",
       "      .view-vertex-resource,\n",
       "      .view-vertex-resource:hover,\n",
       "      .view-vertex-resource:visited {\n",
       "        position: relative;\n",
       "        display: inline-flex;\n",
       "        flex-direction: row;\n",
       "        height: 32px;\n",
       "        padding: 0 12px;\n",
       "          margin: 4px 18px;\n",
       "        gap: 4px;\n",
       "        border-radius: 4px;\n",
       "\n",
       "        align-items: center;\n",
       "        justify-content: center;\n",
       "        background-color: rgb(255, 255, 255);\n",
       "        color: rgb(51, 103, 214);\n",
       "\n",
       "        font-family: Roboto,\"Helvetica Neue\",sans-serif;\n",
       "        font-size: 13px;\n",
       "        font-weight: 500;\n",
       "        text-transform: uppercase;\n",
       "        text-decoration: none !important;\n",
       "\n",
       "        transition: box-shadow 280ms cubic-bezier(0.4, 0, 0.2, 1) 0s;\n",
       "        box-shadow: 0px 3px 1px -2px rgba(0,0,0,0.2), 0px 2px 2px 0px rgba(0,0,0,0.14), 0px 1px 5px 0px rgba(0,0,0,0.12);\n",
       "      }\n",
       "      .view-vertex-resource:active {\n",
       "        box-shadow: 0px 5px 5px -3px rgba(0,0,0,0.2),0px 8px 10px 1px rgba(0,0,0,0.14),0px 3px 14px 2px rgba(0,0,0,0.12);\n",
       "      }\n",
       "      .view-vertex-resource:active .view-vertex-ripple::before {\n",
       "        position: absolute;\n",
       "        top: 0;\n",
       "        bottom: 0;\n",
       "        left: 0;\n",
       "        right: 0;\n",
       "        border-radius: 4px;\n",
       "        pointer-events: none;\n",
       "\n",
       "        content: '';\n",
       "        background-color: rgb(51, 103, 214);\n",
       "        opacity: 0.12;\n",
       "      }\n",
       "      .view-vertex-icon {\n",
       "        font-size: 18px;\n",
       "      }\n",
       "    </style>\n",
       "  \n",
       "        <a class=\"view-vertex-resource\" id=\"view-vertex-resource-d4ed4023-e832-48a7-947b-16e3225475fb\" href=\"#view-view-vertex-resource-d4ed4023-e832-48a7-947b-16e3225475fb\">\n",
       "          <span class=\"material-icons view-vertex-icon\">science</span>\n",
       "          <span>View Experiment</span>\n",
       "        </a>\n",
       "        \n",
       "        <script>\n",
       "          (function () {\n",
       "            const link = document.getElementById('view-vertex-resource-d4ed4023-e832-48a7-947b-16e3225475fb');\n",
       "            link.addEventListener('click', (e) => {\n",
       "              if (window.google?.colab?.openUrl) {\n",
       "                window.google.colab.openUrl('https://console.cloud.google.com/vertex-ai/experiments/locations/us-central1/experiments/mlops-evaluation-classification-multi-class/runs?project=statmike-mlops-349915');\n",
       "              } else {\n",
       "                window.open('https://console.cloud.google.com/vertex-ai/experiments/locations/us-central1/experiments/mlops-evaluation-classification-multi-class/runs?project=statmike-mlops-349915', '_blank');\n",
       "              }\n",
       "              e.stopPropagation();\n",
       "              e.preventDefault();\n",
       "            });\n",
       "          })();\n",
       "        </script>\n",
       "    "
      ],
      "text/plain": [
       "<IPython.core.display.HTML object>"
      ]
     },
     "metadata": {},
     "output_type": "display_data"
    }
   ],
   "source": [
    "# vertex ai clients\n",
    "aiplatform.init(project = PROJECT_ID, location = REGION, experiment = SERIES+'-'+EXPERIMENT)\n",
    "\n",
    "# gcs storage client\n",
    "gcs = storage.Client(project = GCS_BUCKET)\n",
    "bucket = gcs.bucket(GCS_BUCKET)\n",
    "\n",
    "# bigquery client\n",
    "bq = bigquery.Client(project = PROJECT_ID)\n",
    "\n",
    "# bigframes setup\n",
    "bpd.options.bigquery.project = PROJECT_ID\n",
    "\n",
    "# bigquery cell magics load\n",
    "%load_ext bigquery_magics"
   ]
  },
  {
   "cell_type": "markdown",
   "id": "7f81f6b9",
   "metadata": {},
   "source": [
    "Parameters:"
   ]
  },
  {
   "cell_type": "code",
   "execution_count": 11,
   "id": "40c86353",
   "metadata": {},
   "outputs": [],
   "source": [
    "DIR = f\"files/{EXPERIMENT}\""
   ]
  },
  {
   "cell_type": "markdown",
   "id": "f24682dc",
   "metadata": {},
   "source": [
    "Environment:"
   ]
  },
  {
   "cell_type": "code",
   "execution_count": 12,
   "id": "31d65163",
   "metadata": {},
   "outputs": [],
   "source": [
    "if not os.path.exists(DIR):\n",
    "    os.makedirs(DIR)"
   ]
  },
  {
   "cell_type": "markdown",
   "id": "c817cb0c",
   "metadata": {},
   "source": [
    "---\n",
    "## Review Data Source: Palmer Penguins\n",
    "\n",
    "This project will uses the following data source as a tutorial.  It is good for examples like this because it is small, has few columns, but contains categorial and numerical data types.\n",
    "\n",
    "The source table is a BigQuery Public Dataset table.  The following cell uses the [BigQuery IPython magic](https://cloud.google.com/python/docs/reference/bigquery/latest/magics) to retrieve 5 rows of the table for review.  This data is known as [Palmer Penguins](https://allisonhorst.github.io/palmerpenguins/) data: \n",
    "\n",
    "```\n",
    "@Manual{,\n",
    "  title = {palmerpenguins: Palmer Archipelago (Antarctica) penguin data},\n",
    "  author = {Allison Marie Horst and Alison Presmanes Hill and Kristen B Gorman},\n",
    "  year = {2020},\n",
    "  note = {R package version 0.1.0},\n",
    "  doi = {10.5281/zenodo.3960218},\n",
    "  url = {https://allisonhorst.github.io/palmerpenguins/},\n",
    "}\n",
    "```\n",
    "\n",
    "\n",
    "There are 334 observations of 4 numerical features (culman length, culmen depth, flipper length, body mass) and 2  categorical features (island, sex) that represent 3 species of penguins."
   ]
  },
  {
   "cell_type": "markdown",
   "id": "ea547080",
   "metadata": {},
   "source": [
    "### Review BigQuery table:\n",
    "\n",
    "Use the [BigQuery BigFrames](https://cloud.google.com/bigquery/docs/use-bigquery-dataframes) package, setup above, to treat BigQuery tables like dataframes.  This has the advantage of doing the computing within BigQuery rather than pulling the data locally."
   ]
  },
  {
   "cell_type": "code",
   "execution_count": 13,
   "id": "9bafa95f",
   "metadata": {},
   "outputs": [
    {
     "data": {
      "text/html": [
       "Query job 5eb81381-3dc1-4a29-98f0-a1a54e90806c is DONE. 0 Bytes processed. <a target=\"_blank\" href=\"https://console.cloud.google.com/bigquery?project=statmike-mlops-349915&j=bq:US:5eb81381-3dc1-4a29-98f0-a1a54e90806c&page=queryresults\">Open Job</a>"
      ],
      "text/plain": [
       "<IPython.core.display.HTML object>"
      ]
     },
     "metadata": {},
     "output_type": "display_data"
    },
    {
     "data": {
      "text/html": [
       "Query job 560e79df-c421-4471-97bc-c5e9bf12a559 is DONE. 28.9 kB processed. <a target=\"_blank\" href=\"https://console.cloud.google.com/bigquery?project=statmike-mlops-349915&j=bq:US:560e79df-c421-4471-97bc-c5e9bf12a559&page=queryresults\">Open Job</a>"
      ],
      "text/plain": [
       "<IPython.core.display.HTML object>"
      ]
     },
     "metadata": {},
     "output_type": "display_data"
    },
    {
     "data": {
      "text/html": [
       "<div>\n",
       "<style scoped>\n",
       "    .dataframe tbody tr th:only-of-type {\n",
       "        vertical-align: middle;\n",
       "    }\n",
       "\n",
       "    .dataframe tbody tr th {\n",
       "        vertical-align: top;\n",
       "    }\n",
       "\n",
       "    .dataframe thead th {\n",
       "        text-align: right;\n",
       "    }\n",
       "</style>\n",
       "<table border=\"1\" class=\"dataframe\">\n",
       "  <thead>\n",
       "    <tr style=\"text-align: right;\">\n",
       "      <th></th>\n",
       "      <th>species</th>\n",
       "      <th>island</th>\n",
       "      <th>culmen_length_mm</th>\n",
       "      <th>culmen_depth_mm</th>\n",
       "      <th>flipper_length_mm</th>\n",
       "      <th>body_mass_g</th>\n",
       "      <th>sex</th>\n",
       "    </tr>\n",
       "  </thead>\n",
       "  <tbody>\n",
       "    <tr>\n",
       "      <th>0</th>\n",
       "      <td>Gentoo penguin (Pygoscelis papua)</td>\n",
       "      <td>Biscoe</td>\n",
       "      <td>45.2</td>\n",
       "      <td>16.4</td>\n",
       "      <td>223.0</td>\n",
       "      <td>5950.0</td>\n",
       "      <td>MALE</td>\n",
       "    </tr>\n",
       "    <tr>\n",
       "      <th>1</th>\n",
       "      <td>Gentoo penguin (Pygoscelis papua)</td>\n",
       "      <td>Biscoe</td>\n",
       "      <td>46.5</td>\n",
       "      <td>14.5</td>\n",
       "      <td>213.0</td>\n",
       "      <td>4400.0</td>\n",
       "      <td>FEMALE</td>\n",
       "    </tr>\n",
       "    <tr>\n",
       "      <th>2</th>\n",
       "      <td>Adelie Penguin (Pygoscelis adeliae)</td>\n",
       "      <td>Biscoe</td>\n",
       "      <td>37.7</td>\n",
       "      <td>16.0</td>\n",
       "      <td>183.0</td>\n",
       "      <td>3075.0</td>\n",
       "      <td>FEMALE</td>\n",
       "    </tr>\n",
       "    <tr>\n",
       "      <th>3</th>\n",
       "      <td>Gentoo penguin (Pygoscelis papua)</td>\n",
       "      <td>Biscoe</td>\n",
       "      <td>46.4</td>\n",
       "      <td>15.6</td>\n",
       "      <td>221.0</td>\n",
       "      <td>5000.0</td>\n",
       "      <td>MALE</td>\n",
       "    </tr>\n",
       "    <tr>\n",
       "      <th>4</th>\n",
       "      <td>Gentoo penguin (Pygoscelis papua)</td>\n",
       "      <td>Biscoe</td>\n",
       "      <td>46.1</td>\n",
       "      <td>13.2</td>\n",
       "      <td>211.0</td>\n",
       "      <td>4500.0</td>\n",
       "      <td>FEMALE</td>\n",
       "    </tr>\n",
       "  </tbody>\n",
       "</table>\n",
       "<p>5 rows × 7 columns</p>\n",
       "</div>[5 rows x 7 columns in total]"
      ],
      "text/plain": [
       "                               species  island  culmen_length_mm  \\\n",
       "0    Gentoo penguin (Pygoscelis papua)  Biscoe              45.2   \n",
       "1    Gentoo penguin (Pygoscelis papua)  Biscoe              46.5   \n",
       "2  Adelie Penguin (Pygoscelis adeliae)  Biscoe              37.7   \n",
       "3    Gentoo penguin (Pygoscelis papua)  Biscoe              46.4   \n",
       "4    Gentoo penguin (Pygoscelis papua)  Biscoe              46.1   \n",
       "\n",
       "   culmen_depth_mm  flipper_length_mm  body_mass_g     sex  \n",
       "0             16.4              223.0       5950.0    MALE  \n",
       "1             14.5              213.0       4400.0  FEMALE  \n",
       "2             16.0              183.0       3075.0  FEMALE  \n",
       "3             15.6              221.0       5000.0    MALE  \n",
       "4             13.2              211.0       4500.0  FEMALE  \n",
       "\n",
       "[5 rows x 7 columns]"
      ]
     },
     "execution_count": 13,
     "metadata": {},
     "output_type": "execute_result"
    }
   ],
   "source": [
    "source_data = bpd.read_gbq(BQ_SOURCE)\n",
    "source_data.head()"
   ]
  },
  {
   "cell_type": "code",
   "execution_count": 14,
   "id": "bebc6801",
   "metadata": {},
   "outputs": [
    {
     "name": "stdout",
     "output_type": "stream",
     "text": [
      "<class 'bigframes.dataframe.DataFrame'>\n",
      "Index: 344 entries, 0 to 343\n",
      "Data columns (total 7 columns):\n",
      "  #  Column             Non-Null Count    Dtype\n",
      "---  -----------------  ----------------  -------\n",
      "  0  species            344 non-null      string\n",
      "  1  island             344 non-null      string\n",
      "  2  culmen_length_mm   342 non-null      Float64\n",
      "  3  culmen_depth_mm    342 non-null      Float64\n",
      "  4  flipper_length_mm  342 non-null      Float64\n",
      "  5  body_mass_g        342 non-null      Float64\n",
      "  6  sex                334 non-null      string\n",
      "dtypes: Float64(4), string(3)\n",
      "memory usage: 22016 bytes\n"
     ]
    }
   ],
   "source": [
    "source_data.info()"
   ]
  },
  {
   "cell_type": "code",
   "execution_count": 15,
   "id": "be903570",
   "metadata": {},
   "outputs": [
    {
     "data": {
      "text/html": [
       "Query job c5c69045-39b6-4a45-ab77-7b6330c80bed is DONE. 28.9 kB processed. <a target=\"_blank\" href=\"https://console.cloud.google.com/bigquery?project=statmike-mlops-349915&j=bq:US:c5c69045-39b6-4a45-ab77-7b6330c80bed&page=queryresults\">Open Job</a>"
      ],
      "text/plain": [
       "<IPython.core.display.HTML object>"
      ]
     },
     "metadata": {},
     "output_type": "display_data"
    },
    {
     "data": {
      "text/html": [
       "<div>\n",
       "<style scoped>\n",
       "    .dataframe tbody tr th:only-of-type {\n",
       "        vertical-align: middle;\n",
       "    }\n",
       "\n",
       "    .dataframe tbody tr th {\n",
       "        vertical-align: top;\n",
       "    }\n",
       "\n",
       "    .dataframe thead th {\n",
       "        text-align: right;\n",
       "    }\n",
       "</style>\n",
       "<table border=\"1\" class=\"dataframe\">\n",
       "  <thead>\n",
       "    <tr style=\"text-align: right;\">\n",
       "      <th></th>\n",
       "      <th>species</th>\n",
       "      <th>island</th>\n",
       "      <th>culmen_length_mm</th>\n",
       "      <th>culmen_depth_mm</th>\n",
       "      <th>flipper_length_mm</th>\n",
       "      <th>body_mass_g</th>\n",
       "      <th>sex</th>\n",
       "    </tr>\n",
       "  </thead>\n",
       "  <tbody>\n",
       "    <tr>\n",
       "      <th>count</th>\n",
       "      <td>344</td>\n",
       "      <td>344</td>\n",
       "      <td>342.0</td>\n",
       "      <td>342.0</td>\n",
       "      <td>342.0</td>\n",
       "      <td>342.0</td>\n",
       "      <td>334</td>\n",
       "    </tr>\n",
       "    <tr>\n",
       "      <th>nunique</th>\n",
       "      <td>3</td>\n",
       "      <td>3</td>\n",
       "      <td>&lt;NA&gt;</td>\n",
       "      <td>&lt;NA&gt;</td>\n",
       "      <td>&lt;NA&gt;</td>\n",
       "      <td>&lt;NA&gt;</td>\n",
       "      <td>3</td>\n",
       "    </tr>\n",
       "    <tr>\n",
       "      <th>mean</th>\n",
       "      <td>&lt;NA&gt;</td>\n",
       "      <td>&lt;NA&gt;</td>\n",
       "      <td>43.92193</td>\n",
       "      <td>17.15117</td>\n",
       "      <td>200.915205</td>\n",
       "      <td>4201.754386</td>\n",
       "      <td>&lt;NA&gt;</td>\n",
       "    </tr>\n",
       "    <tr>\n",
       "      <th>std</th>\n",
       "      <td>&lt;NA&gt;</td>\n",
       "      <td>&lt;NA&gt;</td>\n",
       "      <td>5.459584</td>\n",
       "      <td>1.974793</td>\n",
       "      <td>14.061714</td>\n",
       "      <td>801.954536</td>\n",
       "      <td>&lt;NA&gt;</td>\n",
       "    </tr>\n",
       "    <tr>\n",
       "      <th>min</th>\n",
       "      <td>&lt;NA&gt;</td>\n",
       "      <td>&lt;NA&gt;</td>\n",
       "      <td>32.1</td>\n",
       "      <td>13.1</td>\n",
       "      <td>172.0</td>\n",
       "      <td>2700.0</td>\n",
       "      <td>&lt;NA&gt;</td>\n",
       "    </tr>\n",
       "    <tr>\n",
       "      <th>25%</th>\n",
       "      <td>&lt;NA&gt;</td>\n",
       "      <td>&lt;NA&gt;</td>\n",
       "      <td>39.2</td>\n",
       "      <td>15.5</td>\n",
       "      <td>190.0</td>\n",
       "      <td>3550.0</td>\n",
       "      <td>&lt;NA&gt;</td>\n",
       "    </tr>\n",
       "    <tr>\n",
       "      <th>50%</th>\n",
       "      <td>&lt;NA&gt;</td>\n",
       "      <td>&lt;NA&gt;</td>\n",
       "      <td>44.1</td>\n",
       "      <td>17.3</td>\n",
       "      <td>197.0</td>\n",
       "      <td>4000.0</td>\n",
       "      <td>&lt;NA&gt;</td>\n",
       "    </tr>\n",
       "    <tr>\n",
       "      <th>75%</th>\n",
       "      <td>&lt;NA&gt;</td>\n",
       "      <td>&lt;NA&gt;</td>\n",
       "      <td>48.5</td>\n",
       "      <td>18.7</td>\n",
       "      <td>213.0</td>\n",
       "      <td>4750.0</td>\n",
       "      <td>&lt;NA&gt;</td>\n",
       "    </tr>\n",
       "    <tr>\n",
       "      <th>max</th>\n",
       "      <td>&lt;NA&gt;</td>\n",
       "      <td>&lt;NA&gt;</td>\n",
       "      <td>59.6</td>\n",
       "      <td>21.5</td>\n",
       "      <td>231.0</td>\n",
       "      <td>6300.0</td>\n",
       "      <td>&lt;NA&gt;</td>\n",
       "    </tr>\n",
       "  </tbody>\n",
       "</table>\n",
       "<p>9 rows × 7 columns</p>\n",
       "</div>[9 rows x 7 columns in total]"
      ],
      "text/plain": [
       "         species  island  culmen_length_mm  culmen_depth_mm  \\\n",
       "count        344     344             342.0            342.0   \n",
       "nunique        3       3              <NA>             <NA>   \n",
       "mean        <NA>    <NA>          43.92193         17.15117   \n",
       "std         <NA>    <NA>          5.459584         1.974793   \n",
       "min         <NA>    <NA>              32.1             13.1   \n",
       "25%         <NA>    <NA>              39.2             15.5   \n",
       "50%         <NA>    <NA>              44.1             17.3   \n",
       "75%         <NA>    <NA>              48.5             18.7   \n",
       "max         <NA>    <NA>              59.6             21.5   \n",
       "\n",
       "         flipper_length_mm  body_mass_g   sex  \n",
       "count                342.0        342.0   334  \n",
       "nunique               <NA>         <NA>     3  \n",
       "mean            200.915205  4201.754386  <NA>  \n",
       "std              14.061714   801.954536  <NA>  \n",
       "min                  172.0       2700.0  <NA>  \n",
       "25%                  190.0       3550.0  <NA>  \n",
       "50%                  197.0       4000.0  <NA>  \n",
       "75%                  213.0       4750.0  <NA>  \n",
       "max                  231.0       6300.0  <NA>  \n",
       "\n",
       "[9 rows x 7 columns]"
      ]
     },
     "execution_count": 15,
     "metadata": {},
     "output_type": "execute_result"
    }
   ],
   "source": [
    "source_data.describe(include = 'all')"
   ]
  },
  {
   "cell_type": "markdown",
   "id": "2e6680b0",
   "metadata": {},
   "source": [
    "### Understand The Data Source With `ML.DESCRIBE_DATA`\n",
    "\n",
    "Reviewing a few records, like above, gives a good sense of how the data is arranged. Before proceeding with machine learning techniques it is important to understand more about these raw columns.  Are they ready to use a features in a model or is some form of feature engineering needed first?  For this, the distribution of values is an important starting point.  \n",
    "\n",
    "While SQL could be used to look at the distribution, it would be a time consuming process and requires different techniques for different data types like numerical, string, boolean, dates, times, array and struct version of these, and arrays of structs.\n",
    "\n",
    "To make this process fast and simple, the new [`ML.DESCRIBE_DATA`](https://cloud.google.com/bigquery/docs/reference/standard-sql/bigqueryml-syntax-describe-data) function is used to get a single row for each column the describes the data distribution:\n",
    "- `top_k`: get the top 3 most frequent categories for string columns (default = 1)\n",
    "- `num_quantiles`: get 4 quantiles for numerical columns (default = 2)"
   ]
  },
  {
   "cell_type": "code",
   "execution_count": 16,
   "id": "03c514be",
   "metadata": {},
   "outputs": [
    {
     "data": {
      "application/vnd.jupyter.widget-view+json": {
       "model_id": "6450d504f68d465f8a9c45943eefcea5",
       "version_major": 2,
       "version_minor": 0
      },
      "text/plain": [
       "Query is running:   0%|          |"
      ]
     },
     "metadata": {},
     "output_type": "display_data"
    },
    {
     "data": {
      "application/vnd.jupyter.widget-view+json": {
       "model_id": "c4c0c0511d984b94aa2a4e36ee294869",
       "version_major": 2,
       "version_minor": 0
      },
      "text/plain": [
       "Downloading:   0%|          |"
      ]
     },
     "metadata": {},
     "output_type": "display_data"
    },
    {
     "data": {
      "text/html": [
       "<div>\n",
       "<style scoped>\n",
       "    .dataframe tbody tr th:only-of-type {\n",
       "        vertical-align: middle;\n",
       "    }\n",
       "\n",
       "    .dataframe tbody tr th {\n",
       "        vertical-align: top;\n",
       "    }\n",
       "\n",
       "    .dataframe thead th {\n",
       "        text-align: right;\n",
       "    }\n",
       "</style>\n",
       "<table border=\"1\" class=\"dataframe\">\n",
       "  <thead>\n",
       "    <tr style=\"text-align: right;\">\n",
       "      <th></th>\n",
       "      <th>name</th>\n",
       "      <th>num_rows</th>\n",
       "      <th>num_nulls</th>\n",
       "      <th>num_zeros</th>\n",
       "      <th>min</th>\n",
       "      <th>max</th>\n",
       "      <th>mean</th>\n",
       "      <th>stddev</th>\n",
       "      <th>median</th>\n",
       "      <th>quantiles</th>\n",
       "      <th>unique</th>\n",
       "      <th>avg_string_length</th>\n",
       "      <th>num_values</th>\n",
       "      <th>top_values</th>\n",
       "      <th>min_array_length</th>\n",
       "      <th>max_array_length</th>\n",
       "      <th>avg_array_length</th>\n",
       "      <th>total_array_length</th>\n",
       "      <th>array_length_quantiles</th>\n",
       "      <th>dimension</th>\n",
       "    </tr>\n",
       "  </thead>\n",
       "  <tbody>\n",
       "    <tr>\n",
       "      <th>0</th>\n",
       "      <td>body_mass_g</td>\n",
       "      <td>344</td>\n",
       "      <td>2</td>\n",
       "      <td>0</td>\n",
       "      <td>2700</td>\n",
       "      <td>6300</td>\n",
       "      <td>4201.754386</td>\n",
       "      <td>800.781229</td>\n",
       "      <td>4000.0</td>\n",
       "      <td>[2700.0, 3550.0, 4000.0, 4750.0, 6300.0]</td>\n",
       "      <td>&lt;NA&gt;</td>\n",
       "      <td>NaN</td>\n",
       "      <td>342</td>\n",
       "      <td>[]</td>\n",
       "      <td>&lt;NA&gt;</td>\n",
       "      <td>&lt;NA&gt;</td>\n",
       "      <td>NaN</td>\n",
       "      <td>&lt;NA&gt;</td>\n",
       "      <td>[]</td>\n",
       "      <td>&lt;NA&gt;</td>\n",
       "    </tr>\n",
       "    <tr>\n",
       "      <th>1</th>\n",
       "      <td>culmen_depth_mm</td>\n",
       "      <td>344</td>\n",
       "      <td>2</td>\n",
       "      <td>0</td>\n",
       "      <td>13.1</td>\n",
       "      <td>21.5</td>\n",
       "      <td>17.151170</td>\n",
       "      <td>1.971904</td>\n",
       "      <td>17.3</td>\n",
       "      <td>[13.1, 15.6, 17.3, 18.7, 21.5]</td>\n",
       "      <td>&lt;NA&gt;</td>\n",
       "      <td>NaN</td>\n",
       "      <td>342</td>\n",
       "      <td>[]</td>\n",
       "      <td>&lt;NA&gt;</td>\n",
       "      <td>&lt;NA&gt;</td>\n",
       "      <td>NaN</td>\n",
       "      <td>&lt;NA&gt;</td>\n",
       "      <td>[]</td>\n",
       "      <td>&lt;NA&gt;</td>\n",
       "    </tr>\n",
       "    <tr>\n",
       "      <th>2</th>\n",
       "      <td>culmen_length_mm</td>\n",
       "      <td>344</td>\n",
       "      <td>2</td>\n",
       "      <td>0</td>\n",
       "      <td>32.1</td>\n",
       "      <td>59.6</td>\n",
       "      <td>43.921930</td>\n",
       "      <td>5.451596</td>\n",
       "      <td>44.4</td>\n",
       "      <td>[32.1, 39.2, 44.4, 48.5, 59.6]</td>\n",
       "      <td>&lt;NA&gt;</td>\n",
       "      <td>NaN</td>\n",
       "      <td>342</td>\n",
       "      <td>[]</td>\n",
       "      <td>&lt;NA&gt;</td>\n",
       "      <td>&lt;NA&gt;</td>\n",
       "      <td>NaN</td>\n",
       "      <td>&lt;NA&gt;</td>\n",
       "      <td>[]</td>\n",
       "      <td>&lt;NA&gt;</td>\n",
       "    </tr>\n",
       "    <tr>\n",
       "      <th>3</th>\n",
       "      <td>flipper_length_mm</td>\n",
       "      <td>344</td>\n",
       "      <td>2</td>\n",
       "      <td>0</td>\n",
       "      <td>172</td>\n",
       "      <td>231</td>\n",
       "      <td>200.915205</td>\n",
       "      <td>14.041141</td>\n",
       "      <td>197.0</td>\n",
       "      <td>[172.0, 190.0, 197.0, 213.0, 231.0]</td>\n",
       "      <td>&lt;NA&gt;</td>\n",
       "      <td>NaN</td>\n",
       "      <td>342</td>\n",
       "      <td>[]</td>\n",
       "      <td>&lt;NA&gt;</td>\n",
       "      <td>&lt;NA&gt;</td>\n",
       "      <td>NaN</td>\n",
       "      <td>&lt;NA&gt;</td>\n",
       "      <td>[]</td>\n",
       "      <td>&lt;NA&gt;</td>\n",
       "    </tr>\n",
       "    <tr>\n",
       "      <th>4</th>\n",
       "      <td>island</td>\n",
       "      <td>344</td>\n",
       "      <td>0</td>\n",
       "      <td>&lt;NA&gt;</td>\n",
       "      <td>Biscoe</td>\n",
       "      <td>Torgersen</td>\n",
       "      <td>NaN</td>\n",
       "      <td>NaN</td>\n",
       "      <td>NaN</td>\n",
       "      <td>[]</td>\n",
       "      <td>3</td>\n",
       "      <td>6.093023</td>\n",
       "      <td>344</td>\n",
       "      <td>[{'value': 'Biscoe', 'count': 168}, {'value': ...</td>\n",
       "      <td>&lt;NA&gt;</td>\n",
       "      <td>&lt;NA&gt;</td>\n",
       "      <td>NaN</td>\n",
       "      <td>&lt;NA&gt;</td>\n",
       "      <td>[]</td>\n",
       "      <td>&lt;NA&gt;</td>\n",
       "    </tr>\n",
       "    <tr>\n",
       "      <th>5</th>\n",
       "      <td>sex</td>\n",
       "      <td>344</td>\n",
       "      <td>10</td>\n",
       "      <td>&lt;NA&gt;</td>\n",
       "      <td>.</td>\n",
       "      <td>MALE</td>\n",
       "      <td>NaN</td>\n",
       "      <td>NaN</td>\n",
       "      <td>NaN</td>\n",
       "      <td>[]</td>\n",
       "      <td>3</td>\n",
       "      <td>4.979042</td>\n",
       "      <td>334</td>\n",
       "      <td>[{'value': 'MALE', 'count': 168}, {'value': 'F...</td>\n",
       "      <td>&lt;NA&gt;</td>\n",
       "      <td>&lt;NA&gt;</td>\n",
       "      <td>NaN</td>\n",
       "      <td>&lt;NA&gt;</td>\n",
       "      <td>[]</td>\n",
       "      <td>&lt;NA&gt;</td>\n",
       "    </tr>\n",
       "    <tr>\n",
       "      <th>6</th>\n",
       "      <td>species</td>\n",
       "      <td>344</td>\n",
       "      <td>0</td>\n",
       "      <td>&lt;NA&gt;</td>\n",
       "      <td>Adelie Penguin (Pygoscelis adeliae)</td>\n",
       "      <td>Gentoo penguin (Pygoscelis papua)</td>\n",
       "      <td>NaN</td>\n",
       "      <td>NaN</td>\n",
       "      <td>NaN</td>\n",
       "      <td>[]</td>\n",
       "      <td>3</td>\n",
       "      <td>35.465116</td>\n",
       "      <td>344</td>\n",
       "      <td>[{'value': 'Adelie Penguin (Pygoscelis adeliae...</td>\n",
       "      <td>&lt;NA&gt;</td>\n",
       "      <td>&lt;NA&gt;</td>\n",
       "      <td>NaN</td>\n",
       "      <td>&lt;NA&gt;</td>\n",
       "      <td>[]</td>\n",
       "      <td>&lt;NA&gt;</td>\n",
       "    </tr>\n",
       "  </tbody>\n",
       "</table>\n",
       "</div>"
      ],
      "text/plain": [
       "                name  num_rows  num_nulls  num_zeros  \\\n",
       "0        body_mass_g       344          2          0   \n",
       "1    culmen_depth_mm       344          2          0   \n",
       "2   culmen_length_mm       344          2          0   \n",
       "3  flipper_length_mm       344          2          0   \n",
       "4             island       344          0       <NA>   \n",
       "5                sex       344         10       <NA>   \n",
       "6            species       344          0       <NA>   \n",
       "\n",
       "                                   min                                max  \\\n",
       "0                                 2700                               6300   \n",
       "1                                 13.1                               21.5   \n",
       "2                                 32.1                               59.6   \n",
       "3                                  172                                231   \n",
       "4                               Biscoe                          Torgersen   \n",
       "5                                    .                               MALE   \n",
       "6  Adelie Penguin (Pygoscelis adeliae)  Gentoo penguin (Pygoscelis papua)   \n",
       "\n",
       "          mean      stddev  median                                 quantiles  \\\n",
       "0  4201.754386  800.781229  4000.0  [2700.0, 3550.0, 4000.0, 4750.0, 6300.0]   \n",
       "1    17.151170    1.971904    17.3            [13.1, 15.6, 17.3, 18.7, 21.5]   \n",
       "2    43.921930    5.451596    44.4            [32.1, 39.2, 44.4, 48.5, 59.6]   \n",
       "3   200.915205   14.041141   197.0       [172.0, 190.0, 197.0, 213.0, 231.0]   \n",
       "4          NaN         NaN     NaN                                        []   \n",
       "5          NaN         NaN     NaN                                        []   \n",
       "6          NaN         NaN     NaN                                        []   \n",
       "\n",
       "   unique  avg_string_length  num_values  \\\n",
       "0    <NA>                NaN         342   \n",
       "1    <NA>                NaN         342   \n",
       "2    <NA>                NaN         342   \n",
       "3    <NA>                NaN         342   \n",
       "4       3           6.093023         344   \n",
       "5       3           4.979042         334   \n",
       "6       3          35.465116         344   \n",
       "\n",
       "                                          top_values  min_array_length  \\\n",
       "0                                                 []              <NA>   \n",
       "1                                                 []              <NA>   \n",
       "2                                                 []              <NA>   \n",
       "3                                                 []              <NA>   \n",
       "4  [{'value': 'Biscoe', 'count': 168}, {'value': ...              <NA>   \n",
       "5  [{'value': 'MALE', 'count': 168}, {'value': 'F...              <NA>   \n",
       "6  [{'value': 'Adelie Penguin (Pygoscelis adeliae...              <NA>   \n",
       "\n",
       "   max_array_length  avg_array_length  total_array_length  \\\n",
       "0              <NA>               NaN                <NA>   \n",
       "1              <NA>               NaN                <NA>   \n",
       "2              <NA>               NaN                <NA>   \n",
       "3              <NA>               NaN                <NA>   \n",
       "4              <NA>               NaN                <NA>   \n",
       "5              <NA>               NaN                <NA>   \n",
       "6              <NA>               NaN                <NA>   \n",
       "\n",
       "  array_length_quantiles  dimension  \n",
       "0                     []       <NA>  \n",
       "1                     []       <NA>  \n",
       "2                     []       <NA>  \n",
       "3                     []       <NA>  \n",
       "4                     []       <NA>  \n",
       "5                     []       <NA>  \n",
       "6                     []       <NA>  "
      ]
     },
     "execution_count": 16,
     "metadata": {},
     "output_type": "execute_result"
    }
   ],
   "source": [
    "%%bigquery\n",
    "SELECT *\n",
    "FROM ML.DESCRIBE_DATA(\n",
    "    TABLE `bigquery-public-data.ml_datasets.penguins`,\n",
    "    STRUCT(3 as top_k, 4 as num_quantiles)\n",
    ")"
   ]
  },
  {
   "cell_type": "markdown",
   "id": "ce028d68",
   "metadata": {},
   "source": [
    "Some observations:\n",
    "- All columns have `num_rows` and `num_nulls`\n",
    "- Numerical columns have `min`, `max`, `stddev`, `median`, and `quantiles` showing the distribution of the data in the column\n",
    "- Categorical (string) columns have `min`, `max` values representing the class levels and a `unique` column show how many class levels\n",
    "\n",
    "Data quality observation:\n",
    "- The column `sex` has both missing values (10 indicated in `num_nulls`) as well as a `min` values of `.`.  This appears to be a data quality issue that needs fixing."
   ]
  },
  {
   "cell_type": "markdown",
   "id": "4dfc1427",
   "metadata": {},
   "source": [
    "---\n",
    "## Prepare Data Source\n",
    "\n",
    "The data preparation includes adding splits for machine learning with a column named `splits` with values for training (`TRAIN`), validation (`VALIDATE`), and for testing (`TEST`).  Additionally, a unique identifier was added to each record, `penguin_id`. \n",
    "\n",
    ">These steps could be done locally at training but are instead done in the source system, BigQuery in this case, which provides several advantages:\n",
    ">\n",
    ">-   **Single Source of Truth:** A single data preparation can benefit multiple model training jobs for different architectures or even different team members working on the same model. This ensures consistency and avoids duplication of effort.\n",
    ">-   **Leverage BigQuery's Power:** BigQuery is highly optimized for large-scale data processing. Performing these operations directly in BigQuery leverages its distributed processing capabilities, making the preparation significantly faster and more efficient than local processing, especially for massive datasets.\n",
    ">-   **Reduced Data Movement:** Preparing the data in BigQuery reduces the amount of data that needs to be moved out of BigQuery and into the training environment. This minimizes latency and potential bottlenecks associated with data transfer.\n",
    ">-   **Data Versioning and Reproducibility:** By preparing the splits and unique ID in BigQuery, the specific dataset used for training can be easily tracked and versioned. This enhances the reproducibility of experiments and makes it easier to understand the provenance of the data used in a particular model.\n",
    ">-   **Simplified Training Pipeline:** The training pipeline becomes simpler because it can directly read pre-split data from BigQuery, eliminating the need for complex splitting logic within the training code.\n",
    ">-   **Pre-calculated Joins and Features:** BigQuery can be used to pre-calculate joins and engineer new features that are beneficial for the model. This can improve model performance and further reduce the workload during the training phase.\n",
    ">\n",
    ">**Further Considerations:**\n",
    ">\n",
    ">-   **Data Governance and Security:** BigQuery offers robust data governance and security features. Performing data preparation within BigQuery allows you to maintain control over access and ensure data quality.\n",
    ">-   **Scalability:** This approach is highly scalable. As your dataset grows, BigQuery can handle the increased workload without requiring significant changes to your data preparation pipeline.\n",
    ">-   **Cost Optimization:** While moving large amounts of data out of BigQuery can incur costs, performing the preparation steps within BigQuery and only extracting the necessary data for training can often be more cost-effective.\n",
    ">\n",
    ">By preparing the data in BigQuery, you create a streamlined, efficient, and reproducible workflow (pipeline) that leverages the strengths of the platform and sets your machine learning models up for success.\n"
   ]
  },
  {
   "cell_type": "markdown",
   "id": "92b0a677",
   "metadata": {},
   "source": [
    "### Create/Recall Dataset"
   ]
  },
  {
   "cell_type": "code",
   "execution_count": 17,
   "id": "a9139401",
   "metadata": {},
   "outputs": [],
   "source": [
    "dataset = bigquery.Dataset(f\"{BQ_PROJECT}.{BQ_DATASET}\")\n",
    "dataset.location = BQ_REGION\n",
    "bq_dataset = bq.create_dataset(dataset, exists_ok = True)"
   ]
  },
  {
   "cell_type": "markdown",
   "id": "04601a81",
   "metadata": {},
   "source": [
    "### Create/Recall Table With Preparation For ML\n",
    "\n",
    "Copy the data from the source while adding and correcting columns:\n",
    "- Apply a correction to the data quality issue identified for the `sex` column with values of `.` as Null values.\n",
    "- `penguin_id` as a unique identify for the row\n",
    "    - Use the `GENERATE_UUID()` function\n",
    "- `splits` column to randomly assign rows to 'TRAIN\", \"VALIDATE\" and \"TEST\" groups\n",
    "    - stratified sampling within the levels of `class` by first assigning row numbers within the levels of `class` then using the with a CASE statment to assign the `splits` level."
   ]
  },
  {
   "cell_type": "code",
   "execution_count": 18,
   "id": "7ef22a58",
   "metadata": {},
   "outputs": [
    {
     "data": {
      "text/plain": [
       "2.884"
      ]
     },
     "execution_count": 18,
     "metadata": {},
     "output_type": "execute_result"
    }
   ],
   "source": [
    "job = bq.query(f\"\"\"\n",
    "CREATE OR REPLACE TABLE `{BQ_PROJECT}.{BQ_DATASET}.{BQ_TABLE}` AS\n",
    "WITH\n",
    "    base_data AS (\n",
    "        SELECT\n",
    "            -- Features\n",
    "            island,\n",
    "            species, -- Target variable\n",
    "            culmen_length_mm,\n",
    "            culmen_depth_mm,\n",
    "            flipper_length_mm,\n",
    "            body_mass_g,\n",
    "            CASE WHEN sex = '.' THEN NULL ELSE sex END AS sex,\n",
    "\n",
    "            -- Add an ID for unique identification\n",
    "            GENERATE_UUID() AS penguin_id,\n",
    "\n",
    "            ROW_NUMBER() OVER (PARTITION BY species ORDER BY RAND()) as rn\n",
    "        FROM `{BQ_SOURCE}`\n",
    "        # WHERE\n",
    "    )\n",
    "SELECT\n",
    "    * EXCEPT(rn),\n",
    "    CASE -- 80% for train, 10% for validation, 10% for test\n",
    "        WHEN rn <= .8 * COUNT(*) OVER (PARTITION BY species) THEN 'TRAIN'\n",
    "        WHEN rn <= .9 * COUNT(*) OVER (PARTITION BY species) THEN 'VALIDATE'\n",
    "        WHEN rn <= 1 * COUNT(*) OVER (PARTITION BY species) THEN 'TEST'\n",
    "        ELSE Null -- records not sampled for using in training here\n",
    "    END AS splits\n",
    "FROM\n",
    "    base_data\n",
    "\"\"\")\n",
    "job.result()\n",
    "(job.ended-job.started).total_seconds()"
   ]
  },
  {
   "cell_type": "code",
   "execution_count": 19,
   "id": "87025ace",
   "metadata": {},
   "outputs": [
    {
     "data": {
      "text/html": [
       "Query job 54b6633d-cb62-46bf-92e2-9dce57d1f018 is DONE. 44.5 kB processed. <a target=\"_blank\" href=\"https://console.cloud.google.com/bigquery?project=statmike-mlops-349915&j=bq:US:54b6633d-cb62-46bf-92e2-9dce57d1f018&page=queryresults\">Open Job</a>"
      ],
      "text/plain": [
       "<IPython.core.display.HTML object>"
      ]
     },
     "metadata": {},
     "output_type": "display_data"
    },
    {
     "data": {
      "text/html": [
       "<div>\n",
       "<style scoped>\n",
       "    .dataframe tbody tr th:only-of-type {\n",
       "        vertical-align: middle;\n",
       "    }\n",
       "\n",
       "    .dataframe tbody tr th {\n",
       "        vertical-align: top;\n",
       "    }\n",
       "\n",
       "    .dataframe thead th {\n",
       "        text-align: right;\n",
       "    }\n",
       "</style>\n",
       "<table border=\"1\" class=\"dataframe\">\n",
       "  <thead>\n",
       "    <tr style=\"text-align: right;\">\n",
       "      <th></th>\n",
       "      <th>island</th>\n",
       "      <th>species</th>\n",
       "      <th>culmen_length_mm</th>\n",
       "      <th>culmen_depth_mm</th>\n",
       "      <th>flipper_length_mm</th>\n",
       "      <th>body_mass_g</th>\n",
       "      <th>sex</th>\n",
       "      <th>penguin_id</th>\n",
       "      <th>splits</th>\n",
       "    </tr>\n",
       "  </thead>\n",
       "  <tbody>\n",
       "    <tr>\n",
       "      <th>0</th>\n",
       "      <td>Biscoe</td>\n",
       "      <td>Gentoo penguin (Pygoscelis papua)</td>\n",
       "      <td>46.9</td>\n",
       "      <td>14.6</td>\n",
       "      <td>222.0</td>\n",
       "      <td>4875.0</td>\n",
       "      <td>FEMALE</td>\n",
       "      <td>bf0a7b01-4a50-40c3-bb68-dd7ffe0ab385</td>\n",
       "      <td>TEST</td>\n",
       "    </tr>\n",
       "    <tr>\n",
       "      <th>1</th>\n",
       "      <td>Biscoe</td>\n",
       "      <td>Gentoo penguin (Pygoscelis papua)</td>\n",
       "      <td>54.3</td>\n",
       "      <td>15.7</td>\n",
       "      <td>231.0</td>\n",
       "      <td>5650.0</td>\n",
       "      <td>MALE</td>\n",
       "      <td>0df3f655-b116-48f9-9d81-cbfd107b3d8a</td>\n",
       "      <td>VALIDATE</td>\n",
       "    </tr>\n",
       "    <tr>\n",
       "      <th>2</th>\n",
       "      <td>Biscoe</td>\n",
       "      <td>Gentoo penguin (Pygoscelis papua)</td>\n",
       "      <td>&lt;NA&gt;</td>\n",
       "      <td>&lt;NA&gt;</td>\n",
       "      <td>&lt;NA&gt;</td>\n",
       "      <td>&lt;NA&gt;</td>\n",
       "      <td>&lt;NA&gt;</td>\n",
       "      <td>336c9eee-02c5-49d8-931b-04d052102ef8</td>\n",
       "      <td>TRAIN</td>\n",
       "    </tr>\n",
       "    <tr>\n",
       "      <th>3</th>\n",
       "      <td>Dream</td>\n",
       "      <td>Adelie Penguin (Pygoscelis adeliae)</td>\n",
       "      <td>36.2</td>\n",
       "      <td>17.3</td>\n",
       "      <td>187.0</td>\n",
       "      <td>3300.0</td>\n",
       "      <td>FEMALE</td>\n",
       "      <td>5eba798c-57dd-4704-84fe-bdfdb51e57d3</td>\n",
       "      <td>TRAIN</td>\n",
       "    </tr>\n",
       "    <tr>\n",
       "      <th>4</th>\n",
       "      <td>Dream</td>\n",
       "      <td>Adelie Penguin (Pygoscelis adeliae)</td>\n",
       "      <td>44.1</td>\n",
       "      <td>19.7</td>\n",
       "      <td>196.0</td>\n",
       "      <td>4400.0</td>\n",
       "      <td>MALE</td>\n",
       "      <td>574e39a7-42fb-42ae-a0e4-444e252dc395</td>\n",
       "      <td>TEST</td>\n",
       "    </tr>\n",
       "  </tbody>\n",
       "</table>\n",
       "<p>5 rows × 9 columns</p>\n",
       "</div>[5 rows x 9 columns in total]"
      ],
      "text/plain": [
       "   island                              species  culmen_length_mm  \\\n",
       "0  Biscoe    Gentoo penguin (Pygoscelis papua)              46.9   \n",
       "1  Biscoe    Gentoo penguin (Pygoscelis papua)              54.3   \n",
       "2  Biscoe    Gentoo penguin (Pygoscelis papua)              <NA>   \n",
       "3   Dream  Adelie Penguin (Pygoscelis adeliae)              36.2   \n",
       "4   Dream  Adelie Penguin (Pygoscelis adeliae)              44.1   \n",
       "\n",
       "   culmen_depth_mm  flipper_length_mm  body_mass_g     sex  \\\n",
       "0             14.6              222.0       4875.0  FEMALE   \n",
       "1             15.7              231.0       5650.0    MALE   \n",
       "2             <NA>               <NA>         <NA>    <NA>   \n",
       "3             17.3              187.0       3300.0  FEMALE   \n",
       "4             19.7              196.0       4400.0    MALE   \n",
       "\n",
       "                             penguin_id    splits  \n",
       "0  bf0a7b01-4a50-40c3-bb68-dd7ffe0ab385      TEST  \n",
       "1  0df3f655-b116-48f9-9d81-cbfd107b3d8a  VALIDATE  \n",
       "2  336c9eee-02c5-49d8-931b-04d052102ef8     TRAIN  \n",
       "3  5eba798c-57dd-4704-84fe-bdfdb51e57d3     TRAIN  \n",
       "4  574e39a7-42fb-42ae-a0e4-444e252dc395      TEST  \n",
       "\n",
       "[5 rows x 9 columns]"
      ]
     },
     "execution_count": 19,
     "metadata": {},
     "output_type": "execute_result"
    }
   ],
   "source": [
    "source_data_prepared = bpd.read_gbq(f\"{BQ_PROJECT}.{BQ_DATASET}.{BQ_TABLE}\", use_cache = False)\n",
    "source_data_prepared.head()"
   ]
  },
  {
   "cell_type": "markdown",
   "id": "42309ed7",
   "metadata": {},
   "source": [
    "### Review the number of records for each level of `species` for each of the data splits:"
   ]
  },
  {
   "cell_type": "code",
   "execution_count": 20,
   "id": "e577c4a3",
   "metadata": {},
   "outputs": [
    {
     "data": {
      "text/html": [
       "<div>\n",
       "<style scoped>\n",
       "    .dataframe tbody tr th:only-of-type {\n",
       "        vertical-align: middle;\n",
       "    }\n",
       "\n",
       "    .dataframe tbody tr th {\n",
       "        vertical-align: top;\n",
       "    }\n",
       "\n",
       "    .dataframe thead th {\n",
       "        text-align: right;\n",
       "    }\n",
       "</style>\n",
       "<table border=\"1\" class=\"dataframe\">\n",
       "  <thead>\n",
       "    <tr style=\"text-align: right;\">\n",
       "      <th></th>\n",
       "      <th>splits</th>\n",
       "      <th>species</th>\n",
       "      <th>count</th>\n",
       "      <th>percentage</th>\n",
       "    </tr>\n",
       "  </thead>\n",
       "  <tbody>\n",
       "    <tr>\n",
       "      <th>0</th>\n",
       "      <td>TEST</td>\n",
       "      <td>Adelie Penguin (Pygoscelis adeliae)</td>\n",
       "      <td>16</td>\n",
       "      <td>10.53</td>\n",
       "    </tr>\n",
       "    <tr>\n",
       "      <th>1</th>\n",
       "      <td>TRAIN</td>\n",
       "      <td>Adelie Penguin (Pygoscelis adeliae)</td>\n",
       "      <td>121</td>\n",
       "      <td>79.61</td>\n",
       "    </tr>\n",
       "    <tr>\n",
       "      <th>2</th>\n",
       "      <td>VALIDATE</td>\n",
       "      <td>Adelie Penguin (Pygoscelis adeliae)</td>\n",
       "      <td>15</td>\n",
       "      <td>9.87</td>\n",
       "    </tr>\n",
       "    <tr>\n",
       "      <th>3</th>\n",
       "      <td>TEST</td>\n",
       "      <td>Chinstrap penguin (Pygoscelis antarctica)</td>\n",
       "      <td>7</td>\n",
       "      <td>10.29</td>\n",
       "    </tr>\n",
       "    <tr>\n",
       "      <th>4</th>\n",
       "      <td>TRAIN</td>\n",
       "      <td>Chinstrap penguin (Pygoscelis antarctica)</td>\n",
       "      <td>54</td>\n",
       "      <td>79.41</td>\n",
       "    </tr>\n",
       "    <tr>\n",
       "      <th>5</th>\n",
       "      <td>VALIDATE</td>\n",
       "      <td>Chinstrap penguin (Pygoscelis antarctica)</td>\n",
       "      <td>7</td>\n",
       "      <td>10.29</td>\n",
       "    </tr>\n",
       "    <tr>\n",
       "      <th>6</th>\n",
       "      <td>TEST</td>\n",
       "      <td>Gentoo penguin (Pygoscelis papua)</td>\n",
       "      <td>13</td>\n",
       "      <td>10.48</td>\n",
       "    </tr>\n",
       "    <tr>\n",
       "      <th>7</th>\n",
       "      <td>TRAIN</td>\n",
       "      <td>Gentoo penguin (Pygoscelis papua)</td>\n",
       "      <td>99</td>\n",
       "      <td>79.84</td>\n",
       "    </tr>\n",
       "    <tr>\n",
       "      <th>8</th>\n",
       "      <td>VALIDATE</td>\n",
       "      <td>Gentoo penguin (Pygoscelis papua)</td>\n",
       "      <td>12</td>\n",
       "      <td>9.68</td>\n",
       "    </tr>\n",
       "  </tbody>\n",
       "</table>\n",
       "</div>"
      ],
      "text/plain": [
       "     splits                                    species  count  percentage\n",
       "0      TEST        Adelie Penguin (Pygoscelis adeliae)     16       10.53\n",
       "1     TRAIN        Adelie Penguin (Pygoscelis adeliae)    121       79.61\n",
       "2  VALIDATE        Adelie Penguin (Pygoscelis adeliae)     15        9.87\n",
       "3      TEST  Chinstrap penguin (Pygoscelis antarctica)      7       10.29\n",
       "4     TRAIN  Chinstrap penguin (Pygoscelis antarctica)     54       79.41\n",
       "5  VALIDATE  Chinstrap penguin (Pygoscelis antarctica)      7       10.29\n",
       "6      TEST          Gentoo penguin (Pygoscelis papua)     13       10.48\n",
       "7     TRAIN          Gentoo penguin (Pygoscelis papua)     99       79.84\n",
       "8  VALIDATE          Gentoo penguin (Pygoscelis papua)     12        9.68"
      ]
     },
     "execution_count": 20,
     "metadata": {},
     "output_type": "execute_result"
    }
   ],
   "source": [
    "bq.query(f\"\"\"\n",
    "SELECT splits, species,\n",
    "    count(*) as count,\n",
    "    ROUND(count(*) * 100.0 / SUM(count(*)) OVER (PARTITION BY species), 2) AS percentage\n",
    "FROM `{BQ_PROJECT}.{BQ_DATASET}.{BQ_TABLE}`\n",
    "GROUP BY splits, species\n",
    "ORDER BY species, splits\n",
    "\"\"\").to_dataframe()"
   ]
  },
  {
   "cell_type": "markdown",
   "id": "b5033a3d",
   "metadata": {},
   "source": [
    "### Further Data Preparation\n",
    "\n"
   ]
  },
  {
   "cell_type": "markdown",
   "id": "a76775cd",
   "metadata": {},
   "source": [
    "#### Rows Assigned To A Split (TRAIN, TEST, VALIDATE)\n",
    "\n",
    "Avoid the unsampled rows where `splits = Null`:"
   ]
  },
  {
   "cell_type": "code",
   "execution_count": 21,
   "id": "8c0b9379",
   "metadata": {},
   "outputs": [],
   "source": [
    "# only use rows assigned to a split:\n",
    "source_data_prepared_filtered = source_data_prepared[source_data_prepared['splits'].notna()]"
   ]
  },
  {
   "cell_type": "markdown",
   "id": "26fda315",
   "metadata": {},
   "source": [
    "#### Group Columns By Type"
   ]
  },
  {
   "cell_type": "code",
   "execution_count": 22,
   "id": "4092cc81",
   "metadata": {},
   "outputs": [],
   "source": [
    "# Numerical columns\n",
    "numerical_cols = [\n",
    "    'culmen_length_mm',\n",
    "    'culmen_depth_mm',\n",
    "    'flipper_length_mm',\n",
    "    'body_mass_g'\n",
    "]\n",
    "\n",
    "# Categorical columns\n",
    "categorical_cols = [\n",
    "    'sex',\n",
    "    'island'\n",
    "]\n",
    "\n",
    "target_col = 'species'\n",
    "split_col = 'splits'\n",
    "id_col = 'penguin_id' # Keep id for later lookup if needed, but not as a feature"
   ]
  },
  {
   "cell_type": "markdown",
   "id": "bc572bbd",
   "metadata": {},
   "source": [
    "#### Check For Columns With NaNs"
   ]
  },
  {
   "cell_type": "code",
   "execution_count": 23,
   "id": "c3cbfdf3",
   "metadata": {},
   "outputs": [
    {
     "data": {
      "text/html": [
       "Query job 1a39ad77-6cfc-4c25-9b95-db1c76ef591d is DONE. 31.4 kB processed. <a target=\"_blank\" href=\"https://console.cloud.google.com/bigquery?project=statmike-mlops-349915&j=bq:US:1a39ad77-6cfc-4c25-9b95-db1c76ef591d&page=queryresults\">Open Job</a>"
      ],
      "text/plain": [
       "<IPython.core.display.HTML object>"
      ]
     },
     "metadata": {},
     "output_type": "display_data"
    },
    {
     "data": {
      "text/html": [
       "Query job e17fa3a4-bcf9-47f2-b36c-63125f78e65f is DONE. 201 Bytes processed. <a target=\"_blank\" href=\"https://console.cloud.google.com/bigquery?project=statmike-mlops-349915&j=bq:US:e17fa3a4-bcf9-47f2-b36c-63125f78e65f&page=queryresults\">Open Job</a>"
      ],
      "text/plain": [
       "<IPython.core.display.HTML object>"
      ]
     },
     "metadata": {},
     "output_type": "display_data"
    },
    {
     "data": {
      "text/plain": [
       "culmen_length_mm      2\n",
       "culmen_depth_mm       2\n",
       "flipper_length_mm     2\n",
       "body_mass_g           2\n",
       "sex                  11\n",
       "island                0\n",
       "species               0\n",
       "dtype: Int64"
      ]
     },
     "execution_count": 23,
     "metadata": {},
     "output_type": "execute_result"
    }
   ],
   "source": [
    "source_data_prepared_filtered[numerical_cols + categorical_cols + [target_col]].isna().sum()"
   ]
  },
  {
   "cell_type": "markdown",
   "id": "d46d3e0b",
   "metadata": {},
   "source": [
    "#### Setup Pointers For Training"
   ]
  },
  {
   "cell_type": "code",
   "execution_count": 24,
   "id": "e4546832",
   "metadata": {},
   "outputs": [
    {
     "name": "stdout",
     "output_type": "stream",
     "text": [
      "There are 344 training rows for 6 raw features.\n",
      "Confirming the rows for splits and the label are 344 and 344 respectively.\n"
     ]
    }
   ],
   "source": [
    "X_frame = source_data_prepared_filtered[numerical_cols + categorical_cols]\n",
    "y_frame = source_data_prepared_filtered[target_col]\n",
    "splits_frame = source_data_prepared_filtered[split_col]\n",
    "\n",
    "print(f\"There are {X_frame.shape[0]} training rows for {X_frame.shape[1]} raw features.\")\n",
    "print(f\"Confirming the rows for splits and the label are {splits_frame.shape[0]} and {y_frame.shape[0]} respectively.\")"
   ]
  },
  {
   "cell_type": "markdown",
   "id": "5c879cb3",
   "metadata": {},
   "source": [
    "---\n",
    "## Train With Scikit-Learn"
   ]
  },
  {
   "cell_type": "markdown",
   "id": "28d99ec2",
   "metadata": {},
   "source": [
    "### Local Dataframes\n",
    "\n",
    "Convert the Bigframes pointers to Pandas dataframes for the training objects:"
   ]
  },
  {
   "cell_type": "code",
   "execution_count": 25,
   "id": "1c1292a9",
   "metadata": {},
   "outputs": [],
   "source": [
    "X_train = X_frame[splits_frame == 'TRAIN'].to_pandas()\n",
    "X_val = X_frame[splits_frame == 'VALIDATE'].to_pandas()\n",
    "X_test = X_frame[splits_frame == 'TEST'].to_pandas()\n",
    "\n",
    "y_train = y_frame[splits_frame == 'TRAIN'].to_pandas()\n",
    "y_val = y_frame[splits_frame == 'VALIDATE'].to_pandas()\n",
    "y_test = y_frame[splits_frame == 'TEST'].to_pandas()"
   ]
  },
  {
   "cell_type": "code",
   "execution_count": 26,
   "id": "8f7d10de",
   "metadata": {},
   "outputs": [
    {
     "data": {
      "text/plain": [
       "((274, 6), (274,))"
      ]
     },
     "execution_count": 26,
     "metadata": {},
     "output_type": "execute_result"
    }
   ],
   "source": [
    "X_train.shape, y_train.shape"
   ]
  },
  {
   "cell_type": "code",
   "execution_count": 27,
   "id": "00bac568",
   "metadata": {},
   "outputs": [],
   "source": [
    "for col in numerical_cols:\n",
    "    X_train[col] = X_train[col].astype(float)\n",
    "    X_val[col] = X_val[col].astype(float)\n",
    "    X_test[col] = X_test[col].astype(float)\n",
    "\n",
    "for col in categorical_cols:\n",
    "    # Convert to object dtype to ensure consistent string/object behavior, then fill any pd.NA\n",
    "    X_train[col] = X_train[col].astype('object').fillna('__MISSING__')\n",
    "    X_val[col] = X_val[col].astype('object').fillna('__MISSING__')\n",
    "    X_test[col] = X_test[col].astype('object').fillna('__MISSING__')"
   ]
  },
  {
   "cell_type": "markdown",
   "id": "c35b05a0",
   "metadata": {},
   "source": [
    "### Define A Preprocessor\n",
    "\n",
    "Create a Scikit-Learn preprocessor that standardizes numeric variables and one-hot encodes categorical variables:"
   ]
  },
  {
   "cell_type": "code",
   "execution_count": 28,
   "id": "4fc0a381",
   "metadata": {},
   "outputs": [],
   "source": [
    "preprocessor = sklearn.compose.ColumnTransformer(\n",
    "    transformers = [\n",
    "        # Apply StandardScaler to numerical columns\n",
    "        ('num', sklearn.pipeline.Pipeline(\n",
    "            steps = [\n",
    "                ('imputer', sklearn.impute.SimpleImputer(strategy = 'median')),\n",
    "                ('scaler', sklearn.preprocessing.StandardScaler())\n",
    "            ]\n",
    "        ), numerical_cols),\n",
    "        # Apply OneHotEncoder to categorical columns\n",
    "        ('cat', sklearn.pipeline.Pipeline(\n",
    "            steps = [\n",
    "                ('imputer', sklearn.impute.SimpleImputer(strategy = 'most_frequent')),\n",
    "                ('encoder', sklearn.preprocessing.OneHotEncoder(handle_unknown = 'ignore', sparse_output = False))\n",
    "            ]\n",
    "        ), categorical_cols),\n",
    "    ],\n",
    "    remainder = 'passthrough' # Keep any other columns not explicitly listed (if any) as they are\n",
    ")"
   ]
  },
  {
   "cell_type": "markdown",
   "id": "da8845a1",
   "metadata": {},
   "source": [
    "### Define A Model Pipeline: Proprocessor + Model\n",
    "\n",
    "Combine the preprocessor with the model type in a pipeline:"
   ]
  },
  {
   "cell_type": "code",
   "execution_count": 29,
   "id": "708cfc27",
   "metadata": {},
   "outputs": [],
   "source": [
    "model_pipeline = sklearn.pipeline.Pipeline(\n",
    "    steps = [\n",
    "        ('preprocessor', preprocessor),\n",
    "        ('classifier', sklearn.ensemble.GradientBoostingClassifier(\n",
    "            n_estimators=100,    # You can tune this\n",
    "            learning_rate=0.1,   # You can tune this\n",
    "            max_depth=3,         # Crucial for size and speed with GBTs\n",
    "            random_state=42      # For reproducibility\n",
    "        ))\n",
    "    ]\n",
    ")"
   ]
  },
  {
   "cell_type": "markdown",
   "id": "1917449d",
   "metadata": {},
   "source": [
    "### Train/Fit The Model\n",
    "\n",
    "Use the training data to train the model using the pipeline:"
   ]
  },
  {
   "cell_type": "code",
   "execution_count": 30,
   "id": "bb6f0774",
   "metadata": {},
   "outputs": [
    {
     "data": {
      "text/html": [
       "<style>#sk-container-id-1 {\n",
       "  /* Definition of color scheme common for light and dark mode */\n",
       "  --sklearn-color-text: #000;\n",
       "  --sklearn-color-text-muted: #666;\n",
       "  --sklearn-color-line: gray;\n",
       "  /* Definition of color scheme for unfitted estimators */\n",
       "  --sklearn-color-unfitted-level-0: #fff5e6;\n",
       "  --sklearn-color-unfitted-level-1: #f6e4d2;\n",
       "  --sklearn-color-unfitted-level-2: #ffe0b3;\n",
       "  --sklearn-color-unfitted-level-3: chocolate;\n",
       "  /* Definition of color scheme for fitted estimators */\n",
       "  --sklearn-color-fitted-level-0: #f0f8ff;\n",
       "  --sklearn-color-fitted-level-1: #d4ebff;\n",
       "  --sklearn-color-fitted-level-2: #b3dbfd;\n",
       "  --sklearn-color-fitted-level-3: cornflowerblue;\n",
       "\n",
       "  /* Specific color for light theme */\n",
       "  --sklearn-color-text-on-default-background: var(--sg-text-color, var(--theme-code-foreground, var(--jp-content-font-color1, black)));\n",
       "  --sklearn-color-background: var(--sg-background-color, var(--theme-background, var(--jp-layout-color0, white)));\n",
       "  --sklearn-color-border-box: var(--sg-text-color, var(--theme-code-foreground, var(--jp-content-font-color1, black)));\n",
       "  --sklearn-color-icon: #696969;\n",
       "\n",
       "  @media (prefers-color-scheme: dark) {\n",
       "    /* Redefinition of color scheme for dark theme */\n",
       "    --sklearn-color-text-on-default-background: var(--sg-text-color, var(--theme-code-foreground, var(--jp-content-font-color1, white)));\n",
       "    --sklearn-color-background: var(--sg-background-color, var(--theme-background, var(--jp-layout-color0, #111)));\n",
       "    --sklearn-color-border-box: var(--sg-text-color, var(--theme-code-foreground, var(--jp-content-font-color1, white)));\n",
       "    --sklearn-color-icon: #878787;\n",
       "  }\n",
       "}\n",
       "\n",
       "#sk-container-id-1 {\n",
       "  color: var(--sklearn-color-text);\n",
       "}\n",
       "\n",
       "#sk-container-id-1 pre {\n",
       "  padding: 0;\n",
       "}\n",
       "\n",
       "#sk-container-id-1 input.sk-hidden--visually {\n",
       "  border: 0;\n",
       "  clip: rect(1px 1px 1px 1px);\n",
       "  clip: rect(1px, 1px, 1px, 1px);\n",
       "  height: 1px;\n",
       "  margin: -1px;\n",
       "  overflow: hidden;\n",
       "  padding: 0;\n",
       "  position: absolute;\n",
       "  width: 1px;\n",
       "}\n",
       "\n",
       "#sk-container-id-1 div.sk-dashed-wrapped {\n",
       "  border: 1px dashed var(--sklearn-color-line);\n",
       "  margin: 0 0.4em 0.5em 0.4em;\n",
       "  box-sizing: border-box;\n",
       "  padding-bottom: 0.4em;\n",
       "  background-color: var(--sklearn-color-background);\n",
       "}\n",
       "\n",
       "#sk-container-id-1 div.sk-container {\n",
       "  /* jupyter's `normalize.less` sets `[hidden] { display: none; }`\n",
       "     but bootstrap.min.css set `[hidden] { display: none !important; }`\n",
       "     so we also need the `!important` here to be able to override the\n",
       "     default hidden behavior on the sphinx rendered scikit-learn.org.\n",
       "     See: https://github.com/scikit-learn/scikit-learn/issues/21755 */\n",
       "  display: inline-block !important;\n",
       "  position: relative;\n",
       "}\n",
       "\n",
       "#sk-container-id-1 div.sk-text-repr-fallback {\n",
       "  display: none;\n",
       "}\n",
       "\n",
       "div.sk-parallel-item,\n",
       "div.sk-serial,\n",
       "div.sk-item {\n",
       "  /* draw centered vertical line to link estimators */\n",
       "  background-image: linear-gradient(var(--sklearn-color-text-on-default-background), var(--sklearn-color-text-on-default-background));\n",
       "  background-size: 2px 100%;\n",
       "  background-repeat: no-repeat;\n",
       "  background-position: center center;\n",
       "}\n",
       "\n",
       "/* Parallel-specific style estimator block */\n",
       "\n",
       "#sk-container-id-1 div.sk-parallel-item::after {\n",
       "  content: \"\";\n",
       "  width: 100%;\n",
       "  border-bottom: 2px solid var(--sklearn-color-text-on-default-background);\n",
       "  flex-grow: 1;\n",
       "}\n",
       "\n",
       "#sk-container-id-1 div.sk-parallel {\n",
       "  display: flex;\n",
       "  align-items: stretch;\n",
       "  justify-content: center;\n",
       "  background-color: var(--sklearn-color-background);\n",
       "  position: relative;\n",
       "}\n",
       "\n",
       "#sk-container-id-1 div.sk-parallel-item {\n",
       "  display: flex;\n",
       "  flex-direction: column;\n",
       "}\n",
       "\n",
       "#sk-container-id-1 div.sk-parallel-item:first-child::after {\n",
       "  align-self: flex-end;\n",
       "  width: 50%;\n",
       "}\n",
       "\n",
       "#sk-container-id-1 div.sk-parallel-item:last-child::after {\n",
       "  align-self: flex-start;\n",
       "  width: 50%;\n",
       "}\n",
       "\n",
       "#sk-container-id-1 div.sk-parallel-item:only-child::after {\n",
       "  width: 0;\n",
       "}\n",
       "\n",
       "/* Serial-specific style estimator block */\n",
       "\n",
       "#sk-container-id-1 div.sk-serial {\n",
       "  display: flex;\n",
       "  flex-direction: column;\n",
       "  align-items: center;\n",
       "  background-color: var(--sklearn-color-background);\n",
       "  padding-right: 1em;\n",
       "  padding-left: 1em;\n",
       "}\n",
       "\n",
       "\n",
       "/* Toggleable style: style used for estimator/Pipeline/ColumnTransformer box that is\n",
       "clickable and can be expanded/collapsed.\n",
       "- Pipeline and ColumnTransformer use this feature and define the default style\n",
       "- Estimators will overwrite some part of the style using the `sk-estimator` class\n",
       "*/\n",
       "\n",
       "/* Pipeline and ColumnTransformer style (default) */\n",
       "\n",
       "#sk-container-id-1 div.sk-toggleable {\n",
       "  /* Default theme specific background. It is overwritten whether we have a\n",
       "  specific estimator or a Pipeline/ColumnTransformer */\n",
       "  background-color: var(--sklearn-color-background);\n",
       "}\n",
       "\n",
       "/* Toggleable label */\n",
       "#sk-container-id-1 label.sk-toggleable__label {\n",
       "  cursor: pointer;\n",
       "  display: flex;\n",
       "  width: 100%;\n",
       "  margin-bottom: 0;\n",
       "  padding: 0.5em;\n",
       "  box-sizing: border-box;\n",
       "  text-align: center;\n",
       "  align-items: start;\n",
       "  justify-content: space-between;\n",
       "  gap: 0.5em;\n",
       "}\n",
       "\n",
       "#sk-container-id-1 label.sk-toggleable__label .caption {\n",
       "  font-size: 0.6rem;\n",
       "  font-weight: lighter;\n",
       "  color: var(--sklearn-color-text-muted);\n",
       "}\n",
       "\n",
       "#sk-container-id-1 label.sk-toggleable__label-arrow:before {\n",
       "  /* Arrow on the left of the label */\n",
       "  content: \"▸\";\n",
       "  float: left;\n",
       "  margin-right: 0.25em;\n",
       "  color: var(--sklearn-color-icon);\n",
       "}\n",
       "\n",
       "#sk-container-id-1 label.sk-toggleable__label-arrow:hover:before {\n",
       "  color: var(--sklearn-color-text);\n",
       "}\n",
       "\n",
       "/* Toggleable content - dropdown */\n",
       "\n",
       "#sk-container-id-1 div.sk-toggleable__content {\n",
       "  max-height: 0;\n",
       "  max-width: 0;\n",
       "  overflow: hidden;\n",
       "  text-align: left;\n",
       "  /* unfitted */\n",
       "  background-color: var(--sklearn-color-unfitted-level-0);\n",
       "}\n",
       "\n",
       "#sk-container-id-1 div.sk-toggleable__content.fitted {\n",
       "  /* fitted */\n",
       "  background-color: var(--sklearn-color-fitted-level-0);\n",
       "}\n",
       "\n",
       "#sk-container-id-1 div.sk-toggleable__content pre {\n",
       "  margin: 0.2em;\n",
       "  border-radius: 0.25em;\n",
       "  color: var(--sklearn-color-text);\n",
       "  /* unfitted */\n",
       "  background-color: var(--sklearn-color-unfitted-level-0);\n",
       "}\n",
       "\n",
       "#sk-container-id-1 div.sk-toggleable__content.fitted pre {\n",
       "  /* unfitted */\n",
       "  background-color: var(--sklearn-color-fitted-level-0);\n",
       "}\n",
       "\n",
       "#sk-container-id-1 input.sk-toggleable__control:checked~div.sk-toggleable__content {\n",
       "  /* Expand drop-down */\n",
       "  max-height: 200px;\n",
       "  max-width: 100%;\n",
       "  overflow: auto;\n",
       "}\n",
       "\n",
       "#sk-container-id-1 input.sk-toggleable__control:checked~label.sk-toggleable__label-arrow:before {\n",
       "  content: \"▾\";\n",
       "}\n",
       "\n",
       "/* Pipeline/ColumnTransformer-specific style */\n",
       "\n",
       "#sk-container-id-1 div.sk-label input.sk-toggleable__control:checked~label.sk-toggleable__label {\n",
       "  color: var(--sklearn-color-text);\n",
       "  background-color: var(--sklearn-color-unfitted-level-2);\n",
       "}\n",
       "\n",
       "#sk-container-id-1 div.sk-label.fitted input.sk-toggleable__control:checked~label.sk-toggleable__label {\n",
       "  background-color: var(--sklearn-color-fitted-level-2);\n",
       "}\n",
       "\n",
       "/* Estimator-specific style */\n",
       "\n",
       "/* Colorize estimator box */\n",
       "#sk-container-id-1 div.sk-estimator input.sk-toggleable__control:checked~label.sk-toggleable__label {\n",
       "  /* unfitted */\n",
       "  background-color: var(--sklearn-color-unfitted-level-2);\n",
       "}\n",
       "\n",
       "#sk-container-id-1 div.sk-estimator.fitted input.sk-toggleable__control:checked~label.sk-toggleable__label {\n",
       "  /* fitted */\n",
       "  background-color: var(--sklearn-color-fitted-level-2);\n",
       "}\n",
       "\n",
       "#sk-container-id-1 div.sk-label label.sk-toggleable__label,\n",
       "#sk-container-id-1 div.sk-label label {\n",
       "  /* The background is the default theme color */\n",
       "  color: var(--sklearn-color-text-on-default-background);\n",
       "}\n",
       "\n",
       "/* On hover, darken the color of the background */\n",
       "#sk-container-id-1 div.sk-label:hover label.sk-toggleable__label {\n",
       "  color: var(--sklearn-color-text);\n",
       "  background-color: var(--sklearn-color-unfitted-level-2);\n",
       "}\n",
       "\n",
       "/* Label box, darken color on hover, fitted */\n",
       "#sk-container-id-1 div.sk-label.fitted:hover label.sk-toggleable__label.fitted {\n",
       "  color: var(--sklearn-color-text);\n",
       "  background-color: var(--sklearn-color-fitted-level-2);\n",
       "}\n",
       "\n",
       "/* Estimator label */\n",
       "\n",
       "#sk-container-id-1 div.sk-label label {\n",
       "  font-family: monospace;\n",
       "  font-weight: bold;\n",
       "  display: inline-block;\n",
       "  line-height: 1.2em;\n",
       "}\n",
       "\n",
       "#sk-container-id-1 div.sk-label-container {\n",
       "  text-align: center;\n",
       "}\n",
       "\n",
       "/* Estimator-specific */\n",
       "#sk-container-id-1 div.sk-estimator {\n",
       "  font-family: monospace;\n",
       "  border: 1px dotted var(--sklearn-color-border-box);\n",
       "  border-radius: 0.25em;\n",
       "  box-sizing: border-box;\n",
       "  margin-bottom: 0.5em;\n",
       "  /* unfitted */\n",
       "  background-color: var(--sklearn-color-unfitted-level-0);\n",
       "}\n",
       "\n",
       "#sk-container-id-1 div.sk-estimator.fitted {\n",
       "  /* fitted */\n",
       "  background-color: var(--sklearn-color-fitted-level-0);\n",
       "}\n",
       "\n",
       "/* on hover */\n",
       "#sk-container-id-1 div.sk-estimator:hover {\n",
       "  /* unfitted */\n",
       "  background-color: var(--sklearn-color-unfitted-level-2);\n",
       "}\n",
       "\n",
       "#sk-container-id-1 div.sk-estimator.fitted:hover {\n",
       "  /* fitted */\n",
       "  background-color: var(--sklearn-color-fitted-level-2);\n",
       "}\n",
       "\n",
       "/* Specification for estimator info (e.g. \"i\" and \"?\") */\n",
       "\n",
       "/* Common style for \"i\" and \"?\" */\n",
       "\n",
       ".sk-estimator-doc-link,\n",
       "a:link.sk-estimator-doc-link,\n",
       "a:visited.sk-estimator-doc-link {\n",
       "  float: right;\n",
       "  font-size: smaller;\n",
       "  line-height: 1em;\n",
       "  font-family: monospace;\n",
       "  background-color: var(--sklearn-color-background);\n",
       "  border-radius: 1em;\n",
       "  height: 1em;\n",
       "  width: 1em;\n",
       "  text-decoration: none !important;\n",
       "  margin-left: 0.5em;\n",
       "  text-align: center;\n",
       "  /* unfitted */\n",
       "  border: var(--sklearn-color-unfitted-level-1) 1pt solid;\n",
       "  color: var(--sklearn-color-unfitted-level-1);\n",
       "}\n",
       "\n",
       ".sk-estimator-doc-link.fitted,\n",
       "a:link.sk-estimator-doc-link.fitted,\n",
       "a:visited.sk-estimator-doc-link.fitted {\n",
       "  /* fitted */\n",
       "  border: var(--sklearn-color-fitted-level-1) 1pt solid;\n",
       "  color: var(--sklearn-color-fitted-level-1);\n",
       "}\n",
       "\n",
       "/* On hover */\n",
       "div.sk-estimator:hover .sk-estimator-doc-link:hover,\n",
       ".sk-estimator-doc-link:hover,\n",
       "div.sk-label-container:hover .sk-estimator-doc-link:hover,\n",
       ".sk-estimator-doc-link:hover {\n",
       "  /* unfitted */\n",
       "  background-color: var(--sklearn-color-unfitted-level-3);\n",
       "  color: var(--sklearn-color-background);\n",
       "  text-decoration: none;\n",
       "}\n",
       "\n",
       "div.sk-estimator.fitted:hover .sk-estimator-doc-link.fitted:hover,\n",
       ".sk-estimator-doc-link.fitted:hover,\n",
       "div.sk-label-container:hover .sk-estimator-doc-link.fitted:hover,\n",
       ".sk-estimator-doc-link.fitted:hover {\n",
       "  /* fitted */\n",
       "  background-color: var(--sklearn-color-fitted-level-3);\n",
       "  color: var(--sklearn-color-background);\n",
       "  text-decoration: none;\n",
       "}\n",
       "\n",
       "/* Span, style for the box shown on hovering the info icon */\n",
       ".sk-estimator-doc-link span {\n",
       "  display: none;\n",
       "  z-index: 9999;\n",
       "  position: relative;\n",
       "  font-weight: normal;\n",
       "  right: .2ex;\n",
       "  padding: .5ex;\n",
       "  margin: .5ex;\n",
       "  width: min-content;\n",
       "  min-width: 20ex;\n",
       "  max-width: 50ex;\n",
       "  color: var(--sklearn-color-text);\n",
       "  box-shadow: 2pt 2pt 4pt #999;\n",
       "  /* unfitted */\n",
       "  background: var(--sklearn-color-unfitted-level-0);\n",
       "  border: .5pt solid var(--sklearn-color-unfitted-level-3);\n",
       "}\n",
       "\n",
       ".sk-estimator-doc-link.fitted span {\n",
       "  /* fitted */\n",
       "  background: var(--sklearn-color-fitted-level-0);\n",
       "  border: var(--sklearn-color-fitted-level-3);\n",
       "}\n",
       "\n",
       ".sk-estimator-doc-link:hover span {\n",
       "  display: block;\n",
       "}\n",
       "\n",
       "/* \"?\"-specific style due to the `<a>` HTML tag */\n",
       "\n",
       "#sk-container-id-1 a.estimator_doc_link {\n",
       "  float: right;\n",
       "  font-size: 1rem;\n",
       "  line-height: 1em;\n",
       "  font-family: monospace;\n",
       "  background-color: var(--sklearn-color-background);\n",
       "  border-radius: 1rem;\n",
       "  height: 1rem;\n",
       "  width: 1rem;\n",
       "  text-decoration: none;\n",
       "  /* unfitted */\n",
       "  color: var(--sklearn-color-unfitted-level-1);\n",
       "  border: var(--sklearn-color-unfitted-level-1) 1pt solid;\n",
       "}\n",
       "\n",
       "#sk-container-id-1 a.estimator_doc_link.fitted {\n",
       "  /* fitted */\n",
       "  border: var(--sklearn-color-fitted-level-1) 1pt solid;\n",
       "  color: var(--sklearn-color-fitted-level-1);\n",
       "}\n",
       "\n",
       "/* On hover */\n",
       "#sk-container-id-1 a.estimator_doc_link:hover {\n",
       "  /* unfitted */\n",
       "  background-color: var(--sklearn-color-unfitted-level-3);\n",
       "  color: var(--sklearn-color-background);\n",
       "  text-decoration: none;\n",
       "}\n",
       "\n",
       "#sk-container-id-1 a.estimator_doc_link.fitted:hover {\n",
       "  /* fitted */\n",
       "  background-color: var(--sklearn-color-fitted-level-3);\n",
       "}\n",
       "</style><div id=\"sk-container-id-1\" class=\"sk-top-container\"><div class=\"sk-text-repr-fallback\"><pre>Pipeline(steps=[(&#x27;preprocessor&#x27;,\n",
       "                 ColumnTransformer(remainder=&#x27;passthrough&#x27;,\n",
       "                                   transformers=[(&#x27;num&#x27;,\n",
       "                                                  Pipeline(steps=[(&#x27;imputer&#x27;,\n",
       "                                                                   SimpleImputer(strategy=&#x27;median&#x27;)),\n",
       "                                                                  (&#x27;scaler&#x27;,\n",
       "                                                                   StandardScaler())]),\n",
       "                                                  [&#x27;culmen_length_mm&#x27;,\n",
       "                                                   &#x27;culmen_depth_mm&#x27;,\n",
       "                                                   &#x27;flipper_length_mm&#x27;,\n",
       "                                                   &#x27;body_mass_g&#x27;]),\n",
       "                                                 (&#x27;cat&#x27;,\n",
       "                                                  Pipeline(steps=[(&#x27;imputer&#x27;,\n",
       "                                                                   SimpleImputer(strategy=&#x27;most_frequent&#x27;)),\n",
       "                                                                  (&#x27;encoder&#x27;,\n",
       "                                                                   OneHotEncoder(handle_unknown=&#x27;ignore&#x27;,\n",
       "                                                                                 sparse_output=False))]),\n",
       "                                                  [&#x27;sex&#x27;, &#x27;island&#x27;])])),\n",
       "                (&#x27;classifier&#x27;, GradientBoostingClassifier(random_state=42))])</pre><b>In a Jupyter environment, please rerun this cell to show the HTML representation or trust the notebook. <br />On GitHub, the HTML representation is unable to render, please try loading this page with nbviewer.org.</b></div><div class=\"sk-container\" hidden><div class=\"sk-item sk-dashed-wrapped\"><div class=\"sk-label-container\"><div class=\"sk-label fitted sk-toggleable\"><input class=\"sk-toggleable__control sk-hidden--visually\" id=\"sk-estimator-id-1\" type=\"checkbox\" ><label for=\"sk-estimator-id-1\" class=\"sk-toggleable__label fitted sk-toggleable__label-arrow\"><div><div>Pipeline</div></div><div><a class=\"sk-estimator-doc-link fitted\" rel=\"noreferrer\" target=\"_blank\" href=\"https://scikit-learn.org/1.6/modules/generated/sklearn.pipeline.Pipeline.html\">?<span>Documentation for Pipeline</span></a><span class=\"sk-estimator-doc-link fitted\">i<span>Fitted</span></span></div></label><div class=\"sk-toggleable__content fitted\"><pre>Pipeline(steps=[(&#x27;preprocessor&#x27;,\n",
       "                 ColumnTransformer(remainder=&#x27;passthrough&#x27;,\n",
       "                                   transformers=[(&#x27;num&#x27;,\n",
       "                                                  Pipeline(steps=[(&#x27;imputer&#x27;,\n",
       "                                                                   SimpleImputer(strategy=&#x27;median&#x27;)),\n",
       "                                                                  (&#x27;scaler&#x27;,\n",
       "                                                                   StandardScaler())]),\n",
       "                                                  [&#x27;culmen_length_mm&#x27;,\n",
       "                                                   &#x27;culmen_depth_mm&#x27;,\n",
       "                                                   &#x27;flipper_length_mm&#x27;,\n",
       "                                                   &#x27;body_mass_g&#x27;]),\n",
       "                                                 (&#x27;cat&#x27;,\n",
       "                                                  Pipeline(steps=[(&#x27;imputer&#x27;,\n",
       "                                                                   SimpleImputer(strategy=&#x27;most_frequent&#x27;)),\n",
       "                                                                  (&#x27;encoder&#x27;,\n",
       "                                                                   OneHotEncoder(handle_unknown=&#x27;ignore&#x27;,\n",
       "                                                                                 sparse_output=False))]),\n",
       "                                                  [&#x27;sex&#x27;, &#x27;island&#x27;])])),\n",
       "                (&#x27;classifier&#x27;, GradientBoostingClassifier(random_state=42))])</pre></div> </div></div><div class=\"sk-serial\"><div class=\"sk-item sk-dashed-wrapped\"><div class=\"sk-label-container\"><div class=\"sk-label fitted sk-toggleable\"><input class=\"sk-toggleable__control sk-hidden--visually\" id=\"sk-estimator-id-2\" type=\"checkbox\" ><label for=\"sk-estimator-id-2\" class=\"sk-toggleable__label fitted sk-toggleable__label-arrow\"><div><div>preprocessor: ColumnTransformer</div></div><div><a class=\"sk-estimator-doc-link fitted\" rel=\"noreferrer\" target=\"_blank\" href=\"https://scikit-learn.org/1.6/modules/generated/sklearn.compose.ColumnTransformer.html\">?<span>Documentation for preprocessor: ColumnTransformer</span></a></div></label><div class=\"sk-toggleable__content fitted\"><pre>ColumnTransformer(remainder=&#x27;passthrough&#x27;,\n",
       "                  transformers=[(&#x27;num&#x27;,\n",
       "                                 Pipeline(steps=[(&#x27;imputer&#x27;,\n",
       "                                                  SimpleImputer(strategy=&#x27;median&#x27;)),\n",
       "                                                 (&#x27;scaler&#x27;, StandardScaler())]),\n",
       "                                 [&#x27;culmen_length_mm&#x27;, &#x27;culmen_depth_mm&#x27;,\n",
       "                                  &#x27;flipper_length_mm&#x27;, &#x27;body_mass_g&#x27;]),\n",
       "                                (&#x27;cat&#x27;,\n",
       "                                 Pipeline(steps=[(&#x27;imputer&#x27;,\n",
       "                                                  SimpleImputer(strategy=&#x27;most_frequent&#x27;)),\n",
       "                                                 (&#x27;encoder&#x27;,\n",
       "                                                  OneHotEncoder(handle_unknown=&#x27;ignore&#x27;,\n",
       "                                                                sparse_output=False))]),\n",
       "                                 [&#x27;sex&#x27;, &#x27;island&#x27;])])</pre></div> </div></div><div class=\"sk-parallel\"><div class=\"sk-parallel-item\"><div class=\"sk-item\"><div class=\"sk-label-container\"><div class=\"sk-label fitted sk-toggleable\"><input class=\"sk-toggleable__control sk-hidden--visually\" id=\"sk-estimator-id-3\" type=\"checkbox\" ><label for=\"sk-estimator-id-3\" class=\"sk-toggleable__label fitted sk-toggleable__label-arrow\"><div><div>num</div></div></label><div class=\"sk-toggleable__content fitted\"><pre>[&#x27;culmen_length_mm&#x27;, &#x27;culmen_depth_mm&#x27;, &#x27;flipper_length_mm&#x27;, &#x27;body_mass_g&#x27;]</pre></div> </div></div><div class=\"sk-serial\"><div class=\"sk-item\"><div class=\"sk-serial\"><div class=\"sk-item\"><div class=\"sk-estimator fitted sk-toggleable\"><input class=\"sk-toggleable__control sk-hidden--visually\" id=\"sk-estimator-id-4\" type=\"checkbox\" ><label for=\"sk-estimator-id-4\" class=\"sk-toggleable__label fitted sk-toggleable__label-arrow\"><div><div>SimpleImputer</div></div><div><a class=\"sk-estimator-doc-link fitted\" rel=\"noreferrer\" target=\"_blank\" href=\"https://scikit-learn.org/1.6/modules/generated/sklearn.impute.SimpleImputer.html\">?<span>Documentation for SimpleImputer</span></a></div></label><div class=\"sk-toggleable__content fitted\"><pre>SimpleImputer(strategy=&#x27;median&#x27;)</pre></div> </div></div><div class=\"sk-item\"><div class=\"sk-estimator fitted sk-toggleable\"><input class=\"sk-toggleable__control sk-hidden--visually\" id=\"sk-estimator-id-5\" type=\"checkbox\" ><label for=\"sk-estimator-id-5\" class=\"sk-toggleable__label fitted sk-toggleable__label-arrow\"><div><div>StandardScaler</div></div><div><a class=\"sk-estimator-doc-link fitted\" rel=\"noreferrer\" target=\"_blank\" href=\"https://scikit-learn.org/1.6/modules/generated/sklearn.preprocessing.StandardScaler.html\">?<span>Documentation for StandardScaler</span></a></div></label><div class=\"sk-toggleable__content fitted\"><pre>StandardScaler()</pre></div> </div></div></div></div></div></div></div><div class=\"sk-parallel-item\"><div class=\"sk-item\"><div class=\"sk-label-container\"><div class=\"sk-label fitted sk-toggleable\"><input class=\"sk-toggleable__control sk-hidden--visually\" id=\"sk-estimator-id-6\" type=\"checkbox\" ><label for=\"sk-estimator-id-6\" class=\"sk-toggleable__label fitted sk-toggleable__label-arrow\"><div><div>cat</div></div></label><div class=\"sk-toggleable__content fitted\"><pre>[&#x27;sex&#x27;, &#x27;island&#x27;]</pre></div> </div></div><div class=\"sk-serial\"><div class=\"sk-item\"><div class=\"sk-serial\"><div class=\"sk-item\"><div class=\"sk-estimator fitted sk-toggleable\"><input class=\"sk-toggleable__control sk-hidden--visually\" id=\"sk-estimator-id-7\" type=\"checkbox\" ><label for=\"sk-estimator-id-7\" class=\"sk-toggleable__label fitted sk-toggleable__label-arrow\"><div><div>SimpleImputer</div></div><div><a class=\"sk-estimator-doc-link fitted\" rel=\"noreferrer\" target=\"_blank\" href=\"https://scikit-learn.org/1.6/modules/generated/sklearn.impute.SimpleImputer.html\">?<span>Documentation for SimpleImputer</span></a></div></label><div class=\"sk-toggleable__content fitted\"><pre>SimpleImputer(strategy=&#x27;most_frequent&#x27;)</pre></div> </div></div><div class=\"sk-item\"><div class=\"sk-estimator fitted sk-toggleable\"><input class=\"sk-toggleable__control sk-hidden--visually\" id=\"sk-estimator-id-8\" type=\"checkbox\" ><label for=\"sk-estimator-id-8\" class=\"sk-toggleable__label fitted sk-toggleable__label-arrow\"><div><div>OneHotEncoder</div></div><div><a class=\"sk-estimator-doc-link fitted\" rel=\"noreferrer\" target=\"_blank\" href=\"https://scikit-learn.org/1.6/modules/generated/sklearn.preprocessing.OneHotEncoder.html\">?<span>Documentation for OneHotEncoder</span></a></div></label><div class=\"sk-toggleable__content fitted\"><pre>OneHotEncoder(handle_unknown=&#x27;ignore&#x27;, sparse_output=False)</pre></div> </div></div></div></div></div></div></div><div class=\"sk-parallel-item\"><div class=\"sk-item\"><div class=\"sk-label-container\"><div class=\"sk-label fitted sk-toggleable\"><input class=\"sk-toggleable__control sk-hidden--visually\" id=\"sk-estimator-id-9\" type=\"checkbox\" ><label for=\"sk-estimator-id-9\" class=\"sk-toggleable__label fitted sk-toggleable__label-arrow\"><div><div>remainder</div></div></label><div class=\"sk-toggleable__content fitted\"><pre>[]</pre></div> </div></div><div class=\"sk-serial\"><div class=\"sk-item\"><div class=\"sk-estimator fitted sk-toggleable\"><input class=\"sk-toggleable__control sk-hidden--visually\" id=\"sk-estimator-id-10\" type=\"checkbox\" ><label for=\"sk-estimator-id-10\" class=\"sk-toggleable__label fitted sk-toggleable__label-arrow\"><div><div>passthrough</div></div></label><div class=\"sk-toggleable__content fitted\"><pre>passthrough</pre></div> </div></div></div></div></div></div></div><div class=\"sk-item\"><div class=\"sk-estimator fitted sk-toggleable\"><input class=\"sk-toggleable__control sk-hidden--visually\" id=\"sk-estimator-id-11\" type=\"checkbox\" ><label for=\"sk-estimator-id-11\" class=\"sk-toggleable__label fitted sk-toggleable__label-arrow\"><div><div>GradientBoostingClassifier</div></div><div><a class=\"sk-estimator-doc-link fitted\" rel=\"noreferrer\" target=\"_blank\" href=\"https://scikit-learn.org/1.6/modules/generated/sklearn.ensemble.GradientBoostingClassifier.html\">?<span>Documentation for GradientBoostingClassifier</span></a></div></label><div class=\"sk-toggleable__content fitted\"><pre>GradientBoostingClassifier(random_state=42)</pre></div> </div></div></div></div></div></div>"
      ],
      "text/plain": [
       "Pipeline(steps=[('preprocessor',\n",
       "                 ColumnTransformer(remainder='passthrough',\n",
       "                                   transformers=[('num',\n",
       "                                                  Pipeline(steps=[('imputer',\n",
       "                                                                   SimpleImputer(strategy='median')),\n",
       "                                                                  ('scaler',\n",
       "                                                                   StandardScaler())]),\n",
       "                                                  ['culmen_length_mm',\n",
       "                                                   'culmen_depth_mm',\n",
       "                                                   'flipper_length_mm',\n",
       "                                                   'body_mass_g']),\n",
       "                                                 ('cat',\n",
       "                                                  Pipeline(steps=[('imputer',\n",
       "                                                                   SimpleImputer(strategy='most_frequent')),\n",
       "                                                                  ('encoder',\n",
       "                                                                   OneHotEncoder(handle_unknown='ignore',\n",
       "                                                                                 sparse_output=False))]),\n",
       "                                                  ['sex', 'island'])])),\n",
       "                ('classifier', GradientBoostingClassifier(random_state=42))])"
      ]
     },
     "execution_count": 30,
     "metadata": {},
     "output_type": "execute_result"
    }
   ],
   "source": [
    "model_pipeline.fit(X_train, y_train)"
   ]
  },
  {
   "cell_type": "markdown",
   "id": "f681a440",
   "metadata": {},
   "source": [
    "---\n",
    "## Evaluate The Model\n",
    "\n",
    "Use the [Scikit-Learn metrics](https://scikit-learn.org/stable/api/sklearn.metrics.html) module to get evaluation metrics for the model on the data splits."
   ]
  },
  {
   "cell_type": "code",
   "execution_count": 31,
   "id": "982f9034",
   "metadata": {},
   "outputs": [],
   "source": [
    "y_pred_proba_test = model_pipeline.predict_proba(X_test) # Multi-class predict_proba returns (n_samples, n_classes)\n",
    "y_pred_class_test = model_pipeline.predict(X_test) # Predicted class labels"
   ]
  },
  {
   "cell_type": "code",
   "execution_count": 32,
   "id": "d9990c6c",
   "metadata": {},
   "outputs": [
    {
     "name": "stdout",
     "output_type": "stream",
     "text": [
      "Model's learned class labels: ['Adelie Penguin (Pygoscelis adeliae)', 'Chinstrap penguin (Pygoscelis antarctica)', 'Gentoo penguin (Pygoscelis papua)']\n"
     ]
    }
   ],
   "source": [
    "class_labels = model_pipeline.named_steps['classifier'].classes_.tolist()\n",
    "print(f\"Model's learned class labels: {class_labels}\")"
   ]
  },
  {
   "cell_type": "code",
   "execution_count": 45,
   "id": "869d47c9",
   "metadata": {},
   "outputs": [
    {
     "name": "stdout",
     "output_type": "stream",
     "text": [
      "Accuracy (TEST): 0.9722\n",
      "PRC AUC (TEST): 0.9950\n",
      "ROC AUC (TEST): 0.9973\n",
      "Log Loss (TEST): 0.1945\n"
     ]
    }
   ],
   "source": [
    "labels_to_int_map = {label: i for i, label in enumerate(class_labels)}\n",
    "y_test_int_encoded = np.array([labels_to_int_map[label] for label in y_test])\n",
    "y_test_one_hot = np.eye(len(class_labels))[y_test_int_encoded]\n",
    "\n",
    "test_accuracy = sklearn.metrics.accuracy_score(y_test, y_pred_class_test)\n",
    "print(f\"Accuracy (TEST): {test_accuracy:.4f}\")\n",
    "\n",
    "test_prc_auc = sklearn.metrics.average_precision_score(y_test_one_hot, y_pred_proba_test, average='micro')\n",
    "print(f\"PRC AUC (TEST): {test_prc_auc:.4f}\")\n",
    "\n",
    "test_roc_auc = sklearn.metrics.roc_auc_score(y_test_one_hot, y_pred_proba_test, average='micro', multi_class='ovr')\n",
    "print(f\"ROC AUC (TEST): {test_roc_auc:.4f}\")\n",
    "\n",
    "test_log_loss = sklearn.metrics.log_loss(y_test_one_hot, y_pred_proba_test)\n",
    "print(f\"Log Loss (TEST): {test_log_loss:.4f}\")"
   ]
  },
  {
   "cell_type": "code",
   "execution_count": 46,
   "id": "22ba3fde",
   "metadata": {},
   "outputs": [
    {
     "name": "stdout",
     "output_type": "stream",
     "text": [
      "\n",
      "Classification Report (TEST Split):\n",
      "                                           precision    recall  f1-score   support\n",
      "\n",
      "      Adelie Penguin (Pygoscelis adeliae)       1.00      0.94      0.97        16\n",
      "Chinstrap penguin (Pygoscelis antarctica)       0.88      1.00      0.93         7\n",
      "        Gentoo penguin (Pygoscelis papua)       1.00      1.00      1.00        13\n",
      "\n",
      "                                 accuracy                           0.97        36\n",
      "                                macro avg       0.96      0.98      0.97        36\n",
      "                             weighted avg       0.98      0.97      0.97        36\n",
      "\n"
     ]
    }
   ],
   "source": [
    "print(\"\\nClassification Report (TEST Split):\")\n",
    "print(sklearn.metrics.classification_report(y_test, y_pred_class_test))"
   ]
  },
  {
   "cell_type": "code",
   "execution_count": 47,
   "id": "3d3f1587",
   "metadata": {},
   "outputs": [
    {
     "name": "stdout",
     "output_type": "stream",
     "text": [
      "\n",
      "Confusion Matrix (TEST Split):\n",
      "[[15  1  0]\n",
      " [ 0  7  0]\n",
      " [ 0  0 13]]\n"
     ]
    }
   ],
   "source": [
    "print(\"\\nConfusion Matrix (TEST Split):\")\n",
    "print(sklearn.metrics.confusion_matrix(y_test, y_pred_class_test))"
   ]
  },
  {
   "cell_type": "code",
   "execution_count": 48,
   "id": "1fc8e487",
   "metadata": {},
   "outputs": [
    {
     "data": {
      "text/plain": [
       "<sklearn.metrics._plot.confusion_matrix.ConfusionMatrixDisplay at 0x7fc1f4358a70>"
      ]
     },
     "execution_count": 48,
     "metadata": {},
     "output_type": "execute_result"
    },
    {
     "data": {
      "image/png": "[encoded data removed]",
      "text/plain": [
       "<Figure size 640x480 with 2 Axes>"
      ]
     },
     "metadata": {},
     "output_type": "display_data"
    }
   ],
   "source": [
    "disp = sklearn.metrics.ConfusionMatrixDisplay(\n",
    "    confusion_matrix = sklearn.metrics.confusion_matrix(y_test, y_pred_class_test),\n",
    "    display_labels = class_labels\n",
    ")\n",
    "disp.plot()"
   ]
  },
  {
   "cell_type": "markdown",
   "id": "09cbbdf5",
   "metadata": {},
   "source": [
    "---\n",
    "## Register The Model In Vertex AI Model Registry"
   ]
  },
  {
   "cell_type": "markdown",
   "id": "d0d7078c",
   "metadata": {},
   "source": [
    "### Save The Model\n",
    "\n",
    "Use the [joblib](https://joblib.readthedocs.io/en/stable/) to save the model pipeline to a local folder."
   ]
  },
  {
   "cell_type": "code",
   "execution_count": 49,
   "id": "cea275e0",
   "metadata": {},
   "outputs": [
    {
     "name": "stdout",
     "output_type": "stream",
     "text": [
      "Model pipeline saved successfully to: files/evaluation-classification-multi-class/model.joblib\n"
     ]
    }
   ],
   "source": [
    "model_filename = os.path.join(DIR, 'model.joblib')\n",
    "\n",
    "try:\n",
    "    joblib.dump(model_pipeline, model_filename)\n",
    "    print(f\"Model pipeline saved successfully to: {model_filename}\")\n",
    "except Exception as e:\n",
    "    print(f\"Error saving model pipeline: {e}\")"
   ]
  },
  {
   "cell_type": "markdown",
   "id": "d525a0e9",
   "metadata": {},
   "source": [
    "### Move The Model To GCS\n",
    "\n",
    "Store the joblib file in GCS for use with the Vertex AI Model Registry."
   ]
  },
  {
   "cell_type": "code",
   "execution_count": 50,
   "id": "eeb1f82d",
   "metadata": {},
   "outputs": [
    {
     "name": "stdout",
     "output_type": "stream",
     "text": [
      "Model pipeline uploaded successfully to GCS: gs://statmike-mlops-349915/mlops/evaluation-classification-multi-class/model_files/model.joblib\n"
     ]
    }
   ],
   "source": [
    "blob_path = f\"{SERIES}/{EXPERIMENT}/model_files\"\n",
    "blob_name = os.path.basename(model_filename)\n",
    "blob = bucket.blob(os.path.join(blob_path, blob_name))\n",
    "\n",
    "try:\n",
    "    blob.upload_from_filename(model_filename, timeout = 600) \n",
    "    print(f\"Model pipeline uploaded successfully to GCS: gs://{bucket.name}/{blob.name}\")\n",
    "except Exception as e:\n",
    "    print(f\"Error uploading model pipeline to GCS: {e}\")"
   ]
  },
  {
   "cell_type": "markdown",
   "id": "434b66c8",
   "metadata": {},
   "source": [
    "### Register The Model\n",
    "\n",
    "Registering the model in the [Vertex AI Model Registry](https://cloud.google.com/vertex-ai/docs/model-registry/introduction) requires:\n",
    "- A GCS URI for the model files\n",
    "- A Artifact Registry URI to a container than can serve the model files\n",
    "\n",
    "Vertex AI includes prebuilt containers for [training](https://cloud.google.com/vertex-ai/docs/training/pre-built-containers) and [serving](https://cloud.google.com/vertex-ai/docs/predictions/pre-built-containers) including [these](https://cloud.google.com/vertex-ai/docs/predictions/pre-built-containers#scikit-learn) that are purpose built for Scikit-Learn.  You can alos customize these containers (or your own container) as a [custom prediction container](https://cloud.google.com/vertex-ai/docs/predictions/use-custom-container).  For an example check out this workflow in this repository: [Catboost Custom Prediction With FastAPI](../../Framework%20Workflows/CatBoost/CatBoost%20Custom%20Prediction%20With%20FastAPI.ipynb)."
   ]
  },
  {
   "cell_type": "markdown",
   "id": "7ce90bd6",
   "metadata": {},
   "source": [
    "Check for existing version of the model:"
   ]
  },
  {
   "cell_type": "code",
   "execution_count": 51,
   "id": "318bfbc8",
   "metadata": {},
   "outputs": [],
   "source": [
    "parent_model = next(\n",
    "    (model for model in aiplatform.Model.list(filter=f'display_name=\"{SERIES}-{EXPERIMENT}\"')),\n",
    "    None # Default value if no model/version is found\n",
    ")\n",
    "parent_model"
   ]
  },
  {
   "cell_type": "markdown",
   "id": "fee2d5f8",
   "metadata": {},
   "source": [
    "Upload the model to the registry as a new version which will be version 1 if no prior version was found:"
   ]
  },
  {
   "cell_type": "code",
   "execution_count": 52,
   "id": "80baa6c9",
   "metadata": {},
   "outputs": [
    {
     "name": "stdout",
     "output_type": "stream",
     "text": [
      "Creating Model\n",
      "Create Model backing LRO: projects/1026793852137/locations/us-central1/models/mlops-evaluation-classification-multi-class/operations/4285409619376865280\n",
      "Model created. Resource name: projects/1026793852137/locations/us-central1/models/mlops-evaluation-classification-multi-class@1\n",
      "To use this Model in another session:\n",
      "model = aiplatform.Model('projects/1026793852137/locations/us-central1/models/mlops-evaluation-classification-multi-class@1')\n"
     ]
    }
   ],
   "source": [
    "vertex_model = aiplatform.Model.upload(\n",
    "    display_name = SERIES+'-'+EXPERIMENT,\n",
    "    model_id = SERIES+'-'+EXPERIMENT,\n",
    "    parent_model = parent_model,\n",
    "    serving_container_image_uri = 'us-docker.pkg.dev/vertex-ai/prediction/sklearn-cpu.1-5:latest',\n",
    "    artifact_uri = f'gs://{bucket.name}/{blob_path}',\n",
    "    is_default_version = True,\n",
    "    labels = {'series': SERIES, 'experiment': EXPERIMENT}\n",
    ")"
   ]
  },
  {
   "cell_type": "markdown",
   "id": "3a12952d",
   "metadata": {},
   "source": [
    "---\n",
    "## Load Model Evaluations To The Vertex AI Model Registry\n",
    "\n",
    "The versioned models in Vertex AI Model Registry can include evaluations.  Evaluation can even be vizualized and compared directly in the console.  \n",
    "\n",
    "The model registry, and Vertex AI SDK, include model evaluations as a service where managed jobs can be used to calculate predictions and automatically laod evaluation metrics based on the model type (regression, classification, or forecasting). Read more about [Model evaluation in Vertex AI](https://cloud.google.com/vertex-ai/docs/evaluation/introduction).\n",
    "\n",
    "In this workflow the evaluation will be manually uploaded with the Vertex AI SDK after first being prepared locally.  The evaluation need to be prepared in the format of one of the schems provided [here](https://console.cloud.google.com/storage/browser/google-cloud-aiplatform/schema/modelevaluation).\n",
    "\n",
    "This part of the workflow will demonstrate preparing the full set of evaluation metrics for the model above on each split of the data and then loading in the versioned model in the model registry.  The evaluation will then be shown in the console, and retrieved with the SDK.\n"
   ]
  },
  {
   "cell_type": "markdown",
   "id": "82ba3fca",
   "metadata": {},
   "source": [
    "### Structured Evaluation\n",
    "\n",
    "First, prepare the evaluations for the model in the structure of the provided schema `google-cloud-aiplatform/schema/modelevaluation/classification_metrics_1.0.0.yaml` found in the GCS location that is publically available here: [google-cloud-aiplatform/schema/modelevaluation/classification_metrics_1.0.0.yaml](https://console.cloud.google.com/storage/browser/google-cloud-aiplatform/schema/modelevaluation).\n",
    "\n",
    "In this example the complete schema is used but it is possible to provide a limited subset."
   ]
  },
  {
   "cell_type": "code",
   "execution_count": 55,
   "id": "76bb1d27",
   "metadata": {},
   "outputs": [],
   "source": [
    "n_classes = len(model_pipeline.named_steps['classifier'].classes_)\n",
    "class_labels = model_pipeline.named_steps['classifier'].classes_.tolist()\n",
    "\n",
    "evaluations = {}\n",
    "\n",
    "data_splits = {\n",
    "    'TRAIN': (X_train, y_train),\n",
    "    'VALIDATE': (X_val, y_val),\n",
    "    'TEST': (X_test, y_test)\n",
    "}"
   ]
  },
  {
   "cell_type": "code",
   "execution_count": 57,
   "id": "66635df6",
   "metadata": {},
   "outputs": [
    {
     "name": "stdout",
     "output_type": "stream",
     "text": [
      "  Calculating structured multi-class evaluation for TRAIN split (overall and by threshold)...\n",
      "  Calculating structured multi-class evaluation for VALIDATE split (overall and by threshold)...\n",
      "  Calculating structured multi-class evaluation for TEST split (overall and by threshold)...\n",
      "\n",
      "Finished calculating structured evaluations for all splits.\n"
     ]
    }
   ],
   "source": [
    "for split_name, (X_split, y_split) in data_splits.items():\n",
    "    print(f\"  Calculating structured multi-class evaluation for {split_name} split (overall and by threshold)...\")\n",
    "    \n",
    "    # 1. Predictions for the current split\n",
    "    y_pred_proba = model_pipeline.predict_proba(X_split) # Shape (n_samples, n_classes) for multi-class\n",
    "    y_pred_class = np.argmax(y_pred_proba, axis=1) # Predicted class labels (integers 0 to N-1)\n",
    "\n",
    "    # 2. Prepare y_true for multi-class metrics (integer-encoding and then one-hot encoding)\n",
    "    # y_split can be pandas Series of strings (like 'Adelie'). Convert to int index then one-hot.\n",
    "    label_to_int_map = {label: i for i, label in enumerate(class_labels)}\n",
    "    y_split_int_encoded = np.array([label_to_int_map[label] for label in y_split])\n",
    "    y_split_one_hot = np.eye(n_classes)[y_split_int_encoded]\n",
    "\n",
    "    # --- Handle empty or single-class splits to prevent metric errors ---\n",
    "    # Metrics like ROC AUC, LogLoss require at least two unique true classes\n",
    "    if len(y_split_int_encoded) == 0 or len(np.unique(y_split_int_encoded)) < 2:\n",
    "        print(f\"    Skipping {split_name} due to insufficient data or single class (samples: {len(y_split_int_encoded)}, unique classes: {len(np.unique(y_split_int_encoded))}).\")\n",
    "        # Populate with default values or empty lists as per schema for omitted metrics\n",
    "        evaluations[split_name] = {\n",
    "            'auPrc': 0.0, 'auRoc': 0.0, 'logLoss': 0.0,\n",
    "            'confidenceMetrics': [],\n",
    "            'confusionMatrix': { 'annotationSpecs': [], 'rows': [] }\n",
    "        }\n",
    "        continue # Skip to next split\n",
    "\n",
    "\n",
    "    # 3. Overall metrics (micro-averaged for multi-class schema compliance)\n",
    "    au_prc_val = sklearn.metrics.average_precision_score(y_split_one_hot, y_pred_proba, average='micro')\n",
    "    au_roc_val = sklearn.metrics.roc_auc_score(y_split_one_hot, y_pred_proba, multi_class='ovr', average='micro')\n",
    "    log_loss_val = sklearn.metrics.log_loss(y_split_one_hot, y_pred_proba)\n",
    "\n",
    "    # Overall Confusion Matrix (N x N for multi-class)\n",
    "    # Use integer-encoded y_split and predicted integer classes\n",
    "    overall_conf_matrix = sklearn.metrics.confusion_matrix(y_split_int_encoded, y_pred_class, labels=range(n_classes))\n",
    "    # Convert numpy array to list of lists, and wrap each inner list in a 'row' dict as per schema\n",
    "    overall_conf_matrix_rows = [{'row': row.tolist()} for row in overall_conf_matrix]\n",
    "\n",
    "\n",
    "    # 4. Confidence metrics for splits (micro-averaged across all classes at thresholds)\n",
    "    # The multi-class schema's 'confidenceMetrics' typically refers to these micro-averaged aggregate metrics.\n",
    "    confidence_thresholds = (\n",
    "        list(np.arange(0.0, 1.0, 0.05)) +\n",
    "        list(np.arange(0.95, 1.0, 0.01))\n",
    "    )\n",
    "    confidence_thresholds = sorted(list(set([round(t, 2) for t in confidence_thresholds])))\n",
    "    \n",
    "    confidence_metrics_list = []\n",
    "\n",
    "    for threshold in confidence_thresholds:\n",
    "        # Apply threshold to probabilities for each class independently to get a binary matrix\n",
    "        # This is for calculating micro-averaged metrics at this confidence level\n",
    "        y_pred_binary_matrix = (y_pred_proba >= threshold).astype(int)\n",
    "        \n",
    "        # Flatten true one-hot and predicted binary matrices for micro-averaging across all classes\n",
    "        y_true_flat = y_split_one_hot.ravel()\n",
    "        y_pred_flat = y_pred_binary_matrix.ravel()\n",
    "\n",
    "        # Calculate micro-averaged counts (TP, FP, FN, TN) from flattened data\n",
    "        # sklearn.metrics.confusion_matrix on flattened arrays is robust for this\n",
    "        tn_flat, fp_flat, fn_flat, tp_flat = sklearn.metrics.confusion_matrix(y_true_flat, y_pred_flat, labels=[0, 1]).ravel()\n",
    "        \n",
    "        # Calculate micro-averaged metrics from these flattened counts, handling division by zero\n",
    "        recall_val = tp_flat / (tp_flat + fn_flat) if (tp_flat + fn_flat) > 0 else 0.0\n",
    "        precision_val = tp_flat / (tp_flat + fp_flat) if (tp_flat + fp_flat) > 0 else 0.0\n",
    "        false_positive_rate_val = fp_flat / (fp_flat + tn_flat) if (fp_flat + tn_flat) > 0 else 0.0\n",
    "        f1_score_val = (2 * precision_val * recall_val) / (precision_val + recall_val) if (precision_val + recall_val) > 0 else 0.0\n",
    "\n",
    "        confidence_metrics_entry = {\n",
    "            'confidenceThreshold': threshold,\n",
    "            #'maxPredictions': INT32_MAX_VALUE, # As per schema\n",
    "            'recall': recall_val,\n",
    "            'precision': precision_val,\n",
    "            'falsePositiveRate': false_positive_rate_val,\n",
    "            'f1Score': f1_score_val,\n",
    "            'truePositiveCount': int(tp_flat),\n",
    "            'falsePositiveCount': int(fp_flat),\n",
    "            'falseNegativeCount': int(fn_flat),\n",
    "            'trueNegativeCount': int(tn_flat),\n",
    "            'confusionMatrix': { # Optional confusion matrix for each threshold (micro-averaged)\n",
    "                'annotationSpecs': [{'id': str(i), 'displayName': label} for i, label in enumerate(class_labels)],\n",
    "                # Confusion matrix for flattened data (binary)\n",
    "                'rows': [{'row': sklearn.metrics.confusion_matrix(y_true_flat, y_pred_flat, labels=[0, 1])[0].tolist()},\n",
    "                         {'row': sklearn.metrics.confusion_matrix(y_true_flat, y_pred_flat, labels=[0, 1])[1].tolist()}]\n",
    "            }\n",
    "        }\n",
    "        confidence_metrics_list.append(confidence_metrics_entry)\n",
    "        \n",
    "    # Populate the main evaluations dictionary for the current split\n",
    "    evaluations[split_name] = {\n",
    "        'auPrc': au_prc_val,\n",
    "        'auRoc': au_roc_val,\n",
    "        'logLoss': log_loss_val,\n",
    "        'confidenceMetrics': confidence_metrics_list,\n",
    "        'confusionMatrix': { # Overall confusion matrix at default 0.5 threshold (N x N for multi-class)\n",
    "            'annotationSpecs': [{'id': str(i), 'displayName': label} for i, label in enumerate(class_labels)],\n",
    "            'rows': overall_conf_matrix_rows # Already correctly formatted above\n",
    "        }\n",
    "    }\n",
    "print(\"\\nFinished calculating structured evaluations for all splits.\")"
   ]
  },
  {
   "cell_type": "markdown",
   "id": "10b88bc4",
   "metadata": {},
   "source": [
    "Review the metrics for the first threshold of the 'TRAIN' split:"
   ]
  },
  {
   "cell_type": "code",
   "execution_count": 58,
   "id": "92b7e7ff",
   "metadata": {},
   "outputs": [
    {
     "data": {
      "text/plain": [
       "{'confidenceThreshold': np.float64(0.0),\n",
       " 'recall': np.float64(1.0),\n",
       " 'precision': np.float64(0.3333333333333333),\n",
       " 'falsePositiveRate': np.float64(1.0),\n",
       " 'f1Score': np.float64(0.5),\n",
       " 'truePositiveCount': 274,\n",
       " 'falsePositiveCount': 548,\n",
       " 'falseNegativeCount': 0,\n",
       " 'trueNegativeCount': 0,\n",
       " 'confusionMatrix': {'annotationSpecs': [{'id': '0',\n",
       "    'displayName': 'Adelie Penguin (Pygoscelis adeliae)'},\n",
       "   {'id': '1', 'displayName': 'Chinstrap penguin (Pygoscelis antarctica)'},\n",
       "   {'id': '2', 'displayName': 'Gentoo penguin (Pygoscelis papua)'}],\n",
       "  'rows': [{'row': [0, 548]}, {'row': [0, 274]}]}}"
      ]
     },
     "execution_count": 58,
     "metadata": {},
     "output_type": "execute_result"
    }
   ],
   "source": [
    "evaluations['TRAIN']['confidenceMetrics'][0]"
   ]
  },
  {
   "cell_type": "code",
   "execution_count": null,
   "id": "f4c9cbb7",
   "metadata": {},
   "outputs": [],
   "source": []
  },
  {
   "cell_type": "code",
   "execution_count": null,
   "id": "63aa3ccf",
   "metadata": {},
   "outputs": [],
   "source": []
  },
  {
   "cell_type": "code",
   "execution_count": null,
   "id": "8230294d",
   "metadata": {},
   "outputs": [],
   "source": []
  },
  {
   "cell_type": "code",
   "execution_count": null,
   "id": "53092465",
   "metadata": {},
   "outputs": [],
   "source": []
  },
  {
   "cell_type": "code",
   "execution_count": null,
   "id": "8a1a3f75",
   "metadata": {},
   "outputs": [],
   "source": []
  },
  {
   "cell_type": "code",
   "execution_count": null,
   "id": "8022655e",
   "metadata": {},
   "outputs": [],
   "source": []
  }
 ],
 "metadata": {
  "kernelspec": {
   "display_name": ".venv",
   "language": "python",
   "name": "python3"
  },
  "language_info": {
   "codemirror_mode": {
    "name": "ipython",
    "version": 3
   },
   "file_extension": ".py",
   "mimetype": "text/x-python",
   "name": "python",
   "nbconvert_exporter": "python",
   "pygments_lexer": "ipython3",
   "version": "3.12.10"
  }
 },
 "nbformat": 4,
 "nbformat_minor": 5
}
