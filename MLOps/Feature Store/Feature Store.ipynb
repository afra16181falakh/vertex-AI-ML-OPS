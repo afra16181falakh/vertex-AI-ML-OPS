{
 "cells": [
  {
   "cell_type": "markdown",
   "id": "13b57a09",
   "metadata": {},
   "source": [
    "![tracker](https://us-central1-vertex-ai-mlops-369716.cloudfunctions.net/pixel-tracking?path=statmike%2Fvertex-ai-mlops%2FMLOps%2FFeature+Store&file=Feature+Store.ipynb)\n",
    "<!--- header table --->\n",
    "<table align=\"left\">\n",
    "  <td style=\"text-align: center\">\n",
    "    <a href=\"https://colab.research.google.com/github/statmike/vertex-ai-mlops/blob/main/MLOps/Feature%20Store/Feature%20Store.ipynb\">\n",
    "      <img width=\"32px\" src=\"https://www.gstatic.com/pantheon/images/bigquery/welcome_page/colab-logo.svg\" alt=\"Google Colaboratory logo\">\n",
    "      <br>Run in<br>Colab\n",
    "    </a>\n",
    "  </td>\n",
    "  <td style=\"text-align: center\">\n",
    "    <a href=\"https://console.cloud.google.com/vertex-ai/colab/import/https%3A%2F%2Fraw.githubusercontent.com%2Fstatmike%2Fvertex-ai-mlops%2Fmain%2FMLOps%2FFeature%2520Store%2FFeature%2520Store.ipynb\">\n",
    "      <img width=\"32px\" src=\"https://lh3.googleusercontent.com/JmcxdQi-qOpctIvWKgPtrzZdJJK-J3sWE1RsfjZNwshCFgE_9fULcNpuXYTilIR2hjwN\" alt=\"Google Cloud Colab Enterprise logo\">\n",
    "      <br>Run in<br>Colab Enterprise\n",
    "    </a>\n",
    "  </td>      \n",
    "  <td style=\"text-align: center\">\n",
    "    <a href=\"https://github.com/statmike/vertex-ai-mlops/blob/main/MLOps/Feature%20Store/Feature%20Store.ipynb\">\n",
    "      <img width=\"32px\" src=\"https://www.svgrepo.com/download/217753/github.svg\" alt=\"GitHub logo\">\n",
    "      <br>View on<br>GitHub\n",
    "    </a>\n",
    "  </td>\n",
    "  <td style=\"text-align: center\">\n",
    "    <a href=\"https://console.cloud.google.com/vertex-ai/workbench/deploy-notebook?download_url=https://raw.githubusercontent.com/statmike/vertex-ai-mlops/main/MLOps/Feature%20Store/Feature%20Store.ipynb\">\n",
    "      <img width=\"32px\" src=\"https://www.gstatic.com/images/branding/gcpiconscolors/vertexai/v1/32px.svg\" alt=\"Vertex AI logo\">\n",
    "      <br>Open in<br>Vertex AI Workbench\n",
    "    </a>\n",
    "  </td>\n",
    "</table>"
   ]
  },
  {
   "cell_type": "markdown",
   "id": "92924544-e44a-4ac7-a745-9fe5a6ee8357",
   "metadata": {},
   "source": [
    "---\n",
    "\n",
    "**File Move Notices**\n",
    "\n",
    "This file moved locations:\n",
    "- On 09/08/2024 (mm/dd/yyyy)\n",
    "\t- From: `Feature Store/Feature Store.ipynb`\n",
    "\t- To: `MLOps/Feature Store/Feature Store.ipynb`\n",
    "---\n",
    "<!---end of move notices--->\n",
    "\n",
    "# Feature Store\n",
    "\n",
    "In ML, instances (think rows) of data are used to both train models, and request predictions.  The transformation of the colomns in these instances into features by feature engineering is essential for input at training and serving.  Thus, feature management is important.\n",
    "\n",
    "A feature store centralizes the tasks of creating, maintaining, sharing, and serving ML features.  This allows for easier reuse, faster ML development, less training/serving skew, and discoverability of features and feature sets.\n",
    "\n",
    "In Vertex AI, this is covered by [Vertex AI Feature Store](https://cloud.google.com/vertex-ai/docs/featurestore) of which there are two types:\n",
    "- [Vertex AI Feature Store](https://cloud.google.com/vertex-ai/docs/featurestore#vaifs)\n",
    "    - Covered in this workflow\n",
    "- [Vertex AI Feature Store (Legacy)](https://cloud.google.com/vertex-ai/docs/featurestore#vaifs_legacy)\n",
    "    - Covered in the prior workflow at [Feature Store (Legacy)](./Feature%20Store%20%28Legacy%29.ipynb)\n",
    "- [Comparison](https://cloud.google.com/vertex-ai/docs/featurestore#comparison_between_and)\n",
    "\n",
    "**Prerequisites:**\n",
    "-  [01 - BigQuery - Table Data Source](../../01%20-%20Data%20Sources/01%20-%20BigQuery%20-%20Table%20Data%20Source.ipynb)\n",
    "\n",
    "**Resources:**\n",
    "- [Documentation](https://cloud.google.com/vertex-ai/docs/featurestore/latest/overview)\n",
    "- [Tutorial from Documentation](https://github.com/GoogleCloudPlatform/vertex-ai-samples/blob/main/notebooks/official/feature_store/online_feature_serving_and_fetching_bigquery_data_with_feature_store_bigtable.ipynb)\n",
    "\n",
    "**Todo List:**\n",
    "- show multiple feature groups for one feature view\n",
    "- add embedding to this datasource and include embedding search\n",
    "    - use as opportunity to show multiple tables > feature groups > feature View\n",
    "- add dataplex data catalog narrative\n",
    "- add FS management section: add/delete/list/update\n",
    "- add example of multiple groups feeding features to the same online view\n",
    "- show prediction with feature store integration\n",
    "\n",
    "---\n",
    "**tl;dr**\n",
    "\n",
    "<p align=\"center\" ><center>\n",
    "    <img src=\"../resources/images/created/featurestore/overview.png\" width=\"50%\">\n",
    "</center></p>\n",
    "\n",
    "The main layout for Feature Store is serving environment for **features** observed on **entities**:\n",
    "- **entity** = a unique record, think row\n",
    "- **feature** = observations, input for ML, think column\n",
    "\n",
    "The **offline store** is made up of any BigQuery Table(s)/View(s), the **data source**, that you manage:\n",
    "- (1) If a table/view has a single row per unique **entity** with columns that are non-changing values for **features** then the table can be directly used in an **online store's** **feature view** (see below).\n",
    "- (2) For time bound **features** the table/view needs to have two additional columns: entity_id, feature_timestamp. Think of this as a history table.\n",
    "\n",
    "The **feature registry**:\n",
    "- Tables/Views of type (2) above are registered as **Feature Groups** - a feature group is sourced by a single table/view\n",
    "- Columns from the **feature group** are then registered as **features**\n",
    "\n",
    "The **online store** is has two types to choose from:\n",
    "- Cloud Bigtable online serving - highly scalable\n",
    "- Optimized online serving - ultra-low latencies and responsive to burst of requests\n",
    "\n",
    "**Feature Views** are created in the **online store** from either:\n",
    "- Features from one or more **feature groups**\n",
    "- a table/view of type (1) above\n",
    " \n",
    "BigQuery as a **data source**:\n",
    "- This means that managing time bound **features** is done in BigQuery but before the **feature store**.  You can create multiple rows per **entity** in tables and use the entity_id and feature_timestamp columns to indicate the time based values. To make this shape of source data useful for training data batches (or evaluation, test, batch prediction) there are two new functions in BigQuery to help extract point-in-time value for **entity/feature** data:\n",
    "    - [ML.FEATURES_AT_TIME](https://cloud.google.com/bigquery/docs/reference/standard-sql/bigqueryml-syntax-feature-time) - will take a table and timestamp as input and return the value for each feature on each entity as of the timestamp.  There are additional optional configurations also.  \n",
    "    - [ML.ENTITY_FEATURES_AT_TIME](https://cloud.google.com/bigquery/docs/reference/standard-sql/bigqueryml-syntax-entity-feature-time) - will take a input table and an additional table of entity+timestamp pairs and return the feature values for each entity+timestamp pair.  This allows both multiple points in time for single entities as well as different times for different entities.\n",
    "- Time bound data, or column values that change for a row/entity, might not be the native way data scientist are used to working with data.  There are great features in BigQuery to help with handling data that changes with time.\n",
    "    - Creating these tables/views with timestamp entity records may be benefited by [time-travel](https://cloud.google.com/bigquery/docs/time-travel#time_travel) (up to 7 days - configurable) and [snapshots](https://cloud.google.com/bigquery/docs/table-snapshots-intro) (user controlled points in time). You can also [query time-travel](https://cloud.google.com/bigquery/docs/access-historical-data) as well as [create snapshots from time-travel](https://cloud.google.com/bigquery/docs/table-snapshots-create#create_a_table_snapshot_using_time_travel).\n",
    "\n"
   ]
  },
  {
   "cell_type": "markdown",
   "id": "b3a2bcca-b37c-48ab-9a2f-a7fde79cc92e",
   "metadata": {
    "id": "od_UkDpvRmgD",
    "tags": []
   },
   "source": [
    "---\n",
    "## Colab Setup\n",
    "\n",
    "When running this notebook in [Colab](https://colab.google/) or [Colab Enterprise](https://cloud.google.com/colab/docs/introduction), this section will authenticate to GCP (follow prompts in the popup) and set the current project for the session."
   ]
  },
  {
   "cell_type": "code",
   "execution_count": 1,
   "id": "c977f278-62a5-44d7-a6a1-3cc91705bcff",
   "metadata": {
    "executionInfo": {
     "elapsed": 195,
     "status": "ok",
     "timestamp": 1683726184843,
     "user": {
      "displayName": "Mike Henderson",
      "userId": "07691629187611687318"
     },
     "user_tz": 240
    },
    "id": "8UO9FnqyKBlF",
    "tags": []
   },
   "outputs": [],
   "source": [
    "PROJECT_ID = 'statmike-mlops-349915' # replace with project ID"
   ]
  },
  {
   "cell_type": "code",
   "execution_count": 2,
   "id": "b10d0d38-2ec1-4ebc-bd57-e5170bb68c7e",
   "metadata": {
    "colab": {
     "base_uri": "https://localhost:8080/"
    },
    "executionInfo": {
     "elapsed": 68869,
     "status": "ok",
     "timestamp": 1683726253709,
     "user": {
      "displayName": "Mike Henderson",
      "userId": "07691629187611687318"
     },
     "user_tz": 240
    },
    "id": "N98-KK7LRkjm",
    "outputId": "09ec5008-0def-4e1a-c349-c598ee752f78",
    "tags": []
   },
   "outputs": [
    {
     "name": "stdout",
     "output_type": "stream",
     "text": [
      "Not a Colab Environment\n"
     ]
    }
   ],
   "source": [
    "try:\n",
    "    from google.colab import auth\n",
    "    auth.authenticate_user(project_id = PROJECT_ID)\n",
    "    print('Colab authorized to GCP')\n",
    "except Exception:\n",
    "    print('Not a Colab Environment')\n",
    "    pass"
   ]
  },
  {
   "cell_type": "markdown",
   "id": "f1bdec6d-2283-44af-9751-6d3b7388aa3b",
   "metadata": {},
   "source": [
    "---\n",
    "## Installs\n",
    "\n",
    "The list `packages` contains tuples of package import names and install names.  If the import name is not found then the install name is used to install quitely for the current user."
   ]
  },
  {
   "cell_type": "code",
   "execution_count": 3,
   "id": "5d1adfd4-c545-4f31-9310-8878685d2149",
   "metadata": {
    "tags": []
   },
   "outputs": [],
   "source": [
    "# tuples of (import name, install name)\n",
    "packages = [\n",
    "    ('google.cloud.aiplatform', 'google-cloud-aiplatform'),\n",
    "    ('google.cloud.bigquery', 'google-cloud-bigquery'),\n",
    "    ('bigframes', 'bigframes'),\n",
    "]\n",
    "\n",
    "import importlib\n",
    "install = False\n",
    "for package in packages:\n",
    "    if not importlib.util.find_spec(package[0]):\n",
    "        print(f'installing package {package[1]}')\n",
    "        install = True\n",
    "        !pip install {package[1]} -U -q --user"
   ]
  },
  {
   "cell_type": "markdown",
   "id": "cae8081e-b8a9-4cd4-8627-25edef70ed5e",
   "metadata": {},
   "source": [
    "### Restart Kernel (If Installs Occured)\n",
    "\n",
    "After a kernel restart the code submission can start with the next cell after this one."
   ]
  },
  {
   "cell_type": "code",
   "execution_count": 4,
   "id": "7719a101-e00c-4a72-ab9e-7610c33ec938",
   "metadata": {
    "tags": []
   },
   "outputs": [],
   "source": [
    "if install:\n",
    "    import IPython\n",
    "    app = IPython.Application.instance()\n",
    "    app.kernel.do_shutdown(True)"
   ]
  },
  {
   "cell_type": "markdown",
   "id": "c3a25fa0-195a-429d-b272-7ffa203223b8",
   "metadata": {},
   "source": [
    "---\n",
    "## Setup"
   ]
  },
  {
   "cell_type": "markdown",
   "id": "c60ae0dc-d2a5-4aa0-a424-be9a81b04af9",
   "metadata": {},
   "source": [
    "inputs:"
   ]
  },
  {
   "cell_type": "code",
   "execution_count": 5,
   "id": "0d036b08-b110-43ae-b23b-fddb90dd4bd0",
   "metadata": {
    "tags": []
   },
   "outputs": [
    {
     "data": {
      "text/plain": [
       "'statmike-mlops-349915'"
      ]
     },
     "execution_count": 5,
     "metadata": {},
     "output_type": "execute_result"
    }
   ],
   "source": [
    "project = !gcloud config get-value project\n",
    "PROJECT_ID = project[0]\n",
    "PROJECT_ID"
   ]
  },
  {
   "cell_type": "code",
   "execution_count": 161,
   "id": "2083ab35-03d8-4734-bd68-e520a2095867",
   "metadata": {
    "tags": []
   },
   "outputs": [],
   "source": [
    "REGION = 'us-central1'\n",
    "EXPERIMENT = 'workflow'\n",
    "SERIES = 'feature-store'\n",
    "\n",
    "# source data\n",
    "BQ_PROJECT = PROJECT_ID\n",
    "BQ_DATASET = 'fraud'\n",
    "BQ_TABLE = 'fraud_prepped'"
   ]
  },
  {
   "cell_type": "markdown",
   "id": "792906cf-8faf-45f5-a1a2-10aabc1d81e9",
   "metadata": {},
   "source": [
    "packages:"
   ]
  },
  {
   "cell_type": "code",
   "execution_count": 7,
   "id": "e5580479-4d24-46a8-8871-89c201969a31",
   "metadata": {
    "tags": []
   },
   "outputs": [],
   "source": [
    "from google.cloud import aiplatform\n",
    "from datetime import datetime, timedelta\n",
    "import time\n",
    "import numpy as np\n",
    "import asyncio\n",
    "from google.cloud import bigquery\n",
    "import bigframes.pandas as bpd"
   ]
  },
  {
   "cell_type": "markdown",
   "id": "f5ca9cda-7e13-45cf-926f-192bffe6c434",
   "metadata": {},
   "source": [
    "clients:"
   ]
  },
  {
   "cell_type": "code",
   "execution_count": 8,
   "id": "8ab52864-142d-45c2-b704-f9c97a124390",
   "metadata": {
    "tags": []
   },
   "outputs": [],
   "source": [
    "aiplatform.init(project = PROJECT_ID, location = REGION)\n",
    "bq = bigquery.Client(project = PROJECT_ID)\n",
    "#bpd.options.bigquery.project = PROJECT_ID"
   ]
  },
  {
   "cell_type": "markdown",
   "id": "7c21502f-fa0b-47fd-a42c-fba2d574128a",
   "metadata": {},
   "source": [
    "---\n",
    "## Review Source Data\n",
    "\n",
    "The data source here was prepared in [01 - BigQuery - Table Data Source](../../01%20-%20Data%20Sources/01%20-%20BigQuery%20-%20Table%20Data%20Source.ipynb).\n",
    "\n",
    "This is a table of 284,807 credit card transactions classified as fradulant or normal in the column `Class`.  In order protect confidentiality, the original features have been transformed using [principle component analysis (PCA)](https://en.wikipedia.org/wiki/Principal_component_analysis) into 28 features named `V1, V2, ... V28` (float).  Two descriptive features are provided without transformation by PCA:\n",
    "- `Time` (integer) is the seconds elapsed between the transaction and the earliest transaction in the table\n",
    "- `Amount` (float) is the value of the transaction\n",
    "\n",
    "The data preparation included added splits for machine learning with a column named `splits` with 80% for training (`TRAIN`), 10% for validation (`VALIDATE`) and 10% for testing (`TEST`).  Additionally, a unique identifier was added to each transaction, `transaction_id`.  "
   ]
  },
  {
   "cell_type": "markdown",
   "id": "483d76ba-f10b-407c-aaa6-7866ffc5aeb3",
   "metadata": {},
   "source": [
    "### Connect to the BigQuery table:"
   ]
  },
  {
   "cell_type": "code",
   "execution_count": 9,
   "id": "e66992c8-d700-4844-913e-da6364eddfc6",
   "metadata": {
    "tags": []
   },
   "outputs": [],
   "source": [
    "source_data = bpd.read_gbq(f'{BQ_PROJECT}.{BQ_DATASET}.{BQ_TABLE}')"
   ]
  },
  {
   "cell_type": "markdown",
   "id": "d5f00dd6-7b32-40e8-bb65-92f8781f56b5",
   "metadata": {},
   "source": [
    "### Review a sample of the data:"
   ]
  },
  {
   "cell_type": "code",
   "execution_count": 10,
   "id": "55833b3a-c845-4f41-8ed8-fde001bea53d",
   "metadata": {
    "tags": []
   },
   "outputs": [
    {
     "data": {
      "text/html": [
       "Query job 2b9be452-dc64-4b3b-ab89-4fc7108a83a9 is DONE. 83.5 MB processed. <a target=\"_blank\" href=\"https://console.cloud.google.com/bigquery?project=statmike-mlops-349915&j=bq:us-central1:2b9be452-dc64-4b3b-ab89-4fc7108a83a9&page=queryresults\">Open Job</a>"
      ],
      "text/plain": [
       "<IPython.core.display.HTML object>"
      ]
     },
     "metadata": {},
     "output_type": "display_data"
    },
    {
     "data": {
      "text/html": [
       "Query job d874d8ea-e045-4a7d-8665-486f928bd61d is DONE. 0 Bytes processed. <a target=\"_blank\" href=\"https://console.cloud.google.com/bigquery?project=statmike-mlops-349915&j=bq:us-central1:d874d8ea-e045-4a7d-8665-486f928bd61d&page=queryresults\">Open Job</a>"
      ],
      "text/plain": [
       "<IPython.core.display.HTML object>"
      ]
     },
     "metadata": {},
     "output_type": "display_data"
    },
    {
     "data": {
      "text/html": [
       "Query job 1f916d4c-ea7f-4781-a503-80e987e45217 is DONE. 1.5 kB processed. <a target=\"_blank\" href=\"https://console.cloud.google.com/bigquery?project=statmike-mlops-349915&j=bq:us-central1:1f916d4c-ea7f-4781-a503-80e987e45217&page=queryresults\">Open Job</a>"
      ],
      "text/plain": [
       "<IPython.core.display.HTML object>"
      ]
     },
     "metadata": {},
     "output_type": "display_data"
    },
    {
     "data": {
      "text/html": [
       "<div>\n",
       "<style scoped>\n",
       "    .dataframe tbody tr th:only-of-type {\n",
       "        vertical-align: middle;\n",
       "    }\n",
       "\n",
       "    .dataframe tbody tr th {\n",
       "        vertical-align: top;\n",
       "    }\n",
       "\n",
       "    .dataframe thead th {\n",
       "        text-align: right;\n",
       "    }\n",
       "</style>\n",
       "<table border=\"1\" class=\"dataframe\">\n",
       "  <thead>\n",
       "    <tr style=\"text-align: right;\">\n",
       "      <th></th>\n",
       "      <th>Time</th>\n",
       "      <th>V1</th>\n",
       "      <th>V2</th>\n",
       "      <th>V3</th>\n",
       "      <th>V4</th>\n",
       "      <th>V5</th>\n",
       "      <th>V6</th>\n",
       "      <th>V7</th>\n",
       "      <th>V8</th>\n",
       "      <th>V9</th>\n",
       "      <th>...</th>\n",
       "      <th>V23</th>\n",
       "      <th>V24</th>\n",
       "      <th>V25</th>\n",
       "      <th>V26</th>\n",
       "      <th>V27</th>\n",
       "      <th>V28</th>\n",
       "      <th>Amount</th>\n",
       "      <th>Class</th>\n",
       "      <th>transaction_id</th>\n",
       "      <th>splits</th>\n",
       "    </tr>\n",
       "  </thead>\n",
       "  <tbody>\n",
       "    <tr>\n",
       "      <th>0</th>\n",
       "      <td>146737</td>\n",
       "      <td>-8.313253</td>\n",
       "      <td>7.353339</td>\n",
       "      <td>-6.784848</td>\n",
       "      <td>-1.647257</td>\n",
       "      <td>-3.151681</td>\n",
       "      <td>-1.036468</td>\n",
       "      <td>-3.176614</td>\n",
       "      <td>4.783091</td>\n",
       "      <td>2.525343</td>\n",
       "      <td>...</td>\n",
       "      <td>0.553924</td>\n",
       "      <td>-1.551447</td>\n",
       "      <td>0.668017</td>\n",
       "      <td>-0.047452</td>\n",
       "      <td>1.246589</td>\n",
       "      <td>0.71985</td>\n",
       "      <td>0.89</td>\n",
       "      <td>0</td>\n",
       "      <td>9c23ed6c-805e-4c54-af95-dfb8cb34446a</td>\n",
       "      <td>TRAIN</td>\n",
       "    </tr>\n",
       "    <tr>\n",
       "      <th>1</th>\n",
       "      <td>41342</td>\n",
       "      <td>-0.950509</td>\n",
       "      <td>1.005787</td>\n",
       "      <td>2.004522</td>\n",
       "      <td>3.180712</td>\n",
       "      <td>-0.721331</td>\n",
       "      <td>0.622745</td>\n",
       "      <td>-0.367445</td>\n",
       "      <td>0.690638</td>\n",
       "      <td>-0.831808</td>\n",
       "      <td>...</td>\n",
       "      <td>-0.019173</td>\n",
       "      <td>0.438937</td>\n",
       "      <td>-0.462187</td>\n",
       "      <td>0.328724</td>\n",
       "      <td>-0.041549</td>\n",
       "      <td>0.082586</td>\n",
       "      <td>39.52</td>\n",
       "      <td>0</td>\n",
       "      <td>f23f1435-eaf1-455c-9877-9e3b1db6473d</td>\n",
       "      <td>TRAIN</td>\n",
       "    </tr>\n",
       "    <tr>\n",
       "      <th>2</th>\n",
       "      <td>154083</td>\n",
       "      <td>-2.41823</td>\n",
       "      <td>-1.114104</td>\n",
       "      <td>0.0731</td>\n",
       "      <td>-1.827987</td>\n",
       "      <td>0.743047</td>\n",
       "      <td>5.017568</td>\n",
       "      <td>-2.471885</td>\n",
       "      <td>1.141392</td>\n",
       "      <td>0.812167</td>\n",
       "      <td>...</td>\n",
       "      <td>0.712716</td>\n",
       "      <td>0.746484</td>\n",
       "      <td>-0.70748</td>\n",
       "      <td>0.632214</td>\n",
       "      <td>-0.536598</td>\n",
       "      <td>0.014419</td>\n",
       "      <td>25.0</td>\n",
       "      <td>0</td>\n",
       "      <td>a147e336-81d1-47f2-87ef-206843430e00</td>\n",
       "      <td>TRAIN</td>\n",
       "    </tr>\n",
       "    <tr>\n",
       "      <th>3</th>\n",
       "      <td>137227</td>\n",
       "      <td>-1.125604</td>\n",
       "      <td>0.873506</td>\n",
       "      <td>2.20555</td>\n",
       "      <td>0.725739</td>\n",
       "      <td>-0.107164</td>\n",
       "      <td>1.59102</td>\n",
       "      <td>-1.093884</td>\n",
       "      <td>-2.480163</td>\n",
       "      <td>0.097936</td>\n",
       "      <td>...</td>\n",
       "      <td>-0.377725</td>\n",
       "      <td>-1.07084</td>\n",
       "      <td>0.37751</td>\n",
       "      <td>-0.257676</td>\n",
       "      <td>0.009876</td>\n",
       "      <td>-0.124529</td>\n",
       "      <td>54.0</td>\n",
       "      <td>0</td>\n",
       "      <td>2a7353de-8003-48a5-8ddf-327b42a5731d</td>\n",
       "      <td>TRAIN</td>\n",
       "    </tr>\n",
       "    <tr>\n",
       "      <th>4</th>\n",
       "      <td>52804</td>\n",
       "      <td>-0.336088</td>\n",
       "      <td>1.064353</td>\n",
       "      <td>2.150498</td>\n",
       "      <td>4.428434</td>\n",
       "      <td>0.463562</td>\n",
       "      <td>1.12541</td>\n",
       "      <td>0.579549</td>\n",
       "      <td>-0.118975</td>\n",
       "      <td>-1.284248</td>\n",
       "      <td>...</td>\n",
       "      <td>-0.095214</td>\n",
       "      <td>0.014986</td>\n",
       "      <td>-0.458112</td>\n",
       "      <td>0.291475</td>\n",
       "      <td>-0.00217</td>\n",
       "      <td>-0.228903</td>\n",
       "      <td>27.81</td>\n",
       "      <td>0</td>\n",
       "      <td>fd69d5aa-4c53-43a7-8ba9-32bbda68eab0</td>\n",
       "      <td>TRAIN</td>\n",
       "    </tr>\n",
       "  </tbody>\n",
       "</table>\n",
       "<p>5 rows × 33 columns</p>\n",
       "</div>[5 rows x 33 columns in total]"
      ],
      "text/plain": [
       "     Time        V1        V2        V3        V4        V5        V6  \\\n",
       "0  146737 -8.313253  7.353339 -6.784848 -1.647257 -3.151681 -1.036468   \n",
       "1   41342 -0.950509  1.005787  2.004522  3.180712 -0.721331  0.622745   \n",
       "2  154083  -2.41823 -1.114104    0.0731 -1.827987  0.743047  5.017568   \n",
       "3  137227 -1.125604  0.873506   2.20555  0.725739 -0.107164   1.59102   \n",
       "4   52804 -0.336088  1.064353  2.150498  4.428434  0.463562   1.12541   \n",
       "\n",
       "         V7        V8        V9  ...       V23       V24       V25       V26  \\\n",
       "0 -3.176614  4.783091  2.525343  ...  0.553924 -1.551447  0.668017 -0.047452   \n",
       "1 -0.367445  0.690638 -0.831808  ... -0.019173  0.438937 -0.462187  0.328724   \n",
       "2 -2.471885  1.141392  0.812167  ...  0.712716  0.746484  -0.70748  0.632214   \n",
       "3 -1.093884 -2.480163  0.097936  ... -0.377725  -1.07084   0.37751 -0.257676   \n",
       "4  0.579549 -0.118975 -1.284248  ... -0.095214  0.014986 -0.458112  0.291475   \n",
       "\n",
       "        V27       V28  Amount  Class                        transaction_id  \\\n",
       "0  1.246589   0.71985    0.89      0  9c23ed6c-805e-4c54-af95-dfb8cb34446a   \n",
       "1 -0.041549  0.082586   39.52      0  f23f1435-eaf1-455c-9877-9e3b1db6473d   \n",
       "2 -0.536598  0.014419    25.0      0  a147e336-81d1-47f2-87ef-206843430e00   \n",
       "3  0.009876 -0.124529    54.0      0  2a7353de-8003-48a5-8ddf-327b42a5731d   \n",
       "4  -0.00217 -0.228903   27.81      0  fd69d5aa-4c53-43a7-8ba9-32bbda68eab0   \n",
       "\n",
       "   splits  \n",
       "0   TRAIN  \n",
       "1   TRAIN  \n",
       "2   TRAIN  \n",
       "3   TRAIN  \n",
       "4   TRAIN  \n",
       "\n",
       "[5 rows x 33 columns]"
      ]
     },
     "execution_count": 10,
     "metadata": {},
     "output_type": "execute_result"
    }
   ],
   "source": [
    "source_data.head()"
   ]
  },
  {
   "cell_type": "code",
   "execution_count": 11,
   "id": "fafa2d1c-46b4-48af-8075-781f4115b38e",
   "metadata": {
    "tags": []
   },
   "outputs": [
    {
     "data": {
      "text/plain": [
       "Time                Int64\n",
       "V1                Float64\n",
       "V2                Float64\n",
       "V3                Float64\n",
       "V4                Float64\n",
       "V5                Float64\n",
       "V6                Float64\n",
       "V7                Float64\n",
       "V8                Float64\n",
       "V9                Float64\n",
       "V10               Float64\n",
       "V11               Float64\n",
       "V12               Float64\n",
       "V13               Float64\n",
       "V14               Float64\n",
       "V15               Float64\n",
       "V16               Float64\n",
       "V17               Float64\n",
       "V18               Float64\n",
       "V19               Float64\n",
       "V20               Float64\n",
       "V21               Float64\n",
       "V22               Float64\n",
       "V23               Float64\n",
       "V24               Float64\n",
       "V25               Float64\n",
       "V26               Float64\n",
       "V27               Float64\n",
       "V28               Float64\n",
       "Amount            Float64\n",
       "Class               Int64\n",
       "transaction_id     string\n",
       "splits             string\n",
       "dtype: object"
      ]
     },
     "execution_count": 11,
     "metadata": {},
     "output_type": "execute_result"
    }
   ],
   "source": [
    "source_data.dtypes"
   ]
  },
  {
   "cell_type": "markdown",
   "id": "01d89090-af89-4bce-96a9-74648fcbfa9a",
   "metadata": {},
   "source": [
    "### Review the number of records for each level of `Class` (the target/label) for each of the data splits:"
   ]
  },
  {
   "cell_type": "code",
   "execution_count": 12,
   "id": "e30889eb-f74c-4e3a-93f6-0ad502ff3a0e",
   "metadata": {
    "tags": []
   },
   "outputs": [
    {
     "data": {
      "text/html": [
       "Query job 547d4fba-5612-4c88-b8aa-1000d1c287eb is DONE. 4.3 MB processed. <a target=\"_blank\" href=\"https://console.cloud.google.com/bigquery?project=statmike-mlops-349915&j=bq:us-central1:547d4fba-5612-4c88-b8aa-1000d1c287eb&page=queryresults\">Open Job</a>"
      ],
      "text/plain": [
       "<IPython.core.display.HTML object>"
      ]
     },
     "metadata": {},
     "output_type": "display_data"
    },
    {
     "data": {
      "text/html": [
       "Query job 4161f9e1-51b2-454f-a798-375667318830 is DONE. 0 Bytes processed. <a target=\"_blank\" href=\"https://console.cloud.google.com/bigquery?project=statmike-mlops-349915&j=bq:us-central1:4161f9e1-51b2-454f-a798-375667318830&page=queryresults\">Open Job</a>"
      ],
      "text/plain": [
       "<IPython.core.display.HTML object>"
      ]
     },
     "metadata": {},
     "output_type": "display_data"
    },
    {
     "data": {
      "text/html": [
       "Query job bd4582b6-24cb-415c-b782-5329eac25178 is DONE. 190 Bytes processed. <a target=\"_blank\" href=\"https://console.cloud.google.com/bigquery?project=statmike-mlops-349915&j=bq:us-central1:bd4582b6-24cb-415c-b782-5329eac25178&page=queryresults\">Open Job</a>"
      ],
      "text/plain": [
       "<IPython.core.display.HTML object>"
      ]
     },
     "metadata": {},
     "output_type": "display_data"
    },
    {
     "data": {
      "text/plain": [
       "splits    Class\n",
       "TEST      0         28455\n",
       "          1            47\n",
       "TRAIN     0        227664\n",
       "          1           397\n",
       "VALIDATE  0         28196\n",
       "          1            48\n",
       "Name: Class, dtype: Int64"
      ]
     },
     "execution_count": 12,
     "metadata": {},
     "output_type": "execute_result"
    }
   ],
   "source": [
    "source_data.groupby(['splits', 'Class'])['Class'].count()"
   ]
  },
  {
   "cell_type": "markdown",
   "id": "53e50e15-946d-42d6-8f82-658988ed1445",
   "metadata": {},
   "source": [
    "### Get Row Level IDs\n",
    "\n",
    "Grab a short list of `transaction_id` values from the source data to use in examples and testing throughout this workflow."
   ]
  },
  {
   "cell_type": "code",
   "execution_count": 17,
   "id": "c29f739f-11dc-4a3c-b275-6f0e82ec4434",
   "metadata": {
    "tags": []
   },
   "outputs": [
    {
     "data": {
      "text/html": [
       "Query job f8bbcde5-d5ff-47f5-b718-f459c953b83b is DONE. 83.5 MB processed. <a target=\"_blank\" href=\"https://console.cloud.google.com/bigquery?project=statmike-mlops-349915&j=bq:us-central1:f8bbcde5-d5ff-47f5-b718-f459c953b83b&page=queryresults\">Open Job</a>"
      ],
      "text/plain": [
       "<IPython.core.display.HTML object>"
      ]
     },
     "metadata": {},
     "output_type": "display_data"
    },
    {
     "data": {
      "text/html": [
       "Query job 15b03776-b436-4c63-a7f4-d2727d8f6afd is DONE. 83.5 MB processed. <a target=\"_blank\" href=\"https://console.cloud.google.com/bigquery?project=statmike-mlops-349915&j=bq:us-central1:15b03776-b436-4c63-a7f4-d2727d8f6afd&page=queryresults\">Open Job</a>"
      ],
      "text/plain": [
       "<IPython.core.display.HTML object>"
      ]
     },
     "metadata": {},
     "output_type": "display_data"
    }
   ],
   "source": [
    "transaction_ids = list(source_data['transaction_id'].head(10))"
   ]
  },
  {
   "cell_type": "code",
   "execution_count": 18,
   "id": "6491d1ba-b88d-49f8-ac9e-02c25f4d155b",
   "metadata": {
    "tags": []
   },
   "outputs": [
    {
     "data": {
      "text/plain": [
       "['9c23ed6c-805e-4c54-af95-dfb8cb34446a',\n",
       " 'f23f1435-eaf1-455c-9877-9e3b1db6473d',\n",
       " 'a147e336-81d1-47f2-87ef-206843430e00',\n",
       " '2a7353de-8003-48a5-8ddf-327b42a5731d',\n",
       " 'fd69d5aa-4c53-43a7-8ba9-32bbda68eab0',\n",
       " 'cec92e71-e96a-4b27-b88e-7a0f18c1eb18',\n",
       " '4a40f0d6-bad3-4097-a649-0c4ff0dec9af',\n",
       " '0d4fa1d8-7ca3-46b5-8761-3c1cca038c53',\n",
       " '59a9a10a-6129-4e5b-9b42-3525c9b034c7',\n",
       " 'ddfa46db-ead1-484f-975c-f7f2d065ee04']"
      ]
     },
     "execution_count": 18,
     "metadata": {},
     "output_type": "execute_result"
    }
   ],
   "source": [
    "transaction_ids"
   ]
  },
  {
   "cell_type": "markdown",
   "id": "9da3acbd-8b4a-48fc-ae07-86abc4f49c3c",
   "metadata": {},
   "source": [
    "---\n",
    "## Prepare Data For Feature Store\n",
    "\n",
    "There are two formats that can be used for feature store:\n",
    "- BigQuery Source\n",
    "    - A table or view of the **latest feature values** for each entity\n",
    "    - This can be used to directly serve features\n",
    "- BigQuery Source With Timestamped History\n",
    "    - A table or view of feature values along with two columns to help derive latest values for features:\n",
    "        - **entity_id** - a string value to identify the entity the features are measures of\n",
    "        - **feature_timestamp** - a timestamp value uses by feature store to serve the latest non-null values of a feature\n",
    "        \n",
    "This section creates views of the source table in each of these formats."
   ]
  },
  {
   "cell_type": "markdown",
   "id": "9d16ee92-fcc1-4fe1-887e-ac29f8a56125",
   "metadata": {},
   "source": [
    "### BigQuery Source View: Raw"
   ]
  },
  {
   "cell_type": "code",
   "execution_count": 13,
   "id": "125b5185-8dad-4969-8f59-f8fffd162965",
   "metadata": {
    "tags": []
   },
   "outputs": [],
   "source": [
    "columns = ','.join([column.lower() for column in source_data.columns.tolist()])"
   ]
  },
  {
   "cell_type": "code",
   "execution_count": 14,
   "id": "80b8cfb1-1973-4b04-bc09-83d5af98371c",
   "metadata": {
    "tags": []
   },
   "outputs": [
    {
     "name": "stdout",
     "output_type": "stream",
     "text": [
      "\n",
      "CREATE OR REPLACE VIEW `statmike-mlops-349915.fraud.fraud_prepped_fs_raw` AS\n",
      "    SELECT time,v1,v2,v3,v4,v5,v6,v7,v8,v9,v10,v11,v12,v13,v14,v15,v16,v17,v18,v19,v20,v21,v22,v23,v24,v25,v26,v27,v28,amount,class,transaction_id,splits\n",
      "    FROM `statmike-mlops-349915.fraud.fraud_prepped`\n",
      "\n"
     ]
    }
   ],
   "source": [
    "query = f'''\n",
    "CREATE OR REPLACE VIEW `{BQ_PROJECT}.{BQ_DATASET}.{BQ_TABLE}_fs_raw` AS\n",
    "    SELECT {columns}\n",
    "    FROM `{BQ_PROJECT}.{BQ_DATASET}.{BQ_TABLE}`\n",
    "'''\n",
    "print(query)"
   ]
  },
  {
   "cell_type": "code",
   "execution_count": 15,
   "id": "8c614bff-b9c3-4f00-b84a-ed1693d8903f",
   "metadata": {
    "tags": []
   },
   "outputs": [
    {
     "data": {
      "text/plain": [
       "0.137"
      ]
     },
     "execution_count": 15,
     "metadata": {},
     "output_type": "execute_result"
    }
   ],
   "source": [
    "bq_job = bq.query(query)\n",
    "bq_job.result()\n",
    "(bq_job.ended - bq_job.started).total_seconds()"
   ]
  },
  {
   "cell_type": "markdown",
   "id": "936f0642-6990-4fb5-ab9e-f51eba5cf662",
   "metadata": {},
   "source": [
    "#### Review Data For a Single Entity\n",
    "\n",
    "In this form there is a single row and each feature/column has the latest value of the feature."
   ]
  },
  {
   "cell_type": "code",
   "execution_count": 19,
   "id": "6710efd5-6aa7-464e-b5fc-9f19e87a29c0",
   "metadata": {
    "tags": []
   },
   "outputs": [],
   "source": [
    "source_raw = bpd.read_gbq(f'{BQ_PROJECT}.{BQ_DATASET}.{BQ_TABLE}_fs_raw')"
   ]
  },
  {
   "cell_type": "code",
   "execution_count": 20,
   "id": "3e568d10-a410-455a-8f47-e6502e968a29",
   "metadata": {
    "tags": []
   },
   "outputs": [
    {
     "data": {
      "text/html": [
       "Query job 1a1612a6-eb89-440d-b548-1c4f08d9b2c7 is DONE. 83.5 MB processed. <a target=\"_blank\" href=\"https://console.cloud.google.com/bigquery?project=statmike-mlops-349915&j=bq:us-central1:1a1612a6-eb89-440d-b548-1c4f08d9b2c7&page=queryresults\">Open Job</a>"
      ],
      "text/plain": [
       "<IPython.core.display.HTML object>"
      ]
     },
     "metadata": {},
     "output_type": "display_data"
    },
    {
     "data": {
      "text/html": [
       "Query job 8dc2b678-396b-47e1-b5b5-0b6146617acf is DONE. 0 Bytes processed. <a target=\"_blank\" href=\"https://console.cloud.google.com/bigquery?project=statmike-mlops-349915&j=bq:us-central1:8dc2b678-396b-47e1-b5b5-0b6146617acf&page=queryresults\">Open Job</a>"
      ],
      "text/plain": [
       "<IPython.core.display.HTML object>"
      ]
     },
     "metadata": {},
     "output_type": "display_data"
    },
    {
     "data": {
      "text/html": [
       "Query job 266814de-ba8e-4f6d-847a-5b0793932134 is DONE. 309 Bytes processed. <a target=\"_blank\" href=\"https://console.cloud.google.com/bigquery?project=statmike-mlops-349915&j=bq:us-central1:266814de-ba8e-4f6d-847a-5b0793932134&page=queryresults\">Open Job</a>"
      ],
      "text/plain": [
       "<IPython.core.display.HTML object>"
      ]
     },
     "metadata": {},
     "output_type": "display_data"
    },
    {
     "data": {
      "text/html": [
       "<div>\n",
       "<style scoped>\n",
       "    .dataframe tbody tr th:only-of-type {\n",
       "        vertical-align: middle;\n",
       "    }\n",
       "\n",
       "    .dataframe tbody tr th {\n",
       "        vertical-align: top;\n",
       "    }\n",
       "\n",
       "    .dataframe thead th {\n",
       "        text-align: right;\n",
       "    }\n",
       "</style>\n",
       "<table border=\"1\" class=\"dataframe\">\n",
       "  <thead>\n",
       "    <tr style=\"text-align: right;\">\n",
       "      <th></th>\n",
       "      <th>time</th>\n",
       "      <th>v1</th>\n",
       "      <th>v2</th>\n",
       "      <th>v3</th>\n",
       "      <th>v4</th>\n",
       "      <th>v5</th>\n",
       "      <th>v6</th>\n",
       "      <th>v7</th>\n",
       "      <th>v8</th>\n",
       "      <th>v9</th>\n",
       "      <th>...</th>\n",
       "      <th>v23</th>\n",
       "      <th>v24</th>\n",
       "      <th>v25</th>\n",
       "      <th>v26</th>\n",
       "      <th>v27</th>\n",
       "      <th>v28</th>\n",
       "      <th>amount</th>\n",
       "      <th>class</th>\n",
       "      <th>transaction_id</th>\n",
       "      <th>splits</th>\n",
       "    </tr>\n",
       "  </thead>\n",
       "  <tbody>\n",
       "    <tr>\n",
       "      <th>0</th>\n",
       "      <td>146737</td>\n",
       "      <td>-8.313253</td>\n",
       "      <td>7.353339</td>\n",
       "      <td>-6.784848</td>\n",
       "      <td>-1.647257</td>\n",
       "      <td>-3.151681</td>\n",
       "      <td>-1.036468</td>\n",
       "      <td>-3.176614</td>\n",
       "      <td>4.783091</td>\n",
       "      <td>2.525343</td>\n",
       "      <td>...</td>\n",
       "      <td>0.553924</td>\n",
       "      <td>-1.551447</td>\n",
       "      <td>0.668017</td>\n",
       "      <td>-0.047452</td>\n",
       "      <td>1.246589</td>\n",
       "      <td>0.71985</td>\n",
       "      <td>0.89</td>\n",
       "      <td>0</td>\n",
       "      <td>9c23ed6c-805e-4c54-af95-dfb8cb34446a</td>\n",
       "      <td>TRAIN</td>\n",
       "    </tr>\n",
       "  </tbody>\n",
       "</table>\n",
       "<p>1 rows × 33 columns</p>\n",
       "</div>[1 rows x 33 columns in total]"
      ],
      "text/plain": [
       "     time        v1        v2        v3        v4        v5        v6  \\\n",
       "0  146737 -8.313253  7.353339 -6.784848 -1.647257 -3.151681 -1.036468   \n",
       "\n",
       "         v7        v8        v9  ...       v23       v24       v25       v26  \\\n",
       "0 -3.176614  4.783091  2.525343  ...  0.553924 -1.551447  0.668017 -0.047452   \n",
       "\n",
       "        v27      v28  amount  class                        transaction_id  \\\n",
       "0  1.246589  0.71985    0.89      0  9c23ed6c-805e-4c54-af95-dfb8cb34446a   \n",
       "\n",
       "   splits  \n",
       "0   TRAIN  \n",
       "\n",
       "[1 rows x 33 columns]"
      ]
     },
     "execution_count": 20,
     "metadata": {},
     "output_type": "execute_result"
    }
   ],
   "source": [
    "source_raw[source_raw['transaction_id'] == transaction_ids[0]]"
   ]
  },
  {
   "cell_type": "markdown",
   "id": "408b2ddc-48c7-4ea8-b0b5-2706a3d8bf72",
   "metadata": {},
   "source": [
    "### BigQuery Source View: Latest\n",
    "\n",
    "A view with the latest values of all features and a column for the `entity-id`, in this case `transaction_id`."
   ]
  },
  {
   "cell_type": "code",
   "execution_count": 21,
   "id": "be7099e5-0b38-40ea-af4e-47f05485dc90",
   "metadata": {
    "tags": []
   },
   "outputs": [
    {
     "name": "stdout",
     "output_type": "stream",
     "text": [
      "\n",
      "CREATE OR REPLACE VIEW `statmike-mlops-349915.fraud.fraud_prepped_fs_latest` AS\n",
      "    SELECT * EXCEPT(class, splits)\n",
      "    FROM `statmike-mlops-349915.fraud.fraud_prepped_fs_raw`\n",
      "\n"
     ]
    }
   ],
   "source": [
    "query = f'''\n",
    "CREATE OR REPLACE VIEW `{BQ_PROJECT}.{BQ_DATASET}.{BQ_TABLE}_fs_latest` AS\n",
    "    SELECT * EXCEPT(class, splits)\n",
    "    FROM `{BQ_PROJECT}.{BQ_DATASET}.{BQ_TABLE}_fs_raw`\n",
    "'''\n",
    "print(query)"
   ]
  },
  {
   "cell_type": "code",
   "execution_count": 22,
   "id": "9912ab9d-7d15-4744-94ae-5c3030bfc53f",
   "metadata": {
    "tags": []
   },
   "outputs": [
    {
     "data": {
      "text/plain": [
       "0.155"
      ]
     },
     "execution_count": 22,
     "metadata": {},
     "output_type": "execute_result"
    }
   ],
   "source": [
    "bq_job = bq.query(query)\n",
    "bq_job.result()\n",
    "(bq_job.ended - bq_job.started).total_seconds()"
   ]
  },
  {
   "cell_type": "markdown",
   "id": "7951dfb1-d562-47ab-afed-b36b6dec7cc0",
   "metadata": {},
   "source": [
    "#### Review Data For a Single Entity\n",
    "\n",
    "In this form, just like the raw data above, there is a single row and each feature/column has the latest value of the feature."
   ]
  },
  {
   "cell_type": "code",
   "execution_count": 23,
   "id": "3358a776-2ce3-40f0-a973-61ea70001917",
   "metadata": {
    "tags": []
   },
   "outputs": [],
   "source": [
    "source_latest = bpd.read_gbq(f'{BQ_PROJECT}.{BQ_DATASET}.{BQ_TABLE}_fs_latest')"
   ]
  },
  {
   "cell_type": "code",
   "execution_count": 24,
   "id": "d372162b-3a0c-467f-a425-51cdaabd99ea",
   "metadata": {
    "tags": []
   },
   "outputs": [
    {
     "data": {
      "text/html": [
       "Query job 910a0c3a-9abd-4b10-a160-ad6cb872884c is DONE. 79.2 MB processed. <a target=\"_blank\" href=\"https://console.cloud.google.com/bigquery?project=statmike-mlops-349915&j=bq:us-central1:910a0c3a-9abd-4b10-a160-ad6cb872884c&page=queryresults\">Open Job</a>"
      ],
      "text/plain": [
       "<IPython.core.display.HTML object>"
      ]
     },
     "metadata": {},
     "output_type": "display_data"
    },
    {
     "data": {
      "text/html": [
       "Query job b518a28b-1ef3-4ea0-bf6c-659a83125668 is DONE. 0 Bytes processed. <a target=\"_blank\" href=\"https://console.cloud.google.com/bigquery?project=statmike-mlops-349915&j=bq:us-central1:b518a28b-1ef3-4ea0-bf6c-659a83125668&page=queryresults\">Open Job</a>"
      ],
      "text/plain": [
       "<IPython.core.display.HTML object>"
      ]
     },
     "metadata": {},
     "output_type": "display_data"
    },
    {
     "data": {
      "text/html": [
       "Query job f7fade1d-3985-41c0-8468-da787ab214c8 is DONE. 294 Bytes processed. <a target=\"_blank\" href=\"https://console.cloud.google.com/bigquery?project=statmike-mlops-349915&j=bq:us-central1:f7fade1d-3985-41c0-8468-da787ab214c8&page=queryresults\">Open Job</a>"
      ],
      "text/plain": [
       "<IPython.core.display.HTML object>"
      ]
     },
     "metadata": {},
     "output_type": "display_data"
    },
    {
     "data": {
      "text/html": [
       "<div>\n",
       "<style scoped>\n",
       "    .dataframe tbody tr th:only-of-type {\n",
       "        vertical-align: middle;\n",
       "    }\n",
       "\n",
       "    .dataframe tbody tr th {\n",
       "        vertical-align: top;\n",
       "    }\n",
       "\n",
       "    .dataframe thead th {\n",
       "        text-align: right;\n",
       "    }\n",
       "</style>\n",
       "<table border=\"1\" class=\"dataframe\">\n",
       "  <thead>\n",
       "    <tr style=\"text-align: right;\">\n",
       "      <th></th>\n",
       "      <th>time</th>\n",
       "      <th>v1</th>\n",
       "      <th>v2</th>\n",
       "      <th>v3</th>\n",
       "      <th>v4</th>\n",
       "      <th>v5</th>\n",
       "      <th>v6</th>\n",
       "      <th>v7</th>\n",
       "      <th>v8</th>\n",
       "      <th>v9</th>\n",
       "      <th>...</th>\n",
       "      <th>v21</th>\n",
       "      <th>v22</th>\n",
       "      <th>v23</th>\n",
       "      <th>v24</th>\n",
       "      <th>v25</th>\n",
       "      <th>v26</th>\n",
       "      <th>v27</th>\n",
       "      <th>v28</th>\n",
       "      <th>amount</th>\n",
       "      <th>transaction_id</th>\n",
       "    </tr>\n",
       "  </thead>\n",
       "  <tbody>\n",
       "    <tr>\n",
       "      <th>204223</th>\n",
       "      <td>146737</td>\n",
       "      <td>-8.313253</td>\n",
       "      <td>7.353339</td>\n",
       "      <td>-6.784848</td>\n",
       "      <td>-1.647257</td>\n",
       "      <td>-3.151681</td>\n",
       "      <td>-1.036468</td>\n",
       "      <td>-3.176614</td>\n",
       "      <td>4.783091</td>\n",
       "      <td>2.525343</td>\n",
       "      <td>...</td>\n",
       "      <td>0.100413</td>\n",
       "      <td>0.520158</td>\n",
       "      <td>0.553924</td>\n",
       "      <td>-1.551447</td>\n",
       "      <td>0.668017</td>\n",
       "      <td>-0.047452</td>\n",
       "      <td>1.246589</td>\n",
       "      <td>0.71985</td>\n",
       "      <td>0.89</td>\n",
       "      <td>9c23ed6c-805e-4c54-af95-dfb8cb34446a</td>\n",
       "    </tr>\n",
       "  </tbody>\n",
       "</table>\n",
       "<p>1 rows × 31 columns</p>\n",
       "</div>[1 rows x 31 columns in total]"
      ],
      "text/plain": [
       "          time        v1        v2        v3        v4        v5        v6  \\\n",
       "204223  146737 -8.313253  7.353339 -6.784848 -1.647257 -3.151681 -1.036468   \n",
       "\n",
       "              v7        v8        v9  ...       v21       v22       v23  \\\n",
       "204223 -3.176614  4.783091  2.525343  ...  0.100413  0.520158  0.553924   \n",
       "\n",
       "             v24       v25       v26       v27      v28  amount  \\\n",
       "204223 -1.551447  0.668017 -0.047452  1.246589  0.71985    0.89   \n",
       "\n",
       "                              transaction_id  \n",
       "204223  9c23ed6c-805e-4c54-af95-dfb8cb34446a  \n",
       "\n",
       "[1 rows x 31 columns]"
      ]
     },
     "execution_count": 24,
     "metadata": {},
     "output_type": "execute_result"
    }
   ],
   "source": [
    "source_latest[source_latest['transaction_id'] == transaction_ids[0]]"
   ]
  },
  {
   "cell_type": "markdown",
   "id": "9888b1d6-1f21-4a24-b675-2e67a4d87fbc",
   "metadata": {},
   "source": [
    "### BigQuery Source View: History\n",
    "\n",
    "A deconstruction to an example history table version of the source data - **AS AN EXAMPLE**.  In this version, the feature values for each entiy arrived at different times.  This mirrors many real-world scenarios.\n",
    "\n",
    "To illustrate a history tables shape this query:\n",
    "- assigns each `transaction_id` a `feature_timestamp` at a random minute in the last 14 days\n",
    "- assigns arrival times to features V1, V2, V3, V4, V5 that are after the other features.  "
   ]
  },
  {
   "cell_type": "markdown",
   "id": "96793497-73de-4a85-ba39-8ced3e80c036",
   "metadata": {},
   "source": [
    "#### Example: Deconstruct the table into an example history table"
   ]
  },
  {
   "cell_type": "code",
   "execution_count": 25,
   "id": "bc725df1-6a16-47b2-a2c1-1f2dddb794ac",
   "metadata": {
    "tags": []
   },
   "outputs": [
    {
     "name": "stdout",
     "output_type": "stream",
     "text": [
      "\n",
      "CREATE OR REPLACE TABLE `statmike-mlops-349915.fraud.fraud_prepped_fs_history` AS \n",
      "WITH\n",
      "    TRANSACTION_TIME AS (\n",
      "        SELECT transaction_id,\n",
      "            TIMESTAMP_SUB(CURRENT_TIMESTAMP(), INTERVAL CAST(CEIL(RAND()*60*24*14) + 1440 AS INT64) MINUTE) as feature_timestamp\n",
      "        FROM `statmike-mlops-349915.fraud.fraud_prepped_fs_raw`\n",
      "    ),\n",
      "    FEATURE_DELAYS AS (\n",
      "        SELECT *\n",
      "        FROM (SELECT * FROM TRANSACTION_TIME)\n",
      "        CROSS JOIN (\n",
      "            SELECT *, ROW_NUMBER() OVER(ORDER BY delay) AS pos FROM UNNEST(ARRAY(\n",
      "                (SELECT CAST(CEIL(RAND()*1440) AS INT64) FROM UNNEST(GENERATE_ARRAY(1, 6)))\n",
      "            )) AS delay\n",
      "        )   \n",
      "    )\n",
      "SELECT\n",
      "    transaction_id as entity_id,\n",
      "    TIMESTAMP_ADD(feature_timestamp, INTERVAL delay MINUTE) AS feature_timestamp,\n",
      "    CASE\n",
      "        WHEN pos = 2 THEN v1\n",
      "        ELSE NULL\n",
      "    END AS v1,\n",
      "    CASE\n",
      "        WHEN pos = 3 THEN v2\n",
      "        ELSE NULL\n",
      "    END AS v2,\n",
      "    CASE\n",
      "        WHEN pos = 4 THEN v3\n",
      "        ELSE NULL\n",
      "    END AS v3,\n",
      "    CASE\n",
      "        WHEN pos = 5 THEN v4\n",
      "        ELSE NULL\n",
      "    END AS v4,\n",
      "    CASE\n",
      "        WHEN pos = 6 THEN v5\n",
      "        ELSE NULL\n",
      "    END AS v5,\n",
      "    * EXCEPT(pos, delay, feature_timestamp, v1, v2, v3, v4, v5, transaction_id, splits),\n",
      "FROM FEATURE_DELAYS\n",
      "LEFT JOIN `statmike-mlops-349915.fraud.fraud_prepped_fs_raw` USING(transaction_id)\n",
      "ORDER BY transaction_id, feature_timestamp    \n",
      "\n"
     ]
    }
   ],
   "source": [
    "query = f'''\n",
    "CREATE OR REPLACE TABLE `{BQ_PROJECT}.{BQ_DATASET}.{BQ_TABLE}_fs_history` AS \n",
    "WITH\n",
    "    TRANSACTION_TIME AS (\n",
    "        SELECT transaction_id,\n",
    "            TIMESTAMP_SUB(CURRENT_TIMESTAMP(), INTERVAL CAST(CEIL(RAND()*60*24*14) + 1440 AS INT64) MINUTE) as feature_timestamp\n",
    "        FROM `{BQ_PROJECT}.{BQ_DATASET}.{BQ_TABLE}_fs_raw`\n",
    "    ),\n",
    "    FEATURE_DELAYS AS (\n",
    "        SELECT *\n",
    "        FROM (SELECT * FROM TRANSACTION_TIME)\n",
    "        CROSS JOIN (\n",
    "            SELECT *, ROW_NUMBER() OVER(ORDER BY delay) AS pos FROM UNNEST(ARRAY(\n",
    "                (SELECT CAST(CEIL(RAND()*1440) AS INT64) FROM UNNEST(GENERATE_ARRAY(1, 6)))\n",
    "            )) AS delay\n",
    "        )   \n",
    "    )\n",
    "SELECT\n",
    "    transaction_id as entity_id,\n",
    "    TIMESTAMP_ADD(feature_timestamp, INTERVAL delay MINUTE) AS feature_timestamp,\n",
    "    CASE\n",
    "        WHEN pos = 2 THEN v1\n",
    "        ELSE NULL\n",
    "    END AS v1,\n",
    "    CASE\n",
    "        WHEN pos = 3 THEN v2\n",
    "        ELSE NULL\n",
    "    END AS v2,\n",
    "    CASE\n",
    "        WHEN pos = 4 THEN v3\n",
    "        ELSE NULL\n",
    "    END AS v3,\n",
    "    CASE\n",
    "        WHEN pos = 5 THEN v4\n",
    "        ELSE NULL\n",
    "    END AS v4,\n",
    "    CASE\n",
    "        WHEN pos = 6 THEN v5\n",
    "        ELSE NULL\n",
    "    END AS v5,\n",
    "    * EXCEPT(pos, delay, feature_timestamp, v1, v2, v3, v4, v5, transaction_id, splits),\n",
    "FROM FEATURE_DELAYS\n",
    "LEFT JOIN `{BQ_PROJECT}.{BQ_DATASET}.{BQ_TABLE}_fs_raw` USING(transaction_id)\n",
    "ORDER BY transaction_id, feature_timestamp    \n",
    "'''\n",
    "print(query)"
   ]
  },
  {
   "cell_type": "code",
   "execution_count": 30,
   "id": "3069e59c-726e-4255-b790-309548acd127",
   "metadata": {
    "tags": []
   },
   "outputs": [
    {
     "data": {
      "text/plain": [
       "10.824"
      ]
     },
     "execution_count": 30,
     "metadata": {},
     "output_type": "execute_result"
    }
   ],
   "source": [
    "bq_job = bq.query(query)\n",
    "bq_job.result()\n",
    "(bq_job.ended - bq_job.started).total_seconds()"
   ]
  },
  {
   "cell_type": "markdown",
   "id": "3cffcb96-dd42-440d-9327-82a2a6cf6a46",
   "metadata": {},
   "source": [
    "#### Review Data For a Single Entity\n",
    "\n",
    "In this form there are multiple rows for an entity.  Notice that features V1-V5 arrived over time.  At the earliest time none have values and then each arrives over the course of about 24 hours in this example.  There could be multiple values for a single feature over time: think account balance, inventory available, time on website, number of clicks, etc."
   ]
  },
  {
   "cell_type": "code",
   "execution_count": 33,
   "id": "8be58508-0f6e-449f-8439-9ca758df962d",
   "metadata": {
    "tags": []
   },
   "outputs": [],
   "source": [
    "source_history = bpd.read_gbq(f'{BQ_PROJECT}.{BQ_DATASET}.{BQ_TABLE}_fs_history')"
   ]
  },
  {
   "cell_type": "code",
   "execution_count": 34,
   "id": "4bdc0339-8802-4a1c-8b6c-302b0e0b0da2",
   "metadata": {
    "tags": []
   },
   "outputs": [
    {
     "data": {
      "text/html": [
       "Query job 4540d353-f1c5-4b38-8685-ae582f6823f8 is DONE. 445.4 MB processed. <a target=\"_blank\" href=\"https://console.cloud.google.com/bigquery?project=statmike-mlops-349915&j=bq:us-central1:4540d353-f1c5-4b38-8685-ae582f6823f8&page=queryresults\">Open Job</a>"
      ],
      "text/plain": [
       "<IPython.core.display.HTML object>"
      ]
     },
     "metadata": {},
     "output_type": "display_data"
    },
    {
     "data": {
      "text/html": [
       "Query job bcd0e93f-1f7d-40cd-88a1-eb292678a0c2 is DONE. 0 Bytes processed. <a target=\"_blank\" href=\"https://console.cloud.google.com/bigquery?project=statmike-mlops-349915&j=bq:us-central1:bcd0e93f-1f7d-40cd-88a1-eb292678a0c2&page=queryresults\">Open Job</a>"
      ],
      "text/plain": [
       "<IPython.core.display.HTML object>"
      ]
     },
     "metadata": {},
     "output_type": "display_data"
    },
    {
     "data": {
      "text/html": [
       "Query job 3118a9fc-3a87-48d7-8f71-5edbb4d69efc is DONE. 1.7 kB processed. <a target=\"_blank\" href=\"https://console.cloud.google.com/bigquery?project=statmike-mlops-349915&j=bq:us-central1:3118a9fc-3a87-48d7-8f71-5edbb4d69efc&page=queryresults\">Open Job</a>"
      ],
      "text/plain": [
       "<IPython.core.display.HTML object>"
      ]
     },
     "metadata": {},
     "output_type": "display_data"
    },
    {
     "data": {
      "text/html": [
       "<div>\n",
       "<style scoped>\n",
       "    .dataframe tbody tr th:only-of-type {\n",
       "        vertical-align: middle;\n",
       "    }\n",
       "\n",
       "    .dataframe tbody tr th {\n",
       "        vertical-align: top;\n",
       "    }\n",
       "\n",
       "    .dataframe thead th {\n",
       "        text-align: right;\n",
       "    }\n",
       "</style>\n",
       "<table border=\"1\" class=\"dataframe\">\n",
       "  <thead>\n",
       "    <tr style=\"text-align: right;\">\n",
       "      <th></th>\n",
       "      <th>entity_id</th>\n",
       "      <th>feature_timestamp</th>\n",
       "      <th>v1</th>\n",
       "      <th>v2</th>\n",
       "      <th>v3</th>\n",
       "      <th>v4</th>\n",
       "      <th>v5</th>\n",
       "      <th>time</th>\n",
       "      <th>v6</th>\n",
       "      <th>v7</th>\n",
       "      <th>...</th>\n",
       "      <th>v21</th>\n",
       "      <th>v22</th>\n",
       "      <th>v23</th>\n",
       "      <th>v24</th>\n",
       "      <th>v25</th>\n",
       "      <th>v26</th>\n",
       "      <th>v27</th>\n",
       "      <th>v28</th>\n",
       "      <th>amount</th>\n",
       "      <th>class</th>\n",
       "    </tr>\n",
       "  </thead>\n",
       "  <tbody>\n",
       "    <tr>\n",
       "      <th>1598988</th>\n",
       "      <td>9c23ed6c-805e-4c54-af95-dfb8cb34446a</td>\n",
       "      <td>2024-05-01 18:25:01.603430+00:00</td>\n",
       "      <td>&lt;NA&gt;</td>\n",
       "      <td>&lt;NA&gt;</td>\n",
       "      <td>&lt;NA&gt;</td>\n",
       "      <td>&lt;NA&gt;</td>\n",
       "      <td>&lt;NA&gt;</td>\n",
       "      <td>146737</td>\n",
       "      <td>-1.036468</td>\n",
       "      <td>-3.176614</td>\n",
       "      <td>...</td>\n",
       "      <td>0.100413</td>\n",
       "      <td>0.520158</td>\n",
       "      <td>0.553924</td>\n",
       "      <td>-1.551447</td>\n",
       "      <td>0.668017</td>\n",
       "      <td>-0.047452</td>\n",
       "      <td>1.246589</td>\n",
       "      <td>0.71985</td>\n",
       "      <td>0.89</td>\n",
       "      <td>0</td>\n",
       "    </tr>\n",
       "    <tr>\n",
       "      <th>246774</th>\n",
       "      <td>9c23ed6c-805e-4c54-af95-dfb8cb34446a</td>\n",
       "      <td>2024-05-01 22:26:01.603430+00:00</td>\n",
       "      <td>-8.313253</td>\n",
       "      <td>&lt;NA&gt;</td>\n",
       "      <td>&lt;NA&gt;</td>\n",
       "      <td>&lt;NA&gt;</td>\n",
       "      <td>&lt;NA&gt;</td>\n",
       "      <td>146737</td>\n",
       "      <td>-1.036468</td>\n",
       "      <td>-3.176614</td>\n",
       "      <td>...</td>\n",
       "      <td>0.100413</td>\n",
       "      <td>0.520158</td>\n",
       "      <td>0.553924</td>\n",
       "      <td>-1.551447</td>\n",
       "      <td>0.668017</td>\n",
       "      <td>-0.047452</td>\n",
       "      <td>1.246589</td>\n",
       "      <td>0.71985</td>\n",
       "      <td>0.89</td>\n",
       "      <td>0</td>\n",
       "    </tr>\n",
       "    <tr>\n",
       "      <th>381823</th>\n",
       "      <td>9c23ed6c-805e-4c54-af95-dfb8cb34446a</td>\n",
       "      <td>2024-05-01 22:40:01.603430+00:00</td>\n",
       "      <td>&lt;NA&gt;</td>\n",
       "      <td>7.353339</td>\n",
       "      <td>&lt;NA&gt;</td>\n",
       "      <td>&lt;NA&gt;</td>\n",
       "      <td>&lt;NA&gt;</td>\n",
       "      <td>146737</td>\n",
       "      <td>-1.036468</td>\n",
       "      <td>-3.176614</td>\n",
       "      <td>...</td>\n",
       "      <td>0.100413</td>\n",
       "      <td>0.520158</td>\n",
       "      <td>0.553924</td>\n",
       "      <td>-1.551447</td>\n",
       "      <td>0.668017</td>\n",
       "      <td>-0.047452</td>\n",
       "      <td>1.246589</td>\n",
       "      <td>0.71985</td>\n",
       "      <td>0.89</td>\n",
       "      <td>0</td>\n",
       "    </tr>\n",
       "    <tr>\n",
       "      <th>1382179</th>\n",
       "      <td>9c23ed6c-805e-4c54-af95-dfb8cb34446a</td>\n",
       "      <td>2024-05-02 02:44:01.603430+00:00</td>\n",
       "      <td>&lt;NA&gt;</td>\n",
       "      <td>&lt;NA&gt;</td>\n",
       "      <td>-6.784848</td>\n",
       "      <td>&lt;NA&gt;</td>\n",
       "      <td>&lt;NA&gt;</td>\n",
       "      <td>146737</td>\n",
       "      <td>-1.036468</td>\n",
       "      <td>-3.176614</td>\n",
       "      <td>...</td>\n",
       "      <td>0.100413</td>\n",
       "      <td>0.520158</td>\n",
       "      <td>0.553924</td>\n",
       "      <td>-1.551447</td>\n",
       "      <td>0.668017</td>\n",
       "      <td>-0.047452</td>\n",
       "      <td>1.246589</td>\n",
       "      <td>0.71985</td>\n",
       "      <td>0.89</td>\n",
       "      <td>0</td>\n",
       "    </tr>\n",
       "    <tr>\n",
       "      <th>1156615</th>\n",
       "      <td>9c23ed6c-805e-4c54-af95-dfb8cb34446a</td>\n",
       "      <td>2024-05-02 03:29:01.603430+00:00</td>\n",
       "      <td>&lt;NA&gt;</td>\n",
       "      <td>&lt;NA&gt;</td>\n",
       "      <td>&lt;NA&gt;</td>\n",
       "      <td>-1.647257</td>\n",
       "      <td>&lt;NA&gt;</td>\n",
       "      <td>146737</td>\n",
       "      <td>-1.036468</td>\n",
       "      <td>-3.176614</td>\n",
       "      <td>...</td>\n",
       "      <td>0.100413</td>\n",
       "      <td>0.520158</td>\n",
       "      <td>0.553924</td>\n",
       "      <td>-1.551447</td>\n",
       "      <td>0.668017</td>\n",
       "      <td>-0.047452</td>\n",
       "      <td>1.246589</td>\n",
       "      <td>0.71985</td>\n",
       "      <td>0.89</td>\n",
       "      <td>0</td>\n",
       "    </tr>\n",
       "    <tr>\n",
       "      <th>1643880</th>\n",
       "      <td>9c23ed6c-805e-4c54-af95-dfb8cb34446a</td>\n",
       "      <td>2024-05-02 04:29:01.603430+00:00</td>\n",
       "      <td>&lt;NA&gt;</td>\n",
       "      <td>&lt;NA&gt;</td>\n",
       "      <td>&lt;NA&gt;</td>\n",
       "      <td>&lt;NA&gt;</td>\n",
       "      <td>-3.151681</td>\n",
       "      <td>146737</td>\n",
       "      <td>-1.036468</td>\n",
       "      <td>-3.176614</td>\n",
       "      <td>...</td>\n",
       "      <td>0.100413</td>\n",
       "      <td>0.520158</td>\n",
       "      <td>0.553924</td>\n",
       "      <td>-1.551447</td>\n",
       "      <td>0.668017</td>\n",
       "      <td>-0.047452</td>\n",
       "      <td>1.246589</td>\n",
       "      <td>0.71985</td>\n",
       "      <td>0.89</td>\n",
       "      <td>0</td>\n",
       "    </tr>\n",
       "  </tbody>\n",
       "</table>\n",
       "<p>6 rows × 33 columns</p>\n",
       "</div>[6 rows x 33 columns in total]"
      ],
      "text/plain": [
       "                                    entity_id  \\\n",
       "1598988  9c23ed6c-805e-4c54-af95-dfb8cb34446a   \n",
       "246774   9c23ed6c-805e-4c54-af95-dfb8cb34446a   \n",
       "381823   9c23ed6c-805e-4c54-af95-dfb8cb34446a   \n",
       "1382179  9c23ed6c-805e-4c54-af95-dfb8cb34446a   \n",
       "1156615  9c23ed6c-805e-4c54-af95-dfb8cb34446a   \n",
       "1643880  9c23ed6c-805e-4c54-af95-dfb8cb34446a   \n",
       "\n",
       "                        feature_timestamp        v1        v2        v3  \\\n",
       "1598988  2024-05-01 18:25:01.603430+00:00      <NA>      <NA>      <NA>   \n",
       "246774   2024-05-01 22:26:01.603430+00:00 -8.313253      <NA>      <NA>   \n",
       "381823   2024-05-01 22:40:01.603430+00:00      <NA>  7.353339      <NA>   \n",
       "1382179  2024-05-02 02:44:01.603430+00:00      <NA>      <NA> -6.784848   \n",
       "1156615  2024-05-02 03:29:01.603430+00:00      <NA>      <NA>      <NA>   \n",
       "1643880  2024-05-02 04:29:01.603430+00:00      <NA>      <NA>      <NA>   \n",
       "\n",
       "               v4        v5    time        v6        v7  ...       v21  \\\n",
       "1598988      <NA>      <NA>  146737 -1.036468 -3.176614  ...  0.100413   \n",
       "246774       <NA>      <NA>  146737 -1.036468 -3.176614  ...  0.100413   \n",
       "381823       <NA>      <NA>  146737 -1.036468 -3.176614  ...  0.100413   \n",
       "1382179      <NA>      <NA>  146737 -1.036468 -3.176614  ...  0.100413   \n",
       "1156615 -1.647257      <NA>  146737 -1.036468 -3.176614  ...  0.100413   \n",
       "1643880      <NA> -3.151681  146737 -1.036468 -3.176614  ...  0.100413   \n",
       "\n",
       "              v22       v23       v24       v25       v26       v27      v28  \\\n",
       "1598988  0.520158  0.553924 -1.551447  0.668017 -0.047452  1.246589  0.71985   \n",
       "246774   0.520158  0.553924 -1.551447  0.668017 -0.047452  1.246589  0.71985   \n",
       "381823   0.520158  0.553924 -1.551447  0.668017 -0.047452  1.246589  0.71985   \n",
       "1382179  0.520158  0.553924 -1.551447  0.668017 -0.047452  1.246589  0.71985   \n",
       "1156615  0.520158  0.553924 -1.551447  0.668017 -0.047452  1.246589  0.71985   \n",
       "1643880  0.520158  0.553924 -1.551447  0.668017 -0.047452  1.246589  0.71985   \n",
       "\n",
       "         amount  class  \n",
       "1598988    0.89      0  \n",
       "246774     0.89      0  \n",
       "381823     0.89      0  \n",
       "1382179    0.89      0  \n",
       "1156615    0.89      0  \n",
       "1643880    0.89      0  \n",
       "\n",
       "[6 rows x 33 columns]"
      ]
     },
     "execution_count": 34,
     "metadata": {},
     "output_type": "execute_result"
    }
   ],
   "source": [
    "example = source_history[source_history['entity_id'] == transaction_ids[0]].sort_values('feature_timestamp')\n",
    "example"
   ]
  },
  {
   "cell_type": "code",
   "execution_count": 35,
   "id": "df750a48-7c52-407c-9c4c-4ef9b0b702b7",
   "metadata": {
    "tags": []
   },
   "outputs": [
    {
     "data": {
      "text/html": [
       "Query job 5aa78b08-a946-4c69-b4a9-228d69fbf740 is DONE. 372 Bytes processed. <a target=\"_blank\" href=\"https://console.cloud.google.com/bigquery?project=statmike-mlops-349915&j=bq:us-central1:5aa78b08-a946-4c69-b4a9-228d69fbf740&page=queryresults\">Open Job</a>"
      ],
      "text/plain": [
       "<IPython.core.display.HTML object>"
      ]
     },
     "metadata": {},
     "output_type": "display_data"
    },
    {
     "data": {
      "text/html": [
       "Query job 6c4953a5-af06-4e0f-9ad7-10f8f32c75bb is DONE. 48 Bytes processed. <a target=\"_blank\" href=\"https://console.cloud.google.com/bigquery?project=statmike-mlops-349915&j=bq:us-central1:6c4953a5-af06-4e0f-9ad7-10f8f32c75bb&page=queryresults\">Open Job</a>"
      ],
      "text/plain": [
       "<IPython.core.display.HTML object>"
      ]
     },
     "metadata": {},
     "output_type": "display_data"
    },
    {
     "data": {
      "text/html": [
       "Query job 64dd6b0a-b2c9-44da-beb0-0925ad153560 is DONE. 48 Bytes processed. <a target=\"_blank\" href=\"https://console.cloud.google.com/bigquery?project=statmike-mlops-349915&j=bq:us-central1:64dd6b0a-b2c9-44da-beb0-0925ad153560&page=queryresults\">Open Job</a>"
      ],
      "text/plain": [
       "<IPython.core.display.HTML object>"
      ]
     },
     "metadata": {},
     "output_type": "display_data"
    },
    {
     "data": {
      "text/html": [
       "Query job 3ed548de-fcf9-4a22-a65d-8ed7ffd7fc51 is DONE. 48 Bytes processed. <a target=\"_blank\" href=\"https://console.cloud.google.com/bigquery?project=statmike-mlops-349915&j=bq:us-central1:3ed548de-fcf9-4a22-a65d-8ed7ffd7fc51&page=queryresults\">Open Job</a>"
      ],
      "text/plain": [
       "<IPython.core.display.HTML object>"
      ]
     },
     "metadata": {},
     "output_type": "display_data"
    },
    {
     "data": {
      "text/plain": [
       "('9c23ed6c-805e-4c54-af95-dfb8cb34446a',\n",
       " '2024-05-01 18:25:01.603430+0000',\n",
       " '2024-05-02 04:29:01+0000',\n",
       " '2024-05-02 04:29:01.603430+0000')"
      ]
     },
     "execution_count": 35,
     "metadata": {},
     "output_type": "execute_result"
    }
   ],
   "source": [
    "example_entity = example['entity_id'].iloc[0]\n",
    "example_mintime = example['feature_timestamp'].min().strftime('%Y-%m-%d %H:%M:%S.%f%z') #'2023-01-01 12:00:00+00'\n",
    "example_maxtime = example['feature_timestamp'].max().strftime('%Y-%m-%d %H:%M:%S%z') #'2023-01-01 12:00:00+00'\n",
    "example_maxtimeFull = example['feature_timestamp'].max().strftime('%Y-%m-%d %H:%M:%S.%f%z') #'2023-01-01 12:00:00+00'\n",
    "\n",
    "example_entity, example_mintime, example_maxtime, example_maxtimeFull"
   ]
  },
  {
   "cell_type": "markdown",
   "id": "ff7ab3de-dfe1-4b96-8d43-2f370693aa82",
   "metadata": {},
   "source": [
    "### Using A Feature History Table In BigQuery (Batch Mode)\n",
    "\n",
    "A history table version of features is not directly ready for use in machine learning. There are BigQuery functions available to make it easy to create training, evaluation, and other sets of instances from a history table.\n",
    "\n",
    "- [ML.FEATURES_AT_TIME](https://cloud.google.com/bigquery/docs/reference/standard-sql/bigqueryml-syntax-feature-time)\n",
    "    - specify a point-in-time cutoff for all entities when retrieving features.  Prevents [data leakage](https://en.wikipedia.org/wiki/Leakage_(machine_learning)).\n",
    "- [ML.ENTITY_FEATURES_AT_TIME](https://cloud.google.com/bigquery/docs/reference/standard-sql/bigqueryml-syntax-entity-feature-time)\n",
    "    - specify a table of entity values and timestamps to retrieve point-in-time features for all combinations"
   ]
  },
  {
   "cell_type": "markdown",
   "id": "250bf906-485c-446c-bbdc-9fc019a5c419",
   "metadata": {},
   "source": [
    "#### Features At Point-In-Time\n",
    "\n",
    "Retrieve feature values at a point-in-time for all entity values.  **Notice** The precision in time requires to caputure the latest arriving values in the `v1, v2, v3, v4, v5` columns."
   ]
  },
  {
   "cell_type": "code",
   "execution_count": 36,
   "id": "34ad3514-d7ed-4638-9577-12da6b92028b",
   "metadata": {
    "tags": []
   },
   "outputs": [
    {
     "data": {
      "text/html": [
       "Query job 12b21f35-5772-4dc1-8969-68c0699a071c is DONE. 445.4 MB processed. <a target=\"_blank\" href=\"https://console.cloud.google.com/bigquery?project=statmike-mlops-349915&j=bq:us-central1:12b21f35-5772-4dc1-8969-68c0699a071c&page=queryresults\">Open Job</a>"
      ],
      "text/plain": [
       "<IPython.core.display.HTML object>"
      ]
     },
     "metadata": {},
     "output_type": "display_data"
    },
    {
     "data": {
      "text/html": [
       "Query job c9093d7e-fb11-4005-959a-c63c66d1e95f is DONE. 286 Bytes processed. <a target=\"_blank\" href=\"https://console.cloud.google.com/bigquery?project=statmike-mlops-349915&j=bq:us-central1:c9093d7e-fb11-4005-959a-c63c66d1e95f&page=queryresults\">Open Job</a>"
      ],
      "text/plain": [
       "<IPython.core.display.HTML object>"
      ]
     },
     "metadata": {},
     "output_type": "display_data"
    },
    {
     "data": {
      "text/html": [
       "Query job b3fa54b7-0adf-4efc-96ea-cf6782f8c0ab is DONE. 0 Bytes processed. <a target=\"_blank\" href=\"https://console.cloud.google.com/bigquery?project=statmike-mlops-349915&j=bq:us-central1:b3fa54b7-0adf-4efc-96ea-cf6782f8c0ab&page=queryresults\">Open Job</a>"
      ],
      "text/plain": [
       "<IPython.core.display.HTML object>"
      ]
     },
     "metadata": {},
     "output_type": "display_data"
    },
    {
     "data": {
      "text/html": [
       "Query job e5f5ae76-e2ad-44e9-87ce-1ea2c6f90a46 is DONE. 302 Bytes processed. <a target=\"_blank\" href=\"https://console.cloud.google.com/bigquery?project=statmike-mlops-349915&j=bq:us-central1:e5f5ae76-e2ad-44e9-87ce-1ea2c6f90a46&page=queryresults\">Open Job</a>"
      ],
      "text/plain": [
       "<IPython.core.display.HTML object>"
      ]
     },
     "metadata": {},
     "output_type": "display_data"
    },
    {
     "data": {
      "text/html": [
       "<div>\n",
       "<style scoped>\n",
       "    .dataframe tbody tr th:only-of-type {\n",
       "        vertical-align: middle;\n",
       "    }\n",
       "\n",
       "    .dataframe tbody tr th {\n",
       "        vertical-align: top;\n",
       "    }\n",
       "\n",
       "    .dataframe thead th {\n",
       "        text-align: right;\n",
       "    }\n",
       "</style>\n",
       "<table border=\"1\" class=\"dataframe\">\n",
       "  <thead>\n",
       "    <tr style=\"text-align: right;\">\n",
       "      <th></th>\n",
       "      <th>entity_id</th>\n",
       "      <th>feature_timestamp</th>\n",
       "      <th>v1</th>\n",
       "      <th>v2</th>\n",
       "      <th>v3</th>\n",
       "      <th>v4</th>\n",
       "      <th>v5</th>\n",
       "      <th>time</th>\n",
       "      <th>v6</th>\n",
       "      <th>v7</th>\n",
       "      <th>...</th>\n",
       "      <th>v21</th>\n",
       "      <th>v22</th>\n",
       "      <th>v23</th>\n",
       "      <th>v24</th>\n",
       "      <th>v25</th>\n",
       "      <th>v26</th>\n",
       "      <th>v27</th>\n",
       "      <th>v28</th>\n",
       "      <th>amount</th>\n",
       "      <th>class</th>\n",
       "    </tr>\n",
       "  </thead>\n",
       "  <tbody>\n",
       "    <tr>\n",
       "      <th>0</th>\n",
       "      <td>9c23ed6c-805e-4c54-af95-dfb8cb34446a</td>\n",
       "      <td>2024-05-02 04:29:01+00:00</td>\n",
       "      <td>-8.313253</td>\n",
       "      <td>7.353339</td>\n",
       "      <td>-6.784848</td>\n",
       "      <td>-1.647257</td>\n",
       "      <td>&lt;NA&gt;</td>\n",
       "      <td>146737</td>\n",
       "      <td>-1.036468</td>\n",
       "      <td>-3.176614</td>\n",
       "      <td>...</td>\n",
       "      <td>0.100413</td>\n",
       "      <td>0.520158</td>\n",
       "      <td>0.553924</td>\n",
       "      <td>-1.551447</td>\n",
       "      <td>0.668017</td>\n",
       "      <td>-0.047452</td>\n",
       "      <td>1.246589</td>\n",
       "      <td>0.71985</td>\n",
       "      <td>0.89</td>\n",
       "      <td>0</td>\n",
       "    </tr>\n",
       "  </tbody>\n",
       "</table>\n",
       "<p>1 rows × 33 columns</p>\n",
       "</div>[1 rows x 33 columns in total]"
      ],
      "text/plain": [
       "                              entity_id          feature_timestamp        v1  \\\n",
       "0  9c23ed6c-805e-4c54-af95-dfb8cb34446a  2024-05-02 04:29:01+00:00 -8.313253   \n",
       "\n",
       "         v2        v3        v4    v5    time        v6        v7  ...  \\\n",
       "0  7.353339 -6.784848 -1.647257  <NA>  146737 -1.036468 -3.176614  ...   \n",
       "\n",
       "        v21       v22       v23       v24       v25       v26       v27  \\\n",
       "0  0.100413  0.520158  0.553924 -1.551447  0.668017 -0.047452  1.246589   \n",
       "\n",
       "       v28  amount  class  \n",
       "0  0.71985    0.89      0  \n",
       "\n",
       "[1 rows x 33 columns]"
      ]
     },
     "execution_count": 36,
     "metadata": {},
     "output_type": "execute_result"
    }
   ],
   "source": [
    "bpd.read_gbq(f'''\n",
    "SELECT *\n",
    "FROM\n",
    "    ML.FEATURES_AT_TIME(\n",
    "        TABLE `{BQ_PROJECT}.{BQ_DATASET}.{BQ_TABLE}_fs_history`,\n",
    "        time => '{example_maxtime}',\n",
    "        num_rows => 1,\n",
    "        ignore_feature_nulls => TRUE\n",
    "    )\n",
    "WHERE entity_id = '{example_entity}'\n",
    "''')"
   ]
  },
  {
   "cell_type": "code",
   "execution_count": 37,
   "id": "dbea71c6-c30f-434f-9161-58fde08d57d5",
   "metadata": {
    "tags": []
   },
   "outputs": [
    {
     "data": {
      "text/html": [
       "Query job 880c163c-6ae7-4488-b9d3-e4b311d55bad is DONE. 445.4 MB processed. <a target=\"_blank\" href=\"https://console.cloud.google.com/bigquery?project=statmike-mlops-349915&j=bq:us-central1:880c163c-6ae7-4488-b9d3-e4b311d55bad&page=queryresults\">Open Job</a>"
      ],
      "text/plain": [
       "<IPython.core.display.HTML object>"
      ]
     },
     "metadata": {},
     "output_type": "display_data"
    },
    {
     "data": {
      "text/html": [
       "Query job ad208345-232f-446d-b43e-7e5d88f0d206 is DONE. 294 Bytes processed. <a target=\"_blank\" href=\"https://console.cloud.google.com/bigquery?project=statmike-mlops-349915&j=bq:us-central1:ad208345-232f-446d-b43e-7e5d88f0d206&page=queryresults\">Open Job</a>"
      ],
      "text/plain": [
       "<IPython.core.display.HTML object>"
      ]
     },
     "metadata": {},
     "output_type": "display_data"
    },
    {
     "data": {
      "text/html": [
       "Query job 6a71dc79-d7c8-433c-a6ec-a6c285d658fc is DONE. 0 Bytes processed. <a target=\"_blank\" href=\"https://console.cloud.google.com/bigquery?project=statmike-mlops-349915&j=bq:us-central1:6a71dc79-d7c8-433c-a6ec-a6c285d658fc&page=queryresults\">Open Job</a>"
      ],
      "text/plain": [
       "<IPython.core.display.HTML object>"
      ]
     },
     "metadata": {},
     "output_type": "display_data"
    },
    {
     "data": {
      "text/html": [
       "Query job 0ee1b5c0-1a98-4469-81ed-87a0c50d9ed5 is DONE. 310 Bytes processed. <a target=\"_blank\" href=\"https://console.cloud.google.com/bigquery?project=statmike-mlops-349915&j=bq:us-central1:0ee1b5c0-1a98-4469-81ed-87a0c50d9ed5&page=queryresults\">Open Job</a>"
      ],
      "text/plain": [
       "<IPython.core.display.HTML object>"
      ]
     },
     "metadata": {},
     "output_type": "display_data"
    },
    {
     "data": {
      "text/html": [
       "<div>\n",
       "<style scoped>\n",
       "    .dataframe tbody tr th:only-of-type {\n",
       "        vertical-align: middle;\n",
       "    }\n",
       "\n",
       "    .dataframe tbody tr th {\n",
       "        vertical-align: top;\n",
       "    }\n",
       "\n",
       "    .dataframe thead th {\n",
       "        text-align: right;\n",
       "    }\n",
       "</style>\n",
       "<table border=\"1\" class=\"dataframe\">\n",
       "  <thead>\n",
       "    <tr style=\"text-align: right;\">\n",
       "      <th></th>\n",
       "      <th>entity_id</th>\n",
       "      <th>feature_timestamp</th>\n",
       "      <th>v1</th>\n",
       "      <th>v2</th>\n",
       "      <th>v3</th>\n",
       "      <th>v4</th>\n",
       "      <th>v5</th>\n",
       "      <th>time</th>\n",
       "      <th>v6</th>\n",
       "      <th>v7</th>\n",
       "      <th>...</th>\n",
       "      <th>v21</th>\n",
       "      <th>v22</th>\n",
       "      <th>v23</th>\n",
       "      <th>v24</th>\n",
       "      <th>v25</th>\n",
       "      <th>v26</th>\n",
       "      <th>v27</th>\n",
       "      <th>v28</th>\n",
       "      <th>amount</th>\n",
       "      <th>class</th>\n",
       "    </tr>\n",
       "  </thead>\n",
       "  <tbody>\n",
       "    <tr>\n",
       "      <th>0</th>\n",
       "      <td>9c23ed6c-805e-4c54-af95-dfb8cb34446a</td>\n",
       "      <td>2024-05-02 04:29:01.603430+00:00</td>\n",
       "      <td>-8.313253</td>\n",
       "      <td>7.353339</td>\n",
       "      <td>-6.784848</td>\n",
       "      <td>-1.647257</td>\n",
       "      <td>-3.151681</td>\n",
       "      <td>146737</td>\n",
       "      <td>-1.036468</td>\n",
       "      <td>-3.176614</td>\n",
       "      <td>...</td>\n",
       "      <td>0.100413</td>\n",
       "      <td>0.520158</td>\n",
       "      <td>0.553924</td>\n",
       "      <td>-1.551447</td>\n",
       "      <td>0.668017</td>\n",
       "      <td>-0.047452</td>\n",
       "      <td>1.246589</td>\n",
       "      <td>0.71985</td>\n",
       "      <td>0.89</td>\n",
       "      <td>0</td>\n",
       "    </tr>\n",
       "  </tbody>\n",
       "</table>\n",
       "<p>1 rows × 33 columns</p>\n",
       "</div>[1 rows x 33 columns in total]"
      ],
      "text/plain": [
       "                              entity_id                 feature_timestamp  \\\n",
       "0  9c23ed6c-805e-4c54-af95-dfb8cb34446a  2024-05-02 04:29:01.603430+00:00   \n",
       "\n",
       "         v1        v2        v3        v4        v5    time        v6  \\\n",
       "0 -8.313253  7.353339 -6.784848 -1.647257 -3.151681  146737 -1.036468   \n",
       "\n",
       "         v7  ...       v21       v22       v23       v24       v25       v26  \\\n",
       "0 -3.176614  ...  0.100413  0.520158  0.553924 -1.551447  0.668017 -0.047452   \n",
       "\n",
       "        v27      v28  amount  class  \n",
       "0  1.246589  0.71985    0.89      0  \n",
       "\n",
       "[1 rows x 33 columns]"
      ]
     },
     "execution_count": 37,
     "metadata": {},
     "output_type": "execute_result"
    }
   ],
   "source": [
    "bpd.read_gbq(f'''\n",
    "SELECT *\n",
    "FROM\n",
    "    ML.FEATURES_AT_TIME(\n",
    "        TABLE `{BQ_PROJECT}.{BQ_DATASET}.{BQ_TABLE}_fs_history`,\n",
    "        time => '{example_maxtimeFull}',\n",
    "        num_rows => 1,\n",
    "        ignore_feature_nulls => TRUE\n",
    "    )\n",
    "WHERE entity_id = '{example_entity}'\n",
    "''')"
   ]
  },
  {
   "cell_type": "markdown",
   "id": "a97247ec-bf7e-4cad-8e55-724b982186d4",
   "metadata": {},
   "source": [
    "#### Entity Features At Point-In-Time\n",
    "\n",
    "Retrieve feature values for select entity and point-in-time values.  Using an input table with combinations of `entity_id` and `time` gather any view over time or at a point in time that is needed for a data science project."
   ]
  },
  {
   "cell_type": "code",
   "execution_count": 41,
   "id": "6b2e5043-d732-40f4-8c05-7f7a1e71835f",
   "metadata": {
    "tags": []
   },
   "outputs": [
    {
     "data": {
      "text/html": [
       "Query job 20fc5c1a-06ca-4367-924b-647a3cbb8cc9 is DONE. 445.4 MB processed. <a target=\"_blank\" href=\"https://console.cloud.google.com/bigquery?project=statmike-mlops-349915&j=bq:us-central1:20fc5c1a-06ca-4367-924b-647a3cbb8cc9&page=queryresults\">Open Job</a>"
      ],
      "text/plain": [
       "<IPython.core.display.HTML object>"
      ]
     },
     "metadata": {},
     "output_type": "display_data"
    },
    {
     "data": {
      "text/html": [
       "Query job 0b8856fa-0c0a-459f-9047-3cc05d7bc1b6 is DONE. 834 Bytes processed. <a target=\"_blank\" href=\"https://console.cloud.google.com/bigquery?project=statmike-mlops-349915&j=bq:us-central1:0b8856fa-0c0a-459f-9047-3cc05d7bc1b6&page=queryresults\">Open Job</a>"
      ],
      "text/plain": [
       "<IPython.core.display.HTML object>"
      ]
     },
     "metadata": {},
     "output_type": "display_data"
    },
    {
     "data": {
      "text/html": [
       "Query job edd04107-b7e4-479b-93da-60b70262dc90 is DONE. 0 Bytes processed. <a target=\"_blank\" href=\"https://console.cloud.google.com/bigquery?project=statmike-mlops-349915&j=bq:us-central1:edd04107-b7e4-479b-93da-60b70262dc90&page=queryresults\">Open Job</a>"
      ],
      "text/plain": [
       "<IPython.core.display.HTML object>"
      ]
     },
     "metadata": {},
     "output_type": "display_data"
    },
    {
     "data": {
      "text/html": [
       "Query job 2601b7ca-7b44-4c7f-b398-3898ea4577c3 is DONE. 906 Bytes processed. <a target=\"_blank\" href=\"https://console.cloud.google.com/bigquery?project=statmike-mlops-349915&j=bq:us-central1:2601b7ca-7b44-4c7f-b398-3898ea4577c3&page=queryresults\">Open Job</a>"
      ],
      "text/plain": [
       "<IPython.core.display.HTML object>"
      ]
     },
     "metadata": {},
     "output_type": "display_data"
    },
    {
     "data": {
      "text/html": [
       "<div>\n",
       "<style scoped>\n",
       "    .dataframe tbody tr th:only-of-type {\n",
       "        vertical-align: middle;\n",
       "    }\n",
       "\n",
       "    .dataframe tbody tr th {\n",
       "        vertical-align: top;\n",
       "    }\n",
       "\n",
       "    .dataframe thead th {\n",
       "        text-align: right;\n",
       "    }\n",
       "</style>\n",
       "<table border=\"1\" class=\"dataframe\">\n",
       "  <thead>\n",
       "    <tr style=\"text-align: right;\">\n",
       "      <th></th>\n",
       "      <th>entity_id</th>\n",
       "      <th>feature_timestamp</th>\n",
       "      <th>v1</th>\n",
       "      <th>v2</th>\n",
       "      <th>v3</th>\n",
       "      <th>v4</th>\n",
       "      <th>v5</th>\n",
       "      <th>time</th>\n",
       "      <th>v6</th>\n",
       "      <th>v7</th>\n",
       "      <th>...</th>\n",
       "      <th>v21</th>\n",
       "      <th>v22</th>\n",
       "      <th>v23</th>\n",
       "      <th>v24</th>\n",
       "      <th>v25</th>\n",
       "      <th>v26</th>\n",
       "      <th>v27</th>\n",
       "      <th>v28</th>\n",
       "      <th>amount</th>\n",
       "      <th>class</th>\n",
       "    </tr>\n",
       "  </thead>\n",
       "  <tbody>\n",
       "    <tr>\n",
       "      <th>2</th>\n",
       "      <td>9c23ed6c-805e-4c54-af95-dfb8cb34446a</td>\n",
       "      <td>2024-05-01 18:25:01.603430+00:00</td>\n",
       "      <td>&lt;NA&gt;</td>\n",
       "      <td>&lt;NA&gt;</td>\n",
       "      <td>&lt;NA&gt;</td>\n",
       "      <td>&lt;NA&gt;</td>\n",
       "      <td>&lt;NA&gt;</td>\n",
       "      <td>146737</td>\n",
       "      <td>-1.036468</td>\n",
       "      <td>-3.176614</td>\n",
       "      <td>...</td>\n",
       "      <td>0.100413</td>\n",
       "      <td>0.520158</td>\n",
       "      <td>0.553924</td>\n",
       "      <td>-1.551447</td>\n",
       "      <td>0.668017</td>\n",
       "      <td>-0.047452</td>\n",
       "      <td>1.246589</td>\n",
       "      <td>0.71985</td>\n",
       "      <td>0.89</td>\n",
       "      <td>0</td>\n",
       "    </tr>\n",
       "    <tr>\n",
       "      <th>0</th>\n",
       "      <td>9c23ed6c-805e-4c54-af95-dfb8cb34446a</td>\n",
       "      <td>2024-05-02 04:29:01+00:00</td>\n",
       "      <td>-8.313253</td>\n",
       "      <td>7.353339</td>\n",
       "      <td>-6.784848</td>\n",
       "      <td>-1.647257</td>\n",
       "      <td>&lt;NA&gt;</td>\n",
       "      <td>146737</td>\n",
       "      <td>-1.036468</td>\n",
       "      <td>-3.176614</td>\n",
       "      <td>...</td>\n",
       "      <td>0.100413</td>\n",
       "      <td>0.520158</td>\n",
       "      <td>0.553924</td>\n",
       "      <td>-1.551447</td>\n",
       "      <td>0.668017</td>\n",
       "      <td>-0.047452</td>\n",
       "      <td>1.246589</td>\n",
       "      <td>0.71985</td>\n",
       "      <td>0.89</td>\n",
       "      <td>0</td>\n",
       "    </tr>\n",
       "    <tr>\n",
       "      <th>1</th>\n",
       "      <td>9c23ed6c-805e-4c54-af95-dfb8cb34446a</td>\n",
       "      <td>2024-05-02 04:29:01.603430+00:00</td>\n",
       "      <td>-8.313253</td>\n",
       "      <td>7.353339</td>\n",
       "      <td>-6.784848</td>\n",
       "      <td>-1.647257</td>\n",
       "      <td>-3.151681</td>\n",
       "      <td>146737</td>\n",
       "      <td>-1.036468</td>\n",
       "      <td>-3.176614</td>\n",
       "      <td>...</td>\n",
       "      <td>0.100413</td>\n",
       "      <td>0.520158</td>\n",
       "      <td>0.553924</td>\n",
       "      <td>-1.551447</td>\n",
       "      <td>0.668017</td>\n",
       "      <td>-0.047452</td>\n",
       "      <td>1.246589</td>\n",
       "      <td>0.71985</td>\n",
       "      <td>0.89</td>\n",
       "      <td>0</td>\n",
       "    </tr>\n",
       "  </tbody>\n",
       "</table>\n",
       "<p>3 rows × 33 columns</p>\n",
       "</div>[3 rows x 33 columns in total]"
      ],
      "text/plain": [
       "                              entity_id                 feature_timestamp  \\\n",
       "2  9c23ed6c-805e-4c54-af95-dfb8cb34446a  2024-05-01 18:25:01.603430+00:00   \n",
       "0  9c23ed6c-805e-4c54-af95-dfb8cb34446a         2024-05-02 04:29:01+00:00   \n",
       "1  9c23ed6c-805e-4c54-af95-dfb8cb34446a  2024-05-02 04:29:01.603430+00:00   \n",
       "\n",
       "         v1        v2        v3        v4        v5    time        v6  \\\n",
       "2      <NA>      <NA>      <NA>      <NA>      <NA>  146737 -1.036468   \n",
       "0 -8.313253  7.353339 -6.784848 -1.647257      <NA>  146737 -1.036468   \n",
       "1 -8.313253  7.353339 -6.784848 -1.647257 -3.151681  146737 -1.036468   \n",
       "\n",
       "         v7  ...       v21       v22       v23       v24       v25       v26  \\\n",
       "2 -3.176614  ...  0.100413  0.520158  0.553924 -1.551447  0.668017 -0.047452   \n",
       "0 -3.176614  ...  0.100413  0.520158  0.553924 -1.551447  0.668017 -0.047452   \n",
       "1 -3.176614  ...  0.100413  0.520158  0.553924 -1.551447  0.668017 -0.047452   \n",
       "\n",
       "        v27      v28  amount  class  \n",
       "2  1.246589  0.71985    0.89      0  \n",
       "0  1.246589  0.71985    0.89      0  \n",
       "1  1.246589  0.71985    0.89      0  \n",
       "\n",
       "[3 rows x 33 columns]"
      ]
     },
     "execution_count": 41,
     "metadata": {},
     "output_type": "execute_result"
    }
   ],
   "source": [
    "bpd.read_gbq(f'''\n",
    "WITH\n",
    "    ENTITY_TIME_TABLE AS (\n",
    "        SELECT '{example_entity}' as entity_id, TIMESTAMP('{example_mintime}') as time UNION ALL\n",
    "        SELECT '{example_entity}' as entity_id, TIMESTAMP('{example_maxtime}') as time UNION ALL\n",
    "        SELECT '{example_entity}' as entity_id, TIMESTAMP('{example_maxtimeFull}') as time\n",
    "    )\n",
    "SELECT *\n",
    "FROM\n",
    "    ML.ENTITY_FEATURES_AT_TIME(\n",
    "        TABLE `{BQ_PROJECT}.{BQ_DATASET}.{BQ_TABLE}_fs_history`,\n",
    "        TABLE ENTITY_TIME_TABLE,\n",
    "        num_rows => 1,\n",
    "        ignore_feature_nulls => TRUE\n",
    "    )\n",
    "WHERE entity_id = '{example_entity}'\n",
    "''').sort_values('feature_timestamp')"
   ]
  },
  {
   "cell_type": "markdown",
   "id": "c04c101a-a6b0-4b89-991c-c3612c1538d6",
   "metadata": {},
   "source": [
    "---\n",
    "## Feature Store\n",
    "\n",
    "from google.cloud.aiplatform_v1 import (FeatureOnlineStoreAdminServiceClient,\n",
    "                                        FeatureOnlineStoreServiceClient,\n",
    "                                        FeatureRegistryServiceClient)\n",
    "\n",
    "**API Links (Python)**\n",
    "- [Feature Registry Service](https://cloud.google.com/python/docs/reference/aiplatform/latest/google.cloud.aiplatform_v1.services.feature_registry_service)\n",
    "- [Feature Online Store Admin Service](https://cloud.google.com/python/docs/reference/aiplatform/latest/google.cloud.aiplatform_v1.services.feature_online_store_admin_service)\n",
    "- [Feature Online Store Service](https://cloud.google.com/python/docs/reference/aiplatform/latest/google.cloud.aiplatform_v1.services.feature_online_store_service)"
   ]
  },
  {
   "cell_type": "markdown",
   "id": "6776be28-7e6c-4ed8-9fec-04d38e26c0d9",
   "metadata": {},
   "source": [
    "### Feature Registry Client\n",
    "\n",
    "Used for creating Feature Groups, Features from groups"
   ]
  },
  {
   "cell_type": "code",
   "execution_count": 42,
   "id": "bd73813e-98c3-4f47-b747-79a93e0deca9",
   "metadata": {
    "tags": []
   },
   "outputs": [],
   "source": [
    "registry_client = aiplatform.gapic.FeatureRegistryServiceClient(client_options = dict(api_endpoint = f'{REGION}-aiplatform.googleapis.com'))"
   ]
  },
  {
   "cell_type": "markdown",
   "id": "f3f7bd3e-40e1-4e7a-ae4c-80ea2720206f",
   "metadata": {},
   "source": [
    "### Create A Feature Group\n",
    "\n",
    "The history version of the feature table(s) can be registered to the Feature Registry.\n",
    "\n",
    "**References:**\n",
    "- [Create a feature group](https://cloud.google.com/vertex-ai/docs/featurestore/latest/create-featuregroup)"
   ]
  },
  {
   "cell_type": "code",
   "execution_count": 43,
   "id": "dbead84e-af82-483a-80ef-c993878af1aa",
   "metadata": {
    "tags": []
   },
   "outputs": [],
   "source": [
    "FEATURE_GROUP_NAME = 'transactions'"
   ]
  },
  {
   "cell_type": "code",
   "execution_count": 44,
   "id": "6beb0524-1a04-4624-b88f-0897868ce6e7",
   "metadata": {
    "tags": []
   },
   "outputs": [
    {
     "data": {
      "text/plain": [
       "'projects/1026793852137/locations/us-central1/featureGroups/transactions'"
      ]
     },
     "execution_count": 44,
     "metadata": {},
     "output_type": "execute_result"
    }
   ],
   "source": [
    "try:\n",
    "    feature_group = registry_client.get_feature_group(name = f'projects/{PROJECT_ID}/locations/{REGION}/featureGroups/{FEATURE_GROUP_NAME}')\n",
    "except Exception:\n",
    "    create_group = registry_client.create_feature_group(\n",
    "        request = aiplatform.gapic.CreateFeatureGroupRequest(\n",
    "            parent=f\"projects/{PROJECT_ID}/locations/{REGION}\",\n",
    "            feature_group_id = FEATURE_GROUP_NAME,\n",
    "            feature_group = aiplatform.gapic.FeatureGroup(\n",
    "                big_query = aiplatform.gapic.FeatureGroup.BigQuery(\n",
    "                    big_query_source = aiplatform.gapic.BigQuerySource(input_uri = f'bq://{BQ_PROJECT}.{BQ_DATASET}.{BQ_TABLE}_fs_history'),\n",
    "                    entity_id_columns = ['entity_id']\n",
    "                )\n",
    "            )\n",
    "        )\n",
    "    )\n",
    "    feature_group = create_group.result()\n",
    "    \n",
    "feature_group.name"
   ]
  },
  {
   "cell_type": "code",
   "execution_count": 45,
   "id": "025f4c8e-68b8-40f9-bfa6-82e3c809c211",
   "metadata": {
    "tags": []
   },
   "outputs": [
    {
     "name": "stdout",
     "output_type": "stream",
     "text": [
      "Review in the console:\n",
      "\n",
      "https://console.cloud.google.com/vertex-ai/feature-store/feature-groups?project=statmike-mlops-349915\n"
     ]
    }
   ],
   "source": [
    "print(f'Review in the console:\\n\\nhttps://console.cloud.google.com/vertex-ai/feature-store/feature-groups?project={PROJECT_ID}')"
   ]
  },
  {
   "cell_type": "markdown",
   "id": "62ca82f8-8107-4f46-9e95-b200ead377a9",
   "metadata": {},
   "source": [
    "### Create Features\n",
    "\n",
    "**References:**\n",
    "- [Create a feature](https://cloud.google.com/vertex-ai/docs/featurestore/latest/create-feature)"
   ]
  },
  {
   "cell_type": "code",
   "execution_count": 46,
   "id": "469c1308-c4e7-4b5c-8050-5eb6ab9c6ca3",
   "metadata": {
    "tags": []
   },
   "outputs": [
    {
     "data": {
      "text/plain": [
       "['entity_id',\n",
       " 'feature_timestamp',\n",
       " 'v1',\n",
       " 'v2',\n",
       " 'v3',\n",
       " 'v4',\n",
       " 'v5',\n",
       " 'time',\n",
       " 'v6',\n",
       " 'v7',\n",
       " 'v8',\n",
       " 'v9',\n",
       " 'v10',\n",
       " 'v11',\n",
       " 'v12',\n",
       " 'v13',\n",
       " 'v14',\n",
       " 'v15',\n",
       " 'v16',\n",
       " 'v17',\n",
       " 'v18',\n",
       " 'v19',\n",
       " 'v20',\n",
       " 'v21',\n",
       " 'v22',\n",
       " 'v23',\n",
       " 'v24',\n",
       " 'v25',\n",
       " 'v26',\n",
       " 'v27',\n",
       " 'v28',\n",
       " 'amount',\n",
       " 'class']"
      ]
     },
     "execution_count": 46,
     "metadata": {},
     "output_type": "execute_result"
    }
   ],
   "source": [
    "source_history.columns.tolist()"
   ]
  },
  {
   "cell_type": "code",
   "execution_count": 47,
   "id": "aa218432-2a88-464d-a28c-5d41ed432d8c",
   "metadata": {
    "tags": []
   },
   "outputs": [],
   "source": [
    "features = []\n",
    "for column in source_history.columns.tolist():\n",
    "    if column not in ['entity_id', 'feature_timestamp']:\n",
    "        try:\n",
    "            feature = registry_client.get_feature(name = f'projects/{PROJECT_ID}/locations/{REGION}/featureGroups/{FEATURE_GROUP_NAME}/features/{column}')\n",
    "            features.append(feature)\n",
    "        except Exception:\n",
    "            create_feature = registry_client.create_feature(\n",
    "                request = aiplatform.gapic.CreateFeatureRequest(\n",
    "                    parent = response.name,\n",
    "                    feature_id = column,\n",
    "                    feature = aiplatform.gapic.Feature(name = column)\n",
    "                )\n",
    "            )\n",
    "            features.append(create_feature.result())"
   ]
  },
  {
   "cell_type": "code",
   "execution_count": 48,
   "id": "75124133-4447-4d0a-b8c3-2e588ee43943",
   "metadata": {
    "tags": []
   },
   "outputs": [
    {
     "name": "stdout",
     "output_type": "stream",
     "text": [
      "projects/1026793852137/locations/us-central1/featureGroups/transactions/features/v1\n",
      "projects/1026793852137/locations/us-central1/featureGroups/transactions/features/v2\n",
      "projects/1026793852137/locations/us-central1/featureGroups/transactions/features/v3\n",
      "projects/1026793852137/locations/us-central1/featureGroups/transactions/features/v4\n",
      "projects/1026793852137/locations/us-central1/featureGroups/transactions/features/v5\n",
      "projects/1026793852137/locations/us-central1/featureGroups/transactions/features/time\n",
      "projects/1026793852137/locations/us-central1/featureGroups/transactions/features/v6\n",
      "projects/1026793852137/locations/us-central1/featureGroups/transactions/features/v7\n",
      "projects/1026793852137/locations/us-central1/featureGroups/transactions/features/v8\n",
      "projects/1026793852137/locations/us-central1/featureGroups/transactions/features/v9\n",
      "projects/1026793852137/locations/us-central1/featureGroups/transactions/features/v10\n",
      "projects/1026793852137/locations/us-central1/featureGroups/transactions/features/v11\n",
      "projects/1026793852137/locations/us-central1/featureGroups/transactions/features/v12\n",
      "projects/1026793852137/locations/us-central1/featureGroups/transactions/features/v13\n",
      "projects/1026793852137/locations/us-central1/featureGroups/transactions/features/v14\n",
      "projects/1026793852137/locations/us-central1/featureGroups/transactions/features/v15\n",
      "projects/1026793852137/locations/us-central1/featureGroups/transactions/features/v16\n",
      "projects/1026793852137/locations/us-central1/featureGroups/transactions/features/v17\n",
      "projects/1026793852137/locations/us-central1/featureGroups/transactions/features/v18\n",
      "projects/1026793852137/locations/us-central1/featureGroups/transactions/features/v19\n",
      "projects/1026793852137/locations/us-central1/featureGroups/transactions/features/v20\n",
      "projects/1026793852137/locations/us-central1/featureGroups/transactions/features/v21\n",
      "projects/1026793852137/locations/us-central1/featureGroups/transactions/features/v22\n",
      "projects/1026793852137/locations/us-central1/featureGroups/transactions/features/v23\n",
      "projects/1026793852137/locations/us-central1/featureGroups/transactions/features/v24\n",
      "projects/1026793852137/locations/us-central1/featureGroups/transactions/features/v25\n",
      "projects/1026793852137/locations/us-central1/featureGroups/transactions/features/v26\n",
      "projects/1026793852137/locations/us-central1/featureGroups/transactions/features/v27\n",
      "projects/1026793852137/locations/us-central1/featureGroups/transactions/features/v28\n",
      "projects/1026793852137/locations/us-central1/featureGroups/transactions/features/amount\n",
      "projects/1026793852137/locations/us-central1/featureGroups/transactions/features/class\n"
     ]
    }
   ],
   "source": [
    "for feature in features:\n",
    "    print(feature.name)"
   ]
  },
  {
   "cell_type": "code",
   "execution_count": 49,
   "id": "db14bfbf-6889-42e5-ae5d-f797b48e03f0",
   "metadata": {
    "tags": []
   },
   "outputs": [
    {
     "name": "stdout",
     "output_type": "stream",
     "text": [
      "Review in the console (expand feature group):\n",
      "\n",
      "https://console.cloud.google.com/vertex-ai/feature-store/feature-groups?project=statmike-mlops-349915\n"
     ]
    }
   ],
   "source": [
    "print(f'Review in the console (expand feature group):\\n\\nhttps://console.cloud.google.com/vertex-ai/feature-store/feature-groups?project={PROJECT_ID}')"
   ]
  },
  {
   "cell_type": "markdown",
   "id": "e88ba6ad-e76e-4ff6-ab40-58b925797a90",
   "metadata": {},
   "source": [
    "### Feature Online Store Admin Client\n",
    "\n",
    "Used to create online stores and feature views"
   ]
  },
  {
   "cell_type": "code",
   "execution_count": 50,
   "id": "c9628e2e-65fd-4f30-bf4f-3e3f70aa3a69",
   "metadata": {
    "tags": []
   },
   "outputs": [],
   "source": [
    "online_admin_client = aiplatform.gapic.FeatureOnlineStoreAdminServiceClient(client_options = dict(api_endpoint = f'{REGION}-aiplatform.googleapis.com'))"
   ]
  },
  {
   "cell_type": "markdown",
   "id": "0be3c2c7-7c89-4694-b2cc-1b0b207a98ba",
   "metadata": {},
   "source": [
    "### Create Online Store\n",
    "\n",
    "**NOTE:** This can take around 10 minutes\n",
    "\n",
    "**Reference:**\n",
    "- [Online Serving Types](https://cloud.google.com/vertex-ai/docs/featurestore/latest/online-serving-types)\n",
    "- [Create an Online Store Instance](https://cloud.google.com/vertex-ai/docs/featurestore/latest/create-onlinestore)"
   ]
  },
  {
   "cell_type": "code",
   "execution_count": 51,
   "id": "b3ea2030-1be4-43a7-939d-94e9b97f0a28",
   "metadata": {
    "tags": []
   },
   "outputs": [],
   "source": [
    "FEATURE_ONLINE_STORE_NAME = 'featurestore'"
   ]
  },
  {
   "cell_type": "code",
   "execution_count": 52,
   "id": "b31c7643-941c-41ef-b7ba-fab2e5c68f97",
   "metadata": {
    "tags": []
   },
   "outputs": [
    {
     "data": {
      "text/plain": [
       "'projects/1026793852137/locations/us-central1/featureOnlineStores/featurestore'"
      ]
     },
     "execution_count": 52,
     "metadata": {},
     "output_type": "execute_result"
    }
   ],
   "source": [
    "try:\n",
    "    online_store = online_admin_client.get_feature_online_store(name = f'projects/{PROJECT_ID}/locations/{REGION}/featureOnlineStores/{FEATURE_ONLINE_STORE_NAME}')\n",
    "except Exception:\n",
    "    create_online_store = online_admin_client.create_feature_online_store(\n",
    "        request = aiplatform.gapic.CreateFeatureOnlineStoreRequest(\n",
    "            parent = f'projects/{PROJECT_ID}/locations/{REGION}',\n",
    "            feature_online_store_id = FEATURE_ONLINE_STORE_NAME,\n",
    "            feature_online_store = aiplatform.gapic.FeatureOnlineStore(\n",
    "                bigtable = aiplatform.gapic.FeatureOnlineStore.Bigtable(\n",
    "                    auto_scaling = aiplatform.gapic.FeatureOnlineStore.Bigtable.AutoScaling(\n",
    "                        min_node_count = 1,\n",
    "                        max_node_count = 2,\n",
    "                        cpu_utilization_target = 50\n",
    "                    )\n",
    "                )\n",
    "            )\n",
    "        )\n",
    "    )\n",
    "    online_store = create_online_store.result()\n",
    "    \n",
    "online_store.name"
   ]
  },
  {
   "cell_type": "code",
   "execution_count": 53,
   "id": "e79da4c5-b5bb-4982-b316-e41bc608c12a",
   "metadata": {
    "tags": []
   },
   "outputs": [
    {
     "name": "stdout",
     "output_type": "stream",
     "text": [
      "Review in the console:\n",
      "\n",
      "https://console.cloud.google.com/vertex-ai/locations/us-central1/online-stores/featurestore?project=statmike-mlops-349915\n"
     ]
    }
   ],
   "source": [
    "print(f'Review in the console:\\n\\nhttps://console.cloud.google.com/vertex-ai/locations/{REGION}/online-stores/featurestore?project={PROJECT_ID}')"
   ]
  },
  {
   "cell_type": "markdown",
   "id": "1bfab57f-009d-434d-84e9-ef4b2f019380",
   "metadata": {
    "tags": []
   },
   "source": [
    "### Create Feature View: From Feature Registry\n",
    "\n",
    "Create a feature view that syncs the latest values for each feature using the feature registry features.\n",
    "\n",
    "**Reference:**\n",
    "- [Create a feature view from feature groups](https://cloud.google.com/vertex-ai/docs/featurestore/latest/create-featureview#create_a_feature_view_from_feature_groups)"
   ]
  },
  {
   "cell_type": "code",
   "execution_count": 54,
   "id": "a75a11b1-0631-4516-9fe6-f44169e5636c",
   "metadata": {
    "tags": []
   },
   "outputs": [],
   "source": [
    "REGISTRY_FEATURE_VIEW_NAME = 'registry_feature_view'"
   ]
  },
  {
   "cell_type": "code",
   "execution_count": 55,
   "id": "181d5752-660a-4868-9c8c-8b7257cdbbb5",
   "metadata": {
    "tags": []
   },
   "outputs": [
    {
     "data": {
      "text/plain": [
       "'projects/1026793852137/locations/us-central1/featureOnlineStores/featurestore/featureViews/registry_feature_view'"
      ]
     },
     "execution_count": 55,
     "metadata": {},
     "output_type": "execute_result"
    }
   ],
   "source": [
    "try:\n",
    "    registry_view = online_admin_client.get_feature_view(name = f'{online_store.name}/featureViews/{REGISTRY_FEATURE_VIEW_NAME}')\n",
    "except Exception:\n",
    "    create_registry_view = online_admin_client.create_feature_view(\n",
    "        request = aiplatform.gapic.CreateFeatureViewRequest(\n",
    "            parent = online_store.name,\n",
    "            feature_view_id = REGISTRY_FEATURE_VIEW_NAME,\n",
    "            feature_view = aiplatform.gapic.FeatureView(\n",
    "                feature_registry_source = aiplatform.gapic.FeatureView.FeatureRegistrySource(\n",
    "                    feature_groups = [\n",
    "                        aiplatform.gapic.FeatureView.FeatureRegistrySource.FeatureGroup(\n",
    "                            feature_group_id = FEATURE_GROUP_NAME,\n",
    "                            feature_ids = [feature.name.split('/')[-1] for feature in features if not feature.name.endswith('class')]\n",
    "                        )\n",
    "                    ]\n",
    "                ),\n",
    "                sync_config = aiplatform.gapic.FeatureView.SyncConfig(cron = 'TZ=America/New_York 10 * * * *')\n",
    "            ),\n",
    "            run_sync_immediately = True\n",
    "        )\n",
    "    )\n",
    "    registry_view = create_registry_view.result()\n",
    "    \n",
    "registry_view.name"
   ]
  },
  {
   "cell_type": "code",
   "execution_count": 56,
   "id": "6cf58a4e-a9e3-428e-8680-632e49d51d91",
   "metadata": {
    "tags": []
   },
   "outputs": [
    {
     "name": "stdout",
     "output_type": "stream",
     "text": [
      "Review in the console:\n",
      "\n",
      "https://console.cloud.google.com/vertex-ai/locations/us-central1/online-stores/featurestore/feature-views/registry_feature_view?project=statmike-mlops-349915\n"
     ]
    }
   ],
   "source": [
    "print(f'Review in the console:\\n\\nhttps://console.cloud.google.com/vertex-ai/locations/{REGION}/online-stores/featurestore/feature-views/{REGISTRY_FEATURE_VIEW_NAME}?project={PROJECT_ID}')"
   ]
  },
  {
   "cell_type": "markdown",
   "id": "25e1a0c1-9b58-452a-b5b1-f1af2e41256e",
   "metadata": {},
   "source": [
    "### Create Feature View: From BigQuery Source\n",
    "\n",
    "Create a feature view directly from a BigQuery table/view, the 'latest' version create above.\n",
    "\n",
    "**Reference:**\n",
    "- [Create a feature view from a BigQuery source](https://cloud.google.com/vertex-ai/docs/featurestore/latest/create-featureview#create_from_bq)"
   ]
  },
  {
   "cell_type": "code",
   "execution_count": 57,
   "id": "3c9f7b0e-7f27-4b7e-9a78-f0f21b7e7693",
   "metadata": {
    "tags": []
   },
   "outputs": [],
   "source": [
    "BQ_FEATURE_VIEW_NAME = 'bq_feature_view'"
   ]
  },
  {
   "cell_type": "code",
   "execution_count": 58,
   "id": "9fc127ed-133a-492d-9c4f-1dce3e540630",
   "metadata": {
    "tags": []
   },
   "outputs": [
    {
     "data": {
      "text/plain": [
       "'projects/1026793852137/locations/us-central1/featureOnlineStores/featurestore/featureViews/bq_feature_view'"
      ]
     },
     "execution_count": 58,
     "metadata": {},
     "output_type": "execute_result"
    }
   ],
   "source": [
    "try:\n",
    "    bq_view = online_admin_client.get_feature_view(name = f'{online_store.name}/featureViews/{BQ_FEATURE_VIEW_NAME}')\n",
    "except Exception:\n",
    "    create_bq_view = online_admin_client.create_feature_view(\n",
    "        request = aiplatform.gapic.CreateFeatureViewRequest(\n",
    "            parent = online_store.name,\n",
    "            feature_view_id = BQ_FEATURE_VIEW_NAME,\n",
    "            feature_view = aiplatform.gapic.FeatureView(\n",
    "                big_query_source = aiplatform.gapic.FeatureView.BigQuerySource(\n",
    "                    uri = f'bq://{BQ_PROJECT}.{BQ_DATASET}.{BQ_TABLE}_fs_latest',\n",
    "                    entity_id_columns = ['transaction_id']\n",
    "                ),\n",
    "                sync_config = aiplatform.gapic.FeatureView.SyncConfig(cron = 'TZ=America/New_York 10 * * * *')\n",
    "            ),\n",
    "            run_sync_immediately = True\n",
    "        )\n",
    "    )\n",
    "    bq_view = create_bq_view.result()\n",
    "    \n",
    "bq_view.name"
   ]
  },
  {
   "cell_type": "code",
   "execution_count": 59,
   "id": "1d6c26ed-169d-4b32-834b-c59b32263514",
   "metadata": {
    "tags": []
   },
   "outputs": [
    {
     "name": "stdout",
     "output_type": "stream",
     "text": [
      "Review in the console:\n",
      "\n",
      "https://console.cloud.google.com/vertex-ai/locations/us-central1/online-stores/featurestore/feature-views/bq_feature_view?project=statmike-mlops-349915\n"
     ]
    }
   ],
   "source": [
    "print(f'Review in the console:\\n\\nhttps://console.cloud.google.com/vertex-ai/locations/{REGION}/online-stores/featurestore/feature-views/{BQ_FEATURE_VIEW_NAME}?project={PROJECT_ID}')"
   ]
  },
  {
   "cell_type": "markdown",
   "id": "3a7676a3-6b3e-4270-9d46-f38b9517dc74",
   "metadata": {},
   "source": [
    "### Start Sync Manually: BQ View\n",
    "\n",
    "Manually start a sync for the feature view create from BigQuery source.\n",
    "\n",
    "**References:**\n",
    "- [Sync feature data to online store](https://cloud.google.com/vertex-ai/docs/featurestore/latest/sync-data)\n",
    "- [List sync operations](https://cloud.google.com/vertex-ai/docs/featurestore/latest/list-data-syncs)"
   ]
  },
  {
   "cell_type": "code",
   "execution_count": 60,
   "id": "99823103-bf62-4b7d-9b85-395d846ef765",
   "metadata": {
    "tags": []
   },
   "outputs": [],
   "source": [
    "bq_sync = online_admin_client.sync_feature_view(feature_view = bq_view.name)"
   ]
  },
  {
   "cell_type": "code",
   "execution_count": 61,
   "id": "ed377192-6303-45fb-a12a-5d0d253109d3",
   "metadata": {
    "tags": []
   },
   "outputs": [
    {
     "data": {
      "text/plain": [
       "'projects/1026793852137/locations/us-central1/featureOnlineStores/featurestore/featureViews/bq_feature_view/featureViewSyncs/6391616346739703808'"
      ]
     },
     "execution_count": 61,
     "metadata": {},
     "output_type": "execute_result"
    }
   ],
   "source": [
    "bq_sync.feature_view_sync"
   ]
  },
  {
   "cell_type": "code",
   "execution_count": 62,
   "id": "dcd0d846-0adb-4f8c-96cb-175efcedbc71",
   "metadata": {
    "tags": []
   },
   "outputs": [
    {
     "name": "stdout",
     "output_type": "stream",
     "text": [
      "waiting for 20 seconds...\n",
      "Succeeded!\n"
     ]
    }
   ],
   "source": [
    "while True:\n",
    "    feature_view_sync = online_admin_client.get_feature_view_sync(name = bq_sync.feature_view_sync)\n",
    "    if feature_view_sync.run_time.end_time.seconds > 0:\n",
    "        status = feature_view_sync.final_status.code\n",
    "        break\n",
    "    else:\n",
    "        print('waiting for 20 seconds...')\n",
    "    time.sleep(20)\n",
    "    \n",
    "if status == 0: print('Succeeded!')\n",
    "else: print('Failed!')"
   ]
  },
  {
   "cell_type": "code",
   "execution_count": 63,
   "id": "aa5ae08c-25f7-4b1f-864c-e72eeb0e7a4e",
   "metadata": {
    "tags": []
   },
   "outputs": [
    {
     "data": {
      "text/plain": [
       "ListFeatureViewSyncsPager<feature_view_syncs {\n",
       "  name: \"projects/1026793852137/locations/us-central1/featureOnlineStores/featurestore/featureViews/bq_feature_view/featureViewSyncs/6391616346739703808\"\n",
       "  create_time {\n",
       "    seconds: 1714747496\n",
       "    nanos: 35863000\n",
       "  }\n",
       "  final_status {\n",
       "  }\n",
       "  run_time {\n",
       "    start_time {\n",
       "      seconds: 1714747496\n",
       "      nanos: 35863000\n",
       "    }\n",
       "    end_time {\n",
       "      seconds: 1714747513\n",
       "      nanos: 107672000\n",
       "    }\n",
       "  }\n",
       "}\n",
       "next_page_token: \"AMEw9yO283Mp2SOtVDL4xYuOxSVnHLrV72WKrr7UOSeI9AeuO9A7j5sOD3PJkxsW8vKzf_TD\"\n",
       ">"
      ]
     },
     "execution_count": 63,
     "metadata": {},
     "output_type": "execute_result"
    }
   ],
   "source": [
    "online_admin_client.list_feature_view_syncs(\n",
    "    request = dict(\n",
    "        parent = bq_view.name,\n",
    "        page_size = 1,\n",
    "        #filter = f'create_time > \"{(datetime.now() - timedelta(hours = 9)).strftime(\"%Y-%m-%dT%X\")}\"'\n",
    "    )\n",
    ")"
   ]
  },
  {
   "cell_type": "code",
   "execution_count": 64,
   "id": "07159154-bd6a-4ea6-a9e0-c2a270af9f8a",
   "metadata": {
    "tags": []
   },
   "outputs": [
    {
     "name": "stdout",
     "output_type": "stream",
     "text": [
      "Review in the console:\n",
      "\n",
      "https://console.cloud.google.com/vertex-ai/locations/us-central1/online-stores/featurestore/feature-views/bq_feature_view?project=statmike-mlops-349915\n"
     ]
    }
   ],
   "source": [
    "print(f'Review in the console:\\n\\nhttps://console.cloud.google.com/vertex-ai/locations/{REGION}/online-stores/featurestore/feature-views/{BQ_FEATURE_VIEW_NAME}?project={PROJECT_ID}')"
   ]
  },
  {
   "cell_type": "markdown",
   "id": "ec76560b-26b3-4634-b16f-769d7c1166c7",
   "metadata": {},
   "source": [
    "### Online Serving From Feature Views\n",
    "\n",
    "Request feature values for and entity from a feature view:\n",
    "    \n",
    "**References:**\n",
    "- [Serve feature values](https://cloud.google.com/vertex-ai/docs/featurestore/latest/serve-feature-values)"
   ]
  },
  {
   "cell_type": "code",
   "execution_count": 65,
   "id": "c043e804-f0c0-4a90-97f5-fdfc596e81f3",
   "metadata": {
    "tags": []
   },
   "outputs": [],
   "source": [
    "online_serve_client = aiplatform.gapic.FeatureOnlineStoreServiceClient(client_options = dict(api_endpoint = f'{REGION}-aiplatform.googleapis.com'))"
   ]
  },
  {
   "cell_type": "code",
   "execution_count": 66,
   "id": "3d581fe9-749f-4d1e-902e-746cb52b425a",
   "metadata": {
    "tags": []
   },
   "outputs": [
    {
     "data": {
      "text/plain": [
       "['9c23ed6c-805e-4c54-af95-dfb8cb34446a',\n",
       " 'f23f1435-eaf1-455c-9877-9e3b1db6473d',\n",
       " 'a147e336-81d1-47f2-87ef-206843430e00',\n",
       " '2a7353de-8003-48a5-8ddf-327b42a5731d',\n",
       " 'fd69d5aa-4c53-43a7-8ba9-32bbda68eab0',\n",
       " 'cec92e71-e96a-4b27-b88e-7a0f18c1eb18',\n",
       " '4a40f0d6-bad3-4097-a649-0c4ff0dec9af',\n",
       " '0d4fa1d8-7ca3-46b5-8761-3c1cca038c53',\n",
       " '59a9a10a-6129-4e5b-9b42-3525c9b034c7',\n",
       " 'ddfa46db-ead1-484f-975c-f7f2d065ee04']"
      ]
     },
     "execution_count": 66,
     "metadata": {},
     "output_type": "execute_result"
    }
   ],
   "source": [
    "transaction_ids"
   ]
  },
  {
   "cell_type": "markdown",
   "id": "f71b7c2e-1c75-4503-83cf-a3f7ab50574d",
   "metadata": {
    "tags": []
   },
   "source": [
    "Retreive From the Feature View of BigQuery Source:"
   ]
  },
  {
   "cell_type": "code",
   "execution_count": 67,
   "id": "97da9e4f-63b4-46e6-a15e-a94e93d5f084",
   "metadata": {
    "tags": []
   },
   "outputs": [
    {
     "data": {
      "text/plain": [
       "{'v10': 4.45301937539806,\n",
       " 'v8': 4.7830911937597005,\n",
       " 'v20': 1.68358290642766,\n",
       " 'v19': 0.0630377604111553,\n",
       " 'v21': 0.10041258604290401,\n",
       " 'v2': 7.353339232204321,\n",
       " 'v27': 1.24658886192516,\n",
       " 'v22': 0.520157914427551,\n",
       " 'v5': -3.1516806404773394,\n",
       " 'v28': 0.7198498053288,\n",
       " 'v14': 2.5793564460153,\n",
       " 'time': 146737.0,\n",
       " 'v25': 0.6680174270664859,\n",
       " 'v9': 2.52534292971131,\n",
       " 'v23': 0.5539240437368951,\n",
       " 'v16': 0.9461931007135649,\n",
       " 'v12': 1.25903164514966,\n",
       " 'v18': 1.24873292729528,\n",
       " 'v24': -1.5514466625571,\n",
       " 'v7': -3.17661397093912,\n",
       " 'v13': -0.762206789397063,\n",
       " 'amount': 0.89,\n",
       " 'v11': -1.7256458326016102,\n",
       " 'v1': -8.313253421276519,\n",
       " 'v6': -1.03646837237838,\n",
       " 'v26': -0.0474515210303145,\n",
       " 'v3': -6.78484804124268,\n",
       " 'v17': 0.48182101171999103,\n",
       " 'v4': -1.64725680373494,\n",
       " 'v15': -0.0140659364965795}"
      ]
     },
     "execution_count": 67,
     "metadata": {},
     "output_type": "execute_result"
    }
   ],
   "source": [
    "dict(\n",
    "    online_serve_client.fetch_feature_values(\n",
    "        request = aiplatform.gapic.FetchFeatureValuesRequest(\n",
    "            feature_view = bq_view.name,\n",
    "            data_key = aiplatform.gapic.FeatureViewDataKey(key = transaction_ids[0]),\n",
    "            data_format = aiplatform.gapic.FeatureViewDataFormat.PROTO_STRUCT # KEY_VALUE, PROTO_STRUCT\n",
    "        )\n",
    "    ).proto_struct\n",
    ")"
   ]
  },
  {
   "cell_type": "markdown",
   "id": "ac522fa1-2727-4ac0-b832-eaa3dff5e88b",
   "metadata": {
    "tags": []
   },
   "source": [
    "Retreive From the Feature View of Feature Registry Source:"
   ]
  },
  {
   "cell_type": "code",
   "execution_count": 71,
   "id": "4fddb7b6-43c0-4997-83ab-9e85fe84467a",
   "metadata": {
    "tags": []
   },
   "outputs": [
    {
     "data": {
      "text/plain": [
       "{'v14': 2.5793564460153,\n",
       " 'v17': 0.48182101171999103,\n",
       " 'feature_timestamp': 1714745414581292.0,\n",
       " 'v23': 0.5539240437368951,\n",
       " 'v15': -0.0140659364965795,\n",
       " 'v21': 0.10041258604290401,\n",
       " 'v18': 1.24873292729528,\n",
       " 'v27': 1.24658886192516,\n",
       " 'v8': 4.7830911937597005,\n",
       " 'v13': -0.762206789397063,\n",
       " 'v19': 0.0630377604111553,\n",
       " 'v4': -1.64725680373494,\n",
       " 'v16': 0.9461931007135649,\n",
       " 'amount': 0.89,\n",
       " 'v6': -1.03646837237838,\n",
       " 'v28': 0.7198498053288,\n",
       " 'v9': 2.52534292971131,\n",
       " 'v2': 7.353339232204321,\n",
       " 'v3': -6.78484804124268,\n",
       " 'v1': -8.313253421276519,\n",
       " 'v24': -1.5514466625571,\n",
       " 'v12': 1.25903164514966,\n",
       " 'v25': 0.6680174270664859,\n",
       " 'v20': 1.68358290642766,\n",
       " 'v5': -3.1516806404773394,\n",
       " 'v7': -3.17661397093912,\n",
       " 'v11': -1.7256458326016102,\n",
       " 'v10': 4.45301937539806,\n",
       " 'time': 146737.0,\n",
       " 'v22': 0.520157914427551,\n",
       " 'v26': -0.0474515210303145}"
      ]
     },
     "execution_count": 71,
     "metadata": {},
     "output_type": "execute_result"
    }
   ],
   "source": [
    "dict(\n",
    "    online_serve_client.fetch_feature_values(\n",
    "        request = aiplatform.gapic.FetchFeatureValuesRequest(\n",
    "            feature_view = registry_view.name,\n",
    "            data_key = aiplatform.gapic.FeatureViewDataKey(key = transaction_ids[0]),\n",
    "            data_format = aiplatform.gapic.FeatureViewDataFormat.PROTO_STRUCT # KEY_VALUE, PROTO_STRUCT\n",
    "        )\n",
    "    ).proto_struct\n",
    ")"
   ]
  },
  {
   "cell_type": "markdown",
   "id": "26f6d6a9-32bd-401a-9c0f-496b12bd140d",
   "metadata": {},
   "source": [
    "---\n",
    "## Model Inference: Serving Using Feature Store\n",
    "\n",
    "In [this repository](https://github.com/statmike/vertex-ai-mlops), there are many notebook workflows that build models with the data source used for feature store here.  The notebook workflows in the [05 - Tensorflow](../../05%20-%20TensorFlow/readme.md) folder all update the same endpoint.  If any of the notebook have been run then there will be an endpoint with model deployed to it.  This is used below to serve prediction using feature store as the source for instances.\n",
    "\n",
    "There are many ways to request online prediction from and endpoint and they are covered in [05Tools - Prediction - Online](../../05%20-%20TensorFlow/05Tools%20-%20Prediction%20-%20Online.ipynb).\n"
   ]
  },
  {
   "cell_type": "markdown",
   "id": "0eb94b90-7cc9-47eb-a68d-314a6db1aa9b",
   "metadata": {},
   "source": [
    "### Get Endpoint\n",
    "\n",
    "[Endpoint Properties and Methods](https://cloud.google.com/python/docs/reference/aiplatform/latest/google.cloud.aiplatform.Endpoint):\n",
    "\n",
    "```python\n",
    "endpoint\n",
    "endpoint.display_name\n",
    "endpoint.resource_name\n",
    "endpoint.traffic_split\n",
    "endpoint.list_models()\n",
    "```"
   ]
  },
  {
   "cell_type": "code",
   "execution_count": 72,
   "id": "1ea9519a-0dee-4cf4-a767-f1dd23f61b50",
   "metadata": {
    "tags": []
   },
   "outputs": [
    {
     "name": "stdout",
     "output_type": "stream",
     "text": [
      "Endpoint Exists: projects/1026793852137/locations/us-central1/endpoints/725723853820526592\n"
     ]
    }
   ],
   "source": [
    "endpoints = aiplatform.Endpoint.list(filter = f\"labels.series=05 AND display_name=05\")\n",
    "if endpoints:\n",
    "    endpoint = endpoints[0]\n",
    "    print(f\"Endpoint Exists: {endpoints[0].resource_name}\")\n",
    "else:\n",
    "    print(f\"There does not appear to be an endpoint for SERIES = 05\")"
   ]
  },
  {
   "cell_type": "code",
   "execution_count": 73,
   "id": "fea66aa0-c4f3-4526-968a-10376f95ac09",
   "metadata": {
    "tags": []
   },
   "outputs": [
    {
     "data": {
      "text/plain": [
       "'05'"
      ]
     },
     "execution_count": 73,
     "metadata": {},
     "output_type": "execute_result"
    }
   ],
   "source": [
    "endpoint.display_name"
   ]
  },
  {
   "cell_type": "code",
   "execution_count": 74,
   "id": "dad5ad08-fa09-4669-b3b6-c7f5fcc6ca56",
   "metadata": {
    "tags": []
   },
   "outputs": [
    {
     "name": "stdout",
     "output_type": "stream",
     "text": [
      "Review the Endpoint in the Console:\n",
      "\n",
      "https://console.cloud.google.com/vertex-ai/locations/us-central1/endpoints/725723853820526592?project=statmike-mlops-349915\n"
     ]
    }
   ],
   "source": [
    "print(f'Review the Endpoint in the Console:\\n\\nhttps://console.cloud.google.com/vertex-ai/locations/{REGION}/endpoints/{endpoint.name}?project={PROJECT_ID}')"
   ]
  },
  {
   "cell_type": "code",
   "execution_count": 75,
   "id": "a9f9acb1-7d61-4dea-a29d-5916dc693279",
   "metadata": {
    "tags": []
   },
   "outputs": [
    {
     "data": {
      "text/plain": [
       "{'2423682068408958976': 100}"
      ]
     },
     "execution_count": 75,
     "metadata": {},
     "output_type": "execute_result"
    }
   ],
   "source": [
    "endpoint.traffic_split"
   ]
  },
  {
   "cell_type": "code",
   "execution_count": 76,
   "id": "3162d688-e573-410a-b2c3-8f9cfef560b6",
   "metadata": {
    "tags": []
   },
   "outputs": [
    {
     "data": {
      "text/plain": [
       "id: \"2423682068408958976\"\n",
       "model: \"projects/1026793852137/locations/us-central1/models/model_05_05\"\n",
       "display_name: \"05_05\"\n",
       "create_time {\n",
       "  seconds: 1703181253\n",
       "  nanos: 58849000\n",
       "}\n",
       "dedicated_resources {\n",
       "  machine_spec {\n",
       "    machine_type: \"n1-standard-4\"\n",
       "  }\n",
       "  min_replica_count: 1\n",
       "  max_replica_count: 1\n",
       "}\n",
       "model_version_id: \"18\""
      ]
     },
     "execution_count": 76,
     "metadata": {},
     "output_type": "execute_result"
    }
   ],
   "source": [
    "endpoint.list_models()[0]"
   ]
  },
  {
   "cell_type": "markdown",
   "id": "e9dbacc8-e8bb-45c2-a142-69a3373e0e64",
   "metadata": {},
   "source": [
    "---\n",
    "### Get Predictions: Python Client\n",
    "\n",
    "[aiplatform.Endpoint.predict()](https://cloud.google.com/python/docs/reference/aiplatform/latest/google.cloud.aiplatform.Endpoint#google_cloud_aiplatform_Endpoint_predict)"
   ]
  },
  {
   "cell_type": "code",
   "execution_count": 77,
   "id": "0d78463e-fd33-4fed-b40a-30171e71cf11",
   "metadata": {
    "tags": []
   },
   "outputs": [],
   "source": [
    "instance = dict(\n",
    "    online_serve_client.fetch_feature_values(\n",
    "        request = aiplatform.gapic.FetchFeatureValuesRequest(\n",
    "            feature_view = registry_view.name,\n",
    "            data_key = aiplatform.gapic.FeatureViewDataKey(key = transaction_ids[0]),\n",
    "            data_format = aiplatform.gapic.FeatureViewDataFormat.PROTO_STRUCT # KEY_VALUE, PROTO_STRUCT\n",
    "        )\n",
    "    ).proto_struct\n",
    ")"
   ]
  },
  {
   "cell_type": "code",
   "execution_count": 78,
   "id": "3aeb82ed-c383-4a73-b2e2-f0c4847880f5",
   "metadata": {
    "tags": []
   },
   "outputs": [
    {
     "data": {
      "text/plain": [
       "{'V24': [-1.5514466625571],\n",
       " 'V9': [2.52534292971131],\n",
       " 'V16': [0.9461931007135649],\n",
       " 'V6': [-1.03646837237838],\n",
       " 'V22': [0.520157914427551],\n",
       " 'V19': [0.0630377604111553],\n",
       " 'V8': [4.7830911937597005],\n",
       " 'V20': [1.68358290642766],\n",
       " 'V7': [-3.17661397093912],\n",
       " 'V23': [0.5539240437368951],\n",
       " 'V2': [7.353339232204321],\n",
       " 'V14': [2.5793564460153],\n",
       " 'V5': [-3.1516806404773394],\n",
       " 'V18': [1.24873292729528],\n",
       " 'V25': [0.6680174270664859],\n",
       " 'V10': [4.45301937539806],\n",
       " 'V1': [-8.313253421276519],\n",
       " 'V13': [-0.762206789397063],\n",
       " 'V21': [0.10041258604290401],\n",
       " 'V3': [-6.78484804124268],\n",
       " 'V12': [1.25903164514966],\n",
       " 'V17': [0.48182101171999103],\n",
       " 'V28': [0.7198498053288],\n",
       " 'V4': [-1.64725680373494],\n",
       " 'Amount': [0.89],\n",
       " 'V26': [-0.0474515210303145],\n",
       " 'V11': [-1.7256458326016102],\n",
       " 'V15': [-0.0140659364965795],\n",
       " 'Time': [146737.0],\n",
       " 'V27': [1.24658886192516]}"
      ]
     },
     "execution_count": 78,
     "metadata": {},
     "output_type": "execute_result"
    }
   ],
   "source": [
    "instance = {key.capitalize():[val] for key, val in instance.items() if key not in ['feature_timestamp']}\n",
    "instance"
   ]
  },
  {
   "cell_type": "code",
   "execution_count": 79,
   "id": "41c93b47-fa7e-44a0-929a-4bb1b7482446",
   "metadata": {
    "tags": []
   },
   "outputs": [
    {
     "data": {
      "text/plain": [
       "Prediction(predictions=[[0.999925256, 7.47486483e-05]], deployed_model_id='2423682068408958976', metadata=None, model_version_id='18', model_resource_name='projects/1026793852137/locations/us-central1/models/model_05_05', explanations=None)"
      ]
     },
     "execution_count": 79,
     "metadata": {},
     "output_type": "execute_result"
    }
   ],
   "source": [
    "prediction = endpoint.predict(instances = [instance])\n",
    "prediction"
   ]
  },
  {
   "cell_type": "code",
   "execution_count": 80,
   "id": "807e6d28-193c-438e-ad11-cace612ab662",
   "metadata": {
    "tags": []
   },
   "outputs": [
    {
     "data": {
      "text/plain": [
       "[0.999925256, 7.47486483e-05]"
      ]
     },
     "execution_count": 80,
     "metadata": {},
     "output_type": "execute_result"
    }
   ],
   "source": [
    "prediction.predictions[0]"
   ]
  },
  {
   "cell_type": "code",
   "execution_count": 81,
   "id": "7c8b4451-4173-4851-9da9-ef579b77266d",
   "metadata": {
    "tags": []
   },
   "outputs": [
    {
     "data": {
      "text/plain": [
       "0"
      ]
     },
     "execution_count": 81,
     "metadata": {},
     "output_type": "execute_result"
    }
   ],
   "source": [
    "np.argmax(prediction.predictions[0])"
   ]
  },
  {
   "cell_type": "markdown",
   "id": "f91302d9-a95c-4b2e-b018-e2904e84bb70",
   "metadata": {},
   "source": [
    "---\n",
    "## Feature Store: Serving Features at Scale\n",
    "\n",
    "What happens when there are multiple request for features?  All at the same time?  This section show ways of interacting with feature store concurrent and asynchronously, to retriece features for many entities."
   ]
  },
  {
   "cell_type": "markdown",
   "id": "61a3e5c2-92fd-45b6-90d7-9ddb20ad1008",
   "metadata": {},
   "source": [
    "### Get a list of entities"
   ]
  },
  {
   "cell_type": "code",
   "execution_count": 82,
   "id": "cb5be912-597f-4def-88da-78d490c0d1bf",
   "metadata": {
    "tags": []
   },
   "outputs": [
    {
     "data": {
      "text/html": [
       "Query job badff957-bc29-43f7-a07a-34725136a36e is DONE. 79.2 MB processed. <a target=\"_blank\" href=\"https://console.cloud.google.com/bigquery?project=statmike-mlops-349915&j=bq:us-central1:badff957-bc29-43f7-a07a-34725136a36e&page=queryresults\">Open Job</a>"
      ],
      "text/plain": [
       "<IPython.core.display.HTML object>"
      ]
     },
     "metadata": {},
     "output_type": "display_data"
    }
   ],
   "source": [
    "entities = source_latest['transaction_id'].head(1000).tolist()"
   ]
  },
  {
   "cell_type": "code",
   "execution_count": 83,
   "id": "abe03196-5c56-4e31-87c7-3a9e1a5c54ee",
   "metadata": {
    "tags": []
   },
   "outputs": [
    {
     "data": {
      "text/plain": [
       "(1000,\n",
       " ['2d028def-4e4a-4505-b2a1-b41716b1e5fc',\n",
       "  '29fb1a48-3b77-44f5-87e5-eb7508cf9432',\n",
       "  'a6058d9b-afbf-4bb1-8d58-15a7acc45c1b',\n",
       "  '5665d803-249c-4fbd-b9e7-31e345dc6c55',\n",
       "  '63d89996-f0d1-4c81-adf3-9ab056177213'])"
      ]
     },
     "execution_count": 83,
     "metadata": {},
     "output_type": "execute_result"
    }
   ],
   "source": [
    "len(entities), entities[0:5]"
   ]
  },
  {
   "cell_type": "markdown",
   "id": "80e42c4c-289f-43a7-9d4a-fb7714862faf",
   "metadata": {},
   "source": [
    "### Make Single Request: Synchronous"
   ]
  },
  {
   "cell_type": "code",
   "execution_count": 84,
   "id": "75e79a0e-6743-47fb-ba18-aebb1ae581d2",
   "metadata": {
    "tags": []
   },
   "outputs": [],
   "source": [
    "online_serve_client = aiplatform.gapic.FeatureOnlineStoreServiceClient(client_options = dict(api_endpoint = f'{REGION}-aiplatform.googleapis.com'))"
   ]
  },
  {
   "cell_type": "code",
   "execution_count": 86,
   "id": "687b623a-ce4f-4039-9b03-50ef28d660e8",
   "metadata": {
    "tags": []
   },
   "outputs": [
    {
     "name": "stdout",
     "output_type": "stream",
     "text": [
      "Latency (Client > FS > Client > Deserialize):  25.02 ms\n"
     ]
    }
   ],
   "source": [
    "start_time = time.perf_counter()\n",
    "features = dict(\n",
    "    online_serve_client.fetch_feature_values(\n",
    "        request = aiplatform.gapic.FetchFeatureValuesRequest(\n",
    "            feature_view = bq_view.name,\n",
    "            data_key = aiplatform.gapic.FeatureViewDataKey(key = entities[0]),\n",
    "            data_format = aiplatform.gapic.FeatureViewDataFormat.PROTO_STRUCT # KEY_VALUE, PROTO_STRUCT\n",
    "        )\n",
    "    ).proto_struct\n",
    ")\n",
    "elapsed_time = 1000 * (time.perf_counter() - start_time)\n",
    "print(f'Latency (Client > FS > Client > Deserialize):  {elapsed_time:.2f} ms')"
   ]
  },
  {
   "cell_type": "markdown",
   "id": "4a784642-a83f-4f58-8490-68b075b57b51",
   "metadata": {},
   "source": [
    "### Make Single Request: Asynchronous\n",
    "\n",
    "If we make a request with the async client the response is a [coroutine](https://docs.python.org/3/glossary.html#term-coroutine) object.  This means the method is already implemented with an `async def` statement which makes it [awaitable](https://docs.python.org/3/library/asyncio-task.html#awaitables)."
   ]
  },
  {
   "cell_type": "code",
   "execution_count": 87,
   "id": "1c31cb84-3f6c-44a1-893f-e7f2bb100c36",
   "metadata": {
    "tags": []
   },
   "outputs": [],
   "source": [
    "online_serve_async_client = aiplatform.gapic.FeatureOnlineStoreServiceAsyncClient(client_options = dict(api_endpoint = f'{REGION}-aiplatform.googleapis.com'))"
   ]
  },
  {
   "cell_type": "code",
   "execution_count": 88,
   "id": "0343493d-f79c-4a29-9cc7-3103bd5054ab",
   "metadata": {
    "tags": []
   },
   "outputs": [
    {
     "name": "stdout",
     "output_type": "stream",
     "text": [
      "Latency (Client > FS > Client > Deserialize):  27.51 ms\n"
     ]
    }
   ],
   "source": [
    "start_time = time.perf_counter()\n",
    "features = dict(\n",
    "    (await online_serve_async_client.fetch_feature_values(\n",
    "        request = aiplatform.gapic.FetchFeatureValuesRequest(\n",
    "            feature_view = bq_view.name,\n",
    "            data_key = aiplatform.gapic.FeatureViewDataKey(key = entities[0]),\n",
    "            data_format = aiplatform.gapic.FeatureViewDataFormat.PROTO_STRUCT # KEY_VALUE, PROTO_STRUCT\n",
    "        )\n",
    "    )).proto_struct\n",
    ")\n",
    "elapsed_time = 1000 * (time.perf_counter() - start_time)\n",
    "print(f'Latency (Client > FS > Client > Deserialize):  {elapsed_time:.2f} ms')"
   ]
  },
  {
   "cell_type": "code",
   "execution_count": 89,
   "id": "289b4f18-2f4b-45e8-800d-2e1e33cc304b",
   "metadata": {
    "tags": []
   },
   "outputs": [
    {
     "data": {
      "text/plain": [
       "{'v20': -0.865733249267083,\n",
       " 'v8': -0.8599618474835101,\n",
       " 'v28': -0.00176685300144425,\n",
       " 'v26': 0.915580653354396,\n",
       " 'v7': 1.975873869957,\n",
       " 'v17': -0.905905597649433,\n",
       " 'v16': -1.39289805112596,\n",
       " 'v27': -0.611555376987556,\n",
       " 'v5': 0.630997374296391,\n",
       " 'amount': 211.97,\n",
       " 'v13': -0.256824962379698,\n",
       " 'v1': -2.09777300837294,\n",
       " 'v2': -0.990693629523365,\n",
       " 'v21': -0.6536185484661489,\n",
       " 'v11': 0.37705912648027895,\n",
       " 'time': 146976.0,\n",
       " 'v3': 0.0107141546786369,\n",
       " 'v12': -0.405290048206578,\n",
       " 'v22': -0.41126451019945004,\n",
       " 'v10': 0.6934577415814771,\n",
       " 'v24': 0.243862980702728,\n",
       " 'v23': -0.0101119225335565,\n",
       " 'v4': -2.86603740105142,\n",
       " 'v18': 1.4337315279358998,\n",
       " 'v6': -0.153175276183871,\n",
       " 'v14': -0.266279146513299,\n",
       " 'v25': 1.03064583285185,\n",
       " 'v15': -0.654517779536198,\n",
       " 'v9': -0.850826520329798,\n",
       " 'v19': -0.350815933927949}"
      ]
     },
     "execution_count": 89,
     "metadata": {},
     "output_type": "execute_result"
    }
   ],
   "source": [
    "features"
   ]
  },
  {
   "cell_type": "markdown",
   "id": "6524ec1e-35d8-417a-9e4e-b9d801953929",
   "metadata": {},
   "source": [
    "### Make 1000 Request: Seqentially\n",
    "\n",
    "This is just iterating through the request one at a time and not proceeding until after each is completed."
   ]
  },
  {
   "cell_type": "code",
   "execution_count": 90,
   "id": "1b4ae361-0ccb-44b2-b73a-92ae13440235",
   "metadata": {
    "tags": []
   },
   "outputs": [],
   "source": [
    "LOOP_TIMES = []\n",
    "\n",
    "for entity in entities:\n",
    "    start_time = time.perf_counter()\n",
    "    features = dict(\n",
    "        online_serve_client.fetch_feature_values(\n",
    "            request = aiplatform.gapic.FetchFeatureValuesRequest(\n",
    "                feature_view = bq_view.name,\n",
    "                data_key = aiplatform.gapic.FeatureViewDataKey(key = entity),\n",
    "                data_format = aiplatform.gapic.FeatureViewDataFormat.PROTO_STRUCT # KEY_VALUE, PROTO_STRUCT\n",
    "            )\n",
    "        ).proto_struct\n",
    "    )\n",
    "    LOOP_TIMES.append(1000 * (time.perf_counter() - start_time))"
   ]
  },
  {
   "cell_type": "code",
   "execution_count": 91,
   "id": "465163ef-f700-48ba-b8e4-c8f9127790a4",
   "metadata": {
    "tags": []
   },
   "outputs": [
    {
     "name": "stdout",
     "output_type": "stream",
     "text": [
      "Total time for all requests: 12512.93 ms\n"
     ]
    }
   ],
   "source": [
    "print(f'Total time for all requests: {np.sum(LOOP_TIMES):.2f} ms')"
   ]
  },
  {
   "cell_type": "code",
   "execution_count": 92,
   "id": "9c7866e8-8345-4ec7-aab6-1af49a119469",
   "metadata": {
    "tags": []
   },
   "outputs": [
    {
     "name": "stdout",
     "output_type": "stream",
     "text": [
      "Average time per requests: 12.51 ms\n"
     ]
    }
   ],
   "source": [
    "print(f'Average time per requests: {np.mean(LOOP_TIMES):.2f} ms')"
   ]
  },
  {
   "cell_type": "code",
   "execution_count": 93,
   "id": "5086c469-8274-4db5-92b2-de761c8c5523",
   "metadata": {
    "tags": []
   },
   "outputs": [
    {
     "name": "stdout",
     "output_type": "stream",
     "text": [
      "Range of times across all requests: 8.15 ms to 79.59 ms\n"
     ]
    }
   ],
   "source": [
    "print(f'Range of times across all requests: {np.min(LOOP_TIMES):.2f} ms to {np.max(LOOP_TIMES):.2f} ms')"
   ]
  },
  {
   "cell_type": "code",
   "execution_count": 94,
   "id": "bbf3930d-aa63-4f65-ab29-dcc70c323ed6",
   "metadata": {
    "tags": []
   },
   "outputs": [
    {
     "name": "stdout",
     "output_type": "stream",
     "text": [
      "The 99th percentile of the requests: 21.86 ms\n"
     ]
    }
   ],
   "source": [
    "print(f'The 99th percentile of the requests: {np.percentile(LOOP_TIMES, 99):.2f} ms')"
   ]
  },
  {
   "cell_type": "markdown",
   "id": "6851809d-97b4-4b90-852c-019c973bb965",
   "metadata": {},
   "source": [
    "### Make 1000 Request: Asynchronously\n",
    "\n",
    "This is an all-at-once approach.  It might return errors for service unavailable (\"503\") but can be retried and will be successful.  See below for methods with error handling and retries.\n",
    "\n",
    "Accomplish all-at-once by grouping the coroutines together using [asyncio.gather()](https://docs.python.org/3/library/asyncio-task.html#running-tasks-concurrently):"
   ]
  },
  {
   "cell_type": "code",
   "execution_count": 95,
   "id": "dc3ec553-7a27-4369-953f-dc3380c6c954",
   "metadata": {
    "tags": []
   },
   "outputs": [
    {
     "name": "stdout",
     "output_type": "stream",
     "text": [
      "Successful!\n"
     ]
    }
   ],
   "source": [
    "try:\n",
    "    start_time = time.perf_counter()\n",
    "    features = await asyncio.gather(*[\n",
    "        online_serve_async_client.fetch_feature_values(\n",
    "            request = aiplatform.gapic.FetchFeatureValuesRequest(\n",
    "                feature_view = bq_view.name,\n",
    "                data_key = aiplatform.gapic.FeatureViewDataKey(key = entity),\n",
    "                data_format = aiplatform.gapic.FeatureViewDataFormat.PROTO_STRUCT # KEY_VALUE, PROTO_STRUCT\n",
    "            )\n",
    "        ) for entity in entities\n",
    "    ])\n",
    "    elapsed_time = 1000 * (time.perf_counter() - start_time)\n",
    "    print('Successful!')\n",
    "except Exception as err:\n",
    "    print(f\"{type(err).__name__} was raised: {err}\", \"\\n...Try again\")"
   ]
  },
  {
   "cell_type": "code",
   "execution_count": 96,
   "id": "ba8d4ef4-408a-4e99-9a61-2f0dd41df36a",
   "metadata": {
    "tags": []
   },
   "outputs": [
    {
     "name": "stdout",
     "output_type": "stream",
     "text": [
      "Total time for all requests: 750.27 ms\n"
     ]
    }
   ],
   "source": [
    "print(f'Total time for all requests: {elapsed_time:.2f} ms')"
   ]
  },
  {
   "cell_type": "code",
   "execution_count": 97,
   "id": "6afb7b45-bb49-426d-8f1d-e67b6c69768c",
   "metadata": {
    "tags": []
   },
   "outputs": [
    {
     "name": "stdout",
     "output_type": "stream",
     "text": [
      "Averge time per request: 0.75 ms\n"
     ]
    }
   ],
   "source": [
    "print(f'Averge time per request: {(elapsed_time/len(features)):.2f} ms')"
   ]
  },
  {
   "cell_type": "markdown",
   "id": "6f9a185c-e926-447d-babb-20fcb797f429",
   "metadata": {},
   "source": [
    "### Managed Concurrency: constant load of set size\n",
    "\n",
    "In some cases, doing all the tasks concurrently can work. Usually, there are limitations though. Waiting on a API to respond does not put a burden on the local compute so managing lots of requests may not be an issue on the client side.  It can still be helpful to limits to concurrency for managing the requests.  A first step to limiting concurrency is using a tool like [asyncio.Semaphore](https://docs.python.org/3/library/asyncio-sync.html#semaphore) to managed a counter of current concurrent requests.\n",
    "\n",
    "The following builds a function that manages the full list of request and uses a semaphore to control the concurrency.  Think of this as the concurrency buffer limit."
   ]
  },
  {
   "cell_type": "code",
   "execution_count": 98,
   "id": "4bffa90e-da88-44eb-8578-9600c593a072",
   "metadata": {
    "tags": []
   },
   "outputs": [],
   "source": [
    "async def fs_load(instances, limit_concur_requests = 10):\n",
    "    limit = asyncio.Semaphore(limit_concur_requests)\n",
    "    results = [None] * len(instances)\n",
    "    \n",
    "    # make requests\n",
    "    async def make_request(p):\n",
    "        async with limit:\n",
    "            if limit.locked():\n",
    "                await asyncio.sleep(.01)\n",
    "            ############## ERROR HANDLING ##############\n",
    "            fail_count = 0\n",
    "            start_time = time.perf_counter()\n",
    "            while fail_count <= 20:\n",
    "                try:\n",
    "                    features = dict(\n",
    "                        (await online_serve_async_client.fetch_feature_values(\n",
    "                            request = aiplatform.gapic.FetchFeatureValuesRequest(\n",
    "                                feature_view = bq_view.name,\n",
    "                                data_key = aiplatform.gapic.FeatureViewDataKey(key = instances[p]),\n",
    "                                data_format = aiplatform.gapic.FeatureViewDataFormat.PROTO_STRUCT # KEY_VALUE, PROTO_STRUCT\n",
    "                            )\n",
    "                        )).proto_struct\n",
    "                    )\n",
    "                    if fail_count > 0:\n",
    "                        print(f'Item {p} succeed after fail count = {fail_count}')\n",
    "                    break\n",
    "                except:\n",
    "                    fail_count += 1\n",
    "                    print(f'Item {p} failed: current fail count = {fail_count}')\n",
    "                    # add exponential backoff:\n",
    "                    #await asyncio.sleep(2^(min(fail_count, 6) - 1))\n",
    "            elapsed_time = 1000 * (time.perf_counter() - start_time)\n",
    "            ############################################\n",
    "        results[p] = (instances[p], features, elapsed_time, fail_count)\n",
    "        \n",
    "    # manage tasks\n",
    "    tasks = [asyncio.create_task(make_request(p)) for p in range(len(instances))]\n",
    "    responses = await asyncio.gather(*tasks)\n",
    "    \n",
    "    return results"
   ]
  },
  {
   "cell_type": "markdown",
   "id": "62646675-a4aa-4866-8a27-48d4b9a77590",
   "metadata": {},
   "source": [
    "#### Constant Load: 10 request, for 1000 requests"
   ]
  },
  {
   "cell_type": "code",
   "execution_count": 99,
   "id": "a14e966e-fed8-4604-94a8-f60cf57541f9",
   "metadata": {
    "tags": []
   },
   "outputs": [],
   "source": [
    "constant_load = 10\n",
    "\n",
    "start_time = time.perf_counter()\n",
    "features = await fs_load(entities, limit_concur_requests = constant_load)\n",
    "elapsed_time = 1000 * (time.perf_counter() - start_time)"
   ]
  },
  {
   "cell_type": "code",
   "execution_count": 100,
   "id": "aeb2e627-9c2c-49ad-b0d2-fe2f640e48d2",
   "metadata": {
    "tags": []
   },
   "outputs": [
    {
     "name": "stdout",
     "output_type": "stream",
     "text": [
      "Total time for all requests: 2124.09 ms\n"
     ]
    }
   ],
   "source": [
    "print(f'Total time for all requests: {elapsed_time:.2f} ms')"
   ]
  },
  {
   "cell_type": "code",
   "execution_count": 101,
   "id": "2fe30d91-4d65-44bd-9f27-5b5899f4b68c",
   "metadata": {
    "tags": []
   },
   "outputs": [
    {
     "name": "stdout",
     "output_type": "stream",
     "text": [
      "Averge time per request: 2.12 ms\n"
     ]
    }
   ],
   "source": [
    "print(f'Averge time per request: {(elapsed_time/len(entities)):.2f} ms')"
   ]
  },
  {
   "cell_type": "code",
   "execution_count": 102,
   "id": "2d315d22-fbb7-4467-a760-3ea62f3a1588",
   "metadata": {
    "tags": []
   },
   "outputs": [],
   "source": [
    "timings = [feature[2] for feature in features]"
   ]
  },
  {
   "cell_type": "code",
   "execution_count": 103,
   "id": "62cd0a3a-e6bf-4cdd-9d3b-09c6f20f4c7b",
   "metadata": {
    "tags": []
   },
   "outputs": [
    {
     "name": "stdout",
     "output_type": "stream",
     "text": [
      "Average time per requests: 10.01 ms\n"
     ]
    }
   ],
   "source": [
    "print(f'Average time per requests: {np.mean(timings):.2f} ms')"
   ]
  },
  {
   "cell_type": "code",
   "execution_count": 104,
   "id": "11ce9d58-fec7-4219-be6c-46eee65a2887",
   "metadata": {
    "tags": []
   },
   "outputs": [
    {
     "name": "stdout",
     "output_type": "stream",
     "text": [
      "Range of times across all requests: 4.69 ms to 46.40 ms\n"
     ]
    }
   ],
   "source": [
    "print(f'Range of times across all requests: {np.min(timings):.2f} ms to {np.max(timings):.2f} ms')"
   ]
  },
  {
   "cell_type": "code",
   "execution_count": 105,
   "id": "0c745900-24f9-4c5d-ba78-5b94227fdff4",
   "metadata": {
    "tags": []
   },
   "outputs": [
    {
     "name": "stdout",
     "output_type": "stream",
     "text": [
      "The 99th percentile of the requests: 17.99 ms\n"
     ]
    }
   ],
   "source": [
    "print(f'The 99th percentile of the requests: {np.percentile(timings, 99):.2f} ms')"
   ]
  },
  {
   "cell_type": "markdown",
   "id": "35a6581b-6bfa-4174-a307-ff4259a60b7e",
   "metadata": {},
   "source": [
    "#### Constant Load: 20 request, for 1000 requests"
   ]
  },
  {
   "cell_type": "code",
   "execution_count": 106,
   "id": "ff8e1fa9-8ec2-4bbc-8b0f-9164f86d5c71",
   "metadata": {
    "tags": []
   },
   "outputs": [],
   "source": [
    "constant_load = 20\n",
    "\n",
    "start_time = time.perf_counter()\n",
    "features = await fs_load(entities, limit_concur_requests = constant_load)\n",
    "elapsed_time = 1000 * (time.perf_counter() - start_time)"
   ]
  },
  {
   "cell_type": "code",
   "execution_count": 107,
   "id": "302c6621-2469-4f5f-abab-667eecfa3fb3",
   "metadata": {
    "tags": []
   },
   "outputs": [
    {
     "name": "stdout",
     "output_type": "stream",
     "text": [
      "Total time for all requests: 1508.66 ms\n"
     ]
    }
   ],
   "source": [
    "print(f'Total time for all requests: {elapsed_time:.2f} ms')"
   ]
  },
  {
   "cell_type": "code",
   "execution_count": 108,
   "id": "04d5e625-3c94-4123-aaa4-03e4f90e5591",
   "metadata": {
    "tags": []
   },
   "outputs": [
    {
     "name": "stdout",
     "output_type": "stream",
     "text": [
      "Averge time per request: 1.51 ms\n"
     ]
    }
   ],
   "source": [
    "print(f'Averge time per request: {(elapsed_time/len(entities)):.2f} ms')"
   ]
  },
  {
   "cell_type": "code",
   "execution_count": 109,
   "id": "8fb521ea-3c4d-4bb1-8c23-587654c890e4",
   "metadata": {
    "tags": []
   },
   "outputs": [],
   "source": [
    "timings = [feature[2] for feature in features]"
   ]
  },
  {
   "cell_type": "code",
   "execution_count": 110,
   "id": "3ad97a55-92d9-4ea1-92b1-b10942cd494e",
   "metadata": {
    "tags": []
   },
   "outputs": [
    {
     "name": "stdout",
     "output_type": "stream",
     "text": [
      "Average time per requests: 13.14 ms\n"
     ]
    }
   ],
   "source": [
    "print(f'Average time per requests: {np.mean(timings):.2f} ms')"
   ]
  },
  {
   "cell_type": "code",
   "execution_count": 111,
   "id": "a658c7e3-6e43-4d19-83fb-6c00c682dfdc",
   "metadata": {
    "tags": []
   },
   "outputs": [
    {
     "name": "stdout",
     "output_type": "stream",
     "text": [
      "Range of times across all requests: 7.70 ms to 121.98 ms\n"
     ]
    }
   ],
   "source": [
    "print(f'Range of times across all requests: {np.min(timings):.2f} ms to {np.max(timings):.2f} ms')"
   ]
  },
  {
   "cell_type": "code",
   "execution_count": 112,
   "id": "bd721d73-ed68-44a4-b62f-84442157f2d3",
   "metadata": {
    "tags": []
   },
   "outputs": [
    {
     "name": "stdout",
     "output_type": "stream",
     "text": [
      "The 99th percentile of the requests: 57.68 ms\n"
     ]
    }
   ],
   "source": [
    "print(f'The 99th percentile of the requests: {np.percentile(timings, 99):.2f} ms')"
   ]
  },
  {
   "cell_type": "markdown",
   "id": "4222067f-06af-470c-a5d1-f9e13a56f36e",
   "metadata": {},
   "source": [
    "#### Constant Load: 50 request, for 1000 requests"
   ]
  },
  {
   "cell_type": "code",
   "execution_count": 113,
   "id": "35fefbb3-0abb-486f-87e5-9d7ff2f846c6",
   "metadata": {
    "tags": []
   },
   "outputs": [],
   "source": [
    "constant_load = 50\n",
    "\n",
    "start_time = time.perf_counter()\n",
    "features = await fs_load(entities, limit_concur_requests = constant_load)\n",
    "elapsed_time = 1000 * (time.perf_counter() - start_time)"
   ]
  },
  {
   "cell_type": "code",
   "execution_count": 114,
   "id": "8dc20eb6-a26a-492f-b651-75f6023d21ae",
   "metadata": {
    "tags": []
   },
   "outputs": [
    {
     "name": "stdout",
     "output_type": "stream",
     "text": [
      "Total time for all requests: 1021.49 ms\n"
     ]
    }
   ],
   "source": [
    "print(f'Total time for all requests: {elapsed_time:.2f} ms')"
   ]
  },
  {
   "cell_type": "code",
   "execution_count": 115,
   "id": "2d294bb1-5282-4764-b558-5af1e0c0e067",
   "metadata": {
    "tags": []
   },
   "outputs": [
    {
     "name": "stdout",
     "output_type": "stream",
     "text": [
      "Averge time per request: 1.02 ms\n"
     ]
    }
   ],
   "source": [
    "print(f'Averge time per request: {(elapsed_time/len(entities)):.2f} ms')"
   ]
  },
  {
   "cell_type": "code",
   "execution_count": 116,
   "id": "0d8c2a0c-f178-4993-9143-82122bdaaa9f",
   "metadata": {
    "tags": []
   },
   "outputs": [],
   "source": [
    "timings = [feature[2] for feature in features]"
   ]
  },
  {
   "cell_type": "code",
   "execution_count": 117,
   "id": "b66c643a-d55e-4e73-acb4-2dc18de4c2a0",
   "metadata": {
    "tags": []
   },
   "outputs": [
    {
     "name": "stdout",
     "output_type": "stream",
     "text": [
      "Average time per requests: 25.37 ms\n"
     ]
    }
   ],
   "source": [
    "print(f'Average time per requests: {np.mean(timings):.2f} ms')"
   ]
  },
  {
   "cell_type": "code",
   "execution_count": 118,
   "id": "b15b2c93-b89d-4e89-b7bd-896005d87b3b",
   "metadata": {
    "tags": []
   },
   "outputs": [
    {
     "name": "stdout",
     "output_type": "stream",
     "text": [
      "Range of times across all requests: 11.59 ms to 59.60 ms\n"
     ]
    }
   ],
   "source": [
    "print(f'Range of times across all requests: {np.min(timings):.2f} ms to {np.max(timings):.2f} ms')"
   ]
  },
  {
   "cell_type": "code",
   "execution_count": 119,
   "id": "a9bf9090-c8bf-4e31-a14c-4ee6e8940151",
   "metadata": {
    "tags": []
   },
   "outputs": [
    {
     "name": "stdout",
     "output_type": "stream",
     "text": [
      "The 99th percentile of the requests: 50.63 ms\n"
     ]
    }
   ],
   "source": [
    "print(f'The 99th percentile of the requests: {np.percentile(timings, 99):.2f} ms')"
   ]
  },
  {
   "cell_type": "markdown",
   "id": "e893d585-f646-45fc-9158-1b578a4a4618",
   "metadata": {},
   "source": [
    "#### Constant Load: 100 request, for 1000 requests"
   ]
  },
  {
   "cell_type": "code",
   "execution_count": 120,
   "id": "449a1e7b-fdbb-4f4d-9320-a32b29f0efdb",
   "metadata": {
    "tags": []
   },
   "outputs": [],
   "source": [
    "constant_load = 100\n",
    "\n",
    "start_time = time.perf_counter()\n",
    "features = await fs_load(entities, limit_concur_requests = constant_load)\n",
    "elapsed_time = 1000 * (time.perf_counter() - start_time)"
   ]
  },
  {
   "cell_type": "code",
   "execution_count": 121,
   "id": "8e79c0ca-711b-4f9d-9d8e-777578e33b15",
   "metadata": {
    "tags": []
   },
   "outputs": [
    {
     "name": "stdout",
     "output_type": "stream",
     "text": [
      "Total time for all requests: 1046.88 ms\n"
     ]
    }
   ],
   "source": [
    "print(f'Total time for all requests: {elapsed_time:.2f} ms')"
   ]
  },
  {
   "cell_type": "code",
   "execution_count": 122,
   "id": "67b33e4b-2cd1-4945-b505-6cb4f9f320f0",
   "metadata": {
    "tags": []
   },
   "outputs": [
    {
     "name": "stdout",
     "output_type": "stream",
     "text": [
      "Averge time per request: 1.05 ms\n"
     ]
    }
   ],
   "source": [
    "print(f'Averge time per request: {(elapsed_time/len(entities)):.2f} ms')"
   ]
  },
  {
   "cell_type": "code",
   "execution_count": 123,
   "id": "1a66f4b6-e254-4efb-b383-d3186b138d08",
   "metadata": {
    "tags": []
   },
   "outputs": [],
   "source": [
    "timings = [feature[2] for feature in features]"
   ]
  },
  {
   "cell_type": "code",
   "execution_count": 124,
   "id": "f9d627ee-ee06-4695-9b48-c8b0972e5871",
   "metadata": {
    "tags": []
   },
   "outputs": [
    {
     "name": "stdout",
     "output_type": "stream",
     "text": [
      "Average time per requests: 57.21 ms\n"
     ]
    }
   ],
   "source": [
    "print(f'Average time per requests: {np.mean(timings):.2f} ms')"
   ]
  },
  {
   "cell_type": "code",
   "execution_count": 125,
   "id": "39088eef-4884-429f-bee9-445b0ac52019",
   "metadata": {
    "tags": []
   },
   "outputs": [
    {
     "name": "stdout",
     "output_type": "stream",
     "text": [
      "Range of times across all requests: 12.00 ms to 107.33 ms\n"
     ]
    }
   ],
   "source": [
    "print(f'Range of times across all requests: {np.min(timings):.2f} ms to {np.max(timings):.2f} ms')"
   ]
  },
  {
   "cell_type": "code",
   "execution_count": 126,
   "id": "27b39d66-a4ca-48b3-9f47-b7cd815c34d6",
   "metadata": {
    "tags": []
   },
   "outputs": [
    {
     "name": "stdout",
     "output_type": "stream",
     "text": [
      "The 99th percentile of the requests: 91.30 ms\n"
     ]
    }
   ],
   "source": [
    "print(f'The 99th percentile of the requests: {np.percentile(timings, 99):.2f} ms')"
   ]
  },
  {
   "cell_type": "markdown",
   "id": "df69977d-f494-4e4f-ac36-aa06518a5663",
   "metadata": {},
   "source": [
    "### Managed Concurrency: rate per second evenly spaced\n",
    "\n",
    "The previous section manages a constant load of a set size with `limit_concur_requests`.  This section manages a load of a set rate with `limit_rps` for rate per second.  It still manages error with retries and limit the total number of concurrent requests."
   ]
  },
  {
   "cell_type": "code",
   "execution_count": 127,
   "id": "c7866ea5-ee47-4306-9509-95171bbb5c40",
   "metadata": {
    "tags": []
   },
   "outputs": [],
   "source": [
    "async def fs_load2(instances, limit_concur_requests = 1000, limit_rps = 100):\n",
    "    limit = asyncio.Semaphore(limit_concur_requests)\n",
    "    results = [None] * len(instances)\n",
    "    \n",
    "    # make requests\n",
    "    async def make_request(p):\n",
    "        # wait for exact start time: second + fraction of second\n",
    "        await asyncio.sleep((p // limit_rps) + (p % limit_rps)/limit_rps)\n",
    "        async with limit:\n",
    "            if limit.locked():\n",
    "                await asyncio.sleep(.01)\n",
    "            ############## ERROR HANDLING ##############\n",
    "            fail_count = 0\n",
    "            start_time = time.perf_counter()\n",
    "            while fail_count <= 20:\n",
    "                try:\n",
    "                    features = dict(\n",
    "                        (await online_serve_async_client.fetch_feature_values(\n",
    "                            request = aiplatform.gapic.FetchFeatureValuesRequest(\n",
    "                                feature_view = bq_view.name,\n",
    "                                data_key = aiplatform.gapic.FeatureViewDataKey(key = instances[p]),\n",
    "                                data_format = aiplatform.gapic.FeatureViewDataFormat.PROTO_STRUCT # KEY_VALUE, PROTO_STRUCT\n",
    "                            )\n",
    "                        )).proto_struct\n",
    "                    )\n",
    "                    if fail_count > 0:\n",
    "                        print(f'Item {p} succeed after fail count = {fail_count}')\n",
    "                    break\n",
    "                except:\n",
    "                    fail_count += 1\n",
    "                    print(f'Item {p} failed: current fail count = {fail_count}')\n",
    "                    # add exponential backoff:\n",
    "                    #await asyncio.sleep(2^(min(fail_count, 6) - 1))\n",
    "            elapsed_time = 1000 * (time.perf_counter() - start_time)\n",
    "            ############################################\n",
    "        results[p] = (instances[p], features, elapsed_time, fail_count)\n",
    "        \n",
    "    # manage tasks\n",
    "    tasks = [asyncio.create_task(make_request(p)) for p in range(len(instances))]\n",
    "    responses = await asyncio.gather(*tasks)\n",
    "    \n",
    "    return results"
   ]
  },
  {
   "cell_type": "markdown",
   "id": "149fabc5-df86-467f-9637-f584bf9182c2",
   "metadata": {},
   "source": [
    "#### Rate Load: 100 request per second, for 1000 requests"
   ]
  },
  {
   "cell_type": "code",
   "execution_count": 128,
   "id": "90cb238c-1a86-4eec-a34b-655e590cca33",
   "metadata": {
    "tags": []
   },
   "outputs": [],
   "source": [
    "n_per_second = 100\n",
    "\n",
    "start_time = time.perf_counter()\n",
    "features = await fs_load2(entities, limit_rps = n_per_second)\n",
    "elapsed_time = 1000 * (time.perf_counter() - start_time)"
   ]
  },
  {
   "cell_type": "code",
   "execution_count": 129,
   "id": "413c7cfd-591d-451c-aa76-d51f4a3ea66d",
   "metadata": {
    "tags": []
   },
   "outputs": [
    {
     "name": "stdout",
     "output_type": "stream",
     "text": [
      "Expected time for all requests: 10000.0 ms\n"
     ]
    }
   ],
   "source": [
    "print(f'Expected time for all requests: {len(entities)/n_per_second * 1000} ms')"
   ]
  },
  {
   "cell_type": "code",
   "execution_count": 130,
   "id": "4c6d38e9-0844-4630-90de-f66026a24b69",
   "metadata": {
    "tags": []
   },
   "outputs": [
    {
     "name": "stdout",
     "output_type": "stream",
     "text": [
      "Total time for all requests: 10021.70 ms\n"
     ]
    }
   ],
   "source": [
    "print(f'Total time for all requests: {elapsed_time:.2f} ms')"
   ]
  },
  {
   "cell_type": "code",
   "execution_count": 131,
   "id": "603dc372-f230-453e-b5ee-3eacbe976ce6",
   "metadata": {
    "tags": []
   },
   "outputs": [
    {
     "name": "stdout",
     "output_type": "stream",
     "text": [
      "Averge time per request: 10.02 ms\n"
     ]
    }
   ],
   "source": [
    "print(f'Averge time per request: {(elapsed_time/len(entities)):.2f} ms')"
   ]
  },
  {
   "cell_type": "code",
   "execution_count": 132,
   "id": "88df368f-16a7-4762-b90c-e8576e3e93b8",
   "metadata": {
    "tags": []
   },
   "outputs": [],
   "source": [
    "timings = [feature[2] for feature in features]"
   ]
  },
  {
   "cell_type": "code",
   "execution_count": 133,
   "id": "2d8cc463-7c83-4ef6-8dc5-cbd81b793f5e",
   "metadata": {
    "tags": []
   },
   "outputs": [
    {
     "name": "stdout",
     "output_type": "stream",
     "text": [
      "Average time per requests: 8.06 ms\n"
     ]
    }
   ],
   "source": [
    "print(f'Average time per requests: {np.mean(timings):.2f} ms')"
   ]
  },
  {
   "cell_type": "code",
   "execution_count": 134,
   "id": "b4363b5e-c986-4142-b0ff-6cb86e8b7857",
   "metadata": {
    "tags": []
   },
   "outputs": [
    {
     "name": "stdout",
     "output_type": "stream",
     "text": [
      "Range of times across all requests: 4.82 ms to 16.30 ms\n"
     ]
    }
   ],
   "source": [
    "print(f'Range of times across all requests: {np.min(timings):.2f} ms to {np.max(timings):.2f} ms')"
   ]
  },
  {
   "cell_type": "code",
   "execution_count": 135,
   "id": "8bebed26-b380-403b-abee-d0bc22d6cba5",
   "metadata": {
    "tags": []
   },
   "outputs": [
    {
     "name": "stdout",
     "output_type": "stream",
     "text": [
      "The 99th percentile of the requests: 12.71 ms\n"
     ]
    }
   ],
   "source": [
    "print(f'The 99th percentile of the requests: {np.percentile(timings, 99):.2f} ms')"
   ]
  },
  {
   "cell_type": "markdown",
   "id": "21ac7f12-b7f4-4fc0-973e-641a9fe9277f",
   "metadata": {},
   "source": [
    "#### Rate Load: 150 request per second, for 1000 requests"
   ]
  },
  {
   "cell_type": "code",
   "execution_count": 136,
   "id": "9f1cf691-7200-4316-abec-e82cf0590f9c",
   "metadata": {
    "tags": []
   },
   "outputs": [],
   "source": [
    "n_per_second = 150\n",
    "\n",
    "start_time = time.perf_counter()\n",
    "features = await fs_load2(entities, limit_rps = n_per_second)\n",
    "elapsed_time = 1000 * (time.perf_counter() - start_time)"
   ]
  },
  {
   "cell_type": "code",
   "execution_count": 137,
   "id": "80b54612-8911-48ff-a30f-01e643ec0b95",
   "metadata": {
    "tags": []
   },
   "outputs": [
    {
     "name": "stdout",
     "output_type": "stream",
     "text": [
      "Expected time for all requests: 6666.67 ms\n"
     ]
    }
   ],
   "source": [
    "print(f'Expected time for all requests: {(len(entities)/n_per_second * 1000):.2f} ms')"
   ]
  },
  {
   "cell_type": "code",
   "execution_count": 138,
   "id": "5035f7a1-622d-483d-9819-7da399f5a4ac",
   "metadata": {
    "tags": []
   },
   "outputs": [
    {
     "name": "stdout",
     "output_type": "stream",
     "text": [
      "Total time for all requests: 6690.75 ms\n"
     ]
    }
   ],
   "source": [
    "print(f'Total time for all requests: {elapsed_time:.2f} ms')"
   ]
  },
  {
   "cell_type": "code",
   "execution_count": 139,
   "id": "3779f987-5a36-4fa3-b1d9-23aad0b9a5fb",
   "metadata": {
    "tags": []
   },
   "outputs": [
    {
     "name": "stdout",
     "output_type": "stream",
     "text": [
      "Averge time per request: 6.69 ms\n"
     ]
    }
   ],
   "source": [
    "print(f'Averge time per request: {(elapsed_time/len(entities)):.2f} ms')"
   ]
  },
  {
   "cell_type": "code",
   "execution_count": 140,
   "id": "488b06d7-1446-4e5a-878f-f2f956eb33c3",
   "metadata": {
    "tags": []
   },
   "outputs": [],
   "source": [
    "timings = [feature[2] for feature in features]"
   ]
  },
  {
   "cell_type": "code",
   "execution_count": 141,
   "id": "925be9cb-8d4f-43b2-b1bf-2221a7b6ad0e",
   "metadata": {
    "tags": []
   },
   "outputs": [
    {
     "name": "stdout",
     "output_type": "stream",
     "text": [
      "Average time per requests: 13.07 ms\n"
     ]
    }
   ],
   "source": [
    "print(f'Average time per requests: {np.mean(timings):.2f} ms')"
   ]
  },
  {
   "cell_type": "code",
   "execution_count": 142,
   "id": "48880215-3073-4e5c-b86a-184328a328c4",
   "metadata": {
    "tags": []
   },
   "outputs": [
    {
     "name": "stdout",
     "output_type": "stream",
     "text": [
      "Range of times across all requests: 8.63 ms to 86.28 ms\n"
     ]
    }
   ],
   "source": [
    "print(f'Range of times across all requests: {np.min(timings):.2f} ms to {np.max(timings):.2f} ms')"
   ]
  },
  {
   "cell_type": "code",
   "execution_count": 143,
   "id": "80044f1a-3ee7-411c-9625-472f2a99ec72",
   "metadata": {
    "tags": []
   },
   "outputs": [
    {
     "name": "stdout",
     "output_type": "stream",
     "text": [
      "The 99th percentile of the requests: 28.08 ms\n"
     ]
    }
   ],
   "source": [
    "print(f'The 99th percentile of the requests: {np.percentile(timings, 99):.2f} ms')"
   ]
  },
  {
   "cell_type": "markdown",
   "id": "ef6b045f-ca34-4a5d-9d29-31cd69d779d1",
   "metadata": {},
   "source": [
    "#### Rate Load: 200 request per second, for 1000 requests"
   ]
  },
  {
   "cell_type": "code",
   "execution_count": 144,
   "id": "0121fb9f-e7de-4ebc-bc9f-42b46bbc2261",
   "metadata": {
    "tags": []
   },
   "outputs": [],
   "source": [
    "n_per_second = 200\n",
    "\n",
    "start_time = time.perf_counter()\n",
    "features = await fs_load2(entities, limit_rps = n_per_second)\n",
    "elapsed_time = 1000 * (time.perf_counter() - start_time)"
   ]
  },
  {
   "cell_type": "code",
   "execution_count": 145,
   "id": "3039161b-1d41-47ec-924b-b1a4e7f61c76",
   "metadata": {
    "tags": []
   },
   "outputs": [
    {
     "name": "stdout",
     "output_type": "stream",
     "text": [
      "Expected time for all requests: 5000.00 ms\n"
     ]
    }
   ],
   "source": [
    "print(f'Expected time for all requests: {(len(entities)/n_per_second * 1000):.2f} ms')"
   ]
  },
  {
   "cell_type": "code",
   "execution_count": 146,
   "id": "b624476f-5b50-4f03-9679-4173422ea2a8",
   "metadata": {
    "tags": []
   },
   "outputs": [
    {
     "name": "stdout",
     "output_type": "stream",
     "text": [
      "Total time for all requests: 5022.63 ms\n"
     ]
    }
   ],
   "source": [
    "print(f'Total time for all requests: {elapsed_time:.2f} ms')"
   ]
  },
  {
   "cell_type": "code",
   "execution_count": 147,
   "id": "05b4bbf4-4d2f-453e-90b9-b7e4dfd726cc",
   "metadata": {
    "tags": []
   },
   "outputs": [
    {
     "name": "stdout",
     "output_type": "stream",
     "text": [
      "Averge time per request: 5.02 ms\n"
     ]
    }
   ],
   "source": [
    "print(f'Averge time per request: {(elapsed_time/len(entities)):.2f} ms')"
   ]
  },
  {
   "cell_type": "code",
   "execution_count": 148,
   "id": "52b89c5d-1539-4361-8116-8b89a003703e",
   "metadata": {
    "tags": []
   },
   "outputs": [],
   "source": [
    "timings = [feature[2] for feature in features]"
   ]
  },
  {
   "cell_type": "code",
   "execution_count": 149,
   "id": "98c60284-c1d6-4a9e-95ac-eaa8dc42f3be",
   "metadata": {
    "tags": []
   },
   "outputs": [
    {
     "name": "stdout",
     "output_type": "stream",
     "text": [
      "Average time per requests: 8.13 ms\n"
     ]
    }
   ],
   "source": [
    "print(f'Average time per requests: {np.mean(timings):.2f} ms')"
   ]
  },
  {
   "cell_type": "code",
   "execution_count": 150,
   "id": "ee16b99a-98fc-44eb-ba22-879a9840ef0d",
   "metadata": {
    "tags": []
   },
   "outputs": [
    {
     "name": "stdout",
     "output_type": "stream",
     "text": [
      "Range of times across all requests: 4.34 ms to 19.45 ms\n"
     ]
    }
   ],
   "source": [
    "print(f'Range of times across all requests: {np.min(timings):.2f} ms to {np.max(timings):.2f} ms')"
   ]
  },
  {
   "cell_type": "code",
   "execution_count": 151,
   "id": "e13c8437-cd64-4c31-882e-59fc590d30d2",
   "metadata": {
    "tags": []
   },
   "outputs": [
    {
     "name": "stdout",
     "output_type": "stream",
     "text": [
      "The 99th percentile of the requests: 12.61 ms\n"
     ]
    }
   ],
   "source": [
    "print(f'The 99th percentile of the requests: {np.percentile(timings, 99):.2f} ms')"
   ]
  },
  {
   "cell_type": "markdown",
   "id": "c7a6d7d5-c14f-4fc5-a1c0-fc5f5e5cbfd0",
   "metadata": {},
   "source": [
    "#### Rate Load: 250 request per second, for 1000 requests"
   ]
  },
  {
   "cell_type": "code",
   "execution_count": 152,
   "id": "805d6ca4-7aeb-40c9-b288-65976a6d4f37",
   "metadata": {
    "tags": []
   },
   "outputs": [],
   "source": [
    "n_per_second = 250\n",
    "\n",
    "start_time = time.perf_counter()\n",
    "features = await fs_load2(entities, limit_rps = n_per_second)\n",
    "elapsed_time = 1000 * (time.perf_counter() - start_time)"
   ]
  },
  {
   "cell_type": "code",
   "execution_count": 153,
   "id": "664339d8-3097-4dad-be7c-33cb582a5187",
   "metadata": {
    "tags": []
   },
   "outputs": [
    {
     "name": "stdout",
     "output_type": "stream",
     "text": [
      "Expected time for all requests: 4000.00 ms\n"
     ]
    }
   ],
   "source": [
    "print(f'Expected time for all requests: {(len(entities)/n_per_second * 1000):.2f} ms')"
   ]
  },
  {
   "cell_type": "code",
   "execution_count": 154,
   "id": "8dfae90d-4bb8-4244-858b-7d022564bade",
   "metadata": {
    "tags": []
   },
   "outputs": [
    {
     "name": "stdout",
     "output_type": "stream",
     "text": [
      "Total time for all requests: 4019.68 ms\n"
     ]
    }
   ],
   "source": [
    "print(f'Total time for all requests: {elapsed_time:.2f} ms')"
   ]
  },
  {
   "cell_type": "code",
   "execution_count": 155,
   "id": "f39288ca-28fd-4e97-a96e-942276fa41da",
   "metadata": {
    "tags": []
   },
   "outputs": [
    {
     "name": "stdout",
     "output_type": "stream",
     "text": [
      "Averge time per request: 4.02 ms\n"
     ]
    }
   ],
   "source": [
    "print(f'Averge time per request: {(elapsed_time/len(entities)):.2f} ms')"
   ]
  },
  {
   "cell_type": "code",
   "execution_count": 156,
   "id": "bda0c595-fa92-43fc-b454-d9207ef956b8",
   "metadata": {
    "tags": []
   },
   "outputs": [],
   "source": [
    "timings = [feature[2] for feature in features]"
   ]
  },
  {
   "cell_type": "code",
   "execution_count": 157,
   "id": "ea319146-1c16-4c2f-8194-2e18de9f4200",
   "metadata": {
    "tags": []
   },
   "outputs": [
    {
     "name": "stdout",
     "output_type": "stream",
     "text": [
      "Average time per requests: 7.97 ms\n"
     ]
    }
   ],
   "source": [
    "print(f'Average time per requests: {np.mean(timings):.2f} ms')"
   ]
  },
  {
   "cell_type": "code",
   "execution_count": 158,
   "id": "b53004c9-3aef-46d9-b1a7-6e2b7fd79350",
   "metadata": {
    "tags": []
   },
   "outputs": [
    {
     "name": "stdout",
     "output_type": "stream",
     "text": [
      "Range of times across all requests: 4.46 ms to 27.09 ms\n"
     ]
    }
   ],
   "source": [
    "print(f'Range of times across all requests: {np.min(timings):.2f} ms to {np.max(timings):.2f} ms')"
   ]
  },
  {
   "cell_type": "code",
   "execution_count": 159,
   "id": "ed9de362-845b-4ed4-9495-9d55fcbe1058",
   "metadata": {
    "tags": []
   },
   "outputs": [
    {
     "name": "stdout",
     "output_type": "stream",
     "text": [
      "The 99th percentile of the requests: 12.29 ms\n"
     ]
    }
   ],
   "source": [
    "print(f'The 99th percentile of the requests: {np.percentile(timings, 99):.2f} ms')"
   ]
  },
  {
   "cell_type": "markdown",
   "id": "5e2da330-1ab7-413a-8391-e2f6bd9ed68d",
   "metadata": {},
   "source": [
    "## Cleanup\n",
    "\n",
    "This deletes the Feature Store objects: Registry Views, Online Store, Feature, then Feature Group, "
   ]
  },
  {
   "cell_type": "code",
   "execution_count": 160,
   "id": "58405d82-1c09-4133-b7be-11c404a96fd5",
   "metadata": {
    "tags": []
   },
   "outputs": [],
   "source": [
    "# delete feature store objects:\n",
    "\n",
    "del_registry_views = False\n",
    "del_online_store = False\n",
    "del_features = False\n",
    "del_feature_group = False\n",
    "\n",
    "if del_registry_views:\n",
    "    online_admin_client.delete_feature_view(name = registry_view.name)\n",
    "    online_admin_client.delete_feature_view(name = bq_view.name)\n",
    "if del_online_store:\n",
    "    online_admin_client.delete_feature_online_store(name = online_store.name, force = True)\n",
    "if del_features:\n",
    "    registry_client.delete_feature(name = feature.name)\n",
    "if del_feature_group:\n",
    "    registry_client.delete_feature_group(name = feature_group.name)"
   ]
  },
  {
   "cell_type": "code",
   "execution_count": null,
   "id": "8864eb17-5899-4ae0-99d4-82e867490660",
   "metadata": {},
   "outputs": [],
   "source": []
  }
 ],
 "metadata": {
  "environment": {
   "kernel": "conda-root-py",
   "name": "workbench-notebooks.m124",
   "type": "gcloud",
   "uri": "us-docker.pkg.dev/deeplearning-platform-release/gcr.io/workbench-notebooks:m124"
  },
  "kernelspec": {
   "display_name": "Python 3 (ipykernel)",
   "language": "python",
   "name": "conda-root-py"
  },
  "language_info": {
   "codemirror_mode": {
    "name": "ipython",
    "version": 3
   },
   "file_extension": ".py",
   "mimetype": "text/x-python",
   "name": "python",
   "nbconvert_exporter": "python",
   "pygments_lexer": "ipython3",
   "version": "3.10.14"
  }
 },
 "nbformat": 4,
 "nbformat_minor": 5
}
