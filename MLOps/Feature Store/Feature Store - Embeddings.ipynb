{
 "cells": [
  {
   "cell_type": "markdown",
   "id": "e4776af2",
   "metadata": {},
   "source": [
    "![tracker](https://us-central1-vertex-ai-mlops-369716.cloudfunctions.net/pixel-tracking?path=statmike%2Fvertex-ai-mlops%2FMLOps%2FFeature+Store&file=Feature+Store+-+Embeddings.ipynb)\n",
    "<!--- header table --->\n",
    "<table align=\"left\">\n",
    "  <td style=\"text-align: center\">\n",
    "    <a href=\"https://github.com/statmike/vertex-ai-mlops/blob/main/MLOps/Feature%20Store/Feature%20Store%20-%20Embeddings.ipynb\">\n",
    "      <img width=\"32px\" src=\"https://www.svgrepo.com/download/217753/github.svg\" alt=\"GitHub logo\">\n",
    "      <br>View on<br>GitHub\n",
    "    </a>\n",
    "  </td>\n",
    "  <td style=\"text-align: center\">\n",
    "    <a href=\"https://colab.research.google.com/github/statmike/vertex-ai-mlops/blob/main/MLOps/Feature%20Store/Feature%20Store%20-%20Embeddings.ipynb\">\n",
    "      <img width=\"32px\" src=\"https://www.gstatic.com/pantheon/images/bigquery/welcome_page/colab-logo.svg\" alt=\"Google Colaboratory logo\">\n",
    "      <br>Run in<br>Colab\n",
    "    </a>\n",
    "  </td>\n",
    "  <td style=\"text-align: center\">\n",
    "    <a href=\"https://console.cloud.google.com/vertex-ai/colab/import/https%3A%2F%2Fraw.githubusercontent.com%2Fstatmike%2Fvertex-ai-mlops%2Fmain%2FMLOps%2FFeature%2520Store%2FFeature%2520Store%2520-%2520Embeddings.ipynb\">\n",
    "      <img width=\"32px\" src=\"https://lh3.googleusercontent.com/JmcxdQi-qOpctIvWKgPtrzZdJJK-J3sWE1RsfjZNwshCFgE_9fULcNpuXYTilIR2hjwN\" alt=\"Google Cloud Colab Enterprise logo\">\n",
    "      <br>Run in<br>Colab Enterprise\n",
    "    </a>\n",
    "  </td>      \n",
    "  <td style=\"text-align: center\">\n",
    "    <a href=\"https://console.cloud.google.com/bigquery/import?url=https://github.com/statmike/vertex-ai-mlops/blob/main/MLOps/Feature%20Store/Feature%20Store%20-%20Embeddings.ipynb\">\n",
    "      <img width=\"32px\" src=\"https://www.gstatic.com/images/branding/gcpiconscolors/bigquery/v1/32px.svg\" alt=\"BigQuery logo\">\n",
    "      <br>Open in<br>BigQuery Studio\n",
    "    </a>\n",
    "  </td>\n",
    "  <td style=\"text-align: center\">\n",
    "    <a href=\"https://console.cloud.google.com/vertex-ai/workbench/deploy-notebook?download_url=https://raw.githubusercontent.com/statmike/vertex-ai-mlops/main/MLOps/Feature%20Store/Feature%20Store%20-%20Embeddings.ipynb\">\n",
    "      <img width=\"32px\" src=\"https://www.gstatic.com/images/branding/gcpiconscolors/vertexai/v1/32px.svg\" alt=\"Vertex AI logo\">\n",
    "      <br>Open in<br>Vertex AI Workbench\n",
    "    </a>\n",
    "  </td>\n",
    "</table>"
   ]
  },
  {
   "cell_type": "markdown",
   "id": "f817ae9b-278a-4a78-81a4-2a34074f800e",
   "metadata": {},
   "source": [
    "---\n",
    "\n",
    "**File Move Notices**\n",
    "\n",
    "This file moved locations:\n",
    "- On 09/08/2024 (mm/dd/yyyy)\n",
    "\t- From: `Feature Store/Feature Store - Embeddings.ipynb`\n",
    "\t- To: `MLOps/Feature Store/Feature Store - Embeddings.ipynb`\n",
    "---\n",
    "<!---end of move notices--->\n",
    "\n",
    "# Feature Store - Embeddings\n",
    "\n",
    "Managing features for ML with a focus on both training and serving is the focus of [Vertex AI Feature Store](https://cloud.google.com/vertex-ai/docs/featurestore/latest/overview). For a comple workflow based overview of feature store please first review [Feature Store](./Feature%20Store.ipynb).\n",
    "\n",
    "Embeddings are vectors of condenced information from a larger space.  It could be as simple as converting categorial data to one-hot encodings or addresses to lat/long (note, consider ECEF projection for this).  With the rise of large language models and search applications there are many new text embeddings models that convert text into embeddings that represent the semantic meaninng of the text in a structured form.\n",
    "\n",
    "Embeddings are features - an array of floats.  You can use Feature Store as a way of retrieving matching entities for a query embedding as well as request matching entities for a query entity id. [Reference](https://cloud.google.com/vertex-ai/docs/featurestore/latest/embeddings-search) \n",
    "\n",
    "This workflow will expand upon the previous [feature store overview](./Feature%20Store.ipynb) by adding a feature view with an embedding feature.  This embedding was created by training an autoencoder on the tabular data and using the latent encoding layers to form the embedding.  Review and run the pre-requisite notebook [BQML Autoencoder As Table Embedding](../../../Working%20With/Embeddings/BQML%20Autoencoder%20As%20Table%20Embedding.ipynb).\n",
    "\n",
    "**Prerequisites:**\n",
    "-  [01 - BigQuery - Table Data Source](../../01%20-%20Data%20Sources/01%20-%20BigQuery%20-%20Table%20Data%20Source.ipynb)\n",
    "    - the data source for the examples\n",
    "- [Feature Store](./Feature%20Store.ipynb)\n",
    "    - while not required, this notebook covers Feature Store in detail and sets up an instance that will be reused by this notebook\n",
    "- [BQML Autoencoder As Table Embedding](../../../Working%20With/Embeddings/BQML%20Autoencoder%20As%20Table%20Embedding.ipynb)\n",
    "    - create embeddings for rows of data in the data source\n",
    "    \n",
    "**References:**\n",
    "- [Feature Store Documentation](https://cloud.google.com/vertex-ai/docs/featurestore/latest/overview)\n",
    "- [Manage Embeddings in Feature Store](https://cloud.google.com/vertex-ai/docs/featurestore/latest/embeddings-search)\n"
   ]
  },
  {
   "cell_type": "markdown",
   "id": "ded0e6c8-9114-463f-8cc2-82519ca6e08f",
   "metadata": {
    "id": "od_UkDpvRmgD",
    "tags": []
   },
   "source": [
    "---\n",
    "## Colab Setup\n",
    "\n",
    "When running this notebook in [Colab](https://colab.google/) or [Colab Enterprise](https://cloud.google.com/colab/docs/introduction), this section will authenticate to GCP (follow prompts in the popup) and set the current project for the session."
   ]
  },
  {
   "cell_type": "code",
   "execution_count": 1,
   "id": "ea95716b-4105-40d6-b943-9aa9b2045938",
   "metadata": {
    "executionInfo": {
     "elapsed": 195,
     "status": "ok",
     "timestamp": 1683726184843,
     "user": {
      "displayName": "Mike Henderson",
      "userId": "07691629187611687318"
     },
     "user_tz": 240
    },
    "id": "8UO9FnqyKBlF",
    "tags": []
   },
   "outputs": [],
   "source": [
    "PROJECT_ID = 'statmike-mlops-349915' # replace with project ID"
   ]
  },
  {
   "cell_type": "code",
   "execution_count": 2,
   "id": "45c6b896-d80d-459c-9bab-4a084ca2b017",
   "metadata": {
    "colab": {
     "base_uri": "https://localhost:8080/"
    },
    "executionInfo": {
     "elapsed": 68869,
     "status": "ok",
     "timestamp": 1683726253709,
     "user": {
      "displayName": "Mike Henderson",
      "userId": "07691629187611687318"
     },
     "user_tz": 240
    },
    "id": "N98-KK7LRkjm",
    "outputId": "09ec5008-0def-4e1a-c349-c598ee752f78",
    "tags": []
   },
   "outputs": [
    {
     "name": "stdout",
     "output_type": "stream",
     "text": [
      "Not a Colab Environment\n"
     ]
    }
   ],
   "source": [
    "try:\n",
    "    from google.colab import auth\n",
    "    auth.authenticate_user(project_id = PROJECT_ID)\n",
    "    print('Colab authorized to GCP')\n",
    "except Exception:\n",
    "    print('Not a Colab Environment')\n",
    "    pass"
   ]
  },
  {
   "cell_type": "markdown",
   "id": "221dc955-f52a-4ae2-ac9a-2df114a68c48",
   "metadata": {},
   "source": [
    "---\n",
    "## Installs\n",
    "\n",
    "The list `packages` contains tuples of package import names and install names.  If the import name is not found then the install name is used to install quitely for the current user."
   ]
  },
  {
   "cell_type": "code",
   "execution_count": 3,
   "id": "3dbb30d4-08a7-46d6-89e6-2e547be91540",
   "metadata": {
    "tags": []
   },
   "outputs": [],
   "source": [
    "# tuples of (import name, install name)\n",
    "packages = [\n",
    "    ('google.cloud.aiplatform', 'google-cloud-aiplatform', '1.62.0'),\n",
    "    ('google.cloud.bigquery', 'google-cloud-bigquery'),\n",
    "    ('bigframes', 'bigframes'),\n",
    "]\n",
    "\n",
    "import importlib\n",
    "install = False\n",
    "for package in packages:\n",
    "    if not importlib.util.find_spec(package[0]):\n",
    "        print(f'installing package {package[1]}')\n",
    "        install = True\n",
    "        !pip install {package[1]} -U -q --user"
   ]
  },
  {
   "cell_type": "markdown",
   "id": "82cfe60f-eda9-4996-8b6e-3c4b5eef3b87",
   "metadata": {},
   "source": [
    "### Restart Kernel (If Installs Occured)\n",
    "\n",
    "After a kernel restart the code submission can start with the next cell after this one."
   ]
  },
  {
   "cell_type": "code",
   "execution_count": 4,
   "id": "a4eae839-3e6f-4f6e-811f-6d75d2c13335",
   "metadata": {
    "tags": []
   },
   "outputs": [],
   "source": [
    "if install:\n",
    "    import IPython\n",
    "    app = IPython.Application.instance()\n",
    "    app.kernel.do_shutdown(True)"
   ]
  },
  {
   "cell_type": "markdown",
   "id": "6f8e1b91-e1da-480f-b890-d679e517c222",
   "metadata": {},
   "source": [
    "---\n",
    "## Setup"
   ]
  },
  {
   "cell_type": "markdown",
   "id": "bf0b72df-597d-4441-ae30-c67c89ae0cf3",
   "metadata": {},
   "source": [
    "inputs:"
   ]
  },
  {
   "cell_type": "code",
   "execution_count": 5,
   "id": "2ee13851-f53c-4596-bfd1-bb2b74057f43",
   "metadata": {
    "tags": []
   },
   "outputs": [
    {
     "data": {
      "text/plain": [
       "'statmike-mlops-349915'"
      ]
     },
     "execution_count": 5,
     "metadata": {},
     "output_type": "execute_result"
    }
   ],
   "source": [
    "project = !gcloud config get-value project\n",
    "PROJECT_ID = project[0]\n",
    "PROJECT_ID"
   ]
  },
  {
   "cell_type": "code",
   "execution_count": 6,
   "id": "33db6ecb-25e4-4c1e-8e3d-cb9364d916eb",
   "metadata": {
    "tags": []
   },
   "outputs": [],
   "source": [
    "REGION = 'us-central1'\n",
    "EXPERIMENT = 'embeddings'\n",
    "SERIES = 'feature-store'\n",
    "\n",
    "# source data\n",
    "BQ_PROJECT = PROJECT_ID\n",
    "BQ_DATASET = 'fraud'\n",
    "BQ_TABLE = 'fraud_prepped_embedding'"
   ]
  },
  {
   "cell_type": "markdown",
   "id": "6be8e03a-0b88-4019-9739-275508a347c5",
   "metadata": {},
   "source": [
    "packages:"
   ]
  },
  {
   "cell_type": "code",
   "execution_count": 7,
   "id": "e781232d-37d7-4b1f-9e1f-d18bb4b972e9",
   "metadata": {
    "tags": []
   },
   "outputs": [],
   "source": [
    "from google.cloud import aiplatform\n",
    "import time\n",
    "import numpy as np\n",
    "import asyncio\n",
    "from google.cloud import bigquery\n",
    "import bigframes.pandas as bpd"
   ]
  },
  {
   "cell_type": "markdown",
   "id": "efd256b5-252e-4de2-9380-f57d5b5f31c5",
   "metadata": {},
   "source": [
    "clients:"
   ]
  },
  {
   "cell_type": "code",
   "execution_count": 8,
   "id": "efec83a5-308d-49ea-a92a-72369c410b2b",
   "metadata": {
    "tags": []
   },
   "outputs": [],
   "source": [
    "aiplatform.init(project = PROJECT_ID, location = REGION)\n",
    "bq = bigquery.Client(project = PROJECT_ID)\n",
    "#bpd.options.bigquery.project = PROJECT_ID"
   ]
  },
  {
   "cell_type": "markdown",
   "id": "897edcf9-ada9-4d67-8a4c-2d401930eb25",
   "metadata": {},
   "source": [
    "---\n",
    "## Review Source Data\n",
    "\n",
    "The data source here was prepared in [01 - BigQuery - Table Data Source](../../01%20-%20Data%20Sources/01%20-%20BigQuery%20-%20Table%20Data%20Source.ipynb).\n",
    "\n",
    "This is a table of 284,807 credit card transactions classified as fradulant or normal in the column `Class`.  In order protect confidentiality, the original features have been transformed using [principle component analysis (PCA)](https://en.wikipedia.org/wiki/Principal_component_analysis) into 28 features named `V1, V2, ... V28` (float).  Two descriptive features are provided without transformation by PCA:\n",
    "- `Time` (integer) is the seconds elapsed between the transaction and the earliest transaction in the table\n",
    "- `Amount` (float) is the value of the transaction\n",
    "\n",
    "The data preparation included added splits for machine learning with a column named `splits` with 80% for training (`TRAIN`), 10% for validation (`VALIDATE`) and 10% for testing (`TEST`).  Additionally, a unique identifier was added to each transaction, `transaction_id`.  \n",
    "\n",
    "The additional workflow [\"BQML Autoencoder As Table Embedding\"](../../Applied%20GenAI/Embeddings/BQML%20Autoencoder%20As%20Table%20Embedding.ipynb) augmented the data with an encoding built by training an autoencoder and using the latent space form the encoder to form an embedding.\n"
   ]
  },
  {
   "cell_type": "markdown",
   "id": "37f79556-6725-40c9-b925-b0ec23268816",
   "metadata": {},
   "source": [
    "### Connect to the BigQuery table:"
   ]
  },
  {
   "cell_type": "code",
   "execution_count": 9,
   "id": "8fca2524-6e6c-4b4e-b596-ce9ce3220a47",
   "metadata": {
    "tags": []
   },
   "outputs": [],
   "source": [
    "source_data = bpd.read_gbq(f'{BQ_PROJECT}.{BQ_DATASET}.{BQ_TABLE}')"
   ]
  },
  {
   "cell_type": "markdown",
   "id": "60c63ef8-35e4-4763-ab2b-375c8e8cc21f",
   "metadata": {},
   "source": [
    "### Review a sample of the data:"
   ]
  },
  {
   "cell_type": "code",
   "execution_count": 10,
   "id": "880415c8-12c2-41d9-bf90-3affc3b59d7c",
   "metadata": {
    "tags": []
   },
   "outputs": [
    {
     "data": {
      "text/html": [
       "Query job 2cc11153-d502-4966-83a9-7f017b862507 is DONE. 101.7 MB processed. <a target=\"_blank\" href=\"https://console.cloud.google.com/bigquery?project=statmike-mlops-349915&j=bq:us-central1:2cc11153-d502-4966-83a9-7f017b862507&page=queryresults\">Open Job</a>"
      ],
      "text/plain": [
       "<IPython.core.display.HTML object>"
      ]
     },
     "metadata": {},
     "output_type": "display_data"
    },
    {
     "data": {
      "text/html": [
       "Query job da22feea-d694-4505-8664-f94e6736cd80 is DONE. 0 Bytes processed. <a target=\"_blank\" href=\"https://console.cloud.google.com/bigquery?project=statmike-mlops-349915&j=bq:us-central1:da22feea-d694-4505-8664-f94e6736cd80&page=queryresults\">Open Job</a>"
      ],
      "text/plain": [
       "<IPython.core.display.HTML object>"
      ]
     },
     "metadata": {},
     "output_type": "display_data"
    },
    {
     "data": {
      "text/html": [
       "Query job a7304b16-e6b9-4008-9d4c-e568c3a68b94 is DONE. 1.9 kB processed. <a target=\"_blank\" href=\"https://console.cloud.google.com/bigquery?project=statmike-mlops-349915&j=bq:us-central1:a7304b16-e6b9-4008-9d4c-e568c3a68b94&page=queryresults\">Open Job</a>"
      ],
      "text/plain": [
       "<IPython.core.display.HTML object>"
      ]
     },
     "metadata": {},
     "output_type": "display_data"
    },
    {
     "data": {
      "text/html": [
       "<div>\n",
       "<style scoped>\n",
       "    .dataframe tbody tr th:only-of-type {\n",
       "        vertical-align: middle;\n",
       "    }\n",
       "\n",
       "    .dataframe tbody tr th {\n",
       "        vertical-align: top;\n",
       "    }\n",
       "\n",
       "    .dataframe thead th {\n",
       "        text-align: right;\n",
       "    }\n",
       "</style>\n",
       "<table border=\"1\" class=\"dataframe\">\n",
       "  <thead>\n",
       "    <tr style=\"text-align: right;\">\n",
       "      <th></th>\n",
       "      <th>transaction_id</th>\n",
       "      <th>Time</th>\n",
       "      <th>V1</th>\n",
       "      <th>V2</th>\n",
       "      <th>V3</th>\n",
       "      <th>V4</th>\n",
       "      <th>V5</th>\n",
       "      <th>V6</th>\n",
       "      <th>V7</th>\n",
       "      <th>V8</th>\n",
       "      <th>...</th>\n",
       "      <th>V23</th>\n",
       "      <th>V24</th>\n",
       "      <th>V25</th>\n",
       "      <th>V26</th>\n",
       "      <th>V27</th>\n",
       "      <th>V28</th>\n",
       "      <th>Amount</th>\n",
       "      <th>Class</th>\n",
       "      <th>splits</th>\n",
       "      <th>embedding</th>\n",
       "    </tr>\n",
       "  </thead>\n",
       "  <tbody>\n",
       "    <tr>\n",
       "      <th>0</th>\n",
       "      <td>51698445-2df7-4b30-8c05-661d0f934411</td>\n",
       "      <td>87453</td>\n",
       "      <td>-0.913532</td>\n",
       "      <td>1.488683</td>\n",
       "      <td>-0.055828</td>\n",
       "      <td>-1.073554</td>\n",
       "      <td>0.641097</td>\n",
       "      <td>0.668031</td>\n",
       "      <td>-0.346768</td>\n",
       "      <td>-3.139927</td>\n",
       "      <td>...</td>\n",
       "      <td>-0.239166</td>\n",
       "      <td>0.189976</td>\n",
       "      <td>1.906899</td>\n",
       "      <td>0.629313</td>\n",
       "      <td>0.115069</td>\n",
       "      <td>0.146527</td>\n",
       "      <td>35.0</td>\n",
       "      <td>0</td>\n",
       "      <td>TRAIN</td>\n",
       "      <td>[0.5977821652479549, 0.0, 0.36559913211568446,...</td>\n",
       "    </tr>\n",
       "    <tr>\n",
       "      <th>1</th>\n",
       "      <td>b47162eb-0720-4b5d-9dfb-18d239a2b35a</td>\n",
       "      <td>163504</td>\n",
       "      <td>-0.642694</td>\n",
       "      <td>0.657615</td>\n",
       "      <td>-1.219919</td>\n",
       "      <td>-0.536793</td>\n",
       "      <td>0.982125</td>\n",
       "      <td>0.7905</td>\n",
       "      <td>0.913977</td>\n",
       "      <td>0.67696</td>\n",
       "      <td>...</td>\n",
       "      <td>0.334306</td>\n",
       "      <td>-1.562848</td>\n",
       "      <td>-1.040489</td>\n",
       "      <td>-0.165496</td>\n",
       "      <td>0.16578</td>\n",
       "      <td>0.210512</td>\n",
       "      <td>145.9</td>\n",
       "      <td>0</td>\n",
       "      <td>TRAIN</td>\n",
       "      <td>[0.4127544656891617, 0.0, 0.25944730398086335,...</td>\n",
       "    </tr>\n",
       "    <tr>\n",
       "      <th>2</th>\n",
       "      <td>2fba541e-a9ff-4946-8b57-0fd235fb40bd</td>\n",
       "      <td>37367</td>\n",
       "      <td>1.016735</td>\n",
       "      <td>0.644522</td>\n",
       "      <td>1.346616</td>\n",
       "      <td>3.574517</td>\n",
       "      <td>-0.116084</td>\n",
       "      <td>0.695501</td>\n",
       "      <td>-0.313215</td>\n",
       "      <td>0.27986</td>\n",
       "      <td>...</td>\n",
       "      <td>-0.009286</td>\n",
       "      <td>0.237722</td>\n",
       "      <td>0.304148</td>\n",
       "      <td>0.088105</td>\n",
       "      <td>0.028592</td>\n",
       "      <td>0.023834</td>\n",
       "      <td>6.93</td>\n",
       "      <td>0</td>\n",
       "      <td>TRAIN</td>\n",
       "      <td>[0.48196315087096875, 0.0, 0.39905086264143763...</td>\n",
       "    </tr>\n",
       "    <tr>\n",
       "      <th>3</th>\n",
       "      <td>f470444d-a2af-4de6-b08f-df37ef7d2315</td>\n",
       "      <td>140817</td>\n",
       "      <td>1.973879</td>\n",
       "      <td>-0.509845</td>\n",
       "      <td>-1.227686</td>\n",
       "      <td>0.081128</td>\n",
       "      <td>-0.208654</td>\n",
       "      <td>-0.508661</td>\n",
       "      <td>-0.163037</td>\n",
       "      <td>-0.005953</td>\n",
       "      <td>...</td>\n",
       "      <td>0.139703</td>\n",
       "      <td>-0.525682</td>\n",
       "      <td>-0.102873</td>\n",
       "      <td>-0.07585</td>\n",
       "      <td>-0.046174</td>\n",
       "      <td>-0.069476</td>\n",
       "      <td>34.66</td>\n",
       "      <td>0</td>\n",
       "      <td>TEST</td>\n",
       "      <td>[0.15399287512902307, 0.0, 0.5188780427569708,...</td>\n",
       "    </tr>\n",
       "    <tr>\n",
       "      <th>4</th>\n",
       "      <td>b76e73da-dee3-44bd-a7b5-d5be17214ef0</td>\n",
       "      <td>80660</td>\n",
       "      <td>1.31612</td>\n",
       "      <td>0.428729</td>\n",
       "      <td>-0.014443</td>\n",
       "      <td>0.485672</td>\n",
       "      <td>0.150964</td>\n",
       "      <td>-0.569457</td>\n",
       "      <td>0.160334</td>\n",
       "      <td>-0.227616</td>\n",
       "      <td>...</td>\n",
       "      <td>0.009039</td>\n",
       "      <td>-0.471929</td>\n",
       "      <td>0.372731</td>\n",
       "      <td>0.142581</td>\n",
       "      <td>-0.01537</td>\n",
       "      <td>0.025051</td>\n",
       "      <td>1.79</td>\n",
       "      <td>0</td>\n",
       "      <td>TEST</td>\n",
       "      <td>[0.15605789043098536, 0.0, 0.6220855584587272,...</td>\n",
       "    </tr>\n",
       "  </tbody>\n",
       "</table>\n",
       "<p>5 rows × 34 columns</p>\n",
       "</div>[5 rows x 34 columns in total]"
      ],
      "text/plain": [
       "                         transaction_id    Time        V1        V2        V3  \\\n",
       "0  51698445-2df7-4b30-8c05-661d0f934411   87453 -0.913532  1.488683 -0.055828   \n",
       "1  b47162eb-0720-4b5d-9dfb-18d239a2b35a  163504 -0.642694  0.657615 -1.219919   \n",
       "2  2fba541e-a9ff-4946-8b57-0fd235fb40bd   37367  1.016735  0.644522  1.346616   \n",
       "3  f470444d-a2af-4de6-b08f-df37ef7d2315  140817  1.973879 -0.509845 -1.227686   \n",
       "4  b76e73da-dee3-44bd-a7b5-d5be17214ef0   80660   1.31612  0.428729 -0.014443   \n",
       "\n",
       "         V4        V5        V6        V7        V8  ...       V23       V24  \\\n",
       "0 -1.073554  0.641097  0.668031 -0.346768 -3.139927  ... -0.239166  0.189976   \n",
       "1 -0.536793  0.982125    0.7905  0.913977   0.67696  ...  0.334306 -1.562848   \n",
       "2  3.574517 -0.116084  0.695501 -0.313215   0.27986  ... -0.009286  0.237722   \n",
       "3  0.081128 -0.208654 -0.508661 -0.163037 -0.005953  ...  0.139703 -0.525682   \n",
       "4  0.485672  0.150964 -0.569457  0.160334 -0.227616  ...  0.009039 -0.471929   \n",
       "\n",
       "        V25       V26       V27       V28  Amount  Class  splits  \\\n",
       "0  1.906899  0.629313  0.115069  0.146527    35.0      0   TRAIN   \n",
       "1 -1.040489 -0.165496   0.16578  0.210512   145.9      0   TRAIN   \n",
       "2  0.304148  0.088105  0.028592  0.023834    6.93      0   TRAIN   \n",
       "3 -0.102873  -0.07585 -0.046174 -0.069476   34.66      0    TEST   \n",
       "4  0.372731  0.142581  -0.01537  0.025051    1.79      0    TEST   \n",
       "\n",
       "                                           embedding  \n",
       "0  [0.5977821652479549, 0.0, 0.36559913211568446,...  \n",
       "1  [0.4127544656891617, 0.0, 0.25944730398086335,...  \n",
       "2  [0.48196315087096875, 0.0, 0.39905086264143763...  \n",
       "3  [0.15399287512902307, 0.0, 0.5188780427569708,...  \n",
       "4  [0.15605789043098536, 0.0, 0.6220855584587272,...  \n",
       "\n",
       "[5 rows x 34 columns]"
      ]
     },
     "execution_count": 10,
     "metadata": {},
     "output_type": "execute_result"
    }
   ],
   "source": [
    "source_data.head()"
   ]
  },
  {
   "cell_type": "code",
   "execution_count": 11,
   "id": "8433dc16-3cf1-4372-b979-3911eae1c39e",
   "metadata": {
    "tags": []
   },
   "outputs": [
    {
     "data": {
      "text/plain": [
       "transaction_id                         string\n",
       "Time                                    Int64\n",
       "V1                                    Float64\n",
       "V2                                    Float64\n",
       "V3                                    Float64\n",
       "V4                                    Float64\n",
       "V5                                    Float64\n",
       "V6                                    Float64\n",
       "V7                                    Float64\n",
       "V8                                    Float64\n",
       "V9                                    Float64\n",
       "V10                                   Float64\n",
       "V11                                   Float64\n",
       "V12                                   Float64\n",
       "V13                                   Float64\n",
       "V14                                   Float64\n",
       "V15                                   Float64\n",
       "V16                                   Float64\n",
       "V17                                   Float64\n",
       "V18                                   Float64\n",
       "V19                                   Float64\n",
       "V20                                   Float64\n",
       "V21                                   Float64\n",
       "V22                                   Float64\n",
       "V23                                   Float64\n",
       "V24                                   Float64\n",
       "V25                                   Float64\n",
       "V26                                   Float64\n",
       "V27                                   Float64\n",
       "V28                                   Float64\n",
       "Amount                                Float64\n",
       "Class                                   Int64\n",
       "splits                                 string\n",
       "embedding         list<item: double>[pyarrow]\n",
       "dtype: object"
      ]
     },
     "execution_count": 11,
     "metadata": {},
     "output_type": "execute_result"
    }
   ],
   "source": [
    "source_data.dtypes"
   ]
  },
  {
   "cell_type": "markdown",
   "id": "384ee29d-e0e2-4700-b0e7-6361b421adba",
   "metadata": {},
   "source": [
    "### Get Row Level IDs\n",
    "\n",
    "Grab a short list of `transaction_id` values from the source data to use in examples and testing throughout this workflow."
   ]
  },
  {
   "cell_type": "code",
   "execution_count": 12,
   "id": "f01c526c-3625-4044-bdbf-475ee4bccf75",
   "metadata": {
    "tags": []
   },
   "outputs": [
    {
     "data": {
      "text/html": [
       "Query job 052d69bd-0cf9-4b88-abc6-ef1ef9e0072a is DONE. 101.7 MB processed. <a target=\"_blank\" href=\"https://console.cloud.google.com/bigquery?project=statmike-mlops-349915&j=bq:us-central1:052d69bd-0cf9-4b88-abc6-ef1ef9e0072a&page=queryresults\">Open Job</a>"
      ],
      "text/plain": [
       "<IPython.core.display.HTML object>"
      ]
     },
     "metadata": {},
     "output_type": "display_data"
    },
    {
     "data": {
      "text/html": [
       "Query job 1d1ac5c6-4741-4f04-84c5-8087c5c57ace is DONE. 101.7 MB processed. <a target=\"_blank\" href=\"https://console.cloud.google.com/bigquery?project=statmike-mlops-349915&j=bq:us-central1:1d1ac5c6-4741-4f04-84c5-8087c5c57ace&page=queryresults\">Open Job</a>"
      ],
      "text/plain": [
       "<IPython.core.display.HTML object>"
      ]
     },
     "metadata": {},
     "output_type": "display_data"
    }
   ],
   "source": [
    "transaction_ids = list(source_data['transaction_id'].head(10))"
   ]
  },
  {
   "cell_type": "code",
   "execution_count": 13,
   "id": "d60fff10-bc02-4ba2-a075-95a46ea62ce4",
   "metadata": {
    "tags": []
   },
   "outputs": [
    {
     "data": {
      "text/plain": [
       "['51698445-2df7-4b30-8c05-661d0f934411',\n",
       " 'b47162eb-0720-4b5d-9dfb-18d239a2b35a',\n",
       " '2fba541e-a9ff-4946-8b57-0fd235fb40bd',\n",
       " 'f470444d-a2af-4de6-b08f-df37ef7d2315',\n",
       " 'b76e73da-dee3-44bd-a7b5-d5be17214ef0',\n",
       " 'e8a3d7f9-be9d-4117-832e-ab889ee0f52e',\n",
       " '9dc134af-0eb0-48b4-b468-41235c4383dd',\n",
       " '446f0f5f-a2c5-46f7-ba6b-5536a5b431b1',\n",
       " '563d577a-5021-465f-8469-1b7375295ddf',\n",
       " 'c96ae226-c169-4bca-8a03-d9117771e05b']"
      ]
     },
     "execution_count": 13,
     "metadata": {},
     "output_type": "execute_result"
    }
   ],
   "source": [
    "transaction_ids"
   ]
  },
  {
   "cell_type": "markdown",
   "id": "1c25169d-9206-401f-9f1c-e8e77b21e103",
   "metadata": {},
   "source": [
    "---\n",
    "## Feature Store For Vector Search\n",
    "\n",
    "The Vertex AI Feature Store can be used for vector matching and retrieval.  To extend the feature store for this capability these are the steps:\n",
    "\n",
    "- Use an [optimized online serving](https://cloud.google.com/vertex-ai/docs/featurestore/latest/online-serving-types) instance\n",
    "- Create feature view with vector search configuration"
   ]
  },
  {
   "cell_type": "markdown",
   "id": "e4c1f77d-d086-440d-848c-a844692901a8",
   "metadata": {},
   "source": [
    "### Feature Online Store Admin Client\n",
    "\n",
    "Used to create online stores and feature views"
   ]
  },
  {
   "cell_type": "code",
   "execution_count": 14,
   "id": "c9628e2e-65fd-4f30-bf4f-3e3f70aa3a69",
   "metadata": {
    "tags": []
   },
   "outputs": [],
   "source": [
    "online_admin_client = aiplatform.gapic.FeatureOnlineStoreAdminServiceClient(client_options = dict(api_endpoint = f'{REGION}-aiplatform.googleapis.com'))"
   ]
  },
  {
   "cell_type": "markdown",
   "id": "0a67c143-f84c-4834-9871-f3fba7063948",
   "metadata": {},
   "source": [
    "### Create/Retrieve Online Store\n",
    "\n",
    "**NOTE:** This can take around 10 minutes if creating a new feature store instance\n",
    "\n",
    "**Reference:**\n",
    "- [Online Serving Types](https://cloud.google.com/vertex-ai/docs/featurestore/latest/online-serving-types)\n",
    "- [Create an Online Store Instance](https://cloud.google.com/vertex-ai/docs/featurestore/latest/create-onlinestore)"
   ]
  },
  {
   "cell_type": "code",
   "execution_count": 15,
   "id": "b3ea2030-1be4-43a7-939d-94e9b97f0a28",
   "metadata": {
    "tags": []
   },
   "outputs": [],
   "source": [
    "FEATURE_ONLINE_STORE_NAME = 'featurestore_optimized'"
   ]
  },
  {
   "cell_type": "code",
   "execution_count": 16,
   "id": "b31c7643-941c-41ef-b7ba-fab2e5c68f97",
   "metadata": {
    "tags": []
   },
   "outputs": [
    {
     "data": {
      "text/plain": [
       "'projects/1026793852137/locations/us-central1/featureOnlineStores/featurestore_optimized'"
      ]
     },
     "execution_count": 16,
     "metadata": {},
     "output_type": "execute_result"
    }
   ],
   "source": [
    "try:\n",
    "    online_store = online_admin_client.get_feature_online_store(name = f'projects/{PROJECT_ID}/locations/{REGION}/featureOnlineStores/{FEATURE_ONLINE_STORE_NAME}')\n",
    "except Exception:\n",
    "    create_online_store = online_admin_client.create_feature_online_store(\n",
    "        request = aiplatform.gapic.CreateFeatureOnlineStoreRequest(\n",
    "            parent = f'projects/{PROJECT_ID}/locations/{REGION}',\n",
    "            feature_online_store_id = FEATURE_ONLINE_STORE_NAME,\n",
    "            feature_online_store = aiplatform.gapic.FeatureOnlineStore(\n",
    "                optimized = aiplatform.gapic.FeatureOnlineStore.Optimized()\n",
    "            )\n",
    "        )\n",
    "    )\n",
    "    online_store = create_online_store.result()\n",
    "    \n",
    "online_store.name"
   ]
  },
  {
   "cell_type": "code",
   "execution_count": 17,
   "id": "e79da4c5-b5bb-4982-b316-e41bc608c12a",
   "metadata": {
    "tags": []
   },
   "outputs": [
    {
     "name": "stdout",
     "output_type": "stream",
     "text": [
      "Review in the console:\n",
      "\n",
      "https://console.cloud.google.com/vertex-ai/locations/us-central1/online-stores/featurestore?project=statmike-mlops-349915\n"
     ]
    }
   ],
   "source": [
    "print(f'Review in the console:\\n\\nhttps://console.cloud.google.com/vertex-ai/locations/{REGION}/online-stores/featurestore?project={PROJECT_ID}')"
   ]
  },
  {
   "cell_type": "markdown",
   "id": "1715a2e8-4a77-497c-a1e9-c545a3cb0022",
   "metadata": {},
   "source": [
    "### Create Feature View: From BigQuery Source\n",
    "\n",
    "Create a feature view directly from a BigQuery table/view, the 'latest' version created above.\n",
    "\n",
    "**Reference:**\n",
    "- [Create a feature view from a BigQuery source](https://cloud.google.com/vertex-ai/docs/featurestore/latest/create-featureview#create_from_bq)\n",
    "- API Link for [`aiplatform.gapic.FeatureView.IndexConfig()`](https://cloud.google.com/python/docs/reference/aiplatform/latest/google.cloud.aiplatform_v1.types.FeatureView.IndexConfig)"
   ]
  },
  {
   "cell_type": "code",
   "execution_count": 18,
   "id": "534d5337-c77e-46ae-b38e-d0a8a154245e",
   "metadata": {
    "tags": []
   },
   "outputs": [],
   "source": [
    "BQ_FEATURE_VIEW_NAME = 'bq_embedding_view'"
   ]
  },
  {
   "cell_type": "code",
   "execution_count": 19,
   "id": "8a855978-fde8-491f-b38d-21cb21be551d",
   "metadata": {
    "tags": []
   },
   "outputs": [
    {
     "data": {
      "text/plain": [
       "'projects/1026793852137/locations/us-central1/featureOnlineStores/featurestore_optimized/featureViews/bq_embedding_view'"
      ]
     },
     "execution_count": 19,
     "metadata": {},
     "output_type": "execute_result"
    }
   ],
   "source": [
    "try:\n",
    "    bq_view = online_admin_client.get_feature_view(name = f'{online_store.name}/featureViews/{BQ_FEATURE_VIEW_NAME}')\n",
    "except Exception:\n",
    "    create_bq_view = online_admin_client.create_feature_view(\n",
    "        request = aiplatform.gapic.CreateFeatureViewRequest(\n",
    "            parent = online_store.name,\n",
    "            feature_view_id = BQ_FEATURE_VIEW_NAME,\n",
    "            feature_view = aiplatform.gapic.FeatureView(\n",
    "                big_query_source = aiplatform.gapic.FeatureView.BigQuerySource(\n",
    "                    uri = f'bq://{BQ_PROJECT}.{BQ_DATASET}.{BQ_TABLE}',\n",
    "                    entity_id_columns = ['transaction_id']\n",
    "                ),\n",
    "                sync_config = aiplatform.gapic.FeatureView.SyncConfig(cron = 'TZ=America/New_York 10 * * * *'),\n",
    "                index_config = aiplatform.gapic.FeatureView.IndexConfig(\n",
    "                    embedding_column = 'embedding',\n",
    "                    embedding_dimension = 8,\n",
    "                    filter_columns = ['splits'],\n",
    "                    crowding_column = 'Class',\n",
    "                    tree_ah_config = aiplatform.gapic.FeatureView.IndexConfig.TreeAHConfig(\n",
    "                        leaf_node_embedding_count = 500\n",
    "                    ),\n",
    "                    distance_measure_type = aiplatform.gapic.FeatureView.IndexConfig.DistanceMeasureType(3)\n",
    "                )\n",
    "            ),\n",
    "            run_sync_immediately = True\n",
    "        )\n",
    "    )\n",
    "    bq_view = create_bq_view.result()\n",
    "    \n",
    "bq_view.name"
   ]
  },
  {
   "cell_type": "code",
   "execution_count": 20,
   "id": "531cf48b-c6a1-47bb-845a-9cf6cae50ef9",
   "metadata": {
    "tags": []
   },
   "outputs": [
    {
     "name": "stdout",
     "output_type": "stream",
     "text": [
      "Review in the console:\n",
      "\n",
      "https://console.cloud.google.com/vertex-ai/locations/us-central1/online-stores/featurestore/feature-views/bq_embedding_view?project=statmike-mlops-349915\n"
     ]
    }
   ],
   "source": [
    "print(f'Review in the console:\\n\\nhttps://console.cloud.google.com/vertex-ai/locations/{REGION}/online-stores/featurestore/feature-views/{BQ_FEATURE_VIEW_NAME}?project={PROJECT_ID}')"
   ]
  },
  {
   "cell_type": "markdown",
   "id": "7c90bbd8-0be7-4be4-8354-003c27255d94",
   "metadata": {},
   "source": [
    "### Start/Get Sync Manually: BQ View\n",
    "\n",
    "Manually start a sync for the feature view create from BigQuery source.\n",
    "\n",
    "**References:**\n",
    "- [Sync feature data to online store](https://cloud.google.com/vertex-ai/docs/featurestore/latest/sync-data)\n",
    "- [List sync operations](https://cloud.google.com/vertex-ai/docs/featurestore/latest/list-data-syncs)"
   ]
  },
  {
   "cell_type": "code",
   "execution_count": 21,
   "id": "3e60df7d-86d6-4dd8-ae4f-f9e637504638",
   "metadata": {
    "tags": []
   },
   "outputs": [],
   "source": [
    "bq_sync = list(online_admin_client.list_feature_view_syncs(parent = bq_view.name))[-1]"
   ]
  },
  {
   "cell_type": "code",
   "execution_count": 22,
   "id": "54b9c68e-c123-4c9b-be37-f775b2b1c88b",
   "metadata": {
    "tags": []
   },
   "outputs": [
    {
     "data": {
      "text/plain": [
       "'projects/1026793852137/locations/us-central1/featureOnlineStores/featurestore_optimized/featureViews/bq_embedding_view/featureViewSyncs/7924924894091935744'"
      ]
     },
     "execution_count": 22,
     "metadata": {},
     "output_type": "execute_result"
    }
   ],
   "source": [
    "bq_sync.name"
   ]
  },
  {
   "cell_type": "code",
   "execution_count": 23,
   "id": "dcd0d846-0adb-4f8c-96cb-175efcedbc71",
   "metadata": {
    "tags": []
   },
   "outputs": [
    {
     "name": "stdout",
     "output_type": "stream",
     "text": [
      "Succeeded!\n"
     ]
    }
   ],
   "source": [
    "while True:\n",
    "    feature_view_sync = online_admin_client.get_feature_view_sync(name = bq_sync.name)\n",
    "    if feature_view_sync.run_time.end_time.seconds > 0:\n",
    "        status = feature_view_sync.final_status.code\n",
    "        break\n",
    "    else:\n",
    "        print('waiting for 20 seconds...')\n",
    "    time.sleep(20)\n",
    "    \n",
    "if status == 0: print('Succeeded!')\n",
    "else: print('Failed!')"
   ]
  },
  {
   "cell_type": "code",
   "execution_count": 24,
   "id": "aa5ae08c-25f7-4b1f-864c-e72eeb0e7a4e",
   "metadata": {
    "tags": []
   },
   "outputs": [
    {
     "data": {
      "text/plain": [
       "ListFeatureViewSyncsPager<feature_view_syncs {\n",
       "  name: \"projects/1026793852137/locations/us-central1/featureOnlineStores/featurestore_optimized/featureViews/bq_embedding_view/featureViewSyncs/7924924894091935744\"\n",
       "  create_time {\n",
       "    seconds: 1714825378\n",
       "    nanos: 64941000\n",
       "  }\n",
       "  final_status {\n",
       "  }\n",
       "  run_time {\n",
       "    start_time {\n",
       "      seconds: 1714825378\n",
       "      nanos: 64941000\n",
       "    }\n",
       "    end_time {\n",
       "      seconds: 1714826447\n",
       "      nanos: 124028000\n",
       "    }\n",
       "  }\n",
       "}\n",
       ">"
      ]
     },
     "execution_count": 24,
     "metadata": {},
     "output_type": "execute_result"
    }
   ],
   "source": [
    "online_admin_client.list_feature_view_syncs(\n",
    "    request = dict(\n",
    "        parent = bq_view.name,\n",
    "        page_size = 1,\n",
    "        #filter = f'create_time > \"{(datetime.now() - timedelta(hours = 9)).strftime(\"%Y-%m-%dT%X\")}\"'\n",
    "    )\n",
    ")"
   ]
  },
  {
   "cell_type": "code",
   "execution_count": 25,
   "id": "07159154-bd6a-4ea6-a9e0-c2a270af9f8a",
   "metadata": {
    "tags": []
   },
   "outputs": [
    {
     "name": "stdout",
     "output_type": "stream",
     "text": [
      "Review in the console:\n",
      "\n",
      "https://console.cloud.google.com/vertex-ai/locations/us-central1/online-stores/featurestore/feature-views/bq_embedding_view?project=statmike-mlops-349915\n"
     ]
    }
   ],
   "source": [
    "print(f'Review in the console:\\n\\nhttps://console.cloud.google.com/vertex-ai/locations/{REGION}/online-stores/featurestore/feature-views/{BQ_FEATURE_VIEW_NAME}?project={PROJECT_ID}')"
   ]
  },
  {
   "cell_type": "markdown",
   "id": "385898f0-da60-4893-a9a6-bd69631a64e1",
   "metadata": {},
   "source": [
    "---\n",
    "## Online Serving From Feature Views\n",
    "\n",
    "The feature view has embeddings and features.  This section will show all the ways to retrieve features, matching entities with and without the other features, and vector based matches.  The searches will also be shown with filters and crowding.\n",
    "    \n",
    "**References:**\n",
    "- [Serve feature values](https://cloud.google.com/vertex-ai/docs/featurestore/latest/serve-feature-values)\n",
    "- **NEW SDK**:\n",
    "    - https://github.com/googleapis/python-aiplatform/blob/main/vertexai/resources/preview/feature_store/feature_view.py"
   ]
  },
  {
   "cell_type": "code",
   "execution_count": 26,
   "id": "3d581fe9-749f-4d1e-902e-746cb52b425a",
   "metadata": {
    "tags": []
   },
   "outputs": [
    {
     "data": {
      "text/plain": [
       "['51698445-2df7-4b30-8c05-661d0f934411',\n",
       " 'b47162eb-0720-4b5d-9dfb-18d239a2b35a',\n",
       " '2fba541e-a9ff-4946-8b57-0fd235fb40bd',\n",
       " 'f470444d-a2af-4de6-b08f-df37ef7d2315',\n",
       " 'b76e73da-dee3-44bd-a7b5-d5be17214ef0',\n",
       " 'e8a3d7f9-be9d-4117-832e-ab889ee0f52e',\n",
       " '9dc134af-0eb0-48b4-b468-41235c4383dd',\n",
       " '446f0f5f-a2c5-46f7-ba6b-5536a5b431b1',\n",
       " '563d577a-5021-465f-8469-1b7375295ddf',\n",
       " 'c96ae226-c169-4bca-8a03-d9117771e05b']"
      ]
     },
     "execution_count": 26,
     "metadata": {},
     "output_type": "execute_result"
    }
   ],
   "source": [
    "transaction_ids"
   ]
  },
  {
   "cell_type": "markdown",
   "id": "ba8c83e5-5bf7-46d8-8df5-5b1fa550690a",
   "metadata": {},
   "source": [
    "### Setup New SDK"
   ]
  },
  {
   "cell_type": "code",
   "execution_count": 27,
   "id": "26019f9f-9d52-4b0d-bf47-e9d20d3b14a7",
   "metadata": {
    "tags": []
   },
   "outputs": [],
   "source": [
    "from vertexai.resources.preview.feature_store.feature_view import FeatureView"
   ]
  },
  {
   "cell_type": "code",
   "execution_count": 28,
   "id": "8d71a3c5-bcd7-4cd2-91a2-10efe41e4580",
   "metadata": {
    "tags": []
   },
   "outputs": [],
   "source": [
    "fsv = FeatureView(name = bq_view.name)"
   ]
  },
  {
   "cell_type": "markdown",
   "id": "c8c2414b-39ba-4842-8572-c8c6d27850a7",
   "metadata": {},
   "source": [
    "### Retrieve Features For An Entity\n",
    "\n",
    "**NOTE:** The embedding is also retrieved."
   ]
  },
  {
   "cell_type": "code",
   "execution_count": 29,
   "id": "9e0c10c3-8037-4417-be27-6a95fb83d2b9",
   "metadata": {
    "tags": []
   },
   "outputs": [
    {
     "name": "stdout",
     "output_type": "stream",
     "text": [
      "Public endpoint for the optimized online store featurestore_optimized is 1762965740069060608.us-central1-1026793852137.featurestore.vertexai.goog\n"
     ]
    },
    {
     "data": {
      "text/plain": [
       "{'features': [{'name': 'Time', 'value': {'int64_value': '87453'}},\n",
       "  {'name': 'V1', 'value': {'double_value': -0.9135316526409949}},\n",
       "  {'name': 'V2', 'value': {'double_value': 1.48868345547945}},\n",
       "  {'name': 'V3', 'value': {'double_value': -0.0558275127733335}},\n",
       "  {'name': 'V4', 'value': {'double_value': -1.0735543425487502}},\n",
       "  {'name': 'V5', 'value': {'double_value': 0.641097083307115}},\n",
       "  {'name': 'V6', 'value': {'double_value': 0.668030764339843}},\n",
       "  {'name': 'V7', 'value': {'double_value': -0.346768028815742}},\n",
       "  {'name': 'V8', 'value': {'double_value': -3.13992719016926}},\n",
       "  {'name': 'V9', 'value': {'double_value': -0.251660311329974}},\n",
       "  {'name': 'V10', 'value': {'double_value': -1.1054730243276598}},\n",
       "  {'name': 'V11', 'value': {'double_value': 0.860519358053083}},\n",
       "  {'name': 'V12', 'value': {'double_value': 0.965772150844481}},\n",
       "  {'name': 'V13', 'value': {'double_value': 0.502979347618886}},\n",
       "  {'name': 'V14', 'value': {'double_value': -1.0579731390941}},\n",
       "  {'name': 'V15', 'value': {'double_value': -0.8717522580069209}},\n",
       "  {'name': 'V16', 'value': {'double_value': 1.06481333151256}},\n",
       "  {'name': 'V17', 'value': {'double_value': 0.147371616249919}},\n",
       "  {'name': 'V18', 'value': {'double_value': 0.6975696271587328}},\n",
       "  {'name': 'V19', 'value': {'double_value': -0.657555464577016}},\n",
       "  {'name': 'V20', 'value': {'double_value': -0.6733521728378211}},\n",
       "  {'name': 'V21', 'value': {'double_value': 2.9073089270266497}},\n",
       "  {'name': 'V22', 'value': {'double_value': -1.46178980142918}},\n",
       "  {'name': 'V23', 'value': {'double_value': -0.23916605769808802}},\n",
       "  {'name': 'V24', 'value': {'double_value': 0.189976397294374}},\n",
       "  {'name': 'V25', 'value': {'double_value': 1.9068988211848301}},\n",
       "  {'name': 'V26', 'value': {'double_value': 0.629312994668854}},\n",
       "  {'name': 'V27', 'value': {'double_value': 0.115068539946983}},\n",
       "  {'name': 'V28', 'value': {'double_value': 0.146526894105102}},\n",
       "  {'name': 'Amount', 'value': {'double_value': 35.0}},\n",
       "  {'name': 'Class', 'value': {'int64_value': '0'}},\n",
       "  {'name': 'splits', 'value': {'string_value': 'TRAIN'}},\n",
       "  {'name': 'embedding',\n",
       "   'value': {'double_array_value': {'values': [0.5977821652479549,\n",
       "      0.0,\n",
       "      0.36559913211568446,\n",
       "      0.1804625550232114,\n",
       "      0.11810490530542082,\n",
       "      0.3456272434200685,\n",
       "      0.3010381280111156,\n",
       "      0.5023903951852832]}}}]}"
      ]
     },
     "execution_count": 29,
     "metadata": {},
     "output_type": "execute_result"
    }
   ],
   "source": [
    "fsv.read(key = transaction_ids[0:1]).to_dict()"
   ]
  },
  {
   "cell_type": "markdown",
   "id": "7f42c9ed-2921-4235-a0a3-8f69e0285ed4",
   "metadata": {},
   "source": [
    "### Search For Matches Based On Entity"
   ]
  },
  {
   "cell_type": "code",
   "execution_count": 31,
   "id": "e4b2bfd9-75eb-43ef-9461-ebd0b8b84167",
   "metadata": {
    "tags": []
   },
   "outputs": [
    {
     "data": {
      "text/plain": [
       "SearchNearestEntitiesResponse(_response=nearest_neighbors {\n",
       "  neighbors {\n",
       "    entity_id: \"6410b2ea-d053-4b31-b3a9-9ffdf15934c1\"\n",
       "    distance: -0.9982097148895264\n",
       "  }\n",
       "  neighbors {\n",
       "    entity_id: \"628e0548-55c8-4491-94db-e3a4fb168ab7\"\n",
       "    distance: -0.9976215362548828\n",
       "  }\n",
       "  neighbors {\n",
       "    entity_id: \"8ab474f0-ca7f-42f9-bfdd-e7140446ba4a\"\n",
       "    distance: -0.9963568449020386\n",
       "  }\n",
       "  neighbors {\n",
       "    entity_id: \"2ca52b14-1de9-4242-bf3a-959834bcc605\"\n",
       "    distance: -0.9961671829223633\n",
       "  }\n",
       "  neighbors {\n",
       "    entity_id: \"f56fd7cd-714b-4b1b-af28-13cec7c60745\"\n",
       "    distance: -0.9953159093856812\n",
       "  }\n",
       "}\n",
       ")"
      ]
     },
     "execution_count": 31,
     "metadata": {},
     "output_type": "execute_result"
    }
   ],
   "source": [
    "fsv.search(\n",
    "    entity_id = transaction_ids[0],\n",
    "    neighbor_count = 5,\n",
    "    return_full_entity = False\n",
    ")"
   ]
  },
  {
   "cell_type": "markdown",
   "id": "360b9f3b-bc71-4520-8a10-2c5bd3bf9241",
   "metadata": {},
   "source": [
    "### Search For Matches: Return All Features"
   ]
  },
  {
   "cell_type": "code",
   "execution_count": 32,
   "id": "392caa9b-9e5d-4891-bdce-bf0e4f576dea",
   "metadata": {
    "tags": []
   },
   "outputs": [
    {
     "data": {
      "text/plain": [
       "{'neighbors': [{'entity_id': '6410b2ea-d053-4b31-b3a9-9ffdf15934c1',\n",
       "   'distance': -0.9982097148895264,\n",
       "   'entity_key_values': {'key_values': {'features': [{'name': 'Time',\n",
       "       'value': {'int64_value': '41012'}},\n",
       "      {'name': 'V1', 'value': {'double_value': -5.5127138509665095}},\n",
       "      {'name': 'V2', 'value': {'double_value': -5.6601811649875495}},\n",
       "      {'name': 'V3', 'value': {'double_value': 1.2347485263843898}},\n",
       "      {'name': 'V4', 'value': {'double_value': 0.11835837075961302}},\n",
       "      {'name': 'V5', 'value': {'double_value': 3.69773525010983}},\n",
       "      {'name': 'V6', 'value': {'double_value': -2.5178590657829703}},\n",
       "      {'name': 'V7', 'value': {'double_value': -2.78345734820181}},\n",
       "      {'name': 'V8', 'value': {'double_value': 1.19022483423165}},\n",
       "      {'name': 'V9', 'value': {'double_value': 0.548229655299798}},\n",
       "      {'name': 'V10', 'value': {'double_value': -1.55683141932904}},\n",
       "      {'name': 'V11', 'value': {'double_value': 1.18848189256695}},\n",
       "      {'name': 'V12', 'value': {'double_value': 1.5587715901980799}},\n",
       "      {'name': 'V13', 'value': {'double_value': -0.354670670696877}},\n",
       "      {'name': 'V14', 'value': {'double_value': 0.8492783909008449}},\n",
       "      {'name': 'V15', 'value': {'double_value': 0.358222600251839}},\n",
       "      {'name': 'V16', 'value': {'double_value': -0.573238988795802}},\n",
       "      {'name': 'V17', 'value': {'double_value': 0.291224187963701}},\n",
       "      {'name': 'V18', 'value': {'double_value': -0.0756225821256064}},\n",
       "      {'name': 'V19', 'value': {'double_value': -0.632189087114152}},\n",
       "      {'name': 'V20', 'value': {'double_value': 1.5380644955951899}},\n",
       "      {'name': 'V21', 'value': {'double_value': 0.7495862781401321}},\n",
       "      {'name': 'V22', 'value': {'double_value': -0.0158242526780789}},\n",
       "      {'name': 'V23', 'value': {'double_value': -0.223498682595976}},\n",
       "      {'name': 'V24', 'value': {'double_value': -0.22784539792451602}},\n",
       "      {'name': 'V25', 'value': {'double_value': 0.436737549565106}},\n",
       "      {'name': 'V26', 'value': {'double_value': -0.621096472143362}},\n",
       "      {'name': 'V27', 'value': {'double_value': 0.0678887703295499}},\n",
       "      {'name': 'V28', 'value': {'double_value': -0.930462693978887}},\n",
       "      {'name': 'Amount', 'value': {'double_value': 59.25}},\n",
       "      {'name': 'Class', 'value': {'int64_value': '0'}},\n",
       "      {'name': 'splits', 'value': {'string_value': 'TRAIN'}},\n",
       "      {'name': 'embedding',\n",
       "       'value': {'double_array_value': {'values': [0.5673730534165358,\n",
       "          0.0,\n",
       "          0.3821396761236579,\n",
       "          0.16227721253370544,\n",
       "          0.12219100640597169,\n",
       "          0.32096925049315966,\n",
       "          0.31347156150409355,\n",
       "          0.5380584269396156]}}}]}}}]}"
      ]
     },
     "execution_count": 32,
     "metadata": {},
     "output_type": "execute_result"
    }
   ],
   "source": [
    "fsv.search(\n",
    "    entity_id = transaction_ids[0],\n",
    "    neighbor_count = 1,\n",
    "    return_full_entity = True\n",
    ").to_dict()"
   ]
  },
  {
   "cell_type": "markdown",
   "id": "b60d1ef7-a94e-4c08-b0b2-b4ea2a8e0565",
   "metadata": {},
   "source": [
    "### Search For Matches Based On Embedding"
   ]
  },
  {
   "cell_type": "code",
   "execution_count": 33,
   "id": "5e321c9f-9b69-4107-b9ce-7ba2563be67f",
   "metadata": {
    "tags": []
   },
   "outputs": [
    {
     "data": {
      "text/plain": [
       "{'neighbors': [{'entity_id': 'e24b08b8-544e-4063-9d47-ae6b9fcb5b73',\n",
       "   'distance': -2.640953779220581},\n",
       "  {'entity_id': 'c1581ddc-0e0e-4aa7-ad1e-6e703fce006e',\n",
       "   'distance': -2.640927314758301},\n",
       "  {'entity_id': 'bc1016f2-0086-4659-8069-45aba2f515d2',\n",
       "   'distance': -2.6408705711364746},\n",
       "  {'entity_id': '35c0d534-ba6a-479c-96bf-4288333f62cb',\n",
       "   'distance': -2.6404473781585693},\n",
       "  {'entity_id': '36e4743b-8680-49f2-b4c7-674944cb7b7c',\n",
       "   'distance': -2.640377998352051}]}"
      ]
     },
     "execution_count": 33,
     "metadata": {},
     "output_type": "execute_result"
    }
   ],
   "source": [
    "fsv.search(\n",
    "    embedding_value = [1] * 8,\n",
    "    neighbor_count = 5,\n",
    "    return_full_entity = False\n",
    ").to_dict()"
   ]
  },
  {
   "cell_type": "markdown",
   "id": "89233f77-439b-4291-9eb4-9cf62434bc34",
   "metadata": {},
   "source": [
    "### Search For Matches: With Filter\n",
    "\n",
    "Use allow and deny tokens to subset the search.  In this case the data had a `splits` column with values 'TRAIN', 'TEST', 'VALIDATE'.  This search will look for matches in the 'TEST' and 'VALIDATE' entities and not the 'TRAIN' entities."
   ]
  },
  {
   "cell_type": "code",
   "execution_count": 34,
   "id": "911cb80d-53a0-4993-b2f6-57b6cd7e663d",
   "metadata": {
    "tags": []
   },
   "outputs": [
    {
     "data": {
      "text/plain": [
       "{'neighbors': [{'entity_id': '4ffd1d9a-209e-42d8-9811-324fca5287a1',\n",
       "   'distance': -0.9949505925178528},\n",
       "  {'entity_id': '7a3590c5-3a07-466b-b0ef-43ef77dee7e8',\n",
       "   'distance': -0.9934127926826477},\n",
       "  {'entity_id': 'fbd44e94-86b7-4c8a-a0ae-72a6e4c403e0',\n",
       "   'distance': -0.9924111366271973},\n",
       "  {'entity_id': '5922c640-850e-4bd4-87d4-dd1e1cc00fcb',\n",
       "   'distance': -0.9923803806304932},\n",
       "  {'entity_id': '61410583-131a-4930-8b82-d005a821bc79',\n",
       "   'distance': -0.9911936521530151},\n",
       "  {'entity_id': 'a8b656ab-b96f-42a4-aace-594b72c1795c',\n",
       "   'distance': -0.9911452531814575}]}"
      ]
     },
     "execution_count": 34,
     "metadata": {},
     "output_type": "execute_result"
    }
   ],
   "source": [
    "fsv.search(\n",
    "    entity_id = transaction_ids[0],\n",
    "    neighbor_count = 5,\n",
    "    return_full_entity = False,\n",
    "    string_filters = [\n",
    "        aiplatform.gapic.NearestNeighborQuery.StringFilter(\n",
    "            name = 'splits',\n",
    "            allow_tokens = ['TEST', 'VALIDATE'],\n",
    "            deny_tokens = ['TRAIN']\n",
    "        )\n",
    "    ]\n",
    ").to_dict()"
   ]
  },
  {
   "cell_type": "markdown",
   "id": "e30fc8c0-1a90-4768-88d8-a74bfea4c6d8",
   "metadata": {},
   "source": [
    "### Search For Matches: With Filter And Crowding\n",
    "\n",
    "Extending the filtering to also limit the number of matches based on the labeles stored in the column `Class` which was used as the crowding column. The `per_crowding_attribute_neighbor_count` parameter limmits the number of matches returned by the values of `Class`, giving a variety of matches based on this crowding column."
   ]
  },
  {
   "cell_type": "code",
   "execution_count": 35,
   "id": "edfdb91b-9756-439b-8513-e6d826f899ec",
   "metadata": {
    "tags": []
   },
   "outputs": [
    {
     "data": {
      "text/plain": [
       "{'neighbors': [{'entity_id': '4ffd1d9a-209e-42d8-9811-324fca5287a1',\n",
       "   'distance': -0.9949505925178528},\n",
       "  {'entity_id': '7a3590c5-3a07-466b-b0ef-43ef77dee7e8',\n",
       "   'distance': -0.9934127926826477},\n",
       "  {'entity_id': 'fbd44e94-86b7-4c8a-a0ae-72a6e4c403e0',\n",
       "   'distance': -0.9924111366271973}]}"
      ]
     },
     "execution_count": 35,
     "metadata": {},
     "output_type": "execute_result"
    }
   ],
   "source": [
    "fsv.search(\n",
    "    entity_id = transaction_ids[0],\n",
    "    neighbor_count = 5,\n",
    "    return_full_entity = False,\n",
    "    string_filters = [\n",
    "        aiplatform.gapic.NearestNeighborQuery.StringFilter(\n",
    "            name = 'splits',\n",
    "            allow_tokens = ['TEST', 'VALIDATE'],\n",
    "            deny_tokens = ['TRAIN']\n",
    "        )\n",
    "    ],\n",
    "    per_crowding_attribute_neighbor_count = 3\n",
    ").to_dict()"
   ]
  },
  {
   "cell_type": "markdown",
   "id": "255e3d44-1eb2-4380-af45-367115a37d68",
   "metadata": {},
   "source": [
    "### Search For Matches: Increase The Search Space"
   ]
  },
  {
   "cell_type": "code",
   "execution_count": 39,
   "id": "dd57c726-2674-4a2b-ba4e-a504c303a0d3",
   "metadata": {
    "tags": []
   },
   "outputs": [
    {
     "data": {
      "text/plain": [
       "{'neighbors': [{'entity_id': '6410b2ea-d053-4b31-b3a9-9ffdf15934c1',\n",
       "   'distance': -0.9982097148895264},\n",
       "  {'entity_id': '628e0548-55c8-4491-94db-e3a4fb168ab7',\n",
       "   'distance': -0.9976215362548828},\n",
       "  {'entity_id': '8ab474f0-ca7f-42f9-bfdd-e7140446ba4a',\n",
       "   'distance': -0.9963568449020386},\n",
       "  {'entity_id': '2ca52b14-1de9-4242-bf3a-959834bcc605',\n",
       "   'distance': -0.9961671829223633},\n",
       "  {'entity_id': 'f56fd7cd-714b-4b1b-af28-13cec7c60745',\n",
       "   'distance': -0.9953159093856812}]}"
      ]
     },
     "execution_count": 39,
     "metadata": {},
     "output_type": "execute_result"
    }
   ],
   "source": [
    "fsv.search(\n",
    "    entity_id = transaction_ids[0],\n",
    "    neighbor_count = 5,\n",
    "    return_full_entity = False,\n",
    "    leaf_nodes_search_fraction = 1.0\n",
    ").to_dict()"
   ]
  },
  {
   "cell_type": "markdown",
   "id": "64350846-a772-4c0d-924e-934b86c258c7",
   "metadata": {},
   "source": [
    "## Search For Matches: Brute Force"
   ]
  },
  {
   "cell_type": "markdown",
   "id": "72b56ec0-bfdf-42bc-b6cb-b4111b8ec6a4",
   "metadata": {},
   "source": [
    "### Create Feature View: From BigQuery Source\n",
    "\n",
    "**Similar to Above But With Brute Force Configuration**\n",
    "\n",
    "Create a feature view directly from a BigQuery table/view, the 'latest' version created above.\n",
    "\n",
    "**Reference:**\n",
    "- [Create a feature view from a BigQuery source](https://cloud.google.com/vertex-ai/docs/featurestore/latest/create-featureview#create_from_bq)\n",
    "- API Link for [`aiplatform.gapic.FeatureView.IndexConfig()`](https://cloud.google.com/python/docs/reference/aiplatform/latest/google.cloud.aiplatform_v1.types.FeatureView.IndexConfig)"
   ]
  },
  {
   "cell_type": "code",
   "execution_count": 40,
   "id": "0172be2c-6f82-471b-8bbb-be8535f68a6d",
   "metadata": {
    "tags": []
   },
   "outputs": [],
   "source": [
    "BQ_FEATURE_VIEW_NAME_2 = 'bq_embedding_bruteforce_view'"
   ]
  },
  {
   "cell_type": "code",
   "execution_count": 41,
   "id": "422edf07-bf41-4b05-a459-f68bd0f9e6f2",
   "metadata": {
    "tags": []
   },
   "outputs": [
    {
     "data": {
      "text/plain": [
       "'projects/1026793852137/locations/us-central1/featureOnlineStores/featurestore_optimized/featureViews/bq_embedding_bruteforce_view'"
      ]
     },
     "execution_count": 41,
     "metadata": {},
     "output_type": "execute_result"
    }
   ],
   "source": [
    "try:\n",
    "    bq_view = online_admin_client.get_feature_view(name = f'{online_store.name}/featureViews/{BQ_FEATURE_VIEW_NAME_2}')\n",
    "except Exception:\n",
    "    create_bq_view = online_admin_client.create_feature_view(\n",
    "        request = aiplatform.gapic.CreateFeatureViewRequest(\n",
    "            parent = online_store.name,\n",
    "            feature_view_id = BQ_FEATURE_VIEW_NAME_2,\n",
    "            feature_view = aiplatform.gapic.FeatureView(\n",
    "                big_query_source = aiplatform.gapic.FeatureView.BigQuerySource(\n",
    "                    uri = f'bq://{BQ_PROJECT}.{BQ_DATASET}.{BQ_TABLE}',\n",
    "                    entity_id_columns = ['transaction_id']\n",
    "                ),\n",
    "                sync_config = aiplatform.gapic.FeatureView.SyncConfig(cron = 'TZ=America/New_York 10 * * * *'),\n",
    "                index_config = aiplatform.gapic.FeatureView.IndexConfig(\n",
    "                    embedding_column = 'embedding',\n",
    "                    embedding_dimension = 8,\n",
    "                    filter_columns = ['splits'],\n",
    "                    crowding_column = 'Class',\n",
    "                    #tree_ah_config = aiplatform.gapic.FeatureView.IndexConfig.TreeAHConfig(\n",
    "                    #    leaf_node_embedding_count = 500\n",
    "                    #),\n",
    "                    brute_force_config = aiplatform.gapic.FeatureView.IndexConfig.BruteForceConfig(),\n",
    "                    distance_measure_type = aiplatform.gapic.FeatureView.IndexConfig.DistanceMeasureType(3)\n",
    "                )\n",
    "            ),\n",
    "            run_sync_immediately = True\n",
    "        )\n",
    "    )\n",
    "    bq_view = create_bq_view.result()\n",
    "    \n",
    "bq_view.name"
   ]
  },
  {
   "cell_type": "code",
   "execution_count": 42,
   "id": "1b648d9f-4ef7-4b17-8a65-130005421146",
   "metadata": {
    "tags": []
   },
   "outputs": [
    {
     "name": "stdout",
     "output_type": "stream",
     "text": [
      "Review in the console:\n",
      "\n",
      "https://console.cloud.google.com/vertex-ai/locations/us-central1/online-stores/featurestore/feature-views/bq_embedding_bruteforce_view?project=statmike-mlops-349915\n"
     ]
    }
   ],
   "source": [
    "print(f'Review in the console:\\n\\nhttps://console.cloud.google.com/vertex-ai/locations/{REGION}/online-stores/featurestore/feature-views/{BQ_FEATURE_VIEW_NAME_2}?project={PROJECT_ID}')"
   ]
  },
  {
   "cell_type": "code",
   "execution_count": 43,
   "id": "5a9e0126-cb9a-4c5d-9085-2202760686b9",
   "metadata": {
    "tags": []
   },
   "outputs": [],
   "source": [
    "bq_sync = list(online_admin_client.list_feature_view_syncs(parent = bq_view.name))[-1]"
   ]
  },
  {
   "cell_type": "code",
   "execution_count": 44,
   "id": "29481c9f-294b-4dfd-8f55-7d6c89cee57e",
   "metadata": {
    "tags": []
   },
   "outputs": [
    {
     "data": {
      "text/plain": [
       "'projects/1026793852137/locations/us-central1/featureOnlineStores/featurestore_optimized/featureViews/bq_embedding_bruteforce_view/featureViewSyncs/6509956783237234688'"
      ]
     },
     "execution_count": 44,
     "metadata": {},
     "output_type": "execute_result"
    }
   ],
   "source": [
    "bq_sync.name"
   ]
  },
  {
   "cell_type": "code",
   "execution_count": 45,
   "id": "346a0093-8cbc-4301-8715-dc7d33ca8da6",
   "metadata": {
    "tags": []
   },
   "outputs": [
    {
     "name": "stdout",
     "output_type": "stream",
     "text": [
      "waiting for 20 seconds...\n",
      "waiting for 20 seconds...\n",
      "waiting for 20 seconds...\n",
      "waiting for 20 seconds...\n",
      "waiting for 20 seconds...\n",
      "waiting for 20 seconds...\n",
      "waiting for 20 seconds...\n",
      "waiting for 20 seconds...\n",
      "Succeeded!\n"
     ]
    }
   ],
   "source": [
    "while True:\n",
    "    feature_view_sync = online_admin_client.get_feature_view_sync(name = bq_sync.name)\n",
    "    if feature_view_sync.run_time.end_time.seconds > 0:\n",
    "        status = feature_view_sync.final_status.code\n",
    "        break\n",
    "    else:\n",
    "        print('waiting for 20 seconds...')\n",
    "    time.sleep(20)\n",
    "    \n",
    "if status == 0: print('Succeeded!')\n",
    "else: print('Failed!')"
   ]
  },
  {
   "cell_type": "markdown",
   "id": "a2526e5e-f108-4841-8dc9-55f219ffaab4",
   "metadata": {},
   "source": [
    "### Brute Force Search"
   ]
  },
  {
   "cell_type": "code",
   "execution_count": 50,
   "id": "a9dd7ae1-de59-484b-82c3-1d44f5bb97d4",
   "metadata": {
    "tags": []
   },
   "outputs": [],
   "source": [
    "fsv = vertexai.resources.preview.FeatureView(name = bq_view.name)"
   ]
  },
  {
   "cell_type": "code",
   "execution_count": 51,
   "id": "69291521-5dea-403c-a7c9-a1353d6fbd62",
   "metadata": {
    "tags": []
   },
   "outputs": [
    {
     "data": {
      "text/plain": [
       "'51698445-2df7-4b30-8c05-661d0f934411'"
      ]
     },
     "execution_count": 51,
     "metadata": {},
     "output_type": "execute_result"
    }
   ],
   "source": [
    "transaction_ids[0]"
   ]
  },
  {
   "cell_type": "code",
   "execution_count": 54,
   "id": "8e9c31c8-d9a3-4ded-bcc3-91bd52582e1c",
   "metadata": {
    "tags": []
   },
   "outputs": [
    {
     "data": {
      "text/html": [
       "Query job 41bd2aa7-ea09-44fa-aaa4-c6685777d554 is DONE. 101.7 MB processed. <a target=\"_blank\" href=\"https://console.cloud.google.com/bigquery?project=statmike-mlops-349915&j=bq:us-central1:41bd2aa7-ea09-44fa-aaa4-c6685777d554&page=queryresults\">Open Job</a>"
      ],
      "text/plain": [
       "<IPython.core.display.HTML object>"
      ]
     },
     "metadata": {},
     "output_type": "display_data"
    },
    {
     "data": {
      "text/plain": [
       "[0.5977821652479549,\n",
       " 0.0,\n",
       " 0.36559913211568446,\n",
       " 0.1804625550232114,\n",
       " 0.11810490530542082,\n",
       " 0.3456272434200685,\n",
       " 0.3010381280111156,\n",
       " 0.5023903951852832]"
      ]
     },
     "execution_count": 54,
     "metadata": {},
     "output_type": "execute_result"
    }
   ],
   "source": [
    "embedding = source_data[(source_data['transaction_id'] == transaction_ids[0])]['embedding'][0]\n",
    "embedding"
   ]
  },
  {
   "cell_type": "code",
   "execution_count": 55,
   "id": "f1b31cdf-2b18-499d-ae02-a55fa9518088",
   "metadata": {
    "tags": []
   },
   "outputs": [
    {
     "data": {
      "text/plain": [
       "{'neighbors': [{'entity_id': '51698445-2df7-4b30-8c05-661d0f934411',\n",
       "   'distance': -1.0},\n",
       "  {'entity_id': '6410b2ea-d053-4b31-b3a9-9ffdf15934c1',\n",
       "   'distance': -0.9982097148895264},\n",
       "  {'entity_id': '628e0548-55c8-4491-94db-e3a4fb168ab7',\n",
       "   'distance': -0.9976215362548828},\n",
       "  {'entity_id': '8ab474f0-ca7f-42f9-bfdd-e7140446ba4a',\n",
       "   'distance': -0.9963568449020386},\n",
       "  {'entity_id': '2ca52b14-1de9-4242-bf3a-959834bcc605',\n",
       "   'distance': -0.9961671829223633}]}"
      ]
     },
     "execution_count": 55,
     "metadata": {},
     "output_type": "execute_result"
    }
   ],
   "source": [
    "fsv.search(\n",
    "    #entity_id = transaction_ids[0],\n",
    "    embedding_value = embedding,\n",
    "    neighbor_count = 5,\n",
    "    return_full_entity = False\n",
    ").to_dict()"
   ]
  },
  {
   "cell_type": "markdown",
   "id": "029d1524-014b-4df8-a78f-7d91751c7c9b",
   "metadata": {},
   "source": [
    "## Cleanup\n",
    "\n",
    "This deletes the Feature Store objects: Registry Views, Online Store, Feature, then Feature Group, "
   ]
  },
  {
   "cell_type": "code",
   "execution_count": 131,
   "id": "70d22f5b-2b98-4b64-b66b-05b93ff7e4c7",
   "metadata": {
    "tags": []
   },
   "outputs": [],
   "source": [
    "# delete feature store objects:\n",
    "\n",
    "del_registry_views = False\n",
    "del_online_store = False\n",
    "#del_features = False\n",
    "#del_feature_group = False\n",
    "\n",
    "if del_registry_views:\n",
    "    #online_admin_client.delete_feature_view(name = registry_view.name)\n",
    "    online_admin_client.delete_feature_view(name = bq_view.name)\n",
    "if del_online_store:\n",
    "    online_admin_client.delete_feature_online_store(name = online_store.name, force = True)\n",
    "#if del_features:\n",
    "#    registry_client.delete_feature(name = feature.name)\n",
    "#if del_feature_group:\n",
    "#    registry_client.delete_feature_group(name = feature_group.name)"
   ]
  }
 ],
 "metadata": {
  "environment": {
   "kernel": "conda-base-py",
   "name": "workbench-notebooks.m124",
   "type": "gcloud",
   "uri": "us-docker.pkg.dev/deeplearning-platform-release/gcr.io/workbench-notebooks:m124"
  },
  "kernelspec": {
   "display_name": "Python 3 (ipykernel)",
   "language": "python",
   "name": "conda-base-py"
  },
  "language_info": {
   "codemirror_mode": {
    "name": "ipython",
    "version": 3
   },
   "file_extension": ".py",
   "mimetype": "text/x-python",
   "name": "python",
   "nbconvert_exporter": "python",
   "pygments_lexer": "ipython3",
   "version": "3.10.14"
  }
 },
 "nbformat": 4,
 "nbformat_minor": 5
}
