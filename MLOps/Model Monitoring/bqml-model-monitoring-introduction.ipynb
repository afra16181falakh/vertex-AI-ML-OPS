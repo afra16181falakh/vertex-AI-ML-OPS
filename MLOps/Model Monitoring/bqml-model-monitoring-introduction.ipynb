{
 "cells": [
  {
   "cell_type": "markdown",
   "id": "0a71d4ca",
   "metadata": {},
   "source": [
    "![tracker](https://us-central1-vertex-ai-mlops-369716.cloudfunctions.net/pixel-tracking?path=statmike%2Fvertex-ai-mlops%2FMLOps%2FModel+Monitoring&file=bqml-model-monitoring-introduction.ipynb)\n",
    "<!--- header table --->\n",
    "<table align=\"left\">\n",
    "  <td style=\"text-align: center\">\n",
    "    <a href=\"https://colab.research.google.com/github/statmike/vertex-ai-mlops/blob/main/MLOps/Model%20Monitoring/bqml-model-monitoring-introduction.ipynb\">\n",
    "      <img src=\"https://cloud.google.com/ml-engine/images/colab-logo-32px.png\" alt=\"Google Colaboratory logo\">\n",
    "      <br>Run in<br>Colab\n",
    "    </a>\n",
    "  </td>\n",
    "  <td style=\"text-align: center\">\n",
    "    <a href=\"https://console.cloud.google.com/vertex-ai/colab/import/https%3A%2F%2Fraw.githubusercontent.com%2Fstatmike%2Fvertex-ai-mlops%2Fmain%2FMLOps%2FModel%2520Monitoring%2Fbqml-model-monitoring-introduction.ipynb\">\n",
    "      <img width=\"32px\" src=\"https://lh3.googleusercontent.com/JmcxdQi-qOpctIvWKgPtrzZdJJK-J3sWE1RsfjZNwshCFgE_9fULcNpuXYTilIR2hjwN\" alt=\"Google Cloud Colab Enterprise logo\">\n",
    "      <br>Run in<br>Colab Enterprise\n",
    "    </a>\n",
    "  </td>      \n",
    "  <td style=\"text-align: center\">\n",
    "    <a href=\"https://github.com/statmike/vertex-ai-mlops/blob/main/MLOps/Model%20Monitoring/bqml-model-monitoring-introduction.ipynb\">\n",
    "      <img src=\"https://cloud.google.com/ml-engine/images/github-logo-32px.png\" alt=\"GitHub logo\">\n",
    "      <br>View on<br>GitHub\n",
    "    </a>\n",
    "  </td>\n",
    "  <td style=\"text-align: center\">\n",
    "    <a href=\"https://console.cloud.google.com/vertex-ai/workbench/deploy-notebook?download_url=https://raw.githubusercontent.com/statmike/vertex-ai-mlops/main/MLOps/Model%20Monitoring/bqml-model-monitoring-introduction.ipynb\">\n",
    "      <img src=\"https://lh3.googleusercontent.com/UiNooY4LUgW_oTvpsNhPpQzsstV5W8F7rYgxgGBD85cWJoLmrOzhVs_ksK_vgx40SHs7jCqkTkCk=e14-rj-sc0xffffff-h130-w32\" alt=\"Vertex AI logo\">\n",
    "      <br>Open in<br>Vertex AI Workbench\n",
    "    </a>\n",
    "  </td>\n",
    "</table>"
   ]
  },
  {
   "cell_type": "markdown",
   "id": "edcf4f67-ef83-424a-94ad-b1d53326870a",
   "metadata": {
    "tags": []
   },
   "source": [
    "# BigQuery ML (BQML) - Model Monitoring Introduction\n",
    "---\n",
    "**UPDATES:**\n",
    "- **Now With Vertex AI Model Monitoring Integration For [Monitoring visualiation](https://cloud.google.com/bigquery/docs/model-monitoring-overview#monitoring_visualization)** - March 2025\n",
    "---\n",
    "\n",
    "This is an introduction to model monitoring with BigQuery that accompanies the [blog announcing these features](https://cloud.google.com/blog/products/data-analytics/monitor-ml-model-skew-and-drift-in-bigquery).  You may also want to continue on to the in-depth tutorial that accompanies this introduction: ['BigQuery ML (BQML) - Model Monitoring Tutorial'](./bqml-model-monitoring-tutorial.ipynb).\n",
    "\n",
    "This notebook provides a hands-on introduction to [model monitoring with BigQuery ML](https://cloud.google.com/bigquery/docs/model-monitoring-overview). It guides you through the process of training a model, and then implementing monitoring techniques to detect data skew and drift.  An example of automating model monitoring with alerts and retraining is included.\n",
    "\n",
    "**Key Features Explored:**\n",
    "\n",
    "* **Data Understanding with [`ML.DESCRIBE_DATA`](https://cloud.google.com/bigquery/docs/reference/standard-sql/bigqueryml-syntax-describe-data):** Analyze the distribution of values in your dataset to identify potential issues and inform feature engineering decisions.\n",
    "* **Model Training with `CREATE MODEL`:** Train a machine learning model directly in BigQuery using the `CREATE MODEL` statement.\n",
    "* **Monitoring Skew with [`ML.VALIDATE_DATA_SKEW`](https://cloud.google.com/bigquery/docs/reference/standard-sql/bigqueryml-syntax-validate-data-skew):** Compare the distribution of your serving data to the training data to detect potential data skew.\n",
    "* **Monitoring Drift with [`ML.VALIDATE_DATA_DRIFT`](https://cloud.google.com/bigquery/docs/reference/standard-sql/bigqueryml-syntax-validate-data-drift):** Compare the distribution of your serving data over time to detect potential data drift.\n",
    "* **TensorFlow Data Validation (TFDV) Integration:** Leverage the power of TFDV within BigQuery to generate descriptive statistics and visualize anomalies using [`ML.TFDV_DESCRIBE`](https://cloud.google.com/bigquery/docs/reference/standard-sql/bigqueryml-syntax-tfdv-describe) and [`ML.TFDV_VALIDATE`](https://cloud.google.com/bigquery/docs/reference/standard-sql/bigqueryml-syntax-tfdv-validate).\n",
    "* **Continuous Monitoring Job:** Build a BigQuery SQL job that automates the monitoring process and triggers retraining actions when necessary.\n",
    "\n",
    "**Benefits of Using BigQuery ML Model Monitoring:**\n",
    "\n",
    "* **Early Detection of Issues:** Identify potential problems with your model's performance before they impact your business.\n",
    "* **Improved Model Accuracy:** Ensure your model remains accurate over time by detecting and addressing data skew and drift.\n",
    "* **Reduced Operational Costs:** Automate the monitoring process to save time and resources.\n",
    "* **Enhanced Decision-Making:** Gain insights into how your data is changing and make informed decisions about model retraining and deployment.\n",
    "\n",
    "**Target Audience:**\n",
    "\n",
    "This notebook is designed for data scientists, machine learning engineers, and anyone interested in learning about [model monitoring with BigQuery ML](https://cloud.google.com/bigquery/docs/model-monitoring-overview).\n",
    "\n",
    "**Getting Started:**\n",
    "\n",
    "To get started, you will need a [Google Cloud Platform](https:/cloud.google.com) account and a basic understanding of [BigQuery](https://cloud.google.com/bigquery) and SQL. \n",
    "\n",
    "**Additional Resources:**\n",
    "\n",
    "* [BigQuery ML Documentation](https://cloud.google.com/bigquery-ml/docs/)\n",
    "* [BigQuery ML Model Monitoring](https://cloud.google.com/bigquery/docs/model-monitoring-overview)\n",
    "    - [`ML.DESCRIBE_DATA`](https://cloud.google.com/bigquery/docs/reference/standard-sql/bigqueryml-syntax-describe-data)\n",
    "    - [`ML.VALIDATE_DATA_SKEW`](https://cloud.google.com/bigquery/docs/reference/standard-sql/bigqueryml-syntax-validate-data-skew)\n",
    "    - [`ML.VALIDATE_DATA_DRIFT`](https://cloud.google.com/bigquery/docs/reference/standard-sql/bigqueryml-syntax-validate-data-drift)\n",
    "    - [`ML.TFDV_DESCRIBE`](https://cloud.google.com/bigquery/docs/reference/standard-sql/bigqueryml-syntax-tfdv-describe)\n",
    "    - [`ML.TFDV_VALIDATE`](https://cloud.google.com/bigquery/docs/reference/standard-sql/bigqueryml-syntax-tfdv-validate)\n",
    "\n",
    "**Summary:**\n",
    "\n",
    "BigQuery ML model monitoring provides a powerful and efficient way to ensure the ongoing performance and accuracy of your machine learning models. By leveraging the techniques and tools covered in this notebook, you can gain valuable insights into your data, detect potential issues early on, and take corrective actions to maintain the effectiveness of your models over time.\n"
   ]
  },
  {
   "cell_type": "markdown",
   "id": "ac715ea0-269a-41d1-a0ac-c2c944e2c7f1",
   "metadata": {
    "id": "J_-1oCZ7oQe_"
   },
   "source": [
    "---\n",
    "## Colab Setup\n",
    "\n",
    "When running this notebook in [Colab](https://colab.google/) or [Colab Enterprise](https://cloud.google.com/colab/docs/introduction), this section will authenticate to GCP (follow prompts in the popup) and set the current project for the session."
   ]
  },
  {
   "cell_type": "code",
   "execution_count": 1,
   "id": "4aebd58b-5deb-48f1-b720-36c81ab55bf7",
   "metadata": {
    "executionInfo": {
     "elapsed": 178,
     "status": "ok",
     "timestamp": 1710716382256,
     "user": {
      "displayName": "Mike Henderson",
      "userId": "07691629187611687318"
     },
     "user_tz": 240
    },
    "id": "bUeb3Vz9c-cz",
    "tags": []
   },
   "outputs": [],
   "source": [
    "PROJECT_ID = 'statmike-mlops-349915' # replace with project ID"
   ]
  },
  {
   "cell_type": "code",
   "execution_count": 2,
   "id": "60bfdf5c-e988-4e0a-b613-129985779467",
   "metadata": {
    "colab": {
     "base_uri": "https://localhost:8080/"
    },
    "executionInfo": {
     "elapsed": 1769,
     "status": "ok",
     "timestamp": 1710716384851,
     "user": {
      "displayName": "Mike Henderson",
      "userId": "07691629187611687318"
     },
     "user_tz": 240
    },
    "id": "ztC0h14fc-fr",
    "outputId": "16d1144f-1671-4919-edba-31bc197ffc7b",
    "tags": []
   },
   "outputs": [
    {
     "name": "stdout",
     "output_type": "stream",
     "text": [
      "Not a Colab Environment\n"
     ]
    }
   ],
   "source": [
    "try:\n",
    "    from google.colab import auth\n",
    "    auth.authenticate_user(project_id = PROJECT_ID)\n",
    "    print('Colab authorized to GCP')\n",
    "except Exception:\n",
    "    print('Not a Colab Environment')\n",
    "    pass"
   ]
  },
  {
   "cell_type": "markdown",
   "id": "dda1ce01-3292-4863-81d0-e604e87e43b0",
   "metadata": {},
   "source": [
    "---\n",
    "## Installs\n",
    "\n",
    "The list `packages` contains tuples of package import names and install names.  If the import name is not found then the install name is used to install quitely for the current user."
   ]
  },
  {
   "cell_type": "code",
   "execution_count": 3,
   "id": "d940c10d-7160-46bb-9fa3-dabe10db88c5",
   "metadata": {
    "tags": []
   },
   "outputs": [],
   "source": [
    "# tuples of (import name, install name, min_version)\n",
    "packages = [\n",
    "    ('tensorflow_data_validation', 'tensorflow-data-validation'),\n",
    "    ('tensorflow_metadata', 'tensorflow-metadata'),\n",
    "    ('google.cloud.bigquery', 'google-cloud-bigquery')\n",
    "]\n",
    "\n",
    "import importlib\n",
    "install = False\n",
    "for package in packages:\n",
    "    if not importlib.util.find_spec(package[0]):\n",
    "        print(f'installing package {package[1]}')\n",
    "        install = True\n",
    "        !pip install {package[1]} -U -q --user\n",
    "    elif len(package) == 3:\n",
    "        if importlib.metadata.version(package[0]) < package[2]:\n",
    "            print(f'updating package {package[1]}')\n",
    "            install = True\n",
    "            !pip install {package[1]} -U -q --user"
   ]
  },
  {
   "cell_type": "markdown",
   "id": "b2bd3c28-1971-41bc-af2d-1e477d0b79b7",
   "metadata": {},
   "source": [
    "### API Enablement"
   ]
  },
  {
   "cell_type": "code",
   "execution_count": 4,
   "id": "d7a33029-8a85-42a4-a640-c4700193374a",
   "metadata": {
    "tags": []
   },
   "outputs": [],
   "source": [
    "!gcloud services enable aiplatform.googleapis.com"
   ]
  },
  {
   "cell_type": "markdown",
   "id": "641a36a1-c26c-4f3b-990e-64254a9fd1a8",
   "metadata": {},
   "source": [
    "### Restart Kernel (If Installs Occured)\n",
    "After a kernel restart the code submission can start with the next cell after this one."
   ]
  },
  {
   "cell_type": "code",
   "execution_count": 5,
   "id": "14d26af3-e34b-4d30-b5bd-97afda537ed5",
   "metadata": {
    "tags": []
   },
   "outputs": [],
   "source": [
    "if install:\n",
    "    import IPython\n",
    "    app = IPython.Application.instance()\n",
    "    app.kernel.do_shutdown(True)\n",
    "    IPython.display.display(IPython.display.Markdown(\"\"\"<div class=\\\"alert alert-block alert-warning\\\">\n",
    "        <b>⚠️ The kernel is going to restart. Please wait until it is finished before continuing to the next step. The previous cells do not need to be run again⚠️</b>\n",
    "        </div>\"\"\"))"
   ]
  },
  {
   "cell_type": "markdown",
   "id": "b9e093cd-4926-4d28-ab7d-6ad2543dee03",
   "metadata": {
    "id": "yt5uZFvRoWLp"
   },
   "source": [
    "---\n",
    "## Setup"
   ]
  },
  {
   "cell_type": "markdown",
   "id": "f978b8f9-45bc-4628-95e5-4e0e457dbb33",
   "metadata": {},
   "source": [
    "Packages:"
   ]
  },
  {
   "cell_type": "code",
   "execution_count": 6,
   "id": "2a7851f5-8e91-4d78-8575-ffc6ab10843f",
   "metadata": {
    "tags": []
   },
   "outputs": [],
   "source": [
    "import json"
   ]
  },
  {
   "cell_type": "markdown",
   "id": "578e625c-3e15-40fe-9fe6-8a0d521193f1",
   "metadata": {},
   "source": [
    "Clients:"
   ]
  },
  {
   "cell_type": "code",
   "execution_count": 7,
   "id": "7f368df4-6b6a-4772-a085-6ff74978cf50",
   "metadata": {
    "colab": {
     "base_uri": "https://localhost:8080/"
    },
    "executionInfo": {
     "elapsed": 159,
     "status": "ok",
     "timestamp": 1710716582376,
     "user": {
      "displayName": "Mike Henderson",
      "userId": "07691629187611687318"
     },
     "user_tz": 240
    },
    "id": "14nUE43Oc-ip",
    "outputId": "55b2c2b1-b6ad-42cc-b3cc-d6e3afcaa071",
    "tags": []
   },
   "outputs": [
    {
     "name": "stdout",
     "output_type": "stream",
     "text": [
      "The google.cloud.bigquery extension is already loaded. To reload it, use:\n",
      "  %reload_ext google.cloud.bigquery\n"
     ]
    }
   ],
   "source": [
    "%load_ext google.cloud.bigquery"
   ]
  },
  {
   "cell_type": "markdown",
   "id": "31fac07a-34bc-4d22-8624-ab52d29695ec",
   "metadata": {},
   "source": [
    "Prepare the code below for your environment.\n",
    "\n",
    "This notebook takes advantage of the [BigQuery IPython magic](https://cloud.google.com/python/docs/reference/bigquery/latest/magics) for legibility and ease of copy/pasting to BigQuery SQL editor.  If this notebook is being used from an environment that can run notebooks it needs further preparation: Colab, Colab Enterprise, Vertex AI Workbench Instances, or BigQuery Studio with a Python Notebook.  The SQL code in these cells uses the fully qualified [BigQuery table](https://cloud.google.com/bigquery/docs/tables-intro) names in the form `projectname.datasetname.tablename`.  Prepare for your environment by:\n",
    "- Edit > Find\n",
    "    - Find: `statmike-mlops-349915`\n",
    "    - Replace: `<your project id>`\n",
    "    - Replace All"
   ]
  },
  {
   "cell_type": "markdown",
   "id": "e50f0ccd-a43d-488d-8e47-0b3f4d46fbfc",
   "metadata": {},
   "source": [
    "---\n",
    "## BigQuery Source Data\n",
    "\n",
    "This project will uses the following data source as a tutorial.  It is good for examples like this because it is small, has few columns, but contains categorial and numerical data types.\n",
    "\n",
    "The source table is a BigQuery Public Dataset table.  The following cell uses the [BigQuery IPython magic](https://cloud.google.com/python/docs/reference/bigquery/latest/magics) to retrieve 5 rows of the table for review.  This data is known as [Palmer Penguins](https://allisonhorst.github.io/palmerpenguins/) data: \n",
    "\n",
    "```\n",
    "@Manual{,\n",
    "  title = {palmerpenguins: Palmer Archipelago (Antarctica) penguin data},\n",
    "  author = {Allison Marie Horst and Alison Presmanes Hill and Kristen B Gorman},\n",
    "  year = {2020},\n",
    "  note = {R package version 0.1.0},\n",
    "  doi = {10.5281/zenodo.3960218},\n",
    "  url = {https://allisonhorst.github.io/palmerpenguins/},\n",
    "}\n",
    "```\n",
    "\n",
    "\n",
    "There are 334 observations of 4 numerical features (culman length, culmen depth, flipper length, body mass) and 2  categorical features (island, sex) that represent 3 species of penguins."
   ]
  },
  {
   "cell_type": "code",
   "execution_count": 8,
   "id": "001fe23d-4eae-4731-ba68-c7bff0dc2898",
   "metadata": {
    "tags": []
   },
   "outputs": [
    {
     "data": {
      "application/vnd.jupyter.widget-view+json": {
       "model_id": "3632514449324b95a2224b6f152bc83d",
       "version_major": 2,
       "version_minor": 0
      },
      "text/plain": [
       "Query is running:   0%|          |"
      ]
     },
     "metadata": {},
     "output_type": "display_data"
    },
    {
     "data": {
      "application/vnd.jupyter.widget-view+json": {
       "model_id": "4eaf19bb3ebd43a086c420fb89e49d43",
       "version_major": 2,
       "version_minor": 0
      },
      "text/plain": [
       "Downloading:   0%|          |"
      ]
     },
     "metadata": {},
     "output_type": "display_data"
    },
    {
     "data": {
      "text/html": [
       "<div>\n",
       "<style scoped>\n",
       "    .dataframe tbody tr th:only-of-type {\n",
       "        vertical-align: middle;\n",
       "    }\n",
       "\n",
       "    .dataframe tbody tr th {\n",
       "        vertical-align: top;\n",
       "    }\n",
       "\n",
       "    .dataframe thead th {\n",
       "        text-align: right;\n",
       "    }\n",
       "</style>\n",
       "<table border=\"1\" class=\"dataframe\">\n",
       "  <thead>\n",
       "    <tr style=\"text-align: right;\">\n",
       "      <th></th>\n",
       "      <th>species</th>\n",
       "      <th>island</th>\n",
       "      <th>culmen_length_mm</th>\n",
       "      <th>culmen_depth_mm</th>\n",
       "      <th>flipper_length_mm</th>\n",
       "      <th>body_mass_g</th>\n",
       "      <th>sex</th>\n",
       "    </tr>\n",
       "  </thead>\n",
       "  <tbody>\n",
       "    <tr>\n",
       "      <th>0</th>\n",
       "      <td>Adelie Penguin (Pygoscelis adeliae)</td>\n",
       "      <td>Dream</td>\n",
       "      <td>36.6</td>\n",
       "      <td>18.4</td>\n",
       "      <td>184.0</td>\n",
       "      <td>3475.0</td>\n",
       "      <td>FEMALE</td>\n",
       "    </tr>\n",
       "    <tr>\n",
       "      <th>1</th>\n",
       "      <td>Adelie Penguin (Pygoscelis adeliae)</td>\n",
       "      <td>Dream</td>\n",
       "      <td>39.8</td>\n",
       "      <td>19.1</td>\n",
       "      <td>184.0</td>\n",
       "      <td>4650.0</td>\n",
       "      <td>MALE</td>\n",
       "    </tr>\n",
       "    <tr>\n",
       "      <th>2</th>\n",
       "      <td>Adelie Penguin (Pygoscelis adeliae)</td>\n",
       "      <td>Dream</td>\n",
       "      <td>40.9</td>\n",
       "      <td>18.9</td>\n",
       "      <td>184.0</td>\n",
       "      <td>3900.0</td>\n",
       "      <td>MALE</td>\n",
       "    </tr>\n",
       "    <tr>\n",
       "      <th>3</th>\n",
       "      <td>Chinstrap penguin (Pygoscelis antarctica)</td>\n",
       "      <td>Dream</td>\n",
       "      <td>46.5</td>\n",
       "      <td>17.9</td>\n",
       "      <td>192.0</td>\n",
       "      <td>3500.0</td>\n",
       "      <td>FEMALE</td>\n",
       "    </tr>\n",
       "    <tr>\n",
       "      <th>4</th>\n",
       "      <td>Adelie Penguin (Pygoscelis adeliae)</td>\n",
       "      <td>Dream</td>\n",
       "      <td>37.3</td>\n",
       "      <td>16.8</td>\n",
       "      <td>192.0</td>\n",
       "      <td>3000.0</td>\n",
       "      <td>FEMALE</td>\n",
       "    </tr>\n",
       "  </tbody>\n",
       "</table>\n",
       "</div>"
      ],
      "text/plain": [
       "                                     species island  culmen_length_mm  \\\n",
       "0        Adelie Penguin (Pygoscelis adeliae)  Dream              36.6   \n",
       "1        Adelie Penguin (Pygoscelis adeliae)  Dream              39.8   \n",
       "2        Adelie Penguin (Pygoscelis adeliae)  Dream              40.9   \n",
       "3  Chinstrap penguin (Pygoscelis antarctica)  Dream              46.5   \n",
       "4        Adelie Penguin (Pygoscelis adeliae)  Dream              37.3   \n",
       "\n",
       "   culmen_depth_mm  flipper_length_mm  body_mass_g     sex  \n",
       "0             18.4              184.0       3475.0  FEMALE  \n",
       "1             19.1              184.0       4650.0    MALE  \n",
       "2             18.9              184.0       3900.0    MALE  \n",
       "3             17.9              192.0       3500.0  FEMALE  \n",
       "4             16.8              192.0       3000.0  FEMALE  "
      ]
     },
     "execution_count": 8,
     "metadata": {},
     "output_type": "execute_result"
    }
   ],
   "source": [
    "%%bigquery\n",
    "SELECT *\n",
    "FROM `bigquery-public-data.ml_datasets.penguins`\n",
    "LIMIT 5"
   ]
  },
  {
   "cell_type": "markdown",
   "id": "ba1a2148-e509-486f-9595-f579adab5b13",
   "metadata": {},
   "source": [
    "---\n",
    "## **Goal: Train, Serve, And Monitor A Model**\n",
    "\n",
    "**Train A Model**\n",
    "\n",
    "In this workflow our goal is to train and operationalize a machine leanring model that can classify unidentified penguins into the correct `species` using only measurements (`culmen_length_mm`, `culmen_depth_mm`, `flipper_length_mm`, `body_mass_g`), location (`island`) and gender (`sex`).  That means serving predictions, monitoring features, and potentially retraining the model.\n",
    "\n",
    "**Operationalize The Model**\n",
    "\n",
    "Taking a trained model to production introduces challenges. The model needs to be regularly evaluated to understand it's performance once put into production. This can be challenging as actual values used to assess the accuracy of predictions may arrive later than the predictions. Continuous monitoring bridges this gap with early signals in two key ways. First, monitoring the distributions of each of the models features for shift (called **skew**) from the training data to the current data. Then, also monitoring for any gradual **drift** in the distribution over time. Setting thresholds and getting alerts for features on each of this distribution changes gives early signals that the model needs to be carefully considered for evaluation and re-training to ensure effectiveness. If the evaluation can be automated then this can even extend to **continuous training**. "
   ]
  },
  {
   "cell_type": "markdown",
   "id": "c06462a5-cec4-40c3-93a8-cb4c7fc03845",
   "metadata": {},
   "source": [
    "---\n",
    "## Data Preparation"
   ]
  },
  {
   "cell_type": "markdown",
   "id": "f1782a42-8fe6-4991-ab64-de67c3033de4",
   "metadata": {
    "tags": []
   },
   "source": [
    "### Understand The Data Source With `ML.DESCRIBE_DATA`\n",
    "\n",
    "Reviewing a few records, like above, gives a good sense of how the data is arranged. Before proceeding with machine learning techniques it is important to understand more about these raw columns.  Are they ready to use a features in a model or is some form of feature engineering needed first?  For this, the distribution of values is an important starting point.  \n",
    "\n",
    "While SQL could be used to look at the distribution, it would be a time consuming process and requires different techniques for different data types like numerical, string, boolean, dates, times, array and struct version of these, and arrays of structs.\n",
    "\n",
    "To make this process fast and simple, the new [`ML.DESCRIBE_DATA`](https://cloud.google.com/bigquery/docs/reference/standard-sql/bigqueryml-syntax-describe-data) function is used to get a single row for each column the describes the data distribution:\n",
    "- `top_k`: get the top 3 most frequent categories for string columns (default = 1)\n",
    "- `num_quantiles`: get 4 quantiles for numerical columns (default = 2)"
   ]
  },
  {
   "cell_type": "code",
   "execution_count": 9,
   "id": "8a0d999c-b1e1-41e6-98dd-e83db5777c49",
   "metadata": {
    "tags": []
   },
   "outputs": [
    {
     "data": {
      "application/vnd.jupyter.widget-view+json": {
       "model_id": "4d0cc71c8a024d09ac903124e9059280",
       "version_major": 2,
       "version_minor": 0
      },
      "text/plain": [
       "Query is running:   0%|          |"
      ]
     },
     "metadata": {},
     "output_type": "display_data"
    },
    {
     "data": {
      "application/vnd.jupyter.widget-view+json": {
       "model_id": "82f27791a1c74b2e84aa2257462c41cb",
       "version_major": 2,
       "version_minor": 0
      },
      "text/plain": [
       "Downloading:   0%|          |"
      ]
     },
     "metadata": {},
     "output_type": "display_data"
    },
    {
     "data": {
      "text/html": [
       "<div>\n",
       "<style scoped>\n",
       "    .dataframe tbody tr th:only-of-type {\n",
       "        vertical-align: middle;\n",
       "    }\n",
       "\n",
       "    .dataframe tbody tr th {\n",
       "        vertical-align: top;\n",
       "    }\n",
       "\n",
       "    .dataframe thead th {\n",
       "        text-align: right;\n",
       "    }\n",
       "</style>\n",
       "<table border=\"1\" class=\"dataframe\">\n",
       "  <thead>\n",
       "    <tr style=\"text-align: right;\">\n",
       "      <th></th>\n",
       "      <th>name</th>\n",
       "      <th>num_rows</th>\n",
       "      <th>num_nulls</th>\n",
       "      <th>num_zeros</th>\n",
       "      <th>min</th>\n",
       "      <th>max</th>\n",
       "      <th>mean</th>\n",
       "      <th>stddev</th>\n",
       "      <th>median</th>\n",
       "      <th>quantiles</th>\n",
       "      <th>unique</th>\n",
       "      <th>avg_string_length</th>\n",
       "      <th>num_values</th>\n",
       "      <th>top_values</th>\n",
       "      <th>min_array_length</th>\n",
       "      <th>max_array_length</th>\n",
       "      <th>avg_array_length</th>\n",
       "      <th>total_array_length</th>\n",
       "      <th>array_length_quantiles</th>\n",
       "      <th>dimension</th>\n",
       "    </tr>\n",
       "  </thead>\n",
       "  <tbody>\n",
       "    <tr>\n",
       "      <th>0</th>\n",
       "      <td>body_mass_g</td>\n",
       "      <td>344</td>\n",
       "      <td>2</td>\n",
       "      <td>0</td>\n",
       "      <td>2700</td>\n",
       "      <td>6300</td>\n",
       "      <td>4201.754386</td>\n",
       "      <td>800.781229</td>\n",
       "      <td>4000.0</td>\n",
       "      <td>[2700.0, 3550.0, 4000.0, 4750.0, 6300.0]</td>\n",
       "      <td>&lt;NA&gt;</td>\n",
       "      <td>NaN</td>\n",
       "      <td>342</td>\n",
       "      <td>[]</td>\n",
       "      <td>&lt;NA&gt;</td>\n",
       "      <td>&lt;NA&gt;</td>\n",
       "      <td>NaN</td>\n",
       "      <td>&lt;NA&gt;</td>\n",
       "      <td>[]</td>\n",
       "      <td>&lt;NA&gt;</td>\n",
       "    </tr>\n",
       "    <tr>\n",
       "      <th>1</th>\n",
       "      <td>culmen_depth_mm</td>\n",
       "      <td>344</td>\n",
       "      <td>2</td>\n",
       "      <td>0</td>\n",
       "      <td>13.1</td>\n",
       "      <td>21.5</td>\n",
       "      <td>17.151170</td>\n",
       "      <td>1.971904</td>\n",
       "      <td>17.3</td>\n",
       "      <td>[13.1, 15.5, 17.3, 18.7, 21.5]</td>\n",
       "      <td>&lt;NA&gt;</td>\n",
       "      <td>NaN</td>\n",
       "      <td>342</td>\n",
       "      <td>[]</td>\n",
       "      <td>&lt;NA&gt;</td>\n",
       "      <td>&lt;NA&gt;</td>\n",
       "      <td>NaN</td>\n",
       "      <td>&lt;NA&gt;</td>\n",
       "      <td>[]</td>\n",
       "      <td>&lt;NA&gt;</td>\n",
       "    </tr>\n",
       "    <tr>\n",
       "      <th>2</th>\n",
       "      <td>culmen_length_mm</td>\n",
       "      <td>344</td>\n",
       "      <td>2</td>\n",
       "      <td>0</td>\n",
       "      <td>32.1</td>\n",
       "      <td>59.6</td>\n",
       "      <td>43.921930</td>\n",
       "      <td>5.451596</td>\n",
       "      <td>44.1</td>\n",
       "      <td>[32.1, 39.2, 44.4, 48.5, 59.6]</td>\n",
       "      <td>&lt;NA&gt;</td>\n",
       "      <td>NaN</td>\n",
       "      <td>342</td>\n",
       "      <td>[]</td>\n",
       "      <td>&lt;NA&gt;</td>\n",
       "      <td>&lt;NA&gt;</td>\n",
       "      <td>NaN</td>\n",
       "      <td>&lt;NA&gt;</td>\n",
       "      <td>[]</td>\n",
       "      <td>&lt;NA&gt;</td>\n",
       "    </tr>\n",
       "    <tr>\n",
       "      <th>3</th>\n",
       "      <td>flipper_length_mm</td>\n",
       "      <td>344</td>\n",
       "      <td>2</td>\n",
       "      <td>0</td>\n",
       "      <td>172</td>\n",
       "      <td>231</td>\n",
       "      <td>200.915205</td>\n",
       "      <td>14.041141</td>\n",
       "      <td>197.0</td>\n",
       "      <td>[172.0, 190.0, 197.0, 213.0, 231.0]</td>\n",
       "      <td>&lt;NA&gt;</td>\n",
       "      <td>NaN</td>\n",
       "      <td>342</td>\n",
       "      <td>[]</td>\n",
       "      <td>&lt;NA&gt;</td>\n",
       "      <td>&lt;NA&gt;</td>\n",
       "      <td>NaN</td>\n",
       "      <td>&lt;NA&gt;</td>\n",
       "      <td>[]</td>\n",
       "      <td>&lt;NA&gt;</td>\n",
       "    </tr>\n",
       "    <tr>\n",
       "      <th>4</th>\n",
       "      <td>island</td>\n",
       "      <td>344</td>\n",
       "      <td>0</td>\n",
       "      <td>&lt;NA&gt;</td>\n",
       "      <td>Biscoe</td>\n",
       "      <td>Torgersen</td>\n",
       "      <td>NaN</td>\n",
       "      <td>NaN</td>\n",
       "      <td>NaN</td>\n",
       "      <td>[]</td>\n",
       "      <td>3</td>\n",
       "      <td>6.093023</td>\n",
       "      <td>344</td>\n",
       "      <td>[{'value': 'Biscoe', 'count': 168}, {'value': ...</td>\n",
       "      <td>&lt;NA&gt;</td>\n",
       "      <td>&lt;NA&gt;</td>\n",
       "      <td>NaN</td>\n",
       "      <td>&lt;NA&gt;</td>\n",
       "      <td>[]</td>\n",
       "      <td>&lt;NA&gt;</td>\n",
       "    </tr>\n",
       "    <tr>\n",
       "      <th>5</th>\n",
       "      <td>sex</td>\n",
       "      <td>344</td>\n",
       "      <td>10</td>\n",
       "      <td>&lt;NA&gt;</td>\n",
       "      <td>.</td>\n",
       "      <td>MALE</td>\n",
       "      <td>NaN</td>\n",
       "      <td>NaN</td>\n",
       "      <td>NaN</td>\n",
       "      <td>[]</td>\n",
       "      <td>3</td>\n",
       "      <td>4.979042</td>\n",
       "      <td>334</td>\n",
       "      <td>[{'value': 'MALE', 'count': 168}, {'value': 'F...</td>\n",
       "      <td>&lt;NA&gt;</td>\n",
       "      <td>&lt;NA&gt;</td>\n",
       "      <td>NaN</td>\n",
       "      <td>&lt;NA&gt;</td>\n",
       "      <td>[]</td>\n",
       "      <td>&lt;NA&gt;</td>\n",
       "    </tr>\n",
       "    <tr>\n",
       "      <th>6</th>\n",
       "      <td>species</td>\n",
       "      <td>344</td>\n",
       "      <td>0</td>\n",
       "      <td>&lt;NA&gt;</td>\n",
       "      <td>Adelie Penguin (Pygoscelis adeliae)</td>\n",
       "      <td>Gentoo penguin (Pygoscelis papua)</td>\n",
       "      <td>NaN</td>\n",
       "      <td>NaN</td>\n",
       "      <td>NaN</td>\n",
       "      <td>[]</td>\n",
       "      <td>3</td>\n",
       "      <td>35.465116</td>\n",
       "      <td>344</td>\n",
       "      <td>[{'value': 'Adelie Penguin (Pygoscelis adeliae...</td>\n",
       "      <td>&lt;NA&gt;</td>\n",
       "      <td>&lt;NA&gt;</td>\n",
       "      <td>NaN</td>\n",
       "      <td>&lt;NA&gt;</td>\n",
       "      <td>[]</td>\n",
       "      <td>&lt;NA&gt;</td>\n",
       "    </tr>\n",
       "  </tbody>\n",
       "</table>\n",
       "</div>"
      ],
      "text/plain": [
       "                name  num_rows  num_nulls  num_zeros  \\\n",
       "0        body_mass_g       344          2          0   \n",
       "1    culmen_depth_mm       344          2          0   \n",
       "2   culmen_length_mm       344          2          0   \n",
       "3  flipper_length_mm       344          2          0   \n",
       "4             island       344          0       <NA>   \n",
       "5                sex       344         10       <NA>   \n",
       "6            species       344          0       <NA>   \n",
       "\n",
       "                                   min                                max  \\\n",
       "0                                 2700                               6300   \n",
       "1                                 13.1                               21.5   \n",
       "2                                 32.1                               59.6   \n",
       "3                                  172                                231   \n",
       "4                               Biscoe                          Torgersen   \n",
       "5                                    .                               MALE   \n",
       "6  Adelie Penguin (Pygoscelis adeliae)  Gentoo penguin (Pygoscelis papua)   \n",
       "\n",
       "          mean      stddev  median                                 quantiles  \\\n",
       "0  4201.754386  800.781229  4000.0  [2700.0, 3550.0, 4000.0, 4750.0, 6300.0]   \n",
       "1    17.151170    1.971904    17.3            [13.1, 15.5, 17.3, 18.7, 21.5]   \n",
       "2    43.921930    5.451596    44.1            [32.1, 39.2, 44.4, 48.5, 59.6]   \n",
       "3   200.915205   14.041141   197.0       [172.0, 190.0, 197.0, 213.0, 231.0]   \n",
       "4          NaN         NaN     NaN                                        []   \n",
       "5          NaN         NaN     NaN                                        []   \n",
       "6          NaN         NaN     NaN                                        []   \n",
       "\n",
       "   unique  avg_string_length  num_values  \\\n",
       "0    <NA>                NaN         342   \n",
       "1    <NA>                NaN         342   \n",
       "2    <NA>                NaN         342   \n",
       "3    <NA>                NaN         342   \n",
       "4       3           6.093023         344   \n",
       "5       3           4.979042         334   \n",
       "6       3          35.465116         344   \n",
       "\n",
       "                                          top_values  min_array_length  \\\n",
       "0                                                 []              <NA>   \n",
       "1                                                 []              <NA>   \n",
       "2                                                 []              <NA>   \n",
       "3                                                 []              <NA>   \n",
       "4  [{'value': 'Biscoe', 'count': 168}, {'value': ...              <NA>   \n",
       "5  [{'value': 'MALE', 'count': 168}, {'value': 'F...              <NA>   \n",
       "6  [{'value': 'Adelie Penguin (Pygoscelis adeliae...              <NA>   \n",
       "\n",
       "   max_array_length  avg_array_length  total_array_length  \\\n",
       "0              <NA>               NaN                <NA>   \n",
       "1              <NA>               NaN                <NA>   \n",
       "2              <NA>               NaN                <NA>   \n",
       "3              <NA>               NaN                <NA>   \n",
       "4              <NA>               NaN                <NA>   \n",
       "5              <NA>               NaN                <NA>   \n",
       "6              <NA>               NaN                <NA>   \n",
       "\n",
       "  array_length_quantiles  dimension  \n",
       "0                     []       <NA>  \n",
       "1                     []       <NA>  \n",
       "2                     []       <NA>  \n",
       "3                     []       <NA>  \n",
       "4                     []       <NA>  \n",
       "5                     []       <NA>  \n",
       "6                     []       <NA>  "
      ]
     },
     "execution_count": 9,
     "metadata": {},
     "output_type": "execute_result"
    }
   ],
   "source": [
    "%%bigquery\n",
    "SELECT *\n",
    "FROM ML.DESCRIBE_DATA(\n",
    "  TABLE `bigquery-public-data.ml_datasets.penguins`,\n",
    "    STRUCT(3 AS top_k, 4 AS num_quantiles)\n",
    ")"
   ]
  },
  {
   "cell_type": "markdown",
   "id": "8f58175c-cf15-42eb-966b-00967e8e6338",
   "metadata": {},
   "source": [
    "Some observations:\n",
    "- All columns have `num_rows` and `num_nulls`\n",
    "- Numerical columns have `min`, `max`, `stddev`, `median`, and `quantiles` showing the distribution of the data in the column\n",
    "- Categorical (string) columns have `min`, `max` values representing the class levels and a `unique` column show how many class levels\n",
    "\n",
    "Data quality observation:\n",
    "- The column `sex` has both missing values (10 indicated in `num_nulls`) as well as a `min` values of `.`.  This appears to be a data quality issue that needs fixing."
   ]
  },
  {
   "cell_type": "markdown",
   "id": "0b89a2de-1efb-42a5-86ba-674acc31c37d",
   "metadata": {
    "tags": []
   },
   "source": [
    "### Create A BigQuery Dataset\n",
    "\n",
    "Create a new [BigQuery Dataset](https://cloud.google.com/bigquery/docs/datasets) as a working location for this workflow:"
   ]
  },
  {
   "cell_type": "code",
   "execution_count": 10,
   "id": "ef30ccf6-88af-4f55-9b59-e5a859f8f571",
   "metadata": {
    "tags": []
   },
   "outputs": [
    {
     "data": {
      "application/vnd.jupyter.widget-view+json": {
       "model_id": "80df9a5d305a45b397b27381b1fa4627",
       "version_major": 2,
       "version_minor": 0
      },
      "text/plain": [
       "Query is running:   0%|          |"
      ]
     },
     "metadata": {},
     "output_type": "display_data"
    },
    {
     "data": {
      "text/html": [
       "<div>\n",
       "<style scoped>\n",
       "    .dataframe tbody tr th:only-of-type {\n",
       "        vertical-align: middle;\n",
       "    }\n",
       "\n",
       "    .dataframe tbody tr th {\n",
       "        vertical-align: top;\n",
       "    }\n",
       "\n",
       "    .dataframe thead th {\n",
       "        text-align: right;\n",
       "    }\n",
       "</style>\n",
       "<table border=\"1\" class=\"dataframe\">\n",
       "  <thead>\n",
       "    <tr style=\"text-align: right;\">\n",
       "      <th></th>\n",
       "    </tr>\n",
       "  </thead>\n",
       "  <tbody>\n",
       "  </tbody>\n",
       "</table>\n",
       "</div>"
      ],
      "text/plain": [
       "Empty DataFrame\n",
       "Columns: []\n",
       "Index: []"
      ]
     },
     "execution_count": 10,
     "metadata": {},
     "output_type": "execute_result"
    }
   ],
   "source": [
    "%%bigquery\n",
    "CREATE SCHEMA IF NOT EXISTS `statmike-mlops-349915.bqml_model_monitoring`\n",
    "    OPTIONS(\n",
    "        location = 'US'\n",
    "    )"
   ]
  },
  {
   "cell_type": "markdown",
   "id": "af666b3d-54cd-442f-a8ab-d11af61fd2d3",
   "metadata": {},
   "source": [
    "### Prepare The Source Data\n",
    "\n",
    "Make a copy of the table source in the new BigQuery dataset with fixes applied to the data quality issue identified for the `sex` column with values of `.`.\n",
    "\n",
    "> Note: A copy is being made in this case because the source project is `bigquery-public` which is not editable."
   ]
  },
  {
   "cell_type": "code",
   "execution_count": 11,
   "id": "0f0ba60c-d0a1-4abb-947c-9049f21a23d0",
   "metadata": {
    "tags": []
   },
   "outputs": [
    {
     "data": {
      "application/vnd.jupyter.widget-view+json": {
       "model_id": "342ff268ed0249edbf227ee4ad1f5885",
       "version_major": 2,
       "version_minor": 0
      },
      "text/plain": [
       "Query is running:   0%|          |"
      ]
     },
     "metadata": {},
     "output_type": "display_data"
    },
    {
     "data": {
      "text/html": [
       "<div>\n",
       "<style scoped>\n",
       "    .dataframe tbody tr th:only-of-type {\n",
       "        vertical-align: middle;\n",
       "    }\n",
       "\n",
       "    .dataframe tbody tr th {\n",
       "        vertical-align: top;\n",
       "    }\n",
       "\n",
       "    .dataframe thead th {\n",
       "        text-align: right;\n",
       "    }\n",
       "</style>\n",
       "<table border=\"1\" class=\"dataframe\">\n",
       "  <thead>\n",
       "    <tr style=\"text-align: right;\">\n",
       "      <th></th>\n",
       "    </tr>\n",
       "  </thead>\n",
       "  <tbody>\n",
       "  </tbody>\n",
       "</table>\n",
       "</div>"
      ],
      "text/plain": [
       "Empty DataFrame\n",
       "Columns: []\n",
       "Index: []"
      ]
     },
     "execution_count": 11,
     "metadata": {},
     "output_type": "execute_result"
    }
   ],
   "source": [
    "%%bigquery\n",
    "CREATE OR REPLACE TABLE `statmike-mlops-349915.bqml_model_monitoring.training` AS\n",
    "    SELECT * EXCEPT(sex),\n",
    "        CASE WHEN sex = '.' THEN NULL ELSE sex END AS sex\n",
    "    FROM `bigquery-public-data.ml_datasets.penguins`"
   ]
  },
  {
   "cell_type": "markdown",
   "id": "7b8952bc-ac6a-4ee7-91ee-8ed580f98321",
   "metadata": {
    "tags": []
   },
   "source": [
    "---\n",
    "## Model Training\n",
    "\n",
    "Create a model trained to classify `species` for the traning records.  Here, directly in BigQuery, the [`CREATE MODEL` statement for generalized linear models models](https://cloud.google.com/bigquery/docs/reference/standard-sql/bigqueryml-syntax-create-glm) is used.  This uses the `TRANSFORM` clause within the model to embed user specified transfomations within the model for use during serving and model monitoring which will both be show later in this introduction.\n",
    "\n",
    "\n",
    "> **Note:** The ['BigQuery ML (BQML) - Model Monitoring Tutorial'](./bqml-model-monitoring-tutorial.ipynb) includes training a random forest.\n",
    "\n",
    "From reviewing the training data above, the following transformations will be tried:\n",
    "- Apply [`ML.ROBUST_SCALER`](https://cloud.google.com/bigquery/docs/reference/standard-sql/bigqueryml-syntax-robust-scaler) to `body_mass_g`\n",
    "- Apply [`ML.STANDARD_SCALER`](https://cloud.google.com/bigquery/docs/reference/standard-sql/bigqueryml-syntax-standard-scaler) to `culmen_depth_mm` and `culmen_length_mm`\n",
    "- Apply [`ML.QUANTILE_BUCKATIZE`](https://cloud.google.com/bigquery/docs/reference/standard-sql/bigqueryml-syntax-quantile-bucketize) to `flipper_length_mm`\n",
    "- Apply [`ML.IMPUTER`](https://cloud.google.com/bigquery/docs/reference/standard-sql/bigqueryml-syntax-imputer) to `island`, and `sex`"
   ]
  },
  {
   "cell_type": "code",
   "execution_count": 12,
   "id": "c7d4fa03-5b61-4269-8b55-30097137bb99",
   "metadata": {
    "tags": []
   },
   "outputs": [
    {
     "data": {
      "application/vnd.jupyter.widget-view+json": {
       "model_id": "6c92699055f54a77ae4899091fcbb2c4",
       "version_major": 2,
       "version_minor": 0
      },
      "text/plain": [
       "Query is running:   0%|          |"
      ]
     },
     "metadata": {},
     "output_type": "display_data"
    },
    {
     "data": {
      "text/html": [
       "<div>\n",
       "<style scoped>\n",
       "    .dataframe tbody tr th:only-of-type {\n",
       "        vertical-align: middle;\n",
       "    }\n",
       "\n",
       "    .dataframe tbody tr th {\n",
       "        vertical-align: top;\n",
       "    }\n",
       "\n",
       "    .dataframe thead th {\n",
       "        text-align: right;\n",
       "    }\n",
       "</style>\n",
       "<table border=\"1\" class=\"dataframe\">\n",
       "  <thead>\n",
       "    <tr style=\"text-align: right;\">\n",
       "      <th></th>\n",
       "    </tr>\n",
       "  </thead>\n",
       "  <tbody>\n",
       "  </tbody>\n",
       "</table>\n",
       "</div>"
      ],
      "text/plain": [
       "Empty DataFrame\n",
       "Columns: []\n",
       "Index: []"
      ]
     },
     "execution_count": 12,
     "metadata": {},
     "output_type": "execute_result"
    }
   ],
   "source": [
    "%%bigquery\n",
    "CREATE OR REPLACE MODEL `statmike-mlops-349915.bqml_model_monitoring.classify_species_logistic`\n",
    "    TRANSFORM(\n",
    "        ML.ROBUST_SCALER(body_mass_g) OVER() AS body_mass_g,\n",
    "        ML.STANDARD_SCALER(culmen_length_mm) OVER() AS culmen_length_mm,\n",
    "        ML.STANDARD_SCALER(culmen_depth_mm) OVER() AS culmen_depth_mm,\n",
    "        ML.QUANTILE_BUCKETIZE(flipper_length_mm, 3) OVER() AS flipper_length_mm,\n",
    "        ML.IMPUTER(sex, 'most_frequent') OVER() AS sex,\n",
    "        ML.IMPUTER(island, 'most_frequent') OVER() AS island,\n",
    "        species\n",
    "    )\n",
    "    OPTIONS(\n",
    "        MODEL_TYPE = 'LOGISTIC_REG',\n",
    "        INPUT_LABEL_COLS = ['species'],\n",
    "        \n",
    "        # data specifics\n",
    "        DATA_SPLIT_METHOD = 'AUTO_SPLIT',\n",
    "        \n",
    "        # model specifics\n",
    "        AUTO_CLASS_WEIGHTS = TRUE,\n",
    "        \n",
    "        # register model in Vertex AI Model Registry\n",
    "        MODEL_REGISTRY = 'VERTEX_AI',\n",
    "        VERTEX_AI_MODEL_ID = 'classify_species_logistic'\n",
    "    )\n",
    "AS\n",
    "    SELECT *\n",
    "    FROM `statmike-mlops-349915.bqml_model_monitoring.training`"
   ]
  },
  {
   "cell_type": "code",
   "execution_count": 13,
   "id": "dc893743-d8a8-4e7b-bfce-8dd4005845c7",
   "metadata": {
    "tags": []
   },
   "outputs": [
    {
     "data": {
      "application/vnd.jupyter.widget-view+json": {
       "model_id": "91854a8cf3b44684a67181abfcbebe55",
       "version_major": 2,
       "version_minor": 0
      },
      "text/plain": [
       "Query is running:   0%|          |"
      ]
     },
     "metadata": {},
     "output_type": "display_data"
    },
    {
     "data": {
      "application/vnd.jupyter.widget-view+json": {
       "model_id": "dad6a04f39a44ffe93a05af37c987be0",
       "version_major": 2,
       "version_minor": 0
      },
      "text/plain": [
       "Downloading:   0%|          |"
      ]
     },
     "metadata": {},
     "output_type": "display_data"
    }
   ],
   "source": [
    "%%bigquery history\n",
    "SELECT *\n",
    "FROM ML.TRAINING_INFO(MODEL `statmike-mlops-349915.bqml_model_monitoring.classify_species_logistic`)\n",
    "ORDER BY iteration"
   ]
  },
  {
   "cell_type": "code",
   "execution_count": 14,
   "id": "a569af60-9e77-4155-966e-3c56a537fe82",
   "metadata": {
    "tags": []
   },
   "outputs": [
    {
     "data": {
      "text/plain": [
       "<Axes: xlabel='iteration'>"
      ]
     },
     "execution_count": 14,
     "metadata": {},
     "output_type": "execute_result"
    },
    {
     "data": {
      "image/png": "[encoded data removed]",
      "text/plain": [
       "<Figure size 800x200 with 1 Axes>"
      ]
     },
     "metadata": {},
     "output_type": "display_data"
    }
   ],
   "source": [
    "history.plot(x = 'iteration', y = ['loss','eval_loss'], figsize = (8, 2), grid = True)"
   ]
  },
  {
   "cell_type": "markdown",
   "id": "361b7bee-af29-4951-bd51-4b38f47aca44",
   "metadata": {},
   "source": [
    "This model training could be followed by evaluation and prediction tasks using the many helpful BigQuery ML functions.  To learn more about these check out the [End-to-end user journey for each model](https://cloud.google.com/bigquery/docs/e2e-journey) type."
   ]
  },
  {
   "cell_type": "markdown",
   "id": "6f5d7b38-8d10-4aac-b2e1-e9519e8454ca",
   "metadata": {
    "tags": []
   },
   "source": [
    "---\n",
    "## Serving Data\n",
    "\n",
    "The data source for training and evaluation represents what is known about a system at a point-in-time.  In real world systems measurements can change for many reasons, for example:\n",
    "- training/serving skew due to measurement and data systems:\n",
    "    - the tool used for measurement may change resulting is slight shifts and variations\n",
    "    - the system reporting results might be updated and introduce errors like rearranging the order or parameters and format of the results\n",
    "    - the data processing systems might have changes that alter the calculations of measurements\n",
    "- the system, environment, or subjects being measured may:\n",
    "    - change behaviors\n",
    "    - short-term even forces change\n",
    "    - have environmental changes that impact them\n",
    "    - have seasonal changes that were not represented in the training data\n",
    "    - change in general due to upstream causes"
   ]
  },
  {
   "cell_type": "markdown",
   "id": "d1551514-7bc3-42fe-87d2-8c9e324e5e1b",
   "metadata": {},
   "source": [
    "### Introduce Changes Over Time\n",
    "\n",
    "To illustrate the impact of change over time, the following code creates a new set of data from a 20% sample of the training data.  It creates a series of changes to measurements for each of the past 30 days.  In each case, the values of the parameters `flipper_length_mm` and `body_mass_g` are allowed to slightly increase which can accumulate over the timespan. This might mimic a potential growth season for the penguins that might not have been represented in the training data.\n",
    "\n",
    "This table of serving data could be sourced form where your features are coming from.  In the case of an online model, like [Vertex AI Prediction Endpoints](https://cloud.google.com/vertex-ai/docs/predictions/overview), then [prediction request could be logged to BigQuery](https://cloud.google.com/vertex-ai/docs/predictions/online-prediction-logging#enabling-and-disabling) for use in the model monitoring tasks below.  This pattern is also covered in the accompanying ['BigQuery ML (BQML) - Model Monitoring Tutorial'](./bqml-model-monitoring-tutorial.ipynb)."
   ]
  },
  {
   "cell_type": "code",
   "execution_count": 15,
   "id": "c6603e07-7d5f-4f0a-aa06-e92fc87757e2",
   "metadata": {
    "tags": []
   },
   "outputs": [
    {
     "data": {
      "application/vnd.jupyter.widget-view+json": {
       "model_id": "c420d8b41ef64824bb02e2514d416934",
       "version_major": 2,
       "version_minor": 0
      },
      "text/plain": [
       "Query is running:   0%|          |"
      ]
     },
     "metadata": {},
     "output_type": "display_data"
    },
    {
     "data": {
      "text/html": [
       "<div>\n",
       "<style scoped>\n",
       "    .dataframe tbody tr th:only-of-type {\n",
       "        vertical-align: middle;\n",
       "    }\n",
       "\n",
       "    .dataframe tbody tr th {\n",
       "        vertical-align: top;\n",
       "    }\n",
       "\n",
       "    .dataframe thead th {\n",
       "        text-align: right;\n",
       "    }\n",
       "</style>\n",
       "<table border=\"1\" class=\"dataframe\">\n",
       "  <thead>\n",
       "    <tr style=\"text-align: right;\">\n",
       "      <th></th>\n",
       "    </tr>\n",
       "  </thead>\n",
       "  <tbody>\n",
       "  </tbody>\n",
       "</table>\n",
       "</div>"
      ],
      "text/plain": [
       "Empty DataFrame\n",
       "Columns: []\n",
       "Index: []"
      ]
     },
     "execution_count": 15,
     "metadata": {},
     "output_type": "execute_result"
    }
   ],
   "source": [
    "%%bigquery\n",
    "DECLARE counter INT64 DEFAULT 30;\n",
    "\n",
    "# actual data as starting point - add entity_id, and feature_timestamp:\n",
    "CREATE OR REPLACE TABLE `statmike-mlops-349915.bqml_model_monitoring.serving` AS\n",
    "    SELECT * EXCEPT(flipper_length_mm, body_mass_g),\n",
    "    TIMESTAMP_SUB(TIMESTAMP(CURRENT_DATE()), INTERVAL counter DAY) AS instance_timestamp,\n",
    "    flipper_length_mm as flipper_length_mm,\n",
    "    body_mass_g as body_mass_g\n",
    "    FROM `statmike-mlops-349915.bqml_model_monitoring.training`\n",
    "    WHERE RAND() <= 0.20;\n",
    "\n",
    "LOOP\n",
    "    SET counter = counter - 1;\n",
    "    IF counter < 0 THEN LEAVE;\n",
    "    END IF;\n",
    "    INSERT `statmike-mlops-349915.bqml_model_monitoring.serving`\n",
    "        SELECT * EXCEPT(instance_timestamp, flipper_length_mm, body_mass_g),\n",
    "            TIMESTAMP_ADD(instance_timestamp, INTERVAL 1 DAY) AS instance_timestamp,\n",
    "            CASE\n",
    "                WHEN RAND() >= 0.75 THEN flipper_length_mm\n",
    "                ELSE flipper_length_mm + 6*(RAND()-0.1)\n",
    "            END AS flipper_length_mm,\n",
    "            CASE\n",
    "                WHEN RAND() >= 0.75 THEN body_mass_g\n",
    "                ELSE body_mass_g + 120*(RAND()-0.1)\n",
    "            END AS body_mass_g,\n",
    "        FROM `statmike-mlops-349915.bqml_model_monitoring.serving`\n",
    "        WHERE instance_timestamp >= (SELECT MAX(instance_timestamp) FROM `statmike-mlops-349915.bqml_model_monitoring.serving`);\n",
    "END LOOP;"
   ]
  },
  {
   "cell_type": "code",
   "execution_count": 16,
   "id": "b05587c9-63b1-47ba-851e-fa31dcd10650",
   "metadata": {
    "tags": []
   },
   "outputs": [
    {
     "data": {
      "application/vnd.jupyter.widget-view+json": {
       "model_id": "a6b90f0257634356b41b5fbc49b19aca",
       "version_major": 2,
       "version_minor": 0
      },
      "text/plain": [
       "Query is running:   0%|          |"
      ]
     },
     "metadata": {},
     "output_type": "display_data"
    },
    {
     "data": {
      "application/vnd.jupyter.widget-view+json": {
       "model_id": "3aea4362e32140578451442ad1378630",
       "version_major": 2,
       "version_minor": 0
      },
      "text/plain": [
       "Downloading:   0%|          |"
      ]
     },
     "metadata": {},
     "output_type": "display_data"
    }
   ],
   "source": [
    "%%bigquery serve\n",
    "SELECT\n",
    "    DATE(instance_timestamp) AS DATE,\n",
    "    AVG(flipper_length_mm) AS flipper_length_mm,\n",
    "    AVG(body_mass_g) AS body_mass_g\n",
    "FROM `statmike-mlops-349915.bqml_model_monitoring.serving`\n",
    "GROUP BY DATE\n",
    "ORDER BY DATE"
   ]
  },
  {
   "cell_type": "code",
   "execution_count": 17,
   "id": "2b7385b2-05c8-43b8-bfea-3aeff6d6b1b1",
   "metadata": {
    "tags": []
   },
   "outputs": [],
   "source": [
    "serve.set_index('DATE', inplace = True)"
   ]
  },
  {
   "cell_type": "code",
   "execution_count": 18,
   "id": "56bcef5a-758c-4edd-aedb-57b478b9f048",
   "metadata": {
    "tags": []
   },
   "outputs": [
    {
     "data": {
      "text/plain": [
       "<Axes: xlabel='DATE'>"
      ]
     },
     "execution_count": 18,
     "metadata": {},
     "output_type": "execute_result"
    },
    {
     "data": {
      "image/png": "[encoded data removed]",
      "text/plain": [
       "<Figure size 800x400 with 1 Axes>"
      ]
     },
     "metadata": {},
     "output_type": "display_data"
    }
   ],
   "source": [
    "serve['flipper_length_mm'].plot(legend = True, figsize = (8, 4))"
   ]
  },
  {
   "cell_type": "code",
   "execution_count": 19,
   "id": "31f0535a-a921-4ac3-a93f-d976ad974632",
   "metadata": {
    "tags": []
   },
   "outputs": [
    {
     "data": {
      "text/plain": [
       "<Axes: xlabel='DATE'>"
      ]
     },
     "execution_count": 19,
     "metadata": {},
     "output_type": "execute_result"
    },
    {
     "data": {
      "image/png": "[encoded data removed]",
      "text/plain": [
       "<Figure size 800x400 with 1 Axes>"
      ]
     },
     "metadata": {},
     "output_type": "display_data"
    }
   ],
   "source": [
    "serve['body_mass_g'].plot(legend = True, figsize = (8, 4))"
   ]
  },
  {
   "cell_type": "markdown",
   "id": "08518e09-b92f-4639-8afa-4ba46037f469",
   "metadata": {},
   "source": [
    "---\n",
    "## Model Monitoring\n",
    "\n",
    "Reviewing model evaluations over time does show a pattern of deterioration in the example above.  But at what point is it actionable?  And what if each days evaluations are relying on actual values that took hours, days, weeks, or even months to be available?  \n",
    "\n",
    "Model monitoring takes a different approach.  It goes back to the source of the model, the input features.  These features formed a distribution at the input to the model (the training data) and this can be used to compare to over time.  By setting thresholds on these comparisons to the original training data, alerts can be used to notify that a models accuracy could be in question.  This comparison to the training data is called **skew** detection.\n",
    "\n",
    "Similarly, each days values could be compared to the previous days, or weeks values.  These comparisons are referred to as **drift** detection.  \n",
    "\n",
    "Both of these types of comparisons can be done directly in BigQuery with two functions built for these tasks:\n",
    "- [`ML.VALIDATE_DATA_SKEW`](https://cloud.google.com/bigquery/docs/reference/standard-sql/bigqueryml-syntax-validate-data-skew)\n",
    "- [`ML.VALIDATE_DATA_DRIFT`](https://cloud.google.com/bigquery/docs/reference/standard-sql/bigqueryml-syntax-validate-data-drift)\n",
    "\n",
    "**NOTE:** To understand more about the metrics used for monitoring check out the accompanying ['BigQuery ML (BQML) - Model Monitoring Tutorial'](./bqml-model-monitoring-tutorial.ipynb) for this introduction."
   ]
  },
  {
   "cell_type": "markdown",
   "id": "9677a0b2-a391-4b44-a7fb-367dd9e55e8b",
   "metadata": {},
   "source": [
    "### Monitoring Skew (Change from training) With `ML.VALIDATE_DATA_SKEW`\n",
    "\n",
    "Compare today, or any data, to the training data by directly comparing to the the model created in BigQuery.\n",
    "\n",
    "\n",
    ">**NOTE:** By adding the `enable_visualization_link` argument to the `ML.VALIDATE_DATA_SKEW` function it adds the Vertex AI Model Monitoring console link in the `visualization_link` column of the output.  Read more about [Monitoring visualization](https://cloud.google.com/bigquery/docs/model-monitoring-overview#monitoring_visualization) in the BigQuery ML [Model monitoring overview](https://cloud.google.com/bigquery/docs/model-monitoring-overview)."
   ]
  },
  {
   "cell_type": "code",
   "execution_count": 20,
   "id": "f830e0c3-539e-41b5-802d-d37a16c3c4d3",
   "metadata": {
    "tags": []
   },
   "outputs": [
    {
     "data": {
      "application/vnd.jupyter.widget-view+json": {
       "model_id": "416132fdd4f049dca881b87564ee2ead",
       "version_major": 2,
       "version_minor": 0
      },
      "text/plain": [
       "Query is running:   0%|          |"
      ]
     },
     "metadata": {},
     "output_type": "display_data"
    },
    {
     "data": {
      "application/vnd.jupyter.widget-view+json": {
       "model_id": "5c3ebcd709ec43808928b09d3c5f6f19",
       "version_major": 2,
       "version_minor": 0
      },
      "text/plain": [
       "Downloading:   0%|          |"
      ]
     },
     "metadata": {},
     "output_type": "display_data"
    }
   ],
   "source": [
    "%%bigquery skew\n",
    "SELECT *\n",
    "FROM ML.VALIDATE_DATA_SKEW(\n",
    "    # base\n",
    "    MODEL `statmike-mlops-349915.bqml_model_monitoring.classify_species_logistic`,\n",
    "    (# compare\n",
    "        SELECT *\n",
    "        FROM `statmike-mlops-349915.bqml_model_monitoring.serving`\n",
    "        WHERE DATE(instance_timestamp) = CURRENT_DATE()\n",
    "    )\n",
    "    ,STRUCT(TRUE AS enable_visualization_link)\n",
    ")"
   ]
  },
  {
   "cell_type": "code",
   "execution_count": 21,
   "id": "08c61816-f9d8-430f-8290-fbce5d91a810",
   "metadata": {
    "tags": []
   },
   "outputs": [
    {
     "data": {
      "text/html": [
       "<div>\n",
       "<style scoped>\n",
       "    .dataframe tbody tr th:only-of-type {\n",
       "        vertical-align: middle;\n",
       "    }\n",
       "\n",
       "    .dataframe tbody tr th {\n",
       "        vertical-align: top;\n",
       "    }\n",
       "\n",
       "    .dataframe thead th {\n",
       "        text-align: right;\n",
       "    }\n",
       "</style>\n",
       "<table border=\"1\" class=\"dataframe\">\n",
       "  <thead>\n",
       "    <tr style=\"text-align: right;\">\n",
       "      <th></th>\n",
       "      <th>input</th>\n",
       "      <th>metric</th>\n",
       "      <th>threshold</th>\n",
       "      <th>value</th>\n",
       "      <th>is_anomaly</th>\n",
       "      <th>visualization_link</th>\n",
       "    </tr>\n",
       "  </thead>\n",
       "  <tbody>\n",
       "    <tr>\n",
       "      <th>0</th>\n",
       "      <td>body_mass_g</td>\n",
       "      <td>JENSEN_SHANNON_DIVERGENCE</td>\n",
       "      <td>0.3</td>\n",
       "      <td>0.391162</td>\n",
       "      <td>True</td>\n",
       "      <td>https://console.cloud.google.com/vertex-ai/mod...</td>\n",
       "    </tr>\n",
       "    <tr>\n",
       "      <th>1</th>\n",
       "      <td>culmen_depth_mm</td>\n",
       "      <td>JENSEN_SHANNON_DIVERGENCE</td>\n",
       "      <td>0.3</td>\n",
       "      <td>0.039439</td>\n",
       "      <td>False</td>\n",
       "      <td>https://console.cloud.google.com/vertex-ai/mod...</td>\n",
       "    </tr>\n",
       "    <tr>\n",
       "      <th>2</th>\n",
       "      <td>culmen_length_mm</td>\n",
       "      <td>JENSEN_SHANNON_DIVERGENCE</td>\n",
       "      <td>0.3</td>\n",
       "      <td>0.054511</td>\n",
       "      <td>False</td>\n",
       "      <td>https://console.cloud.google.com/vertex-ai/mod...</td>\n",
       "    </tr>\n",
       "    <tr>\n",
       "      <th>3</th>\n",
       "      <td>flipper_length_mm</td>\n",
       "      <td>JENSEN_SHANNON_DIVERGENCE</td>\n",
       "      <td>0.3</td>\n",
       "      <td>0.940757</td>\n",
       "      <td>True</td>\n",
       "      <td>https://console.cloud.google.com/vertex-ai/mod...</td>\n",
       "    </tr>\n",
       "    <tr>\n",
       "      <th>4</th>\n",
       "      <td>island</td>\n",
       "      <td>L_INFTY</td>\n",
       "      <td>0.3</td>\n",
       "      <td>0.020842</td>\n",
       "      <td>False</td>\n",
       "      <td>https://console.cloud.google.com/vertex-ai/mod...</td>\n",
       "    </tr>\n",
       "    <tr>\n",
       "      <th>5</th>\n",
       "      <td>sex</td>\n",
       "      <td>L_INFTY</td>\n",
       "      <td>0.3</td>\n",
       "      <td>0.014726</td>\n",
       "      <td>False</td>\n",
       "      <td>https://console.cloud.google.com/vertex-ai/mod...</td>\n",
       "    </tr>\n",
       "  </tbody>\n",
       "</table>\n",
       "</div>"
      ],
      "text/plain": [
       "               input                     metric  threshold     value  \\\n",
       "0        body_mass_g  JENSEN_SHANNON_DIVERGENCE        0.3  0.391162   \n",
       "1    culmen_depth_mm  JENSEN_SHANNON_DIVERGENCE        0.3  0.039439   \n",
       "2   culmen_length_mm  JENSEN_SHANNON_DIVERGENCE        0.3  0.054511   \n",
       "3  flipper_length_mm  JENSEN_SHANNON_DIVERGENCE        0.3  0.940757   \n",
       "4             island                    L_INFTY        0.3  0.020842   \n",
       "5                sex                    L_INFTY        0.3  0.014726   \n",
       "\n",
       "   is_anomaly                                 visualization_link  \n",
       "0        True  https://console.cloud.google.com/vertex-ai/mod...  \n",
       "1       False  https://console.cloud.google.com/vertex-ai/mod...  \n",
       "2       False  https://console.cloud.google.com/vertex-ai/mod...  \n",
       "3        True  https://console.cloud.google.com/vertex-ai/mod...  \n",
       "4       False  https://console.cloud.google.com/vertex-ai/mod...  \n",
       "5       False  https://console.cloud.google.com/vertex-ai/mod...  "
      ]
     },
     "execution_count": 21,
     "metadata": {},
     "output_type": "execute_result"
    }
   ],
   "source": [
    "skew"
   ]
  },
  {
   "cell_type": "code",
   "execution_count": 32,
   "id": "cd32ba1e-97bf-4309-a17e-78b48861007a",
   "metadata": {
    "tags": []
   },
   "outputs": [],
   "source": [
    "from IPython.display import Image, display, HTML"
   ]
  },
  {
   "cell_type": "code",
   "execution_count": 31,
   "id": "133473a3-8112-4284-bf38-9079f79cefe6",
   "metadata": {
    "tags": []
   },
   "outputs": [
    {
     "data": {
      "text/html": [
       "<a href=\"https://console.cloud.google.com/vertex-ai/model-monitoring/locations/us-central1/model-monitors/bq14887202497127439818/model-monitoring-jobs/bqjob13911483249118638311/feature-drift?project=statmike-mlops-349915&featureName=body_mass_g\" target=\"_blank\" style=\"font-size: 18px;\">Open Google Cloud Console in a new tab</a>"
      ],
      "text/plain": [
       "<IPython.core.display.HTML object>"
      ]
     },
     "metadata": {},
     "output_type": "display_data"
    }
   ],
   "source": [
    "display(HTML(f'<a href=\"{skew.visualization_link[0]}\" target=\"_blank\" style=\"font-size: 18px;\">Open Google Cloud Console in a new tab</a>'))"
   ]
  },
  {
   "cell_type": "code",
   "execution_count": 37,
   "id": "a6a012ef-3164-457d-bf15-9c78a73e53c5",
   "metadata": {
    "tags": []
   },
   "outputs": [
    {
     "data": {
      "text/html": [
       "<div style=\"text-align: center;\"><img src=\"./resources/intro_skew.gif\" style=\"border: 2px solid black; width: auto; height: 600px;\"></div>"
      ],
      "text/plain": [
       "<IPython.core.display.HTML object>"
      ]
     },
     "metadata": {},
     "output_type": "display_data"
    }
   ],
   "source": [
    "display(HTML('<div style=\"text-align: center;\"><img src=\"./resources/intro_skew.gif\" style=\"border: 2px solid black; width: auto; height: 600px;\"></div>'))"
   ]
  },
  {
   "cell_type": "markdown",
   "id": "cfec1d8c-32a8-42f6-a4c3-aa6f4e8f04fa",
   "metadata": {},
   "source": [
    "### Monitoring Drift (Change Over Time) With `ML.VALIDATE_DATA_DRIFT`\n",
    "\n",
    "Compare last 5 days to prior 5 days and set the a lower, more sensitive, threshold of `0.03` (default is `0.3`) for all features.\n",
    "\n",
    ">**NOTE:** By adding the `MODEL` to the `ML.VALIDATE_DATA_DRIFT` function it adds the Vertex AI Model Monitoring console link in the `visualization_link` column of the output.  Read more about [Monitoring visualization](https://cloud.google.com/bigquery/docs/model-monitoring-overview#monitoring_visualization) in the BigQuery ML [Model monitoring overview](https://cloud.google.com/bigquery/docs/model-monitoring-overview)."
   ]
  },
  {
   "cell_type": "code",
   "execution_count": 26,
   "id": "2d8677f8-a644-4077-9cf5-1c7cb9b206ec",
   "metadata": {
    "tags": []
   },
   "outputs": [
    {
     "data": {
      "application/vnd.jupyter.widget-view+json": {
       "model_id": "57ed48482475439c93217fde05cee4da",
       "version_major": 2,
       "version_minor": 0
      },
      "text/plain": [
       "Query is running:   0%|          |"
      ]
     },
     "metadata": {},
     "output_type": "display_data"
    },
    {
     "data": {
      "application/vnd.jupyter.widget-view+json": {
       "model_id": "0622552be36849f987bb964eeeebb4cf",
       "version_major": 2,
       "version_minor": 0
      },
      "text/plain": [
       "Downloading:   0%|          |"
      ]
     },
     "metadata": {},
     "output_type": "display_data"
    }
   ],
   "source": [
    "%%bigquery drift\n",
    "SELECT *\n",
    "FROM ML.VALIDATE_DATA_DRIFT(\n",
    "    (# base\n",
    "        SELECT * EXCEPT(species, instance_timestamp)\n",
    "        FROM `statmike-mlops-349915.bqml_model_monitoring.serving`\n",
    "        WHERE DATE(instance_timestamp) >= DATE_SUB(CURRENT_DATE(), INTERVAL 10 DAY)\n",
    "            AND DATE(instance_timestamp) < DATE_SUB(CURRENT_DATE(), INTERVAL 5 DAY)\n",
    "    ),\n",
    "    (# compare\n",
    "        SELECT * EXCEPT(species, instance_timestamp)\n",
    "        FROM `statmike-mlops-349915.bqml_model_monitoring.serving`\n",
    "        WHERE DATE(instance_timestamp) >= DATE_SUB(CURRENT_DATE(), INTERVAL 5 DAY)\n",
    "    ),\n",
    "    STRUCT(\n",
    "        0.03 AS categorical_default_threshold,\n",
    "        0.03 AS numerical_default_threshold\n",
    "    )\n",
    "    , MODEL `statmike-mlops-349915.bqml_model_monitoring.classify_species_logistic`\n",
    ")"
   ]
  },
  {
   "cell_type": "code",
   "execution_count": 27,
   "id": "9fd44e2e-476c-4353-be28-050d41486b30",
   "metadata": {
    "tags": []
   },
   "outputs": [
    {
     "data": {
      "text/html": [
       "<div>\n",
       "<style scoped>\n",
       "    .dataframe tbody tr th:only-of-type {\n",
       "        vertical-align: middle;\n",
       "    }\n",
       "\n",
       "    .dataframe tbody tr th {\n",
       "        vertical-align: top;\n",
       "    }\n",
       "\n",
       "    .dataframe thead th {\n",
       "        text-align: right;\n",
       "    }\n",
       "</style>\n",
       "<table border=\"1\" class=\"dataframe\">\n",
       "  <thead>\n",
       "    <tr style=\"text-align: right;\">\n",
       "      <th></th>\n",
       "      <th>input</th>\n",
       "      <th>metric</th>\n",
       "      <th>threshold</th>\n",
       "      <th>value</th>\n",
       "      <th>is_anomaly</th>\n",
       "      <th>visualization_link</th>\n",
       "    </tr>\n",
       "  </thead>\n",
       "  <tbody>\n",
       "    <tr>\n",
       "      <th>0</th>\n",
       "      <td>body_mass_g</td>\n",
       "      <td>JENSEN_SHANNON_DIVERGENCE</td>\n",
       "      <td>0.03</td>\n",
       "      <td>6.194802e-02</td>\n",
       "      <td>True</td>\n",
       "      <td>https://console.cloud.google.com/vertex-ai/mod...</td>\n",
       "    </tr>\n",
       "    <tr>\n",
       "      <th>1</th>\n",
       "      <td>culmen_depth_mm</td>\n",
       "      <td>JENSEN_SHANNON_DIVERGENCE</td>\n",
       "      <td>0.03</td>\n",
       "      <td>-6.290163e-18</td>\n",
       "      <td>False</td>\n",
       "      <td>https://console.cloud.google.com/vertex-ai/mod...</td>\n",
       "    </tr>\n",
       "    <tr>\n",
       "      <th>2</th>\n",
       "      <td>culmen_length_mm</td>\n",
       "      <td>JENSEN_SHANNON_DIVERGENCE</td>\n",
       "      <td>0.03</td>\n",
       "      <td>4.504018e-18</td>\n",
       "      <td>False</td>\n",
       "      <td>https://console.cloud.google.com/vertex-ai/mod...</td>\n",
       "    </tr>\n",
       "    <tr>\n",
       "      <th>3</th>\n",
       "      <td>flipper_length_mm</td>\n",
       "      <td>JENSEN_SHANNON_DIVERGENCE</td>\n",
       "      <td>0.03</td>\n",
       "      <td>1.003527e-01</td>\n",
       "      <td>True</td>\n",
       "      <td>https://console.cloud.google.com/vertex-ai/mod...</td>\n",
       "    </tr>\n",
       "    <tr>\n",
       "      <th>4</th>\n",
       "      <td>island</td>\n",
       "      <td>L_INFTY</td>\n",
       "      <td>0.03</td>\n",
       "      <td>0.000000e+00</td>\n",
       "      <td>False</td>\n",
       "      <td>https://console.cloud.google.com/vertex-ai/mod...</td>\n",
       "    </tr>\n",
       "    <tr>\n",
       "      <th>5</th>\n",
       "      <td>sex</td>\n",
       "      <td>L_INFTY</td>\n",
       "      <td>0.03</td>\n",
       "      <td>0.000000e+00</td>\n",
       "      <td>False</td>\n",
       "      <td>https://console.cloud.google.com/vertex-ai/mod...</td>\n",
       "    </tr>\n",
       "  </tbody>\n",
       "</table>\n",
       "</div>"
      ],
      "text/plain": [
       "               input                     metric  threshold         value  \\\n",
       "0        body_mass_g  JENSEN_SHANNON_DIVERGENCE       0.03  6.194802e-02   \n",
       "1    culmen_depth_mm  JENSEN_SHANNON_DIVERGENCE       0.03 -6.290163e-18   \n",
       "2   culmen_length_mm  JENSEN_SHANNON_DIVERGENCE       0.03  4.504018e-18   \n",
       "3  flipper_length_mm  JENSEN_SHANNON_DIVERGENCE       0.03  1.003527e-01   \n",
       "4             island                    L_INFTY       0.03  0.000000e+00   \n",
       "5                sex                    L_INFTY       0.03  0.000000e+00   \n",
       "\n",
       "   is_anomaly                                 visualization_link  \n",
       "0        True  https://console.cloud.google.com/vertex-ai/mod...  \n",
       "1       False  https://console.cloud.google.com/vertex-ai/mod...  \n",
       "2       False  https://console.cloud.google.com/vertex-ai/mod...  \n",
       "3        True  https://console.cloud.google.com/vertex-ai/mod...  \n",
       "4       False  https://console.cloud.google.com/vertex-ai/mod...  \n",
       "5       False  https://console.cloud.google.com/vertex-ai/mod...  "
      ]
     },
     "execution_count": 27,
     "metadata": {},
     "output_type": "execute_result"
    }
   ],
   "source": [
    "drift"
   ]
  },
  {
   "cell_type": "code",
   "execution_count": 30,
   "id": "8f33b1bc-0620-481b-b0b0-c48eef76828d",
   "metadata": {
    "tags": []
   },
   "outputs": [
    {
     "data": {
      "text/html": [
       "<a href=\"https://console.cloud.google.com/vertex-ai/model-monitoring/locations/us-central1/model-monitors/bq14887202497127439818/model-monitoring-jobs/bqjob15924201123107948964/feature-drift?project=statmike-mlops-349915&featureName=body_mass_g\" target=\"_blank\" style=\"font-size: 18px;\">Open Google Cloud Console in a new tab</a>"
      ],
      "text/plain": [
       "<IPython.core.display.HTML object>"
      ]
     },
     "metadata": {},
     "output_type": "display_data"
    }
   ],
   "source": [
    "display(HTML(f'<a href=\"{drift.visualization_link[0]}\" target=\"_blank\" style=\"font-size: 18px;\">Open Google Cloud Console in a new tab</a>'))"
   ]
  },
  {
   "cell_type": "code",
   "execution_count": 38,
   "id": "84c9b55f-daea-4743-89d0-3891d6d66911",
   "metadata": {
    "tags": []
   },
   "outputs": [
    {
     "data": {
      "text/html": [
       "<div style=\"text-align: center;\"><img src=\"./resources/intro_drift.gif\" style=\"border: 2px solid black; width: auto; height: 600px;\"></div>"
      ],
      "text/plain": [
       "<IPython.core.display.HTML object>"
      ]
     },
     "metadata": {},
     "output_type": "display_data"
    }
   ],
   "source": [
    "display(HTML('<div style=\"text-align: center;\"><img src=\"./resources/intro_drift.gif\" style=\"border: 2px solid black; width: auto; height: 600px;\"></div>'))"
   ]
  },
  {
   "cell_type": "markdown",
   "id": "3519ea1f-fca0-4e99-84c6-b8c9807ac6ea",
   "metadata": {},
   "source": [
    "---\n",
    "### TensorFlow Data Validation (TFDV) In BigQuery\n",
    "\n",
    "BigQuery offers two functions that bring the power of the TensorFlow's [TFX platform](https://www.tensorflow.org/tfx) with built-in [TensorFlow Data Validation (TFDV)](https://www.tensorflow.org/tfx/data_validation/get_started) module directly inside of BigQuery.\n",
    "- [`ML.TFDV_DESCRIBE`](https://cloud.google.com/bigquery/docs/reference/standard-sql/bigqueryml-syntax-tfdv-describe) to generate descriptive statistics of any table\n",
    "- [`ML.TFDV_VALIDATE`](https://cloud.google.com/bigquery/docs/reference/standard-sql/bigqueryml-syntax-tfdv-validate) to compare statistics of two tables"
   ]
  },
  {
   "cell_type": "markdown",
   "id": "396e933a-45eb-4024-8ab6-08c7e5caaf00",
   "metadata": {},
   "source": [
    "#### Generate Statistics with `ML.TFDV_DESCRIBE`\n",
    "\n",
    "Generate statistics for any table, in this case the training data features or a timespan of serving data features.  This is like using the TensorFlow's [TFX platform](https://www.tensorflow.org/tfx) with built-in [TensorFlow Data Validation (TFDV)](https://www.tensorflow.org/tfx/data_validation/get_started) module's [`tfdv.generate_statistics_from_csv()`](https://www.tensorflow.org/tfx/data_validation/api_docs/python/tfdv/generate_statistics_from_csv) method.\n",
    "\n",
    "The descriptions can be used in comparisons for skew or drift detection with the `ML.TFDV_VALIDATE` function, covered next, as well as in the visualization tool `tfdv.visualize_statistics` also covered below."
   ]
  },
  {
   "cell_type": "code",
   "execution_count": 39,
   "id": "e6a1483a-41d6-4da9-b66a-d57ffa17cabb",
   "metadata": {
    "tags": []
   },
   "outputs": [
    {
     "data": {
      "application/vnd.jupyter.widget-view+json": {
       "model_id": "988548bc6eff4f5e9c3f68ca1d5b3f0b",
       "version_major": 2,
       "version_minor": 0
      },
      "text/plain": [
       "Query is running:   0%|          |"
      ]
     },
     "metadata": {},
     "output_type": "display_data"
    },
    {
     "data": {
      "application/vnd.jupyter.widget-view+json": {
       "model_id": "69afa6451a9749c6a85ed958a2e506d9",
       "version_major": 2,
       "version_minor": 0
      },
      "text/plain": [
       "Downloading:   0%|          |"
      ]
     },
     "metadata": {},
     "output_type": "display_data"
    }
   ],
   "source": [
    "%%bigquery train_describe\n",
    "SELECT *\n",
    "FROM ML.TFDV_DESCRIBE(\n",
    "    (\n",
    "        SELECT * EXCEPT(species)\n",
    "        FROM `statmike-mlops-349915.bqml_model_monitoring.training`\n",
    "    )\n",
    ")"
   ]
  },
  {
   "cell_type": "code",
   "execution_count": 40,
   "id": "c4544098-9bc2-4161-98bc-4e3a89db1364",
   "metadata": {
    "tags": []
   },
   "outputs": [],
   "source": [
    "train_describe = json.loads(train_describe['dataset_feature_statistics_list'].iloc[0])"
   ]
  },
  {
   "cell_type": "code",
   "execution_count": 41,
   "id": "0e70516a-afc9-44d0-903a-4d7a973ef0a7",
   "metadata": {
    "tags": []
   },
   "outputs": [
    {
     "data": {
      "text/plain": [
       "{'name': 'body_mass_g',\n",
       " 'num_stats': {'common_stats': {'avg_num_values': 1,\n",
       "   'max_num_values': 1,\n",
       "   'min_num_values': 1,\n",
       "   'num_missing': 2,\n",
       "   'num_non_missing': 342,\n",
       "   'num_values_histogram': {'buckets': [{'high_value': 1,\n",
       "      'low_value': 1,\n",
       "      'sample_count': 34.2},\n",
       "     {'high_value': 1, 'low_value': 1, 'sample_count': 34.2},\n",
       "     {'high_value': 1, 'low_value': 1, 'sample_count': 34.2},\n",
       "     {'high_value': 1, 'low_value': 1, 'sample_count': 34.2},\n",
       "     {'high_value': 1, 'low_value': 1, 'sample_count': 34.2},\n",
       "     {'high_value': 1, 'low_value': 1, 'sample_count': 34.2},\n",
       "     {'high_value': 1, 'low_value': 1, 'sample_count': 34.2},\n",
       "     {'high_value': 1, 'low_value': 1, 'sample_count': 34.2},\n",
       "     {'high_value': 1, 'low_value': 1, 'sample_count': 34.2},\n",
       "     {'high_value': 1, 'low_value': 1, 'sample_count': 34.2}],\n",
       "    'type': 'QUANTILES'},\n",
       "   'tot_num_values': 342},\n",
       "  'histograms': [{'buckets': [{'high_value': 3300,\n",
       "      'low_value': 2700,\n",
       "      'sample_count': 34.2},\n",
       "     {'high_value': 3475, 'low_value': 3300, 'sample_count': 34.2},\n",
       "     {'high_value': 3650, 'low_value': 3475, 'sample_count': 34.2},\n",
       "     {'high_value': 3800, 'low_value': 3650, 'sample_count': 34.2},\n",
       "     {'high_value': 4050, 'low_value': 3800, 'sample_count': 34.2},\n",
       "     {'high_value': 4300, 'low_value': 4050, 'sample_count': 34.2},\n",
       "     {'high_value': 4650, 'low_value': 4300, 'sample_count': 34.2},\n",
       "     {'high_value': 4950, 'low_value': 4650, 'sample_count': 34.2},\n",
       "     {'high_value': 5400, 'low_value': 4950, 'sample_count': 34.2},\n",
       "     {'high_value': 6300, 'low_value': 5400, 'sample_count': 34.2}],\n",
       "    'type': 'QUANTILES'},\n",
       "   {'buckets': [{'high_value': 3060,\n",
       "      'low_value': 2700,\n",
       "      'sample_count': 14.842800000000006},\n",
       "     {'high_value': 3420,\n",
       "      'low_value': 3060,\n",
       "      'sample_count': 43.228799999999914},\n",
       "     {'high_value': 3780, 'low_value': 3420, 'sample_count': 70.9307999999998},\n",
       "     {'high_value': 4140,\n",
       "      'low_value': 3780,\n",
       "      'sample_count': 53.215199999999875},\n",
       "     {'high_value': 4500,\n",
       "      'low_value': 4140,\n",
       "      'sample_count': 44.528399999999905},\n",
       "     {'high_value': 4860,\n",
       "      'low_value': 4500,\n",
       "      'sample_count': 38.09879999999993},\n",
       "     {'high_value': 5220,\n",
       "      'low_value': 4860,\n",
       "      'sample_count': 28.04399999999997},\n",
       "     {'high_value': 5580,\n",
       "      'low_value': 5220,\n",
       "      'sample_count': 27.086399999999973},\n",
       "     {'high_value': 5940,\n",
       "      'low_value': 5580,\n",
       "      'sample_count': 16.176600000000008},\n",
       "     {'high_value': 6300,\n",
       "      'low_value': 5940,\n",
       "      'sample_count': 5.8481999999999985}]}],\n",
       "  'max': 6300,\n",
       "  'mean': 4201.754385964913,\n",
       "  'median': 4000,\n",
       "  'min': 2700,\n",
       "  'std_dev': 800.781229238452},\n",
       " 'type': 'FLOAT'}"
      ]
     },
     "execution_count": 41,
     "metadata": {},
     "output_type": "execute_result"
    }
   ],
   "source": [
    "train_describe['datasets'][0]['features'][0]"
   ]
  },
  {
   "cell_type": "code",
   "execution_count": 42,
   "id": "e9665a14-a17e-46c2-b9ba-479b2734df76",
   "metadata": {
    "tags": []
   },
   "outputs": [
    {
     "data": {
      "application/vnd.jupyter.widget-view+json": {
       "model_id": "8268cdce876d42138a5f41649389f960",
       "version_major": 2,
       "version_minor": 0
      },
      "text/plain": [
       "Query is running:   0%|          |"
      ]
     },
     "metadata": {},
     "output_type": "display_data"
    },
    {
     "data": {
      "application/vnd.jupyter.widget-view+json": {
       "model_id": "b1d2067d564a449c90e3fc6b044051be",
       "version_major": 2,
       "version_minor": 0
      },
      "text/plain": [
       "Downloading:   0%|          |"
      ]
     },
     "metadata": {},
     "output_type": "display_data"
    }
   ],
   "source": [
    "%%bigquery today_describe\n",
    "SELECT *\n",
    "FROM ML.TFDV_DESCRIBE(\n",
    "    (\n",
    "        SELECT * EXCEPT(species, instance_timestamp)\n",
    "        FROM `statmike-mlops-349915.bqml_model_monitoring.serving`\n",
    "        WHERE DATE(instance_timestamp) = CURRENT_DATE()\n",
    "    )\n",
    ")"
   ]
  },
  {
   "cell_type": "code",
   "execution_count": 43,
   "id": "e3ed1a61-1f0f-49cd-9add-bb2e6cb7f02d",
   "metadata": {
    "tags": []
   },
   "outputs": [],
   "source": [
    "today_describe = json.loads(today_describe['dataset_feature_statistics_list'].iloc[0])"
   ]
  },
  {
   "cell_type": "code",
   "execution_count": 44,
   "id": "df05c689-8db0-437a-b18f-edfba7fcd0ec",
   "metadata": {
    "tags": []
   },
   "outputs": [],
   "source": [
    "#today_describe['datasets'][0]['features'][0]"
   ]
  },
  {
   "cell_type": "markdown",
   "id": "53c00f1a-16a7-4894-9973-c9d1277e8f92",
   "metadata": {},
   "source": [
    "#### Visualize Statistics with `tfdv.visualize_statistics`\n",
    "\n",
    "Use the [`tfdv.visualize_statistics`](https://www.tensorflow.org/tfx/data_validation/api_docs/python/tfdv/visualize_statistics) tool to visualize the generated descriptions and directly compare them.  This presents visuals using [Facets Overview](https://pair-code.github.io/facets/)."
   ]
  },
  {
   "cell_type": "code",
   "execution_count": 45,
   "id": "35eddf77-474e-4844-b277-186b174ecced",
   "metadata": {
    "tags": []
   },
   "outputs": [],
   "source": [
    "import os\n",
    "os.environ['TF_CPP_MIN_LOG_LEVEL'] = '3'\n",
    "import tensorflow_data_validation as tfdv\n",
    "import tensorflow_metadata as tfmd\n",
    "from google.protobuf import json_format"
   ]
  },
  {
   "cell_type": "code",
   "execution_count": 46,
   "id": "d3237159-ed66-4874-b297-4bb662c26f72",
   "metadata": {
    "tags": []
   },
   "outputs": [
    {
     "data": {
      "text/html": [
       "<iframe id='facets-iframe' width=\"100%\" height=\"500px\"></iframe>\n",
       "        <script>\n",
       "        facets_iframe = document.getElementById('facets-iframe');\n",
       "        facets_html = '<script src=\"https://cdnjs.cloudflare.com/ajax/libs/webcomponentsjs/1.3.3/webcomponents-lite.js\"><\\/script><link rel=\"import\" href=\"https://raw.githubusercontent.com/PAIR-code/facets/master/facets-dist/facets-jupyter.html\"><facets-overview proto-input=\"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\"></facets-overview>';\n",
       "        facets_iframe.srcdoc = facets_html;\n",
       "         facets_iframe.id = \"\";\n",
       "         setTimeout(() => {\n",
       "           facets_iframe.setAttribute('height', facets_iframe.contentWindow.document.body.offsetHeight + 'px')\n",
       "         }, 1500)\n",
       "         </script>"
      ],
      "text/plain": [
       "<IPython.core.display.HTML object>"
      ]
     },
     "metadata": {},
     "output_type": "display_data"
    }
   ],
   "source": [
    "tfdv.visualize_statistics(\n",
    "    lhs_statistics = json_format.ParseDict(train_describe, tfmd.proto.statistics_pb2.DatasetFeatureStatisticsList()),\n",
    "    rhs_statistics = json_format.ParseDict(today_describe, tfmd.proto.statistics_pb2.DatasetFeatureStatisticsList()),\n",
    "    lhs_name = 'Training Data Stats',\n",
    "    rhs_name = 'Serving Data Stats - For Today'\n",
    ")"
   ]
  },
  {
   "cell_type": "code",
   "execution_count": 48,
   "id": "6bc9af98-e0dc-4478-9ddd-5042da42f5e0",
   "metadata": {
    "tags": []
   },
   "outputs": [
    {
     "data": {
      "text/html": [
       "<div style=\"text-align: center;\"><img src=\"./resources/intro_tfdv_visualize.gif\" style=\"border: 2px solid black; width: auto; height: 400px;\"></div>"
      ],
      "text/plain": [
       "<IPython.core.display.HTML object>"
      ]
     },
     "metadata": {},
     "output_type": "display_data"
    }
   ],
   "source": [
    "display(HTML('<div style=\"text-align: center;\"><img src=\"./resources/intro_tfdv_visualize.gif\" style=\"border: 2px solid black; width: auto; height: 400px;\"></div>'))"
   ]
  },
  {
   "cell_type": "markdown",
   "id": "98e991b7-c97a-4778-8397-3cfdcf562d67",
   "metadata": {},
   "source": [
    "#### Compare And Detect Anomalies with `ML.TFDV_VALIDATE`\n",
    "\n",
    "Compare the distribution of any table to a base table and compute distance statistics to detect anomalies.  This is like using the TensorFlow's [TFX platform](https://www.tensorflow.org/tfx) with built-in [TensorFlow Data Validation (TFDV)](https://www.tensorflow.org/tfx/data_validation/get_started) module's [validate_statistics api](https://www.tensorflow.org/tfx/data_validation/api_docs/python/tfdv/validate_statistics).\n",
    "\n",
    "These comparison can be made to training data for **skew** detection or previous serving data for **drift** detection."
   ]
  },
  {
   "cell_type": "code",
   "execution_count": 49,
   "id": "cdb55cee-a880-4851-8412-31426012a624",
   "metadata": {
    "tags": []
   },
   "outputs": [
    {
     "data": {
      "application/vnd.jupyter.widget-view+json": {
       "model_id": "84f81f7b3a344a4aad67bb48a8afbebc",
       "version_major": 2,
       "version_minor": 0
      },
      "text/plain": [
       "Query is running:   0%|          |"
      ]
     },
     "metadata": {},
     "output_type": "display_data"
    },
    {
     "data": {
      "application/vnd.jupyter.widget-view+json": {
       "model_id": "59e6a1c5c73b48eba8dd5dc8e4fe3551",
       "version_major": 2,
       "version_minor": 0
      },
      "text/plain": [
       "Downloading:   0%|          |"
      ]
     },
     "metadata": {},
     "output_type": "display_data"
    }
   ],
   "source": [
    "%%bigquery validate\n",
    "WITH\n",
    "    TRAIN AS (\n",
    "        SELECT * EXCEPT(species)\n",
    "        FROM `statmike-mlops-349915.bqml_model_monitoring.training`\n",
    "    ),\n",
    "    SERVE AS (\n",
    "        SELECT * EXCEPT(species, instance_timestamp)\n",
    "        FROM `statmike-mlops-349915.bqml_model_monitoring.serving`\n",
    "        WHERE DATE(instance_timestamp) = CURRENT_DATE()\n",
    "    )\n",
    "SELECT ML.TFDV_VALIDATE(\n",
    "    (SELECT * FROM ML.TFDV_DESCRIBE(TABLE TRAIN)),\n",
    "    (SELECT * FROM ML.TFDV_DESCRIBE(TABLE SERVE)),\n",
    "    'SKEW', 0.03,'L_INFTY',0.03\n",
    ") as validate"
   ]
  },
  {
   "cell_type": "code",
   "execution_count": 50,
   "id": "e77925e1-7b27-4dc8-a30d-7cd16d794065",
   "metadata": {
    "tags": []
   },
   "outputs": [],
   "source": [
    "validate = json.loads(validate['validate'].iloc[0])"
   ]
  },
  {
   "cell_type": "code",
   "execution_count": 51,
   "id": "5c6badfe-c8b7-42c4-9b26-453e1047b421",
   "metadata": {
    "tags": []
   },
   "outputs": [],
   "source": [
    "#validate"
   ]
  },
  {
   "cell_type": "markdown",
   "id": "e9480e99-950e-4c12-9256-f8f3c0076d6b",
   "metadata": {},
   "source": [
    "#### Display Anomalies with `tfdv.display_anomalies`\n",
    "\n",
    "Use the [`tfdv.display_anomalies`](https://www.tensorflow.org/tfx/data_validation/api_docs/python/tfdv/display_anomalies) tool to display a table of anomaly detections with descriptions."
   ]
  },
  {
   "cell_type": "code",
   "execution_count": 52,
   "id": "083b7a66-69a1-437e-839a-267ceeac4ba2",
   "metadata": {
    "tags": []
   },
   "outputs": [],
   "source": [
    "if 'generate_legacy_feature_spec' in validate['baseline'].keys():\n",
    "    del validate['baseline']['generate_legacy_feature_spec']"
   ]
  },
  {
   "cell_type": "code",
   "execution_count": 53,
   "id": "50767585-d951-4e79-a742-c691c9d632e6",
   "metadata": {
    "tags": []
   },
   "outputs": [
    {
     "data": {
      "text/html": [
       "<div>\n",
       "<style scoped>\n",
       "    .dataframe tbody tr th:only-of-type {\n",
       "        vertical-align: middle;\n",
       "    }\n",
       "\n",
       "    .dataframe tbody tr th {\n",
       "        vertical-align: top;\n",
       "    }\n",
       "\n",
       "    .dataframe thead th {\n",
       "        text-align: right;\n",
       "    }\n",
       "</style>\n",
       "<table border=\"1\" class=\"dataframe\">\n",
       "  <thead>\n",
       "    <tr style=\"text-align: right;\">\n",
       "      <th></th>\n",
       "      <th>Anomaly short description</th>\n",
       "      <th>Anomaly long description</th>\n",
       "    </tr>\n",
       "    <tr>\n",
       "      <th>Feature name</th>\n",
       "      <th></th>\n",
       "      <th></th>\n",
       "    </tr>\n",
       "  </thead>\n",
       "  <tbody>\n",
       "    <tr>\n",
       "      <th>'body_mass_g'</th>\n",
       "      <td>High approximate Jensen-Shannon divergence between training and serving</td>\n",
       "      <td>The approximate Jensen-Shannon divergence between training and serving is 0.391162 (up to six significant digits), above the threshold 0.03.</td>\n",
       "    </tr>\n",
       "    <tr>\n",
       "      <th>'culmen_length_mm'</th>\n",
       "      <td>High approximate Jensen-Shannon divergence between training and serving</td>\n",
       "      <td>The approximate Jensen-Shannon divergence between training and serving is 0.0545111 (up to six significant digits), above the threshold 0.03.</td>\n",
       "    </tr>\n",
       "    <tr>\n",
       "      <th>'flipper_length_mm'</th>\n",
       "      <td>High approximate Jensen-Shannon divergence between training and serving</td>\n",
       "      <td>The approximate Jensen-Shannon divergence between training and serving is 0.940757 (up to six significant digits), above the threshold 0.03.</td>\n",
       "    </tr>\n",
       "    <tr>\n",
       "      <th>'culmen_depth_mm'</th>\n",
       "      <td>High approximate Jensen-Shannon divergence between training and serving</td>\n",
       "      <td>The approximate Jensen-Shannon divergence between training and serving is 0.0394387 (up to six significant digits), above the threshold 0.03.</td>\n",
       "    </tr>\n",
       "  </tbody>\n",
       "</table>\n",
       "</div>"
      ],
      "text/plain": [
       "                                                                   Anomaly short description  \\\n",
       "Feature name                                                                                   \n",
       "'body_mass_g'        High approximate Jensen-Shannon divergence between training and serving   \n",
       "'culmen_length_mm'   High approximate Jensen-Shannon divergence between training and serving   \n",
       "'flipper_length_mm'  High approximate Jensen-Shannon divergence between training and serving   \n",
       "'culmen_depth_mm'    High approximate Jensen-Shannon divergence between training and serving   \n",
       "\n",
       "                                                                                                                                          Anomaly long description  \n",
       "Feature name                                                                                                                                                        \n",
       "'body_mass_g'         The approximate Jensen-Shannon divergence between training and serving is 0.391162 (up to six significant digits), above the threshold 0.03.  \n",
       "'culmen_length_mm'   The approximate Jensen-Shannon divergence between training and serving is 0.0545111 (up to six significant digits), above the threshold 0.03.  \n",
       "'flipper_length_mm'   The approximate Jensen-Shannon divergence between training and serving is 0.940757 (up to six significant digits), above the threshold 0.03.  \n",
       "'culmen_depth_mm'    The approximate Jensen-Shannon divergence between training and serving is 0.0394387 (up to six significant digits), above the threshold 0.03.  "
      ]
     },
     "metadata": {},
     "output_type": "display_data"
    }
   ],
   "source": [
    "tfdv.display_anomalies(\n",
    "    anomalies = json_format.ParseDict(validate, tfmd.proto.anomalies_pb2.Anomalies())\n",
    ")"
   ]
  },
  {
   "cell_type": "markdown",
   "id": "b3dbd2fa-57c2-4d99-b230-8b6867732dc7",
   "metadata": {},
   "source": [
    "---\n",
    "## Continous Monitoring\n",
    "\n",
    "The methods above can be combined into a job that runs both skew and drift detection.  The jobs can be scheduled or triggered to make the process of model monitoring continous - continous monitoring.  If the model quality can be evaluated with confidence then the automation can even be extended to retrain and update the model for continous training.  \n",
    "\n",
    "This section shows one of many ways to create a model monitoring job. For models created in BigQuery with BigQuery ML it also shows a retraining action as part of the job when alerts are detected.\n",
    "\n",
    "These types of jobs could be automated for continous monitoring.  In the accompanying ['BigQuery ML (BQML) - Model Monitoring Tutorial'](./bqml-model-monitoring-tutorial.ipynb) the approaches to automation are discussed in more detail and the jobs is expanded with more detailed tasks and logic:\n",
    "- [BigQuery Scheduled Queries](https://cloud.google.com/bigquery/docs/scheduling-queries)\n",
    "- [Dataform](https://cloud.google.com/dataform/docs/quickstart-create-workflow)\n",
    "- [Workflows](https://cloud.google.com/workflows/docs/tutorials/bigquery-parallel-jobs)\n",
    "- [Cloud Composer](https://cloud.google.com/composer/docs/data-analytics-googlecloud)\n",
    "- [Vertex AI Pipelines](https://cloud.google.com/vertex-ai/docs/pipelines/gcpc-list#bqml_components)"
   ]
  },
  {
   "cell_type": "markdown",
   "id": "a65ead6a-879a-4afe-986a-4caeb41dffa8",
   "metadata": {},
   "source": [
    "### Model Monitoring Job: With Alerting And Retraining\n",
    "\n",
    "A BigQuery SQL job that uses the [procedural language](https://cloud.google.com/bigquery/docs/reference/standard-sql/procedural-language) to detect skew and retrain the model with updated training data while also returning an alert message.\n",
    "\n",
    "This job also includes retraining of the BigQuery ML model:\n",
    "In this case the example is simplified to retrain the model and directly implement it as a replacement with `CREATE OR REPLACE MODEL`.  In a production enviornment additional pre/post steps might take place as part of this workflow:\n",
    "- on skew/drift detection:\n",
    "    - Prior to retraining:\n",
    "        - ensure detection is not due to data errors, schema changes, or system changes\n",
    "    - After retrainning:\n",
    "        - evaluate the model and compare to current production version\n",
    "        - conditionally deploy the new version if it is better in any/all key metrics\n",
    "        - consider rollout strategies for the retrained model\n",
    "        - trigger human review before deployment of the replacement"
   ]
  },
  {
   "cell_type": "code",
   "execution_count": 54,
   "id": "07ac4afe-69b5-4e7e-9249-3d461e178790",
   "metadata": {
    "tags": []
   },
   "outputs": [
    {
     "name": "stdout",
     "output_type": "stream",
     "text": [
      "Executing query with job ID: fe7cdf9b-1e62-4a0d-b9bc-27d503a94c61\n",
      "Query executing: 249.00s"
     ]
    },
    {
     "name": "stderr",
     "output_type": "stream",
     "text": [
      "\n",
      "ERROR:\n",
      " 400 GET https://bigquery.googleapis.com/bigquery/v2/projects/statmike-mlops-349915/queries/fe7cdf9b-1e62-4a0d-b9bc-27d503a94c61?maxResults=0&location=US&prettyPrint=false: Query error: \n",
      "\n",
      "Found data skew in features: body_mass_g, flipper_length_mm. Model is retrained with the latest serving data.\n",
      "\n",
      " at [57:5]\n",
      "\n",
      "Location: US\n",
      "Job ID: fe7cdf9b-1e62-4a0d-b9bc-27d503a94c61\n",
      "\n"
     ]
    }
   ],
   "source": [
    "%%bigquery\n",
    "DECLARE skew_anomalies ARRAY<STRING>;\n",
    "\n",
    "# Monitor Skew: latest serving compared to training\n",
    "SET skew_anomalies = (\n",
    "    SELECT ARRAY_AGG(input)\n",
    "    FROM ML.VALIDATE_DATA_SKEW(\n",
    "        # base\n",
    "        MODEL `statmike-mlops-349915.bqml_model_monitoring.classify_species_logistic`,\n",
    "        (# compare\n",
    "            SELECT *\n",
    "            FROM `statmike-mlops-349915.bqml_model_monitoring.serving`\n",
    "            WHERE DATE(instance_timestamp) >= CURRENT_DATE()\n",
    "        )\n",
    "        ,STRUCT(TRUE AS enable_visualization_link)\n",
    "    )\n",
    "    WHERE is_anomaly = True\n",
    ");\n",
    "\n",
    "IF(ARRAY_LENGTH(skew_anomalies) > 0) THEN\n",
    "    # retrain the model\n",
    "    CREATE OR REPLACE MODEL `statmike-mlops-349915.bqml_model_monitoring.classify_species_logistic`\n",
    "        TRANSFORM(\n",
    "            ML.ROBUST_SCALER(body_mass_g) OVER() AS body_mass_g,\n",
    "            ML.STANDARD_SCALER(culmen_length_mm) OVER() AS culmen_length_mm,\n",
    "            ML.STANDARD_SCALER(culmen_depth_mm) OVER() AS culmen_depth_mm,\n",
    "            ML.QUANTILE_BUCKETIZE(flipper_length_mm, 3) OVER() AS flipper_length_mm,\n",
    "            ML.IMPUTER(sex, 'most_frequent') OVER() AS sex,\n",
    "            ML.IMPUTER(island, 'most_frequent') OVER() AS island,\n",
    "            species\n",
    "        )\n",
    "        OPTIONS(\n",
    "            MODEL_TYPE = 'LOGISTIC_REG',\n",
    "            INPUT_LABEL_COLS = ['species'],\n",
    "\n",
    "            # data specifics\n",
    "            DATA_SPLIT_METHOD = 'AUTO_SPLIT',\n",
    "\n",
    "            # model specifics\n",
    "            AUTO_CLASS_WEIGHTS = TRUE,\n",
    "        \n",
    "            # register model in Vertex AI Model Registry\n",
    "            MODEL_REGISTRY = 'VERTEX_AI',\n",
    "            VERTEX_AI_MODEL_ID = 'classify_species_logistic'\n",
    "        )\n",
    "    AS\n",
    "        SELECT species, island, culmen_length_mm, culmen_depth_mm, sex, flipper_length_mm, body_mass_g\n",
    "        FROM `statmike-mlops-349915.bqml_model_monitoring.training`\n",
    "        UNION ALL\n",
    "        SELECT species, island, culmen_length_mm, culmen_depth_mm, sex, flipper_length_mm, body_mass_g\n",
    "        FROM `statmike-mlops-349915.bqml_model_monitoring.serving`\n",
    "        # get serving data for which the ground truth is now known:\n",
    "        WHERE species IS NOT NULL\n",
    "\n",
    "    ;\n",
    "    \n",
    "    # force alert with message\n",
    "    SELECT ERROR(\n",
    "        CONCAT(\n",
    "            '\\n\\nFound data skew in features: ',\n",
    "            ARRAY_TO_STRING(skew_anomalies, ', '),\n",
    "            '. Model is retrained with the latest serving data.\\n\\n'\n",
    "        )\n",
    "    );\n",
    "\n",
    "    ELSE SET skew_anomalies = ['No skew detected.'];\n",
    "END IF;"
   ]
  },
  {
   "cell_type": "markdown",
   "id": "e202c718-b7b5-40c5-98e4-2658642668d2",
   "metadata": {},
   "source": [
    "---\n",
    "## More Resources\n",
    "\n",
    "Continue on to the ['BigQuery ML (BQML) - Model Monitoring Tutorial'](./bqml-model-monitoring-tutorial.ipynb) for a more detailed review of model monitoring with BigQuery. \n",
    "\n",
    "Read more about model monitoring in the documentation for the model monitoring functions:\n",
    "* [BigQuery ML Documentation](https://cloud.google.com/bigquery-ml/docs/)\n",
    "* [BigQuery ML Model Monitoring](https://cloud.google.com/bigquery/docs/model-monitoring-overview)\n",
    "    - [`ML.DESCRIBE_DATA`](https://cloud.google.com/bigquery/docs/reference/standard-sql/bigqueryml-syntax-describe-data)\n",
    "    - [`ML.VALIDATE_DATA_SKEW`](https://cloud.google.com/bigquery/docs/reference/standard-sql/bigqueryml-syntax-validate-data-skew)\n",
    "    - [`ML.VALIDATE_DATA_DRIFT`](https://cloud.google.com/bigquery/docs/reference/standard-sql/bigqueryml-syntax-validate-data-drift)\n",
    "    - [`ML.TFDV_DESCRIBE`](https://cloud.google.com/bigquery/docs/reference/standard-sql/bigqueryml-syntax-tfdv-describe)\n",
    "    - [`ML.TFDV_VALIDATE`](https://cloud.google.com/bigquery/docs/reference/standard-sql/bigqueryml-syntax-tfdv-validate)"
   ]
  },
  {
   "cell_type": "markdown",
   "id": "228194a9-5c3f-4089-9af2-f17eeaa75ad5",
   "metadata": {},
   "source": [
    "---\n",
    "## Remove Resources Created In This Notebook\n",
    "\n",
    "All the content is contained within the BigQuery dataset named `bqml_model_monitoring` created above.  If you are continuing on to the tutorial then consider leaving these resources for reuse in that notebook workflow.  \n",
    "\n",
    "The following will delete the BigQuery resources created above and the dataset if it is empty."
   ]
  },
  {
   "cell_type": "code",
   "execution_count": 55,
   "id": "f3755fbc-255e-4246-923e-cc2faeeb80d3",
   "metadata": {
    "tags": []
   },
   "outputs": [],
   "source": [
    "# to remove resources change this flag to True:\n",
    "remove = False"
   ]
  },
  {
   "cell_type": "code",
   "execution_count": 56,
   "id": "a1f5ff57-776e-47e2-90c0-09c5c31e768a",
   "metadata": {},
   "outputs": [],
   "source": [
    "if remove:\n",
    "    # client for BigQuery\n",
    "    from google.cloud import bigquery\n",
    "    bq = bigquery.Client(project = 'statmike-mlops-349915')\n",
    "    \n",
    "    # delete BigQuery table(s) and model(s) created above\n",
    "    bq.delete_table('statmike-mlops-349915.bqml_model_monitoring.training')\n",
    "    bq.delete_table('statmike-mlops-349915.bqml_model_monitoring.serving')\n",
    "    bq.delete_model('statmike-mlops-349915.bqml_model_monitoring.classify_species_logistic')\n",
    "    \n",
    "    # delete BigQuery dataset - fails if other content was in the dataset than what this notebook created\n",
    "    bq.delete_dataset('statmike-mlops-349915.bqml_model_monitoring', delete_contents = False)"
   ]
  }
 ],
 "metadata": {
  "environment": {
   "kernel": "conda-base-py",
   "name": "workbench-notebooks.m128",
   "type": "gcloud",
   "uri": "us-docker.pkg.dev/deeplearning-platform-release/gcr.io/workbench-notebooks:m128"
  },
  "kernelspec": {
   "display_name": "Python 3 (ipykernel) (Local)",
   "language": "python",
   "name": "conda-base-py"
  },
  "language_info": {
   "codemirror_mode": {
    "name": "ipython",
    "version": 3
   },
   "file_extension": ".py",
   "mimetype": "text/x-python",
   "name": "python",
   "nbconvert_exporter": "python",
   "pygments_lexer": "ipython3",
   "version": "3.10.16"
  }
 },
 "nbformat": 4,
 "nbformat_minor": 5
}
