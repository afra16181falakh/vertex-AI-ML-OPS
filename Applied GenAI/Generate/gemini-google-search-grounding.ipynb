{
 "cells": [
  {
   "cell_type": "markdown",
   "id": "5caccc40",
   "metadata": {},
   "source": [
    "![tracker](https://us-central1-vertex-ai-mlops-369716.cloudfunctions.net/pixel-tracking?path=statmike%2Fvertex-ai-mlops%2FApplied+GenAI%2FGenerate&file=gemini-google-search-grounding.ipynb)\n",
    "<!--- header table --->\n",
    "<table align=\"left\">\n",
    "<tr>\n",
    "  <td style=\"text-align: center\">\n",
    "    <a href=\"https://github.com/statmike/vertex-ai-mlops/blob/main/Applied%20GenAI/Generate/gemini-google-search-grounding.ipynb\">\n",
    "      <img width=\"32px\" src=\"https://www.svgrepo.com/download/217753/github.svg\" alt=\"GitHub logo\">\n",
    "      <br>View on<br>GitHub\n",
    "    </a>\n",
    "  </td>\n",
    "  <td style=\"text-align: center\">\n",
    "    <a href=\"https://colab.research.google.com/github/statmike/vertex-ai-mlops/blob/main/Applied%20GenAI/Generate/gemini-google-search-grounding.ipynb\">\n",
    "      <img width=\"32px\" src=\"https://www.gstatic.com/pantheon/images/bigquery/welcome_page/colab-logo.svg\" alt=\"Google Colaboratory logo\">\n",
    "      <br>Run in<br>Colab\n",
    "    </a>\n",
    "  </td>\n",
    "  <td style=\"text-align: center\">\n",
    "    <a href=\"https://console.cloud.google.com/vertex-ai/colab/import/https%3A%2F%2Fraw.githubusercontent.com%2Fstatmike%2Fvertex-ai-mlops%2Fmain%2FApplied%2520GenAI%2FGenerate%2Fgemini-google-search-grounding.ipynb\">\n",
    "      <img width=\"32px\" src=\"https://lh3.googleusercontent.com/JmcxdQi-qOpctIvWKgPtrzZdJJK-J3sWE1RsfjZNwshCFgE_9fULcNpuXYTilIR2hjwN\" alt=\"Google Cloud Colab Enterprise logo\">\n",
    "      <br>Run in<br>Colab Enterprise\n",
    "    </a>\n",
    "  </td>      \n",
    "  <td style=\"text-align: center\">\n",
    "    <a href=\"https://console.cloud.google.com/bigquery/import?url=https://github.com/statmike/vertex-ai-mlops/blob/main/Applied%20GenAI/Generate/gemini-google-search-grounding.ipynb\">\n",
    "      <img width=\"32px\" src=\"https://www.gstatic.com/images/branding/gcpiconscolors/bigquery/v1/32px.svg\" alt=\"BigQuery logo\">\n",
    "      <br>Open in<br>BigQuery Studio\n",
    "    </a>\n",
    "  </td>\n",
    "  <td style=\"text-align: center\">\n",
    "    <a href=\"https://console.cloud.google.com/vertex-ai/workbench/deploy-notebook?download_url=https://raw.githubusercontent.com/statmike/vertex-ai-mlops/main/Applied%20GenAI/Generate/gemini-google-search-grounding.ipynb\">\n",
    "      <img width=\"32px\" src=\"https://www.gstatic.com/images/branding/gcpiconscolors/vertexai/v1/32px.svg\" alt=\"Vertex AI logo\">\n",
    "      <br>Open in<br>Vertex AI Workbench\n",
    "    </a>\n",
    "  </td>\n",
    "</tr>\n",
    "<tr>\n",
    "  <td colspan=\"5\" style=\"text-align: right\">\n",
    "    <b>Share This On: </b> \n",
    "    <a href=\"https://www.linkedin.com/sharing/share-offsite/?url=https%3A//github.com/statmike/vertex-ai-mlops/blob/main/Applied%20GenAI/Generate/gemini-google-search-grounding.ipynb\"><img src=\"https://upload.wikimedia.org/wikipedia/commons/8/81/LinkedIn_icon.svg\" alt=\"Linkedin Logo\" width=\"20px\"></a> \n",
    "    <a href=\"https://reddit.com/submit?url=https%3A//github.com/statmike/vertex-ai-mlops/blob/main/Applied%20GenAI/Generate/gemini-google-search-grounding.ipynb\"><img src=\"https://redditinc.com/hubfs/Reddit%20Inc/Brand/Reddit_Logo.png\" alt=\"Reddit Logo\" width=\"20px\"></a> \n",
    "    <a href=\"https://bsky.app/intent/compose?text=https%3A//github.com/statmike/vertex-ai-mlops/blob/main/Applied%20GenAI/Generate/gemini-google-search-grounding.ipynb\"><img src=\"https://upload.wikimedia.org/wikipedia/commons/7/7a/Bluesky_Logo.svg\" alt=\"BlueSky Logo\" width=\"20px\"></a> \n",
    "    <a href=\"https://twitter.com/intent/tweet?url=https%3A//github.com/statmike/vertex-ai-mlops/blob/main/Applied%20GenAI/Generate/gemini-google-search-grounding.ipynb\"><img src=\"https://upload.wikimedia.org/wikipedia/commons/5/5a/X_icon_2.svg\" alt=\"X (Twitter) Logo\" width=\"20px\"></a> \n",
    "  </td>\n",
    "</tr>\n",
    "<tr>\n",
    "  <td colspan=\"5\" style=\"text-align: right\">\n",
    "    <b>Connect With Author On: </b> \n",
    "    <a href=\"https://www.linkedin.com/in/statmike\"><img src=\"https://upload.wikimedia.org/wikipedia/commons/8/81/LinkedIn_icon.svg\" alt=\"Linkedin Logo\" width=\"20px\"></a>\n",
    "    <a href=\"https://www.github.com/statmike\"><img src=\"https://www.svgrepo.com/download/217753/github.svg\" alt=\"GitHub Logo\" width=\"20px\"></a> \n",
    "    <a href=\"https://www.youtube.com/@statmike-channel\"><img src=\"https://upload.wikimedia.org/wikipedia/commons/f/fd/YouTube_full-color_icon_%282024%29.svg\" alt=\"YouTube Logo\" width=\"20px\"></a>\n",
    "    <a href=\"https://bksy.app/profile/statmike.bsky.social\"><img src=\"https://upload.wikimedia.org/wikipedia/commons/7/7a/Bluesky_Logo.svg\" alt=\"BlueSky Logo\" width=\"20px\"></a> \n",
    "    <a href=\"https://x.com/statmike\"><img src=\"https://upload.wikimedia.org/wikipedia/commons/5/5a/X_icon_2.svg\" alt=\"X (Twitter) Logo\" width=\"20px\"></a>\n",
    "  </td>\n",
    "</tr>\n",
    "</table>"
   ]
  },
  {
   "cell_type": "markdown",
   "id": "90fc1c15-b0ef-457a-9dab-bc57e2a5798f",
   "metadata": {},
   "source": [
    "# Gemini With Google Search Grounding\n",
    "\n",
    "A super fast example of Google Search Grounding With Gemini that is also formated for further use (like tool calling, API input, etc.).\n",
    "\n",
    "**References**\n",
    "- [Grounding With Google Search](https://cloud.google.com/vertex-ai/generative-ai/docs/grounding/grounding-with-google-search)\n",
    "- [Gemini Python SDK](https://github.com/googleapis/python-genai)\n",
    "- [Gemini Controlled Generation](https://cloud.google.com/vertex-ai/generative-ai/docs/multimodal/control-generated-output)"
   ]
  },
  {
   "cell_type": "markdown",
   "id": "4407b44d",
   "metadata": {},
   "source": [
    "---\n",
    "## Setup"
   ]
  },
  {
   "cell_type": "code",
   "execution_count": 1,
   "id": "8f856dcf-9505-435d-b6ee-fdea4fc68686",
   "metadata": {
    "tags": []
   },
   "outputs": [
    {
     "data": {
      "text/plain": [
       "'statmike-mlops-349915'"
      ]
     },
     "execution_count": 1,
     "metadata": {},
     "output_type": "execute_result"
    }
   ],
   "source": [
    "project = !gcloud config get-value project\n",
    "PROJECT_ID = project[0]\n",
    "PROJECT_ID"
   ]
  },
  {
   "cell_type": "code",
   "execution_count": 2,
   "id": "71527301-75db-4320-8f69-8577217b813f",
   "metadata": {
    "tags": []
   },
   "outputs": [],
   "source": [
    "REGION = 'us-central1'"
   ]
  },
  {
   "cell_type": "markdown",
   "id": "201ada96-a51f-4bd3-aa8c-8b35087090c8",
   "metadata": {},
   "source": [
    "packages:"
   ]
  },
  {
   "cell_type": "code",
   "execution_count": 3,
   "id": "8fd427dc-039b-4bdd-a929-6de652742d1b",
   "metadata": {
    "tags": []
   },
   "outputs": [],
   "source": [
    "import typing, json\n",
    "\n",
    "import pydantic\n",
    "from IPython.display import display, HTML\n",
    "\n",
    "from google import genai"
   ]
  },
  {
   "cell_type": "markdown",
   "id": "9f7df8d7",
   "metadata": {},
   "source": [
    "clients"
   ]
  },
  {
   "cell_type": "code",
   "execution_count": 4,
   "id": "f8cc838a",
   "metadata": {
    "tags": []
   },
   "outputs": [],
   "source": [
    "# setup google genai SDK\n",
    "client = genai.Client(vertexai = True, project = PROJECT_ID, location = REGION)"
   ]
  },
  {
   "cell_type": "markdown",
   "id": "f325270f",
   "metadata": {},
   "source": [
    "---\n",
    "## Grounding Gemini With Google Search"
   ]
  },
  {
   "cell_type": "code",
   "execution_count": 5,
   "id": "807371ee-51cf-4bb5-8a78-27a049a28ae0",
   "metadata": {
    "tags": []
   },
   "outputs": [],
   "source": [
    "search_response = client.models.generate_content(\n",
    "    model = 'gemini-2.0-flash',\n",
    "    contents = 'I need to call someone at McDonalds about an incident in Jacksonville, FL.  What is the best number to call?',\n",
    "    config = genai.types.GenerateContentConfig(\n",
    "        temperature = 0,\n",
    "        tools = [\n",
    "            genai.types.Tool(\n",
    "                google_search = genai.types.GoogleSearch()\n",
    "            )\n",
    "        ]\n",
    "    )\n",
    ")"
   ]
  },
  {
   "cell_type": "code",
   "execution_count": 6,
   "id": "d697e909-3df6-44a9-933a-367888e954a8",
   "metadata": {
    "tags": []
   },
   "outputs": [
    {
     "name": "stdout",
     "output_type": "stream",
     "text": [
      "Here are a few options for contacting McDonald's regarding an incident in Jacksonville, FL:\n",
      "\n",
      "1.  **Contact the specific McDonald's location:** If you know which McDonald's in Jacksonville, FL, was involved in the incident, you can try contacting them directly. For example, one location is at 253 W State St E, Jacksonville, FL 32202, and their phone number is (904) 356-0337. Another is located at 1768 Davis St. Jacksonville, FL and their number is (904) 356-1981.\n",
      "2.  **McDonald's Customer Service:** You can contact McDonald's customer service in the United States at their toll-free number: (800) 244-6227. They are available 7 days a week from 8 a.m. to 8 p.m. Eastern Time. According to a recent report, the best day to call is Wednesday.\n",
      "3.  **McDonald's Corporate Office:** You can contact the McDonald's corporate office at 1 McDonald's Plaza, Oak Brook, IL 60523, or call them at (630) 623-3000.\n",
      "\n"
     ]
    }
   ],
   "source": [
    "print(search_response.text)"
   ]
  },
  {
   "cell_type": "code",
   "execution_count": 7,
   "id": "8fca3c1f-8384-4043-ba04-0e93c88ca465",
   "metadata": {
    "tags": []
   },
   "outputs": [
    {
     "data": {
      "text/html": [
       "<style>\n",
       ".container {\n",
       "  align-items: center;\n",
       "  border-radius: 8px;\n",
       "  display: flex;\n",
       "  font-family: Google Sans, Roboto, sans-serif;\n",
       "  font-size: 14px;\n",
       "  line-height: 20px;\n",
       "  padding: 8px 12px;\n",
       "}\n",
       ".chip {\n",
       "  display: inline-block;\n",
       "  border: solid 1px;\n",
       "  border-radius: 16px;\n",
       "  min-width: 14px;\n",
       "  padding: 5px 16px;\n",
       "  text-align: center;\n",
       "  user-select: none;\n",
       "  margin: 0 8px;\n",
       "  -webkit-tap-highlight-color: transparent;\n",
       "}\n",
       ".carousel {\n",
       "  overflow: auto;\n",
       "  scrollbar-width: none;\n",
       "  white-space: nowrap;\n",
       "  margin-right: -12px;\n",
       "}\n",
       ".headline {\n",
       "  display: flex;\n",
       "  margin-right: 4px;\n",
       "}\n",
       ".gradient-container {\n",
       "  position: relative;\n",
       "}\n",
       ".gradient {\n",
       "  position: absolute;\n",
       "  transform: translate(3px, -9px);\n",
       "  height: 36px;\n",
       "  width: 9px;\n",
       "}\n",
       "@media (prefers-color-scheme: light) {\n",
       "  .container {\n",
       "    background-color: #fafafa;\n",
       "    box-shadow: 0 0 0 1px #0000000f;\n",
       "  }\n",
       "  .headline-label {\n",
       "    color: #1f1f1f;\n",
       "  }\n",
       "  .chip {\n",
       "    background-color: #ffffff;\n",
       "    border-color: #d2d2d2;\n",
       "    color: #5e5e5e;\n",
       "    text-decoration: none;\n",
       "  }\n",
       "  .chip:hover {\n",
       "    background-color: #f2f2f2;\n",
       "  }\n",
       "  .chip:focus {\n",
       "    background-color: #f2f2f2;\n",
       "  }\n",
       "  .chip:active {\n",
       "    background-color: #d8d8d8;\n",
       "    border-color: #b6b6b6;\n",
       "  }\n",
       "  .logo-dark {\n",
       "    display: none;\n",
       "  }\n",
       "  .gradient {\n",
       "    background: linear-gradient(90deg, #fafafa 15%, #fafafa00 100%);\n",
       "  }\n",
       "}\n",
       "@media (prefers-color-scheme: dark) {\n",
       "  .container {\n",
       "    background-color: #1f1f1f;\n",
       "    box-shadow: 0 0 0 1px #ffffff26;\n",
       "  }\n",
       "  .headline-label {\n",
       "    color: #fff;\n",
       "  }\n",
       "  .chip {\n",
       "    background-color: #2c2c2c;\n",
       "    border-color: #3c4043;\n",
       "    color: #fff;\n",
       "    text-decoration: none;\n",
       "  }\n",
       "  .chip:hover {\n",
       "    background-color: #353536;\n",
       "  }\n",
       "  .chip:focus {\n",
       "    background-color: #353536;\n",
       "  }\n",
       "  .chip:active {\n",
       "    background-color: #464849;\n",
       "    border-color: #53575b;\n",
       "  }\n",
       "  .logo-light {\n",
       "    display: none;\n",
       "  }\n",
       "  .gradient {\n",
       "    background: linear-gradient(90deg, #1f1f1f 15%, #1f1f1f00 100%);\n",
       "  }\n",
       "}\n",
       "</style>\n",
       "<div class=\"container\">\n",
       "  <div class=\"headline\">\n",
       "    <svg class=\"logo-light\" width=\"18\" height=\"18\" viewBox=\"9 9 35 35\" fill=\"none\" xmlns=\"http://www.w3.org/2000/svg\">\n",
       "      <path fill-rule=\"evenodd\" clip-rule=\"evenodd\" d=\"M42.8622 27.0064C42.8622 25.7839 42.7525 24.6084 42.5487 23.4799H26.3109V30.1568H35.5897C35.1821 32.3041 33.9596 34.1222 32.1258 35.3448V39.6864H37.7213C40.9814 36.677 42.8622 32.2571 42.8622 27.0064V27.0064Z\" fill=\"#4285F4\"/>\n",
       "      <path fill-rule=\"evenodd\" clip-rule=\"evenodd\" d=\"M26.3109 43.8555C30.9659 43.8555 34.8687 42.3195 37.7213 39.6863L32.1258 35.3447C30.5898 36.3792 28.6306 37.0061 26.3109 37.0061C21.8282 37.0061 18.0195 33.9811 16.6559 29.906H10.9194V34.3573C13.7563 39.9841 19.5712 43.8555 26.3109 43.8555V43.8555Z\" fill=\"#34A853\"/>\n",
       "      <path fill-rule=\"evenodd\" clip-rule=\"evenodd\" d=\"M16.6559 29.8904C16.3111 28.8559 16.1074 27.7588 16.1074 26.6146C16.1074 25.4704 16.3111 24.3733 16.6559 23.3388V18.8875H10.9194C9.74388 21.2072 9.06992 23.8247 9.06992 26.6146C9.06992 29.4045 9.74388 32.022 10.9194 34.3417L15.3864 30.8621L16.6559 29.8904V29.8904Z\" fill=\"#FBBC05\"/>\n",
       "      <path fill-rule=\"evenodd\" clip-rule=\"evenodd\" d=\"M26.3109 16.2386C28.85 16.2386 31.107 17.1164 32.9095 18.8091L37.8466 13.8719C34.853 11.082 30.9659 9.3736 26.3109 9.3736C19.5712 9.3736 13.7563 13.245 10.9194 18.8875L16.6559 23.3388C18.0195 19.2636 21.8282 16.2386 26.3109 16.2386V16.2386Z\" fill=\"#EA4335\"/>\n",
       "    </svg>\n",
       "    <svg class=\"logo-dark\" width=\"18\" height=\"18\" viewBox=\"0 0 48 48\" xmlns=\"http://www.w3.org/2000/svg\">\n",
       "      <circle cx=\"24\" cy=\"23\" fill=\"#FFF\" r=\"22\"/>\n",
       "      <path d=\"M33.76 34.26c2.75-2.56 4.49-6.37 4.49-11.26 0-.89-.08-1.84-.29-3H24.01v5.99h8.03c-.4 2.02-1.5 3.56-3.07 4.56v.75l3.91 2.97h.88z\" fill=\"#4285F4\"/>\n",
       "      <path d=\"M15.58 25.77A8.845 8.845 0 0 0 24 31.86c1.92 0 3.62-.46 4.97-1.31l4.79 3.71C31.14 36.7 27.65 38 24 38c-5.93 0-11.01-3.4-13.45-8.36l.17-1.01 4.06-2.85h.8z\" fill=\"#34A853\"/>\n",
       "      <path d=\"M15.59 20.21a8.864 8.864 0 0 0 0 5.58l-5.03 3.86c-.98-2-1.53-4.25-1.53-6.64 0-2.39.55-4.64 1.53-6.64l1-.22 3.81 2.98.22 1.08z\" fill=\"#FBBC05\"/>\n",
       "      <path d=\"M24 14.14c2.11 0 4.02.75 5.52 1.98l4.36-4.36C31.22 9.43 27.81 8 24 8c-5.93 0-11.01 3.4-13.45 8.36l5.03 3.85A8.86 8.86 0 0 1 24 14.14z\" fill=\"#EA4335\"/>\n",
       "    </svg>\n",
       "    <div class=\"gradient-container\"><div class=\"gradient\"></div></div>\n",
       "  </div>\n",
       "  <div class=\"carousel\">\n",
       "    <a class=\"chip\" href=\"https://vertexaisearch.cloud.google.com/grounding-api-redirect/AbF9wXHJkFlvbN1Gq_lT-8ciT_dM2OgWpfh3KVVOzJg_px0AVHIRKRTJ8VRpxD9ivSiTVa8fnVndeEBFuUreninimNVE_7zozic_MgGHEQzt61O3kOG-ftM7xlAjnfVosv1P3JzZCZ_kvVnVOz2xPjSy9ZUKHlVuggj2Js-ym9EQJDT9Baxf32mlwfugAStKYVin8i9SOA1Q0GmiPnWRQGnqpPh4cwct-SgT89fufvpJ6ipjNMAA0fbEGBgl\">McDonalds Jacksonville FL phone number for complaints</a>\n",
       "    <a class=\"chip\" href=\"https://vertexaisearch.cloud.google.com/grounding-api-redirect/AbF9wXG3rJWjW6zsB6VZqFLRDV3wfy-iz920O3J03LdOnCzh0cmMJH8Ie0B-hD4GrQyQtLWtsAZ2kOxUAokpUH-GZkCHmOfA1Kw7k9Orx34WkWoqJKnZPeiHVwl4YRC2TusWVCQAoVLBnHwsTYjRRqmbFTWFboqNpeZ-OwI4bxrUVKNCcnBQqfjEaB46UHQrGwwQeapeN8Xd0KiEQrPSXUsKWGAbwbSCbKWYLJj3eVsasw==\">McDonalds corporate customer service number</a>\n",
       "  </div>\n",
       "</div>\n"
      ],
      "text/plain": [
       "<IPython.core.display.HTML object>"
      ]
     },
     "execution_count": 7,
     "metadata": {},
     "output_type": "execute_result"
    }
   ],
   "source": [
    "HTML(search_response.candidates[0].grounding_metadata.search_entry_point.rendered_content)"
   ]
  },
  {
   "cell_type": "code",
   "execution_count": 8,
   "id": "7bb495d4-39d0-4639-9dd8-005806ab46ac",
   "metadata": {
    "tags": []
   },
   "outputs": [
    {
     "data": {
      "text/plain": [
       "{'cache_tokens_details': None,\n",
       " 'cached_content_token_count': None,\n",
       " 'candidates_token_count': 279,\n",
       " 'candidates_tokens_details': [ModalityTokenCount(modality=<MediaModality.TEXT: 'TEXT'>, token_count=279)],\n",
       " 'prompt_token_count': 24,\n",
       " 'prompt_tokens_details': [ModalityTokenCount(modality=<MediaModality.TEXT: 'TEXT'>, token_count=24)],\n",
       " 'thoughts_token_count': None,\n",
       " 'tool_use_prompt_token_count': None,\n",
       " 'tool_use_prompt_tokens_details': None,\n",
       " 'total_token_count': 303,\n",
       " 'traffic_type': <TrafficType.ON_DEMAND: 'ON_DEMAND'>}"
      ]
     },
     "execution_count": 8,
     "metadata": {},
     "output_type": "execute_result"
    }
   ],
   "source": [
    "search_response.usage_metadata.__dict__"
   ]
  },
  {
   "cell_type": "markdown",
   "id": "6e6bfe95",
   "metadata": {},
   "source": [
    "### Detecting Grounding Usage\n",
    "\n",
    "The tool may or may not be used by the model.  To understanding if it was used just check the response candidates `grounding_metadata` element.  Here this is populated for the result above.  Another model prompt is used without the search grounding tool to show that the `grounding_metadata` element is still present but empty when no search occured."
   ]
  },
  {
   "cell_type": "code",
   "execution_count": 10,
   "id": "9eb6ee22",
   "metadata": {},
   "outputs": [
    {
     "data": {
      "text/plain": [
       "GroundingMetadata(grounding_chunks=[GroundingChunk(retrieved_context=None, web=GroundingChunkWeb(domain='dtjax.com', title='dtjax.com', uri='https://vertexaisearch.cloud.google.com/grounding-api-redirect/AbF9wXGE1LLDtcbF3im-cT9sf1aaj7Yb3ZRk8LhS97431SHyj9XLU-uSizmPYAaYOVZqiFdbPaXaLSFAuJFb-kx5SOq9AXMmkTi_rJXQaDU_bM96aBZNDdkNY4ttAUk=')), GroundingChunk(retrieved_context=None, web=GroundingChunkWeb(domain='bbb.org', title='bbb.org', uri='https://vertexaisearch.cloud.google.com/grounding-api-redirect/AbF9wXH6v8DWWQlOrkXYED-X4RYuJ7TAYyjq4jeZqd4DbX_0ZS9Bv6w8RCETb8lB5tCbJd81ihTmERXWn0vEFNRmOsAVZR-bHAUoKLsmobGqPlsLlK5u_WPjUFM9Dim6EWQ2tx5WHsQ7qhL1mlIfmEZvJB8JpsL_USxvnvIt2c_DPlYEgklHBPpWWE89NEXOI6CjVAlLXJsT')), GroundingChunk(retrieved_context=None, web=GroundingChunkWeb(domain='elliott.org', title='elliott.org', uri='https://vertexaisearch.cloud.google.com/grounding-api-redirect/AbF9wXHhMAlcFgMGNGEhk2SfikqZcyxRFJWHjNbRSZMUz4kZ0bFkWII-89M3eHsbQHG6uSV8Aee3bYcTLURgG9N5zw99yrKfopyTTPTdmDS7UcbTzuJGXfDd6WIxH_GFFupD2heqiYcMdhH4mBYhC5CHDuZpiK2AhqVl6tLblpFrKGi4Oa3XO2AKeug=')), GroundingChunk(retrieved_context=None, web=GroundingChunkWeb(domain='gethuman.com', title='gethuman.com', uri='https://vertexaisearch.cloud.google.com/grounding-api-redirect/AbF9wXHo6AViDFVxAYegirIVJEMhxa5aBx0HTckCN8DB2YsKnPSXaemxnAep8OML9JYg7p8MWde96v0XAYoM33mt6ukinSigPlMk4VjAWGRQbGTdw5mx0OLoI2dCkOQEUY43ul27oT0860o=')), GroundingChunk(retrieved_context=None, web=GroundingChunkWeb(domain='corporate-office-headquarters.com', title='corporate-office-headquarters.com', uri='https://vertexaisearch.cloud.google.com/grounding-api-redirect/AbF9wXFOuajTisuGgCisuN6De1MWgifFNGdXbj5aY6k2OsZGXo4m-IPt5-_zKpDrSsL-AcpiYQAxHr0X9mnvtkSDuQLAgnaqgt-XT8YMDZHYUGIvuppioXacemZA2mtetWn0LP5m11gsoM3RJw3ELJwBre2FzvBndzOU0tSLvhR6Lg=='))], grounding_supports=[GroundingSupport(confidence_scores=None, grounding_chunk_indices=[0], segment=Segment(end_index=375, part_index=None, start_index=261, text='For example, one location is at 253 W State St E, Jacksonville, FL 32202, and their phone number is (904) 356-0337')), GroundingSupport(confidence_scores=None, grounding_chunk_indices=[1], segment=Segment(end_index=465, part_index=None, start_index=414, text='Jacksonville, FL and their number is (904) 356-1981')), GroundingSupport(confidence_scores=None, grounding_chunk_indices=[2], segment=Segment(end_index=679, part_index=None, start_index=612, text='They are available 7 days a week from 8 a.m. to 8 p.m. Eastern Time')), GroundingSupport(confidence_scores=None, grounding_chunk_indices=[3], segment=Segment(end_index=744, part_index=None, start_index=681, text='According to a recent report, the best day to call is Wednesday')), GroundingSupport(confidence_scores=None, grounding_chunk_indices=[4], segment=Segment(end_index=905, part_index=None, start_index=750, text=\"**McDonald's Corporate Office:** You can contact the McDonald's corporate office at 1 McDonald's Plaza, Oak Brook, IL 60523, or call them at (630) 623-3000\"))], retrieval_metadata=RetrievalMetadata(google_search_dynamic_retrieval_score=None), retrieval_queries=None, search_entry_point=SearchEntryPoint(rendered_content='<style>\\n.container {\\n  align-items: center;\\n  border-radius: 8px;\\n  display: flex;\\n  font-family: Google Sans, Roboto, sans-serif;\\n  font-size: 14px;\\n  line-height: 20px;\\n  padding: 8px 12px;\\n}\\n.chip {\\n  display: inline-block;\\n  border: solid 1px;\\n  border-radius: 16px;\\n  min-width: 14px;\\n  padding: 5px 16px;\\n  text-align: center;\\n  user-select: none;\\n  margin: 0 8px;\\n  -webkit-tap-highlight-color: transparent;\\n}\\n.carousel {\\n  overflow: auto;\\n  scrollbar-width: none;\\n  white-space: nowrap;\\n  margin-right: -12px;\\n}\\n.headline {\\n  display: flex;\\n  margin-right: 4px;\\n}\\n.gradient-container {\\n  position: relative;\\n}\\n.gradient {\\n  position: absolute;\\n  transform: translate(3px, -9px);\\n  height: 36px;\\n  width: 9px;\\n}\\n@media (prefers-color-scheme: light) {\\n  .container {\\n    background-color: #fafafa;\\n    box-shadow: 0 0 0 1px #0000000f;\\n  }\\n  .headline-label {\\n    color: #1f1f1f;\\n  }\\n  .chip {\\n    background-color: #ffffff;\\n    border-color: #d2d2d2;\\n    color: #5e5e5e;\\n    text-decoration: none;\\n  }\\n  .chip:hover {\\n    background-color: #f2f2f2;\\n  }\\n  .chip:focus {\\n    background-color: #f2f2f2;\\n  }\\n  .chip:active {\\n    background-color: #d8d8d8;\\n    border-color: #b6b6b6;\\n  }\\n  .logo-dark {\\n    display: none;\\n  }\\n  .gradient {\\n    background: linear-gradient(90deg, #fafafa 15%, #fafafa00 100%);\\n  }\\n}\\n@media (prefers-color-scheme: dark) {\\n  .container {\\n    background-color: #1f1f1f;\\n    box-shadow: 0 0 0 1px #ffffff26;\\n  }\\n  .headline-label {\\n    color: #fff;\\n  }\\n  .chip {\\n    background-color: #2c2c2c;\\n    border-color: #3c4043;\\n    color: #fff;\\n    text-decoration: none;\\n  }\\n  .chip:hover {\\n    background-color: #353536;\\n  }\\n  .chip:focus {\\n    background-color: #353536;\\n  }\\n  .chip:active {\\n    background-color: #464849;\\n    border-color: #53575b;\\n  }\\n  .logo-light {\\n    display: none;\\n  }\\n  .gradient {\\n    background: linear-gradient(90deg, #1f1f1f 15%, #1f1f1f00 100%);\\n  }\\n}\\n</style>\\n<div class=\"container\">\\n  <div class=\"headline\">\\n    <svg class=\"logo-light\" width=\"18\" height=\"18\" viewBox=\"9 9 35 35\" fill=\"none\" xmlns=\"http://www.w3.org/2000/svg\">\\n      <path fill-rule=\"evenodd\" clip-rule=\"evenodd\" d=\"M42.8622 27.0064C42.8622 25.7839 42.7525 24.6084 42.5487 23.4799H26.3109V30.1568H35.5897C35.1821 32.3041 33.9596 34.1222 32.1258 35.3448V39.6864H37.7213C40.9814 36.677 42.8622 32.2571 42.8622 27.0064V27.0064Z\" fill=\"#4285F4\"/>\\n      <path fill-rule=\"evenodd\" clip-rule=\"evenodd\" d=\"M26.3109 43.8555C30.9659 43.8555 34.8687 42.3195 37.7213 39.6863L32.1258 35.3447C30.5898 36.3792 28.6306 37.0061 26.3109 37.0061C21.8282 37.0061 18.0195 33.9811 16.6559 29.906H10.9194V34.3573C13.7563 39.9841 19.5712 43.8555 26.3109 43.8555V43.8555Z\" fill=\"#34A853\"/>\\n      <path fill-rule=\"evenodd\" clip-rule=\"evenodd\" d=\"M16.6559 29.8904C16.3111 28.8559 16.1074 27.7588 16.1074 26.6146C16.1074 25.4704 16.3111 24.3733 16.6559 23.3388V18.8875H10.9194C9.74388 21.2072 9.06992 23.8247 9.06992 26.6146C9.06992 29.4045 9.74388 32.022 10.9194 34.3417L15.3864 30.8621L16.6559 29.8904V29.8904Z\" fill=\"#FBBC05\"/>\\n      <path fill-rule=\"evenodd\" clip-rule=\"evenodd\" d=\"M26.3109 16.2386C28.85 16.2386 31.107 17.1164 32.9095 18.8091L37.8466 13.8719C34.853 11.082 30.9659 9.3736 26.3109 9.3736C19.5712 9.3736 13.7563 13.245 10.9194 18.8875L16.6559 23.3388C18.0195 19.2636 21.8282 16.2386 26.3109 16.2386V16.2386Z\" fill=\"#EA4335\"/>\\n    </svg>\\n    <svg class=\"logo-dark\" width=\"18\" height=\"18\" viewBox=\"0 0 48 48\" xmlns=\"http://www.w3.org/2000/svg\">\\n      <circle cx=\"24\" cy=\"23\" fill=\"#FFF\" r=\"22\"/>\\n      <path d=\"M33.76 34.26c2.75-2.56 4.49-6.37 4.49-11.26 0-.89-.08-1.84-.29-3H24.01v5.99h8.03c-.4 2.02-1.5 3.56-3.07 4.56v.75l3.91 2.97h.88z\" fill=\"#4285F4\"/>\\n      <path d=\"M15.58 25.77A8.845 8.845 0 0 0 24 31.86c1.92 0 3.62-.46 4.97-1.31l4.79 3.71C31.14 36.7 27.65 38 24 38c-5.93 0-11.01-3.4-13.45-8.36l.17-1.01 4.06-2.85h.8z\" fill=\"#34A853\"/>\\n      <path d=\"M15.59 20.21a8.864 8.864 0 0 0 0 5.58l-5.03 3.86c-.98-2-1.53-4.25-1.53-6.64 0-2.39.55-4.64 1.53-6.64l1-.22 3.81 2.98.22 1.08z\" fill=\"#FBBC05\"/>\\n      <path d=\"M24 14.14c2.11 0 4.02.75 5.52 1.98l4.36-4.36C31.22 9.43 27.81 8 24 8c-5.93 0-11.01 3.4-13.45 8.36l5.03 3.85A8.86 8.86 0 0 1 24 14.14z\" fill=\"#EA4335\"/>\\n    </svg>\\n    <div class=\"gradient-container\"><div class=\"gradient\"></div></div>\\n  </div>\\n  <div class=\"carousel\">\\n    <a class=\"chip\" href=\"https://vertexaisearch.cloud.google.com/grounding-api-redirect/AbF9wXHJkFlvbN1Gq_lT-8ciT_dM2OgWpfh3KVVOzJg_px0AVHIRKRTJ8VRpxD9ivSiTVa8fnVndeEBFuUreninimNVE_7zozic_MgGHEQzt61O3kOG-ftM7xlAjnfVosv1P3JzZCZ_kvVnVOz2xPjSy9ZUKHlVuggj2Js-ym9EQJDT9Baxf32mlwfugAStKYVin8i9SOA1Q0GmiPnWRQGnqpPh4cwct-SgT89fufvpJ6ipjNMAA0fbEGBgl\">McDonalds Jacksonville FL phone number for complaints</a>\\n    <a class=\"chip\" href=\"https://vertexaisearch.cloud.google.com/grounding-api-redirect/AbF9wXG3rJWjW6zsB6VZqFLRDV3wfy-iz920O3J03LdOnCzh0cmMJH8Ie0B-hD4GrQyQtLWtsAZ2kOxUAokpUH-GZkCHmOfA1Kw7k9Orx34WkWoqJKnZPeiHVwl4YRC2TusWVCQAoVLBnHwsTYjRRqmbFTWFboqNpeZ-OwI4bxrUVKNCcnBQqfjEaB46UHQrGwwQeapeN8Xd0KiEQrPSXUsKWGAbwbSCbKWYLJj3eVsasw==\">McDonalds corporate customer service number</a>\\n  </div>\\n</div>\\n', sdk_blob=None), web_search_queries=['McDonalds Jacksonville FL phone number for complaints', 'McDonalds corporate customer service number'])"
      ]
     },
     "execution_count": 10,
     "metadata": {},
     "output_type": "execute_result"
    }
   ],
   "source": [
    "search_response.candidates[0].grounding_metadata"
   ]
  },
  {
   "cell_type": "code",
   "execution_count": 13,
   "id": "37f9d07e",
   "metadata": {},
   "outputs": [],
   "source": [
    "no_search_response = client.models.generate_content(\n",
    "    model = 'gemini-2.0-flash',\n",
    "    contents = 'Where was McDonalds founded?',\n",
    "    # config = genai.types.GenerateContentConfig(\n",
    "    #     temperature = 0,\n",
    "    #     tools = [\n",
    "    #         genai.types.Tool(\n",
    "    #             google_search = genai.types.GoogleSearch()\n",
    "    #         )\n",
    "    #     ]\n",
    "    # )  \n",
    ")"
   ]
  },
  {
   "cell_type": "code",
   "execution_count": 14,
   "id": "f45dec93",
   "metadata": {},
   "outputs": [],
   "source": [
    "no_search_response.candidates[0].grounding_metadata"
   ]
  },
  {
   "cell_type": "markdown",
   "id": "d9ad2372-e104-424a-9f9b-dc106caacdb0",
   "metadata": {},
   "source": [
    "### Response Formatting\n",
    "\n",
    "Define a schema using `pydantic` and then use the schema to control the response from the model.  Then use the schema to validate the reponse. "
   ]
  },
  {
   "cell_type": "code",
   "execution_count": 9,
   "id": "b7c34932-084a-491c-bb8e-1f2044dcd512",
   "metadata": {
    "tags": []
   },
   "outputs": [],
   "source": [
    "class PhoneNumber(pydantic.BaseModel):\n",
    "    phone_number: str = pydantic.Field(description = 'The phoen number of the company in the format XXX-XXX-XXXX.')\n",
    "\n",
    "    # a simplified validate that check the length of the field to see if it could be a phone number.  Expand to check format as well.\n",
    "    @pydantic.field_validator('phone_number')\n",
    "    def check_phone_number(cls, value):\n",
    "        if value is not None and len(value) != 12:\n",
    "            raise ValueError('Phone number must be in the format XXX-XXX-XXXX.')\n",
    "        return value\n",
    "    \n",
    "class ListPhoneNumbers(pydantic.BaseModel):\n",
    "    phone_numbers: typing.List[PhoneNumber] = pydantic.Field(description = \"List of phone numbers for the business.\")"
   ]
  },
  {
   "cell_type": "code",
   "execution_count": 11,
   "id": "62c8af20-132f-40fb-acb5-70abe9bcd717",
   "metadata": {
    "tags": []
   },
   "outputs": [],
   "source": [
    "json_response = client.models.generate_content(\n",
    "    model = 'gemini-2.0-flash',\n",
    "    contents = [search_response.text, 'I need to call someone at McDonalds about an incident in Jacksonville, FL.  What is the best number to call?'],\n",
    "    config = genai.types.GenerateContentConfig(\n",
    "        temperature = 0,\n",
    "        response_mime_type = 'application/json',\n",
    "        response_schema = ListPhoneNumbers\n",
    "    )\n",
    ")"
   ]
  },
  {
   "cell_type": "code",
   "execution_count": 12,
   "id": "ec93b330-c901-467a-894c-d79081e50502",
   "metadata": {
    "tags": []
   },
   "outputs": [
    {
     "data": {
      "text/plain": [
       "{'phone_numbers': [{'phone_number': '800-244-6227'}]}"
      ]
     },
     "execution_count": 12,
     "metadata": {},
     "output_type": "execute_result"
    }
   ],
   "source": [
    "# review the response loaded as json (python dictionary):\n",
    "json.loads(json_response.text)"
   ]
  },
  {
   "cell_type": "code",
   "execution_count": 13,
   "id": "53108759-822d-4267-bd57-5f0b3c1843eb",
   "metadata": {
    "tags": []
   },
   "outputs": [
    {
     "data": {
      "text/plain": [
       "ListPhoneNumbers(phone_numbers=[PhoneNumber(phone_number='800-244-6227')])"
      ]
     },
     "execution_count": 13,
     "metadata": {},
     "output_type": "execute_result"
    }
   ],
   "source": [
    "# use the schema to validate the response is a valid phone number:\n",
    "ListPhoneNumbers(**json.loads(json_response.text))"
   ]
  },
  {
   "cell_type": "code",
   "execution_count": null,
   "id": "441f517e-a37f-46e0-94a9-f44593998378",
   "metadata": {},
   "outputs": [],
   "source": []
  }
 ],
 "metadata": {
  "environment": {
   "kernel": "conda-base-py",
   "name": "workbench-notebooks.m128",
   "type": "gcloud",
   "uri": "us-docker.pkg.dev/deeplearning-platform-release/gcr.io/workbench-notebooks:m128"
  },
  "kernelspec": {
   "display_name": ".venv",
   "language": "python",
   "name": "python3"
  },
  "language_info": {
   "codemirror_mode": {
    "name": "ipython",
    "version": 3
   },
   "file_extension": ".py",
   "mimetype": "text/x-python",
   "name": "python",
   "nbconvert_exporter": "python",
   "pygments_lexer": "ipython3",
   "version": "3.13.3"
  }
 },
 "nbformat": 4,
 "nbformat_minor": 5
}
