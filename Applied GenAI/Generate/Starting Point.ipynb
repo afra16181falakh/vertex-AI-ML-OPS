{
 "cells": [
  {
   "cell_type": "markdown",
   "id": "3e7d44ca",
   "metadata": {},
   "source": [
    "![tracker](https://us-central1-vertex-ai-mlops-369716.cloudfunctions.net/pixel-tracking?path=statmike%2Fvertex-ai-mlops%2FApplied+GenAI%2FGenerate&file=Starting+Point.ipynb)\n",
    "<!--- header table --->\n",
    "<table align=\"left\">\n",
    "<tr>\n",
    "  <td style=\"text-align: center\">\n",
    "    <a href=\"https://github.com/statmike/vertex-ai-mlops/blob/main/Applied%20GenAI/Generate/Starting%20Point.ipynb\">\n",
    "      <img width=\"32px\" src=\"https://www.svgrepo.com/download/217753/github.svg\" alt=\"GitHub logo\">\n",
    "      <br>View on<br>GitHub\n",
    "    </a>\n",
    "  </td>\n",
    "  <td style=\"text-align: center\">\n",
    "    <a href=\"https://colab.research.google.com/github/statmike/vertex-ai-mlops/blob/main/Applied%20GenAI/Generate/Starting%20Point.ipynb\">\n",
    "      <img width=\"32px\" src=\"https://www.gstatic.com/pantheon/images/bigquery/welcome_page/colab-logo.svg\" alt=\"Google Colaboratory logo\">\n",
    "      <br>Run in<br>Colab\n",
    "    </a>\n",
    "  </td>\n",
    "  <td style=\"text-align: center\">\n",
    "    <a href=\"https://console.cloud.google.com/vertex-ai/colab/import/https%3A%2F%2Fraw.githubusercontent.com%2Fstatmike%2Fvertex-ai-mlops%2Fmain%2FApplied%2520GenAI%2FGenerate%2FStarting%2520Point.ipynb\">\n",
    "      <img width=\"32px\" src=\"https://lh3.googleusercontent.com/JmcxdQi-qOpctIvWKgPtrzZdJJK-J3sWE1RsfjZNwshCFgE_9fULcNpuXYTilIR2hjwN\" alt=\"Google Cloud Colab Enterprise logo\">\n",
    "      <br>Run in<br>Colab Enterprise\n",
    "    </a>\n",
    "  </td>      \n",
    "  <td style=\"text-align: center\">\n",
    "    <a href=\"https://console.cloud.google.com/bigquery/import?url=https://github.com/statmike/vertex-ai-mlops/blob/main/Applied%20GenAI/Generate/Starting%20Point.ipynb\">\n",
    "      <img width=\"32px\" src=\"https://www.gstatic.com/images/branding/gcpiconscolors/bigquery/v1/32px.svg\" alt=\"BigQuery logo\">\n",
    "      <br>Open in<br>BigQuery Studio\n",
    "    </a>\n",
    "  </td>\n",
    "  <td style=\"text-align: center\">\n",
    "    <a href=\"https://console.cloud.google.com/vertex-ai/workbench/deploy-notebook?download_url=https://raw.githubusercontent.com/statmike/vertex-ai-mlops/main/Applied%20GenAI/Generate/Starting%20Point.ipynb\">\n",
    "      <img width=\"32px\" src=\"https://www.gstatic.com/images/branding/gcpiconscolors/vertexai/v1/32px.svg\" alt=\"Vertex AI logo\">\n",
    "      <br>Open in<br>Vertex AI Workbench\n",
    "    </a>\n",
    "  </td>\n",
    "</tr>\n",
    "<tr>\n",
    "  <td colspan=\"5\" style=\"text-align: right\">\n",
    "    <b>Share This On: </b> \n",
    "    <a href=\"https://www.linkedin.com/sharing/share-offsite/?url=https://github.com/statmike/vertex-ai-mlops/blob/main/Applied%20GenAI/Generate/Starting%20Point.ipynb\"><img src=\"https://upload.wikimedia.org/wikipedia/commons/8/81/LinkedIn_icon.svg\" alt=\"Linkedin Logo\" width=\"20px\"></a> \n",
    "    <a href=\"https://reddit.com/submit?url=https://github.com/statmike/vertex-ai-mlops/blob/main/Applied%20GenAI/Generate/Starting%20Point.ipynb\"><img src=\"https://redditinc.com/hubfs/Reddit%20Inc/Brand/Reddit_Logo.png\" alt=\"Reddit Logo\" width=\"20px\"></a> \n",
    "    <a href=\"https://bsky.app/intent/compose?text=https://github.com/statmike/vertex-ai-mlops/blob/main/Applied%20GenAI/Generate/Starting%20Point.ipynb\"><img src=\"https://upload.wikimedia.org/wikipedia/commons/7/7a/Bluesky_Logo.svg\" alt=\"BlueSky Logo\" width=\"20px\"></a> \n",
    "    <a href=\"https://twitter.com/intent/tweet?url=https://github.com/statmike/vertex-ai-mlops/blob/main/Applied%20GenAI/Generate/Starting%20Point.ipynb\"><img src=\"https://upload.wikimedia.org/wikipedia/commons/5/5a/X_icon_2.svg\" alt=\"X (Twitter) Logo\" width=\"20px\"></a> \n",
    "  </td>\n",
    "</tr>\n",
    "<tr>\n",
    "  <td colspan=\"5\" style=\"text-align: right\">\n",
    "    <b>Connect With Author On: </b> \n",
    "    <a href=\"https://www.linkedin.com/in/statmike\"><img src=\"https://upload.wikimedia.org/wikipedia/commons/8/81/LinkedIn_icon.svg\" alt=\"Linkedin Logo\" width=\"20px\"></a>\n",
    "    <a href=\"https://www.github.com/statmike\"><img src=\"https://www.svgrepo.com/download/217753/github.svg\" alt=\"GitHub Logo\" width=\"20px\"></a> \n",
    "    <a href=\"https://www.youtube.com/@statmike-channel\"><img src=\"https://upload.wikimedia.org/wikipedia/commons/f/fd/YouTube_full-color_icon_%282024%29.svg\" alt=\"YouTube Logo\" width=\"20px\"></a>\n",
    "    <a href=\"https://bsky.app/profile/statmike.bsky.social\"><img src=\"https://upload.wikimedia.org/wikipedia/commons/7/7a/Bluesky_Logo.svg\" alt=\"BlueSky Logo\" width=\"20px\"></a> \n",
    "    <a href=\"https://x.com/statmike\"><img src=\"https://upload.wikimedia.org/wikipedia/commons/5/5a/X_icon_2.svg\" alt=\"X (Twitter) Logo\" width=\"20px\"></a>\n",
    "  </td>\n",
    "</tr>\n",
    "</table>"
   ]
  },
  {
   "cell_type": "markdown",
   "id": "90fc1c15-b0ef-457a-9dab-bc57e2a5798f",
   "metadata": {},
   "source": [
    "# Starting Point\n",
    "\n",
    "A simple notebook setup for trying out the genai SDK\n",
    "\n",
    "**References**\n",
    "- [Gemini Python SDK](https://github.com/googleapis/python-genai)"
   ]
  },
  {
   "cell_type": "markdown",
   "id": "52cf0ef5",
   "metadata": {},
   "source": [
    "---\n",
    "## Setup"
   ]
  },
  {
   "cell_type": "code",
   "execution_count": 3,
   "id": "8f856dcf-9505-435d-b6ee-fdea4fc68686",
   "metadata": {
    "tags": []
   },
   "outputs": [
    {
     "data": {
      "text/plain": [
       "'statmike-mlops-349915'"
      ]
     },
     "execution_count": 3,
     "metadata": {},
     "output_type": "execute_result"
    }
   ],
   "source": [
    "project = !gcloud config get-value project\n",
    "PROJECT_ID = project[0]\n",
    "PROJECT_ID"
   ]
  },
  {
   "cell_type": "code",
   "execution_count": 4,
   "id": "71527301-75db-4320-8f69-8577217b813f",
   "metadata": {
    "tags": []
   },
   "outputs": [],
   "source": [
    "REGION = 'us-central1'"
   ]
  },
  {
   "cell_type": "markdown",
   "id": "201ada96-a51f-4bd3-aa8c-8b35087090c8",
   "metadata": {},
   "source": [
    "packages:"
   ]
  },
  {
   "cell_type": "code",
   "execution_count": 5,
   "id": "8fd427dc-039b-4bdd-a929-6de652742d1b",
   "metadata": {
    "tags": []
   },
   "outputs": [],
   "source": [
    "# standard packages\n",
    "import typing, json\n",
    "\n",
    "from IPython.display import display, HTML, Markdown\n",
    "import pydantic\n",
    "\n",
    "# google gen ai sdk\n",
    "from google import genai"
   ]
  },
  {
   "cell_type": "markdown",
   "id": "9c4d0911",
   "metadata": {},
   "source": [
    "Clients:"
   ]
  },
  {
   "cell_type": "code",
   "execution_count": 6,
   "id": "b7c34932-084a-491c-bb8e-1f2044dcd512",
   "metadata": {},
   "outputs": [],
   "source": [
    "# setup google genai SDK\n",
    "client = genai.Client(vertexai = True, project = PROJECT_ID, location = REGION)"
   ]
  },
  {
   "cell_type": "markdown",
   "id": "b6bf913d",
   "metadata": {},
   "source": [
    "---\n",
    "## Example"
   ]
  },
  {
   "cell_type": "code",
   "execution_count": 17,
   "id": "807371ee-51cf-4bb5-8a78-27a049a28ae0",
   "metadata": {},
   "outputs": [],
   "source": [
    "class VocabWord(pydantic.BaseModel):\n",
    "    word: str = pydantic.Field(description = 'A vocabulary word to study for high school exams in the USA.')\n",
    "\n",
    "    # a simple validation\n",
    "    @pydantic.field_validator('word')\n",
    "    def check_word(cls, value):\n",
    "        if type(value) != str or len(value.strip().split()) !=1:\n",
    "            raise ValueError('This is not a single word!')\n",
    "        return value\n",
    "\n",
    "class VocabList(pydantic.BaseModel):\n",
    "    words: typing.List[VocabWord] = pydantic.Field(description = 'A list of vocabulary words to study')"
   ]
  },
  {
   "cell_type": "code",
   "execution_count": 18,
   "id": "8fca3c1f-8384-4043-ba04-0e93c88ca465",
   "metadata": {},
   "outputs": [],
   "source": [
    "json_response = client.models.generate_content(\n",
    "    model = 'gemini-2.0-flash',\n",
    "    contents = 'I need a list of around 50 vocabulary words to study for the SAT/ACT.',\n",
    "    config = genai.types.GenerateContentConfig(\n",
    "        temperature = 0,\n",
    "        response_mime_type = 'application/json',\n",
    "        response_schema = VocabList\n",
    "    )\n",
    ")"
   ]
  },
  {
   "cell_type": "code",
   "execution_count": 19,
   "id": "7bb495d4-39d0-4639-9dd8-005806ab46ac",
   "metadata": {},
   "outputs": [
    {
     "data": {
      "text/plain": [
       "{'words': [{'word': 'ubiquitous'},\n",
       "  {'word': 'tenuous'},\n",
       "  {'word': 'superfluous'},\n",
       "  {'word': 'recalcitrant'},\n",
       "  {'word': 'prolific'},\n",
       "  {'word': 'ostentatious'},\n",
       "  {'word': 'nefarious'},\n",
       "  {'word': 'innocuous'},\n",
       "  {'word': 'immutable'},\n",
       "  {'word': 'idiosyncratic'},\n",
       "  {'word': 'hackneyed'},\n",
       "  {'word': 'garrulous'},\n",
       "  {'word': 'ephemeral'},\n",
       "  {'word': 'ebullient'},\n",
       "  {'word': 'deleterious'},\n",
       "  {'word': 'capricious'},\n",
       "  {'word': 'benevolent'},\n",
       "  {'word': 'banal'},\n",
       "  {'word': 'audacious'},\n",
       "  {'word': 'ameliorate'},\n",
       "  {'word': 'zealous'},\n",
       "  {'word': 'wary'},\n",
       "  {'word': 'vindicate'},\n",
       "  {'word': 'vacillate'},\n",
       "  {'word': 'travesty'},\n",
       "  {'word': 'transient'},\n",
       "  {'word': 'stoic'},\n",
       "  {'word': 'sporadic'},\n",
       "  {'word': 'soporific'},\n",
       "  {'word': 'rhetoric'},\n",
       "  {'word': 'reverence'},\n",
       "  {'word': 'respite'},\n",
       "  {'word': 'reproach'},\n",
       "  {'word': 'quixotic'},\n",
       "  {'word': 'querulous'},\n",
       "  {'word': 'prudent'},\n",
       "  {'word': 'precocious'},\n",
       "  {'word': 'pragmatic'},\n",
       "  {'word': 'plethora'},\n",
       "  {'word': 'penchant'},\n",
       "  {'word': 'parsimony'},\n",
       "  {'word': 'paradigm'},\n",
       "  {'word': 'obsequious'},\n",
       "  {'word': 'myriad'},\n",
       "  {'word': 'munificent'},\n",
       "  {'word': 'morose'},\n",
       "  {'word': 'mitigate'},\n",
       "  {'word': 'meticulous'},\n",
       "  {'word': 'laconic'},\n",
       "  {'word': 'juxtapose'}]}"
      ]
     },
     "execution_count": 19,
     "metadata": {},
     "output_type": "execute_result"
    }
   ],
   "source": [
    "# review the response loaded as json (python dictionary):\n",
    "json.loads(json_response.text)"
   ]
  },
  {
   "cell_type": "code",
   "execution_count": 20,
   "id": "d9ad2372-e104-424a-9f9b-dc106caacdb0",
   "metadata": {},
   "outputs": [
    {
     "data": {
      "text/plain": [
       "VocabList(words=[VocabWord(word='ubiquitous'), VocabWord(word='tenuous'), VocabWord(word='superfluous'), VocabWord(word='recalcitrant'), VocabWord(word='prolific'), VocabWord(word='ostentatious'), VocabWord(word='nefarious'), VocabWord(word='innocuous'), VocabWord(word='immutable'), VocabWord(word='idiosyncratic'), VocabWord(word='hackneyed'), VocabWord(word='garrulous'), VocabWord(word='ephemeral'), VocabWord(word='ebullient'), VocabWord(word='deleterious'), VocabWord(word='capricious'), VocabWord(word='benevolent'), VocabWord(word='banal'), VocabWord(word='audacious'), VocabWord(word='ameliorate'), VocabWord(word='zealous'), VocabWord(word='wary'), VocabWord(word='vindicate'), VocabWord(word='vacillate'), VocabWord(word='travesty'), VocabWord(word='transient'), VocabWord(word='stoic'), VocabWord(word='sporadic'), VocabWord(word='soporific'), VocabWord(word='rhetoric'), VocabWord(word='reverence'), VocabWord(word='respite'), VocabWord(word='reproach'), VocabWord(word='quixotic'), VocabWord(word='querulous'), VocabWord(word='prudent'), VocabWord(word='precocious'), VocabWord(word='pragmatic'), VocabWord(word='plethora'), VocabWord(word='penchant'), VocabWord(word='parsimony'), VocabWord(word='paradigm'), VocabWord(word='obsequious'), VocabWord(word='myriad'), VocabWord(word='munificent'), VocabWord(word='morose'), VocabWord(word='mitigate'), VocabWord(word='meticulous'), VocabWord(word='laconic'), VocabWord(word='juxtapose')])"
      ]
     },
     "execution_count": 20,
     "metadata": {},
     "output_type": "execute_result"
    }
   ],
   "source": [
    "# use the schema to validate the response is a valid phone number:\n",
    "VocabList(**json.loads(json_response.text))"
   ]
  },
  {
   "cell_type": "code",
   "execution_count": null,
   "id": "749a3252-13e1-4503-9a8e-6764b5d8bc68",
   "metadata": {},
   "outputs": [],
   "source": []
  },
  {
   "cell_type": "code",
   "execution_count": null,
   "id": "7a46b6ea-75ed-4cd3-891a-c7af51c95327",
   "metadata": {},
   "outputs": [],
   "source": []
  }
 ],
 "metadata": {
  "environment": {
   "kernel": "conda-base-py",
   "name": "workbench-notebooks.m128",
   "type": "gcloud",
   "uri": "us-docker.pkg.dev/deeplearning-platform-release/gcr.io/workbench-notebooks:m128"
  },
  "kernelspec": {
   "display_name": ".venv",
   "language": "python",
   "name": "python3"
  },
  "language_info": {
   "codemirror_mode": {
    "name": "ipython",
    "version": 3
   },
   "file_extension": ".py",
   "mimetype": "text/x-python",
   "name": "python",
   "nbconvert_exporter": "python",
   "pygments_lexer": "ipython3",
   "version": "3.13.3"
  }
 },
 "nbformat": 4,
 "nbformat_minor": 5
}
