{
 "cells": [
  {
   "cell_type": "markdown",
   "id": "90f8a54a-1314-4be1-835e-1600d3b7931e",
   "metadata": {},
   "source": [
    "# PyMuPDF: A Powerful PDF Toolkit\n",
    "This IPython Notebook provides a practical demonstration of how to use the PyMuPDF library for PDF manipulation and information extraction, with a focus on its potential applications in Retrieval Augmented Generation (RAG) systems. Here's a breakdown of its content:\n",
    "\n",
    "## Document Level Operations\n",
    "\n",
    "* Demonstrates how to open a PDF document using `pymupdf.open()`.\n",
    "* Shows how to retrieve document-level information like:\n",
    "    * Document name (`doc.name`)\n",
    "    * Page count (`doc.page_count`)\n",
    "    * Table of contents (`doc.get_toc()`)\n",
    "    * Metadata (`doc.metadata`)\n",
    "    * Encryption status (`doc.is_encrypted`)\n",
    "    * Password protection status (`doc.needs_pass`)\n",
    "    * Permissions (`doc.permissions`)\n",
    "    * Document outline (`doc.outline`)\n",
    "    * Chapter count (`doc.chapter_count`)\n",
    "    * Page layout (`doc.pagelayout`)\n",
    "    * PDF verification (`doc.is_pdf`)\n",
    "\n",
    "## Page Level Operations\n",
    "\n",
    "* Provides an overview of various page-level methods:\n",
    "    * `page.get_text()`: For extracting text content.\n",
    "    * `page.get_images()`: For extracting images.\n",
    "    * `page.search_for()`: For finding text occurrences.\n",
    "    * `page.find_tables()`: For detecting and extracting tables.\n",
    "    * `page.get_links()`: For extracting hyperlinks.\n",
    "    * `page.get_annots()`: For retrieving annotations.\n",
    "* Demonstrates how to extract text from a specific page.\n",
    "* Shows how to extract images from a page and from the entire PDF.\n",
    "* Includes code to extract drawings, although it's not executed in the provided notebook.\n",
    "* Demonstrates table extraction.\n",
    "\n",
    "## Text Extraction Methods\n",
    "\n",
    "* Explores various methods for extracting text from a page:\n",
    "    * `get_textpage()`: Gets the text page object.\n",
    "    * `extractText()`: Extracts the page's text.\n",
    "    * `extractBLOCKS()`: Extracts text as blocks.\n",
    "    * `extractWORDS()`: Extracts words.\n",
    "    * `extractHTML()`: Extracts text as HTML.\n",
    "    * `extractDICT()`: Extracts text as a dictionary.\n",
    "    * `extractRAWDICT()`: Extracts text as a raw dictionary.\n",
    "    * `extractJSON()`: Extracts text as JSON.\n",
    "    * `extractRAWJSON()`: Extracts text as raw JSON.\n",
    "    * `rect`: Gets the bounding box coordinates for the entire page.\n",
    "* Shows how to prettify JSON output.\n",
    "* Demonstrates how to identify all tables in a PDF and convert extracted table data into a pandas DataFrame.\n",
    "\n",
    "## PyMuPDF4LLM Integration\n",
    "\n",
    "* Uses `pymupdf4llm.to_markdown()` to convert a specified page of a PDF document to Markdown format.\n",
    "* Shows how to extract metadata, table data, images, graphics, and text using `pymupdf4llm`."
   ]
  },
  {
   "cell_type": "markdown",
   "id": "f270512f-233c-46b3-8be9-b04025187eee",
   "metadata": {},
   "source": [
    "---\n",
    "## Colab Setup\n",
    "\n",
    "To run this notebook in Colab run the cells in this section.  Otherwise, skip this section.\n",
    "\n",
    "This cell will authenticate to GCP (follow prompts in the popup)."
   ]
  },
  {
   "cell_type": "code",
   "execution_count": 1,
   "id": "7e5803a1-3be8-41f6-bfa8-f19d02fa1c18",
   "metadata": {
    "tags": []
   },
   "outputs": [],
   "source": [
    "PROJECT_ID = 'vertexai-demo-ltfpzhaw' # replace with project ID  #statmike-mlops-349915"
   ]
  },
  {
   "cell_type": "code",
   "execution_count": 2,
   "id": "5561e586-ddb0-4109-928b-b7b96d38a941",
   "metadata": {
    "tags": []
   },
   "outputs": [
    {
     "name": "stdout",
     "output_type": "stream",
     "text": [
      "Not a Colab Environment\n"
     ]
    }
   ],
   "source": [
    "try:\n",
    "    from google.colab import auth\n",
    "    auth.authenticate_user()\n",
    "    !gcloud config set project {PROJECT_ID}\n",
    "    print('Colab authorized to GCP')\n",
    "except Exception:\n",
    "    print('Not a Colab Environment')\n",
    "    pass"
   ]
  },
  {
   "cell_type": "markdown",
   "id": "915ea2cf-4d74-4e58-9b72-44ea7a12b1e2",
   "metadata": {
    "tags": []
   },
   "source": [
    "---\n",
    "## Installs\n",
    "\n",
    "The list `packages` contains tuples of package import names and install names.  If the import name is not found then the install name is used to install quitely for the current user."
   ]
  },
  {
   "cell_type": "code",
   "execution_count": 3,
   "id": "688e7137-8764-4484-948c-7f30f1f67f53",
   "metadata": {
    "tags": []
   },
   "outputs": [],
   "source": [
    "# tuples of (import name, install name, min_version)\n",
    "packages = [\n",
    "    ('google.cloud.aiplatform', 'google-cloud-aiplatform'),\n",
    "    ('pymupdf', 'pymupdf'),\n",
    "    ('pymupdf4llm', 'pymupdf4llm')\n",
    "]\n",
    "\n",
    "import importlib\n",
    "install = False\n",
    "for package in packages:\n",
    "    if not importlib.util.find_spec(package[0]):\n",
    "        print(f'installing package {package[1]}')\n",
    "        install = True\n",
    "        !pip install {package[1]} -U -q --user\n",
    "    elif len(package) == 3:\n",
    "        if importlib.metadata.version(package[0]) < package[2]:\n",
    "            print(f'updating package {package[1]}')\n",
    "            install = True\n",
    "            !pip install {package[1]} -U -q --user"
   ]
  },
  {
   "cell_type": "markdown",
   "id": "4787037b-4519-45fa-aab8-e2a98cede168",
   "metadata": {},
   "source": [
    "### Restart Kernel (If Installs Occured)\n",
    "\n",
    "After a kernel restart the code submission can start with the next cell after this one."
   ]
  },
  {
   "cell_type": "code",
   "execution_count": 4,
   "id": "b5659143-8ce2-488c-a7f4-bb88664d3e9c",
   "metadata": {
    "tags": []
   },
   "outputs": [],
   "source": [
    "if install:\n",
    "    import IPython\n",
    "    app = IPython.Application.instance()\n",
    "    app.kernel.do_shutdown(True)\n",
    "    IPython.display.display(IPython.display.Markdown(\"\"\"<div class=\\\"alert alert-block alert-warning\\\">\n",
    "        <b>⚠️ The kernel is going to restart. Please wait until it is finished before continuing to the next step. The previous cells do not need to be run again⚠️</b>\n",
    "        </div>\"\"\"))"
   ]
  },
  {
   "cell_type": "markdown",
   "id": "c9b3fb9e-ff65-4fc8-8c7b-6f6606744f92",
   "metadata": {},
   "source": [
    "---\n",
    "## Setup"
   ]
  },
  {
   "cell_type": "markdown",
   "id": "26e1bb22-7627-4e61-9cb8-ff7504d720c8",
   "metadata": {},
   "source": [
    "inputs:"
   ]
  },
  {
   "cell_type": "code",
   "execution_count": 5,
   "id": "ed022b18-137e-4e2a-a58e-20bab7a70727",
   "metadata": {
    "tags": []
   },
   "outputs": [
    {
     "data": {
      "text/plain": [
       "'vertexai-demo-ltfpzhaw'"
      ]
     },
     "execution_count": 5,
     "metadata": {},
     "output_type": "execute_result"
    }
   ],
   "source": [
    "project = !gcloud config get-value project\n",
    "PROJECT_ID = project[0]\n",
    "PROJECT_ID"
   ]
  },
  {
   "cell_type": "code",
   "execution_count": null,
   "id": "f38f74ed-94a7-48c0-a12c-eea523e2f24f",
   "metadata": {
    "tags": []
   },
   "outputs": [],
   "source": [
    "REGION = 'us-central1'\n",
    "SERIES = 'applied-genai'\n",
    "EXPERIMENT = 'pymupdf'"
   ]
  },
  {
   "cell_type": "markdown",
   "id": "ea649b03-934e-476e-b01a-887083342011",
   "metadata": {},
   "source": [
    "packages:"
   ]
  },
  {
   "cell_type": "code",
   "execution_count": null,
   "id": "89da489c-00f8-4dbe-a5d6-35b74b64da75",
   "metadata": {
    "tags": []
   },
   "outputs": [],
   "source": [
    "# Standard Libraries\n",
    "import os, time, io, re, json, requests, pandas as pd\n",
    "\n",
    "# Google Cloud\n",
    "import google.cloud.aiplatform as aiplatform\n",
    "\n",
    "# Vertex AI\n",
    "import vertexai\n",
    "\n",
    "# PDF Processing (PyMuPdf)\n",
    "import fitz\n",
    "import pymupdf4llm\n",
    "\n",
    "# IPython Display\n",
    "from IPython.display import display, Image, HTML, Markdown"
   ]
  },
  {
   "cell_type": "code",
   "execution_count": 8,
   "id": "b185b238-c2cc-498a-8338-cacf03ef6f66",
   "metadata": {
    "tags": []
   },
   "outputs": [
    {
     "data": {
      "text/plain": [
       "'1.75.0'"
      ]
     },
     "execution_count": 8,
     "metadata": {},
     "output_type": "execute_result"
    }
   ],
   "source": [
    "aiplatform.__version__"
   ]
  },
  {
   "cell_type": "code",
   "execution_count": null,
   "id": "4f60fdba-662f-4954-9fe6-c71227976bd1",
   "metadata": {
    "tags": []
   },
   "outputs": [],
   "source": [
    "vertexai.init(project = PROJECT_ID, location = REGION)"
   ]
  },
  {
   "cell_type": "markdown",
   "id": "8d830b09-e6d6-4f51-b8f3-d2a227a1df58",
   "metadata": {},
   "source": [
    "Parameters"
   ]
  },
  {
   "cell_type": "code",
   "execution_count": 10,
   "id": "bd3bdb15-289f-4598-a910-b76f1452f86a",
   "metadata": {
    "tags": []
   },
   "outputs": [],
   "source": [
    "DIR = f\"files/{EXPERIMENT}\""
   ]
  },
  {
   "cell_type": "markdown",
   "id": "7e4c37ec-51d3-426e-bb16-ff79f136fe4d",
   "metadata": {},
   "source": [
    "Environment"
   ]
  },
  {
   "cell_type": "code",
   "execution_count": 11,
   "id": "928c165d-631e-47d7-8863-de8044bc47b4",
   "metadata": {
    "tags": []
   },
   "outputs": [],
   "source": [
    "if not os.path.exists(DIR):\n",
    "    os.makedirs(DIR)"
   ]
  },
  {
   "cell_type": "markdown",
   "id": "a3d94477-21e6-4691-a6b2-40960e875100",
   "metadata": {},
   "source": [
    "---\n",
    "## Documents\n",
    "\n",
    "Retrieve the documents and store in GCS for processing."
   ]
  },
  {
   "cell_type": "markdown",
   "id": "00cc0601-7c7c-425c-9058-c57b14d00687",
   "metadata": {},
   "source": [
    "### Retrieve Documents"
   ]
  },
  {
   "cell_type": "code",
   "execution_count": 12,
   "id": "dacb0728-dbcc-4a57-8ad9-da1db31f4362",
   "metadata": {
    "tags": []
   },
   "outputs": [],
   "source": [
    "freddie_url = 'https://guide.freddiemac.com/ci/okcsFattach/get/1002095_2'"
   ]
  },
  {
   "cell_type": "code",
   "execution_count": 13,
   "id": "d5333309-418e-4811-ad84-21259d0c4f2e",
   "metadata": {
    "tags": []
   },
   "outputs": [],
   "source": [
    "freddie_retrieve = requests.get(freddie_url).content"
   ]
  },
  {
   "cell_type": "code",
   "execution_count": 14,
   "id": "745c00aa-8e62-44de-b60d-d9eabee97107",
   "metadata": {
    "tags": []
   },
   "outputs": [],
   "source": [
    "freddie_doc = fitz.open(stream = freddie_retrieve, filetype = 'pdf')"
   ]
  },
  {
   "cell_type": "code",
   "execution_count": 15,
   "id": "95bce4c9-3fdd-4fd6-911a-96b31c2f5219",
   "metadata": {
    "tags": []
   },
   "outputs": [
    {
     "data": {
      "text/plain": [
       "2450"
      ]
     },
     "execution_count": 15,
     "metadata": {},
     "output_type": "execute_result"
    }
   ],
   "source": [
    "freddie_doc.page_count"
   ]
  },
  {
   "cell_type": "markdown",
   "id": "f84e610d-6e5d-4765-9b58-42a7da2af78f",
   "metadata": {},
   "source": [
    "---\n",
    "## Document Level"
   ]
  },
  {
   "cell_type": "markdown",
   "id": "e0c926d0-47ff-43e4-8668-2d6ec27e93c3",
   "metadata": {},
   "source": [
    "**open** loads the PDF document into memory and is the gateway to utilizing PyMuPDF's capabilities."
   ]
  },
  {
   "cell_type": "markdown",
   "id": "c6f844a9-df04-418a-b987-de19c0326ff5",
   "metadata": {
    "tags": []
   },
   "source": [
    "#### Get Document Name"
   ]
  },
  {
   "cell_type": "code",
   "execution_count": 17,
   "id": "c93467c3-aabf-400f-9bef-7b691e7d8436",
   "metadata": {
    "tags": []
   },
   "outputs": [],
   "source": [
    "doc = freddie_doc"
   ]
  },
  {
   "cell_type": "code",
   "execution_count": 18,
   "id": "06b12cac-d6f2-4604-84d1-78ff05a817e3",
   "metadata": {
    "tags": []
   },
   "outputs": [
    {
     "data": {
      "text/plain": [
       "''"
      ]
     },
     "execution_count": 18,
     "metadata": {},
     "output_type": "execute_result"
    }
   ],
   "source": [
    "# name parameter will return file name when file is loaded from local path. In this example, file is opened using a stream\n",
    "doc.name"
   ]
  },
  {
   "cell_type": "markdown",
   "id": "37a923c2-f821-409a-b71b-930e10404019",
   "metadata": {},
   "source": [
    "#### Get Page Count"
   ]
  },
  {
   "cell_type": "markdown",
   "id": "18e07f79-2d88-4e41-939d-9a96587bd4e7",
   "metadata": {},
   "source": [
    "Extracting the page count of the PDF using **page_count**"
   ]
  },
  {
   "cell_type": "code",
   "execution_count": 19,
   "id": "7fe04c7e-0e23-403a-a1c1-037123db687a",
   "metadata": {
    "tags": []
   },
   "outputs": [
    {
     "data": {
      "text/plain": [
       "2450"
      ]
     },
     "execution_count": 19,
     "metadata": {},
     "output_type": "execute_result"
    }
   ],
   "source": [
    "doc.page_count"
   ]
  },
  {
   "cell_type": "markdown",
   "id": "7bf5373c-f3d5-424d-b0ed-0f4d94a2e55b",
   "metadata": {},
   "source": [
    "#### Get Table of Contents"
   ]
  },
  {
   "cell_type": "markdown",
   "id": "026beb89-a51f-4126-9145-a05bb9104da9",
   "metadata": {},
   "source": [
    "Extracting the table of contents as a list using **get_toc**"
   ]
  },
  {
   "cell_type": "code",
   "execution_count": null,
   "id": "345f9559-2233-4992-8fac-f83c58d5afb8",
   "metadata": {
    "tags": []
   },
   "outputs": [],
   "source": [
    "doc.get_toc()"
   ]
  },
  {
   "cell_type": "markdown",
   "id": "4db92c81-53ad-4333-b82f-a51f5339bacc",
   "metadata": {},
   "source": [
    "#### Get document metadata"
   ]
  },
  {
   "cell_type": "markdown",
   "id": "0510c8c5-078a-453a-8113-2339b675976b",
   "metadata": {
    "tags": []
   },
   "source": [
    "**metadata** returns a dictionary containing metadata like author, creation date, keywords, etc."
   ]
  },
  {
   "cell_type": "code",
   "execution_count": null,
   "id": "7c5fb936-69d6-4110-bc4b-d91d765e8cee",
   "metadata": {
    "tags": []
   },
   "outputs": [],
   "source": [
    "doc.metadata"
   ]
  },
  {
   "cell_type": "markdown",
   "id": "cf01fa92-18c1-4afd-a82a-0e64b075f352",
   "metadata": {
    "tags": []
   },
   "source": [
    "#### Get encryption status"
   ]
  },
  {
   "cell_type": "code",
   "execution_count": null,
   "id": "f84bb0f7-c466-48c7-80ba-8b36e07f7bdf",
   "metadata": {
    "tags": []
   },
   "outputs": [],
   "source": [
    "doc.is_encrypted"
   ]
  },
  {
   "cell_type": "markdown",
   "id": "50bdf6a7-0f74-4bc5-a11b-6eccd3839d68",
   "metadata": {},
   "source": [
    "#### Get Password Protection Status"
   ]
  },
  {
   "cell_type": "code",
   "execution_count": null,
   "id": "aa1d150c-3f0f-460d-a3ba-2e7f7851a576",
   "metadata": {
    "tags": []
   },
   "outputs": [],
   "source": [
    "doc.needs_pass"
   ]
  },
  {
   "cell_type": "markdown",
   "id": "46717945-c536-4393-932c-158bd1170e26",
   "metadata": {},
   "source": [
    "#### Get the list of permissions"
   ]
  },
  {
   "cell_type": "code",
   "execution_count": null,
   "id": "b35bfa78-4e3e-44cb-b839-ed83895226ab",
   "metadata": {
    "tags": []
   },
   "outputs": [],
   "source": [
    "doc.permissions"
   ]
  },
  {
   "cell_type": "markdown",
   "id": "0f8c0c88-885c-4a35-92a1-81e0e2714a54",
   "metadata": {},
   "source": [
    "#### Get document outline"
   ]
  },
  {
   "cell_type": "code",
   "execution_count": null,
   "id": "9240f0df-914a-4897-a299-726adb760396",
   "metadata": {
    "tags": []
   },
   "outputs": [],
   "source": [
    "doc.outline"
   ]
  },
  {
   "cell_type": "markdown",
   "id": "7edfa999-1e66-4492-a677-3e37b21d25e4",
   "metadata": {},
   "source": [
    "#### Get Chapter Count"
   ]
  },
  {
   "cell_type": "code",
   "execution_count": null,
   "id": "085508f9-69c4-44e9-84ae-a50f06b45e25",
   "metadata": {
    "tags": []
   },
   "outputs": [],
   "source": [
    "doc.chapter_count"
   ]
  },
  {
   "cell_type": "code",
   "execution_count": null,
   "id": "c1589246-0713-44ab-b250-af0b3eebd1d5",
   "metadata": {
    "tags": []
   },
   "outputs": [],
   "source": [
    "doc.is_reflowable"
   ]
  },
  {
   "cell_type": "code",
   "execution_count": null,
   "id": "cfc77209-adcc-49ab-bf3a-0f3f4c6fcb77",
   "metadata": {
    "tags": []
   },
   "outputs": [],
   "source": [
    "doc.pagelayout"
   ]
  },
  {
   "cell_type": "markdown",
   "id": "860acf55-0ec3-4160-b8f2-1e67574da289",
   "metadata": {},
   "source": [
    "#### Verify Document Type (pdf only)"
   ]
  },
  {
   "cell_type": "code",
   "execution_count": null,
   "id": "bd181195-8408-400b-9a7b-b0f3852ed840",
   "metadata": {
    "tags": []
   },
   "outputs": [],
   "source": [
    "doc.is_pdf"
   ]
  },
  {
   "cell_type": "markdown",
   "id": "680970fb-e689-4704-9d72-6a864a10d8d5",
   "metadata": {},
   "source": [
    "## Page Level"
   ]
  },
  {
   "cell_type": "markdown",
   "id": "1de744c8-655f-4d42-aafb-7bc121f47410",
   "metadata": {},
   "source": [
    " - page.get_text(): Extract text content with various options (plain text, HTML, dict, etc.). Explore different output modes like 'simple', 'blocks', and 'layout' for varied text extraction.\n",
    " - page.get_images(): Get a list of images. Each image object allows access to image data and properties.\n",
    " - page.search_for(): Find text occurrences and their bounding boxes on the page.\n",
    " - page.find_tables(): Detect and extract tables from the page. You can then use table.extract() to get the data.\n",
    " - page.get_links(): Extract hyperlinks within the page.\n",
    " - page.get_annots(): Retrieve annotations like highlights, underlines, and text notes."
   ]
  },
  {
   "cell_type": "code",
   "execution_count": null,
   "id": "f09d09a5-2805-4ed1-b531-e10b2fd37819",
   "metadata": {
    "tags": []
   },
   "outputs": [],
   "source": [
    "doc[0].get_text()"
   ]
  },
  {
   "cell_type": "markdown",
   "id": "d9ac96d6-d8ed-4cdf-9057-05bb90aacdec",
   "metadata": {},
   "source": [
    "#### Extract Images from a specific page"
   ]
  },
  {
   "cell_type": "code",
   "execution_count": null,
   "id": "8d5afda3-5f45-4a00-859f-d2b6066d57ea",
   "metadata": {
    "tags": []
   },
   "outputs": [],
   "source": [
    "doc[0].get_images()"
   ]
  },
  {
   "cell_type": "markdown",
   "id": "74f050c9-df91-4623-97bf-86557de02c85",
   "metadata": {},
   "source": [
    "#### Extract all the images from the PDF"
   ]
  },
  {
   "cell_type": "code",
   "execution_count": null,
   "id": "b49170d0-8dab-41a2-b3db-38909c9a2bf4",
   "metadata": {
    "tags": []
   },
   "outputs": [],
   "source": [
    "for pg in range(doc.page_count):\n",
    "    for img in doc[pg].get_images(full=True):\n",
    "        print(f'Page Number: {pg+1}')\n",
    "        display(Image(data = doc.extract_image(img[0])[\"image\"]))"
   ]
  },
  {
   "cell_type": "markdown",
   "id": "1f2940f1-f43e-4db5-9ae4-3ef927faf203",
   "metadata": {},
   "source": [
    "## Text Extraction Methods"
   ]
  },
  {
   "cell_type": "code",
   "execution_count": null,
   "id": "ffa1e1d3-12f3-4b5a-99f1-7e23b0a37806",
   "metadata": {
    "tags": []
   },
   "outputs": [],
   "source": [
    "doc[0].get_textpage()"
   ]
  },
  {
   "cell_type": "markdown",
   "id": "4c667237-a63b-4868-810f-cc8e2fca04ec",
   "metadata": {},
   "source": [
    "#### Extracting Text"
   ]
  },
  {
   "cell_type": "markdown",
   "id": "c0b8bb2e-bfde-432e-886c-c0a136ee2ae7",
   "metadata": {},
   "source": [
    "Extracts the text content of a page as a single, continuous string"
   ]
  },
  {
   "cell_type": "code",
   "execution_count": null,
   "id": "83cc59a3-896f-425d-893a-6e3355bc24ac",
   "metadata": {
    "tags": []
   },
   "outputs": [],
   "source": [
    "doc[0].get_textpage().extractText()"
   ]
  },
  {
   "cell_type": "markdown",
   "id": "f5486ee2-0fdf-4c4a-9074-b6c79d1b94e3",
   "metadata": {},
   "source": [
    "#### Extracting Texts as BLOCKS"
   ]
  },
  {
   "cell_type": "markdown",
   "id": "c172de44-2e75-4f5c-9047-c67e73f47330",
   "metadata": {},
   "source": [
    "- Extracts text as a list of text blocks\n",
    "- Each block represents a distinct text area on the page (e.g., a paragraph, a heading).\n",
    "- Provides more structure than extractText(), including coordinates and block types."
   ]
  },
  {
   "cell_type": "code",
   "execution_count": null,
   "id": "cde7ca59-c2e5-43e8-8ca9-8f9c83288ba0",
   "metadata": {
    "tags": []
   },
   "outputs": [],
   "source": [
    "doc[0].get_textpage().extractBLOCKS()"
   ]
  },
  {
   "cell_type": "markdown",
   "id": "471b64ac-3c92-4cc9-9499-cbdee3898de8",
   "metadata": {},
   "source": [
    "#### Extracting Words"
   ]
  },
  {
   "cell_type": "markdown",
   "id": "d79c7f14-92bb-477d-a3c4-fa673533c5f7",
   "metadata": {},
   "source": [
    "- Extracts text as a list of individual words.\n",
    "- Also provides coordinate information for each word.\n",
    "- Useful for tasks that require word-level analysis."
   ]
  },
  {
   "cell_type": "code",
   "execution_count": null,
   "id": "3cab900d-f851-4fa9-9980-88b93140b08b",
   "metadata": {
    "tags": []
   },
   "outputs": [],
   "source": [
    "doc[0].get_textpage().extractWORDS()"
   ]
  },
  {
   "cell_type": "markdown",
   "id": "9211a3a1-7080-4b7b-b7e3-be1a3ee21b9f",
   "metadata": {},
   "source": [
    "#### Extracting the Text as HTML"
   ]
  },
  {
   "cell_type": "markdown",
   "id": "7e2cbf56-54cf-4cef-91dd-ca30fe3aa53c",
   "metadata": {},
   "source": [
    "- Extracts the text content of a page and formats it as HTML.\n",
    "- Preserves some layout information (e.g., paragraphs, tables) using HTML tags.\n",
    "- Useful for displaying PDF text in a web browser or further processing with HTML tools."
   ]
  },
  {
   "cell_type": "code",
   "execution_count": null,
   "id": "0c2930d9-dabc-49ef-ab1e-c6991c92c0bc",
   "metadata": {},
   "outputs": [],
   "source": [
    "doc[0].get_textpage().extractHTML()"
   ]
  },
  {
   "cell_type": "markdown",
   "id": "84802089-cae7-41c6-8aa4-8edd22aa6460",
   "metadata": {
    "tags": []
   },
   "source": [
    "display(HTML(doc[0].get_textpage().extractHTML()))"
   ]
  },
  {
   "cell_type": "markdown",
   "id": "ae38a34d-e9b6-4130-9968-c323076f714a",
   "metadata": {},
   "source": [
    "#### Extracting Text as DICT"
   ]
  },
  {
   "cell_type": "markdown",
   "id": "ca3459c6-62c6-4e87-8e27-d4e9eb3ed7f7",
   "metadata": {},
   "source": [
    "- Extracts text as a Python dictionary.\n",
    "- Provides a structured representation of the page content, including blocks, lines, and spans of text.\n",
    "- Offers detailed layout information."
   ]
  },
  {
   "cell_type": "code",
   "execution_count": null,
   "id": "f0e0879b-a712-4fb4-b731-98dabce2d257",
   "metadata": {
    "tags": []
   },
   "outputs": [],
   "source": [
    "doc[0].get_textpage().extractDICT()"
   ]
  },
  {
   "cell_type": "markdown",
   "id": "a8119899-ec7d-43f1-9fae-782b050f152d",
   "metadata": {},
   "source": [
    "#### Extracting Text as RAWDICT"
   ]
  },
  {
   "cell_type": "markdown",
   "id": "0eda5df4-d01f-4b96-8633-22f02a459a84",
   "metadata": {},
   "source": [
    "- Similar to extractDICT(), but provides a \"rawer\" or more direct representation of the PDF's internal structure.\n",
    "- May include more technical details."
   ]
  },
  {
   "cell_type": "code",
   "execution_count": null,
   "id": "848e463e-71de-4aa9-8e6a-5a80b0af90d1",
   "metadata": {
    "tags": []
   },
   "outputs": [],
   "source": [
    "doc[0].get_textpage().extractRAWDICT()"
   ]
  },
  {
   "cell_type": "markdown",
   "id": "2af73863-72d2-4423-a7d0-6cc946712aa3",
   "metadata": {},
   "source": [
    "#### Extracting Text as JSON"
   ]
  },
  {
   "cell_type": "markdown",
   "id": "e3695792-6e86-4aea-84d0-2587c3f74b11",
   "metadata": {},
   "source": [
    "- Extracts text in JSON format (a string representing a JSON object).\n",
    "- A serialized version of the data returned by extractDICT().\n",
    "- Useful for data exchange and integration with other systems."
   ]
  },
  {
   "cell_type": "code",
   "execution_count": null,
   "id": "19c4ed72-b2e9-4c76-854d-807481c4e460",
   "metadata": {
    "tags": []
   },
   "outputs": [],
   "source": [
    "doc[0].get_textpage().extractJSON()"
   ]
  },
  {
   "cell_type": "markdown",
   "id": "e78afeeb-e49d-4e99-a170-4990976ab821",
   "metadata": {},
   "source": [
    "Prettifying JSON"
   ]
  },
  {
   "cell_type": "code",
   "execution_count": null,
   "id": "c803291c-0a66-465e-9fb5-d79d1a827b21",
   "metadata": {
    "tags": []
   },
   "outputs": [],
   "source": [
    "json.loads(doc[0].get_textpage().extractJSON())"
   ]
  },
  {
   "cell_type": "markdown",
   "id": "4a466085-79a7-4f60-ab76-64ca9e888b4d",
   "metadata": {},
   "source": [
    "#### Extracting Text as RAWJSON"
   ]
  },
  {
   "cell_type": "markdown",
   "id": "d87466dc-2105-4579-9038-4271ecae8359",
   "metadata": {},
   "source": [
    "- Extracts text as JSON, based on the data from extractRAWDICT()"
   ]
  },
  {
   "cell_type": "code",
   "execution_count": null,
   "id": "158051ef-d8fa-458a-a431-e8e87b3d81a5",
   "metadata": {
    "tags": []
   },
   "outputs": [],
   "source": [
    "doc[0].get_textpage().extractRAWJSON()"
   ]
  },
  {
   "cell_type": "markdown",
   "id": "7d4ccd03-ee27-446d-8f33-7835da718865",
   "metadata": {},
   "source": [
    "Prettifying JSON"
   ]
  },
  {
   "cell_type": "code",
   "execution_count": null,
   "id": "9e6a1e34-4d95-4be5-a2af-7d6b2e14a6ab",
   "metadata": {
    "tags": []
   },
   "outputs": [],
   "source": [
    "json.loads(doc[0].get_textpage().extractRAWJSON())"
   ]
  },
  {
   "cell_type": "markdown",
   "id": "71e30055-2ba6-4c8c-9ce8-f58041ff49d1",
   "metadata": {},
   "source": [
    "#### Extracting bounding box coordinates for the entire page using rect"
   ]
  },
  {
   "cell_type": "markdown",
   "id": "7726d6df-2b8d-4cba-9f6a-e134dc1f02aa",
   "metadata": {},
   "source": [
    "- Returns the bounding box coordinates of the entire page.\n",
    "- Useful for knowing the page dimensions."
   ]
  },
  {
   "cell_type": "code",
   "execution_count": null,
   "id": "1765ae14-910d-4eca-823a-bcb6b1c3c049",
   "metadata": {
    "tags": []
   },
   "outputs": [],
   "source": [
    "doc[0].get_textpage().rect"
   ]
  },
  {
   "cell_type": "markdown",
   "id": "907c9352-32cf-48d7-bd93-c9e007511238",
   "metadata": {},
   "source": [
    "#### Identify all the tables"
   ]
  },
  {
   "cell_type": "code",
   "execution_count": null,
   "id": "7997a844-7367-42f4-ab5f-94cfb26fa6c3",
   "metadata": {
    "tags": []
   },
   "outputs": [],
   "source": [
    "for page_num, page in enumerate(doc):\n",
    "        for table in page.find_tables():\n",
    "            print(f\"Table found on page {page_num + 1}:\")\n",
    "            print(f\"  - Bounding box: {table.bbox}\")\n",
    "            table_data = table.extract()\n",
    "            table_data\n",
    "            # Create a pandas DataFrame\n",
    "            df = pd.DataFrame(table_data)\n",
    "\n",
    "            # Display the DataFrame\n",
    "            display(df)"
   ]
  },
  {
   "cell_type": "markdown",
   "id": "f9c4fd0a-3573-410a-a7b0-f57649857827",
   "metadata": {},
   "source": [
    "#### Converting PDF to markdown for RAG Related Chunking"
   ]
  },
  {
   "cell_type": "code",
   "execution_count": null,
   "id": "34076ad6-8832-401e-8f06-767cf07e973f",
   "metadata": {},
   "outputs": [],
   "source": [
    "md_text = pymupdf4llm.to_markdown(doc = doc,page_chunks = True)"
   ]
  },
  {
   "cell_type": "code",
   "execution_count": null,
   "id": "ef03980b-2b77-45f0-99b4-1b5965df5515",
   "metadata": {
    "tags": []
   },
   "outputs": [],
   "source": [
    "def process_and_save_chunks(md_text, output_file_path):\n",
    "    \"\"\"\n",
    "    Processes the md_text list of dictionaries and saves all chunks into a single JSON Lines file.\n",
    "\n",
    "    Args:\n",
    "        md_text: A list of dictionaries, where each dictionary represents a chunk.\n",
    "        output_file_path: The path to the output JSON Lines file.\n",
    "    \"\"\"\n",
    "    all_chunks = []  # List to store all chunk dictionaries\n",
    "\n",
    "    for pg_num, chunk_data in enumerate(md_text):\n",
    "        gse = 'freddie'\n",
    "        file_name = str(chunk_data['metadata']['file_path'])\n",
    "        file_chunk_id = str(chunk_data['metadata']['page'])\n",
    "        chunk_id = f'freddie_part_{pg_num + 1}'\n",
    "        content = chunk_data['text']\n",
    "\n",
    "        chunk_json = {\n",
    "            'gse': gse,\n",
    "            'filename': file_name,\n",
    "            'file_chunk_id': file_chunk_id,\n",
    "            'chunk_id': chunk_id,\n",
    "            'content': content,\n",
    "        }\n",
    "        all_chunks.append(chunk_json)\n",
    "\n",
    "    # Write all chunks to a single JSON Lines file\n",
    "    with open(output_file_path, 'w') as f:\n",
    "        for chunk in all_chunks:\n",
    "            f.write(json.dumps(chunk) + '\\n')"
   ]
  },
  {
   "cell_type": "code",
   "execution_count": null,
   "id": "ca40af5b-9d1e-43d9-9ca5-440f4482c13d",
   "metadata": {
    "tags": []
   },
   "outputs": [],
   "source": [
    "chunk_json = {}"
   ]
  },
  {
   "cell_type": "code",
   "execution_count": null,
   "id": "c6e24f11-d1d4-464e-9ea3-cd5907507cbe",
   "metadata": {},
   "outputs": [],
   "source": [
    "process_and_save_chunks(md_text, output_file_path = f'{DIR}/document-chunks.jsonl' )"
   ]
  },
  {
   "cell_type": "markdown",
   "id": "079f8e8e-d9fb-4a00-b2b3-e761598744e4",
   "metadata": {},
   "source": [
    "#### Text Extraction Flags"
   ]
  },
  {
   "cell_type": "markdown",
   "id": "53313820-dcc6-456a-a698-417aaf558595",
   "metadata": {},
   "source": [
    "https://pymupdf.readthedocs.io/en/latest/vars.html#constants"
   ]
  }
 ],
 "metadata": {
  "environment": {
   "kernel": "conda-base-py",
   "name": "workbench-notebooks.m127",
   "type": "gcloud",
   "uri": "us-docker.pkg.dev/deeplearning-platform-release/gcr.io/workbench-notebooks:m127"
  },
  "kernelspec": {
   "display_name": "Python 3 (ipykernel) (Local)",
   "language": "python",
   "name": "conda-base-py"
  },
  "language_info": {
   "codemirror_mode": {
    "name": "ipython",
    "version": 3
   },
   "file_extension": ".py",
   "mimetype": "text/x-python",
   "name": "python",
   "nbconvert_exporter": "python",
   "pygments_lexer": "ipython3",
   "version": "3.10.16"
  },
  "toc-autonumbering": false,
  "toc-showcode": false,
  "toc-showmarkdowntxt": false
 },
 "nbformat": 4,
 "nbformat_minor": 5
}
