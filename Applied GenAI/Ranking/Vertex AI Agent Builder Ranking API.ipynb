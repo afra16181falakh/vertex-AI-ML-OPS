{
 "cells": [
  {
   "cell_type": "markdown",
   "id": "5cab6de7",
   "metadata": {},
   "source": [
    "![tracker](https://us-central1-vertex-ai-mlops-369716.cloudfunctions.net/pixel-tracking?path=statmike%2Fvertex-ai-mlops%2FApplied+GenAI%2FRanking&file=Vertex+AI+Agent+Builder+Ranking+API.ipynb)\n",
    "<!--- header table --->\n",
    "<table align=\"left\">\n",
    "<tr>\n",
    "  <td style=\"text-align: center\">\n",
    "    <a href=\"https://github.com/statmike/vertex-ai-mlops/blob/main/Applied%20GenAI/Ranking/Vertex%20AI%20Agent%20Builder%20Ranking%20API.ipynb\">\n",
    "      <img width=\"32px\" src=\"https://www.svgrepo.com/download/217753/github.svg\" alt=\"GitHub logo\">\n",
    "      <br>View on<br>GitHub\n",
    "    </a>\n",
    "  </td>\n",
    "  <td style=\"text-align: center\">\n",
    "    <a href=\"https://colab.research.google.com/github/statmike/vertex-ai-mlops/blob/main/Applied%20GenAI/Ranking/Vertex%20AI%20Agent%20Builder%20Ranking%20API.ipynb\">\n",
    "      <img width=\"32px\" src=\"https://www.gstatic.com/pantheon/images/bigquery/welcome_page/colab-logo.svg\" alt=\"Google Colaboratory logo\">\n",
    "      <br>Run in<br>Colab\n",
    "    </a>\n",
    "  </td>\n",
    "  <td style=\"text-align: center\">\n",
    "    <a href=\"https://console.cloud.google.com/vertex-ai/colab/import/https%3A%2F%2Fraw.githubusercontent.com%2Fstatmike%2Fvertex-ai-mlops%2Fmain%2FApplied%2520GenAI%2FRanking%2FVertex%2520AI%2520Agent%2520Builder%2520Ranking%2520API.ipynb\">\n",
    "      <img width=\"32px\" src=\"https://lh3.googleusercontent.com/JmcxdQi-qOpctIvWKgPtrzZdJJK-J3sWE1RsfjZNwshCFgE_9fULcNpuXYTilIR2hjwN\" alt=\"Google Cloud Colab Enterprise logo\">\n",
    "      <br>Run in<br>Colab Enterprise\n",
    "    </a>\n",
    "  </td>      \n",
    "  <td style=\"text-align: center\">\n",
    "    <a href=\"https://console.cloud.google.com/bigquery/import?url=https://github.com/statmike/vertex-ai-mlops/blob/main/Applied%20GenAI/Ranking/Vertex%20AI%20Agent%20Builder%20Ranking%20API.ipynb\">\n",
    "      <img width=\"32px\" src=\"https://www.gstatic.com/images/branding/gcpiconscolors/bigquery/v1/32px.svg\" alt=\"BigQuery logo\">\n",
    "      <br>Open in<br>BigQuery Studio\n",
    "    </a>\n",
    "  </td>\n",
    "  <td style=\"text-align: center\">\n",
    "    <a href=\"https://console.cloud.google.com/vertex-ai/workbench/deploy-notebook?download_url=https://raw.githubusercontent.com/statmike/vertex-ai-mlops/main/Applied%20GenAI/Ranking/Vertex%20AI%20Agent%20Builder%20Ranking%20API.ipynb\">\n",
    "      <img width=\"32px\" src=\"https://www.gstatic.com/images/branding/gcpiconscolors/vertexai/v1/32px.svg\" alt=\"Vertex AI logo\">\n",
    "      <br>Open in<br>Vertex AI Workbench\n",
    "    </a>\n",
    "  </td>\n",
    "</tr>\n",
    "<tr>\n",
    "  <td colspan=\"5\" style=\"text-align: right\">\n",
    "    <b>Share This On: </b> \n",
    "    <a href=\"https://www.linkedin.com/sharing/share-offsite/?url=https%3A//github.com/statmike/vertex-ai-mlops/blob/main/Applied%20GenAI/Ranking/Vertex%20AI%20Agent%20Builder%20Ranking%20API.ipynb\"><img src=\"https://upload.wikimedia.org/wikipedia/commons/8/81/LinkedIn_icon.svg\" alt=\"Linkedin Logo\" width=\"20px\"></a> \n",
    "    <a href=\"https://reddit.com/submit?url=https%3A//github.com/statmike/vertex-ai-mlops/blob/main/Applied%20GenAI/Ranking/Vertex%20AI%20Agent%20Builder%20Ranking%20API.ipynb\"><img src=\"https://redditinc.com/hubfs/Reddit%20Inc/Brand/Reddit_Logo.png\" alt=\"Reddit Logo\" width=\"20px\"></a> \n",
    "    <a href=\"https://bsky.app/intent/compose?text=https%3A//github.com/statmike/vertex-ai-mlops/blob/main/Applied%20GenAI/Ranking/Vertex%20AI%20Agent%20Builder%20Ranking%20API.ipynb\"><img src=\"https://upload.wikimedia.org/wikipedia/commons/7/7a/Bluesky_Logo.svg\" alt=\"BlueSky Logo\" width=\"20px\"></a> \n",
    "    <a href=\"https://twitter.com/intent/tweet?url=https%3A//github.com/statmike/vertex-ai-mlops/blob/main/Applied%20GenAI/Ranking/Vertex%20AI%20Agent%20Builder%20Ranking%20API.ipynb\"><img src=\"https://upload.wikimedia.org/wikipedia/commons/5/5a/X_icon_2.svg\" alt=\"X (Twitter) Logo\" width=\"20px\"></a> \n",
    "  </td>\n",
    "</tr>\n",
    "<tr>\n",
    "  <td colspan=\"5\" style=\"text-align: right\">\n",
    "    <b>Connect With Author On: </b> \n",
    "    <a href=\"https://www.linkedin.com/in/statmike\"><img src=\"https://upload.wikimedia.org/wikipedia/commons/8/81/LinkedIn_icon.svg\" alt=\"Linkedin Logo\" width=\"20px\"></a>\n",
    "    <a href=\"https://www.github.com/statmike\"><img src=\"https://www.svgrepo.com/download/217753/github.svg\" alt=\"GitHub Logo\" width=\"20px\"></a> \n",
    "    <a href=\"https://www.youtube.com/@statmike-channel\"><img src=\"https://upload.wikimedia.org/wikipedia/commons/f/fd/YouTube_full-color_icon_%282024%29.svg\" alt=\"YouTube Logo\" width=\"20px\"></a>\n",
    "    <a href=\"https://bksy.app/profile/statmike.bsky.social\"><img src=\"https://upload.wikimedia.org/wikipedia/commons/7/7a/Bluesky_Logo.svg\" alt=\"BlueSky Logo\" width=\"20px\"></a> \n",
    "    <a href=\"https://x.com/statmike\"><img src=\"https://upload.wikimedia.org/wikipedia/commons/5/5a/X_icon_2.svg\" alt=\"X (Twitter) Logo\" width=\"20px\"></a>\n",
    "  </td>\n",
    "</tr>\n",
    "</table>"
   ]
  },
  {
   "cell_type": "markdown",
   "id": "f00a917b-76ff-4bf9-acfa-a2dee73de0bc",
   "metadata": {},
   "source": [
    "# Vertex AI Agent Builder Ranking API\n",
    "\n",
    "This notebook explores how to leverage the [Ranking API](https://cloud.google.com/generative-ai-app-builder/docs/ranking) within [Vertex AI Agent Builder Grounding APIs](https://cloud.google.com/generative-ai-app-builder/docs/builder-apis) to enhance the accuracy and efficiency of a Retrieval-Augmented Generation (RAG) system.\n",
    "\n",
    "In RAG, providing relevant context to a Large Language Model (LLM) is crucial for generating accurate and grounded responses. While traditional embedding-based retrieval methods are effective for finding semantically similar content, they may not always pinpoint the most relevant information. This can lead to increased costs and potentially off-topic responses.\n",
    "\n",
    "**Why Ranking Matters:**\n",
    "\n",
    "- Accuracy: Embedding methods (bi-encoders) excel at speed and scalability by independently encoding the query and candidate chunks. However, cross-encoders, which jointly encode the query and chunk, offer superior accuracy in assessing relevance.\n",
    "- Efficiency: While cross-encoders are more accurate, they can be computationally expensive for large datasets.\n",
    "\n",
    "The Ranking API offers a practical solution by combining the strengths of both approaches. It allows us to first retrieve potentially relevant chunks using efficient embedding methods and then re-rank those chunks with a powerful cross-encoder for optimal accuracy.\n",
    "\n",
    "In this notebook, we'll demonstrate how to:\n",
    "\n",
    "- Utilize the Ranking API within a RAG workflow.\n",
    "- Improve the precision of your LLM's responses.\n",
    "- Optimize cost-efficiency by focusing on the most pertinent information.\n",
    "\n",
    "**Related Resources:**\n",
    "\n",
    "For a deeper dive into the mathematics behind similarity matching and embedding methods, check out the companion notebook: [The Math of Similarity](../Embeddings/The%20Math%20of%20Similarity.ipynb).\n",
    "\n",
    "**References:**\n",
    "\n",
    "- [Discoveryengine Python Ranking Service Client](https://cloud.google.com/python/docs/reference/discoveryengine/latest/google.cloud.discoveryengine_v1.services.rank_service)"
   ]
  },
  {
   "cell_type": "markdown",
   "id": "a314b240-7462-460e-a2fc-71473eeec863",
   "metadata": {
    "id": "od_UkDpvRmgD",
    "tags": []
   },
   "source": [
    "---\n",
    "## Colab Setup\n",
    "\n",
    "To run this notebook in Colab run the cells in this section.  Otherwise, skip this section.\n",
    "\n",
    "This cell will authenticate to GCP (follow prompts in the popup)."
   ]
  },
  {
   "cell_type": "code",
   "execution_count": 60,
   "id": "6f819168-9044-4290-8359-1fc3ca28a150",
   "metadata": {
    "executionInfo": {
     "elapsed": 195,
     "status": "ok",
     "timestamp": 1683726184843,
     "user": {
      "displayName": "Mike Henderson",
      "userId": "07691629187611687318"
     },
     "user_tz": 240
    },
    "id": "8UO9FnqyKBlF",
    "tags": []
   },
   "outputs": [],
   "source": [
    "PROJECT_ID = 'statmike-mlops-349915' # replace with project ID"
   ]
  },
  {
   "cell_type": "code",
   "execution_count": 61,
   "id": "ceabbf3b-92e5-46d3-8c41-73e2931e0899",
   "metadata": {
    "colab": {
     "base_uri": "https://localhost:8080/"
    },
    "executionInfo": {
     "elapsed": 68869,
     "status": "ok",
     "timestamp": 1683726253709,
     "user": {
      "displayName": "Mike Henderson",
      "userId": "07691629187611687318"
     },
     "user_tz": 240
    },
    "id": "N98-KK7LRkjm",
    "outputId": "09ec5008-0def-4e1a-c349-c598ee752f78",
    "tags": []
   },
   "outputs": [],
   "source": [
    "try:\n",
    "    import google.colab\n",
    "    from google.colab import auth\n",
    "    auth.authenticate_user()\n",
    "    !gcloud config set project {PROJECT_ID}\n",
    "except Exception:\n",
    "    pass"
   ]
  },
  {
   "cell_type": "markdown",
   "id": "528f8a81-8f01-4ff4-9e06-40753547850e",
   "metadata": {},
   "source": [
    "---\n",
    "## Installs\n",
    "\n",
    "The list `packages` contains tuples of package import names and install names.  If the import name is not found then the install name is used to install quitely for the current user."
   ]
  },
  {
   "cell_type": "code",
   "execution_count": 62,
   "id": "2097a23d-c6ed-4b42-a547-a28fd95bc1be",
   "metadata": {
    "tags": []
   },
   "outputs": [],
   "source": [
    "# tuples of (import name, install name, min_version)\n",
    "packages = [\n",
    "    ('google.cloud.aiplatform', 'google-cloud-aiplatform', '1.66.0'),\n",
    "    ('google.cloud.discoveryengine', 'google-cloud-discoveryengine')\n",
    "]\n",
    "\n",
    "import importlib\n",
    "install = False\n",
    "for package in packages:\n",
    "    if not importlib.util.find_spec(package[0]):\n",
    "        print(f'installing package {package[1]}')\n",
    "        install = True\n",
    "        !pip install {package[1]} -U -q --user\n",
    "    elif len(package) == 3:\n",
    "        if importlib.metadata.version(package[0]) < package[2]:\n",
    "            print(f'updating package {package[1]}')\n",
    "            install = True\n",
    "            !pip install {package[1]} -U -q --user"
   ]
  },
  {
   "cell_type": "markdown",
   "id": "23614cc3-e5d6-4593-8f9e-c80c995448c4",
   "metadata": {},
   "source": [
    "### API Enablement"
   ]
  },
  {
   "cell_type": "code",
   "execution_count": 63,
   "id": "4d5c3b12-8031-473e-833b-698524d57485",
   "metadata": {
    "tags": []
   },
   "outputs": [],
   "source": [
    "!gcloud services enable aiplatform.googleapis.com\n",
    "!gcloud services enable discoveryengine.googleapis.com"
   ]
  },
  {
   "cell_type": "markdown",
   "id": "c0e14c76-7168-4f91-9176-3607942d932c",
   "metadata": {},
   "source": [
    "### Restart Kernel (If Installs Occured)\n",
    "\n",
    "After a kernel restart the code submission can start with the next cell after this one."
   ]
  },
  {
   "cell_type": "code",
   "execution_count": 64,
   "id": "e0258e31-b03f-4c19-8205-7ffdff9a11ab",
   "metadata": {
    "tags": []
   },
   "outputs": [],
   "source": [
    "if install:\n",
    "    import IPython\n",
    "    app = IPython.Application.instance()\n",
    "    app.kernel.do_shutdown(True)\n",
    "    IPython.display.display(IPython.display.Markdown(\"\"\"<div class=\\\"alert alert-block alert-warning\\\">\n",
    "        <b>⚠️ The kernel is going to restart. Please wait until it is finished before continuing to the next step. The previous cells do not need to be run again⚠️</b>\n",
    "        </div>\"\"\"))"
   ]
  },
  {
   "cell_type": "markdown",
   "id": "7e35a211-ccd0-42be-8e38-dac55f9c8aca",
   "metadata": {},
   "source": [
    "---\n",
    "## Setup"
   ]
  },
  {
   "cell_type": "markdown",
   "id": "9ae4332e-815b-4c4c-9618-7404cb8da03a",
   "metadata": {},
   "source": [
    "inputs:"
   ]
  },
  {
   "cell_type": "code",
   "execution_count": 65,
   "id": "49a2f439-b760-47b7-9eac-02d0e22483eb",
   "metadata": {
    "tags": []
   },
   "outputs": [
    {
     "data": {
      "text/plain": [
       "'statmike-mlops-349915'"
      ]
     },
     "execution_count": 65,
     "metadata": {},
     "output_type": "execute_result"
    }
   ],
   "source": [
    "project = !gcloud config get-value project\n",
    "PROJECT_ID = project[0]\n",
    "PROJECT_ID"
   ]
  },
  {
   "cell_type": "code",
   "execution_count": 66,
   "id": "a1f228e4-cbe7-416a-bfad-53d5dcda7f2e",
   "metadata": {
    "tags": []
   },
   "outputs": [],
   "source": [
    "REGION = 'us-central1'\n",
    "SERIES = 'applied-genai'\n",
    "EXPERIMENT = 'ranking-api'"
   ]
  },
  {
   "cell_type": "markdown",
   "id": "db0abe3d-c518-4df3-8883-9fbd6c572e51",
   "metadata": {},
   "source": [
    "packages:"
   ]
  },
  {
   "cell_type": "code",
   "execution_count": 67,
   "id": "69a24473-d3b6-4013-b453-71a355e4bc75",
   "metadata": {
    "tags": []
   },
   "outputs": [],
   "source": [
    "import os, shutil, json\n",
    "\n",
    "import numpy as np\n",
    "import matplotlib.pyplot as plt\n",
    "\n",
    "import google.cloud.discoveryengine_v1 as discoveryengine\n",
    "from google.cloud import aiplatform\n",
    "import vertexai.generative_models # for Gemini Models\n",
    "import vertexai.language_models # for text embedding models"
   ]
  },
  {
   "cell_type": "code",
   "execution_count": 68,
   "id": "b3edecf9-5faf-4788-9ed9-e9ce51fe34a9",
   "metadata": {
    "tags": []
   },
   "outputs": [
    {
     "data": {
      "text/plain": [
       "'1.69.0'"
      ]
     },
     "execution_count": 68,
     "metadata": {},
     "output_type": "execute_result"
    }
   ],
   "source": [
    "aiplatform.__version__"
   ]
  },
  {
   "cell_type": "code",
   "execution_count": 69,
   "id": "d97cc0f6-fb82-4836-80b7-1dd4ac1fbfdc",
   "metadata": {
    "tags": []
   },
   "outputs": [
    {
     "data": {
      "text/plain": [
       "'0.12.3'"
      ]
     },
     "execution_count": 69,
     "metadata": {},
     "output_type": "execute_result"
    }
   ],
   "source": [
    "discoveryengine.__version__"
   ]
  },
  {
   "cell_type": "markdown",
   "id": "ee5146c8-822e-4dcd-8175-f850b551f2af",
   "metadata": {},
   "source": [
    "clients:"
   ]
  },
  {
   "cell_type": "code",
   "execution_count": 70,
   "id": "6b54db18-916a-45fc-8639-a92c506b1535",
   "metadata": {
    "tags": []
   },
   "outputs": [],
   "source": [
    "# Vertex AI\n",
    "vertexai.init(project = PROJECT_ID, location = REGION)\n",
    "\n",
    "# Vertex AI Agent Builder APIs\n",
    "ranker = discoveryengine.RankServiceClient()"
   ]
  },
  {
   "cell_type": "markdown",
   "id": "23fe8af0-8872-462c-a391-ab576f4b2a7a",
   "metadata": {},
   "source": [
    "---\n",
    "## Text & Embeddings For Examples\n",
    "\n",
    "This repository contains a [section for document processing (chunking)](../Chunking/readme.md) that includes an [example of processing a PDF with the Document AI Layout Parser](../Chunking/Process%20Documents%20-%20Document%20AI%20Layout%20Parser.ipynb).  The chunks of text from that workflow are stored with this repository and loaded by another companion workflow that augments the chunks with text embeddings: [Vertex AI Text Embeddings API](../Embeddings/Vertex%20AI%20Text%20Embeddings%20API.ipynb).\n",
    "\n",
    "The following code will load the version of the chunks that includes text embeddings and prepare it for a local example of retrival augmented generation."
   ]
  },
  {
   "cell_type": "markdown",
   "id": "6a072314-168f-4818-a3f5-45b3a7fe1cec",
   "metadata": {},
   "source": [
    "### Get The Documents\n",
    "\n",
    "If you are working from a clone of this notebooks [repository](https://github.com/statmike/vertex-ai-mlops) then the documents are already present. The following cell checks for the documents folder and if it is missing gets it (`git clone`):"
   ]
  },
  {
   "cell_type": "code",
   "execution_count": 71,
   "id": "2b529be8-6310-4ab4-851e-12188c36b50e",
   "metadata": {
    "tags": []
   },
   "outputs": [],
   "source": [
    "local_dir = '../Embeddings/files/embeddings-api'"
   ]
  },
  {
   "cell_type": "code",
   "execution_count": 72,
   "id": "3ab53d8b-be73-45e2-94d1-0d460c131242",
   "metadata": {
    "tags": []
   },
   "outputs": [
    {
     "name": "stdout",
     "output_type": "stream",
     "text": [
      "Documents Found in folder `../Embeddings/files/embeddings-api`\n"
     ]
    }
   ],
   "source": [
    "if not os.path.exists(local_dir):\n",
    "    print('Retrieving documents...')\n",
    "    parent_dir = os.path.dirname(local_dir)\n",
    "    temp_dir = os.path.join(parent_dir, 'temp')\n",
    "    if not os.path.exists(temp_dir):\n",
    "        os.makedirs(temp_dir)\n",
    "    !git clone https://www.github.com/statmike/vertex-ai-mlops {temp_dir}/vertex-ai-mlops\n",
    "    shutil.copytree(f'{temp_dir}/vertex-ai-mlops/Applied GenAI/Embeddings/files/embeddings-api', local_dir)\n",
    "    shutil.rmtree(temp_dir)\n",
    "    print(f'Documents are now in folder `{local_dir}`')\n",
    "else:\n",
    "    print(f'Documents Found in folder `{local_dir}`')             "
   ]
  },
  {
   "cell_type": "markdown",
   "id": "1486cada-f594-4658-a0c6-428a4b51ad6e",
   "metadata": {},
   "source": [
    "### Load The Chunks"
   ]
  },
  {
   "cell_type": "code",
   "execution_count": 73,
   "id": "d4d629f3-a05e-4352-912f-429fad7d6701",
   "metadata": {
    "tags": []
   },
   "outputs": [],
   "source": [
    "with open(local_dir+'/chunk-embeddings.jsonl', 'r') as f:\n",
    "    chunks = [json.loads(line) for line in f]"
   ]
  },
  {
   "cell_type": "markdown",
   "id": "eb1a4569-a25f-4999-b057-a81d0ebbd6be",
   "metadata": {},
   "source": [
    "### Review A Chunk"
   ]
  },
  {
   "cell_type": "code",
   "execution_count": 74,
   "id": "bf3adfea-c4df-4f09-923c-563549f5809e",
   "metadata": {
    "tags": []
   },
   "outputs": [
    {
     "data": {
      "text/plain": [
       "dict_keys(['instance', 'predictions', 'status'])"
      ]
     },
     "execution_count": 74,
     "metadata": {},
     "output_type": "execute_result"
    }
   ],
   "source": [
    "chunks[0].keys()"
   ]
  },
  {
   "cell_type": "code",
   "execution_count": 75,
   "id": "d7f47191-4284-40ec-b162-c7f418f082a8",
   "metadata": {
    "tags": []
   },
   "outputs": [
    {
     "data": {
      "text/plain": [
       "'c2'"
      ]
     },
     "execution_count": 75,
     "metadata": {},
     "output_type": "execute_result"
    }
   ],
   "source": [
    "chunks[0]['instance']['chunk_id']"
   ]
  },
  {
   "cell_type": "code",
   "execution_count": 76,
   "id": "3cd8b4da-ad26-4aa9-9bb1-24163443f48f",
   "metadata": {
    "tags": []
   },
   "outputs": [
    {
     "name": "stdout",
     "output_type": "stream",
     "text": [
      "# OFFICIAL BASEBALL RULES\n",
      "\n",
      "## Official Baseball Rules 2023 Edition\n",
      "\n",
      "### JOINT COMPETITION COMMITTEE\n",
      "\n",
      "|-|-|-|\n",
      "| Bill DeWitt | Whit Merrifield | Austin Slater |\n",
      "| Jack Flaherty | Bill Miller | John Stanton, Chair |\n",
      "| Tyler Glasnow | Dick Monfort | Tom Werner |\n",
      "| Greg Johnson | Mark Shapiro |  |\n",
      "\n",
      "Committee Secretary Paul V. Mifsud, Jr. Copyright © 2023 by the Office of the Commissioner of Baseball\n"
     ]
    }
   ],
   "source": [
    "print(chunks[0]['instance']['content'])"
   ]
  },
  {
   "cell_type": "code",
   "execution_count": 77,
   "id": "b36d9449-020f-47e5-a4d7-741e5e95a22b",
   "metadata": {
    "tags": []
   },
   "outputs": [
    {
     "data": {
      "text/plain": [
       "[0.008681542240083218,\n",
       " 0.06999468058347702,\n",
       " 0.003673204220831394,\n",
       " 0.019888797774910927,\n",
       " 0.016285404562950134,\n",
       " 0.035664502531290054,\n",
       " 0.06200747936964035,\n",
       " 0.05597030743956566,\n",
       " 0.0034793149679899216,\n",
       " -0.024485772475600243]"
      ]
     },
     "execution_count": 77,
     "metadata": {},
     "output_type": "execute_result"
    }
   ],
   "source": [
    "chunks[0]['predictions'][0]['embeddings']['values'][0:10]"
   ]
  },
  {
   "cell_type": "markdown",
   "id": "5b2c81e2-132d-4144-9c8e-1fed6bc0f8c9",
   "metadata": {},
   "source": [
    "### Prepare Chunk Structure\n",
    "\n",
    "Make a dictionary for each lookup of chunk content by chunk id:"
   ]
  },
  {
   "cell_type": "code",
   "execution_count": 78,
   "id": "eb34c2e7-c03f-459c-aaf5-e174d42e9187",
   "metadata": {
    "tags": []
   },
   "outputs": [],
   "source": [
    "content_chunks = {}\n",
    "for chunk in chunks:\n",
    "    content_chunks[chunk['instance']['chunk_id']] = chunk['instance']['content']"
   ]
  },
  {
   "cell_type": "code",
   "execution_count": 79,
   "id": "7ad95293-9111-46ec-b86d-7dbcf315646a",
   "metadata": {
    "tags": []
   },
   "outputs": [
    {
     "data": {
      "text/plain": [
       "'# OFFICIAL BASEBALL RULES\\n\\n2023 Edition TM TM'"
      ]
     },
     "execution_count": 79,
     "metadata": {},
     "output_type": "execute_result"
    }
   ],
   "source": [
    "content_chunks['c1']"
   ]
  },
  {
   "cell_type": "markdown",
   "id": "f2ee9ae5-2d7f-43d4-8b37-d22eabd24981",
   "metadata": {},
   "source": [
    "---\n",
    "## Simple Retrieval Augmented Generation (RAG)\n",
    "\n",
    "Embeddings can be used with math to measure similarity.  For deeper details into this checkout the companion workflow here: [The Math of Similarity](../Embeddings/The%20Math%20of%20Similarity.ipynb).  Retrieval systems handle the storage and math of similarity as a service.  For an overview of Google Cloud based solutions for retrieval check out [this companion series](../Retrieval/readme.md).\n",
    "\n",
    "The content below motivates retrieval with the embeddings that accompany the text chunks using a local vector database with brute force matching using Numpy!"
   ]
  },
  {
   "cell_type": "markdown",
   "id": "22914402-06bc-4de0-949d-f0a5b7c58266",
   "metadata": {},
   "source": [
    "### Vector DB With Numpy"
   ]
  },
  {
   "cell_type": "code",
   "execution_count": 80,
   "id": "ac71eb01-6561-470d-a6a7-0ff7228ba4b2",
   "metadata": {
    "tags": []
   },
   "outputs": [],
   "source": [
    "vector_db = [\n",
    "    [\n",
    "        chunk['instance']['chunk_id'],\n",
    "        chunk['predictions'][0]['embeddings']['values'],\n",
    "    ]\n",
    "    for chunk in chunks\n",
    "]\n",
    "vector_index = np.array([row[1] for row in vector_db])"
   ]
  },
  {
   "cell_type": "markdown",
   "id": "19297567-91fc-4eda-97c0-3a0f2249264b",
   "metadata": {},
   "source": [
    "### Models: Embeddings, Generation"
   ]
  },
  {
   "cell_type": "markdown",
   "id": "8e3e5cab-45f2-4211-9d59-31e5aa67b32b",
   "metadata": {},
   "source": [
    "Connect to models for text embeddings and text generation:"
   ]
  },
  {
   "cell_type": "code",
   "execution_count": 81,
   "id": "0a7c1580-758c-43d5-8aaf-fefb7b2be60f",
   "metadata": {
    "tags": []
   },
   "outputs": [],
   "source": [
    "embedder = vertexai.language_models.TextEmbeddingModel.from_pretrained('text-embedding-004')\n",
    "llm = vertexai.generative_models.GenerativeModel(\"gemini-1.5-flash-001\")"
   ]
  },
  {
   "cell_type": "markdown",
   "id": "65d3a42d-a141-48a9-9351-45e6152cd35e",
   "metadata": {},
   "source": [
    "Define a question that is the start of our prompt to the LLM:"
   ]
  },
  {
   "cell_type": "code",
   "execution_count": 82,
   "id": "c699c353-fbd4-4a6d-8b52-2b54dfd820c0",
   "metadata": {
    "tags": []
   },
   "outputs": [],
   "source": [
    "question = \"What are the dimensions of a base?\""
   ]
  },
  {
   "cell_type": "markdown",
   "id": "ceba8d0d-c59e-4e08-987f-8ae69782ce97",
   "metadata": {},
   "source": [
    "Get an ungrounded response to the question with the LLM:"
   ]
  },
  {
   "cell_type": "code",
   "execution_count": 83,
   "id": "c939531c-ef81-4fea-851f-e4776d3ebe4a",
   "metadata": {
    "tags": []
   },
   "outputs": [
    {
     "name": "stdout",
     "output_type": "stream",
     "text": [
      "The term \"base\" is ambiguous and can refer to many different things depending on the context. To help me understand what you're asking, please provide more information about what kind of base you're referring to. For example:\n",
      "\n",
      "* **Geometry:** Are you asking about the base of a geometric shape like a triangle, rectangle, or prism?\n",
      "* **Chemistry:** Are you asking about a base in the context of chemistry, like a substance with a pH greater than 7?\n",
      "* **Computer Science:** Are you asking about a numerical base, such as base-10 (decimal) or base-2 (binary)? \n",
      "\n",
      "Once you clarify what you mean by \"base\", I can give you a more specific answer about its dimensions. \n",
      "\n"
     ]
    }
   ],
   "source": [
    "print(llm.generate_content(question).text)"
   ]
  },
  {
   "cell_type": "markdown",
   "id": "11cab7ac-0397-4c89-b477-0547d50a3f8d",
   "metadata": {},
   "source": [
    "Get an embedding for the question to use in retrieval:"
   ]
  },
  {
   "cell_type": "code",
   "execution_count": 84,
   "id": "98c6e564-1e43-49f4-b601-0946a0670bfc",
   "metadata": {
    "tags": []
   },
   "outputs": [
    {
     "data": {
      "text/plain": [
       "[-0.026682045310735703,\n",
       " 0.011593513190746307,\n",
       " 0.028523651883006096,\n",
       " -0.0017065361607819796,\n",
       " 0.01946176588535309,\n",
       " 0.0031198114156723022,\n",
       " 0.07915323227643967,\n",
       " -0.005078596994280815,\n",
       " -0.006295712199062109,\n",
       " 0.04943541809916496]"
      ]
     },
     "execution_count": 84,
     "metadata": {},
     "output_type": "execute_result"
    }
   ],
   "source": [
    "question_embedding = embedder.get_embeddings([question])[0].values\n",
    "question_embedding[0:10]"
   ]
  },
  {
   "cell_type": "markdown",
   "id": "c8f90e5f-be46-441e-9bf4-73843de8feb9",
   "metadata": {},
   "source": [
    "### Retrieval: Matching With Numpy\n",
    "\n",
    "Use dot product to calculate similarity and find matches for a query embedding.  Why dot product?  Check out the companion workflow: [The Math of Similarity](../Embeddings/The%20Math%20of%20Similarity.ipynb)\n",
    "\n",
    "> **NOTE:**  This will calculate the similarity for all embeddings vectors stored in the local vector db which is just a Numpy array here.  This is very fast because there are <200 embeddings vectors.  As this scales it would be better to consider a solution that searches a subset of embeddings.  More details on retrieval solutions can be found in [Retrieval](../Retrieval/readme.md)."
   ]
  },
  {
   "cell_type": "code",
   "execution_count": 85,
   "id": "e255a7ad-24eb-409d-a8f3-affa42b9b490",
   "metadata": {
    "tags": []
   },
   "outputs": [
    {
     "data": {
      "text/plain": [
       "[(38, 0.5843799337008113),\n",
       " (36, 0.5724333016720691),\n",
       " (836, 0.5244194362041271),\n",
       " (40, 0.5126844935129918),\n",
       " (26, 0.5033481946111171)]"
      ]
     },
     "execution_count": 85,
     "metadata": {},
     "output_type": "execute_result"
    }
   ],
   "source": [
    "similarity = np.dot(question_embedding, vector_index.T)\n",
    "matches = np.argsort(similarity)[-5:].tolist()\n",
    "matches.reverse()\n",
    "matches = [(match, similarity[match]) for match in matches]\n",
    "matches"
   ]
  },
  {
   "cell_type": "code",
   "execution_count": 86,
   "id": "5a013601-b36b-4c3e-ade1-8e1cd6f87a61",
   "metadata": {
    "tags": []
   },
   "outputs": [
    {
     "name": "stdout",
     "output_type": "stream",
     "text": [
      "Match 1 (0.58) is chunk c38:\n",
      "# 2.00-THE PLAYING FIELD\n",
      "\n",
      "## 2.02 Home Base\n",
      "\n",
      "Home base shall be marked by a five-sided slab of whitened rubber. It shall be a 17-inch square with two of the corners removed so that one edge is 17 inches long, two adjacent sides are 8\\frac{1}{2} inches and the remaining two sides are 12 inches and set at an angle to make a point.\n",
      "###################################################\n",
      "Match 2 (0.57) is chunk c39:\n",
      "# 2.00-THE PLAYING FIELD\n",
      "\n",
      "## 2.02 Home Base\n",
      "\n",
      "It shall be set in the ground with the point at the intersection of the lines extending from home base to first base and to third base; with the 17-inch edge facing the pitcher's plate, and the two 12-inch edges coinciding with the first and third base lines. The top edges of home base shall be beveled and the base shall be fixed in the ground level with the ground surface. (See drawing D in Appendix 2.) 3\n",
      "###################################################\n",
      "Match 3 (0.52) is chunk c838:\n",
      "# APPENDICES\n",
      "\n",
      "## Appendix 2\n",
      "\n",
      "Diagram No. 2 Layout at Home Plate, 1st, 2nd, and 3rd Bases 18\" A 18\" 90° LAYOUT AT SECOND BASE FOR LAYOUT AT PITCHER'S PLATE SEE DIAGRAM NO. 3 90° 6\" 17\" 6\" D E 3'0\" 3'0\" 4'0\" 4 C 43\" LAYOUT AT HOME BASE DIAGRAM NO. 2 LEGEND A 1st, 2nd, 3rd BASES BATTER'S BOX B B C CATCHER'S BOX D HOME BASE E PITCHER'S PLATE Rev2023RW 161 90° 4 FOUL LINE LAYOUT AT FIRST BASE\n",
      "###################################################\n",
      "Match 4 (0.51) is chunk c40:\n",
      "# Rule 2.03 to 2.05\n",
      "\n",
      "## 2.03 The Bases\n",
      "\n",
      "First, second and third bases shall be marked by white canvas or rubber-covered bags, securely attached to the ground as indicated in Diagram 2. The first and third base bags shall be entirely within the infield. The second base bag shall be centered on second base. The bags shall be 18 inches square, not less than three nor more than five inches thick, and filled with soft material.\n",
      "###################################################\n",
      "Match 5 (0.50) is chunk c31:\n",
      "# 2.00-THE PLAYING FIELD\n",
      "\n",
      "## 2.01 Layout of the Field\n",
      "\n",
      "When location of home base is determined, with a steel tape measure 127 feet, 3\\frac{3}{8} inches in desired direction to establish second base. From home base, measure 90 feet toward first base; from second base, measure 90 feet toward first base; the intersection of these lines establishes first base. From home base, measure 90 feet toward third base; from second base, measure 90 feet toward third base; the intersection of these lines establishes third base.\n",
      "###################################################\n"
     ]
    }
   ],
   "source": [
    "for m, match in enumerate(matches):\n",
    "    print(f\"Match {m+1} ({match[1]:.2f}) is chunk {vector_db[match[0]][0]}:\\n{content_chunks[vector_db[match[0]][0]]}\\n###################################################\")"
   ]
  },
  {
   "cell_type": "markdown",
   "id": "07ae7867-438f-45f2-9b42-12179acfeb15",
   "metadata": {},
   "source": [
    "### Generation: Q&A With Gemini Grounded With RAG\n",
    "\n",
    "Provide the matched chunks of text along with the question as a prompt to a generative model for a grounded answer."
   ]
  },
  {
   "cell_type": "markdown",
   "id": "a8e006bf-3ee4-4c50-ae61-a807897967b1",
   "metadata": {},
   "source": [
    "#### Prompt Building Function\n",
    "\n",
    "Use the matching chunks as context for the prompt:"
   ]
  },
  {
   "cell_type": "code",
   "execution_count": 87,
   "id": "1d14d98a-e6ce-419d-b522-81be3b144e88",
   "metadata": {
    "tags": []
   },
   "outputs": [],
   "source": [
    "def get_prompt(question, top_n = 5):\n",
    "    # get embedding for question\n",
    "    question_embedding = embedder.get_embeddings([question])[0].values\n",
    "    # get top_n matches:\n",
    "    similarity = np.dot(question_embedding, vector_index.T)\n",
    "    matches = np.argsort(similarity)[-top_n:].tolist()\n",
    "    matches.reverse()\n",
    "    matches = [[match, similarity[match]] for match in matches]\n",
    "    # construct prompt:\n",
    "    prompt = ''\n",
    "    for m, match in enumerate(matches):\n",
    "        prompt += f\"Context {m+1}:\\n{content_chunks[vector_db[match[0]][0]]}\\n\\n\"\n",
    "    prompt += f'Answer the following question using the provided contexts:\\n{question}'\n",
    "    \n",
    "    return matches, prompt"
   ]
  },
  {
   "cell_type": "code",
   "execution_count": 88,
   "id": "8c82dd73-70fd-4a1c-b154-737ae75f2b41",
   "metadata": {
    "tags": []
   },
   "outputs": [
    {
     "name": "stdout",
     "output_type": "stream",
     "text": [
      "Context 1:\n",
      "# 2.00-THE PLAYING FIELD\n",
      "\n",
      "## 2.02 Home Base\n",
      "\n",
      "Home base shall be marked by a five-sided slab of whitened rubber. It shall be a 17-inch square with two of the corners removed so that one edge is 17 inches long, two adjacent sides are 8\\frac{1}{2} inches and the remaining two sides are 12 inches and set at an angle to make a point.\n",
      "\n",
      "Context 2:\n",
      "# 2.00-THE PLAYING FIELD\n",
      "\n",
      "## 2.02 Home Base\n",
      "\n",
      "It shall be set in the ground with the point at the intersection of the lines extending from home base to first base and to third base; with the 17-inch edge facing the pitcher's plate, and the two 12-inch edges coinciding with the first and third base lines. The top edges of home base shall be beveled and the base shall be fixed in the ground level with the ground surface. (See drawing D in Appendix 2.) 3\n",
      "\n",
      "Context 3:\n",
      "# APPENDICES\n",
      "\n",
      "## Appendix 2\n",
      "\n",
      "Diagram No. 2 Layout at Home Plate, 1st, 2nd, and 3rd Bases 18\" A 18\" 90° LAYOUT AT SECOND BASE FOR LAYOUT AT PITCHER'S PLATE SEE DIAGRAM NO. 3 90° 6\" 17\" 6\" D E 3'0\" 3'0\" 4'0\" 4 C 43\" LAYOUT AT HOME BASE DIAGRAM NO. 2 LEGEND A 1st, 2nd, 3rd BASES BATTER'S BOX B B C CATCHER'S BOX D HOME BASE E PITCHER'S PLATE Rev2023RW 161 90° 4 FOUL LINE LAYOUT AT FIRST BASE\n",
      "\n",
      "Context 4:\n",
      "# Rule 2.03 to 2.05\n",
      "\n",
      "## 2.03 The Bases\n",
      "\n",
      "First, second and third bases shall be marked by white canvas or rubber-covered bags, securely attached to the ground as indicated in Diagram 2. The first and third base bags shall be entirely within the infield. The second base bag shall be centered on second base. The bags shall be 18 inches square, not less than three nor more than five inches thick, and filled with soft material.\n",
      "\n",
      "Context 5:\n",
      "# 2.00-THE PLAYING FIELD\n",
      "\n",
      "## 2.01 Layout of the Field\n",
      "\n",
      "When location of home base is determined, with a steel tape measure 127 feet, 3\\frac{3}{8} inches in desired direction to establish second base. From home base, measure 90 feet toward first base; from second base, measure 90 feet toward first base; the intersection of these lines establishes first base. From home base, measure 90 feet toward third base; from second base, measure 90 feet toward third base; the intersection of these lines establishes third base.\n",
      "\n",
      "Answer the following question using the provided contexts:\n",
      "What are the dimensions of a base?\n"
     ]
    }
   ],
   "source": [
    "matches, prompt = get_prompt(question) \n",
    "print(prompt)"
   ]
  },
  {
   "cell_type": "markdown",
   "id": "b3434480-243a-4fe7-87fc-86de216f86bf",
   "metadata": {},
   "source": [
    "### Grounded Generation"
   ]
  },
  {
   "cell_type": "code",
   "execution_count": 89,
   "id": "85bb2810-eb8e-4581-82ee-54d2f387689b",
   "metadata": {
    "tags": []
   },
   "outputs": [
    {
     "name": "stdout",
     "output_type": "stream",
     "text": [
      "The dimensions of a base vary depending on the type of base:\n",
      "\n",
      "* **Home Base:** 17 inches long, two adjacent sides are 8 1/2 inches, and the remaining two sides are 12 inches. \n",
      "* **First, Second, and Third Bases:** 18 inches square, with a thickness between 3 and 5 inches. \n",
      "\n"
     ]
    }
   ],
   "source": [
    "answer = llm.generate_content(prompt).text\n",
    "print(answer)"
   ]
  },
  {
   "cell_type": "markdown",
   "id": "3fb02e4e-b1d0-44de-9060-56efd2ebb167",
   "metadata": {},
   "source": [
    "---\n",
    "## Ranking API\n",
    "\n",
    "Vertex AI Agent Builder has several helpful APIs for grounding, including:\n",
    "- [Ranking API](https://cloud.google.com/generative-ai-app-builder/docs/ranking)\n",
    "    - Rank chunks based on relationship to a query.\n",
    "    \n",
    "**References:**\n",
    "\n",
    "- [Discoveryengine Python Ranking Service Client](https://cloud.google.com/python/docs/reference/discoveryengine/latest/google.cloud.discoveryengine_v1.services.rank_service)"
   ]
  },
  {
   "cell_type": "markdown",
   "id": "df0b62ab-e528-499b-92bd-4fcc8f100d29",
   "metadata": {},
   "source": [
    "### Get 20 Matches By Vector Similarity"
   ]
  },
  {
   "cell_type": "code",
   "execution_count": 90,
   "id": "b6e7736f-cf67-4451-8165-db65b4f6cf37",
   "metadata": {
    "tags": []
   },
   "outputs": [],
   "source": [
    "matches, _ = get_prompt(question, 20)"
   ]
  },
  {
   "cell_type": "code",
   "execution_count": 91,
   "id": "0b5e85c2-bd32-4feb-9ba2-819745bb5e21",
   "metadata": {
    "tags": []
   },
   "outputs": [
    {
     "data": {
      "text/plain": [
       "20"
      ]
     },
     "execution_count": 91,
     "metadata": {},
     "output_type": "execute_result"
    }
   ],
   "source": [
    "len(matches)"
   ]
  },
  {
   "cell_type": "code",
   "execution_count": 92,
   "id": "329e2596-9f35-4515-a951-e54e911bf107",
   "metadata": {
    "tags": []
   },
   "outputs": [
    {
     "data": {
      "text/plain": [
       "([38, 0.5843799337008113], [28, 0.4483553514768128])"
      ]
     },
     "execution_count": 92,
     "metadata": {},
     "output_type": "execute_result"
    }
   ],
   "source": [
    "matches[0], matches[-1]"
   ]
  },
  {
   "cell_type": "markdown",
   "id": "5fe5df44-4bec-4c80-b04f-58dc8e9e5197",
   "metadata": {},
   "source": [
    "### Use the Ranking API to Get The Top-5 Matches"
   ]
  },
  {
   "cell_type": "code",
   "execution_count": 93,
   "id": "35bbbb74-6323-4ca0-915d-2b57a3363be0",
   "metadata": {
    "tags": []
   },
   "outputs": [],
   "source": [
    "rank_results = ranker.rank(\n",
    "    request = discoveryengine.RankRequest(\n",
    "        ranking_config = ranker.ranking_config_path(\n",
    "            project = PROJECT_ID,\n",
    "            location = \"global\",\n",
    "            ranking_config = \"default_ranking_config\",\n",
    "        ),\n",
    "        model = \"semantic-ranker-512@latest\",\n",
    "        #top_n = 5,\n",
    "        query = question,\n",
    "        records = [\n",
    "            discoveryengine.RankingRecord(\n",
    "                id = vector_db[match[0]][0],\n",
    "                content = content_chunks[vector_db[match[0]][0]]\n",
    "            ) for match in matches\n",
    "        ]\n",
    "    )\n",
    ")"
   ]
  },
  {
   "cell_type": "code",
   "execution_count": 94,
   "id": "67f204c1-78ce-4283-9d64-cb71ff5f819c",
   "metadata": {
    "tags": []
   },
   "outputs": [
    {
     "data": {
      "text/plain": [
       "[id: \"c38\"\n",
       " content: \"# 2.00-THE PLAYING FIELD\\n\\n## 2.02 Home Base\\n\\nHome base shall be marked by a five-sided slab of whitened rubber. It shall be a 17-inch square with two of the corners removed so that one edge is 17 inches long, two adjacent sides are 8\\\\frac{1}{2} inches and the remaining two sides are 12 inches and set at an angle to make a point.\"\n",
       " score: 0.9900000095367432,\n",
       " id: \"c40\"\n",
       " content: \"# Rule 2.03 to 2.05\\n\\n## 2.03 The Bases\\n\\nFirst, second and third bases shall be marked by white canvas or rubber-covered bags, securely attached to the ground as indicated in Diagram 2. The first and third base bags shall be entirely within the infield. The second base bag shall be centered on second base. The bags shall be 18 inches square, not less than three nor more than five inches thick, and filled with soft material.\"\n",
       " score: 0.6899999976158142,\n",
       " id: \"c39\"\n",
       " content: \"# 2.00-THE PLAYING FIELD\\n\\n## 2.02 Home Base\\n\\nIt shall be set in the ground with the point at the intersection of the lines extending from home base to first base and to third base; with the 17-inch edge facing the pitcher\\'s plate, and the two 12-inch edges coinciding with the first and third base lines. The top edges of home base shall be beveled and the base shall be fixed in the ground level with the ground surface. (See drawing D in Appendix 2.) 3\"\n",
       " score: 0.6299999952316284,\n",
       " id: \"c838\"\n",
       " content: \"# APPENDICES\\n\\n## Appendix 2\\n\\nDiagram No. 2 Layout at Home Plate, 1st, 2nd, and 3rd Bases 18\\\" A 18\\\" 90\\302\\260 LAYOUT AT SECOND BASE FOR LAYOUT AT PITCHER\\'S PLATE SEE DIAGRAM NO. 3 90\\302\\260 6\\\" 17\\\" 6\\\" D E 3\\'0\\\" 3\\'0\\\" 4\\'0\\\" 4 C 43\\\" LAYOUT AT HOME BASE DIAGRAM NO. 2 LEGEND A 1st, 2nd, 3rd BASES BATTER\\'S BOX B B C CATCHER\\'S BOX D HOME BASE E PITCHER\\'S PLATE Rev2023RW 161 90\\302\\260 4 FOUL LINE LAYOUT AT FIRST BASE\"\n",
       " score: 0.5,\n",
       " id: \"c41\"\n",
       " content: \"# Rule 2.03 to 2.05\\n\\n## 2.04 The Pitcher\\'s Plate\\n\\nThe pitcher\\'s plate shall be a rectangular slab of whitened rubber, 24 inches by 6 inches. It shall be set in the ground as shown in Diagrams 1 and 2, so that the distance between the pitcher\\'s plate and home base (the rear point of home plate) shall be 60 feet, 6 inches.\"\n",
       " score: 0.4399999976158142]"
      ]
     },
     "execution_count": 94,
     "metadata": {},
     "output_type": "execute_result"
    }
   ],
   "source": [
    "rank_results.records[0:5]"
   ]
  },
  {
   "cell_type": "code",
   "execution_count": 95,
   "id": "e5910d8e-560e-451a-9ceb-35e531a3f202",
   "metadata": {
    "tags": []
   },
   "outputs": [
    {
     "name": "stdout",
     "output_type": "stream",
     "text": [
      "1 - chunk_id: c38 with distance: 0.9900000095367432\n",
      "2 - chunk_id: c40 with distance: 0.6899999976158142\n",
      "3 - chunk_id: c39 with distance: 0.6299999952316284\n",
      "4 - chunk_id: c838 with distance: 0.5\n",
      "5 - chunk_id: c41 with distance: 0.4399999976158142\n",
      "6 - chunk_id: c31 with distance: 0.30000001192092896\n",
      "7 - chunk_id: c32 with distance: 0.25\n",
      "8 - chunk_id: c837 with distance: 0.1599999964237213\n",
      "9 - chunk_id: c840 with distance: 0.15000000596046448\n",
      "10 - chunk_id: c839 with distance: 0.12999999523162842\n",
      "11 - chunk_id: c29 with distance: 0.10999999940395355\n",
      "12 - chunk_id: c28 with distance: 0.10000000149011612\n",
      "13 - chunk_id: c842 with distance: 0.09000000357627869\n",
      "14 - chunk_id: c42 with distance: 0.05000000074505806\n",
      "15 - chunk_id: c34 with distance: 0.029999999329447746\n",
      "16 - chunk_id: c23 with distance: 0.009999999776482582\n",
      "17 - chunk_id: c12 with distance: 0.009999999776482582\n",
      "18 - chunk_id: c30 with distance: 0.009999999776482582\n",
      "19 - chunk_id: c27 with distance: 0.009999999776482582\n",
      "20 - chunk_id: c775 with distance: -0.0\n"
     ]
    }
   ],
   "source": [
    "for m, match in enumerate(rank_results.records): print(f\"{m+1} - chunk_id: {match.id} with distance: {match.score}\")"
   ]
  },
  {
   "cell_type": "markdown",
   "id": "2653644f-1bab-4b55-ab8d-d1c3e7ff0ef2",
   "metadata": {},
   "source": [
    "### Compare Similarity To Ranking\n",
    "\n",
    "Create a visual with the top 20 result from similarity compared to their order from the ranking API:"
   ]
  },
  {
   "cell_type": "code",
   "execution_count": 96,
   "id": "48eca7b6-b874-4900-9ed1-0fe04a7f1862",
   "metadata": {
    "tags": []
   },
   "outputs": [
    {
     "data": {
      "image/png": "[encoded data removed]",
      "text/plain": [
       "<Figure size 500x800 with 1 Axes>"
      ]
     },
     "metadata": {},
     "output_type": "display_data"
    }
   ],
   "source": [
    "# Get order list of chunks by similarity and ranking\n",
    "chunks_by_similarity = [vector_db[match[0]][0] for match in matches]\n",
    "chunks_by_ranking = [record.id for record in rank_results.records]\n",
    "n_chunks = len(chunks_by_similarity)\n",
    "\n",
    "# Create the plot\n",
    "fig, ax = plt.subplots(figsize=(5, 8))\n",
    "\n",
    "for i in range(n_chunks):\n",
    "    label = chunks_by_similarity[i]\n",
    "    color = 'red' if label == 'c40' else 'gray'\n",
    "    plot_label = 'Primary Chunk' if color == 'red' else None\n",
    "    ax.plot([0, 1], [i, chunks_by_ranking.index(chunks_by_similarity[i])], marker='o', color=color, label=plot_label)\n",
    "for i, label in enumerate(chunks_by_similarity):\n",
    "    ax.text(-0.1, i, label, ha='right', va='center')\n",
    "    ax.text(1.1, chunks_by_ranking.index(label), label, ha='left', va='center')\n",
    "\n",
    "# Customize axes and labels\n",
    "ax.set_xticks([0, 1])\n",
    "ax.set_xticklabels(['Similarity Order', 'Ranking Order'])\n",
    "ax.set_ylim(-0.5, n_chunks - 0.5)\n",
    "ax.set_yticks(range(n_chunks))\n",
    "#ax.set_yticklabels(chunks_by_similarity)\n",
    "ax.set_yticklabels([])\n",
    "ax.set_title('Comparing Order of Chunks')\n",
    "ax.legend()\n",
    "\n",
    "# Show the plot\n",
    "plt.show()"
   ]
  },
  {
   "cell_type": "markdown",
   "id": "3d809fcd-48dd-49b7-90ab-39da857f6809",
   "metadata": {},
   "source": [
    "### Example - Prompt With The Known Best Chunk: Correct Answer\n",
    "\n",
    "For a baseline use the known best chunk.  In real-world situations this is not always possible but it makes a good baseline for the following examples that compare chunks retrieved from similarity and those filtered by ranking."
   ]
  },
  {
   "cell_type": "code",
   "execution_count": 97,
   "id": "74e74f6b-cf5d-4719-a752-7a31f7f43a9b",
   "metadata": {
    "tags": []
   },
   "outputs": [
    {
     "name": "stdout",
     "output_type": "stream",
     "text": [
      "Context 20:\n",
      "# Rule 2.03 to 2.05\n",
      "\n",
      "## 2.03 The Bases\n",
      "\n",
      "First, second and third bases shall be marked by white canvas or rubber-covered bags, securely attached to the ground as indicated in Diagram 2. The first and third base bags shall be entirely within the infield. The second base bag shall be centered on second base. The bags shall be 18 inches square, not less than three nor more than five inches thick, and filled with soft material.\n",
      "\n",
      "Answer the following question using the provided contexts:\n",
      "What are the dimensions of a base?\n"
     ]
    }
   ],
   "source": [
    "# construct prompt:\n",
    "prompt = ''\n",
    "prompt += f\"Context {m+1}:\\n{content_chunks['c40']}\\n\\n\"\n",
    "prompt += f'Answer the following question using the provided contexts:\\n{question}'\n",
    "print(prompt)"
   ]
  },
  {
   "cell_type": "code",
   "execution_count": 98,
   "id": "bbdd2638-e11c-4bb8-9f73-bf469a9e937c",
   "metadata": {
    "tags": []
   },
   "outputs": [
    {
     "name": "stdout",
     "output_type": "stream",
     "text": [
      "According to Rule 2.03, the bases are 18 inches square and between 3 and 5 inches thick. \n",
      "\n"
     ]
    }
   ],
   "source": [
    "answer = llm.generate_content(prompt).text\n",
    "print(answer)"
   ]
  },
  {
   "cell_type": "markdown",
   "id": "fba6f558-f799-4115-8af0-f8c9eff19b8b",
   "metadata": {},
   "source": [
    "### Example - Prompt With Top 2 Chunks By Similarity: Wrong Answer"
   ]
  },
  {
   "cell_type": "code",
   "execution_count": 99,
   "id": "5d8784be-1498-45bd-af1f-a08c3cc730b9",
   "metadata": {
    "tags": []
   },
   "outputs": [
    {
     "name": "stdout",
     "output_type": "stream",
     "text": [
      "Context 1:\n",
      "# 2.00-THE PLAYING FIELD\n",
      "\n",
      "## 2.02 Home Base\n",
      "\n",
      "Home base shall be marked by a five-sided slab of whitened rubber. It shall be a 17-inch square with two of the corners removed so that one edge is 17 inches long, two adjacent sides are 8\\frac{1}{2} inches and the remaining two sides are 12 inches and set at an angle to make a point.\n",
      "\n",
      "Context 2:\n",
      "# 2.00-THE PLAYING FIELD\n",
      "\n",
      "## 2.02 Home Base\n",
      "\n",
      "It shall be set in the ground with the point at the intersection of the lines extending from home base to first base and to third base; with the 17-inch edge facing the pitcher's plate, and the two 12-inch edges coinciding with the first and third base lines. The top edges of home base shall be beveled and the base shall be fixed in the ground level with the ground surface. (See drawing D in Appendix 2.) 3\n",
      "\n",
      "Answer the following question using the provided contexts:\n",
      "What are the dimensions of a base?\n"
     ]
    }
   ],
   "source": [
    "# construct prompt:\n",
    "prompt = ''\n",
    "for m, match in enumerate(chunks_by_similarity[0:2]):\n",
    "    prompt += f\"Context {m+1}:\\n{content_chunks[match]}\\n\\n\"\n",
    "prompt += f'Answer the following question using the provided contexts:\\n{question}'\n",
    "print(prompt)"
   ]
  },
  {
   "cell_type": "code",
   "execution_count": 100,
   "id": "b5a60aec-3b07-42da-9a71-6b70ef98118e",
   "metadata": {
    "tags": []
   },
   "outputs": [
    {
     "name": "stdout",
     "output_type": "stream",
     "text": [
      "Here are the dimensions of a base, according to the provided context:\n",
      "\n",
      "* **One edge:** 17 inches\n",
      "* **Two adjacent sides:** 8 1/2 inches\n",
      "* **Two remaining sides:** 12 inches \n",
      "\n",
      "These dimensions create a five-sided shape with a point. \n",
      "\n"
     ]
    }
   ],
   "source": [
    "answer = llm.generate_content(prompt).text\n",
    "print(answer)"
   ]
  },
  {
   "cell_type": "markdown",
   "id": "7db5e754-cefe-41a3-bb39-b1c4481104bf",
   "metadata": {},
   "source": [
    "### Example - Prompt with Top 2 Chunks By Ranking: Correct Answer"
   ]
  },
  {
   "cell_type": "code",
   "execution_count": 101,
   "id": "4f01040f-6b79-4ebe-8a15-9fc74785323b",
   "metadata": {
    "tags": []
   },
   "outputs": [
    {
     "name": "stdout",
     "output_type": "stream",
     "text": [
      "Context 1:\n",
      "# 2.00-THE PLAYING FIELD\n",
      "\n",
      "## 2.02 Home Base\n",
      "\n",
      "Home base shall be marked by a five-sided slab of whitened rubber. It shall be a 17-inch square with two of the corners removed so that one edge is 17 inches long, two adjacent sides are 8\\frac{1}{2} inches and the remaining two sides are 12 inches and set at an angle to make a point.\n",
      "\n",
      "Context 2:\n",
      "# Rule 2.03 to 2.05\n",
      "\n",
      "## 2.03 The Bases\n",
      "\n",
      "First, second and third bases shall be marked by white canvas or rubber-covered bags, securely attached to the ground as indicated in Diagram 2. The first and third base bags shall be entirely within the infield. The second base bag shall be centered on second base. The bags shall be 18 inches square, not less than three nor more than five inches thick, and filled with soft material.\n",
      "\n",
      "Answer the following question using the provided contexts:\n",
      "What are the dimensions of a base?\n"
     ]
    }
   ],
   "source": [
    "# construct prompt:\n",
    "prompt = ''\n",
    "for m, match in enumerate(chunks_by_ranking[0:2]):\n",
    "    prompt += f\"Context {m+1}:\\n{content_chunks[match]}\\n\\n\"\n",
    "prompt += f'Answer the following question using the provided contexts:\\n{question}'\n",
    "print(prompt)"
   ]
  },
  {
   "cell_type": "code",
   "execution_count": 102,
   "id": "49ccd309-b5e0-410e-9385-5edbb11b1d14",
   "metadata": {
    "tags": []
   },
   "outputs": [
    {
     "name": "stdout",
     "output_type": "stream",
     "text": [
      "The dimensions of a base depend on its type:\n",
      "\n",
      "* **Home base:** 17 inches square with two corners removed. One edge is 17 inches, two adjacent sides are 8 1/2 inches, and the remaining two sides are 12 inches.\n",
      "* **First, second, and third bases:** 18 inches square, between 3 and 5 inches thick. \n",
      "\n"
     ]
    }
   ],
   "source": [
    "answer = llm.generate_content(prompt).text\n",
    "print(answer)"
   ]
  },
  {
   "cell_type": "code",
   "execution_count": null,
   "id": "a51c62fd-a664-4eaa-affb-78e40b3274c9",
   "metadata": {},
   "outputs": [],
   "source": []
  }
 ],
 "metadata": {
  "environment": {
   "kernel": "conda-base-py",
   "name": "workbench-notebooks.m125",
   "type": "gcloud",
   "uri": "us-docker.pkg.dev/deeplearning-platform-release/gcr.io/workbench-notebooks:m125"
  },
  "kernelspec": {
   "display_name": "Python 3 (ipykernel) (Local)",
   "language": "python",
   "name": "conda-base-py"
  },
  "language_info": {
   "codemirror_mode": {
    "name": "ipython",
    "version": 3
   },
   "file_extension": ".py",
   "mimetype": "text/x-python",
   "name": "python",
   "nbconvert_exporter": "python",
   "pygments_lexer": "ipython3",
   "version": "3.10.15"
  }
 },
 "nbformat": 4,
 "nbformat_minor": 5
}
