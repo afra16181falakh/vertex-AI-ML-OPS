{
 "cells": [
  {
   "cell_type": "markdown",
   "id": "97e038f2",
   "metadata": {},
   "source": [
    "![tracker](https://us-central1-vertex-ai-mlops-369716.cloudfunctions.net/pixel-tracking?path=statmike%2Fvertex-ai-mlops%2FWorking+With%2FDocument+AI&file=Document+AI+Processors+-+Document+Summarizer.ipynb)\n",
    "<!--- header table --->\n",
    "<table align=\"left\">\n",
    "<tr>\n",
    "  <td style=\"text-align: center\">\n",
    "    <a href=\"https://github.com/statmike/vertex-ai-mlops/blob/main/Working%20With/Document%20AI/Document%20AI%20Processors%20-%20Document%20Summarizer.ipynb\">\n",
    "      <img width=\"32px\" src=\"https://www.svgrepo.com/download/217753/github.svg\" alt=\"GitHub logo\">\n",
    "      <br>View on<br>GitHub\n",
    "    </a>\n",
    "  </td>\n",
    "  <td style=\"text-align: center\">\n",
    "    <a href=\"https://colab.research.google.com/github/statmike/vertex-ai-mlops/blob/main/Working%20With/Document%20AI/Document%20AI%20Processors%20-%20Document%20Summarizer.ipynb\">\n",
    "      <img width=\"32px\" src=\"https://www.gstatic.com/pantheon/images/bigquery/welcome_page/colab-logo.svg\" alt=\"Google Colaboratory logo\">\n",
    "      <br>Run in<br>Colab\n",
    "    </a>\n",
    "  </td>\n",
    "  <td style=\"text-align: center\">\n",
    "    <a href=\"https://console.cloud.google.com/vertex-ai/colab/import/https%3A%2F%2Fraw.githubusercontent.com%2Fstatmike%2Fvertex-ai-mlops%2Fmain%2FWorking%2520With%2FDocument%2520AI%2FDocument%2520AI%2520Processors%2520-%2520Document%2520Summarizer.ipynb\">\n",
    "      <img width=\"32px\" src=\"https://lh3.googleusercontent.com/JmcxdQi-qOpctIvWKgPtrzZdJJK-J3sWE1RsfjZNwshCFgE_9fULcNpuXYTilIR2hjwN\" alt=\"Google Cloud Colab Enterprise logo\">\n",
    "      <br>Run in<br>Colab Enterprise\n",
    "    </a>\n",
    "  </td>      \n",
    "  <td style=\"text-align: center\">\n",
    "    <a href=\"https://console.cloud.google.com/bigquery/import?url=https://github.com/statmike/vertex-ai-mlops/blob/main/Working%20With/Document%20AI/Document%20AI%20Processors%20-%20Document%20Summarizer.ipynb\">\n",
    "      <img width=\"32px\" src=\"https://www.gstatic.com/images/branding/gcpiconscolors/bigquery/v1/32px.svg\" alt=\"BigQuery logo\">\n",
    "      <br>Open in<br>BigQuery Studio\n",
    "    </a>\n",
    "  </td>\n",
    "  <td style=\"text-align: center\">\n",
    "    <a href=\"https://console.cloud.google.com/vertex-ai/workbench/deploy-notebook?download_url=https://raw.githubusercontent.com/statmike/vertex-ai-mlops/main/Working%20With/Document%20AI/Document%20AI%20Processors%20-%20Document%20Summarizer.ipynb\">\n",
    "      <img width=\"32px\" src=\"https://www.gstatic.com/images/branding/gcpiconscolors/vertexai/v1/32px.svg\" alt=\"Vertex AI logo\">\n",
    "      <br>Open in<br>Vertex AI Workbench\n",
    "    </a>\n",
    "  </td>\n",
    "</tr>\n",
    "<tr>\n",
    "  <td colspan=\"5\" style=\"text-align: right\">\n",
    "    <b>Share This On: </b> \n",
    "    <a href=\"https://www.linkedin.com/sharing/share-offsite/?url=https%3A//github.com/statmike/vertex-ai-mlops/blob/main/Working+With%2FDocument+AI/Document+AI+Processors+-+Document+Summarizer.ipynb\"><img src=\"https://upload.wikimedia.org/wikipedia/commons/8/81/LinkedIn_icon.svg\" alt=\"Linkedin Logo\" width=\"20px\"></a> \n",
    "    <a href=\"https://reddit.com/submit?url=https%3A//github.com/statmike/vertex-ai-mlops/blob/main/Working+With%2FDocument+AI/Document+AI+Processors+-+Document+Summarizer.ipynb\"><img src=\"https://redditinc.com/hubfs/Reddit%20Inc/Brand/Reddit_Logo.png\" alt=\"Reddit Logo\" width=\"20px\"></a> \n",
    "    <a href=\"https://bsky.app/intent/compose?text=https%3A//github.com/statmike/vertex-ai-mlops/blob/main/Working+With%2FDocument+AI/Document+AI+Processors+-+Document+Summarizer.ipynb\"><img src=\"https://upload.wikimedia.org/wikipedia/commons/7/7a/Bluesky_Logo.svg\" alt=\"BlueSky Logo\" width=\"20px\"></a> \n",
    "    <a href=\"https://twitter.com/intent/tweet?url=https%3A//github.com/statmike/vertex-ai-mlops/blob/main/Working+With%2FDocument+AI/Document+AI+Processors+-+Document+Summarizer.ipynb\"><img src=\"https://upload.wikimedia.org/wikipedia/commons/5/5a/X_icon_2.svg\" alt=\"X (Twitter) Logo\" width=\"20px\"></a> \n",
    "  </td>\n",
    "</tr>\n",
    "<tr>\n",
    "  <td colspan=\"5\" style=\"text-align: right\">\n",
    "    <b>Connect With Author On: </b> \n",
    "    <a href=\"https://www.linkedin.com/in/statmike\"><img src=\"https://upload.wikimedia.org/wikipedia/commons/8/81/LinkedIn_icon.svg\" alt=\"Linkedin Logo\" width=\"20px\"></a>\n",
    "    <a href=\"https://www.github.com/statmike\"><img src=\"https://www.svgrepo.com/download/217753/github.svg\" alt=\"GitHub Logo\" width=\"20px\"></a> \n",
    "    <a href=\"https://www.youtube.com/@statmike-channel\"><img src=\"https://upload.wikimedia.org/wikipedia/commons/f/fd/YouTube_full-color_icon_%282024%29.svg\" alt=\"YouTube Logo\" width=\"20px\"></a>\n",
    "    <a href=\"https://bsky.app/profile/statmike.bsky.social\"><img src=\"https://upload.wikimedia.org/wikipedia/commons/7/7a/Bluesky_Logo.svg\" alt=\"BlueSky Logo\" width=\"20px\"></a> \n",
    "    <a href=\"https://x.com/statmike\"><img src=\"https://upload.wikimedia.org/wikipedia/commons/5/5a/X_icon_2.svg\" alt=\"X (Twitter) Logo\" width=\"20px\"></a>\n",
    "  </td>\n",
    "</tr>\n",
    "</table>"
   ]
  },
  {
   "cell_type": "markdown",
   "id": "17aee4b1-542c-4ca4-8e1d-41529ea964c6",
   "metadata": {},
   "source": [
    "# Document AI Processors - Document Summarizer\n",
    "> From the [Working With Document AI](https://github.com/statmike/vertex-ai-mlops/blob/main/Working%20With/Document%20AI/readme.md) series in the [vertex-ai-mlops](https://github.com/statmike/vertex-ai-mlops/blob/main/readme.md) repository.\n",
    "\n",
    "Document AI is an API where you interact with processors to extract information from documents.  You enable the API, create an instance of a processor in your project, send in document(s), receive back JSON with the extracted information:\n",
    "\n",
    "<p align=\"center\" width=\"100%\"><center>\n",
    "    <img src=\"../../architectures/architectures/images/working with/documentai/readme/high_level.png\">\n",
    "</center></p>\n",
    "\n",
    "This notebook uses the [Summarizer parser](https://cloud.google.com/document-ai/docs/processors-list#processor_SUMMARIZER) which uses generative AI to help create a summary of the document.\n",
    "\n",
    "There are parameters that can be used to customize the parser but they are setup with the parser rather than on the request for parsing.  \n",
    "\n",
    "---\n",
    "\n",
    "**Processing**\n",
    "\n",
    "A prior workflow covered all the ways to process a document, or many documents, using Python as the client: [Document AI - Process Documents](./Document%20AI%20-%20Process%20Documents.ipynb). It also shows how to store and retrieve responses from GCS and BigQuery.\n",
    "\n",
    "---\n",
    "\n",
    "**Responses**\n",
    "\n",
    "There are many ways to process the responses from Document AI to extract the parts needed for a downstream applicaiton: paragraphs, tokens, entities, tables, much more!  The choice will depend on the application workflow and if a single document is being processed, a batch of documents, or an entire history of documents is being processed.  A prior workflow covered three common ways to process responses:\n",
    "[Document AI - Process Responses](./Document%20AI%20-%20Process%20Responses.ipynb)\n",
    "- Extraction: Python With Document AI Client\n",
    "- Extraction: Python With Document AI Toolbox\n",
    "- Extraction: Directly In BigQuery With SQL\n",
    "\n",
    "---\n",
    "\n",
    "**References:**\n",
    "- [Python Client For Document AI](https://cloud.google.com/python/docs/reference/documentai/latest)\n",
    "    - [documentai.Document()](https://cloud.google.com/python/docs/reference/documentai/latest/google.cloud.documentai_v1.types.Document)\n",
    "- [Document AI Overview](https://cloud.google.com/document-ai/docs/overview)\n",
    "    - [Handling the processing response](https://cloud.google.com/document-ai/docs/handle-response)"
   ]
  },
  {
   "cell_type": "markdown",
   "id": "fa25b40e-0d2d-430a-b3d3-cac468a45cdb",
   "metadata": {
    "id": "od_UkDpvRmgD"
   },
   "source": [
    "---\n",
    "## Colab Setup\n",
    "\n",
    "To run this notebook in Colab click [![Open In Colab](https://colab.research.google.com/assets/colab-badge.svg)](https://colab.research.google.com/github/statmike/vertex-ai-mlops/blob/main/Working%20With/Document%20AI/Document%20AI%20Processors%20-%20OCR%20Parser%20With%20Math%20Type.ipynb) and run the cells in this section.  Otherwise, skip this section.\n",
    "\n",
    "This cell will authenticate to GCP (follow prompts in the popup)."
   ]
  },
  {
   "cell_type": "code",
   "execution_count": 1,
   "id": "ec0fbca2-0a74-4a36-b044-fe2fe706e5a1",
   "metadata": {
    "executionInfo": {
     "elapsed": 195,
     "status": "ok",
     "timestamp": 1683726184843,
     "user": {
      "displayName": "Mike Henderson",
      "userId": "07691629187611687318"
     },
     "user_tz": 240
    },
    "id": "8UO9FnqyKBlF"
   },
   "outputs": [],
   "source": [
    "PROJECT_ID = 'statmike-mlops-349915' # replace with project ID"
   ]
  },
  {
   "cell_type": "code",
   "execution_count": 2,
   "id": "2640cd9d-cf7d-4ba9-8e52-8521db5df139",
   "metadata": {
    "colab": {
     "base_uri": "https://localhost:8080/"
    },
    "executionInfo": {
     "elapsed": 68869,
     "status": "ok",
     "timestamp": 1683726253709,
     "user": {
      "displayName": "Mike Henderson",
      "userId": "07691629187611687318"
     },
     "user_tz": 240
    },
    "id": "N98-KK7LRkjm",
    "outputId": "09ec5008-0def-4e1a-c349-c598ee752f78"
   },
   "outputs": [],
   "source": [
    "try:\n",
    "    import google.colab\n",
    "    from google.colab import auth\n",
    "    auth.authenticate_user()\n",
    "    !gcloud config set project {PROJECT_ID}\n",
    "except Exception:\n",
    "    pass"
   ]
  },
  {
   "cell_type": "markdown",
   "id": "729d687c-61cf-474d-ac56-75cd21d73844",
   "metadata": {},
   "source": [
    "---\n",
    "## Installs and API Enablement\n",
    "\n",
    "The clients packages may need installing in this environment. "
   ]
  },
  {
   "cell_type": "markdown",
   "id": "018f120e-cb0b-4da6-9c90-fa7a0d1c94e3",
   "metadata": {},
   "source": [
    "### Installs (If Needed)"
   ]
  },
  {
   "cell_type": "code",
   "execution_count": 3,
   "id": "0c57d299-9c29-4de6-9937-3a97b0c008d0",
   "metadata": {},
   "outputs": [],
   "source": [
    "# tuples of (import name, install name)\n",
    "packages = [\n",
    "    ('google.cloud.documentai', 'google-cloud-documentai'),\n",
    "    ('PIL', 'Pillow'),\n",
    "    ('PyPDF2', 'PyPDF2')\n",
    "]\n",
    "\n",
    "import importlib\n",
    "install = False\n",
    "for package in packages:\n",
    "    if not importlib.util.find_spec(package[0]):\n",
    "        print(f'installing package {package[1]}')\n",
    "        install = True\n",
    "        !pip install {package[1]} -U -q --user"
   ]
  },
  {
   "cell_type": "markdown",
   "id": "618d416d-b046-46ce-9a9b-d448bd98aa01",
   "metadata": {},
   "source": [
    "### API Enablement"
   ]
  },
  {
   "cell_type": "code",
   "execution_count": 4,
   "id": "081f1989-befc-4711-b309-872d6d3145f8",
   "metadata": {},
   "outputs": [],
   "source": [
    "!gcloud services enable documentai.googleapis.com"
   ]
  },
  {
   "cell_type": "markdown",
   "id": "da4521e9-5cbf-47ca-9c0e-48d86f3b2828",
   "metadata": {},
   "source": [
    "### Restart Kernel (If Installs Occured)\n",
    "\n",
    "After a kernel restart the code submission can start with the next cell after this one."
   ]
  },
  {
   "cell_type": "code",
   "execution_count": 5,
   "id": "1e16c747-c195-4d30-be91-f36b4158ec15",
   "metadata": {},
   "outputs": [],
   "source": [
    "if install:\n",
    "    import IPython\n",
    "    app = IPython.Application.instance()\n",
    "    app.kernel.do_shutdown(True)"
   ]
  },
  {
   "cell_type": "markdown",
   "id": "d08416e7-825b-4566-9ce9-ba4c8830b897",
   "metadata": {
    "id": "appt8-yVRtJ1"
   },
   "source": [
    "---\n",
    "## Setup"
   ]
  },
  {
   "cell_type": "markdown",
   "id": "4e191e62-d472-4dbe-84b4-e274f7aefb99",
   "metadata": {
    "id": "63mx2EozRxFP"
   },
   "source": [
    "Inputs"
   ]
  },
  {
   "cell_type": "code",
   "execution_count": 7,
   "id": "fbb4033b-0a65-4d5b-8637-37308714cedb",
   "metadata": {
    "colab": {
     "base_uri": "https://localhost:8080/",
     "height": 35
    },
    "executionInfo": {
     "elapsed": 2124,
     "status": "ok",
     "timestamp": 1683726390544,
     "user": {
      "displayName": "Mike Henderson",
      "userId": "07691629187611687318"
     },
     "user_tz": 240
    },
    "id": "xzcoXjM5Rky5",
    "outputId": "b3bdcbc1-70d5-472e-aea2-42c74a42efde"
   },
   "outputs": [
    {
     "data": {
      "text/plain": [
       "'statmike-mlops-349915'"
      ]
     },
     "execution_count": 7,
     "metadata": {},
     "output_type": "execute_result"
    }
   ],
   "source": [
    "project = !gcloud config get-value project\n",
    "PROJECT_ID = project[0]\n",
    "PROJECT_ID"
   ]
  },
  {
   "cell_type": "code",
   "execution_count": 8,
   "id": "76f36d6b-ecc1-4766-9620-af4f2a4570f5",
   "metadata": {
    "executionInfo": {
     "elapsed": 2,
     "status": "ok",
     "timestamp": 1683726390712,
     "user": {
      "displayName": "Mike Henderson",
      "userId": "07691629187611687318"
     },
     "user_tz": 240
    },
    "id": "IxWrFtqYMfku"
   },
   "outputs": [],
   "source": [
    "REGION = 'us-central1'\n",
    "SERIES = 'working-with-docai'\n",
    "EXPERIMENT = 'summarizer'"
   ]
  },
  {
   "cell_type": "markdown",
   "id": "8242ca5d-0626-40da-bfc2-e9b26407e32d",
   "metadata": {
    "id": "LuajVwCiO6Yg"
   },
   "source": [
    "Packages"
   ]
  },
  {
   "cell_type": "code",
   "execution_count": 9,
   "id": "2de76d2c-df29-4b4c-990a-024455944adb",
   "metadata": {
    "executionInfo": {
     "elapsed": 17761,
     "status": "ok",
     "timestamp": 1683726409304,
     "user": {
      "displayName": "Mike Henderson",
      "userId": "07691629187611687318"
     },
     "user_tz": 240
    },
    "id": "LVC7zzSLRk2C"
   },
   "outputs": [],
   "source": [
    "import os, io, json\n",
    "\n",
    "import PyPDF2\n",
    "import IPython\n",
    "import PIL, PIL.ImageFont, PIL.Image, PIL.ImageDraw\n",
    "\n",
    "from google.cloud import documentai"
   ]
  },
  {
   "cell_type": "markdown",
   "id": "fd64f26f-ad36-42ac-b1f0-7d90b8c12be1",
   "metadata": {
    "id": "EyAVFG9TO9H-"
   },
   "source": [
    "Clients"
   ]
  },
  {
   "cell_type": "code",
   "execution_count": 10,
   "id": "7135f867-d6d4-4c41-97fe-16c2c8022990",
   "metadata": {
    "executionInfo": {
     "elapsed": 19,
     "status": "ok",
     "timestamp": 1683726409306,
     "user": {
      "displayName": "Mike Henderson",
      "userId": "07691629187611687318"
     },
     "user_tz": 240
    },
    "id": "L0RPE13LOZce"
   },
   "outputs": [],
   "source": [
    "# document AI client\n",
    "LOCATION = REGION.split('-')[0]\n",
    "docai = documentai.DocumentProcessorServiceClient(\n",
    "    client_options = dict(api_endpoint = f\"{LOCATION}-documentai.googleapis.com\")\n",
    ")"
   ]
  },
  {
   "cell_type": "markdown",
   "id": "875c6443-785d-4897-8ac5-4d2fa1de6b7e",
   "metadata": {},
   "source": [
    "---\n",
    "## Get The Document\n",
    "\n",
    "This section prepares a document for processing with online processing.\n",
    "\n",
    "|Document Name|Link|\n",
    "|---|---|\n",
    "|`../shared files/docs/sports/Baseball - Wikipedia.pdf`|[https://en.wikipedia.org/wiki/Baseball](https://en.wikipedia.org/wiki/Baseball)|\n",
    "\n",
    "If you are working from a clone of this notebooks repository then the document is already present. The following cell checks for the documents folder, `../shared_files/docs`, and if it is missing gets the document used in this workflow (`wget`):"
   ]
  },
  {
   "cell_type": "code",
   "execution_count": 11,
   "id": "4d736e81-afda-4c6f-9646-6e2ad2b77065",
   "metadata": {},
   "outputs": [
    {
     "name": "stdout",
     "output_type": "stream",
     "text": [
      "Document Found at `../shared files/docs/sports/Baseball - Wikipedia.pdf`\n"
     ]
    }
   ],
   "source": [
    "file = '../shared files/docs/sports/Baseball - Wikipedia.pdf'\n",
    "\n",
    "if not os.path.exists(file):\n",
    "    print('Retrieving document...')\n",
    "    if not os.path.exists(os.path.dirname(file)):\n",
    "      os.makedirs(os.path.dirname(file))\n",
    "    import requests, urllib.parse\n",
    "    r = requests.get(f'https://raw.githubusercontent.com/statmike/vertex-ai-mlops/main/Working%20With/{urllib.parse.quote(file[3:])}')\n",
    "    open(file, 'wb').write(r.content)\n",
    "    print(f'Document now at `{file}`')\n",
    "else:\n",
    "    print(f'Document Found at `{file}`')"
   ]
  },
  {
   "cell_type": "markdown",
   "id": "e07dee73-6192-4102-81c0-5f7ef18d6a00",
   "metadata": {
    "tags": []
   },
   "source": [
    "---\n",
    "## Create/Get A Processor\n",
    "\n",
    "For this workflow we will use the [Summarizer parser](https://cloud.google.com/document-ai/docs/processors-list#processor_SUMMARIZER). We can check for an existing processor in the project and if it is not present then create one.  The processor will be connected with Python variable `PARSER` and referred to as a parser as it is used.\n",
    "\n",
    "Get the type and version from the list of available processors: https://cloud.google.com/document-ai/docs/processors-list"
   ]
  },
  {
   "cell_type": "markdown",
   "id": "29f13852-d031-498e-8d48-c6d8a74a076a",
   "metadata": {},
   "source": [
    "What are the processors already created in this project environment?"
   ]
  },
  {
   "cell_type": "code",
   "execution_count": 12,
   "id": "a4c9ea33-9658-44fa-8941-fc41a7d8a2c3",
   "metadata": {},
   "outputs": [
    {
     "data": {
      "text/plain": [
       "4"
      ]
     },
     "execution_count": 12,
     "metadata": {},
     "output_type": "execute_result"
    }
   ],
   "source": [
    "processors = list(docai.list_processors(parent = f'projects/{PROJECT_ID}/locations/{LOCATION}'))\n",
    "len(processors)"
   ]
  },
  {
   "cell_type": "code",
   "execution_count": 13,
   "id": "f4fd2a2b-e4e4-4d37-abe5-9cb363a56d87",
   "metadata": {},
   "outputs": [],
   "source": [
    "TYPE = 'SUMMARY_PROCESSOR'\n",
    "VERSION = 'pretrained-foundation-model-v1.0-2023-08-22'"
   ]
  },
  {
   "cell_type": "markdown",
   "id": "f6c92aef-a1ed-4b61-9274-1baf98a4a217",
   "metadata": {},
   "source": [
    "Get an existing processor:"
   ]
  },
  {
   "cell_type": "code",
   "execution_count": 14,
   "id": "ab1c4976-b093-4945-a06e-db55c5da0e64",
   "metadata": {},
   "outputs": [
    {
     "name": "stdout",
     "output_type": "stream",
     "text": [
      "Need to create a processor for the desired type and version: SUMMARY_PROCESSOR, pretrained-foundation-model-v1.0-2023-08-22\n"
     ]
    }
   ],
   "source": [
    "PARSER = ''\n",
    "for processor in processors:\n",
    "    if processor.type_ == TYPE and processor.default_processor_version.split('/')[-1] == VERSION:\n",
    "        PARSER = processor\n",
    "        break\n",
    "        \n",
    "if PARSER:\n",
    "    print(f'There is an existing processor with the desire type and version in PARSER = {PARSER.display_name}')\n",
    "else:\n",
    "    print(f'Need to create a processor for the desired type and version: {TYPE}, {VERSION}')"
   ]
  },
  {
   "cell_type": "markdown",
   "id": "9a09a40d-5634-480b-81f9-32b985314930",
   "metadata": {},
   "source": [
    "Create the processor if an existing one was not found to match:"
   ]
  },
  {
   "cell_type": "code",
   "execution_count": 16,
   "id": "d7e85542-7ea7-4a8f-87db-03c182847c56",
   "metadata": {},
   "outputs": [
    {
     "name": "stdout",
     "output_type": "stream",
     "text": [
      "Processor created and in PARSER variable with display name = working-with-docai-summarizer\n"
     ]
    }
   ],
   "source": [
    "if not PARSER:\n",
    "    PARSER = docai.create_processor(\n",
    "        parent = f'projects/{PROJECT_ID}/locations/{LOCATION}',\n",
    "        processor = documentai.Processor(\n",
    "            display_name = f'{SERIES}-{EXPERIMENT}',\n",
    "            type_ = TYPE\n",
    "        )\n",
    "    )\n",
    "    set_default = docai.set_default_processor_version(\n",
    "        request = documentai.SetDefaultProcessorVersionRequest(\n",
    "            processor = PARSER.name,\n",
    "            default_processor_version = f'{PARSER.name}/processorVersions/{VERSION}'\n",
    "        )\n",
    "    )\n",
    "    set_default.result()\n",
    "    PARSER = docai.get_processor(\n",
    "        name = PARSER.name\n",
    "    )\n",
    "    print(f'Processor created and in PARSER variable with display name = {PARSER.display_name}')"
   ]
  },
  {
   "cell_type": "markdown",
   "id": "50d0b469-398e-4488-a0e5-0a5ee85f67cc",
   "metadata": {},
   "source": [
    "---\n",
    "## Online Processing (single document)\n",
    "\n",
    "> A prior workflow covered all the ways to process a document, or many documents, using Python as the client: [Document AI - Process Documents](./Document%20AI%20-%20Process%20Documents.ipynb). It also shows how to store and retrieve responses from GCS and BigQuery.\n",
    "\n",
    "This section uses one of the three online processing methods: `inline_document` where the document is provided as a bytes object.\n",
    "\n",
    "> NOTE: The [Summarizer Processor](https://cloud.google.com/document-ai/docs/processors-list#processor_SUMMARIZER) has a page limits of 15 for online, and 250 for batch processing.\n",
    "\n",
    "The following is the Python client reference to use for this online processing section:\n",
    "- [google.cloud.documentai.DocumentProcessorServiceClient.process_document()](https://cloud.google.com/python/docs/reference/documentai/latest/google.cloud.documentai_v1.services.document_processor_service.DocumentProcessorServiceClient#google_cloud_documentai_v1_services_document_processor_service_DocumentProcessorServiceClient_process_document)"
   ]
  },
  {
   "cell_type": "markdown",
   "id": "d036d676-c8d2-42d9-a754-d06a5a2adf66",
   "metadata": {},
   "source": [
    "Using the processor stored in `PARSER` from above:"
   ]
  },
  {
   "cell_type": "code",
   "execution_count": 17,
   "id": "61af513c-b2a7-4be5-a690-d439cf283ea5",
   "metadata": {},
   "outputs": [
    {
     "data": {
      "text/plain": [
       "'projects/1026793852137/locations/us/processors/8f2e1b8e4b2c6604'"
      ]
     },
     "execution_count": 17,
     "metadata": {},
     "output_type": "execute_result"
    }
   ],
   "source": [
    "PARSER.name"
   ]
  },
  {
   "cell_type": "markdown",
   "id": "8e10b686-9acd-46c0-a633-512a87d0499b",
   "metadata": {},
   "source": [
    "Read the document to a bytes object:"
   ]
  },
  {
   "cell_type": "code",
   "execution_count": 18,
   "id": "0ea3c21c-4ce4-4ecc-8d96-d9e929c8741b",
   "metadata": {},
   "outputs": [],
   "source": [
    "with open(file, 'rb') as f:\n",
    "    local_doc = f.read()"
   ]
  },
  {
   "cell_type": "code",
   "execution_count": 19,
   "id": "518538f0-64e4-41b2-bb1c-df3ba68377ca",
   "metadata": {},
   "outputs": [
    {
     "data": {
      "text/plain": [
       "bytes"
      ]
     },
     "execution_count": 19,
     "metadata": {},
     "output_type": "execute_result"
    }
   ],
   "source": [
    "type(local_doc)"
   ]
  },
  {
   "cell_type": "markdown",
   "id": "1abd03c8-fd66-45c8-b137-5b219c27f76c",
   "metadata": {},
   "source": [
    "---\n",
    "### Document as bytes: `inline_document`\n",
    "\n",
    "Reference:\n",
    "- [documentai.ProcessRequest()](https://cloud.google.com/python/docs/reference/documentai/latest/google.cloud.documentai_v1.types.ProcessRequest)\n",
    "    - (This One) `inline_document` = [documentai.Document()](https://cloud.google.com/python/docs/reference/documentai/latest/google.cloud.documentai_v1.types.Document)\n",
    "    - `raw_document` = [documentai.RawDocument()](https://cloud.google.com/python/docs/reference/documentai/latest/google.cloud.documentai_v1.types.RawDocument)\n",
    "    - `gcs_document` = [documentai.GcsDocument()](https://cloud.google.com/python/docs/reference/documentai/latest/google.cloud.documentai_v1.types.GcsDocument)"
   ]
  },
  {
   "cell_type": "code",
   "execution_count": 31,
   "id": "f4d3b0b3-b629-49d0-b8e4-09ab89b2f1f3",
   "metadata": {},
   "outputs": [],
   "source": [
    "response = docai.process_document(\n",
    "    request = documentai.ProcessRequest(\n",
    "        name = PARSER.name,\n",
    "        inline_document = documentai.Document(\n",
    "            content = local_doc,\n",
    "            mime_type = 'application/pdf'\n",
    "        ),\n",
    "        process_options = documentai.ProcessOptions(\n",
    "            from_start = 3\n",
    "        )\n",
    "    )\n",
    ")"
   ]
  },
  {
   "cell_type": "code",
   "execution_count": 27,
   "id": "baf8ff36-41a3-43dd-8023-6338eb8ec29c",
   "metadata": {},
   "outputs": [
    {
     "data": {
      "text/plain": [
       "3"
      ]
     },
     "execution_count": 27,
     "metadata": {},
     "output_type": "execute_result"
    }
   ],
   "source": [
    "len(response.document.pages)"
   ]
  },
  {
   "cell_type": "code",
   "execution_count": 28,
   "id": "2b0d839f-a54c-4294-9649-af5386865eff",
   "metadata": {},
   "outputs": [
    {
     "name": "stdout",
     "output_type": "stream",
     "text": [
      "10/27/23, 9:22 AM\n",
      "Baseball - Wikipedia\n",
      "WIKIPEDIA\n",
      "The Free Encyclopedia\n",
      "Toggle the table of contents\n",
      "Baseball\n",
      "✰ B\n",
      "ETTS\n",
      "Baseball is a bat-and-ball sport played between two\n",
      "Baseball\n",
      "teams of nine players each, taking turns batting and\n",
      "fielding. The game\n"
     ]
    }
   ],
   "source": [
    "print(response.document.text[0:250])"
   ]
  },
  {
   "cell_type": "markdown",
   "id": "aa37245b-52b8-46e0-89d9-e4b91b9414f4",
   "metadata": {},
   "source": [
    "---\n",
    "## Extraction Methods\n",
    "\n",
    "Below, the Python Client for Document AI is used to extract the parts of the OCR response.  There are other methods that could be better for different application flows.  The workflow [Document AI - Process Responses](./Document%20AI%20-%20Process%20Responses.ipynb) covers additional methods.\n",
    "- Extraction: Python With Document AI Client\n",
    "- Extraction: Python With Document AI Toolbox\n",
    "- Extraction: Directly In BigQuery With SQL"
   ]
  },
  {
   "cell_type": "markdown",
   "id": "568a6d22-d70a-4891-a0e3-38a2dd12a584",
   "metadata": {},
   "source": [
    "---\n",
    "## Extraction: Python With Document AI Client\n",
    "\n",
    "The response from online processing is a [`documentai.ProcessResponse()`](https://cloud.google.com/python/docs/reference/documentai/latest/google.cloud.documentai_v1.types.ProcessResponse) which has a `document` attribute that is a [`documentai.Document()`](https://cloud.google.com/python/docs/reference/documentai/latest/google.cloud.documentai_v1.types.Document) protobuf.  This object can be directly used to extract elements of the document.  It can also be converted to other data types that can be iterated in Python:\n",
    "- JSON with `response.document.to_json()`\n",
    "- Dictionary with `response.document.to_dict()`\n",
    "- > Note: These follow the `google.protobuf.json_format` - [reference](https://googleapis.dev/python/protobuf/latest/google/protobuf/json_format.html).  That means the parameters of `.to_dict()` are the same as `google.protobuf.json_format.MessageToDict()` which includes `use_integer_for_enums` which should be set `= False` to get the text representation of enum values.\n",
    "\n",
    "The workflow has a helpful guide to the structure of the `documentai.Document` object in the [readme.md](./readme.md)."
   ]
  },
  {
   "cell_type": "markdown",
   "id": "c22acea0-7247-427e-8a4d-4224d7496317",
   "metadata": {},
   "source": [
    "### Entities\n",
    "\n",
    "Entities are extracted key:value pairs from the overall document.  Each parser has specific entities it is trained to detect and return.  In this case, the Summarizer Parser, the entity detected is actually a generative AI preparaed summary."
   ]
  },
  {
   "cell_type": "code",
   "execution_count": 32,
   "id": "02b06294-2bd1-49f7-8358-cb991ee8f17a",
   "metadata": {},
   "outputs": [
    {
     "data": {
      "text/plain": [
       "1"
      ]
     },
     "execution_count": 32,
     "metadata": {},
     "output_type": "execute_result"
    }
   ],
   "source": [
    "len(response.document.entities)"
   ]
  },
  {
   "cell_type": "code",
   "execution_count": 33,
   "id": "3c1e2523-4023-4535-93dd-8b56e8d0abae",
   "metadata": {},
   "outputs": [
    {
     "data": {
      "text/plain": [
       "type_: \"summary\"\n",
       "mention_text: \" \\342\\200\\242 Baseball is a bat-and-ball sport played between two teams of nine players each, taking turns batting and fielding. \\n\\342\\200\\242 The objective of the offensive team (batting team) is to hit the ball into the field of play, away from the other team\\'s players, allowing its players to run the bases, having them advance counter-clockwise around four bases to score what are called \\\"runs\\\". \\n\\342\\200\\242 The objective of the defensive team (referred to as the fielding team) is to prevent batters from becoming runners, and to prevent runners\\' advance around the bases. \\n\\342\\200\\242 Baseball evolved from older bat-and-ball games already being played in England by the mid-18th century. \\n\\342\\200\\242 This game was brought by immigrants to North America, where the modern version developed. \\n\\342\\200\\242 In Major Le gue Baseball (MLB), the highest level of professional baseball in the United States and Canada, teams are divided into the National League (NL) and American League (AL), each with three divisions: East, West, and Central. \\n\\342\\200\\242 The MLB champion is determined by playoffs that culminate in the World Series. \\n\\342\\200\\242 The top level of play is similarly split in Japan between the Central and Pacific Leagues and in Cuba between the West League and East League. \\n\\342\\200\\242 The World Baseball Classic, organized by the World Baseball Softball Confederation, is the major international competition of the sport and attracts the top national teams from around the world. \\n\\342\\200\\242 Baseball was played at the Olympic Games from 1992 to 2008, and was reinstated in 2020.\"\n",
       "normalized_value {\n",
       "  text: \" \\342\\200\\242 Baseball is a bat-and-ball sport played between two teams of nine players each, taking turns batting and fielding. \\n\\342\\200\\242 The objective of the offensive team (batting team) is to hit the ball into the field of play, away from the other team\\'s players, allowing its players to run the bases, having them advance counter-clockwise around four bases to score what are called \\\"runs\\\". \\n\\342\\200\\242 The objective of the defensive team (referred to as the fielding team) is to prevent batters from becoming runners, and to prevent runners\\' advance around the bases. \\n\\342\\200\\242 Baseball evolved from older bat-and-ball games already being played in England by the mid-18th century. \\n\\342\\200\\242 This game was brought by immigrants to North America, where the modern version developed. \\n\\342\\200\\242 In Major Le gue Baseball (MLB), the highest level of professional baseball in the United States and Canada, teams are divided into the National League (NL) and American League (AL), each with three divisions: East, West, and Central. \\n\\342\\200\\242 The MLB champion is determined by playoffs that culminate in the World Series. \\n\\342\\200\\242 The top level of play is similarly split in Japan between the Central and Pacific Leagues and in Cuba between the West League and East League. \\n\\342\\200\\242 The World Baseball Classic, organized by the World Baseball Softball Confederation, is the major international competition of the sport and attracts the top national teams from around the world. \\n\\342\\200\\242 Baseball was played at the Olympic Games from 1992 to 2008, and was reinstated in 2020.\"\n",
       "}"
      ]
     },
     "execution_count": 33,
     "metadata": {},
     "output_type": "execute_result"
    }
   ],
   "source": [
    "response.document.entities[0]"
   ]
  },
  {
   "cell_type": "code",
   "execution_count": 35,
   "id": "a0df35a1-7723-47e8-9e06-8684ce77d5ce",
   "metadata": {},
   "outputs": [
    {
     "name": "stdout",
     "output_type": "stream",
     "text": [
      " • Baseball is a bat-and-ball sport played between two teams of nine players each, taking turns batting and fielding. \n",
      "• The objective of the offensive team (batting team) is to hit the ball into the field of play, away from the other team's players, allowing its players to run the bases, having them advance counter-clockwise around four bases to score what are called \"runs\". \n",
      "• The objective of the defensive team (referred to as the fielding team) is to prevent batters from becoming runners, and to prevent runners' advance around the bases. \n",
      "• Baseball evolved from older bat-and-ball games already being played in England by the mid-18th century. \n",
      "• This game was brought by immigrants to North America, where the modern version developed. \n",
      "• In Major Le gue Baseball (MLB), the highest level of professional baseball in the United States and Canada, teams are divided into the National League (NL) and American League (AL), each with three divisions: East, West, and Central. \n",
      "• The MLB champion is determined by playoffs that culminate in the World Series. \n",
      "• The top level of play is similarly split in Japan between the Central and Pacific Leagues and in Cuba between the West League and East League. \n",
      "• The World Baseball Classic, organized by the World Baseball Softball Confederation, is the major international competition of the sport and attracts the top national teams from around the world. \n",
      "• Baseball was played at the Olympic Games from 1992 to 2008, and was reinstated in 2020.\n"
     ]
    }
   ],
   "source": [
    "print(response.document.entities[0].normalized_value.text)"
   ]
  },
  {
   "cell_type": "code",
   "execution_count": null,
   "id": "062e1dab-1512-4807-93a0-ac6874c287dc",
   "metadata": {},
   "outputs": [],
   "source": []
  }
 ],
 "metadata": {
  "environment": {
   "kernel": "conda-root-py",
   "name": "workbench-notebooks.m113",
   "type": "gcloud",
   "uri": "gcr.io/deeplearning-platform-release/workbench-notebooks:m113"
  },
  "kernelspec": {
   "display_name": "Python 3 (ipykernel) (Local)",
   "language": "python",
   "name": "conda-root-py"
  },
  "language_info": {
   "codemirror_mode": {
    "name": "ipython",
    "version": 3
   },
   "file_extension": ".py",
   "mimetype": "text/x-python",
   "name": "python",
   "nbconvert_exporter": "python",
   "pygments_lexer": "ipython3",
   "version": "3.10.13"
  }
 },
 "nbformat": 4,
 "nbformat_minor": 5
}
