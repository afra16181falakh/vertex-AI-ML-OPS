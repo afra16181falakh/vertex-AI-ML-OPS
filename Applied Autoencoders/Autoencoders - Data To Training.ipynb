{
 "cells": [
  {
   "cell_type": "markdown",
   "id": "06f0af21",
   "metadata": {},
   "source": [
    "![tracker](https://us-central1-vertex-ai-mlops-369716.cloudfunctions.net/pixel-tracking?path=statmike%2Fvertex-ai-mlops%2FApplied+Autoencoders&file=Autoencoders+-+Data+To+Training.ipynb)\n",
    "<!--- header table --->\n",
    "<table align=\"left\">\n",
    "<tr>\n",
    "  <td style=\"text-align: center\">\n",
    "    <a href=\"https://github.com/statmike/vertex-ai-mlops/blob/main/Applied%20Autoencoders/Autoencoders%20-%20Data%20To%20Training.ipynb\">\n",
    "      <img width=\"32px\" src=\"https://www.svgrepo.com/download/217753/github.svg\" alt=\"GitHub logo\">\n",
    "      <br>View on<br>GitHub\n",
    "    </a>\n",
    "  </td>\n",
    "  <td style=\"text-align: center\">\n",
    "    <a href=\"https://colab.research.google.com/github/statmike/vertex-ai-mlops/blob/main/Applied%20Autoencoders/Autoencoders%20-%20Data%20To%20Training.ipynb\">\n",
    "      <img width=\"32px\" src=\"https://www.gstatic.com/pantheon/images/bigquery/welcome_page/colab-logo.svg\" alt=\"Google Colaboratory logo\">\n",
    "      <br>Run in<br>Colab\n",
    "    </a>\n",
    "  </td>\n",
    "  <td style=\"text-align: center\">\n",
    "    <a href=\"https://console.cloud.google.com/vertex-ai/colab/import/https%3A%2F%2Fraw.githubusercontent.com%2Fstatmike%2Fvertex-ai-mlops%2Fmain%2FApplied%2520Autoencoders%2FAutoencoders%2520-%2520Data%2520To%2520Training.ipynb\">\n",
    "      <img width=\"32px\" src=\"https://lh3.googleusercontent.com/JmcxdQi-qOpctIvWKgPtrzZdJJK-J3sWE1RsfjZNwshCFgE_9fULcNpuXYTilIR2hjwN\" alt=\"Google Cloud Colab Enterprise logo\">\n",
    "      <br>Run in<br>Colab Enterprise\n",
    "    </a>\n",
    "  </td>      \n",
    "  <td style=\"text-align: center\">\n",
    "    <a href=\"https://console.cloud.google.com/bigquery/import?url=https://github.com/statmike/vertex-ai-mlops/blob/main/Applied%20Autoencoders/Autoencoders%20-%20Data%20To%20Training.ipynb\">\n",
    "      <img width=\"32px\" src=\"https://www.gstatic.com/images/branding/gcpiconscolors/bigquery/v1/32px.svg\" alt=\"BigQuery logo\">\n",
    "      <br>Open in<br>BigQuery Studio\n",
    "    </a>\n",
    "  </td>\n",
    "  <td style=\"text-align: center\">\n",
    "    <a href=\"https://console.cloud.google.com/vertex-ai/workbench/deploy-notebook?download_url=https://raw.githubusercontent.com/statmike/vertex-ai-mlops/main/Applied%20Autoencoders/Autoencoders%20-%20Data%20To%20Training.ipynb\">\n",
    "      <img width=\"32px\" src=\"https://www.gstatic.com/images/branding/gcpiconscolors/vertexai/v1/32px.svg\" alt=\"Vertex AI logo\">\n",
    "      <br>Open in<br>Vertex AI Workbench\n",
    "    </a>\n",
    "  </td>\n",
    "</tr>\n",
    "<tr>\n",
    "  <td colspan=\"5\" style=\"text-align: right\">\n",
    "    <b>Share This On: </b> \n",
    "    <a href=\"https://www.linkedin.com/sharing/share-offsite/?url=https://github.com/statmike/vertex-ai-mlops/blob/main/Applied%2520Autoencoders/Autoencoders%2520-%2520Data%2520To%2520Training.ipynb\"><img src=\"https://upload.wikimedia.org/wikipedia/commons/8/81/LinkedIn_icon.svg\" alt=\"Linkedin Logo\" width=\"20px\"></a> \n",
    "    <a href=\"https://reddit.com/submit?url=https://github.com/statmike/vertex-ai-mlops/blob/main/Applied%2520Autoencoders/Autoencoders%2520-%2520Data%2520To%2520Training.ipynb\"><img src=\"https://redditinc.com/hubfs/Reddit%20Inc/Brand/Reddit_Logo.png\" alt=\"Reddit Logo\" width=\"20px\"></a> \n",
    "    <a href=\"https://bsky.app/intent/compose?text=https://github.com/statmike/vertex-ai-mlops/blob/main/Applied%2520Autoencoders/Autoencoders%2520-%2520Data%2520To%2520Training.ipynb\"><img src=\"https://upload.wikimedia.org/wikipedia/commons/7/7a/Bluesky_Logo.svg\" alt=\"BlueSky Logo\" width=\"20px\"></a> \n",
    "    <a href=\"https://twitter.com/intent/tweet?url=https://github.com/statmike/vertex-ai-mlops/blob/main/Applied%2520Autoencoders/Autoencoders%2520-%2520Data%2520To%2520Training.ipynb\"><img src=\"https://upload.wikimedia.org/wikipedia/commons/5/5a/X_icon_2.svg\" alt=\"X (Twitter) Logo\" width=\"20px\"></a> \n",
    "  </td>\n",
    "</tr>\n",
    "<tr>\n",
    "  <td colspan=\"5\" style=\"text-align: right\">\n",
    "    <b>Connect With Author On: </b> \n",
    "    <a href=\"https://www.linkedin.com/in/statmike\"><img src=\"https://upload.wikimedia.org/wikipedia/commons/8/81/LinkedIn_icon.svg\" alt=\"Linkedin Logo\" width=\"20px\"></a>\n",
    "    <a href=\"https://www.github.com/statmike\"><img src=\"https://www.svgrepo.com/download/217753/github.svg\" alt=\"GitHub Logo\" width=\"20px\"></a> \n",
    "    <a href=\"https://www.youtube.com/@statmike-channel\"><img src=\"https://upload.wikimedia.org/wikipedia/commons/f/fd/YouTube_full-color_icon_%282024%29.svg\" alt=\"YouTube Logo\" width=\"20px\"></a>\n",
    "    <a href=\"https://bsky.app/profile/statmike.bsky.social\"><img src=\"https://upload.wikimedia.org/wikipedia/commons/7/7a/Bluesky_Logo.svg\" alt=\"BlueSky Logo\" width=\"20px\"></a> \n",
    "    <a href=\"https://x.com/statmike\"><img src=\"https://upload.wikimedia.org/wikipedia/commons/5/5a/X_icon_2.svg\" alt=\"X (Twitter) Logo\" width=\"20px\"></a>\n",
    "  </td>\n",
    "</tr>\n",
    "</table>"
   ]
  },
  {
   "cell_type": "markdown",
   "id": "233cde43-fcfa-4607-8195-27fe03ca7e9f",
   "metadata": {
    "tags": []
   },
   "source": [
    "# Autoencoders - Data To Training\n",
    "\n",
    "How to retrieve data for training, and using, an autoencoder.\n",
    "\n",
    "This workflow covers getting data to the location of training, in this case, many methods of getting BigQuery data into a Pandas DataFrame.  Then the dataframe is used as inputs for batches to TensorFlow with named inputs (columns).  Additionally, the TensorFlow I/O reader for BigQuery is used to directly read batches from BigQuery without the need to first load an entire dataframe.\n",
    "\n",
    "---\n",
    "Part of the [series **Applied Autoencoders Series**](https://github.com/statmike/vertex-ai-mlops/blob/main/Applied%20Autoencoders/readme.md)\n",
    "\n",
    "A series of workflows focused on training and using autoencoders.  The series starts from the foundation of reading data efficiently and incrementally introduces concepts.\n",
    "\n",
    "---\n",
    "\n",
    "**Prerequisites**\n",
    "\n",
    "[01 - BigQuery - Table Data Source](../../01%20-%20Data%20Sources/01%20-%20BigQuery%20-%20Table%20Data%20Source.ipynb)"
   ]
  },
  {
   "cell_type": "markdown",
   "id": "2d9ef3a1-7c54-4736-bf8f-b7b832524c9c",
   "metadata": {},
   "source": [
    "---\n",
    "## Colab Setup\n",
    "\n",
    "To run this notebook in Colab click [![Open In Colab](https://colab.research.google.com/assets/colab-badge.svg)](https://colab.research.google.com/github/statmike/vertex-ai-mlops/blob/main/Applied%20Autoencoders/Autoencoders%20-%20Data%20To%20Training.ipynb) and run the cells in this section.  Otherwise, skip this section.\n",
    "\n",
    "This cell will authenticate to GCP (follow prompts in the popup)."
   ]
  },
  {
   "cell_type": "code",
   "execution_count": 1,
   "id": "799bb844-0ea3-4907-a1ae-d5dcc39e641d",
   "metadata": {
    "tags": []
   },
   "outputs": [],
   "source": [
    "PROJECT_ID = 'statmike-mlops-349915' # replace with project ID"
   ]
  },
  {
   "cell_type": "code",
   "execution_count": 2,
   "id": "ce63b674-5529-4bd5-be35-6c26f9527cbc",
   "metadata": {
    "tags": []
   },
   "outputs": [],
   "source": [
    "try:\n",
    "    import google.colab\n",
    "    from google.colab import auth\n",
    "    auth.authenticate_user()\n",
    "    !gcloud config set project {PROJECT_ID}\n",
    "except Exception:\n",
    "    pass"
   ]
  },
  {
   "cell_type": "markdown",
   "id": "7b6dcb9c-0f10-4a47-b106-301961c90249",
   "metadata": {},
   "source": [
    "---\n",
    "## Installs\n",
    "\n",
    "The list `packages` contains tuples of package import names and install names.  If the import name is not found then the install name is used to install quitely for the current user."
   ]
  },
  {
   "cell_type": "code",
   "execution_count": 3,
   "id": "8dd6bf96-953a-4cbe-a745-100bba26304f",
   "metadata": {
    "tags": []
   },
   "outputs": [],
   "source": [
    "# tuples of (import name, install name)\n",
    "packages = [\n",
    "    ('google.cloud.bigquery', 'google-cloud-bigquery'),\n",
    "    ('google.cloud.bigquery_storage', 'google-cloud-bigquery-storage'),\n",
    "    ('bigframes', 'bigframes'),\n",
    "    ('pandas_gbq', 'pandas-gbq'),\n",
    "    ('tensorflow', 'tensorflow', '2.10'),\n",
    "    ('tensorflow_io', '--no-deps tensorflow-io'),\n",
    "    ('graphviz', 'graphviz'),\n",
    "    ('pydot', 'pydot')\n",
    "]\n",
    "\n",
    "import importlib\n",
    "install = False\n",
    "for package in packages:\n",
    "    if not importlib.util.find_spec(package[0]):\n",
    "        print(f'installing package {package[1]}')\n",
    "        install = True\n",
    "        !pip install {package[1]} -U -q --user\n",
    "    elif len(package) == 3:\n",
    "        if importlib.metadata.version(package[0]) < package[2]:\n",
    "            print(f'updating package {package[1]}')\n",
    "            install = True\n",
    "            !pip install {package[1]} -U -q --user"
   ]
  },
  {
   "cell_type": "code",
   "execution_count": 4,
   "id": "dab88582-d5f4-4677-a307-650478d72d53",
   "metadata": {
    "tags": []
   },
   "outputs": [],
   "source": [
    "#!sudo apt-get -qq install graphviz"
   ]
  },
  {
   "cell_type": "markdown",
   "id": "58bb2fc8-34c7-4868-ba63-345e6950085d",
   "metadata": {},
   "source": [
    "### Restart Kernel (If Installs Occured)\n",
    "\n",
    "After a kernel restart the code submission can start with the next cell after this one."
   ]
  },
  {
   "cell_type": "code",
   "execution_count": 5,
   "id": "ac5564b3-ae19-49b2-b08b-91e8ede3bfcd",
   "metadata": {
    "tags": []
   },
   "outputs": [],
   "source": [
    "if install:\n",
    "    import IPython\n",
    "    app = IPython.Application.instance()\n",
    "    app.kernel.do_shutdown(True)"
   ]
  },
  {
   "cell_type": "markdown",
   "id": "915d8e0d-0de2-4c4b-8d52-4ae27db57da1",
   "metadata": {},
   "source": [
    "---\n",
    "## Setup"
   ]
  },
  {
   "cell_type": "markdown",
   "id": "bbb7c734-78a2-4ffb-bd72-db40ccaf37c3",
   "metadata": {},
   "source": [
    "inputs:"
   ]
  },
  {
   "cell_type": "code",
   "execution_count": 6,
   "id": "b1e21014-458d-4e04-995a-c1feafab1ad8",
   "metadata": {
    "tags": []
   },
   "outputs": [
    {
     "data": {
      "text/plain": [
       "'statmike-mlops-349915'"
      ]
     },
     "execution_count": 6,
     "metadata": {},
     "output_type": "execute_result"
    }
   ],
   "source": [
    "project = !gcloud config get-value project\n",
    "PROJECT_ID = project[0]\n",
    "PROJECT_ID"
   ]
  },
  {
   "cell_type": "code",
   "execution_count": 7,
   "id": "47b38e06-3f24-413d-9bf7-29549178061f",
   "metadata": {
    "tags": []
   },
   "outputs": [],
   "source": [
    "REGION = 'us-central1'\n",
    "EXPERIMENT = 'data'\n",
    "SERIES = 'applied-autoencoders'\n",
    "\n",
    "# source data\n",
    "BQ_PROJECT = PROJECT_ID\n",
    "BQ_DATASET = 'fraud'\n",
    "BQ_TABLE = 'fraud_prepped'\n",
    "\n",
    "# specify a GCS Bucket\n",
    "GCS_BUCKET = PROJECT_ID\n",
    "\n",
    "# Model Training\n",
    "VAR_TARGET = 'Class'\n",
    "VAR_OMIT = 'transaction_id,splits' # add more variables to the string with comma delimiters"
   ]
  },
  {
   "cell_type": "markdown",
   "id": "91df847f-29fd-4143-9a7d-3a4cef923bff",
   "metadata": {},
   "source": [
    "packages:"
   ]
  },
  {
   "cell_type": "code",
   "execution_count": 8,
   "id": "9adf564d-5e6b-4991-932e-3c2170899e38",
   "metadata": {
    "tags": []
   },
   "outputs": [],
   "source": [
    "import os\n",
    "os.environ['TF_CPP_MIN_LOG_LEVEL'] = '3'\n",
    "\n",
    "from google.cloud import bigquery\n",
    "from google.cloud import bigquery_storage\n",
    "import bigframes.pandas as bpd\n",
    "import pandas as pd\n",
    "import numpy as np\n",
    "import concurrent.futures\n",
    "\n",
    "from tensorflow.python.framework import dtypes\n",
    "from tensorflow_io.bigquery import BigQueryClient\n",
    "import tensorflow as tf"
   ]
  },
  {
   "cell_type": "markdown",
   "id": "94e4334e-a4ba-4d42-9b95-735a66d0eb06",
   "metadata": {},
   "source": [
    "clients:"
   ]
  },
  {
   "cell_type": "code",
   "execution_count": 9,
   "id": "1687bea4-c090-4884-a7b1-6a7b4ed561fc",
   "metadata": {
    "tags": []
   },
   "outputs": [],
   "source": [
    "bq = bigquery.Client(project = PROJECT_ID)\n",
    "bqstorage = bigquery_storage.BigQueryReadClient()\n",
    "bpd.options.bigquery.project = PROJECT_ID"
   ]
  },
  {
   "cell_type": "markdown",
   "id": "71d726f2-2c1f-4bb2-b288-db37bda88f7f",
   "metadata": {},
   "source": [
    "---\n",
    "## Review Data\n",
    "\n",
    "The data source here was prepared in [01 - BigQuery - Table Data Source](../01%20-%20Data%20Sources/01%20-%20BigQuery%20-%20Table%20Data%20Source.ipynb).  In this notebook we will use prepared BigQuery table as input for TensorFlow.\n",
    "\n",
    "This is a table of 284,807 credit card transactions classified as fradulant or normal in the column `Class`.  In order protect confidentiality, the original features have been transformed using [principle component analysis (PCA)](https://en.wikipedia.org/wiki/Principal_component_analysis) into 28 features named `V1, V2, ... V28` (float).  Two descriptive features are provided without transformation by PCA:\n",
    "- `Time` (integer) is the seconds elapsed between the transaction and the earliest transaction in the table\n",
    "- `Amount` (float) is the value of the transaction\n",
    "\n",
    "The data preparation included added splits for machine learning with a column named `splits` with 80% for training (`TRAIN`), 10% for validation (`VALIDATE`) and 10% for testing (`TEST`).  Additionally, a unique identifier was added to each transaction, `transaction_id`.  \n",
    "\n",
    "There is a target variable, `Class`, that represents the classification, but in the case of an autoencoder the training is not supervised to directly learn to classify.  For this reason the `Class` column will be omitted from the model training here in order to not overinform the reconstruction of the inputs."
   ]
  },
  {
   "cell_type": "markdown",
   "id": "f2cbecf9-1bce-4636-9968-eaf3a2dbcca1",
   "metadata": {},
   "source": [
    "Review the number of records for each level of the data splits:"
   ]
  },
  {
   "cell_type": "code",
   "execution_count": 10,
   "id": "918d1728-f262-4238-9ee0-d6f0c6418023",
   "metadata": {
    "tags": []
   },
   "outputs": [
    {
     "name": "stdout",
     "output_type": "stream",
     "text": [
      "\n",
      "    SELECT splits, count(*) as n\n",
      "    FROM `statmike-mlops-349915.fraud.fraud_prepped`\n",
      "    GROUP BY splits\n",
      "\n"
     ]
    }
   ],
   "source": [
    "query = f\"\"\"\n",
    "    SELECT splits, count(*) as n\n",
    "    FROM `{BQ_PROJECT}.{BQ_DATASET}.{BQ_TABLE}`\n",
    "    GROUP BY splits\n",
    "\"\"\"\n",
    "print(query)"
   ]
  },
  {
   "cell_type": "code",
   "execution_count": 11,
   "id": "60533e86-7e88-4f9a-b8ea-9421ea6b20b6",
   "metadata": {
    "tags": []
   },
   "outputs": [
    {
     "data": {
      "text/html": [
       "<div>\n",
       "<style scoped>\n",
       "    .dataframe tbody tr th:only-of-type {\n",
       "        vertical-align: middle;\n",
       "    }\n",
       "\n",
       "    .dataframe tbody tr th {\n",
       "        vertical-align: top;\n",
       "    }\n",
       "\n",
       "    .dataframe thead th {\n",
       "        text-align: right;\n",
       "    }\n",
       "</style>\n",
       "<table border=\"1\" class=\"dataframe\">\n",
       "  <thead>\n",
       "    <tr style=\"text-align: right;\">\n",
       "      <th></th>\n",
       "      <th>splits</th>\n",
       "      <th>n</th>\n",
       "    </tr>\n",
       "  </thead>\n",
       "  <tbody>\n",
       "    <tr>\n",
       "      <th>0</th>\n",
       "      <td>TEST</td>\n",
       "      <td>28502</td>\n",
       "    </tr>\n",
       "    <tr>\n",
       "      <th>1</th>\n",
       "      <td>TRAIN</td>\n",
       "      <td>228061</td>\n",
       "    </tr>\n",
       "    <tr>\n",
       "      <th>2</th>\n",
       "      <td>VALIDATE</td>\n",
       "      <td>28244</td>\n",
       "    </tr>\n",
       "  </tbody>\n",
       "</table>\n",
       "</div>"
      ],
      "text/plain": [
       "     splits       n\n",
       "0      TEST   28502\n",
       "1     TRAIN  228061\n",
       "2  VALIDATE   28244"
      ]
     },
     "execution_count": 11,
     "metadata": {},
     "output_type": "execute_result"
    }
   ],
   "source": [
    "bq.query(query = query).to_dataframe()"
   ]
  },
  {
   "cell_type": "markdown",
   "id": "5404b3fd-5ae6-4cc4-ae43-1f0197f3943b",
   "metadata": {},
   "source": [
    "---\n",
    "## From BigQuery To Pandas DataFrame\n",
    "\n",
    "A dataframe is a great input for TensorFlow for smaller tabular data sources.  The Panda dataframe can read data from many locations.  This section will cover multiple ways of retrieving data stored in BigQuery into a dataframe.\n",
    "\n",
    "For larger sources see the later section that covers using the TensorFlow I/O reader for BigQuery."
   ]
  },
  {
   "cell_type": "markdown",
   "id": "852d1f2f-233e-4e99-ad58-42ab48a00746",
   "metadata": {},
   "source": [
    "### Common Query\n",
    "\n",
    "A common SQL query to use for retrieval from BigQuery clients that use SQL (not the storage client). This selects all the columns other than the ones listed to omit above in `VAR_OMIT` while also subsetting to just the `splits = 'TRAIN'` rows."
   ]
  },
  {
   "cell_type": "code",
   "execution_count": 12,
   "id": "815ff7dd-54bd-4a99-9861-53db9f76b042",
   "metadata": {
    "tags": []
   },
   "outputs": [
    {
     "name": "stdout",
     "output_type": "stream",
     "text": [
      "\n",
      "SELECT * EXCEPT(Class,transaction_id,splits)\n",
      "FROM `statmike-mlops-349915.fraud.fraud_prepped`\n",
      "WHERE splits = 'TRAIN'\n",
      "\n"
     ]
    }
   ],
   "source": [
    "query = f'''\n",
    "SELECT * EXCEPT({','.join([VAR_TARGET] + VAR_OMIT.replace(' ', '').split(','))})\n",
    "FROM `{BQ_PROJECT}.{BQ_DATASET}.{BQ_TABLE}`\n",
    "WHERE splits = 'TRAIN'\n",
    "'''\n",
    "print(query)"
   ]
  },
  {
   "cell_type": "markdown",
   "id": "4d26ef25-adc7-484d-ab9e-5eec11d526f0",
   "metadata": {},
   "source": [
    "### BigQuery Cell Magic\n",
    "\n",
    "When working in Jupyter notebooks, like here, using the IPython cell magic for BigQuery can be very helpful.\n",
    "- [Reference](https://cloud.google.com/python/docs/reference/bigquery/latest/magics)"
   ]
  },
  {
   "cell_type": "code",
   "execution_count": 13,
   "id": "f1260a43-15d4-4e85-953c-6d74fb5dfeb8",
   "metadata": {
    "tags": []
   },
   "outputs": [
    {
     "data": {
      "application/vnd.jupyter.widget-view+json": {
       "model_id": "453382ae36b749208348438fa1c7541c",
       "version_major": 2,
       "version_minor": 0
      },
      "text/plain": [
       "Query is running:   0%|          |"
      ]
     },
     "metadata": {},
     "output_type": "display_data"
    },
    {
     "data": {
      "application/vnd.jupyter.widget-view+json": {
       "model_id": "d2e60e81ecb34f109109322b452ac79e",
       "version_major": 2,
       "version_minor": 0
      },
      "text/plain": [
       "Downloading:   0%|          |"
      ]
     },
     "metadata": {},
     "output_type": "display_data"
    }
   ],
   "source": [
    "%%bigquery bq_data_magic\n",
    "SELECT * EXCEPT(Class,transaction_id,splits)\n",
    "FROM `statmike-mlops-349915.fraud.fraud_prepped`\n",
    "WHERE splits = 'TRAIN'"
   ]
  },
  {
   "cell_type": "code",
   "execution_count": 14,
   "id": "86cf423d-5013-428e-a9f3-83cbe82d0999",
   "metadata": {
    "tags": []
   },
   "outputs": [
    {
     "data": {
      "text/html": [
       "<div>\n",
       "<style scoped>\n",
       "    .dataframe tbody tr th:only-of-type {\n",
       "        vertical-align: middle;\n",
       "    }\n",
       "\n",
       "    .dataframe tbody tr th {\n",
       "        vertical-align: top;\n",
       "    }\n",
       "\n",
       "    .dataframe thead th {\n",
       "        text-align: right;\n",
       "    }\n",
       "</style>\n",
       "<table border=\"1\" class=\"dataframe\">\n",
       "  <thead>\n",
       "    <tr style=\"text-align: right;\">\n",
       "      <th></th>\n",
       "      <th>Time</th>\n",
       "      <th>V1</th>\n",
       "      <th>V2</th>\n",
       "      <th>V3</th>\n",
       "      <th>V4</th>\n",
       "      <th>V5</th>\n",
       "      <th>V6</th>\n",
       "      <th>V7</th>\n",
       "      <th>V8</th>\n",
       "      <th>V9</th>\n",
       "      <th>...</th>\n",
       "      <th>V20</th>\n",
       "      <th>V21</th>\n",
       "      <th>V22</th>\n",
       "      <th>V23</th>\n",
       "      <th>V24</th>\n",
       "      <th>V25</th>\n",
       "      <th>V26</th>\n",
       "      <th>V27</th>\n",
       "      <th>V28</th>\n",
       "      <th>Amount</th>\n",
       "    </tr>\n",
       "  </thead>\n",
       "  <tbody>\n",
       "    <tr>\n",
       "      <th>0</th>\n",
       "      <td>2812</td>\n",
       "      <td>-0.633403</td>\n",
       "      <td>0.963616</td>\n",
       "      <td>2.494946</td>\n",
       "      <td>2.099051</td>\n",
       "      <td>-0.404331</td>\n",
       "      <td>0.235862</td>\n",
       "      <td>-0.007932</td>\n",
       "      <td>0.211442</td>\n",
       "      <td>-0.209817</td>\n",
       "      <td>...</td>\n",
       "      <td>-0.174985</td>\n",
       "      <td>0.014676</td>\n",
       "      <td>0.016278</td>\n",
       "      <td>-0.061462</td>\n",
       "      <td>0.355196</td>\n",
       "      <td>-0.179086</td>\n",
       "      <td>-0.106947</td>\n",
       "      <td>-0.215039</td>\n",
       "      <td>0.050698</td>\n",
       "      <td>0.0</td>\n",
       "    </tr>\n",
       "    <tr>\n",
       "      <th>1</th>\n",
       "      <td>3150</td>\n",
       "      <td>1.313281</td>\n",
       "      <td>-0.257923</td>\n",
       "      <td>0.118463</td>\n",
       "      <td>-0.735557</td>\n",
       "      <td>-0.569308</td>\n",
       "      <td>-0.733577</td>\n",
       "      <td>-0.138659</td>\n",
       "      <td>-0.141641</td>\n",
       "      <td>1.708019</td>\n",
       "      <td>...</td>\n",
       "      <td>-0.145144</td>\n",
       "      <td>-0.082467</td>\n",
       "      <td>0.126066</td>\n",
       "      <td>-0.223157</td>\n",
       "      <td>-0.074977</td>\n",
       "      <td>0.921940</td>\n",
       "      <td>-0.528283</td>\n",
       "      <td>0.064476</td>\n",
       "      <td>0.013132</td>\n",
       "      <td>0.0</td>\n",
       "    </tr>\n",
       "    <tr>\n",
       "      <th>2</th>\n",
       "      <td>16676</td>\n",
       "      <td>1.158480</td>\n",
       "      <td>0.168947</td>\n",
       "      <td>0.536345</td>\n",
       "      <td>1.187908</td>\n",
       "      <td>-0.265547</td>\n",
       "      <td>-0.076325</td>\n",
       "      <td>-0.355844</td>\n",
       "      <td>0.144615</td>\n",
       "      <td>1.462346</td>\n",
       "      <td>...</td>\n",
       "      <td>-0.355289</td>\n",
       "      <td>0.016492</td>\n",
       "      <td>0.263518</td>\n",
       "      <td>-0.076711</td>\n",
       "      <td>-0.079402</td>\n",
       "      <td>0.502827</td>\n",
       "      <td>-0.270819</td>\n",
       "      <td>-0.004966</td>\n",
       "      <td>-0.003372</td>\n",
       "      <td>0.0</td>\n",
       "    </tr>\n",
       "    <tr>\n",
       "      <th>3</th>\n",
       "      <td>17701</td>\n",
       "      <td>-1.279231</td>\n",
       "      <td>-0.153303</td>\n",
       "      <td>3.296310</td>\n",
       "      <td>3.320441</td>\n",
       "      <td>1.139018</td>\n",
       "      <td>0.542343</td>\n",
       "      <td>-0.729928</td>\n",
       "      <td>-0.051774</td>\n",
       "      <td>0.922712</td>\n",
       "      <td>...</td>\n",
       "      <td>0.028639</td>\n",
       "      <td>-0.409746</td>\n",
       "      <td>-0.342575</td>\n",
       "      <td>-0.493297</td>\n",
       "      <td>-0.017046</td>\n",
       "      <td>-0.107404</td>\n",
       "      <td>0.101164</td>\n",
       "      <td>-0.197940</td>\n",
       "      <td>-0.435654</td>\n",
       "      <td>0.0</td>\n",
       "    </tr>\n",
       "    <tr>\n",
       "      <th>4</th>\n",
       "      <td>28131</td>\n",
       "      <td>1.069507</td>\n",
       "      <td>-0.000362</td>\n",
       "      <td>1.448936</td>\n",
       "      <td>2.874498</td>\n",
       "      <td>-0.736266</td>\n",
       "      <td>0.831932</td>\n",
       "      <td>-0.762267</td>\n",
       "      <td>0.406772</td>\n",
       "      <td>0.626473</td>\n",
       "      <td>...</td>\n",
       "      <td>-0.292305</td>\n",
       "      <td>0.035393</td>\n",
       "      <td>0.444433</td>\n",
       "      <td>-0.085413</td>\n",
       "      <td>0.099090</td>\n",
       "      <td>0.506438</td>\n",
       "      <td>0.246418</td>\n",
       "      <td>0.057864</td>\n",
       "      <td>0.021133</td>\n",
       "      <td>0.0</td>\n",
       "    </tr>\n",
       "  </tbody>\n",
       "</table>\n",
       "<p>5 rows × 30 columns</p>\n",
       "</div>"
      ],
      "text/plain": [
       "    Time        V1        V2        V3        V4        V5        V6  \\\n",
       "0   2812 -0.633403  0.963616  2.494946  2.099051 -0.404331  0.235862   \n",
       "1   3150  1.313281 -0.257923  0.118463 -0.735557 -0.569308 -0.733577   \n",
       "2  16676  1.158480  0.168947  0.536345  1.187908 -0.265547 -0.076325   \n",
       "3  17701 -1.279231 -0.153303  3.296310  3.320441  1.139018  0.542343   \n",
       "4  28131  1.069507 -0.000362  1.448936  2.874498 -0.736266  0.831932   \n",
       "\n",
       "         V7        V8        V9  ...       V20       V21       V22       V23  \\\n",
       "0 -0.007932  0.211442 -0.209817  ... -0.174985  0.014676  0.016278 -0.061462   \n",
       "1 -0.138659 -0.141641  1.708019  ... -0.145144 -0.082467  0.126066 -0.223157   \n",
       "2 -0.355844  0.144615  1.462346  ... -0.355289  0.016492  0.263518 -0.076711   \n",
       "3 -0.729928 -0.051774  0.922712  ...  0.028639 -0.409746 -0.342575 -0.493297   \n",
       "4 -0.762267  0.406772  0.626473  ... -0.292305  0.035393  0.444433 -0.085413   \n",
       "\n",
       "        V24       V25       V26       V27       V28  Amount  \n",
       "0  0.355196 -0.179086 -0.106947 -0.215039  0.050698     0.0  \n",
       "1 -0.074977  0.921940 -0.528283  0.064476  0.013132     0.0  \n",
       "2 -0.079402  0.502827 -0.270819 -0.004966 -0.003372     0.0  \n",
       "3 -0.017046 -0.107404  0.101164 -0.197940 -0.435654     0.0  \n",
       "4  0.099090  0.506438  0.246418  0.057864  0.021133     0.0  \n",
       "\n",
       "[5 rows x 30 columns]"
      ]
     },
     "execution_count": 14,
     "metadata": {},
     "output_type": "execute_result"
    }
   ],
   "source": [
    "bq_data_magic.head()"
   ]
  },
  {
   "cell_type": "code",
   "execution_count": 15,
   "id": "38e9d435-aad5-4728-ba49-922274056625",
   "metadata": {
    "tags": []
   },
   "outputs": [
    {
     "data": {
      "text/plain": [
       "pandas.core.frame.DataFrame"
      ]
     },
     "execution_count": 15,
     "metadata": {},
     "output_type": "execute_result"
    }
   ],
   "source": [
    "type(bq_data_magic)"
   ]
  },
  {
   "cell_type": "code",
   "execution_count": 16,
   "id": "1d4f5189-ceb5-412a-957a-136734408b70",
   "metadata": {
    "tags": []
   },
   "outputs": [
    {
     "data": {
      "text/plain": [
       "(228061, 30)"
      ]
     },
     "execution_count": 16,
     "metadata": {},
     "output_type": "execute_result"
    }
   ],
   "source": [
    "bq_data_magic.shape"
   ]
  },
  {
   "cell_type": "markdown",
   "id": "eb8c7cc8-7b1b-4349-87a9-5310ba256ea4",
   "metadata": {},
   "source": [
    "### BigQuery Python Client\n",
    "\n",
    "The Python Client for BigQuery makes executing queries in BigQuery from SQL as simple as passing the SQL query as a string.  This also means the query can be constructed locally in Python as it was above in the 'Common Query' section.  The results of queries can be directly retrieved to a local dataframe using the `to_dataframe()` method.\n",
    "- [Reference](https://cloud.google.com/python/docs/reference/bigquery/latest)"
   ]
  },
  {
   "cell_type": "code",
   "execution_count": 17,
   "id": "7a91942d-8966-4d6d-875f-b13deb0cee13",
   "metadata": {
    "tags": []
   },
   "outputs": [
    {
     "data": {
      "text/html": [
       "<div>\n",
       "<style scoped>\n",
       "    .dataframe tbody tr th:only-of-type {\n",
       "        vertical-align: middle;\n",
       "    }\n",
       "\n",
       "    .dataframe tbody tr th {\n",
       "        vertical-align: top;\n",
       "    }\n",
       "\n",
       "    .dataframe thead th {\n",
       "        text-align: right;\n",
       "    }\n",
       "</style>\n",
       "<table border=\"1\" class=\"dataframe\">\n",
       "  <thead>\n",
       "    <tr style=\"text-align: right;\">\n",
       "      <th></th>\n",
       "      <th>Time</th>\n",
       "      <th>V1</th>\n",
       "      <th>V2</th>\n",
       "      <th>V3</th>\n",
       "      <th>V4</th>\n",
       "      <th>V5</th>\n",
       "      <th>V6</th>\n",
       "      <th>V7</th>\n",
       "      <th>V8</th>\n",
       "      <th>V9</th>\n",
       "      <th>...</th>\n",
       "      <th>V20</th>\n",
       "      <th>V21</th>\n",
       "      <th>V22</th>\n",
       "      <th>V23</th>\n",
       "      <th>V24</th>\n",
       "      <th>V25</th>\n",
       "      <th>V26</th>\n",
       "      <th>V27</th>\n",
       "      <th>V28</th>\n",
       "      <th>Amount</th>\n",
       "    </tr>\n",
       "  </thead>\n",
       "  <tbody>\n",
       "    <tr>\n",
       "      <th>0</th>\n",
       "      <td>2812</td>\n",
       "      <td>-0.633403</td>\n",
       "      <td>0.963616</td>\n",
       "      <td>2.494946</td>\n",
       "      <td>2.099051</td>\n",
       "      <td>-0.404331</td>\n",
       "      <td>0.235862</td>\n",
       "      <td>-0.007932</td>\n",
       "      <td>0.211442</td>\n",
       "      <td>-0.209817</td>\n",
       "      <td>...</td>\n",
       "      <td>-0.174985</td>\n",
       "      <td>0.014676</td>\n",
       "      <td>0.016278</td>\n",
       "      <td>-0.061462</td>\n",
       "      <td>0.355196</td>\n",
       "      <td>-0.179086</td>\n",
       "      <td>-0.106947</td>\n",
       "      <td>-0.215039</td>\n",
       "      <td>0.050698</td>\n",
       "      <td>0.0</td>\n",
       "    </tr>\n",
       "    <tr>\n",
       "      <th>1</th>\n",
       "      <td>3150</td>\n",
       "      <td>1.313281</td>\n",
       "      <td>-0.257923</td>\n",
       "      <td>0.118463</td>\n",
       "      <td>-0.735557</td>\n",
       "      <td>-0.569308</td>\n",
       "      <td>-0.733577</td>\n",
       "      <td>-0.138659</td>\n",
       "      <td>-0.141641</td>\n",
       "      <td>1.708019</td>\n",
       "      <td>...</td>\n",
       "      <td>-0.145144</td>\n",
       "      <td>-0.082467</td>\n",
       "      <td>0.126066</td>\n",
       "      <td>-0.223157</td>\n",
       "      <td>-0.074977</td>\n",
       "      <td>0.921940</td>\n",
       "      <td>-0.528283</td>\n",
       "      <td>0.064476</td>\n",
       "      <td>0.013132</td>\n",
       "      <td>0.0</td>\n",
       "    </tr>\n",
       "    <tr>\n",
       "      <th>2</th>\n",
       "      <td>16676</td>\n",
       "      <td>1.158480</td>\n",
       "      <td>0.168947</td>\n",
       "      <td>0.536345</td>\n",
       "      <td>1.187908</td>\n",
       "      <td>-0.265547</td>\n",
       "      <td>-0.076325</td>\n",
       "      <td>-0.355844</td>\n",
       "      <td>0.144615</td>\n",
       "      <td>1.462346</td>\n",
       "      <td>...</td>\n",
       "      <td>-0.355289</td>\n",
       "      <td>0.016492</td>\n",
       "      <td>0.263518</td>\n",
       "      <td>-0.076711</td>\n",
       "      <td>-0.079402</td>\n",
       "      <td>0.502827</td>\n",
       "      <td>-0.270819</td>\n",
       "      <td>-0.004966</td>\n",
       "      <td>-0.003372</td>\n",
       "      <td>0.0</td>\n",
       "    </tr>\n",
       "    <tr>\n",
       "      <th>3</th>\n",
       "      <td>17701</td>\n",
       "      <td>-1.279231</td>\n",
       "      <td>-0.153303</td>\n",
       "      <td>3.296310</td>\n",
       "      <td>3.320441</td>\n",
       "      <td>1.139018</td>\n",
       "      <td>0.542343</td>\n",
       "      <td>-0.729928</td>\n",
       "      <td>-0.051774</td>\n",
       "      <td>0.922712</td>\n",
       "      <td>...</td>\n",
       "      <td>0.028639</td>\n",
       "      <td>-0.409746</td>\n",
       "      <td>-0.342575</td>\n",
       "      <td>-0.493297</td>\n",
       "      <td>-0.017046</td>\n",
       "      <td>-0.107404</td>\n",
       "      <td>0.101164</td>\n",
       "      <td>-0.197940</td>\n",
       "      <td>-0.435654</td>\n",
       "      <td>0.0</td>\n",
       "    </tr>\n",
       "    <tr>\n",
       "      <th>4</th>\n",
       "      <td>28131</td>\n",
       "      <td>1.069507</td>\n",
       "      <td>-0.000362</td>\n",
       "      <td>1.448936</td>\n",
       "      <td>2.874498</td>\n",
       "      <td>-0.736266</td>\n",
       "      <td>0.831932</td>\n",
       "      <td>-0.762267</td>\n",
       "      <td>0.406772</td>\n",
       "      <td>0.626473</td>\n",
       "      <td>...</td>\n",
       "      <td>-0.292305</td>\n",
       "      <td>0.035393</td>\n",
       "      <td>0.444433</td>\n",
       "      <td>-0.085413</td>\n",
       "      <td>0.099090</td>\n",
       "      <td>0.506438</td>\n",
       "      <td>0.246418</td>\n",
       "      <td>0.057864</td>\n",
       "      <td>0.021133</td>\n",
       "      <td>0.0</td>\n",
       "    </tr>\n",
       "  </tbody>\n",
       "</table>\n",
       "<p>5 rows × 30 columns</p>\n",
       "</div>"
      ],
      "text/plain": [
       "    Time        V1        V2        V3        V4        V5        V6  \\\n",
       "0   2812 -0.633403  0.963616  2.494946  2.099051 -0.404331  0.235862   \n",
       "1   3150  1.313281 -0.257923  0.118463 -0.735557 -0.569308 -0.733577   \n",
       "2  16676  1.158480  0.168947  0.536345  1.187908 -0.265547 -0.076325   \n",
       "3  17701 -1.279231 -0.153303  3.296310  3.320441  1.139018  0.542343   \n",
       "4  28131  1.069507 -0.000362  1.448936  2.874498 -0.736266  0.831932   \n",
       "\n",
       "         V7        V8        V9  ...       V20       V21       V22       V23  \\\n",
       "0 -0.007932  0.211442 -0.209817  ... -0.174985  0.014676  0.016278 -0.061462   \n",
       "1 -0.138659 -0.141641  1.708019  ... -0.145144 -0.082467  0.126066 -0.223157   \n",
       "2 -0.355844  0.144615  1.462346  ... -0.355289  0.016492  0.263518 -0.076711   \n",
       "3 -0.729928 -0.051774  0.922712  ...  0.028639 -0.409746 -0.342575 -0.493297   \n",
       "4 -0.762267  0.406772  0.626473  ... -0.292305  0.035393  0.444433 -0.085413   \n",
       "\n",
       "        V24       V25       V26       V27       V28  Amount  \n",
       "0  0.355196 -0.179086 -0.106947 -0.215039  0.050698     0.0  \n",
       "1 -0.074977  0.921940 -0.528283  0.064476  0.013132     0.0  \n",
       "2 -0.079402  0.502827 -0.270819 -0.004966 -0.003372     0.0  \n",
       "3 -0.017046 -0.107404  0.101164 -0.197940 -0.435654     0.0  \n",
       "4  0.099090  0.506438  0.246418  0.057864  0.021133     0.0  \n",
       "\n",
       "[5 rows x 30 columns]"
      ]
     },
     "execution_count": 17,
     "metadata": {},
     "output_type": "execute_result"
    }
   ],
   "source": [
    "bq_data_client = bq.query(query = query).to_dataframe()\n",
    "bq_data_client.head()"
   ]
  },
  {
   "cell_type": "code",
   "execution_count": 18,
   "id": "6ca58f5d-4ae7-4d49-aca2-3ba839614511",
   "metadata": {
    "tags": []
   },
   "outputs": [
    {
     "data": {
      "text/plain": [
       "pandas.core.frame.DataFrame"
      ]
     },
     "execution_count": 18,
     "metadata": {},
     "output_type": "execute_result"
    }
   ],
   "source": [
    "type(bq_data_client)"
   ]
  },
  {
   "cell_type": "code",
   "execution_count": 19,
   "id": "2e1e79ff-8a1b-475d-959e-05ccc8f7c4b7",
   "metadata": {
    "tags": []
   },
   "outputs": [
    {
     "data": {
      "text/plain": [
       "(228061, 30)"
      ]
     },
     "execution_count": 19,
     "metadata": {},
     "output_type": "execute_result"
    }
   ],
   "source": [
    "bq_data_client.shape"
   ]
  },
  {
   "cell_type": "markdown",
   "id": "e4978113-1687-4534-97a9-b43abe00fe85",
   "metadata": {},
   "source": [
    "### BigQuery BigFrames Client\n",
    "\n",
    "The BigFrames Client for BigQuery is new (2023) and allows references remote BigQuery tables as dataframe like object in local Python.  The dataframe functions are executed in BigQuery and results stored in temporary tables.  At any point a temporary table can be stored as a permanent table with the `.to_gbq()` method or even pulled fully to the Python execution environment as a local dataframe with the `.to_pandas()` method as demonstrated below.\n",
    "- [Reference](https://cloud.google.com/python/docs/reference/bigframes/latest)"
   ]
  },
  {
   "cell_type": "code",
   "execution_count": 20,
   "id": "7facdcda-35ec-4d12-b34c-165d518993ab",
   "metadata": {
    "tags": []
   },
   "outputs": [
    {
     "data": {
      "text/html": [
       "Query job 0623cbc5-31ce-4042-9372-b1179532d444 is DONE. 70.4 MB processed. <a target=\"_blank\" href=\"https://console.cloud.google.com/bigquery?project=statmike-mlops-349915&j=bq:us-central1:0623cbc5-31ce-4042-9372-b1179532d444&page=queryresults\">Open Job</a>"
      ],
      "text/plain": [
       "<IPython.core.display.HTML object>"
      ]
     },
     "metadata": {},
     "output_type": "display_data"
    },
    {
     "data": {
      "text/html": [
       "Query job f6852f15-774a-49cd-950b-a30279036fa8 is DONE. 54.7 MB processed. <a target=\"_blank\" href=\"https://console.cloud.google.com/bigquery?project=statmike-mlops-349915&j=bq:us-central1:f6852f15-774a-49cd-950b-a30279036fa8&page=queryresults\">Open Job</a>"
      ],
      "text/plain": [
       "<IPython.core.display.HTML object>"
      ]
     },
     "metadata": {},
     "output_type": "display_data"
    },
    {
     "data": {
      "text/html": [
       "Query job a77273d8-1180-4b9d-bf75-1d40a4662fc1 is DONE. 54.7 MB processed. <a target=\"_blank\" href=\"https://console.cloud.google.com/bigquery?project=statmike-mlops-349915&j=bq:us-central1:a77273d8-1180-4b9d-bf75-1d40a4662fc1&page=queryresults\">Open Job</a>"
      ],
      "text/plain": [
       "<IPython.core.display.HTML object>"
      ]
     },
     "metadata": {},
     "output_type": "display_data"
    },
    {
     "data": {
      "text/html": [
       "<div>\n",
       "<style scoped>\n",
       "    .dataframe tbody tr th:only-of-type {\n",
       "        vertical-align: middle;\n",
       "    }\n",
       "\n",
       "    .dataframe tbody tr th {\n",
       "        vertical-align: top;\n",
       "    }\n",
       "\n",
       "    .dataframe thead th {\n",
       "        text-align: right;\n",
       "    }\n",
       "</style>\n",
       "<table border=\"1\" class=\"dataframe\">\n",
       "  <thead>\n",
       "    <tr style=\"text-align: right;\">\n",
       "      <th></th>\n",
       "      <th>Time</th>\n",
       "      <th>V1</th>\n",
       "      <th>V2</th>\n",
       "      <th>V3</th>\n",
       "      <th>V4</th>\n",
       "      <th>V5</th>\n",
       "      <th>V6</th>\n",
       "      <th>V7</th>\n",
       "      <th>V8</th>\n",
       "      <th>V9</th>\n",
       "      <th>...</th>\n",
       "      <th>V20</th>\n",
       "      <th>V21</th>\n",
       "      <th>V22</th>\n",
       "      <th>V23</th>\n",
       "      <th>V24</th>\n",
       "      <th>V25</th>\n",
       "      <th>V26</th>\n",
       "      <th>V27</th>\n",
       "      <th>V28</th>\n",
       "      <th>Amount</th>\n",
       "    </tr>\n",
       "  </thead>\n",
       "  <tbody>\n",
       "    <tr>\n",
       "      <th>0</th>\n",
       "      <td>117857</td>\n",
       "      <td>-0.34221</td>\n",
       "      <td>0.903781</td>\n",
       "      <td>0.556961</td>\n",
       "      <td>-0.195003</td>\n",
       "      <td>0.112991</td>\n",
       "      <td>-0.51582</td>\n",
       "      <td>0.811486</td>\n",
       "      <td>-0.554063</td>\n",
       "      <td>-1.763437</td>\n",
       "      <td>...</td>\n",
       "      <td>0.714474</td>\n",
       "      <td>-0.078788</td>\n",
       "      <td>0.108075</td>\n",
       "      <td>-0.290118</td>\n",
       "      <td>1.113121</td>\n",
       "      <td>0.447556</td>\n",
       "      <td>0.199248</td>\n",
       "      <td>-0.081135</td>\n",
       "      <td>-0.061349</td>\n",
       "      <td>40.0</td>\n",
       "    </tr>\n",
       "    <tr>\n",
       "      <th>1</th>\n",
       "      <td>56447</td>\n",
       "      <td>1.42638</td>\n",
       "      <td>-0.611825</td>\n",
       "      <td>0.16567</td>\n",
       "      <td>-0.898404</td>\n",
       "      <td>-0.671324</td>\n",
       "      <td>-0.14292</td>\n",
       "      <td>-0.756738</td>\n",
       "      <td>0.090045</td>\n",
       "      <td>-0.472077</td>\n",
       "      <td>...</td>\n",
       "      <td>-0.047684</td>\n",
       "      <td>-0.143361</td>\n",
       "      <td>-0.569391</td>\n",
       "      <td>0.082969</td>\n",
       "      <td>-0.838399</td>\n",
       "      <td>0.21394</td>\n",
       "      <td>-0.393502</td>\n",
       "      <td>0.015332</td>\n",
       "      <td>0.006712</td>\n",
       "      <td>6.18</td>\n",
       "    </tr>\n",
       "    <tr>\n",
       "      <th>2</th>\n",
       "      <td>26096</td>\n",
       "      <td>-4.254652</td>\n",
       "      <td>4.612257</td>\n",
       "      <td>-0.286959</td>\n",
       "      <td>-0.95134</td>\n",
       "      <td>0.979931</td>\n",
       "      <td>-0.953636</td>\n",
       "      <td>3.114519</td>\n",
       "      <td>-2.523468</td>\n",
       "      <td>5.570837</td>\n",
       "      <td>...</td>\n",
       "      <td>4.261157</td>\n",
       "      <td>-1.124268</td>\n",
       "      <td>0.597059</td>\n",
       "      <td>-0.133162</td>\n",
       "      <td>0.470766</td>\n",
       "      <td>0.230323</td>\n",
       "      <td>-0.678818</td>\n",
       "      <td>1.085622</td>\n",
       "      <td>-0.940805</td>\n",
       "      <td>1.79</td>\n",
       "    </tr>\n",
       "    <tr>\n",
       "      <th>3</th>\n",
       "      <td>125780</td>\n",
       "      <td>-0.345134</td>\n",
       "      <td>1.036943</td>\n",
       "      <td>-0.230124</td>\n",
       "      <td>-0.755815</td>\n",
       "      <td>0.374212</td>\n",
       "      <td>-0.506093</td>\n",
       "      <td>0.613336</td>\n",
       "      <td>0.387138</td>\n",
       "      <td>-0.522661</td>\n",
       "      <td>...</td>\n",
       "      <td>-0.064826</td>\n",
       "      <td>-0.17186</td>\n",
       "      <td>-0.48293</td>\n",
       "      <td>0.102741</td>\n",
       "      <td>-0.463138</td>\n",
       "      <td>-0.434558</td>\n",
       "      <td>0.151072</td>\n",
       "      <td>0.118073</td>\n",
       "      <td>0.021872</td>\n",
       "      <td>19.98</td>\n",
       "    </tr>\n",
       "    <tr>\n",
       "      <th>4</th>\n",
       "      <td>56861</td>\n",
       "      <td>-3.021637</td>\n",
       "      <td>-3.317537</td>\n",
       "      <td>1.372621</td>\n",
       "      <td>-2.25474</td>\n",
       "      <td>0.75967</td>\n",
       "      <td>0.605632</td>\n",
       "      <td>-2.111818</td>\n",
       "      <td>1.355714</td>\n",
       "      <td>-2.332184</td>\n",
       "      <td>...</td>\n",
       "      <td>0.281491</td>\n",
       "      <td>0.446124</td>\n",
       "      <td>0.429207</td>\n",
       "      <td>0.072856</td>\n",
       "      <td>-1.389918</td>\n",
       "      <td>0.079758</td>\n",
       "      <td>-0.127151</td>\n",
       "      <td>-0.002403</td>\n",
       "      <td>-0.410168</td>\n",
       "      <td>118.0</td>\n",
       "    </tr>\n",
       "  </tbody>\n",
       "</table>\n",
       "<p>5 rows × 30 columns</p>\n",
       "</div>[5 rows x 30 columns in total]"
      ],
      "text/plain": [
       "     Time        V1        V2        V3        V4        V5        V6  \\\n",
       "0  117857  -0.34221  0.903781  0.556961 -0.195003  0.112991  -0.51582   \n",
       "1   56447   1.42638 -0.611825   0.16567 -0.898404 -0.671324  -0.14292   \n",
       "2   26096 -4.254652  4.612257 -0.286959  -0.95134  0.979931 -0.953636   \n",
       "3  125780 -0.345134  1.036943 -0.230124 -0.755815  0.374212 -0.506093   \n",
       "4   56861 -3.021637 -3.317537  1.372621  -2.25474   0.75967  0.605632   \n",
       "\n",
       "         V7        V8        V9  ...       V20       V21       V22       V23  \\\n",
       "0  0.811486 -0.554063 -1.763437  ...  0.714474 -0.078788  0.108075 -0.290118   \n",
       "1 -0.756738  0.090045 -0.472077  ... -0.047684 -0.143361 -0.569391  0.082969   \n",
       "2  3.114519 -2.523468  5.570837  ...  4.261157 -1.124268  0.597059 -0.133162   \n",
       "3  0.613336  0.387138 -0.522661  ... -0.064826  -0.17186  -0.48293  0.102741   \n",
       "4 -2.111818  1.355714 -2.332184  ...  0.281491  0.446124  0.429207  0.072856   \n",
       "\n",
       "        V24       V25       V26       V27       V28  Amount  \n",
       "0  1.113121  0.447556  0.199248 -0.081135 -0.061349    40.0  \n",
       "1 -0.838399   0.21394 -0.393502  0.015332  0.006712    6.18  \n",
       "2  0.470766  0.230323 -0.678818  1.085622 -0.940805    1.79  \n",
       "3 -0.463138 -0.434558  0.151072  0.118073  0.021872   19.98  \n",
       "4 -1.389918  0.079758 -0.127151 -0.002403 -0.410168   118.0  \n",
       "\n",
       "[5 rows x 30 columns]"
      ]
     },
     "execution_count": 20,
     "metadata": {},
     "output_type": "execute_result"
    }
   ],
   "source": [
    "bq_data_bigframes = bpd.read_gbq(query)\n",
    "bq_data_bigframes.head()"
   ]
  },
  {
   "cell_type": "code",
   "execution_count": 21,
   "id": "49f34ee8-21b8-4983-9f8d-f7cd6bbcceaa",
   "metadata": {
    "tags": []
   },
   "outputs": [
    {
     "data": {
      "text/plain": [
       "bigframes.dataframe.DataFrame"
      ]
     },
     "execution_count": 21,
     "metadata": {},
     "output_type": "execute_result"
    }
   ],
   "source": [
    "type(bq_data_bigframes)"
   ]
  },
  {
   "cell_type": "code",
   "execution_count": 22,
   "id": "8ca4e952-ae52-4c09-a662-a1157cf05765",
   "metadata": {
    "tags": []
   },
   "outputs": [
    {
     "data": {
      "text/html": [
       "Query job 6708a3c3-6e10-407d-a0ba-2f5b07d78f78 is DONE. 0 Bytes processed. <a target=\"_blank\" href=\"https://console.cloud.google.com/bigquery?project=statmike-mlops-349915&j=bq:us-central1:6708a3c3-6e10-407d-a0ba-2f5b07d78f78&page=queryresults\">Open Job</a>"
      ],
      "text/plain": [
       "<IPython.core.display.HTML object>"
      ]
     },
     "metadata": {},
     "output_type": "display_data"
    },
    {
     "data": {
      "text/plain": [
       "(228061, 30)"
      ]
     },
     "execution_count": 22,
     "metadata": {},
     "output_type": "execute_result"
    }
   ],
   "source": [
    "bq_data_bigframes.shape"
   ]
  },
  {
   "cell_type": "code",
   "execution_count": 23,
   "id": "3f9ab244-b607-42f2-a641-1955f57c60a2",
   "metadata": {
    "tags": []
   },
   "outputs": [
    {
     "data": {
      "text/html": [
       "Query job 668de646-8158-4a15-8f10-4597320ad5ea is DONE. 54.7 MB processed. <a target=\"_blank\" href=\"https://console.cloud.google.com/bigquery?project=statmike-mlops-349915&j=bq:us-central1:668de646-8158-4a15-8f10-4597320ad5ea&page=queryresults\">Open Job</a>"
      ],
      "text/plain": [
       "<IPython.core.display.HTML object>"
      ]
     },
     "metadata": {},
     "output_type": "display_data"
    },
    {
     "data": {
      "text/plain": [
       "pandas.core.frame.DataFrame"
      ]
     },
     "execution_count": 23,
     "metadata": {},
     "output_type": "execute_result"
    }
   ],
   "source": [
    "bq_data_bigframes = bq_data_bigframes.to_pandas()\n",
    "type(bq_data_bigframes)"
   ]
  },
  {
   "cell_type": "code",
   "execution_count": 24,
   "id": "f05a55f4-1297-469e-af85-0d6fbd1c5d38",
   "metadata": {
    "tags": []
   },
   "outputs": [
    {
     "data": {
      "text/plain": [
       "(228061, 30)"
      ]
     },
     "execution_count": 24,
     "metadata": {},
     "output_type": "execute_result"
    }
   ],
   "source": [
    "bq_data_bigframes.shape"
   ]
  },
  {
   "cell_type": "markdown",
   "id": "2a4209e2-3030-4b6c-8687-faa6f04cb2d0",
   "metadata": {},
   "source": [
    "### BigQuery Storage Client\n",
    "\n",
    "BigQuery storage is very efficient for retrieval with the BigQuery Storage Client.  All BigQuery permanent tables are stored in columar format with efficient blocks that also represent any clustering and partitioning used.  Retrieval from storage does not use the compute side of BigQuery and can be read directly from storage in multiple asynchronous streams.  Retrieval can also be shaped by selecting a subset of fields and setting row restrictions to filter which rows are returned.  \n",
    "- [Reference](https://cloud.google.com/python/docs/reference/bigquerystorage/latest)"
   ]
  },
  {
   "cell_type": "code",
   "execution_count": 25,
   "id": "28b2d98a-cdec-4ec3-9cab-fc66b63ce829",
   "metadata": {
    "tags": []
   },
   "outputs": [],
   "source": [
    "read_session = bqstorage.create_read_session(\n",
    "    request = dict(\n",
    "        parent = f'projects/{PROJECT_ID}',\n",
    "        read_session = dict(\n",
    "            table = f\"projects/{BQ_PROJECT}/datasets/{BQ_DATASET}/tables/{BQ_TABLE}\",\n",
    "            data_format = bigquery_storage.types.DataFormat.ARROW,\n",
    "            read_options = dict(\n",
    "                row_restriction = \"splits = 'TRAIN'\",\n",
    "                selected_fields = bq_data_bigframes.columns.tolist()\n",
    "            )\n",
    "        ),\n",
    "        max_stream_count = 0\n",
    "    )\n",
    ")"
   ]
  },
  {
   "cell_type": "code",
   "execution_count": 26,
   "id": "c90bd26b-cec2-4c5b-80c8-60496b7f9a5b",
   "metadata": {
    "tags": []
   },
   "outputs": [
    {
     "data": {
      "text/plain": [
       "1"
      ]
     },
     "execution_count": 26,
     "metadata": {},
     "output_type": "execute_result"
    }
   ],
   "source": [
    "len(read_session.streams)"
   ]
  },
  {
   "cell_type": "code",
   "execution_count": 27,
   "id": "ebd1033e-e7e1-4798-a895-00e664367388",
   "metadata": {
    "tags": []
   },
   "outputs": [],
   "source": [
    "def read_stream(stream):\n",
    "    # setup a reader\n",
    "    reader = bqstorage.read_rows(name = stream.name)\n",
    "    # read rows from reader into a dataframe.  Note this is actually multiple operations - read and convert\n",
    "    return reader.to_dataframe()\n",
    "\n",
    "\n",
    "bq_data_storage = []\n",
    "with concurrent.futures.ThreadPoolExecutor(max_workers = len(read_session.streams)) as executor:\n",
    "    futures = {\n",
    "        executor.submit(read_stream, stream): stream for stream in read_session.streams\n",
    "    }\n",
    "    for future in concurrent.futures.as_completed(futures):\n",
    "        stream = futures[future]\n",
    "        bq_data_storage.append(future.result())"
   ]
  },
  {
   "cell_type": "code",
   "execution_count": 28,
   "id": "0f0b572d-cc6f-4b50-bb20-8d924611fe0d",
   "metadata": {
    "tags": []
   },
   "outputs": [
    {
     "data": {
      "text/plain": [
       "1"
      ]
     },
     "execution_count": 28,
     "metadata": {},
     "output_type": "execute_result"
    }
   ],
   "source": [
    "len(bq_data_storage)"
   ]
  },
  {
   "cell_type": "code",
   "execution_count": 29,
   "id": "6c466822-cd9b-4f3a-980b-4f1ab0f4ee3f",
   "metadata": {
    "tags": []
   },
   "outputs": [
    {
     "data": {
      "text/plain": [
       "(228061, 30)"
      ]
     },
     "execution_count": 29,
     "metadata": {},
     "output_type": "execute_result"
    }
   ],
   "source": [
    "bq_data_storage[0].shape"
   ]
  },
  {
   "cell_type": "code",
   "execution_count": 30,
   "id": "f43461bc-bb2e-4e38-97aa-618eb58adf35",
   "metadata": {
    "tags": []
   },
   "outputs": [
    {
     "data": {
      "text/plain": [
       "(228061, 30)"
      ]
     },
     "execution_count": 30,
     "metadata": {},
     "output_type": "execute_result"
    }
   ],
   "source": [
    "bq_data_storage = pd.concat(bq_data_storage)\n",
    "bq_data_storage.shape"
   ]
  },
  {
   "cell_type": "code",
   "execution_count": 31,
   "id": "1659f506-2c83-4fad-9bd3-af7b30010619",
   "metadata": {
    "tags": []
   },
   "outputs": [
    {
     "data": {
      "text/plain": [
       "pandas.core.frame.DataFrame"
      ]
     },
     "execution_count": 31,
     "metadata": {},
     "output_type": "execute_result"
    }
   ],
   "source": [
    "type(bq_data_storage)"
   ]
  },
  {
   "cell_type": "code",
   "execution_count": 32,
   "id": "64e11d42-3f9d-4ea8-910d-30eedc1ea9ec",
   "metadata": {
    "tags": []
   },
   "outputs": [
    {
     "data": {
      "text/html": [
       "<div>\n",
       "<style scoped>\n",
       "    .dataframe tbody tr th:only-of-type {\n",
       "        vertical-align: middle;\n",
       "    }\n",
       "\n",
       "    .dataframe tbody tr th {\n",
       "        vertical-align: top;\n",
       "    }\n",
       "\n",
       "    .dataframe thead th {\n",
       "        text-align: right;\n",
       "    }\n",
       "</style>\n",
       "<table border=\"1\" class=\"dataframe\">\n",
       "  <thead>\n",
       "    <tr style=\"text-align: right;\">\n",
       "      <th></th>\n",
       "      <th>Time</th>\n",
       "      <th>V1</th>\n",
       "      <th>V2</th>\n",
       "      <th>V3</th>\n",
       "      <th>V4</th>\n",
       "      <th>V5</th>\n",
       "      <th>V6</th>\n",
       "      <th>V7</th>\n",
       "      <th>V8</th>\n",
       "      <th>V9</th>\n",
       "      <th>...</th>\n",
       "      <th>V20</th>\n",
       "      <th>V21</th>\n",
       "      <th>V22</th>\n",
       "      <th>V23</th>\n",
       "      <th>V24</th>\n",
       "      <th>V25</th>\n",
       "      <th>V26</th>\n",
       "      <th>V27</th>\n",
       "      <th>V28</th>\n",
       "      <th>Amount</th>\n",
       "    </tr>\n",
       "  </thead>\n",
       "  <tbody>\n",
       "    <tr>\n",
       "      <th>0</th>\n",
       "      <td>2812</td>\n",
       "      <td>-0.633403</td>\n",
       "      <td>0.963616</td>\n",
       "      <td>2.494946</td>\n",
       "      <td>2.099051</td>\n",
       "      <td>-0.404331</td>\n",
       "      <td>0.235862</td>\n",
       "      <td>-0.007932</td>\n",
       "      <td>0.211442</td>\n",
       "      <td>-0.209817</td>\n",
       "      <td>...</td>\n",
       "      <td>-0.174985</td>\n",
       "      <td>0.014676</td>\n",
       "      <td>0.016278</td>\n",
       "      <td>-0.061462</td>\n",
       "      <td>0.355196</td>\n",
       "      <td>-0.179086</td>\n",
       "      <td>-0.106947</td>\n",
       "      <td>-0.215039</td>\n",
       "      <td>0.050698</td>\n",
       "      <td>0.0</td>\n",
       "    </tr>\n",
       "    <tr>\n",
       "      <th>1</th>\n",
       "      <td>3150</td>\n",
       "      <td>1.313281</td>\n",
       "      <td>-0.257923</td>\n",
       "      <td>0.118463</td>\n",
       "      <td>-0.735557</td>\n",
       "      <td>-0.569308</td>\n",
       "      <td>-0.733577</td>\n",
       "      <td>-0.138659</td>\n",
       "      <td>-0.141641</td>\n",
       "      <td>1.708019</td>\n",
       "      <td>...</td>\n",
       "      <td>-0.145144</td>\n",
       "      <td>-0.082467</td>\n",
       "      <td>0.126066</td>\n",
       "      <td>-0.223157</td>\n",
       "      <td>-0.074977</td>\n",
       "      <td>0.921940</td>\n",
       "      <td>-0.528283</td>\n",
       "      <td>0.064476</td>\n",
       "      <td>0.013132</td>\n",
       "      <td>0.0</td>\n",
       "    </tr>\n",
       "    <tr>\n",
       "      <th>2</th>\n",
       "      <td>16676</td>\n",
       "      <td>1.158480</td>\n",
       "      <td>0.168947</td>\n",
       "      <td>0.536345</td>\n",
       "      <td>1.187908</td>\n",
       "      <td>-0.265547</td>\n",
       "      <td>-0.076325</td>\n",
       "      <td>-0.355844</td>\n",
       "      <td>0.144615</td>\n",
       "      <td>1.462346</td>\n",
       "      <td>...</td>\n",
       "      <td>-0.355289</td>\n",
       "      <td>0.016492</td>\n",
       "      <td>0.263518</td>\n",
       "      <td>-0.076711</td>\n",
       "      <td>-0.079402</td>\n",
       "      <td>0.502827</td>\n",
       "      <td>-0.270819</td>\n",
       "      <td>-0.004966</td>\n",
       "      <td>-0.003372</td>\n",
       "      <td>0.0</td>\n",
       "    </tr>\n",
       "    <tr>\n",
       "      <th>3</th>\n",
       "      <td>17701</td>\n",
       "      <td>-1.279231</td>\n",
       "      <td>-0.153303</td>\n",
       "      <td>3.296310</td>\n",
       "      <td>3.320441</td>\n",
       "      <td>1.139018</td>\n",
       "      <td>0.542343</td>\n",
       "      <td>-0.729928</td>\n",
       "      <td>-0.051774</td>\n",
       "      <td>0.922712</td>\n",
       "      <td>...</td>\n",
       "      <td>0.028639</td>\n",
       "      <td>-0.409746</td>\n",
       "      <td>-0.342575</td>\n",
       "      <td>-0.493297</td>\n",
       "      <td>-0.017046</td>\n",
       "      <td>-0.107404</td>\n",
       "      <td>0.101164</td>\n",
       "      <td>-0.197940</td>\n",
       "      <td>-0.435654</td>\n",
       "      <td>0.0</td>\n",
       "    </tr>\n",
       "    <tr>\n",
       "      <th>4</th>\n",
       "      <td>28131</td>\n",
       "      <td>1.069507</td>\n",
       "      <td>-0.000362</td>\n",
       "      <td>1.448936</td>\n",
       "      <td>2.874498</td>\n",
       "      <td>-0.736266</td>\n",
       "      <td>0.831932</td>\n",
       "      <td>-0.762267</td>\n",
       "      <td>0.406772</td>\n",
       "      <td>0.626473</td>\n",
       "      <td>...</td>\n",
       "      <td>-0.292305</td>\n",
       "      <td>0.035393</td>\n",
       "      <td>0.444433</td>\n",
       "      <td>-0.085413</td>\n",
       "      <td>0.099090</td>\n",
       "      <td>0.506438</td>\n",
       "      <td>0.246418</td>\n",
       "      <td>0.057864</td>\n",
       "      <td>0.021133</td>\n",
       "      <td>0.0</td>\n",
       "    </tr>\n",
       "  </tbody>\n",
       "</table>\n",
       "<p>5 rows × 30 columns</p>\n",
       "</div>"
      ],
      "text/plain": [
       "    Time        V1        V2        V3        V4        V5        V6  \\\n",
       "0   2812 -0.633403  0.963616  2.494946  2.099051 -0.404331  0.235862   \n",
       "1   3150  1.313281 -0.257923  0.118463 -0.735557 -0.569308 -0.733577   \n",
       "2  16676  1.158480  0.168947  0.536345  1.187908 -0.265547 -0.076325   \n",
       "3  17701 -1.279231 -0.153303  3.296310  3.320441  1.139018  0.542343   \n",
       "4  28131  1.069507 -0.000362  1.448936  2.874498 -0.736266  0.831932   \n",
       "\n",
       "         V7        V8        V9  ...       V20       V21       V22       V23  \\\n",
       "0 -0.007932  0.211442 -0.209817  ... -0.174985  0.014676  0.016278 -0.061462   \n",
       "1 -0.138659 -0.141641  1.708019  ... -0.145144 -0.082467  0.126066 -0.223157   \n",
       "2 -0.355844  0.144615  1.462346  ... -0.355289  0.016492  0.263518 -0.076711   \n",
       "3 -0.729928 -0.051774  0.922712  ...  0.028639 -0.409746 -0.342575 -0.493297   \n",
       "4 -0.762267  0.406772  0.626473  ... -0.292305  0.035393  0.444433 -0.085413   \n",
       "\n",
       "        V24       V25       V26       V27       V28  Amount  \n",
       "0  0.355196 -0.179086 -0.106947 -0.215039  0.050698     0.0  \n",
       "1 -0.074977  0.921940 -0.528283  0.064476  0.013132     0.0  \n",
       "2 -0.079402  0.502827 -0.270819 -0.004966 -0.003372     0.0  \n",
       "3 -0.017046 -0.107404  0.101164 -0.197940 -0.435654     0.0  \n",
       "4  0.099090  0.506438  0.246418  0.057864  0.021133     0.0  \n",
       "\n",
       "[5 rows x 30 columns]"
      ]
     },
     "execution_count": 32,
     "metadata": {},
     "output_type": "execute_result"
    }
   ],
   "source": [
    "bq_data_storage.head()"
   ]
  },
  {
   "cell_type": "markdown",
   "id": "59109c58-de01-4578-b21c-8ae1fed8f4af",
   "metadata": {},
   "source": [
    "### Indirect BigQuery with `pandas-gbq`\n",
    "\n",
    "When working with [Pandas](https://pandas.pydata.org/docs/user_guide/index.html#user-guide) the methods above show the client returning data to pandas dataframes.  This section will show a pandas mudule, [pandas-gbq](https://pandas-gbq.readthedocs.io/en/latest/) that wraps the BigQuery client so that pandas can retrieve BigQuery data to dataframes.\n",
    "\n",
    "References:\n",
    "- [Comparison of BigQuery Client with pandas-gbq](https://cloud.google.com/bigquery/docs/pandas-gbq-migration)"
   ]
  },
  {
   "cell_type": "code",
   "execution_count": 33,
   "id": "8c4a2fdb-91e3-4a91-8700-fbc67290caa9",
   "metadata": {
    "tags": []
   },
   "outputs": [
    {
     "data": {
      "text/html": [
       "<div>\n",
       "<style scoped>\n",
       "    .dataframe tbody tr th:only-of-type {\n",
       "        vertical-align: middle;\n",
       "    }\n",
       "\n",
       "    .dataframe tbody tr th {\n",
       "        vertical-align: top;\n",
       "    }\n",
       "\n",
       "    .dataframe thead th {\n",
       "        text-align: right;\n",
       "    }\n",
       "</style>\n",
       "<table border=\"1\" class=\"dataframe\">\n",
       "  <thead>\n",
       "    <tr style=\"text-align: right;\">\n",
       "      <th></th>\n",
       "      <th>Time</th>\n",
       "      <th>V1</th>\n",
       "      <th>V2</th>\n",
       "      <th>V3</th>\n",
       "      <th>V4</th>\n",
       "      <th>V5</th>\n",
       "      <th>V6</th>\n",
       "      <th>V7</th>\n",
       "      <th>V8</th>\n",
       "      <th>V9</th>\n",
       "      <th>...</th>\n",
       "      <th>V20</th>\n",
       "      <th>V21</th>\n",
       "      <th>V22</th>\n",
       "      <th>V23</th>\n",
       "      <th>V24</th>\n",
       "      <th>V25</th>\n",
       "      <th>V26</th>\n",
       "      <th>V27</th>\n",
       "      <th>V28</th>\n",
       "      <th>Amount</th>\n",
       "    </tr>\n",
       "  </thead>\n",
       "  <tbody>\n",
       "    <tr>\n",
       "      <th>0</th>\n",
       "      <td>2812</td>\n",
       "      <td>-0.633403</td>\n",
       "      <td>0.963616</td>\n",
       "      <td>2.494946</td>\n",
       "      <td>2.099051</td>\n",
       "      <td>-0.404331</td>\n",
       "      <td>0.235862</td>\n",
       "      <td>-0.007932</td>\n",
       "      <td>0.211442</td>\n",
       "      <td>-0.209817</td>\n",
       "      <td>...</td>\n",
       "      <td>-0.174985</td>\n",
       "      <td>0.014676</td>\n",
       "      <td>0.016278</td>\n",
       "      <td>-0.061462</td>\n",
       "      <td>0.355196</td>\n",
       "      <td>-0.179086</td>\n",
       "      <td>-0.106947</td>\n",
       "      <td>-0.215039</td>\n",
       "      <td>0.050698</td>\n",
       "      <td>0.0</td>\n",
       "    </tr>\n",
       "    <tr>\n",
       "      <th>1</th>\n",
       "      <td>3150</td>\n",
       "      <td>1.313281</td>\n",
       "      <td>-0.257923</td>\n",
       "      <td>0.118463</td>\n",
       "      <td>-0.735557</td>\n",
       "      <td>-0.569308</td>\n",
       "      <td>-0.733577</td>\n",
       "      <td>-0.138659</td>\n",
       "      <td>-0.141641</td>\n",
       "      <td>1.708019</td>\n",
       "      <td>...</td>\n",
       "      <td>-0.145144</td>\n",
       "      <td>-0.082467</td>\n",
       "      <td>0.126066</td>\n",
       "      <td>-0.223157</td>\n",
       "      <td>-0.074977</td>\n",
       "      <td>0.921940</td>\n",
       "      <td>-0.528283</td>\n",
       "      <td>0.064476</td>\n",
       "      <td>0.013132</td>\n",
       "      <td>0.0</td>\n",
       "    </tr>\n",
       "    <tr>\n",
       "      <th>2</th>\n",
       "      <td>16676</td>\n",
       "      <td>1.158480</td>\n",
       "      <td>0.168947</td>\n",
       "      <td>0.536345</td>\n",
       "      <td>1.187908</td>\n",
       "      <td>-0.265547</td>\n",
       "      <td>-0.076325</td>\n",
       "      <td>-0.355844</td>\n",
       "      <td>0.144615</td>\n",
       "      <td>1.462346</td>\n",
       "      <td>...</td>\n",
       "      <td>-0.355289</td>\n",
       "      <td>0.016492</td>\n",
       "      <td>0.263518</td>\n",
       "      <td>-0.076711</td>\n",
       "      <td>-0.079402</td>\n",
       "      <td>0.502827</td>\n",
       "      <td>-0.270819</td>\n",
       "      <td>-0.004966</td>\n",
       "      <td>-0.003372</td>\n",
       "      <td>0.0</td>\n",
       "    </tr>\n",
       "    <tr>\n",
       "      <th>3</th>\n",
       "      <td>17701</td>\n",
       "      <td>-1.279231</td>\n",
       "      <td>-0.153303</td>\n",
       "      <td>3.296310</td>\n",
       "      <td>3.320441</td>\n",
       "      <td>1.139018</td>\n",
       "      <td>0.542343</td>\n",
       "      <td>-0.729928</td>\n",
       "      <td>-0.051774</td>\n",
       "      <td>0.922712</td>\n",
       "      <td>...</td>\n",
       "      <td>0.028639</td>\n",
       "      <td>-0.409746</td>\n",
       "      <td>-0.342575</td>\n",
       "      <td>-0.493297</td>\n",
       "      <td>-0.017046</td>\n",
       "      <td>-0.107404</td>\n",
       "      <td>0.101164</td>\n",
       "      <td>-0.197940</td>\n",
       "      <td>-0.435654</td>\n",
       "      <td>0.0</td>\n",
       "    </tr>\n",
       "    <tr>\n",
       "      <th>4</th>\n",
       "      <td>28131</td>\n",
       "      <td>1.069507</td>\n",
       "      <td>-0.000362</td>\n",
       "      <td>1.448936</td>\n",
       "      <td>2.874498</td>\n",
       "      <td>-0.736266</td>\n",
       "      <td>0.831932</td>\n",
       "      <td>-0.762267</td>\n",
       "      <td>0.406772</td>\n",
       "      <td>0.626473</td>\n",
       "      <td>...</td>\n",
       "      <td>-0.292305</td>\n",
       "      <td>0.035393</td>\n",
       "      <td>0.444433</td>\n",
       "      <td>-0.085413</td>\n",
       "      <td>0.099090</td>\n",
       "      <td>0.506438</td>\n",
       "      <td>0.246418</td>\n",
       "      <td>0.057864</td>\n",
       "      <td>0.021133</td>\n",
       "      <td>0.0</td>\n",
       "    </tr>\n",
       "  </tbody>\n",
       "</table>\n",
       "<p>5 rows × 30 columns</p>\n",
       "</div>"
      ],
      "text/plain": [
       "    Time        V1        V2        V3        V4        V5        V6  \\\n",
       "0   2812 -0.633403  0.963616  2.494946  2.099051 -0.404331  0.235862   \n",
       "1   3150  1.313281 -0.257923  0.118463 -0.735557 -0.569308 -0.733577   \n",
       "2  16676  1.158480  0.168947  0.536345  1.187908 -0.265547 -0.076325   \n",
       "3  17701 -1.279231 -0.153303  3.296310  3.320441  1.139018  0.542343   \n",
       "4  28131  1.069507 -0.000362  1.448936  2.874498 -0.736266  0.831932   \n",
       "\n",
       "         V7        V8        V9  ...       V20       V21       V22       V23  \\\n",
       "0 -0.007932  0.211442 -0.209817  ... -0.174985  0.014676  0.016278 -0.061462   \n",
       "1 -0.138659 -0.141641  1.708019  ... -0.145144 -0.082467  0.126066 -0.223157   \n",
       "2 -0.355844  0.144615  1.462346  ... -0.355289  0.016492  0.263518 -0.076711   \n",
       "3 -0.729928 -0.051774  0.922712  ...  0.028639 -0.409746 -0.342575 -0.493297   \n",
       "4 -0.762267  0.406772  0.626473  ... -0.292305  0.035393  0.444433 -0.085413   \n",
       "\n",
       "        V24       V25       V26       V27       V28  Amount  \n",
       "0  0.355196 -0.179086 -0.106947 -0.215039  0.050698     0.0  \n",
       "1 -0.074977  0.921940 -0.528283  0.064476  0.013132     0.0  \n",
       "2 -0.079402  0.502827 -0.270819 -0.004966 -0.003372     0.0  \n",
       "3 -0.017046 -0.107404  0.101164 -0.197940 -0.435654     0.0  \n",
       "4  0.099090  0.506438  0.246418  0.057864  0.021133     0.0  \n",
       "\n",
       "[5 rows x 30 columns]"
      ]
     },
     "execution_count": 33,
     "metadata": {},
     "output_type": "execute_result"
    }
   ],
   "source": [
    "bq_data_pandasgbq = pd.read_gbq(query, project_id = PROJECT_ID)\n",
    "bq_data_pandasgbq.head()"
   ]
  },
  {
   "cell_type": "code",
   "execution_count": 34,
   "id": "4863857f-3cf9-40da-83af-f7046edf3fac",
   "metadata": {
    "tags": []
   },
   "outputs": [
    {
     "data": {
      "text/plain": [
       "pandas.core.frame.DataFrame"
      ]
     },
     "execution_count": 34,
     "metadata": {},
     "output_type": "execute_result"
    }
   ],
   "source": [
    "type(bq_data_pandasgbq)"
   ]
  },
  {
   "cell_type": "code",
   "execution_count": 35,
   "id": "f74ce91f-2681-4461-a412-55a60f9fd386",
   "metadata": {
    "tags": []
   },
   "outputs": [
    {
     "data": {
      "text/plain": [
       "(228061, 30)"
      ]
     },
     "execution_count": 35,
     "metadata": {},
     "output_type": "execute_result"
    }
   ],
   "source": [
    "bq_data_pandasgbq.shape"
   ]
  },
  {
   "cell_type": "markdown",
   "id": "9fa569d4-1000-4225-9feb-421025877e45",
   "metadata": {},
   "source": [
    "## From Pandas Dataframe To TensorFlow Dataset\n",
    "\n",
    "The methods above read data to a Pandas dataframe that is local to this session.  This section shows how to make the dataframe ready for TensorFlow as a `tf.data` object.  More methods are [covered here](https://www.tensorflow.org/tutorials/load_data/pandas_dataframe) in the TensorFlow tutorials."
   ]
  },
  {
   "cell_type": "markdown",
   "id": "578ecc5c-aa9c-4a9f-935f-733aa9c539af",
   "metadata": {},
   "source": [
    "### Features as a feature array:\n",
    "\n",
    "The following constructs a reader that converts the feature columns into a feature array.  This can be helpful when all the columns have the same data type, however, it does require providing data in the same column order at serving time which could create difficulty.  For named inputs see the section that follows this one."
   ]
  },
  {
   "cell_type": "markdown",
   "id": "29daa36f-2811-4f53-8c55-2a90c9118db8",
   "metadata": {},
   "source": [
    "Make a copy of one of the dataframes above:"
   ]
  },
  {
   "cell_type": "code",
   "execution_count": 36,
   "id": "33482861-c559-4003-8606-bc7adf65d1e8",
   "metadata": {
    "tags": []
   },
   "outputs": [],
   "source": [
    "training_data = bq_data_storage.copy()"
   ]
  },
  {
   "cell_type": "markdown",
   "id": "114c8e6a-2d90-4d67-bb1b-abf4e8627bdf",
   "metadata": {},
   "source": [
    "Setup a `tf.data` object to read the dataframe.  In this case, each row would be read as an array.\n",
    "\n",
    "References:\n",
    "    - [tf.data.Dataset.from_tensor_slices()](https://www.tensorflow.org/api_docs/python/tf/data/Dataset#from_tensor_slices)\n",
    "    - [Load a pandas DataFrame - A DataFrame as a dictionary](https://www.tensorflow.org/tutorials/load_data/pandas_dataframe#a_dataframe_as_a_dictionary)"
   ]
  },
  {
   "cell_type": "code",
   "execution_count": 37,
   "id": "2374011c-30e3-470b-a801-e26f3542f157",
   "metadata": {
    "tags": []
   },
   "outputs": [],
   "source": [
    "training_reader_array = tf.data.Dataset.from_tensor_slices(training_data)"
   ]
  },
  {
   "cell_type": "markdown",
   "id": "352feb13-5e2e-45a4-9d89-22a90e8e7c65",
   "metadata": {},
   "source": [
    "Setup and [iterator](https://docs.python.org/3/library/functions.html#iter) and review a return value from the [tf.data.Dataset](https://www.tensorflow.org/api_docs/python/tf/data/Dataset):"
   ]
  },
  {
   "cell_type": "code",
   "execution_count": 38,
   "id": "f4e9f6d9-d833-4a82-8911-e6267411e74d",
   "metadata": {
    "tags": []
   },
   "outputs": [
    {
     "data": {
      "text/plain": [
       "<tf.Tensor: shape=(30,), dtype=float64, numpy=\n",
       "array([ 2.81200000e+03, -6.33402988e-01,  9.63616039e-01,  2.49494562e+00,\n",
       "        2.09905099e+00, -4.04330673e-01,  2.35861580e-01, -7.93190515e-03,\n",
       "        2.11441518e-01, -2.09816820e-01,  3.08297603e-01, -1.20499231e+00,\n",
       "       -4.74707809e-01, -6.54063562e-01, -4.74599113e-01, -4.28417793e-01,\n",
       "        5.36651482e-01, -3.80654617e-01,  2.86505393e-02, -6.87969434e-01,\n",
       "       -1.74984760e-01,  1.46755278e-02,  1.62781766e-02, -6.14624729e-02,\n",
       "        3.55196343e-01, -1.79085504e-01, -1.06947425e-01, -2.15039257e-01,\n",
       "        5.06977952e-02,  0.00000000e+00])>"
      ]
     },
     "execution_count": 38,
     "metadata": {},
     "output_type": "execute_result"
    }
   ],
   "source": [
    "ds_iter = iter(training_reader_array)\n",
    "next(ds_iter)"
   ]
  },
  {
   "cell_type": "markdown",
   "id": "b48fcc36-f8ba-42f4-89ea-b48432945513",
   "metadata": {},
   "source": [
    "### Features as named inputs:\n",
    "\n",
    "This approach maps each column to an input with the column name.  Basically, a dictionary of columns.  The additional step is casting the dataframe as a dictionary with `dict(df)`.  When columns have different data types or when they need to be named inputs to help with serving the model later."
   ]
  },
  {
   "cell_type": "markdown",
   "id": "1d5dae1f-864c-4bf0-8ed6-f6d0ac7e1c2b",
   "metadata": {},
   "source": [
    "Make a copy of one of the dataframes above:"
   ]
  },
  {
   "cell_type": "code",
   "execution_count": 39,
   "id": "86a265b3-6394-4f5a-ac04-8b541ba6c4de",
   "metadata": {
    "tags": []
   },
   "outputs": [],
   "source": [
    "training_data = bq_data_storage.copy()"
   ]
  },
  {
   "cell_type": "markdown",
   "id": "802bd07a-2143-4d80-b1d6-5a1df1782e74",
   "metadata": {},
   "source": [
    "Setup a `tf.data` object to read the dataframe.  In this case, cast the dataframe to a dictonary to preserve the column names in the inputs. Otherwise each row would be read as an array.\n",
    "\n",
    "References:\n",
    "    - [tf.data.Dataset.from_tensor_slices()](https://www.tensorflow.org/api_docs/python/tf/data/Dataset#from_tensor_slices)\n",
    "    - [Load a pandas DataFrame - A DataFrame as a dictionary](https://www.tensorflow.org/tutorials/load_data/pandas_dataframe#a_dataframe_as_a_dictionary)"
   ]
  },
  {
   "cell_type": "code",
   "execution_count": 40,
   "id": "76ed44a0-566a-4829-bd10-394a3811af54",
   "metadata": {
    "tags": []
   },
   "outputs": [],
   "source": [
    "training_reader = tf.data.Dataset.from_tensor_slices(dict(training_data))"
   ]
  },
  {
   "cell_type": "markdown",
   "id": "f361bcb2-b706-4ac4-83e9-d439e9643ccc",
   "metadata": {},
   "source": [
    "Setup and [iterator](https://docs.python.org/3/library/functions.html#iter) and review a return value from the [tf.data.Dataset](https://www.tensorflow.org/api_docs/python/tf/data/Dataset):"
   ]
  },
  {
   "cell_type": "code",
   "execution_count": 41,
   "id": "09487614-e1ef-493d-a220-c7b3927101b0",
   "metadata": {
    "tags": []
   },
   "outputs": [
    {
     "data": {
      "text/plain": [
       "{'Time': 2812,\n",
       " 'V1': -0.6334029882736469,\n",
       " 'V2': 0.9636160386293929,\n",
       " 'V3': 2.4949456217577497,\n",
       " 'V4': 2.0990509863350297,\n",
       " 'V5': -0.4043306727875379,\n",
       " 'V6': 0.23586157953548997,\n",
       " 'V7': -0.00793190515031739,\n",
       " 'V8': 0.211441518482132,\n",
       " 'V9': -0.20981682042808,\n",
       " 'V10': 0.308297602896481,\n",
       " 'V11': -1.20499230853772,\n",
       " 'V12': -0.4747078092970429,\n",
       " 'V13': -0.654063561632139,\n",
       " 'V14': -0.474599113137004,\n",
       " 'V15': -0.428417793384727,\n",
       " 'V16': 0.5366514815446061,\n",
       " 'V17': -0.380654616844995,\n",
       " 'V18': 0.0286505393093891,\n",
       " 'V19': -0.687969434192997,\n",
       " 'V20': -0.174984760363205,\n",
       " 'V21': 0.0146755277991034,\n",
       " 'V22': 0.0162781765829899,\n",
       " 'V23': -0.061462472923487,\n",
       " 'V24': 0.35519634316361604,\n",
       " 'V25': -0.17908550429831896,\n",
       " 'V26': -0.10694742544378999,\n",
       " 'V27': -0.21503925668538898,\n",
       " 'V28': 0.0506977952270228,\n",
       " 'Amount': 0.0}"
      ]
     },
     "execution_count": 41,
     "metadata": {},
     "output_type": "execute_result"
    }
   ],
   "source": [
    "ds_iter = iter(training_reader)\n",
    "{key: value.numpy() for key, value in next(ds_iter).items()}"
   ]
  },
  {
   "cell_type": "markdown",
   "id": "6326a1bc-532a-4920-9503-d97577bd5111",
   "metadata": {},
   "source": [
    "### Formating Features With The Dataset\n",
    "\n",
    "By building functions that format features the functions can be mapped to the input of the Dataset reader.  In this case a main function, `features_to_array`, will be used to add an input named `feature_array` that is an array of all the named feature inputs."
   ]
  },
  {
   "cell_type": "markdown",
   "id": "5bab5cc0-eb0f-4400-a48e-42c41909e838",
   "metadata": {},
   "source": [
    "Build a function and compile it as a `tf.function` that creates a new input feature that is an array of all numeric features values. Also, cast columns to a common datatype as needed.\n",
    "\n",
    "References:\n",
    "- [tf.function](https://www.tensorflow.org/api_docs/python/tf/function)\n",
    "- [Introduction to graphs and tf.function](https://www.tensorflow.org/guide/intro_to_graphs)"
   ]
  },
  {
   "cell_type": "code",
   "execution_count": 42,
   "id": "f700a999-4a51-4602-83f4-30c03becc7a5",
   "metadata": {
    "tags": []
   },
   "outputs": [],
   "source": [
    "@tf.function\n",
    "def features_to_array(x):\n",
    "    y = {}\n",
    "    y.update(x)\n",
    "    feature_array = []\n",
    "    for col in training_data.columns:\n",
    "        if x[col].dtype != tf.float64:\n",
    "            feature_array.append(tf.cast(x[col], tf.float64))\n",
    "        else:\n",
    "            feature_array.append(x[col])\n",
    "    \n",
    "    y['feature_array'] = feature_array\n",
    "    return y"
   ]
  },
  {
   "cell_type": "markdown",
   "id": "557c10a0-2f90-4938-821d-9bb8f8061aa4",
   "metadata": {},
   "source": [
    "Use an iterator to return and review a value from the Dataset while [mapping](https://www.tensorflow.org/api_docs/python/tf/data/Dataset#map) this function to each call:"
   ]
  },
  {
   "cell_type": "code",
   "execution_count": 43,
   "id": "60fa8a90-a98d-49f3-adb3-80fe392c85cd",
   "metadata": {
    "tags": []
   },
   "outputs": [
    {
     "data": {
      "text/plain": [
       "{'Time': 2812,\n",
       " 'V1': -0.6334029882736469,\n",
       " 'V2': 0.9636160386293929,\n",
       " 'V3': 2.4949456217577497,\n",
       " 'V4': 2.0990509863350297,\n",
       " 'V5': -0.4043306727875379,\n",
       " 'V6': 0.23586157953548997,\n",
       " 'V7': -0.00793190515031739,\n",
       " 'V8': 0.211441518482132,\n",
       " 'V9': -0.20981682042808,\n",
       " 'V10': 0.308297602896481,\n",
       " 'V11': -1.20499230853772,\n",
       " 'V12': -0.4747078092970429,\n",
       " 'V13': -0.654063561632139,\n",
       " 'V14': -0.474599113137004,\n",
       " 'V15': -0.428417793384727,\n",
       " 'V16': 0.5366514815446061,\n",
       " 'V17': -0.380654616844995,\n",
       " 'V18': 0.0286505393093891,\n",
       " 'V19': -0.687969434192997,\n",
       " 'V20': -0.174984760363205,\n",
       " 'V21': 0.0146755277991034,\n",
       " 'V22': 0.0162781765829899,\n",
       " 'V23': -0.061462472923487,\n",
       " 'V24': 0.35519634316361604,\n",
       " 'V25': -0.17908550429831896,\n",
       " 'V26': -0.10694742544378999,\n",
       " 'V27': -0.21503925668538898,\n",
       " 'V28': 0.0506977952270228,\n",
       " 'Amount': 0.0,\n",
       " 'feature_array': array([ 2.81200000e+03, -6.33402988e-01,  9.63616039e-01,  2.49494562e+00,\n",
       "         2.09905099e+00, -4.04330673e-01,  2.35861580e-01, -7.93190515e-03,\n",
       "         2.11441518e-01, -2.09816820e-01,  3.08297603e-01, -1.20499231e+00,\n",
       "        -4.74707809e-01, -6.54063562e-01, -4.74599113e-01, -4.28417793e-01,\n",
       "         5.36651482e-01, -3.80654617e-01,  2.86505393e-02, -6.87969434e-01,\n",
       "        -1.74984760e-01,  1.46755278e-02,  1.62781766e-02, -6.14624729e-02,\n",
       "         3.55196343e-01, -1.79085504e-01, -1.06947425e-01, -2.15039257e-01,\n",
       "         5.06977952e-02,  0.00000000e+00])}"
      ]
     },
     "execution_count": 43,
     "metadata": {},
     "output_type": "execute_result"
    }
   ],
   "source": [
    "ds_iter = iter(training_reader.map(features_to_array))\n",
    "{key: value.numpy() for key, value in next(ds_iter).items()}"
   ]
  },
  {
   "cell_type": "markdown",
   "id": "1692d11d-169a-4ff7-99e4-3851063413e6",
   "metadata": {},
   "source": [
    "Now test the Dataset reader with option that will be used, like:\n",
    "- [batch()](https://www.tensorflow.org/api_docs/python/tf/data/Dataset#batch) to limit the number of rows per call\n",
    "- [map(lambda v: (v. v.pop('feature_array')))](https://www.tensorflow.org/api_docs/python/tf/data/Dataset#map) to turn the response into a tuple with the feature columns in the first element and the new 'feature_array' in the second element.\n",
    "\n",
    "Use [take(1)](https://www.tensorflow.org/api_docs/python/tf/data/Dataset#take) to limit the number of calls for batches to a single request."
   ]
  },
  {
   "cell_type": "code",
   "execution_count": 44,
   "id": "14f624be-7aa1-4a88-a26d-e791f88ceb84",
   "metadata": {
    "tags": []
   },
   "outputs": [
    {
     "name": "stdout",
     "output_type": "stream",
     "text": [
      "features:\n",
      " ['Time', 'V1', 'V2', 'V3', 'V4', 'V5', 'V6', 'V7', 'V8', 'V9', 'V10', 'V11', 'V12', 'V13', 'V14', 'V15', 'V16', 'V17', 'V18', 'V19', 'V20', 'V21', 'V22', 'V23', 'V24', 'V25', 'V26', 'V27', 'V28', 'Amount']\n",
      "('Time', <tf.Tensor: shape=(2,), dtype=int64, numpy=array([2812, 3150])>)\n",
      "('V1', <tf.Tensor: shape=(2,), dtype=float64, numpy=array([-0.63340299,  1.31328087])>)\n",
      "('V2', <tf.Tensor: shape=(2,), dtype=float64, numpy=array([ 0.96361604, -0.25792282])>)\n",
      "('V3', <tf.Tensor: shape=(2,), dtype=float64, numpy=array([2.49494562, 0.11846283])>)\n",
      "('V4', <tf.Tensor: shape=(2,), dtype=float64, numpy=array([ 2.09905099, -0.73555665])>)\n",
      "('V5', <tf.Tensor: shape=(2,), dtype=float64, numpy=array([-0.40433067, -0.56930772])>)\n",
      "('V6', <tf.Tensor: shape=(2,), dtype=float64, numpy=array([ 0.23586158, -0.73357721])>)\n",
      "('V7', <tf.Tensor: shape=(2,), dtype=float64, numpy=array([-0.00793191, -0.13865918])>)\n",
      "('V8', <tf.Tensor: shape=(2,), dtype=float64, numpy=array([ 0.21144152, -0.14164134])>)\n",
      "('V9', <tf.Tensor: shape=(2,), dtype=float64, numpy=array([-0.20981682,  1.70801916])>)\n",
      "('V10', <tf.Tensor: shape=(2,), dtype=float64, numpy=array([ 0.3082976 , -1.10329377])>)\n",
      "('V11', <tf.Tensor: shape=(2,), dtype=float64, numpy=array([-1.20499231, -1.08782009])>)\n",
      "('V12', <tf.Tensor: shape=(2,), dtype=float64, numpy=array([-0.47470781,  0.64467588])>)\n",
      "('V13', <tf.Tensor: shape=(2,), dtype=float64, numpy=array([-0.65406356, -0.21536864])>)\n",
      "('V14', <tf.Tensor: shape=(2,), dtype=float64, numpy=array([-0.47459911, -0.07471497])>)\n",
      "('V15', <tf.Tensor: shape=(2,), dtype=float64, numpy=array([-0.42841779,  0.28787333])>)\n",
      "('V16', <tf.Tensor: shape=(2,), dtype=float64, numpy=array([ 0.53665148, -1.00176397])>)\n",
      "('V17', <tf.Tensor: shape=(2,), dtype=float64, numpy=array([-0.38065462,  0.09376776])>)\n",
      "('V18', <tf.Tensor: shape=(2,), dtype=float64, numpy=array([ 0.02865054, -0.07254906])>)\n",
      "('V19', <tf.Tensor: shape=(2,), dtype=float64, numpy=array([-0.68796943,  1.1083853 ])>)\n",
      "('V20', <tf.Tensor: shape=(2,), dtype=float64, numpy=array([-0.17498476, -0.14514383])>)\n",
      "('V21', <tf.Tensor: shape=(2,), dtype=float64, numpy=array([ 0.01467553, -0.08246737])>)\n",
      "('V22', <tf.Tensor: shape=(2,), dtype=float64, numpy=array([0.01627818, 0.12606591])>)\n",
      "('V23', <tf.Tensor: shape=(2,), dtype=float64, numpy=array([-0.06146247, -0.22315725])>)\n",
      "('V24', <tf.Tensor: shape=(2,), dtype=float64, numpy=array([ 0.35519634, -0.07497714])>)\n",
      "('V25', <tf.Tensor: shape=(2,), dtype=float64, numpy=array([-0.1790855 ,  0.92193958])>)\n",
      "('V26', <tf.Tensor: shape=(2,), dtype=float64, numpy=array([-0.10694743, -0.52828348])>)\n",
      "('V27', <tf.Tensor: shape=(2,), dtype=float64, numpy=array([-0.21503926,  0.06447566])>)\n",
      "('V28', <tf.Tensor: shape=(2,), dtype=float64, numpy=array([0.0506978 , 0.01313189])>)\n",
      "('Amount', <tf.Tensor: shape=(2,), dtype=float64, numpy=array([0., 0.])>)\n",
      "feature array:\n",
      " tf.Tensor(\n",
      "[[ 2.81200000e+03 -6.33402988e-01  9.63616039e-01  2.49494562e+00\n",
      "   2.09905099e+00 -4.04330673e-01  2.35861580e-01 -7.93190515e-03\n",
      "   2.11441518e-01 -2.09816820e-01  3.08297603e-01 -1.20499231e+00\n",
      "  -4.74707809e-01 -6.54063562e-01 -4.74599113e-01 -4.28417793e-01\n",
      "   5.36651482e-01 -3.80654617e-01  2.86505393e-02 -6.87969434e-01\n",
      "  -1.74984760e-01  1.46755278e-02  1.62781766e-02 -6.14624729e-02\n",
      "   3.55196343e-01 -1.79085504e-01 -1.06947425e-01 -2.15039257e-01\n",
      "   5.06977952e-02  0.00000000e+00]\n",
      " [ 3.15000000e+03  1.31328087e+00 -2.57922822e-01  1.18462828e-01\n",
      "  -7.35556647e-01 -5.69307720e-01 -7.33577207e-01 -1.38659177e-01\n",
      "  -1.41641341e-01  1.70801916e+00 -1.10329377e+00 -1.08782009e+00\n",
      "   6.44675882e-01 -2.15368642e-01 -7.47149675e-02  2.87873335e-01\n",
      "  -1.00176397e+00  9.37677555e-02 -7.25490596e-02  1.10838530e+00\n",
      "  -1.45143829e-01 -8.24673673e-02  1.26065912e-01 -2.23157253e-01\n",
      "  -7.49771434e-02  9.21939582e-01 -5.28283485e-01  6.44756571e-02\n",
      "   1.31318875e-02  0.00000000e+00]], shape=(2, 30), dtype=float64)\n"
     ]
    }
   ],
   "source": [
    "for features, feature_array in training_reader.map(features_to_array).map(lambda v: (v, v.pop('feature_array'))).batch(2).take(1):\n",
    "    print('features:\\n',list(features.keys()))\n",
    "    for feature in features.items():\n",
    "        print(feature)\n",
    "    print('feature array:\\n', feature_array)"
   ]
  },
  {
   "cell_type": "markdown",
   "id": "a2b42e19-5d3c-4728-8768-f0ca907610b4",
   "metadata": {},
   "source": [
    "## From BigQuery To TensorFlow Dataset With TensorFlow I/O\n",
    "\n",
    "A highly effective way to read batches directly to [`tf.data.Dataset`](https://www.tensorflow.org/api_docs/python/tf/data/Dataset) objects from BigQuery storage.  This allows training to commence before all of the data source is read and does not require that the full data source be stored locally.\n",
    "\n",
    "References:\n",
    "- [TensorFlow I/O](https://www.tensorflow.org/io)\n",
    "- [TensorFlow I/O BigQuery Reader](https://www.tensorflow.org/io/api_docs/python/tfio/bigquery)"
   ]
  },
  {
   "cell_type": "markdown",
   "id": "772844c8-9033-4bc4-948f-bbcaed413b70",
   "metadata": {
    "tags": []
   },
   "source": [
    "Retrieve the schema of the table using BigQuery [INFORMATION_SCHEMA.COLUMNS](https://cloud.google.com/bigquery/docs/information-schema-columns) view."
   ]
  },
  {
   "cell_type": "code",
   "execution_count": 45,
   "id": "063bce92-7a53-481e-abe9-9b341a9fb17e",
   "metadata": {
    "tags": []
   },
   "outputs": [],
   "source": [
    "query = f'''\n",
    "SELECT *\n",
    "FROM {BQ_PROJECT}.{BQ_DATASET}.INFORMATION_SCHEMA.COLUMNS\n",
    "WHERE TABLE_NAME = '{BQ_TABLE}'\n",
    "    AND COLUMN_NAME NOT IN ('Class', 'transaction_id', 'splits')\n",
    "'''\n",
    "schema = bq.query(query).to_dataframe()"
   ]
  },
  {
   "cell_type": "markdown",
   "id": "b3d7e120-1abc-4754-a5c5-2918a96431c0",
   "metadata": {},
   "source": [
    "Review the unique data types from the table:"
   ]
  },
  {
   "cell_type": "code",
   "execution_count": 46,
   "id": "d1dc0336-ff59-4f13-9f55-97e96c4b63b3",
   "metadata": {
    "tags": []
   },
   "outputs": [
    {
     "data": {
      "text/plain": [
       "['INT64', 'FLOAT64']"
      ]
     },
     "execution_count": 46,
     "metadata": {},
     "output_type": "execute_result"
    }
   ],
   "source": [
    "schema.data_type.unique().tolist()"
   ]
  },
  {
   "cell_type": "markdown",
   "id": "ccca6c08-5d08-4005-8365-60c18174a90f",
   "metadata": {},
   "source": [
    "Create a dictionary that maps BigQuery data types to TensorFlow data type objects:"
   ]
  },
  {
   "cell_type": "code",
   "execution_count": 47,
   "id": "fd77d0a7-2193-4be0-81b4-57bb8b8b84ff",
   "metadata": {
    "tags": []
   },
   "outputs": [],
   "source": [
    "types = {\n",
    "    'FLOAT64' : dtypes.float64,\n",
    "    'INT64' : dtypes.int64\n",
    "}"
   ]
  },
  {
   "cell_type": "markdown",
   "id": "6c68e614-a13b-4c47-a5b9-90ce1fdb3dfb",
   "metadata": {
    "tags": []
   },
   "source": [
    "Create a `tf.data.Dataset` object to read the BigQuery table using [TensorFlow I/O BigQuery Reader Client](https://www.tensorflow.org/io/api_docs/python/tfio/bigquery/BigQueryClient):"
   ]
  },
  {
   "cell_type": "code",
   "execution_count": 48,
   "id": "14376535-2593-4e78-bf56-ba83bd587320",
   "metadata": {
    "tags": []
   },
   "outputs": [
    {
     "data": {
      "text/plain": [
       "tensorflow.python.data.ops.interleave_op._ParallelInterleaveDataset"
      ]
     },
     "execution_count": 48,
     "metadata": {},
     "output_type": "execute_result"
    }
   ],
   "source": [
    "training_reader_tfio = BigQueryClient().read_session(\n",
    "    parent = f\"projects/{PROJECT_ID}\",\n",
    "    project_id = BQ_PROJECT,\n",
    "    table_id = BQ_TABLE,\n",
    "    dataset_id = BQ_DATASET,\n",
    "    selected_fields = [x for x in schema.column_name.tolist()],\n",
    "    output_types = [types[x] for x in schema.data_type.tolist()],\n",
    "    row_restriction = f\"splits='TRAIN'\",\n",
    "    requested_streams = 3\n",
    ").parallel_read_rows(sloppy = True, num_parallel_calls = tf.data.experimental.AUTOTUNE)\n",
    "type(training_reader_tfio)"
   ]
  },
  {
   "cell_type": "markdown",
   "id": "550432a5-23f2-45bc-bbd0-1dc03c33e0e7",
   "metadata": {},
   "source": [
    "Setup and [iterator](https://docs.python.org/3/library/functions.html#iter) and review a return value from the [tf.data.Dataset](https://www.tensorflow.org/api_docs/python/tf/data/Dataset):"
   ]
  },
  {
   "cell_type": "code",
   "execution_count": 49,
   "id": "fecaa935-9315-4964-a0d7-799f9be4f4f0",
   "metadata": {
    "tags": []
   },
   "outputs": [
    {
     "data": {
      "text/plain": [
       "{'Amount': 0.0,\n",
       " 'Time': 2812,\n",
       " 'V1': -0.6334029882736469,\n",
       " 'V10': 0.308297602896481,\n",
       " 'V11': -1.20499230853772,\n",
       " 'V12': -0.4747078092970429,\n",
       " 'V13': -0.654063561632139,\n",
       " 'V14': -0.474599113137004,\n",
       " 'V15': -0.428417793384727,\n",
       " 'V16': 0.5366514815446061,\n",
       " 'V17': -0.380654616844995,\n",
       " 'V18': 0.0286505393093891,\n",
       " 'V19': -0.687969434192997,\n",
       " 'V2': 0.9636160386293929,\n",
       " 'V20': -0.174984760363205,\n",
       " 'V21': 0.0146755277991034,\n",
       " 'V22': 0.0162781765829899,\n",
       " 'V23': -0.061462472923487,\n",
       " 'V24': 0.35519634316361604,\n",
       " 'V25': -0.17908550429831896,\n",
       " 'V26': -0.10694742544378999,\n",
       " 'V27': -0.21503925668538898,\n",
       " 'V28': 0.0506977952270228,\n",
       " 'V3': 2.4949456217577497,\n",
       " 'V4': 2.0990509863350297,\n",
       " 'V5': -0.4043306727875379,\n",
       " 'V6': 0.23586157953548997,\n",
       " 'V7': -0.00793190515031739,\n",
       " 'V8': 0.211441518482132,\n",
       " 'V9': -0.20981682042808}"
      ]
     },
     "execution_count": 49,
     "metadata": {},
     "output_type": "execute_result"
    }
   ],
   "source": [
    "ds_iter = iter(training_reader_tfio)\n",
    "{key: value.numpy() for key, value in next(ds_iter).items()}"
   ]
  },
  {
   "cell_type": "markdown",
   "id": "5147f442-ea09-4df3-9813-48f731f44ae5",
   "metadata": {},
   "source": [
    "### Formating Features With The Dataset\n",
    "\n",
    "By building functions that format features the functions can be mapped to the input of the Dataset reader.  In this case a main function, `features_to_array`, will be used to add an input named `feature_array` that is an array of all the named feature inputs."
   ]
  },
  {
   "cell_type": "markdown",
   "id": "54b13b34-2cc7-4a0d-92f2-012693e47621",
   "metadata": {},
   "source": [
    "Build a function and compile it as a `tf.function` that creates a new input feature that is an array of all numeric features values. Also, cast columns to a common datatype as needed.\n",
    "\n",
    "References:\n",
    "- [tf.function](https://www.tensorflow.org/api_docs/python/tf/function)\n",
    "- [Introduction to graphs and tf.function](https://www.tensorflow.org/guide/intro_to_graphs)"
   ]
  },
  {
   "cell_type": "code",
   "execution_count": 50,
   "id": "14d72767-50f4-47ee-8884-9b1c9d65f611",
   "metadata": {
    "tags": []
   },
   "outputs": [],
   "source": [
    "@tf.function\n",
    "def features_to_array(x):\n",
    "    y = {}\n",
    "    y.update(x)\n",
    "    feature_array = []\n",
    "    for col in training_data.columns:\n",
    "        if x[col].dtype != tf.float64:\n",
    "            feature_array.append(tf.cast(x[col], tf.float64))\n",
    "        else:\n",
    "            feature_array.append(x[col])\n",
    "    \n",
    "    y['feature_array'] = feature_array\n",
    "    return y"
   ]
  },
  {
   "cell_type": "markdown",
   "id": "5a1a0974-63cd-4ba8-bfea-8255bd41c7d7",
   "metadata": {},
   "source": [
    "Use an iterator to return and review a value from the Dataset while [mapping](https://www.tensorflow.org/api_docs/python/tf/data/Dataset#map) this function to each call:"
   ]
  },
  {
   "cell_type": "code",
   "execution_count": 51,
   "id": "45205ddd-0343-4ff2-8c4d-f17f877f03a8",
   "metadata": {
    "tags": []
   },
   "outputs": [
    {
     "data": {
      "text/plain": [
       "{'Amount': 0.0,\n",
       " 'Time': 2812,\n",
       " 'V1': -0.6334029882736469,\n",
       " 'V10': 0.308297602896481,\n",
       " 'V11': -1.20499230853772,\n",
       " 'V12': -0.4747078092970429,\n",
       " 'V13': -0.654063561632139,\n",
       " 'V14': -0.474599113137004,\n",
       " 'V15': -0.428417793384727,\n",
       " 'V16': 0.5366514815446061,\n",
       " 'V17': -0.380654616844995,\n",
       " 'V18': 0.0286505393093891,\n",
       " 'V19': -0.687969434192997,\n",
       " 'V2': 0.9636160386293929,\n",
       " 'V20': -0.174984760363205,\n",
       " 'V21': 0.0146755277991034,\n",
       " 'V22': 0.0162781765829899,\n",
       " 'V23': -0.061462472923487,\n",
       " 'V24': 0.35519634316361604,\n",
       " 'V25': -0.17908550429831896,\n",
       " 'V26': -0.10694742544378999,\n",
       " 'V27': -0.21503925668538898,\n",
       " 'V28': 0.0506977952270228,\n",
       " 'V3': 2.4949456217577497,\n",
       " 'V4': 2.0990509863350297,\n",
       " 'V5': -0.4043306727875379,\n",
       " 'V6': 0.23586157953548997,\n",
       " 'V7': -0.00793190515031739,\n",
       " 'V8': 0.211441518482132,\n",
       " 'V9': -0.20981682042808,\n",
       " 'feature_array': array([ 2.81200000e+03, -6.33402988e-01,  9.63616039e-01,  2.49494562e+00,\n",
       "         2.09905099e+00, -4.04330673e-01,  2.35861580e-01, -7.93190515e-03,\n",
       "         2.11441518e-01, -2.09816820e-01,  3.08297603e-01, -1.20499231e+00,\n",
       "        -4.74707809e-01, -6.54063562e-01, -4.74599113e-01, -4.28417793e-01,\n",
       "         5.36651482e-01, -3.80654617e-01,  2.86505393e-02, -6.87969434e-01,\n",
       "        -1.74984760e-01,  1.46755278e-02,  1.62781766e-02, -6.14624729e-02,\n",
       "         3.55196343e-01, -1.79085504e-01, -1.06947425e-01, -2.15039257e-01,\n",
       "         5.06977952e-02,  0.00000000e+00])}"
      ]
     },
     "execution_count": 51,
     "metadata": {},
     "output_type": "execute_result"
    }
   ],
   "source": [
    "ds_iter = iter(training_reader_tfio.map(features_to_array))\n",
    "{key: value.numpy() for key, value in next(ds_iter).items()}"
   ]
  },
  {
   "cell_type": "markdown",
   "id": "285c1b18-088b-45f4-8731-410753af01c8",
   "metadata": {},
   "source": [
    "Now test the Dataset reader with option that will be used, like:\n",
    "- [batch()](https://www.tensorflow.org/api_docs/python/tf/data/Dataset#batch) to limit the number of rows per call\n",
    "- [map(lambda v: (v. v.pop('feature_array')))](https://www.tensorflow.org/api_docs/python/tf/data/Dataset#map) to turn the response into a tuple with the feature columns in the first element and the new 'feature_array' in the second element.\n",
    "\n",
    "Use [take(1)](https://www.tensorflow.org/api_docs/python/tf/data/Dataset#take) to limit the number of calls for batches to a single request."
   ]
  },
  {
   "cell_type": "code",
   "execution_count": 52,
   "id": "61e87856-8cb4-4b89-9612-39ad610df2b5",
   "metadata": {
    "tags": []
   },
   "outputs": [
    {
     "name": "stdout",
     "output_type": "stream",
     "text": [
      "features:\n",
      " ['Amount', 'Time', 'V1', 'V10', 'V11', 'V12', 'V13', 'V14', 'V15', 'V16', 'V17', 'V18', 'V19', 'V2', 'V20', 'V21', 'V22', 'V23', 'V24', 'V25', 'V26', 'V27', 'V28', 'V3', 'V4', 'V5', 'V6', 'V7', 'V8', 'V9']\n",
      "('Amount', <tf.Tensor: shape=(2,), dtype=float64, numpy=array([0., 0.])>)\n",
      "('Time', <tf.Tensor: shape=(2,), dtype=int64, numpy=array([2812, 3150])>)\n",
      "('V1', <tf.Tensor: shape=(2,), dtype=float64, numpy=array([-0.63340299,  1.31328087])>)\n",
      "('V10', <tf.Tensor: shape=(2,), dtype=float64, numpy=array([ 0.3082976 , -1.10329377])>)\n",
      "('V11', <tf.Tensor: shape=(2,), dtype=float64, numpy=array([-1.20499231, -1.08782009])>)\n",
      "('V12', <tf.Tensor: shape=(2,), dtype=float64, numpy=array([-0.47470781,  0.64467588])>)\n",
      "('V13', <tf.Tensor: shape=(2,), dtype=float64, numpy=array([-0.65406356, -0.21536864])>)\n",
      "('V14', <tf.Tensor: shape=(2,), dtype=float64, numpy=array([-0.47459911, -0.07471497])>)\n",
      "('V15', <tf.Tensor: shape=(2,), dtype=float64, numpy=array([-0.42841779,  0.28787333])>)\n",
      "('V16', <tf.Tensor: shape=(2,), dtype=float64, numpy=array([ 0.53665148, -1.00176397])>)\n",
      "('V17', <tf.Tensor: shape=(2,), dtype=float64, numpy=array([-0.38065462,  0.09376776])>)\n",
      "('V18', <tf.Tensor: shape=(2,), dtype=float64, numpy=array([ 0.02865054, -0.07254906])>)\n",
      "('V19', <tf.Tensor: shape=(2,), dtype=float64, numpy=array([-0.68796943,  1.1083853 ])>)\n",
      "('V2', <tf.Tensor: shape=(2,), dtype=float64, numpy=array([ 0.96361604, -0.25792282])>)\n",
      "('V20', <tf.Tensor: shape=(2,), dtype=float64, numpy=array([-0.17498476, -0.14514383])>)\n",
      "('V21', <tf.Tensor: shape=(2,), dtype=float64, numpy=array([ 0.01467553, -0.08246737])>)\n",
      "('V22', <tf.Tensor: shape=(2,), dtype=float64, numpy=array([0.01627818, 0.12606591])>)\n",
      "('V23', <tf.Tensor: shape=(2,), dtype=float64, numpy=array([-0.06146247, -0.22315725])>)\n",
      "('V24', <tf.Tensor: shape=(2,), dtype=float64, numpy=array([ 0.35519634, -0.07497714])>)\n",
      "('V25', <tf.Tensor: shape=(2,), dtype=float64, numpy=array([-0.1790855 ,  0.92193958])>)\n",
      "('V26', <tf.Tensor: shape=(2,), dtype=float64, numpy=array([-0.10694743, -0.52828348])>)\n",
      "('V27', <tf.Tensor: shape=(2,), dtype=float64, numpy=array([-0.21503926,  0.06447566])>)\n",
      "('V28', <tf.Tensor: shape=(2,), dtype=float64, numpy=array([0.0506978 , 0.01313189])>)\n",
      "('V3', <tf.Tensor: shape=(2,), dtype=float64, numpy=array([2.49494562, 0.11846283])>)\n",
      "('V4', <tf.Tensor: shape=(2,), dtype=float64, numpy=array([ 2.09905099, -0.73555665])>)\n",
      "('V5', <tf.Tensor: shape=(2,), dtype=float64, numpy=array([-0.40433067, -0.56930772])>)\n",
      "('V6', <tf.Tensor: shape=(2,), dtype=float64, numpy=array([ 0.23586158, -0.73357721])>)\n",
      "('V7', <tf.Tensor: shape=(2,), dtype=float64, numpy=array([-0.00793191, -0.13865918])>)\n",
      "('V8', <tf.Tensor: shape=(2,), dtype=float64, numpy=array([ 0.21144152, -0.14164134])>)\n",
      "('V9', <tf.Tensor: shape=(2,), dtype=float64, numpy=array([-0.20981682,  1.70801916])>)\n",
      "feature array:\n",
      " tf.Tensor(\n",
      "[[ 2.81200000e+03 -6.33402988e-01  9.63616039e-01  2.49494562e+00\n",
      "   2.09905099e+00 -4.04330673e-01  2.35861580e-01 -7.93190515e-03\n",
      "   2.11441518e-01 -2.09816820e-01  3.08297603e-01 -1.20499231e+00\n",
      "  -4.74707809e-01 -6.54063562e-01 -4.74599113e-01 -4.28417793e-01\n",
      "   5.36651482e-01 -3.80654617e-01  2.86505393e-02 -6.87969434e-01\n",
      "  -1.74984760e-01  1.46755278e-02  1.62781766e-02 -6.14624729e-02\n",
      "   3.55196343e-01 -1.79085504e-01 -1.06947425e-01 -2.15039257e-01\n",
      "   5.06977952e-02  0.00000000e+00]\n",
      " [ 3.15000000e+03  1.31328087e+00 -2.57922822e-01  1.18462828e-01\n",
      "  -7.35556647e-01 -5.69307720e-01 -7.33577207e-01 -1.38659177e-01\n",
      "  -1.41641341e-01  1.70801916e+00 -1.10329377e+00 -1.08782009e+00\n",
      "   6.44675882e-01 -2.15368642e-01 -7.47149675e-02  2.87873335e-01\n",
      "  -1.00176397e+00  9.37677555e-02 -7.25490596e-02  1.10838530e+00\n",
      "  -1.45143829e-01 -8.24673673e-02  1.26065912e-01 -2.23157253e-01\n",
      "  -7.49771434e-02  9.21939582e-01 -5.28283485e-01  6.44756571e-02\n",
      "   1.31318875e-02  0.00000000e+00]], shape=(2, 30), dtype=float64)\n"
     ]
    }
   ],
   "source": [
    "for features, feature_array in training_reader_tfio.map(features_to_array).map(lambda v: (v, v.pop('feature_array'))).batch(2).take(1):\n",
    "    print('features:\\n',list(features.keys()))\n",
    "    for feature in features.items():\n",
    "        print(feature)\n",
    "    print('feature array:\\n', feature_array)"
   ]
  },
  {
   "cell_type": "markdown",
   "id": "1d162e2b-0834-4b4b-825e-b28a1c6087d7",
   "metadata": {},
   "source": [
    "## Training In TensorFlow\n",
    "\n",
    "The following is a basic autoencoder model trained with TensorFlow.  The subsequent workflows in this series will expand this and describe it in more detail."
   ]
  },
  {
   "cell_type": "markdown",
   "id": "4def0665-e1b3-408f-8e4a-3ce0a8e53266",
   "metadata": {},
   "source": [
    "What is the shape of the `feature_array` from the Dataset?"
   ]
  },
  {
   "cell_type": "code",
   "execution_count": 53,
   "id": "e3986d9b-7815-481e-a067-9a4ca88dcf5e",
   "metadata": {
    "tags": []
   },
   "outputs": [
    {
     "data": {
      "text/plain": [
       "(30, tf.float64)"
      ]
     },
     "execution_count": 53,
     "metadata": {},
     "output_type": "execute_result"
    }
   ],
   "source": [
    "ds_iter = iter(training_reader_tfio.map(features_to_array))\n",
    "features = next(ds_iter)['feature_array']\n",
    "features.numpy().size, features.dtype"
   ]
  },
  {
   "cell_type": "markdown",
   "id": "0f7aa431-456b-4ca9-85af-a19744a7f2fa",
   "metadata": {},
   "source": [
    "Using the features as named inputs here:"
   ]
  },
  {
   "cell_type": "code",
   "execution_count": 54,
   "id": "2e0ab10a-b72b-4b02-acd3-5b432acab23b",
   "metadata": {
    "tags": []
   },
   "outputs": [],
   "source": [
    "feature_inputs = tf.keras.Input(shape = (features.numpy().size,), dtype = features.dtype, name = 'feature_array')"
   ]
  },
  {
   "cell_type": "markdown",
   "id": "ba85810d-cfc0-4da2-8ed2-64a88e67a537",
   "metadata": {},
   "source": [
    "Define the models layers:"
   ]
  },
  {
   "cell_type": "code",
   "execution_count": 55,
   "id": "a7e56f8e-8d27-4b8a-a0ab-7074cef5d15e",
   "metadata": {
    "tags": []
   },
   "outputs": [],
   "source": [
    "# encoder\n",
    "encoder = tf.keras.layers.Dense(128, activation = tf.nn.relu, name = 'encoder_128')(feature_inputs)\n",
    "encoder = tf.keras.layers.Dense(64, activation = tf.nn.relu, name = 'encoder_64')(encoder)\n",
    "encoder = tf.keras.layers.Dense(8, activation = tf.nn.relu, name = 'encoder')(encoder)\n",
    "\n",
    "# decoder\n",
    "decoder = tf.keras.layers.Dense(64, activation = tf.nn.relu, name = 'decoder_64')(encoder)\n",
    "decoder = tf.keras.layers.Dense(128, activation = tf.nn.relu, name = 'decoder_128')(decoder)\n",
    "decoder = tf.keras.layers.Dense(feature_inputs.shape[1], activation = tf.nn.sigmoid, name = 'decoder')(decoder)"
   ]
  },
  {
   "cell_type": "markdown",
   "id": "229ca59b-4188-478d-8e78-ed917e3f178d",
   "metadata": {},
   "source": [
    "Group the layers into a model:"
   ]
  },
  {
   "cell_type": "code",
   "execution_count": 56,
   "id": "e24d8cbd-d67d-4d48-b8b8-c673bdf32a58",
   "metadata": {
    "tags": []
   },
   "outputs": [],
   "source": [
    "model = tf.keras.Model(\n",
    "    inputs = feature_inputs,\n",
    "    outputs = decoder,\n",
    "    name = 'autoencoder'\n",
    ")"
   ]
  },
  {
   "cell_type": "markdown",
   "id": "d652e8b9-8231-4314-b4cf-4dbcfcc35f79",
   "metadata": {},
   "source": [
    "Compile the model for training:"
   ]
  },
  {
   "cell_type": "code",
   "execution_count": 57,
   "id": "134a8842-3bb3-4846-b708-e59638d85285",
   "metadata": {
    "tags": []
   },
   "outputs": [],
   "source": [
    "model.compile(\n",
    "    optimizer = tf.keras.optimizers.Adam(), #SGD or Adam\n",
    "    loss = tf.keras.losses.MeanAbsoluteError(),\n",
    "    metrics = [\n",
    "        tf.keras.metrics.RootMeanSquaredError(name = 'rmse'),\n",
    "        tf.keras.metrics.MeanSquaredError(name = 'mse'),\n",
    "        tf.keras.metrics.MeanAbsoluteError(name = 'mae'),\n",
    "        tf.keras.metrics.MeanSquaredLogarithmicError(name = 'msle'),\n",
    "    ]\n",
    ")"
   ]
  },
  {
   "cell_type": "markdown",
   "id": "a44c8924-8654-49e8-be5c-e1e0646fcc67",
   "metadata": {},
   "source": [
    "Train the model:"
   ]
  },
  {
   "cell_type": "code",
   "execution_count": 58,
   "id": "f5c04c7e-8e28-415f-b543-7da7df7ecb22",
   "metadata": {
    "tags": []
   },
   "outputs": [
    {
     "name": "stdout",
     "output_type": "stream",
     "text": [
      "Epoch 1/2\n",
      "2281/2281 [==============================] - 15s 6ms/step - loss: 3163.8943 - rmse: 19360.3262 - mse: 374821856.0000 - mae: 3163.8943 - msle: 4.1957\n",
      "Epoch 2/2\n",
      "2281/2281 [==============================] - 13s 6ms/step - loss: 3163.8940 - rmse: 19360.3145 - mse: 374822016.0000 - mae: 3163.8940 - msle: 4.1808\n"
     ]
    },
    {
     "data": {
      "text/plain": [
       "<keras.src.callbacks.History at 0x7fa8234fbc10>"
      ]
     },
     "execution_count": 58,
     "metadata": {},
     "output_type": "execute_result"
    }
   ],
   "source": [
    "model.fit(\n",
    "    training_reader_tfio.prefetch(2).map(features_to_array).map(lambda v: (v['feature_array'], v['feature_array'])).shuffle(1000).batch(100),\n",
    "    epochs = 2\n",
    ")"
   ]
  },
  {
   "cell_type": "markdown",
   "id": "35b1cb33-c575-4097-8f8e-37d3351a9438",
   "metadata": {},
   "source": [
    "Use the model for prediction:"
   ]
  },
  {
   "cell_type": "code",
   "execution_count": 59,
   "id": "98527a98-253d-43c6-867d-e39680370dea",
   "metadata": {
    "tags": []
   },
   "outputs": [
    {
     "name": "stdout",
     "output_type": "stream",
     "text": [
      "tf.Tensor(\n",
      "[[ 2.81200000e+03 -6.33402988e-01  9.63616039e-01  2.49494562e+00\n",
      "   2.09905099e+00 -4.04330673e-01  2.35861580e-01 -7.93190515e-03\n",
      "   2.11441518e-01 -2.09816820e-01  3.08297603e-01 -1.20499231e+00\n",
      "  -4.74707809e-01 -6.54063562e-01 -4.74599113e-01 -4.28417793e-01\n",
      "   5.36651482e-01 -3.80654617e-01  2.86505393e-02 -6.87969434e-01\n",
      "  -1.74984760e-01  1.46755278e-02  1.62781766e-02 -6.14624729e-02\n",
      "   3.55196343e-01 -1.79085504e-01 -1.06947425e-01 -2.15039257e-01\n",
      "   5.06977952e-02  0.00000000e+00]], shape=(1, 30), dtype=float64)\n"
     ]
    }
   ],
   "source": [
    "for instance in training_reader_tfio.map(features_to_array).map(lambda v: v.pop('feature_array')).batch(1).take(1):\n",
    "    print(instance)"
   ]
  },
  {
   "cell_type": "code",
   "execution_count": 60,
   "id": "059c0394-886c-4282-8dd0-0027782146ad",
   "metadata": {
    "tags": []
   },
   "outputs": [
    {
     "name": "stdout",
     "output_type": "stream",
     "text": [
      "tf.Tensor(\n",
      "[[ 2.81200000e+03 -6.33402988e-01  9.63616039e-01  2.49494562e+00\n",
      "   2.09905099e+00 -4.04330673e-01  2.35861580e-01 -7.93190515e-03\n",
      "   2.11441518e-01 -2.09816820e-01  3.08297603e-01 -1.20499231e+00\n",
      "  -4.74707809e-01 -6.54063562e-01 -4.74599113e-01 -4.28417793e-01\n",
      "   5.36651482e-01 -3.80654617e-01  2.86505393e-02 -6.87969434e-01\n",
      "  -1.74984760e-01  1.46755278e-02  1.62781766e-02 -6.14624729e-02\n",
      "   3.55196343e-01 -1.79085504e-01 -1.06947425e-01 -2.15039257e-01\n",
      "   5.06977952e-02  0.00000000e+00]], shape=(1, 30), dtype=float64)\n"
     ]
    }
   ],
   "source": [
    "instance = training_reader_tfio.map(features_to_array).map(lambda v: v.pop('feature_array')).batch(1).take(1)\n",
    "for i in instance:\n",
    "    print(i)"
   ]
  },
  {
   "cell_type": "code",
   "execution_count": 61,
   "id": "2e120d16-8e40-4ade-b4c6-a9c45263363a",
   "metadata": {
    "tags": []
   },
   "outputs": [
    {
     "name": "stdout",
     "output_type": "stream",
     "text": [
      "1/1 [==============================] - 0s 328ms/step\n"
     ]
    },
    {
     "data": {
      "text/plain": [
       "array([[1., 0., 0., 1., 0., 0., 0., 0., 0., 0., 0., 0., 0., 0., 0., 0.,\n",
       "        0., 0., 0., 0., 0., 0., 0., 0., 0., 0., 0., 0., 0., 1.]],\n",
       "      dtype=float32)"
      ]
     },
     "execution_count": 61,
     "metadata": {},
     "output_type": "execute_result"
    }
   ],
   "source": [
    "prediction = model.predict(instance)\n",
    "prediction"
   ]
  },
  {
   "cell_type": "markdown",
   "id": "05bda205-8618-490e-bece-7c4328af98f0",
   "metadata": {},
   "source": [
    "## Understanding the Model\n",
    "\n",
    "The model trained above takes an input array of feature values and outputs the reconstructed values in an array of the same shape.\n",
    "\n",
    "The subsequent workflows in this series will expand the model. To see an overview of the model created here use the `plot_model` and `summary` methods:"
   ]
  },
  {
   "cell_type": "code",
   "execution_count": 62,
   "id": "473aa727-c6ac-4ed5-8873-3c6a76a6ab3d",
   "metadata": {
    "tags": []
   },
   "outputs": [
    {
     "data": {
      "image/png": "[encoded data removed]",
      "text/plain": [
       "<IPython.core.display.Image object>"
      ]
     },
     "execution_count": 62,
     "metadata": {},
     "output_type": "execute_result"
    }
   ],
   "source": [
    "tf.keras.utils.plot_model(model, rankdir='LR')"
   ]
  },
  {
   "cell_type": "code",
   "execution_count": 63,
   "id": "c9acfae0-3636-4606-a674-b5d0e0674cab",
   "metadata": {
    "tags": []
   },
   "outputs": [
    {
     "name": "stdout",
     "output_type": "stream",
     "text": [
      "Model: \"autoencoder\"\n",
      "_________________________________________________________________\n",
      " Layer (type)                Output Shape              Param #   \n",
      "=================================================================\n",
      " feature_array (InputLayer)  [(None, 30)]              0         \n",
      "                                                                 \n",
      " encoder_128 (Dense)         (None, 128)               3968      \n",
      "                                                                 \n",
      " encoder_64 (Dense)          (None, 64)                8256      \n",
      "                                                                 \n",
      " encoder (Dense)             (None, 8)                 520       \n",
      "                                                                 \n",
      " decoder_64 (Dense)          (None, 64)                576       \n",
      "                                                                 \n",
      " decoder_128 (Dense)         (None, 128)               8320      \n",
      "                                                                 \n",
      " decoder (Dense)             (None, 30)                3870      \n",
      "                                                                 \n",
      "=================================================================\n",
      "Total params: 25510 (99.65 KB)\n",
      "Trainable params: 25510 (99.65 KB)\n",
      "Non-trainable params: 0 (0.00 Byte)\n",
      "_________________________________________________________________\n"
     ]
    }
   ],
   "source": [
    "model.summary()"
   ]
  },
  {
   "cell_type": "code",
   "execution_count": null,
   "id": "be08fc9f-4aaf-4c13-8dea-d86b661a1b24",
   "metadata": {},
   "outputs": [],
   "source": []
  }
 ],
 "metadata": {
  "environment": {
   "kernel": "conda-root-py",
   "name": "workbench-notebooks.m113",
   "type": "gcloud",
   "uri": "gcr.io/deeplearning-platform-release/workbench-notebooks:m113"
  },
  "kernelspec": {
   "display_name": "Python 3 (ipykernel) (Local)",
   "language": "python",
   "name": "conda-root-py"
  },
  "language_info": {
   "codemirror_mode": {
    "name": "ipython",
    "version": 3
   },
   "file_extension": ".py",
   "mimetype": "text/x-python",
   "name": "python",
   "nbconvert_exporter": "python",
   "pygments_lexer": "ipython3",
   "version": "3.10.13"
  }
 },
 "nbformat": 4,
 "nbformat_minor": 5
}
