{
 "cells": [
  {
   "cell_type": "markdown",
   "id": "307e30e2",
   "metadata": {},
   "source": [
    "![tracker](https://us-central1-vertex-ai-mlops-369716.cloudfunctions.net/pixel-tracking?path=statmike%2Fvertex-ai-mlops%2FDev%2Fnew&file=sklearn-test.ipynb)\n",
    "<!--- header table --->\n",
    "<table align=\"left\">\n",
    "  <td style=\"text-align: center\">\n",
    "    <a href=\"https://colab.research.google.com/github/statmike/vertex-ai-mlops/blob/main/Dev/new/sklearn-test.ipynb\">\n",
    "      <img width=\"32px\" src=\"https://www.gstatic.com/pantheon/images/bigquery/welcome_page/colab-logo.svg\" alt=\"Google Colaboratory logo\">\n",
    "      <br>Run in<br>Colab\n",
    "    </a>\n",
    "  </td>\n",
    "  <td style=\"text-align: center\">\n",
    "    <a href=\"https://console.cloud.google.com/vertex-ai/colab/import/https%3A%2F%2Fraw.githubusercontent.com%2Fstatmike%2Fvertex-ai-mlops%2Fmain%2FDev%2Fnew%2Fsklearn-test.ipynb\">\n",
    "      <img width=\"32px\" src=\"https://lh3.googleusercontent.com/JmcxdQi-qOpctIvWKgPtrzZdJJK-J3sWE1RsfjZNwshCFgE_9fULcNpuXYTilIR2hjwN\" alt=\"Google Cloud Colab Enterprise logo\">\n",
    "      <br>Run in<br>Colab Enterprise\n",
    "    </a>\n",
    "  </td>      \n",
    "  <td style=\"text-align: center\">\n",
    "    <a href=\"https://github.com/statmike/vertex-ai-mlops/blob/main/Dev/new/sklearn-test.ipynb\">\n",
    "      <img width=\"32px\" src=\"https://www.svgrepo.com/download/217753/github.svg\" alt=\"GitHub logo\">\n",
    "      <br>View on<br>GitHub\n",
    "    </a>\n",
    "  </td>\n",
    "  <td style=\"text-align: center\">\n",
    "    <a href=\"https://console.cloud.google.com/vertex-ai/workbench/deploy-notebook?download_url=https://raw.githubusercontent.com/statmike/vertex-ai-mlops/main/Dev/new/sklearn-test.ipynb\">\n",
    "      <img width=\"32px\" src=\"https://www.gstatic.com/images/branding/gcpiconscolors/vertexai/v1/32px.svg\" alt=\"Vertex AI logo\">\n",
    "      <br>Open in<br>Vertex AI Workbench\n",
    "    </a>\n",
    "  </td>\n",
    "</table>"
   ]
  },
  {
   "cell_type": "markdown",
   "id": "d66034e2-ad67-46ff-abe5-fbba3bfb93f6",
   "metadata": {},
   "source": [
    "# Scikit-Learn Workflow\n",
    "\n",
    "A new template workflow for [scikit-Learn](https://scikit-learn.org/stable/index.html) model training and serving workflows in Vertex AI.\n",
    "\n",
    "**Prerequisites:**\n",
    "-  [01 - BigQuery - Table Data Source](../01%20-%20Data%20Sources/01%20-%20BigQuery%20-%20Table%20Data%20Source.ipynb)"
   ]
  },
  {
   "cell_type": "markdown",
   "id": "1a2259ef-f57b-4795-9a7b-af2f6b11161d",
   "metadata": {
    "id": "od_UkDpvRmgD",
    "tags": []
   },
   "source": [
    "---\n",
    "## Colab Setup\n",
    "\n",
    "To run this notebook in Colab run the cells in this section.  Otherwise, skip this section.\n",
    "\n",
    "This cell will authenticate to GCP (follow prompts in the popup)."
   ]
  },
  {
   "cell_type": "code",
   "execution_count": 1,
   "id": "8c921939-af59-48ec-ab2f-296b2329b360",
   "metadata": {
    "executionInfo": {
     "elapsed": 195,
     "status": "ok",
     "timestamp": 1683726184843,
     "user": {
      "displayName": "Mike Henderson",
      "userId": "07691629187611687318"
     },
     "user_tz": 240
    },
    "id": "8UO9FnqyKBlF",
    "tags": []
   },
   "outputs": [],
   "source": [
    "PROJECT_ID = 'statmike-mlops-349915' # replace with project ID"
   ]
  },
  {
   "cell_type": "code",
   "execution_count": 2,
   "id": "09a9c185-7175-4e6a-8f0f-0d346cfdce46",
   "metadata": {
    "colab": {
     "base_uri": "https://localhost:8080/"
    },
    "executionInfo": {
     "elapsed": 68869,
     "status": "ok",
     "timestamp": 1683726253709,
     "user": {
      "displayName": "Mike Henderson",
      "userId": "07691629187611687318"
     },
     "user_tz": 240
    },
    "id": "N98-KK7LRkjm",
    "outputId": "09ec5008-0def-4e1a-c349-c598ee752f78",
    "tags": []
   },
   "outputs": [
    {
     "name": "stdout",
     "output_type": "stream",
     "text": [
      "Not a Colab Environment\n"
     ]
    }
   ],
   "source": [
    "try:\n",
    "    from google.colab import auth\n",
    "    auth.authenticate_user()\n",
    "    !gcloud config set project {PROJECT_ID}\n",
    "    print('Colab authorized to GCP')\n",
    "except Exception:\n",
    "    print('Not a Colab Environment')\n",
    "    pass"
   ]
  },
  {
   "cell_type": "markdown",
   "id": "485b0400-7be7-406e-a5ba-160d1e7acfb1",
   "metadata": {},
   "source": [
    "---\n",
    "## Installs\n",
    "\n",
    "The list `packages` contains tuples of package import names and install names.  If the import name is not found then the install name is used to install quitely for the current user."
   ]
  },
  {
   "cell_type": "code",
   "execution_count": 665,
   "id": "38fb5870-5930-491d-bbc6-fc87becaafc0",
   "metadata": {
    "tags": []
   },
   "outputs": [],
   "source": [
    "# tuples of (import name, install name, min_version)\n",
    "packages = [\n",
    "    ('google.cloud.aiplatform', 'google-cloud-aiplatform'),\n",
    "    ('google.cloud.bigquery', 'google-cloud-bigquery'),\n",
    "    ('google.cloud.storage', 'google-cloud-storage'),\n",
    "    ('google.cloud.devtools', 'google-cloud-build'),\n",
    "    ('bigframes', 'bigframes'),\n",
    "    ('kfp', 'kfp'),\n",
    "    ('google.cloud.artifactregistry_v1', 'google-cloud-artifact-registry'),\n",
    "    ('google_cloud_pipeline_components', 'google-cloud-pipeline-components'),\n",
    "    ('skl2onnx', 'skl2onnx'),\n",
    "    ('onnxruntime', 'onnxruntime')\n",
    "]\n",
    "\n",
    "import importlib\n",
    "install = False\n",
    "for package in packages:\n",
    "    if not importlib.util.find_spec(package[0]):\n",
    "        print(f'installing package {package[1]}')\n",
    "        install = True\n",
    "        !pip install {package[1]} -U -q --user\n",
    "    elif len(package) == 3:\n",
    "        if importlib.metadata.version(package[0]) < package[2]:\n",
    "            print(f'updating package {package[1]}')\n",
    "            install = True\n",
    "            !pip install {package[1]} -U -q --user"
   ]
  },
  {
   "cell_type": "markdown",
   "id": "f9eb9be2-42af-4a0c-a097-251b7c34571a",
   "metadata": {},
   "source": [
    "## API Enablement"
   ]
  },
  {
   "cell_type": "code",
   "execution_count": 77,
   "id": "9c7e53f2-5df7-47b1-8765-ef636e0fc38a",
   "metadata": {
    "tags": []
   },
   "outputs": [],
   "source": [
    "!gcloud services enable aiplatform.googleapis.com\n",
    "!gcloud services enable artifactregistry.googleapis.com\n",
    "!gcloud services enable cloudbuild.googleapis.com"
   ]
  },
  {
   "cell_type": "markdown",
   "id": "2c7ef0bd-8095-4c0e-8ceb-0f9ff891e171",
   "metadata": {},
   "source": [
    "### Restart Kernel (If Installs Occured)\n",
    "\n",
    "After a kernel restart the code submission can start with the next cell after this one."
   ]
  },
  {
   "cell_type": "code",
   "execution_count": 5,
   "id": "352989af-91cc-4a5b-a6d6-7daf52fca9f6",
   "metadata": {
    "tags": []
   },
   "outputs": [],
   "source": [
    "if install:\n",
    "    import IPython\n",
    "    app = IPython.Application.instance()\n",
    "    app.kernel.do_shutdown(True)"
   ]
  },
  {
   "cell_type": "markdown",
   "id": "6bee84bd-206f-4b6d-9d43-5d0b699818b0",
   "metadata": {
    "id": "appt8-yVRtJ1"
   },
   "source": [
    "---\n",
    "## Setup"
   ]
  },
  {
   "cell_type": "markdown",
   "id": "2ab28826-fd46-48de-a801-bc491c4f3aa0",
   "metadata": {
    "id": "63mx2EozRxFP"
   },
   "source": [
    "Inputs"
   ]
  },
  {
   "cell_type": "code",
   "execution_count": 6,
   "id": "4b436aa6-2cea-4bc8-b8cf-68857f6aa971",
   "metadata": {
    "colab": {
     "base_uri": "https://localhost:8080/",
     "height": 35
    },
    "executionInfo": {
     "elapsed": 2124,
     "status": "ok",
     "timestamp": 1683726390544,
     "user": {
      "displayName": "Mike Henderson",
      "userId": "07691629187611687318"
     },
     "user_tz": 240
    },
    "id": "xzcoXjM5Rky5",
    "outputId": "b3bdcbc1-70d5-472e-aea2-42c74a42efde",
    "tags": []
   },
   "outputs": [
    {
     "data": {
      "text/plain": [
       "'statmike-mlops-349915'"
      ]
     },
     "execution_count": 6,
     "metadata": {},
     "output_type": "execute_result"
    }
   ],
   "source": [
    "project = !gcloud config get-value project\n",
    "PROJECT_ID = project[0]\n",
    "PROJECT_ID"
   ]
  },
  {
   "cell_type": "code",
   "execution_count": 7,
   "id": "607795fc-b7cd-47df-8f33-36115f9ca9fe",
   "metadata": {
    "executionInfo": {
     "elapsed": 2,
     "status": "ok",
     "timestamp": 1683726390712,
     "user": {
      "displayName": "Mike Henderson",
      "userId": "07691629187611687318"
     },
     "user_tz": 240
    },
    "id": "IxWrFtqYMfku",
    "tags": []
   },
   "outputs": [],
   "source": [
    "REGION = 'us-central1'\n",
    "EXPERIMENT = 'sklearn-workflow'\n",
    "SERIES = 'dev'\n",
    "\n",
    "# gcs bucket\n",
    "GCS_BUCKET = PROJECT_ID\n",
    "\n",
    "# source data\n",
    "BQ_PROJECT = PROJECT_ID\n",
    "BQ_DATASET = 'fraud'\n",
    "BQ_TABLE = 'fraud_prepped'"
   ]
  },
  {
   "cell_type": "markdown",
   "id": "bd44b148-30cc-41ab-bf47-b2b4d7f5df89",
   "metadata": {
    "id": "LuajVwCiO6Yg"
   },
   "source": [
    "Packages"
   ]
  },
  {
   "cell_type": "code",
   "execution_count": 666,
   "id": "db48a565-10ed-4ee3-9580-5b539a3a6a56",
   "metadata": {
    "executionInfo": {
     "elapsed": 17761,
     "status": "ok",
     "timestamp": 1683726409304,
     "user": {
      "displayName": "Mike Henderson",
      "userId": "07691629187611687318"
     },
     "user_tz": 240
    },
    "id": "LVC7zzSLRk2C",
    "tags": []
   },
   "outputs": [],
   "source": [
    "import os\n",
    "import sklearn.ensemble\n",
    "import pickle\n",
    "import importlib\n",
    "import time\n",
    "from datetime import datetime\n",
    "from google.cloud import aiplatform\n",
    "from google.cloud import bigquery\n",
    "from google.cloud import artifactregistry_v1\n",
    "from google.cloud.devtools import cloudbuild_v1\n",
    "from google.cloud import storage\n",
    "import bigframes.pandas as bpd\n",
    "\n",
    "import skl2onnx\n",
    "import onnxruntime\n",
    "\n",
    "import kfp"
   ]
  },
  {
   "cell_type": "markdown",
   "id": "414d236c-9f28-4528-9b6a-596ade0c5b2d",
   "metadata": {
    "id": "EyAVFG9TO9H-"
   },
   "source": [
    "Clients"
   ]
  },
  {
   "cell_type": "code",
   "execution_count": 84,
   "id": "f2a082a3-43db-4b46-9c56-ca3fcb0e6d6e",
   "metadata": {
    "executionInfo": {
     "elapsed": 19,
     "status": "ok",
     "timestamp": 1683726409306,
     "user": {
      "displayName": "Mike Henderson",
      "userId": "07691629187611687318"
     },
     "user_tz": 240
    },
    "id": "L0RPE13LOZce",
    "tags": []
   },
   "outputs": [],
   "source": [
    "# vertex ai clients\n",
    "aiplatform.init(project = PROJECT_ID, location = REGION)\n",
    "\n",
    "# artifact registry client\n",
    "ar_client = artifactregistry_v1.ArtifactRegistryClient()\n",
    "\n",
    "# gcs storage client\n",
    "gcs = storage.Client(project = PROJECT_ID)\n",
    "bucket = gcs.bucket(GCS_BUCKET)\n",
    "\n",
    "# bigquery clients\n",
    "bq = bigquery.Client(project = PROJECT_ID)\n",
    "bpd.options.bigquery.project = PROJECT_ID\n",
    "\n",
    "# cloud build client:\n",
    "cb_client = cloudbuild_v1.CloudBuildClient()"
   ]
  },
  {
   "cell_type": "markdown",
   "id": "05adf2be-510f-40a9-a9a2-3803a63b6172",
   "metadata": {},
   "source": [
    "parameters:"
   ]
  },
  {
   "cell_type": "code",
   "execution_count": 10,
   "id": "4318c193-acec-4ac4-b921-23ced9f7e60b",
   "metadata": {
    "tags": []
   },
   "outputs": [],
   "source": [
    "DIR = f\"temp/{EXPERIMENT}\"\n",
    "TIMESTAMP = datetime.now().strftime(\"%Y%m%d%H%M%S\")"
   ]
  },
  {
   "cell_type": "code",
   "execution_count": 11,
   "id": "57ecf778-104b-4be7-b7f3-59bb327933bc",
   "metadata": {
    "tags": []
   },
   "outputs": [],
   "source": [
    "RUN_NAME = f'run-{TIMESTAMP}'"
   ]
  },
  {
   "cell_type": "code",
   "execution_count": 12,
   "id": "1acb65aa-3ac8-4905-b87b-5a65fe9900f7",
   "metadata": {
    "tags": []
   },
   "outputs": [
    {
     "data": {
      "text/plain": [
       "'1026793852137-compute@developer.gserviceaccount.com'"
      ]
     },
     "execution_count": 12,
     "metadata": {},
     "output_type": "execute_result"
    }
   ],
   "source": [
    "SERVICE_ACCOUNT = !gcloud config list --format='value(core.account)' \n",
    "SERVICE_ACCOUNT = SERVICE_ACCOUNT[0]\n",
    "SERVICE_ACCOUNT"
   ]
  },
  {
   "cell_type": "markdown",
   "id": "5bcf4774-a890-4361-8519-a7867694fa58",
   "metadata": {},
   "source": [
    "environment:"
   ]
  },
  {
   "cell_type": "code",
   "execution_count": 13,
   "id": "7d83c621-dd0d-4223-9d95-04c4b3b61e8d",
   "metadata": {
    "tags": []
   },
   "outputs": [],
   "source": [
    "if not os.path.exists(DIR):\n",
    "    os.makedirs(DIR)"
   ]
  },
  {
   "cell_type": "markdown",
   "id": "9b1c11c8-9929-4fb5-8c64-8b7adb168783",
   "metadata": {},
   "source": [
    "---\n",
    "## Data Source"
   ]
  },
  {
   "cell_type": "code",
   "execution_count": 14,
   "id": "788457c6-25b8-42ed-a914-254a47107cf5",
   "metadata": {
    "tags": []
   },
   "outputs": [],
   "source": [
    "data = bq.query(f'SELECT * FROM {BQ_PROJECT}.{BQ_DATASET}.{BQ_TABLE}').to_dataframe()"
   ]
  },
  {
   "cell_type": "code",
   "execution_count": 15,
   "id": "0716f734-8c0a-4c01-b09f-d62df16aeae8",
   "metadata": {
    "tags": []
   },
   "outputs": [
    {
     "data": {
      "text/html": [
       "<div>\n",
       "<style scoped>\n",
       "    .dataframe tbody tr th:only-of-type {\n",
       "        vertical-align: middle;\n",
       "    }\n",
       "\n",
       "    .dataframe tbody tr th {\n",
       "        vertical-align: top;\n",
       "    }\n",
       "\n",
       "    .dataframe thead th {\n",
       "        text-align: right;\n",
       "    }\n",
       "</style>\n",
       "<table border=\"1\" class=\"dataframe\">\n",
       "  <thead>\n",
       "    <tr style=\"text-align: right;\">\n",
       "      <th></th>\n",
       "      <th>Time</th>\n",
       "      <th>V1</th>\n",
       "      <th>V2</th>\n",
       "      <th>V3</th>\n",
       "      <th>V4</th>\n",
       "      <th>V5</th>\n",
       "      <th>V6</th>\n",
       "      <th>V7</th>\n",
       "      <th>V8</th>\n",
       "      <th>V9</th>\n",
       "      <th>...</th>\n",
       "      <th>V23</th>\n",
       "      <th>V24</th>\n",
       "      <th>V25</th>\n",
       "      <th>V26</th>\n",
       "      <th>V27</th>\n",
       "      <th>V28</th>\n",
       "      <th>Amount</th>\n",
       "      <th>Class</th>\n",
       "      <th>transaction_id</th>\n",
       "      <th>splits</th>\n",
       "    </tr>\n",
       "  </thead>\n",
       "  <tbody>\n",
       "    <tr>\n",
       "      <th>0</th>\n",
       "      <td>35337</td>\n",
       "      <td>1.092844</td>\n",
       "      <td>-0.013230</td>\n",
       "      <td>1.359829</td>\n",
       "      <td>2.731537</td>\n",
       "      <td>-0.707357</td>\n",
       "      <td>0.873837</td>\n",
       "      <td>-0.796130</td>\n",
       "      <td>0.437707</td>\n",
       "      <td>0.396770</td>\n",
       "      <td>...</td>\n",
       "      <td>-0.167647</td>\n",
       "      <td>0.027557</td>\n",
       "      <td>0.592115</td>\n",
       "      <td>0.219695</td>\n",
       "      <td>0.036970</td>\n",
       "      <td>0.010984</td>\n",
       "      <td>0.0</td>\n",
       "      <td>0</td>\n",
       "      <td>a1b10547-d270-48c0-b902-7a0f735dadc7</td>\n",
       "      <td>TEST</td>\n",
       "    </tr>\n",
       "    <tr>\n",
       "      <th>1</th>\n",
       "      <td>60481</td>\n",
       "      <td>1.238973</td>\n",
       "      <td>0.035226</td>\n",
       "      <td>0.063003</td>\n",
       "      <td>0.641406</td>\n",
       "      <td>-0.260893</td>\n",
       "      <td>-0.580097</td>\n",
       "      <td>0.049938</td>\n",
       "      <td>-0.034733</td>\n",
       "      <td>0.405932</td>\n",
       "      <td>...</td>\n",
       "      <td>-0.057718</td>\n",
       "      <td>0.104983</td>\n",
       "      <td>0.537987</td>\n",
       "      <td>0.589563</td>\n",
       "      <td>-0.046207</td>\n",
       "      <td>-0.006212</td>\n",
       "      <td>0.0</td>\n",
       "      <td>0</td>\n",
       "      <td>814c62c8-ade4-47d5-bf83-313b0aafdee5</td>\n",
       "      <td>TEST</td>\n",
       "    </tr>\n",
       "    <tr>\n",
       "      <th>2</th>\n",
       "      <td>139587</td>\n",
       "      <td>1.870539</td>\n",
       "      <td>0.211079</td>\n",
       "      <td>0.224457</td>\n",
       "      <td>3.889486</td>\n",
       "      <td>-0.380177</td>\n",
       "      <td>0.249799</td>\n",
       "      <td>-0.577133</td>\n",
       "      <td>0.179189</td>\n",
       "      <td>-0.120462</td>\n",
       "      <td>...</td>\n",
       "      <td>0.180776</td>\n",
       "      <td>-0.060226</td>\n",
       "      <td>-0.228979</td>\n",
       "      <td>0.080827</td>\n",
       "      <td>0.009868</td>\n",
       "      <td>-0.036997</td>\n",
       "      <td>0.0</td>\n",
       "      <td>0</td>\n",
       "      <td>d08a1bfa-85c5-4f1b-9537-1c5a93e6afd0</td>\n",
       "      <td>TEST</td>\n",
       "    </tr>\n",
       "    <tr>\n",
       "      <th>3</th>\n",
       "      <td>162908</td>\n",
       "      <td>-3.368339</td>\n",
       "      <td>-1.980442</td>\n",
       "      <td>0.153645</td>\n",
       "      <td>-0.159795</td>\n",
       "      <td>3.847169</td>\n",
       "      <td>-3.516873</td>\n",
       "      <td>-1.209398</td>\n",
       "      <td>-0.292122</td>\n",
       "      <td>0.760543</td>\n",
       "      <td>...</td>\n",
       "      <td>-1.171627</td>\n",
       "      <td>0.214333</td>\n",
       "      <td>-0.159652</td>\n",
       "      <td>-0.060883</td>\n",
       "      <td>1.294977</td>\n",
       "      <td>0.120503</td>\n",
       "      <td>0.0</td>\n",
       "      <td>0</td>\n",
       "      <td>802f3307-8e5a-4475-b795-5d5d8d7d0120</td>\n",
       "      <td>TEST</td>\n",
       "    </tr>\n",
       "    <tr>\n",
       "      <th>4</th>\n",
       "      <td>165236</td>\n",
       "      <td>2.180149</td>\n",
       "      <td>0.218732</td>\n",
       "      <td>-2.637726</td>\n",
       "      <td>0.348776</td>\n",
       "      <td>1.063546</td>\n",
       "      <td>-1.249197</td>\n",
       "      <td>0.942021</td>\n",
       "      <td>-0.547652</td>\n",
       "      <td>-0.087823</td>\n",
       "      <td>...</td>\n",
       "      <td>-0.176957</td>\n",
       "      <td>0.563779</td>\n",
       "      <td>0.730183</td>\n",
       "      <td>0.707494</td>\n",
       "      <td>-0.131066</td>\n",
       "      <td>-0.090428</td>\n",
       "      <td>0.0</td>\n",
       "      <td>0</td>\n",
       "      <td>c8a5b93a-1598-4689-80be-4f9f5df0b8ce</td>\n",
       "      <td>TEST</td>\n",
       "    </tr>\n",
       "  </tbody>\n",
       "</table>\n",
       "<p>5 rows × 33 columns</p>\n",
       "</div>"
      ],
      "text/plain": [
       "     Time        V1        V2        V3        V4        V5        V6  \\\n",
       "0   35337  1.092844 -0.013230  1.359829  2.731537 -0.707357  0.873837   \n",
       "1   60481  1.238973  0.035226  0.063003  0.641406 -0.260893 -0.580097   \n",
       "2  139587  1.870539  0.211079  0.224457  3.889486 -0.380177  0.249799   \n",
       "3  162908 -3.368339 -1.980442  0.153645 -0.159795  3.847169 -3.516873   \n",
       "4  165236  2.180149  0.218732 -2.637726  0.348776  1.063546 -1.249197   \n",
       "\n",
       "         V7        V8        V9  ...       V23       V24       V25       V26  \\\n",
       "0 -0.796130  0.437707  0.396770  ... -0.167647  0.027557  0.592115  0.219695   \n",
       "1  0.049938 -0.034733  0.405932  ... -0.057718  0.104983  0.537987  0.589563   \n",
       "2 -0.577133  0.179189 -0.120462  ...  0.180776 -0.060226 -0.228979  0.080827   \n",
       "3 -1.209398 -0.292122  0.760543  ... -1.171627  0.214333 -0.159652 -0.060883   \n",
       "4  0.942021 -0.547652 -0.087823  ... -0.176957  0.563779  0.730183  0.707494   \n",
       "\n",
       "        V27       V28  Amount  Class                        transaction_id  \\\n",
       "0  0.036970  0.010984     0.0      0  a1b10547-d270-48c0-b902-7a0f735dadc7   \n",
       "1 -0.046207 -0.006212     0.0      0  814c62c8-ade4-47d5-bf83-313b0aafdee5   \n",
       "2  0.009868 -0.036997     0.0      0  d08a1bfa-85c5-4f1b-9537-1c5a93e6afd0   \n",
       "3  1.294977  0.120503     0.0      0  802f3307-8e5a-4475-b795-5d5d8d7d0120   \n",
       "4 -0.131066 -0.090428     0.0      0  c8a5b93a-1598-4689-80be-4f9f5df0b8ce   \n",
       "\n",
       "   splits  \n",
       "0    TEST  \n",
       "1    TEST  \n",
       "2    TEST  \n",
       "3    TEST  \n",
       "4    TEST  \n",
       "\n",
       "[5 rows x 33 columns]"
      ]
     },
     "execution_count": 15,
     "metadata": {},
     "output_type": "execute_result"
    }
   ],
   "source": [
    "data.head()"
   ]
  },
  {
   "cell_type": "markdown",
   "id": "37a80197-5408-46a4-98e1-117d0da37476",
   "metadata": {},
   "source": [
    "---\n",
    "## Model Training: Local\n",
    "\n",
    "https://scikit-learn.org/stable/modules/generated/sklearn.ensemble.HistGradientBoostingClassifier.html"
   ]
  },
  {
   "cell_type": "code",
   "execution_count": 125,
   "id": "ab9d2fef-34fd-42f3-ab43-c31460d33185",
   "metadata": {
    "tags": []
   },
   "outputs": [],
   "source": [
    "train_x = data.loc[data['splits']=='TRAIN', ~data.columns.isin(['transaction_id', 'splits'])]\n",
    "train_y = train_x.pop('Class').astype('int')"
   ]
  },
  {
   "cell_type": "code",
   "execution_count": 126,
   "id": "c6066164-59f0-41bf-8569-08e38368a37c",
   "metadata": {
    "tags": []
   },
   "outputs": [],
   "source": [
    "classifier = sklearn.ensemble.HistGradientBoostingClassifier().fit(train_x, train_y)"
   ]
  },
  {
   "cell_type": "code",
   "execution_count": 127,
   "id": "6ad33893-5476-4a25-bafd-ffa8113bc05d",
   "metadata": {
    "tags": []
   },
   "outputs": [
    {
     "data": {
      "text/plain": [
       "0.9987327951732212"
      ]
     },
     "execution_count": 127,
     "metadata": {},
     "output_type": "execute_result"
    }
   ],
   "source": [
    "classifier.score(train_x, train_y)"
   ]
  },
  {
   "cell_type": "code",
   "execution_count": 128,
   "id": "a611498f-b1b2-4716-af72-2d4b5ca21541",
   "metadata": {
    "tags": []
   },
   "outputs": [
    {
     "data": {
      "text/plain": [
       "(array([0, 0, 0, 0, 0]), array([0, 0, 0, 0, 0]))"
      ]
     },
     "execution_count": 128,
     "metadata": {},
     "output_type": "execute_result"
    }
   ],
   "source": [
    "classifier.predict(train_x[0:5]), train_y[0:5].values"
   ]
  },
  {
   "cell_type": "code",
   "execution_count": 129,
   "id": "67390357-3c26-4df3-a94b-adea8200e555",
   "metadata": {
    "tags": []
   },
   "outputs": [
    {
     "data": {
      "text/plain": [
       "array([[9.99305131e-01, 6.94868540e-04],\n",
       "       [9.99305131e-01, 6.94868540e-04],\n",
       "       [9.99305131e-01, 6.94868540e-04],\n",
       "       [9.99338476e-01, 6.61524475e-04],\n",
       "       [9.99338476e-01, 6.61524475e-04]])"
      ]
     },
     "execution_count": 129,
     "metadata": {},
     "output_type": "execute_result"
    }
   ],
   "source": [
    "classifier.predict_proba(train_x[0:5])"
   ]
  },
  {
   "cell_type": "code",
   "execution_count": 130,
   "id": "7df649d4-5ea8-4c39-804f-4e98801a0202",
   "metadata": {
    "tags": []
   },
   "outputs": [
    {
     "data": {
      "text/plain": [
       "array([0, 1])"
      ]
     },
     "execution_count": 130,
     "metadata": {},
     "output_type": "execute_result"
    }
   ],
   "source": [
    "classifier.classes_"
   ]
  },
  {
   "cell_type": "code",
   "execution_count": 131,
   "id": "546ca900-5ff7-44bd-a17d-23b294f913cc",
   "metadata": {
    "tags": []
   },
   "outputs": [],
   "source": [
    "with open(f'{DIR}/model.pkl','wb') as f:\n",
    "    pickle.dump(classifier, f)"
   ]
  },
  {
   "cell_type": "code",
   "execution_count": 132,
   "id": "f35ff737-39e2-4aca-8d66-7a63a5aab71c",
   "metadata": {
    "tags": []
   },
   "outputs": [],
   "source": [
    "with open(f'{DIR}/model.pkl','rb') as f:\n",
    "    classifier_import = pickle.load(f)"
   ]
  },
  {
   "cell_type": "code",
   "execution_count": 133,
   "id": "7477b146-4580-40cc-b256-6ff85230dede",
   "metadata": {
    "tags": []
   },
   "outputs": [
    {
     "data": {
      "text/plain": [
       "array([[9.99305131e-01, 6.94868540e-04],\n",
       "       [9.99305131e-01, 6.94868540e-04],\n",
       "       [9.99305131e-01, 6.94868540e-04],\n",
       "       [9.99338476e-01, 6.61524475e-04],\n",
       "       [9.99338476e-01, 6.61524475e-04]])"
      ]
     },
     "execution_count": 133,
     "metadata": {},
     "output_type": "execute_result"
    }
   ],
   "source": [
    "classifier_import.predict_proba(train_x[0:5])"
   ]
  },
  {
   "cell_type": "code",
   "execution_count": 134,
   "id": "4f8d6b46-18f9-482d-a37f-4ea60fcf8873",
   "metadata": {
    "tags": []
   },
   "outputs": [
    {
     "data": {
      "text/plain": [
       "[{'classes': [0, 1], 'scores': [0.999305131460341, 0.000694868539659074]},\n",
       " {'classes': [0, 1], 'scores': [0.999305131460341, 0.000694868539659074]},\n",
       " {'classes': [0, 1], 'scores': [0.999305131460341, 0.000694868539659074]},\n",
       " {'classes': [0, 1], 'scores': [0.9993384755254646, 0.0006615244745354223]},\n",
       " {'classes': [0, 1], 'scores': [0.9993384755254646, 0.0006615244745354223]}]"
      ]
     },
     "execution_count": 134,
     "metadata": {},
     "output_type": "execute_result"
    }
   ],
   "source": [
    "predictions = [\n",
    "    dict(\n",
    "        classes = list(classifier.classes_),\n",
    "        scores = list(val)\n",
    "    )\n",
    "    for val in list(classifier.predict_proba(train_x[0:5]))\n",
    "]\n",
    "predictions"
   ]
  },
  {
   "cell_type": "code",
   "execution_count": 137,
   "id": "48ff9e1f-4ee5-48dc-a42d-e6b62c7d7a6d",
   "metadata": {
    "tags": []
   },
   "outputs": [
    {
     "data": {
      "text/plain": [
       "[{'classes': [0, 1], 'scores': [0.999305131460341, 0.000694868539659074]},\n",
       " {'classes': [0, 1], 'scores': [0.999305131460341, 0.000694868539659074]},\n",
       " {'classes': [0, 1], 'scores': [0.999305131460341, 0.000694868539659074]},\n",
       " {'classes': [0, 1], 'scores': [0.9993384755254646, 0.0006615244745354223]},\n",
       " {'classes': [0, 1], 'scores': [0.9993384755254646, 0.0006615244745354223]}]"
      ]
     },
     "execution_count": 137,
     "metadata": {},
     "output_type": "execute_result"
    }
   ],
   "source": [
    "[dict(classes = list(classifier.classes_), scores = p) for p in classifier.predict_proba(train_x[0:5]).tolist()]"
   ]
  },
  {
   "cell_type": "markdown",
   "id": "a3953134-aa6f-407f-b099-20e7266b4ac3",
   "metadata": {},
   "source": [
    "---\n",
    "## Model Training: Vertex AI Training Custom Job\n",
    "-https://cloud.google.com/vertex-ai/docs/training/create-custom-job#create_custom_job-python_vertex_ai_sdk\n",
    "-https://cloud.google.com/vertex-ai/docs/training/exporting-model-artifacts#scikit-learn"
   ]
  },
  {
   "cell_type": "code",
   "execution_count": 104,
   "id": "1c96f03b-9843-46cc-bd33-3cb0c3cc4a08",
   "metadata": {
    "tags": []
   },
   "outputs": [
    {
     "name": "stdout",
     "output_type": "stream",
     "text": [
      "Overwriting temp/sklearn-workflow/train.py\n"
     ]
    }
   ],
   "source": [
    "%%writefile {DIR}/train.py\n",
    "# imports\n",
    "from google.cloud import bigquery\n",
    "import sklearn.ensemble\n",
    "import argparse\n",
    "import pickle\n",
    "import os\n",
    "import logging\n",
    "\n",
    "# setup logging\n",
    "logger = logging.getLogger()\n",
    "logger.setLevel(logging.INFO)\n",
    "logger.addHandler(logging.StreamHandler())\n",
    "\n",
    "# import argument to local variables\n",
    "parser = argparse.ArgumentParser()\n",
    "parser.add_argument('--project_id', dest = 'PROJECT_ID', type=str)\n",
    "parser.add_argument('--bq_project', dest = 'BQ_PROJECT', type=str)\n",
    "parser.add_argument('--bq_dataset', dest = 'BQ_DATASET', type=str)\n",
    "parser.add_argument('--bq_table', dest = 'BQ_TABLE', type=str)\n",
    "args = parser.parse_args()\n",
    "logging.info('Finished parsing input parameters.')\n",
    "\n",
    "# bigquery client\n",
    "bq = bigquery.Client(project = args.PROJECT_ID)\n",
    "\n",
    "# download data\n",
    "data = bq.query(f'SELECT * FROM {args.BQ_PROJECT}.{args.BQ_DATASET}.{args.BQ_TABLE}').to_dataframe()\n",
    "logging.info('Read data from BQ.')\n",
    "\n",
    "# prepare training data\n",
    "train_x = data.loc[data['splits']=='TRAIN', ~data.columns.isin(['transaction_id', 'splits'])]\n",
    "train_y = train_x.pop('Class').astype('int')\n",
    "logging.info('Prepared training data.')\n",
    "\n",
    "# fit model\n",
    "classifier = sklearn.ensemble.HistGradientBoostingClassifier().fit(train_x, train_y)\n",
    "logging.info('Model training complete.')\n",
    "\n",
    "# Use predefined environment variable to establish model directory\n",
    "storage_path = f\"/gcs/{os.environ['AIP_MODEL_DIR'][5:]}\" + 'model.pkl'\n",
    "os.makedirs(os.path.dirname(storage_path), exist_ok=True)\n",
    "\n",
    "# output the model save files directly to GCS destination\n",
    "with open(storage_path,'wb') as f:\n",
    "    pickle.dump(classifier, f)\n",
    "logging.info('Model saved to GCS.')"
   ]
  },
  {
   "cell_type": "markdown",
   "id": "f98198a2-323a-449c-bba8-dd20588c58cf",
   "metadata": {},
   "source": [
    "https://cloud.google.com/vertex-ai/docs/training/pre-built-containers#scikit-learn"
   ]
  },
  {
   "cell_type": "code",
   "execution_count": 105,
   "id": "07b65f71-9350-42f7-ae39-ccc48c555e09",
   "metadata": {
    "tags": []
   },
   "outputs": [],
   "source": [
    "CMDARGS = [\n",
    "    \"--project_id=\" + PROJECT_ID,\n",
    "    \"--bq_project=\" + BQ_PROJECT,\n",
    "    \"--bq_dataset=\" + BQ_DATASET,\n",
    "    \"--bq_table=\" + BQ_TABLE\n",
    "]\n",
    "\n",
    "TRAIN_IMAGE = 'us-docker.pkg.dev/vertex-ai/training/sklearn-cpu.1-0:latest'\n",
    "TRAIN_COMPUTE = 'n1-standard-4'\n",
    "URI = f\"gs://{GCS_BUCKET}/{SERIES}/{EXPERIMENT}\""
   ]
  },
  {
   "cell_type": "code",
   "execution_count": 106,
   "id": "367edf96-c306-4170-bc3d-9d0767d5015e",
   "metadata": {
    "tags": []
   },
   "outputs": [
    {
     "name": "stdout",
     "output_type": "stream",
     "text": [
      "Training script copied to:\n",
      "gs://statmike-mlops-349915/dev/sklearn-workflow/models/20240225203750/aiplatform-2024-02-25-21:56:30.388-aiplatform_custom_trainer_script-0.1.tar.gz.\n"
     ]
    }
   ],
   "source": [
    "customJob = aiplatform.CustomJob.from_local_script(\n",
    "    display_name = f'{SERIES}_{EXPERIMENT}_{TIMESTAMP}',\n",
    "    script_path = f'{DIR}/train.py',\n",
    "    container_uri = TRAIN_IMAGE,\n",
    "    args = CMDARGS,\n",
    "    requirements = ['db-dtypes', 'google-cloud-bigquery'],\n",
    "    replica_count = 1,\n",
    "    machine_type = TRAIN_COMPUTE,\n",
    "    accelerator_count = 0,\n",
    "    base_output_dir = f\"{URI}/models/{TIMESTAMP}\",\n",
    "    staging_bucket = f\"{URI}/models/{TIMESTAMP}\",\n",
    "    labels = {'series' : f'{SERIES}', 'experiment' : f'{EXPERIMENT}'}\n",
    ")"
   ]
  },
  {
   "cell_type": "code",
   "execution_count": 107,
   "id": "ec9914f1-d448-46eb-b5da-8a5acf2f413e",
   "metadata": {
    "scrolled": true,
    "tags": []
   },
   "outputs": [
    {
     "name": "stdout",
     "output_type": "stream",
     "text": [
      "Creating CustomJob\n",
      "CustomJob created. Resource name: projects/1026793852137/locations/us-central1/customJobs/1880269818137935872\n",
      "To use this CustomJob in another session:\n",
      "custom_job = aiplatform.CustomJob.get('projects/1026793852137/locations/us-central1/customJobs/1880269818137935872')\n",
      "View Custom Job:\n",
      "https://console.cloud.google.com/ai/platform/locations/us-central1/training/1880269818137935872?project=1026793852137\n",
      "CustomJob projects/1026793852137/locations/us-central1/customJobs/1880269818137935872 current state:\n",
      "JobState.JOB_STATE_PENDING\n",
      "CustomJob projects/1026793852137/locations/us-central1/customJobs/1880269818137935872 current state:\n",
      "JobState.JOB_STATE_PENDING\n",
      "CustomJob projects/1026793852137/locations/us-central1/customJobs/1880269818137935872 current state:\n",
      "JobState.JOB_STATE_PENDING\n",
      "CustomJob projects/1026793852137/locations/us-central1/customJobs/1880269818137935872 current state:\n",
      "JobState.JOB_STATE_PENDING\n",
      "CustomJob projects/1026793852137/locations/us-central1/customJobs/1880269818137935872 current state:\n",
      "JobState.JOB_STATE_PENDING\n",
      "CustomJob projects/1026793852137/locations/us-central1/customJobs/1880269818137935872 current state:\n",
      "JobState.JOB_STATE_PENDING\n",
      "CustomJob projects/1026793852137/locations/us-central1/customJobs/1880269818137935872 current state:\n",
      "JobState.JOB_STATE_PENDING\n",
      "CustomJob projects/1026793852137/locations/us-central1/customJobs/1880269818137935872 current state:\n",
      "JobState.JOB_STATE_PENDING\n",
      "CustomJob projects/1026793852137/locations/us-central1/customJobs/1880269818137935872 current state:\n",
      "JobState.JOB_STATE_PENDING\n",
      "CustomJob projects/1026793852137/locations/us-central1/customJobs/1880269818137935872 current state:\n",
      "JobState.JOB_STATE_PENDING\n",
      "CustomJob projects/1026793852137/locations/us-central1/customJobs/1880269818137935872 current state:\n",
      "JobState.JOB_STATE_PENDING\n",
      "CustomJob projects/1026793852137/locations/us-central1/customJobs/1880269818137935872 current state:\n",
      "JobState.JOB_STATE_PENDING\n",
      "CustomJob projects/1026793852137/locations/us-central1/customJobs/1880269818137935872 current state:\n",
      "JobState.JOB_STATE_PENDING\n",
      "CustomJob projects/1026793852137/locations/us-central1/customJobs/1880269818137935872 current state:\n",
      "JobState.JOB_STATE_PENDING\n",
      "CustomJob projects/1026793852137/locations/us-central1/customJobs/1880269818137935872 current state:\n",
      "JobState.JOB_STATE_PENDING\n",
      "CustomJob projects/1026793852137/locations/us-central1/customJobs/1880269818137935872 current state:\n",
      "JobState.JOB_STATE_PENDING\n",
      "CustomJob projects/1026793852137/locations/us-central1/customJobs/1880269818137935872 current state:\n",
      "JobState.JOB_STATE_PENDING\n",
      "CustomJob projects/1026793852137/locations/us-central1/customJobs/1880269818137935872 current state:\n",
      "JobState.JOB_STATE_PENDING\n",
      "CustomJob projects/1026793852137/locations/us-central1/customJobs/1880269818137935872 current state:\n",
      "JobState.JOB_STATE_PENDING\n",
      "CustomJob projects/1026793852137/locations/us-central1/customJobs/1880269818137935872 current state:\n",
      "JobState.JOB_STATE_PENDING\n",
      "CustomJob projects/1026793852137/locations/us-central1/customJobs/1880269818137935872 current state:\n",
      "JobState.JOB_STATE_PENDING\n",
      "CustomJob projects/1026793852137/locations/us-central1/customJobs/1880269818137935872 current state:\n",
      "JobState.JOB_STATE_PENDING\n",
      "CustomJob projects/1026793852137/locations/us-central1/customJobs/1880269818137935872 current state:\n",
      "JobState.JOB_STATE_PENDING\n",
      "CustomJob projects/1026793852137/locations/us-central1/customJobs/1880269818137935872 current state:\n",
      "JobState.JOB_STATE_PENDING\n",
      "CustomJob projects/1026793852137/locations/us-central1/customJobs/1880269818137935872 current state:\n",
      "JobState.JOB_STATE_PENDING\n",
      "CustomJob projects/1026793852137/locations/us-central1/customJobs/1880269818137935872 current state:\n",
      "JobState.JOB_STATE_PENDING\n",
      "CustomJob projects/1026793852137/locations/us-central1/customJobs/1880269818137935872 current state:\n",
      "JobState.JOB_STATE_PENDING\n",
      "CustomJob projects/1026793852137/locations/us-central1/customJobs/1880269818137935872 current state:\n",
      "JobState.JOB_STATE_PENDING\n",
      "CustomJob projects/1026793852137/locations/us-central1/customJobs/1880269818137935872 current state:\n",
      "JobState.JOB_STATE_PENDING\n",
      "CustomJob projects/1026793852137/locations/us-central1/customJobs/1880269818137935872 current state:\n",
      "JobState.JOB_STATE_RUNNING\n",
      "CustomJob projects/1026793852137/locations/us-central1/customJobs/1880269818137935872 current state:\n",
      "JobState.JOB_STATE_RUNNING\n",
      "CustomJob projects/1026793852137/locations/us-central1/customJobs/1880269818137935872 current state:\n",
      "JobState.JOB_STATE_RUNNING\n",
      "CustomJob projects/1026793852137/locations/us-central1/customJobs/1880269818137935872 current state:\n",
      "JobState.JOB_STATE_RUNNING\n",
      "CustomJob projects/1026793852137/locations/us-central1/customJobs/1880269818137935872 current state:\n",
      "JobState.JOB_STATE_RUNNING\n",
      "CustomJob projects/1026793852137/locations/us-central1/customJobs/1880269818137935872 current state:\n",
      "JobState.JOB_STATE_RUNNING\n",
      "CustomJob projects/1026793852137/locations/us-central1/customJobs/1880269818137935872 current state:\n",
      "JobState.JOB_STATE_RUNNING\n",
      "CustomJob projects/1026793852137/locations/us-central1/customJobs/1880269818137935872 current state:\n",
      "JobState.JOB_STATE_RUNNING\n",
      "CustomJob projects/1026793852137/locations/us-central1/customJobs/1880269818137935872 current state:\n",
      "JobState.JOB_STATE_RUNNING\n",
      "CustomJob projects/1026793852137/locations/us-central1/customJobs/1880269818137935872 current state:\n",
      "JobState.JOB_STATE_RUNNING\n",
      "CustomJob projects/1026793852137/locations/us-central1/customJobs/1880269818137935872 current state:\n",
      "JobState.JOB_STATE_RUNNING\n",
      "CustomJob projects/1026793852137/locations/us-central1/customJobs/1880269818137935872 current state:\n",
      "JobState.JOB_STATE_RUNNING\n",
      "CustomJob projects/1026793852137/locations/us-central1/customJobs/1880269818137935872 current state:\n",
      "JobState.JOB_STATE_RUNNING\n",
      "CustomJob projects/1026793852137/locations/us-central1/customJobs/1880269818137935872 current state:\n",
      "JobState.JOB_STATE_RUNNING\n",
      "CustomJob projects/1026793852137/locations/us-central1/customJobs/1880269818137935872 current state:\n",
      "JobState.JOB_STATE_RUNNING\n",
      "CustomJob projects/1026793852137/locations/us-central1/customJobs/1880269818137935872 current state:\n",
      "JobState.JOB_STATE_RUNNING\n",
      "CustomJob projects/1026793852137/locations/us-central1/customJobs/1880269818137935872 current state:\n",
      "JobState.JOB_STATE_RUNNING\n",
      "CustomJob projects/1026793852137/locations/us-central1/customJobs/1880269818137935872 current state:\n",
      "JobState.JOB_STATE_RUNNING\n",
      "CustomJob projects/1026793852137/locations/us-central1/customJobs/1880269818137935872 current state:\n",
      "JobState.JOB_STATE_RUNNING\n",
      "CustomJob projects/1026793852137/locations/us-central1/customJobs/1880269818137935872 current state:\n",
      "JobState.JOB_STATE_RUNNING\n",
      "CustomJob projects/1026793852137/locations/us-central1/customJobs/1880269818137935872 current state:\n",
      "JobState.JOB_STATE_RUNNING\n",
      "CustomJob projects/1026793852137/locations/us-central1/customJobs/1880269818137935872 current state:\n",
      "JobState.JOB_STATE_RUNNING\n",
      "CustomJob projects/1026793852137/locations/us-central1/customJobs/1880269818137935872 current state:\n",
      "JobState.JOB_STATE_RUNNING\n",
      "CustomJob projects/1026793852137/locations/us-central1/customJobs/1880269818137935872 current state:\n",
      "JobState.JOB_STATE_RUNNING\n",
      "CustomJob projects/1026793852137/locations/us-central1/customJobs/1880269818137935872 current state:\n",
      "JobState.JOB_STATE_RUNNING\n",
      "CustomJob projects/1026793852137/locations/us-central1/customJobs/1880269818137935872 current state:\n",
      "JobState.JOB_STATE_RUNNING\n",
      "CustomJob projects/1026793852137/locations/us-central1/customJobs/1880269818137935872 current state:\n",
      "JobState.JOB_STATE_RUNNING\n",
      "CustomJob projects/1026793852137/locations/us-central1/customJobs/1880269818137935872 current state:\n",
      "JobState.JOB_STATE_RUNNING\n",
      "CustomJob projects/1026793852137/locations/us-central1/customJobs/1880269818137935872 current state:\n",
      "JobState.JOB_STATE_RUNNING\n",
      "CustomJob projects/1026793852137/locations/us-central1/customJobs/1880269818137935872 current state:\n",
      "JobState.JOB_STATE_RUNNING\n",
      "CustomJob projects/1026793852137/locations/us-central1/customJobs/1880269818137935872 current state:\n",
      "JobState.JOB_STATE_RUNNING\n",
      "CustomJob projects/1026793852137/locations/us-central1/customJobs/1880269818137935872 current state:\n",
      "JobState.JOB_STATE_RUNNING\n",
      "CustomJob projects/1026793852137/locations/us-central1/customJobs/1880269818137935872 current state:\n",
      "JobState.JOB_STATE_RUNNING\n",
      "CustomJob projects/1026793852137/locations/us-central1/customJobs/1880269818137935872 current state:\n",
      "JobState.JOB_STATE_RUNNING\n",
      "CustomJob projects/1026793852137/locations/us-central1/customJobs/1880269818137935872 current state:\n",
      "JobState.JOB_STATE_RUNNING\n",
      "CustomJob projects/1026793852137/locations/us-central1/customJobs/1880269818137935872 current state:\n",
      "JobState.JOB_STATE_RUNNING\n",
      "CustomJob projects/1026793852137/locations/us-central1/customJobs/1880269818137935872 current state:\n",
      "JobState.JOB_STATE_SUCCEEDED\n",
      "CustomJob run completed. Resource name: projects/1026793852137/locations/us-central1/customJobs/1880269818137935872\n"
     ]
    }
   ],
   "source": [
    "customJob.run(\n",
    "    service_account = SERVICE_ACCOUNT\n",
    ")"
   ]
  },
  {
   "cell_type": "code",
   "execution_count": 108,
   "id": "2a30b42b-8e7a-49a9-b391-045aee74bdc7",
   "metadata": {},
   "outputs": [
    {
     "data": {
      "text/plain": [
       "'dev_sklearn-workflow_20240225203750'"
      ]
     },
     "execution_count": 108,
     "metadata": {},
     "output_type": "execute_result"
    }
   ],
   "source": [
    "customJob.display_name"
   ]
  },
  {
   "cell_type": "code",
   "execution_count": 109,
   "id": "791de515-4dea-4505-8e66-943933d82dd6",
   "metadata": {},
   "outputs": [
    {
     "data": {
      "text/plain": [
       "'projects/1026793852137/locations/us-central1/customJobs/1880269818137935872'"
      ]
     },
     "execution_count": 109,
     "metadata": {},
     "output_type": "execute_result"
    }
   ],
   "source": [
    "customJob.resource_name"
   ]
  },
  {
   "cell_type": "markdown",
   "id": "9c62a28e-319c-4e70-9c4e-4d257792a463",
   "metadata": {},
   "source": [
    "Create hyperlinks to job here:"
   ]
  },
  {
   "cell_type": "code",
   "execution_count": 110,
   "id": "5f8aedb5-ce49-48d5-a0d5-7bb9fac1a93a",
   "metadata": {},
   "outputs": [
    {
     "name": "stdout",
     "output_type": "stream",
     "text": [
      "Review the Custom Job here:\n",
      "https://console.cloud.google.com/vertex-ai/locations/us-central1/training/1880269818137935872/cpu?cloudshell=false&project=statmike-mlops-349915\n"
     ]
    }
   ],
   "source": [
    "job_link = f\"https://console.cloud.google.com/vertex-ai/locations/{REGION}/training/{customJob.resource_name.split('/')[-1]}/cpu?cloudshell=false&project={PROJECT_ID}\"\n",
    "print(f'Review the Custom Job here:\\n{job_link}')"
   ]
  },
  {
   "cell_type": "markdown",
   "id": "5badacd5-78e6-491b-bbc5-b9f2bc07d739",
   "metadata": {},
   "source": [
    "---\n",
    "## Register Model: Vertex AI Model Registry\n",
    "\n",
    "- https://cloud.google.com/vertex-ai/docs/predictions/pre-built-containers\n",
    "- https://cloud.google.com/python/docs/reference/aiplatform/latest/google.cloud.aiplatform.Model#google_cloud_aiplatform_Model_training_job\n",
    "\n",
    "**NOTE:** It was very important to use a serving container with the same version of scikit-learn as the training container.  When serving was set to 1.3 after training with 1.0 the following error happens on serving:\n",
    "> `ModuleNotFoundError: No module named 'sklearn.ensemble._hist_gradient_boosting.loss'\"`"
   ]
  },
  {
   "cell_type": "code",
   "execution_count": 123,
   "id": "be844a31-4798-42c9-9a8c-e7dbace40623",
   "metadata": {
    "tags": []
   },
   "outputs": [],
   "source": [
    "DEPLOY_IMAGE = 'us-docker.pkg.dev/vertex-ai/prediction/sklearn-cpu.1-0:latest'\n",
    "DEPLOY_COMPUTE = 'n1-standard-4'"
   ]
  },
  {
   "cell_type": "code",
   "execution_count": 164,
   "id": "1d5794fe-49ef-4441-a84f-f93fd8aa07e7",
   "metadata": {
    "tags": []
   },
   "outputs": [
    {
     "name": "stdout",
     "output_type": "stream",
     "text": [
      "This is a new model, creating in model registry\n",
      "Uploading Model now...\n",
      "Creating Model\n",
      "Create Model backing LRO: projects/1026793852137/locations/us-central1/models/model_dev_sklearn-workflow/operations/489564183696769024\n",
      "Model created. Resource name: projects/1026793852137/locations/us-central1/models/model_dev_sklearn-workflow@1\n",
      "To use this Model in another session:\n",
      "model = aiplatform.Model('projects/1026793852137/locations/us-central1/models/model_dev_sklearn-workflow@1')\n"
     ]
    }
   ],
   "source": [
    "upload_model = True\n",
    "try:\n",
    "    model = aiplatform.Model(\n",
    "        project = PROJECT_ID,\n",
    "        location = REGION,\n",
    "        model_name = f'model_{SERIES}_{EXPERIMENT}'\n",
    "    )\n",
    "    print('Model already in registry')\n",
    "    if RUN_NAME in model.version_aliases:\n",
    "        upload_model = False\n",
    "        print(\"This version already loaded, no action taken.\")\n",
    "    else:\n",
    "        ('Loading model as new default version.')\n",
    "        parent_model = model.resource_name\n",
    "except Exception:\n",
    "    print('This is a new model, creating in model registry')\n",
    "    parent_model = ''\n",
    "\n",
    "if upload_model:\n",
    "    print('Uploading Model now...')\n",
    "    model = aiplatform.Model.upload(\n",
    "        display_name = f'{SERIES}_{EXPERIMENT}',\n",
    "        model_id = f'model_{SERIES}_{EXPERIMENT}',\n",
    "        parent_model =  parent_model,\n",
    "        serving_container_image_uri = DEPLOY_IMAGE,\n",
    "        artifact_uri = f\"{URI}/models/{TIMESTAMP}/model\",\n",
    "        is_default_version = True,\n",
    "        version_aliases = [RUN_NAME],\n",
    "        version_description = RUN_NAME\n",
    "    )"
   ]
  },
  {
   "cell_type": "code",
   "execution_count": 165,
   "id": "1ad85c4e-97b5-4c27-b599-d8af8bca46c0",
   "metadata": {
    "tags": []
   },
   "outputs": [
    {
     "data": {
      "text/plain": [
       "'projects/1026793852137/locations/us-central1/models/model_dev_sklearn-workflow@1'"
      ]
     },
     "execution_count": 165,
     "metadata": {},
     "output_type": "execute_result"
    }
   ],
   "source": [
    "model.versioned_resource_name"
   ]
  },
  {
   "cell_type": "markdown",
   "id": "bd988f22-a833-4a70-aa5e-d24b30571b1a",
   "metadata": {},
   "source": [
    "---\n",
    "## Model Serving: Online with Vertex AI Prediction Endpoints\n",
    "\n",
    "- https://cloud.google.com/vertex-ai/docs/general/deployment\n",
    "- https://cloud.google.com/python/docs/reference/aiplatform/latest/google.cloud.aiplatform.Endpoint"
   ]
  },
  {
   "cell_type": "markdown",
   "id": "c7e217c7-233b-4de0-87e5-3abbdbb12f36",
   "metadata": {},
   "source": [
    "### Create/Retrieve Endpoint"
   ]
  },
  {
   "cell_type": "code",
   "execution_count": 17,
   "id": "82c19473-ce51-4b83-9db3-b2b5b935c912",
   "metadata": {
    "tags": []
   },
   "outputs": [
    {
     "name": "stdout",
     "output_type": "stream",
     "text": [
      "Endpoint Exists: projects/1026793852137/locations/us-central1/endpoints/8609714806183690240\n",
      "Review the Endpoint in the Console:\n",
      "https://console.cloud.google.com/vertex-ai/locations/us-central1/endpoints/8609714806183690240?project=statmike-mlops-349915\n"
     ]
    }
   ],
   "source": [
    "endpoints = aiplatform.Endpoint.list(filter = f\"display_name={SERIES}\")\n",
    "if endpoints:\n",
    "    endpoint = endpoints[0]\n",
    "    print(f'Endpoint Exists: {endpoint.resource_name}')\n",
    "else:\n",
    "    endpoint = aiplatform.Endpoint.create(\n",
    "        display_name = SERIES\n",
    "    )\n",
    "    print('Endpoint Created: ')\n",
    "    \n",
    "print(f'Review the Endpoint in the Console:\\nhttps://console.cloud.google.com/vertex-ai/locations/{REGION}/endpoints/{endpoint.name}?project={PROJECT_ID}')"
   ]
  },
  {
   "cell_type": "code",
   "execution_count": 18,
   "id": "922af09b-96d4-45d8-bbdc-6de13efb3159",
   "metadata": {
    "tags": []
   },
   "outputs": [
    {
     "data": {
      "text/plain": [
       "'dev'"
      ]
     },
     "execution_count": 18,
     "metadata": {},
     "output_type": "execute_result"
    }
   ],
   "source": [
    "endpoint.display_name"
   ]
  },
  {
   "cell_type": "code",
   "execution_count": 19,
   "id": "6d075aa9-a855-49b9-be8a-0b74662cb5a3",
   "metadata": {
    "tags": []
   },
   "outputs": [
    {
     "data": {
      "text/plain": [
       "{'8337304203332419584': 100}"
      ]
     },
     "execution_count": 19,
     "metadata": {},
     "output_type": "execute_result"
    }
   ],
   "source": [
    "endpoint.traffic_split"
   ]
  },
  {
   "cell_type": "code",
   "execution_count": 20,
   "id": "0485ffda-bab9-4dbd-86bd-1fd8bc8725cb",
   "metadata": {
    "tags": []
   },
   "outputs": [],
   "source": [
    "deployed_models = endpoint.list_models()\n",
    "#deployed_models"
   ]
  },
  {
   "cell_type": "markdown",
   "id": "06dcd348-5f3b-475b-bda4-36ac2e6ffa86",
   "metadata": {},
   "source": [
    "### Deploy Model To Endpoint"
   ]
  },
  {
   "cell_type": "code",
   "execution_count": 170,
   "id": "675e742d-4f48-40da-8959-482dae7f4794",
   "metadata": {
    "tags": []
   },
   "outputs": [
    {
     "name": "stdout",
     "output_type": "stream",
     "text": [
      "Deploying Model projects/1026793852137/locations/us-central1/models/model_dev_sklearn-workflow to Endpoint : projects/1026793852137/locations/us-central1/endpoints/8609714806183690240\n",
      "Deploy Endpoint model backing LRO: projects/1026793852137/locations/us-central1/endpoints/8609714806183690240/operations/240740304284549120\n",
      "Endpoint model deployed. Resource name: projects/1026793852137/locations/us-central1/endpoints/8609714806183690240\n"
     ]
    }
   ],
   "source": [
    "endpoint.deploy(\n",
    "    model = model,\n",
    "    deployed_model_display_name = model.display_name,\n",
    "    traffic_percentage = 100,\n",
    "    machine_type = DEPLOY_COMPUTE,\n",
    "    min_replica_count = 1,  \n",
    "    max_replica_count = 1\n",
    ") "
   ]
  },
  {
   "cell_type": "code",
   "execution_count": 181,
   "id": "b37a214d-3923-42ab-8770-66870060ca64",
   "metadata": {
    "tags": []
   },
   "outputs": [
    {
     "data": {
      "text/plain": [
       "{'8337304203332419584': 100}"
      ]
     },
     "execution_count": 181,
     "metadata": {},
     "output_type": "execute_result"
    }
   ],
   "source": [
    "endpoint.traffic_split"
   ]
  },
  {
   "cell_type": "code",
   "execution_count": 173,
   "id": "1ddf4664-b3e9-427d-94e8-c5c4e2e9db08",
   "metadata": {
    "tags": []
   },
   "outputs": [
    {
     "data": {
      "text/plain": [
       "[id: \"8337304203332419584\"\n",
       " model: \"projects/1026793852137/locations/us-central1/models/model_dev_sklearn-workflow\"\n",
       " display_name: \"dev_sklearn-workflow\"\n",
       " create_time {\n",
       "   seconds: 1708909118\n",
       "   nanos: 730301000\n",
       " }\n",
       " dedicated_resources {\n",
       "   machine_spec {\n",
       "     machine_type: \"n1-standard-4\"\n",
       "   }\n",
       "   min_replica_count: 1\n",
       "   max_replica_count: 1\n",
       " }\n",
       " model_version_id: \"1\"]"
      ]
     },
     "execution_count": 173,
     "metadata": {},
     "output_type": "execute_result"
    }
   ],
   "source": [
    "endpoint.list_models()"
   ]
  },
  {
   "cell_type": "code",
   "execution_count": 175,
   "id": "3141e47d-365a-45e6-b2a0-0068d9f9ce6c",
   "metadata": {
    "tags": []
   },
   "outputs": [
    {
     "data": {
      "text/plain": [
       "'projects/1026793852137/locations/us-central1/models/model_dev_sklearn-workflow'"
      ]
     },
     "execution_count": 175,
     "metadata": {},
     "output_type": "execute_result"
    }
   ],
   "source": [
    "model.resource_name"
   ]
  },
  {
   "cell_type": "code",
   "execution_count": 177,
   "id": "21ecc096-141f-4fa9-aef3-4a6a7910d02a",
   "metadata": {
    "tags": []
   },
   "outputs": [
    {
     "data": {
      "text/plain": [
       "'1'"
      ]
     },
     "execution_count": 177,
     "metadata": {},
     "output_type": "execute_result"
    }
   ],
   "source": [
    "model.version_id"
   ]
  },
  {
   "cell_type": "code",
   "execution_count": 178,
   "id": "9124618e-022b-4a98-aeac-d67a6c051b52",
   "metadata": {
    "tags": []
   },
   "outputs": [
    {
     "name": "stdout",
     "output_type": "stream",
     "text": [
      "Model dev_sklearn-workflow with version 1 has traffic = 100\n"
     ]
    }
   ],
   "source": [
    "for deployed_model in endpoint.list_models():\n",
    "    if deployed_model.id in endpoint.traffic_split:\n",
    "        print(f\"Model {deployed_model.display_name} with version {deployed_model.model_version_id} has traffic = {endpoint.traffic_split[deployed_model.id]}\")\n",
    "    else:\n",
    "        endpoint.undeploy(deployed_model_id = deployed_model.id)\n",
    "        print(f\"Undeploying {deployed_model.display_name} with version {deployed_model.model_version_id} because it has no traffic.\")"
   ]
  },
  {
   "cell_type": "code",
   "execution_count": 179,
   "id": "a050b166-2e64-46b9-aaef-f3dbfcfee554",
   "metadata": {
    "tags": []
   },
   "outputs": [
    {
     "data": {
      "text/plain": [
       "{'8337304203332419584': 100}"
      ]
     },
     "execution_count": 179,
     "metadata": {},
     "output_type": "execute_result"
    }
   ],
   "source": [
    "endpoint.traffic_split"
   ]
  },
  {
   "cell_type": "markdown",
   "id": "abd0757e-9777-47ff-95cc-55c31777fada",
   "metadata": {
    "tags": []
   },
   "source": [
    "### Get Predictions\n",
    "- https://cloud.google.com/vertex-ai/docs/predictions/get-online-predictions"
   ]
  },
  {
   "cell_type": "code",
   "execution_count": 189,
   "id": "5824c1af-2361-4c19-9cb1-4e1014237299",
   "metadata": {
    "tags": []
   },
   "outputs": [],
   "source": [
    "test_x = data.loc[data['splits']=='TEST', ~data.columns.isin(['transaction_id', 'splits'])]\n",
    "test_y = test_x.pop('Class').astype('int')\n",
    "\n",
    "instances = test_x.values.tolist()"
   ]
  },
  {
   "cell_type": "code",
   "execution_count": 190,
   "id": "70341381-fc34-4c2c-92ed-1077e0b2c58f",
   "metadata": {
    "tags": []
   },
   "outputs": [
    {
     "data": {
      "text/plain": [
       "Index(['Time', 'V1', 'V2', 'V3', 'V4', 'V5', 'V6', 'V7', 'V8', 'V9', 'V10',\n",
       "       'V11', 'V12', 'V13', 'V14', 'V15', 'V16', 'V17', 'V18', 'V19', 'V20',\n",
       "       'V21', 'V22', 'V23', 'V24', 'V25', 'V26', 'V27', 'V28', 'Amount'],\n",
       "      dtype='object')"
      ]
     },
     "execution_count": 190,
     "metadata": {},
     "output_type": "execute_result"
    }
   ],
   "source": [
    "test_x.columns"
   ]
  },
  {
   "cell_type": "code",
   "execution_count": 191,
   "id": "ee7cab1c-1ec4-4c86-a7f0-2c4ab3dd07bb",
   "metadata": {
    "tags": []
   },
   "outputs": [
    {
     "data": {
      "text/plain": [
       "[35337,\n",
       " 1.0928441854981998,\n",
       " -0.0132303486713432,\n",
       " 1.35982868199426,\n",
       " 2.7315370965921004,\n",
       " -0.707357349219652,\n",
       " 0.8738370029866129,\n",
       " -0.7961301510622031,\n",
       " 0.437706509544851,\n",
       " 0.39676985012996396,\n",
       " 0.587438102569443,\n",
       " -0.14979756231827498,\n",
       " 0.29514781622888103,\n",
       " -1.30382621882143,\n",
       " -0.31782283120234495,\n",
       " -2.03673231037199,\n",
       " 0.376090905274179,\n",
       " -0.30040350116459497,\n",
       " 0.433799615590844,\n",
       " -0.145082264348681,\n",
       " -0.240427548108996,\n",
       " 0.0376030733329398,\n",
       " 0.38002620963091405,\n",
       " -0.16764742731151097,\n",
       " 0.0275573495476881,\n",
       " 0.59211469704354,\n",
       " 0.219695164116351,\n",
       " 0.0369695108704894,\n",
       " 0.010984441006191,\n",
       " 0.0]"
      ]
     },
     "execution_count": 191,
     "metadata": {},
     "output_type": "execute_result"
    }
   ],
   "source": [
    "instances[0]"
   ]
  },
  {
   "cell_type": "code",
   "execution_count": 107,
   "id": "949010a7-b0d9-4223-8e33-537e7726217d",
   "metadata": {
    "tags": []
   },
   "outputs": [
    {
     "data": {
      "text/plain": [
       "Prediction(predictions=[0.0], deployed_model_id='8337304203332419584', metadata=None, model_version_id='1', model_resource_name='projects/1026793852137/locations/us-central1/models/model_dev_sklearn-workflow', explanations=None)"
      ]
     },
     "execution_count": 107,
     "metadata": {},
     "output_type": "execute_result"
    }
   ],
   "source": [
    "endpoint.predict(instances = instances[0:1])"
   ]
  },
  {
   "cell_type": "code",
   "execution_count": 108,
   "id": "4aabe2d6-b0b2-414e-ac50-cbb3a662c14b",
   "metadata": {
    "tags": []
   },
   "outputs": [
    {
     "data": {
      "text/plain": [
       "53"
      ]
     },
     "execution_count": 108,
     "metadata": {},
     "output_type": "execute_result"
    }
   ],
   "source": [
    "test_y.ne(0).idxmax()"
   ]
  },
  {
   "cell_type": "code",
   "execution_count": 109,
   "id": "dfabf2a0-064a-49b8-8c77-710dc5307ec2",
   "metadata": {
    "tags": []
   },
   "outputs": [
    {
     "data": {
      "text/plain": [
       "Prediction(predictions=[1.0], deployed_model_id='8337304203332419584', metadata=None, model_version_id='1', model_resource_name='projects/1026793852137/locations/us-central1/models/model_dev_sklearn-workflow', explanations=None)"
      ]
     },
     "execution_count": 109,
     "metadata": {},
     "output_type": "execute_result"
    }
   ],
   "source": [
    "endpoint.predict(instances = instances[53:54])"
   ]
  },
  {
   "cell_type": "markdown",
   "id": "ac05d4e9-15ef-4c09-babf-d7550c119038",
   "metadata": {},
   "source": [
    "## Model Serving: Batch With Vertex AI Prediction Batch Jobs\n",
    "\n",
    "- https://cloud.google.com/vertex-ai/docs/predictions/get-batch-predictions#bigquery\n",
    "- https://cloud.google.com/python/docs/reference/aiplatform/latest/google.cloud.aiplatform.Model#google_cloud_aiplatform_Model_batch_predict\n",
    "\n",
    "Here, we want to filter to rows with `splits = EVAL` and exclude columns.  This will use the gapic version of the API:\n",
    "- https://cloud.google.com/python/docs/reference/aiplatform/latest/google.cloud.aiplatform_v1.types.BatchPredictionJob\n",
    "- https://cloud.google.com/python/docs/reference/aiplatform/latest/google.cloud.aiplatform_v1.services.job_service.JobServiceClient#google_cloud_aiplatform_v1_services_job_service_JobServiceClient_create_batch_prediction_job"
   ]
  },
  {
   "cell_type": "code",
   "execution_count": 110,
   "id": "b0b5b3fd-6f75-44b5-94f6-e301aa8db71c",
   "metadata": {
    "tags": []
   },
   "outputs": [],
   "source": [
    "client_options = {\"api_endpoint\": f\"{REGION}-aiplatform.googleapis.com\"}\n",
    "jobs_client = aiplatform.gapic.JobServiceClient(client_options = client_options)"
   ]
  },
  {
   "cell_type": "code",
   "execution_count": 209,
   "id": "3f183350-0cd5-4152-8dc3-852b47d09dcd",
   "metadata": {
    "tags": []
   },
   "outputs": [],
   "source": [
    "batch_prediction_job = aiplatform.gapic.BatchPredictionJob(\n",
    "    display_name = f'{SERIES}_{EXPERIMENT}',\n",
    "    model = model.versioned_resource_name,\n",
    "    input_config = dict(\n",
    "        instances_format = 'bigquery',\n",
    "        bigquery_source = dict(input_uri = f'bq://{BQ_PROJECT}.{BQ_DATASET}.{BQ_TABLE}')\n",
    "    ),\n",
    "    output_config = dict(\n",
    "        predictions_format = 'bigquery',\n",
    "        bigquery_destination = dict(output_uri = f'bq://{BQ_PROJECT}.{BQ_DATASET}')\n",
    "    ),\n",
    "    dedicated_resources = dict(\n",
    "        machine_spec = dict(machine_type = DEPLOY_COMPUTE),\n",
    "        starting_replica_count = 10,\n",
    "        max_replica_count = 10\n",
    "    ),\n",
    "    instance_config = dict(\n",
    "        instance_type = 'array',\n",
    "        included_fields = list(train_x.columns),\n",
    "        #excluded_fields = ['Class', 'splits', 'transaction_id']\n",
    "    )\n",
    ")"
   ]
  },
  {
   "cell_type": "code",
   "execution_count": 210,
   "id": "ffb6ac8a-0abf-49e8-91d5-83a84337c0be",
   "metadata": {
    "tags": []
   },
   "outputs": [],
   "source": [
    "bqBatchJob = jobs_client.create_batch_prediction_job(\n",
    "    parent = f'projects/{PROJECT_ID}/locations/{REGION}',\n",
    "    batch_prediction_job = batch_prediction_job\n",
    ")"
   ]
  },
  {
   "cell_type": "code",
   "execution_count": 215,
   "id": "d0880a4b-504c-446a-8daa-712b1df93cde",
   "metadata": {
    "tags": []
   },
   "outputs": [
    {
     "data": {
      "text/plain": [
       "<JobState.JOB_STATE_RUNNING: 3>"
      ]
     },
     "execution_count": 215,
     "metadata": {},
     "output_type": "execute_result"
    }
   ],
   "source": [
    "state = jobs_client.get_batch_prediction_job(\n",
    "    name = bqBatchJob.name\n",
    ").state\n",
    "state"
   ]
  },
  {
   "cell_type": "code",
   "execution_count": 235,
   "id": "a9d5f64a-4958-47fc-96a7-c30e9217bc30",
   "metadata": {
    "tags": []
   },
   "outputs": [
    {
     "data": {
      "text/plain": [
       "(<JobState.JOB_STATE_RUNNING: 3>, 3)"
      ]
     },
     "execution_count": 235,
     "metadata": {},
     "output_type": "execute_result"
    }
   ],
   "source": [
    "state, state.value"
   ]
  },
  {
   "cell_type": "code",
   "execution_count": 228,
   "id": "df2cf5d4-fd61-49c1-bbed-86707d522c4d",
   "metadata": {
    "tags": []
   },
   "outputs": [
    {
     "data": {
      "text/plain": [
       "['JOB_STATE_UNSPECIFIED',\n",
       " 'JOB_STATE_QUEUED',\n",
       " 'JOB_STATE_PENDING',\n",
       " 'JOB_STATE_RUNNING',\n",
       " 'JOB_STATE_SUCCEEDED',\n",
       " 'JOB_STATE_FAILED',\n",
       " 'JOB_STATE_CANCELLING',\n",
       " 'JOB_STATE_CANCELLED',\n",
       " 'JOB_STATE_PAUSED',\n",
       " 'JOB_STATE_EXPIRED',\n",
       " 'JOB_STATE_UPDATING',\n",
       " 'JOB_STATE_PARTIALLY_SUCCEEDED']"
      ]
     },
     "execution_count": 228,
     "metadata": {},
     "output_type": "execute_result"
    }
   ],
   "source": [
    "state._member_names_"
   ]
  },
  {
   "cell_type": "code",
   "execution_count": 238,
   "id": "0cc386ba-ad11-45c2-bf8f-5644e2ebeb89",
   "metadata": {
    "tags": []
   },
   "outputs": [
    {
     "name": "stdout",
     "output_type": "stream",
     "text": [
      "Checking again in 1 Minute...\n"
     ]
    }
   ],
   "source": [
    "while state.value <= 3:\n",
    "    print('Checking again in 1 Minute...')\n",
    "    time.sleep(60)\n",
    "    state = jobs_client.get_batch_prediction_job(\n",
    "        name = bqBatchJob.name\n",
    "    ).state"
   ]
  },
  {
   "cell_type": "code",
   "execution_count": 239,
   "id": "44476fa0-3c66-45e0-b9b6-02c99aa75cf0",
   "metadata": {
    "tags": []
   },
   "outputs": [
    {
     "data": {
      "text/plain": [
       "'JOB_STATE_SUCCEEDED'"
      ]
     },
     "execution_count": 239,
     "metadata": {},
     "output_type": "execute_result"
    }
   ],
   "source": [
    "state.name"
   ]
  },
  {
   "cell_type": "code",
   "execution_count": 242,
   "id": "ecc00ece-4cb2-4ecc-b5a9-301db89978f4",
   "metadata": {
    "tags": []
   },
   "outputs": [
    {
     "data": {
      "text/plain": [
       "bigquery_output_dataset: \"bq://statmike-mlops-349915.fraud\"\n",
       "bigquery_output_table: \"predictions_2024_02_26T08_04_51_229Z_720\""
      ]
     },
     "execution_count": 242,
     "metadata": {},
     "output_type": "execute_result"
    }
   ],
   "source": [
    "bqBatchJob = jobs_client.get_batch_prediction_job(\n",
    "    name = bqBatchJob.name\n",
    ")\n",
    "bqBatchJob.output_info"
   ]
  },
  {
   "cell_type": "code",
   "execution_count": 279,
   "id": "55b2e766-eca9-40e4-974e-5ec513eeacbb",
   "metadata": {
    "tags": []
   },
   "outputs": [
    {
     "data": {
      "text/plain": [
       "'0:13:48.626896'"
      ]
     },
     "execution_count": 279,
     "metadata": {},
     "output_type": "execute_result"
    }
   ],
   "source": [
    "str(bqBatchJob.end_time - bqBatchJob.start_time)"
   ]
  },
  {
   "cell_type": "code",
   "execution_count": 243,
   "id": "15eeeb68-6d16-4c95-a689-42dd34054962",
   "metadata": {
    "tags": []
   },
   "outputs": [
    {
     "data": {
      "text/plain": [
       "'statmike-mlops-349915.fraud.predictions_2024_02_26T08_04_51_229Z_720'"
      ]
     },
     "execution_count": 243,
     "metadata": {},
     "output_type": "execute_result"
    }
   ],
   "source": [
    "bq_table = f\"{bqBatchJob.output_info.bigquery_output_dataset.split('bq://')[-1]}.{bqBatchJob.output_info.bigquery_output_table}\"\n",
    "bq_table"
   ]
  },
  {
   "cell_type": "code",
   "execution_count": 244,
   "id": "41c88cd2-cb00-48bd-82d7-2a8e690596c7",
   "metadata": {
    "tags": []
   },
   "outputs": [],
   "source": [
    "batch_predictions = bq.query(f'''\n",
    "SELECT *\n",
    "FROM `{bq_table}`\n",
    "''').to_dataframe()"
   ]
  },
  {
   "cell_type": "code",
   "execution_count": 250,
   "id": "f3a5e378-c1f0-4456-987c-7eabd638ecbe",
   "metadata": {
    "tags": []
   },
   "outputs": [
    {
     "data": {
      "text/html": [
       "<div>\n",
       "<style scoped>\n",
       "    .dataframe tbody tr th:only-of-type {\n",
       "        vertical-align: middle;\n",
       "    }\n",
       "\n",
       "    .dataframe tbody tr th {\n",
       "        vertical-align: top;\n",
       "    }\n",
       "\n",
       "    .dataframe thead th {\n",
       "        text-align: right;\n",
       "    }\n",
       "</style>\n",
       "<table border=\"1\" class=\"dataframe\">\n",
       "  <thead>\n",
       "    <tr style=\"text-align: right;\">\n",
       "      <th></th>\n",
       "      <th>Time</th>\n",
       "      <th>V1</th>\n",
       "      <th>V2</th>\n",
       "      <th>V3</th>\n",
       "      <th>V4</th>\n",
       "      <th>V5</th>\n",
       "      <th>V6</th>\n",
       "      <th>V7</th>\n",
       "      <th>V8</th>\n",
       "      <th>V9</th>\n",
       "      <th>...</th>\n",
       "      <th>V24</th>\n",
       "      <th>V25</th>\n",
       "      <th>V26</th>\n",
       "      <th>V27</th>\n",
       "      <th>V28</th>\n",
       "      <th>Amount</th>\n",
       "      <th>Class</th>\n",
       "      <th>transaction_id</th>\n",
       "      <th>splits</th>\n",
       "      <th>prediction</th>\n",
       "    </tr>\n",
       "  </thead>\n",
       "  <tbody>\n",
       "    <tr>\n",
       "      <th>143692</th>\n",
       "      <td>140293</td>\n",
       "      <td>0.951025</td>\n",
       "      <td>3.252926</td>\n",
       "      <td>-5.039105</td>\n",
       "      <td>4.632411</td>\n",
       "      <td>3.014501</td>\n",
       "      <td>-1.349570</td>\n",
       "      <td>0.980940</td>\n",
       "      <td>-1.819539</td>\n",
       "      <td>-2.099049</td>\n",
       "      <td>...</td>\n",
       "      <td>-1.185942</td>\n",
       "      <td>-1.286177</td>\n",
       "      <td>0.000365</td>\n",
       "      <td>0.169662</td>\n",
       "      <td>0.108276</td>\n",
       "      <td>0.77</td>\n",
       "      <td>1</td>\n",
       "      <td>d29d9996-2d90-4ad6-9cd9-e744424b81e0</td>\n",
       "      <td>TRAIN</td>\n",
       "      <td>0</td>\n",
       "    </tr>\n",
       "    <tr>\n",
       "      <th>143693</th>\n",
       "      <td>54846</td>\n",
       "      <td>-2.986466</td>\n",
       "      <td>-0.000891</td>\n",
       "      <td>0.605887</td>\n",
       "      <td>0.338338</td>\n",
       "      <td>0.685448</td>\n",
       "      <td>-1.581954</td>\n",
       "      <td>0.504206</td>\n",
       "      <td>-0.233403</td>\n",
       "      <td>0.636768</td>\n",
       "      <td>...</td>\n",
       "      <td>0.355065</td>\n",
       "      <td>0.448552</td>\n",
       "      <td>0.193490</td>\n",
       "      <td>1.214588</td>\n",
       "      <td>-0.013923</td>\n",
       "      <td>1.79</td>\n",
       "      <td>1</td>\n",
       "      <td>b949175e-d019-4637-b02f-8d0f8cc6c51c</td>\n",
       "      <td>TRAIN</td>\n",
       "      <td>0</td>\n",
       "    </tr>\n",
       "    <tr>\n",
       "      <th>143694</th>\n",
       "      <td>87202</td>\n",
       "      <td>-0.419820</td>\n",
       "      <td>-1.155978</td>\n",
       "      <td>-2.092516</td>\n",
       "      <td>2.786750</td>\n",
       "      <td>0.736297</td>\n",
       "      <td>-0.167292</td>\n",
       "      <td>1.600027</td>\n",
       "      <td>-0.117427</td>\n",
       "      <td>-0.796954</td>\n",
       "      <td>...</td>\n",
       "      <td>0.516131</td>\n",
       "      <td>-0.602941</td>\n",
       "      <td>-0.305024</td>\n",
       "      <td>-0.021363</td>\n",
       "      <td>0.129096</td>\n",
       "      <td>451.27</td>\n",
       "      <td>1</td>\n",
       "      <td>d0cfc4bf-40be-468e-b80b-403e5219136d</td>\n",
       "      <td>TRAIN</td>\n",
       "      <td>0</td>\n",
       "    </tr>\n",
       "    <tr>\n",
       "      <th>143695</th>\n",
       "      <td>139107</td>\n",
       "      <td>-4.666500</td>\n",
       "      <td>-3.952320</td>\n",
       "      <td>0.206094</td>\n",
       "      <td>5.153525</td>\n",
       "      <td>5.229469</td>\n",
       "      <td>0.939040</td>\n",
       "      <td>-0.635033</td>\n",
       "      <td>-0.704506</td>\n",
       "      <td>-0.234786</td>\n",
       "      <td>...</td>\n",
       "      <td>-0.759673</td>\n",
       "      <td>-0.502304</td>\n",
       "      <td>0.630639</td>\n",
       "      <td>-0.513880</td>\n",
       "      <td>0.729526</td>\n",
       "      <td>22.47</td>\n",
       "      <td>1</td>\n",
       "      <td>7a960a18-0a2f-4351-a148-7978c2bb36b0</td>\n",
       "      <td>TRAIN</td>\n",
       "      <td>0</td>\n",
       "    </tr>\n",
       "    <tr>\n",
       "      <th>143696</th>\n",
       "      <td>102318</td>\n",
       "      <td>-1.020632</td>\n",
       "      <td>1.496959</td>\n",
       "      <td>-4.490937</td>\n",
       "      <td>1.836727</td>\n",
       "      <td>0.627318</td>\n",
       "      <td>-2.735569</td>\n",
       "      <td>-1.546274</td>\n",
       "      <td>0.459822</td>\n",
       "      <td>-0.682741</td>\n",
       "      <td>...</td>\n",
       "      <td>-0.155500</td>\n",
       "      <td>0.412166</td>\n",
       "      <td>-0.220080</td>\n",
       "      <td>0.392338</td>\n",
       "      <td>-0.020089</td>\n",
       "      <td>22.04</td>\n",
       "      <td>1</td>\n",
       "      <td>f3b8a1b7-0000-4231-b541-52996821a6ad</td>\n",
       "      <td>TRAIN</td>\n",
       "      <td>0</td>\n",
       "    </tr>\n",
       "  </tbody>\n",
       "</table>\n",
       "<p>5 rows × 34 columns</p>\n",
       "</div>"
      ],
      "text/plain": [
       "          Time        V1        V2        V3        V4        V5        V6  \\\n",
       "143692  140293  0.951025  3.252926 -5.039105  4.632411  3.014501 -1.349570   \n",
       "143693   54846 -2.986466 -0.000891  0.605887  0.338338  0.685448 -1.581954   \n",
       "143694   87202 -0.419820 -1.155978 -2.092516  2.786750  0.736297 -0.167292   \n",
       "143695  139107 -4.666500 -3.952320  0.206094  5.153525  5.229469  0.939040   \n",
       "143696  102318 -1.020632  1.496959 -4.490937  1.836727  0.627318 -2.735569   \n",
       "\n",
       "              V7        V8        V9  ...       V24       V25       V26  \\\n",
       "143692  0.980940 -1.819539 -2.099049  ... -1.185942 -1.286177  0.000365   \n",
       "143693  0.504206 -0.233403  0.636768  ...  0.355065  0.448552  0.193490   \n",
       "143694  1.600027 -0.117427 -0.796954  ...  0.516131 -0.602941 -0.305024   \n",
       "143695 -0.635033 -0.704506 -0.234786  ... -0.759673 -0.502304  0.630639   \n",
       "143696 -1.546274  0.459822 -0.682741  ... -0.155500  0.412166 -0.220080   \n",
       "\n",
       "             V27       V28  Amount  Class  \\\n",
       "143692  0.169662  0.108276    0.77      1   \n",
       "143693  1.214588 -0.013923    1.79      1   \n",
       "143694 -0.021363  0.129096  451.27      1   \n",
       "143695 -0.513880  0.729526   22.47      1   \n",
       "143696  0.392338 -0.020089   22.04      1   \n",
       "\n",
       "                              transaction_id  splits  prediction  \n",
       "143692  d29d9996-2d90-4ad6-9cd9-e744424b81e0   TRAIN           0  \n",
       "143693  b949175e-d019-4637-b02f-8d0f8cc6c51c   TRAIN           0  \n",
       "143694  d0cfc4bf-40be-468e-b80b-403e5219136d   TRAIN           0  \n",
       "143695  7a960a18-0a2f-4351-a148-7978c2bb36b0   TRAIN           0  \n",
       "143696  f3b8a1b7-0000-4231-b541-52996821a6ad   TRAIN           0  \n",
       "\n",
       "[5 rows x 34 columns]"
      ]
     },
     "execution_count": 250,
     "metadata": {},
     "output_type": "execute_result"
    }
   ],
   "source": [
    "batch_predictions.loc[(batch_predictions['prediction'] == '0') & (batch_predictions['Class'] == 1)].head()"
   ]
  },
  {
   "cell_type": "markdown",
   "id": "354d5f6b-3b37-42d3-aa02-31ca51eee22d",
   "metadata": {
    "tags": []
   },
   "source": [
    "---\n",
    "# Challenge: Customize Prediction Response\n",
    "\n",
    "The prediction responses only include the predicted value of the classification.  If we want the probability for each class then we need to customize the prediction response.  \n",
    "\n",
    "This means a customized container to accompany the model that will format and respond with the desired prediction format. There are several ways to accomplish this custom container build:\n",
    "- Build it following the requirements here: https://cloud.google.com/vertex-ai/docs/predictions/custom-container-requirements\n",
    "- Use a prebuilt container with options for customization like NVIDIA Triton Inference Server: https://cloud.google.com/vertex-ai/docs/predictions/using-nvidia-triton\n",
    "- Use a helper to build a container like Custom Prediction Routines: https://cloud.google.com/vertex-ai/docs/predictions/custom-prediction-routines\n"
   ]
  },
  {
   "cell_type": "markdown",
   "id": "fc53c9e4-614f-450e-be7b-54b54b8d323f",
   "metadata": {},
   "source": [
    "## Setup Artifact Registry\n",
    "\n",
    "[Artifact registry](https://cloud.google.com/artifact-registry/docs) organizes artifacts with repositories.  Each repository contains packages and is designated to hold a partifcular format of package: Docker images, Python Packages and [others](https://cloud.google.com/artifact-registry/docs/supported-formats#package).  There is even a registry type specifically for [Kubeflow pipeline templates](https://cloud.google.com/artifact-registry/docs/kfp?hl=en)."
   ]
  },
  {
   "cell_type": "markdown",
   "id": "fc72f46b-83a3-44d9-bcc4-187a12335881",
   "metadata": {},
   "source": [
    "### List Repositories\n",
    "\n",
    "This may be empty if no repositories have been created for this project"
   ]
  },
  {
   "cell_type": "code",
   "execution_count": 79,
   "id": "1ab2ccdb-36e9-47f7-82af-7c1b55ea4ae1",
   "metadata": {
    "tags": []
   },
   "outputs": [
    {
     "name": "stdout",
     "output_type": "stream",
     "text": [
      "projects/statmike-mlops-349915/locations/us-central1/repositories/gcf-artifacts\n",
      "projects/statmike-mlops-349915/locations/us-central1/repositories/statmike-mlops-349915\n",
      "projects/statmike-mlops-349915/locations/us-central1/repositories/statmike-mlops-349915-docker\n",
      "projects/statmike-mlops-349915/locations/us-central1/repositories/statmike-mlops-349915-python\n"
     ]
    }
   ],
   "source": [
    "for repo in ar_client.list_repositories(parent = f'projects/{PROJECT_ID}/locations/{REGION}'):\n",
    "    print(repo.name)"
   ]
  },
  {
   "cell_type": "markdown",
   "id": "44fe3bcb-3337-4cd2-b600-ebcb4a2d4b08",
   "metadata": {},
   "source": [
    "### Create Docker Image Repository\n",
    "\n",
    "Create an Artifact Registry Repository to hold Docker Images created by this notebook.  First, check to see if it is already created by a previous run and retrieve it if it has.  Otherwise, create!"
   ]
  },
  {
   "cell_type": "code",
   "execution_count": 80,
   "id": "50169a24-8002-4d36-8a79-2de3cdd9371d",
   "metadata": {
    "tags": []
   },
   "outputs": [
    {
     "name": "stdout",
     "output_type": "stream",
     "text": [
      "Retrieved existing repo: projects/statmike-mlops-349915/locations/us-central1/repositories/statmike-mlops-349915\n"
     ]
    }
   ],
   "source": [
    "docker_repo = None\n",
    "for repo in ar_client.list_repositories(parent = f'projects/{PROJECT_ID}/locations/{REGION}'):\n",
    "    if f'{PROJECT_ID}' == repo.name.split('/')[-1]:\n",
    "        docker_repo = repo\n",
    "        print(f'Retrieved existing repo: {docker_repo.name}')\n",
    "\n",
    "if not docker_repo:\n",
    "    operation = ar_client.create_repository(\n",
    "        request = artifactregistry_v1.CreateRepositoryRequest(\n",
    "            parent = f'projects/{PROJECT_ID}/locations/{REGION}',\n",
    "            repository_id = f'{PROJECT_ID}',\n",
    "            repository = artifactregistry_v1.Repository(\n",
    "                description = f'A repository for the {SERIES} series that holds docker images.',\n",
    "                name = f'{PROJECT_ID}',\n",
    "                format_ = artifactregistry_v1.Repository.Format.DOCKER,\n",
    "                labels = {'series': SERIES}\n",
    "            )\n",
    "        )\n",
    "    )\n",
    "    print('Creating Repository ...')\n",
    "    docker_repo = operation.result()\n",
    "    print(f'Completed creating repo: {docker_repo.name}')"
   ]
  },
  {
   "cell_type": "code",
   "execution_count": 81,
   "id": "2b15751f-e7e4-4008-a803-f5bb7bba75a7",
   "metadata": {
    "tags": []
   },
   "outputs": [
    {
     "data": {
      "text/plain": [
       "('projects/statmike-mlops-349915/locations/us-central1/repositories/statmike-mlops-349915',\n",
       " 'DOCKER')"
      ]
     },
     "execution_count": 81,
     "metadata": {},
     "output_type": "execute_result"
    }
   ],
   "source": [
    "docker_repo.name, docker_repo.format_.name"
   ]
  },
  {
   "cell_type": "code",
   "execution_count": 82,
   "id": "51a393f7-4108-4911-99db-dc569971d561",
   "metadata": {
    "tags": []
   },
   "outputs": [],
   "source": [
    "REPOSITORY = f\"{REGION}-docker.pkg.dev/{PROJECT_ID}/{docker_repo.name.split('/')[-1]}\""
   ]
  },
  {
   "cell_type": "code",
   "execution_count": 83,
   "id": "a03fef5b-cd72-41c4-84b3-ad4f44861639",
   "metadata": {
    "tags": []
   },
   "outputs": [
    {
     "data": {
      "text/plain": [
       "'us-central1-docker.pkg.dev/statmike-mlops-349915/statmike-mlops-349915'"
      ]
     },
     "execution_count": 83,
     "metadata": {},
     "output_type": "execute_result"
    }
   ],
   "source": [
    "REPOSITORY"
   ]
  },
  {
   "cell_type": "markdown",
   "id": "b5eb8f79-8811-48e5-8292-f48c66c755a5",
   "metadata": {},
   "source": [
    "---\n",
    "## Model Serving: Custom Container\n",
    "\n",
    "It is really not all that hard with Python!\n",
    "\n",
    "For this example [FastAPI](https://fastapi.tiangolo.com/) is used."
   ]
  },
  {
   "cell_type": "markdown",
   "id": "d0f42b6a-89a4-4b61-9f53-c22484c6cc77",
   "metadata": {},
   "source": [
    "### Create Application Files\n",
    "\n",
    "```\n",
    "|__ Dockerfile\n",
    "|__ requirements.txt\n",
    "|__ app\n",
    "    |__ main.py\n",
    "    |__ prestart.sh\n",
    "```"
   ]
  },
  {
   "cell_type": "code",
   "execution_count": 94,
   "id": "9ceb6e00-0f81-4809-a213-2a9701a89bfe",
   "metadata": {
    "tags": []
   },
   "outputs": [],
   "source": [
    "if not os.path.exists(DIR + '/custom/SRC/app'):\n",
    "    os.makedirs(DIR + '/custom/SRC/app')"
   ]
  },
  {
   "cell_type": "code",
   "execution_count": 432,
   "id": "6bd364b4-e73b-482a-ab95-fbd472dd7a62",
   "metadata": {
    "tags": []
   },
   "outputs": [
    {
     "name": "stdout",
     "output_type": "stream",
     "text": [
      "Overwriting temp/sklearn-workflow/custom/SRC/app/main.py\n"
     ]
    }
   ],
   "source": [
    "%%writefile {DIR}/custom/SRC/app/main.py\n",
    "from fastapi import FastAPI, Request\n",
    "import json\n",
    "import os\n",
    "import numpy as np\n",
    "import pickle\n",
    "from google.cloud import storage\n",
    "\n",
    "app = FastAPI()\n",
    "gcs_client = storage.Client()\n",
    "\n",
    "# Download the model file from Cloud Storage bucket\n",
    "with open(\"model.pkl\", 'wb') as model_f:\n",
    "    gcs_client.download_blob_to_file(\n",
    "            f\"{os.environ['AIP_STORAGE_URI']}/model.pkl\", model_f\n",
    "        )\n",
    "    \n",
    "# Load the scikit-learn model\n",
    "with open('model.pkl','rb') as f:\n",
    "    _model = pickle.load(f)\n",
    "\n",
    "classes = [str(c) for c in list(_model.classes_)]\n",
    "    \n",
    "# Define function for health route\n",
    "@app.get(os.environ['AIP_HEALTH_ROUTE'], status_code=200)\n",
    "def health():\n",
    "    return {}\n",
    "\n",
    "# Define function for prediction route\n",
    "@app.post(os.environ['AIP_PREDICT_ROUTE'])\n",
    "async def predict(request: Request):\n",
    "    # await the request\n",
    "    body = await request.json()\n",
    "    \n",
    "    # parse the request\n",
    "    instances = body[\"instances\"]\n",
    "    inputs = np.asarray(instances)\n",
    "    \n",
    "    # get predicted probabilities\n",
    "    predictions = _model.predict_proba(inputs).tolist()\n",
    "    \n",
    "    # format predictions:\n",
    "    preds = [dict(classes = classes, scores = p) for p in predictions]\n",
    "    \n",
    "    # following requires a prediction_schema so the model understands the output format:\n",
    "    #return {\"predictions\": preds}\n",
    "    # this returns just the predicted probabilities:\n",
    "    return {\"predictions\": predictions}"
   ]
  },
  {
   "cell_type": "code",
   "execution_count": 433,
   "id": "7eebd511-3765-4f61-b5fd-e081705e1358",
   "metadata": {
    "tags": []
   },
   "outputs": [
    {
     "name": "stdout",
     "output_type": "stream",
     "text": [
      "Overwriting temp/sklearn-workflow/custom/SRC/app/__init__.py\n"
     ]
    }
   ],
   "source": [
    "%%writefile {DIR}/custom/SRC/app/__init__.py\n",
    "# init file"
   ]
  },
  {
   "cell_type": "code",
   "execution_count": 434,
   "id": "b155f5ef-bd09-478d-b0d9-1a5d567678c4",
   "metadata": {
    "tags": []
   },
   "outputs": [
    {
     "name": "stdout",
     "output_type": "stream",
     "text": [
      "Overwriting temp/sklearn-workflow/custom/SRC/requirements.txt\n"
     ]
    }
   ],
   "source": [
    "%%writefile {DIR}/custom/SRC/requirements.txt\n",
    "numpy\n",
    "scikit-learn==1.0\n",
    "google-cloud-storage"
   ]
  },
  {
   "cell_type": "code",
   "execution_count": 435,
   "id": "149807cb-3d95-4ef0-a174-c8b8b2e26d16",
   "metadata": {
    "tags": []
   },
   "outputs": [
    {
     "name": "stdout",
     "output_type": "stream",
     "text": [
      "Overwriting temp/sklearn-workflow/custom/SRC/app/prestart.sh\n"
     ]
    }
   ],
   "source": [
    "%%writefile {DIR}/custom/SRC/app/prestart.sh\n",
    "#!/bin/bash\n",
    "export PORT=$AIP_HTTP_PORT"
   ]
  },
  {
   "cell_type": "code",
   "execution_count": 436,
   "id": "ea976eb8-b6e1-432d-b962-02aaa08ed1ba",
   "metadata": {
    "tags": []
   },
   "outputs": [
    {
     "name": "stdout",
     "output_type": "stream",
     "text": [
      "Overwriting temp/sklearn-workflow/custom/SRC/Dockerfile\n"
     ]
    }
   ],
   "source": [
    "%%writefile {DIR}/custom/SRC/Dockerfile\n",
    "FROM tiangolo/uvicorn-gunicorn-fastapi:python3.9\n",
    "\n",
    "COPY ./app /app\n",
    "\n",
    "COPY ./requirements.txt requirements.txt\n",
    "RUN pip install --no-cache-dir --upgrade pip \\\n",
    "  && pip install --no-cache-dir -r requirements.txt"
   ]
  },
  {
   "cell_type": "code",
   "execution_count": 437,
   "id": "30887896-48bd-49cf-9c91-8b0d974b774c",
   "metadata": {
    "tags": []
   },
   "outputs": [],
   "source": [
    "bucket.blob(f'{SERIES}/{EXPERIMENT}/custom/SRC/app/main.py').upload_from_filename(f'{DIR}/custom/SRC/app/main.py')\n",
    "bucket.blob(f'{SERIES}/{EXPERIMENT}/custom/SRC/app/__init__.py').upload_from_filename(f'{DIR}/custom/SRC/app/__init__.py')\n",
    "bucket.blob(f'{SERIES}/{EXPERIMENT}/custom/SRC/requirements.txt').upload_from_filename(f'{DIR}/custom/SRC/requirements.txt')\n",
    "bucket.blob(f'{SERIES}/{EXPERIMENT}/custom/SRC/app/prestart.sh').upload_from_filename(f'{DIR}/custom/SRC/app/prestart.sh')\n",
    "bucket.blob(f'{SERIES}/{EXPERIMENT}/custom/SRC/Dockerfile').upload_from_filename(f'{DIR}/custom/SRC/Dockerfile')"
   ]
  },
  {
   "cell_type": "markdown",
   "id": "3160f111-06b6-42f0-8542-309fdd2ce7f5",
   "metadata": {},
   "source": [
    "### Build Application Container\n",
    "\n",
    "Use the Cloud Build client to construct and run the build instructions. Here the files collected in GCS are copied to the build instance, then the Docker build is run in the folder with the `Dockerfile`. The resulting image is pushed to Artifact Registry (setup above)."
   ]
  },
  {
   "cell_type": "code",
   "execution_count": 438,
   "id": "c2e7b1ea-1079-4063-86ad-b1f6c67ea3c7",
   "metadata": {
    "tags": []
   },
   "outputs": [],
   "source": [
    "# setup the build config with empty list of steps - these will be added sequentially\n",
    "build = cloudbuild_v1.Build(\n",
    "    steps = []\n",
    ")\n",
    "# retrieve the source\n",
    "build.steps.append(\n",
    "    {\n",
    "        'name': 'gcr.io/cloud-builders/gsutil',\n",
    "        'args': ['cp', '-r', f'gs://{GCS_BUCKET}/{SERIES}/{EXPERIMENT}/custom/SRC/*', '/workspace']\n",
    "    }\n",
    ")\n",
    "# docker build\n",
    "build.steps.append(\n",
    "    {\n",
    "        'name': 'gcr.io/cloud-builders/docker',\n",
    "        'args': ['build', '-t', f'{REPOSITORY}/{EXPERIMENT}_custom', '/workspace']\n",
    "    }    \n",
    ")\n",
    "# docker push\n",
    "build.images = [f\"{REPOSITORY}/{EXPERIMENT}_custom\"]"
   ]
  },
  {
   "cell_type": "code",
   "execution_count": 439,
   "id": "f69400c8-d067-4aae-a841-7a45cc54010f",
   "metadata": {
    "tags": []
   },
   "outputs": [
    {
     "data": {
      "text/plain": [
       "steps {\n",
       "  name: \"gcr.io/cloud-builders/gsutil\"\n",
       "  args: \"cp\"\n",
       "  args: \"-r\"\n",
       "  args: \"gs://statmike-mlops-349915/dev/sklearn-workflow/custom/SRC/*\"\n",
       "  args: \"/workspace\"\n",
       "}\n",
       "steps {\n",
       "  name: \"gcr.io/cloud-builders/docker\"\n",
       "  args: \"build\"\n",
       "  args: \"-t\"\n",
       "  args: \"us-central1-docker.pkg.dev/statmike-mlops-349915/statmike-mlops-349915/sklearn-workflow_custom\"\n",
       "  args: \"/workspace\"\n",
       "}\n",
       "images: \"us-central1-docker.pkg.dev/statmike-mlops-349915/statmike-mlops-349915/sklearn-workflow_custom\""
      ]
     },
     "execution_count": 439,
     "metadata": {},
     "output_type": "execute_result"
    }
   ],
   "source": [
    "build"
   ]
  },
  {
   "cell_type": "code",
   "execution_count": 440,
   "id": "764e2588-8df3-4636-aae9-eb15d2d58036",
   "metadata": {
    "tags": []
   },
   "outputs": [],
   "source": [
    "operation = cb_client.create_build(\n",
    "    project_id = PROJECT_ID,\n",
    "    build = build\n",
    ")"
   ]
  },
  {
   "cell_type": "code",
   "execution_count": 441,
   "id": "bf341b78-0d34-4048-b93e-13f647245521",
   "metadata": {
    "tags": []
   },
   "outputs": [
    {
     "data": {
      "text/plain": [
       "(<Status.SUCCESS: 3>,\n",
       " images: \"us-central1-docker.pkg.dev/statmike-mlops-349915/statmike-mlops-349915/sklearn-workflow_custom\")"
      ]
     },
     "execution_count": 441,
     "metadata": {},
     "output_type": "execute_result"
    }
   ],
   "source": [
    "response = operation.result()\n",
    "response.status, response.artifacts"
   ]
  },
  {
   "cell_type": "code",
   "execution_count": 442,
   "id": "d81a7856-00aa-415e-81c9-e22de8782dc0",
   "metadata": {
    "tags": []
   },
   "outputs": [
    {
     "name": "stdout",
     "output_type": "stream",
     "text": [
      "Review the Custom Container with Artifact Registry in the Google Cloud Console:\n",
      "https://console.cloud.google.com/artifacts/docker/statmike-mlops-349915/us-central1/statmike-mlops-349915?project=statmike-mlops-349915\n"
     ]
    }
   ],
   "source": [
    "print(f\"Review the Custom Container with Artifact Registry in the Google Cloud Console:\\nhttps://console.cloud.google.com/artifacts/docker/{PROJECT_ID}/{REGION}/{PROJECT_ID}?project={PROJECT_ID}\")"
   ]
  },
  {
   "cell_type": "markdown",
   "id": "6fc078a8-9f2c-4c43-828f-77553f9dec3b",
   "metadata": {},
   "source": [
    "### Upload Model as New Version"
   ]
  },
  {
   "cell_type": "code",
   "execution_count": 443,
   "id": "bac142a8-83c9-46b6-aa99-2b8c57071aa4",
   "metadata": {
    "tags": []
   },
   "outputs": [
    {
     "data": {
      "text/plain": [
       "'gs://statmike-mlops-349915/dev/sklearn-workflow/models/20240225203750/model'"
      ]
     },
     "execution_count": 443,
     "metadata": {},
     "output_type": "execute_result"
    }
   ],
   "source": [
    "model.uri"
   ]
  },
  {
   "cell_type": "code",
   "execution_count": 387,
   "id": "ffc4a9d1-32e7-4e98-881b-834221c93902",
   "metadata": {
    "tags": []
   },
   "outputs": [],
   "source": [
    "prediction_schema = f\"\"\"title: TabularClassification\n",
    "description: 'Classification results.'\n",
    "type: object\n",
    "properties:\n",
    "  classes:\n",
    "    type: array\n",
    "    items:\n",
    "      type: string\n",
    "      enum:\n",
    "      - '0'\n",
    "      - '1'\n",
    "    description: 'The class being classified, contains all possible values'\n",
    "  scores:\n",
    "    type: array\n",
    "    items:\n",
    "      type: number\n",
    "      format: float\n",
    "      minimum: 0.0\n",
    "      maximum: 1.0\n",
    "    description: 'The model''s confidence in each class being correct, higher value means higher confidence.  The N-th score corresponds to the N-th class in classes'\n",
    "x-batchpredict-csv-classification-labels: classes\n",
    "x-batchpredict-csv-classification-scores: scores\n",
    "x-target-column-name: Class      \n",
    "\"\"\"\n",
    "bucket.blob(f\"{model.uri.split(GCS_BUCKET + '/')[-1]}/prediction.yaml\").upload_from_string(prediction_schema)"
   ]
  },
  {
   "cell_type": "code",
   "execution_count": 444,
   "id": "b6279b95-de60-421c-b85f-997297a5b651",
   "metadata": {
    "tags": []
   },
   "outputs": [
    {
     "name": "stdout",
     "output_type": "stream",
     "text": [
      "Creating Model\n",
      "Create Model backing LRO: projects/1026793852137/locations/us-central1/models/model_dev_sklearn-workflow/operations/7980520411060240384\n",
      "Model created. Resource name: projects/1026793852137/locations/us-central1/models/model_dev_sklearn-workflow@14\n",
      "To use this Model in another session:\n",
      "model = aiplatform.Model('projects/1026793852137/locations/us-central1/models/model_dev_sklearn-workflow@14')\n"
     ]
    }
   ],
   "source": [
    "custom_model = aiplatform.Model.upload(\n",
    "    display_name = f'{SERIES}_{EXPERIMENT}',\n",
    "    model_id = f'model_{SERIES}_{EXPERIMENT}',\n",
    "    parent_model =  model.resource_name,\n",
    "    #prediction_schema_uri = f'{model.uri}/prediction.yaml',\n",
    "    serving_container_image_uri = f\"{REPOSITORY}/{EXPERIMENT}_custom\",\n",
    "    serving_container_predict_route=\"/predict\",\n",
    "    serving_container_health_route=\"/health\",\n",
    "    artifact_uri = model.uri,\n",
    "    is_default_version = True,\n",
    "    version_aliases = ['custom-container'],\n",
    "    version_description = 'custom_container'\n",
    ")"
   ]
  },
  {
   "cell_type": "code",
   "execution_count": 445,
   "id": "e9d8e8bd-d8e8-484d-8c7f-2d7bf6110109",
   "metadata": {
    "tags": []
   },
   "outputs": [
    {
     "data": {
      "text/plain": [
       "{'name': 'projects/1026793852137/locations/us-central1/models/model_dev_sklearn-workflow@14',\n",
       " 'displayName': 'dev_sklearn-workflow',\n",
       " 'predictSchemata': {},\n",
       " 'metadata': None,\n",
       " 'containerSpec': {'imageUri': 'us-central1-docker.pkg.dev/statmike-mlops-349915/statmike-mlops-349915/sklearn-workflow_custom',\n",
       "  'predictRoute': '/predict',\n",
       "  'healthRoute': '/health'},\n",
       " 'supportedDeploymentResourcesTypes': ['DEDICATED_RESOURCES'],\n",
       " 'supportedInputStorageFormats': ['jsonl',\n",
       "  'bigquery',\n",
       "  'csv',\n",
       "  'tf-record',\n",
       "  'tf-record-gzip',\n",
       "  'file-list'],\n",
       " 'supportedOutputStorageFormats': ['jsonl', 'bigquery'],\n",
       " 'createTime': '2024-02-26T00:58:28.590188Z',\n",
       " 'updateTime': '2024-03-15T17:06:55.757726Z',\n",
       " 'etag': 'AMEw9yMyXAWjCun4UUJlFNmS7LE3hd3taZ4JRdXZZqkuGnpZw3YanG7Lccw881RgcUhI',\n",
       " 'supportedExportFormats': [{'id': 'custom-trained',\n",
       "   'exportableContents': ['ARTIFACT', 'IMAGE']}],\n",
       " 'artifactUri': 'gs://statmike-mlops-349915/dev/sklearn-workflow/models/20240225203750/model',\n",
       " 'versionId': '14',\n",
       " 'versionAliases': ['custom-container', 'default'],\n",
       " 'versionDescription': 'custom_container',\n",
       " 'versionCreateTime': '2024-03-15T17:06:55.757726Z',\n",
       " 'versionUpdateTime': '2024-03-15T17:08:51.476234Z',\n",
       " 'modelSourceInfo': {'sourceType': 'CUSTOM'}}"
      ]
     },
     "execution_count": 445,
     "metadata": {},
     "output_type": "execute_result"
    }
   ],
   "source": [
    "custom_model.to_dict()"
   ]
  },
  {
   "cell_type": "markdown",
   "id": "c69f34b0-c54a-4794-9ab8-fe80912bfa50",
   "metadata": {},
   "source": [
    "### Deploy New Version To Vertex AI Prediction Endpoint"
   ]
  },
  {
   "cell_type": "code",
   "execution_count": 446,
   "id": "59ef1585-02b2-4d06-8fe0-638ce4851fc5",
   "metadata": {
    "tags": []
   },
   "outputs": [
    {
     "name": "stdout",
     "output_type": "stream",
     "text": [
      "Deploying Model projects/1026793852137/locations/us-central1/models/model_dev_sklearn-workflow to Endpoint : projects/1026793852137/locations/us-central1/endpoints/8609714806183690240\n",
      "Deploy Endpoint model backing LRO: projects/1026793852137/locations/us-central1/endpoints/8609714806183690240/operations/833448539911618560\n",
      "Endpoint model deployed. Resource name: projects/1026793852137/locations/us-central1/endpoints/8609714806183690240\n"
     ]
    }
   ],
   "source": [
    "endpoint.deploy(\n",
    "    model = custom_model,\n",
    "    deployed_model_display_name = custom_model.display_name,\n",
    "    traffic_percentage = 100,\n",
    "    machine_type = DEPLOY_COMPUTE,\n",
    "    min_replica_count = 1,  \n",
    "    max_replica_count = 1\n",
    ") "
   ]
  },
  {
   "cell_type": "code",
   "execution_count": 447,
   "id": "a8deedde-5f07-47e4-ac47-1eb7f7a99298",
   "metadata": {
    "tags": []
   },
   "outputs": [
    {
     "data": {
      "text/plain": [
       "{'5365983980430557184': 100}"
      ]
     },
     "execution_count": 447,
     "metadata": {},
     "output_type": "execute_result"
    }
   ],
   "source": [
    "endpoint.traffic_split"
   ]
  },
  {
   "cell_type": "code",
   "execution_count": 448,
   "id": "2c03fe55-5a11-467f-96a8-8215346cad0e",
   "metadata": {
    "tags": []
   },
   "outputs": [
    {
     "data": {
      "text/plain": [
       "[dedicated_resources {\n",
       "   machine_spec {\n",
       "     machine_type: \"n1-standard-4\"\n",
       "   }\n",
       "   min_replica_count: 1\n",
       "   max_replica_count: 1\n",
       " }\n",
       " id: \"2426822273617887232\"\n",
       " model: \"projects/1026793852137/locations/us-central1/models/model_dev_sklearn-workflow\"\n",
       " model_version_id: \"13\"\n",
       " display_name: \"dev_sklearn-workflow\"\n",
       " create_time {\n",
       "   seconds: 1710467845\n",
       "   nanos: 785726000\n",
       " },\n",
       " dedicated_resources {\n",
       "   machine_spec {\n",
       "     machine_type: \"n1-standard-4\"\n",
       "   }\n",
       "   min_replica_count: 1\n",
       "   max_replica_count: 1\n",
       " }\n",
       " id: \"5365983980430557184\"\n",
       " model: \"projects/1026793852137/locations/us-central1/models/model_dev_sklearn-workflow\"\n",
       " model_version_id: \"14\"\n",
       " display_name: \"dev_sklearn-workflow\"\n",
       " create_time {\n",
       "   seconds: 1710522537\n",
       "   nanos: 93696000\n",
       " }]"
      ]
     },
     "execution_count": 448,
     "metadata": {},
     "output_type": "execute_result"
    }
   ],
   "source": [
    "endpoint.list_models()"
   ]
  },
  {
   "cell_type": "code",
   "execution_count": 449,
   "id": "16222db7-92d6-4b7d-a116-fe1139a73248",
   "metadata": {
    "tags": []
   },
   "outputs": [
    {
     "data": {
      "text/plain": [
       "'projects/1026793852137/locations/us-central1/models/model_dev_sklearn-workflow'"
      ]
     },
     "execution_count": 449,
     "metadata": {},
     "output_type": "execute_result"
    }
   ],
   "source": [
    "custom_model.resource_name"
   ]
  },
  {
   "cell_type": "code",
   "execution_count": 450,
   "id": "9a1cec30-3318-4494-aaae-6754a80ea271",
   "metadata": {
    "tags": []
   },
   "outputs": [
    {
     "data": {
      "text/plain": [
       "'14'"
      ]
     },
     "execution_count": 450,
     "metadata": {},
     "output_type": "execute_result"
    }
   ],
   "source": [
    "custom_model.version_id"
   ]
  },
  {
   "cell_type": "code",
   "execution_count": 451,
   "id": "b7a9e315-cf36-420f-8ce1-606fe0f1345f",
   "metadata": {
    "tags": []
   },
   "outputs": [
    {
     "name": "stdout",
     "output_type": "stream",
     "text": [
      "Undeploying Endpoint model: projects/1026793852137/locations/us-central1/endpoints/8609714806183690240\n",
      "Undeploy Endpoint model backing LRO: projects/1026793852137/locations/us-central1/endpoints/8609714806183690240/operations/5333670467561586688\n",
      "Endpoint model undeployed. Resource name: projects/1026793852137/locations/us-central1/endpoints/8609714806183690240\n",
      "Undeploying dev_sklearn-workflow with version 13 because it has no traffic.\n",
      "Model dev_sklearn-workflow with version 14 has traffic = 100\n"
     ]
    }
   ],
   "source": [
    "for deployed_model in endpoint.list_models():\n",
    "    if deployed_model.id in endpoint.traffic_split:\n",
    "        print(f\"Model {deployed_model.display_name} with version {deployed_model.model_version_id} has traffic = {endpoint.traffic_split[deployed_model.id]}\")\n",
    "    else:\n",
    "        endpoint.undeploy(deployed_model_id = deployed_model.id)\n",
    "        print(f\"Undeploying {deployed_model.display_name} with version {deployed_model.model_version_id} because it has no traffic.\")"
   ]
  },
  {
   "cell_type": "code",
   "execution_count": 452,
   "id": "df7144c1-3f86-4e4b-a4b0-52a41e6dea29",
   "metadata": {
    "tags": []
   },
   "outputs": [
    {
     "data": {
      "text/plain": [
       "{'5365983980430557184': 100}"
      ]
     },
     "execution_count": 452,
     "metadata": {},
     "output_type": "execute_result"
    }
   ],
   "source": [
    "endpoint.traffic_split"
   ]
  },
  {
   "cell_type": "markdown",
   "id": "bcaca1d2-fe96-423c-b681-f4591a3d0a34",
   "metadata": {},
   "source": [
    "### Get Predictions"
   ]
  },
  {
   "cell_type": "code",
   "execution_count": 453,
   "id": "53c2b86b-5e0e-4826-8266-10ae481b4cc7",
   "metadata": {
    "tags": []
   },
   "outputs": [
    {
     "data": {
      "text/plain": [
       "Prediction(predictions=[[0.9994812225587977, 0.000518777441202357], [0.9994363774143662, 0.0005636225856337875]], deployed_model_id='5365983980430557184', metadata=None, model_version_id='14', model_resource_name='projects/1026793852137/locations/us-central1/models/model_dev_sklearn-workflow', explanations=None)"
      ]
     },
     "execution_count": 453,
     "metadata": {},
     "output_type": "execute_result"
    }
   ],
   "source": [
    "endpoint.predict(instances = instances[0:2])"
   ]
  },
  {
   "cell_type": "markdown",
   "id": "51db8be4-1d24-4977-9892-29b979fa8ab8",
   "metadata": {},
   "source": [
    "### Get Batch Predictions"
   ]
  },
  {
   "cell_type": "code",
   "execution_count": 454,
   "id": "e2f632fb-579c-45a2-a243-ffab339e3631",
   "metadata": {
    "tags": []
   },
   "outputs": [],
   "source": [
    "client_options = {\"api_endpoint\": f\"{REGION}-aiplatform.googleapis.com\"}\n",
    "jobs_client = aiplatform.gapic.JobServiceClient(client_options = client_options)"
   ]
  },
  {
   "cell_type": "code",
   "execution_count": 457,
   "id": "2b37f139-49f2-4478-b52e-c8d316814517",
   "metadata": {
    "tags": []
   },
   "outputs": [],
   "source": [
    "batch_prediction_job = aiplatform.gapic.BatchPredictionJob(\n",
    "    display_name = f'{SERIES}_{EXPERIMENT}',\n",
    "    model = custom_model.versioned_resource_name,\n",
    "    input_config = dict(\n",
    "        instances_format = 'bigquery',\n",
    "        bigquery_source = dict(input_uri = f'bq://{BQ_PROJECT}.{BQ_DATASET}.{BQ_TABLE}')\n",
    "    ),\n",
    "    output_config = dict(\n",
    "        predictions_format = 'bigquery',\n",
    "        bigquery_destination = dict(output_uri = f'bq://{BQ_PROJECT}.{BQ_DATASET}')\n",
    "    ),\n",
    "    dedicated_resources = dict(\n",
    "        machine_spec = dict(machine_type = DEPLOY_COMPUTE),\n",
    "        starting_replica_count = 10,\n",
    "        max_replica_count = 10\n",
    "    ),\n",
    "    instance_config = dict(\n",
    "        instance_type = 'array',\n",
    "        included_fields = list(train_x.columns),\n",
    "        #excluded_fields = ['Class', 'splits', 'transaction_id']\n",
    "    )\n",
    ")"
   ]
  },
  {
   "cell_type": "code",
   "execution_count": 458,
   "id": "4df3da51-9e9e-41bb-8441-718b798c35bf",
   "metadata": {
    "tags": []
   },
   "outputs": [],
   "source": [
    "bqBatchJob = jobs_client.create_batch_prediction_job(\n",
    "    parent = f'projects/{PROJECT_ID}/locations/{REGION}',\n",
    "    batch_prediction_job = batch_prediction_job\n",
    ")"
   ]
  },
  {
   "cell_type": "code",
   "execution_count": 459,
   "id": "472f3db0-5d10-4bed-b7ab-6bbfec30c357",
   "metadata": {
    "tags": []
   },
   "outputs": [
    {
     "data": {
      "text/plain": [
       "(<JobState.JOB_STATE_RUNNING: 3>, 3, 'JOB_STATE_RUNNING')"
      ]
     },
     "execution_count": 459,
     "metadata": {},
     "output_type": "execute_result"
    }
   ],
   "source": [
    "state = jobs_client.get_batch_prediction_job(\n",
    "    name = bqBatchJob.name\n",
    ").state\n",
    "state, state.value, state.name"
   ]
  },
  {
   "cell_type": "code",
   "execution_count": 460,
   "id": "4e26ea43-6a11-4ad4-ad6a-e5c4cb640fdc",
   "metadata": {
    "tags": []
   },
   "outputs": [
    {
     "data": {
      "text/plain": [
       "['JOB_STATE_UNSPECIFIED',\n",
       " 'JOB_STATE_QUEUED',\n",
       " 'JOB_STATE_PENDING',\n",
       " 'JOB_STATE_RUNNING',\n",
       " 'JOB_STATE_SUCCEEDED',\n",
       " 'JOB_STATE_FAILED',\n",
       " 'JOB_STATE_CANCELLING',\n",
       " 'JOB_STATE_CANCELLED',\n",
       " 'JOB_STATE_PAUSED',\n",
       " 'JOB_STATE_EXPIRED',\n",
       " 'JOB_STATE_UPDATING',\n",
       " 'JOB_STATE_PARTIALLY_SUCCEEDED']"
      ]
     },
     "execution_count": 460,
     "metadata": {},
     "output_type": "execute_result"
    }
   ],
   "source": [
    "state._member_names_"
   ]
  },
  {
   "cell_type": "code",
   "execution_count": 461,
   "id": "8d1c9044-fcc8-4291-8b47-515de7e75c90",
   "metadata": {
    "tags": []
   },
   "outputs": [
    {
     "name": "stdout",
     "output_type": "stream",
     "text": [
      "Checking again in 1 Minute...\n",
      "State 3: JOB_STATE_RUNNING\n",
      "Checking again in 1 Minute...\n",
      "State 3: JOB_STATE_RUNNING\n",
      "Checking again in 1 Minute...\n",
      "State 3: JOB_STATE_RUNNING\n",
      "Checking again in 1 Minute...\n",
      "State 3: JOB_STATE_RUNNING\n",
      "Checking again in 1 Minute...\n",
      "State 3: JOB_STATE_RUNNING\n",
      "Checking again in 1 Minute...\n",
      "State 3: JOB_STATE_RUNNING\n",
      "Checking again in 1 Minute...\n",
      "State 3: JOB_STATE_RUNNING\n",
      "Checking again in 1 Minute...\n",
      "State 3: JOB_STATE_RUNNING\n",
      "Checking again in 1 Minute...\n",
      "State 3: JOB_STATE_RUNNING\n",
      "Checking again in 1 Minute...\n",
      "State 3: JOB_STATE_RUNNING\n",
      "Checking again in 1 Minute...\n",
      "State 3: JOB_STATE_RUNNING\n",
      "Checking again in 1 Minute...\n",
      "State 3: JOB_STATE_RUNNING\n",
      "Checking again in 1 Minute...\n",
      "State 3: JOB_STATE_RUNNING\n",
      "Checking again in 1 Minute...\n",
      "State 3: JOB_STATE_RUNNING\n",
      "Checking again in 1 Minute...\n",
      "State 3: JOB_STATE_RUNNING\n",
      "Checking again in 1 Minute...\n",
      "State 3: JOB_STATE_RUNNING\n",
      "Checking again in 1 Minute...\n",
      "State 3: JOB_STATE_RUNNING\n",
      "Checking again in 1 Minute...\n",
      "State 3: JOB_STATE_RUNNING\n",
      "Checking again in 1 Minute...\n",
      "State 3: JOB_STATE_RUNNING\n",
      "Checking again in 1 Minute...\n",
      "State 3: JOB_STATE_RUNNING\n",
      "Checking again in 1 Minute...\n",
      "State 4: JOB_STATE_SUCCEEDED\n"
     ]
    }
   ],
   "source": [
    "while state.value <= 3:\n",
    "    print('Checking again in 1 Minute...')\n",
    "    time.sleep(60)\n",
    "    state = jobs_client.get_batch_prediction_job(\n",
    "        name = bqBatchJob.name\n",
    "    ).state\n",
    "    print(f'State {state.value}: {state.name}')"
   ]
  },
  {
   "cell_type": "code",
   "execution_count": 462,
   "id": "259c8d58-d6cc-4f5f-9eb6-d9b1eecbce9a",
   "metadata": {
    "tags": []
   },
   "outputs": [
    {
     "data": {
      "text/plain": [
       "bigquery_output_dataset: \"bq://statmike-mlops-349915.fraud\"\n",
       "bigquery_output_table: \"predictions_2024_03_15T10_58_12_223Z_830\""
      ]
     },
     "execution_count": 462,
     "metadata": {},
     "output_type": "execute_result"
    }
   ],
   "source": [
    "bqBatchJob = jobs_client.get_batch_prediction_job(\n",
    "    name = bqBatchJob.name\n",
    ")\n",
    "bqBatchJob.output_info"
   ]
  },
  {
   "cell_type": "code",
   "execution_count": 463,
   "id": "c04f02a9-a716-4025-92e5-319a9dcc9563",
   "metadata": {
    "tags": []
   },
   "outputs": [
    {
     "data": {
      "text/plain": [
       "'0:16:20.704409'"
      ]
     },
     "execution_count": 463,
     "metadata": {},
     "output_type": "execute_result"
    }
   ],
   "source": [
    "str(bqBatchJob.end_time - bqBatchJob.start_time)"
   ]
  },
  {
   "cell_type": "code",
   "execution_count": 572,
   "id": "7f929df3-cdfa-4e63-b577-242b82caac2f",
   "metadata": {
    "tags": []
   },
   "outputs": [
    {
     "data": {
      "text/plain": [
       "'predictions_2024_03_15T10_58_12_223Z_830'"
      ]
     },
     "execution_count": 572,
     "metadata": {},
     "output_type": "execute_result"
    }
   ],
   "source": [
    "bqBatchJob.output_info.bigquery_output_table"
   ]
  },
  {
   "cell_type": "code",
   "execution_count": 464,
   "id": "c83ee45c-e029-43cb-84e1-53dabb64864b",
   "metadata": {
    "tags": []
   },
   "outputs": [
    {
     "data": {
      "text/plain": [
       "'statmike-mlops-349915.fraud.predictions_2024_03_15T10_58_12_223Z_830'"
      ]
     },
     "execution_count": 464,
     "metadata": {},
     "output_type": "execute_result"
    }
   ],
   "source": [
    "bq_table = f\"{bqBatchJob.output_info.bigquery_output_dataset.split('bq://')[-1]}.{bqBatchJob.output_info.bigquery_output_table}\"\n",
    "bq_table"
   ]
  },
  {
   "cell_type": "code",
   "execution_count": 479,
   "id": "339b411b-3fef-4a27-85a6-dba89f4fc1a0",
   "metadata": {
    "tags": []
   },
   "outputs": [],
   "source": [
    "batch_predictions = bq.query(f'''\n",
    "SELECT * EXCEPT(prediction),\n",
    "    ARRAY(SELECT * FROM UNNEST(SPLIT(SUBSTR(prediction, 2, LENGTH(prediction) - 2)))) AS prediction\n",
    "FROM `{bq_table}`\n",
    "''').to_dataframe()"
   ]
  },
  {
   "cell_type": "code",
   "execution_count": 480,
   "id": "b4f47431-113c-46ef-8769-840ae06ea378",
   "metadata": {
    "tags": []
   },
   "outputs": [
    {
     "data": {
      "text/html": [
       "<div>\n",
       "<style scoped>\n",
       "    .dataframe tbody tr th:only-of-type {\n",
       "        vertical-align: middle;\n",
       "    }\n",
       "\n",
       "    .dataframe tbody tr th {\n",
       "        vertical-align: top;\n",
       "    }\n",
       "\n",
       "    .dataframe thead th {\n",
       "        text-align: right;\n",
       "    }\n",
       "</style>\n",
       "<table border=\"1\" class=\"dataframe\">\n",
       "  <thead>\n",
       "    <tr style=\"text-align: right;\">\n",
       "      <th></th>\n",
       "      <th>Time</th>\n",
       "      <th>V1</th>\n",
       "      <th>V2</th>\n",
       "      <th>V3</th>\n",
       "      <th>V4</th>\n",
       "      <th>V5</th>\n",
       "      <th>V6</th>\n",
       "      <th>V7</th>\n",
       "      <th>V8</th>\n",
       "      <th>V9</th>\n",
       "      <th>...</th>\n",
       "      <th>V24</th>\n",
       "      <th>V25</th>\n",
       "      <th>V26</th>\n",
       "      <th>V27</th>\n",
       "      <th>V28</th>\n",
       "      <th>Amount</th>\n",
       "      <th>Class</th>\n",
       "      <th>transaction_id</th>\n",
       "      <th>splits</th>\n",
       "      <th>prediction</th>\n",
       "    </tr>\n",
       "  </thead>\n",
       "  <tbody>\n",
       "    <tr>\n",
       "      <th>0</th>\n",
       "      <td>93879</td>\n",
       "      <td>-13.086519</td>\n",
       "      <td>7.352148</td>\n",
       "      <td>-18.256576</td>\n",
       "      <td>10.648505</td>\n",
       "      <td>-11.731476</td>\n",
       "      <td>-3.659167</td>\n",
       "      <td>-14.873658</td>\n",
       "      <td>8.810473</td>\n",
       "      <td>-5.418204</td>\n",
       "      <td>...</td>\n",
       "      <td>0.519952</td>\n",
       "      <td>-0.743909</td>\n",
       "      <td>-0.167808</td>\n",
       "      <td>-2.498300</td>\n",
       "      <td>-0.711066</td>\n",
       "      <td>30.31</td>\n",
       "      <td>1</td>\n",
       "      <td>385c59d4-c5cd-40f5-93e9-3435791a7209</td>\n",
       "      <td>TRAIN</td>\n",
       "      <td>[0.0,  1.0]</td>\n",
       "    </tr>\n",
       "    <tr>\n",
       "      <th>1</th>\n",
       "      <td>93879</td>\n",
       "      <td>-13.086519</td>\n",
       "      <td>7.352148</td>\n",
       "      <td>-18.256576</td>\n",
       "      <td>10.648505</td>\n",
       "      <td>-11.731476</td>\n",
       "      <td>-3.659167</td>\n",
       "      <td>-14.873658</td>\n",
       "      <td>8.810473</td>\n",
       "      <td>-5.418204</td>\n",
       "      <td>...</td>\n",
       "      <td>0.519952</td>\n",
       "      <td>-0.743909</td>\n",
       "      <td>-0.167808</td>\n",
       "      <td>-2.498300</td>\n",
       "      <td>-0.711066</td>\n",
       "      <td>30.31</td>\n",
       "      <td>1</td>\n",
       "      <td>21f430df-d4e5-421b-9952-634fa9c8de56</td>\n",
       "      <td>TRAIN</td>\n",
       "      <td>[0.0,  1.0]</td>\n",
       "    </tr>\n",
       "    <tr>\n",
       "      <th>2</th>\n",
       "      <td>55311</td>\n",
       "      <td>-6.159607</td>\n",
       "      <td>1.468713</td>\n",
       "      <td>-6.850888</td>\n",
       "      <td>5.174706</td>\n",
       "      <td>-2.986704</td>\n",
       "      <td>-1.795054</td>\n",
       "      <td>-6.545072</td>\n",
       "      <td>2.621236</td>\n",
       "      <td>-3.605870</td>\n",
       "      <td>...</td>\n",
       "      <td>-0.568731</td>\n",
       "      <td>0.582825</td>\n",
       "      <td>-0.042583</td>\n",
       "      <td>0.951130</td>\n",
       "      <td>0.158996</td>\n",
       "      <td>0.83</td>\n",
       "      <td>1</td>\n",
       "      <td>618287b3-d508-4601-9454-52746324014a</td>\n",
       "      <td>TRAIN</td>\n",
       "      <td>[0.0,  1.0]</td>\n",
       "    </tr>\n",
       "    <tr>\n",
       "      <th>3</th>\n",
       "      <td>55614</td>\n",
       "      <td>-7.347955</td>\n",
       "      <td>2.397041</td>\n",
       "      <td>-7.572356</td>\n",
       "      <td>5.177819</td>\n",
       "      <td>-2.854838</td>\n",
       "      <td>-1.795239</td>\n",
       "      <td>-8.783235</td>\n",
       "      <td>0.437157</td>\n",
       "      <td>-3.740598</td>\n",
       "      <td>...</td>\n",
       "      <td>-0.503722</td>\n",
       "      <td>-0.310933</td>\n",
       "      <td>-0.163986</td>\n",
       "      <td>1.197895</td>\n",
       "      <td>0.378187</td>\n",
       "      <td>0.83</td>\n",
       "      <td>1</td>\n",
       "      <td>e5486500-92f9-4aab-b37e-109f677ca5ca</td>\n",
       "      <td>TRAIN</td>\n",
       "      <td>[0.0,  1.0]</td>\n",
       "    </tr>\n",
       "    <tr>\n",
       "      <th>4</th>\n",
       "      <td>67150</td>\n",
       "      <td>-1.824295</td>\n",
       "      <td>0.403327</td>\n",
       "      <td>-1.994122</td>\n",
       "      <td>2.756558</td>\n",
       "      <td>-3.139064</td>\n",
       "      <td>0.408185</td>\n",
       "      <td>-1.209045</td>\n",
       "      <td>1.095634</td>\n",
       "      <td>-1.447225</td>\n",
       "      <td>...</td>\n",
       "      <td>-0.145493</td>\n",
       "      <td>0.049326</td>\n",
       "      <td>0.831065</td>\n",
       "      <td>0.332421</td>\n",
       "      <td>0.252713</td>\n",
       "      <td>489.71</td>\n",
       "      <td>1</td>\n",
       "      <td>1fea87d8-9a38-416d-ac96-b9dc6d36af80</td>\n",
       "      <td>TRAIN</td>\n",
       "      <td>[0.0,  1.0]</td>\n",
       "    </tr>\n",
       "  </tbody>\n",
       "</table>\n",
       "<p>5 rows × 34 columns</p>\n",
       "</div>"
      ],
      "text/plain": [
       "    Time         V1        V2         V3         V4         V5        V6  \\\n",
       "0  93879 -13.086519  7.352148 -18.256576  10.648505 -11.731476 -3.659167   \n",
       "1  93879 -13.086519  7.352148 -18.256576  10.648505 -11.731476 -3.659167   \n",
       "2  55311  -6.159607  1.468713  -6.850888   5.174706  -2.986704 -1.795054   \n",
       "3  55614  -7.347955  2.397041  -7.572356   5.177819  -2.854838 -1.795239   \n",
       "4  67150  -1.824295  0.403327  -1.994122   2.756558  -3.139064  0.408185   \n",
       "\n",
       "          V7        V8        V9  ...       V24       V25       V26       V27  \\\n",
       "0 -14.873658  8.810473 -5.418204  ...  0.519952 -0.743909 -0.167808 -2.498300   \n",
       "1 -14.873658  8.810473 -5.418204  ...  0.519952 -0.743909 -0.167808 -2.498300   \n",
       "2  -6.545072  2.621236 -3.605870  ... -0.568731  0.582825 -0.042583  0.951130   \n",
       "3  -8.783235  0.437157 -3.740598  ... -0.503722 -0.310933 -0.163986  1.197895   \n",
       "4  -1.209045  1.095634 -1.447225  ... -0.145493  0.049326  0.831065  0.332421   \n",
       "\n",
       "        V28  Amount  Class                        transaction_id  splits  \\\n",
       "0 -0.711066   30.31      1  385c59d4-c5cd-40f5-93e9-3435791a7209   TRAIN   \n",
       "1 -0.711066   30.31      1  21f430df-d4e5-421b-9952-634fa9c8de56   TRAIN   \n",
       "2  0.158996    0.83      1  618287b3-d508-4601-9454-52746324014a   TRAIN   \n",
       "3  0.378187    0.83      1  e5486500-92f9-4aab-b37e-109f677ca5ca   TRAIN   \n",
       "4  0.252713  489.71      1  1fea87d8-9a38-416d-ac96-b9dc6d36af80   TRAIN   \n",
       "\n",
       "    prediction  \n",
       "0  [0.0,  1.0]  \n",
       "1  [0.0,  1.0]  \n",
       "2  [0.0,  1.0]  \n",
       "3  [0.0,  1.0]  \n",
       "4  [0.0,  1.0]  \n",
       "\n",
       "[5 rows x 34 columns]"
      ]
     },
     "execution_count": 480,
     "metadata": {},
     "output_type": "execute_result"
    }
   ],
   "source": [
    "batch_predictions.head(5)"
   ]
  },
  {
   "cell_type": "code",
   "execution_count": 483,
   "id": "0fb8cada-d94b-4236-a996-0edb965cdef1",
   "metadata": {
    "tags": []
   },
   "outputs": [
    {
     "data": {
      "text/plain": [
       "array(['0.9994436978921893', ' 0.000556302107810608'], dtype=object)"
      ]
     },
     "execution_count": 483,
     "metadata": {},
     "output_type": "execute_result"
    }
   ],
   "source": [
    "batch_predictions['prediction'].iloc[100]"
   ]
  },
  {
   "cell_type": "markdown",
   "id": "f4206014-32ff-4318-bf89-76c65764ff3b",
   "metadata": {},
   "source": [
    "---\n",
    "## Model Serving: Batch With BigQuery ML"
   ]
  },
  {
   "cell_type": "markdown",
   "id": "1c88f4fc-0592-4d95-b081-05256d4f9c9b",
   "metadata": {
    "tags": []
   },
   "source": [
    "### Convert Model To ONNX\n",
    "\n",
    "- Using [sklearn-onnx](https://onnx.ai/sklearn-onnx/)\n",
    "    - All the available data types in [the source](https://github.com/onnx/sklearn-onnx/blob/main/skl2onnx/common/data_types.py)\n",
    "    - more on zipmap option [here](https://onnx.ai/sklearn-onnx/auto_tutorial/plot_dbegin_options_zipmap.html)"
   ]
  },
  {
   "cell_type": "code",
   "execution_count": 732,
   "id": "265531ce-7e35-4c23-96dc-60550160cb11",
   "metadata": {
    "tags": []
   },
   "outputs": [],
   "source": [
    "bucket = gcs.bucket(GCS_BUCKET)\n",
    "blob = bucket.blob(custom_model.uri.split(f'{GCS_BUCKET}/')[-1] + '/model.pkl')"
   ]
  },
  {
   "cell_type": "code",
   "execution_count": 733,
   "id": "4644caa7-7f2e-4914-ae19-8efddc26c4ba",
   "metadata": {
    "tags": []
   },
   "outputs": [],
   "source": [
    "local_custom_model = pickle.loads(blob.download_as_string())"
   ]
  },
  {
   "cell_type": "code",
   "execution_count": 734,
   "id": "d775e8a7-a1c7-45c3-a949-2705dd0556d9",
   "metadata": {
    "tags": []
   },
   "outputs": [
    {
     "data": {
      "text/plain": [
       "array([0, 0, 0, 0, 0, 0, 0, 0, 0, 0, 0, 0, 0, 0, 0, 0, 1, 0, 0, 0, 0, 0,\n",
       "       0, 0, 0, 0, 0, 0, 0, 0, 0, 0, 0, 0, 0, 0, 0, 0, 0, 0, 0, 0, 0, 0,\n",
       "       0, 0, 0, 0, 0, 0])"
      ]
     },
     "execution_count": 734,
     "metadata": {},
     "output_type": "execute_result"
    }
   ],
   "source": [
    "local_custom_model.predict(train_x[0:50])"
   ]
  },
  {
   "cell_type": "code",
   "execution_count": 735,
   "id": "39ae2eeb-37e6-4c61-a317-2f148bf38631",
   "metadata": {
    "tags": []
   },
   "outputs": [],
   "source": [
    "initial_type = [('float_array', skl2onnx.common.data_types.FloatTensorType([None, train_x.shape[1]]))]"
   ]
  },
  {
   "cell_type": "code",
   "execution_count": 737,
   "id": "ce81cab9-25f4-4c1f-bf32-ab296d263683",
   "metadata": {
    "tags": []
   },
   "outputs": [],
   "source": [
    "onnx_custom_model = skl2onnx.convert_sklearn(\n",
    "    local_custom_model,\n",
    "    initial_types = initial_type,\n",
    "    target_opset=12,\n",
    "    options = {id(local_custom_model): {'zipmap': False}}\n",
    ")"
   ]
  },
  {
   "cell_type": "code",
   "execution_count": 738,
   "id": "448004ee-c5b0-470c-aa11-8f38d2390deb",
   "metadata": {
    "tags": []
   },
   "outputs": [],
   "source": [
    "bucket.blob(custom_model.uri.split(f'{GCS_BUCKET}/')[-1] + '/model.onnx').upload_from_string(onnx_custom_model.SerializeToString())"
   ]
  },
  {
   "cell_type": "markdown",
   "id": "51552448-27a8-4628-ba08-4b86168cfcb9",
   "metadata": {},
   "source": [
    "### Local Test of ONNX Model\n",
    "\n",
    "- With [onnxruntime](https://onnxruntime.ai/)"
   ]
  },
  {
   "cell_type": "code",
   "execution_count": 739,
   "id": "82090f11-807f-45cf-8076-d264327ceddd",
   "metadata": {
    "tags": []
   },
   "outputs": [],
   "source": [
    "local_onnx = onnxruntime.InferenceSession(onnx_custom_model.SerializeToString())"
   ]
  },
  {
   "cell_type": "code",
   "execution_count": 740,
   "id": "837a2108-d797-4d25-9062-549dc751bc06",
   "metadata": {
    "tags": []
   },
   "outputs": [
    {
     "data": {
      "text/plain": [
       "array([[ 2.8120000e+03, -6.3340300e-01,  9.6361601e-01,  2.4949455e+00,\n",
       "         2.0990510e+00, -4.0433067e-01,  2.3586158e-01, -7.9319049e-03,\n",
       "         2.1144152e-01, -2.0981681e-01,  3.0829760e-01, -1.2049923e+00,\n",
       "        -4.7470781e-01, -6.5406358e-01, -4.7459912e-01, -4.2841780e-01,\n",
       "         5.3665149e-01, -3.8065460e-01,  2.8650539e-02, -6.8796945e-01,\n",
       "        -1.7498475e-01,  1.4675528e-02,  1.6278177e-02, -6.1462473e-02,\n",
       "         3.5519636e-01, -1.7908551e-01, -1.0694742e-01, -2.1503925e-01,\n",
       "         5.0697796e-02,  0.0000000e+00]], dtype=float32)"
      ]
     },
     "execution_count": 740,
     "metadata": {},
     "output_type": "execute_result"
    }
   ],
   "source": [
    "train_x.iloc[0:1].to_numpy().astype(np.float32)"
   ]
  },
  {
   "cell_type": "code",
   "execution_count": 741,
   "id": "e9b9cc85-686f-47c4-916a-df9e51bf0908",
   "metadata": {
    "tags": []
   },
   "outputs": [
    {
     "data": {
      "text/plain": [
       "[array([0], dtype=int64), array([[9.994363e-01, 5.636811e-04]], dtype=float32)]"
      ]
     },
     "execution_count": 741,
     "metadata": {},
     "output_type": "execute_result"
    }
   ],
   "source": [
    "local_onnx.run(None, {'float_array': train_x.iloc[0:1].to_numpy().astype(np.float32)})"
   ]
  },
  {
   "cell_type": "markdown",
   "id": "ab7d8dab-3ce3-4312-bd7d-992125daf77f",
   "metadata": {},
   "source": [
    "### Import Model With BigQuery ML"
   ]
  },
  {
   "cell_type": "code",
   "execution_count": 742,
   "id": "12368451-1530-4d0d-8fd7-cab014922623",
   "metadata": {
    "tags": []
   },
   "outputs": [
    {
     "name": "stdout",
     "output_type": "stream",
     "text": [
      "\n",
      "CREATE OR REPLACE MODEL `statmike-mlops-349915.fraud.dev-sklearn-workflow-onnx`\n",
      "    OPTIONS(\n",
      "        MODEL_TYPE = 'ONNX',\n",
      "        MODEL_PATH = 'gs://statmike-mlops-349915/dev/sklearn-workflow/models/20240225203750/model/*'\n",
      "    )\n",
      "\n"
     ]
    }
   ],
   "source": [
    "query = f\"\"\"\n",
    "CREATE OR REPLACE MODEL `{BQ_PROJECT}.{BQ_DATASET}.{SERIES}-{EXPERIMENT}-onnx`\n",
    "    OPTIONS(\n",
    "        MODEL_TYPE = 'ONNX',\n",
    "        MODEL_PATH = '{custom_model.uri}/*'\n",
    "    )\n",
    "\"\"\"\n",
    "print(query)"
   ]
  },
  {
   "cell_type": "code",
   "execution_count": 743,
   "id": "426e9126-0afd-4ae2-8511-9cebf350905e",
   "metadata": {
    "tags": []
   },
   "outputs": [
    {
     "data": {
      "text/plain": [
       "6.693"
      ]
     },
     "execution_count": 743,
     "metadata": {},
     "output_type": "execute_result"
    }
   ],
   "source": [
    "job = bq.query(query = query)\n",
    "job.result()\n",
    "(job.ended-job.started).total_seconds()"
   ]
  },
  {
   "cell_type": "markdown",
   "id": "21fcd8c7-3d9f-4e5b-8546-4e9d63e855cd",
   "metadata": {},
   "source": [
    "### Get Predictions"
   ]
  },
  {
   "cell_type": "code",
   "execution_count": 745,
   "id": "3616f002-82f1-4b9e-80bd-8e04471906f4",
   "metadata": {
    "tags": []
   },
   "outputs": [
    {
     "data": {
      "text/html": [
       "<div>\n",
       "<style scoped>\n",
       "    .dataframe tbody tr th:only-of-type {\n",
       "        vertical-align: middle;\n",
       "    }\n",
       "\n",
       "    .dataframe tbody tr th {\n",
       "        vertical-align: top;\n",
       "    }\n",
       "\n",
       "    .dataframe thead th {\n",
       "        text-align: right;\n",
       "    }\n",
       "</style>\n",
       "<table border=\"1\" class=\"dataframe\">\n",
       "  <thead>\n",
       "    <tr style=\"text-align: right;\">\n",
       "      <th></th>\n",
       "      <th>label</th>\n",
       "      <th>probabilities</th>\n",
       "      <th>float_array</th>\n",
       "    </tr>\n",
       "  </thead>\n",
       "  <tbody>\n",
       "    <tr>\n",
       "      <th>0</th>\n",
       "      <td>0</td>\n",
       "      <td>[0.9994812607765198, 0.0005187392234802246]</td>\n",
       "      <td>[35337.0, 1.0928441854981998, -0.0132303486713...</td>\n",
       "    </tr>\n",
       "  </tbody>\n",
       "</table>\n",
       "</div>"
      ],
      "text/plain": [
       "   label                                probabilities  \\\n",
       "0      0  [0.9994812607765198, 0.0005187392234802246]   \n",
       "\n",
       "                                         float_array  \n",
       "0  [35337.0, 1.0928441854981998, -0.0132303486713...  "
      ]
     },
     "execution_count": 745,
     "metadata": {},
     "output_type": "execute_result"
    }
   ],
   "source": [
    "query = f\"\"\"\n",
    "SELECT *\n",
    "FROM ML.PREDICT (MODEL `{BQ_PROJECT}.{BQ_DATASET}.{SERIES}-{EXPERIMENT}-onnx`,(\n",
    "    SELECT ARRAY[{', '.join(list(train_x.columns))}] as float_array\n",
    "    FROM `{BQ_PROJECT}.{BQ_DATASET}.{BQ_TABLE}`\n",
    "    WHERE splits = 'TEST'\n",
    "    LIMIT 1)\n",
    "  )\n",
    "\"\"\"\n",
    "pred = bq.query(query = query).to_dataframe()\n",
    "pred"
   ]
  },
  {
   "cell_type": "markdown",
   "id": "8dc42ee8-a70e-4515-9307-db0055a3575e",
   "metadata": {},
   "source": [
    "---\n",
    "## Model Evaluations: With SDK\n",
    "\n",
    "- https://cloud.google.com/python/docs/reference/aiplatform/latest/google.cloud.aiplatform.Model#google_cloud_aiplatform_Model_evaluate"
   ]
  },
  {
   "cell_type": "code",
   "execution_count": 640,
   "id": "6c352158-9a5a-4c86-b85f-45837d94954a",
   "metadata": {
    "tags": []
   },
   "outputs": [
    {
     "data": {
      "text/plain": [
       "'gs://statmike-mlops-349915/dev/sklearn-workflow/models/20240225203750/model'"
      ]
     },
     "execution_count": 640,
     "metadata": {},
     "output_type": "execute_result"
    }
   ],
   "source": [
    "custom_model.uri"
   ]
  },
  {
   "cell_type": "code",
   "execution_count": 652,
   "id": "5821d364-221e-4649-8620-4d01bbf85965",
   "metadata": {
    "tags": []
   },
   "outputs": [
    {
     "data": {
      "text/plain": [
       "<google.cloud.bigquery.table._EmptyRowIterator at 0x7f47a77c49a0>"
      ]
     },
     "execution_count": 652,
     "metadata": {},
     "output_type": "execute_result"
    }
   ],
   "source": [
    "bqjob = bq.query(f'''\n",
    "CREATE OR REPLACE TABLE `{BQ_PROJECT}.{BQ_DATASET}.{BQ_TABLE}_prediction_input` AS\n",
    "SELECT Class, {', '.join(list(train_x.columns))}\n",
    "FROM `{BQ_PROJECT}.{BQ_DATASET}.{BQ_TABLE}`\n",
    "''')\n",
    "bqjob.result()"
   ]
  },
  {
   "cell_type": "code",
   "execution_count": 653,
   "id": "5ddab7b8-d5f3-4c91-b8ee-11d77385ffe4",
   "metadata": {
    "tags": []
   },
   "outputs": [
    {
     "name": "stdout",
     "output_type": "stream",
     "text": [
      "Created PipelineJob for your Model Evaluation. View it in the console: https://console.cloud.google.com/vertex-ai/locations/us-central1/pipelines/runs/evaluation-classification-pipeline-20240315235632?project=1026793852137\n"
     ]
    }
   ],
   "source": [
    "evaluateJob = custom_model.evaluate(\n",
    "    prediction_type = 'classification',\n",
    "    target_field_name = 'Class',\n",
    "    bigquery_source_uri = f'bq://{BQ_PROJECT}.{BQ_DATASET}.{BQ_TABLE}_prediction_input',\n",
    "    bigquery_destination_output_uri = f'bq://{BQ_PROJECT}.{BQ_DATASET}',\n",
    "    class_labels = [0, 1],\n",
    "    prediction_label_column = '',\n",
    "    prediction_score_column = 'prediction',\n",
    "    staging_bucket = f'{custom_model.uri}/evaluations'\n",
    ")"
   ]
  },
  {
   "cell_type": "code",
   "execution_count": 654,
   "id": "4a5dfdbb-434b-46ef-abbd-ef5b11dbdd21",
   "metadata": {
    "tags": []
   },
   "outputs": [
    {
     "name": "stdout",
     "output_type": "stream",
     "text": [
      "PipelineJob projects/1026793852137/locations/us-central1/pipelineJobs/evaluation-classification-pipeline-20240315235632 current state:\n",
      "PipelineState.PIPELINE_STATE_RUNNING\n",
      "PipelineJob projects/1026793852137/locations/us-central1/pipelineJobs/evaluation-classification-pipeline-20240315235632 current state:\n",
      "PipelineState.PIPELINE_STATE_RUNNING\n",
      "PipelineJob projects/1026793852137/locations/us-central1/pipelineJobs/evaluation-classification-pipeline-20240315235632 current state:\n",
      "PipelineState.PIPELINE_STATE_RUNNING\n",
      "PipelineJob projects/1026793852137/locations/us-central1/pipelineJobs/evaluation-classification-pipeline-20240315235632 current state:\n",
      "PipelineState.PIPELINE_STATE_RUNNING\n",
      "PipelineJob projects/1026793852137/locations/us-central1/pipelineJobs/evaluation-classification-pipeline-20240315235632 current state:\n",
      "PipelineState.PIPELINE_STATE_RUNNING\n",
      "PipelineJob projects/1026793852137/locations/us-central1/pipelineJobs/evaluation-classification-pipeline-20240315235632 current state:\n",
      "PipelineState.PIPELINE_STATE_RUNNING\n",
      "PipelineJob projects/1026793852137/locations/us-central1/pipelineJobs/evaluation-classification-pipeline-20240315235632 current state:\n",
      "PipelineState.PIPELINE_STATE_RUNNING\n",
      "PipelineJob projects/1026793852137/locations/us-central1/pipelineJobs/evaluation-classification-pipeline-20240315235632 current state:\n",
      "PipelineState.PIPELINE_STATE_RUNNING\n"
     ]
    },
    {
     "ename": "RuntimeError",
     "evalue": "Job failed with:\ncode: 9\nmessage: \"The DAG failed because some tasks failed. The failed tasks are: [model-batch-predict].; Job (project_id = statmike-mlops-349915, job_id = 6105911600336601088) is failed due to the above error.; Failed to handle the job: {project_number = 1026793852137, job_id = 6105911600336601088}\"\n",
     "output_type": "error",
     "traceback": [
      "\u001b[0;31m---------------------------------------------------------------------------\u001b[0m",
      "\u001b[0;31mRuntimeError\u001b[0m                              Traceback (most recent call last)",
      "Cell \u001b[0;32mIn[654], line 1\u001b[0m\n\u001b[0;32m----> 1\u001b[0m \u001b[43mevaluateJob\u001b[49m\u001b[38;5;241;43m.\u001b[39;49m\u001b[43mwait\u001b[49m\u001b[43m(\u001b[49m\u001b[43m)\u001b[49m\n",
      "File \u001b[0;32m/opt/conda/lib/python3.10/site-packages/google/cloud/aiplatform/_pipeline_based_service/pipeline_based_service.py:417\u001b[0m, in \u001b[0;36m_VertexAiPipelineBasedService.wait\u001b[0;34m(self)\u001b[0m\n\u001b[1;32m    414\u001b[0m pipeline_run \u001b[38;5;241m=\u001b[39m \u001b[38;5;28mself\u001b[39m\u001b[38;5;241m.\u001b[39mbacking_pipeline_job\n\u001b[1;32m    416\u001b[0m \u001b[38;5;28;01mif\u001b[39;00m pipeline_run\u001b[38;5;241m.\u001b[39m_latest_future \u001b[38;5;129;01mis\u001b[39;00m \u001b[38;5;28;01mNone\u001b[39;00m:\n\u001b[0;32m--> 417\u001b[0m     \u001b[43mpipeline_run\u001b[49m\u001b[38;5;241;43m.\u001b[39;49m\u001b[43m_block_until_complete\u001b[49m\u001b[43m(\u001b[49m\u001b[43m)\u001b[49m\n\u001b[1;32m    418\u001b[0m \u001b[38;5;28;01melse\u001b[39;00m:\n\u001b[1;32m    419\u001b[0m     pipeline_run\u001b[38;5;241m.\u001b[39mwait()\n",
      "File \u001b[0;32m/opt/conda/lib/python3.10/site-packages/google/cloud/aiplatform/pipeline_jobs.py:615\u001b[0m, in \u001b[0;36mPipelineJob._block_until_complete\u001b[0;34m(self)\u001b[0m\n\u001b[1;32m    612\u001b[0m \u001b[38;5;66;03m# Error is only populated when the job state is\u001b[39;00m\n\u001b[1;32m    613\u001b[0m \u001b[38;5;66;03m# JOB_STATE_FAILED or JOB_STATE_CANCELLED.\u001b[39;00m\n\u001b[1;32m    614\u001b[0m \u001b[38;5;28;01mif\u001b[39;00m \u001b[38;5;28mself\u001b[39m\u001b[38;5;241m.\u001b[39m_gca_resource\u001b[38;5;241m.\u001b[39mstate \u001b[38;5;129;01min\u001b[39;00m _PIPELINE_ERROR_STATES:\n\u001b[0;32m--> 615\u001b[0m     \u001b[38;5;28;01mraise\u001b[39;00m \u001b[38;5;167;01mRuntimeError\u001b[39;00m(\u001b[38;5;124m\"\u001b[39m\u001b[38;5;124mJob failed with:\u001b[39m\u001b[38;5;130;01m\\n\u001b[39;00m\u001b[38;5;132;01m%s\u001b[39;00m\u001b[38;5;124m\"\u001b[39m \u001b[38;5;241m%\u001b[39m \u001b[38;5;28mself\u001b[39m\u001b[38;5;241m.\u001b[39m_gca_resource\u001b[38;5;241m.\u001b[39merror)\n\u001b[1;32m    616\u001b[0m \u001b[38;5;28;01melse\u001b[39;00m:\n\u001b[1;32m    617\u001b[0m     _LOGGER\u001b[38;5;241m.\u001b[39mlog_action_completed_against_resource(\u001b[38;5;124m\"\u001b[39m\u001b[38;5;124mrun\u001b[39m\u001b[38;5;124m\"\u001b[39m, \u001b[38;5;124m\"\u001b[39m\u001b[38;5;124mcompleted\u001b[39m\u001b[38;5;124m\"\u001b[39m, \u001b[38;5;28mself\u001b[39m)\n",
      "\u001b[0;31mRuntimeError\u001b[0m: Job failed with:\ncode: 9\nmessage: \"The DAG failed because some tasks failed. The failed tasks are: [model-batch-predict].; Job (project_id = statmike-mlops-349915, job_id = 6105911600336601088) is failed due to the above error.; Failed to handle the job: {project_number = 1026793852137, job_id = 6105911600336601088}\"\n"
     ]
    }
   ],
   "source": [
    "evaluateJob.wait()"
   ]
  },
  {
   "cell_type": "code",
   "execution_count": null,
   "id": "7c331ae3-23b7-4c0c-9fd6-26bced687413",
   "metadata": {
    "tags": []
   },
   "outputs": [],
   "source": [
    "evaluation = evaluateJob.get_model_evaluation()\n",
    "evaluation.metrics"
   ]
  },
  {
   "cell_type": "code",
   "execution_count": null,
   "id": "a759e0f7-d182-440b-8e30-9fb51d5b53ea",
   "metadata": {},
   "outputs": [],
   "source": []
  },
  {
   "cell_type": "markdown",
   "id": "2d2074ab-f3c4-4779-9c64-e9118589e301",
   "metadata": {},
   "source": [
    "---\n",
    "## Model Evaluations: With Pipeline Components\n",
    "\n",
    "Evaluations for the batch prediction job run above.  It could also be included in the pipeline using the [ModelBatchPredictOp](https://google-cloud-pipeline-components.readthedocs.io/en/google-cloud-pipeline-components-2.8.0/api/v1/batch_predict_job.html).\n",
    "\n",
    "- https://cloud.google.com/vertex-ai/docs/pipelines/components-introduction\n",
    "- https://cloud.google.com/vertex-ai/docs/pipelines/use-components#use_an_importer_node\n",
    "- https://cloud.google.com/vertex-ai/docs/evaluation/introduction?\n",
    "- https://google-cloud-pipeline-components.readthedocs.io/en/google-cloud-pipeline-components-2.8.0/api/v1/model_evaluation.html"
   ]
  },
  {
   "cell_type": "code",
   "execution_count": 615,
   "id": "ecb4045e-08a4-4a97-86c2-4396894ae9cf",
   "metadata": {
    "tags": []
   },
   "outputs": [
    {
     "data": {
      "text/plain": [
       "'2.7.0'"
      ]
     },
     "execution_count": 615,
     "metadata": {},
     "output_type": "execute_result"
    }
   ],
   "source": [
    "kfp.__version__"
   ]
  },
  {
   "cell_type": "code",
   "execution_count": 617,
   "id": "afd64498-d771-4831-936b-21acdaeb5725",
   "metadata": {
    "tags": []
   },
   "outputs": [
    {
     "data": {
      "text/plain": [
       "'2.10.0'"
      ]
     },
     "execution_count": 617,
     "metadata": {},
     "output_type": "execute_result"
    }
   ],
   "source": [
    "import google_cloud_pipeline_components\n",
    "google_cloud_pipeline_components.__version__"
   ]
  },
  {
   "cell_type": "markdown",
   "id": "06a363af-7798-45ab-b9d5-d6cc6c1b3dd8",
   "metadata": {},
   "source": [
    "- https://github.com/kubeflow/pipelines/blob/master/components/google-cloud/google_cloud_pipeline_components/_implementation/model/__init__.py"
   ]
  },
  {
   "cell_type": "code",
   "execution_count": 746,
   "id": "53ed7d4a-ca12-472d-aa63-96c35d9b993f",
   "metadata": {
    "tags": []
   },
   "outputs": [],
   "source": [
    "from google_cloud_pipeline_components._implementation.model.get_model.component import get_vertex_model as GetVertexModelOp"
   ]
  },
  {
   "cell_type": "markdown",
   "id": "4a9f5bef-47eb-4e13-8686-23d67dd23bf8",
   "metadata": {},
   "source": [
    "Check out the new component, ModelGetOp: https://google-cloud-pipeline-components.readthedocs.io/en/google-cloud-pipeline-components-2.10.0/api/v1/model.html#v1.model.ModelGetOp"
   ]
  },
  {
   "cell_type": "code",
   "execution_count": null,
   "id": "4c07d80a-1538-4478-b465-6ae280bec312",
   "metadata": {},
   "outputs": [],
   "source": []
  },
  {
   "cell_type": "code",
   "execution_count": 747,
   "id": "ae7f56bc-bf95-412d-b534-dbc70eec6b0d",
   "metadata": {
    "tags": []
   },
   "outputs": [],
   "source": [
    "from google_cloud_pipeline_components.v1.model import ModelGetOp"
   ]
  },
  {
   "cell_type": "code",
   "execution_count": null,
   "id": "4f7b84f3-bd6a-4aa9-bfd4-0342482102a0",
   "metadata": {},
   "outputs": [],
   "source": []
  },
  {
   "cell_type": "code",
   "execution_count": 648,
   "id": "30ad909e-e773-4be9-8bb3-22041c12c432",
   "metadata": {
    "tags": []
   },
   "outputs": [],
   "source": [
    "import kfp\n",
    "from google_cloud_pipeline_components.types import artifact_types\n",
    "#from google_cloud_pipeline_components.v1.model_evaluation import (ModelEvaluationClassificationOp, ModelImportEvaluationOp)"
   ]
  },
  {
   "cell_type": "code",
   "execution_count": 630,
   "id": "939bd8ee-06fa-4a0e-a572-959714f11914",
   "metadata": {
    "tags": []
   },
   "outputs": [],
   "source": [
    "@kfp.dsl.pipeline(\n",
    "    name = f'{SERIES}-{EXPERIMENT}-evaluation',\n",
    "    description = 'A simple pipeline for model evaluation',\n",
    "    pipeline_root = f'gs://{GCS_BUCKET}/{SERIES}/{EXPERIMENT}/pipeline_root'\n",
    ")\n",
    "def eval_pipeline(\n",
    "    project: str,\n",
    "    region: str,\n",
    "    root_dir: str,\n",
    "    model_name: str,\n",
    "    bq_project: str,\n",
    "    bq_dataset: str,\n",
    "    bq_table: str,\n",
    "    class_labels: list,\n",
    "    var_target: str  \n",
    "):\n",
    "    vertex_model = kfp.dsl.importer(\n",
    "        artifact_uri = f'https://{region}-aiplatform.googleapis.com/v1/{model_name}',\n",
    "        artifact_class = artifact_types.VertexModel,\n",
    "        metadata = dict(\n",
    "            model_resource_name = model_name\n",
    "        )\n",
    "    ).set_display_name('Get Vertex AI Model')\n",
    "\n",
    "    bq_preds_table = kfp.dsl.importer(\n",
    "        artifact_uri = f'bq://{bq_project}.{bq_dataset}.{bq_table}',\n",
    "        artifact_class = artifact_types.BQTable,\n",
    "        metadata = dict(\n",
    "            projectId = bq_project,\n",
    "            datasetId = bq_dataset,\n",
    "            tableId = bq_table\n",
    "        )\n",
    "    ).set_display_name('Get BigQuery Table of Predictions')\n",
    "    \n",
    "    # Run the evaluation based on prediction type\n",
    "    evaluation = ModelEvaluationClassificationOp(\n",
    "        project = project,\n",
    "        location = region,\n",
    "        class_labels = class_labels,\n",
    "        predictions_format = 'bigquery',\n",
    "        predictions_bigquery_source = bq_preds_table.output,\n",
    "        prediction_label_column = '',\n",
    "        prediction_score_column = 'prediction',\n",
    "        target_field_name = var_target,\n",
    "        ground_truth_format = 'bigquery',\n",
    "        ground_truth_bigquery_source = f'bq://{bq_project}.{bq_dataset}.{bq_table}',\n",
    "        model = vertex_model.output\n",
    "    )"
   ]
  },
  {
   "cell_type": "code",
   "execution_count": 631,
   "id": "61bdabb9-4013-4c36-91c1-8d433d5c5032",
   "metadata": {
    "tags": []
   },
   "outputs": [],
   "source": [
    "kfp.compiler.Compiler().compile(\n",
    "    pipeline_func = eval_pipeline,\n",
    "    package_path = f'{DIR}/pipeline/eval.yaml'\n",
    ")"
   ]
  },
  {
   "cell_type": "code",
   "execution_count": 632,
   "id": "d9cb9fea-9f07-4b7c-a554-02df11cfe3f1",
   "metadata": {
    "tags": []
   },
   "outputs": [],
   "source": [
    "parameters = dict(\n",
    "    project = PROJECT_ID,\n",
    "    region = REGION,\n",
    "    root_dir = f'gs://{GCS_BUCKET}/{SERIES}/{EXPERIMENT}/pipelines/eval',\n",
    "    model_name = custom_model.versioned_resource_name,\n",
    "    bq_project = BQ_PROJECT,\n",
    "    bq_dataset = BQ_DATASET,\n",
    "    bq_table = bqBatchJob.output_info.bigquery_output_table,\n",
    "    class_labels = [0, 1],\n",
    "    var_target = 'Class'\n",
    ")"
   ]
  },
  {
   "cell_type": "code",
   "execution_count": 633,
   "id": "977276b1-ba75-44b7-91fb-634eed35b45b",
   "metadata": {
    "tags": []
   },
   "outputs": [],
   "source": [
    "pipeline_job = aiplatform.PipelineJob(\n",
    "    display_name = f\"eval-pipeline\",\n",
    "    template_path = f\"{DIR}/pipeline/eval.yaml\",\n",
    "    parameter_values = parameters,\n",
    "    pipeline_root = f'gs://{GCS_BUCKET}/{SERIES}/{EXPERIMENT}/pipelines/eval',\n",
    "    enable_caching = False # True (enabled), False (disable), None (defer to component level caching) \n",
    ")"
   ]
  },
  {
   "cell_type": "code",
   "execution_count": 634,
   "id": "69a7adbe-f071-4583-9e44-f253a48cdde9",
   "metadata": {
    "tags": []
   },
   "outputs": [
    {
     "name": "stdout",
     "output_type": "stream",
     "text": [
      "Creating PipelineJob\n",
      "PipelineJob created. Resource name: projects/1026793852137/locations/us-central1/pipelineJobs/dev-sklearn-workflow-evaluation-20240315215438\n",
      "To use this PipelineJob in another session:\n",
      "pipeline_job = aiplatform.PipelineJob.get('projects/1026793852137/locations/us-central1/pipelineJobs/dev-sklearn-workflow-evaluation-20240315215438')\n",
      "View Pipeline Job:\n",
      "https://console.cloud.google.com/vertex-ai/locations/us-central1/pipelines/runs/dev-sklearn-workflow-evaluation-20240315215438?project=1026793852137\n"
     ]
    }
   ],
   "source": [
    "response = pipeline_job.submit(\n",
    "    service_account = SERVICE_ACCOUNT\n",
    ")"
   ]
  },
  {
   "cell_type": "code",
   "execution_count": 635,
   "id": "ac757b57-d8e6-47d6-a26c-381be7386f1c",
   "metadata": {
    "tags": []
   },
   "outputs": [
    {
     "name": "stdout",
     "output_type": "stream",
     "text": [
      "The Dashboard can be viewed here:\n",
      "https://console.cloud.google.com/vertex-ai/locations/us-central1/pipelines/runs/dev-sklearn-workflow-evaluation-20240315215438?project=1026793852137\n"
     ]
    }
   ],
   "source": [
    "print(f'The Dashboard can be viewed here:\\n{pipeline_job._dashboard_uri()}')"
   ]
  },
  {
   "cell_type": "code",
   "execution_count": 636,
   "id": "f7f77c66-49fb-404a-baa0-8d2e2fd3932c",
   "metadata": {
    "tags": []
   },
   "outputs": [
    {
     "name": "stdout",
     "output_type": "stream",
     "text": [
      "PipelineJob projects/1026793852137/locations/us-central1/pipelineJobs/dev-sklearn-workflow-evaluation-20240315215438 current state:\n",
      "PipelineState.PIPELINE_STATE_RUNNING\n",
      "PipelineJob projects/1026793852137/locations/us-central1/pipelineJobs/dev-sklearn-workflow-evaluation-20240315215438 current state:\n",
      "PipelineState.PIPELINE_STATE_RUNNING\n",
      "PipelineJob projects/1026793852137/locations/us-central1/pipelineJobs/dev-sklearn-workflow-evaluation-20240315215438 current state:\n",
      "PipelineState.PIPELINE_STATE_RUNNING\n"
     ]
    },
    {
     "ename": "RuntimeError",
     "evalue": "Job failed with:\ncode: 9\nmessage: \"The DAG failed because some tasks failed. The failed tasks are: [model-evaluation-classification].; Job (project_id = statmike-mlops-349915, job_id = 1201491606130130944) is failed due to the above error.; Failed to handle the job: {project_number = 1026793852137, job_id = 1201491606130130944}\"\n",
     "output_type": "error",
     "traceback": [
      "\u001b[0;31m---------------------------------------------------------------------------\u001b[0m",
      "\u001b[0;31mRuntimeError\u001b[0m                              Traceback (most recent call last)",
      "Cell \u001b[0;32mIn[636], line 1\u001b[0m\n\u001b[0;32m----> 1\u001b[0m \u001b[43mpipeline_job\u001b[49m\u001b[38;5;241;43m.\u001b[39;49m\u001b[43mwait\u001b[49m\u001b[43m(\u001b[49m\u001b[43m)\u001b[49m\n",
      "File \u001b[0;32m/opt/conda/lib/python3.10/site-packages/google/cloud/aiplatform/pipeline_jobs.py:550\u001b[0m, in \u001b[0;36mPipelineJob.wait\u001b[0;34m(self)\u001b[0m\n\u001b[1;32m    548\u001b[0m \u001b[38;5;250m\u001b[39m\u001b[38;5;124;03m\"\"\"Wait for this PipelineJob to complete.\"\"\"\u001b[39;00m\n\u001b[1;32m    549\u001b[0m \u001b[38;5;28;01mif\u001b[39;00m \u001b[38;5;28mself\u001b[39m\u001b[38;5;241m.\u001b[39m_latest_future \u001b[38;5;129;01mis\u001b[39;00m \u001b[38;5;28;01mNone\u001b[39;00m:\n\u001b[0;32m--> 550\u001b[0m     \u001b[38;5;28;43mself\u001b[39;49m\u001b[38;5;241;43m.\u001b[39;49m\u001b[43m_block_until_complete\u001b[49m\u001b[43m(\u001b[49m\u001b[43m)\u001b[49m\n\u001b[1;32m    551\u001b[0m \u001b[38;5;28;01melse\u001b[39;00m:\n\u001b[1;32m    552\u001b[0m     \u001b[38;5;28msuper\u001b[39m()\u001b[38;5;241m.\u001b[39mwait()\n",
      "File \u001b[0;32m/opt/conda/lib/python3.10/site-packages/google/cloud/aiplatform/pipeline_jobs.py:615\u001b[0m, in \u001b[0;36mPipelineJob._block_until_complete\u001b[0;34m(self)\u001b[0m\n\u001b[1;32m    612\u001b[0m \u001b[38;5;66;03m# Error is only populated when the job state is\u001b[39;00m\n\u001b[1;32m    613\u001b[0m \u001b[38;5;66;03m# JOB_STATE_FAILED or JOB_STATE_CANCELLED.\u001b[39;00m\n\u001b[1;32m    614\u001b[0m \u001b[38;5;28;01mif\u001b[39;00m \u001b[38;5;28mself\u001b[39m\u001b[38;5;241m.\u001b[39m_gca_resource\u001b[38;5;241m.\u001b[39mstate \u001b[38;5;129;01min\u001b[39;00m _PIPELINE_ERROR_STATES:\n\u001b[0;32m--> 615\u001b[0m     \u001b[38;5;28;01mraise\u001b[39;00m \u001b[38;5;167;01mRuntimeError\u001b[39;00m(\u001b[38;5;124m\"\u001b[39m\u001b[38;5;124mJob failed with:\u001b[39m\u001b[38;5;130;01m\\n\u001b[39;00m\u001b[38;5;132;01m%s\u001b[39;00m\u001b[38;5;124m\"\u001b[39m \u001b[38;5;241m%\u001b[39m \u001b[38;5;28mself\u001b[39m\u001b[38;5;241m.\u001b[39m_gca_resource\u001b[38;5;241m.\u001b[39merror)\n\u001b[1;32m    616\u001b[0m \u001b[38;5;28;01melse\u001b[39;00m:\n\u001b[1;32m    617\u001b[0m     _LOGGER\u001b[38;5;241m.\u001b[39mlog_action_completed_against_resource(\u001b[38;5;124m\"\u001b[39m\u001b[38;5;124mrun\u001b[39m\u001b[38;5;124m\"\u001b[39m, \u001b[38;5;124m\"\u001b[39m\u001b[38;5;124mcompleted\u001b[39m\u001b[38;5;124m\"\u001b[39m, \u001b[38;5;28mself\u001b[39m)\n",
      "\u001b[0;31mRuntimeError\u001b[0m: Job failed with:\ncode: 9\nmessage: \"The DAG failed because some tasks failed. The failed tasks are: [model-evaluation-classification].; Job (project_id = statmike-mlops-349915, job_id = 1201491606130130944) is failed due to the above error.; Failed to handle the job: {project_number = 1026793852137, job_id = 1201491606130130944}\"\n"
     ]
    }
   ],
   "source": [
    "pipeline_job.wait()"
   ]
  },
  {
   "cell_type": "code",
   "execution_count": null,
   "id": "877e620a-01ac-4c65-bf40-34dcce3b012e",
   "metadata": {
    "tags": []
   },
   "outputs": [],
   "source": [
    "aiplatform.get_pipeline_df(pipeline = f'{SERIES}-{EXPERIMENT}-evaluation')"
   ]
  },
  {
   "cell_type": "code",
   "execution_count": null,
   "id": "53bb000f-820d-4356-87b8-4c4b3f817307",
   "metadata": {
    "tags": []
   },
   "outputs": [],
   "source": [
    "tasks = {task.task_name: task for task in pipeline_job.task_details}"
   ]
  },
  {
   "cell_type": "code",
   "execution_count": null,
   "id": "17091038-00da-43de-a0f7-8b8db7f88d6f",
   "metadata": {
    "tags": []
   },
   "outputs": [],
   "source": [
    "for task in tasks:\n",
    "  print(task, tasks[task].task_name, tasks[task].state)"
   ]
  },
  {
   "cell_type": "code",
   "execution_count": null,
   "id": "d2d923e2-cb40-41d9-a357-9662a0a46c49",
   "metadata": {
    "tags": []
   },
   "outputs": [],
   "source": [
    "tasks['importer']"
   ]
  },
  {
   "cell_type": "code",
   "execution_count": null,
   "id": "3eebdc54-3d14-4b3b-b25c-c5abaefcde37",
   "metadata": {},
   "outputs": [],
   "source": []
  },
  {
   "cell_type": "code",
   "execution_count": null,
   "id": "8e8ad1da-9736-452f-8c40-84521f500c07",
   "metadata": {},
   "outputs": [],
   "source": []
  },
  {
   "cell_type": "code",
   "execution_count": null,
   "id": "994caeda-f349-42ae-ad3d-759b929b169b",
   "metadata": {},
   "outputs": [],
   "source": []
  },
  {
   "cell_type": "code",
   "execution_count": null,
   "id": "1c6b8c34-7562-4e48-b90d-3b3d445b1b7c",
   "metadata": {},
   "outputs": [],
   "source": []
  },
  {
   "cell_type": "markdown",
   "id": "b3d127a3-9765-49b7-8ce9-1d8b58f636eb",
   "metadata": {},
   "source": [
    "---\n",
    "## Model Registry: Optional Additions"
   ]
  },
  {
   "cell_type": "code",
   "execution_count": 255,
   "id": "cb7b3024-c4f0-48f2-a527-688c32c352c7",
   "metadata": {
    "tags": []
   },
   "outputs": [
    {
     "data": {
      "text/plain": [
       "{'name': 'projects/1026793852137/locations/us-central1/models/model_dev_sklearn-workflow@1',\n",
       " 'displayName': 'dev_sklearn-workflow',\n",
       " 'predictSchemata': {},\n",
       " 'metadata': None,\n",
       " 'containerSpec': {'imageUri': 'us-docker.pkg.dev/vertex-ai/prediction/sklearn-cpu.1-0:latest'},\n",
       " 'supportedDeploymentResourcesTypes': ['DEDICATED_RESOURCES'],\n",
       " 'supportedInputStorageFormats': ['jsonl',\n",
       "  'bigquery',\n",
       "  'csv',\n",
       "  'tf-record',\n",
       "  'tf-record-gzip',\n",
       "  'file-list'],\n",
       " 'supportedOutputStorageFormats': ['jsonl', 'bigquery'],\n",
       " 'createTime': '2024-02-26T00:58:28.590188Z',\n",
       " 'updateTime': '2024-02-26T00:58:29.560475Z',\n",
       " 'etag': 'AMEw9yOee46PG34bICm1RvqIgYGKCF0MPG7B3VMJNHf4v2v6L8YkI-MSiR4L3DY75Cbr',\n",
       " 'supportedExportFormats': [{'id': 'custom-trained',\n",
       "   'exportableContents': ['ARTIFACT']}],\n",
       " 'artifactUri': 'gs://statmike-mlops-349915/dev/sklearn-workflow/models/20240225203750/model',\n",
       " 'versionId': '1',\n",
       " 'versionAliases': ['run-20240225203750', 'default'],\n",
       " 'versionDescription': 'run-20240225203750',\n",
       " 'versionCreateTime': '2024-02-26T00:58:28.590188Z',\n",
       " 'versionUpdateTime': '2024-02-26T00:58:29.560475Z',\n",
       " 'modelSourceInfo': {'sourceType': 'CUSTOM'}}"
      ]
     },
     "execution_count": 255,
     "metadata": {},
     "output_type": "execute_result"
    }
   ],
   "source": [
    "model.to_dict()"
   ]
  },
  {
   "cell_type": "code",
   "execution_count": 270,
   "id": "31e2d067-6be2-4772-ab31-6978076c085f",
   "metadata": {
    "tags": []
   },
   "outputs": [
    {
     "data": {
      "text/plain": [
       "{'name': 'projects/1026793852137/locations/us-central1/models/bqml_bqml_random-forest',\n",
       " 'displayName': 'bqml_bqml_random-forest',\n",
       " 'supportedDeploymentResourcesTypes': ['DEDICATED_RESOURCES'],\n",
       " 'supportedInputStorageFormats': ['jsonl',\n",
       "  'bigquery',\n",
       "  'csv',\n",
       "  'tf-record',\n",
       "  'tf-record-gzip',\n",
       "  'file-list'],\n",
       " 'supportedOutputStorageFormats': ['jsonl', 'bigquery'],\n",
       " 'createTime': '2023-06-27T12:30:07.561556Z',\n",
       " 'updateTime': '2023-06-27T12:32:06.390904Z',\n",
       " 'etag': 'AMEw9yOim4p6j_hCCCHgN_pxHj9ot-6hpRtHMNxJJrOHhbkPklVRulB6UzcmEv5yVKNX',\n",
       " 'labels': {'experiment': 'random-forest', 'series': 'bqml'},\n",
       " 'explanationSpec': {'parameters': {'sampledShapleyAttribution': {'pathCount': 5}},\n",
       "  'metadata': {'inputs': {'V3': {},\n",
       "    'V18': {},\n",
       "    'V21': {},\n",
       "    'V13': {},\n",
       "    'V11': {},\n",
       "    'Amount': {},\n",
       "    'V8': {},\n",
       "    'V15': {},\n",
       "    'V27': {},\n",
       "    'V22': {},\n",
       "    'V4': {},\n",
       "    'V24': {},\n",
       "    'Time': {},\n",
       "    'V17': {},\n",
       "    'V16': {},\n",
       "    'V9': {},\n",
       "    'V1': {},\n",
       "    'V14': {},\n",
       "    'V10': {},\n",
       "    'V5': {},\n",
       "    'V25': {},\n",
       "    'V6': {},\n",
       "    'V19': {},\n",
       "    'V26': {},\n",
       "    'V12': {},\n",
       "    'V23': {},\n",
       "    'V2': {},\n",
       "    'V7': {},\n",
       "    'V20': {},\n",
       "    'V28': {}},\n",
       "   'outputs': {'label_probs': {}}}},\n",
       " 'versionId': '1',\n",
       " 'versionAliases': ['run-20230627122915', 'default'],\n",
       " 'versionCreateTime': '2023-06-27T12:30:07.561556Z',\n",
       " 'versionUpdateTime': '2023-06-27T12:54:34.215012Z',\n",
       " 'modelSourceInfo': {'sourceType': 'BQML'}}"
      ]
     },
     "execution_count": 270,
     "metadata": {},
     "output_type": "execute_result"
    }
   ],
   "source": [
    "\n",
    "# example model from BQML\n",
    "test = aiplatform.Model(\n",
    "    project = PROJECT_ID,\n",
    "    location = REGION,\n",
    "    model_name = 'bqml_bqml_random-forest'\n",
    ")\n",
    "test.to_dict()"
   ]
  },
  {
   "cell_type": "code",
   "execution_count": 256,
   "id": "aaf66e4d-c434-4a92-9b5b-586c0343f006",
   "metadata": {
    "tags": []
   },
   "outputs": [
    {
     "data": {
      "text/plain": [
       "{'name': 'projects/1026793852137/locations/us-central1/models/model_05_05f',\n",
       " 'displayName': '05_05f',\n",
       " 'predictSchemata': {},\n",
       " 'metadata': None,\n",
       " 'trainingPipeline': 'projects/1026793852137/locations/us-central1/trainingPipelines/6528349671444709376',\n",
       " 'containerSpec': {'imageUri': 'us-docker.pkg.dev/vertex-ai/prediction/tf2-cpu.2-12:latest'},\n",
       " 'supportedDeploymentResourcesTypes': ['DEDICATED_RESOURCES',\n",
       "  'SHARED_RESOURCES'],\n",
       " 'supportedInputStorageFormats': ['jsonl',\n",
       "  'bigquery',\n",
       "  'csv',\n",
       "  'tf-record',\n",
       "  'tf-record-gzip',\n",
       "  'file-list'],\n",
       " 'supportedOutputStorageFormats': ['jsonl', 'bigquery'],\n",
       " 'createTime': '2022-09-27T19:21:47.583324Z',\n",
       " 'updateTime': '2024-02-22T21:13:55.966054Z',\n",
       " 'etag': 'AMEw9yObhb_VzCdWLiEzm7nRwKtvJG_ZDxWv_Yc7GywHp_M3phooJkxLMLMoJtkK5fQE',\n",
       " 'labels': {'run_name': 'run-20240222211353',\n",
       "  'experiment_name': 'experiment-05-05f-tf-classification-dnn',\n",
       "  'series': '05',\n",
       "  'experiment': '05f'},\n",
       " 'supportedExportFormats': [{'id': 'custom-trained',\n",
       "   'exportableContents': ['ARTIFACT']}],\n",
       " 'artifactUri': 'gs://statmike-mlops-349915/05/05f/models/20240222211353/model',\n",
       " 'versionId': '78',\n",
       " 'versionAliases': ['run-20240222211353', 'default'],\n",
       " 'versionDescription': 'run-20240222211353',\n",
       " 'versionCreateTime': '2024-02-22T21:13:55.966054Z',\n",
       " 'versionUpdateTime': '2024-02-22T21:22:34.275587Z',\n",
       " 'modelSourceInfo': {'sourceType': 'CUSTOM'}}"
      ]
     },
     "execution_count": 256,
     "metadata": {},
     "output_type": "execute_result"
    }
   ],
   "source": [
    "# example model from Training Pipeline (not a Vertex Pipeline)\n",
    "test = aiplatform.Model(\n",
    "    project = PROJECT_ID,\n",
    "    location = REGION,\n",
    "    model_name = 'model_05_05f'\n",
    ")\n",
    "test.to_dict()"
   ]
  },
  {
   "cell_type": "code",
   "execution_count": 431,
   "id": "cb6e6c5c-d844-46cc-b0fc-0e56e0047212",
   "metadata": {
    "tags": []
   },
   "outputs": [
    {
     "data": {
      "text/plain": [
       "{'name': 'projects/1026793852137/locations/us-central1/models/3955644813528793088',\n",
       " 'displayName': '02c_fraud_20230825120638',\n",
       " 'predictSchemata': {'instanceSchemaUri': 'https://storage.googleapis.com/caip-tenant-c9fb6c93-0c9f-41d7-96df-f5ebf0a7575c/schema/predict/instance.yaml?GoogleAccessId=service-1026793852137@gcp-sa-aiplatform.iam.gserviceaccount.com&Expires=1710524139&Signature=fUD9YFFTWD86GADAuN%252Fu2sYIeDYqBdpqiqHIqTWj1V8TjEm%252FeyhVN40nR1otASw1rBTwe1iPYt8gRTnxOc32cMWcKQGSWTgDaXUDJ5ktQaYD%252FOVQiUZ1hp25UzOIYkWKa1gEVMlDpXkyo30u5bjuGG20kd1VR5uceUUQ31%252FmTDd993%252BYz3V3JZWWRwL5hfu0%252B%252Bm%252FCkMotjaabrX1zKNl98wagbrNnuymNyk5wVuzqnHVuBStkDcL290RKcfPZHKL%252BtlLQT4KiIoOTpAcAa3Rho24pzIw4GufxfwVcOWD%252BgKKm7EDEcWi9Mse5iYsyM77Q2vjTrtIH1GycubLFISprg%253D%253D',\n",
       "  'predictionSchemaUri': 'https://storage.googleapis.com/caip-tenant-c9fb6c93-0c9f-41d7-96df-f5ebf0a7575c/schema/predict/prediction.yaml?GoogleAccessId=service-1026793852137@gcp-sa-aiplatform.iam.gserviceaccount.com&Expires=1710524139&Signature=l6zCKSU5PIMDx6VjhvKbJ8hVbMmj4bJt2IKDJfFYJ2knANqBAOBs7t9RqcJmWCf8Njr6y9GSzB2sN3Uxjb1YvMoITIj2pIdqvrvSCNOlWLvMY5hu4pwpQeb6KzdkJ5lqcj5kFRQ%252B2KW15EdDLsOWroEk%252BpZ8UlpkGq7j%252BQkat1sNkbFXQBGx%252Fd3VxlMViB7z%252Fceq%252BZfKsP7F2vjIFAb6xlM1kQ1gtnrsikgchBv%252Fqdv%252F42fHHnH%252Bln1wOyBhaYGUUxd%252FkBbVFvbLd3CoO7Ocw2klXO4DMuxc17YotUUGKZKZVsUeB%252FAdUUMZzymB9%252FsEYXI34pj8447Q92pU6Dr8WA%253D%253D'},\n",
       " 'metadataSchemaUri': 'https://storage.googleapis.com/google-cloud-aiplatform/schema/model/metadata/automl_tabular_1.0.0.yaml',\n",
       " 'metadata': {},\n",
       " 'trainingPipeline': 'projects/1026793852137/locations/us-central1/trainingPipelines/2812385336070504448',\n",
       " 'supportedDeploymentResourcesTypes': ['DEDICATED_RESOURCES'],\n",
       " 'supportedInputStorageFormats': ['bigquery', 'csv', 'jsonl', 'tf-record'],\n",
       " 'supportedOutputStorageFormats': ['bigquery', 'csv', 'tf-record', 'jsonl'],\n",
       " 'createTime': '2023-08-25T12:11:52.997262Z',\n",
       " 'updateTime': '2023-08-25T14:21:46.186345Z',\n",
       " 'etag': 'AMEw9yMvIQ720d5cVLrby-h-nxpGvHek2-MgKXv36UVHWc_3M_LJGfsLW1cHp4sAkAQ=',\n",
       " 'labels': {'notebook': '02c'},\n",
       " 'supportedExportFormats': [{'id': 'tf-saved-model',\n",
       "   'exportableContents': ['ARTIFACT']}],\n",
       " 'explanationSpec': {'parameters': {'sampledShapleyAttribution': {'pathCount': 9}},\n",
       "  'metadata': {'inputs': {'V23': {'inputBaselines': [-0.0109629220991737]},\n",
       "    'V21': {'inputBaselines': [-0.0291311536654779]},\n",
       "    'V12': {'inputBaselines': [0.14143989469113802]},\n",
       "    'V15': {'inputBaselines': [0.049184212432685996]},\n",
       "    'V24': {'inputBaselines': [0.0413596985718128]},\n",
       "    'V6': {'inputBaselines': [-0.27276781658558]},\n",
       "    'V11': {'inputBaselines': [-0.0307914257146474]},\n",
       "    'V8': {'inputBaselines': [0.0226868978994342]},\n",
       "    'Amount': {'inputBaselines': [22.0]},\n",
       "    'V14': {'inputBaselines': [0.0511716590341193]},\n",
       "    'V28': {'inputBaselines': [0.0113448930957319]},\n",
       "    'V20': {'inputBaselines': [-0.062111810079112]},\n",
       "    'V3': {'inputBaselines': [0.18146054792528302]},\n",
       "    'V9': {'inputBaselines': [-0.0499418352237675]},\n",
       "    'V22': {'inputBaselines': [0.00773372187997717]},\n",
       "    'V25': {'inputBaselines': [0.0171215825916335]},\n",
       "    'V10': {'inputBaselines': [-0.0920035141007977]},\n",
       "    'V13': {'inputBaselines': [-0.0124365410943757]},\n",
       "    'V7': {'inputBaselines': [0.041042431090108]},\n",
       "    'V19': {'inputBaselines': [0.0045169693621238795]},\n",
       "    'V5': {'inputBaselines': [-0.0531003224046307]},\n",
       "    'V17': {'inputBaselines': [-0.0647759652418203]},\n",
       "    'V2': {'inputBaselines': [0.0668795193409045]},\n",
       "    'V4': {'inputBaselines': [-0.0177803745937652]},\n",
       "    'V1': {'inputBaselines': [0.0203823308739728]},\n",
       "    'V16': {'inputBaselines': [0.0675035634525228]},\n",
       "    'V26': {'inputBaselines': [-0.0510455000339032]},\n",
       "    'Time': {'inputBaselines': ['84770.0']},\n",
       "    'V18': {'inputBaselines': [-0.00272819526116941]},\n",
       "    'V27': {'inputBaselines': [0.0014852628295193]}},\n",
       "   'outputs': {'scores': {'displayNameMappingKey': 'classes'}},\n",
       "   'featureAttributionsSchemaUri': 'https://storage.googleapis.com/caip-tenant-c9fb6c93-0c9f-41d7-96df-f5ebf0a7575c/schema/explain/feature_attributions.yaml?GoogleAccessId=service-1026793852137@gcp-sa-aiplatform.iam.gserviceaccount.com&Expires=1710524139&Signature=KsHqc4Cnnn6LS%252B6ER%252BYam%252FV%252FMx4WFhfNVXEjvBuvIfeqFfEKzZraNPdwvXm7jsF%252Bb7Z%252FNAccgYIKOxOJKunVc0W6QYxXAismdjp5nbMS2MZuzLglIhRm6r%252B4NqE13KESui%252FGrqElYEB9%252B8dhKIjX8Mdq3VFJDoAunRYfm%252BvHIX54RH%252Fb0fQYGChnMa06JaXe%252BWflhiGaO%252FoRJ9FBfwZ%252F4A6dF%252BHeNrwmh4%252BxmLquWZz%252BFePk089kHuZZRnhq6%252BJE6u7g0dnUmf5F5%252BUjdlIM5Qlq52iVdTRE1ZSligbT5ztZjnpwvwVKLvaJ6qCaGOTqVBHH5vIOoCmdJeMcWZmTDQ%253D%253D'}},\n",
       " 'versionId': '1',\n",
       " 'versionAliases': ['default'],\n",
       " 'versionCreateTime': '2023-08-25T12:11:52.997262Z',\n",
       " 'versionUpdateTime': '2023-08-25T14:21:46.186345Z',\n",
       " 'modelSourceInfo': {'sourceType': 'AUTOML'}}"
      ]
     },
     "execution_count": 431,
     "metadata": {},
     "output_type": "execute_result"
    }
   ],
   "source": [
    "# example autoML model\n",
    "test = aiplatform.Model(\n",
    "    project = PROJECT_ID,\n",
    "    location = REGION,\n",
    "    model_name = '3955644813528793088'\n",
    ")\n",
    "test.to_dict()"
   ]
  },
  {
   "cell_type": "code",
   "execution_count": 264,
   "id": "ae1d99de-de22-4f28-9df7-9a766f10a6fa",
   "metadata": {
    "tags": []
   },
   "outputs": [
    {
     "data": {
      "text/plain": [
       "'https://storage.googleapis.com/caip-tenant-c9fb6c93-0c9f-41d7-96df-f5ebf0a7575c/schema/predict/instance.yaml?GoogleAccessId=service-1026793852137@gcp-sa-aiplatform.iam.gserviceaccount.com&Expires=1708976819&Signature=PKHI%252Bv6b5EBvMjEBGEJEkAJFPxHnAzoofOa5Ac23gHcN8QShcu%252BD53FR7qkUf7sDX7DHBNqecWORycOVrYsKLA0gMTbRE2BatdSl8p6pWJymfUTuiiur%252BiOolSQAZkDBXC3Yt0D8JtqYr%252BYiyo60QTKtOVoFf3uyKFiR0%252BMB3g8aralZGixuf8Ty1g3xPfYeby2ljRGAYk4GUxSqmbWgssq2zXXKLs5ORNgRchEb0k9ZlogHphc8ZskB2Zl%252FpeC%252BjNGfq2hxNyQzQo7IPYq98LToeVAOV14F6uN3bp8y1HiQxYdJwImSj%252FNFRYeWBMW6IM74TQNzzTW8ynDj6eKYdA%253D%253D'"
      ]
     },
     "execution_count": 264,
     "metadata": {},
     "output_type": "execute_result"
    }
   ],
   "source": [
    "test.to_dict()['predictSchemata']['instanceSchemaUri']"
   ]
  },
  {
   "cell_type": "code",
   "execution_count": 267,
   "id": "a0e0aa73-a5e0-465d-9117-2042310bbeba",
   "metadata": {
    "tags": []
   },
   "outputs": [
    {
     "data": {
      "text/plain": [
       "'https://storage.googleapis.com/caip-tenant-c9fb6c93-0c9f-41d7-96df-f5ebf0a7575c/schema/predict/prediction.yaml?GoogleAccessId=service-1026793852137@gcp-sa-aiplatform.iam.gserviceaccount.com&Expires=1708976819&Signature=JXZzs4r6dQ3wsuP77DlxfrAD8CJ6MDdWHVs8Mb6rFPDnIWoVEvffM3SPsE1VCMwaHZzLdhII1jKD7nD7vXtlpxTToBPPRLldhpEEqRVtlo%252Fv7CDTmzS5kk%252FiL8cnW179rlyI%252FLX7SigRfebrLMMZMI%252BwaPLeNPTc%252FYwPy0TwXJT23SVVaroEsODwvINZ4QYNMP%252F9ZYk1G%252BK0MQFiNVTTHVB3DMHJ9y8Gj1Yw5sECwUfxQ%252FQzTEEVA9v2jNhPP1IBxdkC3%252F9aUrvGRtT85h0M4IGajJP23KSpYw0CFl4aLRMYNzNKXr3zl3XwHZ5wuBPPRipRvZAp6zzUc3Vv38ajRg%253D%253D'"
      ]
     },
     "execution_count": 267,
     "metadata": {},
     "output_type": "execute_result"
    }
   ],
   "source": [
    "test.to_dict()['predictSchemata']['predictionSchemaUri']"
   ]
  },
  {
   "cell_type": "code",
   "execution_count": 269,
   "id": "7458985c-e27d-4016-a42d-c68f0f071a5b",
   "metadata": {
    "tags": []
   },
   "outputs": [
    {
     "data": {
      "text/plain": [
       "'https://storage.googleapis.com/google-cloud-aiplatform/schema/model/metadata/automl_tabular_1.0.0.yaml'"
      ]
     },
     "execution_count": 269,
     "metadata": {},
     "output_type": "execute_result"
    }
   ],
   "source": [
    "test.to_dict()['metadataSchemaUri']"
   ]
  },
  {
   "cell_type": "code",
   "execution_count": null,
   "id": "92391af7-bedc-4944-bb8c-76686e1fd882",
   "metadata": {},
   "outputs": [],
   "source": []
  },
  {
   "cell_type": "code",
   "execution_count": null,
   "id": "40793578-1680-4dd7-9325-ac56b4479a2d",
   "metadata": {},
   "outputs": [],
   "source": []
  },
  {
   "cell_type": "code",
   "execution_count": null,
   "id": "b6b57fd5-4207-44c4-841a-e944e2365027",
   "metadata": {},
   "outputs": [],
   "source": []
  },
  {
   "cell_type": "code",
   "execution_count": null,
   "id": "b8f8d9c4-54cc-4a43-8028-c7575bc3adf0",
   "metadata": {},
   "outputs": [],
   "source": []
  },
  {
   "cell_type": "code",
   "execution_count": null,
   "id": "52f6faa9-60f9-4eb5-b8e0-cee594c649df",
   "metadata": {},
   "outputs": [],
   "source": []
  },
  {
   "cell_type": "code",
   "execution_count": null,
   "id": "463bd301-0b31-42dd-9e8e-1d390d478df5",
   "metadata": {},
   "outputs": [],
   "source": []
  }
 ],
 "metadata": {
  "environment": {
   "kernel": "conda-root-py",
   "name": "workbench-notebooks.m115",
   "type": "gcloud",
   "uri": "gcr.io/deeplearning-platform-release/workbench-notebooks:m115"
  },
  "kernelspec": {
   "display_name": "Python 3 (ipykernel)",
   "language": "python",
   "name": "conda-root-py"
  },
  "language_info": {
   "codemirror_mode": {
    "name": "ipython",
    "version": 3
   },
   "file_extension": ".py",
   "mimetype": "text/x-python",
   "name": "python",
   "nbconvert_exporter": "python",
   "pygments_lexer": "ipython3",
   "version": "3.10.13"
  }
 },
 "nbformat": 4,
 "nbformat_minor": 5
}
