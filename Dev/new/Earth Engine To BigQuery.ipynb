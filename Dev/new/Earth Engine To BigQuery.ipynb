{
 "cells": [
  {
   "cell_type": "markdown",
   "id": "7cfb62d3",
   "metadata": {},
   "source": [
    "![tracker](https://us-central1-vertex-ai-mlops-369716.cloudfunctions.net/pixel-tracking?path=statmike%2Fvertex-ai-mlops%2FDev%2Fnew&file=Earth+Engine+To+BigQuery.ipynb)\n",
    "<!--- header table --->\n",
    "<table align=\"left\">\n",
    "<tr>\n",
    "  <td style=\"text-align: center\">\n",
    "    <a href=\"https://github.com/statmike/vertex-ai-mlops/blob/main/Dev/new/Earth%20Engine%20To%20BigQuery.ipynb\">\n",
    "      <img width=\"32px\" src=\"https://www.svgrepo.com/download/217753/github.svg\" alt=\"GitHub logo\">\n",
    "      <br>View on<br>GitHub\n",
    "    </a>\n",
    "  </td>\n",
    "  <td style=\"text-align: center\">\n",
    "    <a href=\"https://colab.research.google.com/github/statmike/vertex-ai-mlops/blob/main/Dev/new/Earth%20Engine%20To%20BigQuery.ipynb\">\n",
    "      <img width=\"32px\" src=\"https://www.gstatic.com/pantheon/images/bigquery/welcome_page/colab-logo.svg\" alt=\"Google Colaboratory logo\">\n",
    "      <br>Run in<br>Colab\n",
    "    </a>\n",
    "  </td>\n",
    "  <td style=\"text-align: center\">\n",
    "    <a href=\"https://console.cloud.google.com/vertex-ai/colab/import/https%3A%2F%2Fraw.githubusercontent.com%2Fstatmike%2Fvertex-ai-mlops%2Fmain%2FDev%2Fnew%2FEarth%2520Engine%2520To%2520BigQuery.ipynb\">\n",
    "      <img width=\"32px\" src=\"https://lh3.googleusercontent.com/JmcxdQi-qOpctIvWKgPtrzZdJJK-J3sWE1RsfjZNwshCFgE_9fULcNpuXYTilIR2hjwN\" alt=\"Google Cloud Colab Enterprise logo\">\n",
    "      <br>Run in<br>Colab Enterprise\n",
    "    </a>\n",
    "  </td>      \n",
    "  <td style=\"text-align: center\">\n",
    "    <a href=\"https://console.cloud.google.com/bigquery/import?url=https://github.com/statmike/vertex-ai-mlops/blob/main/Dev/new/Earth%20Engine%20To%20BigQuery.ipynb\">\n",
    "      <img width=\"32px\" src=\"https://www.gstatic.com/images/branding/gcpiconscolors/bigquery/v1/32px.svg\" alt=\"BigQuery logo\">\n",
    "      <br>Open in<br>BigQuery Studio\n",
    "    </a>\n",
    "  </td>\n",
    "  <td style=\"text-align: center\">\n",
    "    <a href=\"https://console.cloud.google.com/vertex-ai/workbench/deploy-notebook?download_url=https://raw.githubusercontent.com/statmike/vertex-ai-mlops/main/Dev/new/Earth%20Engine%20To%20BigQuery.ipynb\">\n",
    "      <img width=\"32px\" src=\"https://www.gstatic.com/images/branding/gcpiconscolors/vertexai/v1/32px.svg\" alt=\"Vertex AI logo\">\n",
    "      <br>Open in<br>Vertex AI Workbench\n",
    "    </a>\n",
    "  </td>\n",
    "</tr>\n",
    "<tr>\n",
    "  <td colspan=\"5\" style=\"text-align: right\">\n",
    "    <b>Share This On: </b> \n",
    "    <a href=\"https://www.linkedin.com/sharing/share-offsite/?url=https%3A//github.com/statmike/vertex-ai-mlops/blob/main/Dev/new/Earth%20Engine%20To%20BigQuery.ipynb\"><img src=\"https://upload.wikimedia.org/wikipedia/commons/8/81/LinkedIn_icon.svg\" alt=\"Linkedin Logo\" width=\"20px\"></a> \n",
    "    <a href=\"https://reddit.com/submit?url=https%3A//github.com/statmike/vertex-ai-mlops/blob/main/Dev/new/Earth%20Engine%20To%20BigQuery.ipynb\"><img src=\"https://redditinc.com/hubfs/Reddit%20Inc/Brand/Reddit_Logo.png\" alt=\"Reddit Logo\" width=\"20px\"></a> \n",
    "    <a href=\"https://bsky.app/intent/compose?text=https%3A//github.com/statmike/vertex-ai-mlops/blob/main/Dev/new/Earth%20Engine%20To%20BigQuery.ipynb\"><img src=\"https://upload.wikimedia.org/wikipedia/commons/7/7a/Bluesky_Logo.svg\" alt=\"BlueSky Logo\" width=\"20px\"></a> \n",
    "    <a href=\"https://twitter.com/intent/tweet?url=https%3A//github.com/statmike/vertex-ai-mlops/blob/main/Dev/new/Earth%20Engine%20To%20BigQuery.ipynb\"><img src=\"https://upload.wikimedia.org/wikipedia/commons/5/5a/X_icon_2.svg\" alt=\"X (Twitter) Logo\" width=\"20px\"></a> \n",
    "  </td>\n",
    "</tr>\n",
    "<tr>\n",
    "  <td colspan=\"5\" style=\"text-align: right\">\n",
    "    <b>Connect With Author On: </b> \n",
    "    <a href=\"https://www.linkedin.com/in/statmike\"><img src=\"https://upload.wikimedia.org/wikipedia/commons/8/81/LinkedIn_icon.svg\" alt=\"Linkedin Logo\" width=\"20px\"></a>\n",
    "    <a href=\"https://www.github.com/statmike\"><img src=\"https://www.svgrepo.com/download/217753/github.svg\" alt=\"GitHub Logo\" width=\"20px\"></a> \n",
    "    <a href=\"https://www.youtube.com/@statmike-channel\"><img src=\"https://upload.wikimedia.org/wikipedia/commons/f/fd/YouTube_full-color_icon_%282024%29.svg\" alt=\"YouTube Logo\" width=\"20px\"></a>\n",
    "    <a href=\"https://bsky.app/profile/statmike.bsky.social\"><img src=\"https://upload.wikimedia.org/wikipedia/commons/7/7a/Bluesky_Logo.svg\" alt=\"BlueSky Logo\" width=\"20px\"></a> \n",
    "    <a href=\"https://x.com/statmike\"><img src=\"https://upload.wikimedia.org/wikipedia/commons/5/5a/X_icon_2.svg\" alt=\"X (Twitter) Logo\" width=\"20px\"></a>\n",
    "  </td>\n",
    "</tr>\n",
    "</table>"
   ]
  },
  {
   "cell_type": "markdown",
   "id": "4fa57ada-b4a9-4ca4-9786-1c018177e63f",
   "metadata": {},
   "source": [
    "# Earth Engine To BigQuery\n",
    "\n",
    "\n",
    "**Google Earth Engine**\n",
    "\n",
    "[Google Earth Engine](https://earthengine.google.com/) is a giant catelog of satellite imagery and geospatial datasets. The best part is that it has currated sets of prepared data - think pixel level detection with masking for clouds.  The data can be eplored and analyzed with the [Earth Engine API](https://developers.google.com/earth-engine/#api) which includes a [Python client](https://developers.google.com/earth-engine/guides/python_install).\n",
    "\n",
    "Some Datasets of Interest:\n",
    "- [Dynamic World V1](https://developers.google.com/earth-engine/datasets/catalog/GOOGLE_DYNAMICWORLD_V1)\n",
    "    - 10m resolution with high frequency\n",
    "    - A set of predictions based on analytics of Sentinel-2 L1C (see next) where CLOUDY_PIXEL_PERCENTAGE <= 35%\n",
    "    - Bands for: water, trees, grass, flooded_vegetation, crops, shrub_and_scrub, built, bare, snow_and_ice, label\n",
    "    - All are probabilities (except label) and add to 1.0. Label has index of the band with highest probability 0-8.\n",
    "    - `ee.ImageCollection('GOOGLE/DYNAMICWORLD/V1')`\n",
    "- [Sentinel-2](https://developers.google.com/earth-engine/datasets/catalog/sentinel-2)\n",
    "    - MultiSpectral Imaging since 6/23/2015\n",
    "    - Capturing reflectance of [surface (L2A)](https://developers.google.com/earth-engine/datasets/catalog/COPERNICUS_S2_SR_HARMONIZED) and [top-of-atmosphere (L1C)](https://developers.google.com/earth-engine/datasets/catalog/COPERNICUS_S2_HARMONIZED)\n",
    "    - `ee.ImageCollection('COPERNICUS/S2')` or `ee.ImageCollection('COPERNICUS/S2_HARMONIZED`"
   ]
  },
  {
   "cell_type": "markdown",
   "id": "bfbd2cc7-6acf-42c2-8e0d-7546076dae84",
   "metadata": {},
   "source": [
    "---\n",
    "## Setup"
   ]
  },
  {
   "cell_type": "code",
   "execution_count": 1,
   "id": "9b892a10-5a3c-41ca-9d3f-e9bc27e9b4ab",
   "metadata": {},
   "outputs": [
    {
     "data": {
      "text/plain": [
       "'statmike-mlops-349915'"
      ]
     },
     "execution_count": 1,
     "metadata": {},
     "output_type": "execute_result"
    }
   ],
   "source": [
    "project = !gcloud config get-value project\n",
    "PROJECT_ID = project[0]\n",
    "PROJECT_ID"
   ]
  },
  {
   "cell_type": "code",
   "execution_count": 15,
   "id": "d9ace70d-7bca-41fb-bca3-bd9a05c56d42",
   "metadata": {},
   "outputs": [],
   "source": [
    "SERIES = 'applied-geospatial'\n",
    "EXPERIMENT = 'ee-to-bq'"
   ]
  },
  {
   "cell_type": "markdown",
   "id": "9b860426-d1db-42e2-a5a0-8193b455bd1b",
   "metadata": {},
   "source": [
    "### Enable Earth Engine API\n",
    "\n",
    "[Console Linl](https://console.cloud.google.com/apis/library/earthengine.googleapis.com)"
   ]
  },
  {
   "cell_type": "code",
   "execution_count": 2,
   "id": "d870c96d-a74d-4db7-88b4-061efd06383e",
   "metadata": {},
   "outputs": [
    {
     "name": "stdout",
     "output_type": "stream",
     "text": [
      "Operation \"operations/acat.p2-1026793852137-5d047d6a-fd0e-4a8b-b871-d28d5d6f0205\" finished successfully.\n"
     ]
    }
   ],
   "source": [
    "!gcloud services enable earthengine.googleapis.com"
   ]
  },
  {
   "cell_type": "code",
   "execution_count": 14,
   "id": "5300ccac-eed7-4de1-840d-861b43ed393e",
   "metadata": {},
   "outputs": [
    {
     "name": "stdout",
     "output_type": "stream",
     "text": [
      "NAME                                TITLE\n",
      "bigquery.googleapis.com             BigQuery API\n",
      "bigqueryconnection.googleapis.com   BigQuery Connection API\n",
      "bigquerymigration.googleapis.com    BigQuery Migration API\n",
      "bigqueryreservation.googleapis.com  BigQuery Reservation API\n",
      "bigquerystorage.googleapis.com      BigQuery Storage API\n",
      "cloudtrace.googleapis.com           Cloud Trace API\n",
      "earthengine.googleapis.com          Google Earth Engine API\n"
     ]
    }
   ],
   "source": [
    "!gcloud services list --enabled --filter=\"BigQuery OR EarthEngine\""
   ]
  },
  {
   "cell_type": "markdown",
   "id": "e24d3a6f-54a4-4916-8809-87746af52357",
   "metadata": {},
   "source": [
    "### Configure Earth Engine Access\n",
    "\n",
    "Configure a Google Cloud Project:\n",
    "- [Details](https://developers.google.com/earth-engine/guides/access#a-role-in-a-cloud-project)\n",
    "    - Enabled API for Earth Engine, section above\n",
    "    - Register this cloud project with Earth Engine: [link](https://code.earthengine.google.com/register)"
   ]
  },
  {
   "cell_type": "code",
   "execution_count": null,
   "id": "96782fc6-eb2d-4f9b-8157-6eb2bdd6b6b8",
   "metadata": {},
   "outputs": [],
   "source": []
  },
  {
   "cell_type": "code",
   "execution_count": null,
   "id": "c04683b6-3f90-4cb8-bb38-d9d1c6c4a2a1",
   "metadata": {},
   "outputs": [],
   "source": []
  },
  {
   "cell_type": "code",
   "execution_count": null,
   "id": "1e9f0367-57fe-4da7-833f-16587d345ec1",
   "metadata": {},
   "outputs": [],
   "source": []
  },
  {
   "cell_type": "code",
   "execution_count": null,
   "id": "73668a4c-b9ab-4eb8-83bf-857fcaca719a",
   "metadata": {},
   "outputs": [],
   "source": []
  },
  {
   "cell_type": "code",
   "execution_count": null,
   "id": "1f1a7b8a-a352-4be9-a88b-0964b8cc309d",
   "metadata": {},
   "outputs": [],
   "source": []
  },
  {
   "cell_type": "code",
   "execution_count": null,
   "id": "bc48a50e-6889-4680-a3f8-906d81ac587e",
   "metadata": {},
   "outputs": [],
   "source": []
  }
 ],
 "metadata": {
  "environment": {
   "kernel": "conda-root-py",
   "name": "workbench-notebooks.m113",
   "type": "gcloud",
   "uri": "gcr.io/deeplearning-platform-release/workbench-notebooks:m113"
  },
  "kernelspec": {
   "display_name": "Python 3 (ipykernel) (Local)",
   "language": "python",
   "name": "conda-root-py"
  },
  "language_info": {
   "codemirror_mode": {
    "name": "ipython",
    "version": 3
   },
   "file_extension": ".py",
   "mimetype": "text/x-python",
   "name": "python",
   "nbconvert_exporter": "python",
   "pygments_lexer": "ipython3",
   "version": "3.10.13"
  }
 },
 "nbformat": 4,
 "nbformat_minor": 5
}
