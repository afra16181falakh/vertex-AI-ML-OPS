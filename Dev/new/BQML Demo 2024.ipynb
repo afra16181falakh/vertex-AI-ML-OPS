{
 "cells": [
  {
   "cell_type": "markdown",
   "id": "d7bc4ecc",
   "metadata": {},
   "source": [
    "![tracker](https://us-central1-vertex-ai-mlops-369716.cloudfunctions.net/pixel-tracking?path=statmike%2Fvertex-ai-mlops%2FDev%2Fnew&file=BQML+Demo+2024.ipynb)\n",
    "<!--- header table --->\n",
    "<table align=\"left\">\n",
    "  <td style=\"text-align: center\">\n",
    "    <a href=\"https://colab.research.google.com/github/statmike/vertex-ai-mlops/blob/main/Dev/new/BQML%20Demo%202024.ipynb\">\n",
    "      <img width=\"32px\" src=\"https://www.gstatic.com/pantheon/images/bigquery/welcome_page/colab-logo.svg\" alt=\"Google Colaboratory logo\">\n",
    "      <br>Run in<br>Colab\n",
    "    </a>\n",
    "  </td>\n",
    "  <td style=\"text-align: center\">\n",
    "    <a href=\"https://console.cloud.google.com/vertex-ai/colab/import/https%3A%2F%2Fraw.githubusercontent.com%2Fstatmike%2Fvertex-ai-mlops%2Fmain%2FDev%2Fnew%2FBQML%2520Demo%25202024.ipynb\">\n",
    "      <img width=\"32px\" src=\"https://lh3.googleusercontent.com/JmcxdQi-qOpctIvWKgPtrzZdJJK-J3sWE1RsfjZNwshCFgE_9fULcNpuXYTilIR2hjwN\" alt=\"Google Cloud Colab Enterprise logo\">\n",
    "      <br>Run in<br>Colab Enterprise\n",
    "    </a>\n",
    "  </td>      \n",
    "  <td style=\"text-align: center\">\n",
    "    <a href=\"https://github.com/statmike/vertex-ai-mlops/blob/main/Dev/new/BQML%20Demo%202024.ipynb\">\n",
    "      <img width=\"32px\" src=\"https://www.svgrepo.com/download/217753/github.svg\" alt=\"GitHub logo\">\n",
    "      <br>View on<br>GitHub\n",
    "    </a>\n",
    "  </td>\n",
    "  <td style=\"text-align: center\">\n",
    "    <a href=\"https://console.cloud.google.com/vertex-ai/workbench/deploy-notebook?download_url=https://raw.githubusercontent.com/statmike/vertex-ai-mlops/main/Dev/new/BQML%20Demo%202024.ipynb\">\n",
    "      <img width=\"32px\" src=\"https://www.gstatic.com/images/branding/gcpiconscolors/vertexai/v1/32px.svg\" alt=\"Vertex AI logo\">\n",
    "      <br>Open in<br>Vertex AI Workbench\n",
    "    </a>\n",
    "  </td>\n",
    "</table>"
   ]
  },
  {
   "cell_type": "markdown",
   "id": "26f4cac2-fc8b-4d89-8aca-5d01a6e48968",
   "metadata": {},
   "source": [
    "# BQML DEMO 2024"
   ]
  },
  {
   "cell_type": "markdown",
   "id": "dae71fbc-0879-4d39-a4d9-987ff1b46eb0",
   "metadata": {},
   "source": [
    "---\n",
    "## Colab Setup\n",
    "\n",
    "To run this notebook in Colab click [![Open In Colab](https://colab.research.google.com/assets/colab-badge.svg)](https://colab.research.google.com/github/statmike/vertex-ai-mlops/blob/main/05%20-%20TensorFlow/TensorFlow/TensorFlow%20Basics%20-%20Data%20To%20Training.ipynb) and run the cells in this section.  Otherwise, skip this section.\n",
    "\n",
    "This cell will authenticate to GCP (follow prompts in the popup)."
   ]
  },
  {
   "cell_type": "code",
   "execution_count": 1,
   "id": "ddd3549b-4fe3-4e3f-8638-f5c65f899193",
   "metadata": {
    "tags": []
   },
   "outputs": [],
   "source": [
    "PROJECT_ID = 'statmike-mlops-349915' # replace with project ID"
   ]
  },
  {
   "cell_type": "code",
   "execution_count": 2,
   "id": "a9e24c70-b2db-4fa3-a0ad-68670b019fbf",
   "metadata": {
    "tags": []
   },
   "outputs": [],
   "source": [
    "try:\n",
    "    import google.colab\n",
    "    from google.colab import auth\n",
    "    auth.authenticate_user()\n",
    "    !gcloud config set project {PROJECT_ID}\n",
    "except Exception:\n",
    "    pass"
   ]
  },
  {
   "cell_type": "markdown",
   "id": "ea10129a-c194-4e2a-bd4d-a72070068d61",
   "metadata": {},
   "source": [
    "---\n",
    "## Installs\n",
    "\n",
    "The list `packages` contains tuples of package import names and install names.  If the import name is not found then the install name is used to install quitely for the current user."
   ]
  },
  {
   "cell_type": "code",
   "execution_count": 3,
   "id": "450ca021-bf98-43ec-82df-fd1f7459177b",
   "metadata": {
    "tags": []
   },
   "outputs": [],
   "source": [
    "# tuples of (import name, install name)\n",
    "packages = [\n",
    "    ('google.cloud.bigquery', 'google-cloud-bigquery'),\n",
    "    ('bigframes', 'bigframes'),\n",
    "    ('google.cloud.bigquery_connection_v1', 'google-cloud-bigquery-connection'),\n",
    "    ('plotly', 'plotly'),\n",
    "    ('kaleido', 'kaleido')\n",
    "]\n",
    "\n",
    "import importlib\n",
    "install = False\n",
    "for package in packages:\n",
    "    if not importlib.util.find_spec(package[0]):\n",
    "        print(f'installing package {package[1]}')\n",
    "        install = True\n",
    "        !pip install {package[1]} -U -q --user\n",
    "    elif len(package) == 3:\n",
    "        if importlib.metadata.version(package[0]) < package[2]:\n",
    "            print(f'updating package {package[1]}')\n",
    "            install = True\n",
    "            !pip install {package[1]} -U -q --user"
   ]
  },
  {
   "cell_type": "code",
   "execution_count": 4,
   "id": "e638549e-30fd-4a5a-a603-d6c77dc67da7",
   "metadata": {
    "tags": []
   },
   "outputs": [],
   "source": [
    "#!sudo apt-get -qq install graphviz"
   ]
  },
  {
   "cell_type": "markdown",
   "id": "c4ff5b79-1942-4b99-a81d-5f4cd3ac890d",
   "metadata": {},
   "source": [
    "### Restart Kernel (If Installs Occured)\n",
    "\n",
    "After a kernel restart the code submission can start with the next cell after this one."
   ]
  },
  {
   "cell_type": "code",
   "execution_count": 5,
   "id": "0844c5dd-1bfc-484a-b678-ae918f9c131a",
   "metadata": {
    "tags": []
   },
   "outputs": [],
   "source": [
    "if install:\n",
    "    import IPython\n",
    "    app = IPython.Application.instance()\n",
    "    app.kernel.do_shutdown(True)"
   ]
  },
  {
   "cell_type": "markdown",
   "id": "2b176378-8a35-4e84-99a8-6613c46b7b63",
   "metadata": {},
   "source": [
    "---\n",
    "## Setup"
   ]
  },
  {
   "cell_type": "markdown",
   "id": "ed2aaf7a-a326-4f15-9486-74ac6a734978",
   "metadata": {},
   "source": [
    "inputs:"
   ]
  },
  {
   "cell_type": "code",
   "execution_count": 6,
   "id": "6e6876bf-f26d-4d1f-8286-7e9a9f55e0a1",
   "metadata": {
    "tags": []
   },
   "outputs": [
    {
     "data": {
      "text/plain": [
       "'statmike-mlops-349915'"
      ]
     },
     "execution_count": 6,
     "metadata": {},
     "output_type": "execute_result"
    }
   ],
   "source": [
    "project = !gcloud config get-value project\n",
    "PROJECT_ID = project[0]\n",
    "PROJECT_ID"
   ]
  },
  {
   "cell_type": "code",
   "execution_count": 7,
   "id": "28748251-c295-473e-bcfa-87dc791cb457",
   "metadata": {
    "tags": []
   },
   "outputs": [],
   "source": [
    "# BigQuery Parameters\n",
    "BQ_PROJECT = PROJECT_ID\n",
    "BQ_DATASET = 'bqml_2024'\n",
    "BQ_TABLE_PREFIX = 'thelook'\n",
    "BQ_REGION = 'us'\n",
    "BQ_SOURCE_DATASET = 'bigquery-public-data.thelook_ecommerce'"
   ]
  },
  {
   "cell_type": "markdown",
   "id": "51c71fd6-e185-4baf-896d-e86e717abb54",
   "metadata": {},
   "source": [
    "packages:"
   ]
  },
  {
   "cell_type": "code",
   "execution_count": 8,
   "id": "7e84a70a-ee10-48b8-a5c8-d0aed3f28a05",
   "metadata": {
    "tags": []
   },
   "outputs": [],
   "source": [
    "from google.cloud import bigquery\n",
    "from google.cloud import bigquery_connection_v1 as bq_connection\n",
    "import bigframes.pandas as bpd\n",
    "import pandas as pd\n",
    "import numpy as np\n",
    "\n",
    "from datetime import datetime, timedelta\n",
    "import plotly.express as px\n",
    "import plotly.graph_objects as go\n",
    "import plotly.io as pio\n",
    "pio.renderers.default = 'iframe'"
   ]
  },
  {
   "cell_type": "markdown",
   "id": "8194fc51-2648-4d32-9190-9a2c03b3a67d",
   "metadata": {},
   "source": [
    "clients:"
   ]
  },
  {
   "cell_type": "code",
   "execution_count": 9,
   "id": "bc79785a-4745-4f94-8ca4-cd7ecf51a32c",
   "metadata": {
    "tags": []
   },
   "outputs": [],
   "source": [
    "bq = bigquery.Client(project = PROJECT_ID)\n",
    "bpd.options.bigquery.project = PROJECT_ID"
   ]
  },
  {
   "cell_type": "markdown",
   "id": "31216e92-df62-4f0f-be24-239e88283aa6",
   "metadata": {},
   "source": [
    "---\n",
    "## Environment Setup"
   ]
  },
  {
   "cell_type": "markdown",
   "id": "98877b78-676f-4099-9dba-2efbe6fe1251",
   "metadata": {},
   "source": [
    "### BigQuery Dataset"
   ]
  },
  {
   "cell_type": "code",
   "execution_count": 70,
   "id": "386097bd-b6dd-4714-bb62-c678316be4d0",
   "metadata": {
    "tags": []
   },
   "outputs": [
    {
     "name": "stdout",
     "output_type": "stream",
     "text": [
      "Found the BigQuery Dataset:  statmike-mlops-349915:bqml_2024\n"
     ]
    }
   ],
   "source": [
    "try:\n",
    "    ds = bq.get_dataset(f'{BQ_PROJECT}.{BQ_DATASET}')\n",
    "    print('Found the BigQuery Dataset: ', ds.full_dataset_id)\n",
    "except:\n",
    "    ds = bigquery.DatasetReference(BQ_PROJECT, BQ_DATASET)\n",
    "    ds.location = BQ_REGION\n",
    "    ds = bq.create_dataset(dataset = ds, exists_ok = True)\n",
    "    print('Created the BigQuery Dataset: ', ds.full_dataset_id)"
   ]
  },
  {
   "cell_type": "markdown",
   "id": "d6f29ae8-76c4-4316-9c2d-b2e92adb2cde",
   "metadata": {},
   "source": [
    "### Connection Requirement\n",
    "\n",
    "To make a remote connection using BigQuery ML, BigQuery uses a CLOUD_RESOURCE connection. [Reference](https://cloud.google.com/bigquery/docs/reference/standard-sql/bigqueryml-syntax-create-remote-model#connection)"
   ]
  },
  {
   "cell_type": "markdown",
   "id": "851b0942-e806-4ad5-bee8-520d6ab48ff8",
   "metadata": {},
   "source": [
    "Create a new connection with type `CLOUD_RESOURCE`: First, check for existing connection."
   ]
  },
  {
   "cell_type": "code",
   "execution_count": 72,
   "id": "6d59cdcb-f25f-4390-a267-e0738cd15532",
   "metadata": {
    "tags": []
   },
   "outputs": [
    {
     "name": "stdout",
     "output_type": "stream",
     "text": [
      "Created new connection with service account: bqcx-1026793852137-d2h9@gcp-sa-bigquery-condel.iam.gserviceaccount.com\n"
     ]
    }
   ],
   "source": [
    "try:\n",
    "    response = bq_connection.ConnectionServiceClient().get_connection(\n",
    "            request = bq_connection.GetConnectionRequest(\n",
    "                name = f\"projects/{BQ_PROJECT}/locations/{BQ_REGION}/connections/{BQ_DATASET}\"\n",
    "            )\n",
    "    )\n",
    "    print(f'Found existing connection with service account: {response.cloud_resource.service_account_id}')\n",
    "    service_account = response.cloud_resource.service_account_id\n",
    "except Exception:\n",
    "    request = bq_connection.CreateConnectionRequest(\n",
    "        {\n",
    "            \"parent\": f\"projects/{BQ_PROJECT}/locations/{BQ_REGION}\",\n",
    "            \"connection_id\": f\"{BQ_DATASET}\",\n",
    "            \"connection\": bq_connection.types.Connection(\n",
    "                {\n",
    "                    \"friendly_name\": f\"{BQ_DATASET}\",\n",
    "                    \"cloud_resource\": bq_connection.CloudResourceProperties({})\n",
    "                }\n",
    "            )\n",
    "        }\n",
    "    )\n",
    "    response = bq_connection.ConnectionServiceClient().create_connection(request)\n",
    "    print(f'Created new connection with service account: {response.cloud_resource.service_account_id}')\n",
    "    service_account = response.cloud_resource.service_account_id"
   ]
  },
  {
   "cell_type": "markdown",
   "id": "38f89890-0b8c-47d2-b8fe-7d769fcc89ea",
   "metadata": {},
   "source": [
    "Assign the service account the Vertex AI User role:"
   ]
  },
  {
   "cell_type": "code",
   "execution_count": 73,
   "id": "b9ed9268-96f1-4b14-991c-4f04541c3cc1",
   "metadata": {
    "scrolled": true,
    "tags": []
   },
   "outputs": [
    {
     "name": "stdout",
     "output_type": "stream",
     "text": [
      "Updated IAM policy for project [statmike-mlops-349915].\n",
      "bindings:\n",
      "- members:\n",
      "  - serviceAccount:service-1026793852137@gcp-sa-aiplatform-cc.iam.gserviceaccount.com\n",
      "  role: roles/aiplatform.customCodeServiceAgent\n",
      "- members:\n",
      "  - serviceAccount:service-1026793852137@gcp-sa-aiplatform-vm.iam.gserviceaccount.com\n",
      "  role: roles/aiplatform.notebookServiceAgent\n",
      "- members:\n",
      "  - serviceAccount:service-1026793852137@gcp-sa-aiplatform.iam.gserviceaccount.com\n",
      "  role: roles/aiplatform.serviceAgent\n",
      "- members:\n",
      "  - serviceAccount:bqcx-1026793852137-bmph@gcp-sa-bigquery-condel.iam.gserviceaccount.com\n",
      "  - serviceAccount:bqcx-1026793852137-d2h9@gcp-sa-bigquery-condel.iam.gserviceaccount.com\n",
      "  - serviceAccount:bqcx-1026793852137-dyw1@gcp-sa-bigquery-condel.iam.gserviceaccount.com\n",
      "  - serviceAccount:bqcx-1026793852137-pdxa@gcp-sa-bigquery-condel.iam.gserviceaccount.com\n",
      "  - serviceAccount:bqcx-1026793852137-te86@gcp-sa-bigquery-condel.iam.gserviceaccount.com\n",
      "  - serviceAccount:bqcx-1026793852137-tqpc@gcp-sa-bigquery-condel.iam.gserviceaccount.com\n",
      "  - serviceAccount:bqcx-1026793852137-zfly@gcp-sa-bigquery-condel.iam.gserviceaccount.com\n",
      "  role: roles/aiplatform.user\n",
      "- members:\n",
      "  - serviceAccount:service-1026793852137@gcp-sa-artifactregistry.iam.gserviceaccount.com\n",
      "  role: roles/artifactregistry.serviceAgent\n",
      "- members:\n",
      "  - serviceAccount:1026793852137-compute@developer.gserviceaccount.com\n",
      "  role: roles/bigquery.admin\n",
      "- members:\n",
      "  - serviceAccount:1026793852137@cloudservices.gserviceaccount.com\n",
      "  role: roles/bigquery.dataOwner\n",
      "- members:\n",
      "  - serviceAccount:1026793852137@cloudbuild.gserviceaccount.com\n",
      "  role: roles/cloudbuild.builds.builder\n",
      "- members:\n",
      "  - serviceAccount:service-1026793852137@gcp-sa-cloudbuild.iam.gserviceaccount.com\n",
      "  role: roles/cloudbuild.serviceAgent\n",
      "- members:\n",
      "  - serviceAccount:service-1026793852137@gcf-admin-robot.iam.gserviceaccount.com\n",
      "  role: roles/cloudfunctions.serviceAgent\n",
      "- members:\n",
      "  - serviceAccount:service-1026793852137@gcp-sa-cloudscheduler.iam.gserviceaccount.com\n",
      "  role: roles/cloudscheduler.serviceAgent\n",
      "- members:\n",
      "  - serviceAccount:service-1026793852137@compute-system.iam.gserviceaccount.com\n",
      "  role: roles/compute.serviceAgent\n",
      "- members:\n",
      "  - serviceAccount:service-1026793852137@containerregistry.iam.gserviceaccount.com\n",
      "  role: roles/containerregistry.ServiceAgent\n",
      "- members:\n",
      "  - serviceAccount:service-1026793852137@dataflow-service-producer-prod.iam.gserviceaccount.com\n",
      "  role: roles/dataflow.serviceAgent\n",
      "- members:\n",
      "  - serviceAccount:service-1026793852137@gcp-sa-dataform.iam.gserviceaccount.com\n",
      "  role: roles/dataform.serviceAgent\n",
      "- members:\n",
      "  - serviceAccount:service-1026793852137@dataproc-accounts.iam.gserviceaccount.com\n",
      "  role: roles/dataproc.serviceAgent\n",
      "- members:\n",
      "  - serviceAccount:service-1026793852137@gcp-sa-discoveryengine.iam.gserviceaccount.com\n",
      "  role: roles/discoveryengine.serviceAgent\n",
      "- members:\n",
      "  - serviceAccount:service-1026793852137@dlp-api.iam.gserviceaccount.com\n",
      "  role: roles/dlp.serviceAgent\n",
      "- members:\n",
      "  - serviceAccount:bqcx-1026793852137-te86@gcp-sa-bigquery-condel.iam.gserviceaccount.com\n",
      "  role: roles/documentai.apiUser\n",
      "- members:\n",
      "  - serviceAccount:bqcx-1026793852137-te86@gcp-sa-bigquery-condel.iam.gserviceaccount.com\n",
      "  role: roles/documentai.viewer\n",
      "- members:\n",
      "  - serviceAccount:service-1026793852137@gcp-sa-prod-dai-core.iam.gserviceaccount.com\n",
      "  role: roles/documentaicore.serviceAgent\n",
      "- members:\n",
      "  - serviceAccount:1026793852137@cloudservices.gserviceaccount.com\n",
      "  role: roles/editor\n",
      "- members:\n",
      "  - serviceAccount:service-1026793852137@gcp-sa-networkmanagement.iam.gserviceaccount.com\n",
      "  role: roles/networkmanagement.serviceAgent\n",
      "- members:\n",
      "  - serviceAccount:service-1026793852137@gcp-sa-notebooks.iam.gserviceaccount.com\n",
      "  role: roles/notebooks.serviceAgent\n",
      "- members:\n",
      "  - serviceAccount:1026793852137-compute@developer.gserviceaccount.com\n",
      "  - serviceAccount:1026793852137@cloudservices.gserviceaccount.com\n",
      "  - user:admin@statmike.altostrat.com\n",
      "  role: roles/owner\n",
      "- members:\n",
      "  - serviceAccount:service-1026793852137@gcp-sa-pubsub.iam.gserviceaccount.com\n",
      "  role: roles/pubsub.serviceAgent\n",
      "- members:\n",
      "  - serviceAccount:1026793852137-compute@developer.gserviceaccount.com\n",
      "  role: roles/run.admin\n",
      "- members:\n",
      "  - serviceAccount:service-1026793852137@serverless-robot-prod.iam.gserviceaccount.com\n",
      "  role: roles/run.serviceAgent\n",
      "- members:\n",
      "  - serviceAccount:1026793852137-compute@developer.gserviceaccount.com\n",
      "  role: roles/secretmanager.secretAccessor\n",
      "- members:\n",
      "  - serviceAccount:service-1026793852137@service-networking.iam.gserviceaccount.com\n",
      "  role: roles/servicenetworking.serviceAgent\n",
      "- members:\n",
      "  - serviceAccount:service-1026793852137@gcp-sa-speech.iam.gserviceaccount.com\n",
      "  role: roles/speech.serviceAgent\n",
      "- members:\n",
      "  - serviceAccount:1026793852137-compute@developer.gserviceaccount.com\n",
      "  role: roles/storage.objectAdmin\n",
      "- members:\n",
      "  - serviceAccount:bqcx-1026793852137-te86@gcp-sa-bigquery-condel.iam.gserviceaccount.com\n",
      "  role: roles/storage.objectViewer\n",
      "- members:\n",
      "  - user:showvik@statmike.altostrat.com\n",
      "  role: roles/viewer\n",
      "- members:\n",
      "  - serviceAccount:service-1026793852137@gcp-sa-workstations.iam.gserviceaccount.com\n",
      "  role: roles/workstations.serviceAgent\n",
      "etag: BwYQKvSkV2g=\n",
      "version: 1\n"
     ]
    }
   ],
   "source": [
    "# for llm usage on vertex\n",
    "!gcloud projects add-iam-policy-binding {BQ_PROJECT} --member=serviceAccount:{service_account} --role=roles/aiplatform.user"
   ]
  },
  {
   "cell_type": "code",
   "execution_count": 176,
   "id": "ff469c2d-18ca-4084-8c10-751ff5d046ed",
   "metadata": {
    "scrolled": true,
    "tags": []
   },
   "outputs": [
    {
     "name": "stdout",
     "output_type": "stream",
     "text": [
      "Updated IAM policy for project [statmike-mlops-349915].\n",
      "bindings:\n",
      "- members:\n",
      "  - serviceAccount:service-1026793852137@gcp-sa-aiplatform-cc.iam.gserviceaccount.com\n",
      "  role: roles/aiplatform.customCodeServiceAgent\n",
      "- members:\n",
      "  - serviceAccount:service-1026793852137@gcp-sa-aiplatform-vm.iam.gserviceaccount.com\n",
      "  role: roles/aiplatform.notebookServiceAgent\n",
      "- members:\n",
      "  - serviceAccount:service-1026793852137@gcp-sa-aiplatform.iam.gserviceaccount.com\n",
      "  role: roles/aiplatform.serviceAgent\n",
      "- members:\n",
      "  - serviceAccount:bqcx-1026793852137-bmph@gcp-sa-bigquery-condel.iam.gserviceaccount.com\n",
      "  - serviceAccount:bqcx-1026793852137-d2h9@gcp-sa-bigquery-condel.iam.gserviceaccount.com\n",
      "  - serviceAccount:bqcx-1026793852137-dyw1@gcp-sa-bigquery-condel.iam.gserviceaccount.com\n",
      "  - serviceAccount:bqcx-1026793852137-pdxa@gcp-sa-bigquery-condel.iam.gserviceaccount.com\n",
      "  - serviceAccount:bqcx-1026793852137-te86@gcp-sa-bigquery-condel.iam.gserviceaccount.com\n",
      "  - serviceAccount:bqcx-1026793852137-tqpc@gcp-sa-bigquery-condel.iam.gserviceaccount.com\n",
      "  - serviceAccount:bqcx-1026793852137-zfly@gcp-sa-bigquery-condel.iam.gserviceaccount.com\n",
      "  role: roles/aiplatform.user\n",
      "- members:\n",
      "  - serviceAccount:service-1026793852137@gcp-sa-artifactregistry.iam.gserviceaccount.com\n",
      "  role: roles/artifactregistry.serviceAgent\n",
      "- members:\n",
      "  - serviceAccount:1026793852137-compute@developer.gserviceaccount.com\n",
      "  role: roles/bigquery.admin\n",
      "- members:\n",
      "  - serviceAccount:1026793852137@cloudservices.gserviceaccount.com\n",
      "  role: roles/bigquery.dataOwner\n",
      "- members:\n",
      "  - serviceAccount:1026793852137@cloudbuild.gserviceaccount.com\n",
      "  role: roles/cloudbuild.builds.builder\n",
      "- members:\n",
      "  - serviceAccount:service-1026793852137@gcp-sa-cloudbuild.iam.gserviceaccount.com\n",
      "  role: roles/cloudbuild.serviceAgent\n",
      "- members:\n",
      "  - serviceAccount:service-1026793852137@gcf-admin-robot.iam.gserviceaccount.com\n",
      "  role: roles/cloudfunctions.serviceAgent\n",
      "- members:\n",
      "  - serviceAccount:service-1026793852137@gcp-sa-cloudscheduler.iam.gserviceaccount.com\n",
      "  role: roles/cloudscheduler.serviceAgent\n",
      "- members:\n",
      "  - serviceAccount:service-1026793852137@compute-system.iam.gserviceaccount.com\n",
      "  role: roles/compute.serviceAgent\n",
      "- members:\n",
      "  - serviceAccount:service-1026793852137@containerregistry.iam.gserviceaccount.com\n",
      "  role: roles/containerregistry.ServiceAgent\n",
      "- members:\n",
      "  - serviceAccount:service-1026793852137@dataflow-service-producer-prod.iam.gserviceaccount.com\n",
      "  role: roles/dataflow.serviceAgent\n",
      "- members:\n",
      "  - serviceAccount:service-1026793852137@gcp-sa-dataform.iam.gserviceaccount.com\n",
      "  role: roles/dataform.serviceAgent\n",
      "- members:\n",
      "  - serviceAccount:service-1026793852137@dataproc-accounts.iam.gserviceaccount.com\n",
      "  role: roles/dataproc.serviceAgent\n",
      "- members:\n",
      "  - serviceAccount:service-1026793852137@gcp-sa-discoveryengine.iam.gserviceaccount.com\n",
      "  role: roles/discoveryengine.serviceAgent\n",
      "- members:\n",
      "  - serviceAccount:service-1026793852137@dlp-api.iam.gserviceaccount.com\n",
      "  role: roles/dlp.serviceAgent\n",
      "- members:\n",
      "  - serviceAccount:bqcx-1026793852137-te86@gcp-sa-bigquery-condel.iam.gserviceaccount.com\n",
      "  role: roles/documentai.apiUser\n",
      "- members:\n",
      "  - serviceAccount:bqcx-1026793852137-te86@gcp-sa-bigquery-condel.iam.gserviceaccount.com\n",
      "  role: roles/documentai.viewer\n",
      "- members:\n",
      "  - serviceAccount:service-1026793852137@gcp-sa-prod-dai-core.iam.gserviceaccount.com\n",
      "  role: roles/documentaicore.serviceAgent\n",
      "- members:\n",
      "  - serviceAccount:1026793852137@cloudservices.gserviceaccount.com\n",
      "  role: roles/editor\n",
      "- members:\n",
      "  - serviceAccount:service-1026793852137@gcp-sa-networkmanagement.iam.gserviceaccount.com\n",
      "  role: roles/networkmanagement.serviceAgent\n",
      "- members:\n",
      "  - serviceAccount:service-1026793852137@gcp-sa-notebooks.iam.gserviceaccount.com\n",
      "  role: roles/notebooks.serviceAgent\n",
      "- members:\n",
      "  - serviceAccount:1026793852137-compute@developer.gserviceaccount.com\n",
      "  - serviceAccount:1026793852137@cloudservices.gserviceaccount.com\n",
      "  - user:admin@statmike.altostrat.com\n",
      "  role: roles/owner\n",
      "- members:\n",
      "  - serviceAccount:service-1026793852137@gcp-sa-pubsub.iam.gserviceaccount.com\n",
      "  role: roles/pubsub.serviceAgent\n",
      "- members:\n",
      "  - serviceAccount:1026793852137-compute@developer.gserviceaccount.com\n",
      "  role: roles/run.admin\n",
      "- members:\n",
      "  - serviceAccount:service-1026793852137@serverless-robot-prod.iam.gserviceaccount.com\n",
      "  role: roles/run.serviceAgent\n",
      "- members:\n",
      "  - serviceAccount:1026793852137-compute@developer.gserviceaccount.com\n",
      "  role: roles/secretmanager.secretAccessor\n",
      "- members:\n",
      "  - serviceAccount:service-1026793852137@service-networking.iam.gserviceaccount.com\n",
      "  role: roles/servicenetworking.serviceAgent\n",
      "- members:\n",
      "  - serviceAccount:bqcx-1026793852137-d2h9@gcp-sa-bigquery-condel.iam.gserviceaccount.com\n",
      "  role: roles/serviceusage.serviceUsageConsumer\n",
      "- members:\n",
      "  - serviceAccount:service-1026793852137@gcp-sa-speech.iam.gserviceaccount.com\n",
      "  role: roles/speech.serviceAgent\n",
      "- members:\n",
      "  - serviceAccount:1026793852137-compute@developer.gserviceaccount.com\n",
      "  role: roles/storage.objectAdmin\n",
      "- members:\n",
      "  - serviceAccount:bqcx-1026793852137-te86@gcp-sa-bigquery-condel.iam.gserviceaccount.com\n",
      "  role: roles/storage.objectViewer\n",
      "- members:\n",
      "  - user:showvik@statmike.altostrat.com\n",
      "  role: roles/viewer\n",
      "- members:\n",
      "  - serviceAccount:service-1026793852137@gcp-sa-workstations.iam.gserviceaccount.com\n",
      "  role: roles/workstations.serviceAgent\n",
      "etag: BwYQL6kvH3I=\n",
      "version: 1\n"
     ]
    }
   ],
   "source": [
    "# for cloud nlp usage:\n",
    "!gcloud projects add-iam-policy-binding {BQ_PROJECT} --member=serviceAccount:{service_account} --role=roles/serviceusage.serviceUsageConsumer"
   ]
  },
  {
   "cell_type": "code",
   "execution_count": 187,
   "id": "da7f3bf5-ff9f-426f-b86d-cb45ab6b0a12",
   "metadata": {
    "scrolled": true,
    "tags": []
   },
   "outputs": [
    {
     "name": "stdout",
     "output_type": "stream",
     "text": [
      "Updated IAM policy for project [statmike-mlops-349915].\n",
      "bindings:\n",
      "- members:\n",
      "  - serviceAccount:service-1026793852137@gcp-sa-aiplatform-cc.iam.gserviceaccount.com\n",
      "  role: roles/aiplatform.customCodeServiceAgent\n",
      "- members:\n",
      "  - serviceAccount:service-1026793852137@gcp-sa-aiplatform-vm.iam.gserviceaccount.com\n",
      "  role: roles/aiplatform.notebookServiceAgent\n",
      "- members:\n",
      "  - serviceAccount:service-1026793852137@gcp-sa-aiplatform.iam.gserviceaccount.com\n",
      "  role: roles/aiplatform.serviceAgent\n",
      "- members:\n",
      "  - serviceAccount:bqcx-1026793852137-bmph@gcp-sa-bigquery-condel.iam.gserviceaccount.com\n",
      "  - serviceAccount:bqcx-1026793852137-d2h9@gcp-sa-bigquery-condel.iam.gserviceaccount.com\n",
      "  - serviceAccount:bqcx-1026793852137-dyw1@gcp-sa-bigquery-condel.iam.gserviceaccount.com\n",
      "  - serviceAccount:bqcx-1026793852137-pdxa@gcp-sa-bigquery-condel.iam.gserviceaccount.com\n",
      "  - serviceAccount:bqcx-1026793852137-te86@gcp-sa-bigquery-condel.iam.gserviceaccount.com\n",
      "  - serviceAccount:bqcx-1026793852137-tqpc@gcp-sa-bigquery-condel.iam.gserviceaccount.com\n",
      "  - serviceAccount:bqcx-1026793852137-zfly@gcp-sa-bigquery-condel.iam.gserviceaccount.com\n",
      "  role: roles/aiplatform.user\n",
      "- members:\n",
      "  - serviceAccount:service-1026793852137@gcp-sa-artifactregistry.iam.gserviceaccount.com\n",
      "  role: roles/artifactregistry.serviceAgent\n",
      "- members:\n",
      "  - serviceAccount:1026793852137-compute@developer.gserviceaccount.com\n",
      "  role: roles/bigquery.admin\n",
      "- members:\n",
      "  - serviceAccount:1026793852137@cloudservices.gserviceaccount.com\n",
      "  role: roles/bigquery.dataOwner\n",
      "- members:\n",
      "  - serviceAccount:1026793852137@cloudbuild.gserviceaccount.com\n",
      "  role: roles/cloudbuild.builds.builder\n",
      "- members:\n",
      "  - serviceAccount:service-1026793852137@gcp-sa-cloudbuild.iam.gserviceaccount.com\n",
      "  role: roles/cloudbuild.serviceAgent\n",
      "- members:\n",
      "  - serviceAccount:service-1026793852137@gcf-admin-robot.iam.gserviceaccount.com\n",
      "  role: roles/cloudfunctions.serviceAgent\n",
      "- members:\n",
      "  - serviceAccount:service-1026793852137@gcp-sa-cloudscheduler.iam.gserviceaccount.com\n",
      "  role: roles/cloudscheduler.serviceAgent\n",
      "- members:\n",
      "  - serviceAccount:bqcx-1026793852137-d2h9@gcp-sa-bigquery-condel.iam.gserviceaccount.com\n",
      "  role: roles/cloudtranslate.user\n",
      "- members:\n",
      "  - serviceAccount:service-1026793852137@compute-system.iam.gserviceaccount.com\n",
      "  role: roles/compute.serviceAgent\n",
      "- members:\n",
      "  - serviceAccount:service-1026793852137@containerregistry.iam.gserviceaccount.com\n",
      "  role: roles/containerregistry.ServiceAgent\n",
      "- members:\n",
      "  - serviceAccount:service-1026793852137@dataflow-service-producer-prod.iam.gserviceaccount.com\n",
      "  role: roles/dataflow.serviceAgent\n",
      "- members:\n",
      "  - serviceAccount:service-1026793852137@gcp-sa-dataform.iam.gserviceaccount.com\n",
      "  role: roles/dataform.serviceAgent\n",
      "- members:\n",
      "  - serviceAccount:service-1026793852137@dataproc-accounts.iam.gserviceaccount.com\n",
      "  role: roles/dataproc.serviceAgent\n",
      "- members:\n",
      "  - serviceAccount:service-1026793852137@gcp-sa-discoveryengine.iam.gserviceaccount.com\n",
      "  role: roles/discoveryengine.serviceAgent\n",
      "- members:\n",
      "  - serviceAccount:service-1026793852137@dlp-api.iam.gserviceaccount.com\n",
      "  role: roles/dlp.serviceAgent\n",
      "- members:\n",
      "  - serviceAccount:bqcx-1026793852137-te86@gcp-sa-bigquery-condel.iam.gserviceaccount.com\n",
      "  role: roles/documentai.apiUser\n",
      "- members:\n",
      "  - serviceAccount:bqcx-1026793852137-te86@gcp-sa-bigquery-condel.iam.gserviceaccount.com\n",
      "  role: roles/documentai.viewer\n",
      "- members:\n",
      "  - serviceAccount:service-1026793852137@gcp-sa-prod-dai-core.iam.gserviceaccount.com\n",
      "  role: roles/documentaicore.serviceAgent\n",
      "- members:\n",
      "  - serviceAccount:1026793852137@cloudservices.gserviceaccount.com\n",
      "  role: roles/editor\n",
      "- members:\n",
      "  - serviceAccount:service-1026793852137@gcp-sa-networkmanagement.iam.gserviceaccount.com\n",
      "  role: roles/networkmanagement.serviceAgent\n",
      "- members:\n",
      "  - serviceAccount:service-1026793852137@gcp-sa-notebooks.iam.gserviceaccount.com\n",
      "  role: roles/notebooks.serviceAgent\n",
      "- members:\n",
      "  - serviceAccount:1026793852137-compute@developer.gserviceaccount.com\n",
      "  - serviceAccount:1026793852137@cloudservices.gserviceaccount.com\n",
      "  - user:admin@statmike.altostrat.com\n",
      "  role: roles/owner\n",
      "- members:\n",
      "  - serviceAccount:service-1026793852137@gcp-sa-pubsub.iam.gserviceaccount.com\n",
      "  role: roles/pubsub.serviceAgent\n",
      "- members:\n",
      "  - serviceAccount:1026793852137-compute@developer.gserviceaccount.com\n",
      "  role: roles/run.admin\n",
      "- members:\n",
      "  - serviceAccount:service-1026793852137@serverless-robot-prod.iam.gserviceaccount.com\n",
      "  role: roles/run.serviceAgent\n",
      "- members:\n",
      "  - serviceAccount:1026793852137-compute@developer.gserviceaccount.com\n",
      "  role: roles/secretmanager.secretAccessor\n",
      "- members:\n",
      "  - serviceAccount:service-1026793852137@service-networking.iam.gserviceaccount.com\n",
      "  role: roles/servicenetworking.serviceAgent\n",
      "- members:\n",
      "  - serviceAccount:bqcx-1026793852137-d2h9@gcp-sa-bigquery-condel.iam.gserviceaccount.com\n",
      "  role: roles/serviceusage.serviceUsageConsumer\n",
      "- members:\n",
      "  - serviceAccount:service-1026793852137@gcp-sa-speech.iam.gserviceaccount.com\n",
      "  role: roles/speech.serviceAgent\n",
      "- members:\n",
      "  - serviceAccount:1026793852137-compute@developer.gserviceaccount.com\n",
      "  role: roles/storage.objectAdmin\n",
      "- members:\n",
      "  - serviceAccount:bqcx-1026793852137-te86@gcp-sa-bigquery-condel.iam.gserviceaccount.com\n",
      "  role: roles/storage.objectViewer\n",
      "- members:\n",
      "  - user:showvik@statmike.altostrat.com\n",
      "  role: roles/viewer\n",
      "- members:\n",
      "  - serviceAccount:service-1026793852137@gcp-sa-workstations.iam.gserviceaccount.com\n",
      "  role: roles/workstations.serviceAgent\n",
      "etag: BwYQL-3BDco=\n",
      "version: 1\n"
     ]
    }
   ],
   "source": [
    "# for cloud translate usage:\n",
    "!gcloud projects add-iam-policy-binding {BQ_PROJECT} --member=serviceAccount:{service_account} --role=roles/cloudtranslate.user"
   ]
  },
  {
   "cell_type": "markdown",
   "id": "e335023a-a681-4da8-8430-e89c8730e22d",
   "metadata": {},
   "source": [
    "### Create The Remote Models In BigQuery"
   ]
  },
  {
   "cell_type": "code",
   "execution_count": 78,
   "id": "e5af45db-c34a-45bb-9cb5-fc6b30708602",
   "metadata": {
    "tags": []
   },
   "outputs": [
    {
     "data": {
      "text/plain": [
       "'DONE'"
      ]
     },
     "execution_count": 78,
     "metadata": {},
     "output_type": "execute_result"
    }
   ],
   "source": [
    "# Create Remote Model In BigQuery\n",
    "query = f\"\"\"\n",
    "CREATE OR REPLACE MODEL `{BQ_PROJECT}.{BQ_DATASET}.VERTEX_LLM`\n",
    "    REMOTE WITH CONNECTION `{BQ_PROJECT}.{BQ_REGION}.{BQ_DATASET}`\n",
    "    OPTIONS(ENDPOINT = 'text-bison@002')\n",
    "\"\"\"\n",
    "job = bq.query(query = query)\n",
    "job.result()\n",
    "job.state"
   ]
  },
  {
   "cell_type": "code",
   "execution_count": 79,
   "id": "caf16cad-a981-452d-831a-04aab72eefad",
   "metadata": {
    "tags": []
   },
   "outputs": [
    {
     "name": "stdout",
     "output_type": "stream",
     "text": [
      "\n",
      "CREATE OR REPLACE MODEL `statmike-mlops-349915.bqml_2024.VERTEX_LLM`\n",
      "    REMOTE WITH CONNECTION `statmike-mlops-349915.us.bqml_2024`\n",
      "    OPTIONS(ENDPOINT = 'text-bison@002')\n",
      "\n"
     ]
    }
   ],
   "source": [
    "print(query)"
   ]
  },
  {
   "cell_type": "code",
   "execution_count": 80,
   "id": "ae986375-e033-4ac2-9468-08328b61984b",
   "metadata": {
    "tags": []
   },
   "outputs": [
    {
     "data": {
      "text/plain": [
       "'DONE'"
      ]
     },
     "execution_count": 80,
     "metadata": {},
     "output_type": "execute_result"
    }
   ],
   "source": [
    "# Create Remote Model In BigQuery\n",
    "query = f\"\"\"\n",
    "CREATE OR REPLACE MODEL `{BQ_PROJECT}.{BQ_DATASET}.CLOUD_TRANSLATE`\n",
    "    REMOTE WITH CONNECTION `{BQ_PROJECT}.{BQ_REGION}.{BQ_DATASET}`\n",
    "    OPTIONS(REMOTE_SERVICE_TYPE = 'CLOUD_AI_TRANSLATE_V3')\n",
    "\"\"\"\n",
    "job = bq.query(query = query)\n",
    "job.result()\n",
    "job.state"
   ]
  },
  {
   "cell_type": "code",
   "execution_count": 81,
   "id": "39250113-c89d-4af4-b7be-9d8e93c90896",
   "metadata": {
    "tags": []
   },
   "outputs": [
    {
     "name": "stdout",
     "output_type": "stream",
     "text": [
      "\n",
      "CREATE OR REPLACE MODEL `statmike-mlops-349915.bqml_2024.CLOUD_TRANSLATE`\n",
      "    REMOTE WITH CONNECTION `statmike-mlops-349915.us.bqml_2024`\n",
      "    OPTIONS(REMOTE_SERVICE_TYPE = 'CLOUD_AI_TRANSLATE_V3')\n",
      "\n"
     ]
    }
   ],
   "source": [
    "print(query)"
   ]
  },
  {
   "cell_type": "code",
   "execution_count": 82,
   "id": "1c9b7e40-7ac5-40f6-a3ad-75da5956f818",
   "metadata": {
    "tags": []
   },
   "outputs": [
    {
     "data": {
      "text/plain": [
       "'DONE'"
      ]
     },
     "execution_count": 82,
     "metadata": {},
     "output_type": "execute_result"
    }
   ],
   "source": [
    "# Create Remote Model In BigQuery\n",
    "query = f\"\"\"\n",
    "CREATE OR REPLACE MODEL `{BQ_PROJECT}.{BQ_DATASET}.CLOUD_NLP`\n",
    "    REMOTE WITH CONNECTION `{BQ_PROJECT}.{BQ_REGION}.{BQ_DATASET}`\n",
    "    OPTIONS(REMOTE_SERVICE_TYPE = 'CLOUD_AI_NATURAL_LANGUAGE_V1')\n",
    "\"\"\"\n",
    "job = bq.query(query = query)\n",
    "job.result()\n",
    "job.state"
   ]
  },
  {
   "cell_type": "code",
   "execution_count": 83,
   "id": "f5744418-e55b-4311-9079-899a240595af",
   "metadata": {
    "tags": []
   },
   "outputs": [
    {
     "name": "stdout",
     "output_type": "stream",
     "text": [
      "\n",
      "CREATE OR REPLACE MODEL `statmike-mlops-349915.bqml_2024.CLOUD_NLP`\n",
      "    REMOTE WITH CONNECTION `statmike-mlops-349915.us.bqml_2024`\n",
      "    OPTIONS(REMOTE_SERVICE_TYPE = 'CLOUD_AI_NATURAL_LANGUAGE_V1')\n",
      "\n"
     ]
    }
   ],
   "source": [
    "print(query)"
   ]
  },
  {
   "cell_type": "markdown",
   "id": "d60a1bab-e5d5-47cd-b418-8b916cc449cf",
   "metadata": {},
   "source": [
    "---\n",
    "## Intro & Explore"
   ]
  },
  {
   "cell_type": "code",
   "execution_count": 20,
   "id": "189986bb-d9c8-44bb-8447-3c05d4c5d734",
   "metadata": {},
   "outputs": [
    {
     "name": "stdout",
     "output_type": "stream",
     "text": [
      "\n",
      "# 1\n",
      "CREATE OR REPLACE TABLE `statmike-mlops-349915.bqml_2024.thelook_topMensProducts` AS\n",
      "WITH\n",
      "    TOP5 AS (\n",
      "        SELECT product_id, count(*) as total\n",
      "        FROM `bigquery-public-data.thelook_ecommerce.order_items`\n",
      "        GROUP BY product_id\n",
      "    )\n",
      "SELECT\n",
      "    t.product_id,\n",
      "    t.total,\n",
      "    p.category,\n",
      "    p.department,\n",
      "    p.name\n",
      "FROM TOP5 as t\n",
      "JOIN `bigquery-public-data.thelook_ecommerce.products` as p on p.id = t.product_id\n",
      "WHERE p.department = 'Men'\n",
      "ORDER by t.total DESC\n",
      "LIMIT 5\n",
      "\n"
     ]
    }
   ],
   "source": [
    "query = f'''\n",
    "# 1\n",
    "CREATE OR REPLACE TABLE `{BQ_PROJECT}.{BQ_DATASET}.{BQ_TABLE_PREFIX}_topMensProducts` AS\n",
    "WITH\n",
    "    TOP5 AS (\n",
    "        SELECT product_id, count(*) as total\n",
    "        FROM `{BQ_SOURCE_DATASET}.order_items`\n",
    "        GROUP BY product_id\n",
    "    )\n",
    "SELECT\n",
    "    t.product_id,\n",
    "    t.total,\n",
    "    p.category,\n",
    "    p.department,\n",
    "    p.name\n",
    "FROM TOP5 as t\n",
    "JOIN `{BQ_SOURCE_DATASET}.products` as p on p.id = t.product_id\n",
    "WHERE p.department = 'Men'\n",
    "ORDER by t.total DESC\n",
    "LIMIT 5\n",
    "'''\n",
    "print(query)"
   ]
  },
  {
   "cell_type": "code",
   "execution_count": 21,
   "id": "fb2e5569-a807-4cf2-b6e0-0afa2ebdeff4",
   "metadata": {},
   "outputs": [
    {
     "data": {
      "text/plain": [
       "<google.cloud.bigquery.table._EmptyRowIterator at 0x7ffb0bc20ee0>"
      ]
     },
     "execution_count": 21,
     "metadata": {},
     "output_type": "execute_result"
    }
   ],
   "source": [
    "job = bq.query(query = query)\n",
    "job.result()"
   ]
  },
  {
   "cell_type": "code",
   "execution_count": 22,
   "id": "2519858f-03db-4a5c-bc8a-65540234892f",
   "metadata": {
    "tags": []
   },
   "outputs": [
    {
     "data": {
      "text/plain": [
       "'DONE'"
      ]
     },
     "execution_count": 22,
     "metadata": {},
     "output_type": "execute_result"
    }
   ],
   "source": [
    "# Create Remote Model In BigQuery\n",
    "query = f\"\"\"\n",
    "# 2.1\n",
    "CREATE OR REPLACE MODEL `{BQ_PROJECT}.{BQ_DATASET}.VERTEX_LLM`\n",
    "    REMOTE WITH CONNECTION `{BQ_PROJECT}.{BQ_REGION}.{BQ_DATASET}`\n",
    "    OPTIONS(ENDPOINT = 'text-bison@002')\n",
    "\"\"\"\n",
    "job = bq.query(query = query)\n",
    "job.result()\n",
    "job.state"
   ]
  },
  {
   "cell_type": "code",
   "execution_count": 23,
   "id": "6283d929-2c61-4904-818a-3932a1bc2b76",
   "metadata": {
    "tags": []
   },
   "outputs": [
    {
     "name": "stdout",
     "output_type": "stream",
     "text": [
      "\n",
      "# 2.1\n",
      "CREATE OR REPLACE MODEL `statmike-mlops-349915.bqml_2024.VERTEX_LLM`\n",
      "    REMOTE WITH CONNECTION `statmike-mlops-349915.us.bqml_2024`\n",
      "    OPTIONS(ENDPOINT = 'text-bison@002')\n",
      "\n"
     ]
    }
   ],
   "source": [
    "print(query)"
   ]
  },
  {
   "cell_type": "code",
   "execution_count": 24,
   "id": "f48c8402-ba41-47f0-b324-1c2ad874e2ae",
   "metadata": {},
   "outputs": [
    {
     "name": "stdout",
     "output_type": "stream",
     "text": [
      "\n",
      "# 2.2\n",
      "CREATE OR REPLACE TABLE `statmike-mlops-349915.bqml_2024.thelook_topMensProducts` AS\n",
      "SELECT\n",
      "    * EXCEPT(ml_generate_text_llm_result, ml_generate_text_status),\n",
      "    ml_generate_text_llm_result as description\n",
      "FROM ML.GENERATE_TEXT(\n",
      "    MODEL `statmike-mlops-349915.bqml_2024.VERTEX_LLM`,\n",
      "    (SELECT *,\n",
      "        CONCAT(\n",
      "            'Create a descriptive paragraph of no more than 25 words for a product with in a department named ', department,\n",
      "            ', category named \"', category, '\"',\n",
      "            'and the following description: ', name\n",
      "        ) as prompt\n",
      "        FROM `statmike-mlops-349915.bqml_2024.thelook_topMensProducts`),\n",
      "    STRUCT(200 AS max_output_tokens, TRUE AS flatten_json_output)\n",
      ")\n",
      "\n"
     ]
    }
   ],
   "source": [
    "query = f'''\n",
    "# 2.2\n",
    "CREATE OR REPLACE TABLE `{BQ_PROJECT}.{BQ_DATASET}.{BQ_TABLE_PREFIX}_topMensProducts` AS\n",
    "SELECT\n",
    "    * EXCEPT(ml_generate_text_llm_result, ml_generate_text_status),\n",
    "    ml_generate_text_llm_result as description\n",
    "FROM ML.GENERATE_TEXT(\n",
    "    MODEL `{BQ_PROJECT}.{BQ_DATASET}.VERTEX_LLM`,\n",
    "    (SELECT *,\n",
    "        CONCAT(\n",
    "            'Create a descriptive paragraph of no more than 25 words for a product with in a department named ', department,\n",
    "            ', category named \"', category, '\"',\n",
    "            'and the following description: ', name\n",
    "        ) as prompt\n",
    "        FROM `{BQ_PROJECT}.{BQ_DATASET}.{BQ_TABLE_PREFIX}_topMensProducts`),\n",
    "    STRUCT(200 AS max_output_tokens, TRUE AS flatten_json_output)\n",
    ")\n",
    "'''\n",
    "print(query)"
   ]
  },
  {
   "cell_type": "code",
   "execution_count": 25,
   "id": "c24e2e2f-c057-4863-840f-95d9935fd7d0",
   "metadata": {},
   "outputs": [
    {
     "data": {
      "text/plain": [
       "<google.cloud.bigquery.table._EmptyRowIterator at 0x7ffb11e8f0a0>"
      ]
     },
     "execution_count": 25,
     "metadata": {},
     "output_type": "execute_result"
    }
   ],
   "source": [
    "job = bq.query(query = query)\n",
    "job.result()"
   ]
  },
  {
   "cell_type": "code",
   "execution_count": 26,
   "id": "98dc7b1d-bd17-4ea5-bd1c-7b7ce99c93e0",
   "metadata": {
    "tags": []
   },
   "outputs": [
    {
     "data": {
      "text/plain": [
       "'DONE'"
      ]
     },
     "execution_count": 26,
     "metadata": {},
     "output_type": "execute_result"
    }
   ],
   "source": [
    "# Create Remote Model In BigQuery\n",
    "query = f\"\"\"\n",
    "# 3.1\n",
    "CREATE OR REPLACE MODEL `{BQ_PROJECT}.{BQ_DATASET}.CLOUD_NLP`\n",
    "    REMOTE WITH CONNECTION `{BQ_PROJECT}.{BQ_REGION}.{BQ_DATASET}`\n",
    "    OPTIONS(REMOTE_SERVICE_TYPE = 'CLOUD_AI_NATURAL_LANGUAGE_V1')\n",
    "\"\"\"\n",
    "job = bq.query(query = query)\n",
    "job.result()\n",
    "job.state"
   ]
  },
  {
   "cell_type": "code",
   "execution_count": 27,
   "id": "668d4e89-aefb-4280-b157-aefcd970b6f3",
   "metadata": {
    "tags": []
   },
   "outputs": [
    {
     "name": "stdout",
     "output_type": "stream",
     "text": [
      "\n",
      "# 3.1\n",
      "CREATE OR REPLACE MODEL `statmike-mlops-349915.bqml_2024.CLOUD_NLP`\n",
      "    REMOTE WITH CONNECTION `statmike-mlops-349915.us.bqml_2024`\n",
      "    OPTIONS(REMOTE_SERVICE_TYPE = 'CLOUD_AI_NATURAL_LANGUAGE_V1')\n",
      "\n"
     ]
    }
   ],
   "source": [
    "print(query)"
   ]
  },
  {
   "cell_type": "code",
   "execution_count": 28,
   "id": "fc4f2b4b-15fb-4494-bf0b-bf86acc93818",
   "metadata": {},
   "outputs": [
    {
     "name": "stdout",
     "output_type": "stream",
     "text": [
      "\n",
      "# 3.2\n",
      "CREATE OR REPLACE TABLE `statmike-mlops-349915.bqml_2024.thelook_topMensProducts` AS\n",
      "SELECT\n",
      "    * EXCEPT(text_content, ml_understand_text_result, ml_understand_text_status),\n",
      "    ml_understand_text_result.document_sentiment.score as sentiment_score\n",
      "FROM ML.UNDERSTAND_TEXT(\n",
      "    MODEL `statmike-mlops-349915.bqml_2024.CLOUD_NLP`,\n",
      "    (SELECT *, description as text_content\n",
      "        FROM `statmike-mlops-349915.bqml_2024.thelook_topMensProducts`),\n",
      "    STRUCT('ANALYZE_SENTIMENT' AS nlu_option)\n",
      ")\n",
      "\n"
     ]
    }
   ],
   "source": [
    "query = f'''\n",
    "# 3.2\n",
    "CREATE OR REPLACE TABLE `{BQ_PROJECT}.{BQ_DATASET}.{BQ_TABLE_PREFIX}_topMensProducts` AS\n",
    "SELECT\n",
    "    * EXCEPT(text_content, ml_understand_text_result, ml_understand_text_status),\n",
    "    ml_understand_text_result.document_sentiment.score as sentiment_score\n",
    "FROM ML.UNDERSTAND_TEXT(\n",
    "    MODEL `{BQ_PROJECT}.{BQ_DATASET}.CLOUD_NLP`,\n",
    "    (SELECT *, description as text_content\n",
    "        FROM `{BQ_PROJECT}.{BQ_DATASET}.{BQ_TABLE_PREFIX}_topMensProducts`),\n",
    "    STRUCT('ANALYZE_SENTIMENT' AS nlu_option)\n",
    ")\n",
    "'''\n",
    "print(query)"
   ]
  },
  {
   "cell_type": "code",
   "execution_count": 29,
   "id": "7b064189-ec20-4fa7-a07f-81857f80c990",
   "metadata": {},
   "outputs": [
    {
     "data": {
      "text/plain": [
       "<google.cloud.bigquery.table._EmptyRowIterator at 0x7ffb0bc21d50>"
      ]
     },
     "execution_count": 29,
     "metadata": {},
     "output_type": "execute_result"
    }
   ],
   "source": [
    "job = bq.query(query = query)\n",
    "job.result()"
   ]
  },
  {
   "cell_type": "code",
   "execution_count": 30,
   "id": "dda1e29e-9130-4e3b-9bb2-b2683cae7195",
   "metadata": {
    "tags": []
   },
   "outputs": [
    {
     "data": {
      "text/plain": [
       "'DONE'"
      ]
     },
     "execution_count": 30,
     "metadata": {},
     "output_type": "execute_result"
    }
   ],
   "source": [
    "# Create Remote Model In BigQuery\n",
    "query = f\"\"\"\n",
    "# 4.1\n",
    "CREATE OR REPLACE MODEL `{BQ_PROJECT}.{BQ_DATASET}.CLOUD_TRANSLATE`\n",
    "    REMOTE WITH CONNECTION `{BQ_PROJECT}.{BQ_REGION}.{BQ_DATASET}`\n",
    "    OPTIONS(REMOTE_SERVICE_TYPE = 'CLOUD_AI_TRANSLATE_V3')\n",
    "\"\"\"\n",
    "job = bq.query(query = query)\n",
    "job.result()\n",
    "job.state"
   ]
  },
  {
   "cell_type": "code",
   "execution_count": 31,
   "id": "9eab31dd-c17c-43e6-b7b0-5a636c4ac92d",
   "metadata": {
    "tags": []
   },
   "outputs": [
    {
     "name": "stdout",
     "output_type": "stream",
     "text": [
      "\n",
      "# 4.1\n",
      "CREATE OR REPLACE MODEL `statmike-mlops-349915.bqml_2024.CLOUD_TRANSLATE`\n",
      "    REMOTE WITH CONNECTION `statmike-mlops-349915.us.bqml_2024`\n",
      "    OPTIONS(REMOTE_SERVICE_TYPE = 'CLOUD_AI_TRANSLATE_V3')\n",
      "\n"
     ]
    }
   ],
   "source": [
    "print(query)"
   ]
  },
  {
   "cell_type": "code",
   "execution_count": 32,
   "id": "89f919e2-1538-40de-80e5-581080c6b38e",
   "metadata": {},
   "outputs": [
    {
     "name": "stdout",
     "output_type": "stream",
     "text": [
      "\n",
      "# 4.2\n",
      "CREATE OR REPLACE TABLE `statmike-mlops-349915.bqml_2024.thelook_topMensProducts` AS\n",
      "SELECT\n",
      "    * EXCEPT(text_content, ml_translate_result, ml_translate_status),\n",
      "    ml_translate_result.translations[0].translated_text\n",
      "FROM ML.TRANSLATE(\n",
      "    MODEL `statmike-mlops-349915.bqml_2024.CLOUD_TRANSLATE`,\n",
      "    (SELECT *, description as text_content\n",
      "        FROM `statmike-mlops-349915.bqml_2024.thelook_topMensProducts`),\n",
      "    STRUCT('TRANSLATE_TEXT' AS translate_mode, 'es' AS target_language_code)\n",
      ")\n",
      "\n"
     ]
    }
   ],
   "source": [
    "query = f'''\n",
    "# 4.2\n",
    "CREATE OR REPLACE TABLE `{BQ_PROJECT}.{BQ_DATASET}.{BQ_TABLE_PREFIX}_topMensProducts` AS\n",
    "SELECT\n",
    "    * EXCEPT(text_content, ml_translate_result, ml_translate_status),\n",
    "    ml_translate_result.translations[0].translated_text\n",
    "FROM ML.TRANSLATE(\n",
    "    MODEL `{BQ_PROJECT}.{BQ_DATASET}.CLOUD_TRANSLATE`,\n",
    "    (SELECT *, description as text_content\n",
    "        FROM `{BQ_PROJECT}.{BQ_DATASET}.{BQ_TABLE_PREFIX}_topMensProducts`),\n",
    "    STRUCT('TRANSLATE_TEXT' AS translate_mode, 'es' AS target_language_code)\n",
    ")\n",
    "'''\n",
    "print(query)"
   ]
  },
  {
   "cell_type": "code",
   "execution_count": 33,
   "id": "24d85d58-6805-414d-9605-b3409fd007ea",
   "metadata": {},
   "outputs": [
    {
     "data": {
      "text/plain": [
       "<google.cloud.bigquery.table._EmptyRowIterator at 0x7ffb11eee2f0>"
      ]
     },
     "execution_count": 33,
     "metadata": {},
     "output_type": "execute_result"
    }
   ],
   "source": [
    "job = bq.query(query = query)\n",
    "job.result()"
   ]
  },
  {
   "cell_type": "markdown",
   "id": "e7a8489e-7e40-4941-9c42-79328d3d1787",
   "metadata": {},
   "source": [
    "---\n",
    "## Prepare Data"
   ]
  },
  {
   "cell_type": "code",
   "execution_count": 34,
   "id": "908c4014-66ce-4d8a-b076-fb2d13ecde39",
   "metadata": {},
   "outputs": [],
   "source": [
    "query = f'''\n",
    "# 5\n",
    "CREATE OR REPLACE TABLE `{BQ_PROJECT}.{BQ_DATASET}.{BQ_TABLE_PREFIX}_raw` AS (\n",
    "    SELECT\n",
    "        DATE(o.created_at) as order_date,\n",
    "        o.order_id as order_id,\n",
    "        o.user_id AS customer_id,\n",
    "        oi.sale_price as unit_price,\n",
    "        oi.product_id as product_id,\n",
    "        oi.sale_price as revenue,\n",
    "        u.age as age,\n",
    "        u.country as country,\n",
    "        u.gender as gender\n",
    "    FROM `{BQ_SOURCE_DATASET}.orders` as o\n",
    "    JOIN `{BQ_SOURCE_DATASET}.order_items` as oi ON o.user_id = oi.user_id\n",
    "    JOIN `{BQ_SOURCE_DATASET}.users` as u ON o.user_id = u.id\n",
    "    #WHERE DATE(o.created_at) < DATE_SUB(CURRENT_DATE(), INTERVAL 12 MONTH)\n",
    ");\n",
    "'''"
   ]
  },
  {
   "cell_type": "code",
   "execution_count": 35,
   "id": "0ab62e4a-6f90-4ef9-8e84-b651e5f505a6",
   "metadata": {
    "tags": []
   },
   "outputs": [
    {
     "name": "stdout",
     "output_type": "stream",
     "text": [
      "\n",
      "# 5\n",
      "CREATE OR REPLACE TABLE `statmike-mlops-349915.bqml_2024.thelook_raw` AS (\n",
      "    SELECT\n",
      "        DATE(o.created_at) as order_date,\n",
      "        o.order_id as order_id,\n",
      "        o.user_id AS customer_id,\n",
      "        oi.sale_price as unit_price,\n",
      "        oi.product_id as product_id,\n",
      "        oi.sale_price as revenue,\n",
      "        u.age as age,\n",
      "        u.country as country,\n",
      "        u.gender as gender\n",
      "    FROM `bigquery-public-data.thelook_ecommerce.orders` as o\n",
      "    JOIN `bigquery-public-data.thelook_ecommerce.order_items` as oi ON o.user_id = oi.user_id\n",
      "    JOIN `bigquery-public-data.thelook_ecommerce.users` as u ON o.user_id = u.id\n",
      "    #WHERE DATE(o.created_at) < DATE_SUB(CURRENT_DATE(), INTERVAL 12 MONTH)\n",
      ");\n",
      "\n"
     ]
    }
   ],
   "source": [
    "print(query)"
   ]
  },
  {
   "cell_type": "code",
   "execution_count": 36,
   "id": "91bc6c61-0803-467a-89ee-44dabd91c7ab",
   "metadata": {
    "tags": []
   },
   "outputs": [
    {
     "data": {
      "text/plain": [
       "<google.cloud.bigquery.table._EmptyRowIterator at 0x7ffb11eec1f0>"
      ]
     },
     "execution_count": 36,
     "metadata": {},
     "output_type": "execute_result"
    }
   ],
   "source": [
    "job = bq.query(query = query)\n",
    "job.result()"
   ]
  },
  {
   "cell_type": "code",
   "execution_count": 37,
   "id": "a20736f5-ed9c-4bbd-aa04-a4feb188e831",
   "metadata": {
    "tags": []
   },
   "outputs": [],
   "source": [
    "query = f\"\"\"\n",
    "# 6\n",
    "CREATE OR REPLACE TABLE `{BQ_PROJECT}.{BQ_DATASET}.{BQ_TABLE_PREFIX}_features` AS\n",
    "WITH\n",
    "    get_rfm AS (\n",
    "        SELECT\n",
    "            customer_id, age, gender, country,\n",
    "            DATE_DIFF(DATE_SUB(CURRENT_DATE(), INTERVAL 12 MONTH), MAX(order_date), DAY) AS recency,\n",
    "            COUNT(order_id) AS frequency,\n",
    "            SUM(revenue) AS monetary,\n",
    "        FROM `{BQ_PROJECT}.{BQ_DATASET}.{BQ_TABLE_PREFIX}_raw`\n",
    "        WHERE order_date < DATE_SUB(CURRENT_DATE(), INTERVAL 12 MONTH)\n",
    "        GROUP BY customer_id, age, gender, country\n",
    "    ),\n",
    "    get_quartiles AS (\n",
    "        SELECT\n",
    "            customer_id,\n",
    "            NTILE(4) OVER (ORDER BY recency ASC) AS recency_quartile,\n",
    "            NTILE(4) OVER (ORDER BY frequency DESC) AS frequency_quartile,\n",
    "            NTILE(4) OVER (ORDER BY monetary DESC) AS monetary_quartile,\n",
    "        FROM get_rfm\n",
    "    ),\n",
    "    get_rfm_score AS (\n",
    "        SELECT\n",
    "            customer_id,\n",
    "            recency_quartile + frequency_quartile + monetary_quartile AS rfm_score\n",
    "        FROM get_quartiles\n",
    "    )\n",
    "SELECT\n",
    "    CAST(rfm.customer_id AS STRING) AS customer_id,\n",
    "    rfm.age,\n",
    "    rfm.gender,\n",
    "    rfm.country,\n",
    "    rfm.recency,\n",
    "    rfm.frequency,\n",
    "    rfm.monetary,\n",
    "    q.recency_quartile,\n",
    "    q.frequency_quartile,\n",
    "    q.monetary_quartile,\n",
    "    rfms.rfm_score\n",
    "FROM get_rfm as rfm\n",
    "LEFT JOIN get_quartiles as q ON rfm.customer_id = q.customer_id\n",
    "LEFT JOIN get_rfm_score as rfms ON rfm.customer_id = rfms.customer_id\n",
    "\"\"\""
   ]
  },
  {
   "cell_type": "code",
   "execution_count": 38,
   "id": "08033d7f-a2d7-4ef7-bf7d-bff0bf2a26ee",
   "metadata": {
    "tags": []
   },
   "outputs": [
    {
     "name": "stdout",
     "output_type": "stream",
     "text": [
      "\n",
      "# 6\n",
      "CREATE OR REPLACE TABLE `statmike-mlops-349915.bqml_2024.thelook_features` AS\n",
      "WITH\n",
      "    get_rfm AS (\n",
      "        SELECT\n",
      "            customer_id, age, gender, country,\n",
      "            DATE_DIFF(DATE_SUB(CURRENT_DATE(), INTERVAL 12 MONTH), MAX(order_date), DAY) AS recency,\n",
      "            COUNT(order_id) AS frequency,\n",
      "            SUM(revenue) AS monetary,\n",
      "        FROM `statmike-mlops-349915.bqml_2024.thelook_raw`\n",
      "        WHERE order_date < DATE_SUB(CURRENT_DATE(), INTERVAL 12 MONTH)\n",
      "        GROUP BY customer_id, age, gender, country\n",
      "    ),\n",
      "    get_quartiles AS (\n",
      "        SELECT\n",
      "            customer_id,\n",
      "            NTILE(4) OVER (ORDER BY recency ASC) AS recency_quartile,\n",
      "            NTILE(4) OVER (ORDER BY frequency DESC) AS frequency_quartile,\n",
      "            NTILE(4) OVER (ORDER BY monetary DESC) AS monetary_quartile,\n",
      "        FROM get_rfm\n",
      "    ),\n",
      "    get_rfm_score AS (\n",
      "        SELECT\n",
      "            customer_id,\n",
      "            recency_quartile + frequency_quartile + monetary_quartile AS rfm_score\n",
      "        FROM get_quartiles\n",
      "    )\n",
      "SELECT\n",
      "    CAST(rfm.customer_id AS STRING) AS customer_id,\n",
      "    rfm.age,\n",
      "    rfm.gender,\n",
      "    rfm.country,\n",
      "    rfm.recency,\n",
      "    rfm.frequency,\n",
      "    rfm.monetary,\n",
      "    q.recency_quartile,\n",
      "    q.frequency_quartile,\n",
      "    q.monetary_quartile,\n",
      "    rfms.rfm_score\n",
      "FROM get_rfm as rfm\n",
      "LEFT JOIN get_quartiles as q ON rfm.customer_id = q.customer_id\n",
      "LEFT JOIN get_rfm_score as rfms ON rfm.customer_id = rfms.customer_id\n",
      "\n"
     ]
    }
   ],
   "source": [
    "print(query)"
   ]
  },
  {
   "cell_type": "code",
   "execution_count": 39,
   "id": "8d6a64a4-abd3-4a7d-b07a-0ced65dbc65c",
   "metadata": {
    "tags": []
   },
   "outputs": [
    {
     "data": {
      "text/plain": [
       "<google.cloud.bigquery.table._EmptyRowIterator at 0x7ffb11e8f640>"
      ]
     },
     "execution_count": 39,
     "metadata": {},
     "output_type": "execute_result"
    }
   ],
   "source": [
    "job = bq.query(query = query)\n",
    "job.result()"
   ]
  },
  {
   "cell_type": "markdown",
   "id": "e0fa9321-161a-46c3-9687-b90bae24503e",
   "metadata": {},
   "source": [
    "---\n",
    "## Customer Segmentation"
   ]
  },
  {
   "cell_type": "code",
   "execution_count": 40,
   "id": "a8286d8c-8258-47f3-887b-bb68b8cd0e7a",
   "metadata": {
    "tags": []
   },
   "outputs": [],
   "source": [
    "query = f'''\n",
    "# 7.1\n",
    "CREATE MODEL IF NOT EXISTS `{BQ_PROJECT}.{BQ_DATASET}.{BQ_TABLE_PREFIX}_features_kmeans8`\n",
    "OPTIONS (\n",
    "    # model specs\n",
    "        model_type = 'KMEANS',\n",
    "        num_clusters = 8,\n",
    "        kmeans_init_method = 'KMEANS++',\n",
    "        distance_type = 'EUCLIDEAN', \n",
    "        standardize_features = TRUE,\n",
    "        \n",
    "    # training specs\n",
    "        max_iterations = 25,\n",
    "        early_stop = TRUE,\n",
    "        min_rel_progress = 0.005,\n",
    "    ) AS\n",
    "SELECT * EXCEPT(customer_id)\n",
    "FROM `{BQ_PROJECT}.{BQ_DATASET}.{BQ_TABLE_PREFIX}_features`\n",
    "'''"
   ]
  },
  {
   "cell_type": "code",
   "execution_count": 41,
   "id": "e17e5b41-f465-403c-b92c-9267eac32bb4",
   "metadata": {
    "tags": []
   },
   "outputs": [
    {
     "name": "stdout",
     "output_type": "stream",
     "text": [
      "\n",
      "# 7.1\n",
      "CREATE MODEL IF NOT EXISTS `statmike-mlops-349915.bqml_2024.thelook_features_kmeans8`\n",
      "OPTIONS (\n",
      "    # model specs\n",
      "        model_type = 'KMEANS',\n",
      "        num_clusters = 8,\n",
      "        kmeans_init_method = 'KMEANS++',\n",
      "        distance_type = 'EUCLIDEAN', \n",
      "        standardize_features = TRUE,\n",
      "        \n",
      "    # training specs\n",
      "        max_iterations = 25,\n",
      "        early_stop = TRUE,\n",
      "        min_rel_progress = 0.005,\n",
      "    ) AS\n",
      "SELECT * EXCEPT(customer_id)\n",
      "FROM `statmike-mlops-349915.bqml_2024.thelook_features`\n",
      "\n"
     ]
    }
   ],
   "source": [
    "print(query)"
   ]
  },
  {
   "cell_type": "code",
   "execution_count": 42,
   "id": "7964c4de-8f47-4c95-ae47-1371f6dc5a9c",
   "metadata": {
    "tags": []
   },
   "outputs": [],
   "source": [
    "query = f'''\n",
    "# 7\n",
    "CREATE MODEL IF NOT EXISTS `{BQ_PROJECT}.{BQ_DATASET}.{BQ_TABLE_PREFIX}_features_kmeans`\n",
    "OPTIONS (\n",
    "    # model specs\n",
    "        model_type = 'KMEANS',\n",
    "        num_clusters = HPARAM_RANGE(2, 20),\n",
    "        kmeans_init_method = 'KMEANS++',\n",
    "        distance_type = 'EUCLIDEAN', \n",
    "        standardize_features = TRUE,\n",
    "        \n",
    "    # training specs\n",
    "        max_iterations = 25,\n",
    "        early_stop = TRUE,\n",
    "        min_rel_progress = 0.005,\n",
    "        \n",
    "    # hyperparameter specs\n",
    "        hparam_tuning_algorithm = 'VIZIER_DEFAULT',\n",
    "        hparam_tuning_objectives = ['davies_bouldin_index'],\n",
    "        num_trials = 12,\n",
    "        max_parallel_trials = 3\n",
    "    ) AS\n",
    "SELECT * EXCEPT(customer_id)\n",
    "FROM `{BQ_PROJECT}.{BQ_DATASET}.{BQ_TABLE_PREFIX}_features`\n",
    "'''"
   ]
  },
  {
   "cell_type": "code",
   "execution_count": 43,
   "id": "e8b6f810-df9d-429d-85ea-2aa1677e16b5",
   "metadata": {
    "tags": []
   },
   "outputs": [
    {
     "name": "stdout",
     "output_type": "stream",
     "text": [
      "\n",
      "# 7\n",
      "CREATE MODEL IF NOT EXISTS `statmike-mlops-349915.bqml_2024.thelook_features_kmeans`\n",
      "OPTIONS (\n",
      "    # model specs\n",
      "        model_type = 'KMEANS',\n",
      "        num_clusters = HPARAM_RANGE(2, 20),\n",
      "        kmeans_init_method = 'KMEANS++',\n",
      "        distance_type = 'EUCLIDEAN', \n",
      "        standardize_features = TRUE,\n",
      "        \n",
      "    # training specs\n",
      "        max_iterations = 25,\n",
      "        early_stop = TRUE,\n",
      "        min_rel_progress = 0.005,\n",
      "        \n",
      "    # hyperparameter specs\n",
      "        hparam_tuning_algorithm = 'VIZIER_DEFAULT',\n",
      "        hparam_tuning_objectives = ['davies_bouldin_index'],\n",
      "        num_trials = 12,\n",
      "        max_parallel_trials = 3\n",
      "    ) AS\n",
      "SELECT * EXCEPT(customer_id)\n",
      "FROM `statmike-mlops-349915.bqml_2024.thelook_features`\n",
      "\n"
     ]
    }
   ],
   "source": [
    "print(query)"
   ]
  },
  {
   "cell_type": "code",
   "execution_count": 25,
   "id": "3c24cea9-e210-4853-a0cd-4e7d78e5c8e4",
   "metadata": {
    "tags": []
   },
   "outputs": [
    {
     "data": {
      "text/plain": [
       "<google.cloud.bigquery.table._EmptyRowIterator at 0x7fb97d8ec430>"
      ]
     },
     "execution_count": 25,
     "metadata": {},
     "output_type": "execute_result"
    }
   ],
   "source": [
    "job = bq.query(query = query)\n",
    "job.result()"
   ]
  },
  {
   "cell_type": "code",
   "execution_count": 44,
   "id": "f70e709b-61a1-4f80-b056-6af57d26ee6f",
   "metadata": {
    "tags": []
   },
   "outputs": [],
   "source": [
    "query = f'''\n",
    "# 8\n",
    "SELECT *\n",
    "FROM ML.PREDICT (\n",
    "    MODEL `{BQ_PROJECT}.{BQ_DATASET}.{BQ_TABLE_PREFIX}_features_kmeans`,\n",
    "    (SELECT * FROM `{BQ_PROJECT}.{BQ_DATASET}.{BQ_TABLE_PREFIX}_features` LIMIT 5)\n",
    ")\n",
    "'''"
   ]
  },
  {
   "cell_type": "code",
   "execution_count": 45,
   "id": "caec0dd8-9b34-4cc9-81c3-cec51f125681",
   "metadata": {
    "tags": []
   },
   "outputs": [
    {
     "name": "stdout",
     "output_type": "stream",
     "text": [
      "\n",
      "# 8\n",
      "SELECT *\n",
      "FROM ML.PREDICT (\n",
      "    MODEL `statmike-mlops-349915.bqml_2024.thelook_features_kmeans`,\n",
      "    (SELECT * FROM `statmike-mlops-349915.bqml_2024.thelook_features` LIMIT 5)\n",
      ")\n",
      "\n"
     ]
    }
   ],
   "source": [
    "print(query)"
   ]
  },
  {
   "cell_type": "code",
   "execution_count": 46,
   "id": "e289cb17-1572-4312-b7b4-eafb715a14ec",
   "metadata": {
    "tags": []
   },
   "outputs": [
    {
     "data": {
      "text/html": [
       "<div>\n",
       "<style scoped>\n",
       "    .dataframe tbody tr th:only-of-type {\n",
       "        vertical-align: middle;\n",
       "    }\n",
       "\n",
       "    .dataframe tbody tr th {\n",
       "        vertical-align: top;\n",
       "    }\n",
       "\n",
       "    .dataframe thead th {\n",
       "        text-align: right;\n",
       "    }\n",
       "</style>\n",
       "<table border=\"1\" class=\"dataframe\">\n",
       "  <thead>\n",
       "    <tr style=\"text-align: right;\">\n",
       "      <th></th>\n",
       "      <th>trial_id</th>\n",
       "      <th>CENTROID_ID</th>\n",
       "      <th>NEAREST_CENTROIDS_DISTANCE</th>\n",
       "      <th>customer_id</th>\n",
       "      <th>age</th>\n",
       "      <th>gender</th>\n",
       "      <th>country</th>\n",
       "      <th>recency</th>\n",
       "      <th>frequency</th>\n",
       "      <th>monetary</th>\n",
       "      <th>recency_quartile</th>\n",
       "      <th>frequency_quartile</th>\n",
       "      <th>monetary_quartile</th>\n",
       "      <th>rfm_score</th>\n",
       "    </tr>\n",
       "  </thead>\n",
       "  <tbody>\n",
       "    <tr>\n",
       "      <th>0</th>\n",
       "      <td>9</td>\n",
       "      <td>4</td>\n",
       "      <td>[{'CENTROID_ID': 4, 'DISTANCE': 1.831333153719...</td>\n",
       "      <td>81911</td>\n",
       "      <td>56</td>\n",
       "      <td>M</td>\n",
       "      <td>Brasil</td>\n",
       "      <td>256</td>\n",
       "      <td>12</td>\n",
       "      <td>1039.350002</td>\n",
       "      <td>2</td>\n",
       "      <td>1</td>\n",
       "      <td>1</td>\n",
       "      <td>4</td>\n",
       "    </tr>\n",
       "    <tr>\n",
       "      <th>1</th>\n",
       "      <td>9</td>\n",
       "      <td>4</td>\n",
       "      <td>[{'CENTROID_ID': 4, 'DISTANCE': 1.717897288056...</td>\n",
       "      <td>75461</td>\n",
       "      <td>50</td>\n",
       "      <td>M</td>\n",
       "      <td>China</td>\n",
       "      <td>256</td>\n",
       "      <td>12</td>\n",
       "      <td>1302.959995</td>\n",
       "      <td>2</td>\n",
       "      <td>1</td>\n",
       "      <td>1</td>\n",
       "      <td>4</td>\n",
       "    </tr>\n",
       "    <tr>\n",
       "      <th>2</th>\n",
       "      <td>9</td>\n",
       "      <td>5</td>\n",
       "      <td>[{'CENTROID_ID': 5, 'DISTANCE': 1.659492428402...</td>\n",
       "      <td>38935</td>\n",
       "      <td>54</td>\n",
       "      <td>M</td>\n",
       "      <td>Germany</td>\n",
       "      <td>256</td>\n",
       "      <td>5</td>\n",
       "      <td>319.400005</td>\n",
       "      <td>2</td>\n",
       "      <td>1</td>\n",
       "      <td>1</td>\n",
       "      <td>4</td>\n",
       "    </tr>\n",
       "    <tr>\n",
       "      <th>3</th>\n",
       "      <td>9</td>\n",
       "      <td>3</td>\n",
       "      <td>[{'CENTROID_ID': 3, 'DISTANCE': 3.905680166403...</td>\n",
       "      <td>42582</td>\n",
       "      <td>14</td>\n",
       "      <td>M</td>\n",
       "      <td>Belgium</td>\n",
       "      <td>256</td>\n",
       "      <td>40</td>\n",
       "      <td>1833.479988</td>\n",
       "      <td>2</td>\n",
       "      <td>1</td>\n",
       "      <td>1</td>\n",
       "      <td>4</td>\n",
       "    </tr>\n",
       "    <tr>\n",
       "      <th>4</th>\n",
       "      <td>9</td>\n",
       "      <td>4</td>\n",
       "      <td>[{'CENTROID_ID': 4, 'DISTANCE': 1.927363825356...</td>\n",
       "      <td>96347</td>\n",
       "      <td>63</td>\n",
       "      <td>F</td>\n",
       "      <td>United States</td>\n",
       "      <td>256</td>\n",
       "      <td>18</td>\n",
       "      <td>762.510000</td>\n",
       "      <td>2</td>\n",
       "      <td>1</td>\n",
       "      <td>1</td>\n",
       "      <td>4</td>\n",
       "    </tr>\n",
       "  </tbody>\n",
       "</table>\n",
       "</div>"
      ],
      "text/plain": [
       "   trial_id  CENTROID_ID                         NEAREST_CENTROIDS_DISTANCE  \\\n",
       "0         9            4  [{'CENTROID_ID': 4, 'DISTANCE': 1.831333153719...   \n",
       "1         9            4  [{'CENTROID_ID': 4, 'DISTANCE': 1.717897288056...   \n",
       "2         9            5  [{'CENTROID_ID': 5, 'DISTANCE': 1.659492428402...   \n",
       "3         9            3  [{'CENTROID_ID': 3, 'DISTANCE': 3.905680166403...   \n",
       "4         9            4  [{'CENTROID_ID': 4, 'DISTANCE': 1.927363825356...   \n",
       "\n",
       "  customer_id  age gender        country  recency  frequency     monetary  \\\n",
       "0       81911   56      M         Brasil      256         12  1039.350002   \n",
       "1       75461   50      M          China      256         12  1302.959995   \n",
       "2       38935   54      M        Germany      256          5   319.400005   \n",
       "3       42582   14      M        Belgium      256         40  1833.479988   \n",
       "4       96347   63      F  United States      256         18   762.510000   \n",
       "\n",
       "   recency_quartile  frequency_quartile  monetary_quartile  rfm_score  \n",
       "0                 2                   1                  1          4  \n",
       "1                 2                   1                  1          4  \n",
       "2                 2                   1                  1          4  \n",
       "3                 2                   1                  1          4  \n",
       "4                 2                   1                  1          4  "
      ]
     },
     "execution_count": 46,
     "metadata": {},
     "output_type": "execute_result"
    }
   ],
   "source": [
    "job = bq.query(query = query)\n",
    "job.result()\n",
    "job.to_dataframe()"
   ]
  },
  {
   "cell_type": "code",
   "execution_count": 47,
   "id": "45cbb65a-806c-4d33-8330-65e1c91c7d80",
   "metadata": {
    "tags": []
   },
   "outputs": [
    {
     "name": "stdout",
     "output_type": "stream",
     "text": [
      "\n",
      "# 9\n",
      "SELECT *\n",
      "FROM (\n",
      "    SELECT *\n",
      "    FROM ML.DETECT_ANOMALIES (\n",
      "        MODEL `statmike-mlops-349915.bqml_2024.thelook_features_kmeans`,\n",
      "        STRUCT(0.01 AS contamination),\n",
      "        (SELECT * FROM `statmike-mlops-349915.bqml_2024.thelook_features`)\n",
      "    )\n",
      ")\n",
      "WHERE is_anomaly = TRUE\n",
      "ORDER BY normalized_distance DESC\n",
      "\n"
     ]
    }
   ],
   "source": [
    "query = f'''\n",
    "# 9\n",
    "SELECT *\n",
    "FROM (\n",
    "    SELECT *\n",
    "    FROM ML.DETECT_ANOMALIES (\n",
    "        MODEL `{BQ_PROJECT}.{BQ_DATASET}.{BQ_TABLE_PREFIX}_features_kmeans`,\n",
    "        STRUCT(0.01 AS contamination),\n",
    "        (SELECT * FROM `{BQ_PROJECT}.{BQ_DATASET}.{BQ_TABLE_PREFIX}_features`)\n",
    "    )\n",
    ")\n",
    "WHERE is_anomaly = TRUE\n",
    "ORDER BY normalized_distance DESC\n",
    "'''\n",
    "print(query)"
   ]
  },
  {
   "cell_type": "code",
   "execution_count": 48,
   "id": "46f76d4a-22f1-48b8-963b-ee4f6ad42865",
   "metadata": {
    "tags": []
   },
   "outputs": [
    {
     "data": {
      "text/html": [
       "<div>\n",
       "<style scoped>\n",
       "    .dataframe tbody tr th:only-of-type {\n",
       "        vertical-align: middle;\n",
       "    }\n",
       "\n",
       "    .dataframe tbody tr th {\n",
       "        vertical-align: top;\n",
       "    }\n",
       "\n",
       "    .dataframe thead th {\n",
       "        text-align: right;\n",
       "    }\n",
       "</style>\n",
       "<table border=\"1\" class=\"dataframe\">\n",
       "  <thead>\n",
       "    <tr style=\"text-align: right;\">\n",
       "      <th></th>\n",
       "      <th>trial_id</th>\n",
       "      <th>is_anomaly</th>\n",
       "      <th>normalized_distance</th>\n",
       "      <th>CENTROID_ID</th>\n",
       "      <th>customer_id</th>\n",
       "      <th>age</th>\n",
       "      <th>gender</th>\n",
       "      <th>country</th>\n",
       "      <th>recency</th>\n",
       "      <th>frequency</th>\n",
       "      <th>monetary</th>\n",
       "      <th>recency_quartile</th>\n",
       "      <th>frequency_quartile</th>\n",
       "      <th>monetary_quartile</th>\n",
       "      <th>rfm_score</th>\n",
       "    </tr>\n",
       "  </thead>\n",
       "  <tbody>\n",
       "    <tr>\n",
       "      <th>0</th>\n",
       "      <td>9</td>\n",
       "      <td>True</td>\n",
       "      <td>4.322382</td>\n",
       "      <td>3</td>\n",
       "      <td>99637</td>\n",
       "      <td>60</td>\n",
       "      <td>M</td>\n",
       "      <td>Brasil</td>\n",
       "      <td>12</td>\n",
       "      <td>32</td>\n",
       "      <td>7105.599991</td>\n",
       "      <td>1</td>\n",
       "      <td>1</td>\n",
       "      <td>1</td>\n",
       "      <td>3</td>\n",
       "    </tr>\n",
       "    <tr>\n",
       "      <th>1</th>\n",
       "      <td>9</td>\n",
       "      <td>True</td>\n",
       "      <td>2.960476</td>\n",
       "      <td>3</td>\n",
       "      <td>59803</td>\n",
       "      <td>29</td>\n",
       "      <td>M</td>\n",
       "      <td>China</td>\n",
       "      <td>303</td>\n",
       "      <td>36</td>\n",
       "      <td>5511.760002</td>\n",
       "      <td>3</td>\n",
       "      <td>1</td>\n",
       "      <td>1</td>\n",
       "      <td>5</td>\n",
       "    </tr>\n",
       "    <tr>\n",
       "      <th>2</th>\n",
       "      <td>9</td>\n",
       "      <td>True</td>\n",
       "      <td>2.531978</td>\n",
       "      <td>3</td>\n",
       "      <td>98828</td>\n",
       "      <td>16</td>\n",
       "      <td>M</td>\n",
       "      <td>Brasil</td>\n",
       "      <td>171</td>\n",
       "      <td>32</td>\n",
       "      <td>5051.959991</td>\n",
       "      <td>2</td>\n",
       "      <td>1</td>\n",
       "      <td>1</td>\n",
       "      <td>4</td>\n",
       "    </tr>\n",
       "    <tr>\n",
       "      <th>3</th>\n",
       "      <td>9</td>\n",
       "      <td>True</td>\n",
       "      <td>2.312755</td>\n",
       "      <td>3</td>\n",
       "      <td>91255</td>\n",
       "      <td>32</td>\n",
       "      <td>M</td>\n",
       "      <td>United States</td>\n",
       "      <td>66</td>\n",
       "      <td>20</td>\n",
       "      <td>4843.760002</td>\n",
       "      <td>1</td>\n",
       "      <td>1</td>\n",
       "      <td>1</td>\n",
       "      <td>3</td>\n",
       "    </tr>\n",
       "    <tr>\n",
       "      <th>4</th>\n",
       "      <td>9</td>\n",
       "      <td>True</td>\n",
       "      <td>2.128843</td>\n",
       "      <td>3</td>\n",
       "      <td>39304</td>\n",
       "      <td>35</td>\n",
       "      <td>M</td>\n",
       "      <td>China</td>\n",
       "      <td>39</td>\n",
       "      <td>36</td>\n",
       "      <td>4545.560005</td>\n",
       "      <td>1</td>\n",
       "      <td>1</td>\n",
       "      <td>1</td>\n",
       "      <td>3</td>\n",
       "    </tr>\n",
       "    <tr>\n",
       "      <th>...</th>\n",
       "      <td>...</td>\n",
       "      <td>...</td>\n",
       "      <td>...</td>\n",
       "      <td>...</td>\n",
       "      <td>...</td>\n",
       "      <td>...</td>\n",
       "      <td>...</td>\n",
       "      <td>...</td>\n",
       "      <td>...</td>\n",
       "      <td>...</td>\n",
       "      <td>...</td>\n",
       "      <td>...</td>\n",
       "      <td>...</td>\n",
       "      <td>...</td>\n",
       "      <td>...</td>\n",
       "    </tr>\n",
       "    <tr>\n",
       "      <th>413</th>\n",
       "      <td>9</td>\n",
       "      <td>True</td>\n",
       "      <td>1.411526</td>\n",
       "      <td>8</td>\n",
       "      <td>82931</td>\n",
       "      <td>44</td>\n",
       "      <td>M</td>\n",
       "      <td>Belgium</td>\n",
       "      <td>863</td>\n",
       "      <td>1</td>\n",
       "      <td>300.000000</td>\n",
       "      <td>4</td>\n",
       "      <td>4</td>\n",
       "      <td>1</td>\n",
       "      <td>8</td>\n",
       "    </tr>\n",
       "    <tr>\n",
       "      <th>414</th>\n",
       "      <td>9</td>\n",
       "      <td>True</td>\n",
       "      <td>1.411381</td>\n",
       "      <td>1</td>\n",
       "      <td>35173</td>\n",
       "      <td>37</td>\n",
       "      <td>M</td>\n",
       "      <td>United States</td>\n",
       "      <td>376</td>\n",
       "      <td>1</td>\n",
       "      <td>374.950012</td>\n",
       "      <td>3</td>\n",
       "      <td>4</td>\n",
       "      <td>1</td>\n",
       "      <td>8</td>\n",
       "    </tr>\n",
       "    <tr>\n",
       "      <th>415</th>\n",
       "      <td>9</td>\n",
       "      <td>True</td>\n",
       "      <td>1.410972</td>\n",
       "      <td>1</td>\n",
       "      <td>84937</td>\n",
       "      <td>55</td>\n",
       "      <td>M</td>\n",
       "      <td>China</td>\n",
       "      <td>1212</td>\n",
       "      <td>8</td>\n",
       "      <td>931.159998</td>\n",
       "      <td>4</td>\n",
       "      <td>1</td>\n",
       "      <td>1</td>\n",
       "      <td>6</td>\n",
       "    </tr>\n",
       "    <tr>\n",
       "      <th>416</th>\n",
       "      <td>9</td>\n",
       "      <td>True</td>\n",
       "      <td>1.410455</td>\n",
       "      <td>1</td>\n",
       "      <td>4269</td>\n",
       "      <td>62</td>\n",
       "      <td>M</td>\n",
       "      <td>United States</td>\n",
       "      <td>1030</td>\n",
       "      <td>14</td>\n",
       "      <td>670.540005</td>\n",
       "      <td>4</td>\n",
       "      <td>1</td>\n",
       "      <td>1</td>\n",
       "      <td>6</td>\n",
       "    </tr>\n",
       "    <tr>\n",
       "      <th>417</th>\n",
       "      <td>9</td>\n",
       "      <td>True</td>\n",
       "      <td>1.410349</td>\n",
       "      <td>1</td>\n",
       "      <td>18400</td>\n",
       "      <td>67</td>\n",
       "      <td>F</td>\n",
       "      <td>United States</td>\n",
       "      <td>614</td>\n",
       "      <td>16</td>\n",
       "      <td>451.000000</td>\n",
       "      <td>4</td>\n",
       "      <td>1</td>\n",
       "      <td>1</td>\n",
       "      <td>6</td>\n",
       "    </tr>\n",
       "  </tbody>\n",
       "</table>\n",
       "<p>418 rows × 15 columns</p>\n",
       "</div>"
      ],
      "text/plain": [
       "     trial_id  is_anomaly  normalized_distance  CENTROID_ID customer_id  age  \\\n",
       "0           9        True             4.322382            3       99637   60   \n",
       "1           9        True             2.960476            3       59803   29   \n",
       "2           9        True             2.531978            3       98828   16   \n",
       "3           9        True             2.312755            3       91255   32   \n",
       "4           9        True             2.128843            3       39304   35   \n",
       "..        ...         ...                  ...          ...         ...  ...   \n",
       "413         9        True             1.411526            8       82931   44   \n",
       "414         9        True             1.411381            1       35173   37   \n",
       "415         9        True             1.410972            1       84937   55   \n",
       "416         9        True             1.410455            1        4269   62   \n",
       "417         9        True             1.410349            1       18400   67   \n",
       "\n",
       "    gender        country  recency  frequency     monetary  recency_quartile  \\\n",
       "0        M         Brasil       12         32  7105.599991                 1   \n",
       "1        M          China      303         36  5511.760002                 3   \n",
       "2        M         Brasil      171         32  5051.959991                 2   \n",
       "3        M  United States       66         20  4843.760002                 1   \n",
       "4        M          China       39         36  4545.560005                 1   \n",
       "..     ...            ...      ...        ...          ...               ...   \n",
       "413      M        Belgium      863          1   300.000000                 4   \n",
       "414      M  United States      376          1   374.950012                 3   \n",
       "415      M          China     1212          8   931.159998                 4   \n",
       "416      M  United States     1030         14   670.540005                 4   \n",
       "417      F  United States      614         16   451.000000                 4   \n",
       "\n",
       "     frequency_quartile  monetary_quartile  rfm_score  \n",
       "0                     1                  1          3  \n",
       "1                     1                  1          5  \n",
       "2                     1                  1          4  \n",
       "3                     1                  1          3  \n",
       "4                     1                  1          3  \n",
       "..                  ...                ...        ...  \n",
       "413                   4                  1          8  \n",
       "414                   4                  1          8  \n",
       "415                   1                  1          6  \n",
       "416                   1                  1          6  \n",
       "417                   1                  1          6  \n",
       "\n",
       "[418 rows x 15 columns]"
      ]
     },
     "execution_count": 48,
     "metadata": {},
     "output_type": "execute_result"
    }
   ],
   "source": [
    "job = bq.query(query = query)\n",
    "job.result()\n",
    "job.to_dataframe()"
   ]
  },
  {
   "cell_type": "code",
   "execution_count": 49,
   "id": "4ab3193d-e1ff-488b-aafa-8a7a72635f4d",
   "metadata": {
    "tags": []
   },
   "outputs": [],
   "source": [
    "query = f'''\n",
    "# 10\n",
    "CREATE OR REPLACE TABLE `{BQ_PROJECT}.{BQ_DATASET}.{BQ_TABLE_PREFIX}_segmentSummary` AS\n",
    "WITH\n",
    "    SEGMENTS AS (\n",
    "        SELECT * EXCEPT(TRIAL_ID, NEAREST_CENTROIDS_DISTANCE)\n",
    "        FROM ML.PREDICT (\n",
    "            MODEL `{BQ_PROJECT}.{BQ_DATASET}.{BQ_TABLE_PREFIX}_features_kmeans`,\n",
    "            (SELECT * FROM `{BQ_PROJECT}.{BQ_DATASET}.{BQ_TABLE_PREFIX}_features`)\n",
    "        )\n",
    "    )\n",
    "SELECT\n",
    "    CENTROID_ID,\n",
    "    100 * (count(*) / sum(count(*)) OVER()) AS pct,\n",
    "    AVG(age) AS avg_age,\n",
    "    APPROX_TOP_COUNT(gender, 1)[OFFSET(0)].value AS mode_gender,\n",
    "    APPROX_TOP_COUNT(country, 1)[OFFSET(0)].value AS first_country,\n",
    "    APPROX_TOP_COUNT(country, 2)[OFFSET(1)].value AS second_country,\n",
    "    APPROX_TOP_COUNT(country, 3)[OFFSET(2)].value AS third_country,\n",
    "    APPROX_TOP_COUNT(country, 4)[OFFSET(3)].value AS fourth_country,\n",
    "    AVG(recency) AS avg_recency,\n",
    "    AVG(frequency) AS avg_frequency,\n",
    "    AVG(monetary) AS avg_monetary,\n",
    "    APPROX_TOP_COUNT(recency_quartile, 1)[OFFSET(0)].value AS mode_recency_quartile,\n",
    "    APPROX_TOP_COUNT(frequency_quartile, 1)[OFFSET(0)].value AS mode_frequency_quartile,\n",
    "    APPROX_TOP_COUNT(monetary_quartile, 1)[OFFSET(0)].value AS mode_monetary_quartile,\n",
    "    AVG(rfm_score) as avg_rfm_score\n",
    "FROM SEGMENTS\n",
    "GROUP BY CENTROID_ID\n",
    "ORDER BY CENTROID_ID\n",
    "'''"
   ]
  },
  {
   "cell_type": "code",
   "execution_count": 50,
   "id": "5a7bdcc1-b264-448b-b562-74ac8443db17",
   "metadata": {
    "tags": []
   },
   "outputs": [
    {
     "name": "stdout",
     "output_type": "stream",
     "text": [
      "\n",
      "# 10\n",
      "CREATE OR REPLACE TABLE `statmike-mlops-349915.bqml_2024.thelook_segmentSummary` AS\n",
      "WITH\n",
      "    SEGMENTS AS (\n",
      "        SELECT * EXCEPT(TRIAL_ID, NEAREST_CENTROIDS_DISTANCE)\n",
      "        FROM ML.PREDICT (\n",
      "            MODEL `statmike-mlops-349915.bqml_2024.thelook_features_kmeans`,\n",
      "            (SELECT * FROM `statmike-mlops-349915.bqml_2024.thelook_features`)\n",
      "        )\n",
      "    )\n",
      "SELECT\n",
      "    CENTROID_ID,\n",
      "    100 * (count(*) / sum(count(*)) OVER()) AS pct,\n",
      "    AVG(age) AS avg_age,\n",
      "    APPROX_TOP_COUNT(gender, 1)[OFFSET(0)].value AS mode_gender,\n",
      "    APPROX_TOP_COUNT(country, 1)[OFFSET(0)].value AS first_country,\n",
      "    APPROX_TOP_COUNT(country, 2)[OFFSET(1)].value AS second_country,\n",
      "    APPROX_TOP_COUNT(country, 3)[OFFSET(2)].value AS third_country,\n",
      "    APPROX_TOP_COUNT(country, 4)[OFFSET(3)].value AS fourth_country,\n",
      "    AVG(recency) AS avg_recency,\n",
      "    AVG(frequency) AS avg_frequency,\n",
      "    AVG(monetary) AS avg_monetary,\n",
      "    APPROX_TOP_COUNT(recency_quartile, 1)[OFFSET(0)].value AS mode_recency_quartile,\n",
      "    APPROX_TOP_COUNT(frequency_quartile, 1)[OFFSET(0)].value AS mode_frequency_quartile,\n",
      "    APPROX_TOP_COUNT(monetary_quartile, 1)[OFFSET(0)].value AS mode_monetary_quartile,\n",
      "    AVG(rfm_score) as avg_rfm_score\n",
      "FROM SEGMENTS\n",
      "GROUP BY CENTROID_ID\n",
      "ORDER BY CENTROID_ID\n",
      "\n"
     ]
    }
   ],
   "source": [
    "print(query)"
   ]
  },
  {
   "cell_type": "code",
   "execution_count": 51,
   "id": "35b93f9d-746d-490f-b868-135314152659",
   "metadata": {
    "tags": []
   },
   "outputs": [
    {
     "data": {
      "text/plain": [
       "<google.cloud.bigquery.table._EmptyRowIterator at 0x7ffb0bb0b1c0>"
      ]
     },
     "execution_count": 51,
     "metadata": {},
     "output_type": "execute_result"
    }
   ],
   "source": [
    "job = bq.query(query = query)\n",
    "job.result()"
   ]
  },
  {
   "cell_type": "code",
   "execution_count": 52,
   "id": "df98d0d4-03e3-48dc-8a90-a80fad21c818",
   "metadata": {},
   "outputs": [],
   "source": [
    "query = f'''\n",
    "# 11\n",
    "WITH\n",
    "    SHOTS AS (\n",
    "        SELECT\n",
    "            CONCAT(\n",
    "                'Cluster ', CAST(CENTROID_ID AS STRING), ', ',\n",
    "                CAST(ROUND(pct, 2) AS STRING), ' percent of customers, ',\n",
    "                CAST(ROUND(avg_age, 2) AS STRING), ' average age of customers, ',\n",
    "                CAST(ROUND(avg_recency, 2) AS STRING), ' average days since order, ',\n",
    "                CAST(ROUND(avg_frequency, 2) AS STRING), ' average total orders, ', \n",
    "                CAST(ROUND(avg_monetary, 2) AS STRING), ' average total spend, ',\n",
    "                CAST(mode_recency_quartile AS STRING), ' most common quartile for days since order, ',\n",
    "                CAST(mode_frequency_quartile AS STRING), ' most common quartile for total orders, ',\n",
    "                CAST(mode_monetary_quartile AS STRING), ' most common quartile for total spend, ',\n",
    "                'most common countries: ', first_country, ', ', second_country, ', ', third_country, ', ', fourth_country,\n",
    "                '.'\n",
    "            ) as shot\n",
    "        FROM `{BQ_PROJECT}.{BQ_DATASET}.{BQ_TABLE_PREFIX}_segmentSummary`\n",
    "    ),\n",
    "    PROMPT AS (\n",
    "        SELECT\n",
    "            CONCAT(\n",
    "                'The customers for your retail store have be grouped in clusters. ',\n",
    "                'Create a description for each of these clusters:',\n",
    "                '\\\\n\\\\n',\n",
    "                STRING_AGG(shot, '\\\\n')\n",
    "            ) as prompt\n",
    "        FROM SHOTS\n",
    "    )\n",
    "SELECT *\n",
    "FROM PROMPT\n",
    "'''"
   ]
  },
  {
   "cell_type": "code",
   "execution_count": 53,
   "id": "70560230-a58e-46a8-8589-19d2eb94817b",
   "metadata": {
    "tags": []
   },
   "outputs": [
    {
     "name": "stdout",
     "output_type": "stream",
     "text": [
      "\n",
      "# 11\n",
      "WITH\n",
      "    SHOTS AS (\n",
      "        SELECT\n",
      "            CONCAT(\n",
      "                'Cluster ', CAST(CENTROID_ID AS STRING), ', ',\n",
      "                CAST(ROUND(pct, 2) AS STRING), ' percent of customers, ',\n",
      "                CAST(ROUND(avg_age, 2) AS STRING), ' average age of customers, ',\n",
      "                CAST(ROUND(avg_recency, 2) AS STRING), ' average days since order, ',\n",
      "                CAST(ROUND(avg_frequency, 2) AS STRING), ' average total orders, ', \n",
      "                CAST(ROUND(avg_monetary, 2) AS STRING), ' average total spend, ',\n",
      "                CAST(mode_recency_quartile AS STRING), ' most common quartile for days since order, ',\n",
      "                CAST(mode_frequency_quartile AS STRING), ' most common quartile for total orders, ',\n",
      "                CAST(mode_monetary_quartile AS STRING), ' most common quartile for total spend, ',\n",
      "                'most common countries: ', first_country, ', ', second_country, ', ', third_country, ', ', fourth_country,\n",
      "                '.'\n",
      "            ) as shot\n",
      "        FROM `statmike-mlops-349915.bqml_2024.thelook_segmentSummary`\n",
      "    ),\n",
      "    PROMPT AS (\n",
      "        SELECT\n",
      "            CONCAT(\n",
      "                'The customers for your retail store have be grouped in clusters. ',\n",
      "                'Create a description for each of these clusters:',\n",
      "                '\\n\\n',\n",
      "                STRING_AGG(shot, '\\n')\n",
      "            ) as prompt\n",
      "        FROM SHOTS\n",
      "    )\n",
      "SELECT *\n",
      "FROM PROMPT\n",
      "\n"
     ]
    }
   ],
   "source": [
    "print(query)"
   ]
  },
  {
   "cell_type": "code",
   "execution_count": 54,
   "id": "2520b506-66e1-4a4d-86f4-3818dd9ce478",
   "metadata": {
    "tags": []
   },
   "outputs": [
    {
     "data": {
      "text/html": [
       "<div>\n",
       "<style scoped>\n",
       "    .dataframe tbody tr th:only-of-type {\n",
       "        vertical-align: middle;\n",
       "    }\n",
       "\n",
       "    .dataframe tbody tr th {\n",
       "        vertical-align: top;\n",
       "    }\n",
       "\n",
       "    .dataframe thead th {\n",
       "        text-align: right;\n",
       "    }\n",
       "</style>\n",
       "<table border=\"1\" class=\"dataframe\">\n",
       "  <thead>\n",
       "    <tr style=\"text-align: right;\">\n",
       "      <th></th>\n",
       "      <th>prompt</th>\n",
       "    </tr>\n",
       "  </thead>\n",
       "  <tbody>\n",
       "    <tr>\n",
       "      <th>0</th>\n",
       "      <td>The customers for your retail store have be gr...</td>\n",
       "    </tr>\n",
       "  </tbody>\n",
       "</table>\n",
       "</div>"
      ],
      "text/plain": [
       "                                              prompt\n",
       "0  The customers for your retail store have be gr..."
      ]
     },
     "execution_count": 54,
     "metadata": {},
     "output_type": "execute_result"
    }
   ],
   "source": [
    "job = bq.query(query = query)\n",
    "job.result()\n",
    "result = job.to_dataframe()\n",
    "result"
   ]
  },
  {
   "cell_type": "code",
   "execution_count": 55,
   "id": "4d4ee1e5-e73f-438a-9979-6e4f08965685",
   "metadata": {
    "tags": []
   },
   "outputs": [
    {
     "name": "stdout",
     "output_type": "stream",
     "text": [
      "The customers for your retail store have be grouped in clusters. Create a description for each of these clusters:\n",
      "\n",
      "Cluster 1, 13.8 percent of customers, 42.71 average age of customers, 619.2 average days since order, 5.35 average total orders, 334.06 average total spend, 4 most common quartile for days since order, 1 most common quartile for total orders, 1 most common quartile for total spend, most common countries: China, United States, Brasil, South Korea.\n",
      "Cluster 2, 13.68 percent of customers, 27.11 average age of customers, 188.05 average days since order, 2.89 average total orders, 158.87 average total spend, 2 most common quartile for days since order, 2 most common quartile for total orders, 2 most common quartile for total spend, most common countries: China, United States, Brasil, South Korea.\n",
      "Cluster 3, 0.99 percent of customers, 41.88 average age of customers, 229.6 average days since order, 25.33 average total orders, 2321.59 average total spend, 1 most common quartile for days since order, 1 most common quartile for total orders, 1 most common quartile for total spend, most common countries: China, United States, Brasil, France.\n",
      "Cluster 4, 5.82 percent of customers, 40.75 average age of customers, 225.76 average days since order, 16.57 average total orders, 1010.82 average total spend, 1 most common quartile for days since order, 1 most common quartile for total orders, 1 most common quartile for total spend, most common countries: China, United States, Brasil, South Korea.\n",
      "Cluster 5, 13.37 percent of customers, 44.71 average age of customers, 111.35 average days since order, 6.79 average total orders, 400.97 average total spend, 1 most common quartile for days since order, 1 most common quartile for total orders, 1 most common quartile for total spend, most common countries: China, United States, Brasil, South Korea.\n",
      "Cluster 6, 17.36 percent of customers, 30.67 average age of customers, 272.62 average days since order, 1.13 average total orders, 44.83 average total spend, 3 most common quartile for days since order, 4 most common quartile for total orders, 4 most common quartile for total spend, most common countries: China, United States, Brasil, South Korea.\n",
      "Cluster 7, 16.52 percent of customers, 58.47 average age of customers, 208.19 average days since order, 1.68 average total orders, 85.28 average total spend, 2 most common quartile for days since order, 3 most common quartile for total orders, 3 most common quartile for total spend, most common countries: China, United States, Brasil, South Korea.\n",
      "Cluster 8, 18.45 percent of customers, 42.08 average age of customers, 837.38 average days since order, 1.38 average total orders, 67.98 average total spend, 4 most common quartile for days since order, 4 most common quartile for total orders, 4 most common quartile for total spend, most common countries: China, United States, Brasil, South Korea.\n"
     ]
    }
   ],
   "source": [
    "print(result['prompt'].iloc[0])"
   ]
  },
  {
   "cell_type": "code",
   "execution_count": 56,
   "id": "22a2d2ec-b781-498a-8feb-9621553e1f18",
   "metadata": {
    "tags": []
   },
   "outputs": [
    {
     "name": "stdout",
     "output_type": "stream",
     "text": [
      "\n",
      "# 12\n",
      "WITH\n",
      "    SHOTS AS (\n",
      "        SELECT\n",
      "            CONCAT(\n",
      "                'Cluster ', CAST(CENTROID_ID AS STRING), ', ',\n",
      "                CAST(ROUND(pct, 2) AS STRING), ' percent of customers, ',\n",
      "                CAST(ROUND(avg_age, 2) AS STRING), ' average age of customers, ',\n",
      "                CAST(ROUND(avg_recency, 2) AS STRING), ' average days since order, ',\n",
      "                CAST(ROUND(avg_frequency, 2) AS STRING), ' average total orders, ', \n",
      "                CAST(ROUND(avg_monetary, 2) AS STRING), ' average total spend, ',\n",
      "                CAST(mode_recency_quartile AS STRING), ' most common quartile for days since order, ',\n",
      "                CAST(mode_frequency_quartile AS STRING), ' most common quartile for total orders, ',\n",
      "                CAST(mode_monetary_quartile AS STRING), ' most common quartile for total spend, ',\n",
      "                'most common countries: ', first_country, ', ', second_country, ', ', third_country, ', ', fourth_country,\n",
      "                '.'\n",
      "            ) as shot\n",
      "        FROM `statmike-mlops-349915.bqml_2024.thelook_segmentSummary`\n",
      "    ),\n",
      "    PROMPT AS (\n",
      "        SELECT\n",
      "            CONCAT(\n",
      "                'The customers for your retail store have be grouped in clusters. ',\n",
      "                'Create a brief description for each of these clusters:',\n",
      "                '\\n\\n',\n",
      "                STRING_AGG(shot, '\\n')\n",
      "            ) as prompt\n",
      "        FROM SHOTS\n",
      "    )\n",
      "SELECT\n",
      "    ml_generate_text_llm_result as response\n",
      "FROM ML.GENERATE_TEXT(\n",
      "    MODEL `statmike-mlops-349915.bqml_2024.VERTEX_LLM`,\n",
      "    (SELECT * FROM PROMPT),\n",
      "    STRUCT(1000 AS max_output_tokens, TRUE AS flatten_json_output)\n",
      ")\n",
      "\n"
     ]
    }
   ],
   "source": [
    "query = f'''\n",
    "# 12\n",
    "WITH\n",
    "    SHOTS AS (\n",
    "        SELECT\n",
    "            CONCAT(\n",
    "                'Cluster ', CAST(CENTROID_ID AS STRING), ', ',\n",
    "                CAST(ROUND(pct, 2) AS STRING), ' percent of customers, ',\n",
    "                CAST(ROUND(avg_age, 2) AS STRING), ' average age of customers, ',\n",
    "                CAST(ROUND(avg_recency, 2) AS STRING), ' average days since order, ',\n",
    "                CAST(ROUND(avg_frequency, 2) AS STRING), ' average total orders, ', \n",
    "                CAST(ROUND(avg_monetary, 2) AS STRING), ' average total spend, ',\n",
    "                CAST(mode_recency_quartile AS STRING), ' most common quartile for days since order, ',\n",
    "                CAST(mode_frequency_quartile AS STRING), ' most common quartile for total orders, ',\n",
    "                CAST(mode_monetary_quartile AS STRING), ' most common quartile for total spend, ',\n",
    "                'most common countries: ', first_country, ', ', second_country, ', ', third_country, ', ', fourth_country,\n",
    "                '.'\n",
    "            ) as shot\n",
    "        FROM `{BQ_PROJECT}.{BQ_DATASET}.{BQ_TABLE_PREFIX}_segmentSummary`\n",
    "    ),\n",
    "    PROMPT AS (\n",
    "        SELECT\n",
    "            CONCAT(\n",
    "                'The customers for your retail store have be grouped in clusters. ',\n",
    "                'Create a brief description for each of these clusters:',\n",
    "                '\\\\n\\\\n',\n",
    "                STRING_AGG(shot, '\\\\n')\n",
    "            ) as prompt\n",
    "        FROM SHOTS\n",
    "    )\n",
    "SELECT\n",
    "    ml_generate_text_llm_result as response\n",
    "FROM ML.GENERATE_TEXT(\n",
    "    MODEL `{BQ_PROJECT}.{BQ_DATASET}.VERTEX_LLM`,\n",
    "    (SELECT * FROM PROMPT),\n",
    "    STRUCT(1000 AS max_output_tokens, TRUE AS flatten_json_output)\n",
    ")\n",
    "'''\n",
    "print(query)"
   ]
  },
  {
   "cell_type": "code",
   "execution_count": 57,
   "id": "f6657851-be8e-4bd5-b7ab-115fb96a31f0",
   "metadata": {
    "tags": []
   },
   "outputs": [
    {
     "data": {
      "text/html": [
       "<div>\n",
       "<style scoped>\n",
       "    .dataframe tbody tr th:only-of-type {\n",
       "        vertical-align: middle;\n",
       "    }\n",
       "\n",
       "    .dataframe tbody tr th {\n",
       "        vertical-align: top;\n",
       "    }\n",
       "\n",
       "    .dataframe thead th {\n",
       "        text-align: right;\n",
       "    }\n",
       "</style>\n",
       "<table border=\"1\" class=\"dataframe\">\n",
       "  <thead>\n",
       "    <tr style=\"text-align: right;\">\n",
       "      <th></th>\n",
       "      <th>response</th>\n",
       "    </tr>\n",
       "  </thead>\n",
       "  <tbody>\n",
       "    <tr>\n",
       "      <th>0</th>\n",
       "      <td>**Cluster 1: Loyal Customers**\\n- Middle-aged...</td>\n",
       "    </tr>\n",
       "  </tbody>\n",
       "</table>\n",
       "</div>"
      ],
      "text/plain": [
       "                                            response\n",
       "0   **Cluster 1: Loyal Customers**\\n- Middle-aged..."
      ]
     },
     "execution_count": 57,
     "metadata": {},
     "output_type": "execute_result"
    }
   ],
   "source": [
    "job = bq.query(query = query)\n",
    "job.result()\n",
    "result = job.to_dataframe()\n",
    "result"
   ]
  },
  {
   "cell_type": "code",
   "execution_count": 58,
   "id": "4138703a-9d4c-4f95-8db8-1da396efe72a",
   "metadata": {
    "tags": []
   },
   "outputs": [
    {
     "name": "stdout",
     "output_type": "stream",
     "text": [
      " **Cluster 1: Loyal Customers**\n",
      "- Middle-aged customers (average age: 42.71)\n",
      "- Long-term customers (average days since order: 619.2)\n",
      "- High repeat purchasers (average total orders: 5.35)\n",
      "- Moderate spenders (average total spend: 334.06)\n",
      "- Mostly from China, the United States, Brazil, and South Korea\n",
      "\n",
      "**Cluster 2: Young and Frequent Buyers**\n",
      "- Young customers (average age: 27.11)\n",
      "- Relatively new customers (average days since order: 188.05)\n",
      "- Frequent purchasers (average total orders: 2.89)\n",
      "- Low spenders (average total spend: 158.87)\n",
      "- Mostly from China, the United States, Brazil, and South Korea\n",
      "\n",
      "**Cluster 3: High-Value Customers**\n",
      "- Middle-aged customers (average age: 41.88)\n",
      "- Moderate tenure customers (average days since order: 229.6)\n",
      "- Very high repeat purchasers (average total orders: 25.33)\n",
      "- Highest spenders (average total spend: 2321.59)\n",
      "- Mostly from China, the United States, Brazil, and France\n",
      "\n",
      "**Cluster 4: Big Spenders**\n",
      "- Middle-aged customers (average age: 40.75)\n",
      "- Moderate tenure customers (average days since order: 225.76)\n",
      "- High repeat purchasers (average total orders: 16.57)\n",
      "- High spenders (average total spend: 1010.82)\n",
      "- Mostly from China, the United States, Brazil, and South Korea\n",
      "\n",
      "**Cluster 5: Steady Customers**\n",
      "- Older customers (average age: 44.71)\n",
      "- Relatively new customers (average days since order: 111.35)\n",
      "- Moderate repeat purchasers (average total orders: 6.79)\n",
      "- Moderate spenders (average total spend: 400.97)\n",
      "- Mostly from China, the United States, Brazil, and South Korea\n",
      "\n",
      "**Cluster 6: Low-Engagement Customers**\n",
      "- Young customers (average age: 30.67)\n",
      "- Moderate tenure customers (average days since order: 272.62)\n",
      "- Very low repeat purchasers (average total orders: 1.13)\n",
      "- Very low spenders (average total spend: 44.83)\n",
      "- Mostly from China, the United States, Brazil, and South Korea\n",
      "\n",
      "**Cluster 7: Senior Customers**\n",
      "- Senior customers (average age: 58.47)\n",
      "- Moderate tenure customers (average days since order: 208.19)\n",
      "- Low repeat purchasers (average total orders: 1.68)\n",
      "- Very low spenders (average total spend: 85.28)\n",
      "- Mostly from China, the United States, Brazil, and South Korea\n",
      "\n",
      "**Cluster 8: Dormant Customers**\n",
      "- Middle-aged customers (average age: 42.08)\n",
      "- Very long-term customers (average days since order: 837.38)\n",
      "- Very low repeat purchasers (average total orders: 1.38)\n",
      "- Very low spenders (average total spend: 67.98)\n",
      "- Mostly from China, the United States, Brazil, and South Korea\n"
     ]
    }
   ],
   "source": [
    "print(result['response'].iloc[0])"
   ]
  },
  {
   "cell_type": "markdown",
   "id": "95cd13bc-9a8e-4796-8554-560a5b6dd428",
   "metadata": {},
   "source": [
    "---\n",
    "## Predict Clusters Today\n"
   ]
  },
  {
   "cell_type": "code",
   "execution_count": 59,
   "id": "0a1962bd-f805-4c38-a064-a4321aea00a3",
   "metadata": {
    "tags": []
   },
   "outputs": [],
   "source": [
    "query = f\"\"\"\n",
    "# 13\n",
    "CREATE OR REPLACE TABLE `{BQ_PROJECT}.{BQ_DATASET}.{BQ_TABLE_PREFIX}_featuresToday` AS\n",
    "WITH\n",
    "    get_rfm AS (\n",
    "        SELECT\n",
    "            customer_id, age, gender, country,\n",
    "            DATE_DIFF(DATE_SUB(CURRENT_DATE(), INTERVAL 12 MONTH), MAX(order_date), DAY) AS recency,\n",
    "            COUNT(order_id) AS frequency,\n",
    "            SUM(revenue) AS monetary,\n",
    "        FROM `{BQ_PROJECT}.{BQ_DATASET}.{BQ_TABLE_PREFIX}_raw`\n",
    "        GROUP BY customer_id, age, gender, country\n",
    "    ),\n",
    "    get_quartiles AS (\n",
    "        SELECT\n",
    "            customer_id,\n",
    "            NTILE(4) OVER (ORDER BY recency ASC) AS recency_quartile,\n",
    "            NTILE(4) OVER (ORDER BY frequency DESC) AS frequency_quartile,\n",
    "            NTILE(4) OVER (ORDER BY monetary DESC) AS monetary_quartile,\n",
    "        FROM get_rfm\n",
    "    ),\n",
    "    get_rfm_score AS (\n",
    "        SELECT\n",
    "            customer_id,\n",
    "            recency_quartile + frequency_quartile + monetary_quartile AS rfm_score\n",
    "        FROM get_quartiles\n",
    "    )\n",
    "SELECT\n",
    "    CAST(rfm.customer_id AS STRING) AS customer_id,\n",
    "    rfm.age,\n",
    "    rfm.gender,\n",
    "    rfm.country,\n",
    "    rfm.recency,\n",
    "    rfm.frequency,\n",
    "    rfm.monetary,\n",
    "    q.recency_quartile,\n",
    "    q.frequency_quartile,\n",
    "    q.monetary_quartile,\n",
    "    rfms.rfm_score\n",
    "FROM get_rfm as rfm\n",
    "LEFT JOIN get_quartiles as q ON rfm.customer_id = q.customer_id\n",
    "LEFT JOIN get_rfm_score as rfms ON rfm.customer_id = rfms.customer_id\n",
    "\"\"\""
   ]
  },
  {
   "cell_type": "code",
   "execution_count": 60,
   "id": "ce86c076-d541-4908-bfa8-afafdb1bc817",
   "metadata": {
    "tags": []
   },
   "outputs": [
    {
     "name": "stdout",
     "output_type": "stream",
     "text": [
      "\n",
      "# 13\n",
      "CREATE OR REPLACE TABLE `statmike-mlops-349915.bqml_2024.thelook_featuresToday` AS\n",
      "WITH\n",
      "    get_rfm AS (\n",
      "        SELECT\n",
      "            customer_id, age, gender, country,\n",
      "            DATE_DIFF(DATE_SUB(CURRENT_DATE(), INTERVAL 12 MONTH), MAX(order_date), DAY) AS recency,\n",
      "            COUNT(order_id) AS frequency,\n",
      "            SUM(revenue) AS monetary,\n",
      "        FROM `statmike-mlops-349915.bqml_2024.thelook_raw`\n",
      "        GROUP BY customer_id, age, gender, country\n",
      "    ),\n",
      "    get_quartiles AS (\n",
      "        SELECT\n",
      "            customer_id,\n",
      "            NTILE(4) OVER (ORDER BY recency ASC) AS recency_quartile,\n",
      "            NTILE(4) OVER (ORDER BY frequency DESC) AS frequency_quartile,\n",
      "            NTILE(4) OVER (ORDER BY monetary DESC) AS monetary_quartile,\n",
      "        FROM get_rfm\n",
      "    ),\n",
      "    get_rfm_score AS (\n",
      "        SELECT\n",
      "            customer_id,\n",
      "            recency_quartile + frequency_quartile + monetary_quartile AS rfm_score\n",
      "        FROM get_quartiles\n",
      "    )\n",
      "SELECT\n",
      "    CAST(rfm.customer_id AS STRING) AS customer_id,\n",
      "    rfm.age,\n",
      "    rfm.gender,\n",
      "    rfm.country,\n",
      "    rfm.recency,\n",
      "    rfm.frequency,\n",
      "    rfm.monetary,\n",
      "    q.recency_quartile,\n",
      "    q.frequency_quartile,\n",
      "    q.monetary_quartile,\n",
      "    rfms.rfm_score\n",
      "FROM get_rfm as rfm\n",
      "LEFT JOIN get_quartiles as q ON rfm.customer_id = q.customer_id\n",
      "LEFT JOIN get_rfm_score as rfms ON rfm.customer_id = rfms.customer_id\n",
      "\n"
     ]
    }
   ],
   "source": [
    "print(query)"
   ]
  },
  {
   "cell_type": "code",
   "execution_count": 61,
   "id": "d4968d01-af70-4bab-b424-f6be0d4c7f5b",
   "metadata": {
    "tags": []
   },
   "outputs": [
    {
     "data": {
      "text/plain": [
       "<google.cloud.bigquery.table._EmptyRowIterator at 0x7ffb11e8f7f0>"
      ]
     },
     "execution_count": 61,
     "metadata": {},
     "output_type": "execute_result"
    }
   ],
   "source": [
    "job = bq.query(query = query)\n",
    "job.result()"
   ]
  },
  {
   "cell_type": "code",
   "execution_count": null,
   "id": "02ca9dce-9bf4-4c64-9f23-6eabe8569649",
   "metadata": {},
   "outputs": [],
   "source": []
  },
  {
   "cell_type": "markdown",
   "id": "d62f9cfd-7bfa-4bd3-8e0f-333d8ff32fb0",
   "metadata": {},
   "source": [
    "---\n",
    "## Forecasting Revenue By Segment"
   ]
  },
  {
   "cell_type": "code",
   "execution_count": 62,
   "id": "b62e7fd7-d894-446e-8dab-aa1f4dfdd642",
   "metadata": {},
   "outputs": [],
   "source": [
    "query = f'''\n",
    "# 14\n",
    "CREATE OR REPLACE TABLE `{BQ_PROJECT}.{BQ_DATASET}.{BQ_TABLE_PREFIX}_forecast` AS\n",
    "    WITH\n",
    "        SEGMENTS AS (\n",
    "            SELECT customer_id, centroid_id as cluster\n",
    "            FROM ML.PREDICT (\n",
    "                MODEL `{BQ_PROJECT}.{BQ_DATASET}.{BQ_TABLE_PREFIX}_features_kmeans`,\n",
    "                (SELECT * FROM `{BQ_PROJECT}.{BQ_DATASET}.{BQ_TABLE_PREFIX}_featuresToday`)\n",
    "            )\n",
    "        )\n",
    "    SELECT DATE_TRUNC(r.order_date, MONTH) as order_date, s.cluster, SUM(r.revenue) as total_revenue\n",
    "    FROM SEGMENTS as s\n",
    "    JOIN `{BQ_PROJECT}.{BQ_DATASET}.{BQ_TABLE_PREFIX}_raw` as r ON CAST(r.customer_id AS STRING) = s.customer_id\n",
    "    GROUP BY s.cluster, order_date\n",
    "    ORDER BY s.cluster, order_date\n",
    ";\n",
    "'''"
   ]
  },
  {
   "cell_type": "code",
   "execution_count": 63,
   "id": "8261cc6c-3d58-4f2d-8ac2-de872a111666",
   "metadata": {
    "tags": []
   },
   "outputs": [
    {
     "name": "stdout",
     "output_type": "stream",
     "text": [
      "\n",
      "# 14\n",
      "CREATE OR REPLACE TABLE `statmike-mlops-349915.bqml_2024.thelook_forecast` AS\n",
      "    WITH\n",
      "        SEGMENTS AS (\n",
      "            SELECT customer_id, centroid_id as cluster\n",
      "            FROM ML.PREDICT (\n",
      "                MODEL `statmike-mlops-349915.bqml_2024.thelook_features_kmeans`,\n",
      "                (SELECT * FROM `statmike-mlops-349915.bqml_2024.thelook_featuresToday`)\n",
      "            )\n",
      "        )\n",
      "    SELECT DATE_TRUNC(r.order_date, MONTH) as order_date, s.cluster, SUM(r.revenue) as total_revenue\n",
      "    FROM SEGMENTS as s\n",
      "    JOIN `statmike-mlops-349915.bqml_2024.thelook_raw` as r ON CAST(r.customer_id AS STRING) = s.customer_id\n",
      "    GROUP BY s.cluster, order_date\n",
      "    ORDER BY s.cluster, order_date\n",
      ";\n",
      "\n"
     ]
    }
   ],
   "source": [
    "print(query)"
   ]
  },
  {
   "cell_type": "code",
   "execution_count": 64,
   "id": "013d0899-4858-477b-b5df-d39e2c1a7844",
   "metadata": {
    "tags": []
   },
   "outputs": [
    {
     "data": {
      "text/plain": [
       "<google.cloud.bigquery.table._EmptyRowIterator at 0x7ffb11e8fbe0>"
      ]
     },
     "execution_count": 64,
     "metadata": {},
     "output_type": "execute_result"
    }
   ],
   "source": [
    "job = bq.query(query = query)\n",
    "job.result()"
   ]
  },
  {
   "cell_type": "code",
   "execution_count": 65,
   "id": "50b8d988-0e88-4c9a-9736-9bcb44421d5d",
   "metadata": {
    "tags": []
   },
   "outputs": [
    {
     "data": {
      "text/plain": [
       "16.915"
      ]
     },
     "execution_count": 65,
     "metadata": {},
     "output_type": "execute_result"
    }
   ],
   "source": [
    "query = f\"\"\"\n",
    "# 15\n",
    "CREATE OR REPLACE MODEL `{BQ_PROJECT}.{BQ_DATASET}.{BQ_TABLE_PREFIX}_arimaplus`\n",
    "OPTIONS\n",
    "    (model_type = 'ARIMA_PLUS',\n",
    "    time_series_timestamp_col = 'order_date',\n",
    "    time_series_data_col = 'total_revenue',\n",
    "    time_series_id_col = 'cluster',\n",
    "    data_frequency = 'MONTHLY',\n",
    "    auto_arima_max_order = 5,\n",
    "    holiday_region = ['CN', 'BR', 'KR', 'US'],\n",
    "    horizon = 12\n",
    "    #,forecast_limit_lower_bound = 0\n",
    "    ) AS\n",
    "SELECT *\n",
    "FROM `{BQ_PROJECT}.{BQ_DATASET}.{BQ_TABLE_PREFIX}_forecast`\n",
    "WHERE order_date < DATE_SUB(CURRENT_DATE(), INTERVAL 12 MONTH)\n",
    "\"\"\"\n",
    "job = bq.query(query)\n",
    "job.result()\n",
    "(job.ended-job.started).total_seconds()"
   ]
  },
  {
   "cell_type": "code",
   "execution_count": 66,
   "id": "7117828a-8740-4742-b0de-362a91848c90",
   "metadata": {
    "tags": []
   },
   "outputs": [
    {
     "name": "stdout",
     "output_type": "stream",
     "text": [
      "\n",
      "# 15\n",
      "CREATE OR REPLACE MODEL `statmike-mlops-349915.bqml_2024.thelook_arimaplus`\n",
      "OPTIONS\n",
      "    (model_type = 'ARIMA_PLUS',\n",
      "    time_series_timestamp_col = 'order_date',\n",
      "    time_series_data_col = 'total_revenue',\n",
      "    time_series_id_col = 'cluster',\n",
      "    data_frequency = 'MONTHLY',\n",
      "    auto_arima_max_order = 5,\n",
      "    holiday_region = ['CN', 'BR', 'KR', 'US'],\n",
      "    horizon = 12\n",
      "    #,forecast_limit_lower_bound = 0\n",
      "    ) AS\n",
      "SELECT *\n",
      "FROM `statmike-mlops-349915.bqml_2024.thelook_forecast`\n",
      "WHERE order_date < DATE_SUB(CURRENT_DATE(), INTERVAL 12 MONTH)\n",
      "\n"
     ]
    }
   ],
   "source": [
    "print(query)"
   ]
  },
  {
   "cell_type": "code",
   "execution_count": 67,
   "id": "b28cfe4d-1abe-4bb7-9685-4873ad08b952",
   "metadata": {
    "tags": []
   },
   "outputs": [
    {
     "name": "stdout",
     "output_type": "stream",
     "text": [
      "\n",
      "# 16\n",
      "CREATE OR REPLACE TABLE `statmike-mlops-349915.bqml_2024.thelook_forecastResult` AS\n",
      "SELECT *, \n",
      "    DATE(DATE_TRUNC(time_series_timestamp, MONTH)) AS order_date\n",
      "FROM ML.EXPLAIN_FORECAST(\n",
      "    MODEL `statmike-mlops-349915.bqml_2024.thelook_arimaplus`,\n",
      "    STRUCT(12 AS horizon, 0.95 AS confidence_level))\n",
      "ORDER BY cluster, order_date\n",
      "\n"
     ]
    }
   ],
   "source": [
    "query = f'''\n",
    "# 16\n",
    "CREATE OR REPLACE TABLE `{BQ_PROJECT}.{BQ_DATASET}.{BQ_TABLE_PREFIX}_forecastResult` AS\n",
    "SELECT *, \n",
    "    DATE(DATE_TRUNC(time_series_timestamp, MONTH)) AS order_date\n",
    "FROM ML.EXPLAIN_FORECAST(\n",
    "    MODEL `{BQ_PROJECT}.{BQ_DATASET}.{BQ_TABLE_PREFIX}_arimaplus`,\n",
    "    STRUCT(12 AS horizon, 0.95 AS confidence_level))\n",
    "ORDER BY cluster, order_date\n",
    "'''\n",
    "print(query)"
   ]
  },
  {
   "cell_type": "code",
   "execution_count": 68,
   "id": "b4dbd5e0-85ec-4a3f-bb43-0a326a561afb",
   "metadata": {
    "tags": []
   },
   "outputs": [
    {
     "data": {
      "text/plain": [
       "3.708"
      ]
     },
     "execution_count": 68,
     "metadata": {},
     "output_type": "execute_result"
    }
   ],
   "source": [
    "job = bq.query(query)\n",
    "job.result()\n",
    "(job.ended-job.started).total_seconds()"
   ]
  },
  {
   "cell_type": "markdown",
   "id": "cb022de8-d866-4b56-9076-f0edb2681932",
   "metadata": {},
   "source": [
    "\n",
    "---\n",
    "### SWITCH TO DATAFRAMES WORK IN BQ STUDIO\n",
    "\n",
    "---"
   ]
  },
  {
   "cell_type": "markdown",
   "id": "b4898339-227e-4b29-bb65-c7eb87319082",
   "metadata": {},
   "source": [
    "---\n",
    "## Early Categorization of New Customers"
   ]
  },
  {
   "cell_type": "code",
   "execution_count": null,
   "id": "b0fcb4a6-67b5-485e-a031-6fd0647bf0a7",
   "metadata": {},
   "outputs": [],
   "source": []
  }
 ],
 "metadata": {
  "environment": {
   "kernel": "conda-root-py",
   "name": "workbench-notebooks.m115",
   "type": "gcloud",
   "uri": "gcr.io/deeplearning-platform-release/workbench-notebooks:m115"
  },
  "kernelspec": {
   "display_name": "Python 3 (ipykernel)",
   "language": "python",
   "name": "conda-root-py"
  },
  "language_info": {
   "codemirror_mode": {
    "name": "ipython",
    "version": 3
   },
   "file_extension": ".py",
   "mimetype": "text/x-python",
   "name": "python",
   "nbconvert_exporter": "python",
   "pygments_lexer": "ipython3",
   "version": "3.10.13"
  }
 },
 "nbformat": 4,
 "nbformat_minor": 5
}
