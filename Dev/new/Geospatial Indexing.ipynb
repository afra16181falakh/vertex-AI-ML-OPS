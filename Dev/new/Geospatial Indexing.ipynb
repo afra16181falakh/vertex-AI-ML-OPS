{
 "cells": [
  {
   "cell_type": "markdown",
   "id": "a3779699",
   "metadata": {},
   "source": [
    "![tracker](https://us-central1-vertex-ai-mlops-369716.cloudfunctions.net/pixel-tracking?path=statmike%2Fvertex-ai-mlops%2FDev%2Fnew&file=Geospatial+Indexing.ipynb)\n",
    "<!--- header table --->\n",
    "<table align=\"left\">\n",
    "<tr>\n",
    "  <td style=\"text-align: center\">\n",
    "    <a href=\"https://github.com/statmike/vertex-ai-mlops/blob/main/Dev/new/Geospatial%20Indexing.ipynb\">\n",
    "      <img width=\"32px\" src=\"https://www.svgrepo.com/download/217753/github.svg\" alt=\"GitHub logo\">\n",
    "      <br>View on<br>GitHub\n",
    "    </a>\n",
    "  </td>\n",
    "  <td style=\"text-align: center\">\n",
    "    <a href=\"https://colab.research.google.com/github/statmike/vertex-ai-mlops/blob/main/Dev/new/Geospatial%20Indexing.ipynb\">\n",
    "      <img width=\"32px\" src=\"https://www.gstatic.com/pantheon/images/bigquery/welcome_page/colab-logo.svg\" alt=\"Google Colaboratory logo\">\n",
    "      <br>Run in<br>Colab\n",
    "    </a>\n",
    "  </td>\n",
    "  <td style=\"text-align: center\">\n",
    "    <a href=\"https://console.cloud.google.com/vertex-ai/colab/import/https%3A%2F%2Fraw.githubusercontent.com%2Fstatmike%2Fvertex-ai-mlops%2Fmain%2FDev%2Fnew%2FGeospatial%2520Indexing.ipynb\">\n",
    "      <img width=\"32px\" src=\"https://lh3.googleusercontent.com/JmcxdQi-qOpctIvWKgPtrzZdJJK-J3sWE1RsfjZNwshCFgE_9fULcNpuXYTilIR2hjwN\" alt=\"Google Cloud Colab Enterprise logo\">\n",
    "      <br>Run in<br>Colab Enterprise\n",
    "    </a>\n",
    "  </td>      \n",
    "  <td style=\"text-align: center\">\n",
    "    <a href=\"https://console.cloud.google.com/bigquery/import?url=https://github.com/statmike/vertex-ai-mlops/blob/main/Dev/new/Geospatial%20Indexing.ipynb\">\n",
    "      <img width=\"32px\" src=\"https://www.gstatic.com/images/branding/gcpiconscolors/bigquery/v1/32px.svg\" alt=\"BigQuery logo\">\n",
    "      <br>Open in<br>BigQuery Studio\n",
    "    </a>\n",
    "  </td>\n",
    "  <td style=\"text-align: center\">\n",
    "    <a href=\"https://console.cloud.google.com/vertex-ai/workbench/deploy-notebook?download_url=https://raw.githubusercontent.com/statmike/vertex-ai-mlops/main/Dev/new/Geospatial%20Indexing.ipynb\">\n",
    "      <img width=\"32px\" src=\"https://www.gstatic.com/images/branding/gcpiconscolors/vertexai/v1/32px.svg\" alt=\"Vertex AI logo\">\n",
    "      <br>Open in<br>Vertex AI Workbench\n",
    "    </a>\n",
    "  </td>\n",
    "</tr>\n",
    "<tr>\n",
    "  <td colspan=\"5\" style=\"text-align: right\">\n",
    "    <b>Share This On: </b> \n",
    "    <a href=\"https://www.linkedin.com/sharing/share-offsite/?url=https://github.com/statmike/vertex-ai-mlops/blob/main/Dev/new/Geospatial%2520Indexing.ipynb\"><img src=\"https://upload.wikimedia.org/wikipedia/commons/8/81/LinkedIn_icon.svg\" alt=\"Linkedin Logo\" width=\"20px\"></a> \n",
    "    <a href=\"https://reddit.com/submit?url=https://github.com/statmike/vertex-ai-mlops/blob/main/Dev/new/Geospatial%2520Indexing.ipynb\"><img src=\"https://redditinc.com/hubfs/Reddit%20Inc/Brand/Reddit_Logo.png\" alt=\"Reddit Logo\" width=\"20px\"></a> \n",
    "    <a href=\"https://bsky.app/intent/compose?text=https://github.com/statmike/vertex-ai-mlops/blob/main/Dev/new/Geospatial%2520Indexing.ipynb\"><img src=\"https://upload.wikimedia.org/wikipedia/commons/7/7a/Bluesky_Logo.svg\" alt=\"BlueSky Logo\" width=\"20px\"></a> \n",
    "    <a href=\"https://twitter.com/intent/tweet?url=https://github.com/statmike/vertex-ai-mlops/blob/main/Dev/new/Geospatial%2520Indexing.ipynb\"><img src=\"https://upload.wikimedia.org/wikipedia/commons/5/5a/X_icon_2.svg\" alt=\"X (Twitter) Logo\" width=\"20px\"></a> \n",
    "  </td>\n",
    "</tr>\n",
    "<tr>\n",
    "  <td colspan=\"5\" style=\"text-align: right\">\n",
    "    <b>Connect With Author On: </b> \n",
    "    <a href=\"https://www.linkedin.com/in/statmike\"><img src=\"https://upload.wikimedia.org/wikipedia/commons/8/81/LinkedIn_icon.svg\" alt=\"Linkedin Logo\" width=\"20px\"></a>\n",
    "    <a href=\"https://www.github.com/statmike\"><img src=\"https://www.svgrepo.com/download/217753/github.svg\" alt=\"GitHub Logo\" width=\"20px\"></a> \n",
    "    <a href=\"https://www.youtube.com/@statmike-channel\"><img src=\"https://upload.wikimedia.org/wikipedia/commons/f/fd/YouTube_full-color_icon_%282024%29.svg\" alt=\"YouTube Logo\" width=\"20px\"></a>\n",
    "    <a href=\"https://bsky.app/profile/statmike.bsky.social\"><img src=\"https://upload.wikimedia.org/wikipedia/commons/7/7a/Bluesky_Logo.svg\" alt=\"BlueSky Logo\" width=\"20px\"></a> \n",
    "    <a href=\"https://x.com/statmike\"><img src=\"https://upload.wikimedia.org/wikipedia/commons/5/5a/X_icon_2.svg\" alt=\"X (Twitter) Logo\" width=\"20px\"></a>\n",
    "  </td>\n",
    "</tr>\n",
    "</table>"
   ]
  },
  {
   "cell_type": "markdown",
   "id": "2abe8520-d02c-495a-8a7b-db6d14ba1b84",
   "metadata": {},
   "source": [
    "# Geospatial Indexing\n",
    "\n",
    "https://cloud.google.com/bigquery/docs/vector-search-intro"
   ]
  },
  {
   "cell_type": "markdown",
   "id": "c9061b5f-97c9-42f0-bf1d-8968be670a9b",
   "metadata": {},
   "source": [
    "---\n",
    "## Setup"
   ]
  },
  {
   "cell_type": "code",
   "execution_count": 1,
   "id": "e8ed6d79-83c7-448e-806e-d9595737a2c7",
   "metadata": {
    "tags": []
   },
   "outputs": [
    {
     "data": {
      "text/plain": [
       "'statmike-mlops-349915'"
      ]
     },
     "execution_count": 1,
     "metadata": {},
     "output_type": "execute_result"
    }
   ],
   "source": [
    "project = !gcloud config get-value project\n",
    "PROJECT_ID = project[0]\n",
    "PROJECT_ID"
   ]
  },
  {
   "cell_type": "code",
   "execution_count": 2,
   "id": "92b4c901-9a55-4c85-bf41-dbec97f9aa17",
   "metadata": {
    "tags": []
   },
   "outputs": [],
   "source": [
    "REGION = 'us-central1'\n",
    "EXPERIMENT = 'indexing'\n",
    "SERIES = 'applied-geospatial'"
   ]
  },
  {
   "cell_type": "code",
   "execution_count": 3,
   "id": "f9202482-9958-499a-adac-38946bbdab73",
   "metadata": {
    "tags": []
   },
   "outputs": [],
   "source": [
    "BQ_SOURCE = 'bigquery-public-data.geo_openstreetmap.planet_features'\n",
    "\n",
    "BQ_REGION = REGION[0:2]\n",
    "BQ_PROJECT = PROJECT_ID\n",
    "BQ_DATASET = SERIES.replace('-', '_')\n",
    "BQ_TABLE_PREFIX = EXPERIMENT"
   ]
  },
  {
   "cell_type": "code",
   "execution_count": 4,
   "id": "9b435075-5643-4dbb-9d0b-aae809691051",
   "metadata": {
    "tags": []
   },
   "outputs": [],
   "source": [
    "import matplotlib.pyplot as plt\n",
    "\n",
    "from google.cloud import bigquery\n",
    "import bigframes.pandas as bpd"
   ]
  },
  {
   "cell_type": "code",
   "execution_count": 5,
   "id": "0d3b6394-c9c7-4bb1-8d5c-d6a9878d7a7b",
   "metadata": {
    "tags": []
   },
   "outputs": [],
   "source": [
    "bq = bigquery.Client(project = PROJECT_ID)\n",
    "bpd.options.bigquery.project = PROJECT_ID"
   ]
  },
  {
   "cell_type": "code",
   "execution_count": 6,
   "id": "ea47d3bd-2531-4c36-9de7-c93d9ef1a235",
   "metadata": {
    "tags": []
   },
   "outputs": [],
   "source": [
    "# create/link to dataset\n",
    "ds = bigquery.DatasetReference(BQ_PROJECT, BQ_DATASET)\n",
    "ds.location = BQ_REGION\n",
    "ds.labels = {'series': f'{SERIES}'}\n",
    "ds = bq.create_dataset(dataset = ds, exists_ok = True) "
   ]
  },
  {
   "cell_type": "markdown",
   "id": "8aec9940-e6cf-44e7-a073-af17b8f4e5a9",
   "metadata": {},
   "source": [
    "---\n",
    "## Review Source"
   ]
  },
  {
   "cell_type": "code",
   "execution_count": 27,
   "id": "b1d0425a-4e5f-431b-b4e6-b91b88258af7",
   "metadata": {
    "tags": []
   },
   "outputs": [
    {
     "data": {
      "text/html": [
       "<div>\n",
       "<style scoped>\n",
       "    .dataframe tbody tr th:only-of-type {\n",
       "        vertical-align: middle;\n",
       "    }\n",
       "\n",
       "    .dataframe tbody tr th {\n",
       "        vertical-align: top;\n",
       "    }\n",
       "\n",
       "    .dataframe thead th {\n",
       "        text-align: right;\n",
       "    }\n",
       "</style>\n",
       "<table border=\"1\" class=\"dataframe\">\n",
       "  <thead>\n",
       "    <tr style=\"text-align: right;\">\n",
       "      <th></th>\n",
       "      <th>table_catalog</th>\n",
       "      <th>table_schema</th>\n",
       "      <th>table_name</th>\n",
       "      <th>column_name</th>\n",
       "      <th>field_path</th>\n",
       "      <th>data_type</th>\n",
       "      <th>description</th>\n",
       "      <th>collation_name</th>\n",
       "      <th>rounding_mode</th>\n",
       "    </tr>\n",
       "  </thead>\n",
       "  <tbody>\n",
       "    <tr>\n",
       "      <th>0</th>\n",
       "      <td>bigquery-public-data</td>\n",
       "      <td>geo_openstreetmap</td>\n",
       "      <td>planet_features</td>\n",
       "      <td>feature_type</td>\n",
       "      <td>feature_type</td>\n",
       "      <td>STRING</td>\n",
       "      <td>None</td>\n",
       "      <td>NULL</td>\n",
       "      <td>None</td>\n",
       "    </tr>\n",
       "    <tr>\n",
       "      <th>1</th>\n",
       "      <td>bigquery-public-data</td>\n",
       "      <td>geo_openstreetmap</td>\n",
       "      <td>planet_features</td>\n",
       "      <td>osm_id</td>\n",
       "      <td>osm_id</td>\n",
       "      <td>INT64</td>\n",
       "      <td>None</td>\n",
       "      <td>NULL</td>\n",
       "      <td>None</td>\n",
       "    </tr>\n",
       "    <tr>\n",
       "      <th>2</th>\n",
       "      <td>bigquery-public-data</td>\n",
       "      <td>geo_openstreetmap</td>\n",
       "      <td>planet_features</td>\n",
       "      <td>osm_way_id</td>\n",
       "      <td>osm_way_id</td>\n",
       "      <td>INT64</td>\n",
       "      <td>None</td>\n",
       "      <td>NULL</td>\n",
       "      <td>None</td>\n",
       "    </tr>\n",
       "    <tr>\n",
       "      <th>3</th>\n",
       "      <td>bigquery-public-data</td>\n",
       "      <td>geo_openstreetmap</td>\n",
       "      <td>planet_features</td>\n",
       "      <td>osm_version</td>\n",
       "      <td>osm_version</td>\n",
       "      <td>INT64</td>\n",
       "      <td>None</td>\n",
       "      <td>NULL</td>\n",
       "      <td>None</td>\n",
       "    </tr>\n",
       "    <tr>\n",
       "      <th>4</th>\n",
       "      <td>bigquery-public-data</td>\n",
       "      <td>geo_openstreetmap</td>\n",
       "      <td>planet_features</td>\n",
       "      <td>osm_timestamp</td>\n",
       "      <td>osm_timestamp</td>\n",
       "      <td>TIMESTAMP</td>\n",
       "      <td>None</td>\n",
       "      <td>NULL</td>\n",
       "      <td>None</td>\n",
       "    </tr>\n",
       "    <tr>\n",
       "      <th>5</th>\n",
       "      <td>bigquery-public-data</td>\n",
       "      <td>geo_openstreetmap</td>\n",
       "      <td>planet_features</td>\n",
       "      <td>all_tags</td>\n",
       "      <td>all_tags</td>\n",
       "      <td>ARRAY&lt;STRUCT&lt;key STRING, value STRING&gt;&gt;</td>\n",
       "      <td>None</td>\n",
       "      <td>NULL</td>\n",
       "      <td>None</td>\n",
       "    </tr>\n",
       "    <tr>\n",
       "      <th>6</th>\n",
       "      <td>bigquery-public-data</td>\n",
       "      <td>geo_openstreetmap</td>\n",
       "      <td>planet_features</td>\n",
       "      <td>all_tags</td>\n",
       "      <td>all_tags.key</td>\n",
       "      <td>STRING</td>\n",
       "      <td>None</td>\n",
       "      <td>NULL</td>\n",
       "      <td>None</td>\n",
       "    </tr>\n",
       "    <tr>\n",
       "      <th>7</th>\n",
       "      <td>bigquery-public-data</td>\n",
       "      <td>geo_openstreetmap</td>\n",
       "      <td>planet_features</td>\n",
       "      <td>all_tags</td>\n",
       "      <td>all_tags.value</td>\n",
       "      <td>STRING</td>\n",
       "      <td>None</td>\n",
       "      <td>NULL</td>\n",
       "      <td>None</td>\n",
       "    </tr>\n",
       "    <tr>\n",
       "      <th>8</th>\n",
       "      <td>bigquery-public-data</td>\n",
       "      <td>geo_openstreetmap</td>\n",
       "      <td>planet_features</td>\n",
       "      <td>geometry</td>\n",
       "      <td>geometry</td>\n",
       "      <td>GEOGRAPHY</td>\n",
       "      <td>None</td>\n",
       "      <td>NULL</td>\n",
       "      <td>None</td>\n",
       "    </tr>\n",
       "  </tbody>\n",
       "</table>\n",
       "</div>"
      ],
      "text/plain": [
       "          table_catalog       table_schema       table_name    column_name  \\\n",
       "0  bigquery-public-data  geo_openstreetmap  planet_features   feature_type   \n",
       "1  bigquery-public-data  geo_openstreetmap  planet_features         osm_id   \n",
       "2  bigquery-public-data  geo_openstreetmap  planet_features     osm_way_id   \n",
       "3  bigquery-public-data  geo_openstreetmap  planet_features    osm_version   \n",
       "4  bigquery-public-data  geo_openstreetmap  planet_features  osm_timestamp   \n",
       "5  bigquery-public-data  geo_openstreetmap  planet_features       all_tags   \n",
       "6  bigquery-public-data  geo_openstreetmap  planet_features       all_tags   \n",
       "7  bigquery-public-data  geo_openstreetmap  planet_features       all_tags   \n",
       "8  bigquery-public-data  geo_openstreetmap  planet_features       geometry   \n",
       "\n",
       "       field_path                                data_type description  \\\n",
       "0    feature_type                                   STRING        None   \n",
       "1          osm_id                                    INT64        None   \n",
       "2      osm_way_id                                    INT64        None   \n",
       "3     osm_version                                    INT64        None   \n",
       "4   osm_timestamp                                TIMESTAMP        None   \n",
       "5        all_tags  ARRAY<STRUCT<key STRING, value STRING>>        None   \n",
       "6    all_tags.key                                   STRING        None   \n",
       "7  all_tags.value                                   STRING        None   \n",
       "8        geometry                                GEOGRAPHY        None   \n",
       "\n",
       "  collation_name rounding_mode  \n",
       "0           NULL          None  \n",
       "1           NULL          None  \n",
       "2           NULL          None  \n",
       "3           NULL          None  \n",
       "4           NULL          None  \n",
       "5           NULL          None  \n",
       "6           NULL          None  \n",
       "7           NULL          None  \n",
       "8           NULL          None  "
      ]
     },
     "execution_count": 27,
     "metadata": {},
     "output_type": "execute_result"
    }
   ],
   "source": [
    "bq.query(query = f'''\n",
    "SELECT *\n",
    "FROM {BQ_SOURCE.split('.')[0]}.{BQ_SOURCE.split('.')[1]}.INFORMATION_SCHEMA.COLUMN_FIELD_PATHS\n",
    "WHERE TABLE_NAME = '{BQ_SOURCE.split('.')[2]}'\n",
    "''').to_dataframe()"
   ]
  },
  {
   "cell_type": "code",
   "execution_count": 28,
   "id": "d9ff64d5-38e5-4fa7-962f-5d1bac2e2c9f",
   "metadata": {
    "tags": []
   },
   "outputs": [
    {
     "data": {
      "text/html": [
       "<div>\n",
       "<style scoped>\n",
       "    .dataframe tbody tr th:only-of-type {\n",
       "        vertical-align: middle;\n",
       "    }\n",
       "\n",
       "    .dataframe tbody tr th {\n",
       "        vertical-align: top;\n",
       "    }\n",
       "\n",
       "    .dataframe thead th {\n",
       "        text-align: right;\n",
       "    }\n",
       "</style>\n",
       "<table border=\"1\" class=\"dataframe\">\n",
       "  <thead>\n",
       "    <tr style=\"text-align: right;\">\n",
       "      <th></th>\n",
       "      <th>feature_type</th>\n",
       "      <th>osm_id</th>\n",
       "      <th>osm_way_id</th>\n",
       "      <th>osm_version</th>\n",
       "      <th>osm_timestamp</th>\n",
       "      <th>all_tags</th>\n",
       "      <th>geometry</th>\n",
       "    </tr>\n",
       "  </thead>\n",
       "  <tbody>\n",
       "    <tr>\n",
       "      <th>0</th>\n",
       "      <td>other_relations</td>\n",
       "      <td>8767442</td>\n",
       "      <td>&lt;NA&gt;</td>\n",
       "      <td>1</td>\n",
       "      <td>2018-10-02 23:36:38+00:00</td>\n",
       "      <td>[]</td>\n",
       "      <td>POLYGON((-123.2052362 39.1257422, -123.2052314...</td>\n",
       "    </tr>\n",
       "    <tr>\n",
       "      <th>1</th>\n",
       "      <td>multipolygons</td>\n",
       "      <td>&lt;NA&gt;</td>\n",
       "      <td>710599311</td>\n",
       "      <td>1</td>\n",
       "      <td>2019-08-04 06:56:34+00:00</td>\n",
       "      <td>[{'key': 'level', 'value': '0'}]</td>\n",
       "      <td>POLYGON((-123.2127626 39.1334776, -123.2127651...</td>\n",
       "    </tr>\n",
       "    <tr>\n",
       "      <th>2</th>\n",
       "      <td>points</td>\n",
       "      <td>358763181</td>\n",
       "      <td>&lt;NA&gt;</td>\n",
       "      <td>1</td>\n",
       "      <td>2009-03-11 05:27:04+00:00</td>\n",
       "      <td>[{'key': 'ele', 'value': '0'}, {'key': 'gnis:c...</td>\n",
       "      <td>POINT(-123.7272381 39.1304589)</td>\n",
       "    </tr>\n",
       "    <tr>\n",
       "      <th>3</th>\n",
       "      <td>points</td>\n",
       "      <td>358765882</td>\n",
       "      <td>&lt;NA&gt;</td>\n",
       "      <td>1</td>\n",
       "      <td>2009-03-11 05:30:36+00:00</td>\n",
       "      <td>[{'key': 'ele', 'value': '0'}, {'key': 'gnis:c...</td>\n",
       "      <td>POINT(-123.5936233 38.7999108)</td>\n",
       "    </tr>\n",
       "    <tr>\n",
       "      <th>4</th>\n",
       "      <td>multipolygons</td>\n",
       "      <td>6826538</td>\n",
       "      <td>&lt;NA&gt;</td>\n",
       "      <td>1</td>\n",
       "      <td>2016-12-27 21:27:25+00:00</td>\n",
       "      <td>[{'key': 'ele', 'value': '0'}, {'key': 'gnis:c...</td>\n",
       "      <td>POLYGON((-123.0778671 38.3740722, -123.0777454...</td>\n",
       "    </tr>\n",
       "  </tbody>\n",
       "</table>\n",
       "</div>"
      ],
      "text/plain": [
       "      feature_type     osm_id  osm_way_id  osm_version  \\\n",
       "0  other_relations    8767442        <NA>            1   \n",
       "1    multipolygons       <NA>   710599311            1   \n",
       "2           points  358763181        <NA>            1   \n",
       "3           points  358765882        <NA>            1   \n",
       "4    multipolygons    6826538        <NA>            1   \n",
       "\n",
       "              osm_timestamp  \\\n",
       "0 2018-10-02 23:36:38+00:00   \n",
       "1 2019-08-04 06:56:34+00:00   \n",
       "2 2009-03-11 05:27:04+00:00   \n",
       "3 2009-03-11 05:30:36+00:00   \n",
       "4 2016-12-27 21:27:25+00:00   \n",
       "\n",
       "                                            all_tags  \\\n",
       "0                                                 []   \n",
       "1                   [{'key': 'level', 'value': '0'}]   \n",
       "2  [{'key': 'ele', 'value': '0'}, {'key': 'gnis:c...   \n",
       "3  [{'key': 'ele', 'value': '0'}, {'key': 'gnis:c...   \n",
       "4  [{'key': 'ele', 'value': '0'}, {'key': 'gnis:c...   \n",
       "\n",
       "                                            geometry  \n",
       "0  POLYGON((-123.2052362 39.1257422, -123.2052314...  \n",
       "1  POLYGON((-123.2127626 39.1334776, -123.2127651...  \n",
       "2                     POINT(-123.7272381 39.1304589)  \n",
       "3                     POINT(-123.5936233 38.7999108)  \n",
       "4  POLYGON((-123.0778671 38.3740722, -123.0777454...  "
      ]
     },
     "execution_count": 28,
     "metadata": {},
     "output_type": "execute_result"
    }
   ],
   "source": [
    "bq.query(query = f'SELECT * FROM `{BQ_SOURCE}` LIMIT 5').to_dataframe()"
   ]
  },
  {
   "cell_type": "markdown",
   "id": "1707483b-b891-41df-9fa7-be0f6986d20c",
   "metadata": {},
   "source": [
    "---\n",
    "## Setup For Test"
   ]
  },
  {
   "cell_type": "markdown",
   "id": "bc22f33e-08bf-41b8-8bc9-bdfa0504feaa",
   "metadata": {},
   "source": [
    "### Source Table"
   ]
  },
  {
   "cell_type": "code",
   "execution_count": 49,
   "id": "b9f8d94c-8cac-4f90-95cc-8a87bd7263ce",
   "metadata": {
    "tags": []
   },
   "outputs": [
    {
     "data": {
      "text/plain": [
       "<google.cloud.bigquery.table._EmptyRowIterator at 0x7fa6fa8a6b30>"
      ]
     },
     "execution_count": 49,
     "metadata": {},
     "output_type": "execute_result"
    }
   ],
   "source": [
    "query = f'''\n",
    "CREATE OR REPLACE TABLE `{BQ_PROJECT}.{BQ_DATASET}.{BQ_TABLE_PREFIX}_source` AS\n",
    "    SELECT feature_type, osm_id, ST_CENTROID(geometry) as loc\n",
    "    FROM `{BQ_SOURCE}`\n",
    "    WHERE osm_id IS NOT NULL\n",
    "'''\n",
    "bq_job = bq.query(query = query)\n",
    "bq_job.result()"
   ]
  },
  {
   "cell_type": "code",
   "execution_count": 50,
   "id": "ab0255ab-7049-47c8-928b-cdd8e609b3a6",
   "metadata": {
    "tags": []
   },
   "outputs": [
    {
     "data": {
      "text/plain": [
       "23.002"
      ]
     },
     "execution_count": 50,
     "metadata": {},
     "output_type": "execute_result"
    }
   ],
   "source": [
    "(bq_job.ended - bq_job.started).total_seconds()"
   ]
  },
  {
   "cell_type": "code",
   "execution_count": 51,
   "id": "46818768-6ba5-4845-a834-97f6b47fde9f",
   "metadata": {
    "tags": []
   },
   "outputs": [
    {
     "data": {
      "text/plain": [
       "16978.327"
      ]
     },
     "execution_count": 51,
     "metadata": {},
     "output_type": "execute_result"
    }
   ],
   "source": [
    "bq_job.slot_millis/1000"
   ]
  },
  {
   "cell_type": "markdown",
   "id": "be9102c3-0727-4915-9a99-f4f0e6178491",
   "metadata": {},
   "source": [
    "### Query Table"
   ]
  },
  {
   "cell_type": "code",
   "execution_count": 39,
   "id": "243b8ef5-afc5-49f1-a004-2ea6fe3ebb5d",
   "metadata": {
    "tags": []
   },
   "outputs": [
    {
     "data": {
      "text/plain": [
       "<google.cloud.bigquery.table._EmptyRowIterator at 0x7ff9dc68fd60>"
      ]
     },
     "execution_count": 39,
     "metadata": {},
     "output_type": "execute_result"
    }
   ],
   "source": [
    "query = f'''\n",
    "CREATE OR REPLACE TABLE `{BQ_PROJECT}.{BQ_DATASET}.{BQ_TABLE_PREFIX}_query` AS\n",
    "    SELECT i1 * 1000 + i2 - 1000 AS id, ST_GEOGPOINT(RAND() * 360, RAND() * 180 - 90) as loc\n",
    "    FROM\n",
    "        UNNEST(GENERATE_ARRAY(1, 1000)) i1,\n",
    "        UNNEST(GENERATE_ARRAY(1, 1000)) i2\n",
    "'''\n",
    "bq_job = bq.query(query = query)\n",
    "bq_job.result()"
   ]
  },
  {
   "cell_type": "code",
   "execution_count": 40,
   "id": "26510fa4-810d-4623-992f-5fc3d4048086",
   "metadata": {
    "tags": []
   },
   "outputs": [
    {
     "data": {
      "text/html": [
       "Query job 40d9f5a6-0ee5-4135-bbe8-aea23ee871bb is DONE. 0 Bytes processed. <a target=\"_blank\" href=\"https://console.cloud.google.com/bigquery?project=statmike-mlops-349915&j=bq:US:40d9f5a6-0ee5-4135-bbe8-aea23ee871bb&page=queryresults\">Open Job</a>"
      ],
      "text/plain": [
       "<IPython.core.display.HTML object>"
      ]
     },
     "metadata": {},
     "output_type": "display_data"
    },
    {
     "data": {
      "text/plain": [
       "(1000000, 2)"
      ]
     },
     "execution_count": 40,
     "metadata": {},
     "output_type": "execute_result"
    }
   ],
   "source": [
    "bpd.read_gbq(f'{BQ_PROJECT}.{BQ_DATASET}.{BQ_TABLE_PREFIX}_query').shape"
   ]
  },
  {
   "cell_type": "code",
   "execution_count": 41,
   "id": "a4cb2faa-9bc7-4c2c-91d4-8550d2e5e9f4",
   "metadata": {
    "tags": []
   },
   "outputs": [
    {
     "data": {
      "text/html": [
       "Query job 1e93425b-4e6b-46d3-87ec-8ae9419ce77a is DONE. 48.0 MB processed. <a target=\"_blank\" href=\"https://console.cloud.google.com/bigquery?project=statmike-mlops-349915&j=bq:US:1e93425b-4e6b-46d3-87ec-8ae9419ce77a&page=queryresults\">Open Job</a>"
      ],
      "text/plain": [
       "<IPython.core.display.HTML object>"
      ]
     },
     "metadata": {},
     "output_type": "display_data"
    },
    {
     "data": {
      "text/html": [
       "Query job 1b32e385-9535-473f-9f22-7c929503abd4 is DONE. 48.0 MB processed. <a target=\"_blank\" href=\"https://console.cloud.google.com/bigquery?project=statmike-mlops-349915&j=bq:US:1b32e385-9535-473f-9f22-7c929503abd4&page=queryresults\">Open Job</a>"
      ],
      "text/plain": [
       "<IPython.core.display.HTML object>"
      ]
     },
     "metadata": {},
     "output_type": "display_data"
    },
    {
     "data": {
      "text/html": [
       "<div>\n",
       "<style scoped>\n",
       "    .dataframe tbody tr th:only-of-type {\n",
       "        vertical-align: middle;\n",
       "    }\n",
       "\n",
       "    .dataframe tbody tr th {\n",
       "        vertical-align: top;\n",
       "    }\n",
       "\n",
       "    .dataframe thead th {\n",
       "        text-align: right;\n",
       "    }\n",
       "</style>\n",
       "<table border=\"1\" class=\"dataframe\">\n",
       "  <thead>\n",
       "    <tr style=\"text-align: right;\">\n",
       "      <th></th>\n",
       "      <th>id</th>\n",
       "      <th>loc</th>\n",
       "    </tr>\n",
       "  </thead>\n",
       "  <tbody>\n",
       "    <tr>\n",
       "      <th>0</th>\n",
       "      <td>199785</td>\n",
       "      <td>POINT (-64.98862 18.17565)</td>\n",
       "    </tr>\n",
       "    <tr>\n",
       "      <th>1</th>\n",
       "      <td>258671</td>\n",
       "      <td>POINT (175.83260 44.64768)</td>\n",
       "    </tr>\n",
       "    <tr>\n",
       "      <th>2</th>\n",
       "      <td>66678</td>\n",
       "      <td>POINT (-72.16857 82.63562)</td>\n",
       "    </tr>\n",
       "    <tr>\n",
       "      <th>3</th>\n",
       "      <td>715496</td>\n",
       "      <td>POINT (120.96126 53.24684)</td>\n",
       "    </tr>\n",
       "    <tr>\n",
       "      <th>4</th>\n",
       "      <td>443791</td>\n",
       "      <td>POINT (155.22695 60.39786)</td>\n",
       "    </tr>\n",
       "  </tbody>\n",
       "</table>\n",
       "<p>5 rows × 2 columns</p>\n",
       "</div>[5 rows x 2 columns in total]"
      ],
      "text/plain": [
       "       id                         loc\n",
       "0  199785  POINT (-64.98862 18.17565)\n",
       "1  258671  POINT (175.83260 44.64768)\n",
       "2   66678  POINT (-72.16857 82.63562)\n",
       "3  715496  POINT (120.96126 53.24684)\n",
       "4  443791  POINT (155.22695 60.39786)\n",
       "\n",
       "[5 rows x 2 columns]"
      ]
     },
     "execution_count": 41,
     "metadata": {},
     "output_type": "execute_result"
    }
   ],
   "source": [
    "bpd.read_gbq(f'{BQ_PROJECT}.{BQ_DATASET}.{BQ_TABLE_PREFIX}_query').head()"
   ]
  },
  {
   "cell_type": "markdown",
   "id": "5bb1d8b1-2422-4a3e-9f6f-34e4eded55c9",
   "metadata": {},
   "source": [
    "### Query Table - Partition Version\n",
    "Split into 100 Partitions (max value is 4000)\n",
    "- [Reference](https://cloud.google.com/bigquery/quotas#partitioned_tables)"
   ]
  },
  {
   "cell_type": "code",
   "execution_count": 7,
   "id": "1181015e-b00b-4e92-8dca-b4501cb508ad",
   "metadata": {
    "tags": []
   },
   "outputs": [
    {
     "data": {
      "text/plain": [
       "<google.cloud.bigquery.table._EmptyRowIterator at 0x7ff2c385aaa0>"
      ]
     },
     "execution_count": 7,
     "metadata": {},
     "output_type": "execute_result"
    }
   ],
   "source": [
    "query = f'''\n",
    "CREATE OR REPLACE TABLE `{BQ_PROJECT}.{BQ_DATASET}.{BQ_TABLE_PREFIX}_queryPartitioned`\n",
    "PARTITION BY RANGE_BUCKET(partID, GENERATE_ARRAY(1, 400))\n",
    "AS (\n",
    "    SELECT *,\n",
    "        ABS(MOD(FARM_FINGERPRINT(CAST(id AS STRING)), 400)) AS partID\n",
    "    FROM `{BQ_PROJECT}.{BQ_DATASET}.{BQ_TABLE_PREFIX}_query`\n",
    ")\n",
    "'''\n",
    "bq_job = bq.query(query = query)\n",
    "bq_job.result()"
   ]
  },
  {
   "cell_type": "code",
   "execution_count": 8,
   "id": "f5f09566-dca8-4ac3-8b90-9b6c65eeac07",
   "metadata": {
    "tags": []
   },
   "outputs": [
    {
     "data": {
      "text/html": [
       "Query job 8fce5ca1-bc81-4dc9-bbc3-cbe1945b1346 is DONE. 80.0 MB processed. <a target=\"_blank\" href=\"https://console.cloud.google.com/bigquery?project=statmike-mlops-349915&j=bq:US:8fce5ca1-bc81-4dc9-bbc3-cbe1945b1346&page=queryresults\">Open Job</a>"
      ],
      "text/plain": [
       "<IPython.core.display.HTML object>"
      ]
     },
     "metadata": {},
     "output_type": "display_data"
    },
    {
     "data": {
      "text/html": [
       "Query job 4a42c7ee-d263-4948-88a3-b978b9b9facf is DONE. 80.0 MB processed. <a target=\"_blank\" href=\"https://console.cloud.google.com/bigquery?project=statmike-mlops-349915&j=bq:US:4a42c7ee-d263-4948-88a3-b978b9b9facf&page=queryresults\">Open Job</a>"
      ],
      "text/plain": [
       "<IPython.core.display.HTML object>"
      ]
     },
     "metadata": {},
     "output_type": "display_data"
    },
    {
     "data": {
      "text/html": [
       "<div>\n",
       "<style scoped>\n",
       "    .dataframe tbody tr th:only-of-type {\n",
       "        vertical-align: middle;\n",
       "    }\n",
       "\n",
       "    .dataframe tbody tr th {\n",
       "        vertical-align: top;\n",
       "    }\n",
       "\n",
       "    .dataframe thead th {\n",
       "        text-align: right;\n",
       "    }\n",
       "</style>\n",
       "<table border=\"1\" class=\"dataframe\">\n",
       "  <thead>\n",
       "    <tr style=\"text-align: right;\">\n",
       "      <th></th>\n",
       "      <th>id</th>\n",
       "      <th>loc</th>\n",
       "      <th>loc_ecef</th>\n",
       "      <th>partID</th>\n",
       "    </tr>\n",
       "  </thead>\n",
       "  <tbody>\n",
       "    <tr>\n",
       "      <th>0</th>\n",
       "      <td>320867</td>\n",
       "      <td>POINT (-125.95655 8.50578)</td>\n",
       "      <td>[-0.5807132028189643, -0.8005591982501122, 0.1...</td>\n",
       "      <td>29</td>\n",
       "    </tr>\n",
       "    <tr>\n",
       "      <th>1</th>\n",
       "      <td>503306</td>\n",
       "      <td>POINT (77.19044 -23.15086)</td>\n",
       "      <td>[0.2038574043237758, 0.8965893563609467, -0.39...</td>\n",
       "      <td>148</td>\n",
       "    </tr>\n",
       "    <tr>\n",
       "      <th>2</th>\n",
       "      <td>342866</td>\n",
       "      <td>POINT (-126.94063 -50.27093)</td>\n",
       "      <td>[-0.3841258366180017, -0.5108526894106312, -0....</td>\n",
       "      <td>346</td>\n",
       "    </tr>\n",
       "    <tr>\n",
       "      <th>3</th>\n",
       "      <td>173289</td>\n",
       "      <td>POINT (-46.61419 57.89459)</td>\n",
       "      <td>[0.3650766449638106, -0.3862493420789399, 0.84...</td>\n",
       "      <td>352</td>\n",
       "    </tr>\n",
       "    <tr>\n",
       "      <th>4</th>\n",
       "      <td>494872</td>\n",
       "      <td>POINT (-158.61505 24.26105)</td>\n",
       "      <td>[-0.8489149463066968, -0.3324289482834484, 0.4...</td>\n",
       "      <td>167</td>\n",
       "    </tr>\n",
       "  </tbody>\n",
       "</table>\n",
       "<p>5 rows × 4 columns</p>\n",
       "</div>[5 rows x 4 columns in total]"
      ],
      "text/plain": [
       "       id                           loc  \\\n",
       "0  320867    POINT (-125.95655 8.50578)   \n",
       "1  503306    POINT (77.19044 -23.15086)   \n",
       "2  342866  POINT (-126.94063 -50.27093)   \n",
       "3  173289    POINT (-46.61419 57.89459)   \n",
       "4  494872   POINT (-158.61505 24.26105)   \n",
       "\n",
       "                                            loc_ecef  partID  \n",
       "0  [-0.5807132028189643, -0.8005591982501122, 0.1...      29  \n",
       "1  [0.2038574043237758, 0.8965893563609467, -0.39...     148  \n",
       "2  [-0.3841258366180017, -0.5108526894106312, -0....     346  \n",
       "3  [0.3650766449638106, -0.3862493420789399, 0.84...     352  \n",
       "4  [-0.8489149463066968, -0.3324289482834484, 0.4...     167  \n",
       "\n",
       "[5 rows x 4 columns]"
      ]
     },
     "execution_count": 8,
     "metadata": {},
     "output_type": "execute_result"
    }
   ],
   "source": [
    "bpd.read_gbq(f'{BQ_PROJECT}.{BQ_DATASET}.{BQ_TABLE_PREFIX}_queryPartitioned').head()"
   ]
  },
  {
   "cell_type": "markdown",
   "id": "cd624135-99d2-4641-9de5-49b15542b80e",
   "metadata": {},
   "source": [
    "---\n",
    "## Geospatial Query ST_DISTANCE(): Testing\n",
    "\n",
    "https://cloud.google.com/bigquery/docs/geospatial-intro"
   ]
  },
  {
   "cell_type": "code",
   "execution_count": 83,
   "id": "1af850c0-5bfb-4ee9-ac02-f91e8328207b",
   "metadata": {
    "tags": []
   },
   "outputs": [],
   "source": [
    "distances = [.1, 1, 10, 20, 40, 60, 80, 100, 120, 140]"
   ]
  },
  {
   "cell_type": "code",
   "execution_count": 78,
   "id": "77163f67-ca17-4b68-802a-ead80a806c3b",
   "metadata": {
    "tags": []
   },
   "outputs": [],
   "source": [
    "rerun = False\n",
    "\n",
    "if rerun:\n",
    "    run_seconds = []\n",
    "    slot_seconds = []\n",
    "    total_neighbors = []\n",
    "\n",
    "    for distance in distances:\n",
    "        query = f'''\n",
    "            SELECT id, ARRAY_AGG(osm_id ORDER BY ST_DISTANCE(q.loc, s.loc) LIMIT 10) AS neighbors\n",
    "            FROM `{BQ_PROJECT}.{BQ_DATASET}.{BQ_TABLE_PREFIX}_query` q\n",
    "            JOIN `{BQ_PROJECT}.{BQ_DATASET}.{BQ_TABLE_PREFIX}_source` s\n",
    "            ON ST_DWITHIN(q.loc, s.loc, 1000 * {distance})\n",
    "            GROUP BY id\n",
    "        '''\n",
    "        bq_job = bq.query(query = query, job_config = bigquery.QueryJobConfig(use_query_cache = False))\n",
    "        bq_job.result()\n",
    "        run_seconds.append((bq_job.ended - bq_job.started).total_seconds())\n",
    "        slot_seconds.append(bq_job.slot_millis/1000)\n",
    "        temp_table = '.'.join(bq_job.destination.path.split('/')[2::2])\n",
    "        temp = bpd.read_gbq(temp_table)\n",
    "        temp['n_neighbors'] = temp.neighbors.str.len()\n",
    "        total_neighbors.append(temp['n_neighbors'].sum())\n",
    "else:\n",
    "    run_seconds = [9.209, 11.92, 22.33, 39.728, 181.53, 626.919, 691.885, 2420.253, 2757.184, 5692.59]\n",
    "    slot_seconds = [7862.412, 8221.25, 17288.616, 43164.958, 179803.204, 672906.964, 660971.784, 2529836.997, 2742079.948, 2714392.396]\n",
    "    total_neighbors = [16971, 389401, 1691734, 2269899, 2884107, 3253185, 3546474, 3813336, 4066409, 4306270]   "
   ]
  },
  {
   "cell_type": "code",
   "execution_count": 79,
   "id": "7e3a1b8b-05d2-4bcc-b795-7b68a5cd0f07",
   "metadata": {
    "tags": []
   },
   "outputs": [
    {
     "data": {
      "text/plain": [
       "[9.209,\n",
       " 11.92,\n",
       " 22.33,\n",
       " 39.728,\n",
       " 181.53,\n",
       " 626.919,\n",
       " 691.885,\n",
       " 2420.253,\n",
       " 2757.184,\n",
       " 5692.59]"
      ]
     },
     "execution_count": 79,
     "metadata": {},
     "output_type": "execute_result"
    }
   ],
   "source": [
    "run_seconds"
   ]
  },
  {
   "cell_type": "code",
   "execution_count": 80,
   "id": "65948549-a616-4494-8755-f973efa7dc4c",
   "metadata": {
    "tags": []
   },
   "outputs": [
    {
     "data": {
      "text/plain": [
       "[7862.412,\n",
       " 8221.25,\n",
       " 17288.616,\n",
       " 43164.958,\n",
       " 179803.204,\n",
       " 672906.964,\n",
       " 660971.784,\n",
       " 2529836.997,\n",
       " 2742079.948,\n",
       " 2714392.396]"
      ]
     },
     "execution_count": 80,
     "metadata": {},
     "output_type": "execute_result"
    }
   ],
   "source": [
    "slot_seconds"
   ]
  },
  {
   "cell_type": "code",
   "execution_count": 81,
   "id": "59ac59e1-3074-493c-a422-745536174610",
   "metadata": {
    "tags": []
   },
   "outputs": [
    {
     "data": {
      "text/plain": [
       "[16971,\n",
       " 389401,\n",
       " 1691734,\n",
       " 2269899,\n",
       " 2884107,\n",
       " 3253185,\n",
       " 3546474,\n",
       " 3813336,\n",
       " 4066409,\n",
       " 4306270]"
      ]
     },
     "execution_count": 81,
     "metadata": {},
     "output_type": "execute_result"
    }
   ],
   "source": [
    "total_neighbors"
   ]
  },
  {
   "cell_type": "code",
   "execution_count": 84,
   "id": "fb7258e1-b43a-48d3-acef-dfbccc97f78c",
   "metadata": {
    "tags": []
   },
   "outputs": [
    {
     "data": {
      "image/png": "[encoded data removed]",
      "text/plain": [
       "<Figure size 640x480 with 3 Axes>"
      ]
     },
     "metadata": {},
     "output_type": "display_data"
    }
   ],
   "source": [
    "fig, ax1 = plt.subplots()\n",
    "fig.tight_layout()\n",
    "ax2 = ax1.twinx()\n",
    "ax3 = ax1.twinx()\n",
    "\n",
    "ax1.set_xlabel('Distance (km)')\n",
    "ax1.set_ylabel('Run Time (minutes)', color = 'red')\n",
    "ax1.tick_params(axis = 'y', labelcolor = 'red')\n",
    "p1, = ax1.plot(distances, [r/60 for r in run_seconds], label = 'Run Time (minutes)', color = 'red')\n",
    "ax1.set_ylim(0, 6000/60)\n",
    "\n",
    "ax2.set_ylabel('Slot Time (seconds)', color = 'blue')\n",
    "ax2.tick_params(axis = 'y', labelcolor = 'blue')\n",
    "p2, = ax2.plot(distances, [s for s in slot_seconds], label = 'Slot Time (seconds)', color = 'blue')\n",
    "ax2.set_ylim(0, 3000000)\n",
    "\n",
    "ax3.set_ylabel('Total Neighbors Found (10M target)', color = 'green')\n",
    "ax3.tick_params(axis = 'y', labelcolor = 'green')\n",
    "p3, = ax3.plot(distances, total_neighbors, label = 'Total Neighbors Found', color = 'green')\n",
    "ax3.spines.right.set_position(('axes', 1.2))\n",
    "ax3.yaxis.get_offset_text().set_visible(False)\n",
    "plt.text(170, 10100000, \"1e7\", color = 'green')\n",
    "ax3.set_ylim(0, 10000000)\n",
    "\n",
    "\n",
    "ax1.set_title('Scale Test Using ST_DWITHIN and ST_DISTANCE\\n1M Query Points\\nLooking for 10 nearest neighbors\\nAgainst 441,045,665 Points')\n",
    "ax1.legend(handles = [p1, p2, p3])\n",
    "plt.show()"
   ]
  },
  {
   "cell_type": "markdown",
   "id": "06c18905-c858-4e6f-8135-f3588724dfda",
   "metadata": {},
   "source": [
    "---\n",
    "## Re-Projection\n",
    "\n",
    "In the next section an alternative approach to finding neighboring points is used.  It uses indexing of arrays.  The numerical distances represented by the array need to be projected to a cartesian coordinate system.  The [Earth-fixed coordinate system (ECEF)](https://en.wikipedia.org/wiki/Earth-centered,_Earth-fixed_coordinate_system) is used here.  This is a three coordinate system representing the measurement from the center of the Earth.\n",
    "\n",
    "In BigQuery, [working with geospatial data](https://cloud.google.com/bigquery/docs/geospatial-data) uses the geography data type which describes a point set on the Earth's surface on the [WGS84](https://earth-info.nga.mil/GandG/update/index.php?action=home#tab_wgs84-data) reference sphereoid.  The longitude can be extracted from a point with the [ST_X()](https://cloud.google.com/bigquery/docs/reference/standard-sql/geography_functions#st_x) function, and latitude with the [ST_Y()](https://cloud.google.com/bigquery/docs/reference/standard-sql/geography_functions#st_y) function.\n",
    "\n",
    "\n",
    "The Math for converting WGS84 (Longitude, Latitude) to ECEF (X,Y,Z):\n",
    "- $\\phi$ = latitude (north/south) converted to $radians = degrees * \\pi/180$\n",
    "- $\\lambda$ = longitude (east/west) converetd to $radians = degrees * \\pi/180$\n",
    "- (X, Y, Z) = ($\\cos(\\lambda) * \\cos(\\phi)$, $\\sin(\\lambda) * \\cos(\\phi)$, $\\sin(\\phi)$)\n",
    "- Notes:\n",
    "    - Coordinate system conversion: [From geodetic to ECEF](https://en.wikipedia.org/wiki/Geographic_coordinate_conversion#From_geodetic_to_ECEF_coordinates)\n",
    "    - Here, the points are all on the surface of the Earth approximated with: $h = 0$\n",
    "    - **QUESTION** Do we need radius (major axis a = 6,378,137, minor axis b = 6,356,752.314245) to calculate $N(\\phi)$ as a coefficent here? \n",
    "\n",
    "\n",
    "The math will be deployed with a [user-defined function](https://cloud.google.com/bigquery/docs/user-defined-functions) written in javascript:\n",
    "\n",
    "```\n",
    "CREATE TEMP FUNCTION ECEF(long FLOAT64, lat FLOAT64)\n",
    "RETURNS ARRAY<FLOAT64>\n",
    "LANGUAGE js\n",
    "AS r\"\"\"\n",
    "    var pi = Math.PI;\n",
    "    phi = lat * (pi / 180)\n",
    "    lambda = long * (pi / 180)\n",
    "    x = Math.cos(lambda) * Math.cos(phi)\n",
    "    y = Math.sin(lambda) * Math.cos(phi)\n",
    "    z = Math.sin(phi)\n",
    "    return [x, y, z]\n",
    "\"\"\"\n",
    "```\n",
    "\n",
    "A prebuilt package exists that can also be used with a UDF.  Checkout [this blog](https://mentin.medium.com/st-transform-in-bigquery-project-any-coordinates-to-lng-lat-and-back-84957a39252a) convering the usage of [proj4js](https://github.com/proj4js/proj4js).\n"
   ]
  },
  {
   "cell_type": "code",
   "execution_count": 42,
   "id": "53cab7c2-accd-4ee2-8173-f3320a1ee94d",
   "metadata": {
    "tags": []
   },
   "outputs": [],
   "source": [
    "query = f'''\n",
    "CREATE TEMP FUNCTION ECEF(long FLOAT64, lat FLOAT64)\n",
    "RETURNS ARRAY<FLOAT64>\n",
    "LANGUAGE js\n",
    "AS r\"\"\"\n",
    "    var pi = Math.PI;\n",
    "    phi = lat * (pi / 180)\n",
    "    lambda = long * (pi / 180)\n",
    "    x = Math.cos(lambda) * Math.cos(phi)\n",
    "    y = Math.sin(lambda) * Math.cos(phi)\n",
    "    z = Math.sin(phi)\n",
    "    return [x, y, z]\n",
    "\"\"\"\n",
    ";\n",
    "\n",
    "ALTER TABLE `{BQ_PROJECT}.{BQ_DATASET}.{BQ_TABLE_PREFIX}_source`\n",
    "ADD COLUMN IF NOT EXISTS loc_ecef ARRAY<FLOAT64>;\n",
    "\n",
    "UPDATE `{BQ_PROJECT}.{BQ_DATASET}.{BQ_TABLE_PREFIX}_source`\n",
    "SET loc_ecef = ECEF(ST_X(loc), ST_Y(loc))\n",
    "WHERE TRUE;\n",
    "\n",
    "ALTER TABLE `{BQ_PROJECT}.{BQ_DATASET}.{BQ_TABLE_PREFIX}_query`\n",
    "ADD COLUMN IF NOT EXISTS loc_ecef ARRAY<FLOAT64>;\n",
    "\n",
    "UPDATE `{BQ_PROJECT}.{BQ_DATASET}.{BQ_TABLE_PREFIX}_query`\n",
    "SET loc_ecef = ECEF(ST_X(loc), ST_Y(loc))\n",
    "WHERE TRUE;\n",
    "'''"
   ]
  },
  {
   "cell_type": "code",
   "execution_count": 43,
   "id": "593013b2-ab6e-4787-ba77-52907a61968b",
   "metadata": {
    "tags": []
   },
   "outputs": [
    {
     "data": {
      "text/plain": [
       "<google.cloud.bigquery.table._EmptyRowIterator at 0x7ff9beaf9120>"
      ]
     },
     "execution_count": 43,
     "metadata": {},
     "output_type": "execute_result"
    }
   ],
   "source": [
    "bq_job = bq.query(query = query)\n",
    "bq_job.result()"
   ]
  },
  {
   "cell_type": "code",
   "execution_count": 44,
   "id": "71808921-ea05-4c24-abef-72482a425f13",
   "metadata": {
    "tags": []
   },
   "outputs": [
    {
     "data": {
      "text/plain": [
       "136.999"
      ]
     },
     "execution_count": 44,
     "metadata": {},
     "output_type": "execute_result"
    }
   ],
   "source": [
    "(bq_job.ended - bq_job.started).total_seconds()"
   ]
  },
  {
   "cell_type": "code",
   "execution_count": 45,
   "id": "a38f3379-b6b7-4a7d-8dc4-f009b7a2df87",
   "metadata": {
    "tags": []
   },
   "outputs": [
    {
     "data": {
      "text/plain": [
       "47101.064"
      ]
     },
     "execution_count": 45,
     "metadata": {},
     "output_type": "execute_result"
    }
   ],
   "source": [
    "bq_job.slot_millis/1000"
   ]
  },
  {
   "cell_type": "code",
   "execution_count": 46,
   "id": "5008c3d0-a72f-46ea-b149-f0b9f32d4c60",
   "metadata": {
    "tags": []
   },
   "outputs": [
    {
     "data": {
      "text/html": [
       "Query job 49dc1ae4-deb8-4f2a-a6b1-5e183d8ff8d1 is DONE. 35.1 GB processed. <a target=\"_blank\" href=\"https://console.cloud.google.com/bigquery?project=statmike-mlops-349915&j=bq:US:49dc1ae4-deb8-4f2a-a6b1-5e183d8ff8d1&page=queryresults\">Open Job</a>"
      ],
      "text/plain": [
       "<IPython.core.display.HTML object>"
      ]
     },
     "metadata": {},
     "output_type": "display_data"
    },
    {
     "data": {
      "text/html": [
       "Query job c306d1aa-73f5-4f6c-acfb-316bf5fd314c is DONE. 35.1 GB processed. <a target=\"_blank\" href=\"https://console.cloud.google.com/bigquery?project=statmike-mlops-349915&j=bq:US:c306d1aa-73f5-4f6c-acfb-316bf5fd314c&page=queryresults\">Open Job</a>"
      ],
      "text/plain": [
       "<IPython.core.display.HTML object>"
      ]
     },
     "metadata": {},
     "output_type": "display_data"
    },
    {
     "data": {
      "text/html": [
       "<div>\n",
       "<style scoped>\n",
       "    .dataframe tbody tr th:only-of-type {\n",
       "        vertical-align: middle;\n",
       "    }\n",
       "\n",
       "    .dataframe tbody tr th {\n",
       "        vertical-align: top;\n",
       "    }\n",
       "\n",
       "    .dataframe thead th {\n",
       "        text-align: right;\n",
       "    }\n",
       "</style>\n",
       "<table border=\"1\" class=\"dataframe\">\n",
       "  <thead>\n",
       "    <tr style=\"text-align: right;\">\n",
       "      <th></th>\n",
       "      <th>feature_type</th>\n",
       "      <th>osm_id</th>\n",
       "      <th>loc</th>\n",
       "      <th>loc_ecef</th>\n",
       "    </tr>\n",
       "  </thead>\n",
       "  <tbody>\n",
       "    <tr>\n",
       "      <th>0</th>\n",
       "      <td>lines</td>\n",
       "      <td>761343319</td>\n",
       "      <td>POINT (-105.28773 27.99151)</td>\n",
       "      <td>[-0.23282206691294283, -0.8517705930310953, 0....</td>\n",
       "    </tr>\n",
       "    <tr>\n",
       "      <th>1</th>\n",
       "      <td>points</td>\n",
       "      <td>5126643955</td>\n",
       "      <td>POINT (-46.63205 -23.54093)</td>\n",
       "      <td>[0.629532000783784, -0.6664576987571126, -0.39...</td>\n",
       "    </tr>\n",
       "    <tr>\n",
       "      <th>2</th>\n",
       "      <td>points</td>\n",
       "      <td>2876305585</td>\n",
       "      <td>POINT (4.75358 52.63029)</td>\n",
       "      <td>[0.6048681025761045, 0.05029873122662784, 0.79...</td>\n",
       "    </tr>\n",
       "    <tr>\n",
       "      <th>3</th>\n",
       "      <td>lines</td>\n",
       "      <td>618883227</td>\n",
       "      <td>POINT (33.34389 65.97625)</td>\n",
       "      <td>[0.34009861605827346, 0.22377617618280732, 0.9...</td>\n",
       "    </tr>\n",
       "    <tr>\n",
       "      <th>4</th>\n",
       "      <td>points</td>\n",
       "      <td>5091929547</td>\n",
       "      <td>POINT (15.30989 68.01918)</td>\n",
       "      <td>[0.3610131303092436, 0.09882898820731839, 0.92...</td>\n",
       "    </tr>\n",
       "  </tbody>\n",
       "</table>\n",
       "<p>5 rows × 4 columns</p>\n",
       "</div>[5 rows x 4 columns in total]"
      ],
      "text/plain": [
       "  feature_type      osm_id                          loc  \\\n",
       "0        lines   761343319  POINT (-105.28773 27.99151)   \n",
       "1       points  5126643955  POINT (-46.63205 -23.54093)   \n",
       "2       points  2876305585     POINT (4.75358 52.63029)   \n",
       "3        lines   618883227    POINT (33.34389 65.97625)   \n",
       "4       points  5091929547    POINT (15.30989 68.01918)   \n",
       "\n",
       "                                            loc_ecef  \n",
       "0  [-0.23282206691294283, -0.8517705930310953, 0....  \n",
       "1  [0.629532000783784, -0.6664576987571126, -0.39...  \n",
       "2  [0.6048681025761045, 0.05029873122662784, 0.79...  \n",
       "3  [0.34009861605827346, 0.22377617618280732, 0.9...  \n",
       "4  [0.3610131303092436, 0.09882898820731839, 0.92...  \n",
       "\n",
       "[5 rows x 4 columns]"
      ]
     },
     "execution_count": 46,
     "metadata": {},
     "output_type": "execute_result"
    }
   ],
   "source": [
    "bpd.read_gbq(f'{BQ_PROJECT}.{BQ_DATASET}.{BQ_TABLE_PREFIX}_source').head()"
   ]
  },
  {
   "cell_type": "markdown",
   "id": "dff1d6d3-5f71-4093-a489-a3a2f76c47ce",
   "metadata": {},
   "source": [
    "---\n",
    "## BigQuery Vector Search - Indexing\n",
    "\n",
    "Currently in preview, the project needs to be allowlisted through [this link](https://docs.google.com/forms/d/18yndSb4dTf2H0orqA9N7NAchQEDQekwWiD5jYfEkGWk/viewform?edit_requested=true)."
   ]
  },
  {
   "cell_type": "markdown",
   "id": "ab9e3a9e-f907-4aca-8dd1-34b512871a2a",
   "metadata": {},
   "source": [
    "### Delete (if exists) Vector Index On ECEF"
   ]
  },
  {
   "cell_type": "code",
   "execution_count": 17,
   "id": "85016a98-b3e4-4b1b-a84b-27af507ab105",
   "metadata": {
    "tags": []
   },
   "outputs": [
    {
     "name": "stdout",
     "output_type": "stream",
     "text": [
      "\n",
      "DROP VECTOR INDEX IF EXISTS loc_ecef_1000 ON `statmike-mlops-349915.applied_geospatial.indexing_source`\n",
      "\n"
     ]
    }
   ],
   "source": [
    "query = f'''\n",
    "DROP VECTOR INDEX IF EXISTS loc_ecef_1000 ON `{BQ_PROJECT}.{BQ_DATASET}.{BQ_TABLE_PREFIX}_source`\n",
    "'''\n",
    "print(query)"
   ]
  },
  {
   "cell_type": "code",
   "execution_count": 61,
   "id": "6e473ff1-2362-417d-94c8-d6d2e93e57b0",
   "metadata": {
    "tags": []
   },
   "outputs": [
    {
     "data": {
      "text/plain": [
       "<google.cloud.bigquery.table._EmptyRowIterator at 0x7ff9be9345e0>"
      ]
     },
     "execution_count": 61,
     "metadata": {},
     "output_type": "execute_result"
    }
   ],
   "source": [
    "bq_job = bq.query(query = query)\n",
    "bq_job.result()"
   ]
  },
  {
   "cell_type": "code",
   "execution_count": 62,
   "id": "1f6a6433-2e67-4250-81e6-8322c5a62b1f",
   "metadata": {
    "tags": []
   },
   "outputs": [
    {
     "data": {
      "text/plain": [
       "0.343"
      ]
     },
     "execution_count": 62,
     "metadata": {},
     "output_type": "execute_result"
    }
   ],
   "source": [
    "(bq_job.ended - bq_job.started).total_seconds()"
   ]
  },
  {
   "cell_type": "code",
   "execution_count": 63,
   "id": "0a0a1186-88fd-41ed-acea-dc7b5333baac",
   "metadata": {
    "tags": []
   },
   "outputs": [
    {
     "data": {
      "text/plain": [
       "0.0"
      ]
     },
     "execution_count": 63,
     "metadata": {},
     "output_type": "execute_result"
    }
   ],
   "source": [
    "bq_job.slot_millis/1000"
   ]
  },
  {
   "cell_type": "markdown",
   "id": "ec4cbe82-8a99-4c9c-b70f-f164fe11d12a",
   "metadata": {},
   "source": [
    "### Create Vector Index On ECEF"
   ]
  },
  {
   "cell_type": "code",
   "execution_count": 18,
   "id": "3070fa74-31ad-4d24-a1a3-980c78b0d231",
   "metadata": {
    "tags": []
   },
   "outputs": [
    {
     "name": "stdout",
     "output_type": "stream",
     "text": [
      "\n",
      "CREATE OR REPLACE VECTOR INDEX loc_ecef_1000\n",
      "    ON `statmike-mlops-349915.applied_geospatial.indexing_source`(loc_ecef)\n",
      "    OPTIONS(\n",
      "        INDEX_TYPE = 'IVF',\n",
      "        DISTANCE_TYPE = 'EUCLIDEAN',\n",
      "        IVF_OPTIONS = '{\"num_lists\": 1000}'\n",
      "    );\n",
      "\n"
     ]
    }
   ],
   "source": [
    "query = f'''\n",
    "CREATE OR REPLACE VECTOR INDEX loc_ecef_1000\n",
    "    ON `{BQ_PROJECT}.{BQ_DATASET}.{BQ_TABLE_PREFIX}_source`(loc_ecef)\n",
    "    OPTIONS(\n",
    "        INDEX_TYPE = 'IVF',\n",
    "        DISTANCE_TYPE = 'EUCLIDEAN',\n",
    "        IVF_OPTIONS = '{{\"num_lists\": 1000}}'\n",
    "    );\n",
    "'''\n",
    "print(query)"
   ]
  },
  {
   "cell_type": "code",
   "execution_count": 67,
   "id": "3040ccd0-d180-4e44-b006-c2c74a7e69a3",
   "metadata": {
    "tags": []
   },
   "outputs": [
    {
     "data": {
      "text/plain": [
       "<google.cloud.bigquery.table._EmptyRowIterator at 0x7ff9dd917c40>"
      ]
     },
     "execution_count": 67,
     "metadata": {},
     "output_type": "execute_result"
    }
   ],
   "source": [
    "bq_job = bq.query(query = query)\n",
    "bq_job.result()"
   ]
  },
  {
   "cell_type": "code",
   "execution_count": 68,
   "id": "1c86e855-db5e-4cf9-8194-3293ac324e0a",
   "metadata": {
    "tags": []
   },
   "outputs": [
    {
     "data": {
      "text/plain": [
       "2163.767"
      ]
     },
     "execution_count": 68,
     "metadata": {},
     "output_type": "execute_result"
    }
   ],
   "source": [
    "(bq_job.ended - bq_job.started).total_seconds()"
   ]
  },
  {
   "cell_type": "code",
   "execution_count": 69,
   "id": "109283db-1268-40e2-9485-842bda78e405",
   "metadata": {
    "tags": []
   },
   "outputs": [
    {
     "data": {
      "text/plain": [
       "1835606.299"
      ]
     },
     "execution_count": 69,
     "metadata": {},
     "output_type": "execute_result"
    }
   ],
   "source": [
    "bq_job.slot_millis/1000"
   ]
  },
  {
   "cell_type": "markdown",
   "id": "25971086-2781-4271-a6a3-2347553491d8",
   "metadata": {},
   "source": [
    "### Check Vector Index Status"
   ]
  },
  {
   "cell_type": "code",
   "execution_count": 19,
   "id": "e5e73da4-ef58-4a0a-b116-a8931352316b",
   "metadata": {
    "tags": []
   },
   "outputs": [
    {
     "name": "stdout",
     "output_type": "stream",
     "text": [
      "\n",
      "SELECT *\n",
      "FROM `statmike-mlops-349915.applied_geospatial.INFORMATION_SCHEMA.VECTOR_INDEXES`\n",
      "WHERE index_status = 'ACTIVE'\n",
      "    AND table_name = 'indexing_source'\n",
      "\n"
     ]
    }
   ],
   "source": [
    "query = f'''\n",
    "SELECT *\n",
    "FROM `{BQ_PROJECT}.{BQ_DATASET}.INFORMATION_SCHEMA.VECTOR_INDEXES`\n",
    "WHERE index_status = 'ACTIVE'\n",
    "    AND table_name = '{BQ_TABLE_PREFIX}_source'\n",
    "'''\n",
    "print(query)"
   ]
  },
  {
   "cell_type": "code",
   "execution_count": 10,
   "id": "1a272d8f-10c6-4d2f-9ec6-403fe6de76bd",
   "metadata": {
    "tags": []
   },
   "outputs": [
    {
     "data": {
      "text/html": [
       "<div>\n",
       "<style scoped>\n",
       "    .dataframe tbody tr th:only-of-type {\n",
       "        vertical-align: middle;\n",
       "    }\n",
       "\n",
       "    .dataframe tbody tr th {\n",
       "        vertical-align: top;\n",
       "    }\n",
       "\n",
       "    .dataframe thead th {\n",
       "        text-align: right;\n",
       "    }\n",
       "</style>\n",
       "<table border=\"1\" class=\"dataframe\">\n",
       "  <thead>\n",
       "    <tr style=\"text-align: right;\">\n",
       "      <th></th>\n",
       "      <th>index_catalog</th>\n",
       "      <th>index_schema</th>\n",
       "      <th>table_name</th>\n",
       "      <th>index_name</th>\n",
       "      <th>index_status</th>\n",
       "      <th>creation_time</th>\n",
       "      <th>last_modification_time</th>\n",
       "      <th>last_refresh_time</th>\n",
       "      <th>disable_time</th>\n",
       "      <th>disable_reason</th>\n",
       "      <th>ddl</th>\n",
       "      <th>coverage_percentage</th>\n",
       "      <th>unindexed_row_count</th>\n",
       "      <th>total_logical_bytes</th>\n",
       "      <th>total_storage_bytes</th>\n",
       "    </tr>\n",
       "  </thead>\n",
       "  <tbody>\n",
       "    <tr>\n",
       "      <th>0</th>\n",
       "      <td>statmike-mlops-349915</td>\n",
       "      <td>applied_geospatial</td>\n",
       "      <td>indexing_source</td>\n",
       "      <td>loc_ecef_1000</td>\n",
       "      <td>ACTIVE</td>\n",
       "      <td>2024-01-24 23:44:07.280000+00:00</td>\n",
       "      <td>2024-01-24 23:44:07.280000+00:00</td>\n",
       "      <td>2024-01-24 23:45:08.294000+00:00</td>\n",
       "      <td>NaT</td>\n",
       "      <td>None</td>\n",
       "      <td>CREATE VECTOR INDEX `loc_ecef_1000` ON `statmi...</td>\n",
       "      <td>100</td>\n",
       "      <td>0</td>\n",
       "      <td>25580680570</td>\n",
       "      <td>11046633114</td>\n",
       "    </tr>\n",
       "  </tbody>\n",
       "</table>\n",
       "</div>"
      ],
      "text/plain": [
       "           index_catalog        index_schema       table_name     index_name  \\\n",
       "0  statmike-mlops-349915  applied_geospatial  indexing_source  loc_ecef_1000   \n",
       "\n",
       "  index_status                    creation_time  \\\n",
       "0       ACTIVE 2024-01-24 23:44:07.280000+00:00   \n",
       "\n",
       "            last_modification_time                last_refresh_time  \\\n",
       "0 2024-01-24 23:44:07.280000+00:00 2024-01-24 23:45:08.294000+00:00   \n",
       "\n",
       "  disable_time disable_reason  \\\n",
       "0          NaT           None   \n",
       "\n",
       "                                                 ddl  coverage_percentage  \\\n",
       "0  CREATE VECTOR INDEX `loc_ecef_1000` ON `statmi...                  100   \n",
       "\n",
       "   unindexed_row_count  total_logical_bytes  total_storage_bytes  \n",
       "0                    0          25580680570          11046633114  "
      ]
     },
     "execution_count": 10,
     "metadata": {},
     "output_type": "execute_result"
    }
   ],
   "source": [
    "bq.query(query = query).to_dataframe()"
   ]
  },
  {
   "cell_type": "markdown",
   "id": "7fb91d18-7ec6-47d4-ab7e-bccb85036794",
   "metadata": {},
   "source": [
    "### Vector Search"
   ]
  },
  {
   "cell_type": "code",
   "execution_count": 20,
   "id": "b4f3ad4b-4bd0-4088-aff7-5bd0f0ea9362",
   "metadata": {
    "tags": []
   },
   "outputs": [
    {
     "name": "stdout",
     "output_type": "stream",
     "text": [
      "\n",
      "SELECT\n",
      "    query.id AS id,\n",
      "    ARRAY_AGG(base.osm_id ORDER BY distance) AS neighbors\n",
      "FROM\n",
      "    VECTOR_SEARCH(\n",
      "        TABLE `statmike-mlops-349915.applied_geospatial.indexing_source`,\n",
      "        'loc_ecef',\n",
      "        (SELECT * FROM `statmike-mlops-349915.applied_geospatial.indexing_query` LIMIT 5),\n",
      "        top_k => 10,\n",
      "        options => '{\"fraction_lists_to_search\": 0.005}'\n",
      "    )\n",
      "GROUP BY id\n",
      "\n"
     ]
    },
    {
     "data": {
      "text/plain": [
       "2.315"
      ]
     },
     "execution_count": 20,
     "metadata": {},
     "output_type": "execute_result"
    }
   ],
   "source": [
    "query = f'''\n",
    "SELECT\n",
    "    query.id AS id,\n",
    "    ARRAY_AGG(base.osm_id ORDER BY distance) AS neighbors\n",
    "FROM\n",
    "    VECTOR_SEARCH(\n",
    "        TABLE `{BQ_PROJECT}.{BQ_DATASET}.{BQ_TABLE_PREFIX}_source`,\n",
    "        'loc_ecef',\n",
    "        (SELECT * FROM `{BQ_PROJECT}.{BQ_DATASET}.{BQ_TABLE_PREFIX}_query` LIMIT 5),\n",
    "        top_k => 10,\n",
    "        options => '{{\"fraction_lists_to_search\": 0.005}}'\n",
    "    )\n",
    "GROUP BY id\n",
    "'''\n",
    "print(query)\n",
    "bq_job = bq.query(query = query, job_config = bigquery.QueryJobConfig(use_query_cache = False))\n",
    "bq_job.result()\n",
    "(bq_job.ended - bq_job.started).total_seconds()"
   ]
  },
  {
   "cell_type": "code",
   "execution_count": 15,
   "id": "4723acf8-bb1e-4a54-b420-6c73431ca3cd",
   "metadata": {
    "tags": []
   },
   "outputs": [
    {
     "data": {
      "text/html": [
       "<div>\n",
       "<style scoped>\n",
       "    .dataframe tbody tr th:only-of-type {\n",
       "        vertical-align: middle;\n",
       "    }\n",
       "\n",
       "    .dataframe tbody tr th {\n",
       "        vertical-align: top;\n",
       "    }\n",
       "\n",
       "    .dataframe thead th {\n",
       "        text-align: right;\n",
       "    }\n",
       "</style>\n",
       "<table border=\"1\" class=\"dataframe\">\n",
       "  <thead>\n",
       "    <tr style=\"text-align: right;\">\n",
       "      <th></th>\n",
       "      <th>id</th>\n",
       "      <th>neighbors</th>\n",
       "    </tr>\n",
       "  </thead>\n",
       "  <tbody>\n",
       "    <tr>\n",
       "      <th>0</th>\n",
       "      <td>2797</td>\n",
       "      <td>[3003588, 225899427, 225898240, 225898505, 225...</td>\n",
       "    </tr>\n",
       "    <tr>\n",
       "      <th>1</th>\n",
       "      <td>7080</td>\n",
       "      <td>[269538499, 305639710, 5472236745, 2814446770,...</td>\n",
       "    </tr>\n",
       "    <tr>\n",
       "      <th>2</th>\n",
       "      <td>5416</td>\n",
       "      <td>[152813737, 233135115, 233050748, 3132996, 233...</td>\n",
       "    </tr>\n",
       "    <tr>\n",
       "      <th>3</th>\n",
       "      <td>16775</td>\n",
       "      <td>[7868368428, 7868368425, 653695289, 622938819,...</td>\n",
       "    </tr>\n",
       "    <tr>\n",
       "      <th>4</th>\n",
       "      <td>6386</td>\n",
       "      <td>[1401884037, 127360721, 1401887479, 488504568,...</td>\n",
       "    </tr>\n",
       "  </tbody>\n",
       "</table>\n",
       "</div>"
      ],
      "text/plain": [
       "      id                                          neighbors\n",
       "0   2797  [3003588, 225899427, 225898240, 225898505, 225...\n",
       "1   7080  [269538499, 305639710, 5472236745, 2814446770,...\n",
       "2   5416  [152813737, 233135115, 233050748, 3132996, 233...\n",
       "3  16775  [7868368428, 7868368425, 653695289, 622938819,...\n",
       "4   6386  [1401884037, 127360721, 1401887479, 488504568,..."
      ]
     },
     "execution_count": 15,
     "metadata": {},
     "output_type": "execute_result"
    }
   ],
   "source": [
    "result = bq_job.to_dataframe()\n",
    "result"
   ]
  },
  {
   "cell_type": "code",
   "execution_count": 16,
   "id": "a3eccba8-e4c2-4532-a729-1d28ea553508",
   "metadata": {
    "tags": []
   },
   "outputs": [
    {
     "data": {
      "text/html": [
       "<div>\n",
       "<style scoped>\n",
       "    .dataframe tbody tr th:only-of-type {\n",
       "        vertical-align: middle;\n",
       "    }\n",
       "\n",
       "    .dataframe tbody tr th {\n",
       "        vertical-align: top;\n",
       "    }\n",
       "\n",
       "    .dataframe thead th {\n",
       "        text-align: right;\n",
       "    }\n",
       "</style>\n",
       "<table border=\"1\" class=\"dataframe\">\n",
       "  <thead>\n",
       "    <tr style=\"text-align: right;\">\n",
       "      <th></th>\n",
       "      <th>id</th>\n",
       "      <th>neighbors</th>\n",
       "      <th>n_neighbors</th>\n",
       "    </tr>\n",
       "  </thead>\n",
       "  <tbody>\n",
       "    <tr>\n",
       "      <th>0</th>\n",
       "      <td>2797</td>\n",
       "      <td>[3003588, 225899427, 225898240, 225898505, 225...</td>\n",
       "      <td>10</td>\n",
       "    </tr>\n",
       "    <tr>\n",
       "      <th>1</th>\n",
       "      <td>7080</td>\n",
       "      <td>[269538499, 305639710, 5472236745, 2814446770,...</td>\n",
       "      <td>10</td>\n",
       "    </tr>\n",
       "    <tr>\n",
       "      <th>2</th>\n",
       "      <td>5416</td>\n",
       "      <td>[152813737, 233135115, 233050748, 3132996, 233...</td>\n",
       "      <td>10</td>\n",
       "    </tr>\n",
       "    <tr>\n",
       "      <th>3</th>\n",
       "      <td>16775</td>\n",
       "      <td>[7868368428, 7868368425, 653695289, 622938819,...</td>\n",
       "      <td>10</td>\n",
       "    </tr>\n",
       "    <tr>\n",
       "      <th>4</th>\n",
       "      <td>6386</td>\n",
       "      <td>[1401884037, 127360721, 1401887479, 488504568,...</td>\n",
       "      <td>10</td>\n",
       "    </tr>\n",
       "  </tbody>\n",
       "</table>\n",
       "</div>"
      ],
      "text/plain": [
       "      id                                          neighbors  n_neighbors\n",
       "0   2797  [3003588, 225899427, 225898240, 225898505, 225...           10\n",
       "1   7080  [269538499, 305639710, 5472236745, 2814446770,...           10\n",
       "2   5416  [152813737, 233135115, 233050748, 3132996, 233...           10\n",
       "3  16775  [7868368428, 7868368425, 653695289, 622938819,...           10\n",
       "4   6386  [1401884037, 127360721, 1401887479, 488504568,...           10"
      ]
     },
     "execution_count": 16,
     "metadata": {},
     "output_type": "execute_result"
    }
   ],
   "source": [
    "result['n_neighbors'] = result['neighbors'].str.len()\n",
    "result"
   ]
  },
  {
   "cell_type": "markdown",
   "id": "ef060b07-72f0-445f-93c0-89764ad08af0",
   "metadata": {},
   "source": [
    "---\n",
    "## Vector Search: Explore"
   ]
  },
  {
   "cell_type": "code",
   "execution_count": 130,
   "id": "df3b934d-f6d5-46f0-aaf7-c999ab77e7be",
   "metadata": {
    "tags": []
   },
   "outputs": [
    {
     "data": {
      "text/plain": [
       "<google.cloud.bigquery.table.RowIterator at 0x7ff9b63a1510>"
      ]
     },
     "execution_count": 130,
     "metadata": {},
     "output_type": "execute_result"
    }
   ],
   "source": [
    "query = f'''\n",
    "WITH\n",
    "    MATCHES AS (\n",
    "        SELECT query.id, base.osm_id, distance\n",
    "        FROM VECTOR_SEARCH(\n",
    "            TABLE `{BQ_PROJECT}.{BQ_DATASET}.{BQ_TABLE_PREFIX}_source`, 'loc_ecef',\n",
    "            (SELECT * FROM `{BQ_PROJECT}.{BQ_DATASET}.{BQ_TABLE_PREFIX}_query` LIMIT 50000), top_k => 10,\n",
    "            options => '{{\"fraction_lists_to_search\": 0.005}}'\n",
    "        )\n",
    "    )\n",
    "SELECT id, ARRAY_AGG(osm_id ORDER BY distance LIMIT 10) AS neighbors\n",
    "FROM MATCHES\n",
    "GROUP BY id\n",
    "'''\n",
    "bq_job = bq.query(query = query, job_config = bigquery.QueryJobConfig(use_query_cache = False))\n",
    "bq_job.result()"
   ]
  },
  {
   "cell_type": "code",
   "execution_count": 131,
   "id": "4fadf857-9f61-4662-b66b-beab749bdccd",
   "metadata": {
    "tags": []
   },
   "outputs": [
    {
     "data": {
      "text/plain": [
       "2807.409"
      ]
     },
     "execution_count": 131,
     "metadata": {},
     "output_type": "execute_result"
    }
   ],
   "source": [
    "(bq_job.ended - bq_job.started).total_seconds()"
   ]
  },
  {
   "cell_type": "code",
   "execution_count": 132,
   "id": "09550fe8-1960-4923-8419-d11a6357f1c7",
   "metadata": {
    "tags": []
   },
   "outputs": [
    {
     "data": {
      "text/plain": [
       "203094.556"
      ]
     },
     "execution_count": 132,
     "metadata": {},
     "output_type": "execute_result"
    }
   ],
   "source": [
    "bq_job.slot_millis/1000"
   ]
  },
  {
   "cell_type": "code",
   "execution_count": 133,
   "id": "315ea54b-4334-4c3b-8683-6621ee7c3611",
   "metadata": {
    "tags": []
   },
   "outputs": [
    {
     "data": {
      "text/html": [
       "Query job 94121a63-8af7-43b5-8512-4d4920d730dd is DONE. 4.0 MB processed. <a target=\"_blank\" href=\"https://console.cloud.google.com/bigquery?project=statmike-mlops-349915&j=bq:US:94121a63-8af7-43b5-8512-4d4920d730dd&page=queryresults\">Open Job</a>"
      ],
      "text/plain": [
       "<IPython.core.display.HTML object>"
      ]
     },
     "metadata": {},
     "output_type": "display_data"
    },
    {
     "data": {
      "text/plain": [
       "500000"
      ]
     },
     "execution_count": 133,
     "metadata": {},
     "output_type": "execute_result"
    }
   ],
   "source": [
    "temp_table = '.'.join(bq_job.destination.path.split('/')[2::2])\n",
    "temp = bpd.read_gbq(temp_table)\n",
    "temp['n_neighbors'] = temp.neighbors.str.len()\n",
    "temp['n_neighbors'].sum()"
   ]
  },
  {
   "cell_type": "markdown",
   "id": "821fd816-7b26-40c6-b1ab-127f8a911f6d",
   "metadata": {},
   "source": [
    "**NOTES ON TESTING PHASE**\n",
    "\n",
    "- The full 1MM query points: UNUSED with Vector indexes cannot be used in the search query\n",
    "    - it showes this while running, I did not let it finish\n",
    "- Limit to 5 query points: FULLY_USED\n",
    "- Limit to 50 query points: FULLY_USED\n",
    "- Limit to 500 query points: FULLY_USED\n",
    "- Limit to 50,000 query points: FULLY_USED\n",
    "    - 1/23/2024\n",
    "        - timing with default = 2/1000 lists???\n",
    "            - 12 min 18 sec (55775663 slot millis) job = 89ec20ce-5e64-4418-a10b-5b4b6c540a4b\n",
    "        - timing with '{{\"fraction_lists_to_search\": 0.01}}' = 10/1000 lists:\n",
    "            - 1 hr 50 min (662913362 slot millis) job = f9ffe4e6-5e9e-4aba-b6db-ff4496661d6f\n",
    "    - NEW 1/24/2024\n",
    "        - timing with defaults = 2/1000???\n",
    "            - 8 min 56 sec (43582078 slot millis) job = 4858e1e6-83a9-4a83-ab13-d65c0fe2898e\n",
    "        - timing with '{{\"fraction_lists_to_search\": 0.001}}' = 1/1000 lists:\n",
    "            - 14 min 45 sec (28627666 slot millis) job = f97a7d78-676c-475d-82b8-11092b271811\n",
    "        - timing with '{{\"fraction_lists_to_search\": 0.002}}' = 2/1000 lists:\n",
    "            - 10 min 33 sec (58429084 slot millis) job = d6bebab1-ec42-4234-86cd-c30abe412623\n",
    "        - timing with '{{\"fraction_lists_to_search\": 0.003}}' = 3/1000 lists:\n",
    "            - 22 min 50 sec (96753804 slot millis) job = f9c66d15-de3e-4c73-9adc-42681c85a1ca\n",
    "        - timing with '{{\"fraction_lists_to_search\": 0.005}}' = 5/1000 lists:\n",
    "            - 46 min 47 sec (203094556 slot millis) job = c2ecaf48-c594-480c-a682-8ba0cd7aadf8\n",
    "- Full 1MM query points with '{{\"fraction_lists_to_search\": 0.001}}'\n",
    "    - Job failed at 6 hr 1 sec: timed out\n",
    "    - job = 93e05e33-22c9-40ec-8d4b-e53868886323\n",
    "    - 29534684342 slot millis\n",
    "    - NEED: split into multiple jobs"
   ]
  },
  {
   "cell_type": "markdown",
   "id": "2c1c9687-c765-421c-a5ae-90c6d3be9839",
   "metadata": {},
   "source": [
    "---\n",
    "## Vector Search: Explore With Partitioned Query Table"
   ]
  },
  {
   "cell_type": "code",
   "execution_count": 9,
   "id": "77ea0fe1-a5cb-4969-a5d1-da80b5c50902",
   "metadata": {
    "tags": []
   },
   "outputs": [
    {
     "name": "stdout",
     "output_type": "stream",
     "text": [
      "\n",
      "CREATE OR REPLACE TABLE `statmike-mlops-349915.applied_geospatial.indexing_vectorResults` AS\n",
      "WITH\n",
      "    MATCHES AS (\n",
      "        SELECT query.partID, query.id, base.osm_id, distance\n",
      "        FROM VECTOR_SEARCH(\n",
      "            TABLE `statmike-mlops-349915.applied_geospatial.indexing_source`, 'loc_ecef',\n",
      "            (\n",
      "                SELECT partID, id, loc_ecef\n",
      "                FROM `statmike-mlops-349915.applied_geospatial.indexing_queryPartitioned`\n",
      "                WHERE partID <= 20\n",
      "                GROUP BY partID, id\n",
      "            ), top_k => 10,\n",
      "            options => '{\"fraction_lists_to_search\": 0.001}'\n",
      "        )\n",
      "    )\n",
      "SELECT id, ARRAY_AGG(osm_id ORDER BY distance LIMIT 10) AS neighbors\n",
      "FROM MATCHES\n",
      "GROUP BY id\n",
      "\n"
     ]
    }
   ],
   "source": [
    "query = f'''\n",
    "CREATE OR REPLACE TABLE `{BQ_PROJECT}.{BQ_DATASET}.{BQ_TABLE_PREFIX}_vectorResults` AS\n",
    "WITH\n",
    "    MATCHES AS (\n",
    "        SELECT query.partID, query.id, base.osm_id, distance\n",
    "        FROM VECTOR_SEARCH(\n",
    "            TABLE `{BQ_PROJECT}.{BQ_DATASET}.{BQ_TABLE_PREFIX}_source`, 'loc_ecef',\n",
    "            (\n",
    "                SELECT partID, id, loc_ecef\n",
    "                FROM `{BQ_PROJECT}.{BQ_DATASET}.{BQ_TABLE_PREFIX}_queryPartitioned`\n",
    "                WHERE partID <= 20\n",
    "                GROUP BY partID, id\n",
    "            ), top_k => 10,\n",
    "            options => '{{\"fraction_lists_to_search\": 0.001}}'\n",
    "        )\n",
    "    )\n",
    "SELECT id, ARRAY_AGG(osm_id ORDER BY distance LIMIT 10) AS neighbors\n",
    "FROM MATCHES\n",
    "GROUP BY id\n",
    "'''\n",
    "print(query)"
   ]
  },
  {
   "cell_type": "code",
   "execution_count": null,
   "id": "73c9b9e7-989b-40cc-83fc-db2cb3e3ae57",
   "metadata": {},
   "outputs": [],
   "source": [
    "bq_job = bq.query(query = query, job_config = bigquery.QueryJobConfig(use_query_cache = False))\n",
    "bq_job.result()"
   ]
  },
  {
   "cell_type": "code",
   "execution_count": null,
   "id": "8a04c3b8-7f98-4e67-875f-bb716cd692e3",
   "metadata": {},
   "outputs": [],
   "source": []
  },
  {
   "cell_type": "code",
   "execution_count": null,
   "id": "179175c0-5036-4cdc-b34f-469d6db97cd9",
   "metadata": {
    "tags": []
   },
   "outputs": [],
   "source": [
    "query = f'''\n",
    "DECLARE max_partition int64 DEFAULT 20; #400\n",
    "DECLARE increment int64 DEFAULT 5;\n",
    "DECLARE start int64 DEFAULT 2;\n",
    "\n",
    "CREATE OR REPLACE TABLE `{BQ_PROJECT}.{BQ_DATASET}.{BQ_TABLE_PREFIX}_vectorResults` AS\n",
    "WITH\n",
    "    MATCHES AS (\n",
    "        SELECT query.partID, query.id, base.osm_id, distance\n",
    "        FROM VECTOR_SEARCH(\n",
    "            TABLE `{BQ_PROJECT}.{BQ_DATASET}.{BQ_TABLE_PREFIX}_source`, 'loc_ecef',\n",
    "            (SELECT * FROM `{BQ_PROJECT}.{BQ_DATASET}.{BQ_TABLE_PREFIX}_queryPartitioned` WHERE partID = 1), top_k => 10,\n",
    "            options => '{{\"fraction_lists_to_search\": 0.001}}'\n",
    "        )\n",
    "    )\n",
    "SELECT id, ARRAY_AGG(osm_id ORDER BY distance LIMIT 10) AS neighbors\n",
    "FROM MATCHES\n",
    "GROUP BY id;\n",
    "\n",
    "WHILE start <= max_partition DO\n",
    "\n",
    "    INSERT INTO `{BQ_PROJECT}.{BQ_DATASET}.{BQ_TABLE_PREFIX}_vectorResults`\n",
    "        WITH\n",
    "            MATCHES AS (\n",
    "                SELECT query.partID, query.id, base.osm_id, distance\n",
    "                FROM VECTOR_SEARCH(\n",
    "                    TABLE `{BQ_PROJECT}.{BQ_DATASET}.{BQ_TABLE_PREFIX}_source`, 'loc_ecef',\n",
    "                    (SELECT * FROM `{BQ_PROJECT}.{BQ_DATASET}.{BQ_TABLE_PREFIX}_queryPartitioned` WHERE partID BETWEEN start AND start + increment - 1), top_k => 10,\n",
    "                    options => '{{\"fraction_lists_to_search\": 0.001}}'\n",
    "                )\n",
    "            )\n",
    "        SELECT id, ARRAY_AGG(osm_id ORDER BY distance LIMIT 10) AS neighbors\n",
    "        FROM MATCHES\n",
    "        GROUP BY id;\n",
    "        \n",
    "    SET start = start + increment;\n",
    "\n",
    "END WHILE;\n",
    "'''\n",
    "bq_job = bq.query(query = query, job_config = bigquery.QueryJobConfig(use_query_cache = False))\n",
    "bq_job.result()"
   ]
  },
  {
   "cell_type": "code",
   "execution_count": 13,
   "id": "11961564-bb8d-46b8-ba39-066a5e52ba1b",
   "metadata": {
    "tags": []
   },
   "outputs": [
    {
     "data": {
      "text/plain": [
       "1139.856"
      ]
     },
     "execution_count": 13,
     "metadata": {},
     "output_type": "execute_result"
    }
   ],
   "source": [
    "(bq_job.ended - bq_job.started).total_seconds()"
   ]
  },
  {
   "cell_type": "code",
   "execution_count": null,
   "id": "1ee20d7f-2758-4d8e-83cb-d265955b988f",
   "metadata": {
    "tags": []
   },
   "outputs": [],
   "source": [
    "bq_job.slot_millis/1000"
   ]
  },
  {
   "cell_type": "code",
   "execution_count": 15,
   "id": "71caa06b-bace-49ea-8687-39704a71ffd7",
   "metadata": {
    "tags": []
   },
   "outputs": [
    {
     "data": {
      "text/html": [
       "Query job f56b4726-9ca9-4889-9f7d-26cfb0249638 is DONE. 4.0 MB processed. <a target=\"_blank\" href=\"https://console.cloud.google.com/bigquery?project=statmike-mlops-349915&j=bq:US:f56b4726-9ca9-4889-9f7d-26cfb0249638&page=queryresults\">Open Job</a>"
      ],
      "text/plain": [
       "<IPython.core.display.HTML object>"
      ]
     },
     "metadata": {},
     "output_type": "display_data"
    },
    {
     "data": {
      "text/plain": [
       "500000"
      ]
     },
     "execution_count": 15,
     "metadata": {},
     "output_type": "execute_result"
    }
   ],
   "source": [
    "temp_table = '.'.join(bq_job.destination.path.split('/')[2::2])\n",
    "temp = bpd.read_gbq(temp_table)\n",
    "temp['n_neighbors'] = temp.neighbors.str.len()\n",
    "temp['n_neighbors'].sum()"
   ]
  },
  {
   "cell_type": "markdown",
   "id": "99b6a2fa-b82a-465c-a0f9-0280abc9cc59",
   "metadata": {},
   "source": [
    "**NOTES ON TESTING PHASE**\n",
    "\n",
    "- Limit to 50,000 query points:\n"
   ]
  },
  {
   "cell_type": "markdown",
   "id": "57c4096c-3237-4396-a320-94706ffd3a56",
   "metadata": {},
   "source": [
    "---\n",
    "## Vector Search: Testing\n",
    "\n",
    "Split into concurrent queries:"
   ]
  },
  {
   "cell_type": "code",
   "execution_count": null,
   "id": "b72fa7d7-d71b-44e4-9c71-64650e518e3c",
   "metadata": {},
   "outputs": [
    {
     "name": "stdout",
     "output_type": "stream",
     "text": [
      "waiting for jobs to finish ... sleeping for 10s\n",
      "waiting for jobs to finish ... sleeping for 10s\n",
      "waiting for jobs to finish ... sleeping for 10s\n",
      "waiting for jobs to finish ... sleeping for 10s\n",
      "waiting for jobs to finish ... sleeping for 10s\n",
      "waiting for jobs to finish ... sleeping for 10s\n",
      "waiting for jobs to finish ... sleeping for 10s\n",
      "waiting for jobs to finish ... sleeping for 10s\n",
      "waiting for jobs to finish ... sleeping for 10s\n",
      "waiting for jobs to finish ... sleeping for 10s\n",
      "waiting for jobs to finish ... sleeping for 10s\n",
      "waiting for jobs to finish ... sleeping for 10s\n",
      "waiting for jobs to finish ... sleeping for 10s\n",
      "waiting for jobs to finish ... sleeping for 10s\n",
      "waiting for jobs to finish ... sleeping for 10s\n",
      "waiting for jobs to finish ... sleeping for 10s\n",
      "waiting for jobs to finish ... sleeping for 10s\n",
      "waiting for jobs to finish ... sleeping for 10s\n",
      "waiting for jobs to finish ... sleeping for 10s\n",
      "waiting for jobs to finish ... sleeping for 10s\n",
      "waiting for jobs to finish ... sleeping for 10s\n",
      "waiting for jobs to finish ... sleeping for 10s\n",
      "waiting for jobs to finish ... sleeping for 10s\n",
      "waiting for jobs to finish ... sleeping for 10s\n",
      "waiting for jobs to finish ... sleeping for 10s\n",
      "waiting for jobs to finish ... sleeping for 10s\n",
      "waiting for jobs to finish ... sleeping for 10s\n",
      "waiting for jobs to finish ... sleeping for 10s\n",
      "waiting for jobs to finish ... sleeping for 10s\n",
      "waiting for jobs to finish ... sleeping for 10s\n",
      "waiting for jobs to finish ... sleeping for 10s\n",
      "waiting for jobs to finish ... sleeping for 10s\n",
      "waiting for jobs to finish ... sleeping for 10s\n",
      "waiting for jobs to finish ... sleeping for 10s\n",
      "waiting for jobs to finish ... sleeping for 10s\n",
      "waiting for jobs to finish ... sleeping for 10s\n",
      "waiting for jobs to finish ... sleeping for 10s\n",
      "waiting for jobs to finish ... sleeping for 10s\n",
      "waiting for jobs to finish ... sleeping for 10s\n",
      "waiting for jobs to finish ... sleeping for 10s\n",
      "waiting for jobs to finish ... sleeping for 10s\n",
      "waiting for jobs to finish ... sleeping for 10s\n",
      "waiting for jobs to finish ... sleeping for 10s\n",
      "waiting for jobs to finish ... sleeping for 10s\n",
      "waiting for jobs to finish ... sleeping for 10s\n",
      "waiting for jobs to finish ... sleeping for 10s\n",
      "waiting for jobs to finish ... sleeping for 10s\n",
      "waiting for jobs to finish ... sleeping for 10s\n",
      "waiting for jobs to finish ... sleeping for 10s\n",
      "waiting for jobs to finish ... sleeping for 10s\n",
      "waiting for jobs to finish ... sleeping for 10s\n",
      "waiting for jobs to finish ... sleeping for 10s\n",
      "waiting for jobs to finish ... sleeping for 10s\n",
      "waiting for jobs to finish ... sleeping for 10s\n",
      "waiting for jobs to finish ... sleeping for 10s\n",
      "waiting for jobs to finish ... sleeping for 10s\n",
      "waiting for jobs to finish ... sleeping for 10s\n",
      "waiting for jobs to finish ... sleeping for 10s\n",
      "waiting for jobs to finish ... sleeping for 10s\n",
      "waiting for jobs to finish ... sleeping for 10s\n",
      "waiting for jobs to finish ... sleeping for 10s\n",
      "waiting for jobs to finish ... sleeping for 10s\n",
      "waiting for jobs to finish ... sleeping for 10s\n",
      "waiting for jobs to finish ... sleeping for 10s\n",
      "waiting for jobs to finish ... sleeping for 10s\n",
      "waiting for jobs to finish ... sleeping for 10s\n",
      "waiting for jobs to finish ... sleeping for 10s\n",
      "waiting for jobs to finish ... sleeping for 10s\n",
      "waiting for jobs to finish ... sleeping for 10s\n",
      "waiting for jobs to finish ... sleeping for 10s\n",
      "waiting for jobs to finish ... sleeping for 10s\n",
      "waiting for jobs to finish ... sleeping for 10s\n",
      "waiting for jobs to finish ... sleeping for 10s\n",
      "waiting for jobs to finish ... sleeping for 10s\n",
      "waiting for jobs to finish ... sleeping for 10s\n",
      "waiting for jobs to finish ... sleeping for 10s\n",
      "waiting for jobs to finish ... sleeping for 10s\n",
      "waiting for jobs to finish ... sleeping for 10s\n",
      "waiting for jobs to finish ... sleeping for 10s\n",
      "waiting for jobs to finish ... sleeping for 10s\n",
      "waiting for jobs to finish ... sleeping for 10s\n",
      "waiting for jobs to finish ... sleeping for 10s\n",
      "waiting for jobs to finish ... sleeping for 10s\n",
      "waiting for jobs to finish ... sleeping for 10s\n",
      "waiting for jobs to finish ... sleeping for 10s\n",
      "waiting for jobs to finish ... sleeping for 10s\n",
      "waiting for jobs to finish ... sleeping for 10s\n",
      "waiting for jobs to finish ... sleeping for 10s\n",
      "waiting for jobs to finish ... sleeping for 10s\n",
      "waiting for jobs to finish ... sleeping for 10s\n",
      "waiting for jobs to finish ... sleeping for 10s\n",
      "waiting for jobs to finish ... sleeping for 10s\n",
      "waiting for jobs to finish ... sleeping for 10s\n",
      "waiting for jobs to finish ... sleeping for 10s\n",
      "waiting for jobs to finish ... sleeping for 10s\n",
      "waiting for jobs to finish ... sleeping for 10s\n",
      "waiting for jobs to finish ... sleeping for 10s\n",
      "waiting for jobs to finish ... sleeping for 10s\n",
      "waiting for jobs to finish ... sleeping for 10s\n",
      "waiting for jobs to finish ... sleeping for 10s\n",
      "waiting for jobs to finish ... sleeping for 10s\n",
      "waiting for jobs to finish ... sleeping for 10s\n",
      "waiting for jobs to finish ... sleeping for 10s\n",
      "waiting for jobs to finish ... sleeping for 10s\n",
      "waiting for jobs to finish ... sleeping for 10s\n",
      "waiting for jobs to finish ... sleeping for 10s\n",
      "waiting for jobs to finish ... sleeping for 10s\n",
      "waiting for jobs to finish ... sleeping for 10s\n",
      "waiting for jobs to finish ... sleeping for 10s\n",
      "waiting for jobs to finish ... sleeping for 10s\n",
      "waiting for jobs to finish ... sleeping for 10s\n",
      "waiting for jobs to finish ... sleeping for 10s\n",
      "waiting for jobs to finish ... sleeping for 10s\n",
      "waiting for jobs to finish ... sleeping for 10s\n",
      "waiting for jobs to finish ... sleeping for 10s\n",
      "waiting for jobs to finish ... sleeping for 10s\n",
      "waiting for jobs to finish ... sleeping for 10s\n",
      "waiting for jobs to finish ... sleeping for 10s\n",
      "waiting for jobs to finish ... sleeping for 10s\n",
      "waiting for jobs to finish ... sleeping for 10s\n",
      "waiting for jobs to finish ... sleeping for 10s\n",
      "waiting for jobs to finish ... sleeping for 10s\n",
      "waiting for jobs to finish ... sleeping for 10s\n",
      "waiting for jobs to finish ... sleeping for 10s\n",
      "waiting for jobs to finish ... sleeping for 10s\n",
      "waiting for jobs to finish ... sleeping for 10s\n",
      "waiting for jobs to finish ... sleeping for 10s\n",
      "waiting for jobs to finish ... sleeping for 10s\n",
      "waiting for jobs to finish ... sleeping for 10s\n",
      "waiting for jobs to finish ... sleeping for 10s\n",
      "waiting for jobs to finish ... sleeping for 10s\n",
      "waiting for jobs to finish ... sleeping for 10s\n",
      "waiting for jobs to finish ... sleeping for 10s\n",
      "waiting for jobs to finish ... sleeping for 10s\n",
      "waiting for jobs to finish ... sleeping for 10s\n",
      "waiting for jobs to finish ... sleeping for 10s\n",
      "waiting for jobs to finish ... sleeping for 10s\n",
      "waiting for jobs to finish ... sleeping for 10s\n",
      "waiting for jobs to finish ... sleeping for 10s\n",
      "waiting for jobs to finish ... sleeping for 10s\n",
      "waiting for jobs to finish ... sleeping for 10s\n",
      "waiting for jobs to finish ... sleeping for 10s\n",
      "waiting for jobs to finish ... sleeping for 10s\n",
      "waiting for jobs to finish ... sleeping for 10s\n",
      "waiting for jobs to finish ... sleeping for 10s\n",
      "waiting for jobs to finish ... sleeping for 10s\n",
      "waiting for jobs to finish ... sleeping for 10s\n",
      "waiting for jobs to finish ... sleeping for 10s\n",
      "waiting for jobs to finish ... sleeping for 10s\n",
      "waiting for jobs to finish ... sleeping for 10s\n",
      "waiting for jobs to finish ... sleeping for 10s\n",
      "waiting for jobs to finish ... sleeping for 10s\n",
      "waiting for jobs to finish ... sleeping for 10s\n",
      "waiting for jobs to finish ... sleeping for 10s\n",
      "waiting for jobs to finish ... sleeping for 10s\n",
      "waiting for jobs to finish ... sleeping for 10s\n",
      "waiting for jobs to finish ... sleeping for 10s\n",
      "waiting for jobs to finish ... sleeping for 10s\n"
     ]
    },
    {
     "data": {
      "text/html": [
       "Query job 0854d26b-5f63-4505-9ed5-c24f02d1067e is DONE. 8.0 MB processed. <a target=\"_blank\" href=\"https://console.cloud.google.com/bigquery?project=statmike-mlops-349915&j=bq:US:0854d26b-5f63-4505-9ed5-c24f02d1067e&page=queryresults\">Open Job</a>"
      ],
      "text/plain": [
       "<IPython.core.display.HTML object>"
      ]
     },
     "metadata": {},
     "output_type": "display_data"
    },
    {
     "data": {
      "text/html": [
       "Query job 8aa2d17f-b639-4a6c-b31c-5421aca26735 is DONE. 8.0 MB processed. <a target=\"_blank\" href=\"https://console.cloud.google.com/bigquery?project=statmike-mlops-349915&j=bq:US:8aa2d17f-b639-4a6c-b31c-5421aca26735&page=queryresults\">Open Job</a>"
      ],
      "text/plain": [
       "<IPython.core.display.HTML object>"
      ]
     },
     "metadata": {},
     "output_type": "display_data"
    },
    {
     "data": {
      "text/html": [
       "Query job 57bda74c-c38d-41ba-bf84-c5efb54b6e1c is DONE. 8.0 MB processed. <a target=\"_blank\" href=\"https://console.cloud.google.com/bigquery?project=statmike-mlops-349915&j=bq:US:57bda74c-c38d-41ba-bf84-c5efb54b6e1c&page=queryresults\">Open Job</a>"
      ],
      "text/plain": [
       "<IPython.core.display.HTML object>"
      ]
     },
     "metadata": {},
     "output_type": "display_data"
    },
    {
     "data": {
      "text/html": [
       "Query job ae0cc664-cf02-4ee9-8b8c-ee8abfe56b80 is DONE. 8.0 MB processed. <a target=\"_blank\" href=\"https://console.cloud.google.com/bigquery?project=statmike-mlops-349915&j=bq:US:ae0cc664-cf02-4ee9-8b8c-ee8abfe56b80&page=queryresults\">Open Job</a>"
      ],
      "text/plain": [
       "<IPython.core.display.HTML object>"
      ]
     },
     "metadata": {},
     "output_type": "display_data"
    },
    {
     "data": {
      "text/html": [
       "Query job 68a6e3b9-93fd-468a-9674-790ba2ddffbc is DONE. 8.0 MB processed. <a target=\"_blank\" href=\"https://console.cloud.google.com/bigquery?project=statmike-mlops-349915&j=bq:US:68a6e3b9-93fd-468a-9674-790ba2ddffbc&page=queryresults\">Open Job</a>"
      ],
      "text/plain": [
       "<IPython.core.display.HTML object>"
      ]
     },
     "metadata": {},
     "output_type": "display_data"
    },
    {
     "data": {
      "text/html": [
       "Query job ac0cc967-596e-453d-9194-046b9453f777 is DONE. 8.0 MB processed. <a target=\"_blank\" href=\"https://console.cloud.google.com/bigquery?project=statmike-mlops-349915&j=bq:US:ac0cc967-596e-453d-9194-046b9453f777&page=queryresults\">Open Job</a>"
      ],
      "text/plain": [
       "<IPython.core.display.HTML object>"
      ]
     },
     "metadata": {},
     "output_type": "display_data"
    },
    {
     "data": {
      "text/html": [
       "Query job 7e35c767-0ebb-4a03-a209-31e3048a61c6 is DONE. 8.0 MB processed. <a target=\"_blank\" href=\"https://console.cloud.google.com/bigquery?project=statmike-mlops-349915&j=bq:US:7e35c767-0ebb-4a03-a209-31e3048a61c6&page=queryresults\">Open Job</a>"
      ],
      "text/plain": [
       "<IPython.core.display.HTML object>"
      ]
     },
     "metadata": {},
     "output_type": "display_data"
    },
    {
     "data": {
      "text/html": [
       "Query job 3eef1c4d-7c1b-4520-8e80-7fc521c1d6f9 is DONE. 8.0 MB processed. <a target=\"_blank\" href=\"https://console.cloud.google.com/bigquery?project=statmike-mlops-349915&j=bq:US:3eef1c4d-7c1b-4520-8e80-7fc521c1d6f9&page=queryresults\">Open Job</a>"
      ],
      "text/plain": [
       "<IPython.core.display.HTML object>"
      ]
     },
     "metadata": {},
     "output_type": "display_data"
    },
    {
     "data": {
      "text/html": [
       "Query job 57573546-0574-4839-ba11-fef7411f97a7 is DONE. 8.0 MB processed. <a target=\"_blank\" href=\"https://console.cloud.google.com/bigquery?project=statmike-mlops-349915&j=bq:US:57573546-0574-4839-ba11-fef7411f97a7&page=queryresults\">Open Job</a>"
      ],
      "text/plain": [
       "<IPython.core.display.HTML object>"
      ]
     },
     "metadata": {},
     "output_type": "display_data"
    },
    {
     "data": {
      "text/html": [
       "Query job aef9ef9a-df3b-4f78-b904-7791aa8b6db4 is DONE. 8.0 MB processed. <a target=\"_blank\" href=\"https://console.cloud.google.com/bigquery?project=statmike-mlops-349915&j=bq:US:aef9ef9a-df3b-4f78-b904-7791aa8b6db4&page=queryresults\">Open Job</a>"
      ],
      "text/plain": [
       "<IPython.core.display.HTML object>"
      ]
     },
     "metadata": {},
     "output_type": "display_data"
    }
   ],
   "source": [
    "rerun = True\n",
    "\n",
    "if rerun:\n",
    "    run_seconds_index = []\n",
    "    slot_seconds_index = []\n",
    "    total_neighbors_index = []\n",
    "    jobs = []\n",
    "    for num_list in num_lists:\n",
    "        # query table is `{BQ_PROJECT}.{BQ_DATASET}.{BQ_TABLE_PREFIX}_query`\n",
    "        # column id has values 1 to 1000000\n",
    "        # one query with all 1MM rows times out so split into many queries\n",
    "        # 10 inclusive ranges of id like id >=1 AND id <= 100000\n",
    "        inc = 100000\n",
    "        for i in range(0, 1000000, 100000):\n",
    "            query = f'''\n",
    "                WITH\n",
    "                    MATCHES AS (\n",
    "                        SELECT query.id, base.osm_id, distance\n",
    "                        FROM VECTOR_SEARCH(\n",
    "                            TABLE `{BQ_PROJECT}.{BQ_DATASET}.{BQ_TABLE_PREFIX}_source`, 'loc_ecef',\n",
    "                            (SELECT * FROM `{BQ_PROJECT}.{BQ_DATASET}.{BQ_TABLE_PREFIX}_query` WHERE id >= {i+1} AND id <= {i+100000}), top_k => 10,\n",
    "                            options => '{{\"fraction_lists_to_search\": 0.001}}'\n",
    "                        )\n",
    "                    )\n",
    "                SELECT id, ARRAY_AGG(osm_id ORDER BY distance LIMIT 10) AS neighbors\n",
    "                FROM MATCHES\n",
    "                GROUP BY id\n",
    "            '''\n",
    "            bq_job = bq.query(query = query, job_config = bigquery.QueryJobConfig(use_query_cache = False))\n",
    "            jobs.append(bq_job)\n",
    "            \n",
    "        # wait on all jobs to finish:\n",
    "        from time import sleep\n",
    "        while not all([job.done() for job in jobs]):\n",
    "            print('waiting for jobs to finish ... sleeping for 30s')\n",
    "            sleep(10)\n",
    "        \n",
    "        max_job = 0\n",
    "        total_millis = 0\n",
    "        total_neighbors = 0\n",
    "        for job in jobs:\n",
    "            job_time = (job.ended - job.started).total_seconds()\n",
    "            if job_time > max_job:\n",
    "                max_job = job_time\n",
    "            total_millis += job.slot_millis/1000\n",
    "            temp_table = '.'.join(bq_job.destination.path.split('/')[2::2])\n",
    "            temp = bpd.read_gbq(temp_table)\n",
    "            temp['n_neighbors'] = temp.neighbors.str.len()\n",
    "            total_neighbors += temp['n_neighbors'].sum()\n",
    "        run_seconds_index.append(max_job)\n",
    "        slot_seconds_index.append(total_millis)\n",
    "        total_neighbors_index.append(total_neighbors)\n",
    "else:\n",
    "    run_seconds_index = [1705.773]\n",
    "    slot_seconds_index = [480676.753]\n",
    "    total_neighbors_index = [10000000]   "
   ]
  },
  {
   "cell_type": "code",
   "execution_count": 75,
   "id": "a2e8130f-58e1-40f1-8fdd-e6bf498c2752",
   "metadata": {},
   "outputs": [
    {
     "data": {
      "text/plain": [
       "[1705.773]"
      ]
     },
     "execution_count": 75,
     "metadata": {},
     "output_type": "execute_result"
    }
   ],
   "source": [
    "run_seconds_index"
   ]
  },
  {
   "cell_type": "code",
   "execution_count": 76,
   "id": "07eea49c-f281-45f2-bdf3-2909d821c438",
   "metadata": {
    "tags": []
   },
   "outputs": [
    {
     "data": {
      "text/plain": [
       "[480676.753]"
      ]
     },
     "execution_count": 76,
     "metadata": {},
     "output_type": "execute_result"
    }
   ],
   "source": [
    "slot_seconds_index"
   ]
  },
  {
   "cell_type": "code",
   "execution_count": 99,
   "id": "00750bdf-940e-4ce5-a7f5-f44a232e3e84",
   "metadata": {
    "tags": []
   },
   "outputs": [
    {
     "data": {
      "text/plain": [
       "[10000000]"
      ]
     },
     "execution_count": 99,
     "metadata": {},
     "output_type": "execute_result"
    }
   ],
   "source": [
    "total_neighbors_index"
   ]
  },
  {
   "cell_type": "code",
   "execution_count": 129,
   "id": "1be7d019-7196-41a0-a2ce-38eba4236d2d",
   "metadata": {
    "tags": []
   },
   "outputs": [
    {
     "data": {
      "image/png": "[encoded data removed]",
      "text/plain": [
       "<Figure size 640x480 with 3 Axes>"
      ]
     },
     "metadata": {},
     "output_type": "display_data"
    }
   ],
   "source": [
    "fig, ax1 = plt.subplots()\n",
    "fig.tight_layout()\n",
    "ax2 = ax1.twinx()\n",
    "ax3 = ax1.twinx()\n",
    "\n",
    "ax1.set_xlabel('Distance (km)')\n",
    "ax1.set_ylabel('Run Time (minutes)', color = 'red')\n",
    "ax1.tick_params(axis = 'y', labelcolor = 'red')\n",
    "p1, = ax1.plot(distances, [r/60 for r in run_seconds], label = 'Run Time (minutes)', color = 'red')\n",
    "ax1.set_ylim(0, 6000/60)\n",
    "\n",
    "ax2.set_ylabel('Slot Time (seconds)', color = 'blue')\n",
    "ax2.tick_params(axis = 'y', labelcolor = 'blue')\n",
    "p2, = ax2.plot(distances, [s for s in slot_seconds], label = 'Slot Time (seconds)', color = 'blue')\n",
    "ax2.set_ylim(0, 3000000)\n",
    "\n",
    "ax3.set_ylabel('Total Neighbors Found (10M target)', color = 'green')\n",
    "ax3.tick_params(axis = 'y', labelcolor = 'green')\n",
    "p3, = ax3.plot(distances, total_neighbors, label = 'Total Neighbors Found', color = 'green')\n",
    "ax3.spines.right.set_position(('axes', 1.2))\n",
    "ax3.yaxis.get_offset_text().set_visible(False)\n",
    "plt.text(170, 10100000, \"1e7\", color = 'green')\n",
    "ax3.set_ylim(0, 1e7+1e6)\n",
    "\n",
    "# add reference lines from vector index search\n",
    "hl1 = ax1.axhline(y = [r/60 for r in run_seconds_index], color = 'red', linestyle = '--')\n",
    "hl2 = ax2.axhline(y = slot_seconds_index, color = 'blue', linestyle = '--')\n",
    "hl3 = ax3.axhline(y = total_neighbors_index, color = 'green', linestyle = '--')\n",
    "ax2.text(distances[7], slot_seconds_index[0] + 50000, 'Vector Index Search')\n",
    "\n",
    "ax1.set_title('Scale Test\\nUsing ST_DWITHIN and ST_DISTANCE\\nCompared To Vector Index Search\\n1M Query Points\\nLooking for 10 nearest neighbors\\nAgainst 441,045,665 Points')\n",
    "ax1.legend(handles = [p1, p2, p3], loc = 'center left')\n",
    "plt.show()"
   ]
  },
  {
   "cell_type": "code",
   "execution_count": null,
   "id": "50ce14d7-6533-4c92-82c7-3a6e55f5aa88",
   "metadata": {},
   "outputs": [],
   "source": []
  }
 ],
 "metadata": {
  "environment": {
   "kernel": "conda-root-py",
   "name": "workbench-notebooks.m113",
   "type": "gcloud",
   "uri": "gcr.io/deeplearning-platform-release/workbench-notebooks:m113"
  },
  "kernelspec": {
   "display_name": "Python 3 (ipykernel) (Local)",
   "language": "python",
   "name": "conda-root-py"
  },
  "language_info": {
   "codemirror_mode": {
    "name": "ipython",
    "version": 3
   },
   "file_extension": ".py",
   "mimetype": "text/x-python",
   "name": "python",
   "nbconvert_exporter": "python",
   "pygments_lexer": "ipython3",
   "version": "3.10.13"
  }
 },
 "nbformat": 4,
 "nbformat_minor": 5
}
