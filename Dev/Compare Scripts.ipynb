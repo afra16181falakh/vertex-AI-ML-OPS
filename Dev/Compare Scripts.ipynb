{
 "cells": [
  {
   "cell_type": "markdown",
   "id": "1bced6d8",
   "metadata": {},
   "source": [
    "![tracker](https://us-central1-vertex-ai-mlops-369716.cloudfunctions.net/pixel-tracking?path=statmike%2Fvertex-ai-mlops%2FDev&file=Compare+Scripts.ipynb)\n",
    "<!--- header table --->\n",
    "<table align=\"left\">\n",
    "<tr>\n",
    "  <td style=\"text-align: center\">\n",
    "    <a href=\"https://github.com/statmike/vertex-ai-mlops/blob/main/Dev/Compare%20Scripts.ipynb\">\n",
    "      <img width=\"32px\" src=\"https://www.svgrepo.com/download/217753/github.svg\" alt=\"GitHub logo\">\n",
    "      <br>View on<br>GitHub\n",
    "    </a>\n",
    "  </td>\n",
    "  <td style=\"text-align: center\">\n",
    "    <a href=\"https://colab.research.google.com/github/statmike/vertex-ai-mlops/blob/main/Dev/Compare%20Scripts.ipynb\">\n",
    "      <img width=\"32px\" src=\"https://www.gstatic.com/pantheon/images/bigquery/welcome_page/colab-logo.svg\" alt=\"Google Colaboratory logo\">\n",
    "      <br>Run in<br>Colab\n",
    "    </a>\n",
    "  </td>\n",
    "  <td style=\"text-align: center\">\n",
    "    <a href=\"https://console.cloud.google.com/vertex-ai/colab/import/https%3A%2F%2Fraw.githubusercontent.com%2Fstatmike%2Fvertex-ai-mlops%2Fmain%2FDev%2FCompare%2520Scripts.ipynb\">\n",
    "      <img width=\"32px\" src=\"https://lh3.googleusercontent.com/JmcxdQi-qOpctIvWKgPtrzZdJJK-J3sWE1RsfjZNwshCFgE_9fULcNpuXYTilIR2hjwN\" alt=\"Google Cloud Colab Enterprise logo\">\n",
    "      <br>Run in<br>Colab Enterprise\n",
    "    </a>\n",
    "  </td>      \n",
    "  <td style=\"text-align: center\">\n",
    "    <a href=\"https://console.cloud.google.com/bigquery/import?url=https://github.com/statmike/vertex-ai-mlops/blob/main/Dev/Compare%20Scripts.ipynb\">\n",
    "      <img width=\"32px\" src=\"https://www.gstatic.com/images/branding/gcpiconscolors/bigquery/v1/32px.svg\" alt=\"BigQuery logo\">\n",
    "      <br>Open in<br>BigQuery Studio\n",
    "    </a>\n",
    "  </td>\n",
    "  <td style=\"text-align: center\">\n",
    "    <a href=\"https://console.cloud.google.com/vertex-ai/workbench/deploy-notebook?download_url=https://raw.githubusercontent.com/statmike/vertex-ai-mlops/main/Dev/Compare%20Scripts.ipynb\">\n",
    "      <img width=\"32px\" src=\"https://www.gstatic.com/images/branding/gcpiconscolors/vertexai/v1/32px.svg\" alt=\"Vertex AI logo\">\n",
    "      <br>Open in<br>Vertex AI Workbench\n",
    "    </a>\n",
    "  </td>\n",
    "</tr>\n",
    "<tr>\n",
    "  <td colspan=\"5\" style=\"text-align: right\">\n",
    "    <b>Share This On: </b> \n",
    "    <a href=\"https://www.linkedin.com/sharing/share-offsite/?url=https://github.com/statmike/vertex-ai-mlops/blob/main/Dev/Compare%20Scripts.ipynb\"><img src=\"https://upload.wikimedia.org/wikipedia/commons/8/81/LinkedIn_icon.svg\" alt=\"Linkedin Logo\" width=\"20px\"></a> \n",
    "    <a href=\"https://reddit.com/submit?url=https://github.com/statmike/vertex-ai-mlops/blob/main/Dev/Compare%20Scripts.ipynb\"><img src=\"https://redditinc.com/hubfs/Reddit%20Inc/Brand/Reddit_Logo.png\" alt=\"Reddit Logo\" width=\"20px\"></a> \n",
    "    <a href=\"https://bsky.app/intent/compose?text=https://github.com/statmike/vertex-ai-mlops/blob/main/Dev/Compare%20Scripts.ipynb\"><img src=\"https://upload.wikimedia.org/wikipedia/commons/7/7a/Bluesky_Logo.svg\" alt=\"BlueSky Logo\" width=\"20px\"></a> \n",
    "    <a href=\"https://twitter.com/intent/tweet?url=https://github.com/statmike/vertex-ai-mlops/blob/main/Dev/Compare%20Scripts.ipynb\"><img src=\"https://upload.wikimedia.org/wikipedia/commons/5/5a/X_icon_2.svg\" alt=\"X (Twitter) Logo\" width=\"20px\"></a> \n",
    "  </td>\n",
    "</tr>\n",
    "<tr>\n",
    "  <td colspan=\"5\" style=\"text-align: right\">\n",
    "    <b>Connect With Author On: </b> \n",
    "    <a href=\"https://www.linkedin.com/in/statmike\"><img src=\"https://upload.wikimedia.org/wikipedia/commons/8/81/LinkedIn_icon.svg\" alt=\"Linkedin Logo\" width=\"20px\"></a>\n",
    "    <a href=\"https://www.github.com/statmike\"><img src=\"https://www.svgrepo.com/download/217753/github.svg\" alt=\"GitHub Logo\" width=\"20px\"></a> \n",
    "    <a href=\"https://www.youtube.com/@statmike-channel\"><img src=\"https://upload.wikimedia.org/wikipedia/commons/f/fd/YouTube_full-color_icon_%282024%29.svg\" alt=\"YouTube Logo\" width=\"20px\"></a>\n",
    "    <a href=\"https://bsky.app/profile/statmike.bsky.social\"><img src=\"https://upload.wikimedia.org/wikipedia/commons/7/7a/Bluesky_Logo.svg\" alt=\"BlueSky Logo\" width=\"20px\"></a> \n",
    "    <a href=\"https://x.com/statmike\"><img src=\"https://upload.wikimedia.org/wikipedia/commons/5/5a/X_icon_2.svg\" alt=\"X (Twitter) Logo\" width=\"20px\"></a>\n",
    "  </td>\n",
    "</tr>\n",
    "</table>"
   ]
  },
  {
   "cell_type": "markdown",
   "id": "c1d71b23-a34a-4a44-b07d-e7cb3ba12faf",
   "metadata": {},
   "source": [
    "# Compare scripts across 05 series"
   ]
  },
  {
   "cell_type": "code",
   "execution_count": 1,
   "id": "96c84643-91e0-4f15-8e50-19ec603ce35b",
   "metadata": {},
   "outputs": [],
   "source": [
    "# compare a, b, c, d, e, f, g, h"
   ]
  },
  {
   "cell_type": "code",
   "execution_count": 20,
   "id": "6aecdff0-2281-457f-9c08-1ab9989d9ac1",
   "metadata": {},
   "outputs": [],
   "source": [
    "import difflib\n",
    "#import sys\n",
    "\n",
    "def compfiles(f1, f2):\n",
    "    f1 = '../'+f1\n",
    "    f2 = '../'+f2\n",
    "    print(f\"Comparing {f1.split('/')[2]} to {f2.split('/')[2]}\")\n",
    "    with open(f1, 'r') as file1:\n",
    "        with open(f2, 'r') as file2:\n",
    "            diff = difflib.unified_diff(\n",
    "                file1.readlines(),\n",
    "                file2.readlines(),\n",
    "                fromfile=f1.split('/')[1],\n",
    "                tofile=f2.split('/')[1],\n",
    "            )\n",
    "            for line in diff:\n",
    "                #sys.stdout.write(line)\n",
    "                print(line)"
   ]
  },
  {
   "cell_type": "code",
   "execution_count": 36,
   "id": "36f52e98-56ea-4299-af80-a6c044f733a2",
   "metadata": {},
   "outputs": [],
   "source": [
    "a = \"temp/05a/train.py\"\n",
    "b = \"temp/05b/source/trainer/train.py\"\n",
    "c = \"temp/05c/source/trainer/train.py\"\n",
    "d = \"temp/05d/train.py\"\n",
    "e = \"temp/05e/source/trainer/train.py\"\n",
    "f = \"temp/05f/source/trainer/train.py\"\n",
    "g = \"temp/05g/train.py\"\n",
    "h = \"temp/05h/source/trainer/train.py\"\n",
    "i = \"temp/05i/source/trainer/train.py\"\n",
    "notebooks = [a,b,c,d,e,f,g,h,i]"
   ]
  },
  {
   "cell_type": "code",
   "execution_count": 37,
   "id": "fe927bbe-0753-47e5-82b4-db4ce861f8dc",
   "metadata": {},
   "outputs": [
    {
     "name": "stdout",
     "output_type": "stream",
     "text": [
      "Comparing 05a to 05b\n"
     ]
    }
   ],
   "source": [
    "compfiles(a,b)"
   ]
  },
  {
   "cell_type": "code",
   "execution_count": 38,
   "id": "2d28dba8-eac9-4004-968d-b3bb16c58efa",
   "metadata": {},
   "outputs": [
    {
     "name": "stdout",
     "output_type": "stream",
     "text": [
      "Comparing 05a to 05b\n",
      "Comparing 05a to 05c\n",
      "Comparing 05a to 05d\n",
      "Comparing 05a to 05e\n",
      "Comparing 05a to 05f\n"
     ]
    }
   ],
   "source": [
    "base = a\n",
    "last = f\n",
    "for n in range(notebooks.index(base)+1, notebooks.index(last)+1):\n",
    "    compfiles(notebooks[notebooks.index(base)], notebooks[n])"
   ]
  },
  {
   "cell_type": "code",
   "execution_count": 39,
   "id": "2fb1a3cf-4985-4e3d-8496-dee56cf354b9",
   "metadata": {},
   "outputs": [
    {
     "name": "stdout",
     "output_type": "stream",
     "text": [
      "Comparing 05g to 05h\n",
      "Comparing 05g to 05i\n"
     ]
    }
   ],
   "source": [
    "base = g\n",
    "last = i\n",
    "for n in range(notebooks.index(base)+1, notebooks.index(last)+1):\n",
    "    compfiles(notebooks[notebooks.index(base)], notebooks[n])"
   ]
  },
  {
   "cell_type": "code",
   "execution_count": null,
   "id": "db6ea23d-081b-4e67-aa49-53657671b678",
   "metadata": {},
   "outputs": [],
   "source": []
  }
 ],
 "metadata": {
  "environment": {
   "kernel": "python3",
   "name": "tf2-gpu.2-3.m94",
   "type": "gcloud",
   "uri": "gcr.io/deeplearning-platform-release/tf2-gpu.2-3:m94"
  },
  "kernelspec": {
   "display_name": "Python 3",
   "language": "python",
   "name": "python3"
  },
  "language_info": {
   "codemirror_mode": {
    "name": "ipython",
    "version": 3
   },
   "file_extension": ".py",
   "mimetype": "text/x-python",
   "name": "python",
   "nbconvert_exporter": "python",
   "pygments_lexer": "ipython3",
   "version": "3.7.12"
  }
 },
 "nbformat": 4,
 "nbformat_minor": 5
}
